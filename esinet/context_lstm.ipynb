{
 "cells": [
  {
   "cell_type": "code",
   "execution_count": 5,
   "metadata": {},
   "outputs": [],
   "source": [
    "import tensorflow as tf\n",
    "from tensorflow.keras import backend as K\n",
    "from tensorflow.keras.layers import Bidirectional, LSTM, Dense, TimeDistributed, Dropout, concatenate\n",
    "from tensorflow.keras.models import Sequential\n",
    "import numpy as np\n"
   ]
  },
  {
   "cell_type": "code",
   "execution_count": 10,
   "metadata": {},
   "outputs": [],
   "source": [
    "n_channels = 61\n",
    "n_dipoles = 1284\n",
    "n_time = 100\n",
    "n_dense_units = 300\n",
    "n_lstm_units = 100\n",
    "activation_function = 'relu'\n",
    "dropout = 0.1"
   ]
  },
  {
   "cell_type": "code",
   "execution_count": 11,
   "metadata": {},
   "outputs": [
    {
     "name": "stdout",
     "output_type": "stream",
     "text": [
      "Model: \"context_net\"\n",
      "__________________________________________________________________________________________________\n",
      "Layer (type)                    Output Shape         Param #     Connected to                     \n",
      "==================================================================================================\n",
      "Input (InputLayer)              [(None, None, 61)]   0                                            \n",
      "__________________________________________________________________________________________________\n",
      "FC1 (TimeDistributed)           (None, None, 300)    18600       Input[0][0]                      \n",
      "__________________________________________________________________________________________________\n",
      "Dropout1 (Dropout)              (None, None, 300)    0           FC1[0][0]                        \n",
      "__________________________________________________________________________________________________\n",
      "LSTM (Bidirectional)            (None, None, 200)    320800      Dropout1[0][0]                   \n",
      "__________________________________________________________________________________________________\n",
      "Concat (Concatenate)            (None, None, 500)    0           LSTM[0][0]                       \n",
      "                                                                 Dropout1[0][0]                   \n",
      "__________________________________________________________________________________________________\n",
      "FC2 (TimeDistributed)           (None, None, 300)    150300      Concat[0][0]                     \n",
      "__________________________________________________________________________________________________\n",
      "Dropout2 (Dropout)              (None, None, 300)    0           FC2[0][0]                        \n",
      "__________________________________________________________________________________________________\n",
      "output (TimeDistributed)        (None, None, 1284)   386484      Dropout2[0][0]                   \n",
      "==================================================================================================\n",
      "Total params: 876,184\n",
      "Trainable params: 876,184\n",
      "Non-trainable params: 0\n",
      "__________________________________________________________________________________________________\n"
     ]
    }
   ],
   "source": [
    "inputs = tf.keras.Input(shape=(None, n_channels), name='Input')\n",
    "\n",
    "\n",
    "# FC1\n",
    "fc1 = TimeDistributed(Dense(n_dense_units, \n",
    "    activation=activation_function), \n",
    "    name='FC1')(inputs)\n",
    "fc1 = Dropout(dropout, name='Dropout1')(fc1)\n",
    "\n",
    "\n",
    "# LSTM path\n",
    "lstm1 = Bidirectional(LSTM(n_lstm_units, return_sequences=True, \n",
    "    input_shape=(None, n_dense_units), dropout=dropout), name='LSTM')(fc1)\n",
    "\n",
    "# concatenate\n",
    "concat = concatenate([lstm1, fc1], name='Concat')\n",
    "\n",
    "# FC2\n",
    "fc2 = TimeDistributed(Dense(n_dense_units,\n",
    "    activation=activation_function), \n",
    "    name='FC2')(concat)\n",
    "fc2 = Dropout(dropout, name='Dropout2')(fc2)\n",
    "\n",
    "\n",
    "output = TimeDistributed(Dense(n_dipoles,\n",
    "    activation='linear'), \n",
    "    name='output')(fc2)\n",
    "\n",
    "model = tf.keras.Model(inputs=inputs, outputs=output, \n",
    "    name='context_net')\n",
    "\n",
    "model.summary()\n"
   ]
  },
  {
   "cell_type": "code",
   "execution_count": null,
   "metadata": {},
   "outputs": [],
   "source": []
  }
 ],
 "metadata": {
  "interpreter": {
   "hash": "fbb001003ceff4ec0bc12bddb6bde082b9f9e9bd295b9232bbf70f72f8799a35"
  },
  "kernelspec": {
   "display_name": "Python 3.8.10 64-bit ('esienv': virtualenv)",
   "language": "python",
   "name": "python3"
  },
  "language_info": {
   "codemirror_mode": {
    "name": "ipython",
    "version": 3
   },
   "file_extension": ".py",
   "mimetype": "text/x-python",
   "name": "python",
   "nbconvert_exporter": "python",
   "pygments_lexer": "ipython3",
   "version": "3.8.10"
  },
  "orig_nbformat": 4
 },
 "nbformat": 4,
 "nbformat_minor": 2
}
