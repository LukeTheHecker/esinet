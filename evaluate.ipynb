{
 "cells": [
  {
   "cell_type": "code",
   "execution_count": null,
   "source": [
    "%matplotlib inline\r\n",
    "%load_ext autoreload\r\n",
    "%autoreload 2\r\n",
    "\r\n",
    "import mne\r\n",
    "import numpy as np\r\n",
    "from copy import deepcopy\r\n",
    "import matplotlib.pyplot as plt\r\n",
    "import sys; sys.path.insert(0, '../')\r\n",
    "from esinet import util\r\n",
    "from esinet import Simulation\r\n",
    "from esinet import Net\r\n",
    "from esinet.forward import create_forward_model, get_info\r\n",
    "plot_params = dict(surface='white', hemi='both', verbose=0)"
   ],
   "outputs": [],
   "metadata": {}
  },
  {
   "cell_type": "markdown",
   "source": [
    "# Forward Model"
   ],
   "metadata": {}
  },
  {
   "cell_type": "code",
   "execution_count": null,
   "source": [
    "info = get_info()\r\n",
    "info['sfreq'] = 100\r\n",
    "fwd = create_forward_model(info=info)"
   ],
   "outputs": [],
   "metadata": {}
  },
  {
   "cell_type": "markdown",
   "source": [
    "# Simulate"
   ],
   "metadata": {}
  },
  {
   "cell_type": "code",
   "execution_count": null,
   "source": [
    "n_samples = 10000\r\n",
    "settings = dict(duration_of_trial=0.2, target_snr=(0.5, 10))\r\n",
    "\r\n",
    "sim_lstm = Simulation(fwd, info, verbose=True, settings=settings).simulate(n_samples=n_samples)\r\n",
    "sim_dense = util.convert_simulation_temporal_to_single(sim_lstm)\r\n",
    "\r\n",
    "sim_lstm_test = Simulation(fwd, info, verbose=True, settings=settings).simulate(n_samples=1000)\r\n",
    "sim_dense_test = util.convert_simulation_temporal_to_single(sim_lstm_test)"
   ],
   "outputs": [],
   "metadata": {}
  },
  {
   "cell_type": "markdown",
   "source": [
    "# Keras-Tuner"
   ],
   "metadata": {}
  },
  {
   "cell_type": "code",
   "execution_count": 16,
   "source": [
    "import keras_tuner as kt\r\n",
    "import tensorflow as tf\r\n",
    "from esinet.net import build_nas_lstm\r\n",
    "\r\n",
    "# tuner = kt.BayesianOptimization(\r\n",
    "#     build_nas_lstm,\r\n",
    "#     objective='val_loss',\r\n",
    "#     max_trials=450, \r\n",
    "#     directory='keras-tuner',\r\n",
    "#     project_name=f'holiday_run',\r\n",
    "#     # max_model_size=int(2e6),  # Maximum 700k parameters per model\r\n",
    "#     beta=2.6*2,  # exploration parameter\r\n",
    "#     )    \r\n",
    "tuner = kt.RandomSearch(\r\n",
    "    build_nas_lstm,\r\n",
    "    objective='val_loss',\r\n",
    "    max_trials=450, \r\n",
    "    directory='keras-tuner',\r\n",
    "    project_name=f'holiday_run',\r\n",
    "    )\r\n",
    "callbacks=[tf.keras.callbacks.EarlyStopping('val_loss', patience=15, min_delta=0.0001)]\r\n",
    "net = Net(fwd)\r\n",
    "x_train, y_train = net.prep_data(sim_lstm)\r\n",
    "x_val, y_val = net.prep_data(sim_lstm_test)\r\n",
    "tuner.search(x_train, y_train, epochs=150, validation_data=(x_val, y_val), \r\n",
    "    batch_size=16, callbacks=callbacks, shuffle=True)\r\n",
    "\r\n",
    "best_model = tuner.get_best_models()[0]"
   ],
   "outputs": [
    {
     "output_type": "stream",
     "name": "stdout",
     "text": [
      "Trial 7 Complete [00h 31m 16s]\n",
      "val_loss: 0.17756995558738708\n",
      "\n",
      "Best val_loss So Far: 0.17470848560333252\n",
      "Total elapsed time: 02h 33m 00s\n",
      "\n",
      "Search: Running Trial #8\n",
      "\n",
      "Hyperparameter    |Value             |Best Value So Far \n",
      "lstm_layers       |3                 |1                 \n",
      "dense_layers      |3                 |3                 \n",
      "activation_out    |sigmoid           |tanh              \n",
      "actvation_all     |sigmoid           |elu               \n",
      "learning_rate     |0.017656          |0.015366          \n",
      "Clip Value        |0.39941           |0.85608           \n",
      "lstm_units_l-0    |167               |101               \n",
      "dropout_lstm_l-0  |0.31976           |0.62957           \n",
      "dense_units_l-0   |129               |143               \n",
      "dropout_dense_l-0 |0.83085           |0.089334          \n",
      "dense_units_l-1   |239               |94                \n",
      "dropout_dense_l-1 |0.40118           |0.015374          \n",
      "lstm_units_l-1    |74                |168               \n",
      "dropout_lstm_l-1  |0.04274           |0.47418           \n",
      "lstm_units_l-2    |180               |99                \n",
      "dropout_lstm_l-2  |0.81685           |0.80903           \n",
      "dense_units_l-2   |289               |25                \n",
      "dropout_dense_l-2 |0.42477           |0                 \n",
      "\n",
      "WARNING:tensorflow:Layer lstm will not use cuDNN kernels since it doesn't meet the criteria. It will use a generic GPU kernel as fallback when running on GPU.\n"
     ]
    },
    {
     "output_type": "stream",
     "name": "stderr",
     "text": [
      "WARNING:tensorflow:Layer lstm will not use cuDNN kernels since it doesn't meet the criteria. It will use a generic GPU kernel as fallback when running on GPU.\n"
     ]
    },
    {
     "output_type": "stream",
     "name": "stdout",
     "text": [
      "WARNING:tensorflow:Layer lstm will not use cuDNN kernels since it doesn't meet the criteria. It will use a generic GPU kernel as fallback when running on GPU.\n"
     ]
    },
    {
     "output_type": "stream",
     "name": "stderr",
     "text": [
      "WARNING:tensorflow:Layer lstm will not use cuDNN kernels since it doesn't meet the criteria. It will use a generic GPU kernel as fallback when running on GPU.\n"
     ]
    },
    {
     "output_type": "stream",
     "name": "stdout",
     "text": [
      "WARNING:tensorflow:Layer lstm will not use cuDNN kernels since it doesn't meet the criteria. It will use a generic GPU kernel as fallback when running on GPU.\n"
     ]
    },
    {
     "output_type": "stream",
     "name": "stderr",
     "text": [
      "WARNING:tensorflow:Layer lstm will not use cuDNN kernels since it doesn't meet the criteria. It will use a generic GPU kernel as fallback when running on GPU.\n"
     ]
    },
    {
     "output_type": "stream",
     "name": "stdout",
     "text": [
      "WARNING:tensorflow:Layer lstm_1 will not use cuDNN kernels since it doesn't meet the criteria. It will use a generic GPU kernel as fallback when running on GPU.\n"
     ]
    },
    {
     "output_type": "stream",
     "name": "stderr",
     "text": [
      "WARNING:tensorflow:Layer lstm_1 will not use cuDNN kernels since it doesn't meet the criteria. It will use a generic GPU kernel as fallback when running on GPU.\n"
     ]
    },
    {
     "output_type": "stream",
     "name": "stdout",
     "text": [
      "WARNING:tensorflow:Layer lstm_1 will not use cuDNN kernels since it doesn't meet the criteria. It will use a generic GPU kernel as fallback when running on GPU.\n"
     ]
    },
    {
     "output_type": "stream",
     "name": "stderr",
     "text": [
      "WARNING:tensorflow:Layer lstm_1 will not use cuDNN kernels since it doesn't meet the criteria. It will use a generic GPU kernel as fallback when running on GPU.\n"
     ]
    },
    {
     "output_type": "stream",
     "name": "stdout",
     "text": [
      "WARNING:tensorflow:Layer lstm_1 will not use cuDNN kernels since it doesn't meet the criteria. It will use a generic GPU kernel as fallback when running on GPU.\n"
     ]
    },
    {
     "output_type": "stream",
     "name": "stderr",
     "text": [
      "WARNING:tensorflow:Layer lstm_1 will not use cuDNN kernels since it doesn't meet the criteria. It will use a generic GPU kernel as fallback when running on GPU.\n"
     ]
    },
    {
     "output_type": "stream",
     "name": "stdout",
     "text": [
      "WARNING:tensorflow:Layer lstm_2 will not use cuDNN kernels since it doesn't meet the criteria. It will use a generic GPU kernel as fallback when running on GPU.\n"
     ]
    },
    {
     "output_type": "stream",
     "name": "stderr",
     "text": [
      "WARNING:tensorflow:Layer lstm_2 will not use cuDNN kernels since it doesn't meet the criteria. It will use a generic GPU kernel as fallback when running on GPU.\n"
     ]
    },
    {
     "output_type": "stream",
     "name": "stdout",
     "text": [
      "WARNING:tensorflow:Layer lstm_2 will not use cuDNN kernels since it doesn't meet the criteria. It will use a generic GPU kernel as fallback when running on GPU.\n"
     ]
    },
    {
     "output_type": "stream",
     "name": "stderr",
     "text": [
      "WARNING:tensorflow:Layer lstm_2 will not use cuDNN kernels since it doesn't meet the criteria. It will use a generic GPU kernel as fallback when running on GPU.\n"
     ]
    },
    {
     "output_type": "stream",
     "name": "stdout",
     "text": [
      "WARNING:tensorflow:Layer lstm_2 will not use cuDNN kernels since it doesn't meet the criteria. It will use a generic GPU kernel as fallback when running on GPU.\n"
     ]
    },
    {
     "output_type": "stream",
     "name": "stderr",
     "text": [
      "WARNING:tensorflow:Layer lstm_2 will not use cuDNN kernels since it doesn't meet the criteria. It will use a generic GPU kernel as fallback when running on GPU.\n"
     ]
    },
    {
     "output_type": "stream",
     "name": "stdout",
     "text": [
      "Epoch 1/150\n",
      "625/625 [==============================] - 118s 185ms/step - loss: 0.1790 - mse: 1.0188 - mae: 0.2324 - val_loss: 0.1776 - val_mse: 1.0185 - val_mae: 0.2296\n",
      "Epoch 2/150\n",
      "625/625 [==============================] - 115s 184ms/step - loss: 0.1787 - mse: 1.0184 - mae: 0.2315 - val_loss: 0.1776 - val_mse: 1.0185 - val_mae: 0.2296\n",
      "Epoch 3/150\n",
      "625/625 [==============================] - 116s 185ms/step - loss: 0.1787 - mse: 1.0184 - mae: 0.2315 - val_loss: 0.1776 - val_mse: 1.0185 - val_mae: 0.2296\n",
      "Epoch 4/150\n",
      "625/625 [==============================] - 116s 186ms/step - loss: 0.1787 - mse: 1.0184 - mae: 0.2315 - val_loss: 0.1776 - val_mse: 1.0185 - val_mae: 0.2296\n",
      "Epoch 5/150\n",
      "625/625 [==============================] - 116s 185ms/step - loss: 0.1787 - mse: 1.0184 - mae: 0.2315 - val_loss: 0.1776 - val_mse: 1.0185 - val_mae: 0.2296\n",
      "Epoch 6/150\n",
      "625/625 [==============================] - 116s 185ms/step - loss: 0.1787 - mse: 1.0184 - mae: 0.2315 - val_loss: 0.1776 - val_mse: 1.0185 - val_mae: 0.2296\n",
      "Epoch 7/150\n",
      "625/625 [==============================] - 117s 187ms/step - loss: 0.1787 - mse: 1.0184 - mae: 0.2315 - val_loss: 0.1776 - val_mse: 1.0185 - val_mae: 0.2296\n",
      "Epoch 8/150\n",
      "625/625 [==============================] - 116s 185ms/step - loss: 0.1787 - mse: 1.0184 - mae: 0.2315 - val_loss: 0.1776 - val_mse: 1.0185 - val_mae: 0.2296\n",
      "Epoch 9/150\n",
      "625/625 [==============================] - 114s 183ms/step - loss: 0.1787 - mse: 1.0184 - mae: 0.2315 - val_loss: 0.1776 - val_mse: 1.0185 - val_mae: 0.2296\n",
      "Epoch 10/150\n",
      "625/625 [==============================] - 115s 184ms/step - loss: 0.1787 - mse: 1.0184 - mae: 0.2315 - val_loss: 0.1776 - val_mse: 1.0185 - val_mae: 0.2296\n",
      "Epoch 11/150\n",
      "625/625 [==============================] - 118s 189ms/step - loss: 0.1787 - mse: 1.0184 - mae: 0.2315 - val_loss: 0.1776 - val_mse: 1.0185 - val_mae: 0.2296\n",
      "Epoch 12/150\n",
      "496/625 [======================>.......] - ETA: 23s - loss: 0.1787 - mse: 1.0184 - mae: 0.2315"
     ]
    }
   ],
   "metadata": {}
  },
  {
   "cell_type": "markdown",
   "source": [
    "# Visualize Keras Tuner results"
   ],
   "metadata": {}
  },
  {
   "cell_type": "code",
   "execution_count": 1,
   "source": [
    "import os\r\n",
    "import json\r\n",
    "import pandas as pd\r\n",
    "\r\n",
    "base_path = 'keras-tuner/holiday_run'\r\n",
    "folders = os.listdir(base_path)\r\n",
    "folders = [folder for folder in folders if folder.startswith('trial_')]\r\n",
    "hyperparams = []\r\n",
    "scores = []\r\n",
    "for folder in folders:\r\n",
    "    # Load trial data\r\n",
    "    with open(base_path + '/' + folder + '/trial.json') as json_file:\r\n",
    "        data = json.load(json_file)\r\n",
    "    try:\r\n",
    "        # extract score\r\n",
    "        scores.append( data['metrics']['metrics']['val_loss']['observations'][0]['value'][0] )\r\n",
    "        # extract hyperparameters\r\n",
    "        hyperparams.append( data['hyperparameters']['values'] )\r\n",
    "    except:\r\n",
    "        pass\r\n",
    "\r\n",
    "dfs = []\r\n",
    "for i, (score, hyper) in enumerate(zip(scores, hyperparams)):\r\n",
    "    df = pd.DataFrame.from_dict(hyper, orient='index').T\r\n",
    "    df['score'] = score\r\n",
    "    dfs.append(df)\r\n",
    "\r\n",
    "df = pd.concat(dfs).sort_values('score')\r\n",
    "df\r\n"
   ],
   "outputs": [
    {
     "output_type": "execute_result",
     "data": {
      "text/html": [
       "<div>\n",
       "<style scoped>\n",
       "    .dataframe tbody tr th:only-of-type {\n",
       "        vertical-align: middle;\n",
       "    }\n",
       "\n",
       "    .dataframe tbody tr th {\n",
       "        vertical-align: top;\n",
       "    }\n",
       "\n",
       "    .dataframe thead th {\n",
       "        text-align: right;\n",
       "    }\n",
       "</style>\n",
       "<table border=\"1\" class=\"dataframe\">\n",
       "  <thead>\n",
       "    <tr style=\"text-align: right;\">\n",
       "      <th></th>\n",
       "      <th>lstm_layers</th>\n",
       "      <th>dense_layers</th>\n",
       "      <th>activation_out</th>\n",
       "      <th>actvation_all</th>\n",
       "      <th>learning_rate</th>\n",
       "      <th>Clip Value</th>\n",
       "      <th>lstm_units_l-0</th>\n",
       "      <th>dropout_lstm_l-0</th>\n",
       "      <th>dense_units_l-0</th>\n",
       "      <th>dropout_dense_l-0</th>\n",
       "      <th>dense_units_l-1</th>\n",
       "      <th>dropout_dense_l-1</th>\n",
       "      <th>lstm_units_l-1</th>\n",
       "      <th>dropout_lstm_l-1</th>\n",
       "      <th>lstm_units_l-2</th>\n",
       "      <th>dropout_lstm_l-2</th>\n",
       "      <th>dense_units_l-2</th>\n",
       "      <th>dropout_dense_l-2</th>\n",
       "      <th>score</th>\n",
       "    </tr>\n",
       "  </thead>\n",
       "  <tbody>\n",
       "    <tr>\n",
       "      <th>0</th>\n",
       "      <td>1</td>\n",
       "      <td>3</td>\n",
       "      <td>tanh</td>\n",
       "      <td>elu</td>\n",
       "      <td>0.015366</td>\n",
       "      <td>0.85608</td>\n",
       "      <td>101</td>\n",
       "      <td>0.629574</td>\n",
       "      <td>143</td>\n",
       "      <td>0.089334</td>\n",
       "      <td>94</td>\n",
       "      <td>0.015374</td>\n",
       "      <td>168</td>\n",
       "      <td>0.474183</td>\n",
       "      <td>99</td>\n",
       "      <td>0.809028</td>\n",
       "      <td>25</td>\n",
       "      <td>0.0</td>\n",
       "      <td>0.174708</td>\n",
       "    </tr>\n",
       "    <tr>\n",
       "      <th>0</th>\n",
       "      <td>3</td>\n",
       "      <td>1</td>\n",
       "      <td>linear</td>\n",
       "      <td>linear</td>\n",
       "      <td>0.002417</td>\n",
       "      <td>0.924784</td>\n",
       "      <td>159</td>\n",
       "      <td>0.485672</td>\n",
       "      <td>27</td>\n",
       "      <td>0.797441</td>\n",
       "      <td>280</td>\n",
       "      <td>0.613588</td>\n",
       "      <td>2</td>\n",
       "      <td>0.0</td>\n",
       "      <td>2</td>\n",
       "      <td>0.0</td>\n",
       "      <td>NaN</td>\n",
       "      <td>NaN</td>\n",
       "      <td>0.175540</td>\n",
       "    </tr>\n",
       "    <tr>\n",
       "      <th>0</th>\n",
       "      <td>1</td>\n",
       "      <td>2</td>\n",
       "      <td>linear</td>\n",
       "      <td>linear</td>\n",
       "      <td>0.023143</td>\n",
       "      <td>0.616201</td>\n",
       "      <td>2</td>\n",
       "      <td>0.0</td>\n",
       "      <td>25</td>\n",
       "      <td>0.0</td>\n",
       "      <td>25</td>\n",
       "      <td>0.0</td>\n",
       "      <td>NaN</td>\n",
       "      <td>NaN</td>\n",
       "      <td>NaN</td>\n",
       "      <td>NaN</td>\n",
       "      <td>NaN</td>\n",
       "      <td>NaN</td>\n",
       "      <td>0.175632</td>\n",
       "    </tr>\n",
       "    <tr>\n",
       "      <th>0</th>\n",
       "      <td>3</td>\n",
       "      <td>1</td>\n",
       "      <td>sigmoid</td>\n",
       "      <td>sigmoid</td>\n",
       "      <td>0.010709</td>\n",
       "      <td>0.506015</td>\n",
       "      <td>77</td>\n",
       "      <td>0.553023</td>\n",
       "      <td>248</td>\n",
       "      <td>0.592647</td>\n",
       "      <td>153</td>\n",
       "      <td>0.632039</td>\n",
       "      <td>106</td>\n",
       "      <td>0.316873</td>\n",
       "      <td>72</td>\n",
       "      <td>0.599389</td>\n",
       "      <td>107</td>\n",
       "      <td>0.360547</td>\n",
       "      <td>0.177570</td>\n",
       "    </tr>\n",
       "    <tr>\n",
       "      <th>0</th>\n",
       "      <td>3</td>\n",
       "      <td>1</td>\n",
       "      <td>sigmoid</td>\n",
       "      <td>sigmoid</td>\n",
       "      <td>0.035422</td>\n",
       "      <td>0.930294</td>\n",
       "      <td>85</td>\n",
       "      <td>0.150921</td>\n",
       "      <td>269</td>\n",
       "      <td>0.603896</td>\n",
       "      <td>248</td>\n",
       "      <td>0.099953</td>\n",
       "      <td>91</td>\n",
       "      <td>0.357913</td>\n",
       "      <td>153</td>\n",
       "      <td>0.04135</td>\n",
       "      <td>167</td>\n",
       "      <td>0.419179</td>\n",
       "      <td>0.177570</td>\n",
       "    </tr>\n",
       "    <tr>\n",
       "      <th>0</th>\n",
       "      <td>2</td>\n",
       "      <td>2</td>\n",
       "      <td>tanh</td>\n",
       "      <td>sigmoid</td>\n",
       "      <td>0.009179</td>\n",
       "      <td>0.307246</td>\n",
       "      <td>172</td>\n",
       "      <td>0.592044</td>\n",
       "      <td>53</td>\n",
       "      <td>0.137369</td>\n",
       "      <td>210</td>\n",
       "      <td>0.089077</td>\n",
       "      <td>182</td>\n",
       "      <td>0.529741</td>\n",
       "      <td>170</td>\n",
       "      <td>0.621117</td>\n",
       "      <td>233</td>\n",
       "      <td>0.520172</td>\n",
       "      <td>0.177599</td>\n",
       "    </tr>\n",
       "    <tr>\n",
       "      <th>0</th>\n",
       "      <td>1</td>\n",
       "      <td>2</td>\n",
       "      <td>tanh</td>\n",
       "      <td>relu</td>\n",
       "      <td>0.013841</td>\n",
       "      <td>0.375405</td>\n",
       "      <td>56</td>\n",
       "      <td>0.597157</td>\n",
       "      <td>257</td>\n",
       "      <td>0.481553</td>\n",
       "      <td>41</td>\n",
       "      <td>0.076912</td>\n",
       "      <td>35</td>\n",
       "      <td>0.058192</td>\n",
       "      <td>107</td>\n",
       "      <td>0.869561</td>\n",
       "      <td>293</td>\n",
       "      <td>0.673312</td>\n",
       "      <td>0.177622</td>\n",
       "    </tr>\n",
       "    <tr>\n",
       "      <th>0</th>\n",
       "      <td>2</td>\n",
       "      <td>2</td>\n",
       "      <td>sigmoid</td>\n",
       "      <td>linear</td>\n",
       "      <td>0.025983</td>\n",
       "      <td>0.721979</td>\n",
       "      <td>171</td>\n",
       "      <td>0.193108</td>\n",
       "      <td>50</td>\n",
       "      <td>0.805949</td>\n",
       "      <td>225</td>\n",
       "      <td>0.363898</td>\n",
       "      <td>197</td>\n",
       "      <td>0.081307</td>\n",
       "      <td>10</td>\n",
       "      <td>0.157251</td>\n",
       "      <td>NaN</td>\n",
       "      <td>NaN</td>\n",
       "      <td>NaN</td>\n",
       "    </tr>\n",
       "  </tbody>\n",
       "</table>\n",
       "</div>"
      ],
      "text/plain": [
       "  lstm_layers dense_layers activation_out actvation_all learning_rate  \\\n",
       "0           1            3           tanh           elu      0.015366   \n",
       "0           3            1         linear        linear      0.002417   \n",
       "0           1            2         linear        linear      0.023143   \n",
       "0           3            1        sigmoid       sigmoid      0.010709   \n",
       "0           3            1        sigmoid       sigmoid      0.035422   \n",
       "0           2            2           tanh       sigmoid      0.009179   \n",
       "0           1            2           tanh          relu      0.013841   \n",
       "0           2            2        sigmoid        linear      0.025983   \n",
       "\n",
       "  Clip Value lstm_units_l-0 dropout_lstm_l-0 dense_units_l-0  \\\n",
       "0    0.85608            101         0.629574             143   \n",
       "0   0.924784            159         0.485672              27   \n",
       "0   0.616201              2              0.0              25   \n",
       "0   0.506015             77         0.553023             248   \n",
       "0   0.930294             85         0.150921             269   \n",
       "0   0.307246            172         0.592044              53   \n",
       "0   0.375405             56         0.597157             257   \n",
       "0   0.721979            171         0.193108              50   \n",
       "\n",
       "  dropout_dense_l-0 dense_units_l-1 dropout_dense_l-1 lstm_units_l-1  \\\n",
       "0          0.089334              94          0.015374            168   \n",
       "0          0.797441             280          0.613588              2   \n",
       "0               0.0              25               0.0            NaN   \n",
       "0          0.592647             153          0.632039            106   \n",
       "0          0.603896             248          0.099953             91   \n",
       "0          0.137369             210          0.089077            182   \n",
       "0          0.481553              41          0.076912             35   \n",
       "0          0.805949             225          0.363898            197   \n",
       "\n",
       "  dropout_lstm_l-1 lstm_units_l-2 dropout_lstm_l-2 dense_units_l-2  \\\n",
       "0         0.474183             99         0.809028              25   \n",
       "0              0.0              2              0.0             NaN   \n",
       "0              NaN            NaN              NaN             NaN   \n",
       "0         0.316873             72         0.599389             107   \n",
       "0         0.357913            153          0.04135             167   \n",
       "0         0.529741            170         0.621117             233   \n",
       "0         0.058192            107         0.869561             293   \n",
       "0         0.081307             10         0.157251             NaN   \n",
       "\n",
       "  dropout_dense_l-2     score  \n",
       "0               0.0  0.174708  \n",
       "0               NaN  0.175540  \n",
       "0               NaN  0.175632  \n",
       "0          0.360547  0.177570  \n",
       "0          0.419179  0.177570  \n",
       "0          0.520172  0.177599  \n",
       "0          0.673312  0.177622  \n",
       "0               NaN       NaN  "
      ]
     },
     "metadata": {},
     "execution_count": 1
    }
   ],
   "metadata": {}
  },
  {
   "cell_type": "code",
   "execution_count": null,
   "source": [
    "df.to_excel(r'C:\\Users\\lukas\\Dokumente\\projects\\esinet\\keras-tuner\\holidayrun.xlsx')"
   ],
   "outputs": [],
   "metadata": {}
  },
  {
   "cell_type": "markdown",
   "source": [
    "# Build & train LSTM network"
   ],
   "metadata": {}
  },
  {
   "cell_type": "code",
   "execution_count": null,
   "source": [
    "epochs = 200\r\n",
    "patience = 20\r\n",
    "activation_funcion = 'relu'\r\n",
    "loss = 'huber'\r\n",
    "dropout = 0.2\r\n",
    "# Train\r\n",
    "# model_params = dict(activation_function=activation_funcion, n_dense_layers=2, \r\n",
    "#     n_dense_units=200)\r\n",
    "# train_params = dict(epochs=epochs, patience=patience, tensorboard=True, \r\n",
    "#     dropout=dropout, loss=loss, optimizer='adam', return_history=True)\r\n",
    "# net_dense = Net(fwd, **model_params)\r\n",
    "# _, history_dense = net_dense.fit(sim_dense, **train_params)\r\n",
    "\r\n",
    "# LSTM v2\r\n",
    "model_params = dict(activation_function=activation_funcion, n_lstm_layers=2, \r\n",
    "    n_lstm_units=75, model_type='v2')\r\n",
    "train_params = dict(epochs=epochs, patience=patience, tensorboard=True, \r\n",
    "    dropout=dropout, loss=loss, optimizer=None, return_history=True, \r\n",
    "    batch_size=8)\r\n",
    "\r\n",
    "net_lstm_v2 = Net(fwd, **model_params)\r\n",
    "_, history_lstm = net_lstm_v2.fit(sim_lstm, **train_params)\r\n",
    "\r\n",
    "# LSTM v3\r\n",
    "# model_params = dict(activation_function=activation_funcion, n_lstm_layers=2, \r\n",
    "#     n_lstm_units=75, model_type='v3')\r\n",
    "# train_params = dict(epochs=epochs, patience=patience, tensorboard=True, \r\n",
    "#     dropout=dropout, loss=loss, optimizer=None, return_history=True, \r\n",
    "#     batch_size=8)\r\n",
    "\r\n",
    "# net_lstm_v3 = Net(fwd, **model_params)\r\n",
    "# _, history_lstm = net_lstm_v3.fit(sim_lstm, **train_params)\r\n",
    "\r\n",
    "\r\n"
   ],
   "outputs": [],
   "metadata": {}
  },
  {
   "cell_type": "code",
   "execution_count": 13,
   "source": [
    "%matplotlib qt\r\n",
    "settings_eval = dict(duration_of_trial=0.2, target_snr=(0.5, 10))\r\n",
    "\r\n",
    "# Simulate new data\r\n",
    "sim_test = Simulation(fwd, info, settings=settings_eval).simulate(1)\r\n",
    "idx = 0\r\n",
    "# Predict sources\r\n",
    "# prediction_dense = net_dense.predict(sim_test)\r\n",
    "prediction_lstm = net_lstm_v2.predict(sim_test)\r\n",
    "\r\n",
    "\r\n",
    "# Plot True Source\r\n",
    "brain = sim_test.source_data[idx].plot(**plot_params)\r\n",
    "brain.add_text(0.1, 0.9, 'Ground Truth', 'title')\r\n",
    "\r\n",
    "# Plot True EEG\r\n",
    "evoked = sim_test.eeg_data[idx].average()\r\n",
    "evoked.plot()\r\n",
    "evoked.plot_topomap(title='Ground Truth')\r\n",
    "evoked = util.get_eeg_from_source(sim_test.source_data[idx], fwd, info, tmin=0.)\r\n",
    "evoked.plot_topomap(title='Ground Truth Noiseless')\r\n",
    "\r\n",
    "\r\n",
    "# Plot predicted source Dense\r\n",
    "# brain = prediction_dense.plot(**plot_params)\r\n",
    "# brain.add_text(0.1, 0.9, 'Dense', 'title')\r\n",
    "# # Plot predicted EEG\r\n",
    "# evoked_esi = util.get_eeg_from_source(prediction_dense, fwd, info, tmin=0.)\r\n",
    "# evoked_esi.plot()\r\n",
    "# evoked_esi.plot_topomap(title='Dense')\r\n",
    "\r\n",
    "# Plot predicted source LSTM\r\n",
    "brain = prediction_lstm.plot(**plot_params)\r\n",
    "brain.add_text(0.1, 0.9, 'LSTM', 'title')\r\n",
    "# Plot predicted EEG\r\n",
    "evoked_esi = util.get_eeg_from_source(prediction_lstm, fwd, info, tmin=0.)\r\n",
    "evoked_esi.plot()\r\n",
    "evoked_esi.plot_topomap(title='LSTM')\r\n",
    "\r\n",
    "error_dense = ((prediction_dense.data - sim_test.source_data[idx].data)**2).flatten()\r\n",
    "error_lstm = ((prediction_lstm.data - sim_test.source_data[idx].data)**2).flatten()\r\n",
    "\r\n",
    "diff = error_dense - error_lstm\r\n",
    "relative_better_predictions = np.sum(diff>0)/ len(diff)\r\n",
    "title = f'{relative_better_predictions*100:.1f} % of samples were better with lstm'\r\n",
    "print(title)"
   ],
   "outputs": [
    {
     "output_type": "display_data",
     "data": {
      "application/vnd.jupyter.widget-view+json": {
       "version_major": 2,
       "version_minor": 0,
       "model_id": "c5d3482bf8de4a88ac22eb47ac5b107a"
      },
      "text/plain": [
       "  0%|          | 0/1 [00:00<?, ?it/s]"
      ]
     },
     "metadata": {}
    },
    {
     "output_type": "display_data",
     "data": {
      "application/vnd.jupyter.widget-view+json": {
       "version_major": 2,
       "version_minor": 0,
       "model_id": "3fcf7d1d3ce64b28a73ccf0b16ad2f8e"
      },
      "text/plain": [
       "  0%|          | 0/1 [00:00<?, ?it/s]"
      ]
     },
     "metadata": {}
    },
    {
     "output_type": "display_data",
     "data": {
      "application/vnd.jupyter.widget-view+json": {
       "version_major": 2,
       "version_minor": 0,
       "model_id": "ed4cc4d4f72f4345886650f9e5cf0aab"
      },
      "text/plain": [
       "  0%|          | 0/1 [00:00<?, ?it/s]"
      ]
     },
     "metadata": {}
    },
    {
     "output_type": "stream",
     "name": "stdout",
     "text": [
      "WARNING:tensorflow:Unresolved object in checkpoint: (root).optimizer.iter\n",
      "WARNING:tensorflow:Unresolved object in checkpoint: (root).optimizer.beta_1\n",
      "WARNING:tensorflow:Unresolved object in checkpoint: (root).optimizer.beta_2\n",
      "WARNING:tensorflow:Unresolved object in checkpoint: (root).optimizer.decay\n",
      "WARNING:tensorflow:Unresolved object in checkpoint: (root).optimizer.learning_rate\n",
      "WARNING:tensorflow:A checkpoint was restored (e.g. tf.train.Checkpoint.restore or tf.keras.Model.load_weights) but not all checkpointed values were used. See above for specific issues. Use expect_partial() on the load status object, e.g. tf.train.Checkpoint.restore(...).expect_partial(), to silence these warnings, or use assert_consumed() to make the check explicit. See https://www.tensorflow.org/guide/checkpoint#loading_mechanics for details.\n"
     ]
    },
    {
     "output_type": "error",
     "ename": "NameError",
     "evalue": "name 'prediction_dense' is not defined",
     "traceback": [
      "\u001b[1;31m---------------------------------------------------------------------------\u001b[0m",
      "\u001b[1;31mNameError\u001b[0m                                 Traceback (most recent call last)",
      "\u001b[1;32m~\\AppData\\Local\\Temp/ipykernel_12716/2758817871.py\u001b[0m in \u001b[0;36m<module>\u001b[1;34m\u001b[0m\n\u001b[0;32m     38\u001b[0m \u001b[0mevoked_esi\u001b[0m\u001b[1;33m.\u001b[0m\u001b[0mplot_topomap\u001b[0m\u001b[1;33m(\u001b[0m\u001b[0mtitle\u001b[0m\u001b[1;33m=\u001b[0m\u001b[1;34m'LSTM'\u001b[0m\u001b[1;33m)\u001b[0m\u001b[1;33m\u001b[0m\u001b[1;33m\u001b[0m\u001b[0m\n\u001b[0;32m     39\u001b[0m \u001b[1;33m\u001b[0m\u001b[0m\n\u001b[1;32m---> 40\u001b[1;33m \u001b[0merror_dense\u001b[0m \u001b[1;33m=\u001b[0m \u001b[1;33m(\u001b[0m\u001b[1;33m(\u001b[0m\u001b[0mprediction_dense\u001b[0m\u001b[1;33m.\u001b[0m\u001b[0mdata\u001b[0m \u001b[1;33m-\u001b[0m \u001b[0msim_test\u001b[0m\u001b[1;33m.\u001b[0m\u001b[0msource_data\u001b[0m\u001b[1;33m[\u001b[0m\u001b[0midx\u001b[0m\u001b[1;33m]\u001b[0m\u001b[1;33m.\u001b[0m\u001b[0mdata\u001b[0m\u001b[1;33m)\u001b[0m\u001b[1;33m**\u001b[0m\u001b[1;36m2\u001b[0m\u001b[1;33m)\u001b[0m\u001b[1;33m.\u001b[0m\u001b[0mflatten\u001b[0m\u001b[1;33m(\u001b[0m\u001b[1;33m)\u001b[0m\u001b[1;33m\u001b[0m\u001b[1;33m\u001b[0m\u001b[0m\n\u001b[0m\u001b[0;32m     41\u001b[0m \u001b[0merror_lstm\u001b[0m \u001b[1;33m=\u001b[0m \u001b[1;33m(\u001b[0m\u001b[1;33m(\u001b[0m\u001b[0mprediction_lstm\u001b[0m\u001b[1;33m.\u001b[0m\u001b[0mdata\u001b[0m \u001b[1;33m-\u001b[0m \u001b[0msim_test\u001b[0m\u001b[1;33m.\u001b[0m\u001b[0msource_data\u001b[0m\u001b[1;33m[\u001b[0m\u001b[0midx\u001b[0m\u001b[1;33m]\u001b[0m\u001b[1;33m.\u001b[0m\u001b[0mdata\u001b[0m\u001b[1;33m)\u001b[0m\u001b[1;33m**\u001b[0m\u001b[1;36m2\u001b[0m\u001b[1;33m)\u001b[0m\u001b[1;33m.\u001b[0m\u001b[0mflatten\u001b[0m\u001b[1;33m(\u001b[0m\u001b[1;33m)\u001b[0m\u001b[1;33m\u001b[0m\u001b[1;33m\u001b[0m\u001b[0m\n\u001b[0;32m     42\u001b[0m \u001b[1;33m\u001b[0m\u001b[0m\n",
      "\u001b[1;31mNameError\u001b[0m: name 'prediction_dense' is not defined"
     ]
    },
    {
     "output_type": "stream",
     "name": "stderr",
     "text": [
      "WARNING:root:Encountered issue in callback (most recent call last):\n",
      "  File \"C:\\Users\\Lukas\\Envs\\esienv\\lib\\site-packages\\mne\\viz\\_brain\\_brain.py\", line 1348, in _on_button_release\n",
      "    self.picked_renderer = self.plotter.iren.FindPokedRenderer(x, y)\n",
      "AttributeError: 'RenderWindowInteractor' object has no attribute 'FindPokedRenderer'\n"
     ]
    },
    {
     "output_type": "stream",
     "name": "stdout",
     "text": [
      "Using control points [3.86058518e-09 3.86058518e-09 5.35169863e-09]\n"
     ]
    },
    {
     "output_type": "stream",
     "name": "stderr",
     "text": [
      "WARNING:root:Encountered issue in callback (most recent call last):\n",
      "  File \"C:\\Users\\Lukas\\Envs\\esienv\\lib\\site-packages\\mne\\viz\\_brain\\_brain.py\", line 1348, in _on_button_release\n",
      "    self.picked_renderer = self.plotter.iren.FindPokedRenderer(x, y)\n",
      "AttributeError: 'RenderWindowInteractor' object has no attribute 'FindPokedRenderer'\n"
     ]
    },
    {
     "output_type": "stream",
     "name": "stdout",
     "text": [
      "Using control points [1.14141424e-09 2.45816320e-09 6.30531853e-09]\n"
     ]
    }
   ],
   "metadata": {}
  },
  {
   "cell_type": "markdown",
   "source": [
    "# Perform predictions on test set"
   ],
   "metadata": {}
  },
  {
   "cell_type": "code",
   "execution_count": null,
   "source": [
    "settings = dict(duration_of_trial=0.2, target_snr=(0.5, 10))\r\n",
    "sim_lstm_test = Simulation(fwd, info, verbose=True, settings=settings).simulate(n_samples=20)\r\n",
    "sim_dense_test = util.convert_simulation_temporal_to_single(sim_lstm_test)"
   ],
   "outputs": [],
   "metadata": {}
  },
  {
   "cell_type": "code",
   "execution_count": null,
   "source": [
    "# predict\r\n",
    "models = [net_dense, net_lstm_v2, net_lstm_v3]\r\n",
    "model_names = [model.model.name for model in models]\r\n",
    "predictions = [model.predict(sim_lstm_test) for model in models]"
   ],
   "outputs": [],
   "metadata": {}
  },
  {
   "cell_type": "markdown",
   "source": [
    "## Calc Mean Localization Error"
   ],
   "metadata": {}
  },
  {
   "cell_type": "code",
   "execution_count": 12,
   "source": [
    "from esinet.evaluate import eval_mean_localization_error, eval_nmse, eval_auc, eval_mse\r\n",
    "from scipy.spatial.distance import cdist\r\n",
    "size = 30\r\n",
    "pos = util.unpack_fwd(fwd)[2]\r\n",
    "distance_matrix = cdist(pos, pos)\r\n",
    "\r\n",
    "mean_localization_errors = []\r\n",
    "aucs = []\r\n",
    "nmses = []\r\n",
    "mses = []\r\n",
    "true_sources = np.stack([src.data for src in sim_lstm_test.source_data], axis=0)\r\n",
    "true_sources = util.collapse(true_sources)\r\n",
    "choice = np.random.choice(np.arange(true_sources.shape[0]), size=size, replace=False)\r\n",
    "true_sources = true_sources[choice]\r\n",
    "for prediction in predictions:\r\n",
    "    predicted_sources = util.collapse(np.stack([src.data for src in prediction], axis=0))\r\n",
    "    \r\n",
    "    predicted_sources = predicted_sources[choice]\r\n",
    "    \r\n",
    "    print('mle calculation....')\r\n",
    "    mean_localization_error = [eval_mean_localization_error(true_source, predicted_source, pos, distance_matrix=distance_matrix) for true_source, predicted_source in zip(true_sources, predicted_sources)]\r\n",
    "    auc = [eval_auc(true_source, predicted_source, pos) for true_source, predicted_source in zip(true_sources, predicted_sources)]\r\n",
    "    nmse = [eval_nmse(true_source, predicted_source) for true_source, predicted_source in zip(true_sources, predicted_sources)]\r\n",
    "    mse = [eval_mse(true_source, predicted_source) for true_source, predicted_source in zip(true_sources, predicted_sources)]\r\n",
    "    \r\n",
    "    mean_localization_errors.append(mean_localization_error)\r\n",
    "    aucs.append(auc)\r\n",
    "    nmses.append(nmse)\r\n",
    "    mses.append(mse)\r\n",
    "\r\n",
    "aucs_far = [auc[1] for auc in aucs]\r\n",
    "aucs_close = [auc[0] for auc in aucs]"
   ],
   "outputs": [
    {
     "output_type": "error",
     "ename": "NameError",
     "evalue": "name 'predictions' is not defined",
     "traceback": [
      "\u001b[1;31m---------------------------------------------------------------------------\u001b[0m",
      "\u001b[1;31mNameError\u001b[0m                                 Traceback (most recent call last)",
      "\u001b[1;32m~\\AppData\\Local\\Temp/ipykernel_12716/2368899421.py\u001b[0m in \u001b[0;36m<module>\u001b[1;34m\u001b[0m\n\u001b[0;32m     13\u001b[0m \u001b[0mchoice\u001b[0m \u001b[1;33m=\u001b[0m \u001b[0mnp\u001b[0m\u001b[1;33m.\u001b[0m\u001b[0mrandom\u001b[0m\u001b[1;33m.\u001b[0m\u001b[0mchoice\u001b[0m\u001b[1;33m(\u001b[0m\u001b[0mnp\u001b[0m\u001b[1;33m.\u001b[0m\u001b[0marange\u001b[0m\u001b[1;33m(\u001b[0m\u001b[0mtrue_sources\u001b[0m\u001b[1;33m.\u001b[0m\u001b[0mshape\u001b[0m\u001b[1;33m[\u001b[0m\u001b[1;36m0\u001b[0m\u001b[1;33m]\u001b[0m\u001b[1;33m)\u001b[0m\u001b[1;33m,\u001b[0m \u001b[0msize\u001b[0m\u001b[1;33m=\u001b[0m\u001b[0msize\u001b[0m\u001b[1;33m,\u001b[0m \u001b[0mreplace\u001b[0m\u001b[1;33m=\u001b[0m\u001b[1;32mFalse\u001b[0m\u001b[1;33m)\u001b[0m\u001b[1;33m\u001b[0m\u001b[1;33m\u001b[0m\u001b[0m\n\u001b[0;32m     14\u001b[0m \u001b[0mtrue_sources\u001b[0m \u001b[1;33m=\u001b[0m \u001b[0mtrue_sources\u001b[0m\u001b[1;33m[\u001b[0m\u001b[0mchoice\u001b[0m\u001b[1;33m]\u001b[0m\u001b[1;33m\u001b[0m\u001b[1;33m\u001b[0m\u001b[0m\n\u001b[1;32m---> 15\u001b[1;33m \u001b[1;32mfor\u001b[0m \u001b[0mprediction\u001b[0m \u001b[1;32min\u001b[0m \u001b[0mpredictions\u001b[0m\u001b[1;33m:\u001b[0m\u001b[1;33m\u001b[0m\u001b[1;33m\u001b[0m\u001b[0m\n\u001b[0m\u001b[0;32m     16\u001b[0m     \u001b[0mpredicted_sources\u001b[0m \u001b[1;33m=\u001b[0m \u001b[0mutil\u001b[0m\u001b[1;33m.\u001b[0m\u001b[0mcollapse\u001b[0m\u001b[1;33m(\u001b[0m\u001b[0mnp\u001b[0m\u001b[1;33m.\u001b[0m\u001b[0mstack\u001b[0m\u001b[1;33m(\u001b[0m\u001b[1;33m[\u001b[0m\u001b[0msrc\u001b[0m\u001b[1;33m.\u001b[0m\u001b[0mdata\u001b[0m \u001b[1;32mfor\u001b[0m \u001b[0msrc\u001b[0m \u001b[1;32min\u001b[0m \u001b[0mprediction\u001b[0m\u001b[1;33m]\u001b[0m\u001b[1;33m,\u001b[0m \u001b[0maxis\u001b[0m\u001b[1;33m=\u001b[0m\u001b[1;36m0\u001b[0m\u001b[1;33m)\u001b[0m\u001b[1;33m)\u001b[0m\u001b[1;33m\u001b[0m\u001b[1;33m\u001b[0m\u001b[0m\n\u001b[0;32m     17\u001b[0m \u001b[1;33m\u001b[0m\u001b[0m\n",
      "\u001b[1;31mNameError\u001b[0m: name 'predictions' is not defined"
     ]
    }
   ],
   "metadata": {}
  },
  {
   "cell_type": "code",
   "execution_count": null,
   "source": [
    "import seaborn as sns\r\n",
    "%matplotlib qt\r\n",
    "\r\n",
    "plt.figure()\r\n",
    "sns.boxplot(data=nmses)\r\n",
    "plt.title('Normalized Mean Squared Errors')\r\n",
    "\r\n",
    "plt.figure()\r\n",
    "sns.boxplot(data=mses)\r\n",
    "plt.title('Mean Squared Errors')\r\n",
    "\r\n",
    "plt.figure()\r\n",
    "sns.boxplot(data=aucs_far)\r\n",
    "plt.title('Far area under the curve')\r\n",
    "\r\n",
    "\r\n",
    "plt.figure()\r\n",
    "sns.boxplot(data=aucs_close)\r\n",
    "plt.title('Close area under the curve')\r\n",
    "\r\n",
    "\r\n",
    "plt.figure()\r\n",
    "sns.boxplot(data=mean_localization_errors)\r\n",
    "plt.title('Mean Localization Errors')\r\n",
    "plt.tight_layout()"
   ],
   "outputs": [],
   "metadata": {}
  },
  {
   "cell_type": "code",
   "execution_count": null,
   "source": [
    "fig, ax = plt.subplots(1,1, figsize=(10,10))\r\n",
    "ax.scatter(nmses[0], nmses[2], s=0.5)\r\n",
    "ax.plot([0, 1], [0, 1], linewidth=2, color='black')\r\n",
    "ax.set_xlim([-np.percentile(nmses[0], 5), np.percentile(nmses[0], 99)])\r\n",
    "ax.set_ylim([-np.percentile(nmses[0], 5), np.percentile(nmses[0], 99)])\r\n",
    "ax.set_xlabel('Dense')\r\n",
    "ax.set_ylabel('LSTM v3')"
   ],
   "outputs": [],
   "metadata": {}
  },
  {
   "cell_type": "code",
   "execution_count": null,
   "source": [
    "from scipy.stats import ttest_rel, wilcoxon\r\n",
    "print('AUC_far:', ttest_rel(aucs_far[0], aucs_far[1]))\r\n",
    "print('AUC_close:', ttest_rel(aucs_close[0], aucs_close[1]))\r\n",
    "print('MLE:', wilcoxon(mean_localization_errors[0], mean_localization_errors[1]))\r\n",
    "print('nMSE:', ttest_rel(nmses[0], nmses[1]))\r\n",
    "print('MSE:', ttest_rel(mses[0], mses[1]))"
   ],
   "outputs": [],
   "metadata": {}
  }
 ],
 "metadata": {
  "orig_nbformat": 4,
  "language_info": {
   "name": "python",
   "version": "3.9.6",
   "mimetype": "text/x-python",
   "codemirror_mode": {
    "name": "ipython",
    "version": 3
   },
   "pygments_lexer": "ipython3",
   "nbconvert_exporter": "python",
   "file_extension": ".py"
  },
  "kernelspec": {
   "name": "python3",
   "display_name": "Python 3.9.6 64-bit ('esienv': virtualenv)"
  },
  "interpreter": {
   "hash": "fbb001003ceff4ec0bc12bddb6bde082b9f9e9bd295b9232bbf70f72f8799a35"
  }
 },
 "nbformat": 4,
 "nbformat_minor": 2
}