{
 "cells": [
  {
   "cell_type": "code",
   "execution_count": 1,
   "metadata": {},
   "outputs": [],
   "source": [
    "%matplotlib inline\n",
    "%load_ext autoreload\n",
    "%autoreload 2\n",
    "\n",
    "import mne\n",
    "import numpy as np\n",
    "from copy import deepcopy\n",
    "import matplotlib.pyplot as plt\n",
    "import sys; sys.path.insert(0, '../')\n",
    "from esinet import util\n",
    "from esinet import Simulation\n",
    "from esinet import Net\n",
    "from esinet.forward import create_forward_model, get_info\n",
    "from scipy.stats import pearsonr\n",
    "from matplotlib import pyplot as plt\n",
    "from scipy.sparse.csgraph import laplacian\n",
    "\n",
    "plot_params = dict(surface='white', hemi='both', verbose=0)"
   ]
  },
  {
   "cell_type": "markdown",
   "metadata": {},
   "source": [
    "## Create Forward model\n",
    "First we create a template forward model which comes with the esinet package"
   ]
  },
  {
   "cell_type": "code",
   "execution_count": 2,
   "metadata": {},
   "outputs": [
    {
     "name": "stderr",
     "output_type": "stream",
     "text": [
      "[Parallel(n_jobs=4)]: Using backend LokyBackend with 4 concurrent workers.\n",
      "[Parallel(n_jobs=4)]: Done   2 out of   4 | elapsed:    2.3s remaining:    2.3s\n",
      "[Parallel(n_jobs=4)]: Done   4 out of   4 | elapsed:    2.4s remaining:    0.0s\n",
      "[Parallel(n_jobs=4)]: Done   4 out of   4 | elapsed:    2.4s finished\n",
      "[Parallel(n_jobs=4)]: Using backend LokyBackend with 4 concurrent workers.\n",
      "[Parallel(n_jobs=4)]: Done   2 out of   4 | elapsed:    0.1s remaining:    0.1s\n",
      "[Parallel(n_jobs=4)]: Done   4 out of   4 | elapsed:    0.1s remaining:    0.0s\n",
      "[Parallel(n_jobs=4)]: Done   4 out of   4 | elapsed:    0.1s finished\n",
      "[Parallel(n_jobs=4)]: Using backend LokyBackend with 4 concurrent workers.\n"
     ]
    },
    {
     "name": "stdout",
     "output_type": "stream",
     "text": [
      "-- number of adjacent vertices : 1284\n"
     ]
    },
    {
     "name": "stderr",
     "output_type": "stream",
     "text": [
      "[Parallel(n_jobs=4)]: Done   2 out of   4 | elapsed:    0.4s remaining:    0.4s\n",
      "[Parallel(n_jobs=4)]: Done   4 out of   4 | elapsed:    0.4s remaining:    0.0s\n",
      "[Parallel(n_jobs=4)]: Done   4 out of   4 | elapsed:    0.4s finished\n"
     ]
    }
   ],
   "source": [
    "info = get_info(sfreq=100, kind=\"biosemi64\")\n",
    "fwd = create_forward_model(sampling=\"ico3\", info=info)\n",
    "leadfield = fwd[\"sol\"][\"data\"]\n",
    "pos_left = fwd[\"src\"][0][\"rr\"][fwd[\"src\"][0][\"vertno\"], :]\n",
    "pos_right = fwd[\"src\"][1][\"rr\"][fwd[\"src\"][1][\"vertno\"], :]\n",
    "pos = np.concatenate((pos_left, pos_right), axis=0)\n",
    "n_chans, n_dipoles = leadfield.shape\n",
    "\n",
    "adjacency = mne.spatial_src_adjacency(fwd['src']).toarray()\n",
    "laplace_operator = abs(laplacian(adjacency))"
   ]
  },
  {
   "cell_type": "markdown",
   "metadata": {},
   "source": [
    "# Models"
   ]
  },
  {
   "cell_type": "markdown",
   "metadata": {},
   "source": [
    "## The Generator"
   ]
  },
  {
   "cell_type": "code",
   "execution_count": 3,
   "metadata": {},
   "outputs": [
    {
     "name": "stdout",
     "output_type": "stream",
     "text": [
      "WARNING:tensorflow:Model was constructed with shape (None, None, 64) for input KerasTensor(type_spec=TensorSpec(shape=(None, None, 64), dtype=tf.float32, name='Input_Discriminator'), name='Input_Discriminator', description=\"created by layer 'Input_Discriminator'\"), but it was called on an input with incompatible shape (None, 64).\n",
      "KerasTensor(type_spec=TensorSpec(shape=(None, 64), dtype=tf.float32, name=None), name='layer_normalization/add:0', description=\"created by layer 'layer_normalization'\") KerasTensor(type_spec=TensorSpec(shape=(None, 64), dtype=tf.float32, name=None), name='lambda_2/transpose_1:0', description=\"created by layer 'lambda_2'\")\n"
     ]
    }
   ],
   "source": [
    "import tensorflow as tf\n",
    "from tensorflow.keras.layers import Dense, InputLayer, Input, Lambda, LayerNormalization\n",
    "from tensorflow.keras.layers import Activation, Dropout, ActivityRegularization, TimeDistributed\n",
    "from tensorflow.keras.layers import Reshape, Permute, GaussianNoise, add, BatchNormalization, multiply\n",
    "from esinet.losses import chamfer2\n",
    "import numpy as np\n",
    "import tensorflow.keras.backend as K\n",
    "from tensorflow.keras.models import Model\n",
    "# import tensorflow_probability as tfp\n",
    "from tensorflow.keras.regularizers import l1, l2, l1_l2\n",
    "\n",
    "def weightedLoss(w):\n",
    "    def loss(true, pred):\n",
    "        print(\"DISC\", true, pred)\n",
    "        \n",
    "        error = K.square(true - pred)\n",
    "        # error = K.abs(true - pred)\n",
    "        error = K.switch(K.equal(true, 0), w * error , error)\n",
    "        # normalize for number of active sites\n",
    "        error = error / tf.linalg.norm(true, axis=-1)\n",
    "        return error\n",
    "    return loss\n",
    "\n",
    "def weightedLossGan(w):\n",
    "    def loss(true, pred):\n",
    "        print(\"GAN\", true, pred)\n",
    "        error = K.square(true - pred)\n",
    "        # error = K.abs(true - pred)\n",
    "        error = K.switch(K.equal(true, 0), w * error , error)\n",
    "        # normalize for number of active sites\n",
    "        error = error * tf.linalg.norm(true)\n",
    "        return -error\n",
    "    return loss\n",
    "\n",
    "\n",
    "def square(x, exponent=4):\n",
    "    return K.pow(x, exponent) * K.sign(x)\n",
    "    \n",
    "def scale_act(x):\n",
    "    return tf.transpose(tf.transpose(x) / tf.math.reduce_max(K.abs(x), axis=-1))\n",
    "        \n",
    "def data_loss(leadfield, lam_0=0.1):\n",
    "    leadfield_ = tf.cast(leadfield, dtype=tf.float32)\n",
    "    def batch_data_loss(y_true, y_est):\n",
    "        def d_loss(y_true, y_est):\n",
    "            y_true_eeg = tf.transpose(tf.matmul(leadfield_, tf.transpose(y_true)))\n",
    "            y_est_eeg = tf.transpose(tf.matmul(leadfield_, tf.transpose(y_est)))\n",
    "            # print(\"y_true \", y_true)\n",
    "            # print(\"y_est \", y_est)\n",
    "            \n",
    "            # return K.mean(K.square(y_est - y_true))\n",
    "            error_source = tf.keras.losses.CosineSimilarity(name=\"Source_Data_Cosine_Loss\")(y_est, y_true)\n",
    "            error_eeg = tf.keras.losses.CosineSimilarity(name=\"EEG_Data_Cosine_Loss\")(y_est_eeg, y_true_eeg)\n",
    "            return error_source*lam_0 + error_eeg\n",
    "        \n",
    "        \n",
    "\n",
    "        batched_losses = tf.map_fn(lambda x:\n",
    "            d_loss(x[0], x[1]), \n",
    "            (y_true, y_est), dtype=tf.float32)\n",
    "        return K.mean(batched_losses)\n",
    "\n",
    "\n",
    "    return batch_data_loss\n",
    "\n",
    "def c_loss(x):\n",
    "        matrix = compute_cosine_distances(K.abs(x), K.abs(x))\n",
    "        return K.mean(matrix)\n",
    "\n",
    "def compute_cosine_distances(a, b):\n",
    "    # x shape is n_a * dim\n",
    "    # y shape is n_b * dim\n",
    "    # results shape is n_a * n_b\n",
    "\n",
    "    normalize_a = tf.nn.l2_normalize(a,1)        \n",
    "    normalize_b = tf.nn.l2_normalize(b,1)\n",
    "    distance = 1 - tf.matmul(normalize_a, normalize_b, transpose_b=True)\n",
    "    return distance\n",
    "\n",
    "def define_gan(g_model, d_model, latent_dim, lam_0=0.1, lam_1=1, lam_2=0.001, learning_rate=0.0001):\n",
    "    n_chans, n_dipoles = leadfield.shape\n",
    "    leadfield_ = tf.cast(leadfield, dtype=tf.float32)\n",
    "    d_model.trainable = False\n",
    "    inputs = tf.keras.Input(shape=(latent_dim), name='Input_Generator')\n",
    "    output_1 = g_model(inputs)\n",
    "    eeg = Lambda(lambda x: tf.transpose(tf.linalg.matmul(leadfield_, tf.transpose(x))), output_shape=(None, n_chans))(output_1)\n",
    "    \n",
    "    # print(\"eeg from source from g: \", eeg)\n",
    "    eeg_normed = LayerNormalization()(eeg)\n",
    "    \n",
    "    # print(\"eeg_normed from source from g: \", eeg_normed)\n",
    "    output_3 = d_model(eeg_normed)\n",
    "    model = Model(inputs, [output_1, output_3])\n",
    "\n",
    "    # Add loss to model\n",
    "    eeg_hat = Lambda(lambda x: tf.transpose(tf.linalg.matmul(leadfield_, tf.transpose(x))), output_shape=(None, n_chans))(output_3)\n",
    "    # eeg_hat_normed = LayerNormalization()(eeg_hat)\n",
    "    print(eeg_normed, eeg_hat)\n",
    "    source_loss = K.abs(tf.keras.losses.CosineSimilarity(name=\"Cosine_Source\")(output_1, output_3)) \n",
    "    eeg_loss = K.abs(tf.keras.losses.CosineSimilarity(name=\"Cosine_EEG\")(eeg_normed, eeg_hat)) \n",
    "    loss = source_loss + eeg_loss * lam_0\n",
    "    model.add_loss(loss)\n",
    "    model.add_loss(-l1_sparsity(output_3) * lam_1)\n",
    "    # temporal consistency\n",
    "    model.add_loss(K.abs(c_loss(output_3) * lam_2))\n",
    "\n",
    "    # Compile\n",
    "    model.compile(optimizer=tf.keras.optimizers.Adam(learning_rate=learning_rate))\n",
    "    \n",
    "    return model\n",
    "\n",
    "\n",
    "def define_discriminator(n_dense_layers=2, hidden_units=200, learning_rate=0.0001, lam_0=1, lam_1=1, lam_2=0):\n",
    "    input_shape = (None, n_chans)\n",
    "    inputs = tf.keras.Input(shape=input_shape, name='Input_Discriminator')\n",
    "    activation = \"tanh\"\n",
    "    leadfield_ = tf.cast(leadfield, dtype=tf.float32)\n",
    "\n",
    "    # fc = Dense(hidden_units, activation=activation, name=\"HL_D1\")(inputs)\n",
    "    # for i in range(n_dense_layers-1):\n",
    "    #     fc = Dense(hidden_units, activation=activation, name=f\"HL_D{i+2}\")(fc)\n",
    "    # out = Dense(n_dipoles, activation=\"linear\", name=\"Output_Final\")(fc)\n",
    "\n",
    "    fc1 = Dense(hidden_units, activation=activation, name=\"HL_D1\")(inputs)\n",
    "    fc2 = Dense(hidden_units, activation=activation, name=\"HL_D2\")(fc1)\n",
    "    adder = add([fc1, fc2])\n",
    "\n",
    "    fc3 = Dense(hidden_units, activation=activation, name=\"HL_D3\")(adder)\n",
    "    fc4 = Dense(hidden_units, activation=activation, name=\"HL_D4\")(fc3)\n",
    "    adder = add([fc3, fc4])\n",
    "    out = Dense(n_dipoles, activation=\"linear\", name=\"Output_Final\")(adder)\n",
    "    \n",
    "    model = tf.keras.Model(inputs=inputs, outputs=out, name='Discriminator')\n",
    "    # sparsity\n",
    "    model.add_loss(l1_sparsity(out) * lam_1)\n",
    "    # temporal consistency\n",
    "    model.add_loss(c_loss(out) * lam_2)\n",
    "    model.compile(loss=data_loss(leadfield, lam_0=lam_0), optimizer=tf.keras.optimizers.Adam(learning_rate=learning_rate))\n",
    "    \n",
    "    # model.compile(loss=chamfer2(pos), optimizer=tf.keras.optimizers.Adam(learning_rate=learning_rate))\n",
    "    \n",
    "    return model\n",
    "\n",
    "def define_generator(latent_dim=100, sparsity=1):\n",
    "    laplace_operator_ = tf.cast(laplace_operator, dtype=tf.float32)\n",
    "\n",
    "    lrelu = tf.keras.layers.LeakyReLU()\n",
    "    inputs = tf.keras.Input(shape=(latent_dim), name='Input_Generator')\n",
    "    fc = Dense(latent_dim, activation=lrelu, name=\"HL_G1\")(inputs)\n",
    "    gen_out_sparse = Dense(n_dipoles, name=\"Output_Generator\", activation=\"tanh\")(fc)\n",
    "    \n",
    "    # fc2 = Dense(hidden_units, activation=lrelu, name=\"HL_D2\")(fc1)\n",
    "    # adder = add([fc1, fc2])\n",
    "\n",
    "    # fc3 = Dense(hidden_units, activation=lrelu, name=\"HL_D3\")(adder)\n",
    "    # fc4 = Dense(hidden_units, activation=lrelu, name=\"HL_D4\")(fc3)\n",
    "    # adder = add([fc3, fc4])\n",
    "    # gen_out_sparse = Dense(n_dipoles, name=\"Output_Generator\", activation=\"tanh\")(adder)\n",
    "    gen_out_sparse = Activation(square)(gen_out_sparse)\n",
    "    gen_out = Lambda(lambda x: tf.transpose(tf.linalg.matmul(laplace_operator_, tf.transpose(x))), output_shape=(None, n_chans))(gen_out_sparse)\n",
    "\n",
    "    model = tf.keras.Model(inputs=inputs, outputs=gen_out, name='Generator')\n",
    "    model.add_loss(l1_sparsity( gen_out_sparse )*sparsity)\n",
    "\n",
    "    return model\n",
    "\n",
    "def l1_sparsity(x):\n",
    "    return K.mean(K.abs(x)) \n",
    "\n",
    "def batch_diversity(x):\n",
    "    diversity = K.std(K.mean(K.abs(x), axis=0))\n",
    "    return diversity\n",
    "\n",
    "def prep_data(X, y):\n",
    "    X = np.stack([(x - np.mean(x)) / np.std(x) for x in X], axis=0)\n",
    "    y = np.stack([(x / np.max(abs(x))) for x in y], axis=0)\n",
    "    return X, y\n",
    "    \n",
    "def prep_data_sim(sim):\n",
    "    X = np.squeeze(np.stack([eeg.average().data for eeg in sim.eeg_data]))\n",
    "    X = np.stack([(x - np.mean(x)) / np.std(x) for x in X], axis=0)\n",
    "    y = np.squeeze(np.stack([src.data for src in sim.source_data]))\n",
    "    y = np.stack([(x / np.max(abs(x))) for x in y], axis=0)\n",
    "\n",
    "    if len(X.shape) == 2:\n",
    "        X = np.expand_dims(X, axis=-1)\n",
    "        y = np.expand_dims(y, axis=-1)\n",
    "    X = np.swapaxes(X, 1,2)\n",
    "    y = np.swapaxes(y, 1,2)\n",
    "    return X, y\n",
    "\n",
    "def generate_samples(g_model, batch_size, latent_dim):\n",
    "    x_input = np.random.randn(batch_size, latent_dim)\n",
    "    sources = g_model.predict(x_input)\n",
    "    return sources\n",
    "\n",
    "def shuffle_weights(model, weights=None):\n",
    "    \"\"\"Randomly permute the weights in `model`, or the given `weights`.\n",
    "\n",
    "    This is a fast approximation of re-initializing the weights of a model.\n",
    "\n",
    "    Assumes weights are distributed independently of the dimensions of the weight tensors\n",
    "      (i.e., the weights have the same distribution along each dimension).\n",
    "\n",
    "    :param Model model: Modify the weights of the given model.\n",
    "    :param list(ndarray) weights: The model's weights will be replaced by a random permutation of these weights.\n",
    "      If `None`, permute the model's current weights.\n",
    "    \"\"\"\n",
    "    if weights is None:\n",
    "        weights = model.get_weights()\n",
    "    weights = [np.random.permutation(w.flat).reshape(w.shape) for w in weights]\n",
    "    # Faster, but less random: only permutes along the first dimension\n",
    "    # weights = [np.random.permutation(w) for w in weights]\n",
    "    model.set_weights(weights)\n",
    "    return model\n",
    "\n",
    "latent_dim = 100\n",
    "hidden_units = 400\n",
    "learning_rate = 0.001\n",
    "sparsity = 100\n",
    "\n",
    "lam_0 = 0.4 # source_loss\n",
    "lam_1 = 1 # sparsity\n",
    "lam_2 = 0.0 # context\n",
    "\n",
    "# g_model, d_model, gan_model = define_models(latent_dim, hidden_units=hidden_units, reg=reg, learning_rate=0.01)\n",
    "\n",
    "d_model = define_discriminator(learning_rate=learning_rate, hidden_units=hidden_units, lam_0=lam_0, lam_1=lam_1, lam_2=lam_2)\n",
    "g_model = define_generator(latent_dim=latent_dim, sparsity=sparsity)\n",
    "gan_model = define_gan(g_model, d_model, latent_dim, learning_rate=learning_rate, lam_0=lam_0, lam_1=lam_1, lam_2=lam_2)\n",
    "\n",
    "# print(d_model.predict(np.random.randn(1, 64)).shape)\n",
    "# print(g_model.predict(np.random.randn(1, latent_dim)).shape)\n",
    "# print(gan_model.predict(np.random.randn(1, latent_dim)).shape)"
   ]
  },
  {
   "cell_type": "markdown",
   "metadata": {},
   "source": [
    "# Simulate"
   ]
  },
  {
   "cell_type": "code",
   "execution_count": 4,
   "metadata": {},
   "outputs": [
    {
     "name": "stdout",
     "output_type": "stream",
     "text": [
      "Simulating data based on sparse patches.\n"
     ]
    },
    {
     "name": "stderr",
     "output_type": "stream",
     "text": [
      "100%|██████████| 100/100 [00:00<00:00, 221.33it/s]\n",
      "100%|██████████| 100/100 [00:00<00:00, 20053.09it/s]\n",
      "100%|██████████| 100/100 [00:00<00:00, 459.95it/s]\n"
     ]
    }
   ],
   "source": [
    "settings = dict(duration_of_trial=0.01, extents=(1, 40), number_of_sources=(1,15), target_snr=1e99)\n",
    "sim = Simulation(fwd, info, settings=settings).simulate(n_samples=100)\n",
    "X_test = np.stack([eeg.average().data[:, 0] for eeg in sim.eeg_data], axis=0)\n",
    "y_test = np.stack([source.data[:, 0] for source in sim.source_data], axis=0)\n",
    "X_test, y_test = prep_data(X_test, y_test)"
   ]
  },
  {
   "cell_type": "markdown",
   "metadata": {},
   "source": [
    "# Train"
   ]
  },
  {
   "cell_type": "code",
   "execution_count": 5,
   "metadata": {},
   "outputs": [
    {
     "name": "stdout",
     "output_type": "stream",
     "text": [
      "WARNING:tensorflow:Model was constructed with shape (None, None, 64) for input KerasTensor(type_spec=TensorSpec(shape=(None, None, 64), dtype=tf.float32, name='Input_Discriminator'), name='Input_Discriminator', description=\"created by layer 'Input_Discriminator'\"), but it was called on an input with incompatible shape (None, 64).\n",
      "KerasTensor(type_spec=TensorSpec(shape=(None, 64), dtype=tf.float32, name=None), name='layer_normalization_1/add:0', description=\"created by layer 'layer_normalization_1'\") KerasTensor(type_spec=TensorSpec(shape=(None, 64), dtype=tf.float32, name=None), name='lambda_5/transpose_1:0', description=\"created by layer 'lambda_5'\")\n"
     ]
    },
    {
     "data": {
      "application/vnd.jupyter.widget-view+json": {
       "model_id": "25dc578f4d774bd5b94fe8ce43b54061",
       "version_major": 2,
       "version_minor": 0
      },
      "text/plain": [
       "  0%|          | 0/10000 [00:00<?, ?it/s]"
      ]
     },
     "metadata": {},
     "output_type": "display_data"
    },
    {
     "name": "stdout",
     "output_type": "stream",
     "text": [
      "Train Discriminator\n",
      "WARNING:tensorflow:From c:\\Users\\Lukas\\Envs\\esienv\\lib\\site-packages\\tensorflow\\python\\util\\deprecation.py:616: calling map_fn_v2 (from tensorflow.python.ops.map_fn) with dtype is deprecated and will be removed in a future version.\n",
      "Instructions for updating:\n",
      "Use fn_output_signature instead\n",
      "WARNING:tensorflow:Model was constructed with shape (None, None, 64) for input KerasTensor(type_spec=TensorSpec(shape=(None, None, 64), dtype=tf.float32, name='Input_Discriminator'), name='Input_Discriminator', description=\"created by layer 'Input_Discriminator'\"), but it was called on an input with incompatible shape (None, 64).\n",
      "Train Generator\n",
      "WARNING:tensorflow:Model was constructed with shape (None, None, 64) for input KerasTensor(type_spec=TensorSpec(shape=(None, None, 64), dtype=tf.float32, name='Input_Discriminator'), name='Input_Discriminator', description=\"created by layer 'Input_Discriminator'\"), but it was called on an input with incompatible shape (256, 64).\n",
      "WARNING:tensorflow:Model was constructed with shape (None, None, 64) for input KerasTensor(type_spec=TensorSpec(shape=(None, None, 64), dtype=tf.float32, name='Input_Discriminator'), name='Input_Discriminator', description=\"created by layer 'Input_Discriminator'\"), but it was called on an input with incompatible shape (256, 64).\n",
      "test_loss: 0.00, disc-loss: 3264.49, gan-loss: 121.15\n",
      "Train Discriminator\n",
      "Train Generator\n",
      "test_loss: 0.01, disc-loss: 2239.42, gan-loss: 107.64\n",
      "Train Discriminator\n",
      "Train Generator\n",
      "test_loss: 0.01, disc-loss: 1774.48, gan-loss: 89.08\n",
      "Train Discriminator\n",
      "Train Generator\n",
      "test_loss: 0.00, disc-loss: 1545.10, gan-loss: 80.69\n",
      "Train Discriminator\n",
      "Train Generator\n",
      "test_loss: 0.00, disc-loss: 1318.88, gan-loss: 71.29\n",
      "Train Discriminator\n",
      "Train Generator\n",
      "test_loss: 0.00, disc-loss: 1169.61, gan-loss: 63.15\n",
      "Train Discriminator\n",
      "Train Generator\n",
      "test_loss: 0.00, disc-loss: 1069.38, gan-loss: 54.42\n",
      "Train Discriminator\n",
      "Train Generator\n",
      "test_loss: 0.00, disc-loss: 977.08, gan-loss: 52.07\n",
      "Train Discriminator\n",
      "Train Generator\n",
      "test_loss: -0.00, disc-loss: 917.79, gan-loss: 44.16\n",
      "Train Discriminator\n",
      "Train Generator\n",
      "test_loss: -0.00, disc-loss: 822.39, gan-loss: 40.87\n",
      "Train Discriminator\n",
      "Train Generator\n",
      "test_loss: -0.00, disc-loss: 783.88, gan-loss: 36.46\n",
      "Train Discriminator\n",
      "Train Generator\n",
      "test_loss: -0.00, disc-loss: 724.25, gan-loss: 32.99\n",
      "Train Discriminator\n",
      "Train Generator\n",
      "test_loss: -0.00, disc-loss: 699.51, gan-loss: 30.03\n",
      "Train Discriminator\n",
      "Train Generator\n",
      "test_loss: -0.00, disc-loss: 651.19, gan-loss: 28.54\n",
      "Train Discriminator\n",
      "Train Generator\n",
      "test_loss: -0.00, disc-loss: 620.45, gan-loss: 24.87\n",
      "Train Discriminator\n",
      "Train Generator\n",
      "test_loss: -0.00, disc-loss: 586.49, gan-loss: 21.83\n",
      "Train Discriminator\n",
      "Train Generator\n",
      "test_loss: -0.00, disc-loss: 550.96, gan-loss: 20.95\n",
      "Train Discriminator\n",
      "Train Generator\n",
      "test_loss: -0.00, disc-loss: 546.48, gan-loss: 18.84\n",
      "Train Discriminator\n",
      "Train Generator\n",
      "test_loss: 0.00, disc-loss: 522.50, gan-loss: 17.00\n",
      "Train Discriminator\n",
      "Train Generator\n",
      "test_loss: -0.00, disc-loss: 500.42, gan-loss: 15.52\n",
      "Train Discriminator\n",
      "Train Generator\n",
      "test_loss: -0.00, disc-loss: 475.29, gan-loss: 14.09\n",
      "Train Discriminator\n",
      "Train Generator\n",
      "test_loss: -0.00, disc-loss: 456.33, gan-loss: 12.21\n",
      "Train Discriminator\n",
      "Train Generator\n",
      "test_loss: -0.00, disc-loss: 444.63, gan-loss: 11.46\n",
      "Train Discriminator\n",
      "Train Generator\n",
      "test_loss: -0.00, disc-loss: 425.55, gan-loss: 10.48\n",
      "Train Discriminator\n",
      "Train Generator\n",
      "test_loss: -0.00, disc-loss: 413.26, gan-loss: 9.51\n",
      "Train Discriminator\n",
      "Train Generator\n",
      "test_loss: -0.00, disc-loss: 396.91, gan-loss: 9.37\n",
      "Train Discriminator\n",
      "Train Generator\n",
      "test_loss: -0.00, disc-loss: 388.06, gan-loss: 8.34\n",
      "Train Discriminator\n",
      "Train Generator\n",
      "test_loss: -0.00, disc-loss: 379.22, gan-loss: 7.55\n",
      "Train Discriminator\n",
      "Train Generator\n",
      "test_loss: -0.00, disc-loss: 368.78, gan-loss: 7.33\n",
      "Train Discriminator\n",
      "Train Generator\n",
      "test_loss: -0.00, disc-loss: 354.28, gan-loss: 6.56\n",
      "Train Discriminator\n",
      "Train Generator\n",
      "test_loss: -0.00, disc-loss: 335.61, gan-loss: 6.13\n",
      "Train Discriminator\n",
      "Train Generator\n",
      "test_loss: -0.00, disc-loss: 345.22, gan-loss: 5.85\n",
      "Train Discriminator\n",
      "Train Generator\n",
      "test_loss: -0.00, disc-loss: 321.21, gan-loss: 5.41\n",
      "Train Discriminator\n",
      "Train Generator\n",
      "test_loss: 0.00, disc-loss: 314.86, gan-loss: 5.22\n",
      "Train Discriminator\n",
      "Train Generator\n",
      "test_loss: -0.00, disc-loss: 312.83, gan-loss: 4.83\n",
      "Train Discriminator\n",
      "Train Generator\n",
      "test_loss: -0.00, disc-loss: 303.61, gan-loss: 4.43\n",
      "Train Discriminator\n",
      "Train Generator\n",
      "test_loss: -0.00, disc-loss: 288.66, gan-loss: 4.24\n",
      "Train Discriminator\n",
      "Train Generator\n",
      "test_loss: -0.00, disc-loss: 288.76, gan-loss: 4.13\n",
      "Train Discriminator\n",
      "Train Generator\n",
      "test_loss: -0.00, disc-loss: 285.71, gan-loss: 4.06\n",
      "Train Discriminator\n",
      "Train Generator\n",
      "test_loss: -0.00, disc-loss: 266.93, gan-loss: 3.67\n",
      "Train Discriminator\n",
      "Train Generator\n",
      "test_loss: -0.01, disc-loss: 266.82, gan-loss: 3.54\n",
      "Train Discriminator\n",
      "Train Generator\n",
      "test_loss: -0.01, disc-loss: 265.64, gan-loss: 3.22\n",
      "Train Discriminator\n",
      "Train Generator\n",
      "test_loss: -0.00, disc-loss: 259.39, gan-loss: 3.24\n",
      "Train Discriminator\n",
      "Train Generator\n",
      "test_loss: -0.00, disc-loss: 248.55, gan-loss: 3.00\n",
      "Train Discriminator\n",
      "Train Generator\n",
      "test_loss: -0.00, disc-loss: 250.99, gan-loss: 2.86\n",
      "Train Discriminator\n",
      "Train Generator\n",
      "test_loss: -0.00, disc-loss: 235.85, gan-loss: 2.71\n",
      "Train Discriminator\n",
      "Train Generator\n",
      "test_loss: 0.00, disc-loss: 234.12, gan-loss: 2.65\n",
      "Train Discriminator\n",
      "Train Generator\n",
      "test_loss: 0.00, disc-loss: 232.07, gan-loss: 2.60\n",
      "Train Discriminator\n",
      "Train Generator\n",
      "test_loss: -0.00, disc-loss: 227.36, gan-loss: 2.36\n",
      "Train Discriminator\n",
      "Train Generator\n",
      "test_loss: -0.00, disc-loss: 225.91, gan-loss: 2.36\n",
      "Train Discriminator\n",
      "Train Generator\n",
      "test_loss: -0.01, disc-loss: 217.17, gan-loss: 2.30\n",
      "Train Discriminator\n",
      "Train Generator\n",
      "test_loss: -0.00, disc-loss: 218.58, gan-loss: 2.14\n",
      "Train Discriminator\n",
      "Train Generator\n",
      "test_loss: -0.00, disc-loss: 213.59, gan-loss: 2.14\n",
      "Train Discriminator\n",
      "Train Generator\n",
      "test_loss: -0.01, disc-loss: 205.34, gan-loss: 1.95\n",
      "Train Discriminator\n",
      "Train Generator\n",
      "test_loss: -0.00, disc-loss: 206.96, gan-loss: 1.97\n",
      "Train Discriminator\n",
      "Train Generator\n",
      "test_loss: -0.00, disc-loss: 205.57, gan-loss: 1.94\n",
      "Train Discriminator\n",
      "Train Generator\n",
      "test_loss: -0.00, disc-loss: 188.13, gan-loss: 1.84\n",
      "Train Discriminator\n",
      "Train Generator\n",
      "test_loss: -0.01, disc-loss: 194.68, gan-loss: 1.78\n",
      "Train Discriminator\n",
      "Train Generator\n",
      "test_loss: -0.01, disc-loss: 190.42, gan-loss: 1.79\n",
      "Train Discriminator\n",
      "Train Generator\n",
      "test_loss: 0.00, disc-loss: 182.68, gan-loss: 1.68\n",
      "Train Discriminator\n",
      "Train Generator\n",
      "test_loss: -0.00, disc-loss: 180.70, gan-loss: 1.68\n",
      "Train Discriminator\n",
      "Train Generator\n",
      "test_loss: -0.00, disc-loss: 188.88, gan-loss: 1.59\n",
      "Train Discriminator\n",
      "Train Generator\n",
      "test_loss: -0.00, disc-loss: 175.87, gan-loss: 1.51\n",
      "Train Discriminator\n",
      "Train Generator\n",
      "test_loss: -0.00, disc-loss: 179.20, gan-loss: 1.51\n",
      "Train Discriminator\n",
      "Train Generator\n",
      "test_loss: -0.00, disc-loss: 170.76, gan-loss: 1.45\n",
      "Train Discriminator\n",
      "Train Generator\n",
      "test_loss: -0.00, disc-loss: 178.51, gan-loss: 1.44\n",
      "Train Discriminator\n",
      "Train Generator\n",
      "test_loss: -0.00, disc-loss: 173.82, gan-loss: 1.44\n",
      "Train Discriminator\n",
      "Train Generator\n",
      "test_loss: -0.00, disc-loss: 162.66, gan-loss: 1.43\n",
      "Train Discriminator\n",
      "Train Generator\n",
      "test_loss: -0.01, disc-loss: 170.33, gan-loss: 1.32\n",
      "Train Discriminator\n",
      "Train Generator\n",
      "test_loss: -0.01, disc-loss: 169.62, gan-loss: 1.34\n",
      "Train Discriminator\n",
      "Train Generator\n",
      "test_loss: -0.00, disc-loss: 156.66, gan-loss: 1.30\n",
      "Train Discriminator\n",
      "Train Generator\n",
      "test_loss: -0.00, disc-loss: 156.99, gan-loss: 1.34\n",
      "Train Discriminator\n",
      "Train Generator\n",
      "test_loss: -0.00, disc-loss: 155.06, gan-loss: 1.28\n",
      "Train Discriminator\n"
     ]
    },
    {
     "ename": "KeyboardInterrupt",
     "evalue": "",
     "output_type": "error",
     "traceback": [
      "\u001b[1;31m---------------------------------------------------------------------------\u001b[0m",
      "\u001b[1;31mKeyboardInterrupt\u001b[0m                         Traceback (most recent call last)",
      "\u001b[1;32m~\\AppData\\Local\\Temp/ipykernel_7636/2235446310.py\u001b[0m in \u001b[0;36m<module>\u001b[1;34m\u001b[0m\n\u001b[0;32m     56\u001b[0m \u001b[1;33m\u001b[0m\u001b[0m\n\u001b[0;32m     57\u001b[0m         \u001b[1;32mfor\u001b[0m \u001b[0m_\u001b[0m \u001b[1;32min\u001b[0m \u001b[0mrange\u001b[0m\u001b[1;33m(\u001b[0m\u001b[1;36m1\u001b[0m\u001b[1;33m)\u001b[0m\u001b[1;33m:\u001b[0m\u001b[1;33m\u001b[0m\u001b[1;33m\u001b[0m\u001b[0m\n\u001b[1;32m---> 58\u001b[1;33m             \u001b[0md_loss\u001b[0m \u001b[1;33m=\u001b[0m \u001b[0md_model\u001b[0m\u001b[1;33m.\u001b[0m\u001b[0mtrain_on_batch\u001b[0m\u001b[1;33m(\u001b[0m\u001b[0mX_history\u001b[0m\u001b[1;33m[\u001b[0m\u001b[1;33m:\u001b[0m\u001b[0mbatch_size\u001b[0m\u001b[1;33m]\u001b[0m\u001b[1;33m,\u001b[0m \u001b[0my_history\u001b[0m\u001b[1;33m[\u001b[0m\u001b[1;33m:\u001b[0m\u001b[0mbatch_size\u001b[0m\u001b[1;33m]\u001b[0m\u001b[1;33m)\u001b[0m\u001b[1;33m\u001b[0m\u001b[1;33m\u001b[0m\u001b[0m\n\u001b[0m\u001b[0;32m     59\u001b[0m \u001b[1;33m\u001b[0m\u001b[0m\n\u001b[0;32m     60\u001b[0m         \u001b[1;31m# d_loss = d_model.train_on_batch(X, y)\u001b[0m\u001b[1;33m\u001b[0m\u001b[1;33m\u001b[0m\u001b[1;33m\u001b[0m\u001b[0m\n",
      "\u001b[1;32mc:\\Users\\Lukas\\Envs\\esienv\\lib\\site-packages\\keras\\engine\\training.py\u001b[0m in \u001b[0;36mtrain_on_batch\u001b[1;34m(self, x, y, sample_weight, class_weight, reset_metrics, return_dict)\u001b[0m\n\u001b[0;32m   2091\u001b[0m                                                     class_weight)\n\u001b[0;32m   2092\u001b[0m       \u001b[0mself\u001b[0m\u001b[1;33m.\u001b[0m\u001b[0mtrain_function\u001b[0m \u001b[1;33m=\u001b[0m \u001b[0mself\u001b[0m\u001b[1;33m.\u001b[0m\u001b[0mmake_train_function\u001b[0m\u001b[1;33m(\u001b[0m\u001b[1;33m)\u001b[0m\u001b[1;33m\u001b[0m\u001b[1;33m\u001b[0m\u001b[0m\n\u001b[1;32m-> 2093\u001b[1;33m       \u001b[0mlogs\u001b[0m \u001b[1;33m=\u001b[0m \u001b[0mself\u001b[0m\u001b[1;33m.\u001b[0m\u001b[0mtrain_function\u001b[0m\u001b[1;33m(\u001b[0m\u001b[0miterator\u001b[0m\u001b[1;33m)\u001b[0m\u001b[1;33m\u001b[0m\u001b[1;33m\u001b[0m\u001b[0m\n\u001b[0m\u001b[0;32m   2094\u001b[0m \u001b[1;33m\u001b[0m\u001b[0m\n\u001b[0;32m   2095\u001b[0m     \u001b[0mlogs\u001b[0m \u001b[1;33m=\u001b[0m \u001b[0mtf_utils\u001b[0m\u001b[1;33m.\u001b[0m\u001b[0msync_to_numpy_or_python_type\u001b[0m\u001b[1;33m(\u001b[0m\u001b[0mlogs\u001b[0m\u001b[1;33m)\u001b[0m\u001b[1;33m\u001b[0m\u001b[1;33m\u001b[0m\u001b[0m\n",
      "\u001b[1;32mc:\\Users\\Lukas\\Envs\\esienv\\lib\\site-packages\\tensorflow\\python\\util\\traceback_utils.py\u001b[0m in \u001b[0;36merror_handler\u001b[1;34m(*args, **kwargs)\u001b[0m\n\u001b[0;32m    148\u001b[0m     \u001b[0mfiltered_tb\u001b[0m \u001b[1;33m=\u001b[0m \u001b[1;32mNone\u001b[0m\u001b[1;33m\u001b[0m\u001b[1;33m\u001b[0m\u001b[0m\n\u001b[0;32m    149\u001b[0m     \u001b[1;32mtry\u001b[0m\u001b[1;33m:\u001b[0m\u001b[1;33m\u001b[0m\u001b[1;33m\u001b[0m\u001b[0m\n\u001b[1;32m--> 150\u001b[1;33m       \u001b[1;32mreturn\u001b[0m \u001b[0mfn\u001b[0m\u001b[1;33m(\u001b[0m\u001b[1;33m*\u001b[0m\u001b[0margs\u001b[0m\u001b[1;33m,\u001b[0m \u001b[1;33m**\u001b[0m\u001b[0mkwargs\u001b[0m\u001b[1;33m)\u001b[0m\u001b[1;33m\u001b[0m\u001b[1;33m\u001b[0m\u001b[0m\n\u001b[0m\u001b[0;32m    151\u001b[0m     \u001b[1;32mexcept\u001b[0m \u001b[0mException\u001b[0m \u001b[1;32mas\u001b[0m \u001b[0me\u001b[0m\u001b[1;33m:\u001b[0m\u001b[1;33m\u001b[0m\u001b[1;33m\u001b[0m\u001b[0m\n\u001b[0;32m    152\u001b[0m       \u001b[0mfiltered_tb\u001b[0m \u001b[1;33m=\u001b[0m \u001b[0m_process_traceback_frames\u001b[0m\u001b[1;33m(\u001b[0m\u001b[0me\u001b[0m\u001b[1;33m.\u001b[0m\u001b[0m__traceback__\u001b[0m\u001b[1;33m)\u001b[0m\u001b[1;33m\u001b[0m\u001b[1;33m\u001b[0m\u001b[0m\n",
      "\u001b[1;32mc:\\Users\\Lukas\\Envs\\esienv\\lib\\site-packages\\tensorflow\\python\\eager\\def_function.py\u001b[0m in \u001b[0;36m__call__\u001b[1;34m(self, *args, **kwds)\u001b[0m\n\u001b[0;32m    913\u001b[0m \u001b[1;33m\u001b[0m\u001b[0m\n\u001b[0;32m    914\u001b[0m       \u001b[1;32mwith\u001b[0m \u001b[0mOptionalXlaContext\u001b[0m\u001b[1;33m(\u001b[0m\u001b[0mself\u001b[0m\u001b[1;33m.\u001b[0m\u001b[0m_jit_compile\u001b[0m\u001b[1;33m)\u001b[0m\u001b[1;33m:\u001b[0m\u001b[1;33m\u001b[0m\u001b[1;33m\u001b[0m\u001b[0m\n\u001b[1;32m--> 915\u001b[1;33m         \u001b[0mresult\u001b[0m \u001b[1;33m=\u001b[0m \u001b[0mself\u001b[0m\u001b[1;33m.\u001b[0m\u001b[0m_call\u001b[0m\u001b[1;33m(\u001b[0m\u001b[1;33m*\u001b[0m\u001b[0margs\u001b[0m\u001b[1;33m,\u001b[0m \u001b[1;33m**\u001b[0m\u001b[0mkwds\u001b[0m\u001b[1;33m)\u001b[0m\u001b[1;33m\u001b[0m\u001b[1;33m\u001b[0m\u001b[0m\n\u001b[0m\u001b[0;32m    916\u001b[0m \u001b[1;33m\u001b[0m\u001b[0m\n\u001b[0;32m    917\u001b[0m       \u001b[0mnew_tracing_count\u001b[0m \u001b[1;33m=\u001b[0m \u001b[0mself\u001b[0m\u001b[1;33m.\u001b[0m\u001b[0mexperimental_get_tracing_count\u001b[0m\u001b[1;33m(\u001b[0m\u001b[1;33m)\u001b[0m\u001b[1;33m\u001b[0m\u001b[1;33m\u001b[0m\u001b[0m\n",
      "\u001b[1;32mc:\\Users\\Lukas\\Envs\\esienv\\lib\\site-packages\\tensorflow\\python\\eager\\def_function.py\u001b[0m in \u001b[0;36m_call\u001b[1;34m(self, *args, **kwds)\u001b[0m\n\u001b[0;32m    945\u001b[0m       \u001b[1;31m# In this case we have created variables on the first call, so we run the\u001b[0m\u001b[1;33m\u001b[0m\u001b[1;33m\u001b[0m\u001b[1;33m\u001b[0m\u001b[0m\n\u001b[0;32m    946\u001b[0m       \u001b[1;31m# defunned version which is guaranteed to never create variables.\u001b[0m\u001b[1;33m\u001b[0m\u001b[1;33m\u001b[0m\u001b[1;33m\u001b[0m\u001b[0m\n\u001b[1;32m--> 947\u001b[1;33m       \u001b[1;32mreturn\u001b[0m \u001b[0mself\u001b[0m\u001b[1;33m.\u001b[0m\u001b[0m_stateless_fn\u001b[0m\u001b[1;33m(\u001b[0m\u001b[1;33m*\u001b[0m\u001b[0margs\u001b[0m\u001b[1;33m,\u001b[0m \u001b[1;33m**\u001b[0m\u001b[0mkwds\u001b[0m\u001b[1;33m)\u001b[0m  \u001b[1;31m# pylint: disable=not-callable\u001b[0m\u001b[1;33m\u001b[0m\u001b[1;33m\u001b[0m\u001b[0m\n\u001b[0m\u001b[0;32m    948\u001b[0m     \u001b[1;32melif\u001b[0m \u001b[0mself\u001b[0m\u001b[1;33m.\u001b[0m\u001b[0m_stateful_fn\u001b[0m \u001b[1;32mis\u001b[0m \u001b[1;32mnot\u001b[0m \u001b[1;32mNone\u001b[0m\u001b[1;33m:\u001b[0m\u001b[1;33m\u001b[0m\u001b[1;33m\u001b[0m\u001b[0m\n\u001b[0;32m    949\u001b[0m       \u001b[1;31m# Release the lock early so that multiple threads can perform the call\u001b[0m\u001b[1;33m\u001b[0m\u001b[1;33m\u001b[0m\u001b[1;33m\u001b[0m\u001b[0m\n",
      "\u001b[1;32mc:\\Users\\Lukas\\Envs\\esienv\\lib\\site-packages\\tensorflow\\python\\eager\\function.py\u001b[0m in \u001b[0;36m__call__\u001b[1;34m(self, *args, **kwargs)\u001b[0m\n\u001b[0;32m   2954\u001b[0m       (graph_function,\n\u001b[0;32m   2955\u001b[0m        filtered_flat_args) = self._maybe_define_function(args, kwargs)\n\u001b[1;32m-> 2956\u001b[1;33m     return graph_function._call_flat(\n\u001b[0m\u001b[0;32m   2957\u001b[0m         filtered_flat_args, captured_inputs=graph_function.captured_inputs)  # pylint: disable=protected-access\n\u001b[0;32m   2958\u001b[0m \u001b[1;33m\u001b[0m\u001b[0m\n",
      "\u001b[1;32mc:\\Users\\Lukas\\Envs\\esienv\\lib\\site-packages\\tensorflow\\python\\eager\\function.py\u001b[0m in \u001b[0;36m_call_flat\u001b[1;34m(self, args, captured_inputs, cancellation_manager)\u001b[0m\n\u001b[0;32m   1851\u001b[0m         and executing_eagerly):\n\u001b[0;32m   1852\u001b[0m       \u001b[1;31m# No tape is watching; skip to running the function.\u001b[0m\u001b[1;33m\u001b[0m\u001b[1;33m\u001b[0m\u001b[1;33m\u001b[0m\u001b[0m\n\u001b[1;32m-> 1853\u001b[1;33m       return self._build_call_outputs(self._inference_function.call(\n\u001b[0m\u001b[0;32m   1854\u001b[0m           ctx, args, cancellation_manager=cancellation_manager))\n\u001b[0;32m   1855\u001b[0m     forward_backward = self._select_forward_and_backward_functions(\n",
      "\u001b[1;32mc:\\Users\\Lukas\\Envs\\esienv\\lib\\site-packages\\tensorflow\\python\\eager\\function.py\u001b[0m in \u001b[0;36mcall\u001b[1;34m(self, ctx, args, cancellation_manager)\u001b[0m\n\u001b[0;32m    497\u001b[0m       \u001b[1;32mwith\u001b[0m \u001b[0m_InterpolateFunctionError\u001b[0m\u001b[1;33m(\u001b[0m\u001b[0mself\u001b[0m\u001b[1;33m)\u001b[0m\u001b[1;33m:\u001b[0m\u001b[1;33m\u001b[0m\u001b[1;33m\u001b[0m\u001b[0m\n\u001b[0;32m    498\u001b[0m         \u001b[1;32mif\u001b[0m \u001b[0mcancellation_manager\u001b[0m \u001b[1;32mis\u001b[0m \u001b[1;32mNone\u001b[0m\u001b[1;33m:\u001b[0m\u001b[1;33m\u001b[0m\u001b[1;33m\u001b[0m\u001b[0m\n\u001b[1;32m--> 499\u001b[1;33m           outputs = execute.execute(\n\u001b[0m\u001b[0;32m    500\u001b[0m               \u001b[0mstr\u001b[0m\u001b[1;33m(\u001b[0m\u001b[0mself\u001b[0m\u001b[1;33m.\u001b[0m\u001b[0msignature\u001b[0m\u001b[1;33m.\u001b[0m\u001b[0mname\u001b[0m\u001b[1;33m)\u001b[0m\u001b[1;33m,\u001b[0m\u001b[1;33m\u001b[0m\u001b[1;33m\u001b[0m\u001b[0m\n\u001b[0;32m    501\u001b[0m               \u001b[0mnum_outputs\u001b[0m\u001b[1;33m=\u001b[0m\u001b[0mself\u001b[0m\u001b[1;33m.\u001b[0m\u001b[0m_num_outputs\u001b[0m\u001b[1;33m,\u001b[0m\u001b[1;33m\u001b[0m\u001b[1;33m\u001b[0m\u001b[0m\n",
      "\u001b[1;32mc:\\Users\\Lukas\\Envs\\esienv\\lib\\site-packages\\tensorflow\\python\\eager\\execute.py\u001b[0m in \u001b[0;36mquick_execute\u001b[1;34m(op_name, num_outputs, inputs, attrs, ctx, name)\u001b[0m\n\u001b[0;32m     52\u001b[0m   \u001b[1;32mtry\u001b[0m\u001b[1;33m:\u001b[0m\u001b[1;33m\u001b[0m\u001b[1;33m\u001b[0m\u001b[0m\n\u001b[0;32m     53\u001b[0m     \u001b[0mctx\u001b[0m\u001b[1;33m.\u001b[0m\u001b[0mensure_initialized\u001b[0m\u001b[1;33m(\u001b[0m\u001b[1;33m)\u001b[0m\u001b[1;33m\u001b[0m\u001b[1;33m\u001b[0m\u001b[0m\n\u001b[1;32m---> 54\u001b[1;33m     tensors = pywrap_tfe.TFE_Py_Execute(ctx._handle, device_name, op_name,\n\u001b[0m\u001b[0;32m     55\u001b[0m                                         inputs, attrs, num_outputs)\n\u001b[0;32m     56\u001b[0m   \u001b[1;32mexcept\u001b[0m \u001b[0mcore\u001b[0m\u001b[1;33m.\u001b[0m\u001b[0m_NotOkStatusException\u001b[0m \u001b[1;32mas\u001b[0m \u001b[0me\u001b[0m\u001b[1;33m:\u001b[0m\u001b[1;33m\u001b[0m\u001b[1;33m\u001b[0m\u001b[0m\n",
      "\u001b[1;31mKeyboardInterrupt\u001b[0m: "
     ]
    }
   ],
   "source": [
    "from tqdm.notebook import tqdm\n",
    "n_chans, n_dipoles = leadfield.shape\n",
    "n_epochs = 10000\n",
    "batch_size = 256\n",
    "latent_dim = 100\n",
    "hidden_units = 400\n",
    "disc_mod = 1\n",
    "gen_mod = 1\n",
    "reps = 1\n",
    "learning_rate = 0.001\n",
    "sparsity = 10000\n",
    "\n",
    "lam_0 = 0.1 # source_loss\n",
    "lam_1 = sparsity # sparsity\n",
    "lam_2 = 0.0 # context\n",
    "history_size = batch_size*50\n",
    "\n",
    "# g_model, d_model, gan_model = define_models(latent_dim, hidden_units=hidden_units, reg=reg, learning_rate=0.01)\n",
    "\n",
    "d_model = define_discriminator(learning_rate=learning_rate, hidden_units=hidden_units, lam_0=lam_0, lam_1=lam_1, lam_2=lam_2)\n",
    "g_model = define_generator(latent_dim=latent_dim, sparsity=sparsity)\n",
    "gan_model = define_gan(g_model, d_model, latent_dim, learning_rate=learning_rate, lam_0=lam_0, lam_1=lam_1, lam_2=lam_2)\n",
    "\n",
    "n_time = 1\n",
    "X_history = np.zeros((0, n_time, n_chans))\n",
    "y_history = np.zeros((0, n_time, n_dipoles))\n",
    "gan_losses = np.zeros(n_epochs)\n",
    "d_losses = np.zeros(n_epochs)\n",
    "test_losses = np.zeros(n_epochs)\n",
    "generated = []\n",
    "\n",
    "for i in tqdm(range(n_epochs)):\n",
    "    if i % disc_mod == 0:\n",
    "        print(\"Train Discriminator\")\n",
    "        y = generate_samples(g_model, batch_size, latent_dim)\n",
    "        X = (leadfield @ y.T).T\n",
    "        X, _ = prep_data(X,y)\n",
    "        # Add temporal dimension\n",
    "        X = X[:, np.newaxis]\n",
    "        y = y[:, np.newaxis]\n",
    "\n",
    "        generated.append(abs(y).mean(axis=0))\n",
    "        X_history = np.append(X_history, X, axis=0)\n",
    "        y_history = np.append(y_history, y, axis=0)\n",
    "        idc = np.arange(X_history.shape[0])\n",
    "        np.random.shuffle(idc)\n",
    "        X_history = X_history[idc]\n",
    "        y_history = y_history[idc]\n",
    "        \n",
    "        if X_history.shape[0]>history_size:\n",
    "            X_history = X_history[:history_size]\n",
    "            y_history = y_history[:history_size]\n",
    "        \n",
    "\n",
    "        \n",
    "\n",
    "        for _ in range(1):\n",
    "            d_loss = d_model.train_on_batch(X_history[:batch_size], y_history[:batch_size])\n",
    "        \n",
    "        # d_loss = d_model.train_on_batch(X, y)\n",
    "        d_model.trainable = True\n",
    "        # test_loss = d_model.evaluate(X_test, y_test, verbose=0)\n",
    "        test_loss = tf.keras.losses.CosineSimilarity()(tf.cast(y_test, dtype=tf.float32), tf.cast(d_model.predict(X_test), dtype=tf.float32)).numpy()\n",
    "        test_losses[i] = test_loss\n",
    "\n",
    "\n",
    "\n",
    "    if i % gen_mod == 0:# and d_loss<-0.15:\n",
    "        g_model = define_generator(latent_dim=latent_dim, sparsity=sparsity)\n",
    "        gan_model.layers[1] = g_model\n",
    "        print(\"Train Generator\")\n",
    "\n",
    "        x_input = np.random.randn(batch_size, latent_dim)\n",
    "        X = np.ones((batch_size, n_dipoles))\n",
    "        d_model.trainable = False\n",
    "        gan_model.layers[4].trainable = False\n",
    "        for _ in range(reps):\n",
    "            gan_loss = gan_model.train_on_batch(x_input, X)\n",
    "            # print(f\"\\tintermediate gan_loss: {gan_loss}\")\n",
    "        d_model.trainable = True\n",
    "        gan_model.layers[4].trainable = True\n",
    "      \n",
    "    print(f'test_loss: {test_loss:.2f}, disc-loss: {d_loss:.2f}, gan-loss: {gan_loss:.2f}')\n",
    "    d_losses[i] = d_loss\n",
    "    \n",
    "    gan_losses[i] = gan_loss"
   ]
  },
  {
   "cell_type": "markdown",
   "metadata": {},
   "source": [
    "# Tests"
   ]
  },
  {
   "cell_type": "code",
   "execution_count": 10,
   "metadata": {},
   "outputs": [
    {
     "name": "stdout",
     "output_type": "stream",
     "text": [
      "MSE:  0.015316354 Cos:  tf.Tensor(-0.10903427, shape=(), dtype=float32)\n",
      "No projector specified for this dataset. Please consider the method self.add_proj.\n"
     ]
    },
    {
     "name": "stderr",
     "output_type": "stream",
     "text": [
      "c:\\Users\\Lukas\\Envs\\esienv\\lib\\site-packages\\mne\\viz\\evoked.py:521: UserWarning: Attempting to set identical left == right == 0.0 results in singular transformations; automatically expanding.\n",
      "  ax.set_xlim(xlim)\n"
     ]
    },
    {
     "data": {
      "image/png": "[encoded data removed]",
      "text/plain": [
       "<Figure size 576x302.4 with 5 Axes>"
      ]
     },
     "metadata": {
      "needs_background": "light"
     },
     "output_type": "display_data"
    },
    {
     "name": "stdout",
     "output_type": "stream",
     "text": [
      "No projector specified for this dataset. Please consider the method self.add_proj.\n"
     ]
    },
    {
     "name": "stderr",
     "output_type": "stream",
     "text": [
      "c:\\Users\\Lukas\\Envs\\esienv\\lib\\site-packages\\mne\\viz\\evoked.py:521: UserWarning: Attempting to set identical left == right == 0.0 results in singular transformations; automatically expanding.\n",
      "  ax.set_xlim(xlim)\n"
     ]
    },
    {
     "data": {
      "image/png": "[encoded data removed]",
      "text/plain": [
       "<Figure size 576x302.4 with 5 Axes>"
      ]
     },
     "metadata": {
      "needs_background": "light"
     },
     "output_type": "display_data"
    },
    {
     "data": {
      "image/png": "[encoded data removed]",
      "text/plain": [
       "<Figure size 576x302.4 with 5 Axes>"
      ]
     },
     "execution_count": 10,
     "metadata": {},
     "output_type": "execute_result"
    },
    {
     "name": "stdout",
     "output_type": "stream",
     "text": [
      "Using control points [0.13471769 0.15592352 0.26648447]\n",
      "Using control points [0.24101596 0.3338956  1.15487948]\n"
     ]
    }
   ],
   "source": [
    "stc_ = sim.source_data[0].copy()\n",
    "noise = np.random.randn(1, latent_dim)\n",
    "src = g_model(noise).numpy().T\n",
    "eeg = leadfield @ src\n",
    "eeg -= eeg.mean()\n",
    "eeg /= eeg.std()\n",
    "src_hat = d_model(eeg.T[np.newaxis]).numpy()[0].T\n",
    "\n",
    "print(\"MSE: \", np.mean((src-src_hat)**2), \"Cos: \", tf.keras.losses.CosineSimilarity()(src, src_hat))\n",
    "\n",
    "\n",
    "stc_.data = src\n",
    "stc_.plot(**plot_params)\n",
    "\n",
    "stc_.data = src_hat\n",
    "stc_.plot(**plot_params)\n",
    "\n",
    "evoked = mne.EvokedArray(eeg, info)\n",
    "evoked.plot_joint(title=\"True\")\n",
    "\n",
    "evoked_hat = util.get_eeg_from_source(stc_, fwd, info, tmin=evoked.tmin)\n",
    "evoked_hat.plot_joint(title=\"Predicted\")"
   ]
  },
  {
   "cell_type": "code",
   "execution_count": 24,
   "metadata": {},
   "outputs": [
    {
     "data": {
      "text/plain": [
       "<mne.viz._brain._brain.Brain at 0x22bfbb41ac0>"
      ]
     },
     "execution_count": 24,
     "metadata": {},
     "output_type": "execute_result"
    }
   ],
   "source": [
    "stc = sim.source_data[0].copy()\n",
    "stc_ = stc.copy()\n",
    "stc_.data = np.stack(generated, axis=0).T\n",
    "stc_.plot(**plot_params)"
   ]
  },
  {
   "cell_type": "code",
   "execution_count": 73,
   "metadata": {},
   "outputs": [
    {
     "name": "stdout",
     "output_type": "stream",
     "text": [
      "Batch Diversity:  0.02836658 L1:  0.104076944\n"
     ]
    }
   ],
   "source": [
    "%matplotlib qt\n",
    "plt.figure()\n",
    "plt.plot(d_losses, label=\"Discriminator Loss\")\n",
    "plt.plot(gan_losses, label=\"GAN Loss\")\n",
    "plt.plot(test_losses, label=\"Test Loss\")\n",
    "plt.legend()\n",
    "\n",
    "# # g_model, d_model, gan_model = define_models(latent_dim, hidden_units=hidden_units, reg=reg)\n",
    "\n",
    "y = generate_samples(g_model, 1000, latent_dim)\n",
    "data = abs(y).mean(axis=0)\n",
    "stc_ = stc.copy()\n",
    "stc_.data[:, 0] = data\n",
    "stc_.plot(**plot_params)\n",
    "\n",
    "stc_.data = y.T\n",
    "stc_.plot(**plot_params)\n",
    "\n",
    "plt.figure()\n",
    "plt.hist(y.flatten())\n",
    "print(\"Batch Diversity: \", batch_diversity(y).numpy(), \"L1: \", l1_sparsity(y).numpy())"
   ]
  },
  {
   "cell_type": "markdown",
   "metadata": {},
   "source": [
    "# Evaluate"
   ]
  },
  {
   "cell_type": "markdown",
   "metadata": {},
   "source": [
    "## Simulation"
   ]
  },
  {
   "cell_type": "code",
   "execution_count": 22,
   "metadata": {},
   "outputs": [
    {
     "name": "stdout",
     "output_type": "stream",
     "text": [
      "Simulating data based on sparse patches.\n"
     ]
    },
    {
     "name": "stderr",
     "output_type": "stream",
     "text": [
      "100%|██████████| 2/2 [00:00<00:00, 13.46it/s]\n",
      "100%|██████████| 2/2 [00:00<00:00, 2005.40it/s]\n",
      "100%|██████████| 2/2 [00:00<00:00, 125.33it/s]\n"
     ]
    },
    {
     "name": "stdout",
     "output_type": "stream",
     "text": [
      "auc=0.50, cosine=-0.01984214410185814, r=0.02, p=0.0568\n",
      "\n"
     ]
    },
    {
     "name": "stdout",
     "output_type": "stream",
     "text": [
      "Using control points [0.         0.         0.54761494]\n"
     ]
    }
   ],
   "source": [
    "n_samples = 2\n",
    "settings = dict(duration_of_trial=0.1, extents=(1,40), number_of_sources=(1,15), target_snr=1e99, source_number_weighting=False)\n",
    "# settings = dict(duration_of_trial=0.1, extents=(1,25), number_of_sources=15, target_snr=1e99)\n",
    "# settings = dict(duration_of_trial=0.01, extents=30, number_of_sources=1, target_snr=1e99)\n",
    "\n",
    "sim_test = Simulation(fwd, info, settings=settings).simulate(n_samples=n_samples)\n",
    "\n",
    "X = np.stack([eeg.average().data for eeg in sim_test.eeg_data], axis=0)\n",
    "y = np.stack([src.data for src in sim_test.source_data], axis=0)\n",
    "\n",
    "X, y = prep_data(X[0].T, y[0].T)\n",
    "\n",
    "y_hat = d_model.predict(X)\n",
    "y_hat.shape\n",
    "stc = sim_test.source_data[0]\n",
    "stc.data /= np.max(abs(stc.data))\n",
    "stc.plot(**plot_params, brain_kwargs=dict(title=\"Ground Truth Sim\"), clim=dict(kind='percent', pos_lims=(0, 50, 100)))\n",
    "\n",
    "stc_hat = stc.copy()\n",
    "stc_hat.data = y_hat.T\n",
    "stc_hat.plot(**plot_params, brain_kwargs=dict(title=\"GAN\"))\n",
    "from scipy.stats import pearsonr\n",
    "from esinet.evaluate import eval_auc\n",
    "_, pos = util.unpack_fwd(fwd)[1:3]\n",
    "auc = np.mean([np.mean(eval_auc(y_true, y_pred, pos)) for y_true, y_pred in zip(stc.data.T, stc_hat.data.T)])\n",
    "cosine = tf.keras.losses.CosineSimilarity()(tf.cast(stc.data.T, dtype=tf.float32), tf.cast(stc_hat.data.T, dtype=tf.float32)).numpy()\n",
    "r,p = pearsonr(stc.data.flatten(), stc_hat.data.flatten())\n",
    "print(f'auc={auc:.2f}, cosine={cosine}, r={r:.2f}, p={p:.4f}\\n')"
   ]
  },
  {
   "cell_type": "code",
   "execution_count": 65,
   "metadata": {},
   "outputs": [
    {
     "name": "stdout",
     "output_type": "stream",
     "text": [
      "auc=0.71, cosine=-0.28090018033981323, r=0.29, p=0.0000\n",
      "\n"
     ]
    },
    {
     "name": "stdout",
     "output_type": "stream",
     "text": [
      "Using control points [0.24839359 0.29418828 0.67462353]\n",
      "Using control points [0.09708627 0.10512347 0.18506896]\n",
      "Using control points [0.36407487 0.75362099 0.95651853]\n"
     ]
    }
   ],
   "source": [
    "sys.path.insert(0, '../../invert/')\n",
    "from invert.solvers.minimum_norm_estimates import SolverDynamicStatisticalParametricMapping, SolverMinimumNorm\n",
    "from invert.solvers.wrop import SolverLAURA\n",
    "from invert.solvers.empirical_bayes import SolverChampagne\n",
    "\n",
    "# solver = SolverLAURA().make_inverse_operator(fwd)\n",
    "# solver = SolverChampagne().make_inverse_operator(fwd)\n",
    "solver = SolverMinimumNorm().make_inverse_operator(fwd)\n",
    "\n",
    "stc_mne = solver.apply_inverse_operator(sim_test.eeg_data[0].average())\n",
    "stc_mne.data = stc_mne.data / np.max(abs(stc_mne.data))\n",
    "stc_mne.plot(**plot_params, brain_kwargs=dict(title=solver.name))\n",
    "r,p = pearsonr(stc.data.flatten(), stc_mne.data.flatten())\n",
    "auc = np.mean([np.mean(eval_auc(y_true, y_pred, pos)) for y_true, y_pred in zip(stc.data.T, stc_mne.data.T)])\n",
    "cosine = tf.keras.losses.CosineSimilarity()(tf.cast(stc.data.T, dtype=tf.float32), tf.cast(stc_mne.data.T, dtype=tf.float32)).numpy()\n",
    "\n",
    "print(f'auc={auc:.2f}, cosine={cosine}, r={r:.2f}, p={p:.4f}\\n')"
   ]
  },
  {
   "cell_type": "markdown",
   "metadata": {},
   "source": [
    "# Test Discriminator with Generator"
   ]
  },
  {
   "cell_type": "code",
   "execution_count": 52,
   "metadata": {},
   "outputs": [
    {
     "name": "stdout",
     "output_type": "stream",
     "text": [
      "auc=0.91, r=0.84, p=0.0000\n",
      "\n"
     ]
    }
   ],
   "source": [
    "# generated data:\n",
    "y = generate_samples(g_model, 32, latent_dim)\n",
    "X = (leadfield @ y.T).T\n",
    "X, y = prep_data(X,y)\n",
    "\n",
    "y[np.isnan(y)] = 0\n",
    "stc_hat.data = y.T\n",
    "stc_hat.plot(**plot_params, brain_kwargs=dict(title=\"Ground Truth\"), clim=dict(kind='value', pos_lims=(0, 0.5, 1)))\n",
    "\n",
    "y_hat = d_model.predict(X)\n",
    "y_hat[np.isnan(y_hat)] = 0\n",
    "\n",
    "stc_hat.data = y_hat.T\n",
    "stc_hat.plot(**plot_params, brain_kwargs=dict(title=\"GAN\"), clim=dict(kind='value', pos_lims=(0, 0.5, 1)))\n",
    "\n",
    "r,p = pearsonr(y.flatten(), y_hat.flatten())\n",
    "auc = np.mean([np.mean(eval_auc(yy_true, yy_pred, pos)) for yy_true, yy_pred in zip(y, y_hat)])\n",
    "\n",
    "print(f'auc={auc:.2f}, r={r:.2f}, p={p:.4f}\\n')"
   ]
  },
  {
   "cell_type": "markdown",
   "metadata": {},
   "source": [
    "# Linear Solution"
   ]
  },
  {
   "cell_type": "code",
   "execution_count": 53,
   "metadata": {},
   "outputs": [
    {
     "name": "stdout",
     "output_type": "stream",
     "text": [
      "auc=0.51, r=-0.01, p=0.0427\n",
      "\n"
     ]
    },
    {
     "name": "stdout",
     "output_type": "stream",
     "text": [
      "Using control points [0.02927872 0.03322611 0.06774781]\n",
      "Using control points [0.42319688 0.4607384  0.93013235]\n"
     ]
    }
   ],
   "source": [
    "sys.path.insert(0, '../../invert/')\n",
    "from invert.solvers.minimum_norm_estimates import SolverDynamicStatisticalParametricMapping\n",
    "from invert.solvers.wrop import SolverLAURA\n",
    "from invert.solvers.empirical_bayes import SolverChampagne\n",
    "\n",
    "evoked = mne.EvokedArray(X.T, info)\n",
    "\n",
    "# solver = SolverLAURA().make_inverse_operator(fwd)\n",
    "# solver = SolverChampagne().make_inverse_operator(fwd)\n",
    "\n",
    "stc_mne = solver.apply_inverse_operator(evoked)\n",
    "stc_mne.data = stc_mne.data / np.max(abs(stc_mne.data))\n",
    "stc_mne.plot(**plot_params, brain_kwargs=dict(title=solver.name))\n",
    "r,p = pearsonr(y.flatten(), stc_mne.data.flatten())\n",
    "auc = np.mean([np.mean(eval_auc(yy_true, yy_pred, pos)) for yy_true, yy_pred in zip(y, stc_mne.data.T)])\n",
    "\n",
    "print(f'auc={auc:.2f}, r={r:.2f}, p={p:.4f}\\n')"
   ]
  },
  {
   "cell_type": "markdown",
   "metadata": {},
   "source": [
    "## old functions"
   ]
  },
  {
   "cell_type": "code",
   "execution_count": null,
   "metadata": {},
   "outputs": [],
   "source": [
    "import tensorflow as tf\n",
    "from tensorflow.keras.layers import Dense, InputLayer, Input, Lambda\n",
    "import numpy as np\n",
    "\n",
    "\n",
    "basic_sources = np.identity(n_dipoles)\n",
    "basic_sources = laplace_operator @ basic_sources\n",
    "basic_sources = np.concatenate([basic_sources, -1*basic_sources], axis=1)\n",
    "basic_eeg = leadfield @ basic_sources\n",
    "print(basic_sources.shape, basic_eeg.shape)\n",
    "\n",
    "n_chans, n_dipoles = leadfield.shape\n",
    "\n",
    "def define_generator(latent_dim):\n",
    "    g_model = tf.keras.Sequential()\n",
    "    input_shape = (None, latent_dim)\n",
    "    g_model.add(InputLayer(input_shape=input_shape))\n",
    "    g_model.add(Dense(latent_dim, name=\"HL1\"))\n",
    "    g_model.add(Dense(n_dipoles, name=\"Output\"))\n",
    "    # g_model.build()\n",
    "    # g_model.compile(optimizer='adam', loss=\"mse\")\n",
    "    # g_model.summary()\n",
    "    return g_model\n",
    "    \n",
    "def define_discriminator(hidden_units=100):\n",
    "    input_shape = (None, n_chans)\n",
    "    d_model = tf.keras.Sequential()\n",
    "    d_model.add(InputLayer(input_shape=input_shape))\n",
    "    d_model.add(Dense(hidden_units, name=\"HL1\"))\n",
    "    d_model.add(Dense(n_dipoles, name=\"Output\"))\n",
    "    d_model.build()\n",
    "    d_model.compile(optimizer='adam', loss=tf.keras.losses.CosineSimilarity())\n",
    "    # d_model.summary()\n",
    "    return d_model\n",
    "\n",
    "def define_gan(g_model, d_model, latent_dim):\n",
    "    leadfield_ = tf.cast(leadfield, dtype=tf.float32)\n",
    "    d_model.trainable = False\n",
    "    \n",
    "    input_shape = (None, latent_dim)\n",
    "    \n",
    "    lam = Lambda(lambda x: tf.transpose(tf.linalg.matmul(leadfield_, tf.transpose(x))), output_shape=(None, n_chans))(g_model.output)\n",
    "    print(lam)\n",
    "    discriminator = d_model(lam)\n",
    "    model = tf.keras.Model(inputs=g_model.input, outputs=[d_model.output, g_model.output], name='Contextualizer')\n",
    "\n",
    "\n",
    "    # model = tf.keras.Sequential()\n",
    "    # model.add(g_model)\n",
    "    # model.add(Lambda(lambda x: tf.linalg.matmul(leadfield_, x)))\n",
    "    # model.add(d_model)\n",
    "    # model.compile(loss='binary_crossentropy', optimizer=\"adam\")\n",
    "\n",
    "    return model\n",
    " \n",
    "\n"
   ]
  }
 ],
 "metadata": {
  "kernelspec": {
   "display_name": "Python 3.8.10 ('esienv')",
   "language": "python",
   "name": "python3"
  },
  "language_info": {
   "codemirror_mode": {
    "name": "ipython",
    "version": 3
   },
   "file_extension": ".py",
   "mimetype": "text/x-python",
   "name": "python",
   "nbconvert_exporter": "python",
   "pygments_lexer": "ipython3",
   "version": "3.8.10"
  },
  "orig_nbformat": 4,
  "vscode": {
   "interpreter": {
    "hash": "a9587d79750f5d7fc5c0560e15a7a8a49dff11015373bda407c2fe4ab31d0fe5"
   }
  }
 },
 "nbformat": 4,
 "nbformat_minor": 2
}
