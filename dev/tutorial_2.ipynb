{
 "cells": [
  {
   "cell_type": "markdown",
   "metadata": {},
   "source": [
    "# Tutorial 2: Intermediate level\n",
    "Using esinet to predict single time-frame sources of a sample ERF data set: The Brainstorm Auditory data. \n",
    "\n",
    "This tutorial is based on an [mne-python tutorial](https://mne.tools/stable/auto_tutorials/inverse/30_mne_dspm_loreta.html)"
   ]
  },
  {
   "cell_type": "code",
   "execution_count": 1,
   "metadata": {},
   "outputs": [
    {
     "name": "stderr",
     "output_type": "stream",
     "text": [
      "C:\\Users\\lukas\\AppData\\Local\\Temp/ipykernel_10940/3013441672.py:15: DeprecationWarning: data_path functions now return pathlib.Path objects which do not natively support the plus (+) operator, switch to using forward slash (/) instead. Support for plus will be removed in 1.2.\n",
      "  subjects_dir = mne.datasets.sample.data_path() + '\\\\subjects'\n"
     ]
    }
   ],
   "source": [
    "%matplotlib inline\n",
    "%load_ext autoreload\n",
    "%autoreload 2\n",
    "\n",
    "import mne\n",
    "import numpy as np\n",
    "from copy import deepcopy\n",
    "import matplotlib.pyplot as plt\n",
    "import sys; sys.path.insert(0, '../')\n",
    "from esinet import util\n",
    "from esinet import Simulation\n",
    "from esinet import Net\n",
    "import os\n",
    "\n",
    "subjects_dir = mne.datasets.sample.data_path() + '\\\\subjects'\n",
    "plot_params = dict(surface='white', hemi='both', verbose=0, subjects_dir=subjects_dir)\n",
    "mne.set_config('SUBJECTS_DIR', subjects_dir)"
   ]
  },
  {
   "cell_type": "markdown",
   "metadata": {},
   "source": [
    "# Load the data\n",
    "Just as in the [mne-python tutorial](https://mne.tools/stable/auto_tutorials/inverse/30_mne_dspm_loreta.html) we have to load some sample data first"
   ]
  },
  {
   "cell_type": "code",
   "execution_count": null,
   "metadata": {},
   "outputs": [],
   "source": [
    "data_path = mne.datasets.sample.data_path()\n",
    "raw_fname = os.path.join(data_path, 'MEG', 'sample',  \n",
    "                    'sample_audvis_filt-0-40_raw.fif')\n",
    "\n",
    "raw = mne.io.read_raw_fif(raw_fname, verbose=0)  # already has an average reference\n",
    "events = mne.find_events(raw, stim_channel='STI 014', verbose=0)\n",
    "\n",
    "event_id = dict(aud_l=1)  # event trigger and conditions\n",
    "tmin = -0.2  # start of each epoch (200ms before the trigger)\n",
    "tmax = 0.5  # end of each epoch (500ms after the trigger)\n",
    "# raw.info['bads'] = ['MEG 2443', 'EEG 053']  # no bad channels with EEG\n",
    "baseline = (None, 0)  # means from the first instant to t = 0\n",
    "reject = dict(grad=4000e-13, eog=150e-6)  # , mag=4e-12\n",
    "\n",
    "epochs = mne.Epochs(raw, events, event_id, tmin, tmax, proj=True,\n",
    "                    picks=('grad', 'eog'), baseline=baseline, reject=reject,  # grad instead of meg\n",
    "                    verbose=0, preload=True)\n",
    "\n",
    "epochs.drop_channels('EOG 061')\n",
    "fname_fwd = data_path + '/MEG/sample/sample_audvis-meg-oct-6-fwd.fif' \n",
    "fwd = mne.read_forward_solution(fname_fwd, verbose=0)\n",
    "\n",
    "\n",
    "epochs_stripped = epochs.copy().load_data().pick_types(meg=True) # instead of meg=True\n",
    "fwd = fwd.pick_channels(epochs_stripped.ch_names)\n",
    "fwd = mne.convert_forward_solution(fwd, surf_ori=True, force_fixed=True,\n",
    "                                                    use_cps=True, verbose=0)"
   ]
  },
  {
   "cell_type": "markdown",
   "metadata": {},
   "source": [
    "## Visualize the sample data"
   ]
  },
  {
   "cell_type": "code",
   "execution_count": null,
   "metadata": {},
   "outputs": [],
   "source": [
    "epochs.average().plot(verbose=0)\n",
    "epochs"
   ]
  },
  {
   "cell_type": "markdown",
   "metadata": {},
   "source": [
    "# Simulate Data\n",
    "Artificial neural networks need training data to learn how to predict brain-electric activity (sources) given the M/EEG data. \n",
    "\n",
    "First, we calculate the signal to noise ratio (SNR) of our EEG data so we can adjust our simulations to it. "
   ]
  },
  {
   "cell_type": "code",
   "execution_count": null,
   "metadata": {},
   "outputs": [],
   "source": [
    "target_snr = util.calc_snr_range(epochs, baseline_span=(-0.2, 0.0), data_span=(0.05, 0.2))\n",
    "print(f'The target SNR is {target_snr:.2f}')"
   ]
  },
  {
   "cell_type": "markdown",
   "metadata": {},
   "source": [
    "Next, we can perform the simulations with the packages default settings. Change n_samples to a smaller integer in case this cell runs for too long. Note, that for publication-ready inverse solutions you should increase the number of training samples to 100,00."
   ]
  },
  {
   "cell_type": "code",
   "execution_count": null,
   "metadata": {},
   "outputs": [],
   "source": [
    "settings = dict(duration_of_trial=0.2, target_snr=target_snr, region_growing=True, extents=(1,25), shapes='gaussian')\n",
    "n_samples = 1000\n",
    "simulation = Simulation(fwd, epochs.info, settings=settings, verbose=True)\n",
    "simulation.simulate(n_samples=n_samples)"
   ]
  },
  {
   "cell_type": "markdown",
   "metadata": {},
   "source": [
    "## Visualize the simulated data\n",
    "Let's visualize the simulated data and see if it looks alright. You can change the idx to another integer to visualize a different sample"
   ]
  },
  {
   "cell_type": "code",
   "execution_count": null,
   "metadata": {},
   "outputs": [],
   "source": [
    "%matplotlib qt\n",
    "idx = 0\n",
    "\n",
    "simulation.eeg_data[idx].average().plot_topomap([0.])\n",
    "simulation.source_data[idx].plot(**plot_params, initial_time=simulation.source_data[idx].times[idx], time_viewer=False)"
   ]
  },
  {
   "cell_type": "markdown",
   "metadata": {},
   "source": [
    "# Train the Neural Network\n",
    "The Net class contains our neural network.\n",
    "\n",
    "Using the simulations created above, we can train the neural network. This may take a few minutes, depending on your PC.\n",
    "For best results you should increase the number of epochs to 100 or more.  "
   ]
  },
  {
   "cell_type": "code",
   "execution_count": null,
   "metadata": {},
   "outputs": [],
   "source": [
    "model_type = 'LSTM'  # can be 'LSTM' or 'ConvDip', too\n",
    "net = Net(fwd, verbose=1, model_type=model_type)  # Initialize the neural network object\n",
    "net.fit(simulation, revert_order=True, epochs=10)  # Train the net using our simulated eeg and source data."
   ]
  },
  {
   "cell_type": "markdown",
   "metadata": {},
   "source": [
    "# Evaluate the ANN\n",
    "The evaluation is a two-step procedure. \n",
    "1. Simulate some test data which the neural network has not seen yet. Unlike \n",
    "   the training data, this simulated data will also have a temporal dimension, \n",
    "   as indicated by the \"duration_of_trial\" parameter.\n",
    "\n",
    "2. Perform predicions on this data and visually examine the results."
   ]
  },
  {
   "cell_type": "code",
   "execution_count": null,
   "metadata": {},
   "outputs": [],
   "source": [
    "settings = dict(duration_of_trial=1, target_snr=target_snr, number_of_sources=(1, 10), extents=(2, 40),)\n",
    "n_samples = 2\n",
    "simulation_test = Simulation(fwd, epochs.info, settings=settings, verbose=True)\n",
    "simulation_test.simulate(n_samples=n_samples)\n",
    "\n",
    "\n",
    "# Predict source from EEG\n",
    "source_hat = net.predict(simulation_test)"
   ]
  },
  {
   "cell_type": "markdown",
   "metadata": {},
   "source": [
    "Visualize a sample"
   ]
  },
  {
   "cell_type": "code",
   "execution_count": null,
   "metadata": {},
   "outputs": [],
   "source": [
    "%matplotlib qt\n",
    "\n",
    "# Ground Truth\n",
    "idx = 0\n",
    "source = simulation_test.source_data[idx]\n",
    "# Plot simulated Source\n",
    "a = source.plot(**plot_params)\n",
    "a.add_text(0.1, 0.9, 'Gound Truth', 'title',\n",
    "               font_size=14)\n",
    "# Plot simulated EEG\n",
    "evoked = simulation_test.eeg_data[idx].average()\n",
    "evoked.plot()\n",
    "evoked.plot_topomap([0.0, 0.2, 0.4, 0.6])\n",
    "\n",
    "# Plot esinet prediction\n",
    "b = source_hat[idx].plot(**plot_params)\n",
    "b.add_text(0.1, 0.9, 'Prediction', 'title',\n",
    "               font_size=14)\n",
    "\n",
    "# Plot predicted EEG\n",
    "evoked_hat = util.get_eeg_from_source(source_hat[idx], fwd, epochs_stripped.info, tmin=-0.2)\n",
    "evoked_hat.plot()\n",
    "evoked_hat.plot_topomap([0.0, 0.2, 0.4, 0.6])"
   ]
  },
  {
   "cell_type": "markdown",
   "metadata": {},
   "source": [
    "# Estimate sources from real data\n",
    "Using ANN"
   ]
  },
  {
   "cell_type": "code",
   "execution_count": null,
   "metadata": {},
   "outputs": [],
   "source": [
    "# Predict Source\n",
    "stc = net.predict(epochs.average())[0]\n",
    "# Plot Predicted Source\n",
    "brain = stc.plot(**plot_params)\n",
    "brain.add_text(0.1, 0.9, 'esinet on Auditory Data', 'title',\n",
    "               font_size=14)\n",
    "# Plot true EEG\n",
    "epochs.load_data()\n",
    "\n",
    "epochs.pick_types(meg=True).average().plot()\n",
    "epochs.pick_types(meg=True).average().plot_topomap(title='True')\n",
    "\n",
    "# Plot predicted EEG\n",
    "evoked_esi = util.get_eeg_from_source(stc, fwd, epochs.pick_types(meg=True).info, tmin=0.)\n",
    "evoked_esi.plot()\n",
    "evoked_esi.plot_topomap(title='esinet')\n"
   ]
  },
  {
   "cell_type": "markdown",
   "metadata": {},
   "source": [
    "...using eLORETA"
   ]
  },
  {
   "cell_type": "code",
   "execution_count": null,
   "metadata": {},
   "outputs": [],
   "source": [
    "method = \"dSPM\"\n",
    "snr = 3.\n",
    "lambda2 = 1. / snr ** 2\n",
    "noise_cov = mne.compute_covariance(\n",
    "    epochs, tmax=0., method=['shrunk', 'empirical'], rank=None, verbose=False)\n",
    "\n",
    "inverse_operator = mne.minimum_norm.make_inverse_operator(\n",
    "    evoked.info, fwd, noise_cov, loose='auto', depth=None, fixed=True, \n",
    "    verbose=False)\n",
    "    \n",
    "stc_elor, residual = mne.minimum_norm.apply_inverse(epochs.average(), inverse_operator, lambda2,\n",
    "                              method=method, return_residual=True, verbose=False)\n",
    "brain = np.abs(stc_elor).plot(**plot_params)\n",
    "brain.add_text(0.1, 0.9, f'{method} on auditory data', 'title',\n",
    "               font_size=14)\n",
    "# Plot predicted EEG\n",
    "epochs.load_data()\n",
    "evoked_elor = util.get_eeg_from_source(stc_elor, fwd, epochs.pick_types(meg=True).info, tmin=0.)\n",
    "evoked_elor.plot()\n",
    "evoked_elor.plot_topomap(title=method)\n"
   ]
  },
  {
   "cell_type": "code",
   "execution_count": null,
   "metadata": {},
   "outputs": [],
   "source": []
  }
 ],
 "metadata": {
  "interpreter": {
   "hash": "8292a7c1b71beb25883e5d3de4479593a27229e31834907607dc8a0d6e7b1899"
  },
  "kernelspec": {
   "display_name": "Python 3.8.10 64-bit ('esienv': virtualenv)",
   "name": "python3"
  },
  "language_info": {
   "codemirror_mode": {
    "name": "ipython",
    "version": 3
   },
   "file_extension": ".py",
   "mimetype": "text/x-python",
   "name": "python",
   "nbconvert_exporter": "python",
   "pygments_lexer": "ipython3",
   "version": "3.8.10"
  },
  "orig_nbformat": 4
 },
 "nbformat": 4,
 "nbformat_minor": 2
}
