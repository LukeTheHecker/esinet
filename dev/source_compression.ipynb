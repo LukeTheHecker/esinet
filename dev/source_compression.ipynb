{
 "cells": [
  {
   "cell_type": "code",
   "execution_count": 19,
   "metadata": {},
   "outputs": [
    {
     "name": "stdout",
     "output_type": "stream",
     "text": [
      "The autoreload extension is already loaded. To reload it, use:\n",
      "  %reload_ext autoreload\n"
     ]
    }
   ],
   "source": [
    "%matplotlib inline\n",
    "%load_ext autoreload\n",
    "%autoreload 2\n",
    "\n",
    "from copy import deepcopy\n",
    "import sys; sys.path.insert(0, '../')\n",
    "import mne\n",
    "from scipy.sparse.csgraph import laplacian\n",
    "import matplotlib.pyplot as plt\n",
    "import numpy as np\n",
    "from esinet import util\n",
    "from esinet import Simulation\n",
    "from esinet import Net\n",
    "from esinet.forward import create_forward_model, get_info\n",
    "plot_params = dict(surface='white', hemi='both', verbose=0)"
   ]
  },
  {
   "cell_type": "code",
   "execution_count": 20,
   "metadata": {},
   "outputs": [
    {
     "name": "stderr",
     "output_type": "stream",
     "text": [
      "[Parallel(n_jobs=4)]: Using backend LokyBackend with 4 concurrent workers.\n",
      "[Parallel(n_jobs=4)]: Done   2 out of   4 | elapsed:    1.4s remaining:    1.4s\n",
      "[Parallel(n_jobs=4)]: Done   4 out of   4 | elapsed:    1.5s remaining:    0.0s\n",
      "[Parallel(n_jobs=4)]: Done   4 out of   4 | elapsed:    1.5s finished\n",
      "[Parallel(n_jobs=4)]: Using backend LokyBackend with 4 concurrent workers.\n",
      "[Parallel(n_jobs=4)]: Done   2 out of   4 | elapsed:    0.1s remaining:    0.1s\n",
      "[Parallel(n_jobs=4)]: Done   4 out of   4 | elapsed:    0.2s remaining:    0.0s\n",
      "[Parallel(n_jobs=4)]: Done   4 out of   4 | elapsed:    0.2s finished\n",
      "[Parallel(n_jobs=4)]: Using backend LokyBackend with 4 concurrent workers.\n",
      "[Parallel(n_jobs=4)]: Done   2 out of   4 | elapsed:    0.1s remaining:    0.1s\n",
      "[Parallel(n_jobs=4)]: Done   4 out of   4 | elapsed:    0.2s remaining:    0.0s\n",
      "[Parallel(n_jobs=4)]: Done   4 out of   4 | elapsed:    0.2s finished\n"
     ]
    }
   ],
   "source": [
    "info = get_info(sfreq=100)\n",
    "fwd = create_forward_model(info=info, sampling='ico3')"
   ]
  },
  {
   "cell_type": "code",
   "execution_count": null,
   "metadata": {},
   "outputs": [],
   "source": [
    "n_samples = 1000\n",
    "settings = dict(number_of_sources=5, extents=(1,40), duration_of_trial=0, method=\"noise\")\n",
    "sim = Simulation(fwd, info, settings=settings).simulate(n_samples=n_samples)"
   ]
  },
  {
   "cell_type": "code",
   "execution_count": null,
   "metadata": {},
   "outputs": [],
   "source": [
    "import numpy as np\n",
    "X = np.stack([source.data[:,0] for source in sim.source_data], axis=0)\n",
    "X = np.stack([x / np.max(abs(x)) for x in X], axis=0)"
   ]
  },
  {
   "cell_type": "code",
   "execution_count": null,
   "metadata": {},
   "outputs": [],
   "source": [
    "from tensorflow.keras.layers import Dense\n",
    "from tensorflow import keras\n",
    "import tensorflow as tf\n",
    "k = 200\n",
    "batch_size = 32\n",
    "epochs = 100\n",
    "activation='tanh'\n",
    "n_samples, n_dipoles = X.shape\n",
    "model = keras.Sequential(name=\"autoencoder\")\n",
    "model.add(Dense(k, activation=activation))\n",
    "model.add(Dense(k, activation=activation))\n",
    "model.add(Dense(n_dipoles))\n",
    "model.build(input_shape=(None, n_dipoles))\n",
    "model.summary()\n",
    "model.compile(loss=tf.keras.losses.CosineSimilarity(), optimizer=\"adam\")\n",
    "model.fit(X,X, epochs=epochs, batch_size=batch_size, validation_split=0.15)\n"
   ]
  },
  {
   "cell_type": "markdown",
   "metadata": {},
   "source": [
    "# Eval"
   ]
  },
  {
   "cell_type": "code",
   "execution_count": null,
   "metadata": {},
   "outputs": [],
   "source": [
    "n_samples = 2\n",
    "settings = dict(number_of_sources=1, extents=(1,2), duration_of_trial=0)\n",
    "sim_test = Simulation(fwd, info, settings=settings).simulate(n_samples=n_samples)\n",
    "\n",
    "X_test = np.stack([source.data[:,0] for source in sim_test.source_data], axis=0)\n",
    "X_test = np.stack([x / np.max(abs(x)) for x in X_test], axis=0)\n",
    "\n",
    "y_hat = model.predict(X_test)[0]\n",
    "\n",
    "stc = sim_test.source_data[0]\n",
    "stc.plot(surface=\"white\", hemi=\"both\")\n",
    "\n",
    "\n",
    "stc_hat = stc.copy()\n",
    "stc_hat.data[:, 0] = y_hat\n",
    "stc_hat.plot(surface=\"white\", hemi=\"both\")\n"
   ]
  },
  {
   "cell_type": "markdown",
   "metadata": {},
   "source": [
    "# GFT"
   ]
  },
  {
   "cell_type": "code",
   "execution_count": null,
   "metadata": {},
   "outputs": [],
   "source": [
    "import mne\n",
    "from scipy.sparse.csgraph import laplacian\n",
    "import matplotlib.pyplot as plt\n",
    "A = mne.spatial_src_adjacency(fwd[\"src\"], verbose=0).toarray()\n",
    "D = np.diag(A.sum(axis=0))\n",
    "L = D-A\n",
    "# L = laplacian(adj)\n",
    "U, s, V = np.linalg.svd(L)\n",
    "\n",
    "k = 600\n",
    "keep = np.zeros(A.shape[0]).astype(bool)\n",
    "keep[:k] = True\n",
    "plt.figure()\n",
    "plt.plot(s)\n",
    "plt.axvline(k)\n",
    "plt.title(\"Eigenvalues\")\n"
   ]
  },
  {
   "cell_type": "code",
   "execution_count": null,
   "metadata": {},
   "outputs": [],
   "source": [
    "from copy import deepcopy\n",
    "u = deepcopy(X[0])\n",
    "k_vals = [10, 200, 500, 1000]\n",
    "graph_frequencies = np.zeros(len(k_vals))\n",
    "\n",
    "\n",
    "for k in k_vals:\n",
    "    U, s, V = np.linalg.svd(L)\n",
    "    U = U[:, :k]\n",
    "    s = s[:k]\n",
    "    V = V[:, :k]\n",
    "    \n",
    "    A_hat = U.T @ A @ U\n",
    "    u_hat = U.T @ u\n",
    "    n_dipoles = k\n",
    "\n",
    "    u_hat = U[:, :k].T @ u\n",
    "    for j in range(n_dipoles):\n",
    "        neighbors = np.where(A_hat[j,:])[0]\n",
    "        for p in neighbors:\n",
    "            graph_frequencies[k] += ((u_hat[j] * u_hat[p]) < 0) / 2\n",
    "        \n"
   ]
  },
  {
   "cell_type": "code",
   "execution_count": 77,
   "metadata": {},
   "outputs": [
    {
     "name": "stdout",
     "output_type": "stream",
     "text": [
      "Simulating data based on sparse patches.\n"
     ]
    },
    {
     "name": "stderr",
     "output_type": "stream",
     "text": [
      "100%|██████████| 2/2 [00:00<00:00,  4.79it/s]\n",
      "100%|██████████| 2/2 [00:00<00:00, 2005.40it/s]\n"
     ]
    },
    {
     "name": "stdout",
     "output_type": "stream",
     "text": [
      "source data shape:  (1284, 1) (1284, 1)\n"
     ]
    },
    {
     "name": "stderr",
     "output_type": "stream",
     "text": [
      "100%|██████████| 2/2 [00:00<00:00, 1003.18it/s]\n"
     ]
    },
    {
     "name": "stdout",
     "output_type": "stream",
     "text": [
      "optmal k:  642\n"
     ]
    },
    {
     "data": {
      "text/plain": [
       "<mne.viz._brain._brain.Brain at 0x2b19524d460>"
      ]
     },
     "execution_count": 77,
     "metadata": {},
     "output_type": "execute_result"
    }
   ],
   "source": [
    "# from scipy.sparse import coo_matrix\n",
    "# import scipy\n",
    "\n",
    "# A = mne.spatial_src_adjacency(fwd[\"src\"], verbose=0).toarray()\n",
    "# D = np.diag(A.sum(axis=0))\n",
    "# L = D-A\n",
    "\n",
    "settings = dict(number_of_sources=10, extents=(1, 40), duration_of_trial=0, method=\"standard\")\n",
    "sim = Simulation(fwd, info, settings=settings).simulate(n_samples=2)\n",
    "\n",
    "# U, s, V = np.linalg.svd(L)\n",
    "\n",
    "perc = np.percentile(s / s.max(), 50)\n",
    "k = np.where(s[::-1] > (perc * s.max()))[0][0]\n",
    "print(\"optmal k: \", k)\n",
    "k = 600\n",
    "# U_hat = U[:, :k]\n",
    "# s_hat = s[:k]\n",
    "# V_hat = V[:, :k]\n",
    "U_hat = U[:, -k:]\n",
    "s_hat = s[-k:]\n",
    "V_hat = V[:, -k:]\n",
    "\n",
    "stc = sim.source_data[0]\n",
    "X = stc.data[:, 0]\n",
    "X /= np.max(abs(X))\n",
    "stc.data[:, 0] = X\n",
    "stc.plot(**plot_params)\n",
    "\n",
    "X_low = U_hat.T @ deepcopy(X)\n",
    "# X_low = V_hat @ X\n",
    "\n",
    "X_back = U_hat @ X_low\n",
    "X_back /= np.max(abs(X_back))\n",
    "stc_hat = stc.copy()\n",
    "stc_hat.data[:, 0] = X_back\n",
    "stc_hat.plot(**plot_params)\n"
   ]
  },
  {
   "cell_type": "code",
   "execution_count": 78,
   "metadata": {},
   "outputs": [
    {
     "data": {
      "text/plain": [
       "0.9120172542700027"
      ]
     },
     "execution_count": 78,
     "metadata": {},
     "output_type": "execute_result"
    }
   ],
   "source": [
    "pearsonr(X, X_back)[0]"
   ]
  },
  {
   "cell_type": "code",
   "execution_count": 79,
   "metadata": {},
   "outputs": [],
   "source": [
    "class Compressor:\n",
    "    ''' Compression using Graph Fourier Transform\n",
    "    '''\n",
    "    def __init__(self):\n",
    "        pass\n",
    "    def fit(self, fwd, k=600):\n",
    "        A = mne.spatial_src_adjacency(fwd[\"src\"], verbose=0).toarray()\n",
    "        D = np.diag(A.sum(axis=0))\n",
    "        L = D-A\n",
    "        U, s, V = np.linalg.svd(L)\n",
    "\n",
    "        self.U = U[:, -k:]\n",
    "        self.s = s[-k:]\n",
    "        self.V = V[:, -k:]\n",
    "\n",
    "    def encode(self, X):\n",
    "        ''' Encodes a true signal X\n",
    "        Parameters\n",
    "        ----------\n",
    "        X : numpy.ndarray\n",
    "            True signal\n",
    "        \n",
    "        Return\n",
    "        ------\n",
    "        X_comp : numpy.ndarray\n",
    "            Compressed signal\n",
    "        '''\n",
    "        X_comp = self.U.T @ X\n",
    "\n",
    "        return X_comp\n",
    "\n",
    "    def decode(self, X_comp):\n",
    "        ''' Decodes a compressed signal X\n",
    "\n",
    "        Parameters\n",
    "        ----------\n",
    "        X : numpy.ndarray\n",
    "            Compressed signal\n",
    "        \n",
    "        Return\n",
    "        ------\n",
    "        X_unfold : numpy.ndarray\n",
    "            Decoded signal\n",
    "        '''\n",
    "        X_unfold = self.U @ X_comp\n",
    "        return X_unfold"
   ]
  },
  {
   "cell_type": "code",
   "execution_count": null,
   "metadata": {},
   "outputs": [],
   "source": []
  }
 ],
 "metadata": {
  "kernelspec": {
   "display_name": "Python 3.8.10 ('esienv')",
   "language": "python",
   "name": "python3"
  },
  "language_info": {
   "codemirror_mode": {
    "name": "ipython",
    "version": 3
   },
   "file_extension": ".py",
   "mimetype": "text/x-python",
   "name": "python",
   "nbconvert_exporter": "python",
   "pygments_lexer": "ipython3",
   "version": "3.8.10"
  },
  "orig_nbformat": 4,
  "vscode": {
   "interpreter": {
    "hash": "a9587d79750f5d7fc5c0560e15a7a8a49dff11015373bda407c2fe4ab31d0fe5"
   }
  }
 },
 "nbformat": 4,
 "nbformat_minor": 2
}
