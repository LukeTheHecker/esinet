{
 "cells": [
  {
   "cell_type": "code",
   "execution_count": 1,
   "metadata": {},
   "outputs": [],
   "source": [
    "%load_ext autoreload\n",
    "%autoreload 2\n",
    "%matplotlib qt\n",
    "import sys; sys.path.insert(0, '../')\n",
    "import mne\n",
    "import numpy as np\n",
    "\n",
    "from esinet.net import CovNet, Net\n",
    "from esinet import Simulation\n",
    "from esinet.forward import get_info, create_forward_model\n",
    "from esinet.util import unpack_fwd\n",
    "pp = dict(surface='white', hemi='both', verbose=0)"
   ]
  },
  {
   "cell_type": "markdown",
   "metadata": {},
   "source": [
    "# Forward Model"
   ]
  },
  {
   "cell_type": "code",
   "execution_count": 2,
   "metadata": {},
   "outputs": [
    {
     "name": "stderr",
     "output_type": "stream",
     "text": [
      "[Parallel(n_jobs=8)]: Using backend LokyBackend with 8 concurrent workers.\n",
      "[Parallel(n_jobs=8)]: Done   3 out of   8 | elapsed:    3.5s remaining:    5.8s\n",
      "[Parallel(n_jobs=8)]: Done   5 out of   8 | elapsed:    3.6s remaining:    2.1s\n",
      "[Parallel(n_jobs=8)]: Done   8 out of   8 | elapsed:    4.1s finished\n",
      "[Parallel(n_jobs=8)]: Using backend LokyBackend with 8 concurrent workers.\n",
      "[Parallel(n_jobs=8)]: Done   3 out of   8 | elapsed:    0.1s remaining:    0.2s\n",
      "[Parallel(n_jobs=8)]: Done   5 out of   8 | elapsed:    0.1s remaining:    0.0s\n",
      "[Parallel(n_jobs=8)]: Done   8 out of   8 | elapsed:    0.1s finished\n",
      "[Parallel(n_jobs=8)]: Using backend LokyBackend with 8 concurrent workers.\n",
      "[Parallel(n_jobs=8)]: Done   3 out of   8 | elapsed:    0.1s remaining:    0.2s\n",
      "[Parallel(n_jobs=8)]: Done   5 out of   8 | elapsed:    0.2s remaining:    0.1s\n",
      "[Parallel(n_jobs=8)]: Done   8 out of   8 | elapsed:    0.2s finished\n"
     ]
    }
   ],
   "source": [
    "info = get_info(kind='biosemi64')\n",
    "fwd = create_forward_model(info=info, sampling='ico3')\n",
    "\n",
    "leadfield, pos = unpack_fwd(fwd)[1:3]\n",
    "\n",
    "n_chans, n_dipoles = leadfield.shape"
   ]
  },
  {
   "cell_type": "markdown",
   "metadata": {},
   "source": [
    "# Sim"
   ]
  },
  {
   "cell_type": "code",
   "execution_count": 10,
   "metadata": {},
   "outputs": [
    {
     "name": "stdout",
     "output_type": "stream",
     "text": [
      "Simulating data based on sparse patches.\n"
     ]
    },
    {
     "name": "stderr",
     "output_type": "stream",
     "text": [
      "100%|██████████| 5000/5000 [00:32<00:00, 151.85it/s]\n",
      "100%|██████████| 5000/5000 [00:00<00:00, 12626.24it/s]\n",
      "100%|██████████| 5000/5000 [01:13<00:00, 68.47it/s]\n"
     ]
    }
   ],
   "source": [
    "settings = dict(duration_of_trial=0.02, extents=(1, 20))\n",
    "sim = Simulation(fwd, info, settings=settings).simulate(5000)"
   ]
  },
  {
   "cell_type": "markdown",
   "metadata": {},
   "source": [
    "# Train"
   ]
  },
  {
   "cell_type": "code",
   "execution_count": 18,
   "metadata": {},
   "outputs": [
    {
     "name": "stdout",
     "output_type": "stream",
     "text": [
      "Build Model:..\n",
      "Model: \"CovCNN\"\n",
      "_________________________________________________________________\n",
      "Layer (type)                 Output Shape              Param #   \n",
      "=================================================================\n",
      "Input (InputLayer)           [(None, 64, 64, 1)]       0         \n",
      "_________________________________________________________________\n",
      "CNN1 (Conv2D)                (None, 64, 1, 64)         4160      \n",
      "_________________________________________________________________\n",
      "flatten_5 (Flatten)          (None, 4096)              0         \n",
      "_________________________________________________________________\n",
      "FC1 (Dense)                  (None, 200)               819400    \n",
      "_________________________________________________________________\n",
      "Output (Dense)               (None, 1284)              258084    \n",
      "=================================================================\n",
      "Total params: 1,081,644\n",
      "Trainable params: 1,081,644\n",
      "Non-trainable params: 0\n",
      "_________________________________________________________________\n",
      "Epoch 1/30\n",
      "149/149 [==============================] - 6s 37ms/step - loss: -0.0948 - val_loss: -0.1045\n",
      "Epoch 2/30\n",
      "149/149 [==============================] - 6s 39ms/step - loss: -0.1158 - val_loss: -0.1180\n",
      "Epoch 3/30\n",
      "149/149 [==============================] - 6s 43ms/step - loss: -0.1489 - val_loss: -0.1439\n",
      "Epoch 4/30\n",
      "149/149 [==============================] - 8s 52ms/step - loss: -0.1989 - val_loss: -0.1748\n",
      "Epoch 5/30\n",
      "149/149 [==============================] - 7s 50ms/step - loss: -0.2551 - val_loss: -0.1967\n",
      "Epoch 6/30\n",
      "149/149 [==============================] - 6s 41ms/step - loss: -0.3104 - val_loss: -0.2082\n",
      "Epoch 7/30\n",
      "149/149 [==============================] - 6s 40ms/step - loss: -0.3598 - val_loss: -0.2308\n",
      "Epoch 8/30\n",
      "149/149 [==============================] - 5s 36ms/step - loss: -0.4047 - val_loss: -0.2502\n",
      "Epoch 9/30\n",
      "149/149 [==============================] - 6s 40ms/step - loss: -0.4396 - val_loss: -0.2515\n",
      "Epoch 10/30\n",
      "149/149 [==============================] - 6s 37ms/step - loss: -0.4710 - val_loss: -0.2686\n",
      "Epoch 11/30\n",
      "149/149 [==============================] - 6s 37ms/step - loss: -0.4954 - val_loss: -0.2675\n",
      "Epoch 12/30\n",
      "149/149 [==============================] - 6s 38ms/step - loss: -0.5175 - val_loss: -0.2733\n",
      "Epoch 13/30\n",
      "149/149 [==============================] - 6s 38ms/step - loss: -0.5347 - val_loss: -0.2756\n",
      "Epoch 14/30\n",
      "149/149 [==============================] - 6s 38ms/step - loss: -0.5512 - val_loss: -0.2755\n",
      "Epoch 15/30\n",
      "149/149 [==============================] - 6s 37ms/step - loss: -0.5640 - val_loss: -0.2760\n",
      "Epoch 16/30\n",
      "149/149 [==============================] - 5s 35ms/step - loss: -0.5748 - val_loss: -0.2848\n",
      "Epoch 17/30\n",
      "149/149 [==============================] - 6s 38ms/step - loss: -0.5866 - val_loss: -0.2726\n",
      "Epoch 18/30\n",
      "149/149 [==============================] - 6s 38ms/step - loss: -0.5954 - val_loss: -0.2806\n",
      "Epoch 19/30\n",
      "149/149 [==============================] - 6s 38ms/step - loss: -0.6016 - val_loss: -0.2799\n",
      "Epoch 20/30\n",
      "149/149 [==============================] - 6s 38ms/step - loss: -0.6095 - val_loss: -0.2803\n",
      "Epoch 21/30\n",
      "149/149 [==============================] - 5s 37ms/step - loss: -0.6159 - val_loss: -0.2802\n",
      "Epoch 22/30\n",
      "149/149 [==============================] - 5s 36ms/step - loss: -0.6204 - val_loss: -0.2854\n",
      "Epoch 23/30\n",
      "149/149 [==============================] - 5s 36ms/step - loss: -0.6275 - val_loss: -0.2869\n",
      "Epoch 24/30\n",
      "149/149 [==============================] - 5s 34ms/step - loss: -0.6315 - val_loss: -0.2843\n",
      "Epoch 25/30\n",
      "149/149 [==============================] - 5s 37ms/step - loss: -0.6364 - val_loss: -0.2841\n",
      "Epoch 26/30\n",
      "149/149 [==============================] - 6s 38ms/step - loss: -0.6401 - val_loss: -0.2780\n",
      "Epoch 27/30\n",
      "149/149 [==============================] - 6s 39ms/step - loss: -0.6446 - val_loss: -0.2810\n",
      "Epoch 28/30\n",
      "149/149 [==============================] - 6s 40ms/step - loss: -0.6458 - val_loss: -0.2827\n",
      "Epoch 29/30\n",
      "149/149 [==============================] - 6s 40ms/step - loss: -0.6502 - val_loss: -0.2813\n",
      "Epoch 30/30\n",
      "149/149 [==============================] - 6s 40ms/step - loss: -0.6545 - val_loss: -0.2742\n",
      "preprocess data\n",
      "Model: \"Contextual_CNN_Model\"\n",
      "__________________________________________________________________________________________________\n",
      "Layer (type)                    Output Shape         Param #     Connected to                     \n",
      "==================================================================================================\n",
      "Input_CNN (InputLayer)          [(None, None, 64, 1) 0                                            \n",
      "__________________________________________________________________________________________________\n",
      "time_distributed_6 (TimeDistrib (None, None, 1, 64)  4160        Input_CNN[0][0]                  \n",
      "__________________________________________________________________________________________________\n",
      "time_distributed_7 (TimeDistrib (None, None, 64)     0           time_distributed_6[0][0]         \n",
      "__________________________________________________________________________________________________\n",
      "GRU (Bidirectional)             (None, None, 128)    49920       time_distributed_7[0][0]         \n",
      "__________________________________________________________________________________________________\n",
      "time_distributed_8 (TimeDistrib (None, None, 1284)   83460       time_distributed_7[0][0]         \n",
      "__________________________________________________________________________________________________\n",
      "Mask (TimeDistributed)          (None, None, 1284)   165636      GRU[0][0]                        \n",
      "__________________________________________________________________________________________________\n",
      "multiply (Multiply)             (None, None, 1284)   0           time_distributed_8[0][0]         \n",
      "                                                                 Mask[0][0]                       \n",
      "==================================================================================================\n",
      "Total params: 303,176\n",
      "Trainable params: 303,176\n",
      "Non-trainable params: 0\n",
      "__________________________________________________________________________________________________\n",
      "fit model\n",
      "Epoch 1/30\n",
      "593/593 [==============================] - 105s 163ms/step - loss: -0.0436 - val_loss: -0.0660\n",
      "Epoch 2/30\n",
      "593/593 [==============================] - 95s 159ms/step - loss: -0.0786 - val_loss: -0.0809\n",
      "Epoch 3/30\n",
      "593/593 [==============================] - 93s 153ms/step - loss: -0.0948 - val_loss: -0.0878\n",
      "Epoch 4/30\n",
      "593/593 [==============================] - 93s 154ms/step - loss: -0.1058 - val_loss: -0.0910\n",
      "Epoch 5/30\n",
      "593/593 [==============================] - 97s 160ms/step - loss: -0.1183 - val_loss: -0.0961\n",
      "Epoch 6/30\n",
      "593/593 [==============================] - 105s 174ms/step - loss: -0.1363 - val_loss: -0.1067\n",
      "Epoch 7/30\n",
      "593/593 [==============================] - 104s 172ms/step - loss: -0.1601 - val_loss: -0.1094\n",
      "Epoch 8/30\n",
      "593/593 [==============================] - 100s 166ms/step - loss: -0.1915 - val_loss: -0.1222\n",
      "Epoch 9/30\n",
      "593/593 [==============================] - 101s 167ms/step - loss: -0.2218 - val_loss: -0.1355\n",
      "Epoch 10/30\n",
      "593/593 [==============================] - 110s 182ms/step - loss: -0.2511 - val_loss: -0.1415\n",
      "Epoch 11/30\n",
      "593/593 [==============================] - 109s 179ms/step - loss: -0.2808 - val_loss: -0.1422\n",
      "Epoch 12/30\n",
      "593/593 [==============================] - 96s 158ms/step - loss: -0.3097 - val_loss: -0.1616\n",
      "Epoch 13/30\n",
      "593/593 [==============================] - 95s 156ms/step - loss: -0.3355 - val_loss: -0.1597\n",
      "Epoch 14/30\n",
      "593/593 [==============================] - 92s 152ms/step - loss: -0.3454 - val_loss: -0.1755\n",
      "Epoch 15/30\n",
      "593/593 [==============================] - 93s 153ms/step - loss: -0.3719 - val_loss: -0.1700\n",
      "Epoch 16/30\n",
      "593/593 [==============================] - 92s 152ms/step - loss: -0.3882 - val_loss: -0.1782\n",
      "Epoch 17/30\n",
      "593/593 [==============================] - 93s 153ms/step - loss: -0.4036 - val_loss: -0.1845\n",
      "Epoch 18/30\n",
      "593/593 [==============================] - 92s 152ms/step - loss: -0.4177 - val_loss: -0.1916\n",
      "Epoch 19/30\n",
      "593/593 [==============================] - 91s 151ms/step - loss: -0.4286 - val_loss: -0.1869\n",
      "Epoch 20/30\n",
      "593/593 [==============================] - 91s 151ms/step - loss: -0.4429 - val_loss: -0.1866\n",
      "Epoch 21/30\n",
      "593/593 [==============================] - 91s 151ms/step - loss: -0.4579 - val_loss: -0.1900\n",
      "Epoch 22/30\n",
      "593/593 [==============================] - 91s 151ms/step - loss: -0.4678 - val_loss: -0.1929\n",
      "Epoch 23/30\n",
      "593/593 [==============================] - 92s 152ms/step - loss: -0.4738 - val_loss: -0.1949\n",
      "Epoch 24/30\n",
      "593/593 [==============================] - 91s 151ms/step - loss: -0.4810 - val_loss: -0.1901\n",
      "Epoch 25/30\n",
      "593/593 [==============================] - 94s 156ms/step - loss: -0.4934 - val_loss: -0.1896\n",
      "Epoch 26/30\n",
      "593/593 [==============================] - 83s 137ms/step - loss: -0.5032 - val_loss: -0.1960\n",
      "Epoch 27/30\n",
      "593/593 [==============================] - 63s 103ms/step - loss: -0.5065 - val_loss: -0.2002\n",
      "Epoch 28/30\n",
      "593/593 [==============================] - 63s 104ms/step - loss: -0.5170 - val_loss: -0.1978\n",
      "Epoch 29/30\n",
      "593/593 [==============================] - 64s 106ms/step - loss: -0.5250 - val_loss: -0.1912\n",
      "Epoch 30/30\n",
      "593/593 [==============================] - 81s 134ms/step - loss: -0.5271 - val_loss: -0.2004\n"
     ]
    },
    {
     "data": {
      "text/plain": [
       "<esinet.net.Net at 0x267d56835e0>"
      ]
     },
     "execution_count": 18,
     "metadata": {},
     "output_type": "execute_result"
    }
   ],
   "source": [
    "from esinet.net import CovNet, Net\n",
    "\n",
    "net = CovNet(fwd, n_filters=64, batch_size=1284, verbose=1)\n",
    "net.fit(sim, epochs=30, patience=30)\n",
    "\n",
    "\n",
    "net2 = Net(fwd, model_type=\"CNN\", n_lstm_units=64, l1_reg=None, verbose=1)\n",
    "net2.fit(sim, epochs=30, patience=30)\n"
   ]
  },
  {
   "cell_type": "markdown",
   "metadata": {},
   "source": [
    "# Test"
   ]
  },
  {
   "cell_type": "code",
   "execution_count": 22,
   "metadata": {},
   "outputs": [
    {
     "name": "stdout",
     "output_type": "stream",
     "text": [
      "Simulating data based on sparse patches.\n"
     ]
    },
    {
     "name": "stderr",
     "output_type": "stream",
     "text": [
      "100%|██████████| 2/2 [00:00<00:00,  8.00it/s]\n",
      "100%|██████████| 2/2 [00:00<00:00, 500.16it/s]\n",
      "100%|██████████| 2/2 [00:00<00:00, 55.55it/s]\n"
     ]
    },
    {
     "name": "stdout",
     "output_type": "stream",
     "text": [
      "No projector specified for this dataset. Please consider the method self.add_proj.\n",
      "werks\n",
      "1/1 [==============================] - 0s 26ms/step\n",
      "Active dipoles:  1284\n",
      "0.14709464587237522\n",
      "1/1 [==============================] - 0s 24ms/step\n"
     ]
    },
    {
     "name": "stderr",
     "output_type": "stream",
     "text": [
      "c:\\Users\\lukas\\virtualenvs\\esienv\\lib\\site-packages\\scipy\\optimize\\_minimize.py:783: RuntimeWarning: Method 'bounded' does not support relative tolerance in x; defaulting to absolute tolerance.\n",
      "  warn(\"Method 'bounded' does not support relative tolerance in x; \"\n"
     ]
    },
    {
     "name": "stdout",
     "output_type": "stream",
     "text": [
      "Residual Variance(s): [18.03] [%]\n",
      "0.13135304891314883\n"
     ]
    }
   ],
   "source": [
    "settings = dict(extents=(1, 20), duration_of_trial=0.02, \n",
    "                number_of_sources=3, amplitudes=(99,100),\n",
    "                target_snr=1e99)\n",
    "sim_test = Simulation(fwd, info, settings=settings).simulate(2)\n",
    "evoked = sim_test.eeg_data[0].average()\n",
    "\n",
    "stc = sim_test.source_data[0]\n",
    "stc.plot(**pp, brain_kwargs=dict(title=\"Ground Truth\"))\n",
    "evoked.plot_joint(title=\"Ground Truth\")\n",
    "\n",
    "\n",
    "net.epsilon = 0.0\n",
    "stc_ = net.predict(evoked)\n",
    "stc_.data /= abs(stc_.data).max()\n",
    "stc_.plot(**pp, brain_kwargs=dict(title=\"CovNet\"))\n",
    "from scipy.stats import pearsonr\n",
    "r = pearsonr(abs(stc.data).flatten(), abs(stc_.data).flatten())[0]\n",
    "print(r)\n",
    "\n",
    "stc_ = net2.predict(evoked)[0]\n",
    "stc_.data /= abs(stc_.data).max()\n",
    "stc_.plot(**pp, brain_kwargs=dict(title=\"FC\"))\n",
    "r = pearsonr(abs(stc.data).flatten(), abs(stc_.data).flatten())[0]\n",
    "print(r)\n"
   ]
  },
  {
   "cell_type": "code",
   "execution_count": null,
   "metadata": {},
   "outputs": [],
   "source": []
  }
 ],
 "metadata": {
  "kernelspec": {
   "display_name": "Python 3.8.10 ('esienv')",
   "language": "python",
   "name": "python3"
  },
  "language_info": {
   "codemirror_mode": {
    "name": "ipython",
    "version": 3
   },
   "file_extension": ".py",
   "mimetype": "text/x-python",
   "name": "python",
   "nbconvert_exporter": "python",
   "pygments_lexer": "ipython3",
   "version": "3.8.10"
  },
  "orig_nbformat": 4,
  "vscode": {
   "interpreter": {
    "hash": "a54b85cbc80ea8362b8e45e33618627fd9167210ff2c52e6dbeaf85afe35b874"
   }
  }
 },
 "nbformat": 4,
 "nbformat_minor": 2
}
