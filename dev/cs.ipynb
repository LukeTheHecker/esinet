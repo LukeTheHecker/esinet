{
 "cells": [
  {
   "cell_type": "code",
   "execution_count": 1,
   "metadata": {},
   "outputs": [],
   "source": [
    "%matplotlib inline\n",
    "%load_ext autoreload\n",
    "%autoreload 2\n",
    "\n",
    "# import mne\n",
    "import numpy as np\n",
    "# from copy import deepcopy\n",
    "# import matplotlib.pyplot as plt\n",
    "import sys; sys.path.insert(0, '../')\n",
    "from esinet import util\n",
    "from esinet import Simulation\n",
    "from esinet import Net\n",
    "from esinet.forward import create_forward_model, get_info\n",
    "from scipy.stats import pearsonr\n",
    "from matplotlib import pyplot as plt\n",
    "plot_params = dict(surface='white', hemi='both', verbose=0)"
   ]
  },
  {
   "cell_type": "markdown",
   "metadata": {},
   "source": [
    "## Create Forward model\n",
    "First we create a template forward model which comes with the esinet package"
   ]
  },
  {
   "cell_type": "code",
   "execution_count": 2,
   "metadata": {},
   "outputs": [
    {
     "name": "stderr",
     "output_type": "stream",
     "text": [
      "[Parallel(n_jobs=4)]: Using backend LokyBackend with 4 concurrent workers.\n",
      "[Parallel(n_jobs=4)]: Done   2 out of   4 | elapsed:    2.5s remaining:    2.5s\n",
      "[Parallel(n_jobs=4)]: Done   4 out of   4 | elapsed:    2.8s remaining:    0.0s\n",
      "[Parallel(n_jobs=4)]: Done   4 out of   4 | elapsed:    2.8s finished\n",
      "[Parallel(n_jobs=4)]: Using backend LokyBackend with 4 concurrent workers.\n",
      "[Parallel(n_jobs=4)]: Done   2 out of   4 | elapsed:    0.1s remaining:    0.1s\n",
      "[Parallel(n_jobs=4)]: Done   4 out of   4 | elapsed:    0.2s remaining:    0.0s\n",
      "[Parallel(n_jobs=4)]: Done   4 out of   4 | elapsed:    0.2s finished\n",
      "[Parallel(n_jobs=4)]: Using backend LokyBackend with 4 concurrent workers.\n"
     ]
    },
    {
     "name": "stdout",
     "output_type": "stream",
     "text": [
      "-- number of adjacent vertices : 1284\n"
     ]
    },
    {
     "name": "stderr",
     "output_type": "stream",
     "text": [
      "[Parallel(n_jobs=4)]: Done   2 out of   4 | elapsed:    0.3s remaining:    0.3s\n",
      "[Parallel(n_jobs=4)]: Done   4 out of   4 | elapsed:    0.3s remaining:    0.0s\n",
      "[Parallel(n_jobs=4)]: Done   4 out of   4 | elapsed:    0.3s finished\n"
     ]
    }
   ],
   "source": [
    "info = get_info(sfreq=100, kind=\"biosemi64\")\n",
    "fwd = create_forward_model(sampling=\"ico3\", info=info)\n",
    "_, pos = util.unpack_fwd(fwd)[1:3]\n",
    "leadfield = fwd[\"sol\"][\"data\"]\n",
    "n_chans, n_dipoles = leadfield.shape\n",
    "\n",
    "import mne\n",
    "from scipy.sparse.csgraph import laplacian\n",
    "\n",
    "adjacency = mne.spatial_src_adjacency(fwd['src']).toarray()\n",
    "laplace_operator = abs(laplacian(adjacency))"
   ]
  },
  {
   "cell_type": "markdown",
   "metadata": {},
   "source": [
    "# Defs"
   ]
  },
  {
   "cell_type": "code",
   "execution_count": 3,
   "metadata": {},
   "outputs": [],
   "source": [
    "def prep_data(X, y):\n",
    "    X = np.stack([(x - np.mean(x)) / np.std(x) for x in X], axis=0)\n",
    "    y = np.stack([(x / np.max(abs(x))) for x in y], axis=0)\n",
    "    return X, y"
   ]
  },
  {
   "cell_type": "markdown",
   "metadata": {},
   "source": [
    "# Simulate"
   ]
  },
  {
   "cell_type": "code",
   "execution_count": 4,
   "metadata": {},
   "outputs": [
    {
     "name": "stdout",
     "output_type": "stream",
     "text": [
      "Simulating data based on sparse patches.\n"
     ]
    },
    {
     "name": "stderr",
     "output_type": "stream",
     "text": [
      "100%|██████████| 2000/2000 [00:09<00:00, 203.17it/s]\n",
      "100%|██████████| 2000/2000 [00:00<00:00, 21446.29it/s]\n",
      "100%|██████████| 2000/2000 [00:37<00:00, 52.73it/s]\n"
     ]
    }
   ],
   "source": [
    "settings = dict(duration_of_trial=0.25, extents=(1,40), number_of_sources=(1,15), target_snr=1e99)\n",
    "sim = Simulation(fwd, info, settings=settings).simulate(n_samples=2000)\n",
    "X = np.stack([eeg.average().data for eeg in sim.eeg_data], axis=0)\n",
    "y = np.stack([source.data for source in sim.source_data], axis=0)\n",
    "X, y = prep_data(X, y)\n",
    "X = np.swapaxes(X, 1, 2)\n",
    "y = np.swapaxes(y, 1, 2)"
   ]
  },
  {
   "cell_type": "markdown",
   "metadata": {},
   "source": [
    "# Model"
   ]
  },
  {
   "cell_type": "markdown",
   "metadata": {},
   "source": [
    "## Create"
   ]
  },
  {
   "cell_type": "code",
   "execution_count": 50,
   "metadata": {},
   "outputs": [],
   "source": [
    "import tensorflow as tf\n",
    "from tensorflow.keras.layers import Dense, InputLayer, Input, Lambda, LayerNormalization, GRU, multiply\n",
    "from tensorflow.keras.layers import Activation, Dropout, ActivityRegularization, TimeDistributed, Reshape, Permute, GaussianNoise, add\n",
    "import numpy as np\n",
    "import tensorflow.keras.backend as K\n",
    "from tensorflow.keras.models import Model\n",
    "# import tensorflow_probability as tfp\n",
    "from tensorflow.keras.regularizers import l1, l2, l1_l2\n",
    "K.set_image_data_format('channels_last')\n",
    "\n",
    "def data_loss(leadfield, lam_0=0.1):\n",
    "    leadfield_ = tf.cast(leadfield, dtype=tf.float32)\n",
    "    def batch_data_loss(y_true, y_est):\n",
    "        def d_loss(y_true, y_est):\n",
    "            y_true_eeg = tf.transpose(tf.matmul(leadfield_, tf.transpose(y_true)))\n",
    "            y_est_eeg = tf.transpose(tf.matmul(leadfield_, tf.transpose(y_est)))\n",
    "            # print(\"y_true \", y_true)\n",
    "            # print(\"y_est \", y_est)\n",
    "            \n",
    "            # return K.mean(K.square(y_est - y_true))\n",
    "            error_source = tf.keras.losses.CosineSimilarity(name=\"Data_Cosine_Loss\")(y_est, y_true)\n",
    "            error_eeg = tf.keras.losses.CosineSimilarity(name=\"Data_Cosine_Loss\")(y_est_eeg, y_true_eeg)\n",
    "            return (error_source*lam_0 + error_eeg) / (1 + lam_0)\n",
    "        \n",
    "        \n",
    "\n",
    "        batched_losses = tf.map_fn(lambda x:\n",
    "            d_loss(x[0], x[1]), \n",
    "            (y_true, y_est), dtype=tf.float32)\n",
    "        return K.mean(batched_losses)\n",
    "\n",
    "\n",
    "    return batch_data_loss\n",
    "\n",
    "\n",
    "def consistency(x):\n",
    "    return K.mean(K.std(K.abs(x), axis=1))\n",
    "\n",
    "# def consistency(source):\n",
    "#     def c_loss(x):\n",
    "#         matrix = compute_cosine_distances(K.abs(x), K.abs(x))\n",
    "#         return K.mean(matrix)\n",
    "\n",
    "\n",
    "#     batched_losses = tf.map_fn(lambda x:\n",
    "#             c_loss(x), \n",
    "#             source, dtype=tf.float32)\n",
    "#     return K.mean(batched_losses)\n",
    "\n",
    "def c_loss(sources):\n",
    "    matrix = K.abs(compute_cosine_distances(K.abs(sources), K.abs(sources)))\n",
    "    return K.mean(matrix)\n",
    "\n",
    "\n",
    "def compute_cosine_distances(a, b):\n",
    "    # x shape is n_a * dim\n",
    "    # y shape is n_b * dim\n",
    "    # results shape is n_a * n_b\n",
    "\n",
    "    normalize_a = tf.nn.l2_normalize(a,-1)        \n",
    "    normalize_b = tf.nn.l2_normalize(b,-1)\n",
    "    distance = 1 - tf.matmul(normalize_a, normalize_b, transpose_b=True)\n",
    "    return distance\n",
    "\n",
    "\n",
    "def l1_sparsity(x):\n",
    "    return K.mean(K.abs(x)) \n",
    "\n",
    "def get_model(name=\"Model\", n_dense_layers=2, hidden_units=200, learning_rate=0.001, lam_0=0.1, lam_1=1, lam_2=0.001, add_consistency=True):\n",
    "    input_shape = (None, n_chans)\n",
    "    leadfield_ = tf.cast(leadfield, dtype=tf.float32)\n",
    "    inputs = tf.keras.Input(shape=input_shape, name=name)\n",
    "    fc = TimeDistributed(Dense(hidden_units, activation=\"linear\", name=\"FC1\"))(inputs)\n",
    "\n",
    "    gru = GRU(64, return_sequences=True, name='GRU_Discriminator')(inputs)\n",
    "    source_time = TimeDistributed(Dense(n_dipoles, activation=\"sigmoid\", name=\"Mask\"))(gru)\n",
    "\n",
    "    source = TimeDistributed(Dense(n_dipoles, activation=\"linear\", name=\"Output_Final\"))(fc)\n",
    "\n",
    "    out = multiply([source_time, source])\n",
    "    print(out)\n",
    "    # out = Lambda(lambda x: tf.transpose(tf.linalg.matmul(leadfield_, tf.transpose(x))), output_shape=(None, n_chans))(source)\n",
    "    # # out = TimeDistributed(Lambda(lambda x: tf.transpose(tf.linalg.matmul(leadfield_, tf.transpose(x))), output_shape=(None, n_chans)))(source)\n",
    "    \n",
    "    \n",
    "    model = tf.keras.Model(inputs=inputs, outputs=out, name='CS_Net')\n",
    "    \n",
    "    # Data Loss\n",
    "    # L1 Loss\n",
    "    model.add_loss(l1_sparsity(out)*lam_1)\n",
    "    \n",
    "    # Data consistency loss\n",
    "    if add_consistency:\n",
    "        model.add_loss(c_loss(out)*lam_2)\n",
    "    \n",
    "    model.compile(loss=data_loss(leadfield, lam_0=lam_0), optimizer=tf.keras.optimizers.Adam(learning_rate=learning_rate))\n",
    "    # model.compile(optimizer=tf.keras.optimizers.Adam(learning_rate=learning_rate))\n",
    "    \n",
    "    return model\n",
    "\n"
   ]
  },
  {
   "cell_type": "markdown",
   "metadata": {},
   "source": [
    "## Train"
   ]
  },
  {
   "cell_type": "code",
   "execution_count": 52,
   "metadata": {},
   "outputs": [
    {
     "name": "stdout",
     "output_type": "stream",
     "text": [
      "KerasTensor(type_spec=TensorSpec(shape=(None, None, 1284), dtype=tf.float32, name=None), name='multiply_5/mul:0', description=\"created by layer 'multiply_5'\")\n",
      "Epoch 1/20\n"
     ]
    }
   ],
   "source": [
    "lams_0 = [0.1, ]\n",
    "lams_1 = [1, ]\n",
    "lams_2 = [0.01, ]\n",
    "\n",
    "models = []\n",
    "for lam_0, lam_1, lam_2 in zip(lams_0, lams_1, lams_2):\n",
    "    model = get_model(lam_0=lam_0, lam_1=lam_1, lam_2=lam_2, name=f\"Lam {lam_2}\")\n",
    "    model.fit(X, y, epochs=20, batch_size=8, validation_split=0.1)\n",
    "    models.append(model)\n"
   ]
  },
  {
   "cell_type": "code",
   "execution_count": 47,
   "metadata": {},
   "outputs": [],
   "source": [
    "models = [model,]"
   ]
  },
  {
   "cell_type": "markdown",
   "metadata": {},
   "source": [
    "## Evaluate"
   ]
  },
  {
   "cell_type": "code",
   "execution_count": null,
   "metadata": {},
   "outputs": [
    {
     "name": "stdout",
     "output_type": "stream",
     "text": [
      "Simulating data based on sparse patches.\n"
     ]
    },
    {
     "name": "stderr",
     "output_type": "stream",
     "text": [
      "100%|██████████| 2/2 [00:00<00:00, 12.61it/s]\n",
      "100%|██████████| 2/2 [00:00<00:00, 1002.82it/s]\n",
      "100%|██████████| 2/2 [00:00<00:00, 55.70it/s]\n"
     ]
    },
    {
     "name": "stdout",
     "output_type": "stream",
     "text": [
      "AUC:  0.4506545454545454  Corrs:  -0.013988784125806055  nMSE:  0.0002984057234285125\n"
     ]
    },
    {
     "name": "stdout",
     "output_type": "stream",
     "text": [
      "Using control points [0.02454895 0.04213159 0.11234727]\n",
      "Using control points [0.00000000e+00 0.00000000e+00 3.14025451e-08]\n",
      "Using control points [0.05798654 0.10227946 0.33669638]\n"
     ]
    }
   ],
   "source": [
    "from esinet.evaluate import eval_auc\n",
    "from scipy.stats import pearsonr\n",
    "sim_test = Simulation(fwd, info, settings=settings).simulate(n_samples=2)\n",
    "idx = 0\n",
    "stc = sim_test.source_data[idx].copy()\n",
    "stc.plot(**plot_params)\n",
    "\n",
    "for mod in models:\n",
    "    src_hat = mod.predict(X)[idx]\n",
    "    stc_hat = stc.copy()\n",
    "    stc_hat.data = src_hat.T\n",
    "    stc_hat.plot(**plot_params)\n",
    "    auc = np.mean([np.mean(eval_auc(y_true_sample, y_pred_sample, pos)) for y_true_sample, y_pred_sample in zip(stc.data.T, stc_hat.data.T)])\n",
    "    corrs = np.mean([np.mean(pearsonr(y_true_sample, y_pred_sample)[0]) for y_true_sample, y_pred_sample in zip(stc.data.T, stc_hat.data.T)])\n",
    "    nmses = np.mean([np.mean((y_true_sample - y_pred_sample)**2) for y_true_sample, y_pred_sample in zip(stc.data.T, stc_hat.data.T)])\n",
    "    \n",
    "    print(\"AUC: \", auc, \" Corrs: \", corrs, \" nMSE: \", nmses)"
   ]
  },
  {
   "cell_type": "markdown",
   "metadata": {},
   "source": [
    "# Evaluate New"
   ]
  },
  {
   "cell_type": "code",
   "execution_count": 48,
   "metadata": {},
   "outputs": [
    {
     "name": "stdout",
     "output_type": "stream",
     "text": [
      "Simulating data based on sparse patches.\n"
     ]
    },
    {
     "name": "stderr",
     "output_type": "stream",
     "text": [
      "100%|██████████| 2/2 [00:00<00:00, 334.25it/s]\n",
      "100%|██████████| 2/2 [00:00<00:00, 2004.93it/s]\n",
      "100%|██████████| 2/2 [00:00<00:00, 55.70it/s]\n"
     ]
    },
    {
     "name": "stdout",
     "output_type": "stream",
     "text": [
      "CS_Net  AUC:  0.9762000000000001  Corrs:  0.1828618053288864  nMSE:  0.006708810981980628 \n",
      "\n"
     ]
    }
   ],
   "source": [
    "from esinet.evaluate import eval_auc\n",
    "from scipy.stats import pearsonr\n",
    "# settings = dict(duration_of_trial=0.25, extents=(1,40), number_of_sources=(1,15), target_snr=1e99)\n",
    "settings = dict(duration_of_trial=0.25, extents=20, number_of_sources=1, target_snr=1e99)\n",
    "\n",
    "sim_test = Simulation(fwd, info, settings=settings).simulate(n_samples=2)\n",
    "\n",
    "X_test = np.stack([eeg.average().data for eeg in sim_test.eeg_data], axis=0)\n",
    "y_test = np.stack([source.data for source in sim_test.source_data], axis=0)\n",
    "X_test, y_test = prep_data(X_test, y_test)\n",
    "X_test = np.swapaxes(X_test, 1, 2)\n",
    "y_test = np.swapaxes(y_test, 1, 2)\n",
    "\n",
    "\n",
    "idx = 0\n",
    "stc = sim_test.source_data[idx].copy()\n",
    "stc.data /= np.max(abs(stc.data))\n",
    "stc.plot(**plot_params)\n",
    "\n",
    "for model in models:\n",
    "    src_hat = model.predict(X_test)[idx]\n",
    "    stc_hat = stc.copy()\n",
    "    stc_hat.data = src_hat.T\n",
    "    stc_hat.data /= np.max(abs(stc_hat.data))\n",
    "    stc_hat.plot(**plot_params)\n",
    "    auc = np.mean([np.mean(eval_auc(y_true_sample, y_pred_sample, pos)) for y_true_sample, y_pred_sample in zip(stc.data.T, stc_hat.data.T)])\n",
    "    corrs = np.mean([np.mean(pearsonr(y_true_sample, y_pred_sample)[0]) for y_true_sample, y_pred_sample in zip(stc.data.T, stc_hat.data.T)])\n",
    "    nmses = np.mean([np.mean((y_true_sample - y_pred_sample)**2) for y_true_sample, y_pred_sample in zip(stc.data.T, stc_hat.data.T)])\n",
    "    \n",
    "    print(model.name, \" AUC: \", auc, \" Corrs: \", corrs, \" nMSE: \", nmses, \"\\n\")"
   ]
  },
  {
   "cell_type": "code",
   "execution_count": 49,
   "metadata": {},
   "outputs": [
    {
     "data": {
      "text/plain": [
       "(array([  8.,   0.,   0.,   0., 312.,   0.,  85.,   0., 181.,  39.]),\n",
       " array([-2.22044605e-16, -1.66533454e-16, -1.11022302e-16, -5.55111512e-17,\n",
       "         0.00000000e+00,  5.55111512e-17,  1.11022302e-16,  1.66533454e-16,\n",
       "         2.22044605e-16,  2.77555756e-16,  3.33066907e-16]),\n",
       " <BarContainer object of 10 artists>)"
      ]
     },
     "execution_count": 49,
     "metadata": {},
     "output_type": "execute_result"
    },
    {
     "data": {
      "image/png": "[encoded data removed]",
      "text/plain": [
       "<Figure size 432x288 with 1 Axes>"
      ]
     },
     "metadata": {
      "needs_background": "light"
     },
     "output_type": "display_data"
    },
    {
     "data": {
      "image/png": "[encoded data removed]",
      "text/plain": [
       "<Figure size 432x288 with 1 Axes>"
      ]
     },
     "metadata": {
      "needs_background": "light"
     },
     "output_type": "display_data"
    },
    {
     "name": "stdout",
     "output_type": "stream",
     "text": [
      "Using control points [1.99267993e-08 1.85261041e-06 3.01261865e-02]\n",
      "Using control points [0.16313677 0.1865924  0.31465007]\n",
      "Using control points [0.28877792 0.36436045 0.82884548]\n",
      "Using control points [0.28877792 0.36436045 0.82884548]\n",
      "Using control points [1.99267993e-08 1.85261041e-06 3.01261865e-02]\n",
      "Using control points [0.16410797 0.2065051  0.46552234]\n",
      "Using control points [0.16410797 0.2065051  0.46552234]\n",
      "Using control points [0.30574767 0.38696716 0.87798761]\n"
     ]
    }
   ],
   "source": [
    "plt.figure()\n",
    "plt.hist(compute_cosine_distances(abs(stc_hat.data.T), abs(stc_hat.data.T)).numpy().flatten())\n",
    "\n",
    "plt.figure()\n",
    "plt.hist(compute_cosine_distances(abs(stc.data.T), abs(stc.data.T)).numpy().flatten())"
   ]
  },
  {
   "cell_type": "code",
   "execution_count": 42,
   "metadata": {},
   "outputs": [
    {
     "data": {
      "text/plain": [
       "array([[ 2.22044605e-16,  2.22044605e-16,  2.22044605e-16,\n",
       "         1.11022302e-16,  2.22044605e-16,  2.22044605e-16,\n",
       "         2.22044605e-16,  1.11022302e-16,  2.22044605e-16,\n",
       "         2.22044605e-16,  1.11022302e-16,  2.22044605e-16,\n",
       "         1.11022302e-16,  1.11022302e-16,  1.11022302e-16,\n",
       "         1.11022302e-16,  1.11022302e-16,  2.22044605e-16,\n",
       "         1.11022302e-16,  2.22044605e-16,  1.11022302e-16,\n",
       "         1.11022302e-16,  1.11022302e-16,  2.22044605e-16,\n",
       "         1.11022302e-16],\n",
       "       [ 2.22044605e-16,  2.22044605e-16,  2.22044605e-16,\n",
       "         1.11022302e-16,  2.22044605e-16,  2.22044605e-16,\n",
       "         2.22044605e-16,  1.11022302e-16,  2.22044605e-16,\n",
       "         2.22044605e-16,  1.11022302e-16,  2.22044605e-16,\n",
       "         1.11022302e-16,  1.11022302e-16,  1.11022302e-16,\n",
       "         1.11022302e-16,  1.11022302e-16,  2.22044605e-16,\n",
       "         1.11022302e-16,  2.22044605e-16,  1.11022302e-16,\n",
       "         1.11022302e-16,  1.11022302e-16,  2.22044605e-16,\n",
       "         1.11022302e-16],\n",
       "       [ 2.22044605e-16,  2.22044605e-16,  2.22044605e-16,\n",
       "         1.11022302e-16,  2.22044605e-16,  2.22044605e-16,\n",
       "         2.22044605e-16,  1.11022302e-16,  2.22044605e-16,\n",
       "         2.22044605e-16,  1.11022302e-16,  2.22044605e-16,\n",
       "         1.11022302e-16,  1.11022302e-16,  1.11022302e-16,\n",
       "         1.11022302e-16,  1.11022302e-16,  2.22044605e-16,\n",
       "         1.11022302e-16,  2.22044605e-16,  1.11022302e-16,\n",
       "         1.11022302e-16,  1.11022302e-16,  2.22044605e-16,\n",
       "         1.11022302e-16],\n",
       "       [ 1.11022302e-16,  1.11022302e-16,  1.11022302e-16,\n",
       "        -2.22044605e-16,  1.11022302e-16,  1.11022302e-16,\n",
       "         1.11022302e-16, -2.22044605e-16,  1.11022302e-16,\n",
       "         1.11022302e-16, -2.22044605e-16,  1.11022302e-16,\n",
       "        -2.22044605e-16, -2.22044605e-16, -2.22044605e-16,\n",
       "        -2.22044605e-16, -2.22044605e-16,  1.11022302e-16,\n",
       "        -2.22044605e-16,  1.11022302e-16, -2.22044605e-16,\n",
       "        -2.22044605e-16, -2.22044605e-16,  1.11022302e-16,\n",
       "        -2.22044605e-16],\n",
       "       [ 2.22044605e-16,  2.22044605e-16,  2.22044605e-16,\n",
       "         1.11022302e-16,  2.22044605e-16,  2.22044605e-16,\n",
       "         2.22044605e-16,  1.11022302e-16,  2.22044605e-16,\n",
       "         2.22044605e-16,  1.11022302e-16,  2.22044605e-16,\n",
       "         1.11022302e-16,  1.11022302e-16,  1.11022302e-16,\n",
       "         1.11022302e-16,  1.11022302e-16,  2.22044605e-16,\n",
       "         1.11022302e-16,  2.22044605e-16,  1.11022302e-16,\n",
       "         1.11022302e-16,  1.11022302e-16,  2.22044605e-16,\n",
       "         1.11022302e-16],\n",
       "       [ 2.22044605e-16,  2.22044605e-16,  2.22044605e-16,\n",
       "         1.11022302e-16,  2.22044605e-16,  2.22044605e-16,\n",
       "         2.22044605e-16,  1.11022302e-16,  2.22044605e-16,\n",
       "         2.22044605e-16,  1.11022302e-16,  2.22044605e-16,\n",
       "         1.11022302e-16,  1.11022302e-16,  1.11022302e-16,\n",
       "         1.11022302e-16,  1.11022302e-16,  2.22044605e-16,\n",
       "         1.11022302e-16,  2.22044605e-16,  1.11022302e-16,\n",
       "         1.11022302e-16,  1.11022302e-16,  2.22044605e-16,\n",
       "         1.11022302e-16],\n",
       "       [ 2.22044605e-16,  2.22044605e-16,  2.22044605e-16,\n",
       "         1.11022302e-16,  2.22044605e-16,  2.22044605e-16,\n",
       "         2.22044605e-16,  1.11022302e-16,  2.22044605e-16,\n",
       "         2.22044605e-16,  1.11022302e-16,  2.22044605e-16,\n",
       "         1.11022302e-16,  1.11022302e-16,  1.11022302e-16,\n",
       "         1.11022302e-16,  1.11022302e-16,  2.22044605e-16,\n",
       "         1.11022302e-16,  2.22044605e-16,  1.11022302e-16,\n",
       "         1.11022302e-16,  1.11022302e-16,  2.22044605e-16,\n",
       "         1.11022302e-16],\n",
       "       [ 1.11022302e-16,  1.11022302e-16,  1.11022302e-16,\n",
       "        -2.22044605e-16,  1.11022302e-16,  1.11022302e-16,\n",
       "         1.11022302e-16, -2.22044605e-16,  1.11022302e-16,\n",
       "         1.11022302e-16, -2.22044605e-16,  1.11022302e-16,\n",
       "        -2.22044605e-16, -2.22044605e-16, -2.22044605e-16,\n",
       "        -2.22044605e-16, -2.22044605e-16,  1.11022302e-16,\n",
       "        -2.22044605e-16,  1.11022302e-16, -2.22044605e-16,\n",
       "        -2.22044605e-16, -2.22044605e-16,  1.11022302e-16,\n",
       "        -2.22044605e-16],\n",
       "       [ 2.22044605e-16,  2.22044605e-16,  2.22044605e-16,\n",
       "         1.11022302e-16,  2.22044605e-16,  2.22044605e-16,\n",
       "         2.22044605e-16,  1.11022302e-16,  2.22044605e-16,\n",
       "         2.22044605e-16,  1.11022302e-16,  2.22044605e-16,\n",
       "         1.11022302e-16,  1.11022302e-16,  1.11022302e-16,\n",
       "         1.11022302e-16,  1.11022302e-16,  2.22044605e-16,\n",
       "         1.11022302e-16,  2.22044605e-16,  1.11022302e-16,\n",
       "         1.11022302e-16,  1.11022302e-16,  2.22044605e-16,\n",
       "         1.11022302e-16],\n",
       "       [ 2.22044605e-16,  2.22044605e-16,  2.22044605e-16,\n",
       "         1.11022302e-16,  2.22044605e-16,  2.22044605e-16,\n",
       "         2.22044605e-16,  1.11022302e-16,  2.22044605e-16,\n",
       "         2.22044605e-16,  1.11022302e-16,  2.22044605e-16,\n",
       "         1.11022302e-16,  1.11022302e-16,  1.11022302e-16,\n",
       "         1.11022302e-16,  1.11022302e-16,  2.22044605e-16,\n",
       "         1.11022302e-16,  2.22044605e-16,  1.11022302e-16,\n",
       "         1.11022302e-16,  1.11022302e-16,  2.22044605e-16,\n",
       "         1.11022302e-16],\n",
       "       [ 1.11022302e-16,  1.11022302e-16,  1.11022302e-16,\n",
       "        -2.22044605e-16,  1.11022302e-16,  1.11022302e-16,\n",
       "         1.11022302e-16, -2.22044605e-16,  1.11022302e-16,\n",
       "         1.11022302e-16, -2.22044605e-16,  1.11022302e-16,\n",
       "        -2.22044605e-16, -2.22044605e-16, -2.22044605e-16,\n",
       "        -2.22044605e-16, -2.22044605e-16,  1.11022302e-16,\n",
       "        -2.22044605e-16,  1.11022302e-16, -2.22044605e-16,\n",
       "        -2.22044605e-16, -2.22044605e-16,  1.11022302e-16,\n",
       "        -2.22044605e-16],\n",
       "       [ 2.22044605e-16,  2.22044605e-16,  2.22044605e-16,\n",
       "         1.11022302e-16,  2.22044605e-16,  2.22044605e-16,\n",
       "         2.22044605e-16,  1.11022302e-16,  2.22044605e-16,\n",
       "         2.22044605e-16,  1.11022302e-16,  2.22044605e-16,\n",
       "         1.11022302e-16,  1.11022302e-16,  1.11022302e-16,\n",
       "         1.11022302e-16,  1.11022302e-16,  2.22044605e-16,\n",
       "         1.11022302e-16,  2.22044605e-16,  1.11022302e-16,\n",
       "         1.11022302e-16,  1.11022302e-16,  2.22044605e-16,\n",
       "         1.11022302e-16],\n",
       "       [ 1.11022302e-16,  1.11022302e-16,  1.11022302e-16,\n",
       "        -2.22044605e-16,  1.11022302e-16,  1.11022302e-16,\n",
       "         1.11022302e-16, -2.22044605e-16,  1.11022302e-16,\n",
       "         1.11022302e-16, -2.22044605e-16,  1.11022302e-16,\n",
       "        -2.22044605e-16, -2.22044605e-16, -2.22044605e-16,\n",
       "        -2.22044605e-16, -2.22044605e-16,  1.11022302e-16,\n",
       "        -2.22044605e-16,  1.11022302e-16, -2.22044605e-16,\n",
       "        -2.22044605e-16, -2.22044605e-16,  1.11022302e-16,\n",
       "        -2.22044605e-16],\n",
       "       [ 1.11022302e-16,  1.11022302e-16,  1.11022302e-16,\n",
       "        -2.22044605e-16,  1.11022302e-16,  1.11022302e-16,\n",
       "         1.11022302e-16, -2.22044605e-16,  1.11022302e-16,\n",
       "         1.11022302e-16, -2.22044605e-16,  1.11022302e-16,\n",
       "        -2.22044605e-16, -2.22044605e-16, -2.22044605e-16,\n",
       "        -2.22044605e-16, -2.22044605e-16,  1.11022302e-16,\n",
       "        -2.22044605e-16,  1.11022302e-16, -2.22044605e-16,\n",
       "        -2.22044605e-16, -2.22044605e-16,  1.11022302e-16,\n",
       "        -2.22044605e-16],\n",
       "       [ 1.11022302e-16,  1.11022302e-16,  1.11022302e-16,\n",
       "        -2.22044605e-16,  1.11022302e-16,  1.11022302e-16,\n",
       "         1.11022302e-16, -2.22044605e-16,  1.11022302e-16,\n",
       "         1.11022302e-16, -2.22044605e-16,  1.11022302e-16,\n",
       "        -2.22044605e-16, -2.22044605e-16, -2.22044605e-16,\n",
       "        -2.22044605e-16, -2.22044605e-16,  1.11022302e-16,\n",
       "        -2.22044605e-16,  1.11022302e-16, -2.22044605e-16,\n",
       "        -2.22044605e-16, -2.22044605e-16,  1.11022302e-16,\n",
       "        -2.22044605e-16],\n",
       "       [ 1.11022302e-16,  1.11022302e-16,  1.11022302e-16,\n",
       "        -2.22044605e-16,  1.11022302e-16,  1.11022302e-16,\n",
       "         1.11022302e-16, -2.22044605e-16,  1.11022302e-16,\n",
       "         1.11022302e-16, -2.22044605e-16,  1.11022302e-16,\n",
       "        -2.22044605e-16, -2.22044605e-16, -2.22044605e-16,\n",
       "        -2.22044605e-16, -2.22044605e-16,  1.11022302e-16,\n",
       "        -2.22044605e-16,  1.11022302e-16, -2.22044605e-16,\n",
       "        -2.22044605e-16, -2.22044605e-16,  1.11022302e-16,\n",
       "        -2.22044605e-16],\n",
       "       [ 1.11022302e-16,  1.11022302e-16,  1.11022302e-16,\n",
       "        -2.22044605e-16,  1.11022302e-16,  1.11022302e-16,\n",
       "         1.11022302e-16, -2.22044605e-16,  1.11022302e-16,\n",
       "         1.11022302e-16, -2.22044605e-16,  1.11022302e-16,\n",
       "        -2.22044605e-16, -2.22044605e-16, -2.22044605e-16,\n",
       "        -2.22044605e-16, -2.22044605e-16,  1.11022302e-16,\n",
       "        -2.22044605e-16,  1.11022302e-16, -2.22044605e-16,\n",
       "        -2.22044605e-16, -2.22044605e-16,  1.11022302e-16,\n",
       "        -2.22044605e-16],\n",
       "       [ 2.22044605e-16,  2.22044605e-16,  2.22044605e-16,\n",
       "         1.11022302e-16,  2.22044605e-16,  2.22044605e-16,\n",
       "         2.22044605e-16,  1.11022302e-16,  2.22044605e-16,\n",
       "         2.22044605e-16,  1.11022302e-16,  2.22044605e-16,\n",
       "         1.11022302e-16,  1.11022302e-16,  1.11022302e-16,\n",
       "         1.11022302e-16,  1.11022302e-16,  2.22044605e-16,\n",
       "         1.11022302e-16,  2.22044605e-16,  1.11022302e-16,\n",
       "         1.11022302e-16,  1.11022302e-16,  2.22044605e-16,\n",
       "         1.11022302e-16],\n",
       "       [ 1.11022302e-16,  1.11022302e-16,  1.11022302e-16,\n",
       "        -2.22044605e-16,  1.11022302e-16,  1.11022302e-16,\n",
       "         1.11022302e-16, -2.22044605e-16,  1.11022302e-16,\n",
       "         1.11022302e-16, -2.22044605e-16,  1.11022302e-16,\n",
       "        -2.22044605e-16, -2.22044605e-16, -2.22044605e-16,\n",
       "        -2.22044605e-16, -2.22044605e-16,  1.11022302e-16,\n",
       "        -2.22044605e-16,  1.11022302e-16, -2.22044605e-16,\n",
       "        -2.22044605e-16, -2.22044605e-16,  1.11022302e-16,\n",
       "        -2.22044605e-16],\n",
       "       [ 2.22044605e-16,  2.22044605e-16,  2.22044605e-16,\n",
       "         1.11022302e-16,  2.22044605e-16,  2.22044605e-16,\n",
       "         2.22044605e-16,  1.11022302e-16,  2.22044605e-16,\n",
       "         2.22044605e-16,  1.11022302e-16,  2.22044605e-16,\n",
       "         1.11022302e-16,  1.11022302e-16,  1.11022302e-16,\n",
       "         1.11022302e-16,  1.11022302e-16,  2.22044605e-16,\n",
       "         1.11022302e-16,  2.22044605e-16,  1.11022302e-16,\n",
       "         1.11022302e-16,  1.11022302e-16,  2.22044605e-16,\n",
       "         1.11022302e-16],\n",
       "       [ 1.11022302e-16,  1.11022302e-16,  1.11022302e-16,\n",
       "        -2.22044605e-16,  1.11022302e-16,  1.11022302e-16,\n",
       "         1.11022302e-16, -2.22044605e-16,  1.11022302e-16,\n",
       "         1.11022302e-16, -2.22044605e-16,  1.11022302e-16,\n",
       "        -2.22044605e-16, -2.22044605e-16, -2.22044605e-16,\n",
       "        -2.22044605e-16, -2.22044605e-16,  1.11022302e-16,\n",
       "        -2.22044605e-16,  1.11022302e-16, -2.22044605e-16,\n",
       "        -2.22044605e-16, -2.22044605e-16,  1.11022302e-16,\n",
       "        -2.22044605e-16],\n",
       "       [ 1.11022302e-16,  1.11022302e-16,  1.11022302e-16,\n",
       "        -2.22044605e-16,  1.11022302e-16,  1.11022302e-16,\n",
       "         1.11022302e-16, -2.22044605e-16,  1.11022302e-16,\n",
       "         1.11022302e-16, -2.22044605e-16,  1.11022302e-16,\n",
       "        -2.22044605e-16, -2.22044605e-16, -2.22044605e-16,\n",
       "        -2.22044605e-16, -2.22044605e-16,  1.11022302e-16,\n",
       "        -2.22044605e-16,  1.11022302e-16, -2.22044605e-16,\n",
       "        -2.22044605e-16, -2.22044605e-16,  1.11022302e-16,\n",
       "        -2.22044605e-16],\n",
       "       [ 1.11022302e-16,  1.11022302e-16,  1.11022302e-16,\n",
       "        -2.22044605e-16,  1.11022302e-16,  1.11022302e-16,\n",
       "         1.11022302e-16, -2.22044605e-16,  1.11022302e-16,\n",
       "         1.11022302e-16, -2.22044605e-16,  1.11022302e-16,\n",
       "        -2.22044605e-16, -2.22044605e-16, -2.22044605e-16,\n",
       "        -2.22044605e-16, -2.22044605e-16,  1.11022302e-16,\n",
       "        -2.22044605e-16,  1.11022302e-16, -2.22044605e-16,\n",
       "        -2.22044605e-16, -2.22044605e-16,  1.11022302e-16,\n",
       "        -2.22044605e-16],\n",
       "       [ 2.22044605e-16,  2.22044605e-16,  2.22044605e-16,\n",
       "         1.11022302e-16,  2.22044605e-16,  2.22044605e-16,\n",
       "         2.22044605e-16,  1.11022302e-16,  2.22044605e-16,\n",
       "         2.22044605e-16,  1.11022302e-16,  2.22044605e-16,\n",
       "         1.11022302e-16,  1.11022302e-16,  1.11022302e-16,\n",
       "         1.11022302e-16,  1.11022302e-16,  2.22044605e-16,\n",
       "         1.11022302e-16,  2.22044605e-16,  1.11022302e-16,\n",
       "         1.11022302e-16,  1.11022302e-16,  2.22044605e-16,\n",
       "         1.11022302e-16],\n",
       "       [ 1.11022302e-16,  1.11022302e-16,  1.11022302e-16,\n",
       "        -2.22044605e-16,  1.11022302e-16,  1.11022302e-16,\n",
       "         1.11022302e-16, -2.22044605e-16,  1.11022302e-16,\n",
       "         1.11022302e-16, -2.22044605e-16,  1.11022302e-16,\n",
       "        -2.22044605e-16, -2.22044605e-16, -2.22044605e-16,\n",
       "        -2.22044605e-16, -2.22044605e-16,  1.11022302e-16,\n",
       "        -2.22044605e-16,  1.11022302e-16, -2.22044605e-16,\n",
       "        -2.22044605e-16, -2.22044605e-16,  1.11022302e-16,\n",
       "        -2.22044605e-16]])"
      ]
     },
     "execution_count": 42,
     "metadata": {},
     "output_type": "execute_result"
    }
   ],
   "source": [
    "compute_cosine_distances(abs(stc.data.T), abs(stc.data.T)).numpy()"
   ]
  },
  {
   "cell_type": "code",
   "execution_count": null,
   "metadata": {},
   "outputs": [
    {
     "name": "stdout",
     "output_type": "stream",
     "text": [
      "CS_Net  AUC:  0.8378210112213429  Corrs:  0.7222753552536002  nMSE:  0.0006593505864149563 \n",
      "\n"
     ]
    },
    {
     "name": "stdout",
     "output_type": "stream",
     "text": [
      "Using control points [0.09355759 0.12046235 0.51585314]\n",
      "Using control points [0.09003848 0.10991064 0.52070489]\n",
      "Using control points [0.08965538 0.11320082 0.38877619]\n",
      "Using control points [0.0851066  0.09752246 0.21187828]\n",
      "Using control points [0.07968308 0.09179646 0.23420075]\n",
      "Using control points [0.12812387 0.17138633 0.88748322]\n",
      "Using control points [0.12812387 0.17138633 0.88748322]\n",
      "Using control points [0.11990799 0.16882805 0.88780172]\n",
      "Using control points [0.11927841 0.15267209 0.64830078]\n",
      "Using control points [0.00000000e+00 3.64393098e-09 5.85266263e-08]\n",
      "Using control points [0.         0.01178944 0.34447401]\n"
     ]
    }
   ],
   "source": [
    "sys.path.insert(0, '../../invert/')\n",
    "from invert.solvers.minimum_norm_estimates import SolverDynamicStatisticalParametricMapping, SolverMinimumNorm\n",
    "from invert.solvers.wrop import SolverLAURA\n",
    "from invert.solvers.empirical_bayes import SolverChampagne\n",
    "\n",
    "# solver = SolverLAURA().make_inverse_operator(fwd)\n",
    "solver = SolverChampagne().make_inverse_operator(fwd)\n",
    "# solver = SolverMinimumNorm().make_inverse_operator(fwd)\n",
    "\n",
    "stc_mne = solver.apply_inverse_operator(sim_test.eeg_data[0].average())\n",
    "stc_mne.data = stc_mne.data / np.max(abs(stc_mne.data))\n",
    "stc_mne.plot(**plot_params, brain_kwargs=dict(title=solver.name))\n",
    "auc = np.mean([np.mean(eval_auc(y_true_sample, y_pred_sample, pos)) for y_true_sample, y_pred_sample in zip(stc.data.T, stc_mne.data.T)])\n",
    "corrs = np.mean([np.mean(pearsonr(y_true_sample, y_pred_sample)[0]) for y_true_sample, y_pred_sample in zip(stc.data.T, stc_mne.data.T)])\n",
    "nmses = np.mean([np.mean((y_true_sample - y_pred_sample)**2) for y_true_sample, y_pred_sample in zip(stc.data.T, stc_mne.data.T)])\n",
    "\n",
    "print(model.name, \" AUC: \", auc, \" Corrs: \", corrs, \" nMSE: \", nmses, \"\\n\")"
   ]
  },
  {
   "cell_type": "code",
   "execution_count": null,
   "metadata": {},
   "outputs": [],
   "source": []
  }
 ],
 "metadata": {
  "kernelspec": {
   "display_name": "Python 3.8.10 ('esienv')",
   "language": "python",
   "name": "python3"
  },
  "language_info": {
   "codemirror_mode": {
    "name": "ipython",
    "version": 3
   },
   "file_extension": ".py",
   "mimetype": "text/x-python",
   "name": "python",
   "nbconvert_exporter": "python",
   "pygments_lexer": "ipython3",
   "version": "3.8.10"
  },
  "orig_nbformat": 4,
  "vscode": {
   "interpreter": {
    "hash": "a9587d79750f5d7fc5c0560e15a7a8a49dff11015373bda407c2fe4ab31d0fe5"
   }
  }
 },
 "nbformat": 4,
 "nbformat_minor": 2
}
