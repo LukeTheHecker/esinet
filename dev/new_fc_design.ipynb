{
 "cells": [
  {
   "cell_type": "markdown",
   "metadata": {},
   "source": [
    "# Tutorial 3: How simulations define your predictions\n",
    "The inverse problem has no unique solution as it is ill-posed. In order to solve it we need to constraint the space of possible solutions. While inverse solutions like minimum-norm estimates have an explicit constraint of minimum-energy, the constraints with esinet are implicit and mostly shaped by the simulations.\n",
    "\n",
    "This tutorial aims the relation between simulation parameters and predictions."
   ]
  },
  {
   "cell_type": "code",
   "execution_count": 1,
   "metadata": {},
   "outputs": [],
   "source": [
    "%matplotlib inline\n",
    "%load_ext autoreload\n",
    "%autoreload 2\n",
    "\n",
    "# import mne\n",
    "# import numpy as np\n",
    "# from copy import deepcopy\n",
    "# import matplotlib.pyplot as plt\n",
    "import sys; sys.path.insert(0, '../')\n",
    "from esinet import util\n",
    "from esinet import Simulation\n",
    "from esinet import Net\n",
    "from esinet.forward import create_forward_model, get_info\n",
    "from scipy.stats import pearsonr\n",
    "from matplotlib import pyplot as plt\n",
    "plot_params = dict(surface='white', hemi='both', verbose=0)"
   ]
  },
  {
   "cell_type": "markdown",
   "metadata": {},
   "source": [
    "## Create Forward model\n",
    "First we create a template forward model which comes with the esinet package"
   ]
  },
  {
   "cell_type": "code",
   "execution_count": 2,
   "metadata": {},
   "outputs": [
    {
     "name": "stderr",
     "output_type": "stream",
     "text": [
      "[Parallel(n_jobs=8)]: Using backend LokyBackend with 8 concurrent workers.\n",
      "[Parallel(n_jobs=8)]: Done   3 out of   8 | elapsed:    1.8s remaining:    3.0s\n",
      "[Parallel(n_jobs=8)]: Done   5 out of   8 | elapsed:    1.8s remaining:    1.0s\n",
      "[Parallel(n_jobs=8)]: Done   8 out of   8 | elapsed:    1.8s finished\n",
      "[Parallel(n_jobs=8)]: Using backend LokyBackend with 8 concurrent workers.\n",
      "[Parallel(n_jobs=8)]: Done   3 out of   8 | elapsed:    0.0s remaining:    0.1s\n",
      "[Parallel(n_jobs=8)]: Done   5 out of   8 | elapsed:    0.0s remaining:    0.0s\n",
      "[Parallel(n_jobs=8)]: Done   8 out of   8 | elapsed:    0.0s finished\n",
      "[Parallel(n_jobs=8)]: Using backend LokyBackend with 8 concurrent workers.\n",
      "[Parallel(n_jobs=8)]: Done   3 out of   8 | elapsed:    0.0s remaining:    0.1s\n",
      "[Parallel(n_jobs=8)]: Done   5 out of   8 | elapsed:    0.0s remaining:    0.0s\n",
      "[Parallel(n_jobs=8)]: Done   8 out of   8 | elapsed:    0.1s finished\n"
     ]
    }
   ],
   "source": [
    "info = get_info(sfreq=100)\n",
    "fwd = create_forward_model(sampling=\"ico3\", info=info)"
   ]
  },
  {
   "cell_type": "markdown",
   "metadata": {},
   "source": [
    "# Simulate"
   ]
  },
  {
   "cell_type": "markdown",
   "metadata": {},
   "source": [
    "## defs"
   ]
  },
  {
   "cell_type": "code",
   "execution_count": 3,
   "metadata": {},
   "outputs": [],
   "source": [
    "import numpy as np\n",
    "import tensorflow as tf\n",
    "import mne\n",
    "def prep_data(sim):\n",
    "    X = np.squeeze(np.stack([eeg.average().data for eeg in sim.eeg_data]))\n",
    "    X = np.stack([(x - np.mean(x)) / np.std(x) for x in X], axis=0)\n",
    "    y = np.squeeze(np.stack([src.data for src in sim.source_data]))\n",
    "    y = np.stack([(x / np.max(abs(x))) for x in y], axis=0)\n",
    "\n",
    "    X = np.swapaxes(X, 1,2)\n",
    "    y = np.swapaxes(y, 1,2)\n",
    "    return X, y\n",
    "\n",
    "def sparsity(y_true, y_pred):\n",
    "    return K.mean(K.square(y_pred)) / K.max(K.square(y_pred))\n",
    "def custom_loss():\n",
    "    def loss(y_true, y_pred):\n",
    "        loss1 = tf.keras.losses.CosineSimilarity()(y_true, y_pred)\n",
    "        loss2 = sparsity(None, y_pred)\n",
    "        return loss1 + loss2 * 1e-3\n",
    "    return loss\n",
    "\n",
    "from esinet.evaluate import auc_metric, eval_auc, eval_nmse, eval_mean_localization_error\n",
    "\n",
    "def eval(y_true, y_hat):\n",
    "    n_samples = y_true.shape[0]\n",
    "    n_time = y_true.shape[1]\n",
    "    aucs = np.zeros((n_samples, n_time))\n",
    "    mles = np.zeros((n_samples, n_time))\n",
    "    nmses = np.zeros((n_samples, n_time))\n",
    "    for i in range(n_samples):\n",
    "        for j in range(n_time):\n",
    "            aucs[i,j] = np.mean(eval_auc(y_true[i,j], y_hat[i,j], pos))\n",
    "            nmses[i,j] = eval_nmse(y_true[i,j], y_hat[i,j])\n",
    "            mles[i,j] = eval_mean_localization_error(y_true[i,j], y_hat[i,j], pos)\n",
    "\n",
    "    return aucs, nmses, mles\n",
    "\n",
    "def threshold_activation(x):\n",
    "    return tf.cast(x > 0.5, dtype=tf.float32)\n",
    "\n",
    "class Compressor:\n",
    "    ''' Compression using Graph Fourier Transform\n",
    "    '''\n",
    "    def __init__(self):\n",
    "        pass\n",
    "    def fit(self, fwd, k=600):\n",
    "        A = mne.spatial_src_adjacency(fwd[\"src\"], verbose=0).toarray()\n",
    "        D = np.diag(A.sum(axis=0))\n",
    "        L = D-A\n",
    "        U, s, V = np.linalg.svd(L)\n",
    "\n",
    "        self.U = U[:, -k:]\n",
    "        self.s = s[-k:]\n",
    "        self.V = V[:, -k:]\n",
    "        return self\n",
    "        \n",
    "    def encode(self, X):\n",
    "        ''' Encodes a true signal X\n",
    "        Parameters\n",
    "        ----------\n",
    "        X : numpy.ndarray\n",
    "            True signal\n",
    "        \n",
    "        Return\n",
    "        ------\n",
    "        X_comp : numpy.ndarray\n",
    "            Compressed signal\n",
    "        '''\n",
    "        X_comp = self.U.T @ X\n",
    "\n",
    "        return X_comp\n",
    "\n",
    "    def decode(self, X_comp):\n",
    "        ''' Decodes a compressed signal X\n",
    "\n",
    "        Parameters\n",
    "        ----------\n",
    "        X : numpy.ndarray\n",
    "            Compressed signal\n",
    "        \n",
    "        Return\n",
    "        ------\n",
    "        X_unfold : numpy.ndarray\n",
    "            Decoded signal\n",
    "        '''\n",
    "        X_unfold = self.U @ X_comp\n",
    "        return X_unfold"
   ]
  },
  {
   "cell_type": "markdown",
   "metadata": {},
   "source": [
    "## sim"
   ]
  },
  {
   "cell_type": "code",
   "execution_count": 14,
   "metadata": {},
   "outputs": [
    {
     "name": "stdout",
     "output_type": "stream",
     "text": [
      "Simulating data based on sparse patches.\n"
     ]
    },
    {
     "name": "stderr",
     "output_type": "stream",
     "text": [
      "100%|██████████| 10000/10000 [00:42<00:00, 237.37it/s]\n",
      "100%|██████████| 10000/10000 [00:00<00:00, 14903.65it/s]\n"
     ]
    },
    {
     "name": "stdout",
     "output_type": "stream",
     "text": [
      "source data shape:  (1284, 25) (1284, 25)\n"
     ]
    },
    {
     "name": "stderr",
     "output_type": "stream",
     "text": [
      "100%|██████████| 10000/10000 [00:34<00:00, 285.74it/s]\n"
     ]
    }
   ],
   "source": [
    "n_samples = 10000\n",
    "settings = dict(duration_of_trial=0.25, extents=(1,40), number_of_sources=(1,10), target_snr=99999)\n",
    "sim = Simulation(fwd, info, settings=settings).simulate(n_samples=n_samples)\n",
    "X, y = prep_data(sim)"
   ]
  },
  {
   "cell_type": "markdown",
   "metadata": {},
   "source": [
    "# FC"
   ]
  },
  {
   "cell_type": "code",
   "execution_count": 15,
   "metadata": {},
   "outputs": [
    {
     "name": "stdout",
     "output_type": "stream",
     "text": [
      "Model: \"FC\"\n",
      "_________________________________________________________________\n",
      "Layer (type)                 Output Shape              Param #   \n",
      "=================================================================\n",
      "Input (InputLayer)           [(None, None, 61)]        0         \n",
      "_________________________________________________________________\n",
      "FC1 (TimeDistributed)        (None, None, 300)         18600     \n",
      "_________________________________________________________________\n",
      "FC2 (TimeDistributed)        (None, None, 300)         90300     \n",
      "_________________________________________________________________\n",
      "Output (TimeDistributed)     (None, None, 1284)        386484    \n",
      "=================================================================\n",
      "Total params: 495,384\n",
      "Trainable params: 495,384\n",
      "Non-trainable params: 0\n",
      "_________________________________________________________________\n",
      "Epoch 1/50\n",
      "266/266 [==============================] - 10s 36ms/step - loss: -0.2599 - val_loss: -0.3134\n",
      "Epoch 2/50\n",
      "266/266 [==============================] - 10s 36ms/step - loss: -0.3423 - val_loss: -0.3492\n",
      "Epoch 3/50\n",
      "266/266 [==============================] - 9s 35ms/step - loss: -0.3672 - val_loss: -0.3634\n",
      "Epoch 4/50\n",
      "266/266 [==============================] - 10s 37ms/step - loss: -0.3817 - val_loss: -0.3778\n",
      "Epoch 5/50\n",
      "266/266 [==============================] - 10s 36ms/step - loss: -0.3936 - val_loss: -0.3851\n",
      "Epoch 6/50\n",
      "266/266 [==============================] - 10s 36ms/step - loss: -0.4016 - val_loss: -0.3899\n",
      "Epoch 7/50\n",
      "266/266 [==============================] - 10s 36ms/step - loss: -0.4076 - val_loss: -0.3984\n",
      "Epoch 8/50\n",
      "266/266 [==============================] - 10s 36ms/step - loss: -0.4118 - val_loss: -0.4018\n",
      "Epoch 9/50\n",
      "266/266 [==============================] - 9s 36ms/step - loss: -0.4170 - val_loss: -0.4052\n",
      "Epoch 10/50\n",
      "266/266 [==============================] - 10s 36ms/step - loss: -0.4208 - val_loss: -0.4077\n",
      "Epoch 11/50\n",
      "266/266 [==============================] - 9s 36ms/step - loss: -0.4242 - val_loss: -0.4129\n",
      "Epoch 12/50\n",
      "266/266 [==============================] - 10s 36ms/step - loss: -0.4273 - val_loss: -0.4124\n",
      "Epoch 13/50\n",
      "266/266 [==============================] - 10s 36ms/step - loss: -0.4308 - val_loss: -0.4194\n",
      "Epoch 14/50\n",
      "266/266 [==============================] - 10s 36ms/step - loss: -0.4341 - val_loss: -0.4189\n",
      "Epoch 15/50\n",
      "266/266 [==============================] - 10s 36ms/step - loss: -0.4363 - val_loss: -0.4216\n",
      "Epoch 16/50\n",
      "266/266 [==============================] - 10s 36ms/step - loss: -0.4399 - val_loss: -0.4253\n",
      "Epoch 17/50\n",
      "266/266 [==============================] - 10s 36ms/step - loss: -0.4428 - val_loss: -0.4268\n",
      "Epoch 18/50\n",
      "266/266 [==============================] - 10s 36ms/step - loss: -0.4451 - val_loss: -0.4300\n",
      "Epoch 19/50\n",
      "266/266 [==============================] - 10s 37ms/step - loss: -0.4483 - val_loss: -0.4323\n",
      "Epoch 20/50\n",
      "266/266 [==============================] - 10s 36ms/step - loss: -0.4516 - val_loss: -0.4344\n",
      "Epoch 21/50\n",
      "266/266 [==============================] - 10s 36ms/step - loss: -0.4537 - val_loss: -0.4366\n",
      "Epoch 22/50\n",
      "266/266 [==============================] - 10s 36ms/step - loss: -0.4568 - val_loss: -0.4388\n",
      "Epoch 23/50\n",
      "266/266 [==============================] - 10s 36ms/step - loss: -0.4596 - val_loss: -0.4417\n",
      "Epoch 24/50\n",
      "266/266 [==============================] - 10s 36ms/step - loss: -0.4624 - val_loss: -0.4456\n",
      "Epoch 25/50\n",
      "266/266 [==============================] - 10s 36ms/step - loss: -0.4648 - val_loss: -0.4481\n",
      "Epoch 26/50\n",
      "266/266 [==============================] - 10s 36ms/step - loss: -0.4675 - val_loss: -0.4498\n",
      "Epoch 27/50\n",
      "266/266 [==============================] - 10s 37ms/step - loss: -0.4698 - val_loss: -0.4515\n",
      "Epoch 28/50\n",
      "266/266 [==============================] - 10s 36ms/step - loss: -0.4725 - val_loss: -0.4549\n",
      "Epoch 29/50\n",
      "266/266 [==============================] - 10s 36ms/step - loss: -0.4749 - val_loss: -0.4551\n",
      "Epoch 30/50\n",
      "266/266 [==============================] - 10s 36ms/step - loss: -0.4774 - val_loss: -0.4562\n",
      "Epoch 31/50\n",
      "266/266 [==============================] - 10s 36ms/step - loss: -0.4793 - val_loss: -0.4579\n",
      "Epoch 32/50\n",
      "266/266 [==============================] - 10s 37ms/step - loss: -0.4817 - val_loss: -0.4622\n",
      "Epoch 33/50\n",
      "266/266 [==============================] - 10s 36ms/step - loss: -0.4838 - val_loss: -0.4644\n",
      "Epoch 34/50\n",
      "266/266 [==============================] - 10s 37ms/step - loss: -0.4864 - val_loss: -0.4636\n",
      "Epoch 35/50\n",
      "266/266 [==============================] - 10s 36ms/step - loss: -0.4887 - val_loss: -0.4683\n",
      "Epoch 36/50\n",
      "266/266 [==============================] - 10s 36ms/step - loss: -0.4906 - val_loss: -0.4690\n",
      "Epoch 37/50\n",
      "266/266 [==============================] - 10s 36ms/step - loss: -0.4925 - val_loss: -0.4708\n",
      "Epoch 38/50\n",
      "266/266 [==============================] - 10s 36ms/step - loss: -0.4940 - val_loss: -0.4725\n",
      "Epoch 39/50\n",
      "266/266 [==============================] - 10s 37ms/step - loss: -0.4961 - val_loss: -0.4742\n",
      "Epoch 40/50\n",
      "266/266 [==============================] - 10s 38ms/step - loss: -0.4977 - val_loss: -0.4749\n",
      "Epoch 41/50\n",
      "266/266 [==============================] - 10s 38ms/step - loss: -0.4993 - val_loss: -0.4771\n",
      "Epoch 42/50\n",
      "266/266 [==============================] - 10s 37ms/step - loss: -0.5012 - val_loss: -0.4772\n",
      "Epoch 43/50\n",
      "266/266 [==============================] - 10s 36ms/step - loss: -0.5026 - val_loss: -0.4802\n",
      "Epoch 44/50\n",
      "266/266 [==============================] - 10s 36ms/step - loss: -0.5040 - val_loss: -0.4803\n",
      "Epoch 45/50\n",
      "266/266 [==============================] - 9s 36ms/step - loss: -0.5057 - val_loss: -0.4809\n",
      "Epoch 46/50\n",
      "266/266 [==============================] - 10s 36ms/step - loss: -0.5069 - val_loss: -0.4831\n",
      "Epoch 47/50\n",
      "266/266 [==============================] - 10s 36ms/step - loss: -0.5081 - val_loss: -0.4842\n",
      "Epoch 48/50\n",
      "266/266 [==============================] - 10s 36ms/step - loss: -0.5096 - val_loss: -0.4842\n",
      "Epoch 49/50\n",
      "266/266 [==============================] - 10s 36ms/step - loss: -0.5107 - val_loss: -0.4862\n",
      "Epoch 50/50\n",
      "266/266 [==============================] - 10s 36ms/step - loss: -0.5116 - val_loss: -0.4873\n"
     ]
    },
    {
     "data": {
      "text/plain": [
       "<tensorflow.python.keras.callbacks.History at 0x1b9ba5baf40>"
      ]
     },
     "execution_count": 15,
     "metadata": {},
     "output_type": "execute_result"
    }
   ],
   "source": [
    "import tensorflow as tf\n",
    "from tensorflow.keras.layers import Dense, TimeDistributed, Bidirectional, LSTM, GRU, multiply, Activation\n",
    "from tensorflow.keras.regularizers import l1\n",
    "from esinet.losses import nmae_loss\n",
    "leadfield, pos = util.unpack_fwd(fwd)[1:3]\n",
    "n_channels, n_dipoles = leadfield.shape\n",
    "input_shape = (None, None, n_channels)\n",
    "tf.keras.backend.set_image_data_format('channels_last')\n",
    "\n",
    "n_dense_units = 128\n",
    "n_lstm_units = 30\n",
    "activation_function = \"tanh\"\n",
    "batch_size = 32\n",
    "epochs = 50\n",
    "dropout = 0.1\n",
    "\n",
    "inputs = tf.keras.Input(shape=(None, n_channels), name='Input')\n",
    "fc1 = TimeDistributed(Dense(n_dense_units, \n",
    "            activation=activation_function), \n",
    "            name='FC1')(inputs)\n",
    "fc2 = TimeDistributed(Dense(n_dense_units, \n",
    "            activation=activation_function), \n",
    "            name='FC2')(fc1)\n",
    "fc3 = TimeDistributed(Dense(n_dense_units, \n",
    "            activation=activation_function), \n",
    "            name='FC3')(fc2)\n",
    "\n",
    "direct_out = TimeDistributed(Dense(n_dipoles, \n",
    "            activation=\"linear\"),\n",
    "            name='Output')(fc3)\n",
    "\n",
    "\n",
    "model = tf.keras.Model(inputs=inputs, outputs=direct_out, name='FC')\n",
    "\n",
    "\n",
    "model.compile(loss=tf.keras.losses.CosineSimilarity(), optimizer=\"adam\")\n",
    "\n",
    "model.summary()\n",
    "model.fit(X, y, epochs=epochs, batch_size=batch_size, validation_split=0.15)"
   ]
  },
  {
   "cell_type": "markdown",
   "metadata": {},
   "source": [
    "# ResNet"
   ]
  },
  {
   "cell_type": "code",
   "execution_count": 19,
   "metadata": {},
   "outputs": [
    {
     "name": "stdout",
     "output_type": "stream",
     "text": [
      "Model: \"ResNet\"\n",
      "__________________________________________________________________________________________________\n",
      "Layer (type)                    Output Shape         Param #     Connected to                     \n",
      "==================================================================================================\n",
      "Input (InputLayer)              [(None, None, 61)]   0                                            \n",
      "__________________________________________________________________________________________________\n",
      "FC1 (TimeDistributed)           (None, None, 128)    7936        Input[0][0]                      \n",
      "__________________________________________________________________________________________________\n",
      "FC2 (TimeDistributed)           (None, None, 128)    16512       FC1[0][0]                        \n",
      "__________________________________________________________________________________________________\n",
      "adder1 (Add)                    (None, None, 128)    0           FC1[0][0]                        \n",
      "                                                                 FC2[0][0]                        \n",
      "__________________________________________________________________________________________________\n",
      "FC3 (TimeDistributed)           (None, None, 128)    16512       adder1[0][0]                     \n",
      "__________________________________________________________________________________________________\n",
      "adder2 (Add)                    (None, None, 128)    0           adder1[0][0]                     \n",
      "                                                                 FC3[0][0]                        \n",
      "__________________________________________________________________________________________________\n",
      "Output (TimeDistributed)        (None, None, 1284)   165636      adder2[0][0]                     \n",
      "==================================================================================================\n",
      "Total params: 206,596\n",
      "Trainable params: 206,596\n",
      "Non-trainable params: 0\n",
      "__________________________________________________________________________________________________\n",
      "Epoch 1/50\n",
      "266/266 [==============================] - 9s 32ms/step - loss: -0.2408 - val_loss: -0.3018\n",
      "Epoch 2/50\n",
      "266/266 [==============================] - 9s 32ms/step - loss: -0.3325 - val_loss: -0.3395\n",
      "Epoch 3/50\n",
      "266/266 [==============================] - 8s 30ms/step - loss: -0.3610 - val_loss: -0.3604\n",
      "Epoch 4/50\n",
      "266/266 [==============================] - 8s 31ms/step - loss: -0.3772 - val_loss: -0.3721\n",
      "Epoch 5/50\n",
      "266/266 [==============================] - 8s 31ms/step - loss: -0.3891 - val_loss: -0.3821\n",
      "Epoch 6/50\n",
      "266/266 [==============================] - 8s 29ms/step - loss: -0.3987 - val_loss: -0.3912\n",
      "Epoch 7/50\n",
      "266/266 [==============================] - 9s 33ms/step - loss: -0.4063 - val_loss: -0.3962\n",
      "Epoch 8/50\n",
      "266/266 [==============================] - 8s 29ms/step - loss: -0.4130 - val_loss: -0.4022\n",
      "Epoch 9/50\n",
      "266/266 [==============================] - 7s 28ms/step - loss: -0.4188 - val_loss: -0.4056\n",
      "Epoch 10/50\n",
      "266/266 [==============================] - 7s 28ms/step - loss: -0.4234 - val_loss: -0.4113\n",
      "Epoch 11/50\n",
      "266/266 [==============================] - 8s 29ms/step - loss: -0.4287 - val_loss: -0.4161\n",
      "Epoch 12/50\n",
      "266/266 [==============================] - 8s 30ms/step - loss: -0.4327 - val_loss: -0.4198\n",
      "Epoch 13/50\n",
      "266/266 [==============================] - 8s 31ms/step - loss: -0.4364 - val_loss: -0.4221\n",
      "Epoch 14/50\n",
      "266/266 [==============================] - 8s 29ms/step - loss: -0.4395 - val_loss: -0.4241\n",
      "Epoch 15/50\n",
      "266/266 [==============================] - 7s 28ms/step - loss: -0.4425 - val_loss: -0.4260\n",
      "Epoch 16/50\n",
      "266/266 [==============================] - 8s 30ms/step - loss: -0.4455 - val_loss: -0.4295\n",
      "Epoch 17/50\n",
      "266/266 [==============================] - 8s 31ms/step - loss: -0.4483 - val_loss: -0.4319\n",
      "Epoch 18/50\n",
      "266/266 [==============================] - 8s 31ms/step - loss: -0.4512 - val_loss: -0.4344\n",
      "Epoch 19/50\n",
      "266/266 [==============================] - 7s 28ms/step - loss: -0.4532 - val_loss: -0.4361\n",
      "Epoch 20/50\n",
      "266/266 [==============================] - 7s 28ms/step - loss: -0.4551 - val_loss: -0.4373\n",
      "Epoch 21/50\n",
      "266/266 [==============================] - 8s 31ms/step - loss: -0.4569 - val_loss: -0.4388\n",
      "Epoch 22/50\n",
      "266/266 [==============================] - 8s 32ms/step - loss: -0.4585 - val_loss: -0.4393\n",
      "Epoch 23/50\n",
      "266/266 [==============================] - 8s 30ms/step - loss: -0.4608 - val_loss: -0.4430\n",
      "Epoch 24/50\n",
      "266/266 [==============================] - 8s 30ms/step - loss: -0.4618 - val_loss: -0.4440\n",
      "Epoch 25/50\n",
      "266/266 [==============================] - 9s 32ms/step - loss: -0.4639 - val_loss: -0.4452\n",
      "Epoch 26/50\n",
      "266/266 [==============================] - 8s 31ms/step - loss: -0.4652 - val_loss: -0.4466\n",
      "Epoch 27/50\n",
      "266/266 [==============================] - 7s 28ms/step - loss: -0.4660 - val_loss: -0.4479\n",
      "Epoch 28/50\n",
      "266/266 [==============================] - 8s 29ms/step - loss: -0.4675 - val_loss: -0.4480\n",
      "Epoch 29/50\n",
      "266/266 [==============================] - 7s 28ms/step - loss: -0.4689 - val_loss: -0.4501\n",
      "Epoch 30/50\n",
      "266/266 [==============================] - 7s 28ms/step - loss: -0.4700 - val_loss: -0.4500\n",
      "Epoch 31/50\n",
      "266/266 [==============================] - 7s 28ms/step - loss: -0.4709 - val_loss: -0.4516\n",
      "Epoch 32/50\n",
      "266/266 [==============================] - 8s 29ms/step - loss: -0.4719 - val_loss: -0.4518\n",
      "Epoch 33/50\n",
      "266/266 [==============================] - 7s 28ms/step - loss: -0.4730 - val_loss: -0.4520\n",
      "Epoch 34/50\n",
      "266/266 [==============================] - 7s 28ms/step - loss: -0.4737 - val_loss: -0.4541\n",
      "Epoch 35/50\n",
      "266/266 [==============================] - 7s 28ms/step - loss: -0.4751 - val_loss: -0.4549\n",
      "Epoch 36/50\n",
      "266/266 [==============================] - 8s 30ms/step - loss: -0.4755 - val_loss: -0.4556\n",
      "Epoch 37/50\n",
      "266/266 [==============================] - 8s 30ms/step - loss: -0.4766 - val_loss: -0.4570\n",
      "Epoch 38/50\n",
      "266/266 [==============================] - 8s 30ms/step - loss: -0.4775 - val_loss: -0.4566\n",
      "Epoch 39/50\n",
      "266/266 [==============================] - 7s 28ms/step - loss: -0.4781 - val_loss: -0.4561\n",
      "Epoch 40/50\n",
      "266/266 [==============================] - 8s 28ms/step - loss: -0.4791 - val_loss: -0.4572\n",
      "Epoch 41/50\n",
      "266/266 [==============================] - 7s 28ms/step - loss: -0.4798 - val_loss: -0.4581\n",
      "Epoch 42/50\n",
      "266/266 [==============================] - 7s 28ms/step - loss: -0.4805 - val_loss: -0.4602\n",
      "Epoch 43/50\n",
      "266/266 [==============================] - 7s 28ms/step - loss: -0.4813 - val_loss: -0.4602\n",
      "Epoch 44/50\n",
      "266/266 [==============================] - 8s 29ms/step - loss: -0.4820 - val_loss: -0.4595\n",
      "Epoch 45/50\n",
      "266/266 [==============================] - 9s 32ms/step - loss: -0.4823 - val_loss: -0.4614\n",
      "Epoch 46/50\n",
      "266/266 [==============================] - 8s 28ms/step - loss: -0.4831 - val_loss: -0.4608\n",
      "Epoch 47/50\n",
      "266/266 [==============================] - 7s 28ms/step - loss: -0.4836 - val_loss: -0.4625\n",
      "Epoch 48/50\n",
      "266/266 [==============================] - 7s 28ms/step - loss: -0.4842 - val_loss: -0.4618\n",
      "Epoch 49/50\n",
      "266/266 [==============================] - 8s 30ms/step - loss: -0.4848 - val_loss: -0.4634\n",
      "Epoch 50/50\n",
      "266/266 [==============================] - 8s 31ms/step - loss: -0.4853 - val_loss: -0.4646\n"
     ]
    },
    {
     "data": {
      "text/plain": [
       "<tensorflow.python.keras.callbacks.History at 0x1b9bbb51d30>"
      ]
     },
     "execution_count": 19,
     "metadata": {},
     "output_type": "execute_result"
    }
   ],
   "source": [
    "import tensorflow as tf\n",
    "from tensorflow.keras.layers import Dense, TimeDistributed, add\n",
    "from tensorflow.keras.regularizers import l1\n",
    "from esinet.losses import nmae_loss\n",
    "leadfield, pos = util.unpack_fwd(fwd)[1:3]\n",
    "n_channels, n_dipoles = leadfield.shape\n",
    "input_shape = (None, None, n_channels)\n",
    "tf.keras.backend.set_image_data_format('channels_last')\n",
    "\n",
    "n_dense_units = 128\n",
    "activation_function = \"tanh\"\n",
    "batch_size = 32\n",
    "epochs = 50\n",
    "dropout = 0.1\n",
    "\n",
    "inputs = tf.keras.Input(shape=(None, n_channels), name='Input')\n",
    "fc1 = TimeDistributed(Dense(n_dense_units, \n",
    "            activation=activation_function), \n",
    "            name='FC1')(inputs)\n",
    "\n",
    "fc2 = TimeDistributed(Dense(n_dense_units, \n",
    "            activation=activation_function), \n",
    "            name='FC2')(fc1)\n",
    "\n",
    "\n",
    "added_layer = add([fc1, fc2], name=\"adder1\")\n",
    "\n",
    "\n",
    "fc3 = TimeDistributed(Dense(n_dense_units, \n",
    "            activation=activation_function), \n",
    "            name='FC3')(added_layer)\n",
    "\n",
    "added_layer = add([added_layer, fc3], name=\"adder2\")\n",
    "\n",
    "\n",
    "\n",
    "direct_out = TimeDistributed(Dense(n_dipoles, \n",
    "            activation=\"linear\"),\n",
    "            name='Output')(added_layer)\n",
    "\n",
    "\n",
    "model2 = tf.keras.Model(inputs=inputs, outputs=direct_out, name='ResNet')\n",
    "\n",
    "\n",
    "model2.compile(loss=tf.keras.losses.CosineSimilarity(), optimizer=\"adam\")\n",
    "\n",
    "model2.summary()\n",
    "model2.fit(X, y, epochs=epochs, batch_size=batch_size, validation_split=0.15)"
   ]
  },
  {
   "cell_type": "markdown",
   "metadata": {},
   "source": [
    "# Eval"
   ]
  },
  {
   "cell_type": "code",
   "execution_count": 20,
   "metadata": {},
   "outputs": [
    {
     "name": "stdout",
     "output_type": "stream",
     "text": [
      "Simulating data based on sparse patches.\n"
     ]
    },
    {
     "name": "stderr",
     "output_type": "stream",
     "text": [
      "100%|██████████| 50/50 [00:00<00:00, 72.78it/s]\n",
      "100%|██████████| 50/50 [00:00<00:00, 12427.57it/s]\n"
     ]
    },
    {
     "name": "stdout",
     "output_type": "stream",
     "text": [
      "source data shape:  (1284, 25) (1284, 25)\n"
     ]
    },
    {
     "name": "stderr",
     "output_type": "stream",
     "text": [
      "100%|██████████| 50/50 [00:00<00:00, 277.78it/s]\n"
     ]
    },
    {
     "name": "stdout",
     "output_type": "stream",
     "text": [
      "3 source(s)\n",
      "FC: r=0.42\n",
      "ResNet: r=0.43\n",
      "Champagne: r=-0.00\n"
     ]
    }
   ],
   "source": [
    "import numpy as np\n",
    "from scipy.stats import pearsonr\n",
    "from tqdm.notebook import tqdm\n",
    "import sys; sys.path.insert(0, '../../invert/')\n",
    "from invert.solvers.empirical_bayes import SolverChampagne\n",
    "\n",
    "solver = SolverChampagne()\n",
    "solver.make_inverse_operator(fwd)\n",
    "n_samples = 50\n",
    "settings = dict(duration_of_trial=0.25, number_of_sources=(1,10), extents=(1,40))\n",
    "# settings = dict(duration_of_trial=0.25, number_of_sources=5, extents=(1,2))\n",
    "\n",
    "sim_test = Simulation(fwd, info, settings=settings).simulate(n_samples=n_samples)\n",
    "X_test, y_test = prep_data(sim_test)\n",
    "\n",
    "# models = [model, model2, ]\n",
    "# aucs = []\n",
    "# mles = []\n",
    "# nmses = []\n",
    "# for net in models:\n",
    "#     y_hat = net.predict(X_test)\n",
    "#     auc, nmse, mle = eval(y_test, y_hat)\n",
    "#     aucs.append( auc )\n",
    "#     nmses.append( nmse )\n",
    "#     mles.append( mle )\n",
    "#     print(f\"{net.name}: \\n\\t{np.nanmedian(aucs[-1])} AUC \\n\\t{np.nanmedian(mles[-1])} mm \\n\\t{np.nanmedian(nmses[-1])} nMSE\")\n",
    "\n",
    "# y_hat = np.stack([solver.apply_inverse_operator(epochs.average()).data for epochs in tqdm(sim_test.eeg_data)], axis=0)\n",
    "# y_hat = np.swapaxes(y_hat, 1, 2)\n",
    "# auc, nmse, mle = eval(y_test, y_hat)\n",
    "# aucs.append( auc )\n",
    "# nmses.append( nmse )\n",
    "# mles.append( mle )\n",
    "\n",
    "# models.append(solver)\n",
    "# print(f\"{solver.name}: \\n\\t{np.nanmedian(aucs[-1])} AUC \\n\\t{np.nanmedian(mles[-1])} mm \\n\\t{np.nanmedian(nmses[-1])} nMSE\")\n",
    "\n",
    "idx = 0\n",
    "n = sim_test.simulation_info[\"number_of_sources\"].values[idx]\n",
    "print(f\"{n} source(s)\")\n",
    "\n",
    "# PLOTTING BRAINS\n",
    "stc = sim_test.source_data[idx]\n",
    "stc.plot(**plot_params, brain_kwargs=dict(title=\"Ground Truth\"))\n",
    "\n",
    "stc_hat = stc.copy()\n",
    "y_hat = model.predict(X_test)[idx]\n",
    "stc_hat.data = y_hat.T\n",
    "stc_hat.plot(**plot_params, brain_kwargs=dict(title=model.name))\n",
    "r = pearsonr(y_hat.flatten(), y_test[idx].flatten())[0]\n",
    "print(f\"{model.name}: r={r:.2f}\")\n",
    "\n",
    "\n",
    "y_hat = model2.predict(X_test)[idx]\n",
    "stc_hat = stc.copy()\n",
    "stc_hat.data = y_hat.T\n",
    "stc_hat.plot(**plot_params, brain_kwargs=dict(title=model2.name))\n",
    "r = pearsonr(y_hat.flatten(), y_test[idx].flatten())[0]\n",
    "print(f\"{model2.name}: r={r:.2f}\")\n",
    "\n",
    "\n",
    "\n",
    "evoked = sim_test.eeg_data[idx].average()\n",
    "stc_hat = solver.apply_inverse_operator(evoked)\n",
    "stc_hat.plot(**plot_params, brain_kwargs=dict(title=solver.name))\n",
    "y_hat = stc_hat.data\n",
    "r = pearsonr(y_hat.flatten(), y_test[idx].flatten())[0]\n",
    "print(f\"{solver.name}: r={r:.2f}\")\n"
   ]
  },
  {
   "cell_type": "code",
   "execution_count": 50,
   "metadata": {},
   "outputs": [
    {
     "name": "stderr",
     "output_type": "stream",
     "text": [
      "C:\\Users\\Lukas\\AppData\\Local\\Temp/ipykernel_4228/3452833000.py:6: RuntimeWarning: Mean of empty slice\n",
      "  sns.boxplot(data=np.nanmean(aucs,axis=-1).T)\n",
      "C:\\Users\\Lukas\\AppData\\Local\\Temp/ipykernel_4228/3452833000.py:12: RuntimeWarning: Mean of empty slice\n",
      "  sns.boxplot(data=np.nanmean(mles,axis=-1).T)\n",
      "C:\\Users\\Lukas\\AppData\\Local\\Temp/ipykernel_4228/3452833000.py:18: RuntimeWarning: Mean of empty slice\n",
      "  sns.boxplot(data=np.nanmean(nmses,axis=-1).T)\n"
     ]
    },
    {
     "data": {
      "text/plain": [
       "Text(0.5, 1.0, 'NMSE')"
      ]
     },
     "execution_count": 50,
     "metadata": {},
     "output_type": "execute_result"
    },
    {
     "data": {
      "image/png": "[encoded data removed]",
      "text/plain": [
       "<Figure size 432x288 with 1 Axes>"
      ]
     },
     "metadata": {
      "needs_background": "light"
     },
     "output_type": "display_data"
    },
    {
     "data": {
      "image/png": "[encoded data removed]",
      "text/plain": [
       "<Figure size 432x288 with 1 Axes>"
      ]
     },
     "metadata": {
      "needs_background": "light"
     },
     "output_type": "display_data"
    },
    {
     "data": {
      "image/png": "[encoded data removed]",
      "text/plain": [
       "<Figure size 432x288 with 1 Axes>"
      ]
     },
     "metadata": {
      "needs_background": "light"
     },
     "output_type": "display_data"
    }
   ],
   "source": [
    "import seaborn as sns\n",
    "names = [m.name for m in models]\n",
    "xticks = (np.arange(len(models)), names)\n",
    "\n",
    "plt.figure()\n",
    "sns.boxplot(data=np.nanmean(aucs,axis=-1).T)\n",
    "plt.xticks(*xticks)\n",
    "plt.xlabel(\"AUC\")\n",
    "plt.title(\"AUC\")\n",
    "\n",
    "plt.figure()\n",
    "sns.boxplot(data=np.nanmean(mles,axis=-1).T)\n",
    "plt.xticks(*xticks)\n",
    "plt.xlabel(\"MLE\")\n",
    "plt.title(\"MLE\")\n",
    "\n",
    "plt.figure()\n",
    "sns.boxplot(data=np.nanmean(nmses,axis=-1).T)\n",
    "plt.xticks(*xticks)\n",
    "plt.xlabel(\"NMSE\")\n",
    "plt.title(\"NMSE\")\n"
   ]
  },
  {
   "cell_type": "code",
   "execution_count": null,
   "metadata": {},
   "outputs": [],
   "source": []
  }
 ],
 "metadata": {
  "kernelspec": {
   "display_name": "Python 3.8.10 ('esienv')",
   "language": "python",
   "name": "python3"
  },
  "language_info": {
   "codemirror_mode": {
    "name": "ipython",
    "version": 3
   },
   "file_extension": ".py",
   "mimetype": "text/x-python",
   "name": "python",
   "nbconvert_exporter": "python",
   "pygments_lexer": "ipython3",
   "version": "3.8.10"
  },
  "orig_nbformat": 4,
  "vscode": {
   "interpreter": {
    "hash": "a54b85cbc80ea8362b8e45e33618627fd9167210ff2c52e6dbeaf85afe35b874"
   }
  }
 },
 "nbformat": 4,
 "nbformat_minor": 2
}
