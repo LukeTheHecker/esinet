{
 "cells": [
  {
   "cell_type": "markdown",
   "metadata": {},
   "source": [
    "# Tutorial 3: How simulations define your predictions\n",
    "The inverse problem has no unique solution as it is ill-posed. In order to solve it we need to constraint the space of possible solutions. While inverse solutions like minimum-norm estimates have an explicit constraint of minimum-energy, the constraints with esinet are implicit and mostly shaped by the simulations.\n",
    "\n",
    "This tutorial aims the relation between simulation parameters and predictions."
   ]
  },
  {
   "cell_type": "code",
   "execution_count": 2,
   "metadata": {},
   "outputs": [],
   "source": [
    "%matplotlib inline\n",
    "%load_ext autoreload\n",
    "%autoreload 2\n",
    "\n",
    "# import mne\n",
    "# import numpy as np\n",
    "# from copy import deepcopy\n",
    "# import matplotlib.pyplot as plt\n",
    "import sys; sys.path.insert(0, '../')\n",
    "from esinet import util\n",
    "from esinet import Simulation\n",
    "from esinet import Net\n",
    "from esinet.forward import create_forward_model, get_info\n",
    "from scipy.stats import pearsonr\n",
    "from matplotlib import pyplot as plt\n",
    "plot_params = dict(surface='white', hemi='both', verbose=0)"
   ]
  },
  {
   "cell_type": "markdown",
   "metadata": {},
   "source": [
    "## Create Forward model\n",
    "First we create a template forward model which comes with the esinet package"
   ]
  },
  {
   "cell_type": "code",
   "execution_count": 3,
   "metadata": {},
   "outputs": [
    {
     "name": "stderr",
     "output_type": "stream",
     "text": [
      "[Parallel(n_jobs=4)]: Using backend LokyBackend with 4 concurrent workers.\n",
      "[Parallel(n_jobs=4)]: Done   2 out of   4 | elapsed:    1.4s remaining:    1.4s\n",
      "[Parallel(n_jobs=4)]: Done   4 out of   4 | elapsed:    1.4s remaining:    0.0s\n",
      "[Parallel(n_jobs=4)]: Done   4 out of   4 | elapsed:    1.4s finished\n",
      "[Parallel(n_jobs=4)]: Using backend LokyBackend with 4 concurrent workers.\n",
      "[Parallel(n_jobs=4)]: Done   2 out of   4 | elapsed:    0.1s remaining:    0.1s\n",
      "[Parallel(n_jobs=4)]: Done   4 out of   4 | elapsed:    0.1s remaining:    0.0s\n",
      "[Parallel(n_jobs=4)]: Done   4 out of   4 | elapsed:    0.1s finished\n",
      "[Parallel(n_jobs=4)]: Using backend LokyBackend with 4 concurrent workers.\n",
      "[Parallel(n_jobs=4)]: Done   2 out of   4 | elapsed:    0.2s remaining:    0.2s\n",
      "[Parallel(n_jobs=4)]: Done   4 out of   4 | elapsed:    0.2s remaining:    0.0s\n",
      "[Parallel(n_jobs=4)]: Done   4 out of   4 | elapsed:    0.2s finished\n"
     ]
    }
   ],
   "source": [
    "info = get_info(sfreq=100)\n",
    "fwd = create_forward_model(sampling=\"ico3\", info=info)"
   ]
  },
  {
   "cell_type": "markdown",
   "metadata": {},
   "source": [
    "# Simulate"
   ]
  },
  {
   "cell_type": "markdown",
   "metadata": {},
   "source": [
    "## defs"
   ]
  },
  {
   "cell_type": "code",
   "execution_count": 4,
   "metadata": {},
   "outputs": [],
   "source": [
    "import numpy as np\n",
    "def prep_data(sim):\n",
    "    X = np.squeeze(np.stack([eeg.average().data for eeg in sim.eeg_data]))\n",
    "    X = np.stack([(x - np.mean(x)) / np.std(x) for x in X], axis=0)\n",
    "    y = np.squeeze(np.stack([src.data for src in sim.source_data]))\n",
    "    y = np.stack([(x / np.max(abs(x))) for x in y], axis=0)\n",
    "\n",
    "    X = np.swapaxes(X, 1,2)\n",
    "    y = np.swapaxes(y, 1,2)\n",
    "    return X, y\n",
    "\n",
    "def sparsity(y_true, y_pred):\n",
    "    return K.mean(K.square(y_pred)) / K.max(K.square(y_pred))\n",
    "def custom_loss():\n",
    "    def loss(y_true, y_pred):\n",
    "        loss1 = tf.keras.losses.CosineSimilarity()(y_true, y_pred)\n",
    "        loss2 = sparsity(None, y_pred)\n",
    "        return loss1 + loss2 * 1e-3\n",
    "    return loss\n",
    "\n",
    "from esinet.evaluate import auc_metric, eval_auc, eval_nmse, eval_mean_localization_error\n",
    "\n",
    "def eval(y_true, y_hat):\n",
    "    n_samples = y_true.shape[0]\n",
    "    n_time = y_true.shape[1]\n",
    "    aucs = np.zeros((n_samples, n_time))\n",
    "    mles = np.zeros((n_samples, n_time))\n",
    "    nmses = np.zeros((n_samples, n_time))\n",
    "    for i in range(n_samples):\n",
    "        for j in range(n_time):\n",
    "            aucs[i,j] = np.mean(eval_auc(y_true[i,j], y_hat[i,j], pos))\n",
    "            nmses[i,j] = eval_nmse(y_true[i,j], y_hat[i,j])\n",
    "            mles[i,j] = eval_mean_localization_error(y_true[i,j], y_hat[i,j], pos)\n",
    "\n",
    "    return aucs, nmses, mles\n",
    "\n",
    "def threshold_activation(x):\n",
    "    return tf.cast(x > 0.5, dtype=tf.float32)"
   ]
  },
  {
   "cell_type": "markdown",
   "metadata": {},
   "source": [
    "## sim"
   ]
  },
  {
   "cell_type": "code",
   "execution_count": 5,
   "metadata": {},
   "outputs": [
    {
     "name": "stdout",
     "output_type": "stream",
     "text": [
      "Simulating data based on sparse patches.\n"
     ]
    },
    {
     "name": "stderr",
     "output_type": "stream",
     "text": [
      "100%|██████████| 10000/10000 [00:47<00:00, 209.53it/s]\n",
      "100%|██████████| 10000/10000 [00:00<00:00, 13831.79it/s]\n"
     ]
    },
    {
     "name": "stdout",
     "output_type": "stream",
     "text": [
      "source data shape:  (1284, 25) (1284, 25)\n"
     ]
    },
    {
     "name": "stderr",
     "output_type": "stream",
     "text": [
      "100%|██████████| 10000/10000 [00:39<00:00, 253.70it/s]\n"
     ]
    }
   ],
   "source": [
    "n_samples = 10000\n",
    "settings = dict(duration_of_trial=0.25, extents=(1,40), number_of_sources=(1,10), target_snr=99999)\n",
    "sim = Simulation(fwd, info, settings=settings).simulate(n_samples=n_samples)\n",
    "X, y = prep_data(sim)"
   ]
  },
  {
   "cell_type": "markdown",
   "metadata": {},
   "source": [
    "# LSTM"
   ]
  },
  {
   "cell_type": "code",
   "execution_count": 8,
   "metadata": {},
   "outputs": [
    {
     "name": "stdout",
     "output_type": "stream",
     "text": [
      "Epoch 1/70\n",
      "266/266 [==============================] - 4s 15ms/step - loss: -0.6317 - val_loss: -0.5451\n",
      "Epoch 2/70\n",
      "266/266 [==============================] - 3s 13ms/step - loss: -0.6344 - val_loss: -0.5475\n",
      "Epoch 3/70\n",
      "266/266 [==============================] - 3s 12ms/step - loss: -0.6362 - val_loss: -0.5463\n",
      "Epoch 4/70\n",
      "266/266 [==============================] - 4s 15ms/step - loss: -0.6375 - val_loss: -0.5500\n",
      "Epoch 5/70\n",
      "266/266 [==============================] - 4s 13ms/step - loss: -0.6377 - val_loss: -0.5489\n",
      "Epoch 6/70\n",
      "266/266 [==============================] - 3s 12ms/step - loss: -0.6415 - val_loss: -0.5520\n",
      "Epoch 7/70\n",
      "266/266 [==============================] - 3s 12ms/step - loss: -0.6432 - val_loss: -0.5500\n",
      "Epoch 8/70\n",
      "266/266 [==============================] - 3s 12ms/step - loss: -0.6440 - val_loss: -0.5513\n",
      "Epoch 9/70\n",
      "266/266 [==============================] - 3s 13ms/step - loss: -0.6456 - val_loss: -0.5523\n",
      "Epoch 10/70\n",
      "266/266 [==============================] - 3s 12ms/step - loss: -0.6468 - val_loss: -0.5515\n",
      "Epoch 11/70\n",
      "266/266 [==============================] - 3s 12ms/step - loss: -0.6494 - val_loss: -0.5531\n",
      "Epoch 12/70\n",
      "266/266 [==============================] - 3s 12ms/step - loss: -0.6506 - val_loss: -0.5553\n",
      "Epoch 13/70\n",
      "266/266 [==============================] - 4s 15ms/step - loss: -0.6512 - val_loss: -0.5552\n",
      "Epoch 14/70\n",
      "266/266 [==============================] - 4s 13ms/step - loss: -0.6526 - val_loss: -0.5539\n",
      "Epoch 15/70\n",
      "266/266 [==============================] - 3s 12ms/step - loss: -0.6537 - val_loss: -0.5541\n",
      "Epoch 16/70\n",
      "266/266 [==============================] - 3s 12ms/step - loss: -0.6548 - val_loss: -0.5542\n",
      "Epoch 17/70\n",
      "266/266 [==============================] - 3s 12ms/step - loss: -0.6549 - val_loss: -0.5557\n",
      "Epoch 18/70\n",
      "266/266 [==============================] - 3s 12ms/step - loss: -0.6568 - val_loss: -0.5573\n",
      "Epoch 19/70\n",
      "266/266 [==============================] - 3s 12ms/step - loss: -0.6577 - val_loss: -0.5578\n",
      "Epoch 20/70\n",
      "266/266 [==============================] - 3s 12ms/step - loss: -0.6610 - val_loss: -0.5569\n",
      "Epoch 21/70\n",
      "266/266 [==============================] - 3s 13ms/step - loss: -0.6600 - val_loss: -0.5584\n",
      "Epoch 22/70\n",
      "266/266 [==============================] - 4s 16ms/step - loss: -0.6623 - val_loss: -0.5581\n",
      "Epoch 23/70\n",
      "266/266 [==============================] - 4s 15ms/step - loss: -0.6614 - val_loss: -0.5577\n",
      "Epoch 24/70\n",
      "266/266 [==============================] - 3s 13ms/step - loss: -0.6632 - val_loss: -0.5560\n",
      "Epoch 25/70\n",
      "266/266 [==============================] - 3s 12ms/step - loss: -0.6653 - val_loss: -0.5558\n",
      "Epoch 26/70\n",
      "266/266 [==============================] - 3s 12ms/step - loss: -0.6659 - val_loss: -0.5591\n",
      "Epoch 27/70\n",
      "266/266 [==============================] - 3s 12ms/step - loss: -0.6662 - val_loss: -0.5591\n",
      "Epoch 28/70\n",
      "266/266 [==============================] - 3s 12ms/step - loss: -0.6665 - val_loss: -0.5609\n",
      "Epoch 29/70\n",
      "266/266 [==============================] - 3s 12ms/step - loss: -0.6674 - val_loss: -0.5541\n",
      "Epoch 30/70\n",
      "266/266 [==============================] - 3s 13ms/step - loss: -0.6665 - val_loss: -0.5540\n",
      "Epoch 31/70\n",
      "266/266 [==============================] - 4s 16ms/step - loss: -0.6682 - val_loss: -0.5558\n",
      "Epoch 32/70\n",
      "266/266 [==============================] - 3s 13ms/step - loss: -0.6688 - val_loss: -0.5544\n",
      "Epoch 33/70\n",
      "266/266 [==============================] - 3s 12ms/step - loss: -0.6707 - val_loss: -0.5587\n",
      "Epoch 34/70\n",
      "266/266 [==============================] - 3s 12ms/step - loss: -0.6704 - val_loss: -0.5601\n",
      "Epoch 35/70\n",
      "266/266 [==============================] - 3s 12ms/step - loss: -0.6726 - val_loss: -0.5605\n",
      "Epoch 36/70\n",
      "266/266 [==============================] - 3s 12ms/step - loss: -0.6735 - val_loss: -0.5587\n",
      "Epoch 37/70\n",
      "266/266 [==============================] - 3s 11ms/step - loss: -0.6697 - val_loss: -0.5545\n",
      "Epoch 38/70\n",
      "266/266 [==============================] - 3s 12ms/step - loss: -0.6727 - val_loss: -0.5621\n",
      "Epoch 39/70\n",
      "266/266 [==============================] - 3s 12ms/step - loss: -0.6756 - val_loss: -0.5632\n",
      "Epoch 40/70\n",
      "266/266 [==============================] - 4s 14ms/step - loss: -0.6761 - val_loss: -0.5620\n",
      "Epoch 41/70\n",
      "266/266 [==============================] - 3s 12ms/step - loss: -0.6768 - val_loss: -0.5621\n",
      "Epoch 42/70\n",
      "266/266 [==============================] - 3s 13ms/step - loss: -0.6766 - val_loss: -0.5611\n",
      "Epoch 43/70\n",
      "259/266 [============================>.] - ETA: 0s - loss: -0.6785"
     ]
    },
    {
     "ename": "KeyboardInterrupt",
     "evalue": "",
     "output_type": "error",
     "traceback": [
      "\u001b[1;31m---------------------------------------------------------------------------\u001b[0m",
      "\u001b[1;31mKeyboardInterrupt\u001b[0m                         Traceback (most recent call last)",
      "\u001b[1;32m~\\AppData\\Local\\Temp/ipykernel_5100/166687098.py\u001b[0m in \u001b[0;36m<module>\u001b[1;34m\u001b[0m\n\u001b[0;32m     42\u001b[0m \u001b[1;33m\u001b[0m\u001b[0m\n\u001b[0;32m     43\u001b[0m \u001b[1;31m# model.summary()\u001b[0m\u001b[1;33m\u001b[0m\u001b[1;33m\u001b[0m\u001b[1;33m\u001b[0m\u001b[0m\n\u001b[1;32m---> 44\u001b[1;33m \u001b[0mmodel\u001b[0m\u001b[1;33m.\u001b[0m\u001b[0mfit\u001b[0m\u001b[1;33m(\u001b[0m\u001b[0mX\u001b[0m\u001b[1;33m,\u001b[0m \u001b[0my\u001b[0m\u001b[1;33m,\u001b[0m \u001b[0mepochs\u001b[0m\u001b[1;33m=\u001b[0m\u001b[0mepochs\u001b[0m\u001b[1;33m,\u001b[0m \u001b[0mbatch_size\u001b[0m\u001b[1;33m=\u001b[0m\u001b[0mbatch_size\u001b[0m\u001b[1;33m,\u001b[0m \u001b[0mvalidation_split\u001b[0m\u001b[1;33m=\u001b[0m\u001b[1;36m0.15\u001b[0m\u001b[1;33m)\u001b[0m\u001b[1;33m\u001b[0m\u001b[1;33m\u001b[0m\u001b[0m\n\u001b[0m",
      "\u001b[1;32mc:\\Users\\Lukas\\Envs\\esienv\\lib\\site-packages\\keras\\utils\\traceback_utils.py\u001b[0m in \u001b[0;36merror_handler\u001b[1;34m(*args, **kwargs)\u001b[0m\n\u001b[0;32m     62\u001b[0m     \u001b[0mfiltered_tb\u001b[0m \u001b[1;33m=\u001b[0m \u001b[1;32mNone\u001b[0m\u001b[1;33m\u001b[0m\u001b[1;33m\u001b[0m\u001b[0m\n\u001b[0;32m     63\u001b[0m     \u001b[1;32mtry\u001b[0m\u001b[1;33m:\u001b[0m\u001b[1;33m\u001b[0m\u001b[1;33m\u001b[0m\u001b[0m\n\u001b[1;32m---> 64\u001b[1;33m       \u001b[1;32mreturn\u001b[0m \u001b[0mfn\u001b[0m\u001b[1;33m(\u001b[0m\u001b[1;33m*\u001b[0m\u001b[0margs\u001b[0m\u001b[1;33m,\u001b[0m \u001b[1;33m**\u001b[0m\u001b[0mkwargs\u001b[0m\u001b[1;33m)\u001b[0m\u001b[1;33m\u001b[0m\u001b[1;33m\u001b[0m\u001b[0m\n\u001b[0m\u001b[0;32m     65\u001b[0m     \u001b[1;32mexcept\u001b[0m \u001b[0mException\u001b[0m \u001b[1;32mas\u001b[0m \u001b[0me\u001b[0m\u001b[1;33m:\u001b[0m  \u001b[1;31m# pylint: disable=broad-except\u001b[0m\u001b[1;33m\u001b[0m\u001b[1;33m\u001b[0m\u001b[0m\n\u001b[0;32m     66\u001b[0m       \u001b[0mfiltered_tb\u001b[0m \u001b[1;33m=\u001b[0m \u001b[0m_process_traceback_frames\u001b[0m\u001b[1;33m(\u001b[0m\u001b[0me\u001b[0m\u001b[1;33m.\u001b[0m\u001b[0m__traceback__\u001b[0m\u001b[1;33m)\u001b[0m\u001b[1;33m\u001b[0m\u001b[1;33m\u001b[0m\u001b[0m\n",
      "\u001b[1;32mc:\\Users\\Lukas\\Envs\\esienv\\lib\\site-packages\\keras\\engine\\training.py\u001b[0m in \u001b[0;36mfit\u001b[1;34m(self, x, y, batch_size, epochs, verbose, callbacks, validation_split, validation_data, shuffle, class_weight, sample_weight, initial_epoch, steps_per_epoch, validation_steps, validation_batch_size, validation_freq, max_queue_size, workers, use_multiprocessing)\u001b[0m\n\u001b[0;32m   1382\u001b[0m                 _r=1):\n\u001b[0;32m   1383\u001b[0m               \u001b[0mcallbacks\u001b[0m\u001b[1;33m.\u001b[0m\u001b[0mon_train_batch_begin\u001b[0m\u001b[1;33m(\u001b[0m\u001b[0mstep\u001b[0m\u001b[1;33m)\u001b[0m\u001b[1;33m\u001b[0m\u001b[1;33m\u001b[0m\u001b[0m\n\u001b[1;32m-> 1384\u001b[1;33m               \u001b[0mtmp_logs\u001b[0m \u001b[1;33m=\u001b[0m \u001b[0mself\u001b[0m\u001b[1;33m.\u001b[0m\u001b[0mtrain_function\u001b[0m\u001b[1;33m(\u001b[0m\u001b[0miterator\u001b[0m\u001b[1;33m)\u001b[0m\u001b[1;33m\u001b[0m\u001b[1;33m\u001b[0m\u001b[0m\n\u001b[0m\u001b[0;32m   1385\u001b[0m               \u001b[1;32mif\u001b[0m \u001b[0mdata_handler\u001b[0m\u001b[1;33m.\u001b[0m\u001b[0mshould_sync\u001b[0m\u001b[1;33m:\u001b[0m\u001b[1;33m\u001b[0m\u001b[1;33m\u001b[0m\u001b[0m\n\u001b[0;32m   1386\u001b[0m                 \u001b[0mcontext\u001b[0m\u001b[1;33m.\u001b[0m\u001b[0masync_wait\u001b[0m\u001b[1;33m(\u001b[0m\u001b[1;33m)\u001b[0m\u001b[1;33m\u001b[0m\u001b[1;33m\u001b[0m\u001b[0m\n",
      "\u001b[1;32mc:\\Users\\Lukas\\Envs\\esienv\\lib\\site-packages\\tensorflow\\python\\util\\traceback_utils.py\u001b[0m in \u001b[0;36merror_handler\u001b[1;34m(*args, **kwargs)\u001b[0m\n\u001b[0;32m    148\u001b[0m     \u001b[0mfiltered_tb\u001b[0m \u001b[1;33m=\u001b[0m \u001b[1;32mNone\u001b[0m\u001b[1;33m\u001b[0m\u001b[1;33m\u001b[0m\u001b[0m\n\u001b[0;32m    149\u001b[0m     \u001b[1;32mtry\u001b[0m\u001b[1;33m:\u001b[0m\u001b[1;33m\u001b[0m\u001b[1;33m\u001b[0m\u001b[0m\n\u001b[1;32m--> 150\u001b[1;33m       \u001b[1;32mreturn\u001b[0m \u001b[0mfn\u001b[0m\u001b[1;33m(\u001b[0m\u001b[1;33m*\u001b[0m\u001b[0margs\u001b[0m\u001b[1;33m,\u001b[0m \u001b[1;33m**\u001b[0m\u001b[0mkwargs\u001b[0m\u001b[1;33m)\u001b[0m\u001b[1;33m\u001b[0m\u001b[1;33m\u001b[0m\u001b[0m\n\u001b[0m\u001b[0;32m    151\u001b[0m     \u001b[1;32mexcept\u001b[0m \u001b[0mException\u001b[0m \u001b[1;32mas\u001b[0m \u001b[0me\u001b[0m\u001b[1;33m:\u001b[0m\u001b[1;33m\u001b[0m\u001b[1;33m\u001b[0m\u001b[0m\n\u001b[0;32m    152\u001b[0m       \u001b[0mfiltered_tb\u001b[0m \u001b[1;33m=\u001b[0m \u001b[0m_process_traceback_frames\u001b[0m\u001b[1;33m(\u001b[0m\u001b[0me\u001b[0m\u001b[1;33m.\u001b[0m\u001b[0m__traceback__\u001b[0m\u001b[1;33m)\u001b[0m\u001b[1;33m\u001b[0m\u001b[1;33m\u001b[0m\u001b[0m\n",
      "\u001b[1;32mc:\\Users\\Lukas\\Envs\\esienv\\lib\\site-packages\\tensorflow\\python\\eager\\def_function.py\u001b[0m in \u001b[0;36m__call__\u001b[1;34m(self, *args, **kwds)\u001b[0m\n\u001b[0;32m    913\u001b[0m \u001b[1;33m\u001b[0m\u001b[0m\n\u001b[0;32m    914\u001b[0m       \u001b[1;32mwith\u001b[0m \u001b[0mOptionalXlaContext\u001b[0m\u001b[1;33m(\u001b[0m\u001b[0mself\u001b[0m\u001b[1;33m.\u001b[0m\u001b[0m_jit_compile\u001b[0m\u001b[1;33m)\u001b[0m\u001b[1;33m:\u001b[0m\u001b[1;33m\u001b[0m\u001b[1;33m\u001b[0m\u001b[0m\n\u001b[1;32m--> 915\u001b[1;33m         \u001b[0mresult\u001b[0m \u001b[1;33m=\u001b[0m \u001b[0mself\u001b[0m\u001b[1;33m.\u001b[0m\u001b[0m_call\u001b[0m\u001b[1;33m(\u001b[0m\u001b[1;33m*\u001b[0m\u001b[0margs\u001b[0m\u001b[1;33m,\u001b[0m \u001b[1;33m**\u001b[0m\u001b[0mkwds\u001b[0m\u001b[1;33m)\u001b[0m\u001b[1;33m\u001b[0m\u001b[1;33m\u001b[0m\u001b[0m\n\u001b[0m\u001b[0;32m    916\u001b[0m \u001b[1;33m\u001b[0m\u001b[0m\n\u001b[0;32m    917\u001b[0m       \u001b[0mnew_tracing_count\u001b[0m \u001b[1;33m=\u001b[0m \u001b[0mself\u001b[0m\u001b[1;33m.\u001b[0m\u001b[0mexperimental_get_tracing_count\u001b[0m\u001b[1;33m(\u001b[0m\u001b[1;33m)\u001b[0m\u001b[1;33m\u001b[0m\u001b[1;33m\u001b[0m\u001b[0m\n",
      "\u001b[1;32mc:\\Users\\Lukas\\Envs\\esienv\\lib\\site-packages\\tensorflow\\python\\eager\\def_function.py\u001b[0m in \u001b[0;36m_call\u001b[1;34m(self, *args, **kwds)\u001b[0m\n\u001b[0;32m    945\u001b[0m       \u001b[1;31m# In this case we have created variables on the first call, so we run the\u001b[0m\u001b[1;33m\u001b[0m\u001b[1;33m\u001b[0m\u001b[1;33m\u001b[0m\u001b[0m\n\u001b[0;32m    946\u001b[0m       \u001b[1;31m# defunned version which is guaranteed to never create variables.\u001b[0m\u001b[1;33m\u001b[0m\u001b[1;33m\u001b[0m\u001b[1;33m\u001b[0m\u001b[0m\n\u001b[1;32m--> 947\u001b[1;33m       \u001b[1;32mreturn\u001b[0m \u001b[0mself\u001b[0m\u001b[1;33m.\u001b[0m\u001b[0m_stateless_fn\u001b[0m\u001b[1;33m(\u001b[0m\u001b[1;33m*\u001b[0m\u001b[0margs\u001b[0m\u001b[1;33m,\u001b[0m \u001b[1;33m**\u001b[0m\u001b[0mkwds\u001b[0m\u001b[1;33m)\u001b[0m  \u001b[1;31m# pylint: disable=not-callable\u001b[0m\u001b[1;33m\u001b[0m\u001b[1;33m\u001b[0m\u001b[0m\n\u001b[0m\u001b[0;32m    948\u001b[0m     \u001b[1;32melif\u001b[0m \u001b[0mself\u001b[0m\u001b[1;33m.\u001b[0m\u001b[0m_stateful_fn\u001b[0m \u001b[1;32mis\u001b[0m \u001b[1;32mnot\u001b[0m \u001b[1;32mNone\u001b[0m\u001b[1;33m:\u001b[0m\u001b[1;33m\u001b[0m\u001b[1;33m\u001b[0m\u001b[0m\n\u001b[0;32m    949\u001b[0m       \u001b[1;31m# Release the lock early so that multiple threads can perform the call\u001b[0m\u001b[1;33m\u001b[0m\u001b[1;33m\u001b[0m\u001b[1;33m\u001b[0m\u001b[0m\n",
      "\u001b[1;32mc:\\Users\\Lukas\\Envs\\esienv\\lib\\site-packages\\tensorflow\\python\\eager\\function.py\u001b[0m in \u001b[0;36m__call__\u001b[1;34m(self, *args, **kwargs)\u001b[0m\n\u001b[0;32m   2954\u001b[0m       (graph_function,\n\u001b[0;32m   2955\u001b[0m        filtered_flat_args) = self._maybe_define_function(args, kwargs)\n\u001b[1;32m-> 2956\u001b[1;33m     return graph_function._call_flat(\n\u001b[0m\u001b[0;32m   2957\u001b[0m         filtered_flat_args, captured_inputs=graph_function.captured_inputs)  # pylint: disable=protected-access\n\u001b[0;32m   2958\u001b[0m \u001b[1;33m\u001b[0m\u001b[0m\n",
      "\u001b[1;32mc:\\Users\\Lukas\\Envs\\esienv\\lib\\site-packages\\tensorflow\\python\\eager\\function.py\u001b[0m in \u001b[0;36m_call_flat\u001b[1;34m(self, args, captured_inputs, cancellation_manager)\u001b[0m\n\u001b[0;32m   1851\u001b[0m         and executing_eagerly):\n\u001b[0;32m   1852\u001b[0m       \u001b[1;31m# No tape is watching; skip to running the function.\u001b[0m\u001b[1;33m\u001b[0m\u001b[1;33m\u001b[0m\u001b[1;33m\u001b[0m\u001b[0m\n\u001b[1;32m-> 1853\u001b[1;33m       return self._build_call_outputs(self._inference_function.call(\n\u001b[0m\u001b[0;32m   1854\u001b[0m           ctx, args, cancellation_manager=cancellation_manager))\n\u001b[0;32m   1855\u001b[0m     forward_backward = self._select_forward_and_backward_functions(\n",
      "\u001b[1;32mc:\\Users\\Lukas\\Envs\\esienv\\lib\\site-packages\\tensorflow\\python\\eager\\function.py\u001b[0m in \u001b[0;36mcall\u001b[1;34m(self, ctx, args, cancellation_manager)\u001b[0m\n\u001b[0;32m    497\u001b[0m       \u001b[1;32mwith\u001b[0m \u001b[0m_InterpolateFunctionError\u001b[0m\u001b[1;33m(\u001b[0m\u001b[0mself\u001b[0m\u001b[1;33m)\u001b[0m\u001b[1;33m:\u001b[0m\u001b[1;33m\u001b[0m\u001b[1;33m\u001b[0m\u001b[0m\n\u001b[0;32m    498\u001b[0m         \u001b[1;32mif\u001b[0m \u001b[0mcancellation_manager\u001b[0m \u001b[1;32mis\u001b[0m \u001b[1;32mNone\u001b[0m\u001b[1;33m:\u001b[0m\u001b[1;33m\u001b[0m\u001b[1;33m\u001b[0m\u001b[0m\n\u001b[1;32m--> 499\u001b[1;33m           outputs = execute.execute(\n\u001b[0m\u001b[0;32m    500\u001b[0m               \u001b[0mstr\u001b[0m\u001b[1;33m(\u001b[0m\u001b[0mself\u001b[0m\u001b[1;33m.\u001b[0m\u001b[0msignature\u001b[0m\u001b[1;33m.\u001b[0m\u001b[0mname\u001b[0m\u001b[1;33m)\u001b[0m\u001b[1;33m,\u001b[0m\u001b[1;33m\u001b[0m\u001b[1;33m\u001b[0m\u001b[0m\n\u001b[0;32m    501\u001b[0m               \u001b[0mnum_outputs\u001b[0m\u001b[1;33m=\u001b[0m\u001b[0mself\u001b[0m\u001b[1;33m.\u001b[0m\u001b[0m_num_outputs\u001b[0m\u001b[1;33m,\u001b[0m\u001b[1;33m\u001b[0m\u001b[1;33m\u001b[0m\u001b[0m\n",
      "\u001b[1;32mc:\\Users\\Lukas\\Envs\\esienv\\lib\\site-packages\\tensorflow\\python\\eager\\execute.py\u001b[0m in \u001b[0;36mquick_execute\u001b[1;34m(op_name, num_outputs, inputs, attrs, ctx, name)\u001b[0m\n\u001b[0;32m     52\u001b[0m   \u001b[1;32mtry\u001b[0m\u001b[1;33m:\u001b[0m\u001b[1;33m\u001b[0m\u001b[1;33m\u001b[0m\u001b[0m\n\u001b[0;32m     53\u001b[0m     \u001b[0mctx\u001b[0m\u001b[1;33m.\u001b[0m\u001b[0mensure_initialized\u001b[0m\u001b[1;33m(\u001b[0m\u001b[1;33m)\u001b[0m\u001b[1;33m\u001b[0m\u001b[1;33m\u001b[0m\u001b[0m\n\u001b[1;32m---> 54\u001b[1;33m     tensors = pywrap_tfe.TFE_Py_Execute(ctx._handle, device_name, op_name,\n\u001b[0m\u001b[0;32m     55\u001b[0m                                         inputs, attrs, num_outputs)\n\u001b[0;32m     56\u001b[0m   \u001b[1;32mexcept\u001b[0m \u001b[0mcore\u001b[0m\u001b[1;33m.\u001b[0m\u001b[0m_NotOkStatusException\u001b[0m \u001b[1;32mas\u001b[0m \u001b[0me\u001b[0m\u001b[1;33m:\u001b[0m\u001b[1;33m\u001b[0m\u001b[1;33m\u001b[0m\u001b[0m\n",
      "\u001b[1;31mKeyboardInterrupt\u001b[0m: "
     ]
    }
   ],
   "source": [
    "import tensorflow as tf\n",
    "from tensorflow.keras.layers import Dense, TimeDistributed, Bidirectional, LSTM, GRU, multiply, Activation, Dropout\n",
    "from tensorflow.keras.regularizers import l1\n",
    "from esinet.losses import nmse_loss, nmae_loss\n",
    "\n",
    "leadfield, pos = util.unpack_fwd(fwd)[1:3]\n",
    "n_channels, n_dipoles = leadfield.shape\n",
    "input_shape = (None, None, n_channels)\n",
    "tf.keras.backend.set_image_data_format('channels_last')\n",
    "\n",
    "n_dense_units = 200\n",
    "n_lstm_units = 32\n",
    "activation_function = \"tanh\"\n",
    "batch_size = 32\n",
    "epochs = 30\n",
    "dropout = 0.2\n",
    "\n",
    "\n",
    "inputs = tf.keras.Input(shape=(None, n_channels), name='Input')\n",
    "fc1 = TimeDistributed(Dense(n_dense_units, \n",
    "            activation=activation_function), \n",
    "            name='FC1')(inputs)\n",
    "fc1 = Dropout(dropout)(fc1)\n",
    "\n",
    "direct_out = TimeDistributed(Dense(n_dipoles, \n",
    "            activation=\"linear\"),\n",
    "            name='FC2')(fc1)\n",
    "\n",
    "lstm1 = Bidirectional(GRU(n_lstm_units, return_sequences=True, \n",
    "            input_shape=(None, n_dense_units), dropout=dropout), \n",
    "            name='LSTM1')(fc1)\n",
    "mask = TimeDistributed(Dense(n_dipoles, \n",
    "            activation=\"sigmoid\"), \n",
    "            name='Mask')(lstm1)\n",
    "multi = multiply([direct_out, mask], name=\"multiply\")\n",
    "model = tf.keras.Model(inputs=inputs, outputs=multi, name='Contextualizer')\n",
    "\n",
    "\n",
    "model.compile(loss=tf.keras.losses.CosineSimilarity(), optimizer=\"adam\")\n",
    "# model.compile(loss=tf.keras.losses.Huber(), optimizer=\"adam\", metrics=[tf.keras.losses.CosineSimilarity()])\n",
    "\n",
    "\n",
    "model.summary()\n",
    "model.fit(X, y, epochs=epochs, batch_size=batch_size, validation_split=0.15)"
   ]
  },
  {
   "cell_type": "markdown",
   "metadata": {},
   "source": [
    "# Old LSTM"
   ]
  },
  {
   "cell_type": "code",
   "execution_count": 9,
   "metadata": {},
   "outputs": [
    {
     "name": "stdout",
     "output_type": "stream",
     "text": [
      "Model: \"LSTM_Old\"\n",
      "_________________________________________________________________\n",
      " Layer (type)                Output Shape              Param #   \n",
      "=================================================================\n",
      " Input (InputLayer)          [(None, None, 61)]        0         \n",
      "                                                                 \n",
      " FC1 (TimeDistributed)       (None, None, 300)         18600     \n",
      "                                                                 \n",
      " dropout_1 (Dropout)         (None, None, 300)         0         \n",
      "                                                                 \n",
      " bidirectional (Bidirectiona  (None, None, 256)        330240    \n",
      " l)                                                              \n",
      "                                                                 \n",
      " FC2 (TimeDistributed)       (None, None, 1284)        329988    \n",
      "                                                                 \n",
      "=================================================================\n",
      "Total params: 678,828\n",
      "Trainable params: 678,828\n",
      "Non-trainable params: 0\n",
      "_________________________________________________________________\n",
      "Epoch 1/30\n",
      "266/266 [==============================] - 7s 17ms/step - loss: -0.2287 - val_loss: -0.3001\n",
      "Epoch 2/30\n",
      "266/266 [==============================] - 3s 12ms/step - loss: -0.3146 - val_loss: -0.3348\n",
      "Epoch 3/30\n",
      "266/266 [==============================] - 3s 13ms/step - loss: -0.3389 - val_loss: -0.3531\n",
      "Epoch 4/30\n",
      "266/266 [==============================] - 3s 12ms/step - loss: -0.3541 - val_loss: -0.3661\n",
      "Epoch 5/30\n",
      "266/266 [==============================] - 4s 15ms/step - loss: -0.3657 - val_loss: -0.3746\n",
      "Epoch 6/30\n",
      "266/266 [==============================] - 4s 14ms/step - loss: -0.3763 - val_loss: -0.3860\n",
      "Epoch 7/30\n",
      "266/266 [==============================] - 3s 12ms/step - loss: -0.3848 - val_loss: -0.3953\n",
      "Epoch 8/30\n",
      "266/266 [==============================] - 3s 13ms/step - loss: -0.3923 - val_loss: -0.4001\n",
      "Epoch 9/30\n",
      "266/266 [==============================] - 3s 12ms/step - loss: -0.3986 - val_loss: -0.4076\n",
      "Epoch 10/30\n",
      "266/266 [==============================] - 3s 13ms/step - loss: -0.4047 - val_loss: -0.4119\n",
      "Epoch 11/30\n",
      "266/266 [==============================] - 3s 12ms/step - loss: -0.4101 - val_loss: -0.4146\n",
      "Epoch 12/30\n",
      "266/266 [==============================] - 3s 12ms/step - loss: -0.4158 - val_loss: -0.4217\n",
      "Epoch 13/30\n",
      "266/266 [==============================] - 3s 12ms/step - loss: -0.4209 - val_loss: -0.4272\n",
      "Epoch 14/30\n",
      "266/266 [==============================] - 4s 15ms/step - loss: -0.4263 - val_loss: -0.4312\n",
      "Epoch 15/30\n",
      "266/266 [==============================] - 3s 12ms/step - loss: -0.4313 - val_loss: -0.4347\n",
      "Epoch 16/30\n",
      "266/266 [==============================] - 3s 12ms/step - loss: -0.4362 - val_loss: -0.4389\n",
      "Epoch 17/30\n",
      "266/266 [==============================] - 3s 12ms/step - loss: -0.4411 - val_loss: -0.4443\n",
      "Epoch 18/30\n",
      "266/266 [==============================] - 3s 12ms/step - loss: -0.4456 - val_loss: -0.4466\n",
      "Epoch 19/30\n",
      "266/266 [==============================] - 3s 12ms/step - loss: -0.4495 - val_loss: -0.4505\n",
      "Epoch 20/30\n",
      "266/266 [==============================] - 4s 14ms/step - loss: -0.4532 - val_loss: -0.4544\n",
      "Epoch 21/30\n",
      "266/266 [==============================] - 3s 13ms/step - loss: -0.4569 - val_loss: -0.4567\n",
      "Epoch 22/30\n",
      "266/266 [==============================] - 4s 15ms/step - loss: -0.4602 - val_loss: -0.4597\n",
      "Epoch 23/30\n",
      "266/266 [==============================] - 4s 16ms/step - loss: -0.4634 - val_loss: -0.4609\n",
      "Epoch 24/30\n",
      "266/266 [==============================] - 3s 13ms/step - loss: -0.4660 - val_loss: -0.4641\n",
      "Epoch 25/30\n",
      "266/266 [==============================] - 4s 17ms/step - loss: -0.4682 - val_loss: -0.4667\n",
      "Epoch 26/30\n",
      "266/266 [==============================] - 4s 14ms/step - loss: -0.4708 - val_loss: -0.4679\n",
      "Epoch 27/30\n",
      "266/266 [==============================] - 3s 12ms/step - loss: -0.4729 - val_loss: -0.4706\n",
      "Epoch 28/30\n",
      "266/266 [==============================] - 3s 11ms/step - loss: -0.4749 - val_loss: -0.4714\n",
      "Epoch 29/30\n",
      "266/266 [==============================] - 3s 13ms/step - loss: -0.4770 - val_loss: -0.4735\n",
      "Epoch 30/30\n",
      "266/266 [==============================] - 3s 12ms/step - loss: -0.4786 - val_loss: -0.4725\n"
     ]
    },
    {
     "data": {
      "text/plain": [
       "<keras.callbacks.History at 0x1664679a5b0>"
      ]
     },
     "execution_count": 9,
     "metadata": {},
     "output_type": "execute_result"
    }
   ],
   "source": [
    "import tensorflow as tf\n",
    "from tensorflow.keras.layers import Dense, TimeDistributed, Bidirectional, LSTM, GRU, multiply, Activation\n",
    "from tensorflow.keras.regularizers import l1\n",
    "from esinet.losses import nmae_loss\n",
    "leadfield, pos = util.unpack_fwd(fwd)[1:3]\n",
    "n_channels, n_dipoles = leadfield.shape\n",
    "input_shape = (None, None, n_channels)\n",
    "tf.keras.backend.set_image_data_format('channels_last')\n",
    "\n",
    "n_dense_units = 300\n",
    "n_lstm_units = 128\n",
    "activation_function = \"tanh\"\n",
    "batch_size = 32\n",
    "epochs = 30\n",
    "dropout = 0.2\n",
    "\n",
    "inputs = tf.keras.Input(shape=(None, n_channels), name='Input')\n",
    "fc1 = TimeDistributed(Dense(n_dense_units, \n",
    "            activation=activation_function), \n",
    "            name='FC1')(inputs)\n",
    "fc1 = Dropout(dropout)(fc1)\n",
    "lstm1 = Bidirectional(GRU(n_lstm_units, return_sequences=True, name='LSTM1'))(fc1)\n",
    "\n",
    "direct_out = TimeDistributed(Dense(n_dipoles, \n",
    "            activation=\"linear\"),\n",
    "            name='FC2')(lstm1)\n",
    "\n",
    "\n",
    "model2 = tf.keras.Model(inputs=inputs, outputs=direct_out, name='LSTM_Old')\n",
    "\n",
    "\n",
    "model2.compile(loss=tf.keras.losses.CosineSimilarity(), optimizer=\"adam\")\n",
    "# model2.compile(loss=tf.keras.losses.Huber(), optimizer=\"adam\", metrics=[tf.keras.losses.CosineSimilarity()])\n",
    "# model2.compile(loss=\"mae\", optimizer=\"adam\", metrics=[tf.keras.losses.CosineSimilarity()])\n",
    "\n",
    "model2.summary()\n",
    "model2.fit(X, y, epochs=epochs, batch_size=batch_size, validation_split=0.15)"
   ]
  },
  {
   "cell_type": "markdown",
   "metadata": {},
   "source": [
    "# FC"
   ]
  },
  {
   "cell_type": "code",
   "execution_count": 10,
   "metadata": {},
   "outputs": [
    {
     "name": "stdout",
     "output_type": "stream",
     "text": [
      "Model: \"FC\"\n",
      "_________________________________________________________________\n",
      " Layer (type)                Output Shape              Param #   \n",
      "=================================================================\n",
      " Input (InputLayer)          [(None, None, 61)]        0         \n",
      "                                                                 \n",
      " FC1 (TimeDistributed)       (None, None, 600)         37200     \n",
      "                                                                 \n",
      " FC2 (TimeDistributed)       (None, None, 1284)        771684    \n",
      "                                                                 \n",
      "=================================================================\n",
      "Total params: 808,884\n",
      "Trainable params: 808,884\n",
      "Non-trainable params: 0\n",
      "_________________________________________________________________\n",
      "Epoch 1/30\n",
      "266/266 [==============================] - 2s 8ms/step - loss: -0.2608 - val_loss: -0.3191\n",
      "Epoch 2/30\n",
      "266/266 [==============================] - 2s 6ms/step - loss: -0.3389 - val_loss: -0.3502\n",
      "Epoch 3/30\n",
      "266/266 [==============================] - 2s 6ms/step - loss: -0.3595 - val_loss: -0.3633\n",
      "Epoch 4/30\n",
      "266/266 [==============================] - 2s 6ms/step - loss: -0.3701 - val_loss: -0.3705\n",
      "Epoch 5/30\n",
      "266/266 [==============================] - 2s 6ms/step - loss: -0.3766 - val_loss: -0.3747\n",
      "Epoch 6/30\n",
      "266/266 [==============================] - 2s 6ms/step - loss: -0.3810 - val_loss: -0.3783\n",
      "Epoch 7/30\n",
      "266/266 [==============================] - 2s 6ms/step - loss: -0.3841 - val_loss: -0.3798\n",
      "Epoch 8/30\n",
      "266/266 [==============================] - 2s 6ms/step - loss: -0.3861 - val_loss: -0.3821\n",
      "Epoch 9/30\n",
      "266/266 [==============================] - 2s 7ms/step - loss: -0.3885 - val_loss: -0.3828\n",
      "Epoch 10/30\n",
      "266/266 [==============================] - 2s 7ms/step - loss: -0.3905 - val_loss: -0.3865\n",
      "Epoch 11/30\n",
      "266/266 [==============================] - 2s 8ms/step - loss: -0.3915 - val_loss: -0.3876\n",
      "Epoch 12/30\n",
      "266/266 [==============================] - 1s 5ms/step - loss: -0.3935 - val_loss: -0.3886\n",
      "Epoch 13/30\n",
      "266/266 [==============================] - 2s 6ms/step - loss: -0.3945 - val_loss: -0.3899\n",
      "Epoch 14/30\n",
      "266/266 [==============================] - 1s 5ms/step - loss: -0.3952 - val_loss: -0.3914\n",
      "Epoch 15/30\n",
      "266/266 [==============================] - 2s 6ms/step - loss: -0.3968 - val_loss: -0.3940\n",
      "Epoch 16/30\n",
      "266/266 [==============================] - 1s 5ms/step - loss: -0.3977 - val_loss: -0.3930\n",
      "Epoch 17/30\n",
      "266/266 [==============================] - 1s 5ms/step - loss: -0.3990 - val_loss: -0.3939\n",
      "Epoch 18/30\n",
      "266/266 [==============================] - 1s 5ms/step - loss: -0.4000 - val_loss: -0.3948\n",
      "Epoch 19/30\n",
      "266/266 [==============================] - 1s 5ms/step - loss: -0.4010 - val_loss: -0.3936\n",
      "Epoch 20/30\n",
      "266/266 [==============================] - 2s 6ms/step - loss: -0.4026 - val_loss: -0.3975\n",
      "Epoch 21/30\n",
      "266/266 [==============================] - 1s 5ms/step - loss: -0.4027 - val_loss: -0.3990\n",
      "Epoch 22/30\n",
      "266/266 [==============================] - 1s 5ms/step - loss: -0.4042 - val_loss: -0.4010\n",
      "Epoch 23/30\n",
      "266/266 [==============================] - 1s 5ms/step - loss: -0.4051 - val_loss: -0.4012\n",
      "Epoch 24/30\n",
      "266/266 [==============================] - 1s 6ms/step - loss: -0.4065 - val_loss: -0.4008\n",
      "Epoch 25/30\n",
      "266/266 [==============================] - 1s 5ms/step - loss: -0.4072 - val_loss: -0.4031\n",
      "Epoch 26/30\n",
      "266/266 [==============================] - 2s 6ms/step - loss: -0.4080 - val_loss: -0.4030\n",
      "Epoch 27/30\n",
      "266/266 [==============================] - 1s 5ms/step - loss: -0.4080 - val_loss: -0.4026\n",
      "Epoch 28/30\n",
      "266/266 [==============================] - 1s 5ms/step - loss: -0.4091 - val_loss: -0.4019\n",
      "Epoch 29/30\n",
      "266/266 [==============================] - 1s 5ms/step - loss: -0.4099 - val_loss: -0.4029\n",
      "Epoch 30/30\n",
      "266/266 [==============================] - 1s 6ms/step - loss: -0.4108 - val_loss: -0.4063\n"
     ]
    },
    {
     "data": {
      "text/plain": [
       "<keras.callbacks.History at 0x166463cdf40>"
      ]
     },
     "execution_count": 10,
     "metadata": {},
     "output_type": "execute_result"
    }
   ],
   "source": [
    "import tensorflow as tf\n",
    "from tensorflow.keras.layers import Dense, TimeDistributed, Bidirectional, LSTM, GRU, multiply, Activation\n",
    "from tensorflow.keras.regularizers import l1\n",
    "from esinet.losses import nmae_loss\n",
    "leadfield, pos = util.unpack_fwd(fwd)[1:3]\n",
    "n_channels, n_dipoles = leadfield.shape\n",
    "input_shape = (None, None, n_channels)\n",
    "tf.keras.backend.set_image_data_format('channels_last')\n",
    "\n",
    "n_dense_units = 600\n",
    "n_lstm_units = 30\n",
    "activation_function = \"tanh\"\n",
    "batch_size = 32\n",
    "epochs = 30\n",
    "dropout = 0.1\n",
    "\n",
    "inputs = tf.keras.Input(shape=(None, n_channels), name='Input')\n",
    "fc1 = TimeDistributed(Dense(n_dense_units, \n",
    "            activation=activation_function), \n",
    "            name='FC1')(inputs)\n",
    "direct_out = TimeDistributed(Dense(n_dipoles, \n",
    "            activation=\"linear\"),\n",
    "            name='FC2')(fc1)\n",
    "\n",
    "\n",
    "model3 = tf.keras.Model(inputs=inputs, outputs=direct_out, name='FC')\n",
    "\n",
    "\n",
    "model3.compile(loss=tf.keras.losses.CosineSimilarity(), optimizer=\"adam\")\n",
    "\n",
    "model3.summary()\n",
    "model3.fit(X, y, epochs=epochs, batch_size=batch_size, validation_split=0.15)"
   ]
  },
  {
   "cell_type": "markdown",
   "metadata": {},
   "source": [
    "# Eval"
   ]
  },
  {
   "cell_type": "code",
   "execution_count": 20,
   "metadata": {},
   "outputs": [
    {
     "name": "stdout",
     "output_type": "stream",
     "text": [
      "Simulating data based on sparse patches.\n"
     ]
    },
    {
     "name": "stderr",
     "output_type": "stream",
     "text": [
      "100%|██████████| 10/10 [00:00<00:00, 20.06it/s]\n",
      "100%|██████████| 10/10 [00:00<?, ?it/s]\n"
     ]
    },
    {
     "name": "stdout",
     "output_type": "stream",
     "text": [
      "source data shape:  (1284, 25) (1284, 25)\n"
     ]
    },
    {
     "name": "stderr",
     "output_type": "stream",
     "text": [
      "100%|██████████| 10/10 [00:00<00:00, 345.75it/s]\n"
     ]
    },
    {
     "name": "stdout",
     "output_type": "stream",
     "text": [
      "2 sources\n",
      "Contextualizer: r=0.71\n",
      "LSTM_Old: r=0.50\n",
      "FC: r=0.27\n",
      "Champagne: r=0.00\n"
     ]
    }
   ],
   "source": [
    "import numpy as np\n",
    "from scipy.stats import pearsonr\n",
    "\n",
    "n_samples = 10\n",
    "settings = dict(duration_of_trial=0.25, number_of_sources=(1,10), extents=(1,40))\n",
    "# settings = dict(duration_of_trial=0.25, number_of_sources=5, extents=(1,2))\n",
    "\n",
    "sim_test = Simulation(fwd, info, settings=settings).simulate(n_samples=n_samples)\n",
    "X_test, y_test = prep_data(sim_test)\n",
    "\n",
    "# models = [model, model2, model3]\n",
    "# aucs = []\n",
    "# mles = []\n",
    "# nmses = []\n",
    "# for net in models:\n",
    "#     y_hat = net.predict(X_test)\n",
    "#     auc, nmse, mle = eval(y_test, y_hat)\n",
    "#     aucs.append( auc )\n",
    "#     nmses.append( nmse )\n",
    "#     mles.append( mle )\n",
    "    \n",
    "#     print(f\"{net.name}: \\n\\t{np.nanmedian(aucs[-1])} AUC \\n\\t{np.nanmedian(mles[-1])} mm \\n\\t{np.nanmedian(nmses[-1])} nMSE\")\n",
    "\n",
    "# aucs = np.stack(aucs, axis=0)\n",
    "# nmses = np.stack(nmses, axis=0)\n",
    "# mles = np.stack(mles, axis=0)\n",
    "\n",
    "idx = 0\n",
    "n = sim_test.simulation_info[\"number_of_sources\"].values[idx]\n",
    "print(f\"{n} sources\")\n",
    "\n",
    "# PLOTTING BRAINS\n",
    "stc = sim_test.source_data[idx]\n",
    "stc.plot(**plot_params, brain_kwargs=dict(title=\"Ground Truth\"))\n",
    "\n",
    "stc_hat = stc.copy()\n",
    "y_hat = model.predict(X_test)[idx]\n",
    "stc_hat.data = y_hat.T\n",
    "stc_hat.plot(**plot_params, brain_kwargs=dict(title=model.name))\n",
    "r = pearsonr(y_hat.flatten(), y_test[idx].flatten())[0]\n",
    "print(f\"{model.name}: r={r:.2f}\")\n",
    "\n",
    "\n",
    "y_hat = model2.predict(X_test)[idx]\n",
    "stc_hat = stc.copy()\n",
    "stc_hat.data = y_hat.T\n",
    "stc_hat.plot(**plot_params, brain_kwargs=dict(title=model2.name))\n",
    "r = pearsonr(y_hat.flatten(), y_test[idx].flatten())[0]\n",
    "print(f\"{model2.name}: r={r:.2f}\")\n",
    "\n",
    "y_hat = model3.predict(X_test)[idx]\n",
    "stc_hat = stc.copy()\n",
    "stc_hat.data = y_hat.T\n",
    "stc_hat.plot(**plot_params, brain_kwargs=dict(title=model3.name))\n",
    "r = pearsonr(y_hat.flatten(), y_test[idx].flatten())[0]\n",
    "print(f\"{model3.name}: r={r:.2f}\")\n",
    "\n",
    "import sys; sys.path.insert(0, '../../invert/')\n",
    "from invert.solvers.empirical_bayes import SolverChampagne\n",
    "evoked = sim_test.eeg_data[idx].average()\n",
    "solver = SolverChampagne()\n",
    "solver.make_inverse_operator(fwd)\n",
    "stc_hat = solver.apply_inverse_operator(evoked)\n",
    "stc_hat.plot(**plot_params, brain_kwargs=dict(title=solver.name))\n",
    "y_hat = stc_hat.data\n",
    "r = pearsonr(y_hat.flatten(), y_test[idx].flatten())[0]\n",
    "print(f\"{solver.name}: r={r:.2f}\")\n"
   ]
  },
  {
   "cell_type": "code",
   "execution_count": 45,
   "metadata": {},
   "outputs": [
    {
     "data": {
      "text/plain": [
       "Text(0.5, 1.0, 'NMSE')"
      ]
     },
     "execution_count": 45,
     "metadata": {},
     "output_type": "execute_result"
    },
    {
     "data": {
      "image/png": "[encoded data removed]",
      "text/plain": [
       "<Figure size 432x288 with 1 Axes>"
      ]
     },
     "metadata": {
      "needs_background": "light"
     },
     "output_type": "display_data"
    },
    {
     "data": {
      "image/png": "[encoded data removed]",
      "text/plain": [
       "<Figure size 432x288 with 1 Axes>"
      ]
     },
     "metadata": {
      "needs_background": "light"
     },
     "output_type": "display_data"
    },
    {
     "data": {
      "image/png": "[encoded data removed]",
      "text/plain": [
       "<Figure size 432x288 with 1 Axes>"
      ]
     },
     "metadata": {
      "needs_background": "light"
     },
     "output_type": "display_data"
    }
   ],
   "source": [
    "import seaborn as sns\n",
    "plt.figure()\n",
    "sns.boxplot(data=np.nanmean(aucs,axis=-1).T)\n",
    "plt.xlabel(\"AUC\")\n",
    "plt.title(\"AUC\")\n",
    "\n",
    "plt.figure()\n",
    "sns.boxplot(data=np.nanmean(mles,axis=-1).T)\n",
    "plt.xlabel(\"MLE\")\n",
    "plt.title(\"MLE\")\n",
    "\n",
    "plt.figure()\n",
    "sns.boxplot(data=np.nanmean(nmses,axis=-1).T)\n",
    "plt.xlabel(\"NMSE\")\n",
    "plt.title(\"NMSE\")\n"
   ]
  },
  {
   "cell_type": "code",
   "execution_count": 36,
   "metadata": {},
   "outputs": [
    {
     "name": "stdout",
     "output_type": "stream",
     "text": [
      "1\n"
     ]
    },
    {
     "data": {
      "image/png": "[encoded data removed]",
      "text/plain": [
       "<Figure size 432x288 with 3 Axes>"
      ]
     },
     "metadata": {
      "needs_background": "light"
     },
     "output_type": "display_data"
    }
   ],
   "source": [
    "idx = 0\n",
    "\n",
    "plt.figure()\n",
    "plt.subplot(311)\n",
    "plt.plot(mles[0,idx, :])\n",
    "plt.ylabel(\"MLE\")\n",
    "\n",
    "plt.subplot(312)\n",
    "plt.plot(aucs[0,idx, :])\n",
    "plt.ylabel(\"AUC\")\n",
    "\n",
    "plt.subplot(313)\n",
    "plt.plot(nmses[0,idx, :])\n",
    "plt.ylabel(\"nMSE\")\n",
    "\n",
    "print(sim_test.simulation_info[\"number_of_sources\"].values[idx])"
   ]
  },
  {
   "cell_type": "code",
   "execution_count": null,
   "metadata": {},
   "outputs": [],
   "source": []
  }
 ],
 "metadata": {
  "kernelspec": {
   "display_name": "Python 3.8.10 ('esienv')",
   "language": "python",
   "name": "python3"
  },
  "language_info": {
   "codemirror_mode": {
    "name": "ipython",
    "version": 3
   },
   "file_extension": ".py",
   "mimetype": "text/x-python",
   "name": "python",
   "nbconvert_exporter": "python",
   "pygments_lexer": "ipython3",
   "version": "3.8.10"
  },
  "orig_nbformat": 4,
  "vscode": {
   "interpreter": {
    "hash": "a9587d79750f5d7fc5c0560e15a7a8a49dff11015373bda407c2fe4ab31d0fe5"
   }
  }
 },
 "nbformat": 4,
 "nbformat_minor": 2
}
