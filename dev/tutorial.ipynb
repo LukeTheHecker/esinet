{
 "metadata": {
  "language_info": {
   "codemirror_mode": {
    "name": "ipython",
    "version": 3
   },
   "file_extension": ".py",
   "mimetype": "text/x-python",
   "name": "python",
   "nbconvert_exporter": "python",
   "pygments_lexer": "ipython3",
   "version": "3.8.3-final"
  },
  "orig_nbformat": 2,
  "kernelspec": {
   "name": "python38364bittfgpu2condad93025225eb74b59b81cf186a8a6ad6f",
   "display_name": "Python 3.8.3 64-bit ('tf_gpu2': conda)",
   "language": "python"
  }
 },
 "nbformat": 4,
 "nbformat_minor": 2,
 "cells": [
  {
   "cell_type": "code",
   "execution_count": null,
   "metadata": {},
   "outputs": [],
   "source": [
    "import numpy as np\n",
    "import matplotlib.pyplot as plt\n",
    "from ESINet.forward import create_forward_model\n",
    "from ESINet.simulations import run_simulations, create_eeg\n",
    "from ESINet.util import *\n",
    "from ESINet.ann import *\n",
    "\n",
    "pth_fwd = 'forward_models/ico3/'"
   ]
  },
  {
   "cell_type": "code",
   "execution_count": null,
   "metadata": {},
   "outputs": [],
   "source": [
    "create_forward_model(pth_fwd, sampling='ico3')"
   ]
  },
  {
   "source": [
    "## Simulate some source activity and EEG data"
   ],
   "cell_type": "markdown",
   "metadata": {}
  },
  {
   "cell_type": "code",
   "execution_count": null,
   "metadata": {},
   "outputs": [],
   "source": [
    "sources_sim = run_simulations(pth_fwd, durOfTrial=0)\n",
    "eeg_sim = create_eeg(sources_sim, pth_fwd)"
   ]
  },
  {
   "source": [
    "## Plot a simulated sample and corresponding EEG"
   ],
   "cell_type": "markdown",
   "metadata": {}
  },
  {
   "cell_type": "code",
   "execution_count": null,
   "metadata": {},
   "outputs": [],
   "source": [
    "%matplotlib qt\n",
    "sample = 0  # index of the simulation\n",
    "title = f'Simulation {sample}'\n",
    "# Topographic plot\n",
    "eeg_sim[sample].average().plot_topomap([0.5])\n",
    "# Source plot\n",
    "sources_sim.plot(hemi='both', initial_time=sample, surface='white', colormap='inferno', title=title, time_viewer=False)"
   ]
  },
  {
   "source": [
    "## Load and train ConvDip with simulated data"
   ],
   "cell_type": "markdown",
   "metadata": {}
  },
  {
   "cell_type": "code",
   "execution_count": null,
   "metadata": {},
   "outputs": [],
   "source": [
    "# Find out input and output dimensions based on the shape of the leadfield \n",
    "input_dim, output_dim = load_leadfield(pth_fwd).shape\n",
    "# Initialize the artificial neural network model\n",
    "model = get_model(input_dim, output_dim)\n",
    "# Train the model\n",
    "model, history = train_model(model, sources_sim, eeg_sim, delta=1)"
   ]
  },
  {
   "source": [
    "## Evaluate ConvDip\n",
    "Let's evaluate our model!"
   ],
   "cell_type": "markdown",
   "metadata": {}
  },
  {
   "cell_type": "code",
   "execution_count": null,
   "metadata": {},
   "outputs": [],
   "source": [
    "%matplotlib qt\n",
    "# Load some files from the forward model\n",
    "leadfield = load_leadfield(pth_fwd)\n",
    "info = load_info(pth_fwd)\n",
    "\n",
    "# Simulate a brand new sample:\n",
    "sources_eval = run_simulations(pth_fwd, 1, durOfTrial=0)\n",
    "eeg_eval = create_eeg(sources_eval, pth_fwd)\n",
    "\n",
    "# Calculate the ERP (average across trials):\n",
    "eeg_sample = np.squeeze( eeg_eval )\n",
    "\n",
    "# Predict\n",
    "source_predicted = predict(model, eeg_sample, pth_fwd)\n",
    "\n",
    "# Visualize ground truth...\n",
    "title = f'Ground Truth'\n",
    "sources_eval.plot(hemi='both', initial_time=0.5, surface='white', colormap='inferno', title=title, time_viewer=False)\n",
    "\n",
    "# ... and prediction\n",
    "title = f'ConvDip Prediction'\n",
    "source_predicted.plot(hemi='both', initial_time=0.5, surface='white', colormap='inferno', title=title, time_viewer=False)\n",
    "\n",
    "# ... and the 'True' EEG topography\n",
    "title = f'Simulated EEG'\n",
    "eeg_eval[0].average().plot_topomap([0], title=title)"
   ]
  }
 ]
}