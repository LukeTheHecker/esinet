{
 "cells": [
  {
   "cell_type": "code",
   "execution_count": 2,
   "metadata": {},
   "outputs": [
    {
     "name": "stderr",
     "output_type": "stream",
     "text": [
      "[Parallel(n_jobs=4)]: Using backend LokyBackend with 4 concurrent workers.\n",
      "[Parallel(n_jobs=4)]: Done   2 out of   4 | elapsed:    0.9s remaining:    0.9s\n",
      "[Parallel(n_jobs=4)]: Done   4 out of   4 | elapsed:    0.9s remaining:    0.0s\n",
      "[Parallel(n_jobs=4)]: Done   4 out of   4 | elapsed:    0.9s finished\n",
      "[Parallel(n_jobs=4)]: Using backend LokyBackend with 4 concurrent workers.\n",
      "[Parallel(n_jobs=4)]: Done   2 out of   4 | elapsed:    0.1s remaining:    0.1s\n",
      "[Parallel(n_jobs=4)]: Done   4 out of   4 | elapsed:    0.1s remaining:    0.0s\n",
      "[Parallel(n_jobs=4)]: Done   4 out of   4 | elapsed:    0.1s finished\n",
      "[Parallel(n_jobs=4)]: Using backend LokyBackend with 4 concurrent workers.\n",
      "[Parallel(n_jobs=4)]: Done   2 out of   4 | elapsed:    0.1s remaining:    0.1s\n",
      "[Parallel(n_jobs=4)]: Done   4 out of   4 | elapsed:    0.1s remaining:    0.0s\n",
      "[Parallel(n_jobs=4)]: Done   4 out of   4 | elapsed:    0.1s finished\n"
     ]
    }
   ],
   "source": [
    "import time\n",
    "import mne\n",
    "from esinet.minimum_norm import mne_eloreta\n",
    "from esinet.simulation import Simulation\n",
    "from esinet.forward import create_forward_model, get_info\n",
    "from esinet.net import Net\n",
    "from esinet.util import wrap_mne_inverse, unpack_fwd\n",
    "\n",
    "info = get_info()\n",
    "info['sfreq'] = 100\n",
    "fwd = create_forward_model(info=info)\n",
    "pos = unpack_fwd(fwd)[2]\n"
   ]
  },
  {
   "cell_type": "code",
   "execution_count": 3,
   "metadata": {},
   "outputs": [
    {
     "name": "stdout",
     "output_type": "stream",
     "text": [
      "Simulating data based on sparse patches.\n"
     ]
    },
    {
     "name": "stderr",
     "output_type": "stream",
     "text": [
      "100%|██████████| 1/1 [00:00<00:00, 83.55it/s]\n",
      "100%|██████████| 1/1 [00:00<?, ?it/s]\n",
      "100%|██████████| 1/1 [00:00<00:00, 71.62it/s]"
     ]
    },
    {
     "name": "stdout",
     "output_type": "stream",
     "text": [
      "(1, 61, 20)\n"
     ]
    },
    {
     "name": "stderr",
     "output_type": "stream",
     "text": [
      "\n"
     ]
    }
   ],
   "source": [
    "settings = dict(duration_of_trial=0.2, number_of_sources=20)\n",
    "sim = Simulation(fwd, info, settings=settings, parallel=False)\n",
    "\n",
    "n_samples = 1\n",
    "sim.simulate(n_samples=n_samples)\n",
    "\n",
    "epochs = sim.eeg_data[0]\n",
    "data = epochs.get_data()\n",
    "print(data.shape)"
   ]
  },
  {
   "cell_type": "code",
   "execution_count": 4,
   "metadata": {},
   "outputs": [],
   "source": [
    "import numpy as np\n",
    "from mne.channels.layout import _find_topomap_coords\n",
    "\n",
    "def elec_transformer(pos):\n",
    "    def trans(vec):\n",
    "        im, _ = mne.viz.plot_topomap(vec, pos, show=False, res=12)\n",
    "        img = np.asarray(im.get_array()[::-1])\n",
    "        return img\n",
    "\n",
    "    return trans\n",
    "elec_pos = _find_topomap_coords(epochs.info, epochs.ch_names)\n",
    "foo = elec_transformer(elec_pos)\n",
    "\n",
    "result = foo(np.random.randn(61,))"
   ]
  },
  {
   "cell_type": "code",
   "execution_count": null,
   "metadata": {},
   "outputs": [],
   "source": [
    "n  = 100\n",
    "arr = np.random.randn(61)\n",
    "start = time.time()\n",
    "for _ in range(n):\n",
    "    foo(arr)\n",
    "end = time.time()\n",
    "print((end-start)/n)"
   ]
  },
  {
   "cell_type": "code",
   "execution_count": null,
   "metadata": {},
   "outputs": [],
   "source": [
    "import matplotlib.pyplot as plt\n",
    "\n",
    "# epochs.info\n",
    "start = time.time()\n",
    "im, _ = mne.viz.plot_topomap(data[0,:, 0], elec_pos, show=False, res=12)\n",
    "# img = im.get_array()[::-1]\n",
    "img = np.asarray(im.get_array()[::-1])\n",
    "end = time.time()\n",
    "print((end-start), ' s')\n",
    "plt.figure()\n",
    "plt.imshow(img)\n"
   ]
  },
  {
   "cell_type": "code",
   "execution_count": null,
   "metadata": {},
   "outputs": [],
   "source": [
    "import tensorflow as tf\n",
    "from tensorflow.keras.layers import Dense, Conv2D, Flatten\n",
    "from tensorflow.keras.models import Sequential\n",
    "n_filters = 8\n",
    "kernel_size = (3, 3)\n",
    "n_units = 512\n",
    "activation = 'relu'\n",
    "output_shape = sim.source_data[0].data.shape[0]\n",
    "\n",
    "model = Sequential()\n",
    "model.add(Conv2D(n_filters, kernel_size, activation=activation))\n",
    "model.add(Flatten())\n",
    "model.add(Dense(n_units, activation=activation))\n",
    "model.add(Dense(output_shape, activation='linear'))\n",
    "\n",
    "model.compile(optimizer='adam', loss='mean_squared_error')\n",
    "\n"
   ]
  },
  {
   "cell_type": "code",
   "execution_count": null,
   "metadata": {},
   "outputs": [],
   "source": [
    "from scipy.stats import pearsonr\n",
    "from scipy.spatial.distance import cosine\n",
    "n = 100\n",
    "\n",
    "y_true = np.random.randn(n, 20)\n",
    "y_pred = y_true + np.random.randn(n, 20)*0.5\n",
    "\n",
    "corrs = np.zeros(n)\n",
    "cosines = np.zeros(n)\n",
    "mses = np.zeros(n)\n",
    "nmses = np.zeros(n)\n",
    "\n",
    "for i, (t, p) in enumerate(zip(y_true, y_pred)):\n",
    "    mses[i] = np.mean((t-p)**2)\n",
    "    nmses[i] = np.mean((t/np.max(np.abs(t)) - p/np.max(np.abs(p)))**2)\n",
    "    corrs[i] = pearsonr(t, p)[0]\n",
    "    cosines[i] = cosine(t,p)\n",
    "    \n"
   ]
  },
  {
   "cell_type": "markdown",
   "metadata": {},
   "source": [
    "# Faster Implementation"
   ]
  },
  {
   "cell_type": "markdown",
   "metadata": {},
   "source": [
    "## Some little more data"
   ]
  },
  {
   "cell_type": "code",
   "execution_count": 5,
   "metadata": {},
   "outputs": [
    {
     "name": "stdout",
     "output_type": "stream",
     "text": [
      "Simulating data based on sparse patches.\n"
     ]
    },
    {
     "name": "stderr",
     "output_type": "stream",
     "text": [
      "100%|██████████| 1/1 [00:00<00:00, 143.23it/s]\n",
      "100%|██████████| 1/1 [00:00<?, ?it/s]\n",
      "100%|██████████| 1/1 [00:00<00:00, 334.26it/s]\n"
     ]
    }
   ],
   "source": [
    "settings = dict(duration_of_trial=0.2, number_of_sources=20)\n",
    "sim = Simulation(fwd, info, settings=settings, parallel=False)\n",
    "\n",
    "n_samples = 1\n",
    "sim.simulate(n_samples=n_samples)\n",
    "\n",
    "epochs = sim.eeg_data[0]\n",
    "data = epochs.get_data()[0,:, 0]\n"
   ]
  },
  {
   "cell_type": "code",
   "execution_count": 6,
   "metadata": {},
   "outputs": [],
   "source": [
    "from mne.viz.topomap import _setup_interp, _make_head_outlines, _check_sphere, _check_extrapolate\n",
    "\n",
    "def make_interpolator(elec_pos, res=9, ch_type='eeg'):\n",
    "    extrapolate = _check_extrapolate('auto', ch_type)\n",
    "    sphere = sphere = _check_sphere(None)\n",
    "    outlines = 'head'\n",
    "    outlines = _make_head_outlines(sphere, elec_pos, outlines, (0., 0.))\n",
    "    border = 'mean'\n",
    "    extent, Xi, Yi, interpolator = _setup_interp(\n",
    "        elec_pos, res, extrapolate, sphere, outlines, border)\n",
    "    interpolator.set_locations(Xi, Yi)\n",
    "\n",
    "    return interpolator\n",
    "\n",
    "elec_pos = _find_topomap_coords(epochs.info, epochs.ch_names)\n",
    "interpolator = make_interpolator(elec_pos)\n",
    "topo = interpolator.set_values(data)()[::-1]\n",
    "\n"
   ]
  },
  {
   "cell_type": "code",
   "execution_count": 8,
   "metadata": {},
   "outputs": [
    {
     "data": {
      "text/plain": [
       "2.4050555355051252e-12"
      ]
     },
     "execution_count": 8,
     "metadata": {},
     "output_type": "execute_result"
    }
   ],
   "source": [
    "np.nanmean(topo**2)"
   ]
  },
  {
   "cell_type": "code",
   "execution_count": 16,
   "metadata": {},
   "outputs": [],
   "source": [
    "mat = np.random.randn(100, 20, 10)\n",
    "mat[0,0,0] = np.nan\n",
    "mat[0,0,1] = np.nan\n",
    "# mat[np.isnan(mat)] = [0]"
   ]
  },
  {
   "cell_type": "code",
   "execution_count": 20,
   "metadata": {},
   "outputs": [
    {
     "data": {
      "text/plain": [
       "array([], dtype=float64)"
      ]
     },
     "execution_count": 20,
     "metadata": {},
     "output_type": "execute_result"
    }
   ],
   "source": [
    "mat[np.isnan(mat)] = 0\n",
    "mat[np.isnan(mat)]"
   ]
  },
  {
   "cell_type": "code",
   "execution_count": 29,
   "metadata": {},
   "outputs": [
    {
     "data": {
      "application/vnd.jupyter.widget-view+json": {
       "model_id": "87617b1cd8374f55b31f589a485448ea",
       "version_major": 2,
       "version_minor": 0
      },
      "text/plain": [
       "0it [00:00, ?it/s]"
      ]
     },
     "metadata": {},
     "output_type": "display_data"
    }
   ],
   "source": [
    "from copy import deepcopy\n",
    "from tqdm.notebook import tqdm\n",
    "n = 100\n",
    "data = [np.random.randn(100, 61) for _ in range(n)]\n",
    "dat_interp = deepcopy(data)\n",
    "for i, sample in tqdm(enumerate(data)):\n",
    "    list_of_time_slices = []\n",
    "    for time_slice in sample:\n",
    "        time_slice_interp = interpolator.set_values(time_slice)()[::-1]\n",
    "        list_of_time_slices.append(time_slice_interp)\n",
    "    dat_interp[i] = np.stack(list_of_time_slices, axis=0)\n"
   ]
  },
  {
   "cell_type": "code",
   "execution_count": 32,
   "metadata": {},
   "outputs": [
    {
     "data": {
      "text/plain": [
       "(100, 9, 9)"
      ]
     },
     "execution_count": 32,
     "metadata": {},
     "output_type": "execute_result"
    }
   ],
   "source": [
    "dat_interp[0].shape"
   ]
  },
  {
   "cell_type": "code",
   "execution_count": 1,
   "metadata": {},
   "outputs": [
    {
     "ename": "NameError",
     "evalue": "name 'plt' is not defined",
     "output_type": "error",
     "traceback": [
      "\u001b[1;31m---------------------------------------------------------------------------\u001b[0m",
      "\u001b[1;31mNameError\u001b[0m                                 Traceback (most recent call last)",
      "\u001b[1;32m~\\AppData\\Local\\Temp/ipykernel_2696/916351474.py\u001b[0m in \u001b[0;36m<module>\u001b[1;34m\u001b[0m\n\u001b[0;32m      1\u001b[0m \u001b[0mget_ipython\u001b[0m\u001b[1;33m(\u001b[0m\u001b[1;33m)\u001b[0m\u001b[1;33m.\u001b[0m\u001b[0mrun_line_magic\u001b[0m\u001b[1;33m(\u001b[0m\u001b[1;34m'matplotlib'\u001b[0m\u001b[1;33m,\u001b[0m \u001b[1;34m'qt'\u001b[0m\u001b[1;33m)\u001b[0m\u001b[1;33m\u001b[0m\u001b[1;33m\u001b[0m\u001b[0m\n\u001b[1;32m----> 2\u001b[1;33m \u001b[0mplt\u001b[0m\u001b[1;33m.\u001b[0m\u001b[0mfigure\u001b[0m\u001b[1;33m(\u001b[0m\u001b[1;33m)\u001b[0m\u001b[1;33m\u001b[0m\u001b[1;33m\u001b[0m\u001b[0m\n\u001b[0m\u001b[0;32m      3\u001b[0m \u001b[0mplt\u001b[0m\u001b[1;33m.\u001b[0m\u001b[0msubplot\u001b[0m\u001b[1;33m(\u001b[0m\u001b[1;36m311\u001b[0m\u001b[1;33m)\u001b[0m\u001b[1;33m\u001b[0m\u001b[1;33m\u001b[0m\u001b[0m\n\u001b[0;32m      4\u001b[0m \u001b[0mplt\u001b[0m\u001b[1;33m.\u001b[0m\u001b[0mimshow\u001b[0m\u001b[1;33m(\u001b[0m\u001b[0mXi\u001b[0m\u001b[1;33m)\u001b[0m\u001b[1;33m\u001b[0m\u001b[1;33m\u001b[0m\u001b[0m\n\u001b[0;32m      5\u001b[0m \u001b[0mplt\u001b[0m\u001b[1;33m.\u001b[0m\u001b[0msubplot\u001b[0m\u001b[1;33m(\u001b[0m\u001b[1;36m312\u001b[0m\u001b[1;33m)\u001b[0m\u001b[1;33m\u001b[0m\u001b[1;33m\u001b[0m\u001b[0m\n",
      "\u001b[1;31mNameError\u001b[0m: name 'plt' is not defined"
     ]
    }
   ],
   "source": [
    "%matplotlib qt\n",
    "plt.figure()\n",
    "plt.subplot(311)\n",
    "plt.imshow(Xi)\n",
    "plt.subplot(312)\n",
    "plt.imshow(Yi)\n",
    "plt.subplot(313)\n",
    "plt.imshow(topo)\n",
    "\n",
    "plt.figure()\n",
    "mne.viz.plot_topomap(data, elec_pos, show=True, res=12)\n"
   ]
  },
  {
   "cell_type": "markdown",
   "metadata": {},
   "source": [
    "## Speed"
   ]
  },
  {
   "cell_type": "code",
   "execution_count": 37,
   "metadata": {},
   "outputs": [
    {
     "data": {
      "application/vnd.jupyter.widget-view+json": {
       "model_id": "ce9c610692814b3fbd4771acc9d8d3e1",
       "version_major": 2,
       "version_minor": 0
      },
      "text/plain": [
       "  0%|          | 0/1000 [00:00<?, ?it/s]"
      ]
     },
     "metadata": {},
     "output_type": "display_data"
    },
    {
     "name": "stdout",
     "output_type": "stream",
     "text": [
      "0.0006153542995452881\n",
      "744.5787024497986 12.409645040829977\n"
     ]
    }
   ],
   "source": [
    "from tqdm.notebook import tqdm\n",
    "n = 1000\n",
    "elec_pos = _find_topomap_coords(epochs.info, epochs.ch_names)\n",
    "interpolator = make_interpolator(elec_pos)\n",
    "start = time.time()\n",
    "for _ in tqdm(range(n)):\n",
    "    topo = interpolator.set_values(data)()[::-1]\n",
    "end = time.time()\n",
    "print((end-start)/n)\n",
    "\n",
    "n_total = 11000*110\n",
    "time_s = n_total * (end-start)/n\n",
    "time_m = (n_total * (end-start)/n) / 60\n",
    "print(time_s, time_m)\n"
   ]
  },
  {
   "cell_type": "code",
   "execution_count": null,
   "metadata": {},
   "outputs": [],
   "source": [
    "import multiprocessing as mp\n",
    "n_total = 11000*110\n",
    "datas = [data for _ in range(n_total)]\n",
    "\n",
    "pool = mp.Pool(mp.cpu_count())\n",
    "data_interp = [pool.apply(interpolator.set_values, args=(d,)) for d in datas]\n"
   ]
  },
  {
   "cell_type": "code",
   "execution_count": 18,
   "metadata": {},
   "outputs": [],
   "source": [
    "from parmapper import parmapper as pmap\n",
    "n_total = 11000*110\n",
    "interpolator = make_interpolator(elec_pos)\n",
    "\n",
    "datas = [data for _ in range(n_total)]\n",
    "result = pmap(interpolator.set_values, datas)"
   ]
  },
  {
   "cell_type": "code",
   "execution_count": 19,
   "metadata": {},
   "outputs": [
    {
     "ename": "RuntimeError",
     "evalue": "Not compatible with Windows",
     "output_type": "error",
     "traceback": [
      "\u001b[1;31m---------------------------------------------------------------------------\u001b[0m",
      "\u001b[1;31mRuntimeError\u001b[0m                              Traceback (most recent call last)",
      "\u001b[1;32m~\\AppData\\Local\\Temp/ipykernel_11812/2149425381.py\u001b[0m in \u001b[0;36m<module>\u001b[1;34m\u001b[0m\n\u001b[1;32m----> 1\u001b[1;33m \u001b[0mlist\u001b[0m\u001b[1;33m(\u001b[0m\u001b[0mresult\u001b[0m\u001b[1;33m)\u001b[0m\u001b[1;33m\u001b[0m\u001b[1;33m\u001b[0m\u001b[0m\n\u001b[0m",
      "\u001b[1;32m~\\Envs\\esienv\\lib\\site-packages\\parmapper.py\u001b[0m in \u001b[0;36mparmap\u001b[1;34m(fun, seq, N, Nt, chunksize, ordered, daemon, progress, args, kwargs, star, kwstar, exception)\u001b[0m\n\u001b[0;32m    242\u001b[0m     \u001b[1;31m# python 3.8. When 3.9 is released, it may have to be updated again.\u001b[0m\u001b[1;33m\u001b[0m\u001b[1;33m\u001b[0m\u001b[1;33m\u001b[0m\u001b[0m\n\u001b[0;32m    243\u001b[0m     \u001b[1;32mif\u001b[0m \u001b[0msys\u001b[0m\u001b[1;33m.\u001b[0m\u001b[0mplatform\u001b[0m\u001b[1;33m.\u001b[0m\u001b[0mlower\u001b[0m\u001b[1;33m(\u001b[0m\u001b[1;33m)\u001b[0m\u001b[1;33m.\u001b[0m\u001b[0mstartswith\u001b[0m\u001b[1;33m(\u001b[0m\u001b[1;34m'win'\u001b[0m\u001b[1;33m)\u001b[0m\u001b[1;33m:\u001b[0m\u001b[1;33m\u001b[0m\u001b[1;33m\u001b[0m\u001b[0m\n\u001b[1;32m--> 244\u001b[1;33m         \u001b[1;32mraise\u001b[0m \u001b[0mRuntimeError\u001b[0m\u001b[1;33m(\u001b[0m\u001b[1;34m'Not compatible with Windows'\u001b[0m\u001b[1;33m)\u001b[0m\u001b[1;33m\u001b[0m\u001b[1;33m\u001b[0m\u001b[0m\n\u001b[0m\u001b[0;32m    245\u001b[0m \u001b[1;33m\u001b[0m\u001b[0m\n\u001b[0;32m    246\u001b[0m     \u001b[1;32mif\u001b[0m \u001b[0msys\u001b[0m\u001b[1;33m.\u001b[0m\u001b[0mplatform\u001b[0m\u001b[1;33m.\u001b[0m\u001b[0mstartswith\u001b[0m\u001b[1;33m(\u001b[0m\u001b[1;34m'darwin'\u001b[0m\u001b[1;33m)\u001b[0m \u001b[1;32mand\u001b[0m\u001b[0;31m \u001b[0m\u001b[0;31m\\\u001b[0m\u001b[1;33m\u001b[0m\u001b[1;33m\u001b[0m\u001b[0m\n",
      "\u001b[1;31mRuntimeError\u001b[0m: Not compatible with Windows"
     ]
    }
   ],
   "source": [
    "list(result)"
   ]
  },
  {
   "cell_type": "code",
   "execution_count": null,
   "metadata": {},
   "outputs": [],
   "source": []
  }
 ],
 "metadata": {
  "interpreter": {
   "hash": "8292a7c1b71beb25883e5d3de4479593a27229e31834907607dc8a0d6e7b1899"
  },
  "kernelspec": {
   "display_name": "Python 3.8.10 64-bit ('esienv': virtualenv)",
   "language": "python",
   "name": "python3"
  },
  "language_info": {
   "codemirror_mode": {
    "name": "ipython",
    "version": 3
   },
   "file_extension": ".py",
   "mimetype": "text/x-python",
   "name": "python",
   "nbconvert_exporter": "python",
   "pygments_lexer": "ipython3",
   "version": "3.8.10"
  },
  "orig_nbformat": 4
 },
 "nbformat": 4,
 "nbformat_minor": 2
}
