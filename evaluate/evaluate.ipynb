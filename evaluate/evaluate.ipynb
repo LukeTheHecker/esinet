{
 "cells": [
  {
   "cell_type": "code",
   "execution_count": 1,
   "metadata": {},
   "outputs": [],
   "source": [
    "%matplotlib inline\n",
    "# %load_ext autoreload\n",
    "# %autoreload 2\n",
    "\n",
    "import sys; sys.path.insert(0, '../')\n",
    "import pickle as pkl\n",
    "import numpy as np\n",
    "import pandas as pd\n",
    "from copy import deepcopy\n",
    "import mne\n",
    "import seaborn as sns\n",
    "import matplotlib.pyplot as plt\n",
    "from esinet import util\n",
    "from esinet import Simulation\n",
    "from esinet import Net\n",
    "from esinet import forward\n",
    "\n",
    "plot_params = dict(surface='white', hemi='both', verbose=0)"
   ]
  },
  {
   "cell_type": "markdown",
   "metadata": {},
   "source": [
    "# Forward Model"
   ]
  },
  {
   "cell_type": "code",
   "execution_count": 2,
   "metadata": {},
   "outputs": [
    {
     "name": "stderr",
     "output_type": "stream",
     "text": [
      "[Parallel(n_jobs=16)]: Using backend LokyBackend with 16 concurrent workers.\n",
      "[Parallel(n_jobs=16)]: Done   5 out of  16 | elapsed:    0.9s remaining:    2.1s\n",
      "[Parallel(n_jobs=16)]: Done   9 out of  16 | elapsed:    0.9s remaining:    0.7s\n",
      "[Parallel(n_jobs=16)]: Done  13 out of  16 | elapsed:    0.9s remaining:    0.1s\n",
      "[Parallel(n_jobs=16)]: Done  16 out of  16 | elapsed:    0.9s finished\n",
      "[Parallel(n_jobs=16)]: Using backend LokyBackend with 16 concurrent workers.\n",
      "[Parallel(n_jobs=16)]: Done   5 out of  16 | elapsed:    0.0s remaining:    0.0s\n",
      "[Parallel(n_jobs=16)]: Done   9 out of  16 | elapsed:    0.0s remaining:    0.0s\n",
      "[Parallel(n_jobs=16)]: Done  13 out of  16 | elapsed:    0.0s remaining:    0.0s\n",
      "[Parallel(n_jobs=16)]: Done  16 out of  16 | elapsed:    0.0s finished\n",
      "[Parallel(n_jobs=16)]: Using backend LokyBackend with 16 concurrent workers.\n",
      "[Parallel(n_jobs=16)]: Done   5 out of  16 | elapsed:    0.0s remaining:    0.1s\n",
      "[Parallel(n_jobs=16)]: Done   9 out of  16 | elapsed:    0.0s remaining:    0.0s\n",
      "[Parallel(n_jobs=16)]: Done  13 out of  16 | elapsed:    0.0s remaining:    0.0s\n",
      "[Parallel(n_jobs=16)]: Done  16 out of  16 | elapsed:    0.0s finished\n",
      "[Parallel(n_jobs=16)]: Using backend LokyBackend with 16 concurrent workers.\n",
      "[Parallel(n_jobs=16)]: Done   5 out of  16 | elapsed:    0.0s remaining:    0.0s\n",
      "[Parallel(n_jobs=16)]: Done   9 out of  16 | elapsed:    0.0s remaining:    0.0s\n",
      "[Parallel(n_jobs=16)]: Done  13 out of  16 | elapsed:    0.0s remaining:    0.0s\n",
      "[Parallel(n_jobs=16)]: Done  16 out of  16 | elapsed:    0.0s finished\n",
      "[Parallel(n_jobs=16)]: Using backend LokyBackend with 16 concurrent workers.\n",
      "[Parallel(n_jobs=16)]: Done   5 out of  16 | elapsed:    0.0s remaining:    0.1s\n",
      "[Parallel(n_jobs=16)]: Done   9 out of  16 | elapsed:    0.0s remaining:    0.0s\n",
      "[Parallel(n_jobs=16)]: Done  13 out of  16 | elapsed:    0.0s remaining:    0.0s\n",
      "[Parallel(n_jobs=16)]: Done  16 out of  16 | elapsed:    0.0s finished\n",
      "[Parallel(n_jobs=16)]: Using backend LokyBackend with 16 concurrent workers.\n",
      "[Parallel(n_jobs=16)]: Done   5 out of  16 | elapsed:    0.0s remaining:    0.1s\n",
      "[Parallel(n_jobs=16)]: Done   9 out of  16 | elapsed:    0.0s remaining:    0.0s\n",
      "[Parallel(n_jobs=16)]: Done  13 out of  16 | elapsed:    0.0s remaining:    0.0s\n",
      "[Parallel(n_jobs=16)]: Done  16 out of  16 | elapsed:    0.0s finished\n"
     ]
    }
   ],
   "source": [
    "info = forward.get_info()\n",
    "info['sfreq'] = 100\n",
    "fwd = forward.create_forward_model(info=info)\n",
    "fwd_free = forward.create_forward_model(info=info, fixed_ori=False)"
   ]
  },
  {
   "cell_type": "markdown",
   "metadata": {},
   "source": [
    "# Load Models"
   ]
  },
  {
   "cell_type": "code",
   "execution_count": 3,
   "metadata": {},
   "outputs": [],
   "source": [
    "lstm_standard = util.load_net('models/LSTM Medium_1-1000points_standard-cosine_0')\n",
    "\n",
    "dense_standard = util.load_net('models/Dense Medium_1-1000points_standard-cosine_0')\n",
    "\n",
    "convdip_standard = util.load_net('models/ConvDip Medium_1-1000points_standard-cosine_0')\n",
    "\n",
    "models = [lstm_standard, dense_standard, convdip_standard]\n",
    "model_names = ['LSTM', 'Fully-Connected', 'ConvDip']"
   ]
  },
  {
   "cell_type": "markdown",
   "metadata": {},
   "source": [
    "# Plot single ground truth and predictions"
   ]
  },
  {
   "cell_type": "code",
   "execution_count": 5,
   "metadata": {},
   "outputs": [
    {
     "name": "stdout",
     "output_type": "stream",
     "text": [
      "The autoreload extension is already loaded. To reload it, use:\n",
      "  %reload_ext autoreload\n",
      "Simulating data based on sparse patches.\n"
     ]
    },
    {
     "name": "stderr",
     "output_type": "stream",
     "text": [
      "100%|██████████| 2/2 [00:00<00:00, 286.50it/s]\n",
      "100%|██████████| 2/2 [00:00<?, ?it/s]\n"
     ]
    },
    {
     "name": "stdout",
     "output_type": "stream",
     "text": [
      "source data shape:  (1284, 100) (1284, 100)\n"
     ]
    },
    {
     "name": "stderr",
     "output_type": "stream",
     "text": [
      "100%|██████████| 2/2 [00:00<00:00, 153.91it/s]\n"
     ]
    },
    {
     "name": "stdout",
     "output_type": "stream",
     "text": [
      "WARNING:tensorflow:5 out of the last 9 calls to <function Model.make_predict_function.<locals>.predict_function at 0x0000026D9A53F8B0> triggered tf.function retracing. Tracing is expensive and the excessive number of tracings could be due to (1) creating @tf.function repeatedly in a loop, (2) passing tensors with different shapes, (3) passing Python objects instead of tensors. For (1), please define your @tf.function outside of the loop. For (2), @tf.function has experimental_relax_shapes=True option that relaxes argument shapes that can avoid unnecessary retracing. For (3), please refer to https://www.tensorflow.org/guide/function#controlling_retracing and https://www.tensorflow.org/api_docs/python/tf/function for  more details.\n",
      "interpolating for convdip...\n"
     ]
    },
    {
     "name": "stderr",
     "output_type": "stream",
     "text": [
      "2it [00:00, 14.12it/s]\n"
     ]
    },
    {
     "name": "stdout",
     "output_type": "stream",
     "text": [
      "WARNING:tensorflow:6 out of the last 11 calls to <function Model.make_predict_function.<locals>.predict_function at 0x0000026DA4AEEC10> triggered tf.function retracing. Tracing is expensive and the excessive number of tracings could be due to (1) creating @tf.function repeatedly in a loop, (2) passing tensors with different shapes, (3) passing Python objects instead of tensors. For (1), please define your @tf.function outside of the loop. For (2), @tf.function has experimental_relax_shapes=True option that relaxes argument shapes that can avoid unnecessary retracing. For (3), please refer to https://www.tensorflow.org/guide/function#controlling_retracing and https://www.tensorflow.org/api_docs/python/tf/function for  more details.\n"
     ]
    },
    {
     "data": {
      "application/vnd.jupyter.widget-view+json": {
       "model_id": "d260e08b9ef4492081168adc8797d5f0",
       "version_major": 2,
       "version_minor": 0
      },
      "text/plain": [
       "  0%|          | 0/2 [00:00<?, ?it/s]"
      ]
     },
     "metadata": {},
     "output_type": "display_data"
    },
    {
     "name": "stderr",
     "output_type": "stream",
     "text": [
      "c:\\Users\\Lukas\\Documents\\projects\\esinet\\evaluate\\..\\esinet\\util\\util.py:388: RuntimeWarning: An average reference projection was already added. The data has been left untouched.\n",
      "  epochs.set_eeg_reference(projection=True, verbose=verbose)#.apply_baseline(baseline=baseline)\n",
      "c:\\Users\\Lukas\\Documents\\projects\\esinet\\evaluate\\..\\esinet\\util\\util.py:388: RuntimeWarning: An average reference projection was already added. The data has been left untouched.\n",
      "  epochs.set_eeg_reference(projection=True, verbose=verbose)#.apply_baseline(baseline=baseline)\n"
     ]
    },
    {
     "data": {
      "application/vnd.jupyter.widget-view+json": {
       "model_id": "46e3ec8336b747ea8a1914fc0f7c9108",
       "version_major": 2,
       "version_minor": 0
      },
      "text/plain": [
       "  0%|          | 0/2 [00:00<?, ?it/s]"
      ]
     },
     "metadata": {},
     "output_type": "display_data"
    },
    {
     "name": "stderr",
     "output_type": "stream",
     "text": [
      "c:\\Users\\Lukas\\Documents\\projects\\esinet\\evaluate\\..\\esinet\\util\\util.py:388: RuntimeWarning: An average reference projection was already added. The data has been left untouched.\n",
      "  epochs.set_eeg_reference(projection=True, verbose=verbose)#.apply_baseline(baseline=baseline)\n",
      "c:\\Users\\Lukas\\Documents\\projects\\esinet\\evaluate\\..\\esinet\\util\\util.py:388: RuntimeWarning: An average reference projection was already added. The data has been left untouched.\n",
      "  epochs.set_eeg_reference(projection=True, verbose=verbose)#.apply_baseline(baseline=baseline)\n"
     ]
    },
    {
     "data": {
      "application/vnd.jupyter.widget-view+json": {
       "model_id": "2368071d2519435cabc10eaecc038236",
       "version_major": 2,
       "version_minor": 0
      },
      "text/plain": [
       "  0%|          | 0/2 [00:00<?, ?it/s]"
      ]
     },
     "metadata": {},
     "output_type": "display_data"
    },
    {
     "name": "stderr",
     "output_type": "stream",
     "text": [
      "c:\\Users\\Lukas\\Documents\\projects\\esinet\\evaluate\\..\\esinet\\util\\util.py:388: RuntimeWarning: An average reference projection was already added. The data has been left untouched.\n",
      "  epochs.set_eeg_reference(projection=True, verbose=verbose)#.apply_baseline(baseline=baseline)\n",
      "c:\\Users\\Lukas\\Documents\\projects\\esinet\\evaluate\\..\\esinet\\util\\util.py:420: RuntimeWarning: Too few samples (required : 310 got : 100), covariance estimate may be unreliable\n",
      "  data_cov = mne.compute_raw_covariance(raw, tmin=tmin,\n",
      "c:\\Users\\Lukas\\Documents\\projects\\esinet\\evaluate\\..\\esinet\\util\\util.py:388: RuntimeWarning: An average reference projection was already added. The data has been left untouched.\n",
      "  epochs.set_eeg_reference(projection=True, verbose=verbose)#.apply_baseline(baseline=baseline)\n",
      "c:\\Users\\Lukas\\Documents\\projects\\esinet\\evaluate\\..\\esinet\\util\\util.py:420: RuntimeWarning: Too few samples (required : 310 got : 100), covariance estimate may be unreliable\n",
      "  data_cov = mne.compute_raw_covariance(raw, tmin=tmin,\n"
     ]
    },
    {
     "name": "stdout",
     "output_type": "stream",
     "text": [
      "<RawArray | 61 x 500 (5.0 s), ~325 kB, data loaded> 4.0 info empirical\n",
      "<RawArray | 61 x 500 (5.0 s), ~325 kB, data loaded> 4.0 info empirical\n",
      "LSTM, error: 0.01306, r: 0.29369567803768765\n",
      "Fully-Connected, error: 0.01448, r: 0.2830505208690953\n",
      "ConvDip, error: 0.01621, r: 0.2275248090530335\n",
      "eLORETA, error: 0.08533, r: 0.1418113207347428\n",
      "MNE, error: 0.03687, r: 0.15409477732151416\n",
      "LCMV, error: 0.03228, r: 0.09256392265467585\n",
      "Using control points [1.07776714e-10 4.75371353e-10 1.26869133e-09]\n"
     ]
    },
    {
     "name": "stderr",
     "output_type": "stream",
     "text": [
      "WARNING:root:Encountered issue in callback (most recent call last):\n",
      "  File \"C:\\Users\\Lukas\\Envs\\esienv\\lib\\site-packages\\mne\\viz\\_brain\\_brain.py\", line 1348, in _on_button_release\n",
      "    self.picked_renderer = self.plotter.iren.FindPokedRenderer(x, y)\n",
      "AttributeError: 'RenderWindowInteractor' object has no attribute 'FindPokedRenderer'\n"
     ]
    },
    {
     "name": "stdout",
     "output_type": "stream",
     "text": [
      "Using control points [2.39900139e-10 3.22105381e-10 6.21186676e-10]\n"
     ]
    }
   ],
   "source": [
    "import seaborn as sns\n",
    "%matplotlib qt\n",
    "sns.reset_orig()\n",
    "\n",
    "%load_ext autoreload\n",
    "%autoreload 2\n",
    "model_names_tmp = deepcopy(model_names)\n",
    "plot_params = dict(surface='white', hemi='both', verbose=0, \n",
    "    clim=dict(kind='percent', pos_lims=[20, 30, 100]))\n",
    "\n",
    "settings_eval = dict(method='standard')\n",
    "\n",
    "# Simulate new data\n",
    "sim = Simulation(fwd, info, settings=settings_eval).simulate(2)\n",
    "# snr = sim.simulation_info['target_snr'].values[0]\n",
    "snr = None\n",
    "# print(sim.simulation_info)\n",
    "idx = 0\n",
    "# Predict sources using the esinet models\n",
    "predictions = [model.predict(sim) for model in models]\n",
    "\n",
    "# Predict sources with classical methods\n",
    "# eLORETA\n",
    "prediction_elor_data = util.wrap_mne_inverse(fwd, sim, method='eLORETA', \n",
    "    add_baseline=True, n_baseline=400)[idx].data.astype(np.float32)\n",
    "prediction_elor = deepcopy(predictions[0][0])\n",
    "prediction_elor.data = prediction_elor_data / np.abs(np.max(prediction_elor_data))\n",
    "# MNE\n",
    "prediction_mne_data = util.wrap_mne_inverse(fwd, sim, method='MNE', \n",
    "    add_baseline=True, n_baseline=400)[idx].data.astype(np.float32)\n",
    "prediction_mne = deepcopy(predictions[0][0])\n",
    "prediction_mne.data = prediction_mne_data / np.abs(np.max(prediction_mne_data))\n",
    "# Beamformer\n",
    "prediction_lcmv_data = util.wrap_mne_inverse(fwd, sim, method='lcmv', \n",
    "    add_baseline=True, n_baseline=400, parallel=False)[idx].data.astype(np.float32)\n",
    "prediction_lcmv = deepcopy(predictions[0][0])\n",
    "prediction_lcmv.data = prediction_lcmv_data / np.max(np.abs(prediction_lcmv_data))\n",
    "\n",
    "# Get predictions and names in order\n",
    "predictions.append([prediction_elor])\n",
    "predictions.append([prediction_mne])\n",
    "predictions.append([prediction_lcmv])\n",
    "\n",
    "model_names_tmp.append('eLORETA')\n",
    "model_names_tmp.append('MNE')\n",
    "model_names_tmp.append('LCMV')\n",
    "\n",
    "# Plot True Source\n",
    "brain = sim.source_data[idx].plot(**plot_params)\n",
    "brain.add_text(0.1, 0.9, f'Ground Truth {sim.simulation_info.number_of_sources.values[0]} sources', 'title')\n",
    "# Plot True EEG\n",
    "evoked = sim.eeg_data[idx].average()\n",
    "# evoked.plot()\n",
    "evoked.plot_topomap(title='Ground Truth')\n",
    "# evoked = util.get_eeg_from_source(sim.source_data[idx], fwd, info, tmin=0.)\n",
    "# evoked.plot_topomap(title='Ground Truth Noiseless')\n",
    "\n",
    "model_selection = model_names_tmp#['LCMV',]\n",
    "# Plot predicted sources\n",
    "for model_name, prediction in zip(model_names_tmp, predictions):\n",
    "    \n",
    "    if not any([model_name.lower() in model_select.lower() for model_select in model_selection]):\n",
    "        continue\n",
    "    error = util.batch_nmse(sim.source_data[idx].data, prediction[idx].data)\n",
    "    r = util.batch_corr(sim.source_data[idx].data, prediction[idx].data)\n",
    "    \n",
    "    brain = prediction[idx].plot(**plot_params)\n",
    "\n",
    "    title = f'{model_name}, error: {error:.4}, r: {r}'\n",
    "    print(title)\n",
    "    brain.add_text(0.1, 0.9, title, 'title')\n",
    "    # Plot predicted EEG\n",
    "    # evoked_esi = util.get_eeg_from_source(prediction[idx], fwd, info, tmin=0.)\n",
    "    # evoked_esi.plot_topomap(title=model_name)\n"
   ]
  },
  {
   "cell_type": "markdown",
   "metadata": {},
   "source": [
    "## Create or Load Evaluation Set"
   ]
  },
  {
   "cell_type": "code",
   "execution_count": 6,
   "metadata": {},
   "outputs": [],
   "source": [
    "# n_samples = 1000\n",
    "# duration_of_trial = (0.01, 2)\n",
    "# method = 'standard'\n",
    "# settings = dict(duration_of_trial=duration_of_trial, method=method)\n",
    "# sim_test = Simulation(fwd, info, verbose=False, settings=settings).simulate(n_samples=n_samples)\n",
    "# if type(duration_of_trial) == tuple:\n",
    "#     sim_test.save(f'simulations\\\\sim_test_{n_samples}_{int(duration_of_trial[0]*100)}-{int(duration_of_trial[1]*100)}points_{method}.pkl')\n",
    "# else:\n",
    "#     sim_test.save(f'simulations\\\\sim_test_{n_samples}_{int(duration_of_trial*100)}points_{method}.pkl')\n",
    "\n",
    "# or Load\n",
    "with open(f'simulations\\\\sim_test_1000_1-200points_standard.pkl', 'rb') as f:\n",
    "    sim_test = pkl.load(f)"
   ]
  },
  {
   "cell_type": "code",
   "execution_count": 7,
   "metadata": {},
   "outputs": [
    {
     "name": "stdout",
     "output_type": "stream",
     "text": [
      "The autoreload extension is already loaded. To reload it, use:\n",
      "  %reload_ext autoreload\n",
      "predict esinets...\n",
      "interpolating for convdip...\n"
     ]
    },
    {
     "name": "stderr",
     "output_type": "stream",
     "text": [
      "1000it [01:07, 14.75it/s]\n"
     ]
    },
    {
     "name": "stdout",
     "output_type": "stream",
     "text": [
      "predict elor\n"
     ]
    },
    {
     "data": {
      "application/vnd.jupyter.widget-view+json": {
       "model_id": "e4d7d737377c4f3b9714a298f8ad357e",
       "version_major": 2,
       "version_minor": 0
      },
      "text/plain": [
       "  0%|          | 0/1000 [00:00<?, ?it/s]"
      ]
     },
     "metadata": {},
     "output_type": "display_data"
    },
    {
     "name": "stdout",
     "output_type": "stream",
     "text": [
      "predict MNE\n"
     ]
    },
    {
     "data": {
      "application/vnd.jupyter.widget-view+json": {
       "model_id": "addabf54d92249a8bbc2e75ed4ee50ef",
       "version_major": 2,
       "version_minor": 0
      },
      "text/plain": [
       "  0%|          | 0/1000 [00:00<?, ?it/s]"
      ]
     },
     "metadata": {},
     "output_type": "display_data"
    },
    {
     "name": "stdout",
     "output_type": "stream",
     "text": [
      "predict LCMV\n"
     ]
    },
    {
     "data": {
      "application/vnd.jupyter.widget-view+json": {
       "model_id": "f56cf66b604b4808b1e6798cd06a532c",
       "version_major": 2,
       "version_minor": 0
      },
      "text/plain": [
       "  0%|          | 0/1000 [00:00<?, ?it/s]"
      ]
     },
     "metadata": {},
     "output_type": "display_data"
    },
    {
     "name": "stderr",
     "output_type": "stream",
     "text": [
      "c:\\Users\\Lukas\\Documents\\projects\\esinet\\evaluate\\..\\esinet\\util\\util.py:388: RuntimeWarning: An average reference projection was already added. The data has been left untouched.\n",
      "  epochs.set_eeg_reference(projection=True, verbose=verbose)#.apply_baseline(baseline=baseline)\n",
      "c:\\Users\\Lukas\\Documents\\projects\\esinet\\evaluate\\..\\esinet\\util\\util.py:423: RuntimeWarning: Epochs are not baseline corrected, covariance matrix may be inaccurate\n",
      "  data_cov = mne.compute_covariance(epochs, tmin=0.0,\n",
      "c:\\Users\\Lukas\\Documents\\projects\\esinet\\evaluate\\..\\esinet\\util\\util.py:423: RuntimeWarning: Too few samples (required : 310 got : 14), covariance estimate may be unreliable\n",
      "  data_cov = mne.compute_covariance(epochs, tmin=0.0,\n",
      "c:\\Users\\Lukas\\Documents\\projects\\esinet\\evaluate\\..\\esinet\\util\\util.py:388: RuntimeWarning: An average reference projection was already added. The data has been left untouched.\n",
      "  epochs.set_eeg_reference(projection=True, verbose=verbose)#.apply_baseline(baseline=baseline)\n",
      "c:\\Users\\Lukas\\Documents\\projects\\esinet\\evaluate\\..\\esinet\\util\\util.py:420: RuntimeWarning: Too few samples (required : 310 got : 80), covariance estimate may be unreliable\n",
      "  data_cov = mne.compute_raw_covariance(raw, tmin=tmin,\n",
      "c:\\Users\\Lukas\\Documents\\projects\\esinet\\evaluate\\..\\esinet\\util\\util.py:388: RuntimeWarning: An average reference projection was already added. The data has been left untouched.\n",
      "  epochs.set_eeg_reference(projection=True, verbose=verbose)#.apply_baseline(baseline=baseline)\n",
      "c:\\Users\\Lukas\\Documents\\projects\\esinet\\evaluate\\..\\esinet\\util\\util.py:420: RuntimeWarning: Too few samples (required : 310 got : 60), covariance estimate may be unreliable\n",
      "  data_cov = mne.compute_raw_covariance(raw, tmin=tmin,\n",
      "c:\\Users\\Lukas\\Documents\\projects\\esinet\\evaluate\\..\\esinet\\util\\util.py:388: RuntimeWarning: An average reference projection was already added. The data has been left untouched.\n",
      "  epochs.set_eeg_reference(projection=True, verbose=verbose)#.apply_baseline(baseline=baseline)\n",
      "c:\\Users\\Lukas\\Documents\\projects\\esinet\\evaluate\\..\\esinet\\util\\util.py:420: RuntimeWarning: Too few samples (required : 310 got : 120), covariance estimate may be unreliable\n",
      "  data_cov = mne.compute_raw_covariance(raw, tmin=tmin,\n",
      "c:\\Users\\Lukas\\Documents\\projects\\esinet\\evaluate\\..\\esinet\\util\\util.py:388: RuntimeWarning: An average reference projection was already added. The data has been left untouched.\n",
      "  epochs.set_eeg_reference(projection=True, verbose=verbose)#.apply_baseline(baseline=baseline)\n"
     ]
    },
    {
     "name": "stdout",
     "output_type": "stream",
     "text": [
      "<RawArray | 61 x 414 (4.1 s), ~287 kB, data loaded> 4.0 info empirical\n",
      "<RawArray | 61 x 494 (4.9 s), ~325 kB, data loaded> 4.0 info empirical\n",
      "<RawArray | 61 x 464 (4.6 s), ~311 kB, data loaded> 4.0 info empirical\n",
      "<RawArray | 61 x 531 (5.3 s), ~343 kB, data loaded> 4.0 info empirical\n",
      "<RawArray | 61 x 519 (5.2 s), ~337 kB, data loaded> 4.0 info empirical\n",
      "<RawArray | 61 x 519 (5.2 s), ~337 kB, data loaded> 4.0 info empirical\n",
      "<RawArray | 61 x 482 (4.8 s), ~320 kB, data loaded> 4.0 info empirical\n",
      "<RawArray | 61 x 440 (4.4 s), ~299 kB, data loaded> 4.0 info empirical\n"
     ]
    },
    {
     "name": "stderr",
     "output_type": "stream",
     "text": [
      "c:\\Users\\Lukas\\Documents\\projects\\esinet\\evaluate\\..\\esinet\\util\\util.py:420: RuntimeWarning: Too few samples (required : 310 got : 100), covariance estimate may be unreliable\n",
      "  data_cov = mne.compute_raw_covariance(raw, tmin=tmin,\n",
      "c:\\Users\\Lukas\\Documents\\projects\\esinet\\evaluate\\..\\esinet\\util\\util.py:388: RuntimeWarning: An average reference projection was already added. The data has been left untouched.\n",
      "  epochs.set_eeg_reference(projection=True, verbose=verbose)#.apply_baseline(baseline=baseline)\n",
      "c:\\Users\\Lukas\\Documents\\projects\\esinet\\evaluate\\..\\esinet\\util\\util.py:420: RuntimeWarning: Too few samples (required : 310 got : 100), covariance estimate may be unreliable\n",
      "  data_cov = mne.compute_raw_covariance(raw, tmin=tmin,\n",
      "c:\\Users\\Lukas\\Documents\\projects\\esinet\\evaluate\\..\\esinet\\util\\util.py:388: RuntimeWarning: An average reference projection was already added. The data has been left untouched.\n",
      "  epochs.set_eeg_reference(projection=True, verbose=verbose)#.apply_baseline(baseline=baseline)\n",
      "c:\\Users\\Lukas\\Documents\\projects\\esinet\\evaluate\\..\\esinet\\util\\util.py:420: RuntimeWarning: Too few samples (required : 310 got : 80), covariance estimate may be unreliable\n",
      "  data_cov = mne.compute_raw_covariance(raw, tmin=tmin,\n",
      "c:\\Users\\Lukas\\Documents\\projects\\esinet\\evaluate\\..\\esinet\\util\\util.py:388: RuntimeWarning: An average reference projection was already added. The data has been left untouched.\n",
      "  epochs.set_eeg_reference(projection=True, verbose=verbose)#.apply_baseline(baseline=baseline)\n",
      "c:\\Users\\Lukas\\Documents\\projects\\esinet\\evaluate\\..\\esinet\\util\\util.py:420: RuntimeWarning: Too few samples (required : 310 got : 40), covariance estimate may be unreliable\n",
      "  data_cov = mne.compute_raw_covariance(raw, tmin=tmin,\n",
      "c:\\Users\\Lukas\\Documents\\projects\\esinet\\evaluate\\..\\esinet\\util\\util.py:388: RuntimeWarning: An average reference projection was already added. The data has been left untouched.\n",
      "  epochs.set_eeg_reference(projection=True, verbose=verbose)#.apply_baseline(baseline=baseline)\n"
     ]
    },
    {
     "name": "stdout",
     "output_type": "stream",
     "text": [
      "<RawArray | 61 x 570 (5.7 s), ~361 kB, data loaded> 4.0 info empirical\n",
      "<RawArray | 61 x 566 (5.7 s), ~360 kB, data loaded> 4.0 info empirical\n",
      "<RawArray | 61 x 587 (5.9 s), ~370 kB, data loaded> 4.0 info empirical\n",
      "<RawArray | 61 x 428 (4.3 s), ~294 kB, data loaded> 4.0 info empirical\n",
      "<RawArray | 61 x 583 (5.8 s), ~368 kB, data loaded> 4.0 info empirical\n"
     ]
    },
    {
     "name": "stderr",
     "output_type": "stream",
     "text": [
      "c:\\Users\\Lukas\\Documents\\projects\\esinet\\evaluate\\..\\esinet\\util\\util.py:420: RuntimeWarning: Too few samples (required : 310 got : 160), covariance estimate may be unreliable\n",
      "  data_cov = mne.compute_raw_covariance(raw, tmin=tmin,\n",
      "c:\\Users\\Lukas\\Documents\\projects\\esinet\\evaluate\\..\\esinet\\util\\util.py:388: RuntimeWarning: An average reference projection was already added. The data has been left untouched.\n",
      "  epochs.set_eeg_reference(projection=True, verbose=verbose)#.apply_baseline(baseline=baseline)\n",
      "c:\\Users\\Lukas\\Documents\\projects\\esinet\\evaluate\\..\\esinet\\util\\util.py:420: RuntimeWarning: Too few samples (required : 310 got : 160), covariance estimate may be unreliable\n",
      "  data_cov = mne.compute_raw_covariance(raw, tmin=tmin,\n",
      "c:\\Users\\Lukas\\Documents\\projects\\esinet\\evaluate\\..\\esinet\\util\\util.py:388: RuntimeWarning: An average reference projection was already added. The data has been left untouched.\n",
      "  epochs.set_eeg_reference(projection=True, verbose=verbose)#.apply_baseline(baseline=baseline)\n",
      "c:\\Users\\Lukas\\Documents\\projects\\esinet\\evaluate\\..\\esinet\\util\\util.py:420: RuntimeWarning: Too few samples (required : 310 got : 180), covariance estimate may be unreliable\n",
      "  data_cov = mne.compute_raw_covariance(raw, tmin=tmin,\n",
      "c:\\Users\\Lukas\\Documents\\projects\\esinet\\evaluate\\..\\esinet\\util\\util.py:388: RuntimeWarning: An average reference projection was already added. The data has been left untouched.\n",
      "  epochs.set_eeg_reference(projection=True, verbose=verbose)#.apply_baseline(baseline=baseline)\n",
      "c:\\Users\\Lukas\\Documents\\projects\\esinet\\evaluate\\..\\esinet\\util\\util.py:420: RuntimeWarning: Too few samples (required : 310 got : 20), covariance estimate may be unreliable\n",
      "  data_cov = mne.compute_raw_covariance(raw, tmin=tmin,\n",
      "c:\\Users\\Lukas\\Documents\\projects\\esinet\\evaluate\\..\\esinet\\util\\util.py:388: RuntimeWarning: An average reference projection was already added. The data has been left untouched.\n",
      "  epochs.set_eeg_reference(projection=True, verbose=verbose)#.apply_baseline(baseline=baseline)\n",
      "c:\\Users\\Lukas\\Documents\\projects\\esinet\\evaluate\\..\\esinet\\util\\util.py:420: RuntimeWarning: Too few samples (required : 310 got : 180), covariance estimate may be unreliable\n",
      "  data_cov = mne.compute_raw_covariance(raw, tmin=tmin,\n",
      "c:\\Users\\Lukas\\Documents\\projects\\esinet\\evaluate\\..\\esinet\\util\\util.py:388: RuntimeWarning: An average reference projection was already added. The data has been left untouched.\n",
      "  epochs.set_eeg_reference(projection=True, verbose=verbose)#.apply_baseline(baseline=baseline)\n",
      "c:\\Users\\Lukas\\Documents\\projects\\esinet\\evaluate\\..\\esinet\\util\\util.py:420: RuntimeWarning: Too few samples (required : 310 got : 160), covariance estimate may be unreliable\n",
      "  data_cov = mne.compute_raw_covariance(raw, tmin=tmin,\n",
      "c:\\Users\\Lukas\\Documents\\projects\\esinet\\evaluate\\..\\esinet\\util\\util.py:388: RuntimeWarning: An average reference projection was already added. The data has been left untouched.\n",
      "  epochs.set_eeg_reference(projection=True, verbose=verbose)#.apply_baseline(baseline=baseline)\n",
      "c:\\Users\\Lukas\\Documents\\projects\\esinet\\evaluate\\..\\esinet\\util\\util.py:420: RuntimeWarning: Too few samples (required : 310 got : 160), covariance estimate may be unreliable\n",
      "  data_cov = mne.compute_raw_covariance(raw, tmin=tmin,\n",
      "c:\\Users\\Lukas\\Documents\\projects\\esinet\\evaluate\\..\\esinet\\util\\util.py:388: RuntimeWarning: An average reference projection was already added. The data has been left untouched.\n",
      "  epochs.set_eeg_reference(projection=True, verbose=verbose)#.apply_baseline(baseline=baseline)\n",
      "c:\\Users\\Lukas\\Documents\\projects\\esinet\\evaluate\\..\\esinet\\util\\util.py:420: RuntimeWarning: Too few samples (required : 310 got : 20), covariance estimate may be unreliable\n",
      "  data_cov = mne.compute_raw_covariance(raw, tmin=tmin,\n",
      "c:\\Users\\Lukas\\Documents\\projects\\esinet\\evaluate\\..\\esinet\\util\\util.py:388: RuntimeWarning: An average reference projection was already added. The data has been left untouched.\n",
      "  epochs.set_eeg_reference(projection=True, verbose=verbose)#.apply_baseline(baseline=baseline)\n"
     ]
    },
    {
     "name": "stdout",
     "output_type": "stream",
     "text": [
      "<RawArray | 61 x 570 (5.7 s), ~361 kB, data loaded> 4.0 info empirical\n",
      "<RawArray | 61 x 560 (5.6 s), ~357 kB, data loaded> 4.0 info empirical\n",
      "<RawArray | 61 x 421 (4.2 s), ~290 kB, data loaded> 4.0 info empirical\n",
      "<RawArray | 61 x 442 (4.4 s), ~300 kB, data loaded> 4.0 info empirical\n"
     ]
    },
    {
     "name": "stderr",
     "output_type": "stream",
     "text": [
      "c:\\Users\\Lukas\\Documents\\projects\\esinet\\evaluate\\..\\esinet\\util\\util.py:420: RuntimeWarning: Too few samples (required : 310 got : 40), covariance estimate may be unreliable\n",
      "  data_cov = mne.compute_raw_covariance(raw, tmin=tmin,\n",
      "c:\\Users\\Lukas\\Documents\\projects\\esinet\\evaluate\\..\\esinet\\util\\util.py:388: RuntimeWarning: An average reference projection was already added. The data has been left untouched.\n",
      "  epochs.set_eeg_reference(projection=True, verbose=verbose)#.apply_baseline(baseline=baseline)\n",
      "c:\\Users\\Lukas\\Documents\\projects\\esinet\\evaluate\\..\\esinet\\util\\util.py:420: RuntimeWarning: Too few samples (required : 310 got : 60), covariance estimate may be unreliable\n",
      "  data_cov = mne.compute_raw_covariance(raw, tmin=tmin,\n",
      "c:\\Users\\Lukas\\Documents\\projects\\esinet\\evaluate\\..\\esinet\\util\\util.py:388: RuntimeWarning: An average reference projection was already added. The data has been left untouched.\n",
      "  epochs.set_eeg_reference(projection=True, verbose=verbose)#.apply_baseline(baseline=baseline)\n",
      "c:\\Users\\Lukas\\Documents\\projects\\esinet\\evaluate\\..\\esinet\\util\\util.py:420: RuntimeWarning: Too few samples (required : 310 got : 60), covariance estimate may be unreliable\n",
      "  data_cov = mne.compute_raw_covariance(raw, tmin=tmin,\n",
      "c:\\Users\\Lukas\\Documents\\projects\\esinet\\evaluate\\..\\esinet\\util\\util.py:388: RuntimeWarning: An average reference projection was already added. The data has been left untouched.\n",
      "  epochs.set_eeg_reference(projection=True, verbose=verbose)#.apply_baseline(baseline=baseline)\n",
      "c:\\Users\\Lukas\\Documents\\projects\\esinet\\evaluate\\..\\esinet\\util\\util.py:420: RuntimeWarning: Too few samples (required : 310 got : 140), covariance estimate may be unreliable\n",
      "  data_cov = mne.compute_raw_covariance(raw, tmin=tmin,\n"
     ]
    },
    {
     "name": "stdout",
     "output_type": "stream",
     "text": [
      "<RawArray | 61 x 479 (4.8 s), ~318 kB, data loaded> 4.0 info empirical\n",
      "<RawArray | 61 x 468 (4.7 s), ~313 kB, data loaded> 4.0 info empirical\n",
      "<RawArray | 61 x 549 (5.5 s), ~351 kB, data loaded> 4.0 info empirical\n",
      "<RawArray | 61 x 474 (4.7 s), ~316 kB, data loaded> 4.0 info empirical\n",
      "<RawArray | 61 x 509 (5.1 s), ~332 kB, data loaded> 4.0 info empirical\n"
     ]
    },
    {
     "name": "stderr",
     "output_type": "stream",
     "text": [
      "c:\\Users\\Lukas\\Documents\\projects\\esinet\\evaluate\\..\\esinet\\util\\util.py:388: RuntimeWarning: An average reference projection was already added. The data has been left untouched.\n",
      "  epochs.set_eeg_reference(projection=True, verbose=verbose)#.apply_baseline(baseline=baseline)\n",
      "c:\\Users\\Lukas\\Documents\\projects\\esinet\\evaluate\\..\\esinet\\util\\util.py:420: RuntimeWarning: Too few samples (required : 310 got : 60), covariance estimate may be unreliable\n",
      "  data_cov = mne.compute_raw_covariance(raw, tmin=tmin,\n",
      "c:\\Users\\Lukas\\Documents\\projects\\esinet\\evaluate\\..\\esinet\\util\\util.py:388: RuntimeWarning: An average reference projection was already added. The data has been left untouched.\n",
      "  epochs.set_eeg_reference(projection=True, verbose=verbose)#.apply_baseline(baseline=baseline)\n",
      "c:\\Users\\Lukas\\Documents\\projects\\esinet\\evaluate\\..\\esinet\\util\\util.py:420: RuntimeWarning: Too few samples (required : 310 got : 100), covariance estimate may be unreliable\n",
      "  data_cov = mne.compute_raw_covariance(raw, tmin=tmin,\n",
      "c:\\Users\\Lukas\\Documents\\projects\\esinet\\evaluate\\..\\esinet\\util\\util.py:388: RuntimeWarning: An average reference projection was already added. The data has been left untouched.\n",
      "  epochs.set_eeg_reference(projection=True, verbose=verbose)#.apply_baseline(baseline=baseline)\n",
      "c:\\Users\\Lukas\\Documents\\projects\\esinet\\evaluate\\..\\esinet\\util\\util.py:423: RuntimeWarning: Epochs are not baseline corrected, covariance matrix may be inaccurate\n",
      "  data_cov = mne.compute_covariance(epochs, tmin=0.0,\n",
      "c:\\Users\\Lukas\\Documents\\projects\\esinet\\evaluate\\..\\esinet\\util\\util.py:423: RuntimeWarning: Too few samples (required : 310 got : 11), covariance estimate may be unreliable\n",
      "  data_cov = mne.compute_covariance(epochs, tmin=0.0,\n",
      "c:\\Users\\Lukas\\Documents\\projects\\esinet\\evaluate\\..\\esinet\\util\\util.py:388: RuntimeWarning: An average reference projection was already added. The data has been left untouched.\n",
      "  epochs.set_eeg_reference(projection=True, verbose=verbose)#.apply_baseline(baseline=baseline)\n",
      "c:\\Users\\Lukas\\Documents\\projects\\esinet\\evaluate\\..\\esinet\\util\\util.py:420: RuntimeWarning: Too few samples (required : 310 got : 100), covariance estimate may be unreliable\n",
      "  data_cov = mne.compute_raw_covariance(raw, tmin=tmin,\n",
      "c:\\Users\\Lukas\\Documents\\projects\\esinet\\evaluate\\..\\esinet\\util\\util.py:388: RuntimeWarning: An average reference projection was already added. The data has been left untouched.\n",
      "  epochs.set_eeg_reference(projection=True, verbose=verbose)#.apply_baseline(baseline=baseline)\n"
     ]
    },
    {
     "name": "stdout",
     "output_type": "stream",
     "text": [
      "<RawArray | 61 x 411 (4.1 s), ~286 kB, data loaded> 4.0 info empirical\n",
      "<RawArray | 61 x 503 (5.0 s), ~330 kB, data loaded> 4.0 info empirical\n",
      "<RawArray | 61 x 443 (4.4 s), ~301 kB, data loaded> 4.0 info empirical\n",
      "<RawArray | 61 x 420 (4.2 s), ~290 kB, data loaded> 4.0 info empirical\n"
     ]
    },
    {
     "name": "stderr",
     "output_type": "stream",
     "text": [
      "c:\\Users\\Lukas\\Documents\\projects\\esinet\\evaluate\\..\\esinet\\util\\util.py:420: RuntimeWarning: Too few samples (required : 310 got : 40), covariance estimate may be unreliable\n",
      "  data_cov = mne.compute_raw_covariance(raw, tmin=tmin,\n",
      "c:\\Users\\Lukas\\Documents\\projects\\esinet\\evaluate\\..\\esinet\\util\\util.py:388: RuntimeWarning: An average reference projection was already added. The data has been left untouched.\n",
      "  epochs.set_eeg_reference(projection=True, verbose=verbose)#.apply_baseline(baseline=baseline)\n",
      "c:\\Users\\Lukas\\Documents\\projects\\esinet\\evaluate\\..\\esinet\\util\\util.py:420: RuntimeWarning: Too few samples (required : 310 got : 20), covariance estimate may be unreliable\n",
      "  data_cov = mne.compute_raw_covariance(raw, tmin=tmin,\n",
      "c:\\Users\\Lukas\\Documents\\projects\\esinet\\evaluate\\..\\esinet\\util\\util.py:388: RuntimeWarning: An average reference projection was already added. The data has been left untouched.\n",
      "  epochs.set_eeg_reference(projection=True, verbose=verbose)#.apply_baseline(baseline=baseline)\n",
      "c:\\Users\\Lukas\\Documents\\projects\\esinet\\evaluate\\..\\esinet\\util\\util.py:420: RuntimeWarning: Too few samples (required : 310 got : 100), covariance estimate may be unreliable\n",
      "  data_cov = mne.compute_raw_covariance(raw, tmin=tmin,\n",
      "c:\\Users\\Lukas\\Documents\\projects\\esinet\\evaluate\\..\\esinet\\util\\util.py:388: RuntimeWarning: An average reference projection was already added. The data has been left untouched.\n",
      "  epochs.set_eeg_reference(projection=True, verbose=verbose)#.apply_baseline(baseline=baseline)\n",
      "c:\\Users\\Lukas\\Documents\\projects\\esinet\\evaluate\\..\\esinet\\util\\util.py:420: RuntimeWarning: Too few samples (required : 310 got : 140), covariance estimate may be unreliable\n",
      "  data_cov = mne.compute_raw_covariance(raw, tmin=tmin,\n",
      "c:\\Users\\Lukas\\Documents\\projects\\esinet\\evaluate\\..\\esinet\\util\\util.py:388: RuntimeWarning: An average reference projection was already added. The data has been left untouched.\n",
      "  epochs.set_eeg_reference(projection=True, verbose=verbose)#.apply_baseline(baseline=baseline)\n"
     ]
    },
    {
     "name": "stdout",
     "output_type": "stream",
     "text": [
      "<RawArray | 61 x 509 (5.1 s), ~332 kB, data loaded> 4.0 info empirical\n",
      "<RawArray | 61 x 555 (5.5 s), ~354 kB, data loaded> 4.0 info empirical\n",
      "<RawArray | 61 x 423 (4.2 s), ~291 kB, data loaded> 4.0 info empirical\n",
      "<RawArray | 61 x 530 (5.3 s), ~342 kB, data loaded> 4.0 info empirical\n",
      "<RawArray | 61 x 573 (5.7 s), ~363 kB, data loaded> 4.0 info empirical\n"
     ]
    },
    {
     "name": "stderr",
     "output_type": "stream",
     "text": [
      "c:\\Users\\Lukas\\Documents\\projects\\esinet\\evaluate\\..\\esinet\\util\\util.py:420: RuntimeWarning: Too few samples (required : 310 got : 20), covariance estimate may be unreliable\n",
      "  data_cov = mne.compute_raw_covariance(raw, tmin=tmin,\n",
      "c:\\Users\\Lukas\\Documents\\projects\\esinet\\evaluate\\..\\esinet\\util\\util.py:388: RuntimeWarning: An average reference projection was already added. The data has been left untouched.\n",
      "  epochs.set_eeg_reference(projection=True, verbose=verbose)#.apply_baseline(baseline=baseline)\n",
      "c:\\Users\\Lukas\\Documents\\projects\\esinet\\evaluate\\..\\esinet\\util\\util.py:420: RuntimeWarning: Too few samples (required : 310 got : 120), covariance estimate may be unreliable\n",
      "  data_cov = mne.compute_raw_covariance(raw, tmin=tmin,\n",
      "c:\\Users\\Lukas\\Documents\\projects\\esinet\\evaluate\\..\\esinet\\util\\util.py:388: RuntimeWarning: An average reference projection was already added. The data has been left untouched.\n",
      "  epochs.set_eeg_reference(projection=True, verbose=verbose)#.apply_baseline(baseline=baseline)\n",
      "c:\\Users\\Lukas\\Documents\\projects\\esinet\\evaluate\\..\\esinet\\util\\util.py:420: RuntimeWarning: Too few samples (required : 310 got : 160), covariance estimate may be unreliable\n",
      "  data_cov = mne.compute_raw_covariance(raw, tmin=tmin,\n",
      "c:\\Users\\Lukas\\Documents\\projects\\esinet\\evaluate\\..\\esinet\\util\\util.py:388: RuntimeWarning: An average reference projection was already added. The data has been left untouched.\n",
      "  epochs.set_eeg_reference(projection=True, verbose=verbose)#.apply_baseline(baseline=baseline)\n",
      "c:\\Users\\Lukas\\Documents\\projects\\esinet\\evaluate\\..\\esinet\\util\\util.py:420: RuntimeWarning: Too few samples (required : 310 got : 40), covariance estimate may be unreliable\n",
      "  data_cov = mne.compute_raw_covariance(raw, tmin=tmin,\n",
      "c:\\Users\\Lukas\\Documents\\projects\\esinet\\evaluate\\..\\esinet\\util\\util.py:388: RuntimeWarning: An average reference projection was already added. The data has been left untouched.\n",
      "  epochs.set_eeg_reference(projection=True, verbose=verbose)#.apply_baseline(baseline=baseline)\n"
     ]
    },
    {
     "name": "stdout",
     "output_type": "stream",
     "text": [
      "<RawArray | 61 x 452 (4.5 s), ~305 kB, data loaded> 4.0 info empirical\n",
      "<RawArray | 61 x 420 (4.2 s), ~290 kB, data loaded> 4.0 info empirical\n",
      "<RawArray | 61 x 581 (5.8 s), ~367 kB, data loaded> 4.0 info empirical\n",
      "<RawArray | 61 x 591 (5.9 s), ~371 kB, data loaded> 4.0 info empirical\n"
     ]
    },
    {
     "name": "stderr",
     "output_type": "stream",
     "text": [
      "c:\\Users\\Lukas\\Documents\\projects\\esinet\\evaluate\\..\\esinet\\util\\util.py:420: RuntimeWarning: Too few samples (required : 310 got : 20), covariance estimate may be unreliable\n",
      "  data_cov = mne.compute_raw_covariance(raw, tmin=tmin,\n",
      "c:\\Users\\Lukas\\Documents\\projects\\esinet\\evaluate\\..\\esinet\\util\\util.py:388: RuntimeWarning: An average reference projection was already added. The data has been left untouched.\n",
      "  epochs.set_eeg_reference(projection=True, verbose=verbose)#.apply_baseline(baseline=baseline)\n",
      "c:\\Users\\Lukas\\Documents\\projects\\esinet\\evaluate\\..\\esinet\\util\\util.py:420: RuntimeWarning: Too few samples (required : 310 got : 180), covariance estimate may be unreliable\n",
      "  data_cov = mne.compute_raw_covariance(raw, tmin=tmin,\n",
      "c:\\Users\\Lukas\\Documents\\projects\\esinet\\evaluate\\..\\esinet\\util\\util.py:388: RuntimeWarning: An average reference projection was already added. The data has been left untouched.\n",
      "  epochs.set_eeg_reference(projection=True, verbose=verbose)#.apply_baseline(baseline=baseline)\n",
      "c:\\Users\\Lukas\\Documents\\projects\\esinet\\evaluate\\..\\esinet\\util\\util.py:420: RuntimeWarning: Too few samples (required : 310 got : 180), covariance estimate may be unreliable\n",
      "  data_cov = mne.compute_raw_covariance(raw, tmin=tmin,\n",
      "c:\\Users\\Lukas\\Documents\\projects\\esinet\\evaluate\\..\\esinet\\util\\util.py:388: RuntimeWarning: An average reference projection was already added. The data has been left untouched.\n",
      "  epochs.set_eeg_reference(projection=True, verbose=verbose)#.apply_baseline(baseline=baseline)\n",
      "c:\\Users\\Lukas\\Documents\\projects\\esinet\\evaluate\\..\\esinet\\util\\util.py:420: RuntimeWarning: Too few samples (required : 310 got : 100), covariance estimate may be unreliable\n",
      "  data_cov = mne.compute_raw_covariance(raw, tmin=tmin,\n",
      "c:\\Users\\Lukas\\Documents\\projects\\esinet\\evaluate\\..\\esinet\\util\\util.py:388: RuntimeWarning: An average reference projection was already added. The data has been left untouched.\n",
      "  epochs.set_eeg_reference(projection=True, verbose=verbose)#.apply_baseline(baseline=baseline)\n"
     ]
    },
    {
     "name": "stdout",
     "output_type": "stream",
     "text": [
      "<RawArray | 61 x 514 (5.1 s), ~335 kB, data loaded> 4.0 info empirical\n",
      "<RawArray | 61 x 407 (4.1 s), ~284 kB, data loaded> 4.0 info empirical\n",
      "<RawArray | 61 x 554 (5.5 s), ~354 kB, data loaded> 4.0 info empirical\n",
      "<RawArray | 61 x 528 (5.3 s), ~341 kB, data loaded> 4.0 info empirical\n"
     ]
    },
    {
     "name": "stderr",
     "output_type": "stream",
     "text": [
      "c:\\Users\\Lukas\\Documents\\projects\\esinet\\evaluate\\..\\esinet\\util\\util.py:423: RuntimeWarning: Epochs are not baseline corrected, covariance matrix may be inaccurate\n",
      "  data_cov = mne.compute_covariance(epochs, tmin=0.0,\n",
      "c:\\Users\\Lukas\\Documents\\projects\\esinet\\evaluate\\..\\esinet\\util\\util.py:423: RuntimeWarning: Too few samples (required : 310 got : 7), covariance estimate may be unreliable\n",
      "  data_cov = mne.compute_covariance(epochs, tmin=0.0,\n",
      "c:\\Users\\Lukas\\Documents\\projects\\esinet\\evaluate\\..\\esinet\\util\\util.py:388: RuntimeWarning: An average reference projection was already added. The data has been left untouched.\n",
      "  epochs.set_eeg_reference(projection=True, verbose=verbose)#.apply_baseline(baseline=baseline)\n",
      "c:\\Users\\Lukas\\Documents\\projects\\esinet\\evaluate\\..\\esinet\\util\\util.py:420: RuntimeWarning: Too few samples (required : 310 got : 140), covariance estimate may be unreliable\n",
      "  data_cov = mne.compute_raw_covariance(raw, tmin=tmin,\n",
      "c:\\Users\\Lukas\\Documents\\projects\\esinet\\evaluate\\..\\esinet\\util\\util.py:388: RuntimeWarning: An average reference projection was already added. The data has been left untouched.\n",
      "  epochs.set_eeg_reference(projection=True, verbose=verbose)#.apply_baseline(baseline=baseline)\n",
      "c:\\Users\\Lukas\\Documents\\projects\\esinet\\evaluate\\..\\esinet\\util\\util.py:420: RuntimeWarning: Too few samples (required : 310 got : 120), covariance estimate may be unreliable\n",
      "  data_cov = mne.compute_raw_covariance(raw, tmin=tmin,\n",
      "c:\\Users\\Lukas\\Documents\\projects\\esinet\\evaluate\\..\\esinet\\util\\util.py:388: RuntimeWarning: An average reference projection was already added. The data has been left untouched.\n",
      "  epochs.set_eeg_reference(projection=True, verbose=verbose)#.apply_baseline(baseline=baseline)\n",
      "c:\\Users\\Lukas\\Documents\\projects\\esinet\\evaluate\\..\\esinet\\util\\util.py:423: RuntimeWarning: Epochs are not baseline corrected, covariance matrix may be inaccurate\n",
      "  data_cov = mne.compute_covariance(epochs, tmin=0.0,\n",
      "c:\\Users\\Lukas\\Documents\\projects\\esinet\\evaluate\\..\\esinet\\util\\util.py:423: RuntimeWarning: Too few samples (required : 310 got : 10), covariance estimate may be unreliable\n",
      "  data_cov = mne.compute_covariance(epochs, tmin=0.0,\n"
     ]
    },
    {
     "name": "stdout",
     "output_type": "stream",
     "text": [
      "<RawArray | 61 x 410 (4.1 s), ~285 kB, data loaded> 4.0 info empirical\n",
      "<RawArray | 61 x 523 (5.2 s), ~339 kB, data loaded> 4.0 info empirical\n",
      "<RawArray | 61 x 443 (4.4 s), ~301 kB, data loaded> 4.0 info empirical\n",
      "<RawArray | 61 x 581 (5.8 s), ~367 kB, data loaded> 4.0 info empirical\n"
     ]
    },
    {
     "name": "stderr",
     "output_type": "stream",
     "text": [
      "c:\\Users\\Lukas\\Documents\\projects\\esinet\\evaluate\\..\\esinet\\util\\util.py:388: RuntimeWarning: An average reference projection was already added. The data has been left untouched.\n",
      "  epochs.set_eeg_reference(projection=True, verbose=verbose)#.apply_baseline(baseline=baseline)\n",
      "c:\\Users\\Lukas\\Documents\\projects\\esinet\\evaluate\\..\\esinet\\util\\util.py:420: RuntimeWarning: Too few samples (required : 310 got : 120), covariance estimate may be unreliable\n",
      "  data_cov = mne.compute_raw_covariance(raw, tmin=tmin,\n",
      "c:\\Users\\Lukas\\Documents\\projects\\esinet\\evaluate\\..\\esinet\\util\\util.py:388: RuntimeWarning: An average reference projection was already added. The data has been left untouched.\n",
      "  epochs.set_eeg_reference(projection=True, verbose=verbose)#.apply_baseline(baseline=baseline)\n",
      "c:\\Users\\Lukas\\Documents\\projects\\esinet\\evaluate\\..\\esinet\\util\\util.py:420: RuntimeWarning: Too few samples (required : 310 got : 40), covariance estimate may be unreliable\n",
      "  data_cov = mne.compute_raw_covariance(raw, tmin=tmin,\n",
      "c:\\Users\\Lukas\\Documents\\projects\\esinet\\evaluate\\..\\esinet\\util\\util.py:388: RuntimeWarning: An average reference projection was already added. The data has been left untouched.\n",
      "  epochs.set_eeg_reference(projection=True, verbose=verbose)#.apply_baseline(baseline=baseline)\n",
      "c:\\Users\\Lukas\\Documents\\projects\\esinet\\evaluate\\..\\esinet\\util\\util.py:420: RuntimeWarning: Too few samples (required : 310 got : 180), covariance estimate may be unreliable\n",
      "  data_cov = mne.compute_raw_covariance(raw, tmin=tmin,\n",
      "c:\\Users\\Lukas\\Documents\\projects\\esinet\\evaluate\\..\\esinet\\util\\util.py:388: RuntimeWarning: An average reference projection was already added. The data has been left untouched.\n",
      "  epochs.set_eeg_reference(projection=True, verbose=verbose)#.apply_baseline(baseline=baseline)\n",
      "c:\\Users\\Lukas\\Documents\\projects\\esinet\\evaluate\\..\\esinet\\util\\util.py:420: RuntimeWarning: Too few samples (required : 310 got : 160), covariance estimate may be unreliable\n",
      "  data_cov = mne.compute_raw_covariance(raw, tmin=tmin,\n",
      "c:\\Users\\Lukas\\Documents\\projects\\esinet\\evaluate\\..\\esinet\\util\\util.py:388: RuntimeWarning: An average reference projection was already added. The data has been left untouched.\n",
      "  epochs.set_eeg_reference(projection=True, verbose=verbose)#.apply_baseline(baseline=baseline)\n"
     ]
    },
    {
     "name": "stdout",
     "output_type": "stream",
     "text": [
      "<RawArray | 61 x 561 (5.6 s), ~357 kB, data loaded> 4.0 info empirical\n",
      "<RawArray | 61 x 584 (5.8 s), ~368 kB, data loaded> 4.0 info empirical\n",
      "<RawArray | 61 x 574 (5.7 s), ~363 kB, data loaded> 4.0 info empirical\n",
      "<RawArray | 61 x 561 (5.6 s), ~357 kB, data loaded> 4.0 info empirical\n"
     ]
    },
    {
     "name": "stderr",
     "output_type": "stream",
     "text": [
      "c:\\Users\\Lukas\\Documents\\projects\\esinet\\evaluate\\..\\esinet\\util\\util.py:420: RuntimeWarning: Too few samples (required : 310 got : 180), covariance estimate may be unreliable\n",
      "  data_cov = mne.compute_raw_covariance(raw, tmin=tmin,\n",
      "c:\\Users\\Lukas\\Documents\\projects\\esinet\\evaluate\\..\\esinet\\util\\util.py:388: RuntimeWarning: An average reference projection was already added. The data has been left untouched.\n",
      "  epochs.set_eeg_reference(projection=True, verbose=verbose)#.apply_baseline(baseline=baseline)\n",
      "c:\\Users\\Lukas\\Documents\\projects\\esinet\\evaluate\\..\\esinet\\util\\util.py:420: RuntimeWarning: Too few samples (required : 310 got : 160), covariance estimate may be unreliable\n",
      "  data_cov = mne.compute_raw_covariance(raw, tmin=tmin,\n",
      "c:\\Users\\Lukas\\Documents\\projects\\esinet\\evaluate\\..\\esinet\\util\\util.py:388: RuntimeWarning: An average reference projection was already added. The data has been left untouched.\n",
      "  epochs.set_eeg_reference(projection=True, verbose=verbose)#.apply_baseline(baseline=baseline)\n",
      "c:\\Users\\Lukas\\Documents\\projects\\esinet\\evaluate\\..\\esinet\\util\\util.py:420: RuntimeWarning: Too few samples (required : 310 got : 160), covariance estimate may be unreliable\n",
      "  data_cov = mne.compute_raw_covariance(raw, tmin=tmin,\n",
      "c:\\Users\\Lukas\\Documents\\projects\\esinet\\evaluate\\..\\esinet\\util\\util.py:388: RuntimeWarning: An average reference projection was already added. The data has been left untouched.\n",
      "  epochs.set_eeg_reference(projection=True, verbose=verbose)#.apply_baseline(baseline=baseline)\n",
      "c:\\Users\\Lukas\\Documents\\projects\\esinet\\evaluate\\..\\esinet\\util\\util.py:420: RuntimeWarning: Too few samples (required : 310 got : 60), covariance estimate may be unreliable\n",
      "  data_cov = mne.compute_raw_covariance(raw, tmin=tmin,\n",
      "c:\\Users\\Lukas\\Documents\\projects\\esinet\\evaluate\\..\\esinet\\util\\util.py:388: RuntimeWarning: An average reference projection was already added. The data has been left untouched.\n",
      "  epochs.set_eeg_reference(projection=True, verbose=verbose)#.apply_baseline(baseline=baseline)\n"
     ]
    },
    {
     "name": "stdout",
     "output_type": "stream",
     "text": [
      "<RawArray | 61 x 478 (4.8 s), ~318 kB, data loaded> 4.0 info empirical\n",
      "<RawArray | 61 x 519 (5.2 s), ~337 kB, data loaded> 4.0 info empirical\n",
      "<RawArray | 61 x 489 (4.9 s), ~323 kB, data loaded> 4.0 info empirical\n",
      "<RawArray | 61 x 430 (4.3 s), ~295 kB, data loaded> 4.0 info empirical\n"
     ]
    },
    {
     "name": "stderr",
     "output_type": "stream",
     "text": [
      "c:\\Users\\Lukas\\Documents\\projects\\esinet\\evaluate\\..\\esinet\\util\\util.py:420: RuntimeWarning: Too few samples (required : 310 got : 100), covariance estimate may be unreliable\n",
      "  data_cov = mne.compute_raw_covariance(raw, tmin=tmin,\n",
      "c:\\Users\\Lukas\\Documents\\projects\\esinet\\evaluate\\..\\esinet\\util\\util.py:388: RuntimeWarning: An average reference projection was already added. The data has been left untouched.\n",
      "  epochs.set_eeg_reference(projection=True, verbose=verbose)#.apply_baseline(baseline=baseline)\n",
      "c:\\Users\\Lukas\\Documents\\projects\\esinet\\evaluate\\..\\esinet\\util\\util.py:420: RuntimeWarning: Too few samples (required : 310 got : 80), covariance estimate may be unreliable\n",
      "  data_cov = mne.compute_raw_covariance(raw, tmin=tmin,\n",
      "c:\\Users\\Lukas\\Documents\\projects\\esinet\\evaluate\\..\\esinet\\util\\util.py:388: RuntimeWarning: An average reference projection was already added. The data has been left untouched.\n",
      "  epochs.set_eeg_reference(projection=True, verbose=verbose)#.apply_baseline(baseline=baseline)\n",
      "c:\\Users\\Lukas\\Documents\\projects\\esinet\\evaluate\\..\\esinet\\util\\util.py:420: RuntimeWarning: Too few samples (required : 310 got : 20), covariance estimate may be unreliable\n",
      "  data_cov = mne.compute_raw_covariance(raw, tmin=tmin,\n",
      "c:\\Users\\Lukas\\Documents\\projects\\esinet\\evaluate\\..\\esinet\\util\\util.py:388: RuntimeWarning: An average reference projection was already added. The data has been left untouched.\n",
      "  epochs.set_eeg_reference(projection=True, verbose=verbose)#.apply_baseline(baseline=baseline)\n",
      "c:\\Users\\Lukas\\Documents\\projects\\esinet\\evaluate\\..\\esinet\\util\\util.py:420: RuntimeWarning: Too few samples (required : 310 got : 40), covariance estimate may be unreliable\n",
      "  data_cov = mne.compute_raw_covariance(raw, tmin=tmin,\n",
      "c:\\Users\\Lukas\\Documents\\projects\\esinet\\evaluate\\..\\esinet\\util\\util.py:388: RuntimeWarning: An average reference projection was already added. The data has been left untouched.\n",
      "  epochs.set_eeg_reference(projection=True, verbose=verbose)#.apply_baseline(baseline=baseline)\n"
     ]
    },
    {
     "name": "stdout",
     "output_type": "stream",
     "text": [
      "<RawArray | 61 x 448 (4.5 s), ~303 kB, data loaded> 4.0 info empirical\n",
      "<RawArray | 61 x 527 (5.3 s), ~341 kB, data loaded> 4.0 info empirical\n",
      "<RawArray | 61 x 555 (5.5 s), ~354 kB, data loaded> 4.0 info empirical\n",
      "<RawArray | 61 x 546 (5.5 s), ~350 kB, data loaded> 4.0 info empirical\n",
      "<RawArray | 61 x 476 (4.8 s), ~317 kB, data loaded> 4.0 info empirical\n"
     ]
    },
    {
     "name": "stderr",
     "output_type": "stream",
     "text": [
      "c:\\Users\\Lukas\\Documents\\projects\\esinet\\evaluate\\..\\esinet\\util\\util.py:420: RuntimeWarning: Too few samples (required : 310 got : 120), covariance estimate may be unreliable\n",
      "  data_cov = mne.compute_raw_covariance(raw, tmin=tmin,\n",
      "c:\\Users\\Lukas\\Documents\\projects\\esinet\\evaluate\\..\\esinet\\util\\util.py:388: RuntimeWarning: An average reference projection was already added. The data has been left untouched.\n",
      "  epochs.set_eeg_reference(projection=True, verbose=verbose)#.apply_baseline(baseline=baseline)\n",
      "c:\\Users\\Lukas\\Documents\\projects\\esinet\\evaluate\\..\\esinet\\util\\util.py:420: RuntimeWarning: Too few samples (required : 310 got : 140), covariance estimate may be unreliable\n",
      "  data_cov = mne.compute_raw_covariance(raw, tmin=tmin,\n",
      "c:\\Users\\Lukas\\Documents\\projects\\esinet\\evaluate\\..\\esinet\\util\\util.py:388: RuntimeWarning: An average reference projection was already added. The data has been left untouched.\n",
      "  epochs.set_eeg_reference(projection=True, verbose=verbose)#.apply_baseline(baseline=baseline)\n",
      "c:\\Users\\Lukas\\Documents\\projects\\esinet\\evaluate\\..\\esinet\\util\\util.py:420: RuntimeWarning: Too few samples (required : 310 got : 140), covariance estimate may be unreliable\n",
      "  data_cov = mne.compute_raw_covariance(raw, tmin=tmin,\n",
      "c:\\Users\\Lukas\\Documents\\projects\\esinet\\evaluate\\..\\esinet\\util\\util.py:388: RuntimeWarning: An average reference projection was already added. The data has been left untouched.\n",
      "  epochs.set_eeg_reference(projection=True, verbose=verbose)#.apply_baseline(baseline=baseline)\n",
      "c:\\Users\\Lukas\\Documents\\projects\\esinet\\evaluate\\..\\esinet\\util\\util.py:420: RuntimeWarning: Too few samples (required : 310 got : 60), covariance estimate may be unreliable\n",
      "  data_cov = mne.compute_raw_covariance(raw, tmin=tmin,\n",
      "c:\\Users\\Lukas\\Documents\\projects\\esinet\\evaluate\\..\\esinet\\util\\util.py:388: RuntimeWarning: An average reference projection was already added. The data has been left untouched.\n",
      "  epochs.set_eeg_reference(projection=True, verbose=verbose)#.apply_baseline(baseline=baseline)\n"
     ]
    },
    {
     "name": "stdout",
     "output_type": "stream",
     "text": [
      "<RawArray | 61 x 506 (5.0 s), ~331 kB, data loaded> 4.0 info empirical\n",
      "<RawArray | 61 x 430 (4.3 s), ~295 kB, data loaded> 4.0 info empirical\n",
      "<RawArray | 61 x 435 (4.3 s), ~297 kB, data loaded> 4.0 info empirical\n",
      "<RawArray | 61 x 504 (5.0 s), ~330 kB, data loaded> 4.0 info empirical\n"
     ]
    },
    {
     "name": "stderr",
     "output_type": "stream",
     "text": [
      "c:\\Users\\Lukas\\Documents\\projects\\esinet\\evaluate\\..\\esinet\\util\\util.py:420: RuntimeWarning: Too few samples (required : 310 got : 100), covariance estimate may be unreliable\n",
      "  data_cov = mne.compute_raw_covariance(raw, tmin=tmin,\n",
      "c:\\Users\\Lukas\\Documents\\projects\\esinet\\evaluate\\..\\esinet\\util\\util.py:388: RuntimeWarning: An average reference projection was already added. The data has been left untouched.\n",
      "  epochs.set_eeg_reference(projection=True, verbose=verbose)#.apply_baseline(baseline=baseline)\n",
      "c:\\Users\\Lukas\\Documents\\projects\\esinet\\evaluate\\..\\esinet\\util\\util.py:420: RuntimeWarning: Too few samples (required : 310 got : 20), covariance estimate may be unreliable\n",
      "  data_cov = mne.compute_raw_covariance(raw, tmin=tmin,\n",
      "c:\\Users\\Lukas\\Documents\\projects\\esinet\\evaluate\\..\\esinet\\util\\util.py:388: RuntimeWarning: An average reference projection was already added. The data has been left untouched.\n",
      "  epochs.set_eeg_reference(projection=True, verbose=verbose)#.apply_baseline(baseline=baseline)\n",
      "c:\\Users\\Lukas\\Documents\\projects\\esinet\\evaluate\\..\\esinet\\util\\util.py:420: RuntimeWarning: Too few samples (required : 310 got : 20), covariance estimate may be unreliable\n",
      "  data_cov = mne.compute_raw_covariance(raw, tmin=tmin,\n",
      "c:\\Users\\Lukas\\Documents\\projects\\esinet\\evaluate\\..\\esinet\\util\\util.py:388: RuntimeWarning: An average reference projection was already added. The data has been left untouched.\n",
      "  epochs.set_eeg_reference(projection=True, verbose=verbose)#.apply_baseline(baseline=baseline)\n",
      "c:\\Users\\Lukas\\Documents\\projects\\esinet\\evaluate\\..\\esinet\\util\\util.py:420: RuntimeWarning: Too few samples (required : 310 got : 100), covariance estimate may be unreliable\n",
      "  data_cov = mne.compute_raw_covariance(raw, tmin=tmin,\n",
      "c:\\Users\\Lukas\\Documents\\projects\\esinet\\evaluate\\..\\esinet\\util\\util.py:388: RuntimeWarning: An average reference projection was already added. The data has been left untouched.\n",
      "  epochs.set_eeg_reference(projection=True, verbose=verbose)#.apply_baseline(baseline=baseline)\n"
     ]
    },
    {
     "name": "stdout",
     "output_type": "stream",
     "text": [
      "<RawArray | 61 x 528 (5.3 s), ~341 kB, data loaded> 4.0 info empirical\n",
      "<RawArray | 61 x 503 (5.0 s), ~330 kB, data loaded> 4.0 info empirical\n",
      "<RawArray | 61 x 573 (5.7 s), ~363 kB, data loaded> 4.0 info empirical\n",
      "<RawArray | 61 x 516 (5.2 s), ~336 kB, data loaded> 4.0 info empirical\n"
     ]
    },
    {
     "name": "stderr",
     "output_type": "stream",
     "text": [
      "c:\\Users\\Lukas\\Documents\\projects\\esinet\\evaluate\\..\\esinet\\util\\util.py:420: RuntimeWarning: Too few samples (required : 310 got : 120), covariance estimate may be unreliable\n",
      "  data_cov = mne.compute_raw_covariance(raw, tmin=tmin,\n",
      "c:\\Users\\Lukas\\Documents\\projects\\esinet\\evaluate\\..\\esinet\\util\\util.py:388: RuntimeWarning: An average reference projection was already added. The data has been left untouched.\n",
      "  epochs.set_eeg_reference(projection=True, verbose=verbose)#.apply_baseline(baseline=baseline)\n",
      "c:\\Users\\Lukas\\Documents\\projects\\esinet\\evaluate\\..\\esinet\\util\\util.py:420: RuntimeWarning: Too few samples (required : 310 got : 100), covariance estimate may be unreliable\n",
      "  data_cov = mne.compute_raw_covariance(raw, tmin=tmin,\n",
      "c:\\Users\\Lukas\\Documents\\projects\\esinet\\evaluate\\..\\esinet\\util\\util.py:388: RuntimeWarning: An average reference projection was already added. The data has been left untouched.\n",
      "  epochs.set_eeg_reference(projection=True, verbose=verbose)#.apply_baseline(baseline=baseline)\n",
      "c:\\Users\\Lukas\\Documents\\projects\\esinet\\evaluate\\..\\esinet\\util\\util.py:420: RuntimeWarning: Too few samples (required : 310 got : 160), covariance estimate may be unreliable\n",
      "  data_cov = mne.compute_raw_covariance(raw, tmin=tmin,\n",
      "c:\\Users\\Lukas\\Documents\\projects\\esinet\\evaluate\\..\\esinet\\util\\util.py:388: RuntimeWarning: An average reference projection was already added. The data has been left untouched.\n",
      "  epochs.set_eeg_reference(projection=True, verbose=verbose)#.apply_baseline(baseline=baseline)\n",
      "c:\\Users\\Lukas\\Documents\\projects\\esinet\\evaluate\\..\\esinet\\util\\util.py:420: RuntimeWarning: Too few samples (required : 310 got : 100), covariance estimate may be unreliable\n",
      "  data_cov = mne.compute_raw_covariance(raw, tmin=tmin,\n",
      "c:\\Users\\Lukas\\Documents\\projects\\esinet\\evaluate\\..\\esinet\\util\\util.py:388: RuntimeWarning: An average reference projection was already added. The data has been left untouched.\n",
      "  epochs.set_eeg_reference(projection=True, verbose=verbose)#.apply_baseline(baseline=baseline)\n"
     ]
    },
    {
     "name": "stdout",
     "output_type": "stream",
     "text": [
      "<RawArray | 61 x 591 (5.9 s), ~371 kB, data loaded> 4.0 info empirical\n",
      "<RawArray | 61 x 510 (5.1 s), ~333 kB, data loaded> 4.0 info empirical\n",
      "<RawArray | 61 x 486 (4.8 s), ~321 kB, data loaded> 4.0 info empirical\n",
      "<RawArray | 61 x 550 (5.5 s), ~352 kB, data loaded> 4.0 info empirical\n",
      "<RawArray | 61 x 597 (6.0 s), ~374 kB, data loaded>"
     ]
    },
    {
     "name": "stderr",
     "output_type": "stream",
     "text": [
      "c:\\Users\\Lukas\\Documents\\projects\\esinet\\evaluate\\..\\esinet\\util\\util.py:420: RuntimeWarning: Too few samples (required : 310 got : 180), covariance estimate may be unreliable\n",
      "  data_cov = mne.compute_raw_covariance(raw, tmin=tmin,\n",
      "c:\\Users\\Lukas\\Documents\\projects\\esinet\\evaluate\\..\\esinet\\util\\util.py:388: RuntimeWarning: An average reference projection was already added. The data has been left untouched.\n",
      "  epochs.set_eeg_reference(projection=True, verbose=verbose)#.apply_baseline(baseline=baseline)\n",
      "c:\\Users\\Lukas\\Documents\\projects\\esinet\\evaluate\\..\\esinet\\util\\util.py:420: RuntimeWarning: Too few samples (required : 310 got : 100), covariance estimate may be unreliable\n",
      "  data_cov = mne.compute_raw_covariance(raw, tmin=tmin,\n",
      "c:\\Users\\Lukas\\Documents\\projects\\esinet\\evaluate\\..\\esinet\\util\\util.py:388: RuntimeWarning: An average reference projection was already added. The data has been left untouched.\n",
      "  epochs.set_eeg_reference(projection=True, verbose=verbose)#.apply_baseline(baseline=baseline)\n",
      "c:\\Users\\Lukas\\Documents\\projects\\esinet\\evaluate\\..\\esinet\\util\\util.py:420: RuntimeWarning: Too few samples (required : 310 got : 80), covariance estimate may be unreliable\n",
      "  data_cov = mne.compute_raw_covariance(raw, tmin=tmin,\n",
      "c:\\Users\\Lukas\\Documents\\projects\\esinet\\evaluate\\..\\esinet\\util\\util.py:388: RuntimeWarning: An average reference projection was already added. The data has been left untouched.\n",
      "  epochs.set_eeg_reference(projection=True, verbose=verbose)#.apply_baseline(baseline=baseline)\n",
      "c:\\Users\\Lukas\\Documents\\projects\\esinet\\evaluate\\..\\esinet\\util\\util.py:420: RuntimeWarning: Too few samples (required : 310 got : 140), covariance estimate may be unreliable\n",
      "  data_cov = mne.compute_raw_covariance(raw, tmin=tmin,\n",
      "c:\\Users\\Lukas\\Documents\\projects\\esinet\\evaluate\\..\\esinet\\util\\util.py:388: RuntimeWarning: An average reference projection was already added. The data has been left untouched.\n",
      "  epochs.set_eeg_reference(projection=True, verbose=verbose)#.apply_baseline(baseline=baseline)\n"
     ]
    },
    {
     "name": "stdout",
     "output_type": "stream",
     "text": [
      " 4.0 info empirical\n",
      "<RawArray | 61 x 457 (4.6 s), ~308 kB, data loaded> 4.0 info empirical\n",
      "<RawArray | 61 x 462 (4.6 s), ~310 kB, data loaded> 4.0 info empirical\n",
      "<RawArray | 61 x 537 (5.4 s), ~346 kB, data loaded> 4.0 info empirical\n"
     ]
    },
    {
     "name": "stderr",
     "output_type": "stream",
     "text": [
      "c:\\Users\\Lukas\\Documents\\projects\\esinet\\evaluate\\..\\esinet\\util\\util.py:420: RuntimeWarning: Too few samples (required : 310 got : 180), covariance estimate may be unreliable\n",
      "  data_cov = mne.compute_raw_covariance(raw, tmin=tmin,\n",
      "c:\\Users\\Lukas\\Documents\\projects\\esinet\\evaluate\\..\\esinet\\util\\util.py:388: RuntimeWarning: An average reference projection was already added. The data has been left untouched.\n",
      "  epochs.set_eeg_reference(projection=True, verbose=verbose)#.apply_baseline(baseline=baseline)\n",
      "c:\\Users\\Lukas\\Documents\\projects\\esinet\\evaluate\\..\\esinet\\util\\util.py:420: RuntimeWarning: Too few samples (required : 310 got : 40), covariance estimate may be unreliable\n",
      "  data_cov = mne.compute_raw_covariance(raw, tmin=tmin,\n",
      "c:\\Users\\Lukas\\Documents\\projects\\esinet\\evaluate\\..\\esinet\\util\\util.py:388: RuntimeWarning: An average reference projection was already added. The data has been left untouched.\n",
      "  epochs.set_eeg_reference(projection=True, verbose=verbose)#.apply_baseline(baseline=baseline)\n",
      "c:\\Users\\Lukas\\Documents\\projects\\esinet\\evaluate\\..\\esinet\\util\\util.py:420: RuntimeWarning: Too few samples (required : 310 got : 60), covariance estimate may be unreliable\n",
      "  data_cov = mne.compute_raw_covariance(raw, tmin=tmin,\n",
      "c:\\Users\\Lukas\\Documents\\projects\\esinet\\evaluate\\..\\esinet\\util\\util.py:388: RuntimeWarning: An average reference projection was already added. The data has been left untouched.\n",
      "  epochs.set_eeg_reference(projection=True, verbose=verbose)#.apply_baseline(baseline=baseline)\n",
      "c:\\Users\\Lukas\\Documents\\projects\\esinet\\evaluate\\..\\esinet\\util\\util.py:420: RuntimeWarning: Too few samples (required : 310 got : 120), covariance estimate may be unreliable\n",
      "  data_cov = mne.compute_raw_covariance(raw, tmin=tmin,\n",
      "c:\\Users\\Lukas\\Documents\\projects\\esinet\\evaluate\\..\\esinet\\util\\util.py:388: RuntimeWarning: An average reference projection was already added. The data has been left untouched.\n",
      "  epochs.set_eeg_reference(projection=True, verbose=verbose)#.apply_baseline(baseline=baseline)\n"
     ]
    },
    {
     "name": "stdout",
     "output_type": "stream",
     "text": [
      "<RawArray | 61 x 504 (5.0 s), ~330 kB, data loaded> 4.0 info empirical\n",
      "<RawArray | 61 x 459 (4.6 s), ~309 kB, data loaded> 4.0 info empirical\n",
      "<RawArray | 61 x 443 (4.4 s), ~301 kB, data loaded> 4.0 info empirical\n",
      "<RawArray | 61 x 541 (5.4 s), ~348 kB, data loaded> 4.0 info empirical\n",
      "<RawArray | 61 x 457 (4.6 s), ~308 kB, data loaded> 4.0 info empirical\n"
     ]
    },
    {
     "name": "stderr",
     "output_type": "stream",
     "text": [
      "c:\\Users\\Lukas\\Documents\\projects\\esinet\\evaluate\\..\\esinet\\util\\util.py:420: RuntimeWarning: Too few samples (required : 310 got : 100), covariance estimate may be unreliable\n",
      "  data_cov = mne.compute_raw_covariance(raw, tmin=tmin,\n",
      "c:\\Users\\Lukas\\Documents\\projects\\esinet\\evaluate\\..\\esinet\\util\\util.py:388: RuntimeWarning: An average reference projection was already added. The data has been left untouched.\n",
      "  epochs.set_eeg_reference(projection=True, verbose=verbose)#.apply_baseline(baseline=baseline)\n",
      "c:\\Users\\Lukas\\Documents\\projects\\esinet\\evaluate\\..\\esinet\\util\\util.py:420: RuntimeWarning: Too few samples (required : 310 got : 40), covariance estimate may be unreliable\n",
      "  data_cov = mne.compute_raw_covariance(raw, tmin=tmin,\n",
      "c:\\Users\\Lukas\\Documents\\projects\\esinet\\evaluate\\..\\esinet\\util\\util.py:388: RuntimeWarning: An average reference projection was already added. The data has been left untouched.\n",
      "  epochs.set_eeg_reference(projection=True, verbose=verbose)#.apply_baseline(baseline=baseline)\n",
      "c:\\Users\\Lukas\\Documents\\projects\\esinet\\evaluate\\..\\esinet\\util\\util.py:420: RuntimeWarning: Too few samples (required : 310 got : 40), covariance estimate may be unreliable\n",
      "  data_cov = mne.compute_raw_covariance(raw, tmin=tmin,\n",
      "c:\\Users\\Lukas\\Documents\\projects\\esinet\\evaluate\\..\\esinet\\util\\util.py:388: RuntimeWarning: An average reference projection was already added. The data has been left untouched.\n",
      "  epochs.set_eeg_reference(projection=True, verbose=verbose)#.apply_baseline(baseline=baseline)\n",
      "c:\\Users\\Lukas\\Documents\\projects\\esinet\\evaluate\\..\\esinet\\util\\util.py:420: RuntimeWarning: Too few samples (required : 310 got : 140), covariance estimate may be unreliable\n",
      "  data_cov = mne.compute_raw_covariance(raw, tmin=tmin,\n",
      "c:\\Users\\Lukas\\Documents\\projects\\esinet\\evaluate\\..\\esinet\\util\\util.py:388: RuntimeWarning: An average reference projection was already added. The data has been left untouched.\n",
      "  epochs.set_eeg_reference(projection=True, verbose=verbose)#.apply_baseline(baseline=baseline)\n",
      "c:\\Users\\Lukas\\Documents\\projects\\esinet\\evaluate\\..\\esinet\\util\\util.py:420: RuntimeWarning: Too few samples (required : 310 got : 40), covariance estimate may be unreliable\n",
      "  data_cov = mne.compute_raw_covariance(raw, tmin=tmin,\n",
      "c:\\Users\\Lukas\\Documents\\projects\\esinet\\evaluate\\..\\esinet\\util\\util.py:388: RuntimeWarning: An average reference projection was already added. The data has been left untouched.\n",
      "  epochs.set_eeg_reference(projection=True, verbose=verbose)#.apply_baseline(baseline=baseline)\n",
      "c:\\Users\\Lukas\\Documents\\projects\\esinet\\evaluate\\..\\esinet\\util\\util.py:420: RuntimeWarning: Too few samples (required : 310 got : 180), covariance estimate may be unreliable\n",
      "  data_cov = mne.compute_raw_covariance(raw, tmin=tmin,\n",
      "c:\\Users\\Lukas\\Documents\\projects\\esinet\\evaluate\\..\\esinet\\util\\util.py:388: RuntimeWarning: An average reference projection was already added. The data has been left untouched.\n",
      "  epochs.set_eeg_reference(projection=True, verbose=verbose)#.apply_baseline(baseline=baseline)\n",
      "c:\\Users\\Lukas\\Documents\\projects\\esinet\\evaluate\\..\\esinet\\util\\util.py:420: RuntimeWarning: Too few samples (required : 310 got : 100), covariance estimate may be unreliable\n",
      "  data_cov = mne.compute_raw_covariance(raw, tmin=tmin,\n",
      "c:\\Users\\Lukas\\Documents\\projects\\esinet\\evaluate\\..\\esinet\\util\\util.py:388: RuntimeWarning: An average reference projection was already added. The data has been left untouched.\n",
      "  epochs.set_eeg_reference(projection=True, verbose=verbose)#.apply_baseline(baseline=baseline)\n",
      "c:\\Users\\Lukas\\Documents\\projects\\esinet\\evaluate\\..\\esinet\\util\\util.py:420: RuntimeWarning: Too few samples (required : 310 got : 180), covariance estimate may be unreliable\n",
      "  data_cov = mne.compute_raw_covariance(raw, tmin=tmin,\n",
      "c:\\Users\\Lukas\\Documents\\projects\\esinet\\evaluate\\..\\esinet\\util\\util.py:388: RuntimeWarning: An average reference projection was already added. The data has been left untouched.\n",
      "  epochs.set_eeg_reference(projection=True, verbose=verbose)#.apply_baseline(baseline=baseline)\n"
     ]
    },
    {
     "name": "stdout",
     "output_type": "stream",
     "text": [
      "<RawArray | 61 x 598 (6.0 s), ~375 kB, data loaded> 4.0 info empirical\n",
      "<RawArray | 61 x 505 (5.0 s), ~330 kB, data loaded> 4.0 info empirical\n",
      "<RawArray | 61 x 595 (5.9 s), ~373 kB, data loaded> 4.0 info empirical\n",
      "<RawArray | 61 x 588 (5.9 s), ~370 kB, data loaded> 4.0 info empirical\n"
     ]
    },
    {
     "name": "stderr",
     "output_type": "stream",
     "text": [
      "c:\\Users\\Lukas\\Documents\\projects\\esinet\\evaluate\\..\\esinet\\util\\util.py:420: RuntimeWarning: Too few samples (required : 310 got : 180), covariance estimate may be unreliable\n",
      "  data_cov = mne.compute_raw_covariance(raw, tmin=tmin,\n",
      "c:\\Users\\Lukas\\Documents\\projects\\esinet\\evaluate\\..\\esinet\\util\\util.py:388: RuntimeWarning: An average reference projection was already added. The data has been left untouched.\n",
      "  epochs.set_eeg_reference(projection=True, verbose=verbose)#.apply_baseline(baseline=baseline)\n",
      "c:\\Users\\Lukas\\Documents\\projects\\esinet\\evaluate\\..\\esinet\\util\\util.py:423: RuntimeWarning: Epochs are not baseline corrected, covariance matrix may be inaccurate\n",
      "  data_cov = mne.compute_covariance(epochs, tmin=0.0,\n",
      "c:\\Users\\Lukas\\Documents\\projects\\esinet\\evaluate\\..\\esinet\\util\\util.py:423: RuntimeWarning: Too few samples (required : 310 got : 12), covariance estimate may be unreliable\n",
      "  data_cov = mne.compute_covariance(epochs, tmin=0.0,\n",
      "c:\\Users\\Lukas\\Documents\\projects\\esinet\\evaluate\\..\\esinet\\util\\util.py:388: RuntimeWarning: An average reference projection was already added. The data has been left untouched.\n",
      "  epochs.set_eeg_reference(projection=True, verbose=verbose)#.apply_baseline(baseline=baseline)\n",
      "c:\\Users\\Lukas\\Documents\\projects\\esinet\\evaluate\\..\\esinet\\util\\util.py:420: RuntimeWarning: Too few samples (required : 310 got : 140), covariance estimate may be unreliable\n",
      "  data_cov = mne.compute_raw_covariance(raw, tmin=tmin,\n",
      "c:\\Users\\Lukas\\Documents\\projects\\esinet\\evaluate\\..\\esinet\\util\\util.py:388: RuntimeWarning: An average reference projection was already added. The data has been left untouched.\n",
      "  epochs.set_eeg_reference(projection=True, verbose=verbose)#.apply_baseline(baseline=baseline)\n",
      "c:\\Users\\Lukas\\Documents\\projects\\esinet\\evaluate\\..\\esinet\\util\\util.py:420: RuntimeWarning: Too few samples (required : 310 got : 80), covariance estimate may be unreliable\n",
      "  data_cov = mne.compute_raw_covariance(raw, tmin=tmin,\n",
      "c:\\Users\\Lukas\\Documents\\projects\\esinet\\evaluate\\..\\esinet\\util\\util.py:388: RuntimeWarning: An average reference projection was already added. The data has been left untouched.\n",
      "  epochs.set_eeg_reference(projection=True, verbose=verbose)#.apply_baseline(baseline=baseline)\n"
     ]
    },
    {
     "name": "stdout",
     "output_type": "stream",
     "text": [
      "<RawArray | 61 x 412 (4.1 s), ~286 kB, data loaded> 4.0 info empirical\n",
      "<RawArray | 61 x 554 (5.5 s), ~354 kB, data loaded> 4.0 info empirical\n",
      "<RawArray | 61 x 488 (4.9 s), ~322 kB, data loaded> 4.0 info empirical\n",
      "<RawArray | 61 x 504 (5.0 s), ~330 kB, data loaded> 4.0 info empirical\n"
     ]
    },
    {
     "name": "stderr",
     "output_type": "stream",
     "text": [
      "c:\\Users\\Lukas\\Documents\\projects\\esinet\\evaluate\\..\\esinet\\util\\util.py:420: RuntimeWarning: Too few samples (required : 310 got : 100), covariance estimate may be unreliable\n",
      "  data_cov = mne.compute_raw_covariance(raw, tmin=tmin,\n",
      "c:\\Users\\Lukas\\Documents\\projects\\esinet\\evaluate\\..\\esinet\\util\\util.py:388: RuntimeWarning: An average reference projection was already added. The data has been left untouched.\n",
      "  epochs.set_eeg_reference(projection=True, verbose=verbose)#.apply_baseline(baseline=baseline)\n",
      "c:\\Users\\Lukas\\Documents\\projects\\esinet\\evaluate\\..\\esinet\\util\\util.py:420: RuntimeWarning: Too few samples (required : 310 got : 160), covariance estimate may be unreliable\n",
      "  data_cov = mne.compute_raw_covariance(raw, tmin=tmin,\n",
      "c:\\Users\\Lukas\\Documents\\projects\\esinet\\evaluate\\..\\esinet\\util\\util.py:388: RuntimeWarning: An average reference projection was already added. The data has been left untouched.\n",
      "  epochs.set_eeg_reference(projection=True, verbose=verbose)#.apply_baseline(baseline=baseline)\n",
      "c:\\Users\\Lukas\\Documents\\projects\\esinet\\evaluate\\..\\esinet\\util\\util.py:420: RuntimeWarning: Too few samples (required : 310 got : 120), covariance estimate may be unreliable\n",
      "  data_cov = mne.compute_raw_covariance(raw, tmin=tmin,\n",
      "c:\\Users\\Lukas\\Documents\\projects\\esinet\\evaluate\\..\\esinet\\util\\util.py:388: RuntimeWarning: An average reference projection was already added. The data has been left untouched.\n",
      "  epochs.set_eeg_reference(projection=True, verbose=verbose)#.apply_baseline(baseline=baseline)\n",
      "c:\\Users\\Lukas\\Documents\\projects\\esinet\\evaluate\\..\\esinet\\util\\util.py:420: RuntimeWarning: Too few samples (required : 310 got : 140), covariance estimate may be unreliable\n",
      "  data_cov = mne.compute_raw_covariance(raw, tmin=tmin,\n",
      "c:\\Users\\Lukas\\Documents\\projects\\esinet\\evaluate\\..\\esinet\\util\\util.py:388: RuntimeWarning: An average reference projection was already added. The data has been left untouched.\n",
      "  epochs.set_eeg_reference(projection=True, verbose=verbose)#.apply_baseline(baseline=baseline)\n"
     ]
    },
    {
     "name": "stdout",
     "output_type": "stream",
     "text": [
      "<RawArray | 61 x 561 (5.6 s), ~357 kB, data loaded> 4.0 info empirical\n",
      "<RawArray | 61 x 538 (5.4 s), ~346 kB, data loaded> 4.0 info empirical\n",
      "<RawArray | 61 x 552 (5.5 s), ~353 kB, data loaded> 4.0 info empirical\n",
      "<RawArray | 61 x 556 (5.5 s), ~355 kB, data loaded> 4.0 info empirical\n"
     ]
    },
    {
     "name": "stderr",
     "output_type": "stream",
     "text": [
      "c:\\Users\\Lukas\\Documents\\projects\\esinet\\evaluate\\..\\esinet\\util\\util.py:420: RuntimeWarning: Too few samples (required : 310 got : 140), covariance estimate may be unreliable\n",
      "  data_cov = mne.compute_raw_covariance(raw, tmin=tmin,\n",
      "c:\\Users\\Lukas\\Documents\\projects\\esinet\\evaluate\\..\\esinet\\util\\util.py:388: RuntimeWarning: An average reference projection was already added. The data has been left untouched.\n",
      "  epochs.set_eeg_reference(projection=True, verbose=verbose)#.apply_baseline(baseline=baseline)\n",
      "c:\\Users\\Lukas\\Documents\\projects\\esinet\\evaluate\\..\\esinet\\util\\util.py:420: RuntimeWarning: Too few samples (required : 310 got : 160), covariance estimate may be unreliable\n",
      "  data_cov = mne.compute_raw_covariance(raw, tmin=tmin,\n",
      "c:\\Users\\Lukas\\Documents\\projects\\esinet\\evaluate\\..\\esinet\\util\\util.py:388: RuntimeWarning: An average reference projection was already added. The data has been left untouched.\n",
      "  epochs.set_eeg_reference(projection=True, verbose=verbose)#.apply_baseline(baseline=baseline)\n",
      "c:\\Users\\Lukas\\Documents\\projects\\esinet\\evaluate\\..\\esinet\\util\\util.py:420: RuntimeWarning: Too few samples (required : 310 got : 140), covariance estimate may be unreliable\n",
      "  data_cov = mne.compute_raw_covariance(raw, tmin=tmin,\n",
      "c:\\Users\\Lukas\\Documents\\projects\\esinet\\evaluate\\..\\esinet\\util\\util.py:388: RuntimeWarning: An average reference projection was already added. The data has been left untouched.\n",
      "  epochs.set_eeg_reference(projection=True, verbose=verbose)#.apply_baseline(baseline=baseline)\n",
      "c:\\Users\\Lukas\\Documents\\projects\\esinet\\evaluate\\..\\esinet\\util\\util.py:420: RuntimeWarning: Too few samples (required : 310 got : 80), covariance estimate may be unreliable\n",
      "  data_cov = mne.compute_raw_covariance(raw, tmin=tmin,\n",
      "c:\\Users\\Lukas\\Documents\\projects\\esinet\\evaluate\\..\\esinet\\util\\util.py:388: RuntimeWarning: An average reference projection was already added. The data has been left untouched.\n",
      "  epochs.set_eeg_reference(projection=True, verbose=verbose)#.apply_baseline(baseline=baseline)\n"
     ]
    },
    {
     "name": "stdout",
     "output_type": "stream",
     "text": [
      "<RawArray | 61 x 564 (5.6 s), ~359 kB, data loaded> 4.0 info empirical\n",
      "<RawArray | 61 x 551 (5.5 s), ~352 kB, data loaded> 4.0 info empirical\n",
      "<RawArray | 61 x 485 (4.8 s), ~321 kB, data loaded> 4.0 info empirical\n",
      "<RawArray | 61 x 430 (4.3 s), ~295 kB, data loaded> 4.0 info empirical\n",
      "<RawArray | 61 x 519 (5.2 s), ~337 kB, data loaded> 4.0 info empirical\n"
     ]
    },
    {
     "name": "stderr",
     "output_type": "stream",
     "text": [
      "c:\\Users\\Lukas\\Documents\\projects\\esinet\\evaluate\\..\\esinet\\util\\util.py:420: RuntimeWarning: Too few samples (required : 310 got : 20), covariance estimate may be unreliable\n",
      "  data_cov = mne.compute_raw_covariance(raw, tmin=tmin,\n",
      "c:\\Users\\Lukas\\Documents\\projects\\esinet\\evaluate\\..\\esinet\\util\\util.py:388: RuntimeWarning: An average reference projection was already added. The data has been left untouched.\n",
      "  epochs.set_eeg_reference(projection=True, verbose=verbose)#.apply_baseline(baseline=baseline)\n",
      "c:\\Users\\Lukas\\Documents\\projects\\esinet\\evaluate\\..\\esinet\\util\\util.py:420: RuntimeWarning: Too few samples (required : 310 got : 100), covariance estimate may be unreliable\n",
      "  data_cov = mne.compute_raw_covariance(raw, tmin=tmin,\n",
      "c:\\Users\\Lukas\\Documents\\projects\\esinet\\evaluate\\..\\esinet\\util\\util.py:388: RuntimeWarning: An average reference projection was already added. The data has been left untouched.\n",
      "  epochs.set_eeg_reference(projection=True, verbose=verbose)#.apply_baseline(baseline=baseline)\n",
      "c:\\Users\\Lukas\\Documents\\projects\\esinet\\evaluate\\..\\esinet\\util\\util.py:420: RuntimeWarning: Too few samples (required : 310 got : 60), covariance estimate may be unreliable\n",
      "  data_cov = mne.compute_raw_covariance(raw, tmin=tmin,\n",
      "c:\\Users\\Lukas\\Documents\\projects\\esinet\\evaluate\\..\\esinet\\util\\util.py:388: RuntimeWarning: An average reference projection was already added. The data has been left untouched.\n",
      "  epochs.set_eeg_reference(projection=True, verbose=verbose)#.apply_baseline(baseline=baseline)\n",
      "c:\\Users\\Lukas\\Documents\\projects\\esinet\\evaluate\\..\\esinet\\util\\util.py:420: RuntimeWarning: Too few samples (required : 310 got : 60), covariance estimate may be unreliable\n",
      "  data_cov = mne.compute_raw_covariance(raw, tmin=tmin,\n",
      "c:\\Users\\Lukas\\Documents\\projects\\esinet\\evaluate\\..\\esinet\\util\\util.py:388: RuntimeWarning: An average reference projection was already added. The data has been left untouched.\n",
      "  epochs.set_eeg_reference(projection=True, verbose=verbose)#.apply_baseline(baseline=baseline)\n"
     ]
    },
    {
     "name": "stdout",
     "output_type": "stream",
     "text": [
      "<RawArray | 61 x 465 (4.6 s), ~311 kB, data loaded> 4.0 info empirical\n",
      "<RawArray | 61 x 461 (4.6 s), ~310 kB, data loaded> 4.0 info empirical\n",
      "<RawArray | 61 x 549 (5.5 s), ~351 kB, data loaded> 4.0 info empirical\n",
      "<RawArray | 61 x 528 (5.3 s), ~341 kB, data loaded> 4.0 info empirical\n",
      "<RawArray | 61 x 496 (5.0 s), ~326 kB, data loaded> 4.0 info empirical\n"
     ]
    },
    {
     "name": "stderr",
     "output_type": "stream",
     "text": [
      "c:\\Users\\Lukas\\Documents\\projects\\esinet\\evaluate\\..\\esinet\\util\\util.py:420: RuntimeWarning: Too few samples (required : 310 got : 140), covariance estimate may be unreliable\n",
      "  data_cov = mne.compute_raw_covariance(raw, tmin=tmin,\n",
      "c:\\Users\\Lukas\\Documents\\projects\\esinet\\evaluate\\..\\esinet\\util\\util.py:388: RuntimeWarning: An average reference projection was already added. The data has been left untouched.\n",
      "  epochs.set_eeg_reference(projection=True, verbose=verbose)#.apply_baseline(baseline=baseline)\n",
      "c:\\Users\\Lukas\\Documents\\projects\\esinet\\evaluate\\..\\esinet\\util\\util.py:420: RuntimeWarning: Too few samples (required : 310 got : 120), covariance estimate may be unreliable\n",
      "  data_cov = mne.compute_raw_covariance(raw, tmin=tmin,\n",
      "c:\\Users\\Lukas\\Documents\\projects\\esinet\\evaluate\\..\\esinet\\util\\util.py:388: RuntimeWarning: An average reference projection was already added. The data has been left untouched.\n",
      "  epochs.set_eeg_reference(projection=True, verbose=verbose)#.apply_baseline(baseline=baseline)\n",
      "c:\\Users\\Lukas\\Documents\\projects\\esinet\\evaluate\\..\\esinet\\util\\util.py:420: RuntimeWarning: Too few samples (required : 310 got : 80), covariance estimate may be unreliable\n",
      "  data_cov = mne.compute_raw_covariance(raw, tmin=tmin,\n",
      "c:\\Users\\Lukas\\Documents\\projects\\esinet\\evaluate\\..\\esinet\\util\\util.py:388: RuntimeWarning: An average reference projection was already added. The data has been left untouched.\n",
      "  epochs.set_eeg_reference(projection=True, verbose=verbose)#.apply_baseline(baseline=baseline)\n",
      "c:\\Users\\Lukas\\Documents\\projects\\esinet\\evaluate\\..\\esinet\\util\\util.py:420: RuntimeWarning: Too few samples (required : 310 got : 140), covariance estimate may be unreliable\n",
      "  data_cov = mne.compute_raw_covariance(raw, tmin=tmin,\n",
      "c:\\Users\\Lukas\\Documents\\projects\\esinet\\evaluate\\..\\esinet\\util\\util.py:388: RuntimeWarning: An average reference projection was already added. The data has been left untouched.\n",
      "  epochs.set_eeg_reference(projection=True, verbose=verbose)#.apply_baseline(baseline=baseline)\n"
     ]
    },
    {
     "name": "stdout",
     "output_type": "stream",
     "text": [
      "<RawArray | 61 x 557 (5.6 s), ~355 kB, data loaded> 4.0 info empirical\n",
      "<RawArray | 61 x 511 (5.1 s), ~333 kB, data loaded> 4.0 info empirical\n",
      "<RawArray | 61 x 407 (4.1 s), ~284 kB, data loaded> 4.0 info empirical\n",
      "<RawArray | 61 x 499 (5.0 s), ~328 kB, data loaded> 4.0 info empirical\n"
     ]
    },
    {
     "name": "stderr",
     "output_type": "stream",
     "text": [
      "c:\\Users\\Lukas\\Documents\\projects\\esinet\\evaluate\\..\\esinet\\util\\util.py:420: RuntimeWarning: Too few samples (required : 310 got : 100), covariance estimate may be unreliable\n",
      "  data_cov = mne.compute_raw_covariance(raw, tmin=tmin,\n",
      "c:\\Users\\Lukas\\Documents\\projects\\esinet\\evaluate\\..\\esinet\\util\\util.py:388: RuntimeWarning: An average reference projection was already added. The data has been left untouched.\n",
      "  epochs.set_eeg_reference(projection=True, verbose=verbose)#.apply_baseline(baseline=baseline)\n",
      "c:\\Users\\Lukas\\Documents\\projects\\esinet\\evaluate\\..\\esinet\\util\\util.py:423: RuntimeWarning: Epochs are not baseline corrected, covariance matrix may be inaccurate\n",
      "  data_cov = mne.compute_covariance(epochs, tmin=0.0,\n",
      "c:\\Users\\Lukas\\Documents\\projects\\esinet\\evaluate\\..\\esinet\\util\\util.py:423: RuntimeWarning: Too few samples (required : 310 got : 7), covariance estimate may be unreliable\n",
      "  data_cov = mne.compute_covariance(epochs, tmin=0.0,\n",
      "c:\\Users\\Lukas\\Documents\\projects\\esinet\\evaluate\\..\\esinet\\util\\util.py:388: RuntimeWarning: An average reference projection was already added. The data has been left untouched.\n",
      "  epochs.set_eeg_reference(projection=True, verbose=verbose)#.apply_baseline(baseline=baseline)\n",
      "c:\\Users\\Lukas\\Documents\\projects\\esinet\\evaluate\\..\\esinet\\util\\util.py:420: RuntimeWarning: Too few samples (required : 310 got : 80), covariance estimate may be unreliable\n",
      "  data_cov = mne.compute_raw_covariance(raw, tmin=tmin,\n",
      "c:\\Users\\Lukas\\Documents\\projects\\esinet\\evaluate\\..\\esinet\\util\\util.py:388: RuntimeWarning: An average reference projection was already added. The data has been left untouched.\n",
      "  epochs.set_eeg_reference(projection=True, verbose=verbose)#.apply_baseline(baseline=baseline)\n",
      "c:\\Users\\Lukas\\Documents\\projects\\esinet\\evaluate\\..\\esinet\\util\\util.py:420: RuntimeWarning: Too few samples (required : 310 got : 80), covariance estimate may be unreliable\n",
      "  data_cov = mne.compute_raw_covariance(raw, tmin=tmin,\n",
      "c:\\Users\\Lukas\\Documents\\projects\\esinet\\evaluate\\..\\esinet\\util\\util.py:388: RuntimeWarning: An average reference projection was already added. The data has been left untouched.\n",
      "  epochs.set_eeg_reference(projection=True, verbose=verbose)#.apply_baseline(baseline=baseline)\n"
     ]
    },
    {
     "name": "stdout",
     "output_type": "stream",
     "text": [
      "<RawArray | 61 x 491 (4.9 s), ~324 kB, data loaded> 4.0 info empirical\n",
      "<RawArray | 61 x 497 (5.0 s), ~327 kB, data loaded> 4.0 info empirical\n",
      "<RawArray | 61 x 537 (5.4 s), ~346 kB, data loaded> 4.0 info empirical\n",
      "<RawArray | 61 x 475 (4.7 s), ~316 kB, data loaded> 4.0 info empirical\n"
     ]
    },
    {
     "name": "stderr",
     "output_type": "stream",
     "text": [
      "c:\\Users\\Lukas\\Documents\\projects\\esinet\\evaluate\\..\\esinet\\util\\util.py:420: RuntimeWarning: Too few samples (required : 310 got : 80), covariance estimate may be unreliable\n",
      "  data_cov = mne.compute_raw_covariance(raw, tmin=tmin,\n",
      "c:\\Users\\Lukas\\Documents\\projects\\esinet\\evaluate\\..\\esinet\\util\\util.py:388: RuntimeWarning: An average reference projection was already added. The data has been left untouched.\n",
      "  epochs.set_eeg_reference(projection=True, verbose=verbose)#.apply_baseline(baseline=baseline)\n",
      "c:\\Users\\Lukas\\Documents\\projects\\esinet\\evaluate\\..\\esinet\\util\\util.py:420: RuntimeWarning: Too few samples (required : 310 got : 120), covariance estimate may be unreliable\n",
      "  data_cov = mne.compute_raw_covariance(raw, tmin=tmin,\n",
      "c:\\Users\\Lukas\\Documents\\projects\\esinet\\evaluate\\..\\esinet\\util\\util.py:388: RuntimeWarning: An average reference projection was already added. The data has been left untouched.\n",
      "  epochs.set_eeg_reference(projection=True, verbose=verbose)#.apply_baseline(baseline=baseline)\n",
      "c:\\Users\\Lukas\\Documents\\projects\\esinet\\evaluate\\..\\esinet\\util\\util.py:420: RuntimeWarning: Too few samples (required : 310 got : 60), covariance estimate may be unreliable\n",
      "  data_cov = mne.compute_raw_covariance(raw, tmin=tmin,\n",
      "c:\\Users\\Lukas\\Documents\\projects\\esinet\\evaluate\\..\\esinet\\util\\util.py:388: RuntimeWarning: An average reference projection was already added. The data has been left untouched.\n",
      "  epochs.set_eeg_reference(projection=True, verbose=verbose)#.apply_baseline(baseline=baseline)\n",
      "c:\\Users\\Lukas\\Documents\\projects\\esinet\\evaluate\\..\\esinet\\util\\util.py:420: RuntimeWarning: Too few samples (required : 310 got : 140), covariance estimate may be unreliable\n",
      "  data_cov = mne.compute_raw_covariance(raw, tmin=tmin,\n",
      "c:\\Users\\Lukas\\Documents\\projects\\esinet\\evaluate\\..\\esinet\\util\\util.py:388: RuntimeWarning: An average reference projection was already added. The data has been left untouched.\n",
      "  epochs.set_eeg_reference(projection=True, verbose=verbose)#.apply_baseline(baseline=baseline)\n"
     ]
    },
    {
     "name": "stdout",
     "output_type": "stream",
     "text": [
      "<RawArray | 61 x 545 (5.4 s), ~350 kB, data loaded> 4.0 info empirical\n",
      "<RawArray | 61 x 433 (4.3 s), ~296 kB, data loaded> 4.0 info empirical\n",
      "<RawArray | 61 x 465 (4.6 s), ~311 kB, data loaded> 4.0 info empirical\n",
      "<RawArray | 61 x 462 (4.6 s), ~310 kB, data loaded> 4.0 info empirical\n"
     ]
    },
    {
     "name": "stderr",
     "output_type": "stream",
     "text": [
      "c:\\Users\\Lukas\\Documents\\projects\\esinet\\evaluate\\..\\esinet\\util\\util.py:420: RuntimeWarning: Too few samples (required : 310 got : 20), covariance estimate may be unreliable\n",
      "  data_cov = mne.compute_raw_covariance(raw, tmin=tmin,\n",
      "c:\\Users\\Lukas\\Documents\\projects\\esinet\\evaluate\\..\\esinet\\util\\util.py:388: RuntimeWarning: An average reference projection was already added. The data has been left untouched.\n",
      "  epochs.set_eeg_reference(projection=True, verbose=verbose)#.apply_baseline(baseline=baseline)\n",
      "c:\\Users\\Lukas\\Documents\\projects\\esinet\\evaluate\\..\\esinet\\util\\util.py:420: RuntimeWarning: Too few samples (required : 310 got : 60), covariance estimate may be unreliable\n",
      "  data_cov = mne.compute_raw_covariance(raw, tmin=tmin,\n",
      "c:\\Users\\Lukas\\Documents\\projects\\esinet\\evaluate\\..\\esinet\\util\\util.py:388: RuntimeWarning: An average reference projection was already added. The data has been left untouched.\n",
      "  epochs.set_eeg_reference(projection=True, verbose=verbose)#.apply_baseline(baseline=baseline)\n",
      "c:\\Users\\Lukas\\Documents\\projects\\esinet\\evaluate\\..\\esinet\\util\\util.py:420: RuntimeWarning: Too few samples (required : 310 got : 60), covariance estimate may be unreliable\n",
      "  data_cov = mne.compute_raw_covariance(raw, tmin=tmin,\n",
      "c:\\Users\\Lukas\\Documents\\projects\\esinet\\evaluate\\..\\esinet\\util\\util.py:388: RuntimeWarning: An average reference projection was already added. The data has been left untouched.\n",
      "  epochs.set_eeg_reference(projection=True, verbose=verbose)#.apply_baseline(baseline=baseline)\n",
      "c:\\Users\\Lukas\\Documents\\projects\\esinet\\evaluate\\..\\esinet\\util\\util.py:420: RuntimeWarning: Too few samples (required : 310 got : 160), covariance estimate may be unreliable\n",
      "  data_cov = mne.compute_raw_covariance(raw, tmin=tmin,\n",
      "c:\\Users\\Lukas\\Documents\\projects\\esinet\\evaluate\\..\\esinet\\util\\util.py:388: RuntimeWarning: An average reference projection was already added. The data has been left untouched.\n",
      "  epochs.set_eeg_reference(projection=True, verbose=verbose)#.apply_baseline(baseline=baseline)\n"
     ]
    },
    {
     "name": "stdout",
     "output_type": "stream",
     "text": [
      "<RawArray | 61 x 577 (5.8 s), ~365 kB, data loaded> 4.0 info empirical\n",
      "<RawArray | 61 x 515 (5.1 s), ~335 kB, data loaded> 4.0 info empirical\n",
      "<RawArray | 61 x 563 (5.6 s), ~358 kB, data loaded> 4.0 info empirical\n",
      "<RawArray | 61 x 442 (4.4 s), ~300 kB, data loaded> 4.0 info empirical\n",
      "<RawArray | 61 x 473 (4.7 s), ~315 kB, data loaded> 4.0 info empirical\n"
     ]
    },
    {
     "name": "stderr",
     "output_type": "stream",
     "text": [
      "c:\\Users\\Lukas\\Documents\\projects\\esinet\\evaluate\\..\\esinet\\util\\util.py:420: RuntimeWarning: Too few samples (required : 310 got : 100), covariance estimate may be unreliable\n",
      "  data_cov = mne.compute_raw_covariance(raw, tmin=tmin,\n",
      "c:\\Users\\Lukas\\Documents\\projects\\esinet\\evaluate\\..\\esinet\\util\\util.py:388: RuntimeWarning: An average reference projection was already added. The data has been left untouched.\n",
      "  epochs.set_eeg_reference(projection=True, verbose=verbose)#.apply_baseline(baseline=baseline)\n",
      "c:\\Users\\Lukas\\Documents\\projects\\esinet\\evaluate\\..\\esinet\\util\\util.py:420: RuntimeWarning: Too few samples (required : 310 got : 160), covariance estimate may be unreliable\n",
      "  data_cov = mne.compute_raw_covariance(raw, tmin=tmin,\n",
      "c:\\Users\\Lukas\\Documents\\projects\\esinet\\evaluate\\..\\esinet\\util\\util.py:388: RuntimeWarning: An average reference projection was already added. The data has been left untouched.\n",
      "  epochs.set_eeg_reference(projection=True, verbose=verbose)#.apply_baseline(baseline=baseline)\n",
      "c:\\Users\\Lukas\\Documents\\projects\\esinet\\evaluate\\..\\esinet\\util\\util.py:420: RuntimeWarning: Too few samples (required : 310 got : 40), covariance estimate may be unreliable\n",
      "  data_cov = mne.compute_raw_covariance(raw, tmin=tmin,\n",
      "c:\\Users\\Lukas\\Documents\\projects\\esinet\\evaluate\\..\\esinet\\util\\util.py:388: RuntimeWarning: An average reference projection was already added. The data has been left untouched.\n",
      "  epochs.set_eeg_reference(projection=True, verbose=verbose)#.apply_baseline(baseline=baseline)\n",
      "c:\\Users\\Lukas\\Documents\\projects\\esinet\\evaluate\\..\\esinet\\util\\util.py:420: RuntimeWarning: Too few samples (required : 310 got : 60), covariance estimate may be unreliable\n",
      "  data_cov = mne.compute_raw_covariance(raw, tmin=tmin,\n"
     ]
    },
    {
     "name": "stdout",
     "output_type": "stream",
     "text": [
      "<RawArray | 61 x 483 (4.8 s), ~320 kB, data loaded> 4.0 info empirical\n",
      "<RawArray | 61 x 545 (5.4 s), ~350 kB, data loaded> 4.0 info empirical\n",
      "<RawArray | 61 x 460 (4.6 s), ~309 kB, data loaded> 4.0 info empirical\n",
      "<RawArray | 61 x 422 (4.2 s), ~291 kB, data loaded> 4.0 info empirical\n"
     ]
    },
    {
     "name": "stderr",
     "output_type": "stream",
     "text": [
      "c:\\Users\\Lukas\\Documents\\projects\\esinet\\evaluate\\..\\esinet\\util\\util.py:388: RuntimeWarning: An average reference projection was already added. The data has been left untouched.\n",
      "  epochs.set_eeg_reference(projection=True, verbose=verbose)#.apply_baseline(baseline=baseline)\n",
      "c:\\Users\\Lukas\\Documents\\projects\\esinet\\evaluate\\..\\esinet\\util\\util.py:420: RuntimeWarning: Too few samples (required : 310 got : 80), covariance estimate may be unreliable\n",
      "  data_cov = mne.compute_raw_covariance(raw, tmin=tmin,\n",
      "c:\\Users\\Lukas\\Documents\\projects\\esinet\\evaluate\\..\\esinet\\util\\util.py:388: RuntimeWarning: An average reference projection was already added. The data has been left untouched.\n",
      "  epochs.set_eeg_reference(projection=True, verbose=verbose)#.apply_baseline(baseline=baseline)\n",
      "c:\\Users\\Lukas\\Documents\\projects\\esinet\\evaluate\\..\\esinet\\util\\util.py:420: RuntimeWarning: Too few samples (required : 310 got : 140), covariance estimate may be unreliable\n",
      "  data_cov = mne.compute_raw_covariance(raw, tmin=tmin,\n",
      "c:\\Users\\Lukas\\Documents\\projects\\esinet\\evaluate\\..\\esinet\\util\\util.py:388: RuntimeWarning: An average reference projection was already added. The data has been left untouched.\n",
      "  epochs.set_eeg_reference(projection=True, verbose=verbose)#.apply_baseline(baseline=baseline)\n",
      "c:\\Users\\Lukas\\Documents\\projects\\esinet\\evaluate\\..\\esinet\\util\\util.py:420: RuntimeWarning: Too few samples (required : 310 got : 60), covariance estimate may be unreliable\n",
      "  data_cov = mne.compute_raw_covariance(raw, tmin=tmin,\n",
      "c:\\Users\\Lukas\\Documents\\projects\\esinet\\evaluate\\..\\esinet\\util\\util.py:388: RuntimeWarning: An average reference projection was already added. The data has been left untouched.\n",
      "  epochs.set_eeg_reference(projection=True, verbose=verbose)#.apply_baseline(baseline=baseline)\n",
      "c:\\Users\\Lukas\\Documents\\projects\\esinet\\evaluate\\..\\esinet\\util\\util.py:420: RuntimeWarning: Too few samples (required : 310 got : 20), covariance estimate may be unreliable\n",
      "  data_cov = mne.compute_raw_covariance(raw, tmin=tmin,\n",
      "c:\\Users\\Lukas\\Documents\\projects\\esinet\\evaluate\\..\\esinet\\util\\util.py:388: RuntimeWarning: An average reference projection was already added. The data has been left untouched.\n",
      "  epochs.set_eeg_reference(projection=True, verbose=verbose)#.apply_baseline(baseline=baseline)\n"
     ]
    },
    {
     "name": "stdout",
     "output_type": "stream",
     "text": [
      "<RawArray | 61 x 498 (5.0 s), ~327 kB, data loaded> 4.0 info empirical\n",
      "<RawArray | 61 x 477 (4.8 s), ~317 kB, data loaded> 4.0 info empirical\n",
      "<RawArray | 61 x 403 (4.0 s), ~282 kB, data loaded> 4.0 info empirical\n",
      "<RawArray | 61 x 441 (4.4 s), ~300 kB, data loaded> 4.0 info empirical\n",
      "<RawArray | 61 x 496 (5.0 s), ~326 kB, data loaded> 4.0 info empirical\n"
     ]
    },
    {
     "name": "stderr",
     "output_type": "stream",
     "text": [
      "c:\\Users\\Lukas\\Documents\\projects\\esinet\\evaluate\\..\\esinet\\util\\util.py:420: RuntimeWarning: Too few samples (required : 310 got : 80), covariance estimate may be unreliable\n",
      "  data_cov = mne.compute_raw_covariance(raw, tmin=tmin,\n",
      "c:\\Users\\Lukas\\Documents\\projects\\esinet\\evaluate\\..\\esinet\\util\\util.py:388: RuntimeWarning: An average reference projection was already added. The data has been left untouched.\n",
      "  epochs.set_eeg_reference(projection=True, verbose=verbose)#.apply_baseline(baseline=baseline)\n",
      "c:\\Users\\Lukas\\Documents\\projects\\esinet\\evaluate\\..\\esinet\\util\\util.py:420: RuntimeWarning: Too few samples (required : 310 got : 60), covariance estimate may be unreliable\n",
      "  data_cov = mne.compute_raw_covariance(raw, tmin=tmin,\n",
      "c:\\Users\\Lukas\\Documents\\projects\\esinet\\evaluate\\..\\esinet\\util\\util.py:388: RuntimeWarning: An average reference projection was already added. The data has been left untouched.\n",
      "  epochs.set_eeg_reference(projection=True, verbose=verbose)#.apply_baseline(baseline=baseline)\n",
      "c:\\Users\\Lukas\\Documents\\projects\\esinet\\evaluate\\..\\esinet\\util\\util.py:423: RuntimeWarning: Epochs are not baseline corrected, covariance matrix may be inaccurate\n",
      "  data_cov = mne.compute_covariance(epochs, tmin=0.0,\n",
      "c:\\Users\\Lukas\\Documents\\projects\\esinet\\evaluate\\..\\esinet\\util\\util.py:423: RuntimeWarning: Too few samples (required : 310 got : 3), covariance estimate may be unreliable\n",
      "  data_cov = mne.compute_covariance(epochs, tmin=0.0,\n",
      "c:\\Users\\Lukas\\Documents\\projects\\esinet\\evaluate\\..\\esinet\\util\\util.py:388: RuntimeWarning: An average reference projection was already added. The data has been left untouched.\n",
      "  epochs.set_eeg_reference(projection=True, verbose=verbose)#.apply_baseline(baseline=baseline)\n",
      "c:\\Users\\Lukas\\Documents\\projects\\esinet\\evaluate\\..\\esinet\\util\\util.py:420: RuntimeWarning: Too few samples (required : 310 got : 40), covariance estimate may be unreliable\n",
      "  data_cov = mne.compute_raw_covariance(raw, tmin=tmin,\n",
      "c:\\Users\\Lukas\\Documents\\projects\\esinet\\evaluate\\..\\esinet\\util\\util.py:388: RuntimeWarning: An average reference projection was already added. The data has been left untouched.\n",
      "  epochs.set_eeg_reference(projection=True, verbose=verbose)#.apply_baseline(baseline=baseline)\n",
      "c:\\Users\\Lukas\\Documents\\projects\\esinet\\evaluate\\..\\esinet\\util\\util.py:420: RuntimeWarning: Too few samples (required : 310 got : 80), covariance estimate may be unreliable\n",
      "  data_cov = mne.compute_raw_covariance(raw, tmin=tmin,\n",
      "c:\\Users\\Lukas\\Documents\\projects\\esinet\\evaluate\\..\\esinet\\util\\util.py:388: RuntimeWarning: An average reference projection was already added. The data has been left untouched.\n",
      "  epochs.set_eeg_reference(projection=True, verbose=verbose)#.apply_baseline(baseline=baseline)\n",
      "c:\\Users\\Lukas\\Documents\\projects\\esinet\\evaluate\\..\\esinet\\util\\util.py:420: RuntimeWarning: Too few samples (required : 310 got : 60), covariance estimate may be unreliable\n",
      "  data_cov = mne.compute_raw_covariance(raw, tmin=tmin,\n",
      "c:\\Users\\Lukas\\Documents\\projects\\esinet\\evaluate\\..\\esinet\\util\\util.py:388: RuntimeWarning: An average reference projection was already added. The data has been left untouched.\n",
      "  epochs.set_eeg_reference(projection=True, verbose=verbose)#.apply_baseline(baseline=baseline)\n",
      "c:\\Users\\Lukas\\Documents\\projects\\esinet\\evaluate\\..\\esinet\\util\\util.py:420: RuntimeWarning: Too few samples (required : 310 got : 40), covariance estimate may be unreliable\n",
      "  data_cov = mne.compute_raw_covariance(raw, tmin=tmin,\n",
      "c:\\Users\\Lukas\\Documents\\projects\\esinet\\evaluate\\..\\esinet\\util\\util.py:388: RuntimeWarning: An average reference projection was already added. The data has been left untouched.\n",
      "  epochs.set_eeg_reference(projection=True, verbose=verbose)#.apply_baseline(baseline=baseline)\n",
      "c:\\Users\\Lukas\\Documents\\projects\\esinet\\evaluate\\..\\esinet\\util\\util.py:420: RuntimeWarning: Too few samples (required : 310 got : 80), covariance estimate may be unreliable\n",
      "  data_cov = mne.compute_raw_covariance(raw, tmin=tmin,\n"
     ]
    },
    {
     "name": "stdout",
     "output_type": "stream",
     "text": [
      "<RawArray | 61 x 470 (4.7 s), ~314 kB, data loaded> 4.0 info empirical\n",
      "<RawArray | 61 x 443 (4.4 s), ~301 kB, data loaded> 4.0 info empirical\n",
      "<RawArray | 61 x 499 (5.0 s), ~328 kB, data loaded> 4.0 info empirical\n",
      "<RawArray | 61 x 442 (4.4 s), ~300 kB, data loaded> 4.0 info empirical\n"
     ]
    },
    {
     "name": "stderr",
     "output_type": "stream",
     "text": [
      "c:\\Users\\Lukas\\Documents\\projects\\esinet\\evaluate\\..\\esinet\\util\\util.py:388: RuntimeWarning: An average reference projection was already added. The data has been left untouched.\n",
      "  epochs.set_eeg_reference(projection=True, verbose=verbose)#.apply_baseline(baseline=baseline)\n",
      "c:\\Users\\Lukas\\Documents\\projects\\esinet\\evaluate\\..\\esinet\\util\\util.py:420: RuntimeWarning: Too few samples (required : 310 got : 40), covariance estimate may be unreliable\n",
      "  data_cov = mne.compute_raw_covariance(raw, tmin=tmin,\n",
      "c:\\Users\\Lukas\\Documents\\projects\\esinet\\evaluate\\..\\esinet\\util\\util.py:388: RuntimeWarning: An average reference projection was already added. The data has been left untouched.\n",
      "  epochs.set_eeg_reference(projection=True, verbose=verbose)#.apply_baseline(baseline=baseline)\n",
      "c:\\Users\\Lukas\\Documents\\projects\\esinet\\evaluate\\..\\esinet\\util\\util.py:423: RuntimeWarning: Epochs are not baseline corrected, covariance matrix may be inaccurate\n",
      "  data_cov = mne.compute_covariance(epochs, tmin=0.0,\n",
      "c:\\Users\\Lukas\\Documents\\projects\\esinet\\evaluate\\..\\esinet\\util\\util.py:423: RuntimeWarning: Too few samples (required : 310 got : 10), covariance estimate may be unreliable\n",
      "  data_cov = mne.compute_covariance(epochs, tmin=0.0,\n",
      "c:\\Users\\Lukas\\Documents\\projects\\esinet\\evaluate\\..\\esinet\\util\\util.py:388: RuntimeWarning: An average reference projection was already added. The data has been left untouched.\n",
      "  epochs.set_eeg_reference(projection=True, verbose=verbose)#.apply_baseline(baseline=baseline)\n",
      "c:\\Users\\Lukas\\Documents\\projects\\esinet\\evaluate\\..\\esinet\\util\\util.py:420: RuntimeWarning: Too few samples (required : 310 got : 180), covariance estimate may be unreliable\n",
      "  data_cov = mne.compute_raw_covariance(raw, tmin=tmin,\n",
      "c:\\Users\\Lukas\\Documents\\projects\\esinet\\evaluate\\..\\esinet\\util\\util.py:388: RuntimeWarning: An average reference projection was already added. The data has been left untouched.\n",
      "  epochs.set_eeg_reference(projection=True, verbose=verbose)#.apply_baseline(baseline=baseline)\n",
      "c:\\Users\\Lukas\\Documents\\projects\\esinet\\evaluate\\..\\esinet\\util\\util.py:420: RuntimeWarning: Too few samples (required : 310 got : 80), covariance estimate may be unreliable\n",
      "  data_cov = mne.compute_raw_covariance(raw, tmin=tmin,\n",
      "c:\\Users\\Lukas\\Documents\\projects\\esinet\\evaluate\\..\\esinet\\util\\util.py:388: RuntimeWarning: An average reference projection was already added. The data has been left untouched.\n",
      "  epochs.set_eeg_reference(projection=True, verbose=verbose)#.apply_baseline(baseline=baseline)\n"
     ]
    },
    {
     "name": "stdout",
     "output_type": "stream",
     "text": [
      "<RawArray | 61 x 410 (4.1 s), ~285 kB, data loaded> 4.0 info empirical\n",
      "<RawArray | 61 x 591 (5.9 s), ~371 kB, data loaded> 4.0 info empirical\n",
      "<RawArray | 61 x 496 (5.0 s), ~326 kB, data loaded> 4.0 info empirical\n",
      "<RawArray | 61 x 579 (5.8 s), ~366 kB, data loaded> 4.0 info empirical\n"
     ]
    },
    {
     "name": "stderr",
     "output_type": "stream",
     "text": [
      "c:\\Users\\Lukas\\Documents\\projects\\esinet\\evaluate\\..\\esinet\\util\\util.py:420: RuntimeWarning: Too few samples (required : 310 got : 160), covariance estimate may be unreliable\n",
      "  data_cov = mne.compute_raw_covariance(raw, tmin=tmin,\n",
      "c:\\Users\\Lukas\\Documents\\projects\\esinet\\evaluate\\..\\esinet\\util\\util.py:388: RuntimeWarning: An average reference projection was already added. The data has been left untouched.\n",
      "  epochs.set_eeg_reference(projection=True, verbose=verbose)#.apply_baseline(baseline=baseline)\n",
      "c:\\Users\\Lukas\\Documents\\projects\\esinet\\evaluate\\..\\esinet\\util\\util.py:420: RuntimeWarning: Too few samples (required : 310 got : 100), covariance estimate may be unreliable\n",
      "  data_cov = mne.compute_raw_covariance(raw, tmin=tmin,\n",
      "c:\\Users\\Lukas\\Documents\\projects\\esinet\\evaluate\\..\\esinet\\util\\util.py:388: RuntimeWarning: An average reference projection was already added. The data has been left untouched.\n",
      "  epochs.set_eeg_reference(projection=True, verbose=verbose)#.apply_baseline(baseline=baseline)\n",
      "c:\\Users\\Lukas\\Documents\\projects\\esinet\\evaluate\\..\\esinet\\util\\util.py:420: RuntimeWarning: Too few samples (required : 310 got : 80), covariance estimate may be unreliable\n",
      "  data_cov = mne.compute_raw_covariance(raw, tmin=tmin,\n",
      "c:\\Users\\Lukas\\Documents\\projects\\esinet\\evaluate\\..\\esinet\\util\\util.py:388: RuntimeWarning: An average reference projection was already added. The data has been left untouched.\n",
      "  epochs.set_eeg_reference(projection=True, verbose=verbose)#.apply_baseline(baseline=baseline)\n",
      "c:\\Users\\Lukas\\Documents\\projects\\esinet\\evaluate\\..\\esinet\\util\\util.py:420: RuntimeWarning: Too few samples (required : 310 got : 100), covariance estimate may be unreliable\n",
      "  data_cov = mne.compute_raw_covariance(raw, tmin=tmin,\n",
      "c:\\Users\\Lukas\\Documents\\projects\\esinet\\evaluate\\..\\esinet\\util\\util.py:388: RuntimeWarning: An average reference projection was already added. The data has been left untouched.\n",
      "  epochs.set_eeg_reference(projection=True, verbose=verbose)#.apply_baseline(baseline=baseline)\n"
     ]
    },
    {
     "name": "stdout",
     "output_type": "stream",
     "text": [
      "<RawArray | 61 x 501 (5.0 s), ~329 kB, data loaded> 4.0 info empirical\n",
      "<RawArray | 61 x 492 (4.9 s), ~324 kB, data loaded> 4.0 info empirical\n",
      "<RawArray | 61 x 506 (5.0 s), ~331 kB, data loaded> 4.0 info empirical\n",
      "<RawArray | 61 x 477 (4.8 s), ~317 kB, data loaded> 4.0 info empirical\n",
      "<RawArray | 61 x 496 (5.0 s), ~326 kB, data loaded> 4.0 info empirical\n"
     ]
    },
    {
     "name": "stderr",
     "output_type": "stream",
     "text": [
      "c:\\Users\\Lukas\\Documents\\projects\\esinet\\evaluate\\..\\esinet\\util\\util.py:420: RuntimeWarning: Too few samples (required : 310 got : 60), covariance estimate may be unreliable\n",
      "  data_cov = mne.compute_raw_covariance(raw, tmin=tmin,\n",
      "c:\\Users\\Lukas\\Documents\\projects\\esinet\\evaluate\\..\\esinet\\util\\util.py:388: RuntimeWarning: An average reference projection was already added. The data has been left untouched.\n",
      "  epochs.set_eeg_reference(projection=True, verbose=verbose)#.apply_baseline(baseline=baseline)\n",
      "c:\\Users\\Lukas\\Documents\\projects\\esinet\\evaluate\\..\\esinet\\util\\util.py:420: RuntimeWarning: Too few samples (required : 310 got : 80), covariance estimate may be unreliable\n",
      "  data_cov = mne.compute_raw_covariance(raw, tmin=tmin,\n",
      "c:\\Users\\Lukas\\Documents\\projects\\esinet\\evaluate\\..\\esinet\\util\\util.py:388: RuntimeWarning: An average reference projection was already added. The data has been left untouched.\n",
      "  epochs.set_eeg_reference(projection=True, verbose=verbose)#.apply_baseline(baseline=baseline)\n",
      "c:\\Users\\Lukas\\Documents\\projects\\esinet\\evaluate\\..\\esinet\\util\\util.py:420: RuntimeWarning: Too few samples (required : 310 got : 40), covariance estimate may be unreliable\n",
      "  data_cov = mne.compute_raw_covariance(raw, tmin=tmin,\n",
      "c:\\Users\\Lukas\\Documents\\projects\\esinet\\evaluate\\..\\esinet\\util\\util.py:388: RuntimeWarning: An average reference projection was already added. The data has been left untouched.\n",
      "  epochs.set_eeg_reference(projection=True, verbose=verbose)#.apply_baseline(baseline=baseline)\n",
      "c:\\Users\\Lukas\\Documents\\projects\\esinet\\evaluate\\..\\esinet\\util\\util.py:420: RuntimeWarning: Too few samples (required : 310 got : 60), covariance estimate may be unreliable\n",
      "  data_cov = mne.compute_raw_covariance(raw, tmin=tmin,\n"
     ]
    },
    {
     "name": "stdout",
     "output_type": "stream",
     "text": [
      "<RawArray | 61 x 443 (4.4 s), ~301 kB, data loaded> 4.0 info empirical\n",
      "<RawArray | 61 x 477 (4.8 s), ~317 kB, data loaded> 4.0 info empirical\n",
      "<RawArray | 61 x 405 (4.0 s), ~283 kB, data loaded> 4.0 info empirical\n",
      "<RawArray | 61 x 444 (4.4 s), ~301 kB, data loaded> 4.0 info empirical\n"
     ]
    },
    {
     "name": "stderr",
     "output_type": "stream",
     "text": [
      "c:\\Users\\Lukas\\Documents\\projects\\esinet\\evaluate\\..\\esinet\\util\\util.py:388: RuntimeWarning: An average reference projection was already added. The data has been left untouched.\n",
      "  epochs.set_eeg_reference(projection=True, verbose=verbose)#.apply_baseline(baseline=baseline)\n",
      "c:\\Users\\Lukas\\Documents\\projects\\esinet\\evaluate\\..\\esinet\\util\\util.py:423: RuntimeWarning: Epochs are not baseline corrected, covariance matrix may be inaccurate\n",
      "  data_cov = mne.compute_covariance(epochs, tmin=0.0,\n",
      "c:\\Users\\Lukas\\Documents\\projects\\esinet\\evaluate\\..\\esinet\\util\\util.py:423: RuntimeWarning: Too few samples (required : 310 got : 5), covariance estimate may be unreliable\n",
      "  data_cov = mne.compute_covariance(epochs, tmin=0.0,\n",
      "c:\\Users\\Lukas\\Documents\\projects\\esinet\\evaluate\\..\\esinet\\util\\util.py:388: RuntimeWarning: An average reference projection was already added. The data has been left untouched.\n",
      "  epochs.set_eeg_reference(projection=True, verbose=verbose)#.apply_baseline(baseline=baseline)\n",
      "c:\\Users\\Lukas\\Documents\\projects\\esinet\\evaluate\\..\\esinet\\util\\util.py:420: RuntimeWarning: Too few samples (required : 310 got : 40), covariance estimate may be unreliable\n",
      "  data_cov = mne.compute_raw_covariance(raw, tmin=tmin,\n",
      "c:\\Users\\Lukas\\Documents\\projects\\esinet\\evaluate\\..\\esinet\\util\\util.py:388: RuntimeWarning: An average reference projection was already added. The data has been left untouched.\n",
      "  epochs.set_eeg_reference(projection=True, verbose=verbose)#.apply_baseline(baseline=baseline)\n",
      "c:\\Users\\Lukas\\Documents\\projects\\esinet\\evaluate\\..\\esinet\\util\\util.py:423: RuntimeWarning: Epochs are not baseline corrected, covariance matrix may be inaccurate\n",
      "  data_cov = mne.compute_covariance(epochs, tmin=0.0,\n",
      "c:\\Users\\Lukas\\Documents\\projects\\esinet\\evaluate\\..\\esinet\\util\\util.py:423: RuntimeWarning: Too few samples (required : 310 got : 19), covariance estimate may be unreliable\n",
      "  data_cov = mne.compute_covariance(epochs, tmin=0.0,\n",
      "c:\\Users\\Lukas\\Documents\\projects\\esinet\\evaluate\\..\\esinet\\util\\util.py:388: RuntimeWarning: An average reference projection was already added. The data has been left untouched.\n",
      "  epochs.set_eeg_reference(projection=True, verbose=verbose)#.apply_baseline(baseline=baseline)\n",
      "c:\\Users\\Lukas\\Documents\\projects\\esinet\\evaluate\\..\\esinet\\util\\util.py:420: RuntimeWarning: Too few samples (required : 310 got : 180), covariance estimate may be unreliable\n",
      "  data_cov = mne.compute_raw_covariance(raw, tmin=tmin,\n",
      "c:\\Users\\Lukas\\Documents\\projects\\esinet\\evaluate\\..\\esinet\\util\\util.py:388: RuntimeWarning: An average reference projection was already added. The data has been left untouched.\n",
      "  epochs.set_eeg_reference(projection=True, verbose=verbose)#.apply_baseline(baseline=baseline)\n"
     ]
    },
    {
     "name": "stdout",
     "output_type": "stream",
     "text": [
      "<RawArray | 61 x 419 (4.2 s), ~289 kB, data loaded> 4.0 info empirical\n",
      "<RawArray | 61 x 597 (6.0 s), ~374 kB, data loaded> 4.0 info empirical\n",
      "<RawArray | 61 x 460 (4.6 s), ~309 kB, data loaded> 4.0 info empirical\n",
      "<RawArray | 61 x 465 (4.6 s), ~311 kB, data loaded> 4.0 info empirical\n",
      "<RawArray | 61 x 543 (5.4 s), ~349 kB, data loaded> 4.0 info empirical\n"
     ]
    },
    {
     "name": "stderr",
     "output_type": "stream",
     "text": [
      "c:\\Users\\Lukas\\Documents\\projects\\esinet\\evaluate\\..\\esinet\\util\\util.py:420: RuntimeWarning: Too few samples (required : 310 got : 60), covariance estimate may be unreliable\n",
      "  data_cov = mne.compute_raw_covariance(raw, tmin=tmin,\n",
      "c:\\Users\\Lukas\\Documents\\projects\\esinet\\evaluate\\..\\esinet\\util\\util.py:388: RuntimeWarning: An average reference projection was already added. The data has been left untouched.\n",
      "  epochs.set_eeg_reference(projection=True, verbose=verbose)#.apply_baseline(baseline=baseline)\n",
      "c:\\Users\\Lukas\\Documents\\projects\\esinet\\evaluate\\..\\esinet\\util\\util.py:420: RuntimeWarning: Too few samples (required : 310 got : 60), covariance estimate may be unreliable\n",
      "  data_cov = mne.compute_raw_covariance(raw, tmin=tmin,\n",
      "c:\\Users\\Lukas\\Documents\\projects\\esinet\\evaluate\\..\\esinet\\util\\util.py:388: RuntimeWarning: An average reference projection was already added. The data has been left untouched.\n",
      "  epochs.set_eeg_reference(projection=True, verbose=verbose)#.apply_baseline(baseline=baseline)\n",
      "c:\\Users\\Lukas\\Documents\\projects\\esinet\\evaluate\\..\\esinet\\util\\util.py:420: RuntimeWarning: Too few samples (required : 310 got : 140), covariance estimate may be unreliable\n",
      "  data_cov = mne.compute_raw_covariance(raw, tmin=tmin,\n",
      "c:\\Users\\Lukas\\Documents\\projects\\esinet\\evaluate\\..\\esinet\\util\\util.py:388: RuntimeWarning: An average reference projection was already added. The data has been left untouched.\n",
      "  epochs.set_eeg_reference(projection=True, verbose=verbose)#.apply_baseline(baseline=baseline)\n",
      "c:\\Users\\Lukas\\Documents\\projects\\esinet\\evaluate\\..\\esinet\\util\\util.py:420: RuntimeWarning: Too few samples (required : 310 got : 160), covariance estimate may be unreliable\n",
      "  data_cov = mne.compute_raw_covariance(raw, tmin=tmin,\n",
      "c:\\Users\\Lukas\\Documents\\projects\\esinet\\evaluate\\..\\esinet\\util\\util.py:388: RuntimeWarning: An average reference projection was already added. The data has been left untouched.\n",
      "  epochs.set_eeg_reference(projection=True, verbose=verbose)#.apply_baseline(baseline=baseline)\n"
     ]
    },
    {
     "name": "stdout",
     "output_type": "stream",
     "text": [
      "<RawArray | 61 x 570 (5.7 s), ~361 kB, data loaded> 4.0 info empirical\n",
      "<RawArray | 61 x 581 (5.8 s), ~367 kB, data loaded> 4.0 info empirical\n",
      "<RawArray | 61 x 401 (4.0 s), ~281 kB, data loaded> 4.0 info empirical\n",
      "lcmv didnt work, returning zeros\n",
      "<RawArray | 61 x 524 (5.2 s), ~340 kB, data loaded> 4.0 info empirical\n",
      "<RawArray | 61 x 518 (5.2 s), ~337 kB, data loaded> 4.0 info empirical\n"
     ]
    },
    {
     "name": "stderr",
     "output_type": "stream",
     "text": [
      "c:\\Users\\Lukas\\Documents\\projects\\esinet\\evaluate\\..\\esinet\\util\\util.py:420: RuntimeWarning: Too few samples (required : 310 got : 180), covariance estimate may be unreliable\n",
      "  data_cov = mne.compute_raw_covariance(raw, tmin=tmin,\n",
      "c:\\Users\\Lukas\\Documents\\projects\\esinet\\evaluate\\..\\esinet\\util\\util.py:388: RuntimeWarning: An average reference projection was already added. The data has been left untouched.\n",
      "  epochs.set_eeg_reference(projection=True, verbose=verbose)#.apply_baseline(baseline=baseline)\n",
      "c:\\Users\\Lukas\\Documents\\projects\\esinet\\evaluate\\..\\esinet\\util\\util.py:423: RuntimeWarning: Epochs are not baseline corrected, covariance matrix may be inaccurate\n",
      "  data_cov = mne.compute_covariance(epochs, tmin=0.0,\n",
      "c:\\Users\\Lukas\\Documents\\projects\\esinet\\evaluate\\..\\esinet\\util\\util.py:423: RuntimeWarning: Too few samples (required : 310 got : 1), covariance estimate may be unreliable\n",
      "  data_cov = mne.compute_covariance(epochs, tmin=0.0,\n",
      "C:\\Users\\Lukas\\Envs\\esienv\\lib\\site-packages\\mne\\fixes.py:550: UserWarning: Only one sample available. You may want to reshape your data array\n",
      "  warnings.warn(\"Only one sample available. \"\n",
      "c:\\Users\\Lukas\\Documents\\projects\\esinet\\evaluate\\..\\esinet\\util\\util.py:388: RuntimeWarning: An average reference projection was already added. The data has been left untouched.\n",
      "  epochs.set_eeg_reference(projection=True, verbose=verbose)#.apply_baseline(baseline=baseline)\n",
      "c:\\Users\\Lukas\\Documents\\projects\\esinet\\evaluate\\..\\esinet\\util\\util.py:420: RuntimeWarning: Too few samples (required : 310 got : 120), covariance estimate may be unreliable\n",
      "  data_cov = mne.compute_raw_covariance(raw, tmin=tmin,\n",
      "c:\\Users\\Lukas\\Documents\\projects\\esinet\\evaluate\\..\\esinet\\util\\util.py:388: RuntimeWarning: An average reference projection was already added. The data has been left untouched.\n",
      "  epochs.set_eeg_reference(projection=True, verbose=verbose)#.apply_baseline(baseline=baseline)\n",
      "c:\\Users\\Lukas\\Documents\\projects\\esinet\\evaluate\\..\\esinet\\util\\util.py:420: RuntimeWarning: Too few samples (required : 310 got : 100), covariance estimate may be unreliable\n",
      "  data_cov = mne.compute_raw_covariance(raw, tmin=tmin,\n",
      "c:\\Users\\Lukas\\Documents\\projects\\esinet\\evaluate\\..\\esinet\\util\\util.py:388: RuntimeWarning: An average reference projection was already added. The data has been left untouched.\n",
      "  epochs.set_eeg_reference(projection=True, verbose=verbose)#.apply_baseline(baseline=baseline)\n",
      "c:\\Users\\Lukas\\Documents\\projects\\esinet\\evaluate\\..\\esinet\\util\\util.py:420: RuntimeWarning: Too few samples (required : 310 got : 80), covariance estimate may be unreliable\n",
      "  data_cov = mne.compute_raw_covariance(raw, tmin=tmin,\n",
      "c:\\Users\\Lukas\\Documents\\projects\\esinet\\evaluate\\..\\esinet\\util\\util.py:388: RuntimeWarning: An average reference projection was already added. The data has been left untouched.\n",
      "  epochs.set_eeg_reference(projection=True, verbose=verbose)#.apply_baseline(baseline=baseline)\n"
     ]
    },
    {
     "name": "stdout",
     "output_type": "stream",
     "text": [
      "<RawArray | 61 x 487 (4.9 s), ~322 kB, data loaded> 4.0 info empirical\n",
      "<RawArray | 61 x 556 (5.5 s), ~355 kB, data loaded> 4.0 info empirical\n",
      "<RawArray | 61 x 461 (4.6 s), ~310 kB, data loaded> 4.0 info empirical\n",
      "<RawArray | 61 x 415 (4.1 s), ~288 kB, data loaded> 4.0 info empirical\n"
     ]
    },
    {
     "name": "stderr",
     "output_type": "stream",
     "text": [
      "c:\\Users\\Lukas\\Documents\\projects\\esinet\\evaluate\\..\\esinet\\util\\util.py:420: RuntimeWarning: Too few samples (required : 310 got : 140), covariance estimate may be unreliable\n",
      "  data_cov = mne.compute_raw_covariance(raw, tmin=tmin,\n",
      "c:\\Users\\Lukas\\Documents\\projects\\esinet\\evaluate\\..\\esinet\\util\\util.py:388: RuntimeWarning: An average reference projection was already added. The data has been left untouched.\n",
      "  epochs.set_eeg_reference(projection=True, verbose=verbose)#.apply_baseline(baseline=baseline)\n",
      "c:\\Users\\Lukas\\Documents\\projects\\esinet\\evaluate\\..\\esinet\\util\\util.py:420: RuntimeWarning: Too few samples (required : 310 got : 60), covariance estimate may be unreliable\n",
      "  data_cov = mne.compute_raw_covariance(raw, tmin=tmin,\n",
      "c:\\Users\\Lukas\\Documents\\projects\\esinet\\evaluate\\..\\esinet\\util\\util.py:388: RuntimeWarning: An average reference projection was already added. The data has been left untouched.\n",
      "  epochs.set_eeg_reference(projection=True, verbose=verbose)#.apply_baseline(baseline=baseline)\n",
      "c:\\Users\\Lukas\\Documents\\projects\\esinet\\evaluate\\..\\esinet\\util\\util.py:423: RuntimeWarning: Epochs are not baseline corrected, covariance matrix may be inaccurate\n",
      "  data_cov = mne.compute_covariance(epochs, tmin=0.0,\n",
      "c:\\Users\\Lukas\\Documents\\projects\\esinet\\evaluate\\..\\esinet\\util\\util.py:423: RuntimeWarning: Too few samples (required : 310 got : 15), covariance estimate may be unreliable\n",
      "  data_cov = mne.compute_covariance(epochs, tmin=0.0,\n",
      "c:\\Users\\Lukas\\Documents\\projects\\esinet\\evaluate\\..\\esinet\\util\\util.py:388: RuntimeWarning: An average reference projection was already added. The data has been left untouched.\n",
      "  epochs.set_eeg_reference(projection=True, verbose=verbose)#.apply_baseline(baseline=baseline)\n",
      "c:\\Users\\Lukas\\Documents\\projects\\esinet\\evaluate\\..\\esinet\\util\\util.py:420: RuntimeWarning: Too few samples (required : 310 got : 60), covariance estimate may be unreliable\n",
      "  data_cov = mne.compute_raw_covariance(raw, tmin=tmin,\n",
      "c:\\Users\\Lukas\\Documents\\projects\\esinet\\evaluate\\..\\esinet\\util\\util.py:388: RuntimeWarning: An average reference projection was already added. The data has been left untouched.\n",
      "  epochs.set_eeg_reference(projection=True, verbose=verbose)#.apply_baseline(baseline=baseline)\n"
     ]
    },
    {
     "name": "stdout",
     "output_type": "stream",
     "text": [
      "<RawArray | 61 x 477 (4.8 s), ~317 kB, data loaded> 4.0 info empirical\n",
      "<RawArray | 61 x 588 (5.9 s), ~370 kB, data loaded> 4.0 info empirical\n",
      "<RawArray | 61 x 572 (5.7 s), ~362 kB, data loaded> 4.0 info empirical\n",
      "<RawArray | 61 x 527 (5.3 s), ~341 kB, data loaded> 4.0 info empirical\n",
      "<RawArray | 61 x 425 (4.2 s), ~292 kB, data loaded> 4.0 info empirical\n"
     ]
    },
    {
     "name": "stderr",
     "output_type": "stream",
     "text": [
      "c:\\Users\\Lukas\\Documents\\projects\\esinet\\evaluate\\..\\esinet\\util\\util.py:420: RuntimeWarning: Too few samples (required : 310 got : 180), covariance estimate may be unreliable\n",
      "  data_cov = mne.compute_raw_covariance(raw, tmin=tmin,\n",
      "c:\\Users\\Lukas\\Documents\\projects\\esinet\\evaluate\\..\\esinet\\util\\util.py:388: RuntimeWarning: An average reference projection was already added. The data has been left untouched.\n",
      "  epochs.set_eeg_reference(projection=True, verbose=verbose)#.apply_baseline(baseline=baseline)\n",
      "c:\\Users\\Lukas\\Documents\\projects\\esinet\\evaluate\\..\\esinet\\util\\util.py:420: RuntimeWarning: Too few samples (required : 310 got : 160), covariance estimate may be unreliable\n",
      "  data_cov = mne.compute_raw_covariance(raw, tmin=tmin,\n",
      "c:\\Users\\Lukas\\Documents\\projects\\esinet\\evaluate\\..\\esinet\\util\\util.py:388: RuntimeWarning: An average reference projection was already added. The data has been left untouched.\n",
      "  epochs.set_eeg_reference(projection=True, verbose=verbose)#.apply_baseline(baseline=baseline)\n",
      "c:\\Users\\Lukas\\Documents\\projects\\esinet\\evaluate\\..\\esinet\\util\\util.py:420: RuntimeWarning: Too few samples (required : 310 got : 120), covariance estimate may be unreliable\n",
      "  data_cov = mne.compute_raw_covariance(raw, tmin=tmin,\n",
      "c:\\Users\\Lukas\\Documents\\projects\\esinet\\evaluate\\..\\esinet\\util\\util.py:388: RuntimeWarning: An average reference projection was already added. The data has been left untouched.\n",
      "  epochs.set_eeg_reference(projection=True, verbose=verbose)#.apply_baseline(baseline=baseline)\n",
      "c:\\Users\\Lukas\\Documents\\projects\\esinet\\evaluate\\..\\esinet\\util\\util.py:420: RuntimeWarning: Too few samples (required : 310 got : 20), covariance estimate may be unreliable\n",
      "  data_cov = mne.compute_raw_covariance(raw, tmin=tmin,\n",
      "c:\\Users\\Lukas\\Documents\\projects\\esinet\\evaluate\\..\\esinet\\util\\util.py:388: RuntimeWarning: An average reference projection was already added. The data has been left untouched.\n",
      "  epochs.set_eeg_reference(projection=True, verbose=verbose)#.apply_baseline(baseline=baseline)\n"
     ]
    },
    {
     "name": "stdout",
     "output_type": "stream",
     "text": [
      "<RawArray | 61 x 540 (5.4 s), ~347 kB, data loaded> 4.0 info empirical\n",
      "<RawArray | 61 x 595 (5.9 s), ~373 kB, data loaded> 4.0 info empirical\n",
      "<RawArray | 61 x 474 (4.7 s), ~316 kB, data loaded> 4.0 info empirical\n",
      "<RawArray | 61 x 532 (5.3 s), ~343 kB, data loaded> 4.0 info empirical\n"
     ]
    },
    {
     "name": "stderr",
     "output_type": "stream",
     "text": [
      "c:\\Users\\Lukas\\Documents\\projects\\esinet\\evaluate\\..\\esinet\\util\\util.py:420: RuntimeWarning: Too few samples (required : 310 got : 140), covariance estimate may be unreliable\n",
      "  data_cov = mne.compute_raw_covariance(raw, tmin=tmin,\n",
      "c:\\Users\\Lukas\\Documents\\projects\\esinet\\evaluate\\..\\esinet\\util\\util.py:388: RuntimeWarning: An average reference projection was already added. The data has been left untouched.\n",
      "  epochs.set_eeg_reference(projection=True, verbose=verbose)#.apply_baseline(baseline=baseline)\n",
      "c:\\Users\\Lukas\\Documents\\projects\\esinet\\evaluate\\..\\esinet\\util\\util.py:420: RuntimeWarning: Too few samples (required : 310 got : 180), covariance estimate may be unreliable\n",
      "  data_cov = mne.compute_raw_covariance(raw, tmin=tmin,\n",
      "c:\\Users\\Lukas\\Documents\\projects\\esinet\\evaluate\\..\\esinet\\util\\util.py:388: RuntimeWarning: An average reference projection was already added. The data has been left untouched.\n",
      "  epochs.set_eeg_reference(projection=True, verbose=verbose)#.apply_baseline(baseline=baseline)\n",
      "c:\\Users\\Lukas\\Documents\\projects\\esinet\\evaluate\\..\\esinet\\util\\util.py:420: RuntimeWarning: Too few samples (required : 310 got : 60), covariance estimate may be unreliable\n",
      "  data_cov = mne.compute_raw_covariance(raw, tmin=tmin,\n",
      "c:\\Users\\Lukas\\Documents\\projects\\esinet\\evaluate\\..\\esinet\\util\\util.py:388: RuntimeWarning: An average reference projection was already added. The data has been left untouched.\n",
      "  epochs.set_eeg_reference(projection=True, verbose=verbose)#.apply_baseline(baseline=baseline)\n",
      "c:\\Users\\Lukas\\Documents\\projects\\esinet\\evaluate\\..\\esinet\\util\\util.py:420: RuntimeWarning: Too few samples (required : 310 got : 120), covariance estimate may be unreliable\n",
      "  data_cov = mne.compute_raw_covariance(raw, tmin=tmin,\n",
      "c:\\Users\\Lukas\\Documents\\projects\\esinet\\evaluate\\..\\esinet\\util\\util.py:388: RuntimeWarning: An average reference projection was already added. The data has been left untouched.\n",
      "  epochs.set_eeg_reference(projection=True, verbose=verbose)#.apply_baseline(baseline=baseline)\n"
     ]
    },
    {
     "name": "stdout",
     "output_type": "stream",
     "text": [
      "<RawArray | 61 x 461 (4.6 s), ~310 kB, data loaded> 4.0 info empirical\n",
      "<RawArray | 61 x 486 (4.8 s), ~321 kB, data loaded> 4.0 info empirical\n",
      "<RawArray | 61 x 541 (5.4 s), ~348 kB, data loaded> 4.0 info empirical\n",
      "<RawArray | 61 x 587 (5.9 s), ~370 kB, data loaded> 4.0 info empirical\n",
      "<RawArray | 61 x 581 (5.8 s), ~367 kB, data loaded> 4.0 info empirical\n"
     ]
    },
    {
     "name": "stderr",
     "output_type": "stream",
     "text": [
      "c:\\Users\\Lukas\\Documents\\projects\\esinet\\evaluate\\..\\esinet\\util\\util.py:420: RuntimeWarning: Too few samples (required : 310 got : 60), covariance estimate may be unreliable\n",
      "  data_cov = mne.compute_raw_covariance(raw, tmin=tmin,\n",
      "c:\\Users\\Lukas\\Documents\\projects\\esinet\\evaluate\\..\\esinet\\util\\util.py:388: RuntimeWarning: An average reference projection was already added. The data has been left untouched.\n",
      "  epochs.set_eeg_reference(projection=True, verbose=verbose)#.apply_baseline(baseline=baseline)\n",
      "c:\\Users\\Lukas\\Documents\\projects\\esinet\\evaluate\\..\\esinet\\util\\util.py:420: RuntimeWarning: Too few samples (required : 310 got : 80), covariance estimate may be unreliable\n",
      "  data_cov = mne.compute_raw_covariance(raw, tmin=tmin,\n",
      "c:\\Users\\Lukas\\Documents\\projects\\esinet\\evaluate\\..\\esinet\\util\\util.py:388: RuntimeWarning: An average reference projection was already added. The data has been left untouched.\n",
      "  epochs.set_eeg_reference(projection=True, verbose=verbose)#.apply_baseline(baseline=baseline)\n",
      "c:\\Users\\Lukas\\Documents\\projects\\esinet\\evaluate\\..\\esinet\\util\\util.py:420: RuntimeWarning: Too few samples (required : 310 got : 140), covariance estimate may be unreliable\n",
      "  data_cov = mne.compute_raw_covariance(raw, tmin=tmin,\n",
      "c:\\Users\\Lukas\\Documents\\projects\\esinet\\evaluate\\..\\esinet\\util\\util.py:388: RuntimeWarning: An average reference projection was already added. The data has been left untouched.\n",
      "  epochs.set_eeg_reference(projection=True, verbose=verbose)#.apply_baseline(baseline=baseline)\n",
      "c:\\Users\\Lukas\\Documents\\projects\\esinet\\evaluate\\..\\esinet\\util\\util.py:420: RuntimeWarning: Too few samples (required : 310 got : 180), covariance estimate may be unreliable\n",
      "  data_cov = mne.compute_raw_covariance(raw, tmin=tmin,\n",
      "c:\\Users\\Lukas\\Documents\\projects\\esinet\\evaluate\\..\\esinet\\util\\util.py:388: RuntimeWarning: An average reference projection was already added. The data has been left untouched.\n",
      "  epochs.set_eeg_reference(projection=True, verbose=verbose)#.apply_baseline(baseline=baseline)\n",
      "c:\\Users\\Lukas\\Documents\\projects\\esinet\\evaluate\\..\\esinet\\util\\util.py:420: RuntimeWarning: Too few samples (required : 310 got : 180), covariance estimate may be unreliable\n",
      "  data_cov = mne.compute_raw_covariance(raw, tmin=tmin,\n",
      "c:\\Users\\Lukas\\Documents\\projects\\esinet\\evaluate\\..\\esinet\\util\\util.py:388: RuntimeWarning: An average reference projection was already added. The data has been left untouched.\n",
      "  epochs.set_eeg_reference(projection=True, verbose=verbose)#.apply_baseline(baseline=baseline)\n",
      "c:\\Users\\Lukas\\Documents\\projects\\esinet\\evaluate\\..\\esinet\\util\\util.py:423: RuntimeWarning: Epochs are not baseline corrected, covariance matrix may be inaccurate\n",
      "  data_cov = mne.compute_covariance(epochs, tmin=0.0,\n",
      "c:\\Users\\Lukas\\Documents\\projects\\esinet\\evaluate\\..\\esinet\\util\\util.py:423: RuntimeWarning: Too few samples (required : 310 got : 15), covariance estimate may be unreliable\n",
      "  data_cov = mne.compute_covariance(epochs, tmin=0.0,\n",
      "c:\\Users\\Lukas\\Documents\\projects\\esinet\\evaluate\\..\\esinet\\util\\util.py:388: RuntimeWarning: An average reference projection was already added. The data has been left untouched.\n",
      "  epochs.set_eeg_reference(projection=True, verbose=verbose)#.apply_baseline(baseline=baseline)\n",
      "c:\\Users\\Lukas\\Documents\\projects\\esinet\\evaluate\\..\\esinet\\util\\util.py:420: RuntimeWarning: Too few samples (required : 310 got : 60), covariance estimate may be unreliable\n",
      "  data_cov = mne.compute_raw_covariance(raw, tmin=tmin,\n",
      "c:\\Users\\Lukas\\Documents\\projects\\esinet\\evaluate\\..\\esinet\\util\\util.py:388: RuntimeWarning: An average reference projection was already added. The data has been left untouched.\n",
      "  epochs.set_eeg_reference(projection=True, verbose=verbose)#.apply_baseline(baseline=baseline)\n",
      "c:\\Users\\Lukas\\Documents\\projects\\esinet\\evaluate\\..\\esinet\\util\\util.py:420: RuntimeWarning: Too few samples (required : 310 got : 40), covariance estimate may be unreliable\n",
      "  data_cov = mne.compute_raw_covariance(raw, tmin=tmin,\n",
      "c:\\Users\\Lukas\\Documents\\projects\\esinet\\evaluate\\..\\esinet\\util\\util.py:388: RuntimeWarning: An average reference projection was already added. The data has been left untouched.\n",
      "  epochs.set_eeg_reference(projection=True, verbose=verbose)#.apply_baseline(baseline=baseline)\n"
     ]
    },
    {
     "name": "stdout",
     "output_type": "stream",
     "text": [
      "<RawArray | 61 x 415 (4.1 s), ~288 kB, data loaded> 4.0 info empirical\n",
      "<RawArray | 61 x 473 (4.7 s), ~315 kB, data loaded> 4.0 info empirical\n",
      "<RawArray | 61 x 443 (4.4 s), ~301 kB, data loaded> 4.0 info empirical\n",
      "<RawArray | 61 x 538 (5.4 s), ~346 kB, data loaded> 4.0 info empirical\n"
     ]
    },
    {
     "name": "stderr",
     "output_type": "stream",
     "text": [
      "c:\\Users\\Lukas\\Documents\\projects\\esinet\\evaluate\\..\\esinet\\util\\util.py:420: RuntimeWarning: Too few samples (required : 310 got : 120), covariance estimate may be unreliable\n",
      "  data_cov = mne.compute_raw_covariance(raw, tmin=tmin,\n",
      "c:\\Users\\Lukas\\Documents\\projects\\esinet\\evaluate\\..\\esinet\\util\\util.py:388: RuntimeWarning: An average reference projection was already added. The data has been left untouched.\n",
      "  epochs.set_eeg_reference(projection=True, verbose=verbose)#.apply_baseline(baseline=baseline)\n",
      "c:\\Users\\Lukas\\Documents\\projects\\esinet\\evaluate\\..\\esinet\\util\\util.py:420: RuntimeWarning: Too few samples (required : 310 got : 100), covariance estimate may be unreliable\n",
      "  data_cov = mne.compute_raw_covariance(raw, tmin=tmin,\n",
      "c:\\Users\\Lukas\\Documents\\projects\\esinet\\evaluate\\..\\esinet\\util\\util.py:388: RuntimeWarning: An average reference projection was already added. The data has been left untouched.\n",
      "  epochs.set_eeg_reference(projection=True, verbose=verbose)#.apply_baseline(baseline=baseline)\n",
      "c:\\Users\\Lukas\\Documents\\projects\\esinet\\evaluate\\..\\esinet\\util\\util.py:420: RuntimeWarning: Too few samples (required : 310 got : 100), covariance estimate may be unreliable\n",
      "  data_cov = mne.compute_raw_covariance(raw, tmin=tmin,\n",
      "c:\\Users\\Lukas\\Documents\\projects\\esinet\\evaluate\\..\\esinet\\util\\util.py:388: RuntimeWarning: An average reference projection was already added. The data has been left untouched.\n",
      "  epochs.set_eeg_reference(projection=True, verbose=verbose)#.apply_baseline(baseline=baseline)\n",
      "c:\\Users\\Lukas\\Documents\\projects\\esinet\\evaluate\\..\\esinet\\util\\util.py:420: RuntimeWarning: Too few samples (required : 310 got : 180), covariance estimate may be unreliable\n",
      "  data_cov = mne.compute_raw_covariance(raw, tmin=tmin,\n",
      "c:\\Users\\Lukas\\Documents\\projects\\esinet\\evaluate\\..\\esinet\\util\\util.py:388: RuntimeWarning: An average reference projection was already added. The data has been left untouched.\n",
      "  epochs.set_eeg_reference(projection=True, verbose=verbose)#.apply_baseline(baseline=baseline)\n"
     ]
    },
    {
     "name": "stdout",
     "output_type": "stream",
     "text": [
      "<RawArray | 61 x 512 (5.1 s), ~334 kB, data loaded> 4.0 info empirical\n",
      "<RawArray | 61 x 511 (5.1 s), ~333 kB, data loaded> 4.0 info empirical\n",
      "<RawArray | 61 x 586 (5.8 s), ~369 kB, data loaded> 4.0 info empirical\n",
      "<RawArray | 61 x 479 (4.8 s), ~318 kB, data loaded> 4.0 info empirical\n"
     ]
    },
    {
     "name": "stderr",
     "output_type": "stream",
     "text": [
      "c:\\Users\\Lukas\\Documents\\projects\\esinet\\evaluate\\..\\esinet\\util\\util.py:420: RuntimeWarning: Too few samples (required : 310 got : 60), covariance estimate may be unreliable\n",
      "  data_cov = mne.compute_raw_covariance(raw, tmin=tmin,\n",
      "c:\\Users\\Lukas\\Documents\\projects\\esinet\\evaluate\\..\\esinet\\util\\util.py:388: RuntimeWarning: An average reference projection was already added. The data has been left untouched.\n",
      "  epochs.set_eeg_reference(projection=True, verbose=verbose)#.apply_baseline(baseline=baseline)\n",
      "c:\\Users\\Lukas\\Documents\\projects\\esinet\\evaluate\\..\\esinet\\util\\util.py:423: RuntimeWarning: Epochs are not baseline corrected, covariance matrix may be inaccurate\n",
      "  data_cov = mne.compute_covariance(epochs, tmin=0.0,\n",
      "c:\\Users\\Lukas\\Documents\\projects\\esinet\\evaluate\\..\\esinet\\util\\util.py:423: RuntimeWarning: Too few samples (required : 310 got : 12), covariance estimate may be unreliable\n",
      "  data_cov = mne.compute_covariance(epochs, tmin=0.0,\n",
      "c:\\Users\\Lukas\\Documents\\projects\\esinet\\evaluate\\..\\esinet\\util\\util.py:388: RuntimeWarning: An average reference projection was already added. The data has been left untouched.\n",
      "  epochs.set_eeg_reference(projection=True, verbose=verbose)#.apply_baseline(baseline=baseline)\n",
      "c:\\Users\\Lukas\\Documents\\projects\\esinet\\evaluate\\..\\esinet\\util\\util.py:420: RuntimeWarning: Too few samples (required : 310 got : 160), covariance estimate may be unreliable\n",
      "  data_cov = mne.compute_raw_covariance(raw, tmin=tmin,\n",
      "c:\\Users\\Lukas\\Documents\\projects\\esinet\\evaluate\\..\\esinet\\util\\util.py:388: RuntimeWarning: An average reference projection was already added. The data has been left untouched.\n",
      "  epochs.set_eeg_reference(projection=True, verbose=verbose)#.apply_baseline(baseline=baseline)\n",
      "c:\\Users\\Lukas\\Documents\\projects\\esinet\\evaluate\\..\\esinet\\util\\util.py:420: RuntimeWarning: Too few samples (required : 310 got : 180), covariance estimate may be unreliable\n",
      "  data_cov = mne.compute_raw_covariance(raw, tmin=tmin,\n",
      "c:\\Users\\Lukas\\Documents\\projects\\esinet\\evaluate\\..\\esinet\\util\\util.py:388: RuntimeWarning: An average reference projection was already added. The data has been left untouched.\n",
      "  epochs.set_eeg_reference(projection=True, verbose=verbose)#.apply_baseline(baseline=baseline)\n"
     ]
    },
    {
     "name": "stdout",
     "output_type": "stream",
     "text": [
      "<RawArray | 61 x 412 (4.1 s), ~286 kB, data loaded> 4.0 info empirical\n",
      "<RawArray | 61 x 576 (5.8 s), ~364 kB, data loaded> 4.0 info empirical\n",
      "<RawArray | 61 x 594 (5.9 s), ~373 kB, data loaded> 4.0 info empirical\n",
      "<RawArray | 61 x 594 (5.9 s), ~373 kB, data loaded> 4.0 info empirical\n"
     ]
    },
    {
     "name": "stderr",
     "output_type": "stream",
     "text": [
      "c:\\Users\\Lukas\\Documents\\projects\\esinet\\evaluate\\..\\esinet\\util\\util.py:420: RuntimeWarning: Too few samples (required : 310 got : 180), covariance estimate may be unreliable\n",
      "  data_cov = mne.compute_raw_covariance(raw, tmin=tmin,\n",
      "c:\\Users\\Lukas\\Documents\\projects\\esinet\\evaluate\\..\\esinet\\util\\util.py:388: RuntimeWarning: An average reference projection was already added. The data has been left untouched.\n",
      "  epochs.set_eeg_reference(projection=True, verbose=verbose)#.apply_baseline(baseline=baseline)\n",
      "c:\\Users\\Lukas\\Documents\\projects\\esinet\\evaluate\\..\\esinet\\util\\util.py:420: RuntimeWarning: Too few samples (required : 310 got : 160), covariance estimate may be unreliable\n",
      "  data_cov = mne.compute_raw_covariance(raw, tmin=tmin,\n",
      "c:\\Users\\Lukas\\Documents\\projects\\esinet\\evaluate\\..\\esinet\\util\\util.py:388: RuntimeWarning: An average reference projection was already added. The data has been left untouched.\n",
      "  epochs.set_eeg_reference(projection=True, verbose=verbose)#.apply_baseline(baseline=baseline)\n",
      "c:\\Users\\Lukas\\Documents\\projects\\esinet\\evaluate\\..\\esinet\\util\\util.py:420: RuntimeWarning: Too few samples (required : 310 got : 100), covariance estimate may be unreliable\n",
      "  data_cov = mne.compute_raw_covariance(raw, tmin=tmin,\n",
      "c:\\Users\\Lukas\\Documents\\projects\\esinet\\evaluate\\..\\esinet\\util\\util.py:388: RuntimeWarning: An average reference projection was already added. The data has been left untouched.\n",
      "  epochs.set_eeg_reference(projection=True, verbose=verbose)#.apply_baseline(baseline=baseline)\n",
      "c:\\Users\\Lukas\\Documents\\projects\\esinet\\evaluate\\..\\esinet\\util\\util.py:420: RuntimeWarning: Too few samples (required : 310 got : 180), covariance estimate may be unreliable\n",
      "  data_cov = mne.compute_raw_covariance(raw, tmin=tmin,\n",
      "c:\\Users\\Lukas\\Documents\\projects\\esinet\\evaluate\\..\\esinet\\util\\util.py:388: RuntimeWarning: An average reference projection was already added. The data has been left untouched.\n",
      "  epochs.set_eeg_reference(projection=True, verbose=verbose)#.apply_baseline(baseline=baseline)\n"
     ]
    },
    {
     "name": "stdout",
     "output_type": "stream",
     "text": [
      "<RawArray | 61 x 576 (5.8 s), ~364 kB, data loaded> 4.0 info empirical\n",
      "<RawArray | 61 x 512 (5.1 s), ~334 kB, data loaded> 4.0 info empirical\n",
      "<RawArray | 61 x 599 (6.0 s), ~375 kB, data loaded> 4.0 info empirical\n",
      "<RawArray | 61 x 476 (4.8 s), ~317 kB, data loaded> 4.0 info empirical\n",
      "<RawArray | 61 x 523 (5.2 s), ~339 kB, data loaded> 4.0 info empirical\n"
     ]
    },
    {
     "name": "stderr",
     "output_type": "stream",
     "text": [
      "c:\\Users\\Lukas\\Documents\\projects\\esinet\\evaluate\\..\\esinet\\util\\util.py:420: RuntimeWarning: Too few samples (required : 310 got : 60), covariance estimate may be unreliable\n",
      "  data_cov = mne.compute_raw_covariance(raw, tmin=tmin,\n",
      "c:\\Users\\Lukas\\Documents\\projects\\esinet\\evaluate\\..\\esinet\\util\\util.py:388: RuntimeWarning: An average reference projection was already added. The data has been left untouched.\n",
      "  epochs.set_eeg_reference(projection=True, verbose=verbose)#.apply_baseline(baseline=baseline)\n",
      "c:\\Users\\Lukas\\Documents\\projects\\esinet\\evaluate\\..\\esinet\\util\\util.py:420: RuntimeWarning: Too few samples (required : 310 got : 120), covariance estimate may be unreliable\n",
      "  data_cov = mne.compute_raw_covariance(raw, tmin=tmin,\n",
      "c:\\Users\\Lukas\\Documents\\projects\\esinet\\evaluate\\..\\esinet\\util\\util.py:388: RuntimeWarning: An average reference projection was already added. The data has been left untouched.\n",
      "  epochs.set_eeg_reference(projection=True, verbose=verbose)#.apply_baseline(baseline=baseline)\n",
      "c:\\Users\\Lukas\\Documents\\projects\\esinet\\evaluate\\..\\esinet\\util\\util.py:420: RuntimeWarning: Too few samples (required : 310 got : 100), covariance estimate may be unreliable\n",
      "  data_cov = mne.compute_raw_covariance(raw, tmin=tmin,\n",
      "c:\\Users\\Lukas\\Documents\\projects\\esinet\\evaluate\\..\\esinet\\util\\util.py:388: RuntimeWarning: An average reference projection was already added. The data has been left untouched.\n",
      "  epochs.set_eeg_reference(projection=True, verbose=verbose)#.apply_baseline(baseline=baseline)\n",
      "c:\\Users\\Lukas\\Documents\\projects\\esinet\\evaluate\\..\\esinet\\util\\util.py:420: RuntimeWarning: Too few samples (required : 310 got : 180), covariance estimate may be unreliable\n",
      "  data_cov = mne.compute_raw_covariance(raw, tmin=tmin,\n",
      "c:\\Users\\Lukas\\Documents\\projects\\esinet\\evaluate\\..\\esinet\\util\\util.py:388: RuntimeWarning: An average reference projection was already added. The data has been left untouched.\n",
      "  epochs.set_eeg_reference(projection=True, verbose=verbose)#.apply_baseline(baseline=baseline)\n"
     ]
    },
    {
     "name": "stdout",
     "output_type": "stream",
     "text": [
      "<RawArray | 61 x 518 (5.2 s), ~337 kB, data loaded> 4.0 info empirical\n",
      "<RawArray | 61 x 589 (5.9 s), ~371 kB, data loaded> 4.0 info empirical\n",
      "<RawArray | 61 x 510 (5.1 s), ~333 kB, data loaded> 4.0 info empirical\n",
      "<RawArray | 61 x 558 (5.6 s), ~356 kB, data loaded> 4.0 info empirical\n"
     ]
    },
    {
     "name": "stderr",
     "output_type": "stream",
     "text": [
      "c:\\Users\\Lukas\\Documents\\projects\\esinet\\evaluate\\..\\esinet\\util\\util.py:420: RuntimeWarning: Too few samples (required : 310 got : 100), covariance estimate may be unreliable\n",
      "  data_cov = mne.compute_raw_covariance(raw, tmin=tmin,\n",
      "c:\\Users\\Lukas\\Documents\\projects\\esinet\\evaluate\\..\\esinet\\util\\util.py:388: RuntimeWarning: An average reference projection was already added. The data has been left untouched.\n",
      "  epochs.set_eeg_reference(projection=True, verbose=verbose)#.apply_baseline(baseline=baseline)\n",
      "c:\\Users\\Lukas\\Documents\\projects\\esinet\\evaluate\\..\\esinet\\util\\util.py:420: RuntimeWarning: Too few samples (required : 310 got : 140), covariance estimate may be unreliable\n",
      "  data_cov = mne.compute_raw_covariance(raw, tmin=tmin,\n",
      "c:\\Users\\Lukas\\Documents\\projects\\esinet\\evaluate\\..\\esinet\\util\\util.py:388: RuntimeWarning: An average reference projection was already added. The data has been left untouched.\n",
      "  epochs.set_eeg_reference(projection=True, verbose=verbose)#.apply_baseline(baseline=baseline)\n",
      "c:\\Users\\Lukas\\Documents\\projects\\esinet\\evaluate\\..\\esinet\\util\\util.py:420: RuntimeWarning: Too few samples (required : 310 got : 60), covariance estimate may be unreliable\n",
      "  data_cov = mne.compute_raw_covariance(raw, tmin=tmin,\n",
      "c:\\Users\\Lukas\\Documents\\projects\\esinet\\evaluate\\..\\esinet\\util\\util.py:388: RuntimeWarning: An average reference projection was already added. The data has been left untouched.\n",
      "  epochs.set_eeg_reference(projection=True, verbose=verbose)#.apply_baseline(baseline=baseline)\n",
      "c:\\Users\\Lukas\\Documents\\projects\\esinet\\evaluate\\..\\esinet\\util\\util.py:420: RuntimeWarning: Too few samples (required : 310 got : 40), covariance estimate may be unreliable\n",
      "  data_cov = mne.compute_raw_covariance(raw, tmin=tmin,\n",
      "c:\\Users\\Lukas\\Documents\\projects\\esinet\\evaluate\\..\\esinet\\util\\util.py:388: RuntimeWarning: An average reference projection was already added. The data has been left untouched.\n",
      "  epochs.set_eeg_reference(projection=True, verbose=verbose)#.apply_baseline(baseline=baseline)\n"
     ]
    },
    {
     "name": "stdout",
     "output_type": "stream",
     "text": [
      "<RawArray | 61 x 463 (4.6 s), ~310 kB, data loaded> 4.0 info empirical\n",
      "<RawArray | 61 x 442 (4.4 s), ~300 kB, data loaded> 4.0 info empirical\n",
      "<RawArray | 61 x 553 (5.5 s), ~353 kB, data loaded> 4.0 info empirical\n",
      "<RawArray | 61 x 436 (4.3 s), ~298 kB, data loaded> 4.0 info empirical\n"
     ]
    },
    {
     "name": "stderr",
     "output_type": "stream",
     "text": [
      "c:\\Users\\Lukas\\Documents\\projects\\esinet\\evaluate\\..\\esinet\\util\\util.py:420: RuntimeWarning: Too few samples (required : 310 got : 140), covariance estimate may be unreliable\n",
      "  data_cov = mne.compute_raw_covariance(raw, tmin=tmin,\n",
      "c:\\Users\\Lukas\\Documents\\projects\\esinet\\evaluate\\..\\esinet\\util\\util.py:388: RuntimeWarning: An average reference projection was already added. The data has been left untouched.\n",
      "  epochs.set_eeg_reference(projection=True, verbose=verbose)#.apply_baseline(baseline=baseline)\n",
      "c:\\Users\\Lukas\\Documents\\projects\\esinet\\evaluate\\..\\esinet\\util\\util.py:420: RuntimeWarning: Too few samples (required : 310 got : 20), covariance estimate may be unreliable\n",
      "  data_cov = mne.compute_raw_covariance(raw, tmin=tmin,\n",
      "c:\\Users\\Lukas\\Documents\\projects\\esinet\\evaluate\\..\\esinet\\util\\util.py:388: RuntimeWarning: An average reference projection was already added. The data has been left untouched.\n",
      "  epochs.set_eeg_reference(projection=True, verbose=verbose)#.apply_baseline(baseline=baseline)\n",
      "c:\\Users\\Lukas\\Documents\\projects\\esinet\\evaluate\\..\\esinet\\util\\util.py:420: RuntimeWarning: Too few samples (required : 310 got : 160), covariance estimate may be unreliable\n",
      "  data_cov = mne.compute_raw_covariance(raw, tmin=tmin,\n",
      "c:\\Users\\Lukas\\Documents\\projects\\esinet\\evaluate\\..\\esinet\\util\\util.py:388: RuntimeWarning: An average reference projection was already added. The data has been left untouched.\n",
      "  epochs.set_eeg_reference(projection=True, verbose=verbose)#.apply_baseline(baseline=baseline)\n",
      "c:\\Users\\Lukas\\Documents\\projects\\esinet\\evaluate\\..\\esinet\\util\\util.py:420: RuntimeWarning: Too few samples (required : 310 got : 180), covariance estimate may be unreliable\n",
      "  data_cov = mne.compute_raw_covariance(raw, tmin=tmin,\n",
      "c:\\Users\\Lukas\\Documents\\projects\\esinet\\evaluate\\..\\esinet\\util\\util.py:388: RuntimeWarning: An average reference projection was already added. The data has been left untouched.\n",
      "  epochs.set_eeg_reference(projection=True, verbose=verbose)#.apply_baseline(baseline=baseline)\n"
     ]
    },
    {
     "name": "stdout",
     "output_type": "stream",
     "text": [
      "<RawArray | 61 x 574 (5.7 s), ~363 kB, data loaded> 4.0 info empirical\n",
      "<RawArray | 61 x 595 (5.9 s), ~373 kB, data loaded> 4.0 info empirical\n",
      "<RawArray | 61 x 410 (4.1 s), ~285 kB, data loaded> 4.0 info empirical\n",
      "<RawArray | 61 x 592 (5.9 s), ~372 kB, data loaded> 4.0 info empirical\n"
     ]
    },
    {
     "name": "stderr",
     "output_type": "stream",
     "text": [
      "c:\\Users\\Lukas\\Documents\\projects\\esinet\\evaluate\\..\\esinet\\util\\util.py:423: RuntimeWarning: Epochs are not baseline corrected, covariance matrix may be inaccurate\n",
      "  data_cov = mne.compute_covariance(epochs, tmin=0.0,\n",
      "c:\\Users\\Lukas\\Documents\\projects\\esinet\\evaluate\\..\\esinet\\util\\util.py:423: RuntimeWarning: Too few samples (required : 310 got : 10), covariance estimate may be unreliable\n",
      "  data_cov = mne.compute_covariance(epochs, tmin=0.0,\n",
      "c:\\Users\\Lukas\\Documents\\projects\\esinet\\evaluate\\..\\esinet\\util\\util.py:388: RuntimeWarning: An average reference projection was already added. The data has been left untouched.\n",
      "  epochs.set_eeg_reference(projection=True, verbose=verbose)#.apply_baseline(baseline=baseline)\n",
      "c:\\Users\\Lukas\\Documents\\projects\\esinet\\evaluate\\..\\esinet\\util\\util.py:420: RuntimeWarning: Too few samples (required : 310 got : 180), covariance estimate may be unreliable\n",
      "  data_cov = mne.compute_raw_covariance(raw, tmin=tmin,\n",
      "c:\\Users\\Lukas\\Documents\\projects\\esinet\\evaluate\\..\\esinet\\util\\util.py:388: RuntimeWarning: An average reference projection was already added. The data has been left untouched.\n",
      "  epochs.set_eeg_reference(projection=True, verbose=verbose)#.apply_baseline(baseline=baseline)\n",
      "c:\\Users\\Lukas\\Documents\\projects\\esinet\\evaluate\\..\\esinet\\util\\util.py:420: RuntimeWarning: Too few samples (required : 310 got : 140), covariance estimate may be unreliable\n",
      "  data_cov = mne.compute_raw_covariance(raw, tmin=tmin,\n",
      "c:\\Users\\Lukas\\Documents\\projects\\esinet\\evaluate\\..\\esinet\\util\\util.py:388: RuntimeWarning: An average reference projection was already added. The data has been left untouched.\n",
      "  epochs.set_eeg_reference(projection=True, verbose=verbose)#.apply_baseline(baseline=baseline)\n",
      "c:\\Users\\Lukas\\Documents\\projects\\esinet\\evaluate\\..\\esinet\\util\\util.py:420: RuntimeWarning: Too few samples (required : 310 got : 20), covariance estimate may be unreliable\n",
      "  data_cov = mne.compute_raw_covariance(raw, tmin=tmin,\n",
      "c:\\Users\\Lukas\\Documents\\projects\\esinet\\evaluate\\..\\esinet\\util\\util.py:388: RuntimeWarning: An average reference projection was already added. The data has been left untouched.\n",
      "  epochs.set_eeg_reference(projection=True, verbose=verbose)#.apply_baseline(baseline=baseline)\n"
     ]
    },
    {
     "name": "stdout",
     "output_type": "stream",
     "text": [
      "<RawArray | 61 x 542 (5.4 s), ~348 kB, data loaded> 4.0 info empirical\n",
      "<RawArray | 61 x 436 (4.3 s), ~298 kB, data loaded> 4.0 info empirical\n",
      "<RawArray | 61 x 545 (5.4 s), ~350 kB, data loaded> 4.0 info empirical\n",
      "<RawArray | 61 x 431 (4.3 s), ~295 kB, data loaded> 4.0 info empirical\n",
      "<RawArray | 61 x 568 (5.7 s), ~360 kB, data loaded> 4.0 info empirical\n"
     ]
    },
    {
     "name": "stderr",
     "output_type": "stream",
     "text": [
      "c:\\Users\\Lukas\\Documents\\projects\\esinet\\evaluate\\..\\esinet\\util\\util.py:420: RuntimeWarning: Too few samples (required : 310 got : 140), covariance estimate may be unreliable\n",
      "  data_cov = mne.compute_raw_covariance(raw, tmin=tmin,\n",
      "c:\\Users\\Lukas\\Documents\\projects\\esinet\\evaluate\\..\\esinet\\util\\util.py:388: RuntimeWarning: An average reference projection was already added. The data has been left untouched.\n",
      "  epochs.set_eeg_reference(projection=True, verbose=verbose)#.apply_baseline(baseline=baseline)\n",
      "c:\\Users\\Lukas\\Documents\\projects\\esinet\\evaluate\\..\\esinet\\util\\util.py:420: RuntimeWarning: Too few samples (required : 310 got : 20), covariance estimate may be unreliable\n",
      "  data_cov = mne.compute_raw_covariance(raw, tmin=tmin,\n",
      "c:\\Users\\Lukas\\Documents\\projects\\esinet\\evaluate\\..\\esinet\\util\\util.py:388: RuntimeWarning: An average reference projection was already added. The data has been left untouched.\n",
      "  epochs.set_eeg_reference(projection=True, verbose=verbose)#.apply_baseline(baseline=baseline)\n",
      "c:\\Users\\Lukas\\Documents\\projects\\esinet\\evaluate\\..\\esinet\\util\\util.py:420: RuntimeWarning: Too few samples (required : 310 got : 160), covariance estimate may be unreliable\n",
      "  data_cov = mne.compute_raw_covariance(raw, tmin=tmin,\n",
      "c:\\Users\\Lukas\\Documents\\projects\\esinet\\evaluate\\..\\esinet\\util\\util.py:388: RuntimeWarning: An average reference projection was already added. The data has been left untouched.\n",
      "  epochs.set_eeg_reference(projection=True, verbose=verbose)#.apply_baseline(baseline=baseline)\n",
      "c:\\Users\\Lukas\\Documents\\projects\\esinet\\evaluate\\..\\esinet\\util\\util.py:420: RuntimeWarning: Too few samples (required : 310 got : 100), covariance estimate may be unreliable\n",
      "  data_cov = mne.compute_raw_covariance(raw, tmin=tmin,\n",
      "c:\\Users\\Lukas\\Documents\\projects\\esinet\\evaluate\\..\\esinet\\util\\util.py:388: RuntimeWarning: An average reference projection was already added. The data has been left untouched.\n",
      "  epochs.set_eeg_reference(projection=True, verbose=verbose)#.apply_baseline(baseline=baseline)\n"
     ]
    },
    {
     "name": "stdout",
     "output_type": "stream",
     "text": [
      "<RawArray | 61 x 508 (5.1 s), ~332 kB, data loaded> 4.0 info empirical\n",
      "<RawArray | 61 x 510 (5.1 s), ~333 kB, data loaded> 4.0 info empirical\n",
      "<RawArray | 61 x 599 (6.0 s), ~375 kB, data loaded> 4.0 info empirical\n",
      "<RawArray | 61 x 541 (5.4 s), ~348 kB, data loaded> 4.0 info empirical\n"
     ]
    },
    {
     "name": "stderr",
     "output_type": "stream",
     "text": [
      "c:\\Users\\Lukas\\Documents\\projects\\esinet\\evaluate\\..\\esinet\\util\\util.py:420: RuntimeWarning: Too few samples (required : 310 got : 100), covariance estimate may be unreliable\n",
      "  data_cov = mne.compute_raw_covariance(raw, tmin=tmin,\n",
      "c:\\Users\\Lukas\\Documents\\projects\\esinet\\evaluate\\..\\esinet\\util\\util.py:388: RuntimeWarning: An average reference projection was already added. The data has been left untouched.\n",
      "  epochs.set_eeg_reference(projection=True, verbose=verbose)#.apply_baseline(baseline=baseline)\n",
      "c:\\Users\\Lukas\\Documents\\projects\\esinet\\evaluate\\..\\esinet\\util\\util.py:420: RuntimeWarning: Too few samples (required : 310 got : 180), covariance estimate may be unreliable\n",
      "  data_cov = mne.compute_raw_covariance(raw, tmin=tmin,\n",
      "c:\\Users\\Lukas\\Documents\\projects\\esinet\\evaluate\\..\\esinet\\util\\util.py:388: RuntimeWarning: An average reference projection was already added. The data has been left untouched.\n",
      "  epochs.set_eeg_reference(projection=True, verbose=verbose)#.apply_baseline(baseline=baseline)\n",
      "c:\\Users\\Lukas\\Documents\\projects\\esinet\\evaluate\\..\\esinet\\util\\util.py:420: RuntimeWarning: Too few samples (required : 310 got : 140), covariance estimate may be unreliable\n",
      "  data_cov = mne.compute_raw_covariance(raw, tmin=tmin,\n",
      "c:\\Users\\Lukas\\Documents\\projects\\esinet\\evaluate\\..\\esinet\\util\\util.py:388: RuntimeWarning: An average reference projection was already added. The data has been left untouched.\n",
      "  epochs.set_eeg_reference(projection=True, verbose=verbose)#.apply_baseline(baseline=baseline)\n",
      "c:\\Users\\Lukas\\Documents\\projects\\esinet\\evaluate\\..\\esinet\\util\\util.py:420: RuntimeWarning: Too few samples (required : 310 got : 160), covariance estimate may be unreliable\n",
      "  data_cov = mne.compute_raw_covariance(raw, tmin=tmin,\n"
     ]
    },
    {
     "name": "stdout",
     "output_type": "stream",
     "text": [
      "<RawArray | 61 x 579 (5.8 s), ~366 kB, data loaded> 4.0 info empirical\n",
      "<RawArray | 61 x 570 (5.7 s), ~361 kB, data loaded> 4.0 info empirical\n",
      "<RawArray | 61 x 486 (4.8 s), ~321 kB, data loaded> 4.0 info empirical\n",
      "<RawArray | 61 x 494 (4.9 s), ~325 kB, data loaded> 4.0 info empirical\n",
      "<RawArray | 61 x 506 (5.0 s), ~331 kB, data loaded>"
     ]
    },
    {
     "name": "stderr",
     "output_type": "stream",
     "text": [
      "c:\\Users\\Lukas\\Documents\\projects\\esinet\\evaluate\\..\\esinet\\util\\util.py:388: RuntimeWarning: An average reference projection was already added. The data has been left untouched.\n",
      "  epochs.set_eeg_reference(projection=True, verbose=verbose)#.apply_baseline(baseline=baseline)\n",
      "c:\\Users\\Lukas\\Documents\\projects\\esinet\\evaluate\\..\\esinet\\util\\util.py:420: RuntimeWarning: Too few samples (required : 310 got : 160), covariance estimate may be unreliable\n",
      "  data_cov = mne.compute_raw_covariance(raw, tmin=tmin,\n",
      "c:\\Users\\Lukas\\Documents\\projects\\esinet\\evaluate\\..\\esinet\\util\\util.py:388: RuntimeWarning: An average reference projection was already added. The data has been left untouched.\n",
      "  epochs.set_eeg_reference(projection=True, verbose=verbose)#.apply_baseline(baseline=baseline)\n",
      "c:\\Users\\Lukas\\Documents\\projects\\esinet\\evaluate\\..\\esinet\\util\\util.py:420: RuntimeWarning: Too few samples (required : 310 got : 80), covariance estimate may be unreliable\n",
      "  data_cov = mne.compute_raw_covariance(raw, tmin=tmin,\n",
      "c:\\Users\\Lukas\\Documents\\projects\\esinet\\evaluate\\..\\esinet\\util\\util.py:388: RuntimeWarning: An average reference projection was already added. The data has been left untouched.\n",
      "  epochs.set_eeg_reference(projection=True, verbose=verbose)#.apply_baseline(baseline=baseline)\n",
      "c:\\Users\\Lukas\\Documents\\projects\\esinet\\evaluate\\..\\esinet\\util\\util.py:420: RuntimeWarning: Too few samples (required : 310 got : 80), covariance estimate may be unreliable\n",
      "  data_cov = mne.compute_raw_covariance(raw, tmin=tmin,\n",
      "c:\\Users\\Lukas\\Documents\\projects\\esinet\\evaluate\\..\\esinet\\util\\util.py:388: RuntimeWarning: An average reference projection was already added. The data has been left untouched.\n",
      "  epochs.set_eeg_reference(projection=True, verbose=verbose)#.apply_baseline(baseline=baseline)\n",
      "c:\\Users\\Lukas\\Documents\\projects\\esinet\\evaluate\\..\\esinet\\util\\util.py:420: RuntimeWarning: Too few samples (required : 310 got : 100), covariance estimate may be unreliable\n",
      "  data_cov = mne.compute_raw_covariance(raw, tmin=tmin,\n",
      "c:\\Users\\Lukas\\Documents\\projects\\esinet\\evaluate\\..\\esinet\\util\\util.py:388: RuntimeWarning: An average reference projection was already added. The data has been left untouched.\n",
      "  epochs.set_eeg_reference(projection=True, verbose=verbose)#.apply_baseline(baseline=baseline)\n"
     ]
    },
    {
     "name": "stdout",
     "output_type": "stream",
     "text": [
      " 4.0 info empirical\n",
      "<RawArray | 61 x 514 (5.1 s), ~335 kB, data loaded> 4.0 info empirical\n",
      "<RawArray | 61 x 514 (5.1 s), ~335 kB, data loaded> 4.0 info empirical\n",
      "<RawArray | 61 x 572 (5.7 s), ~362 kB, data loaded> 4.0 info empirical\n"
     ]
    },
    {
     "name": "stderr",
     "output_type": "stream",
     "text": [
      "c:\\Users\\Lukas\\Documents\\projects\\esinet\\evaluate\\..\\esinet\\util\\util.py:420: RuntimeWarning: Too few samples (required : 310 got : 100), covariance estimate may be unreliable\n",
      "  data_cov = mne.compute_raw_covariance(raw, tmin=tmin,\n",
      "c:\\Users\\Lukas\\Documents\\projects\\esinet\\evaluate\\..\\esinet\\util\\util.py:388: RuntimeWarning: An average reference projection was already added. The data has been left untouched.\n",
      "  epochs.set_eeg_reference(projection=True, verbose=verbose)#.apply_baseline(baseline=baseline)\n",
      "c:\\Users\\Lukas\\Documents\\projects\\esinet\\evaluate\\..\\esinet\\util\\util.py:420: RuntimeWarning: Too few samples (required : 310 got : 100), covariance estimate may be unreliable\n",
      "  data_cov = mne.compute_raw_covariance(raw, tmin=tmin,\n",
      "c:\\Users\\Lukas\\Documents\\projects\\esinet\\evaluate\\..\\esinet\\util\\util.py:388: RuntimeWarning: An average reference projection was already added. The data has been left untouched.\n",
      "  epochs.set_eeg_reference(projection=True, verbose=verbose)#.apply_baseline(baseline=baseline)\n",
      "c:\\Users\\Lukas\\Documents\\projects\\esinet\\evaluate\\..\\esinet\\util\\util.py:420: RuntimeWarning: Too few samples (required : 310 got : 160), covariance estimate may be unreliable\n",
      "  data_cov = mne.compute_raw_covariance(raw, tmin=tmin,\n",
      "c:\\Users\\Lukas\\Documents\\projects\\esinet\\evaluate\\..\\esinet\\util\\util.py:388: RuntimeWarning: An average reference projection was already added. The data has been left untouched.\n",
      "  epochs.set_eeg_reference(projection=True, verbose=verbose)#.apply_baseline(baseline=baseline)\n",
      "c:\\Users\\Lukas\\Documents\\projects\\esinet\\evaluate\\..\\esinet\\util\\util.py:420: RuntimeWarning: Too few samples (required : 310 got : 140), covariance estimate may be unreliable\n",
      "  data_cov = mne.compute_raw_covariance(raw, tmin=tmin,\n",
      "c:\\Users\\Lukas\\Documents\\projects\\esinet\\evaluate\\..\\esinet\\util\\util.py:388: RuntimeWarning: An average reference projection was already added. The data has been left untouched.\n",
      "  epochs.set_eeg_reference(projection=True, verbose=verbose)#.apply_baseline(baseline=baseline)\n"
     ]
    },
    {
     "name": "stdout",
     "output_type": "stream",
     "text": [
      "<RawArray | 61 x 546 (5.5 s), ~350 kB, data loaded> 4.0 info empirical\n",
      "<RawArray | 61 x 573 (5.7 s), ~363 kB, data loaded> 4.0 info empirical\n",
      "<RawArray | 61 x 438 (4.4 s), ~299 kB, data loaded> 4.0 info empirical\n",
      "<RawArray | 61 x 476 (4.8 s), ~317 kB, data loaded> 4.0 info empirical\n",
      "<RawArray | 61 x 522 (5.2 s), ~339 kB, data loaded> 4.0 info empirical\n"
     ]
    },
    {
     "name": "stderr",
     "output_type": "stream",
     "text": [
      "c:\\Users\\Lukas\\Documents\\projects\\esinet\\evaluate\\..\\esinet\\util\\util.py:420: RuntimeWarning: Too few samples (required : 310 got : 160), covariance estimate may be unreliable\n",
      "  data_cov = mne.compute_raw_covariance(raw, tmin=tmin,\n",
      "c:\\Users\\Lukas\\Documents\\projects\\esinet\\evaluate\\..\\esinet\\util\\util.py:388: RuntimeWarning: An average reference projection was already added. The data has been left untouched.\n",
      "  epochs.set_eeg_reference(projection=True, verbose=verbose)#.apply_baseline(baseline=baseline)\n",
      "c:\\Users\\Lukas\\Documents\\projects\\esinet\\evaluate\\..\\esinet\\util\\util.py:420: RuntimeWarning: Too few samples (required : 310 got : 20), covariance estimate may be unreliable\n",
      "  data_cov = mne.compute_raw_covariance(raw, tmin=tmin,\n",
      "c:\\Users\\Lukas\\Documents\\projects\\esinet\\evaluate\\..\\esinet\\util\\util.py:388: RuntimeWarning: An average reference projection was already added. The data has been left untouched.\n",
      "  epochs.set_eeg_reference(projection=True, verbose=verbose)#.apply_baseline(baseline=baseline)\n",
      "c:\\Users\\Lukas\\Documents\\projects\\esinet\\evaluate\\..\\esinet\\util\\util.py:420: RuntimeWarning: Too few samples (required : 310 got : 60), covariance estimate may be unreliable\n",
      "  data_cov = mne.compute_raw_covariance(raw, tmin=tmin,\n",
      "c:\\Users\\Lukas\\Documents\\projects\\esinet\\evaluate\\..\\esinet\\util\\util.py:388: RuntimeWarning: An average reference projection was already added. The data has been left untouched.\n",
      "  epochs.set_eeg_reference(projection=True, verbose=verbose)#.apply_baseline(baseline=baseline)\n",
      "c:\\Users\\Lukas\\Documents\\projects\\esinet\\evaluate\\..\\esinet\\util\\util.py:420: RuntimeWarning: Too few samples (required : 310 got : 120), covariance estimate may be unreliable\n",
      "  data_cov = mne.compute_raw_covariance(raw, tmin=tmin,\n",
      "c:\\Users\\Lukas\\Documents\\projects\\esinet\\evaluate\\..\\esinet\\util\\util.py:388: RuntimeWarning: An average reference projection was already added. The data has been left untouched.\n",
      "  epochs.set_eeg_reference(projection=True, verbose=verbose)#.apply_baseline(baseline=baseline)\n",
      "c:\\Users\\Lukas\\Documents\\projects\\esinet\\evaluate\\..\\esinet\\util\\util.py:420: RuntimeWarning: Too few samples (required : 310 got : 160), covariance estimate may be unreliable\n",
      "  data_cov = mne.compute_raw_covariance(raw, tmin=tmin,\n"
     ]
    },
    {
     "name": "stdout",
     "output_type": "stream",
     "text": [
      "<RawArray | 61 x 573 (5.7 s), ~363 kB, data loaded> 4.0 info empirical\n",
      "<RawArray | 61 x 455 (4.5 s), ~307 kB, data loaded> 4.0 info empirical\n",
      "<RawArray | 61 x 472 (4.7 s), ~315 kB, data loaded> 4.0 info empirical\n",
      "<RawArray | 61 x 407 (4.1 s), ~284 kB, data loaded> 4.0 info empirical\n"
     ]
    },
    {
     "name": "stderr",
     "output_type": "stream",
     "text": [
      "c:\\Users\\Lukas\\Documents\\projects\\esinet\\evaluate\\..\\esinet\\util\\util.py:388: RuntimeWarning: An average reference projection was already added. The data has been left untouched.\n",
      "  epochs.set_eeg_reference(projection=True, verbose=verbose)#.apply_baseline(baseline=baseline)\n",
      "c:\\Users\\Lukas\\Documents\\projects\\esinet\\evaluate\\..\\esinet\\util\\util.py:420: RuntimeWarning: Too few samples (required : 310 got : 40), covariance estimate may be unreliable\n",
      "  data_cov = mne.compute_raw_covariance(raw, tmin=tmin,\n",
      "c:\\Users\\Lukas\\Documents\\projects\\esinet\\evaluate\\..\\esinet\\util\\util.py:388: RuntimeWarning: An average reference projection was already added. The data has been left untouched.\n",
      "  epochs.set_eeg_reference(projection=True, verbose=verbose)#.apply_baseline(baseline=baseline)\n",
      "c:\\Users\\Lukas\\Documents\\projects\\esinet\\evaluate\\..\\esinet\\util\\util.py:420: RuntimeWarning: Too few samples (required : 310 got : 60), covariance estimate may be unreliable\n",
      "  data_cov = mne.compute_raw_covariance(raw, tmin=tmin,\n",
      "c:\\Users\\Lukas\\Documents\\projects\\esinet\\evaluate\\..\\esinet\\util\\util.py:388: RuntimeWarning: An average reference projection was already added. The data has been left untouched.\n",
      "  epochs.set_eeg_reference(projection=True, verbose=verbose)#.apply_baseline(baseline=baseline)\n",
      "c:\\Users\\Lukas\\Documents\\projects\\esinet\\evaluate\\..\\esinet\\util\\util.py:423: RuntimeWarning: Epochs are not baseline corrected, covariance matrix may be inaccurate\n",
      "  data_cov = mne.compute_covariance(epochs, tmin=0.0,\n",
      "c:\\Users\\Lukas\\Documents\\projects\\esinet\\evaluate\\..\\esinet\\util\\util.py:423: RuntimeWarning: Too few samples (required : 310 got : 7), covariance estimate may be unreliable\n",
      "  data_cov = mne.compute_covariance(epochs, tmin=0.0,\n",
      "c:\\Users\\Lukas\\Documents\\projects\\esinet\\evaluate\\..\\esinet\\util\\util.py:388: RuntimeWarning: An average reference projection was already added. The data has been left untouched.\n",
      "  epochs.set_eeg_reference(projection=True, verbose=verbose)#.apply_baseline(baseline=baseline)\n"
     ]
    },
    {
     "name": "stdout",
     "output_type": "stream",
     "text": [
      "<RawArray | 61 x 457 (4.6 s), ~308 kB, data loaded> 4.0 info empirical\n",
      "<RawArray | 61 x 539 (5.4 s), ~347 kB, data loaded> 4.0 info empirical\n",
      "<RawArray | 61 x 541 (5.4 s), ~348 kB, data loaded> 4.0 info empirical\n",
      "<RawArray | 61 x 477 (4.8 s), ~317 kB, data loaded> 4.0 info empirical\n",
      "<RawArray | 61 x 486 (4.8 s), ~321 kB, data loaded> 4.0 info empirical\n"
     ]
    },
    {
     "name": "stderr",
     "output_type": "stream",
     "text": [
      "c:\\Users\\Lukas\\Documents\\projects\\esinet\\evaluate\\..\\esinet\\util\\util.py:420: RuntimeWarning: Too few samples (required : 310 got : 40), covariance estimate may be unreliable\n",
      "  data_cov = mne.compute_raw_covariance(raw, tmin=tmin,\n",
      "c:\\Users\\Lukas\\Documents\\projects\\esinet\\evaluate\\..\\esinet\\util\\util.py:388: RuntimeWarning: An average reference projection was already added. The data has been left untouched.\n",
      "  epochs.set_eeg_reference(projection=True, verbose=verbose)#.apply_baseline(baseline=baseline)\n",
      "c:\\Users\\Lukas\\Documents\\projects\\esinet\\evaluate\\..\\esinet\\util\\util.py:420: RuntimeWarning: Too few samples (required : 310 got : 120), covariance estimate may be unreliable\n",
      "  data_cov = mne.compute_raw_covariance(raw, tmin=tmin,\n",
      "c:\\Users\\Lukas\\Documents\\projects\\esinet\\evaluate\\..\\esinet\\util\\util.py:388: RuntimeWarning: An average reference projection was already added. The data has been left untouched.\n",
      "  epochs.set_eeg_reference(projection=True, verbose=verbose)#.apply_baseline(baseline=baseline)\n",
      "c:\\Users\\Lukas\\Documents\\projects\\esinet\\evaluate\\..\\esinet\\util\\util.py:420: RuntimeWarning: Too few samples (required : 310 got : 140), covariance estimate may be unreliable\n",
      "  data_cov = mne.compute_raw_covariance(raw, tmin=tmin,\n",
      "c:\\Users\\Lukas\\Documents\\projects\\esinet\\evaluate\\..\\esinet\\util\\util.py:388: RuntimeWarning: An average reference projection was already added. The data has been left untouched.\n",
      "  epochs.set_eeg_reference(projection=True, verbose=verbose)#.apply_baseline(baseline=baseline)\n",
      "c:\\Users\\Lukas\\Documents\\projects\\esinet\\evaluate\\..\\esinet\\util\\util.py:420: RuntimeWarning: Too few samples (required : 310 got : 60), covariance estimate may be unreliable\n",
      "  data_cov = mne.compute_raw_covariance(raw, tmin=tmin,\n",
      "c:\\Users\\Lukas\\Documents\\projects\\esinet\\evaluate\\..\\esinet\\util\\util.py:388: RuntimeWarning: An average reference projection was already added. The data has been left untouched.\n",
      "  epochs.set_eeg_reference(projection=True, verbose=verbose)#.apply_baseline(baseline=baseline)\n",
      "c:\\Users\\Lukas\\Documents\\projects\\esinet\\evaluate\\..\\esinet\\util\\util.py:420: RuntimeWarning: Too few samples (required : 310 got : 80), covariance estimate may be unreliable\n",
      "  data_cov = mne.compute_raw_covariance(raw, tmin=tmin,\n",
      "c:\\Users\\Lukas\\Documents\\projects\\esinet\\evaluate\\..\\esinet\\util\\util.py:388: RuntimeWarning: An average reference projection was already added. The data has been left untouched.\n",
      "  epochs.set_eeg_reference(projection=True, verbose=verbose)#.apply_baseline(baseline=baseline)\n",
      "c:\\Users\\Lukas\\Documents\\projects\\esinet\\evaluate\\..\\esinet\\util\\util.py:423: RuntimeWarning: Epochs are not baseline corrected, covariance matrix may be inaccurate\n",
      "  data_cov = mne.compute_covariance(epochs, tmin=0.0,\n",
      "c:\\Users\\Lukas\\Documents\\projects\\esinet\\evaluate\\..\\esinet\\util\\util.py:423: RuntimeWarning: Too few samples (required : 310 got : 2), covariance estimate may be unreliable\n",
      "  data_cov = mne.compute_covariance(epochs, tmin=0.0,\n",
      "c:\\Users\\Lukas\\Documents\\projects\\esinet\\evaluate\\..\\esinet\\util\\util.py:388: RuntimeWarning: An average reference projection was already added. The data has been left untouched.\n",
      "  epochs.set_eeg_reference(projection=True, verbose=verbose)#.apply_baseline(baseline=baseline)\n",
      "c:\\Users\\Lukas\\Documents\\projects\\esinet\\evaluate\\..\\esinet\\util\\util.py:420: RuntimeWarning: Too few samples (required : 310 got : 120), covariance estimate may be unreliable\n",
      "  data_cov = mne.compute_raw_covariance(raw, tmin=tmin,\n",
      "c:\\Users\\Lukas\\Documents\\projects\\esinet\\evaluate\\..\\esinet\\util\\util.py:388: RuntimeWarning: An average reference projection was already added. The data has been left untouched.\n",
      "  epochs.set_eeg_reference(projection=True, verbose=verbose)#.apply_baseline(baseline=baseline)\n",
      "c:\\Users\\Lukas\\Documents\\projects\\esinet\\evaluate\\..\\esinet\\util\\util.py:420: RuntimeWarning: Too few samples (required : 310 got : 20), covariance estimate may be unreliable\n",
      "  data_cov = mne.compute_raw_covariance(raw, tmin=tmin,\n"
     ]
    },
    {
     "name": "stdout",
     "output_type": "stream",
     "text": [
      "<RawArray | 61 x 402 (4.0 s), ~281 kB, data loaded> 4.0 info empirical\n",
      "<RawArray | 61 x 524 (5.2 s), ~340 kB, data loaded> 4.0 info empirical\n",
      "<RawArray | 61 x 429 (4.3 s), ~294 kB, data loaded> 4.0 info empirical\n",
      "<RawArray | 61 x 428 (4.3 s), ~294 kB, data loaded> 4.0 info empirical\n"
     ]
    },
    {
     "name": "stderr",
     "output_type": "stream",
     "text": [
      "c:\\Users\\Lukas\\Documents\\projects\\esinet\\evaluate\\..\\esinet\\util\\util.py:388: RuntimeWarning: An average reference projection was already added. The data has been left untouched.\n",
      "  epochs.set_eeg_reference(projection=True, verbose=verbose)#.apply_baseline(baseline=baseline)\n",
      "c:\\Users\\Lukas\\Documents\\projects\\esinet\\evaluate\\..\\esinet\\util\\util.py:420: RuntimeWarning: Too few samples (required : 310 got : 20), covariance estimate may be unreliable\n",
      "  data_cov = mne.compute_raw_covariance(raw, tmin=tmin,\n",
      "c:\\Users\\Lukas\\Documents\\projects\\esinet\\evaluate\\..\\esinet\\util\\util.py:388: RuntimeWarning: An average reference projection was already added. The data has been left untouched.\n",
      "  epochs.set_eeg_reference(projection=True, verbose=verbose)#.apply_baseline(baseline=baseline)\n",
      "c:\\Users\\Lukas\\Documents\\projects\\esinet\\evaluate\\..\\esinet\\util\\util.py:420: RuntimeWarning: Too few samples (required : 310 got : 120), covariance estimate may be unreliable\n",
      "  data_cov = mne.compute_raw_covariance(raw, tmin=tmin,\n",
      "c:\\Users\\Lukas\\Documents\\projects\\esinet\\evaluate\\..\\esinet\\util\\util.py:388: RuntimeWarning: An average reference projection was already added. The data has been left untouched.\n",
      "  epochs.set_eeg_reference(projection=True, verbose=verbose)#.apply_baseline(baseline=baseline)\n",
      "c:\\Users\\Lukas\\Documents\\projects\\esinet\\evaluate\\..\\esinet\\util\\util.py:420: RuntimeWarning: Too few samples (required : 310 got : 60), covariance estimate may be unreliable\n",
      "  data_cov = mne.compute_raw_covariance(raw, tmin=tmin,\n",
      "c:\\Users\\Lukas\\Documents\\projects\\esinet\\evaluate\\..\\esinet\\util\\util.py:388: RuntimeWarning: An average reference projection was already added. The data has been left untouched.\n",
      "  epochs.set_eeg_reference(projection=True, verbose=verbose)#.apply_baseline(baseline=baseline)\n",
      "c:\\Users\\Lukas\\Documents\\projects\\esinet\\evaluate\\..\\esinet\\util\\util.py:420: RuntimeWarning: Too few samples (required : 310 got : 40), covariance estimate may be unreliable\n",
      "  data_cov = mne.compute_raw_covariance(raw, tmin=tmin,\n",
      "c:\\Users\\Lukas\\Documents\\projects\\esinet\\evaluate\\..\\esinet\\util\\util.py:388: RuntimeWarning: An average reference projection was already added. The data has been left untouched.\n",
      "  epochs.set_eeg_reference(projection=True, verbose=verbose)#.apply_baseline(baseline=baseline)\n"
     ]
    },
    {
     "name": "stdout",
     "output_type": "stream",
     "text": [
      "<RawArray | 61 x 521 (5.2 s), ~338 kB, data loaded> 4.0 info empirical\n",
      "<RawArray | 61 x 471 (4.7 s), ~314 kB, data loaded> 4.0 info empirical\n",
      "<RawArray | 61 x 451 (4.5 s), ~305 kB, data loaded> 4.0 info empirical\n",
      "<RawArray | 61 x 543 (5.4 s), ~349 kB, data loaded> 4.0 info empirical\n",
      "<RawArray | 61 x 555 (5.5 s), ~354 kB, data loaded>"
     ]
    },
    {
     "name": "stderr",
     "output_type": "stream",
     "text": [
      "c:\\Users\\Lukas\\Documents\\projects\\esinet\\evaluate\\..\\esinet\\util\\util.py:420: RuntimeWarning: Too few samples (required : 310 got : 140), covariance estimate may be unreliable\n",
      "  data_cov = mne.compute_raw_covariance(raw, tmin=tmin,\n",
      "c:\\Users\\Lukas\\Documents\\projects\\esinet\\evaluate\\..\\esinet\\util\\util.py:388: RuntimeWarning: An average reference projection was already added. The data has been left untouched.\n",
      "  epochs.set_eeg_reference(projection=True, verbose=verbose)#.apply_baseline(baseline=baseline)\n",
      "c:\\Users\\Lukas\\Documents\\projects\\esinet\\evaluate\\..\\esinet\\util\\util.py:420: RuntimeWarning: Too few samples (required : 310 got : 140), covariance estimate may be unreliable\n",
      "  data_cov = mne.compute_raw_covariance(raw, tmin=tmin,\n",
      "c:\\Users\\Lukas\\Documents\\projects\\esinet\\evaluate\\..\\esinet\\util\\util.py:388: RuntimeWarning: An average reference projection was already added. The data has been left untouched.\n",
      "  epochs.set_eeg_reference(projection=True, verbose=verbose)#.apply_baseline(baseline=baseline)\n",
      "c:\\Users\\Lukas\\Documents\\projects\\esinet\\evaluate\\..\\esinet\\util\\util.py:420: RuntimeWarning: Too few samples (required : 310 got : 120), covariance estimate may be unreliable\n",
      "  data_cov = mne.compute_raw_covariance(raw, tmin=tmin,\n",
      "c:\\Users\\Lukas\\Documents\\projects\\esinet\\evaluate\\..\\esinet\\util\\util.py:388: RuntimeWarning: An average reference projection was already added. The data has been left untouched.\n",
      "  epochs.set_eeg_reference(projection=True, verbose=verbose)#.apply_baseline(baseline=baseline)\n",
      "c:\\Users\\Lukas\\Documents\\projects\\esinet\\evaluate\\..\\esinet\\util\\util.py:420: RuntimeWarning: Too few samples (required : 310 got : 40), covariance estimate may be unreliable\n",
      "  data_cov = mne.compute_raw_covariance(raw, tmin=tmin,\n",
      "c:\\Users\\Lukas\\Documents\\projects\\esinet\\evaluate\\..\\esinet\\util\\util.py:388: RuntimeWarning: An average reference projection was already added. The data has been left untouched.\n",
      "  epochs.set_eeg_reference(projection=True, verbose=verbose)#.apply_baseline(baseline=baseline)\n"
     ]
    },
    {
     "name": "stdout",
     "output_type": "stream",
     "text": [
      " 4.0 info empirical\n",
      "<RawArray | 61 x 523 (5.2 s), ~339 kB, data loaded> 4.0 info empirical\n",
      "<RawArray | 61 x 440 (4.4 s), ~299 kB, data loaded> 4.0 info empirical\n",
      "<RawArray | 61 x 498 (5.0 s), ~327 kB, data loaded> 4.0 info empirical\n"
     ]
    },
    {
     "name": "stderr",
     "output_type": "stream",
     "text": [
      "c:\\Users\\Lukas\\Documents\\projects\\esinet\\evaluate\\..\\esinet\\util\\util.py:420: RuntimeWarning: Too few samples (required : 310 got : 80), covariance estimate may be unreliable\n",
      "  data_cov = mne.compute_raw_covariance(raw, tmin=tmin,\n",
      "c:\\Users\\Lukas\\Documents\\projects\\esinet\\evaluate\\..\\esinet\\util\\util.py:388: RuntimeWarning: An average reference projection was already added. The data has been left untouched.\n",
      "  epochs.set_eeg_reference(projection=True, verbose=verbose)#.apply_baseline(baseline=baseline)\n",
      "c:\\Users\\Lukas\\Documents\\projects\\esinet\\evaluate\\..\\esinet\\util\\util.py:420: RuntimeWarning: Too few samples (required : 310 got : 140), covariance estimate may be unreliable\n",
      "  data_cov = mne.compute_raw_covariance(raw, tmin=tmin,\n",
      "c:\\Users\\Lukas\\Documents\\projects\\esinet\\evaluate\\..\\esinet\\util\\util.py:388: RuntimeWarning: An average reference projection was already added. The data has been left untouched.\n",
      "  epochs.set_eeg_reference(projection=True, verbose=verbose)#.apply_baseline(baseline=baseline)\n",
      "c:\\Users\\Lukas\\Documents\\projects\\esinet\\evaluate\\..\\esinet\\util\\util.py:420: RuntimeWarning: Too few samples (required : 310 got : 120), covariance estimate may be unreliable\n",
      "  data_cov = mne.compute_raw_covariance(raw, tmin=tmin,\n",
      "c:\\Users\\Lukas\\Documents\\projects\\esinet\\evaluate\\..\\esinet\\util\\util.py:388: RuntimeWarning: An average reference projection was already added. The data has been left untouched.\n",
      "  epochs.set_eeg_reference(projection=True, verbose=verbose)#.apply_baseline(baseline=baseline)\n",
      "c:\\Users\\Lukas\\Documents\\projects\\esinet\\evaluate\\..\\esinet\\util\\util.py:420: RuntimeWarning: Too few samples (required : 310 got : 40), covariance estimate may be unreliable\n",
      "  data_cov = mne.compute_raw_covariance(raw, tmin=tmin,\n"
     ]
    },
    {
     "name": "stdout",
     "output_type": "stream",
     "text": [
      "<RawArray | 61 x 545 (5.4 s), ~350 kB, data loaded> 4.0 info empirical\n",
      "<RawArray | 61 x 534 (5.3 s), ~344 kB, data loaded> 4.0 info empirical\n",
      "<RawArray | 61 x 441 (4.4 s), ~300 kB, data loaded> 4.0 info empirical\n",
      "<RawArray | 61 x 476 (4.8 s), ~317 kB, data loaded> 4.0 info empirical\n",
      "<RawArray | 61 x 475 (4.7 s), ~316 kB, data loaded> 4.0 info empirical\n"
     ]
    },
    {
     "name": "stderr",
     "output_type": "stream",
     "text": [
      "c:\\Users\\Lukas\\Documents\\projects\\esinet\\evaluate\\..\\esinet\\util\\util.py:388: RuntimeWarning: An average reference projection was already added. The data has been left untouched.\n",
      "  epochs.set_eeg_reference(projection=True, verbose=verbose)#.apply_baseline(baseline=baseline)\n",
      "c:\\Users\\Lukas\\Documents\\projects\\esinet\\evaluate\\..\\esinet\\util\\util.py:420: RuntimeWarning: Too few samples (required : 310 got : 60), covariance estimate may be unreliable\n",
      "  data_cov = mne.compute_raw_covariance(raw, tmin=tmin,\n",
      "c:\\Users\\Lukas\\Documents\\projects\\esinet\\evaluate\\..\\esinet\\util\\util.py:388: RuntimeWarning: An average reference projection was already added. The data has been left untouched.\n",
      "  epochs.set_eeg_reference(projection=True, verbose=verbose)#.apply_baseline(baseline=baseline)\n",
      "c:\\Users\\Lukas\\Documents\\projects\\esinet\\evaluate\\..\\esinet\\util\\util.py:420: RuntimeWarning: Too few samples (required : 310 got : 60), covariance estimate may be unreliable\n",
      "  data_cov = mne.compute_raw_covariance(raw, tmin=tmin,\n",
      "c:\\Users\\Lukas\\Documents\\projects\\esinet\\evaluate\\..\\esinet\\util\\util.py:388: RuntimeWarning: An average reference projection was already added. The data has been left untouched.\n",
      "  epochs.set_eeg_reference(projection=True, verbose=verbose)#.apply_baseline(baseline=baseline)\n",
      "c:\\Users\\Lukas\\Documents\\projects\\esinet\\evaluate\\..\\esinet\\util\\util.py:420: RuntimeWarning: Too few samples (required : 310 got : 120), covariance estimate may be unreliable\n",
      "  data_cov = mne.compute_raw_covariance(raw, tmin=tmin,\n",
      "c:\\Users\\Lukas\\Documents\\projects\\esinet\\evaluate\\..\\esinet\\util\\util.py:388: RuntimeWarning: An average reference projection was already added. The data has been left untouched.\n",
      "  epochs.set_eeg_reference(projection=True, verbose=verbose)#.apply_baseline(baseline=baseline)\n",
      "c:\\Users\\Lukas\\Documents\\projects\\esinet\\evaluate\\..\\esinet\\util\\util.py:420: RuntimeWarning: Too few samples (required : 310 got : 140), covariance estimate may be unreliable\n",
      "  data_cov = mne.compute_raw_covariance(raw, tmin=tmin,\n",
      "c:\\Users\\Lukas\\Documents\\projects\\esinet\\evaluate\\..\\esinet\\util\\util.py:388: RuntimeWarning: An average reference projection was already added. The data has been left untouched.\n",
      "  epochs.set_eeg_reference(projection=True, verbose=verbose)#.apply_baseline(baseline=baseline)\n"
     ]
    },
    {
     "name": "stdout",
     "output_type": "stream",
     "text": [
      "<RawArray | 61 x 532 (5.3 s), ~343 kB, data loaded> 4.0 info empirical\n",
      "<RawArray | 61 x 550 (5.5 s), ~352 kB, data loaded> 4.0 info empirical\n",
      "<RawArray | 61 x 429 (4.3 s), ~294 kB, data loaded> 4.0 info empirical\n",
      "<RawArray | 61 x 423 (4.2 s), ~291 kB, data loaded> 4.0 info empirical\n",
      "<RawArray | 61 x 472 (4.7 s), ~315 kB, data loaded> 4.0 info empirical\n"
     ]
    },
    {
     "name": "stderr",
     "output_type": "stream",
     "text": [
      "c:\\Users\\Lukas\\Documents\\projects\\esinet\\evaluate\\..\\esinet\\util\\util.py:420: RuntimeWarning: Too few samples (required : 310 got : 20), covariance estimate may be unreliable\n",
      "  data_cov = mne.compute_raw_covariance(raw, tmin=tmin,\n",
      "c:\\Users\\Lukas\\Documents\\projects\\esinet\\evaluate\\..\\esinet\\util\\util.py:388: RuntimeWarning: An average reference projection was already added. The data has been left untouched.\n",
      "  epochs.set_eeg_reference(projection=True, verbose=verbose)#.apply_baseline(baseline=baseline)\n",
      "c:\\Users\\Lukas\\Documents\\projects\\esinet\\evaluate\\..\\esinet\\util\\util.py:420: RuntimeWarning: Too few samples (required : 310 got : 20), covariance estimate may be unreliable\n",
      "  data_cov = mne.compute_raw_covariance(raw, tmin=tmin,\n",
      "c:\\Users\\Lukas\\Documents\\projects\\esinet\\evaluate\\..\\esinet\\util\\util.py:388: RuntimeWarning: An average reference projection was already added. The data has been left untouched.\n",
      "  epochs.set_eeg_reference(projection=True, verbose=verbose)#.apply_baseline(baseline=baseline)\n",
      "c:\\Users\\Lukas\\Documents\\projects\\esinet\\evaluate\\..\\esinet\\util\\util.py:420: RuntimeWarning: Too few samples (required : 310 got : 60), covariance estimate may be unreliable\n",
      "  data_cov = mne.compute_raw_covariance(raw, tmin=tmin,\n",
      "c:\\Users\\Lukas\\Documents\\projects\\esinet\\evaluate\\..\\esinet\\util\\util.py:388: RuntimeWarning: An average reference projection was already added. The data has been left untouched.\n",
      "  epochs.set_eeg_reference(projection=True, verbose=verbose)#.apply_baseline(baseline=baseline)\n",
      "c:\\Users\\Lukas\\Documents\\projects\\esinet\\evaluate\\..\\esinet\\util\\util.py:420: RuntimeWarning: Too few samples (required : 310 got : 180), covariance estimate may be unreliable\n",
      "  data_cov = mne.compute_raw_covariance(raw, tmin=tmin,\n",
      "c:\\Users\\Lukas\\Documents\\projects\\esinet\\evaluate\\..\\esinet\\util\\util.py:388: RuntimeWarning: An average reference projection was already added. The data has been left untouched.\n",
      "  epochs.set_eeg_reference(projection=True, verbose=verbose)#.apply_baseline(baseline=baseline)\n"
     ]
    },
    {
     "name": "stdout",
     "output_type": "stream",
     "text": [
      "<RawArray | 61 x 592 (5.9 s), ~372 kB, data loaded> 4.0 info empirical\n",
      "<RawArray | 61 x 434 (4.3 s), ~297 kB, data loaded> 4.0 info empirical\n",
      "<RawArray | 61 x 466 (4.7 s), ~312 kB, data loaded> 4.0 info empirical\n",
      "<RawArray | 61 x 589 (5.9 s), ~371 kB, data loaded> 4.0 info empirical\n"
     ]
    },
    {
     "name": "stderr",
     "output_type": "stream",
     "text": [
      "c:\\Users\\Lukas\\Documents\\projects\\esinet\\evaluate\\..\\esinet\\util\\util.py:420: RuntimeWarning: Too few samples (required : 310 got : 20), covariance estimate may be unreliable\n",
      "  data_cov = mne.compute_raw_covariance(raw, tmin=tmin,\n",
      "c:\\Users\\Lukas\\Documents\\projects\\esinet\\evaluate\\..\\esinet\\util\\util.py:388: RuntimeWarning: An average reference projection was already added. The data has been left untouched.\n",
      "  epochs.set_eeg_reference(projection=True, verbose=verbose)#.apply_baseline(baseline=baseline)\n",
      "c:\\Users\\Lukas\\Documents\\projects\\esinet\\evaluate\\..\\esinet\\util\\util.py:420: RuntimeWarning: Too few samples (required : 310 got : 60), covariance estimate may be unreliable\n",
      "  data_cov = mne.compute_raw_covariance(raw, tmin=tmin,\n",
      "c:\\Users\\Lukas\\Documents\\projects\\esinet\\evaluate\\..\\esinet\\util\\util.py:388: RuntimeWarning: An average reference projection was already added. The data has been left untouched.\n",
      "  epochs.set_eeg_reference(projection=True, verbose=verbose)#.apply_baseline(baseline=baseline)\n",
      "c:\\Users\\Lukas\\Documents\\projects\\esinet\\evaluate\\..\\esinet\\util\\util.py:420: RuntimeWarning: Too few samples (required : 310 got : 180), covariance estimate may be unreliable\n",
      "  data_cov = mne.compute_raw_covariance(raw, tmin=tmin,\n",
      "c:\\Users\\Lukas\\Documents\\projects\\esinet\\evaluate\\..\\esinet\\util\\util.py:388: RuntimeWarning: An average reference projection was already added. The data has been left untouched.\n",
      "  epochs.set_eeg_reference(projection=True, verbose=verbose)#.apply_baseline(baseline=baseline)\n",
      "c:\\Users\\Lukas\\Documents\\projects\\esinet\\evaluate\\..\\esinet\\util\\util.py:420: RuntimeWarning: Too few samples (required : 310 got : 40), covariance estimate may be unreliable\n",
      "  data_cov = mne.compute_raw_covariance(raw, tmin=tmin,\n"
     ]
    },
    {
     "name": "stdout",
     "output_type": "stream",
     "text": [
      "<RawArray | 61 x 443 (4.4 s), ~301 kB, data loaded> 4.0 info empirical\n",
      "<RawArray | 61 x 593 (5.9 s), ~372 kB, data loaded> 4.0 info empirical\n",
      "<RawArray | 61 x 584 (5.8 s), ~368 kB, data loaded> 4.0 info empirical\n",
      "<RawArray | 61 x 416 (4.2 s), ~288 kB, data loaded> 4.0 info empirical\n"
     ]
    },
    {
     "name": "stderr",
     "output_type": "stream",
     "text": [
      "c:\\Users\\Lukas\\Documents\\projects\\esinet\\evaluate\\..\\esinet\\util\\util.py:388: RuntimeWarning: An average reference projection was already added. The data has been left untouched.\n",
      "  epochs.set_eeg_reference(projection=True, verbose=verbose)#.apply_baseline(baseline=baseline)\n",
      "c:\\Users\\Lukas\\Documents\\projects\\esinet\\evaluate\\..\\esinet\\util\\util.py:420: RuntimeWarning: Too few samples (required : 310 got : 180), covariance estimate may be unreliable\n",
      "  data_cov = mne.compute_raw_covariance(raw, tmin=tmin,\n",
      "c:\\Users\\Lukas\\Documents\\projects\\esinet\\evaluate\\..\\esinet\\util\\util.py:388: RuntimeWarning: An average reference projection was already added. The data has been left untouched.\n",
      "  epochs.set_eeg_reference(projection=True, verbose=verbose)#.apply_baseline(baseline=baseline)\n",
      "c:\\Users\\Lukas\\Documents\\projects\\esinet\\evaluate\\..\\esinet\\util\\util.py:420: RuntimeWarning: Too few samples (required : 310 got : 180), covariance estimate may be unreliable\n",
      "  data_cov = mne.compute_raw_covariance(raw, tmin=tmin,\n",
      "c:\\Users\\Lukas\\Documents\\projects\\esinet\\evaluate\\..\\esinet\\util\\util.py:388: RuntimeWarning: An average reference projection was already added. The data has been left untouched.\n",
      "  epochs.set_eeg_reference(projection=True, verbose=verbose)#.apply_baseline(baseline=baseline)\n",
      "c:\\Users\\Lukas\\Documents\\projects\\esinet\\evaluate\\..\\esinet\\util\\util.py:423: RuntimeWarning: Epochs are not baseline corrected, covariance matrix may be inaccurate\n",
      "  data_cov = mne.compute_covariance(epochs, tmin=0.0,\n",
      "c:\\Users\\Lukas\\Documents\\projects\\esinet\\evaluate\\..\\esinet\\util\\util.py:423: RuntimeWarning: Too few samples (required : 310 got : 16), covariance estimate may be unreliable\n",
      "  data_cov = mne.compute_covariance(epochs, tmin=0.0,\n",
      "c:\\Users\\Lukas\\Documents\\projects\\esinet\\evaluate\\..\\esinet\\util\\util.py:388: RuntimeWarning: An average reference projection was already added. The data has been left untouched.\n",
      "  epochs.set_eeg_reference(projection=True, verbose=verbose)#.apply_baseline(baseline=baseline)\n",
      "c:\\Users\\Lukas\\Documents\\projects\\esinet\\evaluate\\..\\esinet\\util\\util.py:420: RuntimeWarning: Too few samples (required : 310 got : 40), covariance estimate may be unreliable\n",
      "  data_cov = mne.compute_raw_covariance(raw, tmin=tmin,\n",
      "c:\\Users\\Lukas\\Documents\\projects\\esinet\\evaluate\\..\\esinet\\util\\util.py:388: RuntimeWarning: An average reference projection was already added. The data has been left untouched.\n",
      "  epochs.set_eeg_reference(projection=True, verbose=verbose)#.apply_baseline(baseline=baseline)\n"
     ]
    },
    {
     "name": "stdout",
     "output_type": "stream",
     "text": [
      "<RawArray | 61 x 453 (4.5 s), ~306 kB, data loaded> 4.0 info empirical\n",
      "<RawArray | 61 x 440 (4.4 s), ~299 kB, data loaded> 4.0 info empirical\n",
      "<RawArray | 61 x 501 (5.0 s), ~329 kB, data loaded> 4.0 info empirical\n",
      "<RawArray | 61 x 420 (4.2 s), ~290 kB, data loaded> 4.0 info empirical\n",
      "<RawArray | 61 x 434 (4.3 s), ~297 kB, data loaded> 4.0 info empirical\n"
     ]
    },
    {
     "name": "stderr",
     "output_type": "stream",
     "text": [
      "c:\\Users\\Lukas\\Documents\\projects\\esinet\\evaluate\\..\\esinet\\util\\util.py:420: RuntimeWarning: Too few samples (required : 310 got : 40), covariance estimate may be unreliable\n",
      "  data_cov = mne.compute_raw_covariance(raw, tmin=tmin,\n",
      "c:\\Users\\Lukas\\Documents\\projects\\esinet\\evaluate\\..\\esinet\\util\\util.py:388: RuntimeWarning: An average reference projection was already added. The data has been left untouched.\n",
      "  epochs.set_eeg_reference(projection=True, verbose=verbose)#.apply_baseline(baseline=baseline)\n",
      "c:\\Users\\Lukas\\Documents\\projects\\esinet\\evaluate\\..\\esinet\\util\\util.py:420: RuntimeWarning: Too few samples (required : 310 got : 100), covariance estimate may be unreliable\n",
      "  data_cov = mne.compute_raw_covariance(raw, tmin=tmin,\n",
      "c:\\Users\\Lukas\\Documents\\projects\\esinet\\evaluate\\..\\esinet\\util\\util.py:388: RuntimeWarning: An average reference projection was already added. The data has been left untouched.\n",
      "  epochs.set_eeg_reference(projection=True, verbose=verbose)#.apply_baseline(baseline=baseline)\n",
      "c:\\Users\\Lukas\\Documents\\projects\\esinet\\evaluate\\..\\esinet\\util\\util.py:420: RuntimeWarning: Too few samples (required : 310 got : 20), covariance estimate may be unreliable\n",
      "  data_cov = mne.compute_raw_covariance(raw, tmin=tmin,\n",
      "c:\\Users\\Lukas\\Documents\\projects\\esinet\\evaluate\\..\\esinet\\util\\util.py:388: RuntimeWarning: An average reference projection was already added. The data has been left untouched.\n",
      "  epochs.set_eeg_reference(projection=True, verbose=verbose)#.apply_baseline(baseline=baseline)\n",
      "c:\\Users\\Lukas\\Documents\\projects\\esinet\\evaluate\\..\\esinet\\util\\util.py:420: RuntimeWarning: Too few samples (required : 310 got : 20), covariance estimate may be unreliable\n",
      "  data_cov = mne.compute_raw_covariance(raw, tmin=tmin,\n",
      "c:\\Users\\Lukas\\Documents\\projects\\esinet\\evaluate\\..\\esinet\\util\\util.py:388: RuntimeWarning: An average reference projection was already added. The data has been left untouched.\n",
      "  epochs.set_eeg_reference(projection=True, verbose=verbose)#.apply_baseline(baseline=baseline)\n",
      "c:\\Users\\Lukas\\Documents\\projects\\esinet\\evaluate\\..\\esinet\\util\\util.py:420: RuntimeWarning: Too few samples (required : 310 got : 100), covariance estimate may be unreliable\n",
      "  data_cov = mne.compute_raw_covariance(raw, tmin=tmin,\n",
      "c:\\Users\\Lukas\\Documents\\projects\\esinet\\evaluate\\..\\esinet\\util\\util.py:388: RuntimeWarning: An average reference projection was already added. The data has been left untouched.\n",
      "  epochs.set_eeg_reference(projection=True, verbose=verbose)#.apply_baseline(baseline=baseline)\n",
      "c:\\Users\\Lukas\\Documents\\projects\\esinet\\evaluate\\..\\esinet\\util\\util.py:423: RuntimeWarning: Epochs are not baseline corrected, covariance matrix may be inaccurate\n",
      "  data_cov = mne.compute_covariance(epochs, tmin=0.0,\n",
      "c:\\Users\\Lukas\\Documents\\projects\\esinet\\evaluate\\..\\esinet\\util\\util.py:423: RuntimeWarning: Too few samples (required : 310 got : 19), covariance estimate may be unreliable\n",
      "  data_cov = mne.compute_covariance(epochs, tmin=0.0,\n",
      "c:\\Users\\Lukas\\Documents\\projects\\esinet\\evaluate\\..\\esinet\\util\\util.py:388: RuntimeWarning: An average reference projection was already added. The data has been left untouched.\n",
      "  epochs.set_eeg_reference(projection=True, verbose=verbose)#.apply_baseline(baseline=baseline)\n",
      "c:\\Users\\Lukas\\Documents\\projects\\esinet\\evaluate\\..\\esinet\\util\\util.py:420: RuntimeWarning: Too few samples (required : 310 got : 180), covariance estimate may be unreliable\n",
      "  data_cov = mne.compute_raw_covariance(raw, tmin=tmin,\n",
      "c:\\Users\\Lukas\\Documents\\projects\\esinet\\evaluate\\..\\esinet\\util\\util.py:388: RuntimeWarning: An average reference projection was already added. The data has been left untouched.\n",
      "  epochs.set_eeg_reference(projection=True, verbose=verbose)#.apply_baseline(baseline=baseline)\n",
      "c:\\Users\\Lukas\\Documents\\projects\\esinet\\evaluate\\..\\esinet\\util\\util.py:420: RuntimeWarning: Too few samples (required : 310 got : 20), covariance estimate may be unreliable\n",
      "  data_cov = mne.compute_raw_covariance(raw, tmin=tmin,\n"
     ]
    },
    {
     "name": "stdout",
     "output_type": "stream",
     "text": [
      "<RawArray | 61 x 512 (5.1 s), ~334 kB, data loaded> 4.0 info empirical\n",
      "<RawArray | 61 x 419 (4.2 s), ~289 kB, data loaded> 4.0 info empirical\n",
      "<RawArray | 61 x 596 (6.0 s), ~374 kB, data loaded> 4.0 info empirical\n",
      "<RawArray | 61 x 422 (4.2 s), ~291 kB, data loaded> 4.0 info empirical\n"
     ]
    },
    {
     "name": "stderr",
     "output_type": "stream",
     "text": [
      "c:\\Users\\Lukas\\Documents\\projects\\esinet\\evaluate\\..\\esinet\\util\\util.py:388: RuntimeWarning: An average reference projection was already added. The data has been left untouched.\n",
      "  epochs.set_eeg_reference(projection=True, verbose=verbose)#.apply_baseline(baseline=baseline)\n",
      "c:\\Users\\Lukas\\Documents\\projects\\esinet\\evaluate\\..\\esinet\\util\\util.py:420: RuntimeWarning: Too few samples (required : 310 got : 100), covariance estimate may be unreliable\n",
      "  data_cov = mne.compute_raw_covariance(raw, tmin=tmin,\n",
      "c:\\Users\\Lukas\\Documents\\projects\\esinet\\evaluate\\..\\esinet\\util\\util.py:388: RuntimeWarning: An average reference projection was already added. The data has been left untouched.\n",
      "  epochs.set_eeg_reference(projection=True, verbose=verbose)#.apply_baseline(baseline=baseline)\n",
      "c:\\Users\\Lukas\\Documents\\projects\\esinet\\evaluate\\..\\esinet\\util\\util.py:420: RuntimeWarning: Too few samples (required : 310 got : 20), covariance estimate may be unreliable\n",
      "  data_cov = mne.compute_raw_covariance(raw, tmin=tmin,\n",
      "c:\\Users\\Lukas\\Documents\\projects\\esinet\\evaluate\\..\\esinet\\util\\util.py:388: RuntimeWarning: An average reference projection was already added. The data has been left untouched.\n",
      "  epochs.set_eeg_reference(projection=True, verbose=verbose)#.apply_baseline(baseline=baseline)\n",
      "c:\\Users\\Lukas\\Documents\\projects\\esinet\\evaluate\\..\\esinet\\util\\util.py:420: RuntimeWarning: Too few samples (required : 310 got : 20), covariance estimate may be unreliable\n",
      "  data_cov = mne.compute_raw_covariance(raw, tmin=tmin,\n",
      "c:\\Users\\Lukas\\Documents\\projects\\esinet\\evaluate\\..\\esinet\\util\\util.py:388: RuntimeWarning: An average reference projection was already added. The data has been left untouched.\n",
      "  epochs.set_eeg_reference(projection=True, verbose=verbose)#.apply_baseline(baseline=baseline)\n",
      "c:\\Users\\Lukas\\Documents\\projects\\esinet\\evaluate\\..\\esinet\\util\\util.py:420: RuntimeWarning: Too few samples (required : 310 got : 140), covariance estimate may be unreliable\n",
      "  data_cov = mne.compute_raw_covariance(raw, tmin=tmin,\n",
      "c:\\Users\\Lukas\\Documents\\projects\\esinet\\evaluate\\..\\esinet\\util\\util.py:388: RuntimeWarning: An average reference projection was already added. The data has been left untouched.\n",
      "  epochs.set_eeg_reference(projection=True, verbose=verbose)#.apply_baseline(baseline=baseline)\n"
     ]
    },
    {
     "name": "stdout",
     "output_type": "stream",
     "text": [
      "<RawArray | 61 x 507 (5.1 s), ~331 kB, data loaded> 4.0 info empirical\n",
      "<RawArray | 61 x 423 (4.2 s), ~291 kB, data loaded> 4.0 info empirical\n",
      "<RawArray | 61 x 434 (4.3 s), ~297 kB, data loaded> 4.0 info empirical\n",
      "<RawArray | 61 x 551 (5.5 s), ~352 kB, data loaded> 4.0 info empirical\n",
      "<RawArray | 61 x 420 (4.2 s), ~290 kB, data loaded> 4.0 info empirical\n"
     ]
    },
    {
     "name": "stderr",
     "output_type": "stream",
     "text": [
      "c:\\Users\\Lukas\\Documents\\projects\\esinet\\evaluate\\..\\esinet\\util\\util.py:420: RuntimeWarning: Too few samples (required : 310 got : 20), covariance estimate may be unreliable\n",
      "  data_cov = mne.compute_raw_covariance(raw, tmin=tmin,\n",
      "c:\\Users\\Lukas\\Documents\\projects\\esinet\\evaluate\\..\\esinet\\util\\util.py:388: RuntimeWarning: An average reference projection was already added. The data has been left untouched.\n",
      "  epochs.set_eeg_reference(projection=True, verbose=verbose)#.apply_baseline(baseline=baseline)\n",
      "c:\\Users\\Lukas\\Documents\\projects\\esinet\\evaluate\\..\\esinet\\util\\util.py:420: RuntimeWarning: Too few samples (required : 310 got : 180), covariance estimate may be unreliable\n",
      "  data_cov = mne.compute_raw_covariance(raw, tmin=tmin,\n",
      "c:\\Users\\Lukas\\Documents\\projects\\esinet\\evaluate\\..\\esinet\\util\\util.py:388: RuntimeWarning: An average reference projection was already added. The data has been left untouched.\n",
      "  epochs.set_eeg_reference(projection=True, verbose=verbose)#.apply_baseline(baseline=baseline)\n",
      "c:\\Users\\Lukas\\Documents\\projects\\esinet\\evaluate\\..\\esinet\\util\\util.py:420: RuntimeWarning: Too few samples (required : 310 got : 160), covariance estimate may be unreliable\n",
      "  data_cov = mne.compute_raw_covariance(raw, tmin=tmin,\n",
      "c:\\Users\\Lukas\\Documents\\projects\\esinet\\evaluate\\..\\esinet\\util\\util.py:388: RuntimeWarning: An average reference projection was already added. The data has been left untouched.\n",
      "  epochs.set_eeg_reference(projection=True, verbose=verbose)#.apply_baseline(baseline=baseline)\n",
      "c:\\Users\\Lukas\\Documents\\projects\\esinet\\evaluate\\..\\esinet\\util\\util.py:420: RuntimeWarning: Too few samples (required : 310 got : 60), covariance estimate may be unreliable\n",
      "  data_cov = mne.compute_raw_covariance(raw, tmin=tmin,\n",
      "c:\\Users\\Lukas\\Documents\\projects\\esinet\\evaluate\\..\\esinet\\util\\util.py:388: RuntimeWarning: An average reference projection was already added. The data has been left untouched.\n",
      "  epochs.set_eeg_reference(projection=True, verbose=verbose)#.apply_baseline(baseline=baseline)\n"
     ]
    },
    {
     "name": "stdout",
     "output_type": "stream",
     "text": [
      "<RawArray | 61 x 580 (5.8 s), ~366 kB, data loaded> 4.0 info empirical\n",
      "<RawArray | 61 x 560 (5.6 s), ~357 kB, data loaded> 4.0 info empirical\n",
      "<RawArray | 61 x 462 (4.6 s), ~310 kB, data loaded> 4.0 info empirical\n",
      "<RawArray | 61 x 503 (5.0 s), ~330 kB, data loaded> 4.0 info empirical\n"
     ]
    },
    {
     "name": "stderr",
     "output_type": "stream",
     "text": [
      "c:\\Users\\Lukas\\Documents\\projects\\esinet\\evaluate\\..\\esinet\\util\\util.py:420: RuntimeWarning: Too few samples (required : 310 got : 100), covariance estimate may be unreliable\n",
      "  data_cov = mne.compute_raw_covariance(raw, tmin=tmin,\n",
      "c:\\Users\\Lukas\\Documents\\projects\\esinet\\evaluate\\..\\esinet\\util\\util.py:388: RuntimeWarning: An average reference projection was already added. The data has been left untouched.\n",
      "  epochs.set_eeg_reference(projection=True, verbose=verbose)#.apply_baseline(baseline=baseline)\n",
      "c:\\Users\\Lukas\\Documents\\projects\\esinet\\evaluate\\..\\esinet\\util\\util.py:423: RuntimeWarning: Epochs are not baseline corrected, covariance matrix may be inaccurate\n",
      "  data_cov = mne.compute_covariance(epochs, tmin=0.0,\n",
      "c:\\Users\\Lukas\\Documents\\projects\\esinet\\evaluate\\..\\esinet\\util\\util.py:423: RuntimeWarning: Too few samples (required : 310 got : 9), covariance estimate may be unreliable\n",
      "  data_cov = mne.compute_covariance(epochs, tmin=0.0,\n",
      "c:\\Users\\Lukas\\Documents\\projects\\esinet\\evaluate\\..\\esinet\\util\\util.py:388: RuntimeWarning: An average reference projection was already added. The data has been left untouched.\n",
      "  epochs.set_eeg_reference(projection=True, verbose=verbose)#.apply_baseline(baseline=baseline)\n",
      "c:\\Users\\Lukas\\Documents\\projects\\esinet\\evaluate\\..\\esinet\\util\\util.py:420: RuntimeWarning: Too few samples (required : 310 got : 80), covariance estimate may be unreliable\n",
      "  data_cov = mne.compute_raw_covariance(raw, tmin=tmin,\n",
      "c:\\Users\\Lukas\\Documents\\projects\\esinet\\evaluate\\..\\esinet\\util\\util.py:388: RuntimeWarning: An average reference projection was already added. The data has been left untouched.\n",
      "  epochs.set_eeg_reference(projection=True, verbose=verbose)#.apply_baseline(baseline=baseline)\n",
      "c:\\Users\\Lukas\\Documents\\projects\\esinet\\evaluate\\..\\esinet\\util\\util.py:420: RuntimeWarning: Too few samples (required : 310 got : 80), covariance estimate may be unreliable\n",
      "  data_cov = mne.compute_raw_covariance(raw, tmin=tmin,\n"
     ]
    },
    {
     "name": "stdout",
     "output_type": "stream",
     "text": [
      "<RawArray | 61 x 409 (4.1 s), ~285 kB, data loaded> 4.0 info empirical\n",
      "<RawArray | 61 x 480 (4.8 s), ~319 kB, data loaded> 4.0 info empirical\n",
      "<RawArray | 61 x 488 (4.9 s), ~322 kB, data loaded> 4.0 info empirical\n",
      "<RawArray | 61 x 495 (4.9 s), ~326 kB, data loaded> 4.0 info empirical\n"
     ]
    },
    {
     "name": "stderr",
     "output_type": "stream",
     "text": [
      "c:\\Users\\Lukas\\Documents\\projects\\esinet\\evaluate\\..\\esinet\\util\\util.py:388: RuntimeWarning: An average reference projection was already added. The data has been left untouched.\n",
      "  epochs.set_eeg_reference(projection=True, verbose=verbose)#.apply_baseline(baseline=baseline)\n",
      "c:\\Users\\Lukas\\Documents\\projects\\esinet\\evaluate\\..\\esinet\\util\\util.py:420: RuntimeWarning: Too few samples (required : 310 got : 80), covariance estimate may be unreliable\n",
      "  data_cov = mne.compute_raw_covariance(raw, tmin=tmin,\n",
      "c:\\Users\\Lukas\\Documents\\projects\\esinet\\evaluate\\..\\esinet\\util\\util.py:388: RuntimeWarning: An average reference projection was already added. The data has been left untouched.\n",
      "  epochs.set_eeg_reference(projection=True, verbose=verbose)#.apply_baseline(baseline=baseline)\n",
      "c:\\Users\\Lukas\\Documents\\projects\\esinet\\evaluate\\..\\esinet\\util\\util.py:420: RuntimeWarning: Too few samples (required : 310 got : 140), covariance estimate may be unreliable\n",
      "  data_cov = mne.compute_raw_covariance(raw, tmin=tmin,\n",
      "c:\\Users\\Lukas\\Documents\\projects\\esinet\\evaluate\\..\\esinet\\util\\util.py:388: RuntimeWarning: An average reference projection was already added. The data has been left untouched.\n",
      "  epochs.set_eeg_reference(projection=True, verbose=verbose)#.apply_baseline(baseline=baseline)\n",
      "c:\\Users\\Lukas\\Documents\\projects\\esinet\\evaluate\\..\\esinet\\util\\util.py:420: RuntimeWarning: Too few samples (required : 310 got : 40), covariance estimate may be unreliable\n",
      "  data_cov = mne.compute_raw_covariance(raw, tmin=tmin,\n",
      "c:\\Users\\Lukas\\Documents\\projects\\esinet\\evaluate\\..\\esinet\\util\\util.py:388: RuntimeWarning: An average reference projection was already added. The data has been left untouched.\n",
      "  epochs.set_eeg_reference(projection=True, verbose=verbose)#.apply_baseline(baseline=baseline)\n",
      "c:\\Users\\Lukas\\Documents\\projects\\esinet\\evaluate\\..\\esinet\\util\\util.py:420: RuntimeWarning: Too few samples (required : 310 got : 140), covariance estimate may be unreliable\n",
      "  data_cov = mne.compute_raw_covariance(raw, tmin=tmin,\n",
      "c:\\Users\\Lukas\\Documents\\projects\\esinet\\evaluate\\..\\esinet\\util\\util.py:388: RuntimeWarning: An average reference projection was already added. The data has been left untouched.\n",
      "  epochs.set_eeg_reference(projection=True, verbose=verbose)#.apply_baseline(baseline=baseline)\n"
     ]
    },
    {
     "name": "stdout",
     "output_type": "stream",
     "text": [
      "<RawArray | 61 x 553 (5.5 s), ~353 kB, data loaded> 4.0 info empirical\n",
      "<RawArray | 61 x 456 (4.5 s), ~307 kB, data loaded> 4.0 info empirical\n",
      "<RawArray | 61 x 546 (5.5 s), ~350 kB, data loaded> 4.0 info empirical\n",
      "<RawArray | 61 x 555 (5.5 s), ~354 kB, data loaded> 4.0 info empirical\n"
     ]
    },
    {
     "name": "stderr",
     "output_type": "stream",
     "text": [
      "c:\\Users\\Lukas\\Documents\\projects\\esinet\\evaluate\\..\\esinet\\util\\util.py:420: RuntimeWarning: Too few samples (required : 310 got : 140), covariance estimate may be unreliable\n",
      "  data_cov = mne.compute_raw_covariance(raw, tmin=tmin,\n",
      "c:\\Users\\Lukas\\Documents\\projects\\esinet\\evaluate\\..\\esinet\\util\\util.py:388: RuntimeWarning: An average reference projection was already added. The data has been left untouched.\n",
      "  epochs.set_eeg_reference(projection=True, verbose=verbose)#.apply_baseline(baseline=baseline)\n",
      "c:\\Users\\Lukas\\Documents\\projects\\esinet\\evaluate\\..\\esinet\\util\\util.py:423: RuntimeWarning: Epochs are not baseline corrected, covariance matrix may be inaccurate\n",
      "  data_cov = mne.compute_covariance(epochs, tmin=0.0,\n",
      "c:\\Users\\Lukas\\Documents\\projects\\esinet\\evaluate\\..\\esinet\\util\\util.py:423: RuntimeWarning: Too few samples (required : 310 got : 5), covariance estimate may be unreliable\n",
      "  data_cov = mne.compute_covariance(epochs, tmin=0.0,\n",
      "c:\\Users\\Lukas\\Documents\\projects\\esinet\\evaluate\\..\\esinet\\util\\util.py:388: RuntimeWarning: An average reference projection was already added. The data has been left untouched.\n",
      "  epochs.set_eeg_reference(projection=True, verbose=verbose)#.apply_baseline(baseline=baseline)\n",
      "c:\\Users\\Lukas\\Documents\\projects\\esinet\\evaluate\\..\\esinet\\util\\util.py:420: RuntimeWarning: Too few samples (required : 310 got : 40), covariance estimate may be unreliable\n",
      "  data_cov = mne.compute_raw_covariance(raw, tmin=tmin,\n",
      "c:\\Users\\Lukas\\Documents\\projects\\esinet\\evaluate\\..\\esinet\\util\\util.py:388: RuntimeWarning: An average reference projection was already added. The data has been left untouched.\n",
      "  epochs.set_eeg_reference(projection=True, verbose=verbose)#.apply_baseline(baseline=baseline)\n",
      "c:\\Users\\Lukas\\Documents\\projects\\esinet\\evaluate\\..\\esinet\\util\\util.py:420: RuntimeWarning: Too few samples (required : 310 got : 80), covariance estimate may be unreliable\n",
      "  data_cov = mne.compute_raw_covariance(raw, tmin=tmin,\n",
      "c:\\Users\\Lukas\\Documents\\projects\\esinet\\evaluate\\..\\esinet\\util\\util.py:388: RuntimeWarning: An average reference projection was already added. The data has been left untouched.\n",
      "  epochs.set_eeg_reference(projection=True, verbose=verbose)#.apply_baseline(baseline=baseline)\n"
     ]
    },
    {
     "name": "stdout",
     "output_type": "stream",
     "text": [
      "<RawArray | 61 x 405 (4.0 s), ~283 kB, data loaded> 4.0 info empirical\n",
      "<RawArray | 61 x 457 (4.6 s), ~308 kB, data loaded> 4.0 info empirical\n",
      "<RawArray | 61 x 492 (4.9 s), ~324 kB, data loaded> 4.0 info empirical\n",
      "<RawArray | 61 x 422 (4.2 s), ~291 kB, data loaded> 4.0 info empirical\n"
     ]
    },
    {
     "name": "stderr",
     "output_type": "stream",
     "text": [
      "c:\\Users\\Lukas\\Documents\\projects\\esinet\\evaluate\\..\\esinet\\util\\util.py:420: RuntimeWarning: Too few samples (required : 310 got : 20), covariance estimate may be unreliable\n",
      "  data_cov = mne.compute_raw_covariance(raw, tmin=tmin,\n",
      "c:\\Users\\Lukas\\Documents\\projects\\esinet\\evaluate\\..\\esinet\\util\\util.py:388: RuntimeWarning: An average reference projection was already added. The data has been left untouched.\n",
      "  epochs.set_eeg_reference(projection=True, verbose=verbose)#.apply_baseline(baseline=baseline)\n",
      "c:\\Users\\Lukas\\Documents\\projects\\esinet\\evaluate\\..\\esinet\\util\\util.py:420: RuntimeWarning: Too few samples (required : 310 got : 120), covariance estimate may be unreliable\n",
      "  data_cov = mne.compute_raw_covariance(raw, tmin=tmin,\n",
      "c:\\Users\\Lukas\\Documents\\projects\\esinet\\evaluate\\..\\esinet\\util\\util.py:388: RuntimeWarning: An average reference projection was already added. The data has been left untouched.\n",
      "  epochs.set_eeg_reference(projection=True, verbose=verbose)#.apply_baseline(baseline=baseline)\n",
      "c:\\Users\\Lukas\\Documents\\projects\\esinet\\evaluate\\..\\esinet\\util\\util.py:420: RuntimeWarning: Too few samples (required : 310 got : 40), covariance estimate may be unreliable\n",
      "  data_cov = mne.compute_raw_covariance(raw, tmin=tmin,\n",
      "c:\\Users\\Lukas\\Documents\\projects\\esinet\\evaluate\\..\\esinet\\util\\util.py:388: RuntimeWarning: An average reference projection was already added. The data has been left untouched.\n",
      "  epochs.set_eeg_reference(projection=True, verbose=verbose)#.apply_baseline(baseline=baseline)\n",
      "c:\\Users\\Lukas\\Documents\\projects\\esinet\\evaluate\\..\\esinet\\util\\util.py:420: RuntimeWarning: Too few samples (required : 310 got : 180), covariance estimate may be unreliable\n",
      "  data_cov = mne.compute_raw_covariance(raw, tmin=tmin,\n",
      "c:\\Users\\Lukas\\Documents\\projects\\esinet\\evaluate\\..\\esinet\\util\\util.py:388: RuntimeWarning: An average reference projection was already added. The data has been left untouched.\n",
      "  epochs.set_eeg_reference(projection=True, verbose=verbose)#.apply_baseline(baseline=baseline)\n"
     ]
    },
    {
     "name": "stdout",
     "output_type": "stream",
     "text": [
      "<RawArray | 61 x 528 (5.3 s), ~341 kB, data loaded> 4.0 info empirical\n",
      "<RawArray | 61 x 450 (4.5 s), ~304 kB, data loaded> 4.0 info empirical\n",
      "<RawArray | 61 x 594 (5.9 s), ~373 kB, data loaded> 4.0 info empirical\n",
      "<RawArray | 61 x 585 (5.8 s), ~369 kB, data loaded> 4.0 info empirical\n",
      "<RawArray | 61 x 492 (4.9 s), ~324 kB, data loaded> 4.0 info empirical\n"
     ]
    },
    {
     "name": "stderr",
     "output_type": "stream",
     "text": [
      "c:\\Users\\Lukas\\Documents\\projects\\esinet\\evaluate\\..\\esinet\\util\\util.py:420: RuntimeWarning: Too few samples (required : 310 got : 180), covariance estimate may be unreliable\n",
      "  data_cov = mne.compute_raw_covariance(raw, tmin=tmin,\n",
      "c:\\Users\\Lukas\\Documents\\projects\\esinet\\evaluate\\..\\esinet\\util\\util.py:388: RuntimeWarning: An average reference projection was already added. The data has been left untouched.\n",
      "  epochs.set_eeg_reference(projection=True, verbose=verbose)#.apply_baseline(baseline=baseline)\n",
      "c:\\Users\\Lukas\\Documents\\projects\\esinet\\evaluate\\..\\esinet\\util\\util.py:420: RuntimeWarning: Too few samples (required : 310 got : 80), covariance estimate may be unreliable\n",
      "  data_cov = mne.compute_raw_covariance(raw, tmin=tmin,\n",
      "c:\\Users\\Lukas\\Documents\\projects\\esinet\\evaluate\\..\\esinet\\util\\util.py:388: RuntimeWarning: An average reference projection was already added. The data has been left untouched.\n",
      "  epochs.set_eeg_reference(projection=True, verbose=verbose)#.apply_baseline(baseline=baseline)\n",
      "c:\\Users\\Lukas\\Documents\\projects\\esinet\\evaluate\\..\\esinet\\util\\util.py:420: RuntimeWarning: Too few samples (required : 310 got : 20), covariance estimate may be unreliable\n",
      "  data_cov = mne.compute_raw_covariance(raw, tmin=tmin,\n",
      "c:\\Users\\Lukas\\Documents\\projects\\esinet\\evaluate\\..\\esinet\\util\\util.py:388: RuntimeWarning: An average reference projection was already added. The data has been left untouched.\n",
      "  epochs.set_eeg_reference(projection=True, verbose=verbose)#.apply_baseline(baseline=baseline)\n",
      "c:\\Users\\Lukas\\Documents\\projects\\esinet\\evaluate\\..\\esinet\\util\\util.py:420: RuntimeWarning: Too few samples (required : 310 got : 140), covariance estimate may be unreliable\n",
      "  data_cov = mne.compute_raw_covariance(raw, tmin=tmin,\n",
      "c:\\Users\\Lukas\\Documents\\projects\\esinet\\evaluate\\..\\esinet\\util\\util.py:388: RuntimeWarning: An average reference projection was already added. The data has been left untouched.\n",
      "  epochs.set_eeg_reference(projection=True, verbose=verbose)#.apply_baseline(baseline=baseline)\n"
     ]
    },
    {
     "name": "stdout",
     "output_type": "stream",
     "text": [
      "<RawArray | 61 x 429 (4.3 s), ~294 kB, data loaded> 4.0 info empirical\n",
      "<RawArray | 61 x 550 (5.5 s), ~352 kB, data loaded> 4.0 info empirical\n",
      "<RawArray | 61 x 593 (5.9 s), ~372 kB, data loaded> 4.0 info empirical\n",
      "<RawArray | 61 x 532 (5.3 s), ~343 kB, data loaded> 4.0 info empirical\n"
     ]
    },
    {
     "name": "stderr",
     "output_type": "stream",
     "text": [
      "c:\\Users\\Lukas\\Documents\\projects\\esinet\\evaluate\\..\\esinet\\util\\util.py:420: RuntimeWarning: Too few samples (required : 310 got : 180), covariance estimate may be unreliable\n",
      "  data_cov = mne.compute_raw_covariance(raw, tmin=tmin,\n",
      "c:\\Users\\Lukas\\Documents\\projects\\esinet\\evaluate\\..\\esinet\\util\\util.py:388: RuntimeWarning: An average reference projection was already added. The data has been left untouched.\n",
      "  epochs.set_eeg_reference(projection=True, verbose=verbose)#.apply_baseline(baseline=baseline)\n",
      "c:\\Users\\Lukas\\Documents\\projects\\esinet\\evaluate\\..\\esinet\\util\\util.py:420: RuntimeWarning: Too few samples (required : 310 got : 120), covariance estimate may be unreliable\n",
      "  data_cov = mne.compute_raw_covariance(raw, tmin=tmin,\n",
      "c:\\Users\\Lukas\\Documents\\projects\\esinet\\evaluate\\..\\esinet\\util\\util.py:388: RuntimeWarning: An average reference projection was already added. The data has been left untouched.\n",
      "  epochs.set_eeg_reference(projection=True, verbose=verbose)#.apply_baseline(baseline=baseline)\n",
      "c:\\Users\\Lukas\\Documents\\projects\\esinet\\evaluate\\..\\esinet\\util\\util.py:420: RuntimeWarning: Too few samples (required : 310 got : 80), covariance estimate may be unreliable\n",
      "  data_cov = mne.compute_raw_covariance(raw, tmin=tmin,\n",
      "c:\\Users\\Lukas\\Documents\\projects\\esinet\\evaluate\\..\\esinet\\util\\util.py:388: RuntimeWarning: An average reference projection was already added. The data has been left untouched.\n",
      "  epochs.set_eeg_reference(projection=True, verbose=verbose)#.apply_baseline(baseline=baseline)\n",
      "c:\\Users\\Lukas\\Documents\\projects\\esinet\\evaluate\\..\\esinet\\util\\util.py:420: RuntimeWarning: Too few samples (required : 310 got : 80), covariance estimate may be unreliable\n",
      "  data_cov = mne.compute_raw_covariance(raw, tmin=tmin,\n",
      "c:\\Users\\Lukas\\Documents\\projects\\esinet\\evaluate\\..\\esinet\\util\\util.py:388: RuntimeWarning: An average reference projection was already added. The data has been left untouched.\n",
      "  epochs.set_eeg_reference(projection=True, verbose=verbose)#.apply_baseline(baseline=baseline)\n"
     ]
    },
    {
     "name": "stdout",
     "output_type": "stream",
     "text": [
      "<RawArray | 61 x 498 (5.0 s), ~327 kB, data loaded> 4.0 info empirical\n",
      "<RawArray | 61 x 494 (4.9 s), ~325 kB, data loaded> 4.0 info empirical\n",
      "<RawArray | 61 x 462 (4.6 s), ~310 kB, data loaded> 4.0 info empirical\n",
      "<RawArray | 61 x 442 (4.4 s), ~300 kB, data loaded> 4.0 info empirical\n",
      "<RawArray | 61 x 415 (4.1 s), ~288 kB, data loaded> 4.0 info empirical\n"
     ]
    },
    {
     "name": "stderr",
     "output_type": "stream",
     "text": [
      "c:\\Users\\Lukas\\Documents\\projects\\esinet\\evaluate\\..\\esinet\\util\\util.py:420: RuntimeWarning: Too few samples (required : 310 got : 60), covariance estimate may be unreliable\n",
      "  data_cov = mne.compute_raw_covariance(raw, tmin=tmin,\n",
      "c:\\Users\\Lukas\\Documents\\projects\\esinet\\evaluate\\..\\esinet\\util\\util.py:388: RuntimeWarning: An average reference projection was already added. The data has been left untouched.\n",
      "  epochs.set_eeg_reference(projection=True, verbose=verbose)#.apply_baseline(baseline=baseline)\n",
      "c:\\Users\\Lukas\\Documents\\projects\\esinet\\evaluate\\..\\esinet\\util\\util.py:420: RuntimeWarning: Too few samples (required : 310 got : 40), covariance estimate may be unreliable\n",
      "  data_cov = mne.compute_raw_covariance(raw, tmin=tmin,\n",
      "c:\\Users\\Lukas\\Documents\\projects\\esinet\\evaluate\\..\\esinet\\util\\util.py:388: RuntimeWarning: An average reference projection was already added. The data has been left untouched.\n",
      "  epochs.set_eeg_reference(projection=True, verbose=verbose)#.apply_baseline(baseline=baseline)\n",
      "c:\\Users\\Lukas\\Documents\\projects\\esinet\\evaluate\\..\\esinet\\util\\util.py:423: RuntimeWarning: Epochs are not baseline corrected, covariance matrix may be inaccurate\n",
      "  data_cov = mne.compute_covariance(epochs, tmin=0.0,\n",
      "c:\\Users\\Lukas\\Documents\\projects\\esinet\\evaluate\\..\\esinet\\util\\util.py:423: RuntimeWarning: Too few samples (required : 310 got : 15), covariance estimate may be unreliable\n",
      "  data_cov = mne.compute_covariance(epochs, tmin=0.0,\n",
      "c:\\Users\\Lukas\\Documents\\projects\\esinet\\evaluate\\..\\esinet\\util\\util.py:388: RuntimeWarning: An average reference projection was already added. The data has been left untouched.\n",
      "  epochs.set_eeg_reference(projection=True, verbose=verbose)#.apply_baseline(baseline=baseline)\n",
      "c:\\Users\\Lukas\\Documents\\projects\\esinet\\evaluate\\..\\esinet\\util\\util.py:420: RuntimeWarning: Too few samples (required : 310 got : 100), covariance estimate may be unreliable\n",
      "  data_cov = mne.compute_raw_covariance(raw, tmin=tmin,\n",
      "c:\\Users\\Lukas\\Documents\\projects\\esinet\\evaluate\\..\\esinet\\util\\util.py:388: RuntimeWarning: An average reference projection was already added. The data has been left untouched.\n",
      "  epochs.set_eeg_reference(projection=True, verbose=verbose)#.apply_baseline(baseline=baseline)\n"
     ]
    },
    {
     "name": "stdout",
     "output_type": "stream",
     "text": [
      "<RawArray | 61 x 501 (5.0 s), ~329 kB, data loaded> 4.0 info empirical\n",
      "<RawArray | 61 x 491 (4.9 s), ~324 kB, data loaded> 4.0 info empirical\n",
      "<RawArray | 61 x 409 (4.1 s), ~285 kB, data loaded> 4.0 info empirical\n",
      "<RawArray | 61 x 564 (5.6 s), ~359 kB, data loaded> 4.0 info empirical\n"
     ]
    },
    {
     "name": "stderr",
     "output_type": "stream",
     "text": [
      "c:\\Users\\Lukas\\Documents\\projects\\esinet\\evaluate\\..\\esinet\\util\\util.py:420: RuntimeWarning: Too few samples (required : 310 got : 80), covariance estimate may be unreliable\n",
      "  data_cov = mne.compute_raw_covariance(raw, tmin=tmin,\n",
      "c:\\Users\\Lukas\\Documents\\projects\\esinet\\evaluate\\..\\esinet\\util\\util.py:388: RuntimeWarning: An average reference projection was already added. The data has been left untouched.\n",
      "  epochs.set_eeg_reference(projection=True, verbose=verbose)#.apply_baseline(baseline=baseline)\n",
      "c:\\Users\\Lukas\\Documents\\projects\\esinet\\evaluate\\..\\esinet\\util\\util.py:423: RuntimeWarning: Epochs are not baseline corrected, covariance matrix may be inaccurate\n",
      "  data_cov = mne.compute_covariance(epochs, tmin=0.0,\n",
      "c:\\Users\\Lukas\\Documents\\projects\\esinet\\evaluate\\..\\esinet\\util\\util.py:423: RuntimeWarning: Too few samples (required : 310 got : 9), covariance estimate may be unreliable\n",
      "  data_cov = mne.compute_covariance(epochs, tmin=0.0,\n",
      "c:\\Users\\Lukas\\Documents\\projects\\esinet\\evaluate\\..\\esinet\\util\\util.py:388: RuntimeWarning: An average reference projection was already added. The data has been left untouched.\n",
      "  epochs.set_eeg_reference(projection=True, verbose=verbose)#.apply_baseline(baseline=baseline)\n",
      "c:\\Users\\Lukas\\Documents\\projects\\esinet\\evaluate\\..\\esinet\\util\\util.py:420: RuntimeWarning: Too few samples (required : 310 got : 160), covariance estimate may be unreliable\n",
      "  data_cov = mne.compute_raw_covariance(raw, tmin=tmin,\n",
      "c:\\Users\\Lukas\\Documents\\projects\\esinet\\evaluate\\..\\esinet\\util\\util.py:388: RuntimeWarning: An average reference projection was already added. The data has been left untouched.\n",
      "  epochs.set_eeg_reference(projection=True, verbose=verbose)#.apply_baseline(baseline=baseline)\n",
      "c:\\Users\\Lukas\\Documents\\projects\\esinet\\evaluate\\..\\esinet\\util\\util.py:420: RuntimeWarning: Too few samples (required : 310 got : 80), covariance estimate may be unreliable\n",
      "  data_cov = mne.compute_raw_covariance(raw, tmin=tmin,\n",
      "c:\\Users\\Lukas\\Documents\\projects\\esinet\\evaluate\\..\\esinet\\util\\util.py:388: RuntimeWarning: An average reference projection was already added. The data has been left untouched.\n",
      "  epochs.set_eeg_reference(projection=True, verbose=verbose)#.apply_baseline(baseline=baseline)\n"
     ]
    },
    {
     "name": "stdout",
     "output_type": "stream",
     "text": [
      "<RawArray | 61 x 491 (4.9 s), ~324 kB, data loaded> 4.0 info empirical\n",
      "<RawArray | 61 x 530 (5.3 s), ~342 kB, data loaded> 4.0 info empirical\n",
      "<RawArray | 61 x 451 (4.5 s), ~305 kB, data loaded> 4.0 info empirical\n",
      "<RawArray | 61 x 534 (5.3 s), ~344 kB, data loaded> 4.0 info empirical\n",
      "<RawArray | 61 x 581 (5.8 s), ~367 kB, data loaded> 4.0 info empirical\n"
     ]
    },
    {
     "name": "stderr",
     "output_type": "stream",
     "text": [
      "c:\\Users\\Lukas\\Documents\\projects\\esinet\\evaluate\\..\\esinet\\util\\util.py:420: RuntimeWarning: Too few samples (required : 310 got : 120), covariance estimate may be unreliable\n",
      "  data_cov = mne.compute_raw_covariance(raw, tmin=tmin,\n",
      "c:\\Users\\Lukas\\Documents\\projects\\esinet\\evaluate\\..\\esinet\\util\\util.py:388: RuntimeWarning: An average reference projection was already added. The data has been left untouched.\n",
      "  epochs.set_eeg_reference(projection=True, verbose=verbose)#.apply_baseline(baseline=baseline)\n",
      "c:\\Users\\Lukas\\Documents\\projects\\esinet\\evaluate\\..\\esinet\\util\\util.py:420: RuntimeWarning: Too few samples (required : 310 got : 40), covariance estimate may be unreliable\n",
      "  data_cov = mne.compute_raw_covariance(raw, tmin=tmin,\n",
      "c:\\Users\\Lukas\\Documents\\projects\\esinet\\evaluate\\..\\esinet\\util\\util.py:388: RuntimeWarning: An average reference projection was already added. The data has been left untouched.\n",
      "  epochs.set_eeg_reference(projection=True, verbose=verbose)#.apply_baseline(baseline=baseline)\n",
      "c:\\Users\\Lukas\\Documents\\projects\\esinet\\evaluate\\..\\esinet\\util\\util.py:420: RuntimeWarning: Too few samples (required : 310 got : 120), covariance estimate may be unreliable\n",
      "  data_cov = mne.compute_raw_covariance(raw, tmin=tmin,\n",
      "c:\\Users\\Lukas\\Documents\\projects\\esinet\\evaluate\\..\\esinet\\util\\util.py:388: RuntimeWarning: An average reference projection was already added. The data has been left untouched.\n",
      "  epochs.set_eeg_reference(projection=True, verbose=verbose)#.apply_baseline(baseline=baseline)\n",
      "c:\\Users\\Lukas\\Documents\\projects\\esinet\\evaluate\\..\\esinet\\util\\util.py:420: RuntimeWarning: Too few samples (required : 310 got : 180), covariance estimate may be unreliable\n",
      "  data_cov = mne.compute_raw_covariance(raw, tmin=tmin,\n",
      "c:\\Users\\Lukas\\Documents\\projects\\esinet\\evaluate\\..\\esinet\\util\\util.py:388: RuntimeWarning: An average reference projection was already added. The data has been left untouched.\n",
      "  epochs.set_eeg_reference(projection=True, verbose=verbose)#.apply_baseline(baseline=baseline)\n"
     ]
    },
    {
     "name": "stdout",
     "output_type": "stream",
     "text": [
      "<RawArray | 61 x 453 (4.5 s), ~306 kB, data loaded> 4.0 info empirical\n",
      "<RawArray | 61 x 583 (5.8 s), ~368 kB, data loaded> 4.0 info empirical\n",
      "<RawArray | 61 x 597 (6.0 s), ~374 kB, data loaded> 4.0 info empirical\n",
      "<RawArray | 61 x 445 (4.4 s), ~302 kB, data loaded> 4.0 info empirical\n"
     ]
    },
    {
     "name": "stderr",
     "output_type": "stream",
     "text": [
      "c:\\Users\\Lukas\\Documents\\projects\\esinet\\evaluate\\..\\esinet\\util\\util.py:420: RuntimeWarning: Too few samples (required : 310 got : 40), covariance estimate may be unreliable\n",
      "  data_cov = mne.compute_raw_covariance(raw, tmin=tmin,\n",
      "c:\\Users\\Lukas\\Documents\\projects\\esinet\\evaluate\\..\\esinet\\util\\util.py:388: RuntimeWarning: An average reference projection was already added. The data has been left untouched.\n",
      "  epochs.set_eeg_reference(projection=True, verbose=verbose)#.apply_baseline(baseline=baseline)\n",
      "c:\\Users\\Lukas\\Documents\\projects\\esinet\\evaluate\\..\\esinet\\util\\util.py:420: RuntimeWarning: Too few samples (required : 310 got : 180), covariance estimate may be unreliable\n",
      "  data_cov = mne.compute_raw_covariance(raw, tmin=tmin,\n",
      "c:\\Users\\Lukas\\Documents\\projects\\esinet\\evaluate\\..\\esinet\\util\\util.py:388: RuntimeWarning: An average reference projection was already added. The data has been left untouched.\n",
      "  epochs.set_eeg_reference(projection=True, verbose=verbose)#.apply_baseline(baseline=baseline)\n",
      "c:\\Users\\Lukas\\Documents\\projects\\esinet\\evaluate\\..\\esinet\\util\\util.py:420: RuntimeWarning: Too few samples (required : 310 got : 180), covariance estimate may be unreliable\n",
      "  data_cov = mne.compute_raw_covariance(raw, tmin=tmin,\n",
      "c:\\Users\\Lukas\\Documents\\projects\\esinet\\evaluate\\..\\esinet\\util\\util.py:388: RuntimeWarning: An average reference projection was already added. The data has been left untouched.\n",
      "  epochs.set_eeg_reference(projection=True, verbose=verbose)#.apply_baseline(baseline=baseline)\n",
      "c:\\Users\\Lukas\\Documents\\projects\\esinet\\evaluate\\..\\esinet\\util\\util.py:420: RuntimeWarning: Too few samples (required : 310 got : 40), covariance estimate may be unreliable\n",
      "  data_cov = mne.compute_raw_covariance(raw, tmin=tmin,\n"
     ]
    },
    {
     "name": "stdout",
     "output_type": "stream",
     "text": [
      "<RawArray | 61 x 435 (4.3 s), ~297 kB, data loaded> 4.0 info empirical\n",
      "<RawArray | 61 x 566 (5.7 s), ~360 kB, data loaded> 4.0 info empirical\n",
      "<RawArray | 61 x 529 (5.3 s), ~342 kB, data loaded> 4.0 info empirical\n",
      "<RawArray | 61 x 529 (5.3 s), ~342 kB, data loaded> 4.0 info empirical\n",
      "<RawArray | 61 x 412 (4.1 s), ~286 kB, data loaded> 4.0 info empirical\n"
     ]
    },
    {
     "name": "stderr",
     "output_type": "stream",
     "text": [
      "c:\\Users\\Lukas\\Documents\\projects\\esinet\\evaluate\\..\\esinet\\util\\util.py:388: RuntimeWarning: An average reference projection was already added. The data has been left untouched.\n",
      "  epochs.set_eeg_reference(projection=True, verbose=verbose)#.apply_baseline(baseline=baseline)\n",
      "c:\\Users\\Lukas\\Documents\\projects\\esinet\\evaluate\\..\\esinet\\util\\util.py:420: RuntimeWarning: Too few samples (required : 310 got : 20), covariance estimate may be unreliable\n",
      "  data_cov = mne.compute_raw_covariance(raw, tmin=tmin,\n",
      "c:\\Users\\Lukas\\Documents\\projects\\esinet\\evaluate\\..\\esinet\\util\\util.py:388: RuntimeWarning: An average reference projection was already added. The data has been left untouched.\n",
      "  epochs.set_eeg_reference(projection=True, verbose=verbose)#.apply_baseline(baseline=baseline)\n",
      "c:\\Users\\Lukas\\Documents\\projects\\esinet\\evaluate\\..\\esinet\\util\\util.py:420: RuntimeWarning: Too few samples (required : 310 got : 160), covariance estimate may be unreliable\n",
      "  data_cov = mne.compute_raw_covariance(raw, tmin=tmin,\n",
      "c:\\Users\\Lukas\\Documents\\projects\\esinet\\evaluate\\..\\esinet\\util\\util.py:388: RuntimeWarning: An average reference projection was already added. The data has been left untouched.\n",
      "  epochs.set_eeg_reference(projection=True, verbose=verbose)#.apply_baseline(baseline=baseline)\n",
      "c:\\Users\\Lukas\\Documents\\projects\\esinet\\evaluate\\..\\esinet\\util\\util.py:420: RuntimeWarning: Too few samples (required : 310 got : 120), covariance estimate may be unreliable\n",
      "  data_cov = mne.compute_raw_covariance(raw, tmin=tmin,\n",
      "c:\\Users\\Lukas\\Documents\\projects\\esinet\\evaluate\\..\\esinet\\util\\util.py:388: RuntimeWarning: An average reference projection was already added. The data has been left untouched.\n",
      "  epochs.set_eeg_reference(projection=True, verbose=verbose)#.apply_baseline(baseline=baseline)\n",
      "c:\\Users\\Lukas\\Documents\\projects\\esinet\\evaluate\\..\\esinet\\util\\util.py:420: RuntimeWarning: Too few samples (required : 310 got : 120), covariance estimate may be unreliable\n",
      "  data_cov = mne.compute_raw_covariance(raw, tmin=tmin,\n",
      "c:\\Users\\Lukas\\Documents\\projects\\esinet\\evaluate\\..\\esinet\\util\\util.py:388: RuntimeWarning: An average reference projection was already added. The data has been left untouched.\n",
      "  epochs.set_eeg_reference(projection=True, verbose=verbose)#.apply_baseline(baseline=baseline)\n",
      "c:\\Users\\Lukas\\Documents\\projects\\esinet\\evaluate\\..\\esinet\\util\\util.py:423: RuntimeWarning: Epochs are not baseline corrected, covariance matrix may be inaccurate\n",
      "  data_cov = mne.compute_covariance(epochs, tmin=0.0,\n",
      "c:\\Users\\Lukas\\Documents\\projects\\esinet\\evaluate\\..\\esinet\\util\\util.py:423: RuntimeWarning: Too few samples (required : 310 got : 12), covariance estimate may be unreliable\n",
      "  data_cov = mne.compute_covariance(epochs, tmin=0.0,\n",
      "c:\\Users\\Lukas\\Documents\\projects\\esinet\\evaluate\\..\\esinet\\util\\util.py:388: RuntimeWarning: An average reference projection was already added. The data has been left untouched.\n",
      "  epochs.set_eeg_reference(projection=True, verbose=verbose)#.apply_baseline(baseline=baseline)\n",
      "c:\\Users\\Lukas\\Documents\\projects\\esinet\\evaluate\\..\\esinet\\util\\util.py:420: RuntimeWarning: Too few samples (required : 310 got : 120), covariance estimate may be unreliable\n",
      "  data_cov = mne.compute_raw_covariance(raw, tmin=tmin,\n",
      "c:\\Users\\Lukas\\Documents\\projects\\esinet\\evaluate\\..\\esinet\\util\\util.py:388: RuntimeWarning: An average reference projection was already added. The data has been left untouched.\n",
      "  epochs.set_eeg_reference(projection=True, verbose=verbose)#.apply_baseline(baseline=baseline)\n",
      "c:\\Users\\Lukas\\Documents\\projects\\esinet\\evaluate\\..\\esinet\\util\\util.py:420: RuntimeWarning: Too few samples (required : 310 got : 60), covariance estimate may be unreliable\n",
      "  data_cov = mne.compute_raw_covariance(raw, tmin=tmin,\n",
      "c:\\Users\\Lukas\\Documents\\projects\\esinet\\evaluate\\..\\esinet\\util\\util.py:388: RuntimeWarning: An average reference projection was already added. The data has been left untouched.\n",
      "  epochs.set_eeg_reference(projection=True, verbose=verbose)#.apply_baseline(baseline=baseline)\n",
      "c:\\Users\\Lukas\\Documents\\projects\\esinet\\evaluate\\..\\esinet\\util\\util.py:420: RuntimeWarning: Too few samples (required : 310 got : 20), covariance estimate may be unreliable\n",
      "  data_cov = mne.compute_raw_covariance(raw, tmin=tmin,\n",
      "c:\\Users\\Lukas\\Documents\\projects\\esinet\\evaluate\\..\\esinet\\util\\util.py:388: RuntimeWarning: An average reference projection was already added. The data has been left untouched.\n",
      "  epochs.set_eeg_reference(projection=True, verbose=verbose)#.apply_baseline(baseline=baseline)\n"
     ]
    },
    {
     "name": "stdout",
     "output_type": "stream",
     "text": [
      "<RawArray | 61 x 522 (5.2 s), ~339 kB, data loaded> 4.0 info empirical\n",
      "<RawArray | 61 x 477 (4.8 s), ~317 kB, data loaded> 4.0 info empirical\n",
      "<RawArray | 61 x 428 (4.3 s), ~294 kB, data loaded> 4.0 info empirical\n",
      "<RawArray | 61 x 588 (5.9 s), ~370 kB, data loaded> 4.0 info empirical\n"
     ]
    },
    {
     "name": "stderr",
     "output_type": "stream",
     "text": [
      "c:\\Users\\Lukas\\Documents\\projects\\esinet\\evaluate\\..\\esinet\\util\\util.py:420: RuntimeWarning: Too few samples (required : 310 got : 180), covariance estimate may be unreliable\n",
      "  data_cov = mne.compute_raw_covariance(raw, tmin=tmin,\n",
      "c:\\Users\\Lukas\\Documents\\projects\\esinet\\evaluate\\..\\esinet\\util\\util.py:388: RuntimeWarning: An average reference projection was already added. The data has been left untouched.\n",
      "  epochs.set_eeg_reference(projection=True, verbose=verbose)#.apply_baseline(baseline=baseline)\n",
      "c:\\Users\\Lukas\\Documents\\projects\\esinet\\evaluate\\..\\esinet\\util\\util.py:420: RuntimeWarning: Too few samples (required : 310 got : 20), covariance estimate may be unreliable\n",
      "  data_cov = mne.compute_raw_covariance(raw, tmin=tmin,\n",
      "c:\\Users\\Lukas\\Documents\\projects\\esinet\\evaluate\\..\\esinet\\util\\util.py:388: RuntimeWarning: An average reference projection was already added. The data has been left untouched.\n",
      "  epochs.set_eeg_reference(projection=True, verbose=verbose)#.apply_baseline(baseline=baseline)\n",
      "c:\\Users\\Lukas\\Documents\\projects\\esinet\\evaluate\\..\\esinet\\util\\util.py:420: RuntimeWarning: Too few samples (required : 310 got : 80), covariance estimate may be unreliable\n",
      "  data_cov = mne.compute_raw_covariance(raw, tmin=tmin,\n",
      "c:\\Users\\Lukas\\Documents\\projects\\esinet\\evaluate\\..\\esinet\\util\\util.py:388: RuntimeWarning: An average reference projection was already added. The data has been left untouched.\n",
      "  epochs.set_eeg_reference(projection=True, verbose=verbose)#.apply_baseline(baseline=baseline)\n",
      "c:\\Users\\Lukas\\Documents\\projects\\esinet\\evaluate\\..\\esinet\\util\\util.py:423: RuntimeWarning: Epochs are not baseline corrected, covariance matrix may be inaccurate\n",
      "  data_cov = mne.compute_covariance(epochs, tmin=0.0,\n",
      "c:\\Users\\Lukas\\Documents\\projects\\esinet\\evaluate\\..\\esinet\\util\\util.py:423: RuntimeWarning: Too few samples (required : 310 got : 12), covariance estimate may be unreliable\n",
      "  data_cov = mne.compute_covariance(epochs, tmin=0.0,\n"
     ]
    },
    {
     "name": "stdout",
     "output_type": "stream",
     "text": [
      "<RawArray | 61 x 434 (4.3 s), ~297 kB, data loaded> 4.0 info empirical\n",
      "<RawArray | 61 x 485 (4.8 s), ~321 kB, data loaded> 4.0 info empirical\n",
      "<RawArray | 61 x 412 (4.1 s), ~286 kB, data loaded> 4.0 info empirical\n",
      "<RawArray | 61 x 529 (5.3 s), ~342 kB, data loaded> 4.0 info empirical\n"
     ]
    },
    {
     "name": "stderr",
     "output_type": "stream",
     "text": [
      "c:\\Users\\Lukas\\Documents\\projects\\esinet\\evaluate\\..\\esinet\\util\\util.py:388: RuntimeWarning: An average reference projection was already added. The data has been left untouched.\n",
      "  epochs.set_eeg_reference(projection=True, verbose=verbose)#.apply_baseline(baseline=baseline)\n",
      "c:\\Users\\Lukas\\Documents\\projects\\esinet\\evaluate\\..\\esinet\\util\\util.py:420: RuntimeWarning: Too few samples (required : 310 got : 120), covariance estimate may be unreliable\n",
      "  data_cov = mne.compute_raw_covariance(raw, tmin=tmin,\n",
      "c:\\Users\\Lukas\\Documents\\projects\\esinet\\evaluate\\..\\esinet\\util\\util.py:388: RuntimeWarning: An average reference projection was already added. The data has been left untouched.\n",
      "  epochs.set_eeg_reference(projection=True, verbose=verbose)#.apply_baseline(baseline=baseline)\n",
      "c:\\Users\\Lukas\\Documents\\projects\\esinet\\evaluate\\..\\esinet\\util\\util.py:420: RuntimeWarning: Too few samples (required : 310 got : 80), covariance estimate may be unreliable\n",
      "  data_cov = mne.compute_raw_covariance(raw, tmin=tmin,\n",
      "c:\\Users\\Lukas\\Documents\\projects\\esinet\\evaluate\\..\\esinet\\util\\util.py:388: RuntimeWarning: An average reference projection was already added. The data has been left untouched.\n",
      "  epochs.set_eeg_reference(projection=True, verbose=verbose)#.apply_baseline(baseline=baseline)\n",
      "c:\\Users\\Lukas\\Documents\\projects\\esinet\\evaluate\\..\\esinet\\util\\util.py:420: RuntimeWarning: Too few samples (required : 310 got : 20), covariance estimate may be unreliable\n",
      "  data_cov = mne.compute_raw_covariance(raw, tmin=tmin,\n",
      "c:\\Users\\Lukas\\Documents\\projects\\esinet\\evaluate\\..\\esinet\\util\\util.py:388: RuntimeWarning: An average reference projection was already added. The data has been left untouched.\n",
      "  epochs.set_eeg_reference(projection=True, verbose=verbose)#.apply_baseline(baseline=baseline)\n",
      "c:\\Users\\Lukas\\Documents\\projects\\esinet\\evaluate\\..\\esinet\\util\\util.py:420: RuntimeWarning: Too few samples (required : 310 got : 40), covariance estimate may be unreliable\n",
      "  data_cov = mne.compute_raw_covariance(raw, tmin=tmin,\n",
      "c:\\Users\\Lukas\\Documents\\projects\\esinet\\evaluate\\..\\esinet\\util\\util.py:388: RuntimeWarning: An average reference projection was already added. The data has been left untouched.\n",
      "  epochs.set_eeg_reference(projection=True, verbose=verbose)#.apply_baseline(baseline=baseline)\n"
     ]
    },
    {
     "name": "stdout",
     "output_type": "stream",
     "text": [
      "<RawArray | 61 x 491 (4.9 s), ~324 kB, data loaded> 4.0 info empirical\n",
      "<RawArray | 61 x 421 (4.2 s), ~290 kB, data loaded> 4.0 info empirical\n",
      "<RawArray | 61 x 457 (4.6 s), ~308 kB, data loaded> 4.0 info empirical\n",
      "<RawArray | 61 x 510 (5.1 s), ~333 kB, data loaded> 4.0 info empirical\n",
      "<RawArray | 61 x 483 (4.8 s), ~320 kB, data loaded> 4.0 info empirical\n"
     ]
    },
    {
     "name": "stderr",
     "output_type": "stream",
     "text": [
      "c:\\Users\\Lukas\\Documents\\projects\\esinet\\evaluate\\..\\esinet\\util\\util.py:420: RuntimeWarning: Too few samples (required : 310 got : 100), covariance estimate may be unreliable\n",
      "  data_cov = mne.compute_raw_covariance(raw, tmin=tmin,\n",
      "c:\\Users\\Lukas\\Documents\\projects\\esinet\\evaluate\\..\\esinet\\util\\util.py:388: RuntimeWarning: An average reference projection was already added. The data has been left untouched.\n",
      "  epochs.set_eeg_reference(projection=True, verbose=verbose)#.apply_baseline(baseline=baseline)\n",
      "c:\\Users\\Lukas\\Documents\\projects\\esinet\\evaluate\\..\\esinet\\util\\util.py:420: RuntimeWarning: Too few samples (required : 310 got : 80), covariance estimate may be unreliable\n",
      "  data_cov = mne.compute_raw_covariance(raw, tmin=tmin,\n",
      "c:\\Users\\Lukas\\Documents\\projects\\esinet\\evaluate\\..\\esinet\\util\\util.py:388: RuntimeWarning: An average reference projection was already added. The data has been left untouched.\n",
      "  epochs.set_eeg_reference(projection=True, verbose=verbose)#.apply_baseline(baseline=baseline)\n",
      "c:\\Users\\Lukas\\Documents\\projects\\esinet\\evaluate\\..\\esinet\\util\\util.py:420: RuntimeWarning: Too few samples (required : 310 got : 120), covariance estimate may be unreliable\n",
      "  data_cov = mne.compute_raw_covariance(raw, tmin=tmin,\n",
      "c:\\Users\\Lukas\\Documents\\projects\\esinet\\evaluate\\..\\esinet\\util\\util.py:388: RuntimeWarning: An average reference projection was already added. The data has been left untouched.\n",
      "  epochs.set_eeg_reference(projection=True, verbose=verbose)#.apply_baseline(baseline=baseline)\n",
      "c:\\Users\\Lukas\\Documents\\projects\\esinet\\evaluate\\..\\esinet\\util\\util.py:423: RuntimeWarning: Epochs are not baseline corrected, covariance matrix may be inaccurate\n",
      "  data_cov = mne.compute_covariance(epochs, tmin=0.0,\n",
      "c:\\Users\\Lukas\\Documents\\projects\\esinet\\evaluate\\..\\esinet\\util\\util.py:423: RuntimeWarning: Too few samples (required : 310 got : 7), covariance estimate may be unreliable\n",
      "  data_cov = mne.compute_covariance(epochs, tmin=0.0,\n",
      "c:\\Users\\Lukas\\Documents\\projects\\esinet\\evaluate\\..\\esinet\\util\\util.py:388: RuntimeWarning: An average reference projection was already added. The data has been left untouched.\n",
      "  epochs.set_eeg_reference(projection=True, verbose=verbose)#.apply_baseline(baseline=baseline)\n"
     ]
    },
    {
     "name": "stdout",
     "output_type": "stream",
     "text": [
      "<RawArray | 61 x 520 (5.2 s), ~338 kB, data loaded> 4.0 info empirical\n",
      "<RawArray | 61 x 407 (4.1 s), ~284 kB, data loaded> 4.0 info empirical\n",
      "<RawArray | 61 x 453 (4.5 s), ~306 kB, data loaded> 4.0 info empirical\n",
      "<RawArray | 61 x 584 (5.8 s), ~368 kB, data loaded> 4.0 info empirical\n"
     ]
    },
    {
     "name": "stderr",
     "output_type": "stream",
     "text": [
      "c:\\Users\\Lukas\\Documents\\projects\\esinet\\evaluate\\..\\esinet\\util\\util.py:420: RuntimeWarning: Too few samples (required : 310 got : 40), covariance estimate may be unreliable\n",
      "  data_cov = mne.compute_raw_covariance(raw, tmin=tmin,\n",
      "c:\\Users\\Lukas\\Documents\\projects\\esinet\\evaluate\\..\\esinet\\util\\util.py:388: RuntimeWarning: An average reference projection was already added. The data has been left untouched.\n",
      "  epochs.set_eeg_reference(projection=True, verbose=verbose)#.apply_baseline(baseline=baseline)\n",
      "c:\\Users\\Lukas\\Documents\\projects\\esinet\\evaluate\\..\\esinet\\util\\util.py:420: RuntimeWarning: Too few samples (required : 310 got : 180), covariance estimate may be unreliable\n",
      "  data_cov = mne.compute_raw_covariance(raw, tmin=tmin,\n",
      "c:\\Users\\Lukas\\Documents\\projects\\esinet\\evaluate\\..\\esinet\\util\\util.py:388: RuntimeWarning: An average reference projection was already added. The data has been left untouched.\n",
      "  epochs.set_eeg_reference(projection=True, verbose=verbose)#.apply_baseline(baseline=baseline)\n",
      "c:\\Users\\Lukas\\Documents\\projects\\esinet\\evaluate\\..\\esinet\\util\\util.py:420: RuntimeWarning: Too few samples (required : 310 got : 40), covariance estimate may be unreliable\n",
      "  data_cov = mne.compute_raw_covariance(raw, tmin=tmin,\n",
      "c:\\Users\\Lukas\\Documents\\projects\\esinet\\evaluate\\..\\esinet\\util\\util.py:388: RuntimeWarning: An average reference projection was already added. The data has been left untouched.\n",
      "  epochs.set_eeg_reference(projection=True, verbose=verbose)#.apply_baseline(baseline=baseline)\n",
      "c:\\Users\\Lukas\\Documents\\projects\\esinet\\evaluate\\..\\esinet\\util\\util.py:420: RuntimeWarning: Too few samples (required : 310 got : 140), covariance estimate may be unreliable\n",
      "  data_cov = mne.compute_raw_covariance(raw, tmin=tmin,\n",
      "c:\\Users\\Lukas\\Documents\\projects\\esinet\\evaluate\\..\\esinet\\util\\util.py:388: RuntimeWarning: An average reference projection was already added. The data has been left untouched.\n",
      "  epochs.set_eeg_reference(projection=True, verbose=verbose)#.apply_baseline(baseline=baseline)\n"
     ]
    },
    {
     "name": "stdout",
     "output_type": "stream",
     "text": [
      "<RawArray | 61 x 443 (4.4 s), ~301 kB, data loaded> 4.0 info empirical\n",
      "<RawArray | 61 x 554 (5.5 s), ~354 kB, data loaded> 4.0 info empirical\n",
      "<RawArray | 61 x 484 (4.8 s), ~320 kB, data loaded> 4.0 info empirical\n",
      "<RawArray | 61 x 457 (4.6 s), ~308 kB, data loaded> 4.0 info empirical\n",
      "<RawArray | 61 x 593 (5.9 s), ~372 kB, data loaded> 4.0 info empirical\n"
     ]
    },
    {
     "name": "stderr",
     "output_type": "stream",
     "text": [
      "c:\\Users\\Lukas\\Documents\\projects\\esinet\\evaluate\\..\\esinet\\util\\util.py:420: RuntimeWarning: Too few samples (required : 310 got : 80), covariance estimate may be unreliable\n",
      "  data_cov = mne.compute_raw_covariance(raw, tmin=tmin,\n",
      "c:\\Users\\Lukas\\Documents\\projects\\esinet\\evaluate\\..\\esinet\\util\\util.py:388: RuntimeWarning: An average reference projection was already added. The data has been left untouched.\n",
      "  epochs.set_eeg_reference(projection=True, verbose=verbose)#.apply_baseline(baseline=baseline)\n",
      "c:\\Users\\Lukas\\Documents\\projects\\esinet\\evaluate\\..\\esinet\\util\\util.py:420: RuntimeWarning: Too few samples (required : 310 got : 40), covariance estimate may be unreliable\n",
      "  data_cov = mne.compute_raw_covariance(raw, tmin=tmin,\n",
      "c:\\Users\\Lukas\\Documents\\projects\\esinet\\evaluate\\..\\esinet\\util\\util.py:388: RuntimeWarning: An average reference projection was already added. The data has been left untouched.\n",
      "  epochs.set_eeg_reference(projection=True, verbose=verbose)#.apply_baseline(baseline=baseline)\n",
      "c:\\Users\\Lukas\\Documents\\projects\\esinet\\evaluate\\..\\esinet\\util\\util.py:420: RuntimeWarning: Too few samples (required : 310 got : 180), covariance estimate may be unreliable\n",
      "  data_cov = mne.compute_raw_covariance(raw, tmin=tmin,\n",
      "c:\\Users\\Lukas\\Documents\\projects\\esinet\\evaluate\\..\\esinet\\util\\util.py:388: RuntimeWarning: An average reference projection was already added. The data has been left untouched.\n",
      "  epochs.set_eeg_reference(projection=True, verbose=verbose)#.apply_baseline(baseline=baseline)\n",
      "c:\\Users\\Lukas\\Documents\\projects\\esinet\\evaluate\\..\\esinet\\util\\util.py:423: RuntimeWarning: Epochs are not baseline corrected, covariance matrix may be inaccurate\n",
      "  data_cov = mne.compute_covariance(epochs, tmin=0.0,\n",
      "c:\\Users\\Lukas\\Documents\\projects\\esinet\\evaluate\\..\\esinet\\util\\util.py:423: RuntimeWarning: Too few samples (required : 310 got : 18), covariance estimate may be unreliable\n",
      "  data_cov = mne.compute_covariance(epochs, tmin=0.0,\n",
      "c:\\Users\\Lukas\\Documents\\projects\\esinet\\evaluate\\..\\esinet\\util\\util.py:388: RuntimeWarning: An average reference projection was already added. The data has been left untouched.\n",
      "  epochs.set_eeg_reference(projection=True, verbose=verbose)#.apply_baseline(baseline=baseline)\n"
     ]
    },
    {
     "name": "stdout",
     "output_type": "stream",
     "text": [
      "<RawArray | 61 x 418 (4.2 s), ~289 kB, data loaded> 4.0 info empirical\n",
      "<RawArray | 61 x 433 (4.3 s), ~296 kB, data loaded> 4.0 info empirical\n",
      "<RawArray | 61 x 443 (4.4 s), ~301 kB, data loaded> 4.0 info empirical\n",
      "<RawArray | 61 x 439 (4.4 s), ~299 kB, data loaded> 4.0 info empirical\n",
      "<RawArray | 61 x 522 (5.2 s), ~339 kB, data loaded> 4.0 info empirical\n"
     ]
    },
    {
     "name": "stderr",
     "output_type": "stream",
     "text": [
      "c:\\Users\\Lukas\\Documents\\projects\\esinet\\evaluate\\..\\esinet\\util\\util.py:420: RuntimeWarning: Too few samples (required : 310 got : 20), covariance estimate may be unreliable\n",
      "  data_cov = mne.compute_raw_covariance(raw, tmin=tmin,\n",
      "c:\\Users\\Lukas\\Documents\\projects\\esinet\\evaluate\\..\\esinet\\util\\util.py:388: RuntimeWarning: An average reference projection was already added. The data has been left untouched.\n",
      "  epochs.set_eeg_reference(projection=True, verbose=verbose)#.apply_baseline(baseline=baseline)\n",
      "c:\\Users\\Lukas\\Documents\\projects\\esinet\\evaluate\\..\\esinet\\util\\util.py:420: RuntimeWarning: Too few samples (required : 310 got : 40), covariance estimate may be unreliable\n",
      "  data_cov = mne.compute_raw_covariance(raw, tmin=tmin,\n",
      "c:\\Users\\Lukas\\Documents\\projects\\esinet\\evaluate\\..\\esinet\\util\\util.py:388: RuntimeWarning: An average reference projection was already added. The data has been left untouched.\n",
      "  epochs.set_eeg_reference(projection=True, verbose=verbose)#.apply_baseline(baseline=baseline)\n",
      "c:\\Users\\Lukas\\Documents\\projects\\esinet\\evaluate\\..\\esinet\\util\\util.py:420: RuntimeWarning: Too few samples (required : 310 got : 20), covariance estimate may be unreliable\n",
      "  data_cov = mne.compute_raw_covariance(raw, tmin=tmin,\n",
      "c:\\Users\\Lukas\\Documents\\projects\\esinet\\evaluate\\..\\esinet\\util\\util.py:388: RuntimeWarning: An average reference projection was already added. The data has been left untouched.\n",
      "  epochs.set_eeg_reference(projection=True, verbose=verbose)#.apply_baseline(baseline=baseline)\n",
      "c:\\Users\\Lukas\\Documents\\projects\\esinet\\evaluate\\..\\esinet\\util\\util.py:420: RuntimeWarning: Too few samples (required : 310 got : 120), covariance estimate may be unreliable\n",
      "  data_cov = mne.compute_raw_covariance(raw, tmin=tmin,\n",
      "c:\\Users\\Lukas\\Documents\\projects\\esinet\\evaluate\\..\\esinet\\util\\util.py:388: RuntimeWarning: An average reference projection was already added. The data has been left untouched.\n",
      "  epochs.set_eeg_reference(projection=True, verbose=verbose)#.apply_baseline(baseline=baseline)\n"
     ]
    },
    {
     "name": "stdout",
     "output_type": "stream",
     "text": [
      "<RawArray | 61 x 557 (5.6 s), ~355 kB, data loaded> 4.0 info empirical\n",
      "<RawArray | 61 x 559 (5.6 s), ~356 kB, data loaded> 4.0 info empirical\n",
      "<RawArray | 61 x 510 (5.1 s), ~333 kB, data loaded> 4.0 info empirical\n",
      "<RawArray | 61 x 534 (5.3 s), ~344 kB, data loaded> 4.0 info empirical\n"
     ]
    },
    {
     "name": "stderr",
     "output_type": "stream",
     "text": [
      "c:\\Users\\Lukas\\Documents\\projects\\esinet\\evaluate\\..\\esinet\\util\\util.py:420: RuntimeWarning: Too few samples (required : 310 got : 140), covariance estimate may be unreliable\n",
      "  data_cov = mne.compute_raw_covariance(raw, tmin=tmin,\n",
      "c:\\Users\\Lukas\\Documents\\projects\\esinet\\evaluate\\..\\esinet\\util\\util.py:388: RuntimeWarning: An average reference projection was already added. The data has been left untouched.\n",
      "  epochs.set_eeg_reference(projection=True, verbose=verbose)#.apply_baseline(baseline=baseline)\n",
      "c:\\Users\\Lukas\\Documents\\projects\\esinet\\evaluate\\..\\esinet\\util\\util.py:420: RuntimeWarning: Too few samples (required : 310 got : 140), covariance estimate may be unreliable\n",
      "  data_cov = mne.compute_raw_covariance(raw, tmin=tmin,\n",
      "c:\\Users\\Lukas\\Documents\\projects\\esinet\\evaluate\\..\\esinet\\util\\util.py:388: RuntimeWarning: An average reference projection was already added. The data has been left untouched.\n",
      "  epochs.set_eeg_reference(projection=True, verbose=verbose)#.apply_baseline(baseline=baseline)\n",
      "c:\\Users\\Lukas\\Documents\\projects\\esinet\\evaluate\\..\\esinet\\util\\util.py:420: RuntimeWarning: Too few samples (required : 310 got : 100), covariance estimate may be unreliable\n",
      "  data_cov = mne.compute_raw_covariance(raw, tmin=tmin,\n",
      "c:\\Users\\Lukas\\Documents\\projects\\esinet\\evaluate\\..\\esinet\\util\\util.py:388: RuntimeWarning: An average reference projection was already added. The data has been left untouched.\n",
      "  epochs.set_eeg_reference(projection=True, verbose=verbose)#.apply_baseline(baseline=baseline)\n",
      "c:\\Users\\Lukas\\Documents\\projects\\esinet\\evaluate\\..\\esinet\\util\\util.py:420: RuntimeWarning: Too few samples (required : 310 got : 120), covariance estimate may be unreliable\n",
      "  data_cov = mne.compute_raw_covariance(raw, tmin=tmin,\n",
      "c:\\Users\\Lukas\\Documents\\projects\\esinet\\evaluate\\..\\esinet\\util\\util.py:388: RuntimeWarning: An average reference projection was already added. The data has been left untouched.\n",
      "  epochs.set_eeg_reference(projection=True, verbose=verbose)#.apply_baseline(baseline=baseline)\n"
     ]
    },
    {
     "name": "stdout",
     "output_type": "stream",
     "text": [
      "<RawArray | 61 x 528 (5.3 s), ~341 kB, data loaded> 4.0 info empirical\n",
      "<RawArray | 61 x 489 (4.9 s), ~323 kB, data loaded> 4.0 info empirical\n",
      "<RawArray | 61 x 406 (4.0 s), ~283 kB, data loaded> 4.0 info empirical\n",
      "<RawArray | 61 x 449 (4.5 s), ~304 kB, data loaded> 4.0 info empirical\n"
     ]
    },
    {
     "name": "stderr",
     "output_type": "stream",
     "text": [
      "c:\\Users\\Lukas\\Documents\\projects\\esinet\\evaluate\\..\\esinet\\util\\util.py:420: RuntimeWarning: Too few samples (required : 310 got : 120), covariance estimate may be unreliable\n",
      "  data_cov = mne.compute_raw_covariance(raw, tmin=tmin,\n",
      "c:\\Users\\Lukas\\Documents\\projects\\esinet\\evaluate\\..\\esinet\\util\\util.py:388: RuntimeWarning: An average reference projection was already added. The data has been left untouched.\n",
      "  epochs.set_eeg_reference(projection=True, verbose=verbose)#.apply_baseline(baseline=baseline)\n",
      "c:\\Users\\Lukas\\Documents\\projects\\esinet\\evaluate\\..\\esinet\\util\\util.py:420: RuntimeWarning: Too few samples (required : 310 got : 80), covariance estimate may be unreliable\n",
      "  data_cov = mne.compute_raw_covariance(raw, tmin=tmin,\n",
      "c:\\Users\\Lukas\\Documents\\projects\\esinet\\evaluate\\..\\esinet\\util\\util.py:388: RuntimeWarning: An average reference projection was already added. The data has been left untouched.\n",
      "  epochs.set_eeg_reference(projection=True, verbose=verbose)#.apply_baseline(baseline=baseline)\n",
      "c:\\Users\\Lukas\\Documents\\projects\\esinet\\evaluate\\..\\esinet\\util\\util.py:423: RuntimeWarning: Epochs are not baseline corrected, covariance matrix may be inaccurate\n",
      "  data_cov = mne.compute_covariance(epochs, tmin=0.0,\n",
      "c:\\Users\\Lukas\\Documents\\projects\\esinet\\evaluate\\..\\esinet\\util\\util.py:423: RuntimeWarning: Too few samples (required : 310 got : 6), covariance estimate may be unreliable\n",
      "  data_cov = mne.compute_covariance(epochs, tmin=0.0,\n",
      "c:\\Users\\Lukas\\Documents\\projects\\esinet\\evaluate\\..\\esinet\\util\\util.py:388: RuntimeWarning: An average reference projection was already added. The data has been left untouched.\n",
      "  epochs.set_eeg_reference(projection=True, verbose=verbose)#.apply_baseline(baseline=baseline)\n",
      "c:\\Users\\Lukas\\Documents\\projects\\esinet\\evaluate\\..\\esinet\\util\\util.py:420: RuntimeWarning: Too few samples (required : 310 got : 40), covariance estimate may be unreliable\n",
      "  data_cov = mne.compute_raw_covariance(raw, tmin=tmin,\n",
      "c:\\Users\\Lukas\\Documents\\projects\\esinet\\evaluate\\..\\esinet\\util\\util.py:388: RuntimeWarning: An average reference projection was already added. The data has been left untouched.\n",
      "  epochs.set_eeg_reference(projection=True, verbose=verbose)#.apply_baseline(baseline=baseline)\n"
     ]
    },
    {
     "name": "stdout",
     "output_type": "stream",
     "text": [
      "<RawArray | 61 x 581 (5.8 s), ~367 kB, data loaded> 4.0 info empirical\n",
      "<RawArray | 61 x 436 (4.3 s), ~298 kB, data loaded> 4.0 info empirical\n",
      "<RawArray | 61 x 483 (4.8 s), ~320 kB, data loaded> 4.0 info empirical\n",
      "<RawArray | 61 x 522 (5.2 s), ~339 kB, data loaded> 4.0 info empirical\n",
      "<RawArray | 61 x 475 (4.7 s), ~316 kB, data loaded> 4.0 info empirical\n"
     ]
    },
    {
     "name": "stderr",
     "output_type": "stream",
     "text": [
      "c:\\Users\\Lukas\\Documents\\projects\\esinet\\evaluate\\..\\esinet\\util\\util.py:420: RuntimeWarning: Too few samples (required : 310 got : 180), covariance estimate may be unreliable\n",
      "  data_cov = mne.compute_raw_covariance(raw, tmin=tmin,\n",
      "c:\\Users\\Lukas\\Documents\\projects\\esinet\\evaluate\\..\\esinet\\util\\util.py:388: RuntimeWarning: An average reference projection was already added. The data has been left untouched.\n",
      "  epochs.set_eeg_reference(projection=True, verbose=verbose)#.apply_baseline(baseline=baseline)\n",
      "c:\\Users\\Lukas\\Documents\\projects\\esinet\\evaluate\\..\\esinet\\util\\util.py:420: RuntimeWarning: Too few samples (required : 310 got : 20), covariance estimate may be unreliable\n",
      "  data_cov = mne.compute_raw_covariance(raw, tmin=tmin,\n",
      "c:\\Users\\Lukas\\Documents\\projects\\esinet\\evaluate\\..\\esinet\\util\\util.py:388: RuntimeWarning: An average reference projection was already added. The data has been left untouched.\n",
      "  epochs.set_eeg_reference(projection=True, verbose=verbose)#.apply_baseline(baseline=baseline)\n",
      "c:\\Users\\Lukas\\Documents\\projects\\esinet\\evaluate\\..\\esinet\\util\\util.py:420: RuntimeWarning: Too few samples (required : 310 got : 80), covariance estimate may be unreliable\n",
      "  data_cov = mne.compute_raw_covariance(raw, tmin=tmin,\n",
      "c:\\Users\\Lukas\\Documents\\projects\\esinet\\evaluate\\..\\esinet\\util\\util.py:388: RuntimeWarning: An average reference projection was already added. The data has been left untouched.\n",
      "  epochs.set_eeg_reference(projection=True, verbose=verbose)#.apply_baseline(baseline=baseline)\n",
      "c:\\Users\\Lukas\\Documents\\projects\\esinet\\evaluate\\..\\esinet\\util\\util.py:420: RuntimeWarning: Too few samples (required : 310 got : 120), covariance estimate may be unreliable\n",
      "  data_cov = mne.compute_raw_covariance(raw, tmin=tmin,\n",
      "c:\\Users\\Lukas\\Documents\\projects\\esinet\\evaluate\\..\\esinet\\util\\util.py:388: RuntimeWarning: An average reference projection was already added. The data has been left untouched.\n",
      "  epochs.set_eeg_reference(projection=True, verbose=verbose)#.apply_baseline(baseline=baseline)\n",
      "c:\\Users\\Lukas\\Documents\\projects\\esinet\\evaluate\\..\\esinet\\util\\util.py:420: RuntimeWarning: Too few samples (required : 310 got : 60), covariance estimate may be unreliable\n",
      "  data_cov = mne.compute_raw_covariance(raw, tmin=tmin,\n",
      "c:\\Users\\Lukas\\Documents\\projects\\esinet\\evaluate\\..\\esinet\\util\\util.py:388: RuntimeWarning: An average reference projection was already added. The data has been left untouched.\n",
      "  epochs.set_eeg_reference(projection=True, verbose=verbose)#.apply_baseline(baseline=baseline)\n",
      "c:\\Users\\Lukas\\Documents\\projects\\esinet\\evaluate\\..\\esinet\\util\\util.py:420: RuntimeWarning: Too few samples (required : 310 got : 140), covariance estimate may be unreliable\n",
      "  data_cov = mne.compute_raw_covariance(raw, tmin=tmin,\n",
      "c:\\Users\\Lukas\\Documents\\projects\\esinet\\evaluate\\..\\esinet\\util\\util.py:388: RuntimeWarning: An average reference projection was already added. The data has been left untouched.\n",
      "  epochs.set_eeg_reference(projection=True, verbose=verbose)#.apply_baseline(baseline=baseline)\n",
      "c:\\Users\\Lukas\\Documents\\projects\\esinet\\evaluate\\..\\esinet\\util\\util.py:420: RuntimeWarning: Too few samples (required : 310 got : 60), covariance estimate may be unreliable\n",
      "  data_cov = mne.compute_raw_covariance(raw, tmin=tmin,\n",
      "c:\\Users\\Lukas\\Documents\\projects\\esinet\\evaluate\\..\\esinet\\util\\util.py:388: RuntimeWarning: An average reference projection was already added. The data has been left untouched.\n",
      "  epochs.set_eeg_reference(projection=True, verbose=verbose)#.apply_baseline(baseline=baseline)\n",
      "c:\\Users\\Lukas\\Documents\\projects\\esinet\\evaluate\\..\\esinet\\util\\util.py:420: RuntimeWarning: Too few samples (required : 310 got : 160), covariance estimate may be unreliable\n",
      "  data_cov = mne.compute_raw_covariance(raw, tmin=tmin,\n"
     ]
    },
    {
     "name": "stdout",
     "output_type": "stream",
     "text": [
      "<RawArray | 61 x 544 (5.4 s), ~349 kB, data loaded> 4.0 info empirical\n",
      "<RawArray | 61 x 476 (4.8 s), ~317 kB, data loaded> 4.0 info empirical\n",
      "<RawArray | 61 x 573 (5.7 s), ~363 kB, data loaded> 4.0 info empirical\n",
      "<RawArray | 61 x 550 (5.5 s), ~352 kB, data loaded> 4.0 info empirical\n"
     ]
    },
    {
     "name": "stderr",
     "output_type": "stream",
     "text": [
      "c:\\Users\\Lukas\\Documents\\projects\\esinet\\evaluate\\..\\esinet\\util\\util.py:388: RuntimeWarning: An average reference projection was already added. The data has been left untouched.\n",
      "  epochs.set_eeg_reference(projection=True, verbose=verbose)#.apply_baseline(baseline=baseline)\n",
      "c:\\Users\\Lukas\\Documents\\projects\\esinet\\evaluate\\..\\esinet\\util\\util.py:420: RuntimeWarning: Too few samples (required : 310 got : 140), covariance estimate may be unreliable\n",
      "  data_cov = mne.compute_raw_covariance(raw, tmin=tmin,\n",
      "c:\\Users\\Lukas\\Documents\\projects\\esinet\\evaluate\\..\\esinet\\util\\util.py:388: RuntimeWarning: An average reference projection was already added. The data has been left untouched.\n",
      "  epochs.set_eeg_reference(projection=True, verbose=verbose)#.apply_baseline(baseline=baseline)\n",
      "c:\\Users\\Lukas\\Documents\\projects\\esinet\\evaluate\\..\\esinet\\util\\util.py:420: RuntimeWarning: Too few samples (required : 310 got : 40), covariance estimate may be unreliable\n",
      "  data_cov = mne.compute_raw_covariance(raw, tmin=tmin,\n",
      "c:\\Users\\Lukas\\Documents\\projects\\esinet\\evaluate\\..\\esinet\\util\\util.py:388: RuntimeWarning: An average reference projection was already added. The data has been left untouched.\n",
      "  epochs.set_eeg_reference(projection=True, verbose=verbose)#.apply_baseline(baseline=baseline)\n",
      "c:\\Users\\Lukas\\Documents\\projects\\esinet\\evaluate\\..\\esinet\\util\\util.py:420: RuntimeWarning: Too few samples (required : 310 got : 180), covariance estimate may be unreliable\n",
      "  data_cov = mne.compute_raw_covariance(raw, tmin=tmin,\n",
      "c:\\Users\\Lukas\\Documents\\projects\\esinet\\evaluate\\..\\esinet\\util\\util.py:388: RuntimeWarning: An average reference projection was already added. The data has been left untouched.\n",
      "  epochs.set_eeg_reference(projection=True, verbose=verbose)#.apply_baseline(baseline=baseline)\n",
      "c:\\Users\\Lukas\\Documents\\projects\\esinet\\evaluate\\..\\esinet\\util\\util.py:420: RuntimeWarning: Too few samples (required : 310 got : 120), covariance estimate may be unreliable\n",
      "  data_cov = mne.compute_raw_covariance(raw, tmin=tmin,\n",
      "c:\\Users\\Lukas\\Documents\\projects\\esinet\\evaluate\\..\\esinet\\util\\util.py:388: RuntimeWarning: An average reference projection was already added. The data has been left untouched.\n",
      "  epochs.set_eeg_reference(projection=True, verbose=verbose)#.apply_baseline(baseline=baseline)\n"
     ]
    },
    {
     "name": "stdout",
     "output_type": "stream",
     "text": [
      "<RawArray | 61 x 454 (4.5 s), ~306 kB, data loaded> 4.0 info empirical\n",
      "<RawArray | 61 x 599 (6.0 s), ~375 kB, data loaded> 4.0 info empirical\n",
      "<RawArray | 61 x 538 (5.4 s), ~346 kB, data loaded> 4.0 info empirical\n",
      "<RawArray | 61 x 572 (5.7 s), ~362 kB, data loaded> 4.0 info empirical\n",
      "<RawArray | 61 x 545 (5.4 s), ~350 kB, data loaded> 4.0 info empirical\n"
     ]
    },
    {
     "name": "stderr",
     "output_type": "stream",
     "text": [
      "c:\\Users\\Lukas\\Documents\\projects\\esinet\\evaluate\\..\\esinet\\util\\util.py:420: RuntimeWarning: Too few samples (required : 310 got : 160), covariance estimate may be unreliable\n",
      "  data_cov = mne.compute_raw_covariance(raw, tmin=tmin,\n",
      "c:\\Users\\Lukas\\Documents\\projects\\esinet\\evaluate\\..\\esinet\\util\\util.py:388: RuntimeWarning: An average reference projection was already added. The data has been left untouched.\n",
      "  epochs.set_eeg_reference(projection=True, verbose=verbose)#.apply_baseline(baseline=baseline)\n",
      "c:\\Users\\Lukas\\Documents\\projects\\esinet\\evaluate\\..\\esinet\\util\\util.py:420: RuntimeWarning: Too few samples (required : 310 got : 140), covariance estimate may be unreliable\n",
      "  data_cov = mne.compute_raw_covariance(raw, tmin=tmin,\n",
      "c:\\Users\\Lukas\\Documents\\projects\\esinet\\evaluate\\..\\esinet\\util\\util.py:388: RuntimeWarning: An average reference projection was already added. The data has been left untouched.\n",
      "  epochs.set_eeg_reference(projection=True, verbose=verbose)#.apply_baseline(baseline=baseline)\n",
      "c:\\Users\\Lukas\\Documents\\projects\\esinet\\evaluate\\..\\esinet\\util\\util.py:420: RuntimeWarning: Too few samples (required : 310 got : 180), covariance estimate may be unreliable\n",
      "  data_cov = mne.compute_raw_covariance(raw, tmin=tmin,\n",
      "c:\\Users\\Lukas\\Documents\\projects\\esinet\\evaluate\\..\\esinet\\util\\util.py:388: RuntimeWarning: An average reference projection was already added. The data has been left untouched.\n",
      "  epochs.set_eeg_reference(projection=True, verbose=verbose)#.apply_baseline(baseline=baseline)\n",
      "c:\\Users\\Lukas\\Documents\\projects\\esinet\\evaluate\\..\\esinet\\util\\util.py:420: RuntimeWarning: Too few samples (required : 310 got : 60), covariance estimate may be unreliable\n",
      "  data_cov = mne.compute_raw_covariance(raw, tmin=tmin,\n",
      "c:\\Users\\Lukas\\Documents\\projects\\esinet\\evaluate\\..\\esinet\\util\\util.py:388: RuntimeWarning: An average reference projection was already added. The data has been left untouched.\n",
      "  epochs.set_eeg_reference(projection=True, verbose=verbose)#.apply_baseline(baseline=baseline)\n"
     ]
    },
    {
     "name": "stdout",
     "output_type": "stream",
     "text": [
      "<RawArray | 61 x 594 (5.9 s), ~373 kB, data loaded> 4.0 info empirical\n",
      "<RawArray | 61 x 462 (4.6 s), ~310 kB, data loaded> 4.0 info empirical\n",
      "<RawArray | 61 x 514 (5.1 s), ~335 kB, data loaded> 4.0 info empirical\n",
      "<RawArray | 61 x 560 (5.6 s), ~357 kB, data loaded> 4.0 info empirical\n"
     ]
    },
    {
     "name": "stderr",
     "output_type": "stream",
     "text": [
      "c:\\Users\\Lukas\\Documents\\projects\\esinet\\evaluate\\..\\esinet\\util\\util.py:420: RuntimeWarning: Too few samples (required : 310 got : 100), covariance estimate may be unreliable\n",
      "  data_cov = mne.compute_raw_covariance(raw, tmin=tmin,\n",
      "c:\\Users\\Lukas\\Documents\\projects\\esinet\\evaluate\\..\\esinet\\util\\util.py:388: RuntimeWarning: An average reference projection was already added. The data has been left untouched.\n",
      "  epochs.set_eeg_reference(projection=True, verbose=verbose)#.apply_baseline(baseline=baseline)\n",
      "c:\\Users\\Lukas\\Documents\\projects\\esinet\\evaluate\\..\\esinet\\util\\util.py:420: RuntimeWarning: Too few samples (required : 310 got : 160), covariance estimate may be unreliable\n",
      "  data_cov = mne.compute_raw_covariance(raw, tmin=tmin,\n",
      "c:\\Users\\Lukas\\Documents\\projects\\esinet\\evaluate\\..\\esinet\\util\\util.py:388: RuntimeWarning: An average reference projection was already added. The data has been left untouched.\n",
      "  epochs.set_eeg_reference(projection=True, verbose=verbose)#.apply_baseline(baseline=baseline)\n",
      "c:\\Users\\Lukas\\Documents\\projects\\esinet\\evaluate\\..\\esinet\\util\\util.py:420: RuntimeWarning: Too few samples (required : 310 got : 100), covariance estimate may be unreliable\n",
      "  data_cov = mne.compute_raw_covariance(raw, tmin=tmin,\n",
      "c:\\Users\\Lukas\\Documents\\projects\\esinet\\evaluate\\..\\esinet\\util\\util.py:388: RuntimeWarning: An average reference projection was already added. The data has been left untouched.\n",
      "  epochs.set_eeg_reference(projection=True, verbose=verbose)#.apply_baseline(baseline=baseline)\n",
      "c:\\Users\\Lukas\\Documents\\projects\\esinet\\evaluate\\..\\esinet\\util\\util.py:420: RuntimeWarning: Too few samples (required : 310 got : 180), covariance estimate may be unreliable\n",
      "  data_cov = mne.compute_raw_covariance(raw, tmin=tmin,\n"
     ]
    },
    {
     "name": "stdout",
     "output_type": "stream",
     "text": [
      "<RawArray | 61 x 516 (5.2 s), ~336 kB, data loaded> 4.0 info empirical\n",
      "<RawArray | 61 x 599 (6.0 s), ~375 kB, data loaded> 4.0 info empirical\n",
      "<RawArray | 61 x 507 (5.1 s), ~331 kB, data loaded> 4.0 info empirical\n",
      "<RawArray | 61 x 469 (4.7 s), ~313 kB, data loaded> 4.0 info empirical\n"
     ]
    },
    {
     "name": "stderr",
     "output_type": "stream",
     "text": [
      "c:\\Users\\Lukas\\Documents\\projects\\esinet\\evaluate\\..\\esinet\\util\\util.py:388: RuntimeWarning: An average reference projection was already added. The data has been left untouched.\n",
      "  epochs.set_eeg_reference(projection=True, verbose=verbose)#.apply_baseline(baseline=baseline)\n",
      "c:\\Users\\Lukas\\Documents\\projects\\esinet\\evaluate\\..\\esinet\\util\\util.py:420: RuntimeWarning: Too few samples (required : 310 got : 100), covariance estimate may be unreliable\n",
      "  data_cov = mne.compute_raw_covariance(raw, tmin=tmin,\n",
      "c:\\Users\\Lukas\\Documents\\projects\\esinet\\evaluate\\..\\esinet\\util\\util.py:388: RuntimeWarning: An average reference projection was already added. The data has been left untouched.\n",
      "  epochs.set_eeg_reference(projection=True, verbose=verbose)#.apply_baseline(baseline=baseline)\n",
      "c:\\Users\\Lukas\\Documents\\projects\\esinet\\evaluate\\..\\esinet\\util\\util.py:420: RuntimeWarning: Too few samples (required : 310 got : 60), covariance estimate may be unreliable\n",
      "  data_cov = mne.compute_raw_covariance(raw, tmin=tmin,\n",
      "c:\\Users\\Lukas\\Documents\\projects\\esinet\\evaluate\\..\\esinet\\util\\util.py:388: RuntimeWarning: An average reference projection was already added. The data has been left untouched.\n",
      "  epochs.set_eeg_reference(projection=True, verbose=verbose)#.apply_baseline(baseline=baseline)\n",
      "c:\\Users\\Lukas\\Documents\\projects\\esinet\\evaluate\\..\\esinet\\util\\util.py:423: RuntimeWarning: Epochs are not baseline corrected, covariance matrix may be inaccurate\n",
      "  data_cov = mne.compute_covariance(epochs, tmin=0.0,\n",
      "c:\\Users\\Lukas\\Documents\\projects\\esinet\\evaluate\\..\\esinet\\util\\util.py:423: RuntimeWarning: Too few samples (required : 310 got : 17), covariance estimate may be unreliable\n",
      "  data_cov = mne.compute_covariance(epochs, tmin=0.0,\n",
      "c:\\Users\\Lukas\\Documents\\projects\\esinet\\evaluate\\..\\esinet\\util\\util.py:388: RuntimeWarning: An average reference projection was already added. The data has been left untouched.\n",
      "  epochs.set_eeg_reference(projection=True, verbose=verbose)#.apply_baseline(baseline=baseline)\n",
      "c:\\Users\\Lukas\\Documents\\projects\\esinet\\evaluate\\..\\esinet\\util\\util.py:420: RuntimeWarning: Too few samples (required : 310 got : 140), covariance estimate may be unreliable\n",
      "  data_cov = mne.compute_raw_covariance(raw, tmin=tmin,\n",
      "c:\\Users\\Lukas\\Documents\\projects\\esinet\\evaluate\\..\\esinet\\util\\util.py:388: RuntimeWarning: An average reference projection was already added. The data has been left untouched.\n",
      "  epochs.set_eeg_reference(projection=True, verbose=verbose)#.apply_baseline(baseline=baseline)\n"
     ]
    },
    {
     "name": "stdout",
     "output_type": "stream",
     "text": [
      "<RawArray | 61 x 417 (4.2 s), ~289 kB, data loaded> 4.0 info empirical\n",
      "<RawArray | 61 x 541 (5.4 s), ~348 kB, data loaded> 4.0 info empirical\n",
      "<RawArray | 61 x 546 (5.5 s), ~350 kB, data loaded> 4.0 info empirical\n",
      "<RawArray | 61 x 452 (4.5 s), ~305 kB, data loaded> 4.0 info empirical\n"
     ]
    },
    {
     "name": "stderr",
     "output_type": "stream",
     "text": [
      "c:\\Users\\Lukas\\Documents\\projects\\esinet\\evaluate\\..\\esinet\\util\\util.py:420: RuntimeWarning: Too few samples (required : 310 got : 140), covariance estimate may be unreliable\n",
      "  data_cov = mne.compute_raw_covariance(raw, tmin=tmin,\n",
      "c:\\Users\\Lukas\\Documents\\projects\\esinet\\evaluate\\..\\esinet\\util\\util.py:388: RuntimeWarning: An average reference projection was already added. The data has been left untouched.\n",
      "  epochs.set_eeg_reference(projection=True, verbose=verbose)#.apply_baseline(baseline=baseline)\n",
      "c:\\Users\\Lukas\\Documents\\projects\\esinet\\evaluate\\..\\esinet\\util\\util.py:420: RuntimeWarning: Too few samples (required : 310 got : 40), covariance estimate may be unreliable\n",
      "  data_cov = mne.compute_raw_covariance(raw, tmin=tmin,\n",
      "c:\\Users\\Lukas\\Documents\\projects\\esinet\\evaluate\\..\\esinet\\util\\util.py:388: RuntimeWarning: An average reference projection was already added. The data has been left untouched.\n",
      "  epochs.set_eeg_reference(projection=True, verbose=verbose)#.apply_baseline(baseline=baseline)\n",
      "c:\\Users\\Lukas\\Documents\\projects\\esinet\\evaluate\\..\\esinet\\util\\util.py:420: RuntimeWarning: Too few samples (required : 310 got : 20), covariance estimate may be unreliable\n",
      "  data_cov = mne.compute_raw_covariance(raw, tmin=tmin,\n",
      "c:\\Users\\Lukas\\Documents\\projects\\esinet\\evaluate\\..\\esinet\\util\\util.py:388: RuntimeWarning: An average reference projection was already added. The data has been left untouched.\n",
      "  epochs.set_eeg_reference(projection=True, verbose=verbose)#.apply_baseline(baseline=baseline)\n",
      "c:\\Users\\Lukas\\Documents\\projects\\esinet\\evaluate\\..\\esinet\\util\\util.py:420: RuntimeWarning: Too few samples (required : 310 got : 160), covariance estimate may be unreliable\n",
      "  data_cov = mne.compute_raw_covariance(raw, tmin=tmin,\n",
      "c:\\Users\\Lukas\\Documents\\projects\\esinet\\evaluate\\..\\esinet\\util\\util.py:388: RuntimeWarning: An average reference projection was already added. The data has been left untouched.\n",
      "  epochs.set_eeg_reference(projection=True, verbose=verbose)#.apply_baseline(baseline=baseline)\n"
     ]
    },
    {
     "name": "stdout",
     "output_type": "stream",
     "text": [
      "<RawArray | 61 x 421 (4.2 s), ~290 kB, data loaded> 4.0 info empirical\n",
      "<RawArray | 61 x 560 (5.6 s), ~357 kB, data loaded> 4.0 info empirical\n",
      "<RawArray | 61 x 555 (5.5 s), ~354 kB, data loaded> 4.0 info empirical\n",
      "<RawArray | 61 x 588 (5.9 s), ~370 kB, data loaded> 4.0 info empirical\n"
     ]
    },
    {
     "name": "stderr",
     "output_type": "stream",
     "text": [
      "c:\\Users\\Lukas\\Documents\\projects\\esinet\\evaluate\\..\\esinet\\util\\util.py:420: RuntimeWarning: Too few samples (required : 310 got : 140), covariance estimate may be unreliable\n",
      "  data_cov = mne.compute_raw_covariance(raw, tmin=tmin,\n",
      "c:\\Users\\Lukas\\Documents\\projects\\esinet\\evaluate\\..\\esinet\\util\\util.py:388: RuntimeWarning: An average reference projection was already added. The data has been left untouched.\n",
      "  epochs.set_eeg_reference(projection=True, verbose=verbose)#.apply_baseline(baseline=baseline)\n",
      "c:\\Users\\Lukas\\Documents\\projects\\esinet\\evaluate\\..\\esinet\\util\\util.py:420: RuntimeWarning: Too few samples (required : 310 got : 180), covariance estimate may be unreliable\n",
      "  data_cov = mne.compute_raw_covariance(raw, tmin=tmin,\n",
      "c:\\Users\\Lukas\\Documents\\projects\\esinet\\evaluate\\..\\esinet\\util\\util.py:388: RuntimeWarning: An average reference projection was already added. The data has been left untouched.\n",
      "  epochs.set_eeg_reference(projection=True, verbose=verbose)#.apply_baseline(baseline=baseline)\n",
      "c:\\Users\\Lukas\\Documents\\projects\\esinet\\evaluate\\..\\esinet\\util\\util.py:420: RuntimeWarning: Too few samples (required : 310 got : 140), covariance estimate may be unreliable\n",
      "  data_cov = mne.compute_raw_covariance(raw, tmin=tmin,\n",
      "c:\\Users\\Lukas\\Documents\\projects\\esinet\\evaluate\\..\\esinet\\util\\util.py:388: RuntimeWarning: An average reference projection was already added. The data has been left untouched.\n",
      "  epochs.set_eeg_reference(projection=True, verbose=verbose)#.apply_baseline(baseline=baseline)\n",
      "c:\\Users\\Lukas\\Documents\\projects\\esinet\\evaluate\\..\\esinet\\util\\util.py:420: RuntimeWarning: Too few samples (required : 310 got : 80), covariance estimate may be unreliable\n",
      "  data_cov = mne.compute_raw_covariance(raw, tmin=tmin,\n",
      "c:\\Users\\Lukas\\Documents\\projects\\esinet\\evaluate\\..\\esinet\\util\\util.py:388: RuntimeWarning: An average reference projection was already added. The data has been left untouched.\n",
      "  epochs.set_eeg_reference(projection=True, verbose=verbose)#.apply_baseline(baseline=baseline)\n"
     ]
    },
    {
     "name": "stdout",
     "output_type": "stream",
     "text": [
      "<RawArray | 61 x 556 (5.5 s), ~355 kB, data loaded> 4.0 info empirical\n",
      "<RawArray | 61 x 488 (4.9 s), ~322 kB, data loaded> 4.0 info empirical\n",
      "<RawArray | 61 x 515 (5.1 s), ~335 kB, data loaded> 4.0 info empirical\n",
      "<RawArray | 61 x 413 (4.1 s), ~287 kB, data loaded> 4.0 info empirical\n"
     ]
    },
    {
     "name": "stderr",
     "output_type": "stream",
     "text": [
      "c:\\Users\\Lukas\\Documents\\projects\\esinet\\evaluate\\..\\esinet\\util\\util.py:420: RuntimeWarning: Too few samples (required : 310 got : 100), covariance estimate may be unreliable\n",
      "  data_cov = mne.compute_raw_covariance(raw, tmin=tmin,\n",
      "c:\\Users\\Lukas\\Documents\\projects\\esinet\\evaluate\\..\\esinet\\util\\util.py:388: RuntimeWarning: An average reference projection was already added. The data has been left untouched.\n",
      "  epochs.set_eeg_reference(projection=True, verbose=verbose)#.apply_baseline(baseline=baseline)\n",
      "c:\\Users\\Lukas\\Documents\\projects\\esinet\\evaluate\\..\\esinet\\util\\util.py:423: RuntimeWarning: Epochs are not baseline corrected, covariance matrix may be inaccurate\n",
      "  data_cov = mne.compute_covariance(epochs, tmin=0.0,\n",
      "c:\\Users\\Lukas\\Documents\\projects\\esinet\\evaluate\\..\\esinet\\util\\util.py:423: RuntimeWarning: Too few samples (required : 310 got : 13), covariance estimate may be unreliable\n",
      "  data_cov = mne.compute_covariance(epochs, tmin=0.0,\n",
      "c:\\Users\\Lukas\\Documents\\projects\\esinet\\evaluate\\..\\esinet\\util\\util.py:388: RuntimeWarning: An average reference projection was already added. The data has been left untouched.\n",
      "  epochs.set_eeg_reference(projection=True, verbose=verbose)#.apply_baseline(baseline=baseline)\n",
      "c:\\Users\\Lukas\\Documents\\projects\\esinet\\evaluate\\..\\esinet\\util\\util.py:420: RuntimeWarning: Too few samples (required : 310 got : 60), covariance estimate may be unreliable\n",
      "  data_cov = mne.compute_raw_covariance(raw, tmin=tmin,\n",
      "c:\\Users\\Lukas\\Documents\\projects\\esinet\\evaluate\\..\\esinet\\util\\util.py:388: RuntimeWarning: An average reference projection was already added. The data has been left untouched.\n",
      "  epochs.set_eeg_reference(projection=True, verbose=verbose)#.apply_baseline(baseline=baseline)\n",
      "c:\\Users\\Lukas\\Documents\\projects\\esinet\\evaluate\\..\\esinet\\util\\util.py:420: RuntimeWarning: Too few samples (required : 310 got : 120), covariance estimate may be unreliable\n",
      "  data_cov = mne.compute_raw_covariance(raw, tmin=tmin,\n",
      "c:\\Users\\Lukas\\Documents\\projects\\esinet\\evaluate\\..\\esinet\\util\\util.py:388: RuntimeWarning: An average reference projection was already added. The data has been left untouched.\n",
      "  epochs.set_eeg_reference(projection=True, verbose=verbose)#.apply_baseline(baseline=baseline)\n"
     ]
    },
    {
     "name": "stdout",
     "output_type": "stream",
     "text": [
      "<RawArray | 61 x 472 (4.7 s), ~315 kB, data loaded> 4.0 info empirical\n",
      "<RawArray | 61 x 523 (5.2 s), ~339 kB, data loaded> 4.0 info empirical\n",
      "<RawArray | 61 x 537 (5.4 s), ~346 kB, data loaded> 4.0 info empirical\n",
      "<RawArray | 61 x 428 (4.3 s), ~294 kB, data loaded> 4.0 info empirical\n"
     ]
    },
    {
     "name": "stderr",
     "output_type": "stream",
     "text": [
      "c:\\Users\\Lukas\\Documents\\projects\\esinet\\evaluate\\..\\esinet\\util\\util.py:420: RuntimeWarning: Too few samples (required : 310 got : 120), covariance estimate may be unreliable\n",
      "  data_cov = mne.compute_raw_covariance(raw, tmin=tmin,\n",
      "c:\\Users\\Lukas\\Documents\\projects\\esinet\\evaluate\\..\\esinet\\util\\util.py:388: RuntimeWarning: An average reference projection was already added. The data has been left untouched.\n",
      "  epochs.set_eeg_reference(projection=True, verbose=verbose)#.apply_baseline(baseline=baseline)\n",
      "c:\\Users\\Lukas\\Documents\\projects\\esinet\\evaluate\\..\\esinet\\util\\util.py:420: RuntimeWarning: Too few samples (required : 310 got : 20), covariance estimate may be unreliable\n",
      "  data_cov = mne.compute_raw_covariance(raw, tmin=tmin,\n",
      "c:\\Users\\Lukas\\Documents\\projects\\esinet\\evaluate\\..\\esinet\\util\\util.py:388: RuntimeWarning: An average reference projection was already added. The data has been left untouched.\n",
      "  epochs.set_eeg_reference(projection=True, verbose=verbose)#.apply_baseline(baseline=baseline)\n",
      "c:\\Users\\Lukas\\Documents\\projects\\esinet\\evaluate\\..\\esinet\\util\\util.py:420: RuntimeWarning: Too few samples (required : 310 got : 80), covariance estimate may be unreliable\n",
      "  data_cov = mne.compute_raw_covariance(raw, tmin=tmin,\n",
      "c:\\Users\\Lukas\\Documents\\projects\\esinet\\evaluate\\..\\esinet\\util\\util.py:388: RuntimeWarning: An average reference projection was already added. The data has been left untouched.\n",
      "  epochs.set_eeg_reference(projection=True, verbose=verbose)#.apply_baseline(baseline=baseline)\n",
      "c:\\Users\\Lukas\\Documents\\projects\\esinet\\evaluate\\..\\esinet\\util\\util.py:420: RuntimeWarning: Too few samples (required : 310 got : 60), covariance estimate may be unreliable\n",
      "  data_cov = mne.compute_raw_covariance(raw, tmin=tmin,\n",
      "c:\\Users\\Lukas\\Documents\\projects\\esinet\\evaluate\\..\\esinet\\util\\util.py:388: RuntimeWarning: An average reference projection was already added. The data has been left untouched.\n",
      "  epochs.set_eeg_reference(projection=True, verbose=verbose)#.apply_baseline(baseline=baseline)\n"
     ]
    },
    {
     "name": "stdout",
     "output_type": "stream",
     "text": [
      "<RawArray | 61 x 496 (5.0 s), ~326 kB, data loaded> 4.0 info empirical\n",
      "<RawArray | 61 x 468 (4.7 s), ~313 kB, data loaded> 4.0 info empirical\n",
      "<RawArray | 61 x 516 (5.2 s), ~336 kB, data loaded> 4.0 info empirical\n",
      "<RawArray | 61 x 477 (4.8 s), ~317 kB, data loaded> 4.0 info empirical\n",
      "<RawArray | 61 x 457 (4.6 s), ~308 kB, data loaded> 4.0 info empirical\n"
     ]
    },
    {
     "name": "stderr",
     "output_type": "stream",
     "text": [
      "c:\\Users\\Lukas\\Documents\\projects\\esinet\\evaluate\\..\\esinet\\util\\util.py:420: RuntimeWarning: Too few samples (required : 310 got : 100), covariance estimate may be unreliable\n",
      "  data_cov = mne.compute_raw_covariance(raw, tmin=tmin,\n",
      "c:\\Users\\Lukas\\Documents\\projects\\esinet\\evaluate\\..\\esinet\\util\\util.py:388: RuntimeWarning: An average reference projection was already added. The data has been left untouched.\n",
      "  epochs.set_eeg_reference(projection=True, verbose=verbose)#.apply_baseline(baseline=baseline)\n",
      "c:\\Users\\Lukas\\Documents\\projects\\esinet\\evaluate\\..\\esinet\\util\\util.py:420: RuntimeWarning: Too few samples (required : 310 got : 60), covariance estimate may be unreliable\n",
      "  data_cov = mne.compute_raw_covariance(raw, tmin=tmin,\n",
      "c:\\Users\\Lukas\\Documents\\projects\\esinet\\evaluate\\..\\esinet\\util\\util.py:388: RuntimeWarning: An average reference projection was already added. The data has been left untouched.\n",
      "  epochs.set_eeg_reference(projection=True, verbose=verbose)#.apply_baseline(baseline=baseline)\n",
      "c:\\Users\\Lukas\\Documents\\projects\\esinet\\evaluate\\..\\esinet\\util\\util.py:420: RuntimeWarning: Too few samples (required : 310 got : 40), covariance estimate may be unreliable\n",
      "  data_cov = mne.compute_raw_covariance(raw, tmin=tmin,\n",
      "c:\\Users\\Lukas\\Documents\\projects\\esinet\\evaluate\\..\\esinet\\util\\util.py:388: RuntimeWarning: An average reference projection was already added. The data has been left untouched.\n",
      "  epochs.set_eeg_reference(projection=True, verbose=verbose)#.apply_baseline(baseline=baseline)\n",
      "c:\\Users\\Lukas\\Documents\\projects\\esinet\\evaluate\\..\\esinet\\util\\util.py:423: RuntimeWarning: Epochs are not baseline corrected, covariance matrix may be inaccurate\n",
      "  data_cov = mne.compute_covariance(epochs, tmin=0.0,\n",
      "c:\\Users\\Lukas\\Documents\\projects\\esinet\\evaluate\\..\\esinet\\util\\util.py:423: RuntimeWarning: Too few samples (required : 310 got : 4), covariance estimate may be unreliable\n",
      "  data_cov = mne.compute_covariance(epochs, tmin=0.0,\n",
      "c:\\Users\\Lukas\\Documents\\projects\\esinet\\evaluate\\..\\esinet\\util\\util.py:388: RuntimeWarning: An average reference projection was already added. The data has been left untouched.\n",
      "  epochs.set_eeg_reference(projection=True, verbose=verbose)#.apply_baseline(baseline=baseline)\n"
     ]
    },
    {
     "name": "stdout",
     "output_type": "stream",
     "text": [
      "<RawArray | 61 x 404 (4.0 s), ~282 kB, data loaded> 4.0 info empirical\n",
      "<RawArray | 61 x 479 (4.8 s), ~318 kB, data loaded> 4.0 info empirical\n",
      "<RawArray | 61 x 544 (5.4 s), ~349 kB, data loaded> 4.0 info empirical\n",
      "<RawArray | 61 x 583 (5.8 s), ~368 kB, data loaded> 4.0 info empirical\n"
     ]
    },
    {
     "name": "stderr",
     "output_type": "stream",
     "text": [
      "c:\\Users\\Lukas\\Documents\\projects\\esinet\\evaluate\\..\\esinet\\util\\util.py:420: RuntimeWarning: Too few samples (required : 310 got : 60), covariance estimate may be unreliable\n",
      "  data_cov = mne.compute_raw_covariance(raw, tmin=tmin,\n",
      "c:\\Users\\Lukas\\Documents\\projects\\esinet\\evaluate\\..\\esinet\\util\\util.py:388: RuntimeWarning: An average reference projection was already added. The data has been left untouched.\n",
      "  epochs.set_eeg_reference(projection=True, verbose=verbose)#.apply_baseline(baseline=baseline)\n",
      "c:\\Users\\Lukas\\Documents\\projects\\esinet\\evaluate\\..\\esinet\\util\\util.py:420: RuntimeWarning: Too few samples (required : 310 got : 140), covariance estimate may be unreliable\n",
      "  data_cov = mne.compute_raw_covariance(raw, tmin=tmin,\n",
      "c:\\Users\\Lukas\\Documents\\projects\\esinet\\evaluate\\..\\esinet\\util\\util.py:388: RuntimeWarning: An average reference projection was already added. The data has been left untouched.\n",
      "  epochs.set_eeg_reference(projection=True, verbose=verbose)#.apply_baseline(baseline=baseline)\n",
      "c:\\Users\\Lukas\\Documents\\projects\\esinet\\evaluate\\..\\esinet\\util\\util.py:420: RuntimeWarning: Too few samples (required : 310 got : 180), covariance estimate may be unreliable\n",
      "  data_cov = mne.compute_raw_covariance(raw, tmin=tmin,\n",
      "c:\\Users\\Lukas\\Documents\\projects\\esinet\\evaluate\\..\\esinet\\util\\util.py:388: RuntimeWarning: An average reference projection was already added. The data has been left untouched.\n",
      "  epochs.set_eeg_reference(projection=True, verbose=verbose)#.apply_baseline(baseline=baseline)\n",
      "c:\\Users\\Lukas\\Documents\\projects\\esinet\\evaluate\\..\\esinet\\util\\util.py:420: RuntimeWarning: Too few samples (required : 310 got : 140), covariance estimate may be unreliable\n",
      "  data_cov = mne.compute_raw_covariance(raw, tmin=tmin,\n",
      "c:\\Users\\Lukas\\Documents\\projects\\esinet\\evaluate\\..\\esinet\\util\\util.py:388: RuntimeWarning: An average reference projection was already added. The data has been left untouched.\n",
      "  epochs.set_eeg_reference(projection=True, verbose=verbose)#.apply_baseline(baseline=baseline)\n"
     ]
    },
    {
     "name": "stdout",
     "output_type": "stream",
     "text": [
      "<RawArray | 61 x 547 (5.5 s), ~350 kB, data loaded> 4.0 info empirical\n",
      "<RawArray | 61 x 445 (4.4 s), ~302 kB, data loaded> 4.0 info empirical\n",
      "<RawArray | 61 x 599 (6.0 s), ~375 kB, data loaded> 4.0 info empirical\n",
      "<RawArray | 61 x 479 (4.8 s), ~318 kB, data loaded> 4.0 info empirical\n",
      "<RawArray | 61 x 490 (4.9 s), ~323 kB, data loaded> 4.0 info empirical\n"
     ]
    },
    {
     "name": "stderr",
     "output_type": "stream",
     "text": [
      "c:\\Users\\Lukas\\Documents\\projects\\esinet\\evaluate\\..\\esinet\\util\\util.py:420: RuntimeWarning: Too few samples (required : 310 got : 40), covariance estimate may be unreliable\n",
      "  data_cov = mne.compute_raw_covariance(raw, tmin=tmin,\n",
      "c:\\Users\\Lukas\\Documents\\projects\\esinet\\evaluate\\..\\esinet\\util\\util.py:388: RuntimeWarning: An average reference projection was already added. The data has been left untouched.\n",
      "  epochs.set_eeg_reference(projection=True, verbose=verbose)#.apply_baseline(baseline=baseline)\n",
      "c:\\Users\\Lukas\\Documents\\projects\\esinet\\evaluate\\..\\esinet\\util\\util.py:420: RuntimeWarning: Too few samples (required : 310 got : 180), covariance estimate may be unreliable\n",
      "  data_cov = mne.compute_raw_covariance(raw, tmin=tmin,\n",
      "c:\\Users\\Lukas\\Documents\\projects\\esinet\\evaluate\\..\\esinet\\util\\util.py:388: RuntimeWarning: An average reference projection was already added. The data has been left untouched.\n",
      "  epochs.set_eeg_reference(projection=True, verbose=verbose)#.apply_baseline(baseline=baseline)\n",
      "c:\\Users\\Lukas\\Documents\\projects\\esinet\\evaluate\\..\\esinet\\util\\util.py:420: RuntimeWarning: Too few samples (required : 310 got : 60), covariance estimate may be unreliable\n",
      "  data_cov = mne.compute_raw_covariance(raw, tmin=tmin,\n",
      "c:\\Users\\Lukas\\Documents\\projects\\esinet\\evaluate\\..\\esinet\\util\\util.py:388: RuntimeWarning: An average reference projection was already added. The data has been left untouched.\n",
      "  epochs.set_eeg_reference(projection=True, verbose=verbose)#.apply_baseline(baseline=baseline)\n",
      "c:\\Users\\Lukas\\Documents\\projects\\esinet\\evaluate\\..\\esinet\\util\\util.py:420: RuntimeWarning: Too few samples (required : 310 got : 80), covariance estimate may be unreliable\n",
      "  data_cov = mne.compute_raw_covariance(raw, tmin=tmin,\n",
      "c:\\Users\\Lukas\\Documents\\projects\\esinet\\evaluate\\..\\esinet\\util\\util.py:388: RuntimeWarning: An average reference projection was already added. The data has been left untouched.\n",
      "  epochs.set_eeg_reference(projection=True, verbose=verbose)#.apply_baseline(baseline=baseline)\n"
     ]
    },
    {
     "name": "stdout",
     "output_type": "stream",
     "text": [
      "<RawArray | 61 x 435 (4.3 s), ~297 kB, data loaded> 4.0 info empirical\n",
      "<RawArray | 61 x 453 (4.5 s), ~306 kB, data loaded> 4.0 info empirical\n",
      "<RawArray | 61 x 545 (5.4 s), ~350 kB, data loaded> 4.0 info empirical\n",
      "<RawArray | 61 x 507 (5.1 s), ~331 kB, data loaded> 4.0 info empirical\n",
      "<RawArray | 61 x 503 (5.0 s), ~330 kB, data loaded> 4.0 info empirical\n"
     ]
    },
    {
     "name": "stderr",
     "output_type": "stream",
     "text": [
      "c:\\Users\\Lukas\\Documents\\projects\\esinet\\evaluate\\..\\esinet\\util\\util.py:420: RuntimeWarning: Too few samples (required : 310 got : 20), covariance estimate may be unreliable\n",
      "  data_cov = mne.compute_raw_covariance(raw, tmin=tmin,\n",
      "c:\\Users\\Lukas\\Documents\\projects\\esinet\\evaluate\\..\\esinet\\util\\util.py:388: RuntimeWarning: An average reference projection was already added. The data has been left untouched.\n",
      "  epochs.set_eeg_reference(projection=True, verbose=verbose)#.apply_baseline(baseline=baseline)\n",
      "c:\\Users\\Lukas\\Documents\\projects\\esinet\\evaluate\\..\\esinet\\util\\util.py:420: RuntimeWarning: Too few samples (required : 310 got : 40), covariance estimate may be unreliable\n",
      "  data_cov = mne.compute_raw_covariance(raw, tmin=tmin,\n",
      "c:\\Users\\Lukas\\Documents\\projects\\esinet\\evaluate\\..\\esinet\\util\\util.py:388: RuntimeWarning: An average reference projection was already added. The data has been left untouched.\n",
      "  epochs.set_eeg_reference(projection=True, verbose=verbose)#.apply_baseline(baseline=baseline)\n",
      "c:\\Users\\Lukas\\Documents\\projects\\esinet\\evaluate\\..\\esinet\\util\\util.py:420: RuntimeWarning: Too few samples (required : 310 got : 140), covariance estimate may be unreliable\n",
      "  data_cov = mne.compute_raw_covariance(raw, tmin=tmin,\n",
      "c:\\Users\\Lukas\\Documents\\projects\\esinet\\evaluate\\..\\esinet\\util\\util.py:388: RuntimeWarning: An average reference projection was already added. The data has been left untouched.\n",
      "  epochs.set_eeg_reference(projection=True, verbose=verbose)#.apply_baseline(baseline=baseline)\n",
      "c:\\Users\\Lukas\\Documents\\projects\\esinet\\evaluate\\..\\esinet\\util\\util.py:420: RuntimeWarning: Too few samples (required : 310 got : 100), covariance estimate may be unreliable\n",
      "  data_cov = mne.compute_raw_covariance(raw, tmin=tmin,\n",
      "c:\\Users\\Lukas\\Documents\\projects\\esinet\\evaluate\\..\\esinet\\util\\util.py:388: RuntimeWarning: An average reference projection was already added. The data has been left untouched.\n",
      "  epochs.set_eeg_reference(projection=True, verbose=verbose)#.apply_baseline(baseline=baseline)\n",
      "c:\\Users\\Lukas\\Documents\\projects\\esinet\\evaluate\\..\\esinet\\util\\util.py:420: RuntimeWarning: Too few samples (required : 310 got : 100), covariance estimate may be unreliable\n",
      "  data_cov = mne.compute_raw_covariance(raw, tmin=tmin,\n",
      "c:\\Users\\Lukas\\Documents\\projects\\esinet\\evaluate\\..\\esinet\\util\\util.py:388: RuntimeWarning: An average reference projection was already added. The data has been left untouched.\n",
      "  epochs.set_eeg_reference(projection=True, verbose=verbose)#.apply_baseline(baseline=baseline)\n",
      "c:\\Users\\Lukas\\Documents\\projects\\esinet\\evaluate\\..\\esinet\\util\\util.py:420: RuntimeWarning: Too few samples (required : 310 got : 100), covariance estimate may be unreliable\n",
      "  data_cov = mne.compute_raw_covariance(raw, tmin=tmin,\n",
      "c:\\Users\\Lukas\\Documents\\projects\\esinet\\evaluate\\..\\esinet\\util\\util.py:388: RuntimeWarning: An average reference projection was already added. The data has been left untouched.\n",
      "  epochs.set_eeg_reference(projection=True, verbose=verbose)#.apply_baseline(baseline=baseline)\n",
      "c:\\Users\\Lukas\\Documents\\projects\\esinet\\evaluate\\..\\esinet\\util\\util.py:420: RuntimeWarning: Too few samples (required : 310 got : 180), covariance estimate may be unreliable\n",
      "  data_cov = mne.compute_raw_covariance(raw, tmin=tmin,\n",
      "c:\\Users\\Lukas\\Documents\\projects\\esinet\\evaluate\\..\\esinet\\util\\util.py:388: RuntimeWarning: An average reference projection was already added. The data has been left untouched.\n",
      "  epochs.set_eeg_reference(projection=True, verbose=verbose)#.apply_baseline(baseline=baseline)\n",
      "c:\\Users\\Lukas\\Documents\\projects\\esinet\\evaluate\\..\\esinet\\util\\util.py:420: RuntimeWarning: Too few samples (required : 310 got : 100), covariance estimate may be unreliable\n",
      "  data_cov = mne.compute_raw_covariance(raw, tmin=tmin,\n",
      "c:\\Users\\Lukas\\Documents\\projects\\esinet\\evaluate\\..\\esinet\\util\\util.py:388: RuntimeWarning: An average reference projection was already added. The data has been left untouched.\n",
      "  epochs.set_eeg_reference(projection=True, verbose=verbose)#.apply_baseline(baseline=baseline)\n"
     ]
    },
    {
     "name": "stdout",
     "output_type": "stream",
     "text": [
      "<RawArray | 61 x 503 (5.0 s), ~330 kB, data loaded> 4.0 info empirical\n",
      "<RawArray | 61 x 587 (5.9 s), ~370 kB, data loaded> 4.0 info empirical\n",
      "<RawArray | 61 x 503 (5.0 s), ~330 kB, data loaded> 4.0 info empirical\n",
      "<RawArray | 61 x 523 (5.2 s), ~339 kB, data loaded> 4.0 info empirical\n"
     ]
    },
    {
     "name": "stderr",
     "output_type": "stream",
     "text": [
      "c:\\Users\\Lukas\\Documents\\projects\\esinet\\evaluate\\..\\esinet\\util\\util.py:420: RuntimeWarning: Too few samples (required : 310 got : 120), covariance estimate may be unreliable\n",
      "  data_cov = mne.compute_raw_covariance(raw, tmin=tmin,\n",
      "c:\\Users\\Lukas\\Documents\\projects\\esinet\\evaluate\\..\\esinet\\util\\util.py:388: RuntimeWarning: An average reference projection was already added. The data has been left untouched.\n",
      "  epochs.set_eeg_reference(projection=True, verbose=verbose)#.apply_baseline(baseline=baseline)\n",
      "c:\\Users\\Lukas\\Documents\\projects\\esinet\\evaluate\\..\\esinet\\util\\util.py:420: RuntimeWarning: Too few samples (required : 310 got : 20), covariance estimate may be unreliable\n",
      "  data_cov = mne.compute_raw_covariance(raw, tmin=tmin,\n",
      "c:\\Users\\Lukas\\Documents\\projects\\esinet\\evaluate\\..\\esinet\\util\\util.py:388: RuntimeWarning: An average reference projection was already added. The data has been left untouched.\n",
      "  epochs.set_eeg_reference(projection=True, verbose=verbose)#.apply_baseline(baseline=baseline)\n",
      "c:\\Users\\Lukas\\Documents\\projects\\esinet\\evaluate\\..\\esinet\\util\\util.py:420: RuntimeWarning: Too few samples (required : 310 got : 160), covariance estimate may be unreliable\n",
      "  data_cov = mne.compute_raw_covariance(raw, tmin=tmin,\n",
      "c:\\Users\\Lukas\\Documents\\projects\\esinet\\evaluate\\..\\esinet\\util\\util.py:388: RuntimeWarning: An average reference projection was already added. The data has been left untouched.\n",
      "  epochs.set_eeg_reference(projection=True, verbose=verbose)#.apply_baseline(baseline=baseline)\n",
      "c:\\Users\\Lukas\\Documents\\projects\\esinet\\evaluate\\..\\esinet\\util\\util.py:420: RuntimeWarning: Too few samples (required : 310 got : 180), covariance estimate may be unreliable\n",
      "  data_cov = mne.compute_raw_covariance(raw, tmin=tmin,\n",
      "c:\\Users\\Lukas\\Documents\\projects\\esinet\\evaluate\\..\\esinet\\util\\util.py:388: RuntimeWarning: An average reference projection was already added. The data has been left untouched.\n",
      "  epochs.set_eeg_reference(projection=True, verbose=verbose)#.apply_baseline(baseline=baseline)\n"
     ]
    },
    {
     "name": "stdout",
     "output_type": "stream",
     "text": [
      "<RawArray | 61 x 438 (4.4 s), ~299 kB, data loaded> 4.0 info empirical\n",
      "<RawArray | 61 x 565 (5.6 s), ~359 kB, data loaded> 4.0 info empirical\n",
      "<RawArray | 61 x 592 (5.9 s), ~372 kB, data loaded> 4.0 info empirical\n",
      "<RawArray | 61 x 564 (5.6 s), ~359 kB, data loaded> 4.0 info empirical\n",
      "<RawArray | 61 x 570 (5.7 s), ~361 kB, data loaded> 4.0 info empirical\n"
     ]
    },
    {
     "name": "stderr",
     "output_type": "stream",
     "text": [
      "c:\\Users\\Lukas\\Documents\\projects\\esinet\\evaluate\\..\\esinet\\util\\util.py:420: RuntimeWarning: Too few samples (required : 310 got : 160), covariance estimate may be unreliable\n",
      "  data_cov = mne.compute_raw_covariance(raw, tmin=tmin,\n",
      "c:\\Users\\Lukas\\Documents\\projects\\esinet\\evaluate\\..\\esinet\\util\\util.py:388: RuntimeWarning: An average reference projection was already added. The data has been left untouched.\n",
      "  epochs.set_eeg_reference(projection=True, verbose=verbose)#.apply_baseline(baseline=baseline)\n",
      "c:\\Users\\Lukas\\Documents\\projects\\esinet\\evaluate\\..\\esinet\\util\\util.py:420: RuntimeWarning: Too few samples (required : 310 got : 160), covariance estimate may be unreliable\n",
      "  data_cov = mne.compute_raw_covariance(raw, tmin=tmin,\n",
      "c:\\Users\\Lukas\\Documents\\projects\\esinet\\evaluate\\..\\esinet\\util\\util.py:388: RuntimeWarning: An average reference projection was already added. The data has been left untouched.\n",
      "  epochs.set_eeg_reference(projection=True, verbose=verbose)#.apply_baseline(baseline=baseline)\n",
      "c:\\Users\\Lukas\\Documents\\projects\\esinet\\evaluate\\..\\esinet\\util\\util.py:420: RuntimeWarning: Too few samples (required : 310 got : 140), covariance estimate may be unreliable\n",
      "  data_cov = mne.compute_raw_covariance(raw, tmin=tmin,\n",
      "c:\\Users\\Lukas\\Documents\\projects\\esinet\\evaluate\\..\\esinet\\util\\util.py:388: RuntimeWarning: An average reference projection was already added. The data has been left untouched.\n",
      "  epochs.set_eeg_reference(projection=True, verbose=verbose)#.apply_baseline(baseline=baseline)\n",
      "c:\\Users\\Lukas\\Documents\\projects\\esinet\\evaluate\\..\\esinet\\util\\util.py:420: RuntimeWarning: Too few samples (required : 310 got : 40), covariance estimate may be unreliable\n",
      "  data_cov = mne.compute_raw_covariance(raw, tmin=tmin,\n"
     ]
    },
    {
     "name": "stdout",
     "output_type": "stream",
     "text": [
      "<RawArray | 61 x 550 (5.5 s), ~352 kB, data loaded> 4.0 info empirical\n",
      "<RawArray | 61 x 458 (4.6 s), ~308 kB, data loaded> 4.0 info empirical\n",
      "<RawArray | 61 x 521 (5.2 s), ~338 kB, data loaded> 4.0 info empirical\n",
      "<RawArray | 61 x 490 (4.9 s), ~323 kB, data loaded> 4.0 info empirical\n",
      "<RawArray | 61 x 562 (5.6 s), ~358 kB, data loaded> 4.0 info empirical\n"
     ]
    },
    {
     "name": "stderr",
     "output_type": "stream",
     "text": [
      "c:\\Users\\Lukas\\Documents\\projects\\esinet\\evaluate\\..\\esinet\\util\\util.py:388: RuntimeWarning: An average reference projection was already added. The data has been left untouched.\n",
      "  epochs.set_eeg_reference(projection=True, verbose=verbose)#.apply_baseline(baseline=baseline)\n",
      "c:\\Users\\Lukas\\Documents\\projects\\esinet\\evaluate\\..\\esinet\\util\\util.py:420: RuntimeWarning: Too few samples (required : 310 got : 120), covariance estimate may be unreliable\n",
      "  data_cov = mne.compute_raw_covariance(raw, tmin=tmin,\n",
      "c:\\Users\\Lukas\\Documents\\projects\\esinet\\evaluate\\..\\esinet\\util\\util.py:388: RuntimeWarning: An average reference projection was already added. The data has been left untouched.\n",
      "  epochs.set_eeg_reference(projection=True, verbose=verbose)#.apply_baseline(baseline=baseline)\n",
      "c:\\Users\\Lukas\\Documents\\projects\\esinet\\evaluate\\..\\esinet\\util\\util.py:420: RuntimeWarning: Too few samples (required : 310 got : 80), covariance estimate may be unreliable\n",
      "  data_cov = mne.compute_raw_covariance(raw, tmin=tmin,\n",
      "c:\\Users\\Lukas\\Documents\\projects\\esinet\\evaluate\\..\\esinet\\util\\util.py:388: RuntimeWarning: An average reference projection was already added. The data has been left untouched.\n",
      "  epochs.set_eeg_reference(projection=True, verbose=verbose)#.apply_baseline(baseline=baseline)\n",
      "c:\\Users\\Lukas\\Documents\\projects\\esinet\\evaluate\\..\\esinet\\util\\util.py:420: RuntimeWarning: Too few samples (required : 310 got : 160), covariance estimate may be unreliable\n",
      "  data_cov = mne.compute_raw_covariance(raw, tmin=tmin,\n",
      "c:\\Users\\Lukas\\Documents\\projects\\esinet\\evaluate\\..\\esinet\\util\\util.py:388: RuntimeWarning: An average reference projection was already added. The data has been left untouched.\n",
      "  epochs.set_eeg_reference(projection=True, verbose=verbose)#.apply_baseline(baseline=baseline)\n",
      "c:\\Users\\Lukas\\Documents\\projects\\esinet\\evaluate\\..\\esinet\\util\\util.py:420: RuntimeWarning: Too few samples (required : 310 got : 120), covariance estimate may be unreliable\n",
      "  data_cov = mne.compute_raw_covariance(raw, tmin=tmin,\n",
      "c:\\Users\\Lukas\\Documents\\projects\\esinet\\evaluate\\..\\esinet\\util\\util.py:388: RuntimeWarning: An average reference projection was already added. The data has been left untouched.\n",
      "  epochs.set_eeg_reference(projection=True, verbose=verbose)#.apply_baseline(baseline=baseline)\n"
     ]
    },
    {
     "name": "stdout",
     "output_type": "stream",
     "text": [
      "<RawArray | 61 x 525 (5.2 s), ~340 kB, data loaded> 4.0 info empirical\n",
      "<RawArray | 61 x 594 (5.9 s), ~373 kB, data loaded> 4.0 info empirical\n",
      "<RawArray | 61 x 587 (5.9 s), ~370 kB, data loaded> 4.0 info empirical\n",
      "<RawArray | 61 x 592 (5.9 s), ~372 kB, data loaded> 4.0 info empirical\n"
     ]
    },
    {
     "name": "stderr",
     "output_type": "stream",
     "text": [
      "c:\\Users\\Lukas\\Documents\\projects\\esinet\\evaluate\\..\\esinet\\util\\util.py:420: RuntimeWarning: Too few samples (required : 310 got : 180), covariance estimate may be unreliable\n",
      "  data_cov = mne.compute_raw_covariance(raw, tmin=tmin,\n",
      "c:\\Users\\Lukas\\Documents\\projects\\esinet\\evaluate\\..\\esinet\\util\\util.py:388: RuntimeWarning: An average reference projection was already added. The data has been left untouched.\n",
      "  epochs.set_eeg_reference(projection=True, verbose=verbose)#.apply_baseline(baseline=baseline)\n",
      "c:\\Users\\Lukas\\Documents\\projects\\esinet\\evaluate\\..\\esinet\\util\\util.py:420: RuntimeWarning: Too few samples (required : 310 got : 180), covariance estimate may be unreliable\n",
      "  data_cov = mne.compute_raw_covariance(raw, tmin=tmin,\n",
      "c:\\Users\\Lukas\\Documents\\projects\\esinet\\evaluate\\..\\esinet\\util\\util.py:388: RuntimeWarning: An average reference projection was already added. The data has been left untouched.\n",
      "  epochs.set_eeg_reference(projection=True, verbose=verbose)#.apply_baseline(baseline=baseline)\n",
      "c:\\Users\\Lukas\\Documents\\projects\\esinet\\evaluate\\..\\esinet\\util\\util.py:420: RuntimeWarning: Too few samples (required : 310 got : 180), covariance estimate may be unreliable\n",
      "  data_cov = mne.compute_raw_covariance(raw, tmin=tmin,\n",
      "c:\\Users\\Lukas\\Documents\\projects\\esinet\\evaluate\\..\\esinet\\util\\util.py:388: RuntimeWarning: An average reference projection was already added. The data has been left untouched.\n",
      "  epochs.set_eeg_reference(projection=True, verbose=verbose)#.apply_baseline(baseline=baseline)\n",
      "c:\\Users\\Lukas\\Documents\\projects\\esinet\\evaluate\\..\\esinet\\util\\util.py:420: RuntimeWarning: Too few samples (required : 310 got : 20), covariance estimate may be unreliable\n",
      "  data_cov = mne.compute_raw_covariance(raw, tmin=tmin,\n",
      "c:\\Users\\Lukas\\Documents\\projects\\esinet\\evaluate\\..\\esinet\\util\\util.py:388: RuntimeWarning: An average reference projection was already added. The data has been left untouched.\n",
      "  epochs.set_eeg_reference(projection=True, verbose=verbose)#.apply_baseline(baseline=baseline)\n"
     ]
    },
    {
     "name": "stdout",
     "output_type": "stream",
     "text": [
      "<RawArray | 61 x 429 (4.3 s), ~294 kB, data loaded> 4.0 info empirical\n",
      "<RawArray | 61 x 431 (4.3 s), ~295 kB, data loaded> 4.0 info empirical\n",
      "<RawArray | 61 x 491 (4.9 s), ~324 kB, data loaded> 4.0 info empirical\n",
      "<RawArray | 61 x 422 (4.2 s), ~291 kB, data loaded> 4.0 info empirical\n",
      "<RawArray | 61 x 501 (5.0 s), ~329 kB, data loaded> 4.0 info empirical\n"
     ]
    },
    {
     "name": "stderr",
     "output_type": "stream",
     "text": [
      "c:\\Users\\Lukas\\Documents\\projects\\esinet\\evaluate\\..\\esinet\\util\\util.py:420: RuntimeWarning: Too few samples (required : 310 got : 20), covariance estimate may be unreliable\n",
      "  data_cov = mne.compute_raw_covariance(raw, tmin=tmin,\n",
      "c:\\Users\\Lukas\\Documents\\projects\\esinet\\evaluate\\..\\esinet\\util\\util.py:388: RuntimeWarning: An average reference projection was already added. The data has been left untouched.\n",
      "  epochs.set_eeg_reference(projection=True, verbose=verbose)#.apply_baseline(baseline=baseline)\n",
      "c:\\Users\\Lukas\\Documents\\projects\\esinet\\evaluate\\..\\esinet\\util\\util.py:420: RuntimeWarning: Too few samples (required : 310 got : 80), covariance estimate may be unreliable\n",
      "  data_cov = mne.compute_raw_covariance(raw, tmin=tmin,\n",
      "c:\\Users\\Lukas\\Documents\\projects\\esinet\\evaluate\\..\\esinet\\util\\util.py:388: RuntimeWarning: An average reference projection was already added. The data has been left untouched.\n",
      "  epochs.set_eeg_reference(projection=True, verbose=verbose)#.apply_baseline(baseline=baseline)\n",
      "c:\\Users\\Lukas\\Documents\\projects\\esinet\\evaluate\\..\\esinet\\util\\util.py:420: RuntimeWarning: Too few samples (required : 310 got : 20), covariance estimate may be unreliable\n",
      "  data_cov = mne.compute_raw_covariance(raw, tmin=tmin,\n",
      "c:\\Users\\Lukas\\Documents\\projects\\esinet\\evaluate\\..\\esinet\\util\\util.py:388: RuntimeWarning: An average reference projection was already added. The data has been left untouched.\n",
      "  epochs.set_eeg_reference(projection=True, verbose=verbose)#.apply_baseline(baseline=baseline)\n",
      "c:\\Users\\Lukas\\Documents\\projects\\esinet\\evaluate\\..\\esinet\\util\\util.py:420: RuntimeWarning: Too few samples (required : 310 got : 100), covariance estimate may be unreliable\n",
      "  data_cov = mne.compute_raw_covariance(raw, tmin=tmin,\n",
      "c:\\Users\\Lukas\\Documents\\projects\\esinet\\evaluate\\..\\esinet\\util\\util.py:388: RuntimeWarning: An average reference projection was already added. The data has been left untouched.\n",
      "  epochs.set_eeg_reference(projection=True, verbose=verbose)#.apply_baseline(baseline=baseline)\n"
     ]
    },
    {
     "name": "stdout",
     "output_type": "stream",
     "text": [
      "<RawArray | 61 x 543 (5.4 s), ~349 kB, data loaded> 4.0 info empirical\n",
      "<RawArray | 61 x 412 (4.1 s), ~286 kB, data loaded> 4.0 info empirical\n",
      "<RawArray | 61 x 582 (5.8 s), ~367 kB, data loaded> 4.0 info empirical\n",
      "<RawArray | 61 x 493 (4.9 s), ~325 kB, data loaded> 4.0 info empirical\n"
     ]
    },
    {
     "name": "stderr",
     "output_type": "stream",
     "text": [
      "c:\\Users\\Lukas\\Documents\\projects\\esinet\\evaluate\\..\\esinet\\util\\util.py:420: RuntimeWarning: Too few samples (required : 310 got : 140), covariance estimate may be unreliable\n",
      "  data_cov = mne.compute_raw_covariance(raw, tmin=tmin,\n",
      "c:\\Users\\Lukas\\Documents\\projects\\esinet\\evaluate\\..\\esinet\\util\\util.py:388: RuntimeWarning: An average reference projection was already added. The data has been left untouched.\n",
      "  epochs.set_eeg_reference(projection=True, verbose=verbose)#.apply_baseline(baseline=baseline)\n",
      "c:\\Users\\Lukas\\Documents\\projects\\esinet\\evaluate\\..\\esinet\\util\\util.py:423: RuntimeWarning: Epochs are not baseline corrected, covariance matrix may be inaccurate\n",
      "  data_cov = mne.compute_covariance(epochs, tmin=0.0,\n",
      "c:\\Users\\Lukas\\Documents\\projects\\esinet\\evaluate\\..\\esinet\\util\\util.py:423: RuntimeWarning: Too few samples (required : 310 got : 12), covariance estimate may be unreliable\n",
      "  data_cov = mne.compute_covariance(epochs, tmin=0.0,\n",
      "c:\\Users\\Lukas\\Documents\\projects\\esinet\\evaluate\\..\\esinet\\util\\util.py:388: RuntimeWarning: An average reference projection was already added. The data has been left untouched.\n",
      "  epochs.set_eeg_reference(projection=True, verbose=verbose)#.apply_baseline(baseline=baseline)\n",
      "c:\\Users\\Lukas\\Documents\\projects\\esinet\\evaluate\\..\\esinet\\util\\util.py:420: RuntimeWarning: Too few samples (required : 310 got : 180), covariance estimate may be unreliable\n",
      "  data_cov = mne.compute_raw_covariance(raw, tmin=tmin,\n",
      "c:\\Users\\Lukas\\Documents\\projects\\esinet\\evaluate\\..\\esinet\\util\\util.py:388: RuntimeWarning: An average reference projection was already added. The data has been left untouched.\n",
      "  epochs.set_eeg_reference(projection=True, verbose=verbose)#.apply_baseline(baseline=baseline)\n",
      "c:\\Users\\Lukas\\Documents\\projects\\esinet\\evaluate\\..\\esinet\\util\\util.py:420: RuntimeWarning: Too few samples (required : 310 got : 80), covariance estimate may be unreliable\n",
      "  data_cov = mne.compute_raw_covariance(raw, tmin=tmin,\n",
      "c:\\Users\\Lukas\\Documents\\projects\\esinet\\evaluate\\..\\esinet\\util\\util.py:388: RuntimeWarning: An average reference projection was already added. The data has been left untouched.\n",
      "  epochs.set_eeg_reference(projection=True, verbose=verbose)#.apply_baseline(baseline=baseline)\n"
     ]
    },
    {
     "name": "stdout",
     "output_type": "stream",
     "text": [
      "<RawArray | 61 x 583 (5.8 s), ~368 kB, data loaded> 4.0 info empirical\n",
      "<RawArray | 61 x 425 (4.2 s), ~292 kB, data loaded> 4.0 info empirical\n",
      "<RawArray | 61 x 502 (5.0 s), ~329 kB, data loaded> 4.0 info empirical\n",
      "<RawArray | 61 x 478 (4.8 s), ~318 kB, data loaded> 4.0 info empirical\n",
      "<RawArray | 61 x 512 (5.1 s), ~334 kB, data loaded> 4.0 info empirical\n"
     ]
    },
    {
     "name": "stderr",
     "output_type": "stream",
     "text": [
      "c:\\Users\\Lukas\\Documents\\projects\\esinet\\evaluate\\..\\esinet\\util\\util.py:420: RuntimeWarning: Too few samples (required : 310 got : 180), covariance estimate may be unreliable\n",
      "  data_cov = mne.compute_raw_covariance(raw, tmin=tmin,\n",
      "c:\\Users\\Lukas\\Documents\\projects\\esinet\\evaluate\\..\\esinet\\util\\util.py:388: RuntimeWarning: An average reference projection was already added. The data has been left untouched.\n",
      "  epochs.set_eeg_reference(projection=True, verbose=verbose)#.apply_baseline(baseline=baseline)\n",
      "c:\\Users\\Lukas\\Documents\\projects\\esinet\\evaluate\\..\\esinet\\util\\util.py:420: RuntimeWarning: Too few samples (required : 310 got : 20), covariance estimate may be unreliable\n",
      "  data_cov = mne.compute_raw_covariance(raw, tmin=tmin,\n",
      "c:\\Users\\Lukas\\Documents\\projects\\esinet\\evaluate\\..\\esinet\\util\\util.py:388: RuntimeWarning: An average reference projection was already added. The data has been left untouched.\n",
      "  epochs.set_eeg_reference(projection=True, verbose=verbose)#.apply_baseline(baseline=baseline)\n",
      "c:\\Users\\Lukas\\Documents\\projects\\esinet\\evaluate\\..\\esinet\\util\\util.py:420: RuntimeWarning: Too few samples (required : 310 got : 100), covariance estimate may be unreliable\n",
      "  data_cov = mne.compute_raw_covariance(raw, tmin=tmin,\n",
      "c:\\Users\\Lukas\\Documents\\projects\\esinet\\evaluate\\..\\esinet\\util\\util.py:388: RuntimeWarning: An average reference projection was already added. The data has been left untouched.\n",
      "  epochs.set_eeg_reference(projection=True, verbose=verbose)#.apply_baseline(baseline=baseline)\n",
      "c:\\Users\\Lukas\\Documents\\projects\\esinet\\evaluate\\..\\esinet\\util\\util.py:420: RuntimeWarning: Too few samples (required : 310 got : 60), covariance estimate may be unreliable\n",
      "  data_cov = mne.compute_raw_covariance(raw, tmin=tmin,\n",
      "c:\\Users\\Lukas\\Documents\\projects\\esinet\\evaluate\\..\\esinet\\util\\util.py:388: RuntimeWarning: An average reference projection was already added. The data has been left untouched.\n",
      "  epochs.set_eeg_reference(projection=True, verbose=verbose)#.apply_baseline(baseline=baseline)\n",
      "c:\\Users\\Lukas\\Documents\\projects\\esinet\\evaluate\\..\\esinet\\util\\util.py:420: RuntimeWarning: Too few samples (required : 310 got : 100), covariance estimate may be unreliable\n",
      "  data_cov = mne.compute_raw_covariance(raw, tmin=tmin,\n",
      "c:\\Users\\Lukas\\Documents\\projects\\esinet\\evaluate\\..\\esinet\\util\\util.py:388: RuntimeWarning: An average reference projection was already added. The data has been left untouched.\n",
      "  epochs.set_eeg_reference(projection=True, verbose=verbose)#.apply_baseline(baseline=baseline)\n",
      "c:\\Users\\Lukas\\Documents\\projects\\esinet\\evaluate\\..\\esinet\\util\\util.py:420: RuntimeWarning: Too few samples (required : 310 got : 120), covariance estimate may be unreliable\n",
      "  data_cov = mne.compute_raw_covariance(raw, tmin=tmin,\n",
      "c:\\Users\\Lukas\\Documents\\projects\\esinet\\evaluate\\..\\esinet\\util\\util.py:388: RuntimeWarning: An average reference projection was already added. The data has been left untouched.\n",
      "  epochs.set_eeg_reference(projection=True, verbose=verbose)#.apply_baseline(baseline=baseline)\n",
      "c:\\Users\\Lukas\\Documents\\projects\\esinet\\evaluate\\..\\esinet\\util\\util.py:420: RuntimeWarning: Too few samples (required : 310 got : 80), covariance estimate may be unreliable\n",
      "  data_cov = mne.compute_raw_covariance(raw, tmin=tmin,\n",
      "c:\\Users\\Lukas\\Documents\\projects\\esinet\\evaluate\\..\\esinet\\util\\util.py:388: RuntimeWarning: An average reference projection was already added. The data has been left untouched.\n",
      "  epochs.set_eeg_reference(projection=True, verbose=verbose)#.apply_baseline(baseline=baseline)\n",
      "c:\\Users\\Lukas\\Documents\\projects\\esinet\\evaluate\\..\\esinet\\util\\util.py:420: RuntimeWarning: Too few samples (required : 310 got : 160), covariance estimate may be unreliable\n",
      "  data_cov = mne.compute_raw_covariance(raw, tmin=tmin,\n",
      "c:\\Users\\Lukas\\Documents\\projects\\esinet\\evaluate\\..\\esinet\\util\\util.py:388: RuntimeWarning: An average reference projection was already added. The data has been left untouched.\n",
      "  epochs.set_eeg_reference(projection=True, verbose=verbose)#.apply_baseline(baseline=baseline)\n"
     ]
    },
    {
     "name": "stdout",
     "output_type": "stream",
     "text": [
      "<RawArray | 61 x 522 (5.2 s), ~339 kB, data loaded> 4.0 info empirical\n",
      "<RawArray | 61 x 483 (4.8 s), ~320 kB, data loaded> 4.0 info empirical\n",
      "<RawArray | 61 x 576 (5.8 s), ~364 kB, data loaded> 4.0 info empirical\n",
      "<RawArray | 61 x 479 (4.8 s), ~318 kB, data loaded> 4.0 info empirical\n"
     ]
    },
    {
     "name": "stderr",
     "output_type": "stream",
     "text": [
      "c:\\Users\\Lukas\\Documents\\projects\\esinet\\evaluate\\..\\esinet\\util\\util.py:420: RuntimeWarning: Too few samples (required : 310 got : 60), covariance estimate may be unreliable\n",
      "  data_cov = mne.compute_raw_covariance(raw, tmin=tmin,\n",
      "c:\\Users\\Lukas\\Documents\\projects\\esinet\\evaluate\\..\\esinet\\util\\util.py:388: RuntimeWarning: An average reference projection was already added. The data has been left untouched.\n",
      "  epochs.set_eeg_reference(projection=True, verbose=verbose)#.apply_baseline(baseline=baseline)\n",
      "c:\\Users\\Lukas\\Documents\\projects\\esinet\\evaluate\\..\\esinet\\util\\util.py:420: RuntimeWarning: Too few samples (required : 310 got : 20), covariance estimate may be unreliable\n",
      "  data_cov = mne.compute_raw_covariance(raw, tmin=tmin,\n",
      "c:\\Users\\Lukas\\Documents\\projects\\esinet\\evaluate\\..\\esinet\\util\\util.py:388: RuntimeWarning: An average reference projection was already added. The data has been left untouched.\n",
      "  epochs.set_eeg_reference(projection=True, verbose=verbose)#.apply_baseline(baseline=baseline)\n",
      "c:\\Users\\Lukas\\Documents\\projects\\esinet\\evaluate\\..\\esinet\\util\\util.py:420: RuntimeWarning: Too few samples (required : 310 got : 120), covariance estimate may be unreliable\n",
      "  data_cov = mne.compute_raw_covariance(raw, tmin=tmin,\n",
      "c:\\Users\\Lukas\\Documents\\projects\\esinet\\evaluate\\..\\esinet\\util\\util.py:388: RuntimeWarning: An average reference projection was already added. The data has been left untouched.\n",
      "  epochs.set_eeg_reference(projection=True, verbose=verbose)#.apply_baseline(baseline=baseline)\n",
      "c:\\Users\\Lukas\\Documents\\projects\\esinet\\evaluate\\..\\esinet\\util\\util.py:420: RuntimeWarning: Too few samples (required : 310 got : 120), covariance estimate may be unreliable\n",
      "  data_cov = mne.compute_raw_covariance(raw, tmin=tmin,\n",
      "c:\\Users\\Lukas\\Documents\\projects\\esinet\\evaluate\\..\\esinet\\util\\util.py:388: RuntimeWarning: An average reference projection was already added. The data has been left untouched.\n",
      "  epochs.set_eeg_reference(projection=True, verbose=verbose)#.apply_baseline(baseline=baseline)\n"
     ]
    },
    {
     "name": "stdout",
     "output_type": "stream",
     "text": [
      "<RawArray | 61 x 426 (4.2 s), ~293 kB, data loaded> 4.0 info empirical\n",
      "<RawArray | 61 x 534 (5.3 s), ~344 kB, data loaded> 4.0 info empirical\n",
      "<RawArray | 61 x 526 (5.2 s), ~340 kB, data loaded> 4.0 info empirical\n",
      "<RawArray | 61 x 474 (4.7 s), ~316 kB, data loaded> 4.0 info empirical\n",
      "<RawArray | 61 x 538 (5.4 s), ~346 kB, data loaded> 4.0 info empirical\n"
     ]
    },
    {
     "name": "stderr",
     "output_type": "stream",
     "text": [
      "c:\\Users\\Lukas\\Documents\\projects\\esinet\\evaluate\\..\\esinet\\util\\util.py:420: RuntimeWarning: Too few samples (required : 310 got : 60), covariance estimate may be unreliable\n",
      "  data_cov = mne.compute_raw_covariance(raw, tmin=tmin,\n",
      "c:\\Users\\Lukas\\Documents\\projects\\esinet\\evaluate\\..\\esinet\\util\\util.py:388: RuntimeWarning: An average reference projection was already added. The data has been left untouched.\n",
      "  epochs.set_eeg_reference(projection=True, verbose=verbose)#.apply_baseline(baseline=baseline)\n",
      "c:\\Users\\Lukas\\Documents\\projects\\esinet\\evaluate\\..\\esinet\\util\\util.py:420: RuntimeWarning: Too few samples (required : 310 got : 120), covariance estimate may be unreliable\n",
      "  data_cov = mne.compute_raw_covariance(raw, tmin=tmin,\n",
      "c:\\Users\\Lukas\\Documents\\projects\\esinet\\evaluate\\..\\esinet\\util\\util.py:388: RuntimeWarning: An average reference projection was already added. The data has been left untouched.\n",
      "  epochs.set_eeg_reference(projection=True, verbose=verbose)#.apply_baseline(baseline=baseline)\n",
      "c:\\Users\\Lukas\\Documents\\projects\\esinet\\evaluate\\..\\esinet\\util\\util.py:420: RuntimeWarning: Too few samples (required : 310 got : 100), covariance estimate may be unreliable\n",
      "  data_cov = mne.compute_raw_covariance(raw, tmin=tmin,\n",
      "c:\\Users\\Lukas\\Documents\\projects\\esinet\\evaluate\\..\\esinet\\util\\util.py:388: RuntimeWarning: An average reference projection was already added. The data has been left untouched.\n",
      "  epochs.set_eeg_reference(projection=True, verbose=verbose)#.apply_baseline(baseline=baseline)\n",
      "c:\\Users\\Lukas\\Documents\\projects\\esinet\\evaluate\\..\\esinet\\util\\util.py:423: RuntimeWarning: Epochs are not baseline corrected, covariance matrix may be inaccurate\n",
      "  data_cov = mne.compute_covariance(epochs, tmin=0.0,\n",
      "c:\\Users\\Lukas\\Documents\\projects\\esinet\\evaluate\\..\\esinet\\util\\util.py:423: RuntimeWarning: Too few samples (required : 310 got : 3), covariance estimate may be unreliable\n",
      "  data_cov = mne.compute_covariance(epochs, tmin=0.0,\n",
      "c:\\Users\\Lukas\\Documents\\projects\\esinet\\evaluate\\..\\esinet\\util\\util.py:388: RuntimeWarning: An average reference projection was already added. The data has been left untouched.\n",
      "  epochs.set_eeg_reference(projection=True, verbose=verbose)#.apply_baseline(baseline=baseline)\n"
     ]
    },
    {
     "name": "stdout",
     "output_type": "stream",
     "text": [
      "<RawArray | 61 x 501 (5.0 s), ~329 kB, data loaded> 4.0 info empirical\n",
      "<RawArray | 61 x 403 (4.0 s), ~282 kB, data loaded> 4.0 info empirical\n",
      "<RawArray | 61 x 413 (4.1 s), ~287 kB, data loaded> 4.0 info empirical\n",
      "<RawArray | 61 x 521 (5.2 s), ~338 kB, data loaded> 4.0 info empirical\n"
     ]
    },
    {
     "name": "stderr",
     "output_type": "stream",
     "text": [
      "c:\\Users\\Lukas\\Documents\\projects\\esinet\\evaluate\\..\\esinet\\util\\util.py:423: RuntimeWarning: Epochs are not baseline corrected, covariance matrix may be inaccurate\n",
      "  data_cov = mne.compute_covariance(epochs, tmin=0.0,\n",
      "c:\\Users\\Lukas\\Documents\\projects\\esinet\\evaluate\\..\\esinet\\util\\util.py:423: RuntimeWarning: Too few samples (required : 310 got : 13), covariance estimate may be unreliable\n",
      "  data_cov = mne.compute_covariance(epochs, tmin=0.0,\n",
      "c:\\Users\\Lukas\\Documents\\projects\\esinet\\evaluate\\..\\esinet\\util\\util.py:388: RuntimeWarning: An average reference projection was already added. The data has been left untouched.\n",
      "  epochs.set_eeg_reference(projection=True, verbose=verbose)#.apply_baseline(baseline=baseline)\n",
      "c:\\Users\\Lukas\\Documents\\projects\\esinet\\evaluate\\..\\esinet\\util\\util.py:420: RuntimeWarning: Too few samples (required : 310 got : 120), covariance estimate may be unreliable\n",
      "  data_cov = mne.compute_raw_covariance(raw, tmin=tmin,\n",
      "c:\\Users\\Lukas\\Documents\\projects\\esinet\\evaluate\\..\\esinet\\util\\util.py:388: RuntimeWarning: An average reference projection was already added. The data has been left untouched.\n",
      "  epochs.set_eeg_reference(projection=True, verbose=verbose)#.apply_baseline(baseline=baseline)\n",
      "c:\\Users\\Lukas\\Documents\\projects\\esinet\\evaluate\\..\\esinet\\util\\util.py:420: RuntimeWarning: Too few samples (required : 310 got : 40), covariance estimate may be unreliable\n",
      "  data_cov = mne.compute_raw_covariance(raw, tmin=tmin,\n",
      "c:\\Users\\Lukas\\Documents\\projects\\esinet\\evaluate\\..\\esinet\\util\\util.py:388: RuntimeWarning: An average reference projection was already added. The data has been left untouched.\n",
      "  epochs.set_eeg_reference(projection=True, verbose=verbose)#.apply_baseline(baseline=baseline)\n",
      "c:\\Users\\Lukas\\Documents\\projects\\esinet\\evaluate\\..\\esinet\\util\\util.py:420: RuntimeWarning: Too few samples (required : 310 got : 40), covariance estimate may be unreliable\n",
      "  data_cov = mne.compute_raw_covariance(raw, tmin=tmin,\n"
     ]
    },
    {
     "name": "stdout",
     "output_type": "stream",
     "text": [
      "<RawArray | 61 x 453 (4.5 s), ~306 kB, data loaded> 4.0 info empirical\n",
      "<RawArray | 61 x 445 (4.4 s), ~302 kB, data loaded> 4.0 info empirical\n",
      "<RawArray | 61 x 537 (5.4 s), ~346 kB, data loaded> 4.0 info empirical\n",
      "<RawArray | 61 x 593 (5.9 s), ~372 kB, data loaded> 4.0 info empirical\n"
     ]
    },
    {
     "name": "stderr",
     "output_type": "stream",
     "text": [
      "c:\\Users\\Lukas\\Documents\\projects\\esinet\\evaluate\\..\\esinet\\util\\util.py:388: RuntimeWarning: An average reference projection was already added. The data has been left untouched.\n",
      "  epochs.set_eeg_reference(projection=True, verbose=verbose)#.apply_baseline(baseline=baseline)\n",
      "c:\\Users\\Lukas\\Documents\\projects\\esinet\\evaluate\\..\\esinet\\util\\util.py:420: RuntimeWarning: Too few samples (required : 310 got : 120), covariance estimate may be unreliable\n",
      "  data_cov = mne.compute_raw_covariance(raw, tmin=tmin,\n",
      "c:\\Users\\Lukas\\Documents\\projects\\esinet\\evaluate\\..\\esinet\\util\\util.py:388: RuntimeWarning: An average reference projection was already added. The data has been left untouched.\n",
      "  epochs.set_eeg_reference(projection=True, verbose=verbose)#.apply_baseline(baseline=baseline)\n",
      "c:\\Users\\Lukas\\Documents\\projects\\esinet\\evaluate\\..\\esinet\\util\\util.py:420: RuntimeWarning: Too few samples (required : 310 got : 180), covariance estimate may be unreliable\n",
      "  data_cov = mne.compute_raw_covariance(raw, tmin=tmin,\n",
      "c:\\Users\\Lukas\\Documents\\projects\\esinet\\evaluate\\..\\esinet\\util\\util.py:388: RuntimeWarning: An average reference projection was already added. The data has been left untouched.\n",
      "  epochs.set_eeg_reference(projection=True, verbose=verbose)#.apply_baseline(baseline=baseline)\n",
      "c:\\Users\\Lukas\\Documents\\projects\\esinet\\evaluate\\..\\esinet\\util\\util.py:420: RuntimeWarning: Too few samples (required : 310 got : 100), covariance estimate may be unreliable\n",
      "  data_cov = mne.compute_raw_covariance(raw, tmin=tmin,\n",
      "c:\\Users\\Lukas\\Documents\\projects\\esinet\\evaluate\\..\\esinet\\util\\util.py:388: RuntimeWarning: An average reference projection was already added. The data has been left untouched.\n",
      "  epochs.set_eeg_reference(projection=True, verbose=verbose)#.apply_baseline(baseline=baseline)\n",
      "c:\\Users\\Lukas\\Documents\\projects\\esinet\\evaluate\\..\\esinet\\util\\util.py:420: RuntimeWarning: Too few samples (required : 310 got : 180), covariance estimate may be unreliable\n",
      "  data_cov = mne.compute_raw_covariance(raw, tmin=tmin,\n",
      "c:\\Users\\Lukas\\Documents\\projects\\esinet\\evaluate\\..\\esinet\\util\\util.py:388: RuntimeWarning: An average reference projection was already added. The data has been left untouched.\n",
      "  epochs.set_eeg_reference(projection=True, verbose=verbose)#.apply_baseline(baseline=baseline)\n"
     ]
    },
    {
     "name": "stdout",
     "output_type": "stream",
     "text": [
      "<RawArray | 61 x 503 (5.0 s), ~330 kB, data loaded> 4.0 info empirical\n",
      "<RawArray | 61 x 599 (6.0 s), ~375 kB, data loaded> 4.0 info empirical\n",
      "<RawArray | 61 x 578 (5.8 s), ~365 kB, data loaded> 4.0 info empirical\n",
      "<RawArray | 61 x 556 (5.5 s), ~355 kB, data loaded> 4.0 info empirical\n"
     ]
    },
    {
     "name": "stderr",
     "output_type": "stream",
     "text": [
      "c:\\Users\\Lukas\\Documents\\projects\\esinet\\evaluate\\..\\esinet\\util\\util.py:420: RuntimeWarning: Too few samples (required : 310 got : 160), covariance estimate may be unreliable\n",
      "  data_cov = mne.compute_raw_covariance(raw, tmin=tmin,\n",
      "c:\\Users\\Lukas\\Documents\\projects\\esinet\\evaluate\\..\\esinet\\util\\util.py:388: RuntimeWarning: An average reference projection was already added. The data has been left untouched.\n",
      "  epochs.set_eeg_reference(projection=True, verbose=verbose)#.apply_baseline(baseline=baseline)\n",
      "c:\\Users\\Lukas\\Documents\\projects\\esinet\\evaluate\\..\\esinet\\util\\util.py:420: RuntimeWarning: Too few samples (required : 310 got : 140), covariance estimate may be unreliable\n",
      "  data_cov = mne.compute_raw_covariance(raw, tmin=tmin,\n",
      "c:\\Users\\Lukas\\Documents\\projects\\esinet\\evaluate\\..\\esinet\\util\\util.py:388: RuntimeWarning: An average reference projection was already added. The data has been left untouched.\n",
      "  epochs.set_eeg_reference(projection=True, verbose=verbose)#.apply_baseline(baseline=baseline)\n",
      "c:\\Users\\Lukas\\Documents\\projects\\esinet\\evaluate\\..\\esinet\\util\\util.py:423: RuntimeWarning: Epochs are not baseline corrected, covariance matrix may be inaccurate\n",
      "  data_cov = mne.compute_covariance(epochs, tmin=0.0,\n",
      "c:\\Users\\Lukas\\Documents\\projects\\esinet\\evaluate\\..\\esinet\\util\\util.py:423: RuntimeWarning: Too few samples (required : 310 got : 10), covariance estimate may be unreliable\n",
      "  data_cov = mne.compute_covariance(epochs, tmin=0.0,\n",
      "c:\\Users\\Lukas\\Documents\\projects\\esinet\\evaluate\\..\\esinet\\util\\util.py:388: RuntimeWarning: An average reference projection was already added. The data has been left untouched.\n",
      "  epochs.set_eeg_reference(projection=True, verbose=verbose)#.apply_baseline(baseline=baseline)\n",
      "c:\\Users\\Lukas\\Documents\\projects\\esinet\\evaluate\\..\\esinet\\util\\util.py:420: RuntimeWarning: Too few samples (required : 310 got : 80), covariance estimate may be unreliable\n",
      "  data_cov = mne.compute_raw_covariance(raw, tmin=tmin,\n",
      "c:\\Users\\Lukas\\Documents\\projects\\esinet\\evaluate\\..\\esinet\\util\\util.py:388: RuntimeWarning: An average reference projection was already added. The data has been left untouched.\n",
      "  epochs.set_eeg_reference(projection=True, verbose=verbose)#.apply_baseline(baseline=baseline)\n"
     ]
    },
    {
     "name": "stdout",
     "output_type": "stream",
     "text": [
      "<RawArray | 61 x 410 (4.1 s), ~285 kB, data loaded> 4.0 info empirical\n",
      "<RawArray | 61 x 498 (5.0 s), ~327 kB, data loaded> 4.0 info empirical\n",
      "<RawArray | 61 x 424 (4.2 s), ~292 kB, data loaded> 4.0 info empirical\n",
      "<RawArray | 61 x 450 (4.5 s), ~304 kB, data loaded> 4.0 info empirical\n",
      "<RawArray | 61 x 442 (4.4 s), ~300 kB, data loaded> 4.0 info empirical\n"
     ]
    },
    {
     "name": "stderr",
     "output_type": "stream",
     "text": [
      "c:\\Users\\Lukas\\Documents\\projects\\esinet\\evaluate\\..\\esinet\\util\\util.py:420: RuntimeWarning: Too few samples (required : 310 got : 20), covariance estimate may be unreliable\n",
      "  data_cov = mne.compute_raw_covariance(raw, tmin=tmin,\n",
      "c:\\Users\\Lukas\\Documents\\projects\\esinet\\evaluate\\..\\esinet\\util\\util.py:388: RuntimeWarning: An average reference projection was already added. The data has been left untouched.\n",
      "  epochs.set_eeg_reference(projection=True, verbose=verbose)#.apply_baseline(baseline=baseline)\n",
      "c:\\Users\\Lukas\\Documents\\projects\\esinet\\evaluate\\..\\esinet\\util\\util.py:420: RuntimeWarning: Too few samples (required : 310 got : 40), covariance estimate may be unreliable\n",
      "  data_cov = mne.compute_raw_covariance(raw, tmin=tmin,\n",
      "c:\\Users\\Lukas\\Documents\\projects\\esinet\\evaluate\\..\\esinet\\util\\util.py:388: RuntimeWarning: An average reference projection was already added. The data has been left untouched.\n",
      "  epochs.set_eeg_reference(projection=True, verbose=verbose)#.apply_baseline(baseline=baseline)\n",
      "c:\\Users\\Lukas\\Documents\\projects\\esinet\\evaluate\\..\\esinet\\util\\util.py:420: RuntimeWarning: Too few samples (required : 310 got : 40), covariance estimate may be unreliable\n",
      "  data_cov = mne.compute_raw_covariance(raw, tmin=tmin,\n",
      "c:\\Users\\Lukas\\Documents\\projects\\esinet\\evaluate\\..\\esinet\\util\\util.py:388: RuntimeWarning: An average reference projection was already added. The data has been left untouched.\n",
      "  epochs.set_eeg_reference(projection=True, verbose=verbose)#.apply_baseline(baseline=baseline)\n",
      "c:\\Users\\Lukas\\Documents\\projects\\esinet\\evaluate\\..\\esinet\\util\\util.py:420: RuntimeWarning: Too few samples (required : 310 got : 20), covariance estimate may be unreliable\n",
      "  data_cov = mne.compute_raw_covariance(raw, tmin=tmin,\n"
     ]
    },
    {
     "name": "stdout",
     "output_type": "stream",
     "text": [
      "<RawArray | 61 x 425 (4.2 s), ~292 kB, data loaded> 4.0 info empirical\n",
      "<RawArray | 61 x 412 (4.1 s), ~286 kB, data loaded> 4.0 info empirical\n",
      "<RawArray | 61 x 415 (4.1 s), ~288 kB, data loaded> 4.0 info empirical\n",
      "<RawArray | 61 x 411 (4.1 s), ~286 kB, data loaded> 4.0 info empirical\n"
     ]
    },
    {
     "name": "stderr",
     "output_type": "stream",
     "text": [
      "c:\\Users\\Lukas\\Documents\\projects\\esinet\\evaluate\\..\\esinet\\util\\util.py:388: RuntimeWarning: An average reference projection was already added. The data has been left untouched.\n",
      "  epochs.set_eeg_reference(projection=True, verbose=verbose)#.apply_baseline(baseline=baseline)\n",
      "c:\\Users\\Lukas\\Documents\\projects\\esinet\\evaluate\\..\\esinet\\util\\util.py:423: RuntimeWarning: Epochs are not baseline corrected, covariance matrix may be inaccurate\n",
      "  data_cov = mne.compute_covariance(epochs, tmin=0.0,\n",
      "c:\\Users\\Lukas\\Documents\\projects\\esinet\\evaluate\\..\\esinet\\util\\util.py:423: RuntimeWarning: Too few samples (required : 310 got : 12), covariance estimate may be unreliable\n",
      "  data_cov = mne.compute_covariance(epochs, tmin=0.0,\n",
      "c:\\Users\\Lukas\\Documents\\projects\\esinet\\evaluate\\..\\esinet\\util\\util.py:388: RuntimeWarning: An average reference projection was already added. The data has been left untouched.\n",
      "  epochs.set_eeg_reference(projection=True, verbose=verbose)#.apply_baseline(baseline=baseline)\n",
      "c:\\Users\\Lukas\\Documents\\projects\\esinet\\evaluate\\..\\esinet\\util\\util.py:423: RuntimeWarning: Epochs are not baseline corrected, covariance matrix may be inaccurate\n",
      "  data_cov = mne.compute_covariance(epochs, tmin=0.0,\n",
      "c:\\Users\\Lukas\\Documents\\projects\\esinet\\evaluate\\..\\esinet\\util\\util.py:423: RuntimeWarning: Too few samples (required : 310 got : 15), covariance estimate may be unreliable\n",
      "  data_cov = mne.compute_covariance(epochs, tmin=0.0,\n",
      "c:\\Users\\Lukas\\Documents\\projects\\esinet\\evaluate\\..\\esinet\\util\\util.py:388: RuntimeWarning: An average reference projection was already added. The data has been left untouched.\n",
      "  epochs.set_eeg_reference(projection=True, verbose=verbose)#.apply_baseline(baseline=baseline)\n",
      "c:\\Users\\Lukas\\Documents\\projects\\esinet\\evaluate\\..\\esinet\\util\\util.py:423: RuntimeWarning: Epochs are not baseline corrected, covariance matrix may be inaccurate\n",
      "  data_cov = mne.compute_covariance(epochs, tmin=0.0,\n",
      "c:\\Users\\Lukas\\Documents\\projects\\esinet\\evaluate\\..\\esinet\\util\\util.py:423: RuntimeWarning: Too few samples (required : 310 got : 11), covariance estimate may be unreliable\n",
      "  data_cov = mne.compute_covariance(epochs, tmin=0.0,\n",
      "c:\\Users\\Lukas\\Documents\\projects\\esinet\\evaluate\\..\\esinet\\util\\util.py:388: RuntimeWarning: An average reference projection was already added. The data has been left untouched.\n",
      "  epochs.set_eeg_reference(projection=True, verbose=verbose)#.apply_baseline(baseline=baseline)\n",
      "c:\\Users\\Lukas\\Documents\\projects\\esinet\\evaluate\\..\\esinet\\util\\util.py:423: RuntimeWarning: Epochs are not baseline corrected, covariance matrix may be inaccurate\n",
      "  data_cov = mne.compute_covariance(epochs, tmin=0.0,\n",
      "c:\\Users\\Lukas\\Documents\\projects\\esinet\\evaluate\\..\\esinet\\util\\util.py:423: RuntimeWarning: Too few samples (required : 310 got : 3), covariance estimate may be unreliable\n",
      "  data_cov = mne.compute_covariance(epochs, tmin=0.0,\n"
     ]
    },
    {
     "name": "stdout",
     "output_type": "stream",
     "text": [
      "<RawArray | 61 x 403 (4.0 s), ~282 kB, data loaded> 4.0 info empirical\n",
      "<RawArray | 61 x 454 (4.5 s), ~306 kB, data loaded> 4.0 info empirical\n",
      "<RawArray | 61 x 405 (4.0 s), ~283 kB, data loaded> 4.0 info empirical\n",
      "<RawArray | 61 x 592 (5.9 s), ~372 kB, data loaded> 4.0 info empirical\n"
     ]
    },
    {
     "name": "stderr",
     "output_type": "stream",
     "text": [
      "c:\\Users\\Lukas\\Documents\\projects\\esinet\\evaluate\\..\\esinet\\util\\util.py:388: RuntimeWarning: An average reference projection was already added. The data has been left untouched.\n",
      "  epochs.set_eeg_reference(projection=True, verbose=verbose)#.apply_baseline(baseline=baseline)\n",
      "c:\\Users\\Lukas\\Documents\\projects\\esinet\\evaluate\\..\\esinet\\util\\util.py:420: RuntimeWarning: Too few samples (required : 310 got : 40), covariance estimate may be unreliable\n",
      "  data_cov = mne.compute_raw_covariance(raw, tmin=tmin,\n",
      "c:\\Users\\Lukas\\Documents\\projects\\esinet\\evaluate\\..\\esinet\\util\\util.py:388: RuntimeWarning: An average reference projection was already added. The data has been left untouched.\n",
      "  epochs.set_eeg_reference(projection=True, verbose=verbose)#.apply_baseline(baseline=baseline)\n",
      "c:\\Users\\Lukas\\Documents\\projects\\esinet\\evaluate\\..\\esinet\\util\\util.py:423: RuntimeWarning: Epochs are not baseline corrected, covariance matrix may be inaccurate\n",
      "  data_cov = mne.compute_covariance(epochs, tmin=0.0,\n",
      "c:\\Users\\Lukas\\Documents\\projects\\esinet\\evaluate\\..\\esinet\\util\\util.py:423: RuntimeWarning: Too few samples (required : 310 got : 5), covariance estimate may be unreliable\n",
      "  data_cov = mne.compute_covariance(epochs, tmin=0.0,\n",
      "c:\\Users\\Lukas\\Documents\\projects\\esinet\\evaluate\\..\\esinet\\util\\util.py:388: RuntimeWarning: An average reference projection was already added. The data has been left untouched.\n",
      "  epochs.set_eeg_reference(projection=True, verbose=verbose)#.apply_baseline(baseline=baseline)\n",
      "c:\\Users\\Lukas\\Documents\\projects\\esinet\\evaluate\\..\\esinet\\util\\util.py:420: RuntimeWarning: Too few samples (required : 310 got : 180), covariance estimate may be unreliable\n",
      "  data_cov = mne.compute_raw_covariance(raw, tmin=tmin,\n",
      "c:\\Users\\Lukas\\Documents\\projects\\esinet\\evaluate\\..\\esinet\\util\\util.py:388: RuntimeWarning: An average reference projection was already added. The data has been left untouched.\n",
      "  epochs.set_eeg_reference(projection=True, verbose=verbose)#.apply_baseline(baseline=baseline)\n",
      "c:\\Users\\Lukas\\Documents\\projects\\esinet\\evaluate\\..\\esinet\\util\\util.py:420: RuntimeWarning: Too few samples (required : 310 got : 60), covariance estimate may be unreliable\n",
      "  data_cov = mne.compute_raw_covariance(raw, tmin=tmin,\n",
      "c:\\Users\\Lukas\\Documents\\projects\\esinet\\evaluate\\..\\esinet\\util\\util.py:388: RuntimeWarning: An average reference projection was already added. The data has been left untouched.\n",
      "  epochs.set_eeg_reference(projection=True, verbose=verbose)#.apply_baseline(baseline=baseline)\n"
     ]
    },
    {
     "name": "stdout",
     "output_type": "stream",
     "text": [
      "<RawArray | 61 x 469 (4.7 s), ~313 kB, data loaded> 4.0 info empirical\n",
      "<RawArray | 61 x 526 (5.2 s), ~340 kB, data loaded> 4.0 info empirical\n",
      "<RawArray | 61 x 405 (4.0 s), ~283 kB, data loaded> 4.0 info empirical\n",
      "<RawArray | 61 x 533 (5.3 s), ~344 kB, data loaded> 4.0 info empirical\n"
     ]
    },
    {
     "name": "stderr",
     "output_type": "stream",
     "text": [
      "c:\\Users\\Lukas\\Documents\\projects\\esinet\\evaluate\\..\\esinet\\util\\util.py:420: RuntimeWarning: Too few samples (required : 310 got : 120), covariance estimate may be unreliable\n",
      "  data_cov = mne.compute_raw_covariance(raw, tmin=tmin,\n",
      "c:\\Users\\Lukas\\Documents\\projects\\esinet\\evaluate\\..\\esinet\\util\\util.py:388: RuntimeWarning: An average reference projection was already added. The data has been left untouched.\n",
      "  epochs.set_eeg_reference(projection=True, verbose=verbose)#.apply_baseline(baseline=baseline)\n",
      "c:\\Users\\Lukas\\Documents\\projects\\esinet\\evaluate\\..\\esinet\\util\\util.py:423: RuntimeWarning: Epochs are not baseline corrected, covariance matrix may be inaccurate\n",
      "  data_cov = mne.compute_covariance(epochs, tmin=0.0,\n",
      "c:\\Users\\Lukas\\Documents\\projects\\esinet\\evaluate\\..\\esinet\\util\\util.py:423: RuntimeWarning: Too few samples (required : 310 got : 5), covariance estimate may be unreliable\n",
      "  data_cov = mne.compute_covariance(epochs, tmin=0.0,\n",
      "c:\\Users\\Lukas\\Documents\\projects\\esinet\\evaluate\\..\\esinet\\util\\util.py:388: RuntimeWarning: An average reference projection was already added. The data has been left untouched.\n",
      "  epochs.set_eeg_reference(projection=True, verbose=verbose)#.apply_baseline(baseline=baseline)\n",
      "c:\\Users\\Lukas\\Documents\\projects\\esinet\\evaluate\\..\\esinet\\util\\util.py:420: RuntimeWarning: Too few samples (required : 310 got : 120), covariance estimate may be unreliable\n",
      "  data_cov = mne.compute_raw_covariance(raw, tmin=tmin,\n",
      "c:\\Users\\Lukas\\Documents\\projects\\esinet\\evaluate\\..\\esinet\\util\\util.py:388: RuntimeWarning: An average reference projection was already added. The data has been left untouched.\n",
      "  epochs.set_eeg_reference(projection=True, verbose=verbose)#.apply_baseline(baseline=baseline)\n",
      "c:\\Users\\Lukas\\Documents\\projects\\esinet\\evaluate\\..\\esinet\\util\\util.py:420: RuntimeWarning: Too few samples (required : 310 got : 20), covariance estimate may be unreliable\n",
      "  data_cov = mne.compute_raw_covariance(raw, tmin=tmin,\n",
      "c:\\Users\\Lukas\\Documents\\projects\\esinet\\evaluate\\..\\esinet\\util\\util.py:388: RuntimeWarning: An average reference projection was already added. The data has been left untouched.\n",
      "  epochs.set_eeg_reference(projection=True, verbose=verbose)#.apply_baseline(baseline=baseline)\n"
     ]
    },
    {
     "name": "stdout",
     "output_type": "stream",
     "text": [
      "<RawArray | 61 x 426 (4.2 s), ~293 kB, data loaded> 4.0 info empirical\n",
      "<RawArray | 61 x 513 (5.1 s), ~334 kB, data loaded> 4.0 info empirical\n",
      "<RawArray | 61 x 458 (4.6 s), ~308 kB, data loaded> 4.0 info empirical\n",
      "<RawArray | 61 x 421 (4.2 s), ~290 kB, data loaded> 4.0 info empirical\n",
      "<RawArray | 61 x 541 (5.4 s), ~348 kB, data loaded> 4.0 info empirical\n"
     ]
    },
    {
     "name": "stderr",
     "output_type": "stream",
     "text": [
      "c:\\Users\\Lukas\\Documents\\projects\\esinet\\evaluate\\..\\esinet\\util\\util.py:420: RuntimeWarning: Too few samples (required : 310 got : 100), covariance estimate may be unreliable\n",
      "  data_cov = mne.compute_raw_covariance(raw, tmin=tmin,\n",
      "c:\\Users\\Lukas\\Documents\\projects\\esinet\\evaluate\\..\\esinet\\util\\util.py:388: RuntimeWarning: An average reference projection was already added. The data has been left untouched.\n",
      "  epochs.set_eeg_reference(projection=True, verbose=verbose)#.apply_baseline(baseline=baseline)\n",
      "c:\\Users\\Lukas\\Documents\\projects\\esinet\\evaluate\\..\\esinet\\util\\util.py:420: RuntimeWarning: Too few samples (required : 310 got : 40), covariance estimate may be unreliable\n",
      "  data_cov = mne.compute_raw_covariance(raw, tmin=tmin,\n",
      "c:\\Users\\Lukas\\Documents\\projects\\esinet\\evaluate\\..\\esinet\\util\\util.py:388: RuntimeWarning: An average reference projection was already added. The data has been left untouched.\n",
      "  epochs.set_eeg_reference(projection=True, verbose=verbose)#.apply_baseline(baseline=baseline)\n",
      "c:\\Users\\Lukas\\Documents\\projects\\esinet\\evaluate\\..\\esinet\\util\\util.py:420: RuntimeWarning: Too few samples (required : 310 got : 20), covariance estimate may be unreliable\n",
      "  data_cov = mne.compute_raw_covariance(raw, tmin=tmin,\n",
      "c:\\Users\\Lukas\\Documents\\projects\\esinet\\evaluate\\..\\esinet\\util\\util.py:388: RuntimeWarning: An average reference projection was already added. The data has been left untouched.\n",
      "  epochs.set_eeg_reference(projection=True, verbose=verbose)#.apply_baseline(baseline=baseline)\n",
      "c:\\Users\\Lukas\\Documents\\projects\\esinet\\evaluate\\..\\esinet\\util\\util.py:420: RuntimeWarning: Too few samples (required : 310 got : 140), covariance estimate may be unreliable\n",
      "  data_cov = mne.compute_raw_covariance(raw, tmin=tmin,\n",
      "c:\\Users\\Lukas\\Documents\\projects\\esinet\\evaluate\\..\\esinet\\util\\util.py:388: RuntimeWarning: An average reference projection was already added. The data has been left untouched.\n",
      "  epochs.set_eeg_reference(projection=True, verbose=verbose)#.apply_baseline(baseline=baseline)\n"
     ]
    },
    {
     "name": "stdout",
     "output_type": "stream",
     "text": [
      "<RawArray | 61 x 519 (5.2 s), ~337 kB, data loaded> 4.0 info empirical\n",
      "<RawArray | 61 x 450 (4.5 s), ~304 kB, data loaded> 4.0 info empirical\n",
      "<RawArray | 61 x 528 (5.3 s), ~341 kB, data loaded> 4.0 info empirical\n",
      "<RawArray | 61 x 460 (4.6 s), ~309 kB, data loaded> 4.0 info empirical\n",
      "<RawArray | 61 x 404 (4.0 s), ~282 kB, data loaded> 4.0 info empirical\n"
     ]
    },
    {
     "name": "stderr",
     "output_type": "stream",
     "text": [
      "c:\\Users\\Lukas\\Documents\\projects\\esinet\\evaluate\\..\\esinet\\util\\util.py:420: RuntimeWarning: Too few samples (required : 310 got : 100), covariance estimate may be unreliable\n",
      "  data_cov = mne.compute_raw_covariance(raw, tmin=tmin,\n",
      "c:\\Users\\Lukas\\Documents\\projects\\esinet\\evaluate\\..\\esinet\\util\\util.py:388: RuntimeWarning: An average reference projection was already added. The data has been left untouched.\n",
      "  epochs.set_eeg_reference(projection=True, verbose=verbose)#.apply_baseline(baseline=baseline)\n",
      "c:\\Users\\Lukas\\Documents\\projects\\esinet\\evaluate\\..\\esinet\\util\\util.py:420: RuntimeWarning: Too few samples (required : 310 got : 40), covariance estimate may be unreliable\n",
      "  data_cov = mne.compute_raw_covariance(raw, tmin=tmin,\n",
      "c:\\Users\\Lukas\\Documents\\projects\\esinet\\evaluate\\..\\esinet\\util\\util.py:388: RuntimeWarning: An average reference projection was already added. The data has been left untouched.\n",
      "  epochs.set_eeg_reference(projection=True, verbose=verbose)#.apply_baseline(baseline=baseline)\n",
      "c:\\Users\\Lukas\\Documents\\projects\\esinet\\evaluate\\..\\esinet\\util\\util.py:420: RuntimeWarning: Too few samples (required : 310 got : 120), covariance estimate may be unreliable\n",
      "  data_cov = mne.compute_raw_covariance(raw, tmin=tmin,\n",
      "c:\\Users\\Lukas\\Documents\\projects\\esinet\\evaluate\\..\\esinet\\util\\util.py:388: RuntimeWarning: An average reference projection was already added. The data has been left untouched.\n",
      "  epochs.set_eeg_reference(projection=True, verbose=verbose)#.apply_baseline(baseline=baseline)\n",
      "c:\\Users\\Lukas\\Documents\\projects\\esinet\\evaluate\\..\\esinet\\util\\util.py:420: RuntimeWarning: Too few samples (required : 310 got : 60), covariance estimate may be unreliable\n",
      "  data_cov = mne.compute_raw_covariance(raw, tmin=tmin,\n",
      "c:\\Users\\Lukas\\Documents\\projects\\esinet\\evaluate\\..\\esinet\\util\\util.py:388: RuntimeWarning: An average reference projection was already added. The data has been left untouched.\n",
      "  epochs.set_eeg_reference(projection=True, verbose=verbose)#.apply_baseline(baseline=baseline)\n",
      "c:\\Users\\Lukas\\Documents\\projects\\esinet\\evaluate\\..\\esinet\\util\\util.py:423: RuntimeWarning: Epochs are not baseline corrected, covariance matrix may be inaccurate\n",
      "  data_cov = mne.compute_covariance(epochs, tmin=0.0,\n",
      "c:\\Users\\Lukas\\Documents\\projects\\esinet\\evaluate\\..\\esinet\\util\\util.py:423: RuntimeWarning: Too few samples (required : 310 got : 4), covariance estimate may be unreliable\n",
      "  data_cov = mne.compute_covariance(epochs, tmin=0.0,\n",
      "c:\\Users\\Lukas\\Documents\\projects\\esinet\\evaluate\\..\\esinet\\util\\util.py:388: RuntimeWarning: An average reference projection was already added. The data has been left untouched.\n",
      "  epochs.set_eeg_reference(projection=True, verbose=verbose)#.apply_baseline(baseline=baseline)\n",
      "c:\\Users\\Lukas\\Documents\\projects\\esinet\\evaluate\\..\\esinet\\util\\util.py:423: RuntimeWarning: Epochs are not baseline corrected, covariance matrix may be inaccurate\n",
      "  data_cov = mne.compute_covariance(epochs, tmin=0.0,\n",
      "c:\\Users\\Lukas\\Documents\\projects\\esinet\\evaluate\\..\\esinet\\util\\util.py:423: RuntimeWarning: Too few samples (required : 310 got : 10), covariance estimate may be unreliable\n",
      "  data_cov = mne.compute_covariance(epochs, tmin=0.0,\n",
      "c:\\Users\\Lukas\\Documents\\projects\\esinet\\evaluate\\..\\esinet\\util\\util.py:388: RuntimeWarning: An average reference projection was already added. The data has been left untouched.\n",
      "  epochs.set_eeg_reference(projection=True, verbose=verbose)#.apply_baseline(baseline=baseline)\n",
      "c:\\Users\\Lukas\\Documents\\projects\\esinet\\evaluate\\..\\esinet\\util\\util.py:420: RuntimeWarning: Too few samples (required : 310 got : 100), covariance estimate may be unreliable\n",
      "  data_cov = mne.compute_raw_covariance(raw, tmin=tmin,\n",
      "c:\\Users\\Lukas\\Documents\\projects\\esinet\\evaluate\\..\\esinet\\util\\util.py:388: RuntimeWarning: An average reference projection was already added. The data has been left untouched.\n",
      "  epochs.set_eeg_reference(projection=True, verbose=verbose)#.apply_baseline(baseline=baseline)\n",
      "c:\\Users\\Lukas\\Documents\\projects\\esinet\\evaluate\\..\\esinet\\util\\util.py:420: RuntimeWarning: Too few samples (required : 310 got : 20), covariance estimate may be unreliable\n",
      "  data_cov = mne.compute_raw_covariance(raw, tmin=tmin,\n",
      "c:\\Users\\Lukas\\Documents\\projects\\esinet\\evaluate\\..\\esinet\\util\\util.py:388: RuntimeWarning: An average reference projection was already added. The data has been left untouched.\n",
      "  epochs.set_eeg_reference(projection=True, verbose=verbose)#.apply_baseline(baseline=baseline)\n"
     ]
    },
    {
     "name": "stdout",
     "output_type": "stream",
     "text": [
      "<RawArray | 61 x 410 (4.1 s), ~285 kB, data loaded> 4.0 info empirical\n",
      "<RawArray | 61 x 519 (5.2 s), ~337 kB, data loaded> 4.0 info empirical\n",
      "<RawArray | 61 x 434 (4.3 s), ~297 kB, data loaded> 4.0 info empirical\n",
      "<RawArray | 61 x 582 (5.8 s), ~367 kB, data loaded> 4.0 info empirical\n",
      "<RawArray | 61 x 565 (5.6 s), ~359 kB, data loaded> 4.0 info empirical\n"
     ]
    },
    {
     "name": "stderr",
     "output_type": "stream",
     "text": [
      "c:\\Users\\Lukas\\Documents\\projects\\esinet\\evaluate\\..\\esinet\\util\\util.py:420: RuntimeWarning: Too few samples (required : 310 got : 180), covariance estimate may be unreliable\n",
      "  data_cov = mne.compute_raw_covariance(raw, tmin=tmin,\n",
      "c:\\Users\\Lukas\\Documents\\projects\\esinet\\evaluate\\..\\esinet\\util\\util.py:388: RuntimeWarning: An average reference projection was already added. The data has been left untouched.\n",
      "  epochs.set_eeg_reference(projection=True, verbose=verbose)#.apply_baseline(baseline=baseline)\n",
      "c:\\Users\\Lukas\\Documents\\projects\\esinet\\evaluate\\..\\esinet\\util\\util.py:420: RuntimeWarning: Too few samples (required : 310 got : 160), covariance estimate may be unreliable\n",
      "  data_cov = mne.compute_raw_covariance(raw, tmin=tmin,\n",
      "c:\\Users\\Lukas\\Documents\\projects\\esinet\\evaluate\\..\\esinet\\util\\util.py:388: RuntimeWarning: An average reference projection was already added. The data has been left untouched.\n",
      "  epochs.set_eeg_reference(projection=True, verbose=verbose)#.apply_baseline(baseline=baseline)\n",
      "c:\\Users\\Lukas\\Documents\\projects\\esinet\\evaluate\\..\\esinet\\util\\util.py:420: RuntimeWarning: Too few samples (required : 310 got : 160), covariance estimate may be unreliable\n",
      "  data_cov = mne.compute_raw_covariance(raw, tmin=tmin,\n",
      "c:\\Users\\Lukas\\Documents\\projects\\esinet\\evaluate\\..\\esinet\\util\\util.py:388: RuntimeWarning: An average reference projection was already added. The data has been left untouched.\n",
      "  epochs.set_eeg_reference(projection=True, verbose=verbose)#.apply_baseline(baseline=baseline)\n",
      "c:\\Users\\Lukas\\Documents\\projects\\esinet\\evaluate\\..\\esinet\\util\\util.py:420: RuntimeWarning: Too few samples (required : 310 got : 160), covariance estimate may be unreliable\n",
      "  data_cov = mne.compute_raw_covariance(raw, tmin=tmin,\n",
      "c:\\Users\\Lukas\\Documents\\projects\\esinet\\evaluate\\..\\esinet\\util\\util.py:388: RuntimeWarning: An average reference projection was already added. The data has been left untouched.\n",
      "  epochs.set_eeg_reference(projection=True, verbose=verbose)#.apply_baseline(baseline=baseline)\n"
     ]
    },
    {
     "name": "stdout",
     "output_type": "stream",
     "text": [
      "<RawArray | 61 x 568 (5.7 s), ~360 kB, data loaded> 4.0 info empirical\n",
      "<RawArray | 61 x 574 (5.7 s), ~363 kB, data loaded> 4.0 info empirical\n",
      "<RawArray | 61 x 507 (5.1 s), ~331 kB, data loaded> 4.0 info empirical\n",
      "<RawArray | 61 x 405 (4.0 s), ~283 kB, data loaded> 4.0 info empirical\n"
     ]
    },
    {
     "name": "stderr",
     "output_type": "stream",
     "text": [
      "c:\\Users\\Lukas\\Documents\\projects\\esinet\\evaluate\\..\\esinet\\util\\util.py:420: RuntimeWarning: Too few samples (required : 310 got : 100), covariance estimate may be unreliable\n",
      "  data_cov = mne.compute_raw_covariance(raw, tmin=tmin,\n",
      "c:\\Users\\Lukas\\Documents\\projects\\esinet\\evaluate\\..\\esinet\\util\\util.py:388: RuntimeWarning: An average reference projection was already added. The data has been left untouched.\n",
      "  epochs.set_eeg_reference(projection=True, verbose=verbose)#.apply_baseline(baseline=baseline)\n",
      "c:\\Users\\Lukas\\Documents\\projects\\esinet\\evaluate\\..\\esinet\\util\\util.py:423: RuntimeWarning: Epochs are not baseline corrected, covariance matrix may be inaccurate\n",
      "  data_cov = mne.compute_covariance(epochs, tmin=0.0,\n",
      "c:\\Users\\Lukas\\Documents\\projects\\esinet\\evaluate\\..\\esinet\\util\\util.py:423: RuntimeWarning: Too few samples (required : 310 got : 5), covariance estimate may be unreliable\n",
      "  data_cov = mne.compute_covariance(epochs, tmin=0.0,\n",
      "c:\\Users\\Lukas\\Documents\\projects\\esinet\\evaluate\\..\\esinet\\util\\util.py:388: RuntimeWarning: An average reference projection was already added. The data has been left untouched.\n",
      "  epochs.set_eeg_reference(projection=True, verbose=verbose)#.apply_baseline(baseline=baseline)\n",
      "c:\\Users\\Lukas\\Documents\\projects\\esinet\\evaluate\\..\\esinet\\util\\util.py:420: RuntimeWarning: Too few samples (required : 310 got : 140), covariance estimate may be unreliable\n",
      "  data_cov = mne.compute_raw_covariance(raw, tmin=tmin,\n",
      "c:\\Users\\Lukas\\Documents\\projects\\esinet\\evaluate\\..\\esinet\\util\\util.py:388: RuntimeWarning: An average reference projection was already added. The data has been left untouched.\n",
      "  epochs.set_eeg_reference(projection=True, verbose=verbose)#.apply_baseline(baseline=baseline)\n",
      "c:\\Users\\Lukas\\Documents\\projects\\esinet\\evaluate\\..\\esinet\\util\\util.py:420: RuntimeWarning: Too few samples (required : 310 got : 140), covariance estimate may be unreliable\n",
      "  data_cov = mne.compute_raw_covariance(raw, tmin=tmin,\n"
     ]
    },
    {
     "name": "stdout",
     "output_type": "stream",
     "text": [
      "<RawArray | 61 x 553 (5.5 s), ~353 kB, data loaded> 4.0 info empirical\n",
      "<RawArray | 61 x 555 (5.5 s), ~354 kB, data loaded> 4.0 info empirical\n",
      "<RawArray | 61 x 452 (4.5 s), ~305 kB, data loaded> 4.0 info empirical\n",
      "<RawArray | 61 x 531 (5.3 s), ~343 kB, data loaded> 4.0 info empirical\n",
      "<RawArray | 61 x 499 (5.0 s), ~328 kB, data loaded> 4.0 info empirical\n"
     ]
    },
    {
     "name": "stderr",
     "output_type": "stream",
     "text": [
      "c:\\Users\\Lukas\\Documents\\projects\\esinet\\evaluate\\..\\esinet\\util\\util.py:388: RuntimeWarning: An average reference projection was already added. The data has been left untouched.\n",
      "  epochs.set_eeg_reference(projection=True, verbose=verbose)#.apply_baseline(baseline=baseline)\n",
      "c:\\Users\\Lukas\\Documents\\projects\\esinet\\evaluate\\..\\esinet\\util\\util.py:420: RuntimeWarning: Too few samples (required : 310 got : 40), covariance estimate may be unreliable\n",
      "  data_cov = mne.compute_raw_covariance(raw, tmin=tmin,\n",
      "c:\\Users\\Lukas\\Documents\\projects\\esinet\\evaluate\\..\\esinet\\util\\util.py:388: RuntimeWarning: An average reference projection was already added. The data has been left untouched.\n",
      "  epochs.set_eeg_reference(projection=True, verbose=verbose)#.apply_baseline(baseline=baseline)\n",
      "c:\\Users\\Lukas\\Documents\\projects\\esinet\\evaluate\\..\\esinet\\util\\util.py:420: RuntimeWarning: Too few samples (required : 310 got : 120), covariance estimate may be unreliable\n",
      "  data_cov = mne.compute_raw_covariance(raw, tmin=tmin,\n",
      "c:\\Users\\Lukas\\Documents\\projects\\esinet\\evaluate\\..\\esinet\\util\\util.py:388: RuntimeWarning: An average reference projection was already added. The data has been left untouched.\n",
      "  epochs.set_eeg_reference(projection=True, verbose=verbose)#.apply_baseline(baseline=baseline)\n",
      "c:\\Users\\Lukas\\Documents\\projects\\esinet\\evaluate\\..\\esinet\\util\\util.py:420: RuntimeWarning: Too few samples (required : 310 got : 80), covariance estimate may be unreliable\n",
      "  data_cov = mne.compute_raw_covariance(raw, tmin=tmin,\n",
      "c:\\Users\\Lukas\\Documents\\projects\\esinet\\evaluate\\..\\esinet\\util\\util.py:388: RuntimeWarning: An average reference projection was already added. The data has been left untouched.\n",
      "  epochs.set_eeg_reference(projection=True, verbose=verbose)#.apply_baseline(baseline=baseline)\n",
      "c:\\Users\\Lukas\\Documents\\projects\\esinet\\evaluate\\..\\esinet\\util\\util.py:420: RuntimeWarning: Too few samples (required : 310 got : 140), covariance estimate may be unreliable\n",
      "  data_cov = mne.compute_raw_covariance(raw, tmin=tmin,\n",
      "c:\\Users\\Lukas\\Documents\\projects\\esinet\\evaluate\\..\\esinet\\util\\util.py:388: RuntimeWarning: An average reference projection was already added. The data has been left untouched.\n",
      "  epochs.set_eeg_reference(projection=True, verbose=verbose)#.apply_baseline(baseline=baseline)\n"
     ]
    },
    {
     "name": "stdout",
     "output_type": "stream",
     "text": [
      "<RawArray | 61 x 559 (5.6 s), ~356 kB, data loaded> 4.0 info empirical\n",
      "<RawArray | 61 x 533 (5.3 s), ~344 kB, data loaded> 4.0 info empirical\n",
      "<RawArray | 61 x 548 (5.5 s), ~351 kB, data loaded> 4.0 info empirical\n",
      "<RawArray | 61 x 538 (5.4 s), ~346 kB, data loaded> 4.0 info empirical\n"
     ]
    },
    {
     "name": "stderr",
     "output_type": "stream",
     "text": [
      "c:\\Users\\Lukas\\Documents\\projects\\esinet\\evaluate\\..\\esinet\\util\\util.py:420: RuntimeWarning: Too few samples (required : 310 got : 120), covariance estimate may be unreliable\n",
      "  data_cov = mne.compute_raw_covariance(raw, tmin=tmin,\n",
      "c:\\Users\\Lukas\\Documents\\projects\\esinet\\evaluate\\..\\esinet\\util\\util.py:388: RuntimeWarning: An average reference projection was already added. The data has been left untouched.\n",
      "  epochs.set_eeg_reference(projection=True, verbose=verbose)#.apply_baseline(baseline=baseline)\n",
      "c:\\Users\\Lukas\\Documents\\projects\\esinet\\evaluate\\..\\esinet\\util\\util.py:420: RuntimeWarning: Too few samples (required : 310 got : 140), covariance estimate may be unreliable\n",
      "  data_cov = mne.compute_raw_covariance(raw, tmin=tmin,\n",
      "c:\\Users\\Lukas\\Documents\\projects\\esinet\\evaluate\\..\\esinet\\util\\util.py:388: RuntimeWarning: An average reference projection was already added. The data has been left untouched.\n",
      "  epochs.set_eeg_reference(projection=True, verbose=verbose)#.apply_baseline(baseline=baseline)\n",
      "c:\\Users\\Lukas\\Documents\\projects\\esinet\\evaluate\\..\\esinet\\util\\util.py:420: RuntimeWarning: Too few samples (required : 310 got : 120), covariance estimate may be unreliable\n",
      "  data_cov = mne.compute_raw_covariance(raw, tmin=tmin,\n",
      "c:\\Users\\Lukas\\Documents\\projects\\esinet\\evaluate\\..\\esinet\\util\\util.py:388: RuntimeWarning: An average reference projection was already added. The data has been left untouched.\n",
      "  epochs.set_eeg_reference(projection=True, verbose=verbose)#.apply_baseline(baseline=baseline)\n",
      "c:\\Users\\Lukas\\Documents\\projects\\esinet\\evaluate\\..\\esinet\\util\\util.py:420: RuntimeWarning: Too few samples (required : 310 got : 140), covariance estimate may be unreliable\n",
      "  data_cov = mne.compute_raw_covariance(raw, tmin=tmin,\n",
      "c:\\Users\\Lukas\\Documents\\projects\\esinet\\evaluate\\..\\esinet\\util\\util.py:388: RuntimeWarning: An average reference projection was already added. The data has been left untouched.\n",
      "  epochs.set_eeg_reference(projection=True, verbose=verbose)#.apply_baseline(baseline=baseline)\n"
     ]
    },
    {
     "name": "stdout",
     "output_type": "stream",
     "text": [
      "<RawArray | 61 x 540 (5.4 s), ~347 kB, data loaded> 4.0 info empirical\n",
      "<RawArray | 61 x 485 (4.8 s), ~321 kB, data loaded> 4.0 info empirical\n",
      "<RawArray | 61 x 580 (5.8 s), ~366 kB, data loaded> 4.0 info empirical\n",
      "<RawArray | 61 x 547 (5.5 s), ~350 kB, data loaded> 4.0 info empirical\n"
     ]
    },
    {
     "name": "stderr",
     "output_type": "stream",
     "text": [
      "c:\\Users\\Lukas\\Documents\\projects\\esinet\\evaluate\\..\\esinet\\util\\util.py:420: RuntimeWarning: Too few samples (required : 310 got : 80), covariance estimate may be unreliable\n",
      "  data_cov = mne.compute_raw_covariance(raw, tmin=tmin,\n",
      "c:\\Users\\Lukas\\Documents\\projects\\esinet\\evaluate\\..\\esinet\\util\\util.py:388: RuntimeWarning: An average reference projection was already added. The data has been left untouched.\n",
      "  epochs.set_eeg_reference(projection=True, verbose=verbose)#.apply_baseline(baseline=baseline)\n",
      "c:\\Users\\Lukas\\Documents\\projects\\esinet\\evaluate\\..\\esinet\\util\\util.py:420: RuntimeWarning: Too few samples (required : 310 got : 180), covariance estimate may be unreliable\n",
      "  data_cov = mne.compute_raw_covariance(raw, tmin=tmin,\n",
      "c:\\Users\\Lukas\\Documents\\projects\\esinet\\evaluate\\..\\esinet\\util\\util.py:388: RuntimeWarning: An average reference projection was already added. The data has been left untouched.\n",
      "  epochs.set_eeg_reference(projection=True, verbose=verbose)#.apply_baseline(baseline=baseline)\n",
      "c:\\Users\\Lukas\\Documents\\projects\\esinet\\evaluate\\..\\esinet\\util\\util.py:420: RuntimeWarning: Too few samples (required : 310 got : 140), covariance estimate may be unreliable\n",
      "  data_cov = mne.compute_raw_covariance(raw, tmin=tmin,\n",
      "c:\\Users\\Lukas\\Documents\\projects\\esinet\\evaluate\\..\\esinet\\util\\util.py:388: RuntimeWarning: An average reference projection was already added. The data has been left untouched.\n",
      "  epochs.set_eeg_reference(projection=True, verbose=verbose)#.apply_baseline(baseline=baseline)\n",
      "c:\\Users\\Lukas\\Documents\\projects\\esinet\\evaluate\\..\\esinet\\util\\util.py:420: RuntimeWarning: Too few samples (required : 310 got : 20), covariance estimate may be unreliable\n",
      "  data_cov = mne.compute_raw_covariance(raw, tmin=tmin,\n",
      "c:\\Users\\Lukas\\Documents\\projects\\esinet\\evaluate\\..\\esinet\\util\\util.py:388: RuntimeWarning: An average reference projection was already added. The data has been left untouched.\n",
      "  epochs.set_eeg_reference(projection=True, verbose=verbose)#.apply_baseline(baseline=baseline)\n"
     ]
    },
    {
     "name": "stdout",
     "output_type": "stream",
     "text": [
      "<RawArray | 61 x 439 (4.4 s), ~299 kB, data loaded> 4.0 info empirical\n",
      "<RawArray | 61 x 537 (5.4 s), ~346 kB, data loaded> 4.0 info empirical\n",
      "<RawArray | 61 x 463 (4.6 s), ~310 kB, data loaded> 4.0 info empirical\n",
      "<RawArray | 61 x 451 (4.5 s), ~305 kB, data loaded> 4.0 info empirical\n",
      "<RawArray | 61 x 494 (4.9 s), ~325 kB, data loaded> 4.0 info empirical\n"
     ]
    },
    {
     "name": "stderr",
     "output_type": "stream",
     "text": [
      "c:\\Users\\Lukas\\Documents\\projects\\esinet\\evaluate\\..\\esinet\\util\\util.py:420: RuntimeWarning: Too few samples (required : 310 got : 120), covariance estimate may be unreliable\n",
      "  data_cov = mne.compute_raw_covariance(raw, tmin=tmin,\n",
      "c:\\Users\\Lukas\\Documents\\projects\\esinet\\evaluate\\..\\esinet\\util\\util.py:388: RuntimeWarning: An average reference projection was already added. The data has been left untouched.\n",
      "  epochs.set_eeg_reference(projection=True, verbose=verbose)#.apply_baseline(baseline=baseline)\n",
      "c:\\Users\\Lukas\\Documents\\projects\\esinet\\evaluate\\..\\esinet\\util\\util.py:420: RuntimeWarning: Too few samples (required : 310 got : 60), covariance estimate may be unreliable\n",
      "  data_cov = mne.compute_raw_covariance(raw, tmin=tmin,\n",
      "c:\\Users\\Lukas\\Documents\\projects\\esinet\\evaluate\\..\\esinet\\util\\util.py:388: RuntimeWarning: An average reference projection was already added. The data has been left untouched.\n",
      "  epochs.set_eeg_reference(projection=True, verbose=verbose)#.apply_baseline(baseline=baseline)\n",
      "c:\\Users\\Lukas\\Documents\\projects\\esinet\\evaluate\\..\\esinet\\util\\util.py:420: RuntimeWarning: Too few samples (required : 310 got : 40), covariance estimate may be unreliable\n",
      "  data_cov = mne.compute_raw_covariance(raw, tmin=tmin,\n",
      "c:\\Users\\Lukas\\Documents\\projects\\esinet\\evaluate\\..\\esinet\\util\\util.py:388: RuntimeWarning: An average reference projection was already added. The data has been left untouched.\n",
      "  epochs.set_eeg_reference(projection=True, verbose=verbose)#.apply_baseline(baseline=baseline)\n",
      "c:\\Users\\Lukas\\Documents\\projects\\esinet\\evaluate\\..\\esinet\\util\\util.py:420: RuntimeWarning: Too few samples (required : 310 got : 80), covariance estimate may be unreliable\n",
      "  data_cov = mne.compute_raw_covariance(raw, tmin=tmin,\n",
      "c:\\Users\\Lukas\\Documents\\projects\\esinet\\evaluate\\..\\esinet\\util\\util.py:388: RuntimeWarning: An average reference projection was already added. The data has been left untouched.\n",
      "  epochs.set_eeg_reference(projection=True, verbose=verbose)#.apply_baseline(baseline=baseline)\n"
     ]
    },
    {
     "name": "stdout",
     "output_type": "stream",
     "text": [
      "<RawArray | 61 x 556 (5.5 s), ~355 kB, data loaded> 4.0 info empirical\n",
      "<RawArray | 61 x 573 (5.7 s), ~363 kB, data loaded> 4.0 info empirical\n",
      "<RawArray | 61 x 405 (4.0 s), ~283 kB, data loaded> 4.0 info empirical\n",
      "<RawArray | 61 x 594 (5.9 s), ~373 kB, data loaded> 4.0 info empirical\n"
     ]
    },
    {
     "name": "stderr",
     "output_type": "stream",
     "text": [
      "c:\\Users\\Lukas\\Documents\\projects\\esinet\\evaluate\\..\\esinet\\util\\util.py:420: RuntimeWarning: Too few samples (required : 310 got : 140), covariance estimate may be unreliable\n",
      "  data_cov = mne.compute_raw_covariance(raw, tmin=tmin,\n",
      "c:\\Users\\Lukas\\Documents\\projects\\esinet\\evaluate\\..\\esinet\\util\\util.py:388: RuntimeWarning: An average reference projection was already added. The data has been left untouched.\n",
      "  epochs.set_eeg_reference(projection=True, verbose=verbose)#.apply_baseline(baseline=baseline)\n",
      "c:\\Users\\Lukas\\Documents\\projects\\esinet\\evaluate\\..\\esinet\\util\\util.py:420: RuntimeWarning: Too few samples (required : 310 got : 160), covariance estimate may be unreliable\n",
      "  data_cov = mne.compute_raw_covariance(raw, tmin=tmin,\n",
      "c:\\Users\\Lukas\\Documents\\projects\\esinet\\evaluate\\..\\esinet\\util\\util.py:388: RuntimeWarning: An average reference projection was already added. The data has been left untouched.\n",
      "  epochs.set_eeg_reference(projection=True, verbose=verbose)#.apply_baseline(baseline=baseline)\n",
      "c:\\Users\\Lukas\\Documents\\projects\\esinet\\evaluate\\..\\esinet\\util\\util.py:423: RuntimeWarning: Epochs are not baseline corrected, covariance matrix may be inaccurate\n",
      "  data_cov = mne.compute_covariance(epochs, tmin=0.0,\n",
      "c:\\Users\\Lukas\\Documents\\projects\\esinet\\evaluate\\..\\esinet\\util\\util.py:423: RuntimeWarning: Too few samples (required : 310 got : 5), covariance estimate may be unreliable\n",
      "  data_cov = mne.compute_covariance(epochs, tmin=0.0,\n",
      "c:\\Users\\Lukas\\Documents\\projects\\esinet\\evaluate\\..\\esinet\\util\\util.py:388: RuntimeWarning: An average reference projection was already added. The data has been left untouched.\n",
      "  epochs.set_eeg_reference(projection=True, verbose=verbose)#.apply_baseline(baseline=baseline)\n",
      "c:\\Users\\Lukas\\Documents\\projects\\esinet\\evaluate\\..\\esinet\\util\\util.py:420: RuntimeWarning: Too few samples (required : 310 got : 180), covariance estimate may be unreliable\n",
      "  data_cov = mne.compute_raw_covariance(raw, tmin=tmin,\n",
      "c:\\Users\\Lukas\\Documents\\projects\\esinet\\evaluate\\..\\esinet\\util\\util.py:388: RuntimeWarning: An average reference projection was already added. The data has been left untouched.\n",
      "  epochs.set_eeg_reference(projection=True, verbose=verbose)#.apply_baseline(baseline=baseline)\n"
     ]
    },
    {
     "name": "stdout",
     "output_type": "stream",
     "text": [
      "<RawArray | 61 x 441 (4.4 s), ~300 kB, data loaded> 4.0 info empirical\n",
      "<RawArray | 61 x 524 (5.2 s), ~340 kB, data loaded> 4.0 info empirical\n",
      "<RawArray | 61 x 434 (4.3 s), ~297 kB, data loaded> 4.0 info empirical\n",
      "<RawArray | 61 x 537 (5.4 s), ~346 kB, data loaded> 4.0 info empirical\n"
     ]
    },
    {
     "name": "stderr",
     "output_type": "stream",
     "text": [
      "c:\\Users\\Lukas\\Documents\\projects\\esinet\\evaluate\\..\\esinet\\util\\util.py:420: RuntimeWarning: Too few samples (required : 310 got : 40), covariance estimate may be unreliable\n",
      "  data_cov = mne.compute_raw_covariance(raw, tmin=tmin,\n",
      "c:\\Users\\Lukas\\Documents\\projects\\esinet\\evaluate\\..\\esinet\\util\\util.py:388: RuntimeWarning: An average reference projection was already added. The data has been left untouched.\n",
      "  epochs.set_eeg_reference(projection=True, verbose=verbose)#.apply_baseline(baseline=baseline)\n",
      "c:\\Users\\Lukas\\Documents\\projects\\esinet\\evaluate\\..\\esinet\\util\\util.py:420: RuntimeWarning: Too few samples (required : 310 got : 120), covariance estimate may be unreliable\n",
      "  data_cov = mne.compute_raw_covariance(raw, tmin=tmin,\n",
      "c:\\Users\\Lukas\\Documents\\projects\\esinet\\evaluate\\..\\esinet\\util\\util.py:388: RuntimeWarning: An average reference projection was already added. The data has been left untouched.\n",
      "  epochs.set_eeg_reference(projection=True, verbose=verbose)#.apply_baseline(baseline=baseline)\n",
      "c:\\Users\\Lukas\\Documents\\projects\\esinet\\evaluate\\..\\esinet\\util\\util.py:420: RuntimeWarning: Too few samples (required : 310 got : 20), covariance estimate may be unreliable\n",
      "  data_cov = mne.compute_raw_covariance(raw, tmin=tmin,\n",
      "c:\\Users\\Lukas\\Documents\\projects\\esinet\\evaluate\\..\\esinet\\util\\util.py:388: RuntimeWarning: An average reference projection was already added. The data has been left untouched.\n",
      "  epochs.set_eeg_reference(projection=True, verbose=verbose)#.apply_baseline(baseline=baseline)\n",
      "c:\\Users\\Lukas\\Documents\\projects\\esinet\\evaluate\\..\\esinet\\util\\util.py:420: RuntimeWarning: Too few samples (required : 310 got : 120), covariance estimate may be unreliable\n",
      "  data_cov = mne.compute_raw_covariance(raw, tmin=tmin,\n"
     ]
    },
    {
     "name": "stdout",
     "output_type": "stream",
     "text": [
      "<RawArray | 61 x 581 (5.8 s), ~367 kB, data loaded> 4.0 info empirical\n",
      "<RawArray | 61 x 546 (5.5 s), ~350 kB, data loaded> 4.0 info empirical\n",
      "<RawArray | 61 x 405 (4.0 s), ~283 kB, data loaded> 4.0 info empirical\n",
      "<RawArray | 61 x 438 (4.4 s), ~299 kB, data loaded> 4.0 info empirical\n"
     ]
    },
    {
     "name": "stderr",
     "output_type": "stream",
     "text": [
      "c:\\Users\\Lukas\\Documents\\projects\\esinet\\evaluate\\..\\esinet\\util\\util.py:388: RuntimeWarning: An average reference projection was already added. The data has been left untouched.\n",
      "  epochs.set_eeg_reference(projection=True, verbose=verbose)#.apply_baseline(baseline=baseline)\n",
      "c:\\Users\\Lukas\\Documents\\projects\\esinet\\evaluate\\..\\esinet\\util\\util.py:420: RuntimeWarning: Too few samples (required : 310 got : 180), covariance estimate may be unreliable\n",
      "  data_cov = mne.compute_raw_covariance(raw, tmin=tmin,\n",
      "c:\\Users\\Lukas\\Documents\\projects\\esinet\\evaluate\\..\\esinet\\util\\util.py:388: RuntimeWarning: An average reference projection was already added. The data has been left untouched.\n",
      "  epochs.set_eeg_reference(projection=True, verbose=verbose)#.apply_baseline(baseline=baseline)\n",
      "c:\\Users\\Lukas\\Documents\\projects\\esinet\\evaluate\\..\\esinet\\util\\util.py:420: RuntimeWarning: Too few samples (required : 310 got : 140), covariance estimate may be unreliable\n",
      "  data_cov = mne.compute_raw_covariance(raw, tmin=tmin,\n",
      "c:\\Users\\Lukas\\Documents\\projects\\esinet\\evaluate\\..\\esinet\\util\\util.py:388: RuntimeWarning: An average reference projection was already added. The data has been left untouched.\n",
      "  epochs.set_eeg_reference(projection=True, verbose=verbose)#.apply_baseline(baseline=baseline)\n",
      "c:\\Users\\Lukas\\Documents\\projects\\esinet\\evaluate\\..\\esinet\\util\\util.py:423: RuntimeWarning: Epochs are not baseline corrected, covariance matrix may be inaccurate\n",
      "  data_cov = mne.compute_covariance(epochs, tmin=0.0,\n",
      "c:\\Users\\Lukas\\Documents\\projects\\esinet\\evaluate\\..\\esinet\\util\\util.py:423: RuntimeWarning: Too few samples (required : 310 got : 5), covariance estimate may be unreliable\n",
      "  data_cov = mne.compute_covariance(epochs, tmin=0.0,\n",
      "c:\\Users\\Lukas\\Documents\\projects\\esinet\\evaluate\\..\\esinet\\util\\util.py:388: RuntimeWarning: An average reference projection was already added. The data has been left untouched.\n",
      "  epochs.set_eeg_reference(projection=True, verbose=verbose)#.apply_baseline(baseline=baseline)\n",
      "c:\\Users\\Lukas\\Documents\\projects\\esinet\\evaluate\\..\\esinet\\util\\util.py:420: RuntimeWarning: Too few samples (required : 310 got : 20), covariance estimate may be unreliable\n",
      "  data_cov = mne.compute_raw_covariance(raw, tmin=tmin,\n",
      "c:\\Users\\Lukas\\Documents\\projects\\esinet\\evaluate\\..\\esinet\\util\\util.py:388: RuntimeWarning: An average reference projection was already added. The data has been left untouched.\n",
      "  epochs.set_eeg_reference(projection=True, verbose=verbose)#.apply_baseline(baseline=baseline)\n"
     ]
    },
    {
     "name": "stdout",
     "output_type": "stream",
     "text": [
      "<RawArray | 61 x 576 (5.8 s), ~364 kB, data loaded> 4.0 info empirical\n",
      "<RawArray | 61 x 406 (4.0 s), ~283 kB, data loaded> 4.0 info empirical\n",
      "<RawArray | 61 x 565 (5.6 s), ~359 kB, data loaded> 4.0 info empirical\n",
      "<RawArray | 61 x 497 (5.0 s), ~327 kB, data loaded> 4.0 info empirical\n"
     ]
    },
    {
     "name": "stderr",
     "output_type": "stream",
     "text": [
      "c:\\Users\\Lukas\\Documents\\projects\\esinet\\evaluate\\..\\esinet\\util\\util.py:420: RuntimeWarning: Too few samples (required : 310 got : 160), covariance estimate may be unreliable\n",
      "  data_cov = mne.compute_raw_covariance(raw, tmin=tmin,\n",
      "c:\\Users\\Lukas\\Documents\\projects\\esinet\\evaluate\\..\\esinet\\util\\util.py:388: RuntimeWarning: An average reference projection was already added. The data has been left untouched.\n",
      "  epochs.set_eeg_reference(projection=True, verbose=verbose)#.apply_baseline(baseline=baseline)\n",
      "c:\\Users\\Lukas\\Documents\\projects\\esinet\\evaluate\\..\\esinet\\util\\util.py:423: RuntimeWarning: Epochs are not baseline corrected, covariance matrix may be inaccurate\n",
      "  data_cov = mne.compute_covariance(epochs, tmin=0.0,\n",
      "c:\\Users\\Lukas\\Documents\\projects\\esinet\\evaluate\\..\\esinet\\util\\util.py:423: RuntimeWarning: Too few samples (required : 310 got : 6), covariance estimate may be unreliable\n",
      "  data_cov = mne.compute_covariance(epochs, tmin=0.0,\n",
      "c:\\Users\\Lukas\\Documents\\projects\\esinet\\evaluate\\..\\esinet\\util\\util.py:388: RuntimeWarning: An average reference projection was already added. The data has been left untouched.\n",
      "  epochs.set_eeg_reference(projection=True, verbose=verbose)#.apply_baseline(baseline=baseline)\n",
      "c:\\Users\\Lukas\\Documents\\projects\\esinet\\evaluate\\..\\esinet\\util\\util.py:420: RuntimeWarning: Too few samples (required : 310 got : 160), covariance estimate may be unreliable\n",
      "  data_cov = mne.compute_raw_covariance(raw, tmin=tmin,\n",
      "c:\\Users\\Lukas\\Documents\\projects\\esinet\\evaluate\\..\\esinet\\util\\util.py:388: RuntimeWarning: An average reference projection was already added. The data has been left untouched.\n",
      "  epochs.set_eeg_reference(projection=True, verbose=verbose)#.apply_baseline(baseline=baseline)\n",
      "c:\\Users\\Lukas\\Documents\\projects\\esinet\\evaluate\\..\\esinet\\util\\util.py:420: RuntimeWarning: Too few samples (required : 310 got : 80), covariance estimate may be unreliable\n",
      "  data_cov = mne.compute_raw_covariance(raw, tmin=tmin,\n",
      "c:\\Users\\Lukas\\Documents\\projects\\esinet\\evaluate\\..\\esinet\\util\\util.py:388: RuntimeWarning: An average reference projection was already added. The data has been left untouched.\n",
      "  epochs.set_eeg_reference(projection=True, verbose=verbose)#.apply_baseline(baseline=baseline)\n"
     ]
    },
    {
     "name": "stdout",
     "output_type": "stream",
     "text": [
      "<RawArray | 61 x 439 (4.4 s), ~299 kB, data loaded> 4.0 info empirical\n",
      "<RawArray | 61 x 594 (5.9 s), ~373 kB, data loaded> 4.0 info empirical\n",
      "<RawArray | 61 x 600 (6.0 s), ~376 kB, data loaded> 4.0 info empirical\n",
      "<RawArray | 61 x 520 (5.2 s), ~338 kB, data loaded> 4.0 info empirical\n",
      "<RawArray | 61 x 431 (4.3 s), ~295 kB, data loaded> 4.0 info empirical\n"
     ]
    },
    {
     "name": "stderr",
     "output_type": "stream",
     "text": [
      "c:\\Users\\Lukas\\Documents\\projects\\esinet\\evaluate\\..\\esinet\\util\\util.py:420: RuntimeWarning: Too few samples (required : 310 got : 20), covariance estimate may be unreliable\n",
      "  data_cov = mne.compute_raw_covariance(raw, tmin=tmin,\n",
      "c:\\Users\\Lukas\\Documents\\projects\\esinet\\evaluate\\..\\esinet\\util\\util.py:388: RuntimeWarning: An average reference projection was already added. The data has been left untouched.\n",
      "  epochs.set_eeg_reference(projection=True, verbose=verbose)#.apply_baseline(baseline=baseline)\n",
      "c:\\Users\\Lukas\\Documents\\projects\\esinet\\evaluate\\..\\esinet\\util\\util.py:420: RuntimeWarning: Too few samples (required : 310 got : 180), covariance estimate may be unreliable\n",
      "  data_cov = mne.compute_raw_covariance(raw, tmin=tmin,\n",
      "c:\\Users\\Lukas\\Documents\\projects\\esinet\\evaluate\\..\\esinet\\util\\util.py:388: RuntimeWarning: An average reference projection was already added. The data has been left untouched.\n",
      "  epochs.set_eeg_reference(projection=True, verbose=verbose)#.apply_baseline(baseline=baseline)\n",
      "c:\\Users\\Lukas\\Documents\\projects\\esinet\\evaluate\\..\\esinet\\util\\util.py:420: RuntimeWarning: Too few samples (required : 310 got : 200), covariance estimate may be unreliable\n",
      "  data_cov = mne.compute_raw_covariance(raw, tmin=tmin,\n",
      "c:\\Users\\Lukas\\Documents\\projects\\esinet\\evaluate\\..\\esinet\\util\\util.py:388: RuntimeWarning: An average reference projection was already added. The data has been left untouched.\n",
      "  epochs.set_eeg_reference(projection=True, verbose=verbose)#.apply_baseline(baseline=baseline)\n",
      "c:\\Users\\Lukas\\Documents\\projects\\esinet\\evaluate\\..\\esinet\\util\\util.py:420: RuntimeWarning: Too few samples (required : 310 got : 120), covariance estimate may be unreliable\n",
      "  data_cov = mne.compute_raw_covariance(raw, tmin=tmin,\n",
      "c:\\Users\\Lukas\\Documents\\projects\\esinet\\evaluate\\..\\esinet\\util\\util.py:388: RuntimeWarning: An average reference projection was already added. The data has been left untouched.\n",
      "  epochs.set_eeg_reference(projection=True, verbose=verbose)#.apply_baseline(baseline=baseline)\n",
      "c:\\Users\\Lukas\\Documents\\projects\\esinet\\evaluate\\..\\esinet\\util\\util.py:420: RuntimeWarning: Too few samples (required : 310 got : 20), covariance estimate may be unreliable\n",
      "  data_cov = mne.compute_raw_covariance(raw, tmin=tmin,\n",
      "c:\\Users\\Lukas\\Documents\\projects\\esinet\\evaluate\\..\\esinet\\util\\util.py:388: RuntimeWarning: An average reference projection was already added. The data has been left untouched.\n",
      "  epochs.set_eeg_reference(projection=True, verbose=verbose)#.apply_baseline(baseline=baseline)\n",
      "c:\\Users\\Lukas\\Documents\\projects\\esinet\\evaluate\\..\\esinet\\util\\util.py:423: RuntimeWarning: Epochs are not baseline corrected, covariance matrix may be inaccurate\n",
      "  data_cov = mne.compute_covariance(epochs, tmin=0.0,\n",
      "c:\\Users\\Lukas\\Documents\\projects\\esinet\\evaluate\\..\\esinet\\util\\util.py:423: RuntimeWarning: Too few samples (required : 310 got : 3), covariance estimate may be unreliable\n",
      "  data_cov = mne.compute_covariance(epochs, tmin=0.0,\n",
      "c:\\Users\\Lukas\\Documents\\projects\\esinet\\evaluate\\..\\esinet\\util\\util.py:388: RuntimeWarning: An average reference projection was already added. The data has been left untouched.\n",
      "  epochs.set_eeg_reference(projection=True, verbose=verbose)#.apply_baseline(baseline=baseline)\n",
      "c:\\Users\\Lukas\\Documents\\projects\\esinet\\evaluate\\..\\esinet\\util\\util.py:420: RuntimeWarning: Too few samples (required : 310 got : 40), covariance estimate may be unreliable\n",
      "  data_cov = mne.compute_raw_covariance(raw, tmin=tmin,\n",
      "c:\\Users\\Lukas\\Documents\\projects\\esinet\\evaluate\\..\\esinet\\util\\util.py:388: RuntimeWarning: An average reference projection was already added. The data has been left untouched.\n",
      "  epochs.set_eeg_reference(projection=True, verbose=verbose)#.apply_baseline(baseline=baseline)\n",
      "c:\\Users\\Lukas\\Documents\\projects\\esinet\\evaluate\\..\\esinet\\util\\util.py:420: RuntimeWarning: Too few samples (required : 310 got : 60), covariance estimate may be unreliable\n",
      "  data_cov = mne.compute_raw_covariance(raw, tmin=tmin,\n",
      "c:\\Users\\Lukas\\Documents\\projects\\esinet\\evaluate\\..\\esinet\\util\\util.py:388: RuntimeWarning: An average reference projection was already added. The data has been left untouched.\n",
      "  epochs.set_eeg_reference(projection=True, verbose=verbose)#.apply_baseline(baseline=baseline)\n"
     ]
    },
    {
     "name": "stdout",
     "output_type": "stream",
     "text": [
      "<RawArray | 61 x 403 (4.0 s), ~282 kB, data loaded> 4.0 info empirical\n",
      "<RawArray | 61 x 448 (4.5 s), ~303 kB, data loaded> 4.0 info empirical\n",
      "<RawArray | 61 x 477 (4.8 s), ~317 kB, data loaded> 4.0 info empirical\n",
      "<RawArray | 61 x 461 (4.6 s), ~310 kB, data loaded> 4.0 info empirical\n"
     ]
    },
    {
     "name": "stderr",
     "output_type": "stream",
     "text": [
      "c:\\Users\\Lukas\\Documents\\projects\\esinet\\evaluate\\..\\esinet\\util\\util.py:420: RuntimeWarning: Too few samples (required : 310 got : 60), covariance estimate may be unreliable\n",
      "  data_cov = mne.compute_raw_covariance(raw, tmin=tmin,\n",
      "c:\\Users\\Lukas\\Documents\\projects\\esinet\\evaluate\\..\\esinet\\util\\util.py:388: RuntimeWarning: An average reference projection was already added. The data has been left untouched.\n",
      "  epochs.set_eeg_reference(projection=True, verbose=verbose)#.apply_baseline(baseline=baseline)\n",
      "c:\\Users\\Lukas\\Documents\\projects\\esinet\\evaluate\\..\\esinet\\util\\util.py:420: RuntimeWarning: Too few samples (required : 310 got : 180), covariance estimate may be unreliable\n",
      "  data_cov = mne.compute_raw_covariance(raw, tmin=tmin,\n",
      "c:\\Users\\Lukas\\Documents\\projects\\esinet\\evaluate\\..\\esinet\\util\\util.py:388: RuntimeWarning: An average reference projection was already added. The data has been left untouched.\n",
      "  epochs.set_eeg_reference(projection=True, verbose=verbose)#.apply_baseline(baseline=baseline)\n",
      "c:\\Users\\Lukas\\Documents\\projects\\esinet\\evaluate\\..\\esinet\\util\\util.py:420: RuntimeWarning: Too few samples (required : 310 got : 80), covariance estimate may be unreliable\n",
      "  data_cov = mne.compute_raw_covariance(raw, tmin=tmin,\n",
      "c:\\Users\\Lukas\\Documents\\projects\\esinet\\evaluate\\..\\esinet\\util\\util.py:388: RuntimeWarning: An average reference projection was already added. The data has been left untouched.\n",
      "  epochs.set_eeg_reference(projection=True, verbose=verbose)#.apply_baseline(baseline=baseline)\n",
      "c:\\Users\\Lukas\\Documents\\projects\\esinet\\evaluate\\..\\esinet\\util\\util.py:420: RuntimeWarning: Too few samples (required : 310 got : 100), covariance estimate may be unreliable\n",
      "  data_cov = mne.compute_raw_covariance(raw, tmin=tmin,\n",
      "c:\\Users\\Lukas\\Documents\\projects\\esinet\\evaluate\\..\\esinet\\util\\util.py:388: RuntimeWarning: An average reference projection was already added. The data has been left untouched.\n",
      "  epochs.set_eeg_reference(projection=True, verbose=verbose)#.apply_baseline(baseline=baseline)\n"
     ]
    },
    {
     "name": "stdout",
     "output_type": "stream",
     "text": [
      "<RawArray | 61 x 584 (5.8 s), ~368 kB, data loaded> 4.0 info empirical\n",
      "<RawArray | 61 x 491 (4.9 s), ~324 kB, data loaded> 4.0 info empirical\n",
      "<RawArray | 61 x 508 (5.1 s), ~332 kB, data loaded> 4.0 info empirical\n",
      "<RawArray | 61 x 423 (4.2 s), ~291 kB, data loaded> 4.0 info empirical\n",
      "<RawArray | 61 x 589 (5.9 s), ~371 kB, data loaded> 4.0 info empirical\n"
     ]
    },
    {
     "name": "stderr",
     "output_type": "stream",
     "text": [
      "c:\\Users\\Lukas\\Documents\\projects\\esinet\\evaluate\\..\\esinet\\util\\util.py:420: RuntimeWarning: Too few samples (required : 310 got : 20), covariance estimate may be unreliable\n",
      "  data_cov = mne.compute_raw_covariance(raw, tmin=tmin,\n",
      "c:\\Users\\Lukas\\Documents\\projects\\esinet\\evaluate\\..\\esinet\\util\\util.py:388: RuntimeWarning: An average reference projection was already added. The data has been left untouched.\n",
      "  epochs.set_eeg_reference(projection=True, verbose=verbose)#.apply_baseline(baseline=baseline)\n",
      "c:\\Users\\Lukas\\Documents\\projects\\esinet\\evaluate\\..\\esinet\\util\\util.py:420: RuntimeWarning: Too few samples (required : 310 got : 180), covariance estimate may be unreliable\n",
      "  data_cov = mne.compute_raw_covariance(raw, tmin=tmin,\n",
      "c:\\Users\\Lukas\\Documents\\projects\\esinet\\evaluate\\..\\esinet\\util\\util.py:388: RuntimeWarning: An average reference projection was already added. The data has been left untouched.\n",
      "  epochs.set_eeg_reference(projection=True, verbose=verbose)#.apply_baseline(baseline=baseline)\n",
      "c:\\Users\\Lukas\\Documents\\projects\\esinet\\evaluate\\..\\esinet\\util\\util.py:420: RuntimeWarning: Too few samples (required : 310 got : 60), covariance estimate may be unreliable\n",
      "  data_cov = mne.compute_raw_covariance(raw, tmin=tmin,\n",
      "c:\\Users\\Lukas\\Documents\\projects\\esinet\\evaluate\\..\\esinet\\util\\util.py:388: RuntimeWarning: An average reference projection was already added. The data has been left untouched.\n",
      "  epochs.set_eeg_reference(projection=True, verbose=verbose)#.apply_baseline(baseline=baseline)\n",
      "c:\\Users\\Lukas\\Documents\\projects\\esinet\\evaluate\\..\\esinet\\util\\util.py:420: RuntimeWarning: Too few samples (required : 310 got : 120), covariance estimate may be unreliable\n",
      "  data_cov = mne.compute_raw_covariance(raw, tmin=tmin,\n",
      "c:\\Users\\Lukas\\Documents\\projects\\esinet\\evaluate\\..\\esinet\\util\\util.py:388: RuntimeWarning: An average reference projection was already added. The data has been left untouched.\n",
      "  epochs.set_eeg_reference(projection=True, verbose=verbose)#.apply_baseline(baseline=baseline)\n"
     ]
    },
    {
     "name": "stdout",
     "output_type": "stream",
     "text": [
      "<RawArray | 61 x 472 (4.7 s), ~315 kB, data loaded> 4.0 info empirical\n",
      "<RawArray | 61 x 531 (5.3 s), ~343 kB, data loaded> 4.0 info empirical\n",
      "<RawArray | 61 x 442 (4.4 s), ~300 kB, data loaded> 4.0 info empirical\n",
      "<RawArray | 61 x 583 (5.8 s), ~368 kB, data loaded> 4.0 info empirical\n",
      "<RawArray | 61 x 524 (5.2 s), ~340 kB, data loaded> 4.0 info empirical\n"
     ]
    },
    {
     "name": "stderr",
     "output_type": "stream",
     "text": [
      "c:\\Users\\Lukas\\Documents\\projects\\esinet\\evaluate\\..\\esinet\\util\\util.py:420: RuntimeWarning: Too few samples (required : 310 got : 40), covariance estimate may be unreliable\n",
      "  data_cov = mne.compute_raw_covariance(raw, tmin=tmin,\n",
      "c:\\Users\\Lukas\\Documents\\projects\\esinet\\evaluate\\..\\esinet\\util\\util.py:388: RuntimeWarning: An average reference projection was already added. The data has been left untouched.\n",
      "  epochs.set_eeg_reference(projection=True, verbose=verbose)#.apply_baseline(baseline=baseline)\n",
      "c:\\Users\\Lukas\\Documents\\projects\\esinet\\evaluate\\..\\esinet\\util\\util.py:420: RuntimeWarning: Too few samples (required : 310 got : 180), covariance estimate may be unreliable\n",
      "  data_cov = mne.compute_raw_covariance(raw, tmin=tmin,\n",
      "c:\\Users\\Lukas\\Documents\\projects\\esinet\\evaluate\\..\\esinet\\util\\util.py:388: RuntimeWarning: An average reference projection was already added. The data has been left untouched.\n",
      "  epochs.set_eeg_reference(projection=True, verbose=verbose)#.apply_baseline(baseline=baseline)\n",
      "c:\\Users\\Lukas\\Documents\\projects\\esinet\\evaluate\\..\\esinet\\util\\util.py:420: RuntimeWarning: Too few samples (required : 310 got : 120), covariance estimate may be unreliable\n",
      "  data_cov = mne.compute_raw_covariance(raw, tmin=tmin,\n",
      "c:\\Users\\Lukas\\Documents\\projects\\esinet\\evaluate\\..\\esinet\\util\\util.py:388: RuntimeWarning: An average reference projection was already added. The data has been left untouched.\n",
      "  epochs.set_eeg_reference(projection=True, verbose=verbose)#.apply_baseline(baseline=baseline)\n",
      "c:\\Users\\Lukas\\Documents\\projects\\esinet\\evaluate\\..\\esinet\\util\\util.py:420: RuntimeWarning: Too few samples (required : 310 got : 80), covariance estimate may be unreliable\n",
      "  data_cov = mne.compute_raw_covariance(raw, tmin=tmin,\n",
      "c:\\Users\\Lukas\\Documents\\projects\\esinet\\evaluate\\..\\esinet\\util\\util.py:388: RuntimeWarning: An average reference projection was already added. The data has been left untouched.\n",
      "  epochs.set_eeg_reference(projection=True, verbose=verbose)#.apply_baseline(baseline=baseline)\n"
     ]
    },
    {
     "name": "stdout",
     "output_type": "stream",
     "text": [
      "<RawArray | 61 x 483 (4.8 s), ~320 kB, data loaded> 4.0 info empirical\n",
      "<RawArray | 61 x 509 (5.1 s), ~332 kB, data loaded> 4.0 info empirical\n",
      "<RawArray | 61 x 487 (4.9 s), ~322 kB, data loaded> 4.0 info empirical\n",
      "<RawArray | 61 x 489 (4.9 s), ~323 kB, data loaded> 4.0 info empirical\n",
      "<RawArray | 61 x 508 (5.1 s), ~332 kB, data loaded> 4.0 info empirical\n"
     ]
    },
    {
     "name": "stderr",
     "output_type": "stream",
     "text": [
      "c:\\Users\\Lukas\\Documents\\projects\\esinet\\evaluate\\..\\esinet\\util\\util.py:420: RuntimeWarning: Too few samples (required : 310 got : 100), covariance estimate may be unreliable\n",
      "  data_cov = mne.compute_raw_covariance(raw, tmin=tmin,\n",
      "c:\\Users\\Lukas\\Documents\\projects\\esinet\\evaluate\\..\\esinet\\util\\util.py:388: RuntimeWarning: An average reference projection was already added. The data has been left untouched.\n",
      "  epochs.set_eeg_reference(projection=True, verbose=verbose)#.apply_baseline(baseline=baseline)\n",
      "c:\\Users\\Lukas\\Documents\\projects\\esinet\\evaluate\\..\\esinet\\util\\util.py:420: RuntimeWarning: Too few samples (required : 310 got : 80), covariance estimate may be unreliable\n",
      "  data_cov = mne.compute_raw_covariance(raw, tmin=tmin,\n",
      "c:\\Users\\Lukas\\Documents\\projects\\esinet\\evaluate\\..\\esinet\\util\\util.py:388: RuntimeWarning: An average reference projection was already added. The data has been left untouched.\n",
      "  epochs.set_eeg_reference(projection=True, verbose=verbose)#.apply_baseline(baseline=baseline)\n",
      "c:\\Users\\Lukas\\Documents\\projects\\esinet\\evaluate\\..\\esinet\\util\\util.py:420: RuntimeWarning: Too few samples (required : 310 got : 80), covariance estimate may be unreliable\n",
      "  data_cov = mne.compute_raw_covariance(raw, tmin=tmin,\n",
      "c:\\Users\\Lukas\\Documents\\projects\\esinet\\evaluate\\..\\esinet\\util\\util.py:388: RuntimeWarning: An average reference projection was already added. The data has been left untouched.\n",
      "  epochs.set_eeg_reference(projection=True, verbose=verbose)#.apply_baseline(baseline=baseline)\n",
      "c:\\Users\\Lukas\\Documents\\projects\\esinet\\evaluate\\..\\esinet\\util\\util.py:420: RuntimeWarning: Too few samples (required : 310 got : 100), covariance estimate may be unreliable\n",
      "  data_cov = mne.compute_raw_covariance(raw, tmin=tmin,\n",
      "c:\\Users\\Lukas\\Documents\\projects\\esinet\\evaluate\\..\\esinet\\util\\util.py:388: RuntimeWarning: An average reference projection was already added. The data has been left untouched.\n",
      "  epochs.set_eeg_reference(projection=True, verbose=verbose)#.apply_baseline(baseline=baseline)\n"
     ]
    },
    {
     "name": "stdout",
     "output_type": "stream",
     "text": [
      "<RawArray | 61 x 425 (4.2 s), ~292 kB, data loaded> 4.0 info empirical\n",
      "<RawArray | 61 x 534 (5.3 s), ~344 kB, data loaded> 4.0 info empirical\n",
      "<RawArray | 61 x 587 (5.9 s), ~370 kB, data loaded> 4.0 info empirical\n",
      "<RawArray | 61 x 506 (5.0 s), ~331 kB, data loaded> 4.0 info empirical\n"
     ]
    },
    {
     "name": "stderr",
     "output_type": "stream",
     "text": [
      "c:\\Users\\Lukas\\Documents\\projects\\esinet\\evaluate\\..\\esinet\\util\\util.py:420: RuntimeWarning: Too few samples (required : 310 got : 20), covariance estimate may be unreliable\n",
      "  data_cov = mne.compute_raw_covariance(raw, tmin=tmin,\n",
      "c:\\Users\\Lukas\\Documents\\projects\\esinet\\evaluate\\..\\esinet\\util\\util.py:388: RuntimeWarning: An average reference projection was already added. The data has been left untouched.\n",
      "  epochs.set_eeg_reference(projection=True, verbose=verbose)#.apply_baseline(baseline=baseline)\n",
      "c:\\Users\\Lukas\\Documents\\projects\\esinet\\evaluate\\..\\esinet\\util\\util.py:420: RuntimeWarning: Too few samples (required : 310 got : 120), covariance estimate may be unreliable\n",
      "  data_cov = mne.compute_raw_covariance(raw, tmin=tmin,\n",
      "c:\\Users\\Lukas\\Documents\\projects\\esinet\\evaluate\\..\\esinet\\util\\util.py:388: RuntimeWarning: An average reference projection was already added. The data has been left untouched.\n",
      "  epochs.set_eeg_reference(projection=True, verbose=verbose)#.apply_baseline(baseline=baseline)\n",
      "c:\\Users\\Lukas\\Documents\\projects\\esinet\\evaluate\\..\\esinet\\util\\util.py:420: RuntimeWarning: Too few samples (required : 310 got : 180), covariance estimate may be unreliable\n",
      "  data_cov = mne.compute_raw_covariance(raw, tmin=tmin,\n",
      "c:\\Users\\Lukas\\Documents\\projects\\esinet\\evaluate\\..\\esinet\\util\\util.py:388: RuntimeWarning: An average reference projection was already added. The data has been left untouched.\n",
      "  epochs.set_eeg_reference(projection=True, verbose=verbose)#.apply_baseline(baseline=baseline)\n",
      "c:\\Users\\Lukas\\Documents\\projects\\esinet\\evaluate\\..\\esinet\\util\\util.py:420: RuntimeWarning: Too few samples (required : 310 got : 100), covariance estimate may be unreliable\n",
      "  data_cov = mne.compute_raw_covariance(raw, tmin=tmin,\n",
      "c:\\Users\\Lukas\\Documents\\projects\\esinet\\evaluate\\..\\esinet\\util\\util.py:388: RuntimeWarning: An average reference projection was already added. The data has been left untouched.\n",
      "  epochs.set_eeg_reference(projection=True, verbose=verbose)#.apply_baseline(baseline=baseline)\n"
     ]
    },
    {
     "name": "stdout",
     "output_type": "stream",
     "text": [
      "<RawArray | 61 x 578 (5.8 s), ~365 kB, data loaded> 4.0 info empirical\n",
      "<RawArray | 61 x 410 (4.1 s), ~285 kB, data loaded> 4.0 info empirical\n",
      "<RawArray | 61 x 489 (4.9 s), ~323 kB, data loaded> 4.0 info empirical\n",
      "<RawArray | 61 x 499 (5.0 s), ~328 kB, data loaded> 4.0 info empirical\n"
     ]
    },
    {
     "name": "stderr",
     "output_type": "stream",
     "text": [
      "c:\\Users\\Lukas\\Documents\\projects\\esinet\\evaluate\\..\\esinet\\util\\util.py:420: RuntimeWarning: Too few samples (required : 310 got : 160), covariance estimate may be unreliable\n",
      "  data_cov = mne.compute_raw_covariance(raw, tmin=tmin,\n",
      "c:\\Users\\Lukas\\Documents\\projects\\esinet\\evaluate\\..\\esinet\\util\\util.py:388: RuntimeWarning: An average reference projection was already added. The data has been left untouched.\n",
      "  epochs.set_eeg_reference(projection=True, verbose=verbose)#.apply_baseline(baseline=baseline)\n",
      "c:\\Users\\Lukas\\Documents\\projects\\esinet\\evaluate\\..\\esinet\\util\\util.py:423: RuntimeWarning: Epochs are not baseline corrected, covariance matrix may be inaccurate\n",
      "  data_cov = mne.compute_covariance(epochs, tmin=0.0,\n",
      "c:\\Users\\Lukas\\Documents\\projects\\esinet\\evaluate\\..\\esinet\\util\\util.py:423: RuntimeWarning: Too few samples (required : 310 got : 10), covariance estimate may be unreliable\n",
      "  data_cov = mne.compute_covariance(epochs, tmin=0.0,\n",
      "c:\\Users\\Lukas\\Documents\\projects\\esinet\\evaluate\\..\\esinet\\util\\util.py:388: RuntimeWarning: An average reference projection was already added. The data has been left untouched.\n",
      "  epochs.set_eeg_reference(projection=True, verbose=verbose)#.apply_baseline(baseline=baseline)\n",
      "c:\\Users\\Lukas\\Documents\\projects\\esinet\\evaluate\\..\\esinet\\util\\util.py:420: RuntimeWarning: Too few samples (required : 310 got : 80), covariance estimate may be unreliable\n",
      "  data_cov = mne.compute_raw_covariance(raw, tmin=tmin,\n",
      "c:\\Users\\Lukas\\Documents\\projects\\esinet\\evaluate\\..\\esinet\\util\\util.py:388: RuntimeWarning: An average reference projection was already added. The data has been left untouched.\n",
      "  epochs.set_eeg_reference(projection=True, verbose=verbose)#.apply_baseline(baseline=baseline)\n",
      "c:\\Users\\Lukas\\Documents\\projects\\esinet\\evaluate\\..\\esinet\\util\\util.py:420: RuntimeWarning: Too few samples (required : 310 got : 80), covariance estimate may be unreliable\n",
      "  data_cov = mne.compute_raw_covariance(raw, tmin=tmin,\n",
      "c:\\Users\\Lukas\\Documents\\projects\\esinet\\evaluate\\..\\esinet\\util\\util.py:388: RuntimeWarning: An average reference projection was already added. The data has been left untouched.\n",
      "  epochs.set_eeg_reference(projection=True, verbose=verbose)#.apply_baseline(baseline=baseline)\n"
     ]
    },
    {
     "name": "stdout",
     "output_type": "stream",
     "text": [
      "<RawArray | 61 x 589 (5.9 s), ~371 kB, data loaded> 4.0 info empirical\n",
      "<RawArray | 61 x 524 (5.2 s), ~340 kB, data loaded> 4.0 info empirical\n",
      "<RawArray | 61 x 441 (4.4 s), ~300 kB, data loaded> 4.0 info empirical\n",
      "<RawArray | 61 x 406 (4.0 s), ~283 kB, data loaded> 4.0 info empirical\n"
     ]
    },
    {
     "name": "stderr",
     "output_type": "stream",
     "text": [
      "c:\\Users\\Lukas\\Documents\\projects\\esinet\\evaluate\\..\\esinet\\util\\util.py:420: RuntimeWarning: Too few samples (required : 310 got : 180), covariance estimate may be unreliable\n",
      "  data_cov = mne.compute_raw_covariance(raw, tmin=tmin,\n",
      "c:\\Users\\Lukas\\Documents\\projects\\esinet\\evaluate\\..\\esinet\\util\\util.py:388: RuntimeWarning: An average reference projection was already added. The data has been left untouched.\n",
      "  epochs.set_eeg_reference(projection=True, verbose=verbose)#.apply_baseline(baseline=baseline)\n",
      "c:\\Users\\Lukas\\Documents\\projects\\esinet\\evaluate\\..\\esinet\\util\\util.py:420: RuntimeWarning: Too few samples (required : 310 got : 120), covariance estimate may be unreliable\n",
      "  data_cov = mne.compute_raw_covariance(raw, tmin=tmin,\n",
      "c:\\Users\\Lukas\\Documents\\projects\\esinet\\evaluate\\..\\esinet\\util\\util.py:388: RuntimeWarning: An average reference projection was already added. The data has been left untouched.\n",
      "  epochs.set_eeg_reference(projection=True, verbose=verbose)#.apply_baseline(baseline=baseline)\n",
      "c:\\Users\\Lukas\\Documents\\projects\\esinet\\evaluate\\..\\esinet\\util\\util.py:420: RuntimeWarning: Too few samples (required : 310 got : 40), covariance estimate may be unreliable\n",
      "  data_cov = mne.compute_raw_covariance(raw, tmin=tmin,\n",
      "c:\\Users\\Lukas\\Documents\\projects\\esinet\\evaluate\\..\\esinet\\util\\util.py:388: RuntimeWarning: An average reference projection was already added. The data has been left untouched.\n",
      "  epochs.set_eeg_reference(projection=True, verbose=verbose)#.apply_baseline(baseline=baseline)\n",
      "c:\\Users\\Lukas\\Documents\\projects\\esinet\\evaluate\\..\\esinet\\util\\util.py:423: RuntimeWarning: Epochs are not baseline corrected, covariance matrix may be inaccurate\n",
      "  data_cov = mne.compute_covariance(epochs, tmin=0.0,\n",
      "c:\\Users\\Lukas\\Documents\\projects\\esinet\\evaluate\\..\\esinet\\util\\util.py:423: RuntimeWarning: Too few samples (required : 310 got : 6), covariance estimate may be unreliable\n",
      "  data_cov = mne.compute_covariance(epochs, tmin=0.0,\n",
      "c:\\Users\\Lukas\\Documents\\projects\\esinet\\evaluate\\..\\esinet\\util\\util.py:388: RuntimeWarning: An average reference projection was already added. The data has been left untouched.\n",
      "  epochs.set_eeg_reference(projection=True, verbose=verbose)#.apply_baseline(baseline=baseline)\n"
     ]
    },
    {
     "name": "stdout",
     "output_type": "stream",
     "text": [
      "<RawArray | 61 x 586 (5.8 s), ~369 kB, data loaded> 4.0 info empirical\n",
      "<RawArray | 61 x 421 (4.2 s), ~290 kB, data loaded> 4.0 info empirical\n",
      "<RawArray | 61 x 417 (4.2 s), ~289 kB, data loaded> 4.0 info empirical\n",
      "<RawArray | 61 x 437 (4.4 s), ~298 kB, data loaded> 4.0 info empirical\n",
      "<RawArray | 61 x 498 (5.0 s), ~327 kB, data loaded>"
     ]
    },
    {
     "name": "stderr",
     "output_type": "stream",
     "text": [
      "c:\\Users\\Lukas\\Documents\\projects\\esinet\\evaluate\\..\\esinet\\util\\util.py:420: RuntimeWarning: Too few samples (required : 310 got : 180), covariance estimate may be unreliable\n",
      "  data_cov = mne.compute_raw_covariance(raw, tmin=tmin,\n",
      "c:\\Users\\Lukas\\Documents\\projects\\esinet\\evaluate\\..\\esinet\\util\\util.py:388: RuntimeWarning: An average reference projection was already added. The data has been left untouched.\n",
      "  epochs.set_eeg_reference(projection=True, verbose=verbose)#.apply_baseline(baseline=baseline)\n",
      "c:\\Users\\Lukas\\Documents\\projects\\esinet\\evaluate\\..\\esinet\\util\\util.py:420: RuntimeWarning: Too few samples (required : 310 got : 20), covariance estimate may be unreliable\n",
      "  data_cov = mne.compute_raw_covariance(raw, tmin=tmin,\n",
      "c:\\Users\\Lukas\\Documents\\projects\\esinet\\evaluate\\..\\esinet\\util\\util.py:388: RuntimeWarning: An average reference projection was already added. The data has been left untouched.\n",
      "  epochs.set_eeg_reference(projection=True, verbose=verbose)#.apply_baseline(baseline=baseline)\n",
      "c:\\Users\\Lukas\\Documents\\projects\\esinet\\evaluate\\..\\esinet\\util\\util.py:423: RuntimeWarning: Epochs are not baseline corrected, covariance matrix may be inaccurate\n",
      "  data_cov = mne.compute_covariance(epochs, tmin=0.0,\n",
      "c:\\Users\\Lukas\\Documents\\projects\\esinet\\evaluate\\..\\esinet\\util\\util.py:423: RuntimeWarning: Too few samples (required : 310 got : 17), covariance estimate may be unreliable\n",
      "  data_cov = mne.compute_covariance(epochs, tmin=0.0,\n",
      "c:\\Users\\Lukas\\Documents\\projects\\esinet\\evaluate\\..\\esinet\\util\\util.py:388: RuntimeWarning: An average reference projection was already added. The data has been left untouched.\n",
      "  epochs.set_eeg_reference(projection=True, verbose=verbose)#.apply_baseline(baseline=baseline)\n",
      "c:\\Users\\Lukas\\Documents\\projects\\esinet\\evaluate\\..\\esinet\\util\\util.py:420: RuntimeWarning: Too few samples (required : 310 got : 20), covariance estimate may be unreliable\n",
      "  data_cov = mne.compute_raw_covariance(raw, tmin=tmin,\n",
      "c:\\Users\\Lukas\\Documents\\projects\\esinet\\evaluate\\..\\esinet\\util\\util.py:388: RuntimeWarning: An average reference projection was already added. The data has been left untouched.\n",
      "  epochs.set_eeg_reference(projection=True, verbose=verbose)#.apply_baseline(baseline=baseline)\n"
     ]
    },
    {
     "name": "stdout",
     "output_type": "stream",
     "text": [
      " 4.0 info empirical\n",
      "<RawArray | 61 x 511 (5.1 s), ~333 kB, data loaded> 4.0 info empirical\n",
      "<RawArray | 61 x 530 (5.3 s), ~342 kB, data loaded> 4.0 info empirical\n",
      "<RawArray | 61 x 452 (4.5 s), ~305 kB, data loaded> 4.0 info empirical\n"
     ]
    },
    {
     "name": "stderr",
     "output_type": "stream",
     "text": [
      "c:\\Users\\Lukas\\Documents\\projects\\esinet\\evaluate\\..\\esinet\\util\\util.py:420: RuntimeWarning: Too few samples (required : 310 got : 80), covariance estimate may be unreliable\n",
      "  data_cov = mne.compute_raw_covariance(raw, tmin=tmin,\n",
      "c:\\Users\\Lukas\\Documents\\projects\\esinet\\evaluate\\..\\esinet\\util\\util.py:388: RuntimeWarning: An average reference projection was already added. The data has been left untouched.\n",
      "  epochs.set_eeg_reference(projection=True, verbose=verbose)#.apply_baseline(baseline=baseline)\n",
      "c:\\Users\\Lukas\\Documents\\projects\\esinet\\evaluate\\..\\esinet\\util\\util.py:420: RuntimeWarning: Too few samples (required : 310 got : 100), covariance estimate may be unreliable\n",
      "  data_cov = mne.compute_raw_covariance(raw, tmin=tmin,\n",
      "c:\\Users\\Lukas\\Documents\\projects\\esinet\\evaluate\\..\\esinet\\util\\util.py:388: RuntimeWarning: An average reference projection was already added. The data has been left untouched.\n",
      "  epochs.set_eeg_reference(projection=True, verbose=verbose)#.apply_baseline(baseline=baseline)\n",
      "c:\\Users\\Lukas\\Documents\\projects\\esinet\\evaluate\\..\\esinet\\util\\util.py:420: RuntimeWarning: Too few samples (required : 310 got : 120), covariance estimate may be unreliable\n",
      "  data_cov = mne.compute_raw_covariance(raw, tmin=tmin,\n",
      "c:\\Users\\Lukas\\Documents\\projects\\esinet\\evaluate\\..\\esinet\\util\\util.py:388: RuntimeWarning: An average reference projection was already added. The data has been left untouched.\n",
      "  epochs.set_eeg_reference(projection=True, verbose=verbose)#.apply_baseline(baseline=baseline)\n",
      "c:\\Users\\Lukas\\Documents\\projects\\esinet\\evaluate\\..\\esinet\\util\\util.py:420: RuntimeWarning: Too few samples (required : 310 got : 40), covariance estimate may be unreliable\n",
      "  data_cov = mne.compute_raw_covariance(raw, tmin=tmin,\n",
      "c:\\Users\\Lukas\\Documents\\projects\\esinet\\evaluate\\..\\esinet\\util\\util.py:388: RuntimeWarning: An average reference projection was already added. The data has been left untouched.\n",
      "  epochs.set_eeg_reference(projection=True, verbose=verbose)#.apply_baseline(baseline=baseline)\n"
     ]
    },
    {
     "name": "stdout",
     "output_type": "stream",
     "text": [
      "<RawArray | 61 x 502 (5.0 s), ~329 kB, data loaded> 4.0 info empirical\n",
      "<RawArray | 61 x 483 (4.8 s), ~320 kB, data loaded> 4.0 info empirical\n",
      "<RawArray | 61 x 464 (4.6 s), ~311 kB, data loaded> 4.0 info empirical\n",
      "<RawArray | 61 x 529 (5.3 s), ~342 kB, data loaded> 4.0 info empirical\n",
      "<RawArray | 61 x 528 (5.3 s), ~341 kB, data loaded> 4.0 info empirical\n"
     ]
    },
    {
     "name": "stderr",
     "output_type": "stream",
     "text": [
      "c:\\Users\\Lukas\\Documents\\projects\\esinet\\evaluate\\..\\esinet\\util\\util.py:420: RuntimeWarning: Too few samples (required : 310 got : 100), covariance estimate may be unreliable\n",
      "  data_cov = mne.compute_raw_covariance(raw, tmin=tmin,\n",
      "c:\\Users\\Lukas\\Documents\\projects\\esinet\\evaluate\\..\\esinet\\util\\util.py:388: RuntimeWarning: An average reference projection was already added. The data has been left untouched.\n",
      "  epochs.set_eeg_reference(projection=True, verbose=verbose)#.apply_baseline(baseline=baseline)\n",
      "c:\\Users\\Lukas\\Documents\\projects\\esinet\\evaluate\\..\\esinet\\util\\util.py:420: RuntimeWarning: Too few samples (required : 310 got : 80), covariance estimate may be unreliable\n",
      "  data_cov = mne.compute_raw_covariance(raw, tmin=tmin,\n",
      "c:\\Users\\Lukas\\Documents\\projects\\esinet\\evaluate\\..\\esinet\\util\\util.py:388: RuntimeWarning: An average reference projection was already added. The data has been left untouched.\n",
      "  epochs.set_eeg_reference(projection=True, verbose=verbose)#.apply_baseline(baseline=baseline)\n",
      "c:\\Users\\Lukas\\Documents\\projects\\esinet\\evaluate\\..\\esinet\\util\\util.py:420: RuntimeWarning: Too few samples (required : 310 got : 60), covariance estimate may be unreliable\n",
      "  data_cov = mne.compute_raw_covariance(raw, tmin=tmin,\n",
      "c:\\Users\\Lukas\\Documents\\projects\\esinet\\evaluate\\..\\esinet\\util\\util.py:388: RuntimeWarning: An average reference projection was already added. The data has been left untouched.\n",
      "  epochs.set_eeg_reference(projection=True, verbose=verbose)#.apply_baseline(baseline=baseline)\n",
      "c:\\Users\\Lukas\\Documents\\projects\\esinet\\evaluate\\..\\esinet\\util\\util.py:420: RuntimeWarning: Too few samples (required : 310 got : 120), covariance estimate may be unreliable\n",
      "  data_cov = mne.compute_raw_covariance(raw, tmin=tmin,\n",
      "c:\\Users\\Lukas\\Documents\\projects\\esinet\\evaluate\\..\\esinet\\util\\util.py:388: RuntimeWarning: An average reference projection was already added. The data has been left untouched.\n",
      "  epochs.set_eeg_reference(projection=True, verbose=verbose)#.apply_baseline(baseline=baseline)\n",
      "c:\\Users\\Lukas\\Documents\\projects\\esinet\\evaluate\\..\\esinet\\util\\util.py:420: RuntimeWarning: Too few samples (required : 310 got : 120), covariance estimate may be unreliable\n",
      "  data_cov = mne.compute_raw_covariance(raw, tmin=tmin,\n",
      "c:\\Users\\Lukas\\Documents\\projects\\esinet\\evaluate\\..\\esinet\\util\\util.py:388: RuntimeWarning: An average reference projection was already added. The data has been left untouched.\n",
      "  epochs.set_eeg_reference(projection=True, verbose=verbose)#.apply_baseline(baseline=baseline)\n",
      "c:\\Users\\Lukas\\Documents\\projects\\esinet\\evaluate\\..\\esinet\\util\\util.py:420: RuntimeWarning: Too few samples (required : 310 got : 20), covariance estimate may be unreliable\n",
      "  data_cov = mne.compute_raw_covariance(raw, tmin=tmin,\n",
      "c:\\Users\\Lukas\\Documents\\projects\\esinet\\evaluate\\..\\esinet\\util\\util.py:388: RuntimeWarning: An average reference projection was already added. The data has been left untouched.\n",
      "  epochs.set_eeg_reference(projection=True, verbose=verbose)#.apply_baseline(baseline=baseline)\n",
      "c:\\Users\\Lukas\\Documents\\projects\\esinet\\evaluate\\..\\esinet\\util\\util.py:420: RuntimeWarning: Too few samples (required : 310 got : 60), covariance estimate may be unreliable\n",
      "  data_cov = mne.compute_raw_covariance(raw, tmin=tmin,\n",
      "c:\\Users\\Lukas\\Documents\\projects\\esinet\\evaluate\\..\\esinet\\util\\util.py:388: RuntimeWarning: An average reference projection was already added. The data has been left untouched.\n",
      "  epochs.set_eeg_reference(projection=True, verbose=verbose)#.apply_baseline(baseline=baseline)\n",
      "c:\\Users\\Lukas\\Documents\\projects\\esinet\\evaluate\\..\\esinet\\util\\util.py:420: RuntimeWarning: Too few samples (required : 310 got : 180), covariance estimate may be unreliable\n",
      "  data_cov = mne.compute_raw_covariance(raw, tmin=tmin,\n",
      "c:\\Users\\Lukas\\Documents\\projects\\esinet\\evaluate\\..\\esinet\\util\\util.py:388: RuntimeWarning: An average reference projection was already added. The data has been left untouched.\n",
      "  epochs.set_eeg_reference(projection=True, verbose=verbose)#.apply_baseline(baseline=baseline)\n"
     ]
    },
    {
     "name": "stdout",
     "output_type": "stream",
     "text": [
      "<RawArray | 61 x 437 (4.4 s), ~298 kB, data loaded> 4.0 info empirical\n",
      "<RawArray | 61 x 475 (4.7 s), ~316 kB, data loaded> 4.0 info empirical\n",
      "<RawArray | 61 x 599 (6.0 s), ~375 kB, data loaded> 4.0 info empirical\n",
      "<RawArray | 61 x 493 (4.9 s), ~325 kB, data loaded> 4.0 info empirical\n",
      "<RawArray | 61 x 582 (5.8 s), ~367 kB, data loaded> 4.0 info empirical\n"
     ]
    },
    {
     "name": "stderr",
     "output_type": "stream",
     "text": [
      "c:\\Users\\Lukas\\Documents\\projects\\esinet\\evaluate\\..\\esinet\\util\\util.py:420: RuntimeWarning: Too few samples (required : 310 got : 80), covariance estimate may be unreliable\n",
      "  data_cov = mne.compute_raw_covariance(raw, tmin=tmin,\n",
      "c:\\Users\\Lukas\\Documents\\projects\\esinet\\evaluate\\..\\esinet\\util\\util.py:388: RuntimeWarning: An average reference projection was already added. The data has been left untouched.\n",
      "  epochs.set_eeg_reference(projection=True, verbose=verbose)#.apply_baseline(baseline=baseline)\n",
      "c:\\Users\\Lukas\\Documents\\projects\\esinet\\evaluate\\..\\esinet\\util\\util.py:420: RuntimeWarning: Too few samples (required : 310 got : 180), covariance estimate may be unreliable\n",
      "  data_cov = mne.compute_raw_covariance(raw, tmin=tmin,\n",
      "c:\\Users\\Lukas\\Documents\\projects\\esinet\\evaluate\\..\\esinet\\util\\util.py:388: RuntimeWarning: An average reference projection was already added. The data has been left untouched.\n",
      "  epochs.set_eeg_reference(projection=True, verbose=verbose)#.apply_baseline(baseline=baseline)\n",
      "c:\\Users\\Lukas\\Documents\\projects\\esinet\\evaluate\\..\\esinet\\util\\util.py:420: RuntimeWarning: Too few samples (required : 310 got : 180), covariance estimate may be unreliable\n",
      "  data_cov = mne.compute_raw_covariance(raw, tmin=tmin,\n",
      "c:\\Users\\Lukas\\Documents\\projects\\esinet\\evaluate\\..\\esinet\\util\\util.py:388: RuntimeWarning: An average reference projection was already added. The data has been left untouched.\n",
      "  epochs.set_eeg_reference(projection=True, verbose=verbose)#.apply_baseline(baseline=baseline)\n",
      "c:\\Users\\Lukas\\Documents\\projects\\esinet\\evaluate\\..\\esinet\\util\\util.py:420: RuntimeWarning: Too few samples (required : 310 got : 120), covariance estimate may be unreliable\n",
      "  data_cov = mne.compute_raw_covariance(raw, tmin=tmin,\n",
      "c:\\Users\\Lukas\\Documents\\projects\\esinet\\evaluate\\..\\esinet\\util\\util.py:388: RuntimeWarning: An average reference projection was already added. The data has been left untouched.\n",
      "  epochs.set_eeg_reference(projection=True, verbose=verbose)#.apply_baseline(baseline=baseline)\n"
     ]
    },
    {
     "name": "stdout",
     "output_type": "stream",
     "text": [
      "<RawArray | 61 x 581 (5.8 s), ~367 kB, data loaded> 4.0 info empirical\n",
      "<RawArray | 61 x 535 (5.3 s), ~345 kB, data loaded> 4.0 info empirical\n",
      "<RawArray | 61 x 455 (4.5 s), ~307 kB, data loaded> 4.0 info empirical\n",
      "<RawArray | 61 x 444 (4.4 s), ~301 kB, data loaded> 4.0 info empirical\n"
     ]
    },
    {
     "name": "stderr",
     "output_type": "stream",
     "text": [
      "c:\\Users\\Lukas\\Documents\\projects\\esinet\\evaluate\\..\\esinet\\util\\util.py:420: RuntimeWarning: Too few samples (required : 310 got : 40), covariance estimate may be unreliable\n",
      "  data_cov = mne.compute_raw_covariance(raw, tmin=tmin,\n",
      "c:\\Users\\Lukas\\Documents\\projects\\esinet\\evaluate\\..\\esinet\\util\\util.py:388: RuntimeWarning: An average reference projection was already added. The data has been left untouched.\n",
      "  epochs.set_eeg_reference(projection=True, verbose=verbose)#.apply_baseline(baseline=baseline)\n",
      "c:\\Users\\Lukas\\Documents\\projects\\esinet\\evaluate\\..\\esinet\\util\\util.py:420: RuntimeWarning: Too few samples (required : 310 got : 40), covariance estimate may be unreliable\n",
      "  data_cov = mne.compute_raw_covariance(raw, tmin=tmin,\n",
      "c:\\Users\\Lukas\\Documents\\projects\\esinet\\evaluate\\..\\esinet\\util\\util.py:388: RuntimeWarning: An average reference projection was already added. The data has been left untouched.\n",
      "  epochs.set_eeg_reference(projection=True, verbose=verbose)#.apply_baseline(baseline=baseline)\n",
      "c:\\Users\\Lukas\\Documents\\projects\\esinet\\evaluate\\..\\esinet\\util\\util.py:420: RuntimeWarning: Too few samples (required : 310 got : 140), covariance estimate may be unreliable\n",
      "  data_cov = mne.compute_raw_covariance(raw, tmin=tmin,\n",
      "c:\\Users\\Lukas\\Documents\\projects\\esinet\\evaluate\\..\\esinet\\util\\util.py:388: RuntimeWarning: An average reference projection was already added. The data has been left untouched.\n",
      "  epochs.set_eeg_reference(projection=True, verbose=verbose)#.apply_baseline(baseline=baseline)\n",
      "c:\\Users\\Lukas\\Documents\\projects\\esinet\\evaluate\\..\\esinet\\util\\util.py:420: RuntimeWarning: Too few samples (required : 310 got : 40), covariance estimate may be unreliable\n",
      "  data_cov = mne.compute_raw_covariance(raw, tmin=tmin,\n",
      "c:\\Users\\Lukas\\Documents\\projects\\esinet\\evaluate\\..\\esinet\\util\\util.py:388: RuntimeWarning: An average reference projection was already added. The data has been left untouched.\n",
      "  epochs.set_eeg_reference(projection=True, verbose=verbose)#.apply_baseline(baseline=baseline)\n"
     ]
    },
    {
     "name": "stdout",
     "output_type": "stream",
     "text": [
      "<RawArray | 61 x 546 (5.5 s), ~350 kB, data loaded> 4.0 info empirical\n",
      "<RawArray | 61 x 453 (4.5 s), ~306 kB, data loaded> 4.0 info empirical\n",
      "<RawArray | 61 x 480 (4.8 s), ~319 kB, data loaded> 4.0 info empirical\n",
      "<RawArray | 61 x 473 (4.7 s), ~315 kB, data loaded> 4.0 info empirical\n",
      "<RawArray | 61 x 441 (4.4 s), ~300 kB, data loaded> 4.0 info empirical\n"
     ]
    },
    {
     "name": "stderr",
     "output_type": "stream",
     "text": [
      "c:\\Users\\Lukas\\Documents\\projects\\esinet\\evaluate\\..\\esinet\\util\\util.py:420: RuntimeWarning: Too few samples (required : 310 got : 80), covariance estimate may be unreliable\n",
      "  data_cov = mne.compute_raw_covariance(raw, tmin=tmin,\n",
      "c:\\Users\\Lukas\\Documents\\projects\\esinet\\evaluate\\..\\esinet\\util\\util.py:388: RuntimeWarning: An average reference projection was already added. The data has been left untouched.\n",
      "  epochs.set_eeg_reference(projection=True, verbose=verbose)#.apply_baseline(baseline=baseline)\n",
      "c:\\Users\\Lukas\\Documents\\projects\\esinet\\evaluate\\..\\esinet\\util\\util.py:420: RuntimeWarning: Too few samples (required : 310 got : 60), covariance estimate may be unreliable\n",
      "  data_cov = mne.compute_raw_covariance(raw, tmin=tmin,\n",
      "c:\\Users\\Lukas\\Documents\\projects\\esinet\\evaluate\\..\\esinet\\util\\util.py:388: RuntimeWarning: An average reference projection was already added. The data has been left untouched.\n",
      "  epochs.set_eeg_reference(projection=True, verbose=verbose)#.apply_baseline(baseline=baseline)\n",
      "c:\\Users\\Lukas\\Documents\\projects\\esinet\\evaluate\\..\\esinet\\util\\util.py:420: RuntimeWarning: Too few samples (required : 310 got : 40), covariance estimate may be unreliable\n",
      "  data_cov = mne.compute_raw_covariance(raw, tmin=tmin,\n",
      "c:\\Users\\Lukas\\Documents\\projects\\esinet\\evaluate\\..\\esinet\\util\\util.py:388: RuntimeWarning: An average reference projection was already added. The data has been left untouched.\n",
      "  epochs.set_eeg_reference(projection=True, verbose=verbose)#.apply_baseline(baseline=baseline)\n",
      "c:\\Users\\Lukas\\Documents\\projects\\esinet\\evaluate\\..\\esinet\\util\\util.py:420: RuntimeWarning: Too few samples (required : 310 got : 160), covariance estimate may be unreliable\n",
      "  data_cov = mne.compute_raw_covariance(raw, tmin=tmin,\n",
      "c:\\Users\\Lukas\\Documents\\projects\\esinet\\evaluate\\..\\esinet\\util\\util.py:388: RuntimeWarning: An average reference projection was already added. The data has been left untouched.\n",
      "  epochs.set_eeg_reference(projection=True, verbose=verbose)#.apply_baseline(baseline=baseline)\n"
     ]
    },
    {
     "name": "stdout",
     "output_type": "stream",
     "text": [
      "<RawArray | 61 x 569 (5.7 s), ~361 kB, data loaded> 4.0 info empirical\n",
      "<RawArray | 61 x 574 (5.7 s), ~363 kB, data loaded> 4.0 info empirical\n",
      "<RawArray | 61 x 592 (5.9 s), ~372 kB, data loaded> 4.0 info empirical\n",
      "<RawArray | 61 x 534 (5.3 s), ~344 kB, data loaded> 4.0 info empirical\n"
     ]
    },
    {
     "name": "stderr",
     "output_type": "stream",
     "text": [
      "c:\\Users\\Lukas\\Documents\\projects\\esinet\\evaluate\\..\\esinet\\util\\util.py:420: RuntimeWarning: Too few samples (required : 310 got : 160), covariance estimate may be unreliable\n",
      "  data_cov = mne.compute_raw_covariance(raw, tmin=tmin,\n",
      "c:\\Users\\Lukas\\Documents\\projects\\esinet\\evaluate\\..\\esinet\\util\\util.py:388: RuntimeWarning: An average reference projection was already added. The data has been left untouched.\n",
      "  epochs.set_eeg_reference(projection=True, verbose=verbose)#.apply_baseline(baseline=baseline)\n",
      "c:\\Users\\Lukas\\Documents\\projects\\esinet\\evaluate\\..\\esinet\\util\\util.py:420: RuntimeWarning: Too few samples (required : 310 got : 180), covariance estimate may be unreliable\n",
      "  data_cov = mne.compute_raw_covariance(raw, tmin=tmin,\n",
      "c:\\Users\\Lukas\\Documents\\projects\\esinet\\evaluate\\..\\esinet\\util\\util.py:388: RuntimeWarning: An average reference projection was already added. The data has been left untouched.\n",
      "  epochs.set_eeg_reference(projection=True, verbose=verbose)#.apply_baseline(baseline=baseline)\n",
      "c:\\Users\\Lukas\\Documents\\projects\\esinet\\evaluate\\..\\esinet\\util\\util.py:420: RuntimeWarning: Too few samples (required : 310 got : 120), covariance estimate may be unreliable\n",
      "  data_cov = mne.compute_raw_covariance(raw, tmin=tmin,\n",
      "c:\\Users\\Lukas\\Documents\\projects\\esinet\\evaluate\\..\\esinet\\util\\util.py:388: RuntimeWarning: An average reference projection was already added. The data has been left untouched.\n",
      "  epochs.set_eeg_reference(projection=True, verbose=verbose)#.apply_baseline(baseline=baseline)\n",
      "c:\\Users\\Lukas\\Documents\\projects\\esinet\\evaluate\\..\\esinet\\util\\util.py:420: RuntimeWarning: Too few samples (required : 310 got : 60), covariance estimate may be unreliable\n",
      "  data_cov = mne.compute_raw_covariance(raw, tmin=tmin,\n",
      "c:\\Users\\Lukas\\Documents\\projects\\esinet\\evaluate\\..\\esinet\\util\\util.py:388: RuntimeWarning: An average reference projection was already added. The data has been left untouched.\n",
      "  epochs.set_eeg_reference(projection=True, verbose=verbose)#.apply_baseline(baseline=baseline)\n"
     ]
    },
    {
     "name": "stdout",
     "output_type": "stream",
     "text": [
      "<RawArray | 61 x 467 (4.7 s), ~312 kB, data loaded> 4.0 info empirical\n",
      "<RawArray | 61 x 489 (4.9 s), ~323 kB, data loaded> 4.0 info empirical\n",
      "<RawArray | 61 x 552 (5.5 s), ~353 kB, data loaded> 4.0 info empirical\n",
      "<RawArray | 61 x 446 (4.5 s), ~302 kB, data loaded> 4.0 info empirical\n",
      "<RawArray | 61 x 509 (5.1 s), ~332 kB, data loaded>"
     ]
    },
    {
     "name": "stderr",
     "output_type": "stream",
     "text": [
      "c:\\Users\\Lukas\\Documents\\projects\\esinet\\evaluate\\..\\esinet\\util\\util.py:420: RuntimeWarning: Too few samples (required : 310 got : 80), covariance estimate may be unreliable\n",
      "  data_cov = mne.compute_raw_covariance(raw, tmin=tmin,\n",
      "c:\\Users\\Lukas\\Documents\\projects\\esinet\\evaluate\\..\\esinet\\util\\util.py:388: RuntimeWarning: An average reference projection was already added. The data has been left untouched.\n",
      "  epochs.set_eeg_reference(projection=True, verbose=verbose)#.apply_baseline(baseline=baseline)\n",
      "c:\\Users\\Lukas\\Documents\\projects\\esinet\\evaluate\\..\\esinet\\util\\util.py:420: RuntimeWarning: Too few samples (required : 310 got : 140), covariance estimate may be unreliable\n",
      "  data_cov = mne.compute_raw_covariance(raw, tmin=tmin,\n",
      "c:\\Users\\Lukas\\Documents\\projects\\esinet\\evaluate\\..\\esinet\\util\\util.py:388: RuntimeWarning: An average reference projection was already added. The data has been left untouched.\n",
      "  epochs.set_eeg_reference(projection=True, verbose=verbose)#.apply_baseline(baseline=baseline)\n",
      "c:\\Users\\Lukas\\Documents\\projects\\esinet\\evaluate\\..\\esinet\\util\\util.py:420: RuntimeWarning: Too few samples (required : 310 got : 40), covariance estimate may be unreliable\n",
      "  data_cov = mne.compute_raw_covariance(raw, tmin=tmin,\n",
      "c:\\Users\\Lukas\\Documents\\projects\\esinet\\evaluate\\..\\esinet\\util\\util.py:388: RuntimeWarning: An average reference projection was already added. The data has been left untouched.\n",
      "  epochs.set_eeg_reference(projection=True, verbose=verbose)#.apply_baseline(baseline=baseline)\n",
      "c:\\Users\\Lukas\\Documents\\projects\\esinet\\evaluate\\..\\esinet\\util\\util.py:420: RuntimeWarning: Too few samples (required : 310 got : 100), covariance estimate may be unreliable\n",
      "  data_cov = mne.compute_raw_covariance(raw, tmin=tmin,\n",
      "c:\\Users\\Lukas\\Documents\\projects\\esinet\\evaluate\\..\\esinet\\util\\util.py:388: RuntimeWarning: An average reference projection was already added. The data has been left untouched.\n",
      "  epochs.set_eeg_reference(projection=True, verbose=verbose)#.apply_baseline(baseline=baseline)\n"
     ]
    },
    {
     "name": "stdout",
     "output_type": "stream",
     "text": [
      " 4.0 info empirical\n",
      "<RawArray | 61 x 515 (5.1 s), ~335 kB, data loaded> 4.0 info empirical\n",
      "<RawArray | 61 x 553 (5.5 s), ~353 kB, data loaded> 4.0 info empirical\n",
      "<RawArray | 61 x 582 (5.8 s), ~367 kB, data loaded> 4.0 info empirical\n",
      "<RawArray | 61 x 463 (4.6 s), ~310 kB, data loaded> 4.0 info empirical\n"
     ]
    },
    {
     "name": "stderr",
     "output_type": "stream",
     "text": [
      "c:\\Users\\Lukas\\Documents\\projects\\esinet\\evaluate\\..\\esinet\\util\\util.py:420: RuntimeWarning: Too few samples (required : 310 got : 100), covariance estimate may be unreliable\n",
      "  data_cov = mne.compute_raw_covariance(raw, tmin=tmin,\n",
      "c:\\Users\\Lukas\\Documents\\projects\\esinet\\evaluate\\..\\esinet\\util\\util.py:388: RuntimeWarning: An average reference projection was already added. The data has been left untouched.\n",
      "  epochs.set_eeg_reference(projection=True, verbose=verbose)#.apply_baseline(baseline=baseline)\n",
      "c:\\Users\\Lukas\\Documents\\projects\\esinet\\evaluate\\..\\esinet\\util\\util.py:420: RuntimeWarning: Too few samples (required : 310 got : 140), covariance estimate may be unreliable\n",
      "  data_cov = mne.compute_raw_covariance(raw, tmin=tmin,\n",
      "c:\\Users\\Lukas\\Documents\\projects\\esinet\\evaluate\\..\\esinet\\util\\util.py:388: RuntimeWarning: An average reference projection was already added. The data has been left untouched.\n",
      "  epochs.set_eeg_reference(projection=True, verbose=verbose)#.apply_baseline(baseline=baseline)\n",
      "c:\\Users\\Lukas\\Documents\\projects\\esinet\\evaluate\\..\\esinet\\util\\util.py:420: RuntimeWarning: Too few samples (required : 310 got : 180), covariance estimate may be unreliable\n",
      "  data_cov = mne.compute_raw_covariance(raw, tmin=tmin,\n",
      "c:\\Users\\Lukas\\Documents\\projects\\esinet\\evaluate\\..\\esinet\\util\\util.py:388: RuntimeWarning: An average reference projection was already added. The data has been left untouched.\n",
      "  epochs.set_eeg_reference(projection=True, verbose=verbose)#.apply_baseline(baseline=baseline)\n",
      "c:\\Users\\Lukas\\Documents\\projects\\esinet\\evaluate\\..\\esinet\\util\\util.py:420: RuntimeWarning: Too few samples (required : 310 got : 60), covariance estimate may be unreliable\n",
      "  data_cov = mne.compute_raw_covariance(raw, tmin=tmin,\n"
     ]
    },
    {
     "name": "stdout",
     "output_type": "stream",
     "text": [
      "<RawArray | 61 x 480 (4.8 s), ~319 kB, data loaded> 4.0 info empirical\n",
      "<RawArray | 61 x 525 (5.2 s), ~340 kB, data loaded> 4.0 info empirical\n",
      "<RawArray | 61 x 401 (4.0 s), ~281 kB, data loaded> 4.0 info empirical\n",
      "lcmv didnt work, returning zeros\n",
      "<RawArray | 61 x 511 (5.1 s), ~333 kB, data loaded> 4.0 info empirical\n",
      "<RawArray | 61 x 431 (4.3 s), ~295 kB, data loaded> 4.0 info empirical\n"
     ]
    },
    {
     "name": "stderr",
     "output_type": "stream",
     "text": [
      "c:\\Users\\Lukas\\Documents\\projects\\esinet\\evaluate\\..\\esinet\\util\\util.py:388: RuntimeWarning: An average reference projection was already added. The data has been left untouched.\n",
      "  epochs.set_eeg_reference(projection=True, verbose=verbose)#.apply_baseline(baseline=baseline)\n",
      "c:\\Users\\Lukas\\Documents\\projects\\esinet\\evaluate\\..\\esinet\\util\\util.py:420: RuntimeWarning: Too few samples (required : 310 got : 80), covariance estimate may be unreliable\n",
      "  data_cov = mne.compute_raw_covariance(raw, tmin=tmin,\n",
      "c:\\Users\\Lukas\\Documents\\projects\\esinet\\evaluate\\..\\esinet\\util\\util.py:388: RuntimeWarning: An average reference projection was already added. The data has been left untouched.\n",
      "  epochs.set_eeg_reference(projection=True, verbose=verbose)#.apply_baseline(baseline=baseline)\n",
      "c:\\Users\\Lukas\\Documents\\projects\\esinet\\evaluate\\..\\esinet\\util\\util.py:420: RuntimeWarning: Too few samples (required : 310 got : 120), covariance estimate may be unreliable\n",
      "  data_cov = mne.compute_raw_covariance(raw, tmin=tmin,\n",
      "c:\\Users\\Lukas\\Documents\\projects\\esinet\\evaluate\\..\\esinet\\util\\util.py:388: RuntimeWarning: An average reference projection was already added. The data has been left untouched.\n",
      "  epochs.set_eeg_reference(projection=True, verbose=verbose)#.apply_baseline(baseline=baseline)\n",
      "c:\\Users\\Lukas\\Documents\\projects\\esinet\\evaluate\\..\\esinet\\util\\util.py:423: RuntimeWarning: Epochs are not baseline corrected, covariance matrix may be inaccurate\n",
      "  data_cov = mne.compute_covariance(epochs, tmin=0.0,\n",
      "c:\\Users\\Lukas\\Documents\\projects\\esinet\\evaluate\\..\\esinet\\util\\util.py:423: RuntimeWarning: Too few samples (required : 310 got : 1), covariance estimate may be unreliable\n",
      "  data_cov = mne.compute_covariance(epochs, tmin=0.0,\n",
      "C:\\Users\\Lukas\\Envs\\esienv\\lib\\site-packages\\mne\\fixes.py:550: UserWarning: Only one sample available. You may want to reshape your data array\n",
      "  warnings.warn(\"Only one sample available. \"\n",
      "c:\\Users\\Lukas\\Documents\\projects\\esinet\\evaluate\\..\\esinet\\util\\util.py:388: RuntimeWarning: An average reference projection was already added. The data has been left untouched.\n",
      "  epochs.set_eeg_reference(projection=True, verbose=verbose)#.apply_baseline(baseline=baseline)\n",
      "c:\\Users\\Lukas\\Documents\\projects\\esinet\\evaluate\\..\\esinet\\util\\util.py:420: RuntimeWarning: Too few samples (required : 310 got : 100), covariance estimate may be unreliable\n",
      "  data_cov = mne.compute_raw_covariance(raw, tmin=tmin,\n",
      "c:\\Users\\Lukas\\Documents\\projects\\esinet\\evaluate\\..\\esinet\\util\\util.py:388: RuntimeWarning: An average reference projection was already added. The data has been left untouched.\n",
      "  epochs.set_eeg_reference(projection=True, verbose=verbose)#.apply_baseline(baseline=baseline)\n",
      "c:\\Users\\Lukas\\Documents\\projects\\esinet\\evaluate\\..\\esinet\\util\\util.py:420: RuntimeWarning: Too few samples (required : 310 got : 20), covariance estimate may be unreliable\n",
      "  data_cov = mne.compute_raw_covariance(raw, tmin=tmin,\n",
      "c:\\Users\\Lukas\\Documents\\projects\\esinet\\evaluate\\..\\esinet\\util\\util.py:388: RuntimeWarning: An average reference projection was already added. The data has been left untouched.\n",
      "  epochs.set_eeg_reference(projection=True, verbose=verbose)#.apply_baseline(baseline=baseline)\n",
      "c:\\Users\\Lukas\\Documents\\projects\\esinet\\evaluate\\..\\esinet\\util\\util.py:420: RuntimeWarning: Too few samples (required : 310 got : 140), covariance estimate may be unreliable\n",
      "  data_cov = mne.compute_raw_covariance(raw, tmin=tmin,\n",
      "c:\\Users\\Lukas\\Documents\\projects\\esinet\\evaluate\\..\\esinet\\util\\util.py:388: RuntimeWarning: An average reference projection was already added. The data has been left untouched.\n",
      "  epochs.set_eeg_reference(projection=True, verbose=verbose)#.apply_baseline(baseline=baseline)\n",
      "c:\\Users\\Lukas\\Documents\\projects\\esinet\\evaluate\\..\\esinet\\util\\util.py:423: RuntimeWarning: Epochs are not baseline corrected, covariance matrix may be inaccurate\n",
      "  data_cov = mne.compute_covariance(epochs, tmin=0.0,\n",
      "c:\\Users\\Lukas\\Documents\\projects\\esinet\\evaluate\\..\\esinet\\util\\util.py:423: RuntimeWarning: Too few samples (required : 310 got : 17), covariance estimate may be unreliable\n",
      "  data_cov = mne.compute_covariance(epochs, tmin=0.0,\n",
      "c:\\Users\\Lukas\\Documents\\projects\\esinet\\evaluate\\..\\esinet\\util\\util.py:388: RuntimeWarning: An average reference projection was already added. The data has been left untouched.\n",
      "  epochs.set_eeg_reference(projection=True, verbose=verbose)#.apply_baseline(baseline=baseline)\n",
      "c:\\Users\\Lukas\\Documents\\projects\\esinet\\evaluate\\..\\esinet\\util\\util.py:420: RuntimeWarning: Too few samples (required : 310 got : 140), covariance estimate may be unreliable\n",
      "  data_cov = mne.compute_raw_covariance(raw, tmin=tmin,\n",
      "c:\\Users\\Lukas\\Documents\\projects\\esinet\\evaluate\\..\\esinet\\util\\util.py:388: RuntimeWarning: An average reference projection was already added. The data has been left untouched.\n",
      "  epochs.set_eeg_reference(projection=True, verbose=verbose)#.apply_baseline(baseline=baseline)\n"
     ]
    },
    {
     "name": "stdout",
     "output_type": "stream",
     "text": [
      "<RawArray | 61 x 554 (5.5 s), ~354 kB, data loaded> 4.0 info empirical\n",
      "<RawArray | 61 x 417 (4.2 s), ~289 kB, data loaded> 4.0 info empirical\n",
      "<RawArray | 61 x 558 (5.6 s), ~356 kB, data loaded> 4.0 info empirical\n",
      "<RawArray | 61 x 590 (5.9 s), ~371 kB, data loaded> 4.0 info empirical\n"
     ]
    },
    {
     "name": "stderr",
     "output_type": "stream",
     "text": [
      "c:\\Users\\Lukas\\Documents\\projects\\esinet\\evaluate\\..\\esinet\\util\\util.py:420: RuntimeWarning: Too few samples (required : 310 got : 180), covariance estimate may be unreliable\n",
      "  data_cov = mne.compute_raw_covariance(raw, tmin=tmin,\n",
      "c:\\Users\\Lukas\\Documents\\projects\\esinet\\evaluate\\..\\esinet\\util\\util.py:388: RuntimeWarning: An average reference projection was already added. The data has been left untouched.\n",
      "  epochs.set_eeg_reference(projection=True, verbose=verbose)#.apply_baseline(baseline=baseline)\n",
      "c:\\Users\\Lukas\\Documents\\projects\\esinet\\evaluate\\..\\esinet\\util\\util.py:420: RuntimeWarning: Too few samples (required : 310 got : 100), covariance estimate may be unreliable\n",
      "  data_cov = mne.compute_raw_covariance(raw, tmin=tmin,\n",
      "c:\\Users\\Lukas\\Documents\\projects\\esinet\\evaluate\\..\\esinet\\util\\util.py:388: RuntimeWarning: An average reference projection was already added. The data has been left untouched.\n",
      "  epochs.set_eeg_reference(projection=True, verbose=verbose)#.apply_baseline(baseline=baseline)\n",
      "c:\\Users\\Lukas\\Documents\\projects\\esinet\\evaluate\\..\\esinet\\util\\util.py:420: RuntimeWarning: Too few samples (required : 310 got : 100), covariance estimate may be unreliable\n",
      "  data_cov = mne.compute_raw_covariance(raw, tmin=tmin,\n",
      "c:\\Users\\Lukas\\Documents\\projects\\esinet\\evaluate\\..\\esinet\\util\\util.py:388: RuntimeWarning: An average reference projection was already added. The data has been left untouched.\n",
      "  epochs.set_eeg_reference(projection=True, verbose=verbose)#.apply_baseline(baseline=baseline)\n",
      "c:\\Users\\Lukas\\Documents\\projects\\esinet\\evaluate\\..\\esinet\\util\\util.py:420: RuntimeWarning: Too few samples (required : 310 got : 60), covariance estimate may be unreliable\n",
      "  data_cov = mne.compute_raw_covariance(raw, tmin=tmin,\n",
      "c:\\Users\\Lukas\\Documents\\projects\\esinet\\evaluate\\..\\esinet\\util\\util.py:388: RuntimeWarning: An average reference projection was already added. The data has been left untouched.\n",
      "  epochs.set_eeg_reference(projection=True, verbose=verbose)#.apply_baseline(baseline=baseline)\n"
     ]
    },
    {
     "name": "stdout",
     "output_type": "stream",
     "text": [
      "<RawArray | 61 x 513 (5.1 s), ~334 kB, data loaded> 4.0 info empirical\n",
      "<RawArray | 61 x 500 (5.0 s), ~328 kB, data loaded> 4.0 info empirical\n",
      "<RawArray | 61 x 473 (4.7 s), ~315 kB, data loaded> 4.0 info empirical\n",
      "<RawArray | 61 x 530 (5.3 s), ~342 kB, data loaded> 4.0 info empirical\n",
      "<RawArray | 61 x 572 (5.7 s), ~362 kB, data loaded> 4.0 info empirical\n"
     ]
    },
    {
     "name": "stderr",
     "output_type": "stream",
     "text": [
      "c:\\Users\\Lukas\\Documents\\projects\\esinet\\evaluate\\..\\esinet\\util\\util.py:420: RuntimeWarning: Too few samples (required : 310 got : 120), covariance estimate may be unreliable\n",
      "  data_cov = mne.compute_raw_covariance(raw, tmin=tmin,\n",
      "c:\\Users\\Lukas\\Documents\\projects\\esinet\\evaluate\\..\\esinet\\util\\util.py:388: RuntimeWarning: An average reference projection was already added. The data has been left untouched.\n",
      "  epochs.set_eeg_reference(projection=True, verbose=verbose)#.apply_baseline(baseline=baseline)\n",
      "c:\\Users\\Lukas\\Documents\\projects\\esinet\\evaluate\\..\\esinet\\util\\util.py:420: RuntimeWarning: Too few samples (required : 310 got : 160), covariance estimate may be unreliable\n",
      "  data_cov = mne.compute_raw_covariance(raw, tmin=tmin,\n",
      "c:\\Users\\Lukas\\Documents\\projects\\esinet\\evaluate\\..\\esinet\\util\\util.py:388: RuntimeWarning: An average reference projection was already added. The data has been left untouched.\n",
      "  epochs.set_eeg_reference(projection=True, verbose=verbose)#.apply_baseline(baseline=baseline)\n",
      "c:\\Users\\Lukas\\Documents\\projects\\esinet\\evaluate\\..\\esinet\\util\\util.py:420: RuntimeWarning: Too few samples (required : 310 got : 180), covariance estimate may be unreliable\n",
      "  data_cov = mne.compute_raw_covariance(raw, tmin=tmin,\n",
      "c:\\Users\\Lukas\\Documents\\projects\\esinet\\evaluate\\..\\esinet\\util\\util.py:388: RuntimeWarning: An average reference projection was already added. The data has been left untouched.\n",
      "  epochs.set_eeg_reference(projection=True, verbose=verbose)#.apply_baseline(baseline=baseline)\n",
      "c:\\Users\\Lukas\\Documents\\projects\\esinet\\evaluate\\..\\esinet\\util\\util.py:420: RuntimeWarning: Too few samples (required : 310 got : 100), covariance estimate may be unreliable\n",
      "  data_cov = mne.compute_raw_covariance(raw, tmin=tmin,\n",
      "c:\\Users\\Lukas\\Documents\\projects\\esinet\\evaluate\\..\\esinet\\util\\util.py:388: RuntimeWarning: An average reference projection was already added. The data has been left untouched.\n",
      "  epochs.set_eeg_reference(projection=True, verbose=verbose)#.apply_baseline(baseline=baseline)\n"
     ]
    },
    {
     "name": "stdout",
     "output_type": "stream",
     "text": [
      "<RawArray | 61 x 594 (5.9 s), ~373 kB, data loaded> 4.0 info empirical\n",
      "<RawArray | 61 x 500 (5.0 s), ~328 kB, data loaded> 4.0 info empirical\n",
      "<RawArray | 61 x 500 (5.0 s), ~328 kB, data loaded> 4.0 info empirical\n",
      "<RawArray | 61 x 409 (4.1 s), ~285 kB, data loaded> 4.0 info empirical\n"
     ]
    },
    {
     "name": "stderr",
     "output_type": "stream",
     "text": [
      "c:\\Users\\Lukas\\Documents\\projects\\esinet\\evaluate\\..\\esinet\\util\\util.py:420: RuntimeWarning: Too few samples (required : 310 got : 100), covariance estimate may be unreliable\n",
      "  data_cov = mne.compute_raw_covariance(raw, tmin=tmin,\n",
      "c:\\Users\\Lukas\\Documents\\projects\\esinet\\evaluate\\..\\esinet\\util\\util.py:388: RuntimeWarning: An average reference projection was already added. The data has been left untouched.\n",
      "  epochs.set_eeg_reference(projection=True, verbose=verbose)#.apply_baseline(baseline=baseline)\n",
      "c:\\Users\\Lukas\\Documents\\projects\\esinet\\evaluate\\..\\esinet\\util\\util.py:423: RuntimeWarning: Epochs are not baseline corrected, covariance matrix may be inaccurate\n",
      "  data_cov = mne.compute_covariance(epochs, tmin=0.0,\n",
      "c:\\Users\\Lukas\\Documents\\projects\\esinet\\evaluate\\..\\esinet\\util\\util.py:423: RuntimeWarning: Too few samples (required : 310 got : 9), covariance estimate may be unreliable\n",
      "  data_cov = mne.compute_covariance(epochs, tmin=0.0,\n",
      "c:\\Users\\Lukas\\Documents\\projects\\esinet\\evaluate\\..\\esinet\\util\\util.py:388: RuntimeWarning: An average reference projection was already added. The data has been left untouched.\n",
      "  epochs.set_eeg_reference(projection=True, verbose=verbose)#.apply_baseline(baseline=baseline)\n",
      "c:\\Users\\Lukas\\Documents\\projects\\esinet\\evaluate\\..\\esinet\\util\\util.py:420: RuntimeWarning: Too few samples (required : 310 got : 100), covariance estimate may be unreliable\n",
      "  data_cov = mne.compute_raw_covariance(raw, tmin=tmin,\n",
      "c:\\Users\\Lukas\\Documents\\projects\\esinet\\evaluate\\..\\esinet\\util\\util.py:388: RuntimeWarning: An average reference projection was already added. The data has been left untouched.\n",
      "  epochs.set_eeg_reference(projection=True, verbose=verbose)#.apply_baseline(baseline=baseline)\n",
      "c:\\Users\\Lukas\\Documents\\projects\\esinet\\evaluate\\..\\esinet\\util\\util.py:420: RuntimeWarning: Too few samples (required : 310 got : 80), covariance estimate may be unreliable\n",
      "  data_cov = mne.compute_raw_covariance(raw, tmin=tmin,\n",
      "c:\\Users\\Lukas\\Documents\\projects\\esinet\\evaluate\\..\\esinet\\util\\util.py:388: RuntimeWarning: An average reference projection was already added. The data has been left untouched.\n",
      "  epochs.set_eeg_reference(projection=True, verbose=verbose)#.apply_baseline(baseline=baseline)\n"
     ]
    },
    {
     "name": "stdout",
     "output_type": "stream",
     "text": [
      "<RawArray | 61 x 505 (5.0 s), ~330 kB, data loaded> 4.0 info empirical\n",
      "<RawArray | 61 x 483 (4.8 s), ~320 kB, data loaded> 4.0 info empirical\n",
      "<RawArray | 61 x 582 (5.8 s), ~367 kB, data loaded> 4.0 info empirical\n",
      "<RawArray | 61 x 499 (5.0 s), ~328 kB, data loaded> 4.0 info empirical\n"
     ]
    },
    {
     "name": "stderr",
     "output_type": "stream",
     "text": [
      "c:\\Users\\Lukas\\Documents\\projects\\esinet\\evaluate\\..\\esinet\\util\\util.py:420: RuntimeWarning: Too few samples (required : 310 got : 180), covariance estimate may be unreliable\n",
      "  data_cov = mne.compute_raw_covariance(raw, tmin=tmin,\n",
      "c:\\Users\\Lukas\\Documents\\projects\\esinet\\evaluate\\..\\esinet\\util\\util.py:388: RuntimeWarning: An average reference projection was already added. The data has been left untouched.\n",
      "  epochs.set_eeg_reference(projection=True, verbose=verbose)#.apply_baseline(baseline=baseline)\n",
      "c:\\Users\\Lukas\\Documents\\projects\\esinet\\evaluate\\..\\esinet\\util\\util.py:420: RuntimeWarning: Too few samples (required : 310 got : 80), covariance estimate may be unreliable\n",
      "  data_cov = mne.compute_raw_covariance(raw, tmin=tmin,\n",
      "c:\\Users\\Lukas\\Documents\\projects\\esinet\\evaluate\\..\\esinet\\util\\util.py:388: RuntimeWarning: An average reference projection was already added. The data has been left untouched.\n",
      "  epochs.set_eeg_reference(projection=True, verbose=verbose)#.apply_baseline(baseline=baseline)\n",
      "c:\\Users\\Lukas\\Documents\\projects\\esinet\\evaluate\\..\\esinet\\util\\util.py:420: RuntimeWarning: Too few samples (required : 310 got : 120), covariance estimate may be unreliable\n",
      "  data_cov = mne.compute_raw_covariance(raw, tmin=tmin,\n",
      "c:\\Users\\Lukas\\Documents\\projects\\esinet\\evaluate\\..\\esinet\\util\\util.py:388: RuntimeWarning: An average reference projection was already added. The data has been left untouched.\n",
      "  epochs.set_eeg_reference(projection=True, verbose=verbose)#.apply_baseline(baseline=baseline)\n",
      "c:\\Users\\Lukas\\Documents\\projects\\esinet\\evaluate\\..\\esinet\\util\\util.py:420: RuntimeWarning: Too few samples (required : 310 got : 80), covariance estimate may be unreliable\n",
      "  data_cov = mne.compute_raw_covariance(raw, tmin=tmin,\n"
     ]
    },
    {
     "name": "stdout",
     "output_type": "stream",
     "text": [
      "<RawArray | 61 x 531 (5.3 s), ~343 kB, data loaded> 4.0 info empirical\n",
      "<RawArray | 61 x 481 (4.8 s), ~319 kB, data loaded> 4.0 info empirical\n",
      "<RawArray | 61 x 527 (5.3 s), ~341 kB, data loaded> 4.0 info empirical\n",
      "<RawArray | 61 x 576 (5.8 s), ~364 kB, data loaded> 4.0 info empirical\n",
      "<RawArray | 61 x 467 (4.7 s), ~312 kB, data loaded> 4.0 info empirical\n"
     ]
    },
    {
     "name": "stderr",
     "output_type": "stream",
     "text": [
      "c:\\Users\\Lukas\\Documents\\projects\\esinet\\evaluate\\..\\esinet\\util\\util.py:388: RuntimeWarning: An average reference projection was already added. The data has been left untouched.\n",
      "  epochs.set_eeg_reference(projection=True, verbose=verbose)#.apply_baseline(baseline=baseline)\n",
      "c:\\Users\\Lukas\\Documents\\projects\\esinet\\evaluate\\..\\esinet\\util\\util.py:420: RuntimeWarning: Too few samples (required : 310 got : 120), covariance estimate may be unreliable\n",
      "  data_cov = mne.compute_raw_covariance(raw, tmin=tmin,\n",
      "c:\\Users\\Lukas\\Documents\\projects\\esinet\\evaluate\\..\\esinet\\util\\util.py:388: RuntimeWarning: An average reference projection was already added. The data has been left untouched.\n",
      "  epochs.set_eeg_reference(projection=True, verbose=verbose)#.apply_baseline(baseline=baseline)\n",
      "c:\\Users\\Lukas\\Documents\\projects\\esinet\\evaluate\\..\\esinet\\util\\util.py:420: RuntimeWarning: Too few samples (required : 310 got : 160), covariance estimate may be unreliable\n",
      "  data_cov = mne.compute_raw_covariance(raw, tmin=tmin,\n",
      "c:\\Users\\Lukas\\Documents\\projects\\esinet\\evaluate\\..\\esinet\\util\\util.py:388: RuntimeWarning: An average reference projection was already added. The data has been left untouched.\n",
      "  epochs.set_eeg_reference(projection=True, verbose=verbose)#.apply_baseline(baseline=baseline)\n",
      "c:\\Users\\Lukas\\Documents\\projects\\esinet\\evaluate\\..\\esinet\\util\\util.py:420: RuntimeWarning: Too few samples (required : 310 got : 60), covariance estimate may be unreliable\n",
      "  data_cov = mne.compute_raw_covariance(raw, tmin=tmin,\n",
      "c:\\Users\\Lukas\\Documents\\projects\\esinet\\evaluate\\..\\esinet\\util\\util.py:388: RuntimeWarning: An average reference projection was already added. The data has been left untouched.\n",
      "  epochs.set_eeg_reference(projection=True, verbose=verbose)#.apply_baseline(baseline=baseline)\n",
      "c:\\Users\\Lukas\\Documents\\projects\\esinet\\evaluate\\..\\esinet\\util\\util.py:420: RuntimeWarning: Too few samples (required : 310 got : 100), covariance estimate may be unreliable\n",
      "  data_cov = mne.compute_raw_covariance(raw, tmin=tmin,\n",
      "c:\\Users\\Lukas\\Documents\\projects\\esinet\\evaluate\\..\\esinet\\util\\util.py:388: RuntimeWarning: An average reference projection was already added. The data has been left untouched.\n",
      "  epochs.set_eeg_reference(projection=True, verbose=verbose)#.apply_baseline(baseline=baseline)\n"
     ]
    },
    {
     "name": "stdout",
     "output_type": "stream",
     "text": [
      "<RawArray | 61 x 502 (5.0 s), ~329 kB, data loaded> 4.0 info empirical\n",
      "<RawArray | 61 x 436 (4.3 s), ~298 kB, data loaded> 4.0 info empirical\n",
      "<RawArray | 61 x 532 (5.3 s), ~343 kB, data loaded> 4.0 info empirical\n",
      "<RawArray | 61 x 456 (4.5 s), ~307 kB, data loaded> 4.0 info empirical\n"
     ]
    },
    {
     "name": "stderr",
     "output_type": "stream",
     "text": [
      "c:\\Users\\Lukas\\Documents\\projects\\esinet\\evaluate\\..\\esinet\\util\\util.py:420: RuntimeWarning: Too few samples (required : 310 got : 20), covariance estimate may be unreliable\n",
      "  data_cov = mne.compute_raw_covariance(raw, tmin=tmin,\n",
      "c:\\Users\\Lukas\\Documents\\projects\\esinet\\evaluate\\..\\esinet\\util\\util.py:388: RuntimeWarning: An average reference projection was already added. The data has been left untouched.\n",
      "  epochs.set_eeg_reference(projection=True, verbose=verbose)#.apply_baseline(baseline=baseline)\n",
      "c:\\Users\\Lukas\\Documents\\projects\\esinet\\evaluate\\..\\esinet\\util\\util.py:420: RuntimeWarning: Too few samples (required : 310 got : 120), covariance estimate may be unreliable\n",
      "  data_cov = mne.compute_raw_covariance(raw, tmin=tmin,\n",
      "c:\\Users\\Lukas\\Documents\\projects\\esinet\\evaluate\\..\\esinet\\util\\util.py:388: RuntimeWarning: An average reference projection was already added. The data has been left untouched.\n",
      "  epochs.set_eeg_reference(projection=True, verbose=verbose)#.apply_baseline(baseline=baseline)\n",
      "c:\\Users\\Lukas\\Documents\\projects\\esinet\\evaluate\\..\\esinet\\util\\util.py:420: RuntimeWarning: Too few samples (required : 310 got : 40), covariance estimate may be unreliable\n",
      "  data_cov = mne.compute_raw_covariance(raw, tmin=tmin,\n",
      "c:\\Users\\Lukas\\Documents\\projects\\esinet\\evaluate\\..\\esinet\\util\\util.py:388: RuntimeWarning: An average reference projection was already added. The data has been left untouched.\n",
      "  epochs.set_eeg_reference(projection=True, verbose=verbose)#.apply_baseline(baseline=baseline)\n",
      "c:\\Users\\Lukas\\Documents\\projects\\esinet\\evaluate\\..\\esinet\\util\\util.py:420: RuntimeWarning: Too few samples (required : 310 got : 180), covariance estimate may be unreliable\n",
      "  data_cov = mne.compute_raw_covariance(raw, tmin=tmin,\n",
      "c:\\Users\\Lukas\\Documents\\projects\\esinet\\evaluate\\..\\esinet\\util\\util.py:388: RuntimeWarning: An average reference projection was already added. The data has been left untouched.\n",
      "  epochs.set_eeg_reference(projection=True, verbose=verbose)#.apply_baseline(baseline=baseline)\n",
      "c:\\Users\\Lukas\\Documents\\projects\\esinet\\evaluate\\..\\esinet\\util\\util.py:423: RuntimeWarning: Epochs are not baseline corrected, covariance matrix may be inaccurate\n",
      "  data_cov = mne.compute_covariance(epochs, tmin=0.0,\n"
     ]
    },
    {
     "name": "stdout",
     "output_type": "stream",
     "text": [
      "<RawArray | 61 x 597 (6.0 s), ~374 kB, data loaded> 4.0 info empirical\n",
      "<RawArray | 61 x 412 (4.1 s), ~286 kB, data loaded> 4.0 info empirical\n",
      "<RawArray | 61 x 421 (4.2 s), ~290 kB, data loaded> 4.0 info empirical\n",
      "<RawArray | 61 x 524 (5.2 s), ~340 kB, data loaded> 4.0 info empirical\n"
     ]
    },
    {
     "name": "stderr",
     "output_type": "stream",
     "text": [
      "c:\\Users\\Lukas\\Documents\\projects\\esinet\\evaluate\\..\\esinet\\util\\util.py:423: RuntimeWarning: Too few samples (required : 310 got : 12), covariance estimate may be unreliable\n",
      "  data_cov = mne.compute_covariance(epochs, tmin=0.0,\n",
      "c:\\Users\\Lukas\\Documents\\projects\\esinet\\evaluate\\..\\esinet\\util\\util.py:388: RuntimeWarning: An average reference projection was already added. The data has been left untouched.\n",
      "  epochs.set_eeg_reference(projection=True, verbose=verbose)#.apply_baseline(baseline=baseline)\n",
      "c:\\Users\\Lukas\\Documents\\projects\\esinet\\evaluate\\..\\esinet\\util\\util.py:420: RuntimeWarning: Too few samples (required : 310 got : 20), covariance estimate may be unreliable\n",
      "  data_cov = mne.compute_raw_covariance(raw, tmin=tmin,\n",
      "c:\\Users\\Lukas\\Documents\\projects\\esinet\\evaluate\\..\\esinet\\util\\util.py:388: RuntimeWarning: An average reference projection was already added. The data has been left untouched.\n",
      "  epochs.set_eeg_reference(projection=True, verbose=verbose)#.apply_baseline(baseline=baseline)\n",
      "c:\\Users\\Lukas\\Documents\\projects\\esinet\\evaluate\\..\\esinet\\util\\util.py:420: RuntimeWarning: Too few samples (required : 310 got : 120), covariance estimate may be unreliable\n",
      "  data_cov = mne.compute_raw_covariance(raw, tmin=tmin,\n",
      "c:\\Users\\Lukas\\Documents\\projects\\esinet\\evaluate\\..\\esinet\\util\\util.py:388: RuntimeWarning: An average reference projection was already added. The data has been left untouched.\n",
      "  epochs.set_eeg_reference(projection=True, verbose=verbose)#.apply_baseline(baseline=baseline)\n",
      "c:\\Users\\Lukas\\Documents\\projects\\esinet\\evaluate\\..\\esinet\\util\\util.py:420: RuntimeWarning: Too few samples (required : 310 got : 120), covariance estimate may be unreliable\n",
      "  data_cov = mne.compute_raw_covariance(raw, tmin=tmin,\n"
     ]
    },
    {
     "name": "stdout",
     "output_type": "stream",
     "text": [
      "<RawArray | 61 x 529 (5.3 s), ~342 kB, data loaded> 4.0 info empirical\n",
      "<RawArray | 61 x 521 (5.2 s), ~338 kB, data loaded> 4.0 info empirical\n",
      "<RawArray | 61 x 426 (4.2 s), ~293 kB, data loaded> 4.0 info empirical\n",
      "<RawArray | 61 x 523 (5.2 s), ~339 kB, data loaded> 4.0 info empirical\n",
      "<RawArray | 61 x 559 (5.6 s), ~356 kB, data loaded> 4.0 info empirical\n"
     ]
    },
    {
     "name": "stderr",
     "output_type": "stream",
     "text": [
      "c:\\Users\\Lukas\\Documents\\projects\\esinet\\evaluate\\..\\esinet\\util\\util.py:388: RuntimeWarning: An average reference projection was already added. The data has been left untouched.\n",
      "  epochs.set_eeg_reference(projection=True, verbose=verbose)#.apply_baseline(baseline=baseline)\n",
      "c:\\Users\\Lukas\\Documents\\projects\\esinet\\evaluate\\..\\esinet\\util\\util.py:420: RuntimeWarning: Too few samples (required : 310 got : 120), covariance estimate may be unreliable\n",
      "  data_cov = mne.compute_raw_covariance(raw, tmin=tmin,\n",
      "c:\\Users\\Lukas\\Documents\\projects\\esinet\\evaluate\\..\\esinet\\util\\util.py:388: RuntimeWarning: An average reference projection was already added. The data has been left untouched.\n",
      "  epochs.set_eeg_reference(projection=True, verbose=verbose)#.apply_baseline(baseline=baseline)\n",
      "c:\\Users\\Lukas\\Documents\\projects\\esinet\\evaluate\\..\\esinet\\util\\util.py:420: RuntimeWarning: Too few samples (required : 310 got : 20), covariance estimate may be unreliable\n",
      "  data_cov = mne.compute_raw_covariance(raw, tmin=tmin,\n",
      "c:\\Users\\Lukas\\Documents\\projects\\esinet\\evaluate\\..\\esinet\\util\\util.py:388: RuntimeWarning: An average reference projection was already added. The data has been left untouched.\n",
      "  epochs.set_eeg_reference(projection=True, verbose=verbose)#.apply_baseline(baseline=baseline)\n",
      "c:\\Users\\Lukas\\Documents\\projects\\esinet\\evaluate\\..\\esinet\\util\\util.py:420: RuntimeWarning: Too few samples (required : 310 got : 120), covariance estimate may be unreliable\n",
      "  data_cov = mne.compute_raw_covariance(raw, tmin=tmin,\n",
      "c:\\Users\\Lukas\\Documents\\projects\\esinet\\evaluate\\..\\esinet\\util\\util.py:388: RuntimeWarning: An average reference projection was already added. The data has been left untouched.\n",
      "  epochs.set_eeg_reference(projection=True, verbose=verbose)#.apply_baseline(baseline=baseline)\n",
      "c:\\Users\\Lukas\\Documents\\projects\\esinet\\evaluate\\..\\esinet\\util\\util.py:420: RuntimeWarning: Too few samples (required : 310 got : 140), covariance estimate may be unreliable\n",
      "  data_cov = mne.compute_raw_covariance(raw, tmin=tmin,\n",
      "c:\\Users\\Lukas\\Documents\\projects\\esinet\\evaluate\\..\\esinet\\util\\util.py:388: RuntimeWarning: An average reference projection was already added. The data has been left untouched.\n",
      "  epochs.set_eeg_reference(projection=True, verbose=verbose)#.apply_baseline(baseline=baseline)\n"
     ]
    },
    {
     "name": "stdout",
     "output_type": "stream",
     "text": [
      "<RawArray | 61 x 461 (4.6 s), ~310 kB, data loaded> 4.0 info empirical\n",
      "<RawArray | 61 x 512 (5.1 s), ~334 kB, data loaded> 4.0 info empirical\n",
      "<RawArray | 61 x 495 (4.9 s), ~326 kB, data loaded> 4.0 info empirical\n",
      "<RawArray | 61 x 484 (4.8 s), ~320 kB, data loaded> 4.0 info empirical\n"
     ]
    },
    {
     "name": "stderr",
     "output_type": "stream",
     "text": [
      "c:\\Users\\Lukas\\Documents\\projects\\esinet\\evaluate\\..\\esinet\\util\\util.py:420: RuntimeWarning: Too few samples (required : 310 got : 60), covariance estimate may be unreliable\n",
      "  data_cov = mne.compute_raw_covariance(raw, tmin=tmin,\n",
      "c:\\Users\\Lukas\\Documents\\projects\\esinet\\evaluate\\..\\esinet\\util\\util.py:388: RuntimeWarning: An average reference projection was already added. The data has been left untouched.\n",
      "  epochs.set_eeg_reference(projection=True, verbose=verbose)#.apply_baseline(baseline=baseline)\n",
      "c:\\Users\\Lukas\\Documents\\projects\\esinet\\evaluate\\..\\esinet\\util\\util.py:420: RuntimeWarning: Too few samples (required : 310 got : 100), covariance estimate may be unreliable\n",
      "  data_cov = mne.compute_raw_covariance(raw, tmin=tmin,\n",
      "c:\\Users\\Lukas\\Documents\\projects\\esinet\\evaluate\\..\\esinet\\util\\util.py:388: RuntimeWarning: An average reference projection was already added. The data has been left untouched.\n",
      "  epochs.set_eeg_reference(projection=True, verbose=verbose)#.apply_baseline(baseline=baseline)\n",
      "c:\\Users\\Lukas\\Documents\\projects\\esinet\\evaluate\\..\\esinet\\util\\util.py:420: RuntimeWarning: Too few samples (required : 310 got : 80), covariance estimate may be unreliable\n",
      "  data_cov = mne.compute_raw_covariance(raw, tmin=tmin,\n",
      "c:\\Users\\Lukas\\Documents\\projects\\esinet\\evaluate\\..\\esinet\\util\\util.py:388: RuntimeWarning: An average reference projection was already added. The data has been left untouched.\n",
      "  epochs.set_eeg_reference(projection=True, verbose=verbose)#.apply_baseline(baseline=baseline)\n",
      "c:\\Users\\Lukas\\Documents\\projects\\esinet\\evaluate\\..\\esinet\\util\\util.py:420: RuntimeWarning: Too few samples (required : 310 got : 80), covariance estimate may be unreliable\n",
      "  data_cov = mne.compute_raw_covariance(raw, tmin=tmin,\n",
      "c:\\Users\\Lukas\\Documents\\projects\\esinet\\evaluate\\..\\esinet\\util\\util.py:388: RuntimeWarning: An average reference projection was already added. The data has been left untouched.\n",
      "  epochs.set_eeg_reference(projection=True, verbose=verbose)#.apply_baseline(baseline=baseline)\n"
     ]
    },
    {
     "name": "stdout",
     "output_type": "stream",
     "text": [
      "<RawArray | 61 x 509 (5.1 s), ~332 kB, data loaded> 4.0 info empirical\n",
      "<RawArray | 61 x 560 (5.6 s), ~357 kB, data loaded> 4.0 info empirical\n",
      "<RawArray | 61 x 409 (4.1 s), ~285 kB, data loaded> 4.0 info empirical\n",
      "<RawArray | 61 x 422 (4.2 s), ~291 kB, data loaded> 4.0 info empirical\n"
     ]
    },
    {
     "name": "stderr",
     "output_type": "stream",
     "text": [
      "c:\\Users\\Lukas\\Documents\\projects\\esinet\\evaluate\\..\\esinet\\util\\util.py:420: RuntimeWarning: Too few samples (required : 310 got : 100), covariance estimate may be unreliable\n",
      "  data_cov = mne.compute_raw_covariance(raw, tmin=tmin,\n",
      "c:\\Users\\Lukas\\Documents\\projects\\esinet\\evaluate\\..\\esinet\\util\\util.py:388: RuntimeWarning: An average reference projection was already added. The data has been left untouched.\n",
      "  epochs.set_eeg_reference(projection=True, verbose=verbose)#.apply_baseline(baseline=baseline)\n",
      "c:\\Users\\Lukas\\Documents\\projects\\esinet\\evaluate\\..\\esinet\\util\\util.py:420: RuntimeWarning: Too few samples (required : 310 got : 160), covariance estimate may be unreliable\n",
      "  data_cov = mne.compute_raw_covariance(raw, tmin=tmin,\n",
      "c:\\Users\\Lukas\\Documents\\projects\\esinet\\evaluate\\..\\esinet\\util\\util.py:388: RuntimeWarning: An average reference projection was already added. The data has been left untouched.\n",
      "  epochs.set_eeg_reference(projection=True, verbose=verbose)#.apply_baseline(baseline=baseline)\n",
      "c:\\Users\\Lukas\\Documents\\projects\\esinet\\evaluate\\..\\esinet\\util\\util.py:423: RuntimeWarning: Epochs are not baseline corrected, covariance matrix may be inaccurate\n",
      "  data_cov = mne.compute_covariance(epochs, tmin=0.0,\n",
      "c:\\Users\\Lukas\\Documents\\projects\\esinet\\evaluate\\..\\esinet\\util\\util.py:423: RuntimeWarning: Too few samples (required : 310 got : 9), covariance estimate may be unreliable\n",
      "  data_cov = mne.compute_covariance(epochs, tmin=0.0,\n",
      "c:\\Users\\Lukas\\Documents\\projects\\esinet\\evaluate\\..\\esinet\\util\\util.py:388: RuntimeWarning: An average reference projection was already added. The data has been left untouched.\n",
      "  epochs.set_eeg_reference(projection=True, verbose=verbose)#.apply_baseline(baseline=baseline)\n",
      "c:\\Users\\Lukas\\Documents\\projects\\esinet\\evaluate\\..\\esinet\\util\\util.py:420: RuntimeWarning: Too few samples (required : 310 got : 20), covariance estimate may be unreliable\n",
      "  data_cov = mne.compute_raw_covariance(raw, tmin=tmin,\n"
     ]
    },
    {
     "name": "stdout",
     "output_type": "stream",
     "text": [
      "<RawArray | 61 x 591 (5.9 s), ~371 kB, data loaded> 4.0 info empirical\n",
      "<RawArray | 61 x 440 (4.4 s), ~299 kB, data loaded> 4.0 info empirical\n",
      "<RawArray | 61 x 455 (4.5 s), ~307 kB, data loaded> 4.0 info empirical\n",
      "<RawArray | 61 x 435 (4.3 s), ~297 kB, data loaded> 4.0 info empirical\n",
      "<RawArray | 61 x 587 (5.9 s), ~370 kB, data loaded> 4.0 info empirical\n"
     ]
    },
    {
     "name": "stderr",
     "output_type": "stream",
     "text": [
      "c:\\Users\\Lukas\\Documents\\projects\\esinet\\evaluate\\..\\esinet\\util\\util.py:388: RuntimeWarning: An average reference projection was already added. The data has been left untouched.\n",
      "  epochs.set_eeg_reference(projection=True, verbose=verbose)#.apply_baseline(baseline=baseline)\n",
      "c:\\Users\\Lukas\\Documents\\projects\\esinet\\evaluate\\..\\esinet\\util\\util.py:420: RuntimeWarning: Too few samples (required : 310 got : 180), covariance estimate may be unreliable\n",
      "  data_cov = mne.compute_raw_covariance(raw, tmin=tmin,\n",
      "c:\\Users\\Lukas\\Documents\\projects\\esinet\\evaluate\\..\\esinet\\util\\util.py:388: RuntimeWarning: An average reference projection was already added. The data has been left untouched.\n",
      "  epochs.set_eeg_reference(projection=True, verbose=verbose)#.apply_baseline(baseline=baseline)\n",
      "c:\\Users\\Lukas\\Documents\\projects\\esinet\\evaluate\\..\\esinet\\util\\util.py:420: RuntimeWarning: Too few samples (required : 310 got : 40), covariance estimate may be unreliable\n",
      "  data_cov = mne.compute_raw_covariance(raw, tmin=tmin,\n",
      "c:\\Users\\Lukas\\Documents\\projects\\esinet\\evaluate\\..\\esinet\\util\\util.py:388: RuntimeWarning: An average reference projection was already added. The data has been left untouched.\n",
      "  epochs.set_eeg_reference(projection=True, verbose=verbose)#.apply_baseline(baseline=baseline)\n",
      "c:\\Users\\Lukas\\Documents\\projects\\esinet\\evaluate\\..\\esinet\\util\\util.py:420: RuntimeWarning: Too few samples (required : 310 got : 40), covariance estimate may be unreliable\n",
      "  data_cov = mne.compute_raw_covariance(raw, tmin=tmin,\n",
      "c:\\Users\\Lukas\\Documents\\projects\\esinet\\evaluate\\..\\esinet\\util\\util.py:388: RuntimeWarning: An average reference projection was already added. The data has been left untouched.\n",
      "  epochs.set_eeg_reference(projection=True, verbose=verbose)#.apply_baseline(baseline=baseline)\n",
      "c:\\Users\\Lukas\\Documents\\projects\\esinet\\evaluate\\..\\esinet\\util\\util.py:420: RuntimeWarning: Too few samples (required : 310 got : 20), covariance estimate may be unreliable\n",
      "  data_cov = mne.compute_raw_covariance(raw, tmin=tmin,\n",
      "c:\\Users\\Lukas\\Documents\\projects\\esinet\\evaluate\\..\\esinet\\util\\util.py:388: RuntimeWarning: An average reference projection was already added. The data has been left untouched.\n",
      "  epochs.set_eeg_reference(projection=True, verbose=verbose)#.apply_baseline(baseline=baseline)\n",
      "c:\\Users\\Lukas\\Documents\\projects\\esinet\\evaluate\\..\\esinet\\util\\util.py:420: RuntimeWarning: Too few samples (required : 310 got : 180), covariance estimate may be unreliable\n",
      "  data_cov = mne.compute_raw_covariance(raw, tmin=tmin,\n",
      "c:\\Users\\Lukas\\Documents\\projects\\esinet\\evaluate\\..\\esinet\\util\\util.py:388: RuntimeWarning: An average reference projection was already added. The data has been left untouched.\n",
      "  epochs.set_eeg_reference(projection=True, verbose=verbose)#.apply_baseline(baseline=baseline)\n",
      "c:\\Users\\Lukas\\Documents\\projects\\esinet\\evaluate\\..\\esinet\\util\\util.py:423: RuntimeWarning: Epochs are not baseline corrected, covariance matrix may be inaccurate\n",
      "  data_cov = mne.compute_covariance(epochs, tmin=0.0,\n",
      "c:\\Users\\Lukas\\Documents\\projects\\esinet\\evaluate\\..\\esinet\\util\\util.py:423: RuntimeWarning: Too few samples (required : 310 got : 9), covariance estimate may be unreliable\n",
      "  data_cov = mne.compute_covariance(epochs, tmin=0.0,\n",
      "c:\\Users\\Lukas\\Documents\\projects\\esinet\\evaluate\\..\\esinet\\util\\util.py:388: RuntimeWarning: An average reference projection was already added. The data has been left untouched.\n",
      "  epochs.set_eeg_reference(projection=True, verbose=verbose)#.apply_baseline(baseline=baseline)\n",
      "c:\\Users\\Lukas\\Documents\\projects\\esinet\\evaluate\\..\\esinet\\util\\util.py:420: RuntimeWarning: Too few samples (required : 310 got : 120), covariance estimate may be unreliable\n",
      "  data_cov = mne.compute_raw_covariance(raw, tmin=tmin,\n",
      "c:\\Users\\Lukas\\Documents\\projects\\esinet\\evaluate\\..\\esinet\\util\\util.py:388: RuntimeWarning: An average reference projection was already added. The data has been left untouched.\n",
      "  epochs.set_eeg_reference(projection=True, verbose=verbose)#.apply_baseline(baseline=baseline)\n",
      "c:\\Users\\Lukas\\Documents\\projects\\esinet\\evaluate\\..\\esinet\\util\\util.py:420: RuntimeWarning: Too few samples (required : 310 got : 40), covariance estimate may be unreliable\n",
      "  data_cov = mne.compute_raw_covariance(raw, tmin=tmin,\n",
      "c:\\Users\\Lukas\\Documents\\projects\\esinet\\evaluate\\..\\esinet\\util\\util.py:388: RuntimeWarning: An average reference projection was already added. The data has been left untouched.\n",
      "  epochs.set_eeg_reference(projection=True, verbose=verbose)#.apply_baseline(baseline=baseline)\n"
     ]
    },
    {
     "name": "stdout",
     "output_type": "stream",
     "text": [
      "<RawArray | 61 x 409 (4.1 s), ~285 kB, data loaded> 4.0 info empirical\n",
      "<RawArray | 61 x 521 (5.2 s), ~338 kB, data loaded> 4.0 info empirical\n",
      "<RawArray | 61 x 442 (4.4 s), ~300 kB, data loaded> 4.0 info empirical\n",
      "<RawArray | 61 x 508 (5.1 s), ~332 kB, data loaded> 4.0 info empirical\n"
     ]
    },
    {
     "name": "stderr",
     "output_type": "stream",
     "text": [
      "c:\\Users\\Lukas\\Documents\\projects\\esinet\\evaluate\\..\\esinet\\util\\util.py:420: RuntimeWarning: Too few samples (required : 310 got : 100), covariance estimate may be unreliable\n",
      "  data_cov = mne.compute_raw_covariance(raw, tmin=tmin,\n",
      "c:\\Users\\Lukas\\Documents\\projects\\esinet\\evaluate\\..\\esinet\\util\\util.py:388: RuntimeWarning: An average reference projection was already added. The data has been left untouched.\n",
      "  epochs.set_eeg_reference(projection=True, verbose=verbose)#.apply_baseline(baseline=baseline)\n",
      "c:\\Users\\Lukas\\Documents\\projects\\esinet\\evaluate\\..\\esinet\\util\\util.py:420: RuntimeWarning: Too few samples (required : 310 got : 100), covariance estimate may be unreliable\n",
      "  data_cov = mne.compute_raw_covariance(raw, tmin=tmin,\n",
      "c:\\Users\\Lukas\\Documents\\projects\\esinet\\evaluate\\..\\esinet\\util\\util.py:388: RuntimeWarning: An average reference projection was already added. The data has been left untouched.\n",
      "  epochs.set_eeg_reference(projection=True, verbose=verbose)#.apply_baseline(baseline=baseline)\n",
      "c:\\Users\\Lukas\\Documents\\projects\\esinet\\evaluate\\..\\esinet\\util\\util.py:423: RuntimeWarning: Epochs are not baseline corrected, covariance matrix may be inaccurate\n",
      "  data_cov = mne.compute_covariance(epochs, tmin=0.0,\n",
      "c:\\Users\\Lukas\\Documents\\projects\\esinet\\evaluate\\..\\esinet\\util\\util.py:423: RuntimeWarning: Too few samples (required : 310 got : 16), covariance estimate may be unreliable\n",
      "  data_cov = mne.compute_covariance(epochs, tmin=0.0,\n",
      "c:\\Users\\Lukas\\Documents\\projects\\esinet\\evaluate\\..\\esinet\\util\\util.py:388: RuntimeWarning: An average reference projection was already added. The data has been left untouched.\n",
      "  epochs.set_eeg_reference(projection=True, verbose=verbose)#.apply_baseline(baseline=baseline)\n",
      "c:\\Users\\Lukas\\Documents\\projects\\esinet\\evaluate\\..\\esinet\\util\\util.py:420: RuntimeWarning: Too few samples (required : 310 got : 80), covariance estimate may be unreliable\n",
      "  data_cov = mne.compute_raw_covariance(raw, tmin=tmin,\n",
      "c:\\Users\\Lukas\\Documents\\projects\\esinet\\evaluate\\..\\esinet\\util\\util.py:388: RuntimeWarning: An average reference projection was already added. The data has been left untouched.\n",
      "  epochs.set_eeg_reference(projection=True, verbose=verbose)#.apply_baseline(baseline=baseline)\n"
     ]
    },
    {
     "name": "stdout",
     "output_type": "stream",
     "text": [
      "<RawArray | 61 x 500 (5.0 s), ~328 kB, data loaded> 4.0 info empirical\n",
      "<RawArray | 61 x 416 (4.2 s), ~288 kB, data loaded> 4.0 info empirical\n",
      "<RawArray | 61 x 491 (4.9 s), ~324 kB, data loaded> 4.0 info empirical\n",
      "<RawArray | 61 x 412 (4.1 s), ~286 kB, data loaded> 4.0 info empirical\n"
     ]
    },
    {
     "name": "stderr",
     "output_type": "stream",
     "text": [
      "c:\\Users\\Lukas\\Documents\\projects\\esinet\\evaluate\\..\\esinet\\util\\util.py:423: RuntimeWarning: Epochs are not baseline corrected, covariance matrix may be inaccurate\n",
      "  data_cov = mne.compute_covariance(epochs, tmin=0.0,\n",
      "c:\\Users\\Lukas\\Documents\\projects\\esinet\\evaluate\\..\\esinet\\util\\util.py:423: RuntimeWarning: Too few samples (required : 310 got : 12), covariance estimate may be unreliable\n",
      "  data_cov = mne.compute_covariance(epochs, tmin=0.0,\n",
      "c:\\Users\\Lukas\\Documents\\projects\\esinet\\evaluate\\..\\esinet\\util\\util.py:388: RuntimeWarning: An average reference projection was already added. The data has been left untouched.\n",
      "  epochs.set_eeg_reference(projection=True, verbose=verbose)#.apply_baseline(baseline=baseline)\n",
      "c:\\Users\\Lukas\\Documents\\projects\\esinet\\evaluate\\..\\esinet\\util\\util.py:420: RuntimeWarning: Too few samples (required : 310 got : 60), covariance estimate may be unreliable\n",
      "  data_cov = mne.compute_raw_covariance(raw, tmin=tmin,\n",
      "c:\\Users\\Lukas\\Documents\\projects\\esinet\\evaluate\\..\\esinet\\util\\util.py:388: RuntimeWarning: An average reference projection was already added. The data has been left untouched.\n",
      "  epochs.set_eeg_reference(projection=True, verbose=verbose)#.apply_baseline(baseline=baseline)\n",
      "c:\\Users\\Lukas\\Documents\\projects\\esinet\\evaluate\\..\\esinet\\util\\util.py:420: RuntimeWarning: Too few samples (required : 310 got : 140), covariance estimate may be unreliable\n",
      "  data_cov = mne.compute_raw_covariance(raw, tmin=tmin,\n",
      "c:\\Users\\Lukas\\Documents\\projects\\esinet\\evaluate\\..\\esinet\\util\\util.py:388: RuntimeWarning: An average reference projection was already added. The data has been left untouched.\n",
      "  epochs.set_eeg_reference(projection=True, verbose=verbose)#.apply_baseline(baseline=baseline)\n",
      "c:\\Users\\Lukas\\Documents\\projects\\esinet\\evaluate\\..\\esinet\\util\\util.py:423: RuntimeWarning: Epochs are not baseline corrected, covariance matrix may be inaccurate\n",
      "  data_cov = mne.compute_covariance(epochs, tmin=0.0,\n",
      "c:\\Users\\Lukas\\Documents\\projects\\esinet\\evaluate\\..\\esinet\\util\\util.py:423: RuntimeWarning: Too few samples (required : 310 got : 15), covariance estimate may be unreliable\n",
      "  data_cov = mne.compute_covariance(epochs, tmin=0.0,\n",
      "c:\\Users\\Lukas\\Documents\\projects\\esinet\\evaluate\\..\\esinet\\util\\util.py:388: RuntimeWarning: An average reference projection was already added. The data has been left untouched.\n",
      "  epochs.set_eeg_reference(projection=True, verbose=verbose)#.apply_baseline(baseline=baseline)\n"
     ]
    },
    {
     "name": "stdout",
     "output_type": "stream",
     "text": [
      "<RawArray | 61 x 461 (4.6 s), ~310 kB, data loaded> 4.0 info empirical\n",
      "<RawArray | 61 x 556 (5.5 s), ~355 kB, data loaded> 4.0 info empirical\n",
      "<RawArray | 61 x 415 (4.1 s), ~288 kB, data loaded> 4.0 info empirical\n",
      "<RawArray | 61 x 475 (4.7 s), ~316 kB, data loaded> 4.0 info empirical\n"
     ]
    },
    {
     "name": "stderr",
     "output_type": "stream",
     "text": [
      "c:\\Users\\Lukas\\Documents\\projects\\esinet\\evaluate\\..\\esinet\\util\\util.py:420: RuntimeWarning: Too few samples (required : 310 got : 60), covariance estimate may be unreliable\n",
      "  data_cov = mne.compute_raw_covariance(raw, tmin=tmin,\n",
      "c:\\Users\\Lukas\\Documents\\projects\\esinet\\evaluate\\..\\esinet\\util\\util.py:388: RuntimeWarning: An average reference projection was already added. The data has been left untouched.\n",
      "  epochs.set_eeg_reference(projection=True, verbose=verbose)#.apply_baseline(baseline=baseline)\n",
      "c:\\Users\\Lukas\\Documents\\projects\\esinet\\evaluate\\..\\esinet\\util\\util.py:420: RuntimeWarning: Too few samples (required : 310 got : 160), covariance estimate may be unreliable\n",
      "  data_cov = mne.compute_raw_covariance(raw, tmin=tmin,\n",
      "c:\\Users\\Lukas\\Documents\\projects\\esinet\\evaluate\\..\\esinet\\util\\util.py:388: RuntimeWarning: An average reference projection was already added. The data has been left untouched.\n",
      "  epochs.set_eeg_reference(projection=True, verbose=verbose)#.apply_baseline(baseline=baseline)\n",
      "c:\\Users\\Lukas\\Documents\\projects\\esinet\\evaluate\\..\\esinet\\util\\util.py:420: RuntimeWarning: Too few samples (required : 310 got : 60), covariance estimate may be unreliable\n",
      "  data_cov = mne.compute_raw_covariance(raw, tmin=tmin,\n",
      "c:\\Users\\Lukas\\Documents\\projects\\esinet\\evaluate\\..\\esinet\\util\\util.py:388: RuntimeWarning: An average reference projection was already added. The data has been left untouched.\n",
      "  epochs.set_eeg_reference(projection=True, verbose=verbose)#.apply_baseline(baseline=baseline)\n",
      "c:\\Users\\Lukas\\Documents\\projects\\esinet\\evaluate\\..\\esinet\\util\\util.py:420: RuntimeWarning: Too few samples (required : 310 got : 140), covariance estimate may be unreliable\n",
      "  data_cov = mne.compute_raw_covariance(raw, tmin=tmin,\n",
      "c:\\Users\\Lukas\\Documents\\projects\\esinet\\evaluate\\..\\esinet\\util\\util.py:388: RuntimeWarning: An average reference projection was already added. The data has been left untouched.\n",
      "  epochs.set_eeg_reference(projection=True, verbose=verbose)#.apply_baseline(baseline=baseline)\n"
     ]
    },
    {
     "name": "stdout",
     "output_type": "stream",
     "text": [
      "<RawArray | 61 x 578 (5.8 s), ~365 kB, data loaded> 4.0 info empirical\n",
      "<RawArray | 61 x 469 (4.7 s), ~313 kB, data loaded> 4.0 info empirical\n",
      "<RawArray | 61 x 553 (5.5 s), ~353 kB, data loaded> 4.0 info empirical\n",
      "<RawArray | 61 x 411 (4.1 s), ~286 kB, data loaded> 4.0 info empirical\n"
     ]
    },
    {
     "name": "stderr",
     "output_type": "stream",
     "text": [
      "c:\\Users\\Lukas\\Documents\\projects\\esinet\\evaluate\\..\\esinet\\util\\util.py:423: RuntimeWarning: Epochs are not baseline corrected, covariance matrix may be inaccurate\n",
      "  data_cov = mne.compute_covariance(epochs, tmin=0.0,\n",
      "c:\\Users\\Lukas\\Documents\\projects\\esinet\\evaluate\\..\\esinet\\util\\util.py:423: RuntimeWarning: Too few samples (required : 310 got : 11), covariance estimate may be unreliable\n",
      "  data_cov = mne.compute_covariance(epochs, tmin=0.0,\n",
      "c:\\Users\\Lukas\\Documents\\projects\\esinet\\evaluate\\..\\esinet\\util\\util.py:388: RuntimeWarning: An average reference projection was already added. The data has been left untouched.\n",
      "  epochs.set_eeg_reference(projection=True, verbose=verbose)#.apply_baseline(baseline=baseline)\n",
      "c:\\Users\\Lukas\\Documents\\projects\\esinet\\evaluate\\..\\esinet\\util\\util.py:420: RuntimeWarning: Too few samples (required : 310 got : 140), covariance estimate may be unreliable\n",
      "  data_cov = mne.compute_raw_covariance(raw, tmin=tmin,\n",
      "c:\\Users\\Lukas\\Documents\\projects\\esinet\\evaluate\\..\\esinet\\util\\util.py:388: RuntimeWarning: An average reference projection was already added. The data has been left untouched.\n",
      "  epochs.set_eeg_reference(projection=True, verbose=verbose)#.apply_baseline(baseline=baseline)\n",
      "c:\\Users\\Lukas\\Documents\\projects\\esinet\\evaluate\\..\\esinet\\util\\util.py:420: RuntimeWarning: Too few samples (required : 310 got : 140), covariance estimate may be unreliable\n",
      "  data_cov = mne.compute_raw_covariance(raw, tmin=tmin,\n",
      "c:\\Users\\Lukas\\Documents\\projects\\esinet\\evaluate\\..\\esinet\\util\\util.py:388: RuntimeWarning: An average reference projection was already added. The data has been left untouched.\n",
      "  epochs.set_eeg_reference(projection=True, verbose=verbose)#.apply_baseline(baseline=baseline)\n",
      "c:\\Users\\Lukas\\Documents\\projects\\esinet\\evaluate\\..\\esinet\\util\\util.py:420: RuntimeWarning: Too few samples (required : 310 got : 120), covariance estimate may be unreliable\n",
      "  data_cov = mne.compute_raw_covariance(raw, tmin=tmin,\n"
     ]
    },
    {
     "name": "stdout",
     "output_type": "stream",
     "text": [
      "<RawArray | 61 x 547 (5.5 s), ~350 kB, data loaded> 4.0 info empirical\n",
      "<RawArray | 61 x 557 (5.6 s), ~355 kB, data loaded> 4.0 info empirical\n",
      "<RawArray | 61 x 521 (5.2 s), ~338 kB, data loaded> 4.0 info empirical\n",
      "<RawArray | 61 x 500 (5.0 s), ~328 kB, data loaded> 4.0 info empirical\n"
     ]
    },
    {
     "name": "stderr",
     "output_type": "stream",
     "text": [
      "c:\\Users\\Lukas\\Documents\\projects\\esinet\\evaluate\\..\\esinet\\util\\util.py:388: RuntimeWarning: An average reference projection was already added. The data has been left untouched.\n",
      "  epochs.set_eeg_reference(projection=True, verbose=verbose)#.apply_baseline(baseline=baseline)\n",
      "c:\\Users\\Lukas\\Documents\\projects\\esinet\\evaluate\\..\\esinet\\util\\util.py:420: RuntimeWarning: Too few samples (required : 310 got : 100), covariance estimate may be unreliable\n",
      "  data_cov = mne.compute_raw_covariance(raw, tmin=tmin,\n",
      "c:\\Users\\Lukas\\Documents\\projects\\esinet\\evaluate\\..\\esinet\\util\\util.py:388: RuntimeWarning: An average reference projection was already added. The data has been left untouched.\n",
      "  epochs.set_eeg_reference(projection=True, verbose=verbose)#.apply_baseline(baseline=baseline)\n",
      "c:\\Users\\Lukas\\Documents\\projects\\esinet\\evaluate\\..\\esinet\\util\\util.py:420: RuntimeWarning: Too few samples (required : 310 got : 120), covariance estimate may be unreliable\n",
      "  data_cov = mne.compute_raw_covariance(raw, tmin=tmin,\n",
      "c:\\Users\\Lukas\\Documents\\projects\\esinet\\evaluate\\..\\esinet\\util\\util.py:388: RuntimeWarning: An average reference projection was already added. The data has been left untouched.\n",
      "  epochs.set_eeg_reference(projection=True, verbose=verbose)#.apply_baseline(baseline=baseline)\n",
      "c:\\Users\\Lukas\\Documents\\projects\\esinet\\evaluate\\..\\esinet\\util\\util.py:420: RuntimeWarning: Too few samples (required : 310 got : 80), covariance estimate may be unreliable\n",
      "  data_cov = mne.compute_raw_covariance(raw, tmin=tmin,\n",
      "c:\\Users\\Lukas\\Documents\\projects\\esinet\\evaluate\\..\\esinet\\util\\util.py:388: RuntimeWarning: An average reference projection was already added. The data has been left untouched.\n",
      "  epochs.set_eeg_reference(projection=True, verbose=verbose)#.apply_baseline(baseline=baseline)\n",
      "c:\\Users\\Lukas\\Documents\\projects\\esinet\\evaluate\\..\\esinet\\util\\util.py:420: RuntimeWarning: Too few samples (required : 310 got : 100), covariance estimate may be unreliable\n",
      "  data_cov = mne.compute_raw_covariance(raw, tmin=tmin,\n",
      "c:\\Users\\Lukas\\Documents\\projects\\esinet\\evaluate\\..\\esinet\\util\\util.py:388: RuntimeWarning: An average reference projection was already added. The data has been left untouched.\n",
      "  epochs.set_eeg_reference(projection=True, verbose=verbose)#.apply_baseline(baseline=baseline)\n"
     ]
    },
    {
     "name": "stdout",
     "output_type": "stream",
     "text": [
      "<RawArray | 61 x 538 (5.4 s), ~346 kB, data loaded> 4.0 info empirical\n",
      "<RawArray | 61 x 485 (4.8 s), ~321 kB, data loaded> 4.0 info empirical\n",
      "<RawArray | 61 x 518 (5.2 s), ~337 kB, data loaded> 4.0 info empirical\n",
      "<RawArray | 61 x 464 (4.6 s), ~311 kB, data loaded> 4.0 info empirical\n",
      "<RawArray | 61 x 533 (5.3 s), ~344 kB, data loaded> 4.0 info empirical\n"
     ]
    },
    {
     "name": "stderr",
     "output_type": "stream",
     "text": [
      "c:\\Users\\Lukas\\Documents\\projects\\esinet\\evaluate\\..\\esinet\\util\\util.py:420: RuntimeWarning: Too few samples (required : 310 got : 60), covariance estimate may be unreliable\n",
      "  data_cov = mne.compute_raw_covariance(raw, tmin=tmin,\n",
      "c:\\Users\\Lukas\\Documents\\projects\\esinet\\evaluate\\..\\esinet\\util\\util.py:388: RuntimeWarning: An average reference projection was already added. The data has been left untouched.\n",
      "  epochs.set_eeg_reference(projection=True, verbose=verbose)#.apply_baseline(baseline=baseline)\n",
      "c:\\Users\\Lukas\\Documents\\projects\\esinet\\evaluate\\..\\esinet\\util\\util.py:420: RuntimeWarning: Too few samples (required : 310 got : 120), covariance estimate may be unreliable\n",
      "  data_cov = mne.compute_raw_covariance(raw, tmin=tmin,\n",
      "c:\\Users\\Lukas\\Documents\\projects\\esinet\\evaluate\\..\\esinet\\util\\util.py:388: RuntimeWarning: An average reference projection was already added. The data has been left untouched.\n",
      "  epochs.set_eeg_reference(projection=True, verbose=verbose)#.apply_baseline(baseline=baseline)\n",
      "c:\\Users\\Lukas\\Documents\\projects\\esinet\\evaluate\\..\\esinet\\util\\util.py:420: RuntimeWarning: Too few samples (required : 310 got : 40), covariance estimate may be unreliable\n",
      "  data_cov = mne.compute_raw_covariance(raw, tmin=tmin,\n",
      "c:\\Users\\Lukas\\Documents\\projects\\esinet\\evaluate\\..\\esinet\\util\\util.py:388: RuntimeWarning: An average reference projection was already added. The data has been left untouched.\n",
      "  epochs.set_eeg_reference(projection=True, verbose=verbose)#.apply_baseline(baseline=baseline)\n",
      "c:\\Users\\Lukas\\Documents\\projects\\esinet\\evaluate\\..\\esinet\\util\\util.py:420: RuntimeWarning: Too few samples (required : 310 got : 180), covariance estimate may be unreliable\n",
      "  data_cov = mne.compute_raw_covariance(raw, tmin=tmin,\n"
     ]
    },
    {
     "name": "stdout",
     "output_type": "stream",
     "text": [
      "<RawArray | 61 x 459 (4.6 s), ~309 kB, data loaded> 4.0 info empirical\n",
      "<RawArray | 61 x 583 (5.8 s), ~368 kB, data loaded> 4.0 info empirical\n",
      "<RawArray | 61 x 501 (5.0 s), ~329 kB, data loaded> 4.0 info empirical\n",
      "<RawArray | 61 x 535 (5.3 s), ~345 kB, data loaded> 4.0 info empirical\n"
     ]
    },
    {
     "name": "stderr",
     "output_type": "stream",
     "text": [
      "c:\\Users\\Lukas\\Documents\\projects\\esinet\\evaluate\\..\\esinet\\util\\util.py:388: RuntimeWarning: An average reference projection was already added. The data has been left untouched.\n",
      "  epochs.set_eeg_reference(projection=True, verbose=verbose)#.apply_baseline(baseline=baseline)\n",
      "c:\\Users\\Lukas\\Documents\\projects\\esinet\\evaluate\\..\\esinet\\util\\util.py:420: RuntimeWarning: Too few samples (required : 310 got : 100), covariance estimate may be unreliable\n",
      "  data_cov = mne.compute_raw_covariance(raw, tmin=tmin,\n",
      "c:\\Users\\Lukas\\Documents\\projects\\esinet\\evaluate\\..\\esinet\\util\\util.py:388: RuntimeWarning: An average reference projection was already added. The data has been left untouched.\n",
      "  epochs.set_eeg_reference(projection=True, verbose=verbose)#.apply_baseline(baseline=baseline)\n",
      "c:\\Users\\Lukas\\Documents\\projects\\esinet\\evaluate\\..\\esinet\\util\\util.py:420: RuntimeWarning: Too few samples (required : 310 got : 120), covariance estimate may be unreliable\n",
      "  data_cov = mne.compute_raw_covariance(raw, tmin=tmin,\n",
      "c:\\Users\\Lukas\\Documents\\projects\\esinet\\evaluate\\..\\esinet\\util\\util.py:388: RuntimeWarning: An average reference projection was already added. The data has been left untouched.\n",
      "  epochs.set_eeg_reference(projection=True, verbose=verbose)#.apply_baseline(baseline=baseline)\n",
      "c:\\Users\\Lukas\\Documents\\projects\\esinet\\evaluate\\..\\esinet\\util\\util.py:420: RuntimeWarning: Too few samples (required : 310 got : 120), covariance estimate may be unreliable\n",
      "  data_cov = mne.compute_raw_covariance(raw, tmin=tmin,\n",
      "c:\\Users\\Lukas\\Documents\\projects\\esinet\\evaluate\\..\\esinet\\util\\util.py:388: RuntimeWarning: An average reference projection was already added. The data has been left untouched.\n",
      "  epochs.set_eeg_reference(projection=True, verbose=verbose)#.apply_baseline(baseline=baseline)\n",
      "c:\\Users\\Lukas\\Documents\\projects\\esinet\\evaluate\\..\\esinet\\util\\util.py:420: RuntimeWarning: Too few samples (required : 310 got : 20), covariance estimate may be unreliable\n",
      "  data_cov = mne.compute_raw_covariance(raw, tmin=tmin,\n",
      "c:\\Users\\Lukas\\Documents\\projects\\esinet\\evaluate\\..\\esinet\\util\\util.py:388: RuntimeWarning: An average reference projection was already added. The data has been left untouched.\n",
      "  epochs.set_eeg_reference(projection=True, verbose=verbose)#.apply_baseline(baseline=baseline)\n"
     ]
    },
    {
     "name": "stdout",
     "output_type": "stream",
     "text": [
      "<RawArray | 61 x 538 (5.4 s), ~346 kB, data loaded> 4.0 info empirical\n",
      "<RawArray | 61 x 435 (4.3 s), ~297 kB, data loaded> 4.0 info empirical\n",
      "<RawArray | 61 x 576 (5.8 s), ~364 kB, data loaded> 4.0 info empirical\n",
      "<RawArray | 61 x 544 (5.4 s), ~349 kB, data loaded> 4.0 info empirical\n",
      "<RawArray | 61 x 567 (5.7 s), ~360 kB, data loaded> 4.0 info empirical\n"
     ]
    },
    {
     "name": "stderr",
     "output_type": "stream",
     "text": [
      "c:\\Users\\Lukas\\Documents\\projects\\esinet\\evaluate\\..\\esinet\\util\\util.py:420: RuntimeWarning: Too few samples (required : 310 got : 160), covariance estimate may be unreliable\n",
      "  data_cov = mne.compute_raw_covariance(raw, tmin=tmin,\n",
      "c:\\Users\\Lukas\\Documents\\projects\\esinet\\evaluate\\..\\esinet\\util\\util.py:388: RuntimeWarning: An average reference projection was already added. The data has been left untouched.\n",
      "  epochs.set_eeg_reference(projection=True, verbose=verbose)#.apply_baseline(baseline=baseline)\n",
      "c:\\Users\\Lukas\\Documents\\projects\\esinet\\evaluate\\..\\esinet\\util\\util.py:420: RuntimeWarning: Too few samples (required : 310 got : 140), covariance estimate may be unreliable\n",
      "  data_cov = mne.compute_raw_covariance(raw, tmin=tmin,\n",
      "c:\\Users\\Lukas\\Documents\\projects\\esinet\\evaluate\\..\\esinet\\util\\util.py:388: RuntimeWarning: An average reference projection was already added. The data has been left untouched.\n",
      "  epochs.set_eeg_reference(projection=True, verbose=verbose)#.apply_baseline(baseline=baseline)\n",
      "c:\\Users\\Lukas\\Documents\\projects\\esinet\\evaluate\\..\\esinet\\util\\util.py:420: RuntimeWarning: Too few samples (required : 310 got : 160), covariance estimate may be unreliable\n",
      "  data_cov = mne.compute_raw_covariance(raw, tmin=tmin,\n",
      "c:\\Users\\Lukas\\Documents\\projects\\esinet\\evaluate\\..\\esinet\\util\\util.py:388: RuntimeWarning: An average reference projection was already added. The data has been left untouched.\n",
      "  epochs.set_eeg_reference(projection=True, verbose=verbose)#.apply_baseline(baseline=baseline)\n",
      "c:\\Users\\Lukas\\Documents\\projects\\esinet\\evaluate\\..\\esinet\\util\\util.py:420: RuntimeWarning: Too few samples (required : 310 got : 140), covariance estimate may be unreliable\n",
      "  data_cov = mne.compute_raw_covariance(raw, tmin=tmin,\n",
      "c:\\Users\\Lukas\\Documents\\projects\\esinet\\evaluate\\..\\esinet\\util\\util.py:388: RuntimeWarning: An average reference projection was already added. The data has been left untouched.\n",
      "  epochs.set_eeg_reference(projection=True, verbose=verbose)#.apply_baseline(baseline=baseline)\n"
     ]
    },
    {
     "name": "stdout",
     "output_type": "stream",
     "text": [
      "<RawArray | 61 x 551 (5.5 s), ~352 kB, data loaded> 4.0 info empirical\n",
      "<RawArray | 61 x 501 (5.0 s), ~329 kB, data loaded> 4.0 info empirical\n",
      "<RawArray | 61 x 513 (5.1 s), ~334 kB, data loaded> 4.0 info empirical\n",
      "<RawArray | 61 x 427 (4.3 s), ~293 kB, data loaded> 4.0 info empirical\n",
      "<RawArray | 61 x 585 (5.8 s), ~369 kB, data loaded> 4.0 info empirical\n"
     ]
    },
    {
     "name": "stderr",
     "output_type": "stream",
     "text": [
      "c:\\Users\\Lukas\\Documents\\projects\\esinet\\evaluate\\..\\esinet\\util\\util.py:420: RuntimeWarning: Too few samples (required : 310 got : 100), covariance estimate may be unreliable\n",
      "  data_cov = mne.compute_raw_covariance(raw, tmin=tmin,\n",
      "c:\\Users\\Lukas\\Documents\\projects\\esinet\\evaluate\\..\\esinet\\util\\util.py:388: RuntimeWarning: An average reference projection was already added. The data has been left untouched.\n",
      "  epochs.set_eeg_reference(projection=True, verbose=verbose)#.apply_baseline(baseline=baseline)\n",
      "c:\\Users\\Lukas\\Documents\\projects\\esinet\\evaluate\\..\\esinet\\util\\util.py:420: RuntimeWarning: Too few samples (required : 310 got : 100), covariance estimate may be unreliable\n",
      "  data_cov = mne.compute_raw_covariance(raw, tmin=tmin,\n",
      "c:\\Users\\Lukas\\Documents\\projects\\esinet\\evaluate\\..\\esinet\\util\\util.py:388: RuntimeWarning: An average reference projection was already added. The data has been left untouched.\n",
      "  epochs.set_eeg_reference(projection=True, verbose=verbose)#.apply_baseline(baseline=baseline)\n",
      "c:\\Users\\Lukas\\Documents\\projects\\esinet\\evaluate\\..\\esinet\\util\\util.py:420: RuntimeWarning: Too few samples (required : 310 got : 20), covariance estimate may be unreliable\n",
      "  data_cov = mne.compute_raw_covariance(raw, tmin=tmin,\n",
      "c:\\Users\\Lukas\\Documents\\projects\\esinet\\evaluate\\..\\esinet\\util\\util.py:388: RuntimeWarning: An average reference projection was already added. The data has been left untouched.\n",
      "  epochs.set_eeg_reference(projection=True, verbose=verbose)#.apply_baseline(baseline=baseline)\n",
      "c:\\Users\\Lukas\\Documents\\projects\\esinet\\evaluate\\..\\esinet\\util\\util.py:420: RuntimeWarning: Too few samples (required : 310 got : 180), covariance estimate may be unreliable\n",
      "  data_cov = mne.compute_raw_covariance(raw, tmin=tmin,\n",
      "c:\\Users\\Lukas\\Documents\\projects\\esinet\\evaluate\\..\\esinet\\util\\util.py:388: RuntimeWarning: An average reference projection was already added. The data has been left untouched.\n",
      "  epochs.set_eeg_reference(projection=True, verbose=verbose)#.apply_baseline(baseline=baseline)\n"
     ]
    },
    {
     "name": "stdout",
     "output_type": "stream",
     "text": [
      "<RawArray | 61 x 403 (4.0 s), ~282 kB, data loaded> 4.0 info empirical\n",
      "<RawArray | 61 x 410 (4.1 s), ~285 kB, data loaded> 4.0 info empirical\n",
      "<RawArray | 61 x 596 (6.0 s), ~374 kB, data loaded> 4.0 info empirical\n",
      "<RawArray | 61 x 481 (4.8 s), ~319 kB, data loaded> 4.0 info empirical\n"
     ]
    },
    {
     "name": "stderr",
     "output_type": "stream",
     "text": [
      "c:\\Users\\Lukas\\Documents\\projects\\esinet\\evaluate\\..\\esinet\\util\\util.py:423: RuntimeWarning: Epochs are not baseline corrected, covariance matrix may be inaccurate\n",
      "  data_cov = mne.compute_covariance(epochs, tmin=0.0,\n",
      "c:\\Users\\Lukas\\Documents\\projects\\esinet\\evaluate\\..\\esinet\\util\\util.py:423: RuntimeWarning: Too few samples (required : 310 got : 3), covariance estimate may be unreliable\n",
      "  data_cov = mne.compute_covariance(epochs, tmin=0.0,\n",
      "c:\\Users\\Lukas\\Documents\\projects\\esinet\\evaluate\\..\\esinet\\util\\util.py:388: RuntimeWarning: An average reference projection was already added. The data has been left untouched.\n",
      "  epochs.set_eeg_reference(projection=True, verbose=verbose)#.apply_baseline(baseline=baseline)\n",
      "c:\\Users\\Lukas\\Documents\\projects\\esinet\\evaluate\\..\\esinet\\util\\util.py:423: RuntimeWarning: Epochs are not baseline corrected, covariance matrix may be inaccurate\n",
      "  data_cov = mne.compute_covariance(epochs, tmin=0.0,\n",
      "c:\\Users\\Lukas\\Documents\\projects\\esinet\\evaluate\\..\\esinet\\util\\util.py:423: RuntimeWarning: Too few samples (required : 310 got : 10), covariance estimate may be unreliable\n",
      "  data_cov = mne.compute_covariance(epochs, tmin=0.0,\n",
      "c:\\Users\\Lukas\\Documents\\projects\\esinet\\evaluate\\..\\esinet\\util\\util.py:388: RuntimeWarning: An average reference projection was already added. The data has been left untouched.\n",
      "  epochs.set_eeg_reference(projection=True, verbose=verbose)#.apply_baseline(baseline=baseline)\n",
      "c:\\Users\\Lukas\\Documents\\projects\\esinet\\evaluate\\..\\esinet\\util\\util.py:420: RuntimeWarning: Too few samples (required : 310 got : 180), covariance estimate may be unreliable\n",
      "  data_cov = mne.compute_raw_covariance(raw, tmin=tmin,\n",
      "c:\\Users\\Lukas\\Documents\\projects\\esinet\\evaluate\\..\\esinet\\util\\util.py:388: RuntimeWarning: An average reference projection was already added. The data has been left untouched.\n",
      "  epochs.set_eeg_reference(projection=True, verbose=verbose)#.apply_baseline(baseline=baseline)\n",
      "c:\\Users\\Lukas\\Documents\\projects\\esinet\\evaluate\\..\\esinet\\util\\util.py:420: RuntimeWarning: Too few samples (required : 310 got : 80), covariance estimate may be unreliable\n",
      "  data_cov = mne.compute_raw_covariance(raw, tmin=tmin,\n",
      "c:\\Users\\Lukas\\Documents\\projects\\esinet\\evaluate\\..\\esinet\\util\\util.py:388: RuntimeWarning: An average reference projection was already added. The data has been left untouched.\n",
      "  epochs.set_eeg_reference(projection=True, verbose=verbose)#.apply_baseline(baseline=baseline)\n"
     ]
    },
    {
     "name": "stdout",
     "output_type": "stream",
     "text": [
      "<RawArray | 61 x 512 (5.1 s), ~334 kB, data loaded> 4.0 info empirical\n",
      "<RawArray | 61 x 407 (4.1 s), ~284 kB, data loaded> 4.0 info empirical\n",
      "<RawArray | 61 x 404 (4.0 s), ~282 kB, data loaded> 4.0 info empirical\n",
      "<RawArray | 61 x 496 (5.0 s), ~326 kB, data loaded> 4.0 info empirical\n"
     ]
    },
    {
     "name": "stderr",
     "output_type": "stream",
     "text": [
      "c:\\Users\\Lukas\\Documents\\projects\\esinet\\evaluate\\..\\esinet\\util\\util.py:420: RuntimeWarning: Too few samples (required : 310 got : 100), covariance estimate may be unreliable\n",
      "  data_cov = mne.compute_raw_covariance(raw, tmin=tmin,\n",
      "c:\\Users\\Lukas\\Documents\\projects\\esinet\\evaluate\\..\\esinet\\util\\util.py:388: RuntimeWarning: An average reference projection was already added. The data has been left untouched.\n",
      "  epochs.set_eeg_reference(projection=True, verbose=verbose)#.apply_baseline(baseline=baseline)\n",
      "c:\\Users\\Lukas\\Documents\\projects\\esinet\\evaluate\\..\\esinet\\util\\util.py:423: RuntimeWarning: Epochs are not baseline corrected, covariance matrix may be inaccurate\n",
      "  data_cov = mne.compute_covariance(epochs, tmin=0.0,\n",
      "c:\\Users\\Lukas\\Documents\\projects\\esinet\\evaluate\\..\\esinet\\util\\util.py:423: RuntimeWarning: Too few samples (required : 310 got : 7), covariance estimate may be unreliable\n",
      "  data_cov = mne.compute_covariance(epochs, tmin=0.0,\n",
      "c:\\Users\\Lukas\\Documents\\projects\\esinet\\evaluate\\..\\esinet\\util\\util.py:388: RuntimeWarning: An average reference projection was already added. The data has been left untouched.\n",
      "  epochs.set_eeg_reference(projection=True, verbose=verbose)#.apply_baseline(baseline=baseline)\n",
      "c:\\Users\\Lukas\\Documents\\projects\\esinet\\evaluate\\..\\esinet\\util\\util.py:423: RuntimeWarning: Epochs are not baseline corrected, covariance matrix may be inaccurate\n",
      "  data_cov = mne.compute_covariance(epochs, tmin=0.0,\n",
      "c:\\Users\\Lukas\\Documents\\projects\\esinet\\evaluate\\..\\esinet\\util\\util.py:423: RuntimeWarning: Too few samples (required : 310 got : 4), covariance estimate may be unreliable\n",
      "  data_cov = mne.compute_covariance(epochs, tmin=0.0,\n",
      "c:\\Users\\Lukas\\Documents\\projects\\esinet\\evaluate\\..\\esinet\\util\\util.py:388: RuntimeWarning: An average reference projection was already added. The data has been left untouched.\n",
      "  epochs.set_eeg_reference(projection=True, verbose=verbose)#.apply_baseline(baseline=baseline)\n",
      "c:\\Users\\Lukas\\Documents\\projects\\esinet\\evaluate\\..\\esinet\\util\\util.py:420: RuntimeWarning: Too few samples (required : 310 got : 80), covariance estimate may be unreliable\n",
      "  data_cov = mne.compute_raw_covariance(raw, tmin=tmin,\n"
     ]
    },
    {
     "name": "stdout",
     "output_type": "stream",
     "text": [
      "<RawArray | 61 x 483 (4.8 s), ~320 kB, data loaded> 4.0 info empirical\n",
      "<RawArray | 61 x 440 (4.4 s), ~299 kB, data loaded> 4.0 info empirical\n",
      "<RawArray | 61 x 538 (5.4 s), ~346 kB, data loaded> 4.0 info empirical\n",
      "<RawArray | 61 x 545 (5.4 s), ~350 kB, data loaded> 4.0 info empirical\n"
     ]
    },
    {
     "name": "stderr",
     "output_type": "stream",
     "text": [
      "c:\\Users\\Lukas\\Documents\\projects\\esinet\\evaluate\\..\\esinet\\util\\util.py:388: RuntimeWarning: An average reference projection was already added. The data has been left untouched.\n",
      "  epochs.set_eeg_reference(projection=True, verbose=verbose)#.apply_baseline(baseline=baseline)\n",
      "c:\\Users\\Lukas\\Documents\\projects\\esinet\\evaluate\\..\\esinet\\util\\util.py:420: RuntimeWarning: Too few samples (required : 310 got : 80), covariance estimate may be unreliable\n",
      "  data_cov = mne.compute_raw_covariance(raw, tmin=tmin,\n",
      "c:\\Users\\Lukas\\Documents\\projects\\esinet\\evaluate\\..\\esinet\\util\\util.py:388: RuntimeWarning: An average reference projection was already added. The data has been left untouched.\n",
      "  epochs.set_eeg_reference(projection=True, verbose=verbose)#.apply_baseline(baseline=baseline)\n",
      "c:\\Users\\Lukas\\Documents\\projects\\esinet\\evaluate\\..\\esinet\\util\\util.py:420: RuntimeWarning: Too few samples (required : 310 got : 40), covariance estimate may be unreliable\n",
      "  data_cov = mne.compute_raw_covariance(raw, tmin=tmin,\n",
      "c:\\Users\\Lukas\\Documents\\projects\\esinet\\evaluate\\..\\esinet\\util\\util.py:388: RuntimeWarning: An average reference projection was already added. The data has been left untouched.\n",
      "  epochs.set_eeg_reference(projection=True, verbose=verbose)#.apply_baseline(baseline=baseline)\n",
      "c:\\Users\\Lukas\\Documents\\projects\\esinet\\evaluate\\..\\esinet\\util\\util.py:420: RuntimeWarning: Too few samples (required : 310 got : 120), covariance estimate may be unreliable\n",
      "  data_cov = mne.compute_raw_covariance(raw, tmin=tmin,\n",
      "c:\\Users\\Lukas\\Documents\\projects\\esinet\\evaluate\\..\\esinet\\util\\util.py:388: RuntimeWarning: An average reference projection was already added. The data has been left untouched.\n",
      "  epochs.set_eeg_reference(projection=True, verbose=verbose)#.apply_baseline(baseline=baseline)\n",
      "c:\\Users\\Lukas\\Documents\\projects\\esinet\\evaluate\\..\\esinet\\util\\util.py:420: RuntimeWarning: Too few samples (required : 310 got : 140), covariance estimate may be unreliable\n",
      "  data_cov = mne.compute_raw_covariance(raw, tmin=tmin,\n",
      "c:\\Users\\Lukas\\Documents\\projects\\esinet\\evaluate\\..\\esinet\\util\\util.py:388: RuntimeWarning: An average reference projection was already added. The data has been left untouched.\n",
      "  epochs.set_eeg_reference(projection=True, verbose=verbose)#.apply_baseline(baseline=baseline)\n"
     ]
    },
    {
     "name": "stdout",
     "output_type": "stream",
     "text": [
      "<RawArray | 61 x 567 (5.7 s), ~360 kB, data loaded> 4.0 info empirical\n",
      "<RawArray | 61 x 435 (4.3 s), ~297 kB, data loaded> 4.0 info empirical\n",
      "<RawArray | 61 x 538 (5.4 s), ~346 kB, data loaded> 4.0 info empirical\n",
      "<RawArray | 61 x 518 (5.2 s), ~337 kB, data loaded> 4.0 info empirical\n",
      "<RawArray | 61 x 442 (4.4 s), ~300 kB, data loaded> 4.0 info empirical\n"
     ]
    },
    {
     "name": "stderr",
     "output_type": "stream",
     "text": [
      "c:\\Users\\Lukas\\Documents\\projects\\esinet\\evaluate\\..\\esinet\\util\\util.py:420: RuntimeWarning: Too few samples (required : 310 got : 160), covariance estimate may be unreliable\n",
      "  data_cov = mne.compute_raw_covariance(raw, tmin=tmin,\n",
      "c:\\Users\\Lukas\\Documents\\projects\\esinet\\evaluate\\..\\esinet\\util\\util.py:388: RuntimeWarning: An average reference projection was already added. The data has been left untouched.\n",
      "  epochs.set_eeg_reference(projection=True, verbose=verbose)#.apply_baseline(baseline=baseline)\n",
      "c:\\Users\\Lukas\\Documents\\projects\\esinet\\evaluate\\..\\esinet\\util\\util.py:420: RuntimeWarning: Too few samples (required : 310 got : 20), covariance estimate may be unreliable\n",
      "  data_cov = mne.compute_raw_covariance(raw, tmin=tmin,\n",
      "c:\\Users\\Lukas\\Documents\\projects\\esinet\\evaluate\\..\\esinet\\util\\util.py:388: RuntimeWarning: An average reference projection was already added. The data has been left untouched.\n",
      "  epochs.set_eeg_reference(projection=True, verbose=verbose)#.apply_baseline(baseline=baseline)\n",
      "c:\\Users\\Lukas\\Documents\\projects\\esinet\\evaluate\\..\\esinet\\util\\util.py:420: RuntimeWarning: Too few samples (required : 310 got : 120), covariance estimate may be unreliable\n",
      "  data_cov = mne.compute_raw_covariance(raw, tmin=tmin,\n",
      "c:\\Users\\Lukas\\Documents\\projects\\esinet\\evaluate\\..\\esinet\\util\\util.py:388: RuntimeWarning: An average reference projection was already added. The data has been left untouched.\n",
      "  epochs.set_eeg_reference(projection=True, verbose=verbose)#.apply_baseline(baseline=baseline)\n",
      "c:\\Users\\Lukas\\Documents\\projects\\esinet\\evaluate\\..\\esinet\\util\\util.py:420: RuntimeWarning: Too few samples (required : 310 got : 100), covariance estimate may be unreliable\n",
      "  data_cov = mne.compute_raw_covariance(raw, tmin=tmin,\n",
      "c:\\Users\\Lukas\\Documents\\projects\\esinet\\evaluate\\..\\esinet\\util\\util.py:388: RuntimeWarning: An average reference projection was already added. The data has been left untouched.\n",
      "  epochs.set_eeg_reference(projection=True, verbose=verbose)#.apply_baseline(baseline=baseline)\n",
      "c:\\Users\\Lukas\\Documents\\projects\\esinet\\evaluate\\..\\esinet\\util\\util.py:420: RuntimeWarning: Too few samples (required : 310 got : 40), covariance estimate may be unreliable\n",
      "  data_cov = mne.compute_raw_covariance(raw, tmin=tmin,\n",
      "c:\\Users\\Lukas\\Documents\\projects\\esinet\\evaluate\\..\\esinet\\util\\util.py:388: RuntimeWarning: An average reference projection was already added. The data has been left untouched.\n",
      "  epochs.set_eeg_reference(projection=True, verbose=verbose)#.apply_baseline(baseline=baseline)\n",
      "c:\\Users\\Lukas\\Documents\\projects\\esinet\\evaluate\\..\\esinet\\util\\util.py:423: RuntimeWarning: Epochs are not baseline corrected, covariance matrix may be inaccurate\n",
      "  data_cov = mne.compute_covariance(epochs, tmin=0.0,\n",
      "c:\\Users\\Lukas\\Documents\\projects\\esinet\\evaluate\\..\\esinet\\util\\util.py:423: RuntimeWarning: Too few samples (required : 310 got : 5), covariance estimate may be unreliable\n",
      "  data_cov = mne.compute_covariance(epochs, tmin=0.0,\n",
      "c:\\Users\\Lukas\\Documents\\projects\\esinet\\evaluate\\..\\esinet\\util\\util.py:388: RuntimeWarning: An average reference projection was already added. The data has been left untouched.\n",
      "  epochs.set_eeg_reference(projection=True, verbose=verbose)#.apply_baseline(baseline=baseline)\n",
      "c:\\Users\\Lukas\\Documents\\projects\\esinet\\evaluate\\..\\esinet\\util\\util.py:423: RuntimeWarning: Epochs are not baseline corrected, covariance matrix may be inaccurate\n",
      "  data_cov = mne.compute_covariance(epochs, tmin=0.0,\n",
      "c:\\Users\\Lukas\\Documents\\projects\\esinet\\evaluate\\..\\esinet\\util\\util.py:423: RuntimeWarning: Too few samples (required : 310 got : 1), covariance estimate may be unreliable\n",
      "  data_cov = mne.compute_covariance(epochs, tmin=0.0,\n",
      "C:\\Users\\Lukas\\Envs\\esienv\\lib\\site-packages\\mne\\fixes.py:550: UserWarning: Only one sample available. You may want to reshape your data array\n",
      "  warnings.warn(\"Only one sample available. \"\n",
      "c:\\Users\\Lukas\\Documents\\projects\\esinet\\evaluate\\..\\esinet\\util\\util.py:388: RuntimeWarning: An average reference projection was already added. The data has been left untouched.\n",
      "  epochs.set_eeg_reference(projection=True, verbose=verbose)#.apply_baseline(baseline=baseline)\n",
      "c:\\Users\\Lukas\\Documents\\projects\\esinet\\evaluate\\..\\esinet\\util\\util.py:420: RuntimeWarning: Too few samples (required : 310 got : 100), covariance estimate may be unreliable\n",
      "  data_cov = mne.compute_raw_covariance(raw, tmin=tmin,\n",
      "c:\\Users\\Lukas\\Documents\\projects\\esinet\\evaluate\\..\\esinet\\util\\util.py:388: RuntimeWarning: An average reference projection was already added. The data has been left untouched.\n",
      "  epochs.set_eeg_reference(projection=True, verbose=verbose)#.apply_baseline(baseline=baseline)\n",
      "c:\\Users\\Lukas\\Documents\\projects\\esinet\\evaluate\\..\\esinet\\util\\util.py:423: RuntimeWarning: Epochs are not baseline corrected, covariance matrix may be inaccurate\n",
      "  data_cov = mne.compute_covariance(epochs, tmin=0.0,\n",
      "c:\\Users\\Lukas\\Documents\\projects\\esinet\\evaluate\\..\\esinet\\util\\util.py:423: RuntimeWarning: Too few samples (required : 310 got : 4), covariance estimate may be unreliable\n",
      "  data_cov = mne.compute_covariance(epochs, tmin=0.0,\n"
     ]
    },
    {
     "name": "stdout",
     "output_type": "stream",
     "text": [
      "<RawArray | 61 x 405 (4.0 s), ~283 kB, data loaded> 4.0 info empirical\n",
      "<RawArray | 61 x 401 (4.0 s), ~281 kB, data loaded> 4.0 info empirical\n",
      "lcmv didnt work, returning zeros\n",
      "<RawArray | 61 x 513 (5.1 s), ~334 kB, data loaded> 4.0 info empirical\n",
      "<RawArray | 61 x 404 (4.0 s), ~282 kB, data loaded> 4.0 info empirical\n",
      "<RawArray | 61 x 410 (4.1 s), ~285 kB, data loaded> 4.0 info empirical\n"
     ]
    },
    {
     "name": "stderr",
     "output_type": "stream",
     "text": [
      "c:\\Users\\Lukas\\Documents\\projects\\esinet\\evaluate\\..\\esinet\\util\\util.py:388: RuntimeWarning: An average reference projection was already added. The data has been left untouched.\n",
      "  epochs.set_eeg_reference(projection=True, verbose=verbose)#.apply_baseline(baseline=baseline)\n",
      "c:\\Users\\Lukas\\Documents\\projects\\esinet\\evaluate\\..\\esinet\\util\\util.py:423: RuntimeWarning: Epochs are not baseline corrected, covariance matrix may be inaccurate\n",
      "  data_cov = mne.compute_covariance(epochs, tmin=0.0,\n",
      "c:\\Users\\Lukas\\Documents\\projects\\esinet\\evaluate\\..\\esinet\\util\\util.py:423: RuntimeWarning: Too few samples (required : 310 got : 10), covariance estimate may be unreliable\n",
      "  data_cov = mne.compute_covariance(epochs, tmin=0.0,\n",
      "c:\\Users\\Lukas\\Documents\\projects\\esinet\\evaluate\\..\\esinet\\util\\util.py:388: RuntimeWarning: An average reference projection was already added. The data has been left untouched.\n",
      "  epochs.set_eeg_reference(projection=True, verbose=verbose)#.apply_baseline(baseline=baseline)\n",
      "c:\\Users\\Lukas\\Documents\\projects\\esinet\\evaluate\\..\\esinet\\util\\util.py:420: RuntimeWarning: Too few samples (required : 310 got : 60), covariance estimate may be unreliable\n",
      "  data_cov = mne.compute_raw_covariance(raw, tmin=tmin,\n",
      "c:\\Users\\Lukas\\Documents\\projects\\esinet\\evaluate\\..\\esinet\\util\\util.py:388: RuntimeWarning: An average reference projection was already added. The data has been left untouched.\n",
      "  epochs.set_eeg_reference(projection=True, verbose=verbose)#.apply_baseline(baseline=baseline)\n",
      "c:\\Users\\Lukas\\Documents\\projects\\esinet\\evaluate\\..\\esinet\\util\\util.py:420: RuntimeWarning: Too few samples (required : 310 got : 20), covariance estimate may be unreliable\n",
      "  data_cov = mne.compute_raw_covariance(raw, tmin=tmin,\n",
      "c:\\Users\\Lukas\\Documents\\projects\\esinet\\evaluate\\..\\esinet\\util\\util.py:388: RuntimeWarning: An average reference projection was already added. The data has been left untouched.\n",
      "  epochs.set_eeg_reference(projection=True, verbose=verbose)#.apply_baseline(baseline=baseline)\n",
      "c:\\Users\\Lukas\\Documents\\projects\\esinet\\evaluate\\..\\esinet\\util\\util.py:420: RuntimeWarning: Too few samples (required : 310 got : 20), covariance estimate may be unreliable\n",
      "  data_cov = mne.compute_raw_covariance(raw, tmin=tmin,\n",
      "c:\\Users\\Lukas\\Documents\\projects\\esinet\\evaluate\\..\\esinet\\util\\util.py:388: RuntimeWarning: An average reference projection was already added. The data has been left untouched.\n",
      "  epochs.set_eeg_reference(projection=True, verbose=verbose)#.apply_baseline(baseline=baseline)\n"
     ]
    },
    {
     "name": "stdout",
     "output_type": "stream",
     "text": [
      "<RawArray | 61 x 470 (4.7 s), ~314 kB, data loaded> 4.0 info empirical\n",
      "<RawArray | 61 x 436 (4.3 s), ~298 kB, data loaded> 4.0 info empirical\n",
      "<RawArray | 61 x 428 (4.3 s), ~294 kB, data loaded> 4.0 info empirical\n",
      "<RawArray | 61 x 522 (5.2 s), ~339 kB, data loaded> 4.0 info empirical\n"
     ]
    },
    {
     "name": "stderr",
     "output_type": "stream",
     "text": [
      "c:\\Users\\Lukas\\Documents\\projects\\esinet\\evaluate\\..\\esinet\\util\\util.py:420: RuntimeWarning: Too few samples (required : 310 got : 120), covariance estimate may be unreliable\n",
      "  data_cov = mne.compute_raw_covariance(raw, tmin=tmin,\n",
      "c:\\Users\\Lukas\\Documents\\projects\\esinet\\evaluate\\..\\esinet\\util\\util.py:388: RuntimeWarning: An average reference projection was already added. The data has been left untouched.\n",
      "  epochs.set_eeg_reference(projection=True, verbose=verbose)#.apply_baseline(baseline=baseline)\n",
      "c:\\Users\\Lukas\\Documents\\projects\\esinet\\evaluate\\..\\esinet\\util\\util.py:420: RuntimeWarning: Too few samples (required : 310 got : 100), covariance estimate may be unreliable\n",
      "  data_cov = mne.compute_raw_covariance(raw, tmin=tmin,\n",
      "c:\\Users\\Lukas\\Documents\\projects\\esinet\\evaluate\\..\\esinet\\util\\util.py:388: RuntimeWarning: An average reference projection was already added. The data has been left untouched.\n",
      "  epochs.set_eeg_reference(projection=True, verbose=verbose)#.apply_baseline(baseline=baseline)\n",
      "c:\\Users\\Lukas\\Documents\\projects\\esinet\\evaluate\\..\\esinet\\util\\util.py:420: RuntimeWarning: Too few samples (required : 310 got : 80), covariance estimate may be unreliable\n",
      "  data_cov = mne.compute_raw_covariance(raw, tmin=tmin,\n",
      "c:\\Users\\Lukas\\Documents\\projects\\esinet\\evaluate\\..\\esinet\\util\\util.py:388: RuntimeWarning: An average reference projection was already added. The data has been left untouched.\n",
      "  epochs.set_eeg_reference(projection=True, verbose=verbose)#.apply_baseline(baseline=baseline)\n",
      "c:\\Users\\Lukas\\Documents\\projects\\esinet\\evaluate\\..\\esinet\\util\\util.py:420: RuntimeWarning: Too few samples (required : 310 got : 100), covariance estimate may be unreliable\n",
      "  data_cov = mne.compute_raw_covariance(raw, tmin=tmin,\n"
     ]
    },
    {
     "name": "stdout",
     "output_type": "stream",
     "text": [
      "<RawArray | 61 x 511 (5.1 s), ~333 kB, data loaded> 4.0 info empirical\n",
      "<RawArray | 61 x 496 (5.0 s), ~326 kB, data loaded> 4.0 info empirical\n",
      "<RawArray | 61 x 504 (5.0 s), ~330 kB, data loaded> 4.0 info empirical\n",
      "<RawArray | 61 x 508 (5.1 s), ~332 kB, data loaded> 4.0 info empirical\n",
      "<RawArray | 61 x 580 (5.8 s), ~366 kB, data loaded> 4.0 info empirical\n"
     ]
    },
    {
     "name": "stderr",
     "output_type": "stream",
     "text": [
      "c:\\Users\\Lukas\\Documents\\projects\\esinet\\evaluate\\..\\esinet\\util\\util.py:388: RuntimeWarning: An average reference projection was already added. The data has been left untouched.\n",
      "  epochs.set_eeg_reference(projection=True, verbose=verbose)#.apply_baseline(baseline=baseline)\n",
      "c:\\Users\\Lukas\\Documents\\projects\\esinet\\evaluate\\..\\esinet\\util\\util.py:420: RuntimeWarning: Too few samples (required : 310 got : 100), covariance estimate may be unreliable\n",
      "  data_cov = mne.compute_raw_covariance(raw, tmin=tmin,\n",
      "c:\\Users\\Lukas\\Documents\\projects\\esinet\\evaluate\\..\\esinet\\util\\util.py:388: RuntimeWarning: An average reference projection was already added. The data has been left untouched.\n",
      "  epochs.set_eeg_reference(projection=True, verbose=verbose)#.apply_baseline(baseline=baseline)\n",
      "c:\\Users\\Lukas\\Documents\\projects\\esinet\\evaluate\\..\\esinet\\util\\util.py:420: RuntimeWarning: Too few samples (required : 310 got : 180), covariance estimate may be unreliable\n",
      "  data_cov = mne.compute_raw_covariance(raw, tmin=tmin,\n",
      "c:\\Users\\Lukas\\Documents\\projects\\esinet\\evaluate\\..\\esinet\\util\\util.py:388: RuntimeWarning: An average reference projection was already added. The data has been left untouched.\n",
      "  epochs.set_eeg_reference(projection=True, verbose=verbose)#.apply_baseline(baseline=baseline)\n",
      "c:\\Users\\Lukas\\Documents\\projects\\esinet\\evaluate\\..\\esinet\\util\\util.py:420: RuntimeWarning: Too few samples (required : 310 got : 140), covariance estimate may be unreliable\n",
      "  data_cov = mne.compute_raw_covariance(raw, tmin=tmin,\n",
      "c:\\Users\\Lukas\\Documents\\projects\\esinet\\evaluate\\..\\esinet\\util\\util.py:388: RuntimeWarning: An average reference projection was already added. The data has been left untouched.\n",
      "  epochs.set_eeg_reference(projection=True, verbose=verbose)#.apply_baseline(baseline=baseline)\n",
      "c:\\Users\\Lukas\\Documents\\projects\\esinet\\evaluate\\..\\esinet\\util\\util.py:420: RuntimeWarning: Too few samples (required : 310 got : 180), covariance estimate may be unreliable\n",
      "  data_cov = mne.compute_raw_covariance(raw, tmin=tmin,\n",
      "c:\\Users\\Lukas\\Documents\\projects\\esinet\\evaluate\\..\\esinet\\util\\util.py:388: RuntimeWarning: An average reference projection was already added. The data has been left untouched.\n",
      "  epochs.set_eeg_reference(projection=True, verbose=verbose)#.apply_baseline(baseline=baseline)\n"
     ]
    },
    {
     "name": "stdout",
     "output_type": "stream",
     "text": [
      "<RawArray | 61 x 559 (5.6 s), ~356 kB, data loaded> 4.0 info empirical\n",
      "<RawArray | 61 x 584 (5.8 s), ~368 kB, data loaded> 4.0 info empirical\n",
      "<RawArray | 61 x 579 (5.8 s), ~366 kB, data loaded> 4.0 info empirical\n",
      "<RawArray | 61 x 576 (5.8 s), ~364 kB, data loaded> 4.0 info empirical\n"
     ]
    },
    {
     "name": "stderr",
     "output_type": "stream",
     "text": [
      "c:\\Users\\Lukas\\Documents\\projects\\esinet\\evaluate\\..\\esinet\\util\\util.py:420: RuntimeWarning: Too few samples (required : 310 got : 160), covariance estimate may be unreliable\n",
      "  data_cov = mne.compute_raw_covariance(raw, tmin=tmin,\n",
      "c:\\Users\\Lukas\\Documents\\projects\\esinet\\evaluate\\..\\esinet\\util\\util.py:388: RuntimeWarning: An average reference projection was already added. The data has been left untouched.\n",
      "  epochs.set_eeg_reference(projection=True, verbose=verbose)#.apply_baseline(baseline=baseline)\n",
      "c:\\Users\\Lukas\\Documents\\projects\\esinet\\evaluate\\..\\esinet\\util\\util.py:420: RuntimeWarning: Too few samples (required : 310 got : 160), covariance estimate may be unreliable\n",
      "  data_cov = mne.compute_raw_covariance(raw, tmin=tmin,\n",
      "c:\\Users\\Lukas\\Documents\\projects\\esinet\\evaluate\\..\\esinet\\util\\util.py:388: RuntimeWarning: An average reference projection was already added. The data has been left untouched.\n",
      "  epochs.set_eeg_reference(projection=True, verbose=verbose)#.apply_baseline(baseline=baseline)\n",
      "c:\\Users\\Lukas\\Documents\\projects\\esinet\\evaluate\\..\\esinet\\util\\util.py:420: RuntimeWarning: Too few samples (required : 310 got : 120), covariance estimate may be unreliable\n",
      "  data_cov = mne.compute_raw_covariance(raw, tmin=tmin,\n",
      "c:\\Users\\Lukas\\Documents\\projects\\esinet\\evaluate\\..\\esinet\\util\\util.py:388: RuntimeWarning: An average reference projection was already added. The data has been left untouched.\n",
      "  epochs.set_eeg_reference(projection=True, verbose=verbose)#.apply_baseline(baseline=baseline)\n",
      "c:\\Users\\Lukas\\Documents\\projects\\esinet\\evaluate\\..\\esinet\\util\\util.py:420: RuntimeWarning: Too few samples (required : 310 got : 20), covariance estimate may be unreliable\n",
      "  data_cov = mne.compute_raw_covariance(raw, tmin=tmin,\n",
      "c:\\Users\\Lukas\\Documents\\projects\\esinet\\evaluate\\..\\esinet\\util\\util.py:388: RuntimeWarning: An average reference projection was already added. The data has been left untouched.\n",
      "  epochs.set_eeg_reference(projection=True, verbose=verbose)#.apply_baseline(baseline=baseline)\n"
     ]
    },
    {
     "name": "stdout",
     "output_type": "stream",
     "text": [
      "<RawArray | 61 x 532 (5.3 s), ~343 kB, data loaded> 4.0 info empirical\n",
      "<RawArray | 61 x 421 (4.2 s), ~290 kB, data loaded> 4.0 info empirical\n",
      "<RawArray | 61 x 508 (5.1 s), ~332 kB, data loaded> 4.0 info empirical\n",
      "<RawArray | 61 x 515 (5.1 s), ~335 kB, data loaded> 4.0 info empirical\n"
     ]
    },
    {
     "name": "stderr",
     "output_type": "stream",
     "text": [
      "c:\\Users\\Lukas\\Documents\\projects\\esinet\\evaluate\\..\\esinet\\util\\util.py:420: RuntimeWarning: Too few samples (required : 310 got : 100), covariance estimate may be unreliable\n",
      "  data_cov = mne.compute_raw_covariance(raw, tmin=tmin,\n",
      "c:\\Users\\Lukas\\Documents\\projects\\esinet\\evaluate\\..\\esinet\\util\\util.py:388: RuntimeWarning: An average reference projection was already added. The data has been left untouched.\n",
      "  epochs.set_eeg_reference(projection=True, verbose=verbose)#.apply_baseline(baseline=baseline)\n",
      "c:\\Users\\Lukas\\Documents\\projects\\esinet\\evaluate\\..\\esinet\\util\\util.py:420: RuntimeWarning: Too few samples (required : 310 got : 100), covariance estimate may be unreliable\n",
      "  data_cov = mne.compute_raw_covariance(raw, tmin=tmin,\n",
      "c:\\Users\\Lukas\\Documents\\projects\\esinet\\evaluate\\..\\esinet\\util\\util.py:388: RuntimeWarning: An average reference projection was already added. The data has been left untouched.\n",
      "  epochs.set_eeg_reference(projection=True, verbose=verbose)#.apply_baseline(baseline=baseline)\n",
      "c:\\Users\\Lukas\\Documents\\projects\\esinet\\evaluate\\..\\esinet\\util\\util.py:420: RuntimeWarning: Too few samples (required : 310 got : 160), covariance estimate may be unreliable\n",
      "  data_cov = mne.compute_raw_covariance(raw, tmin=tmin,\n",
      "c:\\Users\\Lukas\\Documents\\projects\\esinet\\evaluate\\..\\esinet\\util\\util.py:388: RuntimeWarning: An average reference projection was already added. The data has been left untouched.\n",
      "  epochs.set_eeg_reference(projection=True, verbose=verbose)#.apply_baseline(baseline=baseline)\n",
      "c:\\Users\\Lukas\\Documents\\projects\\esinet\\evaluate\\..\\esinet\\util\\util.py:423: RuntimeWarning: Epochs are not baseline corrected, covariance matrix may be inaccurate\n",
      "  data_cov = mne.compute_covariance(epochs, tmin=0.0,\n",
      "c:\\Users\\Lukas\\Documents\\projects\\esinet\\evaluate\\..\\esinet\\util\\util.py:423: RuntimeWarning: Too few samples (required : 310 got : 8), covariance estimate may be unreliable\n",
      "  data_cov = mne.compute_covariance(epochs, tmin=0.0,\n",
      "c:\\Users\\Lukas\\Documents\\projects\\esinet\\evaluate\\..\\esinet\\util\\util.py:388: RuntimeWarning: An average reference projection was already added. The data has been left untouched.\n",
      "  epochs.set_eeg_reference(projection=True, verbose=verbose)#.apply_baseline(baseline=baseline)\n"
     ]
    },
    {
     "name": "stdout",
     "output_type": "stream",
     "text": [
      "<RawArray | 61 x 571 (5.7 s), ~362 kB, data loaded> 4.0 info empirical\n",
      "<RawArray | 61 x 408 (4.1 s), ~284 kB, data loaded> 4.0 info empirical\n",
      "<RawArray | 61 x 482 (4.8 s), ~320 kB, data loaded> 4.0 info empirical\n",
      "<RawArray | 61 x 541 (5.4 s), ~348 kB, data loaded> 4.0 info empirical\n"
     ]
    },
    {
     "name": "stderr",
     "output_type": "stream",
     "text": [
      "c:\\Users\\Lukas\\Documents\\projects\\esinet\\evaluate\\..\\esinet\\util\\util.py:420: RuntimeWarning: Too few samples (required : 310 got : 80), covariance estimate may be unreliable\n",
      "  data_cov = mne.compute_raw_covariance(raw, tmin=tmin,\n",
      "c:\\Users\\Lukas\\Documents\\projects\\esinet\\evaluate\\..\\esinet\\util\\util.py:388: RuntimeWarning: An average reference projection was already added. The data has been left untouched.\n",
      "  epochs.set_eeg_reference(projection=True, verbose=verbose)#.apply_baseline(baseline=baseline)\n",
      "c:\\Users\\Lukas\\Documents\\projects\\esinet\\evaluate\\..\\esinet\\util\\util.py:420: RuntimeWarning: Too few samples (required : 310 got : 140), covariance estimate may be unreliable\n",
      "  data_cov = mne.compute_raw_covariance(raw, tmin=tmin,\n",
      "c:\\Users\\Lukas\\Documents\\projects\\esinet\\evaluate\\..\\esinet\\util\\util.py:388: RuntimeWarning: An average reference projection was already added. The data has been left untouched.\n",
      "  epochs.set_eeg_reference(projection=True, verbose=verbose)#.apply_baseline(baseline=baseline)\n",
      "c:\\Users\\Lukas\\Documents\\projects\\esinet\\evaluate\\..\\esinet\\util\\util.py:420: RuntimeWarning: Too few samples (required : 310 got : 140), covariance estimate may be unreliable\n",
      "  data_cov = mne.compute_raw_covariance(raw, tmin=tmin,\n",
      "c:\\Users\\Lukas\\Documents\\projects\\esinet\\evaluate\\..\\esinet\\util\\util.py:388: RuntimeWarning: An average reference projection was already added. The data has been left untouched.\n",
      "  epochs.set_eeg_reference(projection=True, verbose=verbose)#.apply_baseline(baseline=baseline)\n",
      "c:\\Users\\Lukas\\Documents\\projects\\esinet\\evaluate\\..\\esinet\\util\\util.py:420: RuntimeWarning: Too few samples (required : 310 got : 20), covariance estimate may be unreliable\n",
      "  data_cov = mne.compute_raw_covariance(raw, tmin=tmin,\n",
      "c:\\Users\\Lukas\\Documents\\projects\\esinet\\evaluate\\..\\esinet\\util\\util.py:388: RuntimeWarning: An average reference projection was already added. The data has been left untouched.\n",
      "  epochs.set_eeg_reference(projection=True, verbose=verbose)#.apply_baseline(baseline=baseline)\n"
     ]
    },
    {
     "name": "stdout",
     "output_type": "stream",
     "text": [
      "<RawArray | 61 x 544 (5.4 s), ~349 kB, data loaded> 4.0 info empirical\n",
      "<RawArray | 61 x 434 (4.3 s), ~297 kB, data loaded> 4.0 info empirical\n",
      "<RawArray | 61 x 527 (5.3 s), ~341 kB, data loaded> 4.0 info empirical\n",
      "<RawArray | 61 x 531 (5.3 s), ~343 kB, data loaded> 4.0 info empirical\n"
     ]
    },
    {
     "name": "stderr",
     "output_type": "stream",
     "text": [
      "c:\\Users\\Lukas\\Documents\\projects\\esinet\\evaluate\\..\\esinet\\util\\util.py:420: RuntimeWarning: Too few samples (required : 310 got : 120), covariance estimate may be unreliable\n",
      "  data_cov = mne.compute_raw_covariance(raw, tmin=tmin,\n",
      "c:\\Users\\Lukas\\Documents\\projects\\esinet\\evaluate\\..\\esinet\\util\\util.py:388: RuntimeWarning: An average reference projection was already added. The data has been left untouched.\n",
      "  epochs.set_eeg_reference(projection=True, verbose=verbose)#.apply_baseline(baseline=baseline)\n",
      "c:\\Users\\Lukas\\Documents\\projects\\esinet\\evaluate\\..\\esinet\\util\\util.py:420: RuntimeWarning: Too few samples (required : 310 got : 120), covariance estimate may be unreliable\n",
      "  data_cov = mne.compute_raw_covariance(raw, tmin=tmin,\n",
      "c:\\Users\\Lukas\\Documents\\projects\\esinet\\evaluate\\..\\esinet\\util\\util.py:388: RuntimeWarning: An average reference projection was already added. The data has been left untouched.\n",
      "  epochs.set_eeg_reference(projection=True, verbose=verbose)#.apply_baseline(baseline=baseline)\n",
      "c:\\Users\\Lukas\\Documents\\projects\\esinet\\evaluate\\..\\esinet\\util\\util.py:420: RuntimeWarning: Too few samples (required : 310 got : 180), covariance estimate may be unreliable\n",
      "  data_cov = mne.compute_raw_covariance(raw, tmin=tmin,\n",
      "c:\\Users\\Lukas\\Documents\\projects\\esinet\\evaluate\\..\\esinet\\util\\util.py:388: RuntimeWarning: An average reference projection was already added. The data has been left untouched.\n",
      "  epochs.set_eeg_reference(projection=True, verbose=verbose)#.apply_baseline(baseline=baseline)\n",
      "c:\\Users\\Lukas\\Documents\\projects\\esinet\\evaluate\\..\\esinet\\util\\util.py:420: RuntimeWarning: Too few samples (required : 310 got : 180), covariance estimate may be unreliable\n",
      "  data_cov = mne.compute_raw_covariance(raw, tmin=tmin,\n",
      "c:\\Users\\Lukas\\Documents\\projects\\esinet\\evaluate\\..\\esinet\\util\\util.py:388: RuntimeWarning: An average reference projection was already added. The data has been left untouched.\n",
      "  epochs.set_eeg_reference(projection=True, verbose=verbose)#.apply_baseline(baseline=baseline)\n"
     ]
    },
    {
     "name": "stdout",
     "output_type": "stream",
     "text": [
      "<RawArray | 61 x 580 (5.8 s), ~366 kB, data loaded> 4.0 info empirical\n",
      "<RawArray | 61 x 594 (5.9 s), ~373 kB, data loaded> 4.0 info empirical\n",
      "<RawArray | 61 x 579 (5.8 s), ~366 kB, data loaded> 4.0 info empirical\n",
      "<RawArray | 61 x 590 (5.9 s), ~371 kB, data loaded> 4.0 info empirical\n"
     ]
    },
    {
     "name": "stderr",
     "output_type": "stream",
     "text": [
      "c:\\Users\\Lukas\\Documents\\projects\\esinet\\evaluate\\..\\esinet\\util\\util.py:420: RuntimeWarning: Too few samples (required : 310 got : 160), covariance estimate may be unreliable\n",
      "  data_cov = mne.compute_raw_covariance(raw, tmin=tmin,\n",
      "c:\\Users\\Lukas\\Documents\\projects\\esinet\\evaluate\\..\\esinet\\util\\util.py:388: RuntimeWarning: An average reference projection was already added. The data has been left untouched.\n",
      "  epochs.set_eeg_reference(projection=True, verbose=verbose)#.apply_baseline(baseline=baseline)\n",
      "c:\\Users\\Lukas\\Documents\\projects\\esinet\\evaluate\\..\\esinet\\util\\util.py:420: RuntimeWarning: Too few samples (required : 310 got : 180), covariance estimate may be unreliable\n",
      "  data_cov = mne.compute_raw_covariance(raw, tmin=tmin,\n",
      "c:\\Users\\Lukas\\Documents\\projects\\esinet\\evaluate\\..\\esinet\\util\\util.py:388: RuntimeWarning: An average reference projection was already added. The data has been left untouched.\n",
      "  epochs.set_eeg_reference(projection=True, verbose=verbose)#.apply_baseline(baseline=baseline)\n",
      "c:\\Users\\Lukas\\Documents\\projects\\esinet\\evaluate\\..\\esinet\\util\\util.py:420: RuntimeWarning: Too few samples (required : 310 got : 120), covariance estimate may be unreliable\n",
      "  data_cov = mne.compute_raw_covariance(raw, tmin=tmin,\n",
      "c:\\Users\\Lukas\\Documents\\projects\\esinet\\evaluate\\..\\esinet\\util\\util.py:388: RuntimeWarning: An average reference projection was already added. The data has been left untouched.\n",
      "  epochs.set_eeg_reference(projection=True, verbose=verbose)#.apply_baseline(baseline=baseline)\n",
      "c:\\Users\\Lukas\\Documents\\projects\\esinet\\evaluate\\..\\esinet\\util\\util.py:420: RuntimeWarning: Too few samples (required : 310 got : 80), covariance estimate may be unreliable\n",
      "  data_cov = mne.compute_raw_covariance(raw, tmin=tmin,\n"
     ]
    },
    {
     "name": "stdout",
     "output_type": "stream",
     "text": [
      "<RawArray | 61 x 522 (5.2 s), ~339 kB, data loaded> 4.0 info empirical\n",
      "<RawArray | 61 x 499 (5.0 s), ~328 kB, data loaded> 4.0 info empirical\n",
      "<RawArray | 61 x 431 (4.3 s), ~295 kB, data loaded> 4.0 info empirical\n",
      "<RawArray | 61 x 437 (4.4 s), ~298 kB, data loaded> 4.0 info empirical\n",
      "<RawArray | 61 x 487 (4.9 s), ~322 kB, data loaded> 4.0 info empirical\n"
     ]
    },
    {
     "name": "stderr",
     "output_type": "stream",
     "text": [
      "c:\\Users\\Lukas\\Documents\\projects\\esinet\\evaluate\\..\\esinet\\util\\util.py:388: RuntimeWarning: An average reference projection was already added. The data has been left untouched.\n",
      "  epochs.set_eeg_reference(projection=True, verbose=verbose)#.apply_baseline(baseline=baseline)\n",
      "c:\\Users\\Lukas\\Documents\\projects\\esinet\\evaluate\\..\\esinet\\util\\util.py:420: RuntimeWarning: Too few samples (required : 310 got : 20), covariance estimate may be unreliable\n",
      "  data_cov = mne.compute_raw_covariance(raw, tmin=tmin,\n",
      "c:\\Users\\Lukas\\Documents\\projects\\esinet\\evaluate\\..\\esinet\\util\\util.py:388: RuntimeWarning: An average reference projection was already added. The data has been left untouched.\n",
      "  epochs.set_eeg_reference(projection=True, verbose=verbose)#.apply_baseline(baseline=baseline)\n",
      "c:\\Users\\Lukas\\Documents\\projects\\esinet\\evaluate\\..\\esinet\\util\\util.py:420: RuntimeWarning: Too few samples (required : 310 got : 20), covariance estimate may be unreliable\n",
      "  data_cov = mne.compute_raw_covariance(raw, tmin=tmin,\n",
      "c:\\Users\\Lukas\\Documents\\projects\\esinet\\evaluate\\..\\esinet\\util\\util.py:388: RuntimeWarning: An average reference projection was already added. The data has been left untouched.\n",
      "  epochs.set_eeg_reference(projection=True, verbose=verbose)#.apply_baseline(baseline=baseline)\n",
      "c:\\Users\\Lukas\\Documents\\projects\\esinet\\evaluate\\..\\esinet\\util\\util.py:420: RuntimeWarning: Too few samples (required : 310 got : 80), covariance estimate may be unreliable\n",
      "  data_cov = mne.compute_raw_covariance(raw, tmin=tmin,\n",
      "c:\\Users\\Lukas\\Documents\\projects\\esinet\\evaluate\\..\\esinet\\util\\util.py:388: RuntimeWarning: An average reference projection was already added. The data has been left untouched.\n",
      "  epochs.set_eeg_reference(projection=True, verbose=verbose)#.apply_baseline(baseline=baseline)\n",
      "c:\\Users\\Lukas\\Documents\\projects\\esinet\\evaluate\\..\\esinet\\util\\util.py:420: RuntimeWarning: Too few samples (required : 310 got : 180), covariance estimate may be unreliable\n",
      "  data_cov = mne.compute_raw_covariance(raw, tmin=tmin,\n",
      "c:\\Users\\Lukas\\Documents\\projects\\esinet\\evaluate\\..\\esinet\\util\\util.py:388: RuntimeWarning: An average reference projection was already added. The data has been left untouched.\n",
      "  epochs.set_eeg_reference(projection=True, verbose=verbose)#.apply_baseline(baseline=baseline)\n"
     ]
    },
    {
     "name": "stdout",
     "output_type": "stream",
     "text": [
      "<RawArray | 61 x 599 (6.0 s), ~375 kB, data loaded> 4.0 info empirical\n",
      "<RawArray | 61 x 565 (5.6 s), ~359 kB, data loaded> 4.0 info empirical\n",
      "<RawArray | 61 x 477 (4.8 s), ~317 kB, data loaded> 4.0 info empirical\n",
      "<RawArray | 61 x 484 (4.8 s), ~320 kB, data loaded> 4.0 info empirical\n",
      "<RawArray | 61 x 525 (5.2 s), ~340 kB, data loaded> 4.0 info empirical\n"
     ]
    },
    {
     "name": "stderr",
     "output_type": "stream",
     "text": [
      "c:\\Users\\Lukas\\Documents\\projects\\esinet\\evaluate\\..\\esinet\\util\\util.py:420: RuntimeWarning: Too few samples (required : 310 got : 160), covariance estimate may be unreliable\n",
      "  data_cov = mne.compute_raw_covariance(raw, tmin=tmin,\n",
      "c:\\Users\\Lukas\\Documents\\projects\\esinet\\evaluate\\..\\esinet\\util\\util.py:388: RuntimeWarning: An average reference projection was already added. The data has been left untouched.\n",
      "  epochs.set_eeg_reference(projection=True, verbose=verbose)#.apply_baseline(baseline=baseline)\n",
      "c:\\Users\\Lukas\\Documents\\projects\\esinet\\evaluate\\..\\esinet\\util\\util.py:420: RuntimeWarning: Too few samples (required : 310 got : 60), covariance estimate may be unreliable\n",
      "  data_cov = mne.compute_raw_covariance(raw, tmin=tmin,\n",
      "c:\\Users\\Lukas\\Documents\\projects\\esinet\\evaluate\\..\\esinet\\util\\util.py:388: RuntimeWarning: An average reference projection was already added. The data has been left untouched.\n",
      "  epochs.set_eeg_reference(projection=True, verbose=verbose)#.apply_baseline(baseline=baseline)\n",
      "c:\\Users\\Lukas\\Documents\\projects\\esinet\\evaluate\\..\\esinet\\util\\util.py:420: RuntimeWarning: Too few samples (required : 310 got : 80), covariance estimate may be unreliable\n",
      "  data_cov = mne.compute_raw_covariance(raw, tmin=tmin,\n",
      "c:\\Users\\Lukas\\Documents\\projects\\esinet\\evaluate\\..\\esinet\\util\\util.py:388: RuntimeWarning: An average reference projection was already added. The data has been left untouched.\n",
      "  epochs.set_eeg_reference(projection=True, verbose=verbose)#.apply_baseline(baseline=baseline)\n",
      "c:\\Users\\Lukas\\Documents\\projects\\esinet\\evaluate\\..\\esinet\\util\\util.py:420: RuntimeWarning: Too few samples (required : 310 got : 120), covariance estimate may be unreliable\n",
      "  data_cov = mne.compute_raw_covariance(raw, tmin=tmin,\n",
      "c:\\Users\\Lukas\\Documents\\projects\\esinet\\evaluate\\..\\esinet\\util\\util.py:388: RuntimeWarning: An average reference projection was already added. The data has been left untouched.\n",
      "  epochs.set_eeg_reference(projection=True, verbose=verbose)#.apply_baseline(baseline=baseline)\n"
     ]
    },
    {
     "name": "stdout",
     "output_type": "stream",
     "text": [
      "<RawArray | 61 x 424 (4.2 s), ~292 kB, data loaded> 4.0 info empirical\n",
      "<RawArray | 61 x 517 (5.2 s), ~336 kB, data loaded> 4.0 info empirical\n",
      "<RawArray | 61 x 538 (5.4 s), ~346 kB, data loaded> 4.0 info empirical\n",
      "<RawArray | 61 x 493 (4.9 s), ~325 kB, data loaded> 4.0 info empirical\n"
     ]
    },
    {
     "name": "stderr",
     "output_type": "stream",
     "text": [
      "c:\\Users\\Lukas\\Documents\\projects\\esinet\\evaluate\\..\\esinet\\util\\util.py:420: RuntimeWarning: Too few samples (required : 310 got : 20), covariance estimate may be unreliable\n",
      "  data_cov = mne.compute_raw_covariance(raw, tmin=tmin,\n",
      "c:\\Users\\Lukas\\Documents\\projects\\esinet\\evaluate\\..\\esinet\\util\\util.py:388: RuntimeWarning: An average reference projection was already added. The data has been left untouched.\n",
      "  epochs.set_eeg_reference(projection=True, verbose=verbose)#.apply_baseline(baseline=baseline)\n",
      "c:\\Users\\Lukas\\Documents\\projects\\esinet\\evaluate\\..\\esinet\\util\\util.py:420: RuntimeWarning: Too few samples (required : 310 got : 100), covariance estimate may be unreliable\n",
      "  data_cov = mne.compute_raw_covariance(raw, tmin=tmin,\n",
      "c:\\Users\\Lukas\\Documents\\projects\\esinet\\evaluate\\..\\esinet\\util\\util.py:388: RuntimeWarning: An average reference projection was already added. The data has been left untouched.\n",
      "  epochs.set_eeg_reference(projection=True, verbose=verbose)#.apply_baseline(baseline=baseline)\n",
      "c:\\Users\\Lukas\\Documents\\projects\\esinet\\evaluate\\..\\esinet\\util\\util.py:420: RuntimeWarning: Too few samples (required : 310 got : 120), covariance estimate may be unreliable\n",
      "  data_cov = mne.compute_raw_covariance(raw, tmin=tmin,\n",
      "c:\\Users\\Lukas\\Documents\\projects\\esinet\\evaluate\\..\\esinet\\util\\util.py:388: RuntimeWarning: An average reference projection was already added. The data has been left untouched.\n",
      "  epochs.set_eeg_reference(projection=True, verbose=verbose)#.apply_baseline(baseline=baseline)\n",
      "c:\\Users\\Lukas\\Documents\\projects\\esinet\\evaluate\\..\\esinet\\util\\util.py:420: RuntimeWarning: Too few samples (required : 310 got : 80), covariance estimate may be unreliable\n",
      "  data_cov = mne.compute_raw_covariance(raw, tmin=tmin,\n",
      "c:\\Users\\Lukas\\Documents\\projects\\esinet\\evaluate\\..\\esinet\\util\\util.py:388: RuntimeWarning: An average reference projection was already added. The data has been left untouched.\n",
      "  epochs.set_eeg_reference(projection=True, verbose=verbose)#.apply_baseline(baseline=baseline)\n"
     ]
    },
    {
     "name": "stdout",
     "output_type": "stream",
     "text": [
      "<RawArray | 61 x 560 (5.6 s), ~357 kB, data loaded> 4.0 info empirical\n",
      "<RawArray | 61 x 481 (4.8 s), ~319 kB, data loaded> 4.0 info empirical\n",
      "<RawArray | 61 x 543 (5.4 s), ~349 kB, data loaded> 4.0 info empirical\n",
      "<RawArray | 61 x 557 (5.6 s), ~355 kB, data loaded> 4.0 info empirical\n"
     ]
    },
    {
     "name": "stderr",
     "output_type": "stream",
     "text": [
      "c:\\Users\\Lukas\\Documents\\projects\\esinet\\evaluate\\..\\esinet\\util\\util.py:420: RuntimeWarning: Too few samples (required : 310 got : 160), covariance estimate may be unreliable\n",
      "  data_cov = mne.compute_raw_covariance(raw, tmin=tmin,\n",
      "c:\\Users\\Lukas\\Documents\\projects\\esinet\\evaluate\\..\\esinet\\util\\util.py:388: RuntimeWarning: An average reference projection was already added. The data has been left untouched.\n",
      "  epochs.set_eeg_reference(projection=True, verbose=verbose)#.apply_baseline(baseline=baseline)\n",
      "c:\\Users\\Lukas\\Documents\\projects\\esinet\\evaluate\\..\\esinet\\util\\util.py:420: RuntimeWarning: Too few samples (required : 310 got : 80), covariance estimate may be unreliable\n",
      "  data_cov = mne.compute_raw_covariance(raw, tmin=tmin,\n",
      "c:\\Users\\Lukas\\Documents\\projects\\esinet\\evaluate\\..\\esinet\\util\\util.py:388: RuntimeWarning: An average reference projection was already added. The data has been left untouched.\n",
      "  epochs.set_eeg_reference(projection=True, verbose=verbose)#.apply_baseline(baseline=baseline)\n",
      "c:\\Users\\Lukas\\Documents\\projects\\esinet\\evaluate\\..\\esinet\\util\\util.py:420: RuntimeWarning: Too few samples (required : 310 got : 140), covariance estimate may be unreliable\n",
      "  data_cov = mne.compute_raw_covariance(raw, tmin=tmin,\n",
      "c:\\Users\\Lukas\\Documents\\projects\\esinet\\evaluate\\..\\esinet\\util\\util.py:388: RuntimeWarning: An average reference projection was already added. The data has been left untouched.\n",
      "  epochs.set_eeg_reference(projection=True, verbose=verbose)#.apply_baseline(baseline=baseline)\n",
      "c:\\Users\\Lukas\\Documents\\projects\\esinet\\evaluate\\..\\esinet\\util\\util.py:420: RuntimeWarning: Too few samples (required : 310 got : 140), covariance estimate may be unreliable\n",
      "  data_cov = mne.compute_raw_covariance(raw, tmin=tmin,\n",
      "c:\\Users\\Lukas\\Documents\\projects\\esinet\\evaluate\\..\\esinet\\util\\util.py:388: RuntimeWarning: An average reference projection was already added. The data has been left untouched.\n",
      "  epochs.set_eeg_reference(projection=True, verbose=verbose)#.apply_baseline(baseline=baseline)\n"
     ]
    },
    {
     "name": "stdout",
     "output_type": "stream",
     "text": [
      "<RawArray | 61 x 546 (5.5 s), ~350 kB, data loaded> 4.0 info empirical\n",
      "<RawArray | 61 x 495 (4.9 s), ~326 kB, data loaded> 4.0 info empirical\n",
      "<RawArray | 61 x 479 (4.8 s), ~318 kB, data loaded> 4.0 info empirical\n",
      "<RawArray | 61 x 561 (5.6 s), ~357 kB, data loaded> 4.0 info empirical\n",
      "<RawArray | 61 x 502 (5.0 s), ~329 kB, data loaded> 4.0 info empirical\n"
     ]
    },
    {
     "name": "stderr",
     "output_type": "stream",
     "text": [
      "c:\\Users\\Lukas\\Documents\\projects\\esinet\\evaluate\\..\\esinet\\util\\util.py:420: RuntimeWarning: Too few samples (required : 310 got : 140), covariance estimate may be unreliable\n",
      "  data_cov = mne.compute_raw_covariance(raw, tmin=tmin,\n",
      "c:\\Users\\Lukas\\Documents\\projects\\esinet\\evaluate\\..\\esinet\\util\\util.py:388: RuntimeWarning: An average reference projection was already added. The data has been left untouched.\n",
      "  epochs.set_eeg_reference(projection=True, verbose=verbose)#.apply_baseline(baseline=baseline)\n",
      "c:\\Users\\Lukas\\Documents\\projects\\esinet\\evaluate\\..\\esinet\\util\\util.py:420: RuntimeWarning: Too few samples (required : 310 got : 80), covariance estimate may be unreliable\n",
      "  data_cov = mne.compute_raw_covariance(raw, tmin=tmin,\n",
      "c:\\Users\\Lukas\\Documents\\projects\\esinet\\evaluate\\..\\esinet\\util\\util.py:388: RuntimeWarning: An average reference projection was already added. The data has been left untouched.\n",
      "  epochs.set_eeg_reference(projection=True, verbose=verbose)#.apply_baseline(baseline=baseline)\n",
      "c:\\Users\\Lukas\\Documents\\projects\\esinet\\evaluate\\..\\esinet\\util\\util.py:420: RuntimeWarning: Too few samples (required : 310 got : 60), covariance estimate may be unreliable\n",
      "  data_cov = mne.compute_raw_covariance(raw, tmin=tmin,\n",
      "c:\\Users\\Lukas\\Documents\\projects\\esinet\\evaluate\\..\\esinet\\util\\util.py:388: RuntimeWarning: An average reference projection was already added. The data has been left untouched.\n",
      "  epochs.set_eeg_reference(projection=True, verbose=verbose)#.apply_baseline(baseline=baseline)\n",
      "c:\\Users\\Lukas\\Documents\\projects\\esinet\\evaluate\\..\\esinet\\util\\util.py:420: RuntimeWarning: Too few samples (required : 310 got : 160), covariance estimate may be unreliable\n",
      "  data_cov = mne.compute_raw_covariance(raw, tmin=tmin,\n",
      "c:\\Users\\Lukas\\Documents\\projects\\esinet\\evaluate\\..\\esinet\\util\\util.py:388: RuntimeWarning: An average reference projection was already added. The data has been left untouched.\n",
      "  epochs.set_eeg_reference(projection=True, verbose=verbose)#.apply_baseline(baseline=baseline)\n",
      "c:\\Users\\Lukas\\Documents\\projects\\esinet\\evaluate\\..\\esinet\\util\\util.py:420: RuntimeWarning: Too few samples (required : 310 got : 100), covariance estimate may be unreliable\n",
      "  data_cov = mne.compute_raw_covariance(raw, tmin=tmin,\n",
      "c:\\Users\\Lukas\\Documents\\projects\\esinet\\evaluate\\..\\esinet\\util\\util.py:388: RuntimeWarning: An average reference projection was already added. The data has been left untouched.\n",
      "  epochs.set_eeg_reference(projection=True, verbose=verbose)#.apply_baseline(baseline=baseline)\n",
      "c:\\Users\\Lukas\\Documents\\projects\\esinet\\evaluate\\..\\esinet\\util\\util.py:420: RuntimeWarning: Too few samples (required : 310 got : 140), covariance estimate may be unreliable\n",
      "  data_cov = mne.compute_raw_covariance(raw, tmin=tmin,\n",
      "c:\\Users\\Lukas\\Documents\\projects\\esinet\\evaluate\\..\\esinet\\util\\util.py:388: RuntimeWarning: An average reference projection was already added. The data has been left untouched.\n",
      "  epochs.set_eeg_reference(projection=True, verbose=verbose)#.apply_baseline(baseline=baseline)\n",
      "c:\\Users\\Lukas\\Documents\\projects\\esinet\\evaluate\\..\\esinet\\util\\util.py:420: RuntimeWarning: Too few samples (required : 310 got : 60), covariance estimate may be unreliable\n",
      "  data_cov = mne.compute_raw_covariance(raw, tmin=tmin,\n",
      "c:\\Users\\Lukas\\Documents\\projects\\esinet\\evaluate\\..\\esinet\\util\\util.py:388: RuntimeWarning: An average reference projection was already added. The data has been left untouched.\n",
      "  epochs.set_eeg_reference(projection=True, verbose=verbose)#.apply_baseline(baseline=baseline)\n",
      "c:\\Users\\Lukas\\Documents\\projects\\esinet\\evaluate\\..\\esinet\\util\\util.py:423: RuntimeWarning: Epochs are not baseline corrected, covariance matrix may be inaccurate\n",
      "  data_cov = mne.compute_covariance(epochs, tmin=0.0,\n",
      "c:\\Users\\Lukas\\Documents\\projects\\esinet\\evaluate\\..\\esinet\\util\\util.py:423: RuntimeWarning: Too few samples (required : 310 got : 11), covariance estimate may be unreliable\n",
      "  data_cov = mne.compute_covariance(epochs, tmin=0.0,\n"
     ]
    },
    {
     "name": "stdout",
     "output_type": "stream",
     "text": [
      "<RawArray | 61 x 540 (5.4 s), ~347 kB, data loaded> 4.0 info empirical\n",
      "<RawArray | 61 x 468 (4.7 s), ~313 kB, data loaded> 4.0 info empirical\n",
      "<RawArray | 61 x 411 (4.1 s), ~286 kB, data loaded> 4.0 info empirical\n",
      "<RawArray | 61 x 502 (5.0 s), ~329 kB, data loaded> 4.0 info empirical\n"
     ]
    },
    {
     "name": "stderr",
     "output_type": "stream",
     "text": [
      "c:\\Users\\Lukas\\Documents\\projects\\esinet\\evaluate\\..\\esinet\\util\\util.py:388: RuntimeWarning: An average reference projection was already added. The data has been left untouched.\n",
      "  epochs.set_eeg_reference(projection=True, verbose=verbose)#.apply_baseline(baseline=baseline)\n",
      "c:\\Users\\Lukas\\Documents\\projects\\esinet\\evaluate\\..\\esinet\\util\\util.py:420: RuntimeWarning: Too few samples (required : 310 got : 100), covariance estimate may be unreliable\n",
      "  data_cov = mne.compute_raw_covariance(raw, tmin=tmin,\n",
      "c:\\Users\\Lukas\\Documents\\projects\\esinet\\evaluate\\..\\esinet\\util\\util.py:388: RuntimeWarning: An average reference projection was already added. The data has been left untouched.\n",
      "  epochs.set_eeg_reference(projection=True, verbose=verbose)#.apply_baseline(baseline=baseline)\n",
      "c:\\Users\\Lukas\\Documents\\projects\\esinet\\evaluate\\..\\esinet\\util\\util.py:420: RuntimeWarning: Too few samples (required : 310 got : 120), covariance estimate may be unreliable\n",
      "  data_cov = mne.compute_raw_covariance(raw, tmin=tmin,\n",
      "c:\\Users\\Lukas\\Documents\\projects\\esinet\\evaluate\\..\\esinet\\util\\util.py:388: RuntimeWarning: An average reference projection was already added. The data has been left untouched.\n",
      "  epochs.set_eeg_reference(projection=True, verbose=verbose)#.apply_baseline(baseline=baseline)\n",
      "c:\\Users\\Lukas\\Documents\\projects\\esinet\\evaluate\\..\\esinet\\util\\util.py:420: RuntimeWarning: Too few samples (required : 310 got : 180), covariance estimate may be unreliable\n",
      "  data_cov = mne.compute_raw_covariance(raw, tmin=tmin,\n",
      "c:\\Users\\Lukas\\Documents\\projects\\esinet\\evaluate\\..\\esinet\\util\\util.py:388: RuntimeWarning: An average reference projection was already added. The data has been left untouched.\n",
      "  epochs.set_eeg_reference(projection=True, verbose=verbose)#.apply_baseline(baseline=baseline)\n",
      "c:\\Users\\Lukas\\Documents\\projects\\esinet\\evaluate\\..\\esinet\\util\\util.py:423: RuntimeWarning: Epochs are not baseline corrected, covariance matrix may be inaccurate\n",
      "  data_cov = mne.compute_covariance(epochs, tmin=0.0,\n",
      "c:\\Users\\Lukas\\Documents\\projects\\esinet\\evaluate\\..\\esinet\\util\\util.py:423: RuntimeWarning: Too few samples (required : 310 got : 16), covariance estimate may be unreliable\n",
      "  data_cov = mne.compute_covariance(epochs, tmin=0.0,\n",
      "c:\\Users\\Lukas\\Documents\\projects\\esinet\\evaluate\\..\\esinet\\util\\util.py:388: RuntimeWarning: An average reference projection was already added. The data has been left untouched.\n",
      "  epochs.set_eeg_reference(projection=True, verbose=verbose)#.apply_baseline(baseline=baseline)\n"
     ]
    },
    {
     "name": "stdout",
     "output_type": "stream",
     "text": [
      "<RawArray | 61 x 529 (5.3 s), ~342 kB, data loaded> 4.0 info empirical\n",
      "<RawArray | 61 x 582 (5.8 s), ~367 kB, data loaded> 4.0 info empirical\n",
      "<RawArray | 61 x 416 (4.2 s), ~288 kB, data loaded> 4.0 info empirical\n",
      "<RawArray | 61 x 483 (4.8 s), ~320 kB, data loaded> 4.0 info empirical\n"
     ]
    },
    {
     "name": "stderr",
     "output_type": "stream",
     "text": [
      "c:\\Users\\Lukas\\Documents\\projects\\esinet\\evaluate\\..\\esinet\\util\\util.py:420: RuntimeWarning: Too few samples (required : 310 got : 80), covariance estimate may be unreliable\n",
      "  data_cov = mne.compute_raw_covariance(raw, tmin=tmin,\n",
      "c:\\Users\\Lukas\\Documents\\projects\\esinet\\evaluate\\..\\esinet\\util\\util.py:388: RuntimeWarning: An average reference projection was already added. The data has been left untouched.\n",
      "  epochs.set_eeg_reference(projection=True, verbose=verbose)#.apply_baseline(baseline=baseline)\n",
      "c:\\Users\\Lukas\\Documents\\projects\\esinet\\evaluate\\..\\esinet\\util\\util.py:420: RuntimeWarning: Too few samples (required : 310 got : 80), covariance estimate may be unreliable\n",
      "  data_cov = mne.compute_raw_covariance(raw, tmin=tmin,\n",
      "c:\\Users\\Lukas\\Documents\\projects\\esinet\\evaluate\\..\\esinet\\util\\util.py:388: RuntimeWarning: An average reference projection was already added. The data has been left untouched.\n",
      "  epochs.set_eeg_reference(projection=True, verbose=verbose)#.apply_baseline(baseline=baseline)\n",
      "c:\\Users\\Lukas\\Documents\\projects\\esinet\\evaluate\\..\\esinet\\util\\util.py:420: RuntimeWarning: Too few samples (required : 310 got : 100), covariance estimate may be unreliable\n",
      "  data_cov = mne.compute_raw_covariance(raw, tmin=tmin,\n",
      "c:\\Users\\Lukas\\Documents\\projects\\esinet\\evaluate\\..\\esinet\\util\\util.py:388: RuntimeWarning: An average reference projection was already added. The data has been left untouched.\n",
      "  epochs.set_eeg_reference(projection=True, verbose=verbose)#.apply_baseline(baseline=baseline)\n",
      "c:\\Users\\Lukas\\Documents\\projects\\esinet\\evaluate\\..\\esinet\\util\\util.py:420: RuntimeWarning: Too few samples (required : 310 got : 140), covariance estimate may be unreliable\n",
      "  data_cov = mne.compute_raw_covariance(raw, tmin=tmin,\n",
      "c:\\Users\\Lukas\\Documents\\projects\\esinet\\evaluate\\..\\esinet\\util\\util.py:388: RuntimeWarning: An average reference projection was already added. The data has been left untouched.\n",
      "  epochs.set_eeg_reference(projection=True, verbose=verbose)#.apply_baseline(baseline=baseline)\n"
     ]
    },
    {
     "name": "stdout",
     "output_type": "stream",
     "text": [
      "<RawArray | 61 x 493 (4.9 s), ~325 kB, data loaded> 4.0 info empirical\n",
      "<RawArray | 61 x 502 (5.0 s), ~329 kB, data loaded> 4.0 info empirical\n",
      "<RawArray | 61 x 556 (5.5 s), ~355 kB, data loaded> 4.0 info empirical\n",
      "<RawArray | 61 x 422 (4.2 s), ~291 kB, data loaded> 4.0 info empirical\n"
     ]
    },
    {
     "name": "stderr",
     "output_type": "stream",
     "text": [
      "c:\\Users\\Lukas\\Documents\\projects\\esinet\\evaluate\\..\\esinet\\util\\util.py:420: RuntimeWarning: Too few samples (required : 310 got : 20), covariance estimate may be unreliable\n",
      "  data_cov = mne.compute_raw_covariance(raw, tmin=tmin,\n",
      "c:\\Users\\Lukas\\Documents\\projects\\esinet\\evaluate\\..\\esinet\\util\\util.py:388: RuntimeWarning: An average reference projection was already added. The data has been left untouched.\n",
      "  epochs.set_eeg_reference(projection=True, verbose=verbose)#.apply_baseline(baseline=baseline)\n",
      "c:\\Users\\Lukas\\Documents\\projects\\esinet\\evaluate\\..\\esinet\\util\\util.py:420: RuntimeWarning: Too few samples (required : 310 got : 100), covariance estimate may be unreliable\n",
      "  data_cov = mne.compute_raw_covariance(raw, tmin=tmin,\n",
      "c:\\Users\\Lukas\\Documents\\projects\\esinet\\evaluate\\..\\esinet\\util\\util.py:388: RuntimeWarning: An average reference projection was already added. The data has been left untouched.\n",
      "  epochs.set_eeg_reference(projection=True, verbose=verbose)#.apply_baseline(baseline=baseline)\n",
      "c:\\Users\\Lukas\\Documents\\projects\\esinet\\evaluate\\..\\esinet\\util\\util.py:420: RuntimeWarning: Too few samples (required : 310 got : 20), covariance estimate may be unreliable\n",
      "  data_cov = mne.compute_raw_covariance(raw, tmin=tmin,\n",
      "c:\\Users\\Lukas\\Documents\\projects\\esinet\\evaluate\\..\\esinet\\util\\util.py:388: RuntimeWarning: An average reference projection was already added. The data has been left untouched.\n",
      "  epochs.set_eeg_reference(projection=True, verbose=verbose)#.apply_baseline(baseline=baseline)\n",
      "c:\\Users\\Lukas\\Documents\\projects\\esinet\\evaluate\\..\\esinet\\util\\util.py:420: RuntimeWarning: Too few samples (required : 310 got : 80), covariance estimate may be unreliable\n",
      "  data_cov = mne.compute_raw_covariance(raw, tmin=tmin,\n",
      "c:\\Users\\Lukas\\Documents\\projects\\esinet\\evaluate\\..\\esinet\\util\\util.py:388: RuntimeWarning: An average reference projection was already added. The data has been left untouched.\n",
      "  epochs.set_eeg_reference(projection=True, verbose=verbose)#.apply_baseline(baseline=baseline)\n"
     ]
    },
    {
     "name": "stdout",
     "output_type": "stream",
     "text": [
      "<RawArray | 61 x 503 (5.0 s), ~330 kB, data loaded> 4.0 info empirical\n",
      "<RawArray | 61 x 426 (4.2 s), ~293 kB, data loaded> 4.0 info empirical\n",
      "<RawArray | 61 x 490 (4.9 s), ~323 kB, data loaded> 4.0 info empirical\n",
      "<RawArray | 61 x 533 (5.3 s), ~344 kB, data loaded> 4.0 info empirical\n"
     ]
    },
    {
     "name": "stderr",
     "output_type": "stream",
     "text": [
      "c:\\Users\\Lukas\\Documents\\projects\\esinet\\evaluate\\..\\esinet\\util\\util.py:420: RuntimeWarning: Too few samples (required : 310 got : 120), covariance estimate may be unreliable\n",
      "  data_cov = mne.compute_raw_covariance(raw, tmin=tmin,\n",
      "c:\\Users\\Lukas\\Documents\\projects\\esinet\\evaluate\\..\\esinet\\util\\util.py:388: RuntimeWarning: An average reference projection was already added. The data has been left untouched.\n",
      "  epochs.set_eeg_reference(projection=True, verbose=verbose)#.apply_baseline(baseline=baseline)\n",
      "c:\\Users\\Lukas\\Documents\\projects\\esinet\\evaluate\\..\\esinet\\util\\util.py:420: RuntimeWarning: Too few samples (required : 310 got : 60), covariance estimate may be unreliable\n",
      "  data_cov = mne.compute_raw_covariance(raw, tmin=tmin,\n",
      "c:\\Users\\Lukas\\Documents\\projects\\esinet\\evaluate\\..\\esinet\\util\\util.py:388: RuntimeWarning: An average reference projection was already added. The data has been left untouched.\n",
      "  epochs.set_eeg_reference(projection=True, verbose=verbose)#.apply_baseline(baseline=baseline)\n",
      "c:\\Users\\Lukas\\Documents\\projects\\esinet\\evaluate\\..\\esinet\\util\\util.py:420: RuntimeWarning: Too few samples (required : 310 got : 60), covariance estimate may be unreliable\n",
      "  data_cov = mne.compute_raw_covariance(raw, tmin=tmin,\n",
      "c:\\Users\\Lukas\\Documents\\projects\\esinet\\evaluate\\..\\esinet\\util\\util.py:388: RuntimeWarning: An average reference projection was already added. The data has been left untouched.\n",
      "  epochs.set_eeg_reference(projection=True, verbose=verbose)#.apply_baseline(baseline=baseline)\n",
      "c:\\Users\\Lukas\\Documents\\projects\\esinet\\evaluate\\..\\esinet\\util\\util.py:420: RuntimeWarning: Too few samples (required : 310 got : 20), covariance estimate may be unreliable\n",
      "  data_cov = mne.compute_raw_covariance(raw, tmin=tmin,\n",
      "c:\\Users\\Lukas\\Documents\\projects\\esinet\\evaluate\\..\\esinet\\util\\util.py:388: RuntimeWarning: An average reference projection was already added. The data has been left untouched.\n",
      "  epochs.set_eeg_reference(projection=True, verbose=verbose)#.apply_baseline(baseline=baseline)\n",
      "c:\\Users\\Lukas\\Documents\\projects\\esinet\\evaluate\\..\\esinet\\util\\util.py:423: RuntimeWarning: Epochs are not baseline corrected, covariance matrix may be inaccurate\n",
      "  data_cov = mne.compute_covariance(epochs, tmin=0.0,\n"
     ]
    },
    {
     "name": "stdout",
     "output_type": "stream",
     "text": [
      "<RawArray | 61 x 462 (4.6 s), ~310 kB, data loaded> 4.0 info empirical\n",
      "<RawArray | 61 x 460 (4.6 s), ~309 kB, data loaded> 4.0 info empirical\n",
      "<RawArray | 61 x 432 (4.3 s), ~296 kB, data loaded> 4.0 info empirical\n",
      "<RawArray | 61 x 419 (4.2 s), ~289 kB, data loaded> 4.0 info empirical\n",
      "<RawArray | 61 x 545 (5.4 s), ~350 kB, data loaded> 4.0 info empirical\n"
     ]
    },
    {
     "name": "stderr",
     "output_type": "stream",
     "text": [
      "c:\\Users\\Lukas\\Documents\\projects\\esinet\\evaluate\\..\\esinet\\util\\util.py:423: RuntimeWarning: Too few samples (required : 310 got : 19), covariance estimate may be unreliable\n",
      "  data_cov = mne.compute_covariance(epochs, tmin=0.0,\n",
      "c:\\Users\\Lukas\\Documents\\projects\\esinet\\evaluate\\..\\esinet\\util\\util.py:388: RuntimeWarning: An average reference projection was already added. The data has been left untouched.\n",
      "  epochs.set_eeg_reference(projection=True, verbose=verbose)#.apply_baseline(baseline=baseline)\n",
      "c:\\Users\\Lukas\\Documents\\projects\\esinet\\evaluate\\..\\esinet\\util\\util.py:420: RuntimeWarning: Too few samples (required : 310 got : 140), covariance estimate may be unreliable\n",
      "  data_cov = mne.compute_raw_covariance(raw, tmin=tmin,\n",
      "c:\\Users\\Lukas\\Documents\\projects\\esinet\\evaluate\\..\\esinet\\util\\util.py:388: RuntimeWarning: An average reference projection was already added. The data has been left untouched.\n",
      "  epochs.set_eeg_reference(projection=True, verbose=verbose)#.apply_baseline(baseline=baseline)\n",
      "c:\\Users\\Lukas\\Documents\\projects\\esinet\\evaluate\\..\\esinet\\util\\util.py:420: RuntimeWarning: Too few samples (required : 310 got : 40), covariance estimate may be unreliable\n",
      "  data_cov = mne.compute_raw_covariance(raw, tmin=tmin,\n",
      "c:\\Users\\Lukas\\Documents\\projects\\esinet\\evaluate\\..\\esinet\\util\\util.py:388: RuntimeWarning: An average reference projection was already added. The data has been left untouched.\n",
      "  epochs.set_eeg_reference(projection=True, verbose=verbose)#.apply_baseline(baseline=baseline)\n",
      "c:\\Users\\Lukas\\Documents\\projects\\esinet\\evaluate\\..\\esinet\\util\\util.py:420: RuntimeWarning: Too few samples (required : 310 got : 180), covariance estimate may be unreliable\n",
      "  data_cov = mne.compute_raw_covariance(raw, tmin=tmin,\n",
      "c:\\Users\\Lukas\\Documents\\projects\\esinet\\evaluate\\..\\esinet\\util\\util.py:388: RuntimeWarning: An average reference projection was already added. The data has been left untouched.\n",
      "  epochs.set_eeg_reference(projection=True, verbose=verbose)#.apply_baseline(baseline=baseline)\n"
     ]
    },
    {
     "name": "stdout",
     "output_type": "stream",
     "text": [
      "<RawArray | 61 x 446 (4.5 s), ~302 kB, data loaded> 4.0 info empirical\n",
      "<RawArray | 61 x 582 (5.8 s), ~367 kB, data loaded> 4.0 info empirical\n",
      "<RawArray | 61 x 535 (5.3 s), ~345 kB, data loaded> 4.0 info empirical\n",
      "<RawArray | 61 x 432 (4.3 s), ~296 kB, data loaded> 4.0 info empirical\n"
     ]
    },
    {
     "name": "stderr",
     "output_type": "stream",
     "text": [
      "c:\\Users\\Lukas\\Documents\\projects\\esinet\\evaluate\\..\\esinet\\util\\util.py:420: RuntimeWarning: Too few samples (required : 310 got : 120), covariance estimate may be unreliable\n",
      "  data_cov = mne.compute_raw_covariance(raw, tmin=tmin,\n",
      "c:\\Users\\Lukas\\Documents\\projects\\esinet\\evaluate\\..\\esinet\\util\\util.py:388: RuntimeWarning: An average reference projection was already added. The data has been left untouched.\n",
      "  epochs.set_eeg_reference(projection=True, verbose=verbose)#.apply_baseline(baseline=baseline)\n",
      "c:\\Users\\Lukas\\Documents\\projects\\esinet\\evaluate\\..\\esinet\\util\\util.py:420: RuntimeWarning: Too few samples (required : 310 got : 20), covariance estimate may be unreliable\n",
      "  data_cov = mne.compute_raw_covariance(raw, tmin=tmin,\n",
      "c:\\Users\\Lukas\\Documents\\projects\\esinet\\evaluate\\..\\esinet\\util\\util.py:388: RuntimeWarning: An average reference projection was already added. The data has been left untouched.\n",
      "  epochs.set_eeg_reference(projection=True, verbose=verbose)#.apply_baseline(baseline=baseline)\n",
      "c:\\Users\\Lukas\\Documents\\projects\\esinet\\evaluate\\..\\esinet\\util\\util.py:420: RuntimeWarning: Too few samples (required : 310 got : 80), covariance estimate may be unreliable\n",
      "  data_cov = mne.compute_raw_covariance(raw, tmin=tmin,\n",
      "c:\\Users\\Lukas\\Documents\\projects\\esinet\\evaluate\\..\\esinet\\util\\util.py:388: RuntimeWarning: An average reference projection was already added. The data has been left untouched.\n",
      "  epochs.set_eeg_reference(projection=True, verbose=verbose)#.apply_baseline(baseline=baseline)\n",
      "c:\\Users\\Lukas\\Documents\\projects\\esinet\\evaluate\\..\\esinet\\util\\util.py:420: RuntimeWarning: Too few samples (required : 310 got : 60), covariance estimate may be unreliable\n",
      "  data_cov = mne.compute_raw_covariance(raw, tmin=tmin,\n",
      "c:\\Users\\Lukas\\Documents\\projects\\esinet\\evaluate\\..\\esinet\\util\\util.py:388: RuntimeWarning: An average reference projection was already added. The data has been left untouched.\n",
      "  epochs.set_eeg_reference(projection=True, verbose=verbose)#.apply_baseline(baseline=baseline)\n"
     ]
    },
    {
     "name": "stdout",
     "output_type": "stream",
     "text": [
      "<RawArray | 61 x 497 (5.0 s), ~327 kB, data loaded> 4.0 info empirical\n",
      "<RawArray | 61 x 479 (4.8 s), ~318 kB, data loaded> 4.0 info empirical\n",
      "<RawArray | 61 x 476 (4.8 s), ~317 kB, data loaded> 4.0 info empirical\n",
      "<RawArray | 61 x 440 (4.4 s), ~299 kB, data loaded> 4.0 info empirical\n",
      "<RawArray | 61 x 559 (5.6 s), ~356 kB, data loaded> 4.0 info empirical\n"
     ]
    },
    {
     "name": "stderr",
     "output_type": "stream",
     "text": [
      "c:\\Users\\Lukas\\Documents\\projects\\esinet\\evaluate\\..\\esinet\\util\\util.py:420: RuntimeWarning: Too few samples (required : 310 got : 60), covariance estimate may be unreliable\n",
      "  data_cov = mne.compute_raw_covariance(raw, tmin=tmin,\n",
      "c:\\Users\\Lukas\\Documents\\projects\\esinet\\evaluate\\..\\esinet\\util\\util.py:388: RuntimeWarning: An average reference projection was already added. The data has been left untouched.\n",
      "  epochs.set_eeg_reference(projection=True, verbose=verbose)#.apply_baseline(baseline=baseline)\n",
      "c:\\Users\\Lukas\\Documents\\projects\\esinet\\evaluate\\..\\esinet\\util\\util.py:420: RuntimeWarning: Too few samples (required : 310 got : 40), covariance estimate may be unreliable\n",
      "  data_cov = mne.compute_raw_covariance(raw, tmin=tmin,\n",
      "c:\\Users\\Lukas\\Documents\\projects\\esinet\\evaluate\\..\\esinet\\util\\util.py:388: RuntimeWarning: An average reference projection was already added. The data has been left untouched.\n",
      "  epochs.set_eeg_reference(projection=True, verbose=verbose)#.apply_baseline(baseline=baseline)\n",
      "c:\\Users\\Lukas\\Documents\\projects\\esinet\\evaluate\\..\\esinet\\util\\util.py:420: RuntimeWarning: Too few samples (required : 310 got : 140), covariance estimate may be unreliable\n",
      "  data_cov = mne.compute_raw_covariance(raw, tmin=tmin,\n",
      "c:\\Users\\Lukas\\Documents\\projects\\esinet\\evaluate\\..\\esinet\\util\\util.py:388: RuntimeWarning: An average reference projection was already added. The data has been left untouched.\n",
      "  epochs.set_eeg_reference(projection=True, verbose=verbose)#.apply_baseline(baseline=baseline)\n",
      "c:\\Users\\Lukas\\Documents\\projects\\esinet\\evaluate\\..\\esinet\\util\\util.py:423: RuntimeWarning: Epochs are not baseline corrected, covariance matrix may be inaccurate\n",
      "  data_cov = mne.compute_covariance(epochs, tmin=0.0,\n",
      "c:\\Users\\Lukas\\Documents\\projects\\esinet\\evaluate\\..\\esinet\\util\\util.py:423: RuntimeWarning: Too few samples (required : 310 got : 14), covariance estimate may be unreliable\n",
      "  data_cov = mne.compute_covariance(epochs, tmin=0.0,\n",
      "c:\\Users\\Lukas\\Documents\\projects\\esinet\\evaluate\\..\\esinet\\util\\util.py:388: RuntimeWarning: An average reference projection was already added. The data has been left untouched.\n",
      "  epochs.set_eeg_reference(projection=True, verbose=verbose)#.apply_baseline(baseline=baseline)\n",
      "c:\\Users\\Lukas\\Documents\\projects\\esinet\\evaluate\\..\\esinet\\util\\util.py:423: RuntimeWarning: Epochs are not baseline corrected, covariance matrix may be inaccurate\n",
      "  data_cov = mne.compute_covariance(epochs, tmin=0.0,\n"
     ]
    },
    {
     "name": "stdout",
     "output_type": "stream",
     "text": [
      "<RawArray | 61 x 414 (4.1 s), ~287 kB, data loaded> 4.0 info empirical\n",
      "<RawArray | 61 x 412 (4.1 s), ~286 kB, data loaded> 4.0 info empirical\n",
      "<RawArray | 61 x 531 (5.3 s), ~343 kB, data loaded> 4.0 info empirical\n",
      "<RawArray | 61 x 427 (4.3 s), ~293 kB, data loaded> 4.0 info empirical\n"
     ]
    },
    {
     "name": "stderr",
     "output_type": "stream",
     "text": [
      "c:\\Users\\Lukas\\Documents\\projects\\esinet\\evaluate\\..\\esinet\\util\\util.py:423: RuntimeWarning: Too few samples (required : 310 got : 12), covariance estimate may be unreliable\n",
      "  data_cov = mne.compute_covariance(epochs, tmin=0.0,\n",
      "c:\\Users\\Lukas\\Documents\\projects\\esinet\\evaluate\\..\\esinet\\util\\util.py:388: RuntimeWarning: An average reference projection was already added. The data has been left untouched.\n",
      "  epochs.set_eeg_reference(projection=True, verbose=verbose)#.apply_baseline(baseline=baseline)\n",
      "c:\\Users\\Lukas\\Documents\\projects\\esinet\\evaluate\\..\\esinet\\util\\util.py:420: RuntimeWarning: Too few samples (required : 310 got : 120), covariance estimate may be unreliable\n",
      "  data_cov = mne.compute_raw_covariance(raw, tmin=tmin,\n",
      "c:\\Users\\Lukas\\Documents\\projects\\esinet\\evaluate\\..\\esinet\\util\\util.py:388: RuntimeWarning: An average reference projection was already added. The data has been left untouched.\n",
      "  epochs.set_eeg_reference(projection=True, verbose=verbose)#.apply_baseline(baseline=baseline)\n",
      "c:\\Users\\Lukas\\Documents\\projects\\esinet\\evaluate\\..\\esinet\\util\\util.py:420: RuntimeWarning: Too few samples (required : 310 got : 20), covariance estimate may be unreliable\n",
      "  data_cov = mne.compute_raw_covariance(raw, tmin=tmin,\n",
      "c:\\Users\\Lukas\\Documents\\projects\\esinet\\evaluate\\..\\esinet\\util\\util.py:388: RuntimeWarning: An average reference projection was already added. The data has been left untouched.\n",
      "  epochs.set_eeg_reference(projection=True, verbose=verbose)#.apply_baseline(baseline=baseline)\n",
      "c:\\Users\\Lukas\\Documents\\projects\\esinet\\evaluate\\..\\esinet\\util\\util.py:420: RuntimeWarning: Too few samples (required : 310 got : 60), covariance estimate may be unreliable\n",
      "  data_cov = mne.compute_raw_covariance(raw, tmin=tmin,\n",
      "c:\\Users\\Lukas\\Documents\\projects\\esinet\\evaluate\\..\\esinet\\util\\util.py:388: RuntimeWarning: An average reference projection was already added. The data has been left untouched.\n",
      "  epochs.set_eeg_reference(projection=True, verbose=verbose)#.apply_baseline(baseline=baseline)\n"
     ]
    },
    {
     "name": "stdout",
     "output_type": "stream",
     "text": [
      "<RawArray | 61 x 472 (4.7 s), ~315 kB, data loaded> 4.0 info empirical\n",
      "<RawArray | 61 x 540 (5.4 s), ~347 kB, data loaded> 4.0 info empirical\n",
      "<RawArray | 61 x 545 (5.4 s), ~350 kB, data loaded> 4.0 info empirical\n",
      "<RawArray | 61 x 445 (4.4 s), ~302 kB, data loaded> 4.0 info empirical\n"
     ]
    },
    {
     "name": "stderr",
     "output_type": "stream",
     "text": [
      "c:\\Users\\Lukas\\Documents\\projects\\esinet\\evaluate\\..\\esinet\\util\\util.py:420: RuntimeWarning: Too few samples (required : 310 got : 140), covariance estimate may be unreliable\n",
      "  data_cov = mne.compute_raw_covariance(raw, tmin=tmin,\n",
      "c:\\Users\\Lukas\\Documents\\projects\\esinet\\evaluate\\..\\esinet\\util\\util.py:388: RuntimeWarning: An average reference projection was already added. The data has been left untouched.\n",
      "  epochs.set_eeg_reference(projection=True, verbose=verbose)#.apply_baseline(baseline=baseline)\n",
      "c:\\Users\\Lukas\\Documents\\projects\\esinet\\evaluate\\..\\esinet\\util\\util.py:420: RuntimeWarning: Too few samples (required : 310 got : 140), covariance estimate may be unreliable\n",
      "  data_cov = mne.compute_raw_covariance(raw, tmin=tmin,\n",
      "c:\\Users\\Lukas\\Documents\\projects\\esinet\\evaluate\\..\\esinet\\util\\util.py:388: RuntimeWarning: An average reference projection was already added. The data has been left untouched.\n",
      "  epochs.set_eeg_reference(projection=True, verbose=verbose)#.apply_baseline(baseline=baseline)\n",
      "c:\\Users\\Lukas\\Documents\\projects\\esinet\\evaluate\\..\\esinet\\util\\util.py:420: RuntimeWarning: Too few samples (required : 310 got : 40), covariance estimate may be unreliable\n",
      "  data_cov = mne.compute_raw_covariance(raw, tmin=tmin,\n",
      "c:\\Users\\Lukas\\Documents\\projects\\esinet\\evaluate\\..\\esinet\\util\\util.py:388: RuntimeWarning: An average reference projection was already added. The data has been left untouched.\n",
      "  epochs.set_eeg_reference(projection=True, verbose=verbose)#.apply_baseline(baseline=baseline)\n",
      "c:\\Users\\Lukas\\Documents\\projects\\esinet\\evaluate\\..\\esinet\\util\\util.py:420: RuntimeWarning: Too few samples (required : 310 got : 160), covariance estimate may be unreliable\n",
      "  data_cov = mne.compute_raw_covariance(raw, tmin=tmin,\n",
      "c:\\Users\\Lukas\\Documents\\projects\\esinet\\evaluate\\..\\esinet\\util\\util.py:388: RuntimeWarning: An average reference projection was already added. The data has been left untouched.\n",
      "  epochs.set_eeg_reference(projection=True, verbose=verbose)#.apply_baseline(baseline=baseline)\n",
      "c:\\Users\\Lukas\\Documents\\projects\\esinet\\evaluate\\..\\esinet\\util\\util.py:423: RuntimeWarning: Epochs are not baseline corrected, covariance matrix may be inaccurate\n",
      "  data_cov = mne.compute_covariance(epochs, tmin=0.0,\n"
     ]
    },
    {
     "name": "stdout",
     "output_type": "stream",
     "text": [
      "<RawArray | 61 x 576 (5.8 s), ~364 kB, data loaded> 4.0 info empirical\n",
      "<RawArray | 61 x 402 (4.0 s), ~281 kB, data loaded> 4.0 info empirical\n",
      "<RawArray | 61 x 581 (5.8 s), ~367 kB, data loaded> 4.0 info empirical\n",
      "<RawArray | 61 x 413 (4.1 s), ~287 kB, data loaded> 4.0 info empirical\n"
     ]
    },
    {
     "name": "stderr",
     "output_type": "stream",
     "text": [
      "c:\\Users\\Lukas\\Documents\\projects\\esinet\\evaluate\\..\\esinet\\util\\util.py:423: RuntimeWarning: Too few samples (required : 310 got : 2), covariance estimate may be unreliable\n",
      "  data_cov = mne.compute_covariance(epochs, tmin=0.0,\n",
      "c:\\Users\\Lukas\\Documents\\projects\\esinet\\evaluate\\..\\esinet\\util\\util.py:388: RuntimeWarning: An average reference projection was already added. The data has been left untouched.\n",
      "  epochs.set_eeg_reference(projection=True, verbose=verbose)#.apply_baseline(baseline=baseline)\n",
      "c:\\Users\\Lukas\\Documents\\projects\\esinet\\evaluate\\..\\esinet\\util\\util.py:420: RuntimeWarning: Too few samples (required : 310 got : 180), covariance estimate may be unreliable\n",
      "  data_cov = mne.compute_raw_covariance(raw, tmin=tmin,\n",
      "c:\\Users\\Lukas\\Documents\\projects\\esinet\\evaluate\\..\\esinet\\util\\util.py:388: RuntimeWarning: An average reference projection was already added. The data has been left untouched.\n",
      "  epochs.set_eeg_reference(projection=True, verbose=verbose)#.apply_baseline(baseline=baseline)\n",
      "c:\\Users\\Lukas\\Documents\\projects\\esinet\\evaluate\\..\\esinet\\util\\util.py:423: RuntimeWarning: Epochs are not baseline corrected, covariance matrix may be inaccurate\n",
      "  data_cov = mne.compute_covariance(epochs, tmin=0.0,\n",
      "c:\\Users\\Lukas\\Documents\\projects\\esinet\\evaluate\\..\\esinet\\util\\util.py:423: RuntimeWarning: Too few samples (required : 310 got : 13), covariance estimate may be unreliable\n",
      "  data_cov = mne.compute_covariance(epochs, tmin=0.0,\n",
      "c:\\Users\\Lukas\\Documents\\projects\\esinet\\evaluate\\..\\esinet\\util\\util.py:388: RuntimeWarning: An average reference projection was already added. The data has been left untouched.\n",
      "  epochs.set_eeg_reference(projection=True, verbose=verbose)#.apply_baseline(baseline=baseline)\n",
      "c:\\Users\\Lukas\\Documents\\projects\\esinet\\evaluate\\..\\esinet\\util\\util.py:420: RuntimeWarning: Too few samples (required : 310 got : 180), covariance estimate may be unreliable\n",
      "  data_cov = mne.compute_raw_covariance(raw, tmin=tmin,\n",
      "c:\\Users\\Lukas\\Documents\\projects\\esinet\\evaluate\\..\\esinet\\util\\util.py:388: RuntimeWarning: An average reference projection was already added. The data has been left untouched.\n",
      "  epochs.set_eeg_reference(projection=True, verbose=verbose)#.apply_baseline(baseline=baseline)\n"
     ]
    },
    {
     "name": "stdout",
     "output_type": "stream",
     "text": [
      "<RawArray | 61 x 583 (5.8 s), ~368 kB, data loaded> 4.0 info empirical\n",
      "<RawArray | 61 x 484 (4.8 s), ~320 kB, data loaded> 4.0 info empirical\n",
      "<RawArray | 61 x 583 (5.8 s), ~368 kB, data loaded> 4.0 info empirical\n",
      "<RawArray | 61 x 426 (4.2 s), ~293 kB, data loaded> 4.0 info empirical\n"
     ]
    },
    {
     "name": "stderr",
     "output_type": "stream",
     "text": [
      "c:\\Users\\Lukas\\Documents\\projects\\esinet\\evaluate\\..\\esinet\\util\\util.py:420: RuntimeWarning: Too few samples (required : 310 got : 80), covariance estimate may be unreliable\n",
      "  data_cov = mne.compute_raw_covariance(raw, tmin=tmin,\n",
      "c:\\Users\\Lukas\\Documents\\projects\\esinet\\evaluate\\..\\esinet\\util\\util.py:388: RuntimeWarning: An average reference projection was already added. The data has been left untouched.\n",
      "  epochs.set_eeg_reference(projection=True, verbose=verbose)#.apply_baseline(baseline=baseline)\n",
      "c:\\Users\\Lukas\\Documents\\projects\\esinet\\evaluate\\..\\esinet\\util\\util.py:420: RuntimeWarning: Too few samples (required : 310 got : 180), covariance estimate may be unreliable\n",
      "  data_cov = mne.compute_raw_covariance(raw, tmin=tmin,\n",
      "c:\\Users\\Lukas\\Documents\\projects\\esinet\\evaluate\\..\\esinet\\util\\util.py:388: RuntimeWarning: An average reference projection was already added. The data has been left untouched.\n",
      "  epochs.set_eeg_reference(projection=True, verbose=verbose)#.apply_baseline(baseline=baseline)\n",
      "c:\\Users\\Lukas\\Documents\\projects\\esinet\\evaluate\\..\\esinet\\util\\util.py:420: RuntimeWarning: Too few samples (required : 310 got : 20), covariance estimate may be unreliable\n",
      "  data_cov = mne.compute_raw_covariance(raw, tmin=tmin,\n",
      "c:\\Users\\Lukas\\Documents\\projects\\esinet\\evaluate\\..\\esinet\\util\\util.py:388: RuntimeWarning: An average reference projection was already added. The data has been left untouched.\n",
      "  epochs.set_eeg_reference(projection=True, verbose=verbose)#.apply_baseline(baseline=baseline)\n",
      "c:\\Users\\Lukas\\Documents\\projects\\esinet\\evaluate\\..\\esinet\\util\\util.py:420: RuntimeWarning: Too few samples (required : 310 got : 100), covariance estimate may be unreliable\n",
      "  data_cov = mne.compute_raw_covariance(raw, tmin=tmin,\n",
      "c:\\Users\\Lukas\\Documents\\projects\\esinet\\evaluate\\..\\esinet\\util\\util.py:388: RuntimeWarning: An average reference projection was already added. The data has been left untouched.\n",
      "  epochs.set_eeg_reference(projection=True, verbose=verbose)#.apply_baseline(baseline=baseline)\n"
     ]
    },
    {
     "name": "stdout",
     "output_type": "stream",
     "text": [
      "<RawArray | 61 x 517 (5.2 s), ~336 kB, data loaded> 4.0 info empirical\n",
      "<RawArray | 61 x 420 (4.2 s), ~290 kB, data loaded> 4.0 info empirical\n",
      "<RawArray | 61 x 450 (4.5 s), ~304 kB, data loaded> 4.0 info empirical\n",
      "<RawArray | 61 x 461 (4.6 s), ~310 kB, data loaded> 4.0 info empirical\n",
      "<RawArray | 61 x 505 (5.0 s), ~330 kB, data loaded> 4.0 info empirical\n"
     ]
    },
    {
     "name": "stderr",
     "output_type": "stream",
     "text": [
      "c:\\Users\\Lukas\\Documents\\projects\\esinet\\evaluate\\..\\esinet\\util\\util.py:420: RuntimeWarning: Too few samples (required : 310 got : 20), covariance estimate may be unreliable\n",
      "  data_cov = mne.compute_raw_covariance(raw, tmin=tmin,\n",
      "c:\\Users\\Lukas\\Documents\\projects\\esinet\\evaluate\\..\\esinet\\util\\util.py:388: RuntimeWarning: An average reference projection was already added. The data has been left untouched.\n",
      "  epochs.set_eeg_reference(projection=True, verbose=verbose)#.apply_baseline(baseline=baseline)\n",
      "c:\\Users\\Lukas\\Documents\\projects\\esinet\\evaluate\\..\\esinet\\util\\util.py:420: RuntimeWarning: Too few samples (required : 310 got : 40), covariance estimate may be unreliable\n",
      "  data_cov = mne.compute_raw_covariance(raw, tmin=tmin,\n",
      "c:\\Users\\Lukas\\Documents\\projects\\esinet\\evaluate\\..\\esinet\\util\\util.py:388: RuntimeWarning: An average reference projection was already added. The data has been left untouched.\n",
      "  epochs.set_eeg_reference(projection=True, verbose=verbose)#.apply_baseline(baseline=baseline)\n",
      "c:\\Users\\Lukas\\Documents\\projects\\esinet\\evaluate\\..\\esinet\\util\\util.py:420: RuntimeWarning: Too few samples (required : 310 got : 60), covariance estimate may be unreliable\n",
      "  data_cov = mne.compute_raw_covariance(raw, tmin=tmin,\n",
      "c:\\Users\\Lukas\\Documents\\projects\\esinet\\evaluate\\..\\esinet\\util\\util.py:388: RuntimeWarning: An average reference projection was already added. The data has been left untouched.\n",
      "  epochs.set_eeg_reference(projection=True, verbose=verbose)#.apply_baseline(baseline=baseline)\n",
      "c:\\Users\\Lukas\\Documents\\projects\\esinet\\evaluate\\..\\esinet\\util\\util.py:420: RuntimeWarning: Too few samples (required : 310 got : 100), covariance estimate may be unreliable\n",
      "  data_cov = mne.compute_raw_covariance(raw, tmin=tmin,\n",
      "c:\\Users\\Lukas\\Documents\\projects\\esinet\\evaluate\\..\\esinet\\util\\util.py:388: RuntimeWarning: An average reference projection was already added. The data has been left untouched.\n",
      "  epochs.set_eeg_reference(projection=True, verbose=verbose)#.apply_baseline(baseline=baseline)\n"
     ]
    },
    {
     "name": "stdout",
     "output_type": "stream",
     "text": [
      "<RawArray | 61 x 529 (5.3 s), ~342 kB, data loaded> 4.0 info empirical\n",
      "<RawArray | 61 x 405 (4.0 s), ~283 kB, data loaded> 4.0 info empirical\n",
      "<RawArray | 61 x 482 (4.8 s), ~320 kB, data loaded> 4.0 info empirical\n",
      "<RawArray | 61 x 508 (5.1 s), ~332 kB, data loaded> 4.0 info empirical\n"
     ]
    },
    {
     "name": "stderr",
     "output_type": "stream",
     "text": [
      "c:\\Users\\Lukas\\Documents\\projects\\esinet\\evaluate\\..\\esinet\\util\\util.py:420: RuntimeWarning: Too few samples (required : 310 got : 120), covariance estimate may be unreliable\n",
      "  data_cov = mne.compute_raw_covariance(raw, tmin=tmin,\n",
      "c:\\Users\\Lukas\\Documents\\projects\\esinet\\evaluate\\..\\esinet\\util\\util.py:388: RuntimeWarning: An average reference projection was already added. The data has been left untouched.\n",
      "  epochs.set_eeg_reference(projection=True, verbose=verbose)#.apply_baseline(baseline=baseline)\n",
      "c:\\Users\\Lukas\\Documents\\projects\\esinet\\evaluate\\..\\esinet\\util\\util.py:423: RuntimeWarning: Epochs are not baseline corrected, covariance matrix may be inaccurate\n",
      "  data_cov = mne.compute_covariance(epochs, tmin=0.0,\n",
      "c:\\Users\\Lukas\\Documents\\projects\\esinet\\evaluate\\..\\esinet\\util\\util.py:423: RuntimeWarning: Too few samples (required : 310 got : 5), covariance estimate may be unreliable\n",
      "  data_cov = mne.compute_covariance(epochs, tmin=0.0,\n",
      "c:\\Users\\Lukas\\Documents\\projects\\esinet\\evaluate\\..\\esinet\\util\\util.py:388: RuntimeWarning: An average reference projection was already added. The data has been left untouched.\n",
      "  epochs.set_eeg_reference(projection=True, verbose=verbose)#.apply_baseline(baseline=baseline)\n",
      "c:\\Users\\Lukas\\Documents\\projects\\esinet\\evaluate\\..\\esinet\\util\\util.py:420: RuntimeWarning: Too few samples (required : 310 got : 80), covariance estimate may be unreliable\n",
      "  data_cov = mne.compute_raw_covariance(raw, tmin=tmin,\n",
      "c:\\Users\\Lukas\\Documents\\projects\\esinet\\evaluate\\..\\esinet\\util\\util.py:388: RuntimeWarning: An average reference projection was already added. The data has been left untouched.\n",
      "  epochs.set_eeg_reference(projection=True, verbose=verbose)#.apply_baseline(baseline=baseline)\n",
      "c:\\Users\\Lukas\\Documents\\projects\\esinet\\evaluate\\..\\esinet\\util\\util.py:420: RuntimeWarning: Too few samples (required : 310 got : 100), covariance estimate may be unreliable\n",
      "  data_cov = mne.compute_raw_covariance(raw, tmin=tmin,\n",
      "c:\\Users\\Lukas\\Documents\\projects\\esinet\\evaluate\\..\\esinet\\util\\util.py:388: RuntimeWarning: An average reference projection was already added. The data has been left untouched.\n",
      "  epochs.set_eeg_reference(projection=True, verbose=verbose)#.apply_baseline(baseline=baseline)\n"
     ]
    },
    {
     "name": "stdout",
     "output_type": "stream",
     "text": [
      "<RawArray | 61 x 524 (5.2 s), ~340 kB, data loaded> 4.0 info empirical\n",
      "<RawArray | 61 x 550 (5.5 s), ~352 kB, data loaded> 4.0 info empirical\n",
      "<RawArray | 61 x 554 (5.5 s), ~354 kB, data loaded> 4.0 info empirical\n",
      "<RawArray | 61 x 456 (4.5 s), ~307 kB, data loaded> 4.0 info empirical\n"
     ]
    },
    {
     "name": "stderr",
     "output_type": "stream",
     "text": [
      "c:\\Users\\Lukas\\Documents\\projects\\esinet\\evaluate\\..\\esinet\\util\\util.py:420: RuntimeWarning: Too few samples (required : 310 got : 120), covariance estimate may be unreliable\n",
      "  data_cov = mne.compute_raw_covariance(raw, tmin=tmin,\n",
      "c:\\Users\\Lukas\\Documents\\projects\\esinet\\evaluate\\..\\esinet\\util\\util.py:388: RuntimeWarning: An average reference projection was already added. The data has been left untouched.\n",
      "  epochs.set_eeg_reference(projection=True, verbose=verbose)#.apply_baseline(baseline=baseline)\n",
      "c:\\Users\\Lukas\\Documents\\projects\\esinet\\evaluate\\..\\esinet\\util\\util.py:420: RuntimeWarning: Too few samples (required : 310 got : 140), covariance estimate may be unreliable\n",
      "  data_cov = mne.compute_raw_covariance(raw, tmin=tmin,\n",
      "c:\\Users\\Lukas\\Documents\\projects\\esinet\\evaluate\\..\\esinet\\util\\util.py:388: RuntimeWarning: An average reference projection was already added. The data has been left untouched.\n",
      "  epochs.set_eeg_reference(projection=True, verbose=verbose)#.apply_baseline(baseline=baseline)\n",
      "c:\\Users\\Lukas\\Documents\\projects\\esinet\\evaluate\\..\\esinet\\util\\util.py:420: RuntimeWarning: Too few samples (required : 310 got : 140), covariance estimate may be unreliable\n",
      "  data_cov = mne.compute_raw_covariance(raw, tmin=tmin,\n",
      "c:\\Users\\Lukas\\Documents\\projects\\esinet\\evaluate\\..\\esinet\\util\\util.py:388: RuntimeWarning: An average reference projection was already added. The data has been left untouched.\n",
      "  epochs.set_eeg_reference(projection=True, verbose=verbose)#.apply_baseline(baseline=baseline)\n",
      "c:\\Users\\Lukas\\Documents\\projects\\esinet\\evaluate\\..\\esinet\\util\\util.py:420: RuntimeWarning: Too few samples (required : 310 got : 40), covariance estimate may be unreliable\n",
      "  data_cov = mne.compute_raw_covariance(raw, tmin=tmin,\n",
      "c:\\Users\\Lukas\\Documents\\projects\\esinet\\evaluate\\..\\esinet\\util\\util.py:388: RuntimeWarning: An average reference projection was already added. The data has been left untouched.\n",
      "  epochs.set_eeg_reference(projection=True, verbose=verbose)#.apply_baseline(baseline=baseline)\n"
     ]
    },
    {
     "name": "stdout",
     "output_type": "stream",
     "text": [
      "<RawArray | 61 x 408 (4.1 s), ~284 kB, data loaded> 4.0 info empirical\n",
      "<RawArray | 61 x 533 (5.3 s), ~344 kB, data loaded> 4.0 info empirical\n",
      "<RawArray | 61 x 512 (5.1 s), ~334 kB, data loaded> 4.0 info empirical\n",
      "<RawArray | 61 x 447 (4.5 s), ~303 kB, data loaded> 4.0 info empirical\n",
      "<RawArray | 61 x 559 (5.6 s), ~356 kB, data loaded> 4.0 info empirical\n"
     ]
    },
    {
     "name": "stderr",
     "output_type": "stream",
     "text": [
      "c:\\Users\\Lukas\\Documents\\projects\\esinet\\evaluate\\..\\esinet\\util\\util.py:423: RuntimeWarning: Epochs are not baseline corrected, covariance matrix may be inaccurate\n",
      "  data_cov = mne.compute_covariance(epochs, tmin=0.0,\n",
      "c:\\Users\\Lukas\\Documents\\projects\\esinet\\evaluate\\..\\esinet\\util\\util.py:423: RuntimeWarning: Too few samples (required : 310 got : 8), covariance estimate may be unreliable\n",
      "  data_cov = mne.compute_covariance(epochs, tmin=0.0,\n",
      "c:\\Users\\Lukas\\Documents\\projects\\esinet\\evaluate\\..\\esinet\\util\\util.py:388: RuntimeWarning: An average reference projection was already added. The data has been left untouched.\n",
      "  epochs.set_eeg_reference(projection=True, verbose=verbose)#.apply_baseline(baseline=baseline)\n",
      "c:\\Users\\Lukas\\Documents\\projects\\esinet\\evaluate\\..\\esinet\\util\\util.py:420: RuntimeWarning: Too few samples (required : 310 got : 120), covariance estimate may be unreliable\n",
      "  data_cov = mne.compute_raw_covariance(raw, tmin=tmin,\n",
      "c:\\Users\\Lukas\\Documents\\projects\\esinet\\evaluate\\..\\esinet\\util\\util.py:388: RuntimeWarning: An average reference projection was already added. The data has been left untouched.\n",
      "  epochs.set_eeg_reference(projection=True, verbose=verbose)#.apply_baseline(baseline=baseline)\n",
      "c:\\Users\\Lukas\\Documents\\projects\\esinet\\evaluate\\..\\esinet\\util\\util.py:420: RuntimeWarning: Too few samples (required : 310 got : 100), covariance estimate may be unreliable\n",
      "  data_cov = mne.compute_raw_covariance(raw, tmin=tmin,\n",
      "c:\\Users\\Lukas\\Documents\\projects\\esinet\\evaluate\\..\\esinet\\util\\util.py:388: RuntimeWarning: An average reference projection was already added. The data has been left untouched.\n",
      "  epochs.set_eeg_reference(projection=True, verbose=verbose)#.apply_baseline(baseline=baseline)\n",
      "c:\\Users\\Lukas\\Documents\\projects\\esinet\\evaluate\\..\\esinet\\util\\util.py:420: RuntimeWarning: Too few samples (required : 310 got : 40), covariance estimate may be unreliable\n",
      "  data_cov = mne.compute_raw_covariance(raw, tmin=tmin,\n",
      "c:\\Users\\Lukas\\Documents\\projects\\esinet\\evaluate\\..\\esinet\\util\\util.py:388: RuntimeWarning: An average reference projection was already added. The data has been left untouched.\n",
      "  epochs.set_eeg_reference(projection=True, verbose=verbose)#.apply_baseline(baseline=baseline)\n",
      "c:\\Users\\Lukas\\Documents\\projects\\esinet\\evaluate\\..\\esinet\\util\\util.py:420: RuntimeWarning: Too few samples (required : 310 got : 140), covariance estimate may be unreliable\n",
      "  data_cov = mne.compute_raw_covariance(raw, tmin=tmin,\n",
      "c:\\Users\\Lukas\\Documents\\projects\\esinet\\evaluate\\..\\esinet\\util\\util.py:388: RuntimeWarning: An average reference projection was already added. The data has been left untouched.\n",
      "  epochs.set_eeg_reference(projection=True, verbose=verbose)#.apply_baseline(baseline=baseline)\n",
      "c:\\Users\\Lukas\\Documents\\projects\\esinet\\evaluate\\..\\esinet\\util\\util.py:420: RuntimeWarning: Too few samples (required : 310 got : 40), covariance estimate may be unreliable\n",
      "  data_cov = mne.compute_raw_covariance(raw, tmin=tmin,\n",
      "c:\\Users\\Lukas\\Documents\\projects\\esinet\\evaluate\\..\\esinet\\util\\util.py:388: RuntimeWarning: An average reference projection was already added. The data has been left untouched.\n",
      "  epochs.set_eeg_reference(projection=True, verbose=verbose)#.apply_baseline(baseline=baseline)\n",
      "c:\\Users\\Lukas\\Documents\\projects\\esinet\\evaluate\\..\\esinet\\util\\util.py:420: RuntimeWarning: Too few samples (required : 310 got : 80), covariance estimate may be unreliable\n",
      "  data_cov = mne.compute_raw_covariance(raw, tmin=tmin,\n",
      "c:\\Users\\Lukas\\Documents\\projects\\esinet\\evaluate\\..\\esinet\\util\\util.py:388: RuntimeWarning: An average reference projection was already added. The data has been left untouched.\n",
      "  epochs.set_eeg_reference(projection=True, verbose=verbose)#.apply_baseline(baseline=baseline)\n",
      "c:\\Users\\Lukas\\Documents\\projects\\esinet\\evaluate\\..\\esinet\\util\\util.py:420: RuntimeWarning: Too few samples (required : 310 got : 120), covariance estimate may be unreliable\n",
      "  data_cov = mne.compute_raw_covariance(raw, tmin=tmin,\n",
      "c:\\Users\\Lukas\\Documents\\projects\\esinet\\evaluate\\..\\esinet\\util\\util.py:388: RuntimeWarning: An average reference projection was already added. The data has been left untouched.\n",
      "  epochs.set_eeg_reference(projection=True, verbose=verbose)#.apply_baseline(baseline=baseline)\n"
     ]
    },
    {
     "name": "stdout",
     "output_type": "stream",
     "text": [
      "<RawArray | 61 x 444 (4.4 s), ~301 kB, data loaded> 4.0 info empirical\n",
      "<RawArray | 61 x 498 (5.0 s), ~327 kB, data loaded> 4.0 info empirical\n",
      "<RawArray | 61 x 527 (5.3 s), ~341 kB, data loaded> 4.0 info empirical\n",
      "<RawArray | 61 x 543 (5.4 s), ~349 kB, data loaded> 4.0 info empirical\n"
     ]
    },
    {
     "name": "stderr",
     "output_type": "stream",
     "text": [
      "c:\\Users\\Lukas\\Documents\\projects\\esinet\\evaluate\\..\\esinet\\util\\util.py:420: RuntimeWarning: Too few samples (required : 310 got : 140), covariance estimate may be unreliable\n",
      "  data_cov = mne.compute_raw_covariance(raw, tmin=tmin,\n",
      "c:\\Users\\Lukas\\Documents\\projects\\esinet\\evaluate\\..\\esinet\\util\\util.py:388: RuntimeWarning: An average reference projection was already added. The data has been left untouched.\n",
      "  epochs.set_eeg_reference(projection=True, verbose=verbose)#.apply_baseline(baseline=baseline)\n",
      "c:\\Users\\Lukas\\Documents\\projects\\esinet\\evaluate\\..\\esinet\\util\\util.py:423: RuntimeWarning: Epochs are not baseline corrected, covariance matrix may be inaccurate\n",
      "  data_cov = mne.compute_covariance(epochs, tmin=0.0,\n",
      "c:\\Users\\Lukas\\Documents\\projects\\esinet\\evaluate\\..\\esinet\\util\\util.py:423: RuntimeWarning: Too few samples (required : 310 got : 2), covariance estimate may be unreliable\n",
      "  data_cov = mne.compute_covariance(epochs, tmin=0.0,\n",
      "c:\\Users\\Lukas\\Documents\\projects\\esinet\\evaluate\\..\\esinet\\util\\util.py:388: RuntimeWarning: An average reference projection was already added. The data has been left untouched.\n",
      "  epochs.set_eeg_reference(projection=True, verbose=verbose)#.apply_baseline(baseline=baseline)\n",
      "c:\\Users\\Lukas\\Documents\\projects\\esinet\\evaluate\\..\\esinet\\util\\util.py:420: RuntimeWarning: Too few samples (required : 310 got : 160), covariance estimate may be unreliable\n",
      "  data_cov = mne.compute_raw_covariance(raw, tmin=tmin,\n",
      "c:\\Users\\Lukas\\Documents\\projects\\esinet\\evaluate\\..\\esinet\\util\\util.py:388: RuntimeWarning: An average reference projection was already added. The data has been left untouched.\n",
      "  epochs.set_eeg_reference(projection=True, verbose=verbose)#.apply_baseline(baseline=baseline)\n",
      "c:\\Users\\Lukas\\Documents\\projects\\esinet\\evaluate\\..\\esinet\\util\\util.py:420: RuntimeWarning: Too few samples (required : 310 got : 80), covariance estimate may be unreliable\n",
      "  data_cov = mne.compute_raw_covariance(raw, tmin=tmin,\n",
      "c:\\Users\\Lukas\\Documents\\projects\\esinet\\evaluate\\..\\esinet\\util\\util.py:388: RuntimeWarning: An average reference projection was already added. The data has been left untouched.\n",
      "  epochs.set_eeg_reference(projection=True, verbose=verbose)#.apply_baseline(baseline=baseline)\n"
     ]
    },
    {
     "name": "stdout",
     "output_type": "stream",
     "text": [
      "<RawArray | 61 x 402 (4.0 s), ~281 kB, data loaded> 4.0 info empirical\n",
      "<RawArray | 61 x 569 (5.7 s), ~361 kB, data loaded> 4.0 info empirical\n",
      "<RawArray | 61 x 490 (4.9 s), ~323 kB, data loaded> 4.0 info empirical\n",
      "<RawArray | 61 x 438 (4.4 s), ~299 kB, data loaded> 4.0 info empirical\n"
     ]
    },
    {
     "name": "stderr",
     "output_type": "stream",
     "text": [
      "c:\\Users\\Lukas\\Documents\\projects\\esinet\\evaluate\\..\\esinet\\util\\util.py:420: RuntimeWarning: Too few samples (required : 310 got : 20), covariance estimate may be unreliable\n",
      "  data_cov = mne.compute_raw_covariance(raw, tmin=tmin,\n",
      "c:\\Users\\Lukas\\Documents\\projects\\esinet\\evaluate\\..\\esinet\\util\\util.py:388: RuntimeWarning: An average reference projection was already added. The data has been left untouched.\n",
      "  epochs.set_eeg_reference(projection=True, verbose=verbose)#.apply_baseline(baseline=baseline)\n",
      "c:\\Users\\Lukas\\Documents\\projects\\esinet\\evaluate\\..\\esinet\\util\\util.py:420: RuntimeWarning: Too few samples (required : 310 got : 80), covariance estimate may be unreliable\n",
      "  data_cov = mne.compute_raw_covariance(raw, tmin=tmin,\n",
      "c:\\Users\\Lukas\\Documents\\projects\\esinet\\evaluate\\..\\esinet\\util\\util.py:388: RuntimeWarning: An average reference projection was already added. The data has been left untouched.\n",
      "  epochs.set_eeg_reference(projection=True, verbose=verbose)#.apply_baseline(baseline=baseline)\n",
      "c:\\Users\\Lukas\\Documents\\projects\\esinet\\evaluate\\..\\esinet\\util\\util.py:420: RuntimeWarning: Too few samples (required : 310 got : 100), covariance estimate may be unreliable\n",
      "  data_cov = mne.compute_raw_covariance(raw, tmin=tmin,\n",
      "c:\\Users\\Lukas\\Documents\\projects\\esinet\\evaluate\\..\\esinet\\util\\util.py:388: RuntimeWarning: An average reference projection was already added. The data has been left untouched.\n",
      "  epochs.set_eeg_reference(projection=True, verbose=verbose)#.apply_baseline(baseline=baseline)\n",
      "c:\\Users\\Lukas\\Documents\\projects\\esinet\\evaluate\\..\\esinet\\util\\util.py:420: RuntimeWarning: Too few samples (required : 310 got : 160), covariance estimate may be unreliable\n",
      "  data_cov = mne.compute_raw_covariance(raw, tmin=tmin,\n",
      "c:\\Users\\Lukas\\Documents\\projects\\esinet\\evaluate\\..\\esinet\\util\\util.py:388: RuntimeWarning: An average reference projection was already added. The data has been left untouched.\n",
      "  epochs.set_eeg_reference(projection=True, verbose=verbose)#.apply_baseline(baseline=baseline)\n"
     ]
    },
    {
     "name": "stdout",
     "output_type": "stream",
     "text": [
      "<RawArray | 61 x 482 (4.8 s), ~320 kB, data loaded> 4.0 info empirical\n",
      "<RawArray | 61 x 516 (5.2 s), ~336 kB, data loaded> 4.0 info empirical\n",
      "<RawArray | 61 x 566 (5.7 s), ~360 kB, data loaded> 4.0 info empirical\n",
      "<RawArray | 61 x 450 (4.5 s), ~304 kB, data loaded> 4.0 info empirical\n",
      "<RawArray | 61 x 498 (5.0 s), ~327 kB, data loaded> 4.0 info empirical\n"
     ]
    },
    {
     "name": "stderr",
     "output_type": "stream",
     "text": [
      "c:\\Users\\Lukas\\Documents\\projects\\esinet\\evaluate\\..\\esinet\\util\\util.py:420: RuntimeWarning: Too few samples (required : 310 got : 40), covariance estimate may be unreliable\n",
      "  data_cov = mne.compute_raw_covariance(raw, tmin=tmin,\n",
      "c:\\Users\\Lukas\\Documents\\projects\\esinet\\evaluate\\..\\esinet\\util\\util.py:388: RuntimeWarning: An average reference projection was already added. The data has been left untouched.\n",
      "  epochs.set_eeg_reference(projection=True, verbose=verbose)#.apply_baseline(baseline=baseline)\n",
      "c:\\Users\\Lukas\\Documents\\projects\\esinet\\evaluate\\..\\esinet\\util\\util.py:420: RuntimeWarning: Too few samples (required : 310 got : 80), covariance estimate may be unreliable\n",
      "  data_cov = mne.compute_raw_covariance(raw, tmin=tmin,\n",
      "c:\\Users\\Lukas\\Documents\\projects\\esinet\\evaluate\\..\\esinet\\util\\util.py:388: RuntimeWarning: An average reference projection was already added. The data has been left untouched.\n",
      "  epochs.set_eeg_reference(projection=True, verbose=verbose)#.apply_baseline(baseline=baseline)\n",
      "c:\\Users\\Lukas\\Documents\\projects\\esinet\\evaluate\\..\\esinet\\util\\util.py:420: RuntimeWarning: Too few samples (required : 310 got : 120), covariance estimate may be unreliable\n",
      "  data_cov = mne.compute_raw_covariance(raw, tmin=tmin,\n",
      "c:\\Users\\Lukas\\Documents\\projects\\esinet\\evaluate\\..\\esinet\\util\\util.py:388: RuntimeWarning: An average reference projection was already added. The data has been left untouched.\n",
      "  epochs.set_eeg_reference(projection=True, verbose=verbose)#.apply_baseline(baseline=baseline)\n",
      "c:\\Users\\Lukas\\Documents\\projects\\esinet\\evaluate\\..\\esinet\\util\\util.py:420: RuntimeWarning: Too few samples (required : 310 got : 40), covariance estimate may be unreliable\n",
      "  data_cov = mne.compute_raw_covariance(raw, tmin=tmin,\n",
      "c:\\Users\\Lukas\\Documents\\projects\\esinet\\evaluate\\..\\esinet\\util\\util.py:388: RuntimeWarning: An average reference projection was already added. The data has been left untouched.\n",
      "  epochs.set_eeg_reference(projection=True, verbose=verbose)#.apply_baseline(baseline=baseline)\n"
     ]
    },
    {
     "name": "stdout",
     "output_type": "stream",
     "text": [
      "<RawArray | 61 x 524 (5.2 s), ~340 kB, data loaded> 4.0 info empirical\n",
      "<RawArray | 61 x 454 (4.5 s), ~306 kB, data loaded> 4.0 info empirical\n",
      "<RawArray | 61 x 458 (4.6 s), ~308 kB, data loaded> 4.0 info empirical\n",
      "<RawArray | 61 x 433 (4.3 s), ~296 kB, data loaded> 4.0 info empirical\n"
     ]
    },
    {
     "name": "stderr",
     "output_type": "stream",
     "text": [
      "c:\\Users\\Lukas\\Documents\\projects\\esinet\\evaluate\\..\\esinet\\util\\util.py:420: RuntimeWarning: Too few samples (required : 310 got : 40), covariance estimate may be unreliable\n",
      "  data_cov = mne.compute_raw_covariance(raw, tmin=tmin,\n",
      "c:\\Users\\Lukas\\Documents\\projects\\esinet\\evaluate\\..\\esinet\\util\\util.py:388: RuntimeWarning: An average reference projection was already added. The data has been left untouched.\n",
      "  epochs.set_eeg_reference(projection=True, verbose=verbose)#.apply_baseline(baseline=baseline)\n",
      "c:\\Users\\Lukas\\Documents\\projects\\esinet\\evaluate\\..\\esinet\\util\\util.py:420: RuntimeWarning: Too few samples (required : 310 got : 20), covariance estimate may be unreliable\n",
      "  data_cov = mne.compute_raw_covariance(raw, tmin=tmin,\n",
      "c:\\Users\\Lukas\\Documents\\projects\\esinet\\evaluate\\..\\esinet\\util\\util.py:388: RuntimeWarning: An average reference projection was already added. The data has been left untouched.\n",
      "  epochs.set_eeg_reference(projection=True, verbose=verbose)#.apply_baseline(baseline=baseline)\n",
      "c:\\Users\\Lukas\\Documents\\projects\\esinet\\evaluate\\..\\esinet\\util\\util.py:420: RuntimeWarning: Too few samples (required : 310 got : 180), covariance estimate may be unreliable\n",
      "  data_cov = mne.compute_raw_covariance(raw, tmin=tmin,\n",
      "c:\\Users\\Lukas\\Documents\\projects\\esinet\\evaluate\\..\\esinet\\util\\util.py:388: RuntimeWarning: An average reference projection was already added. The data has been left untouched.\n",
      "  epochs.set_eeg_reference(projection=True, verbose=verbose)#.apply_baseline(baseline=baseline)\n",
      "c:\\Users\\Lukas\\Documents\\projects\\esinet\\evaluate\\..\\esinet\\util\\util.py:420: RuntimeWarning: Too few samples (required : 310 got : 180), covariance estimate may be unreliable\n",
      "  data_cov = mne.compute_raw_covariance(raw, tmin=tmin,\n",
      "c:\\Users\\Lukas\\Documents\\projects\\esinet\\evaluate\\..\\esinet\\util\\util.py:388: RuntimeWarning: An average reference projection was already added. The data has been left untouched.\n",
      "  epochs.set_eeg_reference(projection=True, verbose=verbose)#.apply_baseline(baseline=baseline)\n"
     ]
    },
    {
     "name": "stdout",
     "output_type": "stream",
     "text": [
      "<RawArray | 61 x 590 (5.9 s), ~371 kB, data loaded> 4.0 info empirical\n",
      "<RawArray | 61 x 581 (5.8 s), ~367 kB, data loaded> 4.0 info empirical\n",
      "<RawArray | 61 x 516 (5.2 s), ~336 kB, data loaded> 4.0 info empirical\n",
      "<RawArray | 61 x 572 (5.7 s), ~362 kB, data loaded> 4.0 info empirical\n"
     ]
    },
    {
     "name": "stderr",
     "output_type": "stream",
     "text": [
      "c:\\Users\\Lukas\\Documents\\projects\\esinet\\evaluate\\..\\esinet\\util\\util.py:420: RuntimeWarning: Too few samples (required : 310 got : 100), covariance estimate may be unreliable\n",
      "  data_cov = mne.compute_raw_covariance(raw, tmin=tmin,\n",
      "c:\\Users\\Lukas\\Documents\\projects\\esinet\\evaluate\\..\\esinet\\util\\util.py:388: RuntimeWarning: An average reference projection was already added. The data has been left untouched.\n",
      "  epochs.set_eeg_reference(projection=True, verbose=verbose)#.apply_baseline(baseline=baseline)\n",
      "c:\\Users\\Lukas\\Documents\\projects\\esinet\\evaluate\\..\\esinet\\util\\util.py:420: RuntimeWarning: Too few samples (required : 310 got : 160), covariance estimate may be unreliable\n",
      "  data_cov = mne.compute_raw_covariance(raw, tmin=tmin,\n",
      "c:\\Users\\Lukas\\Documents\\projects\\esinet\\evaluate\\..\\esinet\\util\\util.py:388: RuntimeWarning: An average reference projection was already added. The data has been left untouched.\n",
      "  epochs.set_eeg_reference(projection=True, verbose=verbose)#.apply_baseline(baseline=baseline)\n",
      "c:\\Users\\Lukas\\Documents\\projects\\esinet\\evaluate\\..\\esinet\\util\\util.py:423: RuntimeWarning: Epochs are not baseline corrected, covariance matrix may be inaccurate\n",
      "  data_cov = mne.compute_covariance(epochs, tmin=0.0,\n",
      "c:\\Users\\Lukas\\Documents\\projects\\esinet\\evaluate\\..\\esinet\\util\\util.py:423: RuntimeWarning: Too few samples (required : 310 got : 19), covariance estimate may be unreliable\n",
      "  data_cov = mne.compute_covariance(epochs, tmin=0.0,\n",
      "c:\\Users\\Lukas\\Documents\\projects\\esinet\\evaluate\\..\\esinet\\util\\util.py:388: RuntimeWarning: An average reference projection was already added. The data has been left untouched.\n",
      "  epochs.set_eeg_reference(projection=True, verbose=verbose)#.apply_baseline(baseline=baseline)\n",
      "c:\\Users\\Lukas\\Documents\\projects\\esinet\\evaluate\\..\\esinet\\util\\util.py:420: RuntimeWarning: Too few samples (required : 310 got : 180), covariance estimate may be unreliable\n",
      "  data_cov = mne.compute_raw_covariance(raw, tmin=tmin,\n",
      "c:\\Users\\Lukas\\Documents\\projects\\esinet\\evaluate\\..\\esinet\\util\\util.py:388: RuntimeWarning: An average reference projection was already added. The data has been left untouched.\n",
      "  epochs.set_eeg_reference(projection=True, verbose=verbose)#.apply_baseline(baseline=baseline)\n"
     ]
    },
    {
     "name": "stdout",
     "output_type": "stream",
     "text": [
      "<RawArray | 61 x 419 (4.2 s), ~289 kB, data loaded> 4.0 info empirical\n",
      "<RawArray | 61 x 589 (5.9 s), ~371 kB, data loaded> 4.0 info empirical\n",
      "<RawArray | 61 x 546 (5.5 s), ~350 kB, data loaded> 4.0 info empirical\n",
      "<RawArray | 61 x 522 (5.2 s), ~339 kB, data loaded> 4.0 info empirical\n"
     ]
    },
    {
     "name": "stderr",
     "output_type": "stream",
     "text": [
      "c:\\Users\\Lukas\\Documents\\projects\\esinet\\evaluate\\..\\esinet\\util\\util.py:420: RuntimeWarning: Too few samples (required : 310 got : 140), covariance estimate may be unreliable\n",
      "  data_cov = mne.compute_raw_covariance(raw, tmin=tmin,\n",
      "c:\\Users\\Lukas\\Documents\\projects\\esinet\\evaluate\\..\\esinet\\util\\util.py:388: RuntimeWarning: An average reference projection was already added. The data has been left untouched.\n",
      "  epochs.set_eeg_reference(projection=True, verbose=verbose)#.apply_baseline(baseline=baseline)\n",
      "c:\\Users\\Lukas\\Documents\\projects\\esinet\\evaluate\\..\\esinet\\util\\util.py:420: RuntimeWarning: Too few samples (required : 310 got : 120), covariance estimate may be unreliable\n",
      "  data_cov = mne.compute_raw_covariance(raw, tmin=tmin,\n",
      "c:\\Users\\Lukas\\Documents\\projects\\esinet\\evaluate\\..\\esinet\\util\\util.py:388: RuntimeWarning: An average reference projection was already added. The data has been left untouched.\n",
      "  epochs.set_eeg_reference(projection=True, verbose=verbose)#.apply_baseline(baseline=baseline)\n",
      "c:\\Users\\Lukas\\Documents\\projects\\esinet\\evaluate\\..\\esinet\\util\\util.py:420: RuntimeWarning: Too few samples (required : 310 got : 180), covariance estimate may be unreliable\n",
      "  data_cov = mne.compute_raw_covariance(raw, tmin=tmin,\n",
      "c:\\Users\\Lukas\\Documents\\projects\\esinet\\evaluate\\..\\esinet\\util\\util.py:388: RuntimeWarning: An average reference projection was already added. The data has been left untouched.\n",
      "  epochs.set_eeg_reference(projection=True, verbose=verbose)#.apply_baseline(baseline=baseline)\n",
      "c:\\Users\\Lukas\\Documents\\projects\\esinet\\evaluate\\..\\esinet\\util\\util.py:423: RuntimeWarning: Epochs are not baseline corrected, covariance matrix may be inaccurate\n",
      "  data_cov = mne.compute_covariance(epochs, tmin=0.0,\n",
      "c:\\Users\\Lukas\\Documents\\projects\\esinet\\evaluate\\..\\esinet\\util\\util.py:423: RuntimeWarning: Too few samples (required : 310 got : 16), covariance estimate may be unreliable\n",
      "  data_cov = mne.compute_covariance(epochs, tmin=0.0,\n",
      "c:\\Users\\Lukas\\Documents\\projects\\esinet\\evaluate\\..\\esinet\\util\\util.py:388: RuntimeWarning: An average reference projection was already added. The data has been left untouched.\n",
      "  epochs.set_eeg_reference(projection=True, verbose=verbose)#.apply_baseline(baseline=baseline)\n"
     ]
    },
    {
     "name": "stdout",
     "output_type": "stream",
     "text": [
      "<RawArray | 61 x 584 (5.8 s), ~368 kB, data loaded> 4.0 info empirical\n",
      "<RawArray | 61 x 416 (4.2 s), ~288 kB, data loaded> 4.0 info empirical\n",
      "<RawArray | 61 x 486 (4.8 s), ~321 kB, data loaded> 4.0 info empirical\n",
      "<RawArray | 61 x 548 (5.5 s), ~351 kB, data loaded> 4.0 info empirical\n"
     ]
    },
    {
     "name": "stderr",
     "output_type": "stream",
     "text": [
      "c:\\Users\\Lukas\\Documents\\projects\\esinet\\evaluate\\..\\esinet\\util\\util.py:420: RuntimeWarning: Too few samples (required : 310 got : 80), covariance estimate may be unreliable\n",
      "  data_cov = mne.compute_raw_covariance(raw, tmin=tmin,\n",
      "c:\\Users\\Lukas\\Documents\\projects\\esinet\\evaluate\\..\\esinet\\util\\util.py:388: RuntimeWarning: An average reference projection was already added. The data has been left untouched.\n",
      "  epochs.set_eeg_reference(projection=True, verbose=verbose)#.apply_baseline(baseline=baseline)\n",
      "c:\\Users\\Lukas\\Documents\\projects\\esinet\\evaluate\\..\\esinet\\util\\util.py:420: RuntimeWarning: Too few samples (required : 310 got : 140), covariance estimate may be unreliable\n",
      "  data_cov = mne.compute_raw_covariance(raw, tmin=tmin,\n",
      "c:\\Users\\Lukas\\Documents\\projects\\esinet\\evaluate\\..\\esinet\\util\\util.py:388: RuntimeWarning: An average reference projection was already added. The data has been left untouched.\n",
      "  epochs.set_eeg_reference(projection=True, verbose=verbose)#.apply_baseline(baseline=baseline)\n",
      "c:\\Users\\Lukas\\Documents\\projects\\esinet\\evaluate\\..\\esinet\\util\\util.py:420: RuntimeWarning: Too few samples (required : 310 got : 100), covariance estimate may be unreliable\n",
      "  data_cov = mne.compute_raw_covariance(raw, tmin=tmin,\n",
      "c:\\Users\\Lukas\\Documents\\projects\\esinet\\evaluate\\..\\esinet\\util\\util.py:388: RuntimeWarning: An average reference projection was already added. The data has been left untouched.\n",
      "  epochs.set_eeg_reference(projection=True, verbose=verbose)#.apply_baseline(baseline=baseline)\n",
      "c:\\Users\\Lukas\\Documents\\projects\\esinet\\evaluate\\..\\esinet\\util\\util.py:420: RuntimeWarning: Too few samples (required : 310 got : 180), covariance estimate may be unreliable\n",
      "  data_cov = mne.compute_raw_covariance(raw, tmin=tmin,\n",
      "c:\\Users\\Lukas\\Documents\\projects\\esinet\\evaluate\\..\\esinet\\util\\util.py:388: RuntimeWarning: An average reference projection was already added. The data has been left untouched.\n",
      "  epochs.set_eeg_reference(projection=True, verbose=verbose)#.apply_baseline(baseline=baseline)\n"
     ]
    },
    {
     "name": "stdout",
     "output_type": "stream",
     "text": [
      "<RawArray | 61 x 504 (5.0 s), ~330 kB, data loaded> 4.0 info empirical\n",
      "<RawArray | 61 x 598 (6.0 s), ~375 kB, data loaded> 4.0 info empirical\n",
      "<RawArray | 61 x 411 (4.1 s), ~286 kB, data loaded> 4.0 info empirical\n",
      "<RawArray | 61 x 477 (4.8 s), ~317 kB, data loaded> 4.0 info empirical\n"
     ]
    },
    {
     "name": "stderr",
     "output_type": "stream",
     "text": [
      "c:\\Users\\Lukas\\Documents\\projects\\esinet\\evaluate\\..\\esinet\\util\\util.py:423: RuntimeWarning: Epochs are not baseline corrected, covariance matrix may be inaccurate\n",
      "  data_cov = mne.compute_covariance(epochs, tmin=0.0,\n",
      "c:\\Users\\Lukas\\Documents\\projects\\esinet\\evaluate\\..\\esinet\\util\\util.py:423: RuntimeWarning: Too few samples (required : 310 got : 11), covariance estimate may be unreliable\n",
      "  data_cov = mne.compute_covariance(epochs, tmin=0.0,\n",
      "c:\\Users\\Lukas\\Documents\\projects\\esinet\\evaluate\\..\\esinet\\util\\util.py:388: RuntimeWarning: An average reference projection was already added. The data has been left untouched.\n",
      "  epochs.set_eeg_reference(projection=True, verbose=verbose)#.apply_baseline(baseline=baseline)\n",
      "c:\\Users\\Lukas\\Documents\\projects\\esinet\\evaluate\\..\\esinet\\util\\util.py:420: RuntimeWarning: Too few samples (required : 310 got : 60), covariance estimate may be unreliable\n",
      "  data_cov = mne.compute_raw_covariance(raw, tmin=tmin,\n",
      "c:\\Users\\Lukas\\Documents\\projects\\esinet\\evaluate\\..\\esinet\\util\\util.py:388: RuntimeWarning: An average reference projection was already added. The data has been left untouched.\n",
      "  epochs.set_eeg_reference(projection=True, verbose=verbose)#.apply_baseline(baseline=baseline)\n",
      "c:\\Users\\Lukas\\Documents\\projects\\esinet\\evaluate\\..\\esinet\\util\\util.py:420: RuntimeWarning: Too few samples (required : 310 got : 140), covariance estimate may be unreliable\n",
      "  data_cov = mne.compute_raw_covariance(raw, tmin=tmin,\n",
      "c:\\Users\\Lukas\\Documents\\projects\\esinet\\evaluate\\..\\esinet\\util\\util.py:388: RuntimeWarning: An average reference projection was already added. The data has been left untouched.\n",
      "  epochs.set_eeg_reference(projection=True, verbose=verbose)#.apply_baseline(baseline=baseline)\n",
      "c:\\Users\\Lukas\\Documents\\projects\\esinet\\evaluate\\..\\esinet\\util\\util.py:420: RuntimeWarning: Too few samples (required : 310 got : 100), covariance estimate may be unreliable\n",
      "  data_cov = mne.compute_raw_covariance(raw, tmin=tmin,\n",
      "c:\\Users\\Lukas\\Documents\\projects\\esinet\\evaluate\\..\\esinet\\util\\util.py:388: RuntimeWarning: An average reference projection was already added. The data has been left untouched.\n",
      "  epochs.set_eeg_reference(projection=True, verbose=verbose)#.apply_baseline(baseline=baseline)\n"
     ]
    },
    {
     "name": "stdout",
     "output_type": "stream",
     "text": [
      "<RawArray | 61 x 543 (5.4 s), ~349 kB, data loaded> 4.0 info empirical\n",
      "<RawArray | 61 x 509 (5.1 s), ~332 kB, data loaded> 4.0 info empirical\n",
      "<RawArray | 61 x 561 (5.6 s), ~357 kB, data loaded> 4.0 info empirical\n",
      "<RawArray | 61 x 523 (5.2 s), ~339 kB, data loaded> 4.0 info empirical\n"
     ]
    },
    {
     "name": "stderr",
     "output_type": "stream",
     "text": [
      "c:\\Users\\Lukas\\Documents\\projects\\esinet\\evaluate\\..\\esinet\\util\\util.py:420: RuntimeWarning: Too few samples (required : 310 got : 160), covariance estimate may be unreliable\n",
      "  data_cov = mne.compute_raw_covariance(raw, tmin=tmin,\n",
      "c:\\Users\\Lukas\\Documents\\projects\\esinet\\evaluate\\..\\esinet\\util\\util.py:388: RuntimeWarning: An average reference projection was already added. The data has been left untouched.\n",
      "  epochs.set_eeg_reference(projection=True, verbose=verbose)#.apply_baseline(baseline=baseline)\n",
      "c:\\Users\\Lukas\\Documents\\projects\\esinet\\evaluate\\..\\esinet\\util\\util.py:420: RuntimeWarning: Too few samples (required : 310 got : 120), covariance estimate may be unreliable\n",
      "  data_cov = mne.compute_raw_covariance(raw, tmin=tmin,\n",
      "c:\\Users\\Lukas\\Documents\\projects\\esinet\\evaluate\\..\\esinet\\util\\util.py:388: RuntimeWarning: An average reference projection was already added. The data has been left untouched.\n",
      "  epochs.set_eeg_reference(projection=True, verbose=verbose)#.apply_baseline(baseline=baseline)\n",
      "c:\\Users\\Lukas\\Documents\\projects\\esinet\\evaluate\\..\\esinet\\util\\util.py:420: RuntimeWarning: Too few samples (required : 310 got : 140), covariance estimate may be unreliable\n",
      "  data_cov = mne.compute_raw_covariance(raw, tmin=tmin,\n",
      "c:\\Users\\Lukas\\Documents\\projects\\esinet\\evaluate\\..\\esinet\\util\\util.py:388: RuntimeWarning: An average reference projection was already added. The data has been left untouched.\n",
      "  epochs.set_eeg_reference(projection=True, verbose=verbose)#.apply_baseline(baseline=baseline)\n",
      "c:\\Users\\Lukas\\Documents\\projects\\esinet\\evaluate\\..\\esinet\\util\\util.py:420: RuntimeWarning: Too few samples (required : 310 got : 80), covariance estimate may be unreliable\n",
      "  data_cov = mne.compute_raw_covariance(raw, tmin=tmin,\n",
      "c:\\Users\\Lukas\\Documents\\projects\\esinet\\evaluate\\..\\esinet\\util\\util.py:388: RuntimeWarning: An average reference projection was already added. The data has been left untouched.\n",
      "  epochs.set_eeg_reference(projection=True, verbose=verbose)#.apply_baseline(baseline=baseline)\n"
     ]
    },
    {
     "name": "stdout",
     "output_type": "stream",
     "text": [
      "<RawArray | 61 x 549 (5.5 s), ~351 kB, data loaded> 4.0 info empirical\n",
      "<RawArray | 61 x 498 (5.0 s), ~327 kB, data loaded> 4.0 info empirical\n",
      "<RawArray | 61 x 547 (5.5 s), ~350 kB, data loaded> 4.0 info empirical\n",
      "<RawArray | 61 x 504 (5.0 s), ~330 kB, data loaded> 4.0 info empirical\n"
     ]
    },
    {
     "name": "stderr",
     "output_type": "stream",
     "text": [
      "c:\\Users\\Lukas\\Documents\\projects\\esinet\\evaluate\\..\\esinet\\util\\util.py:420: RuntimeWarning: Too few samples (required : 310 got : 140), covariance estimate may be unreliable\n",
      "  data_cov = mne.compute_raw_covariance(raw, tmin=tmin,\n",
      "c:\\Users\\Lukas\\Documents\\projects\\esinet\\evaluate\\..\\esinet\\util\\util.py:388: RuntimeWarning: An average reference projection was already added. The data has been left untouched.\n",
      "  epochs.set_eeg_reference(projection=True, verbose=verbose)#.apply_baseline(baseline=baseline)\n",
      "c:\\Users\\Lukas\\Documents\\projects\\esinet\\evaluate\\..\\esinet\\util\\util.py:420: RuntimeWarning: Too few samples (required : 310 got : 100), covariance estimate may be unreliable\n",
      "  data_cov = mne.compute_raw_covariance(raw, tmin=tmin,\n",
      "c:\\Users\\Lukas\\Documents\\projects\\esinet\\evaluate\\..\\esinet\\util\\util.py:388: RuntimeWarning: An average reference projection was already added. The data has been left untouched.\n",
      "  epochs.set_eeg_reference(projection=True, verbose=verbose)#.apply_baseline(baseline=baseline)\n",
      "c:\\Users\\Lukas\\Documents\\projects\\esinet\\evaluate\\..\\esinet\\util\\util.py:420: RuntimeWarning: Too few samples (required : 310 got : 180), covariance estimate may be unreliable\n",
      "  data_cov = mne.compute_raw_covariance(raw, tmin=tmin,\n",
      "c:\\Users\\Lukas\\Documents\\projects\\esinet\\evaluate\\..\\esinet\\util\\util.py:388: RuntimeWarning: An average reference projection was already added. The data has been left untouched.\n",
      "  epochs.set_eeg_reference(projection=True, verbose=verbose)#.apply_baseline(baseline=baseline)\n",
      "c:\\Users\\Lukas\\Documents\\projects\\esinet\\evaluate\\..\\esinet\\util\\util.py:420: RuntimeWarning: Too few samples (required : 310 got : 40), covariance estimate may be unreliable\n",
      "  data_cov = mne.compute_raw_covariance(raw, tmin=tmin,\n",
      "c:\\Users\\Lukas\\Documents\\projects\\esinet\\evaluate\\..\\esinet\\util\\util.py:388: RuntimeWarning: An average reference projection was already added. The data has been left untouched.\n",
      "  epochs.set_eeg_reference(projection=True, verbose=verbose)#.apply_baseline(baseline=baseline)\n"
     ]
    },
    {
     "name": "stdout",
     "output_type": "stream",
     "text": [
      "<RawArray | 61 x 586 (5.8 s), ~369 kB, data loaded> 4.0 info empirical\n",
      "<RawArray | 61 x 457 (4.6 s), ~308 kB, data loaded> 4.0 info empirical\n",
      "<RawArray | 61 x 537 (5.4 s), ~346 kB, data loaded> 4.0 info empirical\n",
      "<RawArray | 61 x 566 (5.7 s), ~360 kB, data loaded> 4.0 info empirical\n"
     ]
    },
    {
     "name": "stderr",
     "output_type": "stream",
     "text": [
      "c:\\Users\\Lukas\\Documents\\projects\\esinet\\evaluate\\..\\esinet\\util\\util.py:420: RuntimeWarning: Too few samples (required : 310 got : 120), covariance estimate may be unreliable\n",
      "  data_cov = mne.compute_raw_covariance(raw, tmin=tmin,\n",
      "c:\\Users\\Lukas\\Documents\\projects\\esinet\\evaluate\\..\\esinet\\util\\util.py:388: RuntimeWarning: An average reference projection was already added. The data has been left untouched.\n",
      "  epochs.set_eeg_reference(projection=True, verbose=verbose)#.apply_baseline(baseline=baseline)\n",
      "c:\\Users\\Lukas\\Documents\\projects\\esinet\\evaluate\\..\\esinet\\util\\util.py:420: RuntimeWarning: Too few samples (required : 310 got : 160), covariance estimate may be unreliable\n",
      "  data_cov = mne.compute_raw_covariance(raw, tmin=tmin,\n",
      "c:\\Users\\Lukas\\Documents\\projects\\esinet\\evaluate\\..\\esinet\\util\\util.py:388: RuntimeWarning: An average reference projection was already added. The data has been left untouched.\n",
      "  epochs.set_eeg_reference(projection=True, verbose=verbose)#.apply_baseline(baseline=baseline)\n",
      "c:\\Users\\Lukas\\Documents\\projects\\esinet\\evaluate\\..\\esinet\\util\\util.py:420: RuntimeWarning: Too few samples (required : 310 got : 100), covariance estimate may be unreliable\n",
      "  data_cov = mne.compute_raw_covariance(raw, tmin=tmin,\n",
      "c:\\Users\\Lukas\\Documents\\projects\\esinet\\evaluate\\..\\esinet\\util\\util.py:388: RuntimeWarning: An average reference projection was already added. The data has been left untouched.\n",
      "  epochs.set_eeg_reference(projection=True, verbose=verbose)#.apply_baseline(baseline=baseline)\n",
      "c:\\Users\\Lukas\\Documents\\projects\\esinet\\evaluate\\..\\esinet\\util\\util.py:423: RuntimeWarning: Epochs are not baseline corrected, covariance matrix may be inaccurate\n",
      "  data_cov = mne.compute_covariance(epochs, tmin=0.0,\n",
      "c:\\Users\\Lukas\\Documents\\projects\\esinet\\evaluate\\..\\esinet\\util\\util.py:423: RuntimeWarning: Too few samples (required : 310 got : 2), covariance estimate may be unreliable\n",
      "  data_cov = mne.compute_covariance(epochs, tmin=0.0,\n"
     ]
    },
    {
     "name": "stdout",
     "output_type": "stream",
     "text": [
      "<RawArray | 61 x 512 (5.1 s), ~334 kB, data loaded> 4.0 info empirical\n",
      "<RawArray | 61 x 402 (4.0 s), ~281 kB, data loaded> 4.0 info empirical\n",
      "<RawArray | 61 x 539 (5.4 s), ~347 kB, data loaded> 4.0 info empirical\n",
      "<RawArray | 61 x 552 (5.5 s), ~353 kB, data loaded> 4.0 info empirical\n"
     ]
    },
    {
     "name": "stderr",
     "output_type": "stream",
     "text": [
      "c:\\Users\\Lukas\\Documents\\projects\\esinet\\evaluate\\..\\esinet\\util\\util.py:388: RuntimeWarning: An average reference projection was already added. The data has been left untouched.\n",
      "  epochs.set_eeg_reference(projection=True, verbose=verbose)#.apply_baseline(baseline=baseline)\n",
      "c:\\Users\\Lukas\\Documents\\projects\\esinet\\evaluate\\..\\esinet\\util\\util.py:420: RuntimeWarning: Too few samples (required : 310 got : 120), covariance estimate may be unreliable\n",
      "  data_cov = mne.compute_raw_covariance(raw, tmin=tmin,\n",
      "c:\\Users\\Lukas\\Documents\\projects\\esinet\\evaluate\\..\\esinet\\util\\util.py:388: RuntimeWarning: An average reference projection was already added. The data has been left untouched.\n",
      "  epochs.set_eeg_reference(projection=True, verbose=verbose)#.apply_baseline(baseline=baseline)\n",
      "c:\\Users\\Lukas\\Documents\\projects\\esinet\\evaluate\\..\\esinet\\util\\util.py:420: RuntimeWarning: Too few samples (required : 310 got : 140), covariance estimate may be unreliable\n",
      "  data_cov = mne.compute_raw_covariance(raw, tmin=tmin,\n",
      "c:\\Users\\Lukas\\Documents\\projects\\esinet\\evaluate\\..\\esinet\\util\\util.py:388: RuntimeWarning: An average reference projection was already added. The data has been left untouched.\n",
      "  epochs.set_eeg_reference(projection=True, verbose=verbose)#.apply_baseline(baseline=baseline)\n",
      "c:\\Users\\Lukas\\Documents\\projects\\esinet\\evaluate\\..\\esinet\\util\\util.py:420: RuntimeWarning: Too few samples (required : 310 got : 180), covariance estimate may be unreliable\n",
      "  data_cov = mne.compute_raw_covariance(raw, tmin=tmin,\n",
      "c:\\Users\\Lukas\\Documents\\projects\\esinet\\evaluate\\..\\esinet\\util\\util.py:388: RuntimeWarning: An average reference projection was already added. The data has been left untouched.\n",
      "  epochs.set_eeg_reference(projection=True, verbose=verbose)#.apply_baseline(baseline=baseline)\n",
      "c:\\Users\\Lukas\\Documents\\projects\\esinet\\evaluate\\..\\esinet\\util\\util.py:420: RuntimeWarning: Too few samples (required : 310 got : 20), covariance estimate may be unreliable\n",
      "  data_cov = mne.compute_raw_covariance(raw, tmin=tmin,\n",
      "c:\\Users\\Lukas\\Documents\\projects\\esinet\\evaluate\\..\\esinet\\util\\util.py:388: RuntimeWarning: An average reference projection was already added. The data has been left untouched.\n",
      "  epochs.set_eeg_reference(projection=True, verbose=verbose)#.apply_baseline(baseline=baseline)\n"
     ]
    },
    {
     "name": "stdout",
     "output_type": "stream",
     "text": [
      "<RawArray | 61 x 590 (5.9 s), ~371 kB, data loaded> 4.0 info empirical\n",
      "<RawArray | 61 x 437 (4.4 s), ~298 kB, data loaded> 4.0 info empirical\n",
      "<RawArray | 61 x 429 (4.3 s), ~294 kB, data loaded> 4.0 info empirical\n",
      "<RawArray | 61 x 450 (4.5 s), ~304 kB, data loaded> 4.0 info empirical\n"
     ]
    },
    {
     "name": "stderr",
     "output_type": "stream",
     "text": [
      "c:\\Users\\Lukas\\Documents\\projects\\esinet\\evaluate\\..\\esinet\\util\\util.py:420: RuntimeWarning: Too few samples (required : 310 got : 20), covariance estimate may be unreliable\n",
      "  data_cov = mne.compute_raw_covariance(raw, tmin=tmin,\n",
      "c:\\Users\\Lukas\\Documents\\projects\\esinet\\evaluate\\..\\esinet\\util\\util.py:388: RuntimeWarning: An average reference projection was already added. The data has been left untouched.\n",
      "  epochs.set_eeg_reference(projection=True, verbose=verbose)#.apply_baseline(baseline=baseline)\n",
      "c:\\Users\\Lukas\\Documents\\projects\\esinet\\evaluate\\..\\esinet\\util\\util.py:420: RuntimeWarning: Too few samples (required : 310 got : 40), covariance estimate may be unreliable\n",
      "  data_cov = mne.compute_raw_covariance(raw, tmin=tmin,\n",
      "c:\\Users\\Lukas\\Documents\\projects\\esinet\\evaluate\\..\\esinet\\util\\util.py:388: RuntimeWarning: An average reference projection was already added. The data has been left untouched.\n",
      "  epochs.set_eeg_reference(projection=True, verbose=verbose)#.apply_baseline(baseline=baseline)\n",
      "c:\\Users\\Lukas\\Documents\\projects\\esinet\\evaluate\\..\\esinet\\util\\util.py:420: RuntimeWarning: Too few samples (required : 310 got : 80), covariance estimate may be unreliable\n",
      "  data_cov = mne.compute_raw_covariance(raw, tmin=tmin,\n",
      "c:\\Users\\Lukas\\Documents\\projects\\esinet\\evaluate\\..\\esinet\\util\\util.py:388: RuntimeWarning: An average reference projection was already added. The data has been left untouched.\n",
      "  epochs.set_eeg_reference(projection=True, verbose=verbose)#.apply_baseline(baseline=baseline)\n",
      "c:\\Users\\Lukas\\Documents\\projects\\esinet\\evaluate\\..\\esinet\\util\\util.py:420: RuntimeWarning: Too few samples (required : 310 got : 60), covariance estimate may be unreliable\n",
      "  data_cov = mne.compute_raw_covariance(raw, tmin=tmin,\n"
     ]
    },
    {
     "name": "stdout",
     "output_type": "stream",
     "text": [
      "<RawArray | 61 x 492 (4.9 s), ~324 kB, data loaded> 4.0 info empirical\n",
      "<RawArray | 61 x 462 (4.6 s), ~310 kB, data loaded> 4.0 info empirical\n",
      "<RawArray | 61 x 575 (5.7 s), ~364 kB, data loaded> 4.0 info empirical\n",
      "<RawArray | 61 x 473 (4.7 s), ~315 kB, data loaded> 4.0 info empirical\n",
      "<RawArray | 61 x 478 (4.8 s), ~318 kB, data loaded> 4.0 info empirical\n"
     ]
    },
    {
     "name": "stderr",
     "output_type": "stream",
     "text": [
      "c:\\Users\\Lukas\\Documents\\projects\\esinet\\evaluate\\..\\esinet\\util\\util.py:388: RuntimeWarning: An average reference projection was already added. The data has been left untouched.\n",
      "  epochs.set_eeg_reference(projection=True, verbose=verbose)#.apply_baseline(baseline=baseline)\n",
      "c:\\Users\\Lukas\\Documents\\projects\\esinet\\evaluate\\..\\esinet\\util\\util.py:420: RuntimeWarning: Too few samples (required : 310 got : 160), covariance estimate may be unreliable\n",
      "  data_cov = mne.compute_raw_covariance(raw, tmin=tmin,\n",
      "c:\\Users\\Lukas\\Documents\\projects\\esinet\\evaluate\\..\\esinet\\util\\util.py:388: RuntimeWarning: An average reference projection was already added. The data has been left untouched.\n",
      "  epochs.set_eeg_reference(projection=True, verbose=verbose)#.apply_baseline(baseline=baseline)\n",
      "c:\\Users\\Lukas\\Documents\\projects\\esinet\\evaluate\\..\\esinet\\util\\util.py:420: RuntimeWarning: Too few samples (required : 310 got : 60), covariance estimate may be unreliable\n",
      "  data_cov = mne.compute_raw_covariance(raw, tmin=tmin,\n",
      "c:\\Users\\Lukas\\Documents\\projects\\esinet\\evaluate\\..\\esinet\\util\\util.py:388: RuntimeWarning: An average reference projection was already added. The data has been left untouched.\n",
      "  epochs.set_eeg_reference(projection=True, verbose=verbose)#.apply_baseline(baseline=baseline)\n",
      "c:\\Users\\Lukas\\Documents\\projects\\esinet\\evaluate\\..\\esinet\\util\\util.py:420: RuntimeWarning: Too few samples (required : 310 got : 60), covariance estimate may be unreliable\n",
      "  data_cov = mne.compute_raw_covariance(raw, tmin=tmin,\n",
      "c:\\Users\\Lukas\\Documents\\projects\\esinet\\evaluate\\..\\esinet\\util\\util.py:388: RuntimeWarning: An average reference projection was already added. The data has been left untouched.\n",
      "  epochs.set_eeg_reference(projection=True, verbose=verbose)#.apply_baseline(baseline=baseline)\n",
      "c:\\Users\\Lukas\\Documents\\projects\\esinet\\evaluate\\..\\esinet\\util\\util.py:420: RuntimeWarning: Too few samples (required : 310 got : 40), covariance estimate may be unreliable\n",
      "  data_cov = mne.compute_raw_covariance(raw, tmin=tmin,\n",
      "c:\\Users\\Lukas\\Documents\\projects\\esinet\\evaluate\\..\\esinet\\util\\util.py:388: RuntimeWarning: An average reference projection was already added. The data has been left untouched.\n",
      "  epochs.set_eeg_reference(projection=True, verbose=verbose)#.apply_baseline(baseline=baseline)\n"
     ]
    },
    {
     "name": "stdout",
     "output_type": "stream",
     "text": [
      "<RawArray | 61 x 447 (4.5 s), ~303 kB, data loaded> 4.0 info empirical\n",
      "<RawArray | 61 x 525 (5.2 s), ~340 kB, data loaded> 4.0 info empirical\n",
      "<RawArray | 61 x 583 (5.8 s), ~368 kB, data loaded> 4.0 info empirical\n",
      "<RawArray | 61 x 535 (5.3 s), ~345 kB, data loaded> 4.0 info empirical\n"
     ]
    },
    {
     "name": "stderr",
     "output_type": "stream",
     "text": [
      "c:\\Users\\Lukas\\Documents\\projects\\esinet\\evaluate\\..\\esinet\\util\\util.py:420: RuntimeWarning: Too few samples (required : 310 got : 120), covariance estimate may be unreliable\n",
      "  data_cov = mne.compute_raw_covariance(raw, tmin=tmin,\n",
      "c:\\Users\\Lukas\\Documents\\projects\\esinet\\evaluate\\..\\esinet\\util\\util.py:388: RuntimeWarning: An average reference projection was already added. The data has been left untouched.\n",
      "  epochs.set_eeg_reference(projection=True, verbose=verbose)#.apply_baseline(baseline=baseline)\n",
      "c:\\Users\\Lukas\\Documents\\projects\\esinet\\evaluate\\..\\esinet\\util\\util.py:420: RuntimeWarning: Too few samples (required : 310 got : 180), covariance estimate may be unreliable\n",
      "  data_cov = mne.compute_raw_covariance(raw, tmin=tmin,\n",
      "c:\\Users\\Lukas\\Documents\\projects\\esinet\\evaluate\\..\\esinet\\util\\util.py:388: RuntimeWarning: An average reference projection was already added. The data has been left untouched.\n",
      "  epochs.set_eeg_reference(projection=True, verbose=verbose)#.apply_baseline(baseline=baseline)\n",
      "c:\\Users\\Lukas\\Documents\\projects\\esinet\\evaluate\\..\\esinet\\util\\util.py:420: RuntimeWarning: Too few samples (required : 310 got : 120), covariance estimate may be unreliable\n",
      "  data_cov = mne.compute_raw_covariance(raw, tmin=tmin,\n",
      "c:\\Users\\Lukas\\Documents\\projects\\esinet\\evaluate\\..\\esinet\\util\\util.py:388: RuntimeWarning: An average reference projection was already added. The data has been left untouched.\n",
      "  epochs.set_eeg_reference(projection=True, verbose=verbose)#.apply_baseline(baseline=baseline)\n",
      "c:\\Users\\Lukas\\Documents\\projects\\esinet\\evaluate\\..\\esinet\\util\\util.py:420: RuntimeWarning: Too few samples (required : 310 got : 60), covariance estimate may be unreliable\n",
      "  data_cov = mne.compute_raw_covariance(raw, tmin=tmin,\n",
      "c:\\Users\\Lukas\\Documents\\projects\\esinet\\evaluate\\..\\esinet\\util\\util.py:388: RuntimeWarning: An average reference projection was already added. The data has been left untouched.\n",
      "  epochs.set_eeg_reference(projection=True, verbose=verbose)#.apply_baseline(baseline=baseline)\n"
     ]
    },
    {
     "name": "stdout",
     "output_type": "stream",
     "text": [
      "<RawArray | 61 x 476 (4.8 s), ~317 kB, data loaded> 4.0 info empirical\n",
      "<RawArray | 61 x 499 (5.0 s), ~328 kB, data loaded> 4.0 info empirical\n",
      "<RawArray | 61 x 577 (5.8 s), ~365 kB, data loaded> 4.0 info empirical\n",
      "<RawArray | 61 x 561 (5.6 s), ~357 kB, data loaded> 4.0 info empirical\n",
      "<RawArray | 61 x 510 (5.1 s), ~333 kB, data loaded> 4.0 info empirical\n"
     ]
    },
    {
     "name": "stderr",
     "output_type": "stream",
     "text": [
      "c:\\Users\\Lukas\\Documents\\projects\\esinet\\evaluate\\..\\esinet\\util\\util.py:420: RuntimeWarning: Too few samples (required : 310 got : 80), covariance estimate may be unreliable\n",
      "  data_cov = mne.compute_raw_covariance(raw, tmin=tmin,\n",
      "c:\\Users\\Lukas\\Documents\\projects\\esinet\\evaluate\\..\\esinet\\util\\util.py:388: RuntimeWarning: An average reference projection was already added. The data has been left untouched.\n",
      "  epochs.set_eeg_reference(projection=True, verbose=verbose)#.apply_baseline(baseline=baseline)\n",
      "c:\\Users\\Lukas\\Documents\\projects\\esinet\\evaluate\\..\\esinet\\util\\util.py:420: RuntimeWarning: Too few samples (required : 310 got : 160), covariance estimate may be unreliable\n",
      "  data_cov = mne.compute_raw_covariance(raw, tmin=tmin,\n",
      "c:\\Users\\Lukas\\Documents\\projects\\esinet\\evaluate\\..\\esinet\\util\\util.py:388: RuntimeWarning: An average reference projection was already added. The data has been left untouched.\n",
      "  epochs.set_eeg_reference(projection=True, verbose=verbose)#.apply_baseline(baseline=baseline)\n",
      "c:\\Users\\Lukas\\Documents\\projects\\esinet\\evaluate\\..\\esinet\\util\\util.py:420: RuntimeWarning: Too few samples (required : 310 got : 160), covariance estimate may be unreliable\n",
      "  data_cov = mne.compute_raw_covariance(raw, tmin=tmin,\n",
      "c:\\Users\\Lukas\\Documents\\projects\\esinet\\evaluate\\..\\esinet\\util\\util.py:388: RuntimeWarning: An average reference projection was already added. The data has been left untouched.\n",
      "  epochs.set_eeg_reference(projection=True, verbose=verbose)#.apply_baseline(baseline=baseline)\n",
      "c:\\Users\\Lukas\\Documents\\projects\\esinet\\evaluate\\..\\esinet\\util\\util.py:420: RuntimeWarning: Too few samples (required : 310 got : 100), covariance estimate may be unreliable\n",
      "  data_cov = mne.compute_raw_covariance(raw, tmin=tmin,\n",
      "c:\\Users\\Lukas\\Documents\\projects\\esinet\\evaluate\\..\\esinet\\util\\util.py:388: RuntimeWarning: An average reference projection was already added. The data has been left untouched.\n",
      "  epochs.set_eeg_reference(projection=True, verbose=verbose)#.apply_baseline(baseline=baseline)\n"
     ]
    },
    {
     "name": "stdout",
     "output_type": "stream",
     "text": [
      "<RawArray | 61 x 435 (4.3 s), ~297 kB, data loaded> 4.0 info empirical\n",
      "<RawArray | 61 x 443 (4.4 s), ~301 kB, data loaded> 4.0 info empirical\n",
      "<RawArray | 61 x 575 (5.7 s), ~364 kB, data loaded> 4.0 info empirical\n",
      "<RawArray | 61 x 599 (6.0 s), ~375 kB, data loaded> 4.0 info empirical\n"
     ]
    },
    {
     "name": "stderr",
     "output_type": "stream",
     "text": [
      "c:\\Users\\Lukas\\Documents\\projects\\esinet\\evaluate\\..\\esinet\\util\\util.py:420: RuntimeWarning: Too few samples (required : 310 got : 20), covariance estimate may be unreliable\n",
      "  data_cov = mne.compute_raw_covariance(raw, tmin=tmin,\n",
      "c:\\Users\\Lukas\\Documents\\projects\\esinet\\evaluate\\..\\esinet\\util\\util.py:388: RuntimeWarning: An average reference projection was already added. The data has been left untouched.\n",
      "  epochs.set_eeg_reference(projection=True, verbose=verbose)#.apply_baseline(baseline=baseline)\n",
      "c:\\Users\\Lukas\\Documents\\projects\\esinet\\evaluate\\..\\esinet\\util\\util.py:420: RuntimeWarning: Too few samples (required : 310 got : 40), covariance estimate may be unreliable\n",
      "  data_cov = mne.compute_raw_covariance(raw, tmin=tmin,\n",
      "c:\\Users\\Lukas\\Documents\\projects\\esinet\\evaluate\\..\\esinet\\util\\util.py:388: RuntimeWarning: An average reference projection was already added. The data has been left untouched.\n",
      "  epochs.set_eeg_reference(projection=True, verbose=verbose)#.apply_baseline(baseline=baseline)\n",
      "c:\\Users\\Lukas\\Documents\\projects\\esinet\\evaluate\\..\\esinet\\util\\util.py:420: RuntimeWarning: Too few samples (required : 310 got : 160), covariance estimate may be unreliable\n",
      "  data_cov = mne.compute_raw_covariance(raw, tmin=tmin,\n",
      "c:\\Users\\Lukas\\Documents\\projects\\esinet\\evaluate\\..\\esinet\\util\\util.py:388: RuntimeWarning: An average reference projection was already added. The data has been left untouched.\n",
      "  epochs.set_eeg_reference(projection=True, verbose=verbose)#.apply_baseline(baseline=baseline)\n",
      "c:\\Users\\Lukas\\Documents\\projects\\esinet\\evaluate\\..\\esinet\\util\\util.py:420: RuntimeWarning: Too few samples (required : 310 got : 180), covariance estimate may be unreliable\n",
      "  data_cov = mne.compute_raw_covariance(raw, tmin=tmin,\n",
      "c:\\Users\\Lukas\\Documents\\projects\\esinet\\evaluate\\..\\esinet\\util\\util.py:388: RuntimeWarning: An average reference projection was already added. The data has been left untouched.\n",
      "  epochs.set_eeg_reference(projection=True, verbose=verbose)#.apply_baseline(baseline=baseline)\n"
     ]
    },
    {
     "name": "stdout",
     "output_type": "stream",
     "text": [
      "<RawArray | 61 x 585 (5.8 s), ~369 kB, data loaded> 4.0 info empirical\n",
      "<RawArray | 61 x 598 (6.0 s), ~375 kB, data loaded> 4.0 info empirical\n",
      "<RawArray | 61 x 478 (4.8 s), ~318 kB, data loaded> 4.0 info empirical\n",
      "<RawArray | 61 x 519 (5.2 s), ~337 kB, data loaded> 4.0 info empirical\n",
      "<RawArray | 61 x 577 (5.8 s), ~365 kB, data loaded> 4.0 info empirical\n"
     ]
    },
    {
     "name": "stderr",
     "output_type": "stream",
     "text": [
      "c:\\Users\\Lukas\\Documents\\projects\\esinet\\evaluate\\..\\esinet\\util\\util.py:420: RuntimeWarning: Too few samples (required : 310 got : 180), covariance estimate may be unreliable\n",
      "  data_cov = mne.compute_raw_covariance(raw, tmin=tmin,\n",
      "c:\\Users\\Lukas\\Documents\\projects\\esinet\\evaluate\\..\\esinet\\util\\util.py:388: RuntimeWarning: An average reference projection was already added. The data has been left untouched.\n",
      "  epochs.set_eeg_reference(projection=True, verbose=verbose)#.apply_baseline(baseline=baseline)\n",
      "c:\\Users\\Lukas\\Documents\\projects\\esinet\\evaluate\\..\\esinet\\util\\util.py:420: RuntimeWarning: Too few samples (required : 310 got : 180), covariance estimate may be unreliable\n",
      "  data_cov = mne.compute_raw_covariance(raw, tmin=tmin,\n",
      "c:\\Users\\Lukas\\Documents\\projects\\esinet\\evaluate\\..\\esinet\\util\\util.py:388: RuntimeWarning: An average reference projection was already added. The data has been left untouched.\n",
      "  epochs.set_eeg_reference(projection=True, verbose=verbose)#.apply_baseline(baseline=baseline)\n",
      "c:\\Users\\Lukas\\Documents\\projects\\esinet\\evaluate\\..\\esinet\\util\\util.py:420: RuntimeWarning: Too few samples (required : 310 got : 60), covariance estimate may be unreliable\n",
      "  data_cov = mne.compute_raw_covariance(raw, tmin=tmin,\n",
      "c:\\Users\\Lukas\\Documents\\projects\\esinet\\evaluate\\..\\esinet\\util\\util.py:388: RuntimeWarning: An average reference projection was already added. The data has been left untouched.\n",
      "  epochs.set_eeg_reference(projection=True, verbose=verbose)#.apply_baseline(baseline=baseline)\n",
      "c:\\Users\\Lukas\\Documents\\projects\\esinet\\evaluate\\..\\esinet\\util\\util.py:420: RuntimeWarning: Too few samples (required : 310 got : 100), covariance estimate may be unreliable\n",
      "  data_cov = mne.compute_raw_covariance(raw, tmin=tmin,\n",
      "c:\\Users\\Lukas\\Documents\\projects\\esinet\\evaluate\\..\\esinet\\util\\util.py:388: RuntimeWarning: An average reference projection was already added. The data has been left untouched.\n",
      "  epochs.set_eeg_reference(projection=True, verbose=verbose)#.apply_baseline(baseline=baseline)\n",
      "c:\\Users\\Lukas\\Documents\\projects\\esinet\\evaluate\\..\\esinet\\util\\util.py:420: RuntimeWarning: Too few samples (required : 310 got : 160), covariance estimate may be unreliable\n",
      "  data_cov = mne.compute_raw_covariance(raw, tmin=tmin,\n",
      "c:\\Users\\Lukas\\Documents\\projects\\esinet\\evaluate\\..\\esinet\\util\\util.py:388: RuntimeWarning: An average reference projection was already added. The data has been left untouched.\n",
      "  epochs.set_eeg_reference(projection=True, verbose=verbose)#.apply_baseline(baseline=baseline)\n",
      "c:\\Users\\Lukas\\Documents\\projects\\esinet\\evaluate\\..\\esinet\\util\\util.py:420: RuntimeWarning: Too few samples (required : 310 got : 160), covariance estimate may be unreliable\n",
      "  data_cov = mne.compute_raw_covariance(raw, tmin=tmin,\n",
      "c:\\Users\\Lukas\\Documents\\projects\\esinet\\evaluate\\..\\esinet\\util\\util.py:388: RuntimeWarning: An average reference projection was already added. The data has been left untouched.\n",
      "  epochs.set_eeg_reference(projection=True, verbose=verbose)#.apply_baseline(baseline=baseline)\n",
      "c:\\Users\\Lukas\\Documents\\projects\\esinet\\evaluate\\..\\esinet\\util\\util.py:420: RuntimeWarning: Too few samples (required : 310 got : 80), covariance estimate may be unreliable\n",
      "  data_cov = mne.compute_raw_covariance(raw, tmin=tmin,\n",
      "c:\\Users\\Lukas\\Documents\\projects\\esinet\\evaluate\\..\\esinet\\util\\util.py:388: RuntimeWarning: An average reference projection was already added. The data has been left untouched.\n",
      "  epochs.set_eeg_reference(projection=True, verbose=verbose)#.apply_baseline(baseline=baseline)\n",
      "c:\\Users\\Lukas\\Documents\\projects\\esinet\\evaluate\\..\\esinet\\util\\util.py:420: RuntimeWarning: Too few samples (required : 310 got : 40), covariance estimate may be unreliable\n",
      "  data_cov = mne.compute_raw_covariance(raw, tmin=tmin,\n"
     ]
    },
    {
     "name": "stdout",
     "output_type": "stream",
     "text": [
      "<RawArray | 61 x 564 (5.6 s), ~359 kB, data loaded> 4.0 info empirical\n",
      "<RawArray | 61 x 494 (4.9 s), ~325 kB, data loaded> 4.0 info empirical\n",
      "<RawArray | 61 x 456 (4.5 s), ~307 kB, data loaded> 4.0 info empirical\n",
      "<RawArray | 61 x 429 (4.3 s), ~294 kB, data loaded> 4.0 info empirical\n"
     ]
    },
    {
     "name": "stderr",
     "output_type": "stream",
     "text": [
      "c:\\Users\\Lukas\\Documents\\projects\\esinet\\evaluate\\..\\esinet\\util\\util.py:388: RuntimeWarning: An average reference projection was already added. The data has been left untouched.\n",
      "  epochs.set_eeg_reference(projection=True, verbose=verbose)#.apply_baseline(baseline=baseline)\n",
      "c:\\Users\\Lukas\\Documents\\projects\\esinet\\evaluate\\..\\esinet\\util\\util.py:420: RuntimeWarning: Too few samples (required : 310 got : 20), covariance estimate may be unreliable\n",
      "  data_cov = mne.compute_raw_covariance(raw, tmin=tmin,\n",
      "c:\\Users\\Lukas\\Documents\\projects\\esinet\\evaluate\\..\\esinet\\util\\util.py:388: RuntimeWarning: An average reference projection was already added. The data has been left untouched.\n",
      "  epochs.set_eeg_reference(projection=True, verbose=verbose)#.apply_baseline(baseline=baseline)\n",
      "c:\\Users\\Lukas\\Documents\\projects\\esinet\\evaluate\\..\\esinet\\util\\util.py:420: RuntimeWarning: Too few samples (required : 310 got : 60), covariance estimate may be unreliable\n",
      "  data_cov = mne.compute_raw_covariance(raw, tmin=tmin,\n",
      "c:\\Users\\Lukas\\Documents\\projects\\esinet\\evaluate\\..\\esinet\\util\\util.py:388: RuntimeWarning: An average reference projection was already added. The data has been left untouched.\n",
      "  epochs.set_eeg_reference(projection=True, verbose=verbose)#.apply_baseline(baseline=baseline)\n",
      "c:\\Users\\Lukas\\Documents\\projects\\esinet\\evaluate\\..\\esinet\\util\\util.py:423: RuntimeWarning: Epochs are not baseline corrected, covariance matrix may be inaccurate\n",
      "  data_cov = mne.compute_covariance(epochs, tmin=0.0,\n",
      "c:\\Users\\Lukas\\Documents\\projects\\esinet\\evaluate\\..\\esinet\\util\\util.py:423: RuntimeWarning: Too few samples (required : 310 got : 17), covariance estimate may be unreliable\n",
      "  data_cov = mne.compute_covariance(epochs, tmin=0.0,\n",
      "c:\\Users\\Lukas\\Documents\\projects\\esinet\\evaluate\\..\\esinet\\util\\util.py:388: RuntimeWarning: An average reference projection was already added. The data has been left untouched.\n",
      "  epochs.set_eeg_reference(projection=True, verbose=verbose)#.apply_baseline(baseline=baseline)\n",
      "c:\\Users\\Lukas\\Documents\\projects\\esinet\\evaluate\\..\\esinet\\util\\util.py:420: RuntimeWarning: Too few samples (required : 310 got : 80), covariance estimate may be unreliable\n",
      "  data_cov = mne.compute_raw_covariance(raw, tmin=tmin,\n",
      "c:\\Users\\Lukas\\Documents\\projects\\esinet\\evaluate\\..\\esinet\\util\\util.py:388: RuntimeWarning: An average reference projection was already added. The data has been left untouched.\n",
      "  epochs.set_eeg_reference(projection=True, verbose=verbose)#.apply_baseline(baseline=baseline)\n"
     ]
    },
    {
     "name": "stdout",
     "output_type": "stream",
     "text": [
      "<RawArray | 61 x 475 (4.7 s), ~316 kB, data loaded> 4.0 info empirical\n",
      "<RawArray | 61 x 417 (4.2 s), ~289 kB, data loaded> 4.0 info empirical\n",
      "<RawArray | 61 x 486 (4.8 s), ~321 kB, data loaded> 4.0 info empirical\n",
      "<RawArray | 61 x 509 (5.1 s), ~332 kB, data loaded> 4.0 info empirical\n"
     ]
    },
    {
     "name": "stderr",
     "output_type": "stream",
     "text": [
      "c:\\Users\\Lukas\\Documents\\projects\\esinet\\evaluate\\..\\esinet\\util\\util.py:420: RuntimeWarning: Too few samples (required : 310 got : 100), covariance estimate may be unreliable\n",
      "  data_cov = mne.compute_raw_covariance(raw, tmin=tmin,\n",
      "c:\\Users\\Lukas\\Documents\\projects\\esinet\\evaluate\\..\\esinet\\util\\util.py:388: RuntimeWarning: An average reference projection was already added. The data has been left untouched.\n",
      "  epochs.set_eeg_reference(projection=True, verbose=verbose)#.apply_baseline(baseline=baseline)\n",
      "c:\\Users\\Lukas\\Documents\\projects\\esinet\\evaluate\\..\\esinet\\util\\util.py:420: RuntimeWarning: Too few samples (required : 310 got : 140), covariance estimate may be unreliable\n",
      "  data_cov = mne.compute_raw_covariance(raw, tmin=tmin,\n",
      "c:\\Users\\Lukas\\Documents\\projects\\esinet\\evaluate\\..\\esinet\\util\\util.py:388: RuntimeWarning: An average reference projection was already added. The data has been left untouched.\n",
      "  epochs.set_eeg_reference(projection=True, verbose=verbose)#.apply_baseline(baseline=baseline)\n",
      "c:\\Users\\Lukas\\Documents\\projects\\esinet\\evaluate\\..\\esinet\\util\\util.py:420: RuntimeWarning: Too few samples (required : 310 got : 140), covariance estimate may be unreliable\n",
      "  data_cov = mne.compute_raw_covariance(raw, tmin=tmin,\n",
      "c:\\Users\\Lukas\\Documents\\projects\\esinet\\evaluate\\..\\esinet\\util\\util.py:388: RuntimeWarning: An average reference projection was already added. The data has been left untouched.\n",
      "  epochs.set_eeg_reference(projection=True, verbose=verbose)#.apply_baseline(baseline=baseline)\n",
      "c:\\Users\\Lukas\\Documents\\projects\\esinet\\evaluate\\..\\esinet\\util\\util.py:420: RuntimeWarning: Too few samples (required : 310 got : 160), covariance estimate may be unreliable\n",
      "  data_cov = mne.compute_raw_covariance(raw, tmin=tmin,\n",
      "c:\\Users\\Lukas\\Documents\\projects\\esinet\\evaluate\\..\\esinet\\util\\util.py:388: RuntimeWarning: An average reference projection was already added. The data has been left untouched.\n",
      "  epochs.set_eeg_reference(projection=True, verbose=verbose)#.apply_baseline(baseline=baseline)\n"
     ]
    },
    {
     "name": "stdout",
     "output_type": "stream",
     "text": [
      "<RawArray | 61 x 542 (5.4 s), ~348 kB, data loaded> 4.0 info empirical\n",
      "<RawArray | 61 x 553 (5.5 s), ~353 kB, data loaded> 4.0 info empirical\n",
      "<RawArray | 61 x 563 (5.6 s), ~358 kB, data loaded> 4.0 info empirical\n",
      "<RawArray | 61 x 589 (5.9 s), ~371 kB, data loaded> 4.0 info empirical\n"
     ]
    },
    {
     "name": "stderr",
     "output_type": "stream",
     "text": [
      "c:\\Users\\Lukas\\Documents\\projects\\esinet\\evaluate\\..\\esinet\\util\\util.py:420: RuntimeWarning: Too few samples (required : 310 got : 180), covariance estimate may be unreliable\n",
      "  data_cov = mne.compute_raw_covariance(raw, tmin=tmin,\n",
      "c:\\Users\\Lukas\\Documents\\projects\\esinet\\evaluate\\..\\esinet\\util\\util.py:388: RuntimeWarning: An average reference projection was already added. The data has been left untouched.\n",
      "  epochs.set_eeg_reference(projection=True, verbose=verbose)#.apply_baseline(baseline=baseline)\n",
      "c:\\Users\\Lukas\\Documents\\projects\\esinet\\evaluate\\..\\esinet\\util\\util.py:423: RuntimeWarning: Epochs are not baseline corrected, covariance matrix may be inaccurate\n",
      "  data_cov = mne.compute_covariance(epochs, tmin=0.0,\n",
      "c:\\Users\\Lukas\\Documents\\projects\\esinet\\evaluate\\..\\esinet\\util\\util.py:423: RuntimeWarning: Too few samples (required : 310 got : 19), covariance estimate may be unreliable\n",
      "  data_cov = mne.compute_covariance(epochs, tmin=0.0,\n",
      "c:\\Users\\Lukas\\Documents\\projects\\esinet\\evaluate\\..\\esinet\\util\\util.py:388: RuntimeWarning: An average reference projection was already added. The data has been left untouched.\n",
      "  epochs.set_eeg_reference(projection=True, verbose=verbose)#.apply_baseline(baseline=baseline)\n",
      "c:\\Users\\Lukas\\Documents\\projects\\esinet\\evaluate\\..\\esinet\\util\\util.py:420: RuntimeWarning: Too few samples (required : 310 got : 180), covariance estimate may be unreliable\n",
      "  data_cov = mne.compute_raw_covariance(raw, tmin=tmin,\n",
      "c:\\Users\\Lukas\\Documents\\projects\\esinet\\evaluate\\..\\esinet\\util\\util.py:388: RuntimeWarning: An average reference projection was already added. The data has been left untouched.\n",
      "  epochs.set_eeg_reference(projection=True, verbose=verbose)#.apply_baseline(baseline=baseline)\n",
      "c:\\Users\\Lukas\\Documents\\projects\\esinet\\evaluate\\..\\esinet\\util\\util.py:420: RuntimeWarning: Too few samples (required : 310 got : 100), covariance estimate may be unreliable\n",
      "  data_cov = mne.compute_raw_covariance(raw, tmin=tmin,\n",
      "c:\\Users\\Lukas\\Documents\\projects\\esinet\\evaluate\\..\\esinet\\util\\util.py:388: RuntimeWarning: An average reference projection was already added. The data has been left untouched.\n",
      "  epochs.set_eeg_reference(projection=True, verbose=verbose)#.apply_baseline(baseline=baseline)\n"
     ]
    },
    {
     "name": "stdout",
     "output_type": "stream",
     "text": [
      "<RawArray | 61 x 419 (4.2 s), ~289 kB, data loaded> 4.0 info empirical\n",
      "<RawArray | 61 x 593 (5.9 s), ~372 kB, data loaded> 4.0 info empirical\n",
      "<RawArray | 61 x 505 (5.0 s), ~330 kB, data loaded> 4.0 info empirical\n",
      "<RawArray | 61 x 508 (5.1 s), ~332 kB, data loaded> 4.0 info empirical\n"
     ]
    },
    {
     "name": "stderr",
     "output_type": "stream",
     "text": [
      "c:\\Users\\Lukas\\Documents\\projects\\esinet\\evaluate\\..\\esinet\\util\\util.py:420: RuntimeWarning: Too few samples (required : 310 got : 100), covariance estimate may be unreliable\n",
      "  data_cov = mne.compute_raw_covariance(raw, tmin=tmin,\n",
      "c:\\Users\\Lukas\\Documents\\projects\\esinet\\evaluate\\..\\esinet\\util\\util.py:388: RuntimeWarning: An average reference projection was already added. The data has been left untouched.\n",
      "  epochs.set_eeg_reference(projection=True, verbose=verbose)#.apply_baseline(baseline=baseline)\n",
      "c:\\Users\\Lukas\\Documents\\projects\\esinet\\evaluate\\..\\esinet\\util\\util.py:420: RuntimeWarning: Too few samples (required : 310 got : 100), covariance estimate may be unreliable\n",
      "  data_cov = mne.compute_raw_covariance(raw, tmin=tmin,\n",
      "c:\\Users\\Lukas\\Documents\\projects\\esinet\\evaluate\\..\\esinet\\util\\util.py:388: RuntimeWarning: An average reference projection was already added. The data has been left untouched.\n",
      "  epochs.set_eeg_reference(projection=True, verbose=verbose)#.apply_baseline(baseline=baseline)\n",
      "c:\\Users\\Lukas\\Documents\\projects\\esinet\\evaluate\\..\\esinet\\util\\util.py:420: RuntimeWarning: Too few samples (required : 310 got : 80), covariance estimate may be unreliable\n",
      "  data_cov = mne.compute_raw_covariance(raw, tmin=tmin,\n",
      "c:\\Users\\Lukas\\Documents\\projects\\esinet\\evaluate\\..\\esinet\\util\\util.py:388: RuntimeWarning: An average reference projection was already added. The data has been left untouched.\n",
      "  epochs.set_eeg_reference(projection=True, verbose=verbose)#.apply_baseline(baseline=baseline)\n",
      "c:\\Users\\Lukas\\Documents\\projects\\esinet\\evaluate\\..\\esinet\\util\\util.py:420: RuntimeWarning: Too few samples (required : 310 got : 20), covariance estimate may be unreliable\n",
      "  data_cov = mne.compute_raw_covariance(raw, tmin=tmin,\n",
      "c:\\Users\\Lukas\\Documents\\projects\\esinet\\evaluate\\..\\esinet\\util\\util.py:388: RuntimeWarning: An average reference projection was already added. The data has been left untouched.\n",
      "  epochs.set_eeg_reference(projection=True, verbose=verbose)#.apply_baseline(baseline=baseline)\n"
     ]
    },
    {
     "name": "stdout",
     "output_type": "stream",
     "text": [
      "<RawArray | 61 x 510 (5.1 s), ~333 kB, data loaded> 4.0 info empirical\n",
      "<RawArray | 61 x 499 (5.0 s), ~328 kB, data loaded> 4.0 info empirical\n",
      "<RawArray | 61 x 424 (4.2 s), ~292 kB, data loaded> 4.0 info empirical\n",
      "<RawArray | 61 x 497 (5.0 s), ~327 kB, data loaded> 4.0 info empirical\n",
      "<RawArray | 61 x 430 (4.3 s), ~295 kB, data loaded> 4.0 info empirical\n"
     ]
    },
    {
     "name": "stderr",
     "output_type": "stream",
     "text": [
      "c:\\Users\\Lukas\\Documents\\projects\\esinet\\evaluate\\..\\esinet\\util\\util.py:420: RuntimeWarning: Too few samples (required : 310 got : 80), covariance estimate may be unreliable\n",
      "  data_cov = mne.compute_raw_covariance(raw, tmin=tmin,\n",
      "c:\\Users\\Lukas\\Documents\\projects\\esinet\\evaluate\\..\\esinet\\util\\util.py:388: RuntimeWarning: An average reference projection was already added. The data has been left untouched.\n",
      "  epochs.set_eeg_reference(projection=True, verbose=verbose)#.apply_baseline(baseline=baseline)\n",
      "c:\\Users\\Lukas\\Documents\\projects\\esinet\\evaluate\\..\\esinet\\util\\util.py:420: RuntimeWarning: Too few samples (required : 310 got : 20), covariance estimate may be unreliable\n",
      "  data_cov = mne.compute_raw_covariance(raw, tmin=tmin,\n",
      "c:\\Users\\Lukas\\Documents\\projects\\esinet\\evaluate\\..\\esinet\\util\\util.py:388: RuntimeWarning: An average reference projection was already added. The data has been left untouched.\n",
      "  epochs.set_eeg_reference(projection=True, verbose=verbose)#.apply_baseline(baseline=baseline)\n",
      "c:\\Users\\Lukas\\Documents\\projects\\esinet\\evaluate\\..\\esinet\\util\\util.py:420: RuntimeWarning: Too few samples (required : 310 got : 160), covariance estimate may be unreliable\n",
      "  data_cov = mne.compute_raw_covariance(raw, tmin=tmin,\n",
      "c:\\Users\\Lukas\\Documents\\projects\\esinet\\evaluate\\..\\esinet\\util\\util.py:388: RuntimeWarning: An average reference projection was already added. The data has been left untouched.\n",
      "  epochs.set_eeg_reference(projection=True, verbose=verbose)#.apply_baseline(baseline=baseline)\n",
      "c:\\Users\\Lukas\\Documents\\projects\\esinet\\evaluate\\..\\esinet\\util\\util.py:420: RuntimeWarning: Too few samples (required : 310 got : 120), covariance estimate may be unreliable\n",
      "  data_cov = mne.compute_raw_covariance(raw, tmin=tmin,\n",
      "c:\\Users\\Lukas\\Documents\\projects\\esinet\\evaluate\\..\\esinet\\util\\util.py:388: RuntimeWarning: An average reference projection was already added. The data has been left untouched.\n",
      "  epochs.set_eeg_reference(projection=True, verbose=verbose)#.apply_baseline(baseline=baseline)\n"
     ]
    },
    {
     "name": "stdout",
     "output_type": "stream",
     "text": [
      "<RawArray | 61 x 562 (5.6 s), ~358 kB, data loaded> 4.0 info empirical\n",
      "<RawArray | 61 x 532 (5.3 s), ~343 kB, data loaded> 4.0 info empirical\n",
      "<RawArray | 61 x 575 (5.7 s), ~364 kB, data loaded> 4.0 info empirical\n",
      "<RawArray | 61 x 464 (4.6 s), ~311 kB, data loaded> 4.0 info empirical\n",
      "<RawArray | 61 x 599 (6.0 s), ~375 kB, data loaded> 4.0 info empirical\n"
     ]
    },
    {
     "name": "stderr",
     "output_type": "stream",
     "text": [
      "c:\\Users\\Lukas\\Documents\\projects\\esinet\\evaluate\\..\\esinet\\util\\util.py:420: RuntimeWarning: Too few samples (required : 310 got : 160), covariance estimate may be unreliable\n",
      "  data_cov = mne.compute_raw_covariance(raw, tmin=tmin,\n",
      "c:\\Users\\Lukas\\Documents\\projects\\esinet\\evaluate\\..\\esinet\\util\\util.py:388: RuntimeWarning: An average reference projection was already added. The data has been left untouched.\n",
      "  epochs.set_eeg_reference(projection=True, verbose=verbose)#.apply_baseline(baseline=baseline)\n",
      "c:\\Users\\Lukas\\Documents\\projects\\esinet\\evaluate\\..\\esinet\\util\\util.py:420: RuntimeWarning: Too few samples (required : 310 got : 60), covariance estimate may be unreliable\n",
      "  data_cov = mne.compute_raw_covariance(raw, tmin=tmin,\n",
      "c:\\Users\\Lukas\\Documents\\projects\\esinet\\evaluate\\..\\esinet\\util\\util.py:388: RuntimeWarning: An average reference projection was already added. The data has been left untouched.\n",
      "  epochs.set_eeg_reference(projection=True, verbose=verbose)#.apply_baseline(baseline=baseline)\n",
      "c:\\Users\\Lukas\\Documents\\projects\\esinet\\evaluate\\..\\esinet\\util\\util.py:420: RuntimeWarning: Too few samples (required : 310 got : 180), covariance estimate may be unreliable\n",
      "  data_cov = mne.compute_raw_covariance(raw, tmin=tmin,\n",
      "c:\\Users\\Lukas\\Documents\\projects\\esinet\\evaluate\\..\\esinet\\util\\util.py:388: RuntimeWarning: An average reference projection was already added. The data has been left untouched.\n",
      "  epochs.set_eeg_reference(projection=True, verbose=verbose)#.apply_baseline(baseline=baseline)\n",
      "c:\\Users\\Lukas\\Documents\\projects\\esinet\\evaluate\\..\\esinet\\util\\util.py:420: RuntimeWarning: Too few samples (required : 310 got : 160), covariance estimate may be unreliable\n",
      "  data_cov = mne.compute_raw_covariance(raw, tmin=tmin,\n",
      "c:\\Users\\Lukas\\Documents\\projects\\esinet\\evaluate\\..\\esinet\\util\\util.py:388: RuntimeWarning: An average reference projection was already added. The data has been left untouched.\n",
      "  epochs.set_eeg_reference(projection=True, verbose=verbose)#.apply_baseline(baseline=baseline)\n"
     ]
    },
    {
     "name": "stdout",
     "output_type": "stream",
     "text": [
      "<RawArray | 61 x 563 (5.6 s), ~358 kB, data loaded> 4.0 info empirical\n",
      "<RawArray | 61 x 555 (5.5 s), ~354 kB, data loaded> 4.0 info empirical\n",
      "<RawArray | 61 x 418 (4.2 s), ~289 kB, data loaded> 4.0 info empirical\n",
      "<RawArray | 61 x 502 (5.0 s), ~329 kB, data loaded> 4.0 info empirical\n"
     ]
    },
    {
     "name": "stderr",
     "output_type": "stream",
     "text": [
      "c:\\Users\\Lukas\\Documents\\projects\\esinet\\evaluate\\..\\esinet\\util\\util.py:420: RuntimeWarning: Too few samples (required : 310 got : 140), covariance estimate may be unreliable\n",
      "  data_cov = mne.compute_raw_covariance(raw, tmin=tmin,\n",
      "c:\\Users\\Lukas\\Documents\\projects\\esinet\\evaluate\\..\\esinet\\util\\util.py:388: RuntimeWarning: An average reference projection was already added. The data has been left untouched.\n",
      "  epochs.set_eeg_reference(projection=True, verbose=verbose)#.apply_baseline(baseline=baseline)\n",
      "c:\\Users\\Lukas\\Documents\\projects\\esinet\\evaluate\\..\\esinet\\util\\util.py:423: RuntimeWarning: Epochs are not baseline corrected, covariance matrix may be inaccurate\n",
      "  data_cov = mne.compute_covariance(epochs, tmin=0.0,\n",
      "c:\\Users\\Lukas\\Documents\\projects\\esinet\\evaluate\\..\\esinet\\util\\util.py:423: RuntimeWarning: Too few samples (required : 310 got : 18), covariance estimate may be unreliable\n",
      "  data_cov = mne.compute_covariance(epochs, tmin=0.0,\n",
      "c:\\Users\\Lukas\\Documents\\projects\\esinet\\evaluate\\..\\esinet\\util\\util.py:388: RuntimeWarning: An average reference projection was already added. The data has been left untouched.\n",
      "  epochs.set_eeg_reference(projection=True, verbose=verbose)#.apply_baseline(baseline=baseline)\n",
      "c:\\Users\\Lukas\\Documents\\projects\\esinet\\evaluate\\..\\esinet\\util\\util.py:420: RuntimeWarning: Too few samples (required : 310 got : 100), covariance estimate may be unreliable\n",
      "  data_cov = mne.compute_raw_covariance(raw, tmin=tmin,\n",
      "c:\\Users\\Lukas\\Documents\\projects\\esinet\\evaluate\\..\\esinet\\util\\util.py:388: RuntimeWarning: An average reference projection was already added. The data has been left untouched.\n",
      "  epochs.set_eeg_reference(projection=True, verbose=verbose)#.apply_baseline(baseline=baseline)\n",
      "c:\\Users\\Lukas\\Documents\\projects\\esinet\\evaluate\\..\\esinet\\util\\util.py:423: RuntimeWarning: Epochs are not baseline corrected, covariance matrix may be inaccurate\n",
      "  data_cov = mne.compute_covariance(epochs, tmin=0.0,\n",
      "c:\\Users\\Lukas\\Documents\\projects\\esinet\\evaluate\\..\\esinet\\util\\util.py:423: RuntimeWarning: Too few samples (required : 310 got : 3), covariance estimate may be unreliable\n",
      "  data_cov = mne.compute_covariance(epochs, tmin=0.0,\n"
     ]
    },
    {
     "name": "stdout",
     "output_type": "stream",
     "text": [
      "<RawArray | 61 x 403 (4.0 s), ~282 kB, data loaded> 4.0 info empirical\n",
      "<RawArray | 61 x 592 (5.9 s), ~372 kB, data loaded> 4.0 info empirical\n",
      "<RawArray | 61 x 518 (5.2 s), ~337 kB, data loaded> 4.0 info empirical\n",
      "<RawArray | 61 x 426 (4.2 s), ~293 kB, data loaded> 4.0 info empirical\n"
     ]
    },
    {
     "name": "stderr",
     "output_type": "stream",
     "text": [
      "c:\\Users\\Lukas\\Documents\\projects\\esinet\\evaluate\\..\\esinet\\util\\util.py:388: RuntimeWarning: An average reference projection was already added. The data has been left untouched.\n",
      "  epochs.set_eeg_reference(projection=True, verbose=verbose)#.apply_baseline(baseline=baseline)\n",
      "c:\\Users\\Lukas\\Documents\\projects\\esinet\\evaluate\\..\\esinet\\util\\util.py:420: RuntimeWarning: Too few samples (required : 310 got : 180), covariance estimate may be unreliable\n",
      "  data_cov = mne.compute_raw_covariance(raw, tmin=tmin,\n",
      "c:\\Users\\Lukas\\Documents\\projects\\esinet\\evaluate\\..\\esinet\\util\\util.py:388: RuntimeWarning: An average reference projection was already added. The data has been left untouched.\n",
      "  epochs.set_eeg_reference(projection=True, verbose=verbose)#.apply_baseline(baseline=baseline)\n",
      "c:\\Users\\Lukas\\Documents\\projects\\esinet\\evaluate\\..\\esinet\\util\\util.py:420: RuntimeWarning: Too few samples (required : 310 got : 100), covariance estimate may be unreliable\n",
      "  data_cov = mne.compute_raw_covariance(raw, tmin=tmin,\n",
      "c:\\Users\\Lukas\\Documents\\projects\\esinet\\evaluate\\..\\esinet\\util\\util.py:388: RuntimeWarning: An average reference projection was already added. The data has been left untouched.\n",
      "  epochs.set_eeg_reference(projection=True, verbose=verbose)#.apply_baseline(baseline=baseline)\n",
      "c:\\Users\\Lukas\\Documents\\projects\\esinet\\evaluate\\..\\esinet\\util\\util.py:420: RuntimeWarning: Too few samples (required : 310 got : 20), covariance estimate may be unreliable\n",
      "  data_cov = mne.compute_raw_covariance(raw, tmin=tmin,\n",
      "c:\\Users\\Lukas\\Documents\\projects\\esinet\\evaluate\\..\\esinet\\util\\util.py:388: RuntimeWarning: An average reference projection was already added. The data has been left untouched.\n",
      "  epochs.set_eeg_reference(projection=True, verbose=verbose)#.apply_baseline(baseline=baseline)\n",
      "c:\\Users\\Lukas\\Documents\\projects\\esinet\\evaluate\\..\\esinet\\util\\util.py:420: RuntimeWarning: Too few samples (required : 310 got : 80), covariance estimate may be unreliable\n",
      "  data_cov = mne.compute_raw_covariance(raw, tmin=tmin,\n",
      "c:\\Users\\Lukas\\Documents\\projects\\esinet\\evaluate\\..\\esinet\\util\\util.py:388: RuntimeWarning: An average reference projection was already added. The data has been left untouched.\n",
      "  epochs.set_eeg_reference(projection=True, verbose=verbose)#.apply_baseline(baseline=baseline)\n"
     ]
    },
    {
     "name": "stdout",
     "output_type": "stream",
     "text": [
      "<RawArray | 61 x 485 (4.8 s), ~321 kB, data loaded> 4.0 info empirical\n",
      "<RawArray | 61 x 548 (5.5 s), ~351 kB, data loaded> 4.0 info empirical\n",
      "<RawArray | 61 x 471 (4.7 s), ~314 kB, data loaded> 4.0 info empirical\n",
      "<RawArray | 61 x 581 (5.8 s), ~367 kB, data loaded> 4.0 info empirical\n",
      "<RawArray | 61 x 542 (5.4 s), ~348 kB, data loaded> 4.0 info empirical\n"
     ]
    },
    {
     "name": "stderr",
     "output_type": "stream",
     "text": [
      "c:\\Users\\Lukas\\Documents\\projects\\esinet\\evaluate\\..\\esinet\\util\\util.py:420: RuntimeWarning: Too few samples (required : 310 got : 140), covariance estimate may be unreliable\n",
      "  data_cov = mne.compute_raw_covariance(raw, tmin=tmin,\n",
      "c:\\Users\\Lukas\\Documents\\projects\\esinet\\evaluate\\..\\esinet\\util\\util.py:388: RuntimeWarning: An average reference projection was already added. The data has been left untouched.\n",
      "  epochs.set_eeg_reference(projection=True, verbose=verbose)#.apply_baseline(baseline=baseline)\n",
      "c:\\Users\\Lukas\\Documents\\projects\\esinet\\evaluate\\..\\esinet\\util\\util.py:420: RuntimeWarning: Too few samples (required : 310 got : 60), covariance estimate may be unreliable\n",
      "  data_cov = mne.compute_raw_covariance(raw, tmin=tmin,\n",
      "c:\\Users\\Lukas\\Documents\\projects\\esinet\\evaluate\\..\\esinet\\util\\util.py:388: RuntimeWarning: An average reference projection was already added. The data has been left untouched.\n",
      "  epochs.set_eeg_reference(projection=True, verbose=verbose)#.apply_baseline(baseline=baseline)\n",
      "c:\\Users\\Lukas\\Documents\\projects\\esinet\\evaluate\\..\\esinet\\util\\util.py:420: RuntimeWarning: Too few samples (required : 310 got : 180), covariance estimate may be unreliable\n",
      "  data_cov = mne.compute_raw_covariance(raw, tmin=tmin,\n",
      "c:\\Users\\Lukas\\Documents\\projects\\esinet\\evaluate\\..\\esinet\\util\\util.py:388: RuntimeWarning: An average reference projection was already added. The data has been left untouched.\n",
      "  epochs.set_eeg_reference(projection=True, verbose=verbose)#.apply_baseline(baseline=baseline)\n",
      "c:\\Users\\Lukas\\Documents\\projects\\esinet\\evaluate\\..\\esinet\\util\\util.py:420: RuntimeWarning: Too few samples (required : 310 got : 140), covariance estimate may be unreliable\n",
      "  data_cov = mne.compute_raw_covariance(raw, tmin=tmin,\n",
      "c:\\Users\\Lukas\\Documents\\projects\\esinet\\evaluate\\..\\esinet\\util\\util.py:388: RuntimeWarning: An average reference projection was already added. The data has been left untouched.\n",
      "  epochs.set_eeg_reference(projection=True, verbose=verbose)#.apply_baseline(baseline=baseline)\n"
     ]
    },
    {
     "name": "stdout",
     "output_type": "stream",
     "text": [
      "<RawArray | 61 x 457 (4.6 s), ~308 kB, data loaded> 4.0 info empirical\n",
      "<RawArray | 61 x 569 (5.7 s), ~361 kB, data loaded> 4.0 info empirical\n",
      "<RawArray | 61 x 507 (5.1 s), ~331 kB, data loaded> 4.0 info empirical\n",
      "<RawArray | 61 x 451 (4.5 s), ~305 kB, data loaded> 4.0 info empirical\n",
      "<RawArray | 61 x 556 (5.5 s), ~355 kB, data loaded>"
     ]
    },
    {
     "name": "stderr",
     "output_type": "stream",
     "text": [
      "c:\\Users\\Lukas\\Documents\\projects\\esinet\\evaluate\\..\\esinet\\util\\util.py:420: RuntimeWarning: Too few samples (required : 310 got : 40), covariance estimate may be unreliable\n",
      "  data_cov = mne.compute_raw_covariance(raw, tmin=tmin,\n",
      "c:\\Users\\Lukas\\Documents\\projects\\esinet\\evaluate\\..\\esinet\\util\\util.py:388: RuntimeWarning: An average reference projection was already added. The data has been left untouched.\n",
      "  epochs.set_eeg_reference(projection=True, verbose=verbose)#.apply_baseline(baseline=baseline)\n",
      "c:\\Users\\Lukas\\Documents\\projects\\esinet\\evaluate\\..\\esinet\\util\\util.py:420: RuntimeWarning: Too few samples (required : 310 got : 160), covariance estimate may be unreliable\n",
      "  data_cov = mne.compute_raw_covariance(raw, tmin=tmin,\n",
      "c:\\Users\\Lukas\\Documents\\projects\\esinet\\evaluate\\..\\esinet\\util\\util.py:388: RuntimeWarning: An average reference projection was already added. The data has been left untouched.\n",
      "  epochs.set_eeg_reference(projection=True, verbose=verbose)#.apply_baseline(baseline=baseline)\n",
      "c:\\Users\\Lukas\\Documents\\projects\\esinet\\evaluate\\..\\esinet\\util\\util.py:420: RuntimeWarning: Too few samples (required : 310 got : 100), covariance estimate may be unreliable\n",
      "  data_cov = mne.compute_raw_covariance(raw, tmin=tmin,\n",
      "c:\\Users\\Lukas\\Documents\\projects\\esinet\\evaluate\\..\\esinet\\util\\util.py:388: RuntimeWarning: An average reference projection was already added. The data has been left untouched.\n",
      "  epochs.set_eeg_reference(projection=True, verbose=verbose)#.apply_baseline(baseline=baseline)\n",
      "c:\\Users\\Lukas\\Documents\\projects\\esinet\\evaluate\\..\\esinet\\util\\util.py:420: RuntimeWarning: Too few samples (required : 310 got : 40), covariance estimate may be unreliable\n",
      "  data_cov = mne.compute_raw_covariance(raw, tmin=tmin,\n",
      "c:\\Users\\Lukas\\Documents\\projects\\esinet\\evaluate\\..\\esinet\\util\\util.py:388: RuntimeWarning: An average reference projection was already added. The data has been left untouched.\n",
      "  epochs.set_eeg_reference(projection=True, verbose=verbose)#.apply_baseline(baseline=baseline)\n"
     ]
    },
    {
     "name": "stdout",
     "output_type": "stream",
     "text": [
      " 4.0 info empirical\n",
      "<RawArray | 61 x 414 (4.1 s), ~287 kB, data loaded> 4.0 info empirical\n",
      "<RawArray | 61 x 459 (4.6 s), ~309 kB, data loaded> 4.0 info empirical\n",
      "<RawArray | 61 x 511 (5.1 s), ~333 kB, data loaded> 4.0 info empirical\n"
     ]
    },
    {
     "name": "stderr",
     "output_type": "stream",
     "text": [
      "c:\\Users\\Lukas\\Documents\\projects\\esinet\\evaluate\\..\\esinet\\util\\util.py:420: RuntimeWarning: Too few samples (required : 310 got : 140), covariance estimate may be unreliable\n",
      "  data_cov = mne.compute_raw_covariance(raw, tmin=tmin,\n",
      "c:\\Users\\Lukas\\Documents\\projects\\esinet\\evaluate\\..\\esinet\\util\\util.py:388: RuntimeWarning: An average reference projection was already added. The data has been left untouched.\n",
      "  epochs.set_eeg_reference(projection=True, verbose=verbose)#.apply_baseline(baseline=baseline)\n",
      "c:\\Users\\Lukas\\Documents\\projects\\esinet\\evaluate\\..\\esinet\\util\\util.py:423: RuntimeWarning: Epochs are not baseline corrected, covariance matrix may be inaccurate\n",
      "  data_cov = mne.compute_covariance(epochs, tmin=0.0,\n",
      "c:\\Users\\Lukas\\Documents\\projects\\esinet\\evaluate\\..\\esinet\\util\\util.py:423: RuntimeWarning: Too few samples (required : 310 got : 14), covariance estimate may be unreliable\n",
      "  data_cov = mne.compute_covariance(epochs, tmin=0.0,\n",
      "c:\\Users\\Lukas\\Documents\\projects\\esinet\\evaluate\\..\\esinet\\util\\util.py:388: RuntimeWarning: An average reference projection was already added. The data has been left untouched.\n",
      "  epochs.set_eeg_reference(projection=True, verbose=verbose)#.apply_baseline(baseline=baseline)\n",
      "c:\\Users\\Lukas\\Documents\\projects\\esinet\\evaluate\\..\\esinet\\util\\util.py:420: RuntimeWarning: Too few samples (required : 310 got : 40), covariance estimate may be unreliable\n",
      "  data_cov = mne.compute_raw_covariance(raw, tmin=tmin,\n",
      "c:\\Users\\Lukas\\Documents\\projects\\esinet\\evaluate\\..\\esinet\\util\\util.py:388: RuntimeWarning: An average reference projection was already added. The data has been left untouched.\n",
      "  epochs.set_eeg_reference(projection=True, verbose=verbose)#.apply_baseline(baseline=baseline)\n",
      "c:\\Users\\Lukas\\Documents\\projects\\esinet\\evaluate\\..\\esinet\\util\\util.py:420: RuntimeWarning: Too few samples (required : 310 got : 100), covariance estimate may be unreliable\n",
      "  data_cov = mne.compute_raw_covariance(raw, tmin=tmin,\n",
      "c:\\Users\\Lukas\\Documents\\projects\\esinet\\evaluate\\..\\esinet\\util\\util.py:388: RuntimeWarning: An average reference projection was already added. The data has been left untouched.\n",
      "  epochs.set_eeg_reference(projection=True, verbose=verbose)#.apply_baseline(baseline=baseline)\n"
     ]
    },
    {
     "name": "stdout",
     "output_type": "stream",
     "text": [
      "<RawArray | 61 x 526 (5.2 s), ~340 kB, data loaded> 4.0 info empirical\n",
      "<RawArray | 61 x 507 (5.1 s), ~331 kB, data loaded> 4.0 info empirical\n",
      "<RawArray | 61 x 595 (5.9 s), ~373 kB, data loaded> 4.0 info empirical\n",
      "<RawArray | 61 x 517 (5.2 s), ~336 kB, data loaded> 4.0 info empirical\n"
     ]
    },
    {
     "name": "stderr",
     "output_type": "stream",
     "text": [
      "c:\\Users\\Lukas\\Documents\\projects\\esinet\\evaluate\\..\\esinet\\util\\util.py:420: RuntimeWarning: Too few samples (required : 310 got : 120), covariance estimate may be unreliable\n",
      "  data_cov = mne.compute_raw_covariance(raw, tmin=tmin,\n",
      "c:\\Users\\Lukas\\Documents\\projects\\esinet\\evaluate\\..\\esinet\\util\\util.py:388: RuntimeWarning: An average reference projection was already added. The data has been left untouched.\n",
      "  epochs.set_eeg_reference(projection=True, verbose=verbose)#.apply_baseline(baseline=baseline)\n",
      "c:\\Users\\Lukas\\Documents\\projects\\esinet\\evaluate\\..\\esinet\\util\\util.py:420: RuntimeWarning: Too few samples (required : 310 got : 100), covariance estimate may be unreliable\n",
      "  data_cov = mne.compute_raw_covariance(raw, tmin=tmin,\n",
      "c:\\Users\\Lukas\\Documents\\projects\\esinet\\evaluate\\..\\esinet\\util\\util.py:388: RuntimeWarning: An average reference projection was already added. The data has been left untouched.\n",
      "  epochs.set_eeg_reference(projection=True, verbose=verbose)#.apply_baseline(baseline=baseline)\n",
      "c:\\Users\\Lukas\\Documents\\projects\\esinet\\evaluate\\..\\esinet\\util\\util.py:420: RuntimeWarning: Too few samples (required : 310 got : 180), covariance estimate may be unreliable\n",
      "  data_cov = mne.compute_raw_covariance(raw, tmin=tmin,\n",
      "c:\\Users\\Lukas\\Documents\\projects\\esinet\\evaluate\\..\\esinet\\util\\util.py:388: RuntimeWarning: An average reference projection was already added. The data has been left untouched.\n",
      "  epochs.set_eeg_reference(projection=True, verbose=verbose)#.apply_baseline(baseline=baseline)\n",
      "c:\\Users\\Lukas\\Documents\\projects\\esinet\\evaluate\\..\\esinet\\util\\util.py:420: RuntimeWarning: Too few samples (required : 310 got : 100), covariance estimate may be unreliable\n",
      "  data_cov = mne.compute_raw_covariance(raw, tmin=tmin,\n",
      "c:\\Users\\Lukas\\Documents\\projects\\esinet\\evaluate\\..\\esinet\\util\\util.py:388: RuntimeWarning: An average reference projection was already added. The data has been left untouched.\n",
      "  epochs.set_eeg_reference(projection=True, verbose=verbose)#.apply_baseline(baseline=baseline)\n"
     ]
    },
    {
     "name": "stdout",
     "output_type": "stream",
     "text": [
      "<RawArray | 61 x 532 (5.3 s), ~343 kB, data loaded> 4.0 info empirical\n",
      "<RawArray | 61 x 403 (4.0 s), ~282 kB, data loaded> 4.0 info empirical\n",
      "<RawArray | 61 x 560 (5.6 s), ~357 kB, data loaded> 4.0 info empirical\n",
      "<RawArray | 61 x 452 (4.5 s), ~305 kB, data loaded> 4.0 info empirical\n"
     ]
    },
    {
     "name": "stderr",
     "output_type": "stream",
     "text": [
      "c:\\Users\\Lukas\\Documents\\projects\\esinet\\evaluate\\..\\esinet\\util\\util.py:420: RuntimeWarning: Too few samples (required : 310 got : 120), covariance estimate may be unreliable\n",
      "  data_cov = mne.compute_raw_covariance(raw, tmin=tmin,\n",
      "c:\\Users\\Lukas\\Documents\\projects\\esinet\\evaluate\\..\\esinet\\util\\util.py:388: RuntimeWarning: An average reference projection was already added. The data has been left untouched.\n",
      "  epochs.set_eeg_reference(projection=True, verbose=verbose)#.apply_baseline(baseline=baseline)\n",
      "c:\\Users\\Lukas\\Documents\\projects\\esinet\\evaluate\\..\\esinet\\util\\util.py:423: RuntimeWarning: Epochs are not baseline corrected, covariance matrix may be inaccurate\n",
      "  data_cov = mne.compute_covariance(epochs, tmin=0.0,\n",
      "c:\\Users\\Lukas\\Documents\\projects\\esinet\\evaluate\\..\\esinet\\util\\util.py:423: RuntimeWarning: Too few samples (required : 310 got : 3), covariance estimate may be unreliable\n",
      "  data_cov = mne.compute_covariance(epochs, tmin=0.0,\n",
      "c:\\Users\\Lukas\\Documents\\projects\\esinet\\evaluate\\..\\esinet\\util\\util.py:388: RuntimeWarning: An average reference projection was already added. The data has been left untouched.\n",
      "  epochs.set_eeg_reference(projection=True, verbose=verbose)#.apply_baseline(baseline=baseline)\n",
      "c:\\Users\\Lukas\\Documents\\projects\\esinet\\evaluate\\..\\esinet\\util\\util.py:420: RuntimeWarning: Too few samples (required : 310 got : 160), covariance estimate may be unreliable\n",
      "  data_cov = mne.compute_raw_covariance(raw, tmin=tmin,\n",
      "c:\\Users\\Lukas\\Documents\\projects\\esinet\\evaluate\\..\\esinet\\util\\util.py:388: RuntimeWarning: An average reference projection was already added. The data has been left untouched.\n",
      "  epochs.set_eeg_reference(projection=True, verbose=verbose)#.apply_baseline(baseline=baseline)\n",
      "c:\\Users\\Lukas\\Documents\\projects\\esinet\\evaluate\\..\\esinet\\util\\util.py:420: RuntimeWarning: Too few samples (required : 310 got : 40), covariance estimate may be unreliable\n",
      "  data_cov = mne.compute_raw_covariance(raw, tmin=tmin,\n",
      "c:\\Users\\Lukas\\Documents\\projects\\esinet\\evaluate\\..\\esinet\\util\\util.py:388: RuntimeWarning: An average reference projection was already added. The data has been left untouched.\n",
      "  epochs.set_eeg_reference(projection=True, verbose=verbose)#.apply_baseline(baseline=baseline)\n"
     ]
    },
    {
     "name": "stdout",
     "output_type": "stream",
     "text": [
      "<RawArray | 61 x 481 (4.8 s), ~319 kB, data loaded> 4.0 info empirical\n",
      "<RawArray | 61 x 539 (5.4 s), ~347 kB, data loaded> 4.0 info empirical\n",
      "<RawArray | 61 x 485 (4.8 s), ~321 kB, data loaded> 4.0 info empirical\n",
      "<RawArray | 61 x 538 (5.4 s), ~346 kB, data loaded> 4.0 info empirical\n",
      "<RawArray | 61 x 478 (4.8 s), ~318 kB, data loaded> 4.0 info empirical\n"
     ]
    },
    {
     "name": "stderr",
     "output_type": "stream",
     "text": [
      "c:\\Users\\Lukas\\Documents\\projects\\esinet\\evaluate\\..\\esinet\\util\\util.py:420: RuntimeWarning: Too few samples (required : 310 got : 80), covariance estimate may be unreliable\n",
      "  data_cov = mne.compute_raw_covariance(raw, tmin=tmin,\n",
      "c:\\Users\\Lukas\\Documents\\projects\\esinet\\evaluate\\..\\esinet\\util\\util.py:388: RuntimeWarning: An average reference projection was already added. The data has been left untouched.\n",
      "  epochs.set_eeg_reference(projection=True, verbose=verbose)#.apply_baseline(baseline=baseline)\n",
      "c:\\Users\\Lukas\\Documents\\projects\\esinet\\evaluate\\..\\esinet\\util\\util.py:420: RuntimeWarning: Too few samples (required : 310 got : 120), covariance estimate may be unreliable\n",
      "  data_cov = mne.compute_raw_covariance(raw, tmin=tmin,\n",
      "c:\\Users\\Lukas\\Documents\\projects\\esinet\\evaluate\\..\\esinet\\util\\util.py:388: RuntimeWarning: An average reference projection was already added. The data has been left untouched.\n",
      "  epochs.set_eeg_reference(projection=True, verbose=verbose)#.apply_baseline(baseline=baseline)\n",
      "c:\\Users\\Lukas\\Documents\\projects\\esinet\\evaluate\\..\\esinet\\util\\util.py:420: RuntimeWarning: Too few samples (required : 310 got : 80), covariance estimate may be unreliable\n",
      "  data_cov = mne.compute_raw_covariance(raw, tmin=tmin,\n",
      "c:\\Users\\Lukas\\Documents\\projects\\esinet\\evaluate\\..\\esinet\\util\\util.py:388: RuntimeWarning: An average reference projection was already added. The data has been left untouched.\n",
      "  epochs.set_eeg_reference(projection=True, verbose=verbose)#.apply_baseline(baseline=baseline)\n",
      "c:\\Users\\Lukas\\Documents\\projects\\esinet\\evaluate\\..\\esinet\\util\\util.py:420: RuntimeWarning: Too few samples (required : 310 got : 120), covariance estimate may be unreliable\n",
      "  data_cov = mne.compute_raw_covariance(raw, tmin=tmin,\n",
      "c:\\Users\\Lukas\\Documents\\projects\\esinet\\evaluate\\..\\esinet\\util\\util.py:388: RuntimeWarning: An average reference projection was already added. The data has been left untouched.\n",
      "  epochs.set_eeg_reference(projection=True, verbose=verbose)#.apply_baseline(baseline=baseline)\n",
      "c:\\Users\\Lukas\\Documents\\projects\\esinet\\evaluate\\..\\esinet\\util\\util.py:420: RuntimeWarning: Too few samples (required : 310 got : 60), covariance estimate may be unreliable\n",
      "  data_cov = mne.compute_raw_covariance(raw, tmin=tmin,\n",
      "c:\\Users\\Lukas\\Documents\\projects\\esinet\\evaluate\\..\\esinet\\util\\util.py:388: RuntimeWarning: An average reference projection was already added. The data has been left untouched.\n",
      "  epochs.set_eeg_reference(projection=True, verbose=verbose)#.apply_baseline(baseline=baseline)\n",
      "c:\\Users\\Lukas\\Documents\\projects\\esinet\\evaluate\\..\\esinet\\util\\util.py:420: RuntimeWarning: Too few samples (required : 310 got : 120), covariance estimate may be unreliable\n",
      "  data_cov = mne.compute_raw_covariance(raw, tmin=tmin,\n",
      "c:\\Users\\Lukas\\Documents\\projects\\esinet\\evaluate\\..\\esinet\\util\\util.py:388: RuntimeWarning: An average reference projection was already added. The data has been left untouched.\n",
      "  epochs.set_eeg_reference(projection=True, verbose=verbose)#.apply_baseline(baseline=baseline)\n",
      "c:\\Users\\Lukas\\Documents\\projects\\esinet\\evaluate\\..\\esinet\\util\\util.py:420: RuntimeWarning: Too few samples (required : 310 got : 60), covariance estimate may be unreliable\n",
      "  data_cov = mne.compute_raw_covariance(raw, tmin=tmin,\n",
      "c:\\Users\\Lukas\\Documents\\projects\\esinet\\evaluate\\..\\esinet\\util\\util.py:388: RuntimeWarning: An average reference projection was already added. The data has been left untouched.\n",
      "  epochs.set_eeg_reference(projection=True, verbose=verbose)#.apply_baseline(baseline=baseline)\n",
      "c:\\Users\\Lukas\\Documents\\projects\\esinet\\evaluate\\..\\esinet\\util\\util.py:420: RuntimeWarning: Too few samples (required : 310 got : 180), covariance estimate may be unreliable\n",
      "  data_cov = mne.compute_raw_covariance(raw, tmin=tmin,\n",
      "c:\\Users\\Lukas\\Documents\\projects\\esinet\\evaluate\\..\\esinet\\util\\util.py:388: RuntimeWarning: An average reference projection was already added. The data has been left untouched.\n",
      "  epochs.set_eeg_reference(projection=True, verbose=verbose)#.apply_baseline(baseline=baseline)\n"
     ]
    },
    {
     "name": "stdout",
     "output_type": "stream",
     "text": [
      "<RawArray | 61 x 539 (5.4 s), ~347 kB, data loaded> 4.0 info empirical\n",
      "<RawArray | 61 x 475 (4.7 s), ~316 kB, data loaded> 4.0 info empirical\n",
      "<RawArray | 61 x 589 (5.9 s), ~371 kB, data loaded> 4.0 info empirical\n",
      "<RawArray | 61 x 470 (4.7 s), ~314 kB, data loaded> 4.0 info empirical\n"
     ]
    },
    {
     "name": "stderr",
     "output_type": "stream",
     "text": [
      "c:\\Users\\Lukas\\Documents\\projects\\esinet\\evaluate\\..\\esinet\\util\\util.py:420: RuntimeWarning: Too few samples (required : 310 got : 60), covariance estimate may be unreliable\n",
      "  data_cov = mne.compute_raw_covariance(raw, tmin=tmin,\n",
      "c:\\Users\\Lukas\\Documents\\projects\\esinet\\evaluate\\..\\esinet\\util\\util.py:388: RuntimeWarning: An average reference projection was already added. The data has been left untouched.\n",
      "  epochs.set_eeg_reference(projection=True, verbose=verbose)#.apply_baseline(baseline=baseline)\n",
      "c:\\Users\\Lukas\\Documents\\projects\\esinet\\evaluate\\..\\esinet\\util\\util.py:420: RuntimeWarning: Too few samples (required : 310 got : 140), covariance estimate may be unreliable\n",
      "  data_cov = mne.compute_raw_covariance(raw, tmin=tmin,\n",
      "c:\\Users\\Lukas\\Documents\\projects\\esinet\\evaluate\\..\\esinet\\util\\util.py:388: RuntimeWarning: An average reference projection was already added. The data has been left untouched.\n",
      "  epochs.set_eeg_reference(projection=True, verbose=verbose)#.apply_baseline(baseline=baseline)\n",
      "c:\\Users\\Lukas\\Documents\\projects\\esinet\\evaluate\\..\\esinet\\util\\util.py:420: RuntimeWarning: Too few samples (required : 310 got : 140), covariance estimate may be unreliable\n",
      "  data_cov = mne.compute_raw_covariance(raw, tmin=tmin,\n",
      "c:\\Users\\Lukas\\Documents\\projects\\esinet\\evaluate\\..\\esinet\\util\\util.py:388: RuntimeWarning: An average reference projection was already added. The data has been left untouched.\n",
      "  epochs.set_eeg_reference(projection=True, verbose=verbose)#.apply_baseline(baseline=baseline)\n",
      "c:\\Users\\Lukas\\Documents\\projects\\esinet\\evaluate\\..\\esinet\\util\\util.py:420: RuntimeWarning: Too few samples (required : 310 got : 80), covariance estimate may be unreliable\n",
      "  data_cov = mne.compute_raw_covariance(raw, tmin=tmin,\n",
      "c:\\Users\\Lukas\\Documents\\projects\\esinet\\evaluate\\..\\esinet\\util\\util.py:388: RuntimeWarning: An average reference projection was already added. The data has been left untouched.\n",
      "  epochs.set_eeg_reference(projection=True, verbose=verbose)#.apply_baseline(baseline=baseline)\n"
     ]
    },
    {
     "name": "stdout",
     "output_type": "stream",
     "text": [
      "<RawArray | 61 x 553 (5.5 s), ~353 kB, data loaded> 4.0 info empirical\n",
      "<RawArray | 61 x 540 (5.4 s), ~347 kB, data loaded> 4.0 info empirical\n",
      "<RawArray | 61 x 485 (4.8 s), ~321 kB, data loaded> 4.0 info empirical\n",
      "<RawArray | 61 x 474 (4.7 s), ~316 kB, data loaded> 4.0 info empirical\n",
      "<RawArray | 61 x 461 (4.6 s), ~310 kB, data loaded> 4.0 info empirical\n"
     ]
    },
    {
     "name": "stderr",
     "output_type": "stream",
     "text": [
      "c:\\Users\\Lukas\\Documents\\projects\\esinet\\evaluate\\..\\esinet\\util\\util.py:420: RuntimeWarning: Too few samples (required : 310 got : 60), covariance estimate may be unreliable\n",
      "  data_cov = mne.compute_raw_covariance(raw, tmin=tmin,\n",
      "c:\\Users\\Lukas\\Documents\\projects\\esinet\\evaluate\\..\\esinet\\util\\util.py:388: RuntimeWarning: An average reference projection was already added. The data has been left untouched.\n",
      "  epochs.set_eeg_reference(projection=True, verbose=verbose)#.apply_baseline(baseline=baseline)\n",
      "c:\\Users\\Lukas\\Documents\\projects\\esinet\\evaluate\\..\\esinet\\util\\util.py:420: RuntimeWarning: Too few samples (required : 310 got : 60), covariance estimate may be unreliable\n",
      "  data_cov = mne.compute_raw_covariance(raw, tmin=tmin,\n",
      "c:\\Users\\Lukas\\Documents\\projects\\esinet\\evaluate\\..\\esinet\\util\\util.py:388: RuntimeWarning: An average reference projection was already added. The data has been left untouched.\n",
      "  epochs.set_eeg_reference(projection=True, verbose=verbose)#.apply_baseline(baseline=baseline)\n",
      "c:\\Users\\Lukas\\Documents\\projects\\esinet\\evaluate\\..\\esinet\\util\\util.py:420: RuntimeWarning: Too few samples (required : 310 got : 80), covariance estimate may be unreliable\n",
      "  data_cov = mne.compute_raw_covariance(raw, tmin=tmin,\n",
      "c:\\Users\\Lukas\\Documents\\projects\\esinet\\evaluate\\..\\esinet\\util\\util.py:388: RuntimeWarning: An average reference projection was already added. The data has been left untouched.\n",
      "  epochs.set_eeg_reference(projection=True, verbose=verbose)#.apply_baseline(baseline=baseline)\n",
      "c:\\Users\\Lukas\\Documents\\projects\\esinet\\evaluate\\..\\esinet\\util\\util.py:420: RuntimeWarning: Too few samples (required : 310 got : 140), covariance estimate may be unreliable\n",
      "  data_cov = mne.compute_raw_covariance(raw, tmin=tmin,\n",
      "c:\\Users\\Lukas\\Documents\\projects\\esinet\\evaluate\\..\\esinet\\util\\util.py:388: RuntimeWarning: An average reference projection was already added. The data has been left untouched.\n",
      "  epochs.set_eeg_reference(projection=True, verbose=verbose)#.apply_baseline(baseline=baseline)\n"
     ]
    },
    {
     "name": "stdout",
     "output_type": "stream",
     "text": [
      "<RawArray | 61 x 498 (5.0 s), ~327 kB, data loaded> 4.0 info empirical\n",
      "<RawArray | 61 x 541 (5.4 s), ~348 kB, data loaded> 4.0 info empirical\n",
      "<RawArray | 61 x 569 (5.7 s), ~361 kB, data loaded> 4.0 info empirical\n",
      "<RawArray | 61 x 488 (4.9 s), ~322 kB, data loaded> 4.0 info empirical\n"
     ]
    },
    {
     "name": "stderr",
     "output_type": "stream",
     "text": [
      "c:\\Users\\Lukas\\Documents\\projects\\esinet\\evaluate\\..\\esinet\\util\\util.py:420: RuntimeWarning: Too few samples (required : 310 got : 160), covariance estimate may be unreliable\n",
      "  data_cov = mne.compute_raw_covariance(raw, tmin=tmin,\n",
      "c:\\Users\\Lukas\\Documents\\projects\\esinet\\evaluate\\..\\esinet\\util\\util.py:388: RuntimeWarning: An average reference projection was already added. The data has been left untouched.\n",
      "  epochs.set_eeg_reference(projection=True, verbose=verbose)#.apply_baseline(baseline=baseline)\n",
      "c:\\Users\\Lukas\\Documents\\projects\\esinet\\evaluate\\..\\esinet\\util\\util.py:420: RuntimeWarning: Too few samples (required : 310 got : 80), covariance estimate may be unreliable\n",
      "  data_cov = mne.compute_raw_covariance(raw, tmin=tmin,\n",
      "c:\\Users\\Lukas\\Documents\\projects\\esinet\\evaluate\\..\\esinet\\util\\util.py:388: RuntimeWarning: An average reference projection was already added. The data has been left untouched.\n",
      "  epochs.set_eeg_reference(projection=True, verbose=verbose)#.apply_baseline(baseline=baseline)\n",
      "c:\\Users\\Lukas\\Documents\\projects\\esinet\\evaluate\\..\\esinet\\util\\util.py:420: RuntimeWarning: Too few samples (required : 310 got : 100), covariance estimate may be unreliable\n",
      "  data_cov = mne.compute_raw_covariance(raw, tmin=tmin,\n",
      "c:\\Users\\Lukas\\Documents\\projects\\esinet\\evaluate\\..\\esinet\\util\\util.py:388: RuntimeWarning: An average reference projection was already added. The data has been left untouched.\n",
      "  epochs.set_eeg_reference(projection=True, verbose=verbose)#.apply_baseline(baseline=baseline)\n",
      "c:\\Users\\Lukas\\Documents\\projects\\esinet\\evaluate\\..\\esinet\\util\\util.py:420: RuntimeWarning: Too few samples (required : 310 got : 40), covariance estimate may be unreliable\n",
      "  data_cov = mne.compute_raw_covariance(raw, tmin=tmin,\n",
      "c:\\Users\\Lukas\\Documents\\projects\\esinet\\evaluate\\..\\esinet\\util\\util.py:388: RuntimeWarning: An average reference projection was already added. The data has been left untouched.\n",
      "  epochs.set_eeg_reference(projection=True, verbose=verbose)#.apply_baseline(baseline=baseline)\n"
     ]
    },
    {
     "name": "stdout",
     "output_type": "stream",
     "text": [
      "<RawArray | 61 x 502 (5.0 s), ~329 kB, data loaded> 4.0 info empirical\n",
      "<RawArray | 61 x 454 (4.5 s), ~306 kB, data loaded> 4.0 info empirical\n",
      "<RawArray | 61 x 594 (5.9 s), ~373 kB, data loaded> 4.0 info empirical\n",
      "<RawArray | 61 x 407 (4.1 s), ~284 kB, data loaded> 4.0 info empirical\n"
     ]
    },
    {
     "name": "stderr",
     "output_type": "stream",
     "text": [
      "c:\\Users\\Lukas\\Documents\\projects\\esinet\\evaluate\\..\\esinet\\util\\util.py:420: RuntimeWarning: Too few samples (required : 310 got : 180), covariance estimate may be unreliable\n",
      "  data_cov = mne.compute_raw_covariance(raw, tmin=tmin,\n",
      "c:\\Users\\Lukas\\Documents\\projects\\esinet\\evaluate\\..\\esinet\\util\\util.py:388: RuntimeWarning: An average reference projection was already added. The data has been left untouched.\n",
      "  epochs.set_eeg_reference(projection=True, verbose=verbose)#.apply_baseline(baseline=baseline)\n",
      "c:\\Users\\Lukas\\Documents\\projects\\esinet\\evaluate\\..\\esinet\\util\\util.py:423: RuntimeWarning: Epochs are not baseline corrected, covariance matrix may be inaccurate\n",
      "  data_cov = mne.compute_covariance(epochs, tmin=0.0,\n",
      "c:\\Users\\Lukas\\Documents\\projects\\esinet\\evaluate\\..\\esinet\\util\\util.py:423: RuntimeWarning: Too few samples (required : 310 got : 7), covariance estimate may be unreliable\n",
      "  data_cov = mne.compute_covariance(epochs, tmin=0.0,\n",
      "c:\\Users\\Lukas\\Documents\\projects\\esinet\\evaluate\\..\\esinet\\util\\util.py:388: RuntimeWarning: An average reference projection was already added. The data has been left untouched.\n",
      "  epochs.set_eeg_reference(projection=True, verbose=verbose)#.apply_baseline(baseline=baseline)\n",
      "c:\\Users\\Lukas\\Documents\\projects\\esinet\\evaluate\\..\\esinet\\util\\util.py:420: RuntimeWarning: Too few samples (required : 310 got : 100), covariance estimate may be unreliable\n",
      "  data_cov = mne.compute_raw_covariance(raw, tmin=tmin,\n",
      "c:\\Users\\Lukas\\Documents\\projects\\esinet\\evaluate\\..\\esinet\\util\\util.py:388: RuntimeWarning: An average reference projection was already added. The data has been left untouched.\n",
      "  epochs.set_eeg_reference(projection=True, verbose=verbose)#.apply_baseline(baseline=baseline)\n",
      "c:\\Users\\Lukas\\Documents\\projects\\esinet\\evaluate\\..\\esinet\\util\\util.py:420: RuntimeWarning: Too few samples (required : 310 got : 180), covariance estimate may be unreliable\n",
      "  data_cov = mne.compute_raw_covariance(raw, tmin=tmin,\n",
      "c:\\Users\\Lukas\\Documents\\projects\\esinet\\evaluate\\..\\esinet\\util\\util.py:388: RuntimeWarning: An average reference projection was already added. The data has been left untouched.\n",
      "  epochs.set_eeg_reference(projection=True, verbose=verbose)#.apply_baseline(baseline=baseline)\n"
     ]
    },
    {
     "name": "stdout",
     "output_type": "stream",
     "text": [
      "<RawArray | 61 x 504 (5.0 s), ~330 kB, data loaded> 4.0 info empirical\n",
      "<RawArray | 61 x 591 (5.9 s), ~371 kB, data loaded> 4.0 info empirical\n",
      "<RawArray | 61 x 423 (4.2 s), ~291 kB, data loaded> 4.0 info empirical\n",
      "<RawArray | 61 x 440 (4.4 s), ~299 kB, data loaded> 4.0 info empirical\n"
     ]
    },
    {
     "name": "stderr",
     "output_type": "stream",
     "text": [
      "c:\\Users\\Lukas\\Documents\\projects\\esinet\\evaluate\\..\\esinet\\util\\util.py:420: RuntimeWarning: Too few samples (required : 310 got : 20), covariance estimate may be unreliable\n",
      "  data_cov = mne.compute_raw_covariance(raw, tmin=tmin,\n",
      "c:\\Users\\Lukas\\Documents\\projects\\esinet\\evaluate\\..\\esinet\\util\\util.py:388: RuntimeWarning: An average reference projection was already added. The data has been left untouched.\n",
      "  epochs.set_eeg_reference(projection=True, verbose=verbose)#.apply_baseline(baseline=baseline)\n",
      "c:\\Users\\Lukas\\Documents\\projects\\esinet\\evaluate\\..\\esinet\\util\\util.py:420: RuntimeWarning: Too few samples (required : 310 got : 40), covariance estimate may be unreliable\n",
      "  data_cov = mne.compute_raw_covariance(raw, tmin=tmin,\n"
     ]
    },
    {
     "data": {
      "application/vnd.jupyter.widget-view+json": {
       "model_id": "1fd6728f44ff4ea192c57d03aded82fc",
       "version_major": 2,
       "version_minor": 0
      },
      "text/plain": [
       "0it [00:00, ?it/s]"
      ]
     },
     "metadata": {},
     "output_type": "display_data"
    },
    {
     "name": "stdout",
     "output_type": "stream",
     "text": [
      "\n",
      " LSTM :\n",
      "\n",
      "mle calculation....\n"
     ]
    },
    {
     "data": {
      "application/vnd.jupyter.widget-view+json": {
       "model_id": "ef576b3ce30b47cc84f07778705e4a3c",
       "version_major": 2,
       "version_minor": 0
      },
      "text/plain": [
       "0it [00:00, ?it/s]"
      ]
     },
     "metadata": {},
     "output_type": "display_data"
    },
    {
     "name": "stdout",
     "output_type": "stream",
     "text": [
      "101947 101947 101947\n",
      "auc calculation....\n"
     ]
    },
    {
     "data": {
      "application/vnd.jupyter.widget-view+json": {
       "model_id": "cd7e77c32e924f989accb1fc03c046f3",
       "version_major": 2,
       "version_minor": 0
      },
      "text/plain": [
       "0it [00:00, ?it/s]"
      ]
     },
     "metadata": {},
     "output_type": "display_data"
    },
    {
     "name": "stdout",
     "output_type": "stream",
     "text": [
      "nmse calculation....\n"
     ]
    },
    {
     "data": {
      "application/vnd.jupyter.widget-view+json": {
       "model_id": "0047559504b0449186f66bb49126ac0b",
       "version_major": 2,
       "version_minor": 0
      },
      "text/plain": [
       "0it [00:00, ?it/s]"
      ]
     },
     "metadata": {},
     "output_type": "display_data"
    },
    {
     "name": "stdout",
     "output_type": "stream",
     "text": [
      "mse calculation....\n"
     ]
    },
    {
     "data": {
      "application/vnd.jupyter.widget-view+json": {
       "model_id": "b6c13aa1878e4287bceb4d91267b71a6",
       "version_major": 2,
       "version_minor": 0
      },
      "text/plain": [
       "0it [00:00, ?it/s]"
      ]
     },
     "metadata": {},
     "output_type": "display_data"
    },
    {
     "name": "stdout",
     "output_type": "stream",
     "text": [
      "\n",
      " Fully-Connected :\n",
      "\n",
      "mle calculation....\n"
     ]
    },
    {
     "data": {
      "application/vnd.jupyter.widget-view+json": {
       "model_id": "3331da247ac44f1fad0df334546b3034",
       "version_major": 2,
       "version_minor": 0
      },
      "text/plain": [
       "0it [00:00, ?it/s]"
      ]
     },
     "metadata": {},
     "output_type": "display_data"
    },
    {
     "name": "stdout",
     "output_type": "stream",
     "text": [
      "101947 101947 101947\n",
      "auc calculation....\n"
     ]
    },
    {
     "data": {
      "application/vnd.jupyter.widget-view+json": {
       "model_id": "8e6b4d50a4c64282a881a01e92d572ac",
       "version_major": 2,
       "version_minor": 0
      },
      "text/plain": [
       "0it [00:00, ?it/s]"
      ]
     },
     "metadata": {},
     "output_type": "display_data"
    },
    {
     "name": "stdout",
     "output_type": "stream",
     "text": [
      "nmse calculation....\n"
     ]
    },
    {
     "data": {
      "application/vnd.jupyter.widget-view+json": {
       "model_id": "3d4dfe9f106c49f8adc9d06d7161c5a6",
       "version_major": 2,
       "version_minor": 0
      },
      "text/plain": [
       "0it [00:00, ?it/s]"
      ]
     },
     "metadata": {},
     "output_type": "display_data"
    },
    {
     "name": "stdout",
     "output_type": "stream",
     "text": [
      "mse calculation....\n"
     ]
    },
    {
     "data": {
      "application/vnd.jupyter.widget-view+json": {
       "model_id": "5011cb8596c448d688462837e3c14ba2",
       "version_major": 2,
       "version_minor": 0
      },
      "text/plain": [
       "0it [00:00, ?it/s]"
      ]
     },
     "metadata": {},
     "output_type": "display_data"
    },
    {
     "name": "stdout",
     "output_type": "stream",
     "text": [
      "\n",
      " ConvDip :\n",
      "\n",
      "mle calculation....\n"
     ]
    },
    {
     "data": {
      "application/vnd.jupyter.widget-view+json": {
       "model_id": "60f365f825c34d81a9c92c93c40e7983",
       "version_major": 2,
       "version_minor": 0
      },
      "text/plain": [
       "0it [00:00, ?it/s]"
      ]
     },
     "metadata": {},
     "output_type": "display_data"
    },
    {
     "name": "stdout",
     "output_type": "stream",
     "text": [
      "101947 101947 101947\n",
      "auc calculation....\n"
     ]
    },
    {
     "data": {
      "application/vnd.jupyter.widget-view+json": {
       "model_id": "b68a2266254642d084ad88d502902dab",
       "version_major": 2,
       "version_minor": 0
      },
      "text/plain": [
       "0it [00:00, ?it/s]"
      ]
     },
     "metadata": {},
     "output_type": "display_data"
    },
    {
     "name": "stdout",
     "output_type": "stream",
     "text": [
      "nmse calculation....\n"
     ]
    },
    {
     "data": {
      "application/vnd.jupyter.widget-view+json": {
       "model_id": "637de72188ec4b6aa91a81102e583de3",
       "version_major": 2,
       "version_minor": 0
      },
      "text/plain": [
       "0it [00:00, ?it/s]"
      ]
     },
     "metadata": {},
     "output_type": "display_data"
    },
    {
     "name": "stdout",
     "output_type": "stream",
     "text": [
      "mse calculation....\n"
     ]
    },
    {
     "data": {
      "application/vnd.jupyter.widget-view+json": {
       "model_id": "c8316655d8b04ed39f2a6850c1f108fe",
       "version_major": 2,
       "version_minor": 0
      },
      "text/plain": [
       "0it [00:00, ?it/s]"
      ]
     },
     "metadata": {},
     "output_type": "display_data"
    },
    {
     "name": "stdout",
     "output_type": "stream",
     "text": [
      "\n",
      " eLORETA :\n",
      "\n",
      "mle calculation....\n"
     ]
    },
    {
     "data": {
      "application/vnd.jupyter.widget-view+json": {
       "model_id": "74efd6aeaf1f435982f2705a77191678",
       "version_major": 2,
       "version_minor": 0
      },
      "text/plain": [
       "0it [00:00, ?it/s]"
      ]
     },
     "metadata": {},
     "output_type": "display_data"
    },
    {
     "name": "stdout",
     "output_type": "stream",
     "text": [
      "101947 101947 101947\n",
      "auc calculation....\n"
     ]
    },
    {
     "data": {
      "application/vnd.jupyter.widget-view+json": {
       "model_id": "e5ea6e45cc844e01b5049d0d074145bc",
       "version_major": 2,
       "version_minor": 0
      },
      "text/plain": [
       "0it [00:00, ?it/s]"
      ]
     },
     "metadata": {},
     "output_type": "display_data"
    },
    {
     "name": "stdout",
     "output_type": "stream",
     "text": [
      "nmse calculation....\n"
     ]
    },
    {
     "data": {
      "application/vnd.jupyter.widget-view+json": {
       "model_id": "4071bb6e74014a479edc6db2ea53834c",
       "version_major": 2,
       "version_minor": 0
      },
      "text/plain": [
       "0it [00:00, ?it/s]"
      ]
     },
     "metadata": {},
     "output_type": "display_data"
    },
    {
     "name": "stdout",
     "output_type": "stream",
     "text": [
      "mse calculation....\n"
     ]
    },
    {
     "data": {
      "application/vnd.jupyter.widget-view+json": {
       "model_id": "94fabe8c140444289d6d762659055552",
       "version_major": 2,
       "version_minor": 0
      },
      "text/plain": [
       "0it [00:00, ?it/s]"
      ]
     },
     "metadata": {},
     "output_type": "display_data"
    },
    {
     "name": "stdout",
     "output_type": "stream",
     "text": [
      "\n",
      " MNE :\n",
      "\n",
      "mle calculation....\n"
     ]
    },
    {
     "data": {
      "application/vnd.jupyter.widget-view+json": {
       "model_id": "28d0ad62134a4eb99545db3adc2eb9af",
       "version_major": 2,
       "version_minor": 0
      },
      "text/plain": [
       "0it [00:00, ?it/s]"
      ]
     },
     "metadata": {},
     "output_type": "display_data"
    },
    {
     "name": "stdout",
     "output_type": "stream",
     "text": [
      "101947 101947 101947\n",
      "auc calculation....\n"
     ]
    },
    {
     "data": {
      "application/vnd.jupyter.widget-view+json": {
       "model_id": "463fbecc06e540d3a60d5bfefc388eff",
       "version_major": 2,
       "version_minor": 0
      },
      "text/plain": [
       "0it [00:00, ?it/s]"
      ]
     },
     "metadata": {},
     "output_type": "display_data"
    },
    {
     "name": "stdout",
     "output_type": "stream",
     "text": [
      "nmse calculation....\n"
     ]
    },
    {
     "data": {
      "application/vnd.jupyter.widget-view+json": {
       "model_id": "e40be42cf5e74da98970b39ee0fd1857",
       "version_major": 2,
       "version_minor": 0
      },
      "text/plain": [
       "0it [00:00, ?it/s]"
      ]
     },
     "metadata": {},
     "output_type": "display_data"
    },
    {
     "name": "stdout",
     "output_type": "stream",
     "text": [
      "mse calculation....\n"
     ]
    },
    {
     "data": {
      "application/vnd.jupyter.widget-view+json": {
       "model_id": "fdbe292808e94504bac727c1be655985",
       "version_major": 2,
       "version_minor": 0
      },
      "text/plain": [
       "0it [00:00, ?it/s]"
      ]
     },
     "metadata": {},
     "output_type": "display_data"
    },
    {
     "name": "stdout",
     "output_type": "stream",
     "text": [
      "\n",
      " LCMV :\n",
      "\n",
      "mle calculation....\n"
     ]
    },
    {
     "data": {
      "application/vnd.jupyter.widget-view+json": {
       "model_id": "93cc270cc16344a0b02c09448c6912da",
       "version_major": 2,
       "version_minor": 0
      },
      "text/plain": [
       "0it [00:00, ?it/s]"
      ]
     },
     "metadata": {},
     "output_type": "display_data"
    },
    {
     "name": "stdout",
     "output_type": "stream",
     "text": [
      "101947 101947 101947\n",
      "auc calculation....\n"
     ]
    },
    {
     "data": {
      "application/vnd.jupyter.widget-view+json": {
       "model_id": "6c1440c1f91f40e99f4b5a48a0ba6c75",
       "version_major": 2,
       "version_minor": 0
      },
      "text/plain": [
       "0it [00:00, ?it/s]"
      ]
     },
     "metadata": {},
     "output_type": "display_data"
    },
    {
     "name": "stdout",
     "output_type": "stream",
     "text": [
      "nmse calculation....\n"
     ]
    },
    {
     "data": {
      "application/vnd.jupyter.widget-view+json": {
       "model_id": "d747a70ba52b4b2aa978650e2a18db0e",
       "version_major": 2,
       "version_minor": 0
      },
      "text/plain": [
       "0it [00:00, ?it/s]"
      ]
     },
     "metadata": {},
     "output_type": "display_data"
    },
    {
     "name": "stderr",
     "output_type": "stream",
     "text": [
      "c:\\Users\\Lukas\\Documents\\projects\\esinet\\evaluate\\..\\esinet\\evaluate\\evaluate.py:234: RuntimeWarning: invalid value encountered in true_divide\n",
      "  y_est_normed = y_est / np.max(np.abs(y_est))\n"
     ]
    },
    {
     "name": "stdout",
     "output_type": "stream",
     "text": [
      "mse calculation....\n"
     ]
    },
    {
     "data": {
      "application/vnd.jupyter.widget-view+json": {
       "model_id": "20c3bacf2b374a6b9cb2de0bf4e2665b",
       "version_major": 2,
       "version_minor": 0
      },
      "text/plain": [
       "0it [00:00, ?it/s]"
      ]
     },
     "metadata": {},
     "output_type": "display_data"
    },
    {
     "name": "stderr",
     "output_type": "stream",
     "text": [
      "C:\\Users\\Lukas\\AppData\\Local\\Temp/ipykernel_16624/2414610761.py:59: RuntimeWarning: Mean of empty slice\n",
      "  aucs_combined = [np.nanmean([auc[0], auc[1]]) for auc in np.array(aucs_combined)]\n"
     ]
    }
   ],
   "source": [
    "%load_ext autoreload\n",
    "%autoreload 2\n",
    "\n",
    "from esinet.evaluate import eval_mean_localization_error, eval_nmse, eval_auc, eval_mse\n",
    "from esinet.util import wrap_mne_inverse\n",
    "from scipy.spatial.distance import cdist\n",
    "from tqdm.notebook import tqdm\n",
    "from joblib import Parallel, delayed\n",
    "\n",
    "model_names_tmp = deepcopy(model_names)\n",
    "# Predict\n",
    "print('predict esinets...')\n",
    "predictions = [model.predict(sim_test) for model in models]\n",
    "\n",
    "print('predict elor')\n",
    "pred_elor = wrap_mne_inverse(fwd, sim_test, method='eLORETA', add_baseline=True, \n",
    "    n_baseline=400)\n",
    "model_names_tmp.append('eLORETA')\n",
    "predictions.append(pred_elor)\n",
    "\n",
    "print('predict MNE')\n",
    "pred_mne = wrap_mne_inverse(fwd, sim_test, method='MNE', add_baseline=True, \n",
    "    n_baseline=400)\n",
    "model_names_tmp.append('MNE')\n",
    "predictions.append(pred_mne)\n",
    "\n",
    "print('predict LCMV')\n",
    "pred_lcmv = wrap_mne_inverse(fwd, sim_test, method='lcmv', \n",
    "    parallel=False, add_baseline=True, n_baseline=400)\n",
    "model_names_tmp.append('LCMV')\n",
    "predictions.append(pred_lcmv)\n",
    "\n",
    "pos = util.unpack_fwd(fwd)[2]\n",
    "argsorted_distance_matrix = np.argsort(cdist(pos, pos), axis=-1)\n",
    "\n",
    "metrics = dict()\n",
    "true_sources = np.concatenate([src.data for src in sim_test.source_data], axis=1).T\n",
    "\n",
    "for prediction, model_name in tqdm(zip(predictions, model_names_tmp)):\n",
    "    print('\\n', model_name, ':\\n')\n",
    "     \n",
    "    predicted_sources = np.concatenate([src.data for src in prediction], axis=1).T\n",
    "\n",
    "    print('mle calculation....')\n",
    "    mean_localization_errors = [eval_mean_localization_error(true_source, predicted_source, pos, argsorted_distance_matrix=argsorted_distance_matrix) for true_source, predicted_source in tqdm(zip(true_sources, predicted_sources))]\n",
    "    print(len(mean_localization_errors), len(true_sources), len(predicted_sources))\n",
    "    print('auc calculation....')\n",
    "    # aucs_combined = [eval_auc(true_source, predicted_source, pos, epsilon=0.25, n_redraw=5) for true_source, predicted_source in tqdm(zip(true_sources, predicted_sources))]\n",
    "    aucs_combined = Parallel(n_jobs=-1, backend='loky') \\\n",
    "        (delayed(eval_auc)(true_source, predicted_source, pos, epsilon=0.25, n_redraw=5)\n",
    "        for true_source, predicted_source in tqdm(zip(true_sources, predicted_sources)))\n",
    "    print('nmse calculation....')\n",
    "    nmses = [eval_nmse(true_source, predicted_source) for true_source, predicted_source in tqdm(zip(true_sources, predicted_sources))]\n",
    "    print('mse calculation....')\n",
    "    mses = [eval_mse(true_source, predicted_source) for true_source, predicted_source in tqdm(zip(true_sources, predicted_sources))]\n",
    "\n",
    "    aucs_far = [auc[1] for auc in np.array(aucs_combined)]\n",
    "    aucs_close = [auc[0] for auc in np.array(aucs_combined)]\n",
    "    aucs_combined = [np.nanmean([auc[0], auc[1]]) for auc in np.array(aucs_combined)]\n",
    "\n",
    "    metric = pd.DataFrame(dict(\n",
    "        mean_localization_errors=mean_localization_errors,\n",
    "        aucs_combined=aucs_combined,\n",
    "        aucs_far=aucs_far,\n",
    "        aucs_close=aucs_close,\n",
    "        nmses=nmses,\n",
    "        mses=mses\n",
    "        )\n",
    "    )\n",
    "    metric.name = model_name\n",
    "    metrics[model_name] = metric\n",
    "    \n",
    "\n",
    "with open(f'results\\\\metrics_{len(true_sources)}_1-200points_standard.pkl', 'wb') as f:\n",
    "    pkl.dump([metrics, sim_test.simulation_info], f)"
   ]
  },
  {
   "cell_type": "markdown",
   "metadata": {},
   "source": [
    "## Load Metrics"
   ]
  },
  {
   "cell_type": "code",
   "execution_count": 5,
   "metadata": {},
   "outputs": [],
   "source": [
    "with open(f'results\\\\metrics_101947_1-200points_standard.pkl', 'rb') as f:\n",
    "    [metrics, simulation_info] = pkl.load(f)"
   ]
  },
  {
   "cell_type": "markdown",
   "metadata": {},
   "source": [
    "## Prepare Metrics"
   ]
  },
  {
   "cell_type": "code",
   "execution_count": 8,
   "metadata": {},
   "outputs": [
    {
     "name": "stderr",
     "output_type": "stream",
     "text": [
      "C:\\Users\\Lukas\\Envs\\esienv\\lib\\site-packages\\pandas\\core\\apply.py:821: RuntimeWarning: Mean of empty slice\n",
      "  results[i] = self.f(v)\n"
     ]
    },
    {
     "data": {
      "text/html": [
       "<div>\n",
       "<style scoped>\n",
       "    .dataframe tbody tr th:only-of-type {\n",
       "        vertical-align: middle;\n",
       "    }\n",
       "\n",
       "    .dataframe tbody tr th {\n",
       "        vertical-align: top;\n",
       "    }\n",
       "\n",
       "    .dataframe thead th {\n",
       "        text-align: right;\n",
       "    }\n",
       "</style>\n",
       "<table border=\"1\" class=\"dataframe\">\n",
       "  <thead>\n",
       "    <tr style=\"text-align: right;\">\n",
       "      <th></th>\n",
       "      <th>mean_localization_errors</th>\n",
       "      <th>aucs_combined</th>\n",
       "      <th>aucs_far</th>\n",
       "      <th>aucs_close</th>\n",
       "      <th>nmses</th>\n",
       "      <th>mses</th>\n",
       "      <th>method</th>\n",
       "      <th>sample_id</th>\n",
       "    </tr>\n",
       "  </thead>\n",
       "  <tbody>\n",
       "    <tr>\n",
       "      <th>0</th>\n",
       "      <td>23.219618</td>\n",
       "      <td>0.868293</td>\n",
       "      <td>0.942479</td>\n",
       "      <td>0.794107</td>\n",
       "      <td>0.012646</td>\n",
       "      <td>4.666444e-19</td>\n",
       "      <td>LSTM</td>\n",
       "      <td>0</td>\n",
       "    </tr>\n",
       "    <tr>\n",
       "      <th>1</th>\n",
       "      <td>11.719351</td>\n",
       "      <td>0.822743</td>\n",
       "      <td>0.875600</td>\n",
       "      <td>0.769886</td>\n",
       "      <td>0.008011</td>\n",
       "      <td>1.222845e-19</td>\n",
       "      <td>LSTM</td>\n",
       "      <td>1</td>\n",
       "    </tr>\n",
       "    <tr>\n",
       "      <th>2</th>\n",
       "      <td>14.562478</td>\n",
       "      <td>0.843674</td>\n",
       "      <td>0.921228</td>\n",
       "      <td>0.766119</td>\n",
       "      <td>0.013500</td>\n",
       "      <td>2.504530e-19</td>\n",
       "      <td>LSTM</td>\n",
       "      <td>2</td>\n",
       "    </tr>\n",
       "    <tr>\n",
       "      <th>3</th>\n",
       "      <td>19.684041</td>\n",
       "      <td>0.887201</td>\n",
       "      <td>0.966092</td>\n",
       "      <td>0.808311</td>\n",
       "      <td>0.012914</td>\n",
       "      <td>1.005835e-19</td>\n",
       "      <td>LSTM</td>\n",
       "      <td>3</td>\n",
       "    </tr>\n",
       "    <tr>\n",
       "      <th>4</th>\n",
       "      <td>19.647893</td>\n",
       "      <td>0.828699</td>\n",
       "      <td>0.875775</td>\n",
       "      <td>0.781622</td>\n",
       "      <td>0.010828</td>\n",
       "      <td>2.464672e-19</td>\n",
       "      <td>LSTM</td>\n",
       "      <td>4</td>\n",
       "    </tr>\n",
       "  </tbody>\n",
       "</table>\n",
       "</div>"
      ],
      "text/plain": [
       "   mean_localization_errors  aucs_combined  aucs_far  aucs_close     nmses  \\\n",
       "0                 23.219618       0.868293  0.942479    0.794107  0.012646   \n",
       "1                 11.719351       0.822743  0.875600    0.769886  0.008011   \n",
       "2                 14.562478       0.843674  0.921228    0.766119  0.013500   \n",
       "3                 19.684041       0.887201  0.966092    0.808311  0.012914   \n",
       "4                 19.647893       0.828699  0.875775    0.781622  0.010828   \n",
       "\n",
       "           mses method  sample_id  \n",
       "0  4.666444e-19   LSTM          0  \n",
       "1  1.222845e-19   LSTM          1  \n",
       "2  2.504530e-19   LSTM          2  \n",
       "3  1.005835e-19   LSTM          3  \n",
       "4  2.464672e-19   LSTM          4  "
      ]
     },
     "execution_count": 8,
     "metadata": {},
     "output_type": "execute_result"
    }
   ],
   "source": [
    "durs_in_samples = [round(dur*100) for dur in sim_test.simulation_info.duration_of_trials.values]\n",
    "\n",
    "idx = 0\n",
    "indices = []\n",
    "for dur in durs_in_samples:\n",
    "    idc = [idx, dur+idx]\n",
    "    indices.append(idc)\n",
    "    idx += dur\n",
    "metrics_short = dict()\n",
    "\n",
    "\n",
    "for method in metrics.keys():\n",
    "    metrics_short[method] = pd.DataFrame(columns=metrics[method].columns)\n",
    "    for id, idc in enumerate(indices):\n",
    "        sample_summary = metrics[method].iloc[idc[0]:idc[1]].apply(np.nanmean, axis=0)\n",
    "        sample_summary.sample_id = id\n",
    "        metrics_short[method] = metrics_short[method].append(sample_summary, ignore_index=True)\n",
    "    metrics_short[method].method = method\n",
    "    # metrics_short[method].iloc[:, 0:6].values = np.real(metrics_short[method].iloc[:, 0:6])\n",
    "\n",
    "dfs = [df[1] for df in list(metrics_short.items())]\n",
    "\n",
    "for i, (key, df) in enumerate(metrics_short.items()):\n",
    "    dfs[i]['method'] = [key]*df.shape[0]\n",
    "    dfs[i]['sample_id'] = np.arange(df.shape[0])\n",
    "df_aio = pd.concat(dfs)\n",
    "df_aio.head()"
   ]
  },
  {
   "cell_type": "markdown",
   "metadata": {},
   "source": [
    "# Plot Evaluation Metrics"
   ]
  },
  {
   "cell_type": "markdown",
   "metadata": {},
   "source": [
    "## Boxplot Overview "
   ]
  },
  {
   "cell_type": "code",
   "execution_count": 9,
   "metadata": {},
   "outputs": [
    {
     "name": "stderr",
     "output_type": "stream",
     "text": [
      "WARNING:matplotlib.font_manager:findfont: Font family ['helvetica'] not found. Falling back to DejaVu Sans.\n",
      "WARNING:matplotlib.font_manager:findfont: Font family ['helvetica'] not found. Falling back to DejaVu Sans.\n"
     ]
    }
   ],
   "source": [
    "import seaborn as sns; sns.set(style='whitegrid', font_scale=1.2, font='helvetica')\n",
    "%matplotlib qt\n",
    "\n",
    "cols = df_aio.iloc[:, 0:6].columns\n",
    "for y in cols:\n",
    "    plt.figure(figsize=(11, 7))\n",
    "    sns.boxplot(data=df_aio, x='method', y=y)\n",
    "    plt.title(y.replace('_', ' ').title())\n",
    "        "
   ]
  },
  {
   "cell_type": "markdown",
   "metadata": {},
   "source": [
    "## Quadratic Scatter"
   ]
  },
  {
   "cell_type": "code",
   "execution_count": 71,
   "metadata": {},
   "outputs": [],
   "source": [
    "import seaborn as sns; sns.set(style='whitegrid', font_scale=1.2, font='helvetica')\n",
    "%matplotlib qt\n",
    "methods_of_interest = ['LSTM Standard', 'Dense Standard']\n",
    "# df_select = df_aio[df_aio['method'].str.contains('|'.join(methods_of_interest))]\n",
    "\n",
    "cols = df_aio.iloc[:, 0:6].columns\n",
    "for method_name in cols:\n",
    "\n",
    "    vals_A = df_aio[df_aio['method'].str.contains(methods_of_interest[0])][method_name].values\n",
    "    vals_B = df_aio[df_aio['method'].str.contains(methods_of_interest[1])][method_name].values\n",
    "    d = {methods_of_interest[0]: vals_A, methods_of_interest[1]: vals_B,} \n",
    "    df_tmp = pd.DataFrame(d)\n",
    "    plt.figure(figsize=(10, 10))\n",
    "    ax = sns.scatterplot(data=df_tmp, x=methods_of_interest[0], y=methods_of_interest[1])\n",
    "\n",
    "\n",
    "    xlim, ylim = (plt.xlim(), plt.ylim())\n",
    "    plt.plot(xlim, ylim, '--k')\n",
    "    xlim = (xlim[0]*0.95, xlim[1]*1.05)\n",
    "    ylim = (ylim[0]*0.95, ylim[1]*1.05)\n",
    "    plt.ylim(ylim)\n",
    "    plt.xlim(xlim)\n",
    "    \n",
    "    # Title\n",
    "    prop_higher = np.sum(vals_B > vals_A) / len(vals_A)\n",
    "    cohens_d = (np.nanmean(vals_A) - np.nanmean(vals_B)) / np.mean([np.nanstd(vals_A), np.nanstd(vals_B)])\n",
    "    median_diff = np.abs(np.nanmedian(vals_A-vals_B))\n",
    "    method_name_title = method_name.replace('_', ' ').title()\n",
    "    title = f'{method_name_title} ({methods_of_interest[1]} higher in {100*prop_higher:.1f} %)\\nmedian_difference: {median_diff}\\ncohens d: {abs(cohens_d):.2f}'\n",
    "    plt.title(title)\n",
    "\n",
    "    plt.gca().set_aspect('equal', adjustable='box')\n",
    "    del d, df_tmp"
   ]
  },
  {
   "cell_type": "markdown",
   "metadata": {},
   "source": [
    "## Dependence on anything"
   ]
  },
  {
   "cell_type": "code",
   "execution_count": 10,
   "metadata": {},
   "outputs": [],
   "source": [
    "import pandas as pd\n",
    "%matplotlib qt\n",
    "sns.set(font_scale=1.2, font='helvetica')\n",
    "# pd.DataFrame( metrics , index=model_names)\n",
    "target_column = 'duration_of_trials'\n",
    "binning = True\n",
    "n_bins = 25\n",
    "\n",
    "\n",
    "df = sim_test.simulation_info\n",
    "if binning:\n",
    "    minimum = np.min([np.min(arr) for arr in df[target_column].values])\n",
    "    maximum = np.max([np.max(arr) for arr in df[target_column].values])\n",
    "    \n",
    "    bins = np.linspace(minimum, maximum*1.01, num=n_bins)\n",
    "    bin_labels = [str(round(bins[i], 1)) + ' - ' + str(round(bins[i+1], 1)) for i in range(len(bins)-1)]\n",
    "    new_target_column = 'bins ' + target_column\n",
    "    df[new_target_column] = np.digitize(df[target_column].values, bins=bins)\n",
    "    target_column = new_target_column\n",
    "    \n",
    "else:\n",
    "    bins = list(set(df[target_column].values))\n",
    "    bins[-1] *= 1.01\n",
    "    bin_labels = [str(bins[i]) for i in range(len(bins))]\n",
    "\n",
    "\n",
    "for i, model_name in enumerate(list(set(df_aio.method.values))):\n",
    "    cols = df_aio[df_aio.method==model_name].iloc[:, 0:6].columns\n",
    "    values = df_aio[df_aio.method==model_name].iloc[:, 0:6].values\n",
    "\n",
    "    for metric_name, metric in zip(cols, values.T):\n",
    "        col_name = model_name.replace(' ', '_') + '_' + metric_name.replace(' ', '_')\n",
    "        df[col_name] = metric\n",
    "\n",
    "dep_var_regex = target_column\n",
    "dep_var_label = target_column.replace('_', ' ').title()\n",
    "metric_names_nice = [col.replace('_', ' ').title() for col in df_aio.iloc[:, :6].columns]\n",
    "for metric_name, metric_name_nice in zip(df_aio.iloc[:, :6].columns,  metric_names_nice):\n",
    "    df_temp = pd.concat((df.filter(regex=dep_var_regex), df.filter(regex='_'+metric_name)), axis=1).melt(dep_var_regex, var_name='cols', value_name='vals')\n",
    "    g = sns.catplot(x=dep_var_regex, y='vals', hue='cols', capsize=.2, kind='point', data=df_temp)\n",
    "    g.set(xticklabels=bin_labels, ylabel=metric_name_nice, xlabel=dep_var_label)\n",
    "    g._legend.remove()\n",
    "    plt.legend(bbox_to_anchor=(1.05, 1), loc=2, borderaxespad=0.)\n",
    "    plt.tight_layout()"
   ]
  },
  {
   "cell_type": "markdown",
   "metadata": {},
   "source": [
    "## Dependence on Duration"
   ]
  },
  {
   "cell_type": "code",
   "execution_count": 11,
   "metadata": {},
   "outputs": [
    {
     "name": "stdout",
     "output_type": "stream",
     "text": [
      "Simulating data based on sparse patches.\n"
     ]
    },
    {
     "name": "stderr",
     "output_type": "stream",
     "text": [
      "100%|██████████| 1000/1000 [00:03<00:00, 294.86it/s]\n",
      "100%|██████████| 1000/1000 [00:00<00:00, 10333.88it/s]\n"
     ]
    },
    {
     "name": "stdout",
     "output_type": "stream",
     "text": [
      "source data shape:  (1284, 100) (1284, 100)\n"
     ]
    },
    {
     "name": "stderr",
     "output_type": "stream",
     "text": [
      "100%|██████████| 1000/1000 [00:07<00:00, 142.09it/s]\n"
     ]
    },
    {
     "data": {
      "application/vnd.jupyter.widget-view+json": {
       "model_id": "53b4d66ad4a946dea8eb627ac4e1df1e",
       "version_major": 2,
       "version_minor": 0
      },
      "text/plain": [
       "0it [00:00, ?it/s]"
      ]
     },
     "metadata": {},
     "output_type": "display_data"
    },
    {
     "name": "stdout",
     "output_type": "stream",
     "text": [
      "sup\n",
      "sup\n",
      "sup\n",
      "sup\n",
      "sup\n",
      "sup\n",
      "sup\n",
      "sup\n",
      "sup\n",
      "sup\n",
      "sup\n",
      "sup\n",
      "sup\n",
      "sup\n",
      "sup\n",
      "sup\n",
      "sup\n",
      "sup\n",
      "sup\n",
      "sup\n",
      "sup\n",
      "sup\n",
      "sup\n",
      "sup\n",
      "sup\n",
      "sup\n",
      "sup\n",
      "sup\n",
      "sup\n",
      "sup\n",
      "sup\n",
      "sup\n",
      "sup\n",
      "sup\n",
      "sup\n",
      "sup\n",
      "sup\n",
      "sup\n",
      "sup\n",
      "sup\n"
     ]
    }
   ],
   "source": [
    "from tqdm.notebook import tqdm\n",
    "n_simulations = 1000\n",
    "settings = dict(duration_of_trial=1.,)\n",
    "sim = Simulation(fwd, info, settings=settings).simulate(n_simulations)\n",
    "\n",
    "times = sim.source_data[0].times\n",
    "\n",
    "corrs = dict()\n",
    "nmses = dict()\n",
    "points = dict()\n",
    "for i, time in tqdm(enumerate(times[:-1][::5])):\n",
    "    for model, model_name in zip(models[:2], model_names[:2]):\n",
    "        if not model_name in corrs.keys():\n",
    "            corrs[model_name] = []    \n",
    "            nmses[model_name] = []    \n",
    "            points[model_name] = []\n",
    "        r = []\n",
    "        nmse = []\n",
    "        new_sim = deepcopy(sim).crop(tmin=time)\n",
    "        y_pred = model.predict(new_sim)\n",
    "        \n",
    "        for idx in range(n_simulations):\n",
    "            r.append( util.batch_corr(sim.source_data[idx].data[:, -1][:, np.newaxis], y_pred[idx].data[:, -1][:, np.newaxis]) )\n",
    "            nmse.append( util.batch_nmse(sim.source_data[idx].data[:, -1][:, np.newaxis], y_pred[idx].data[:, -1][:, np.newaxis]) )\n",
    "        \n",
    "        corrs[model_name].append(np.nanmean(r))\n",
    "        nmses[model_name].append(np.nanmean(nmse))\n",
    "        points[model_name].append(new_sim.source_data[idx].shape[1])\n",
    "    \n"
   ]
  },
  {
   "cell_type": "code",
   "execution_count": 19,
   "metadata": {},
   "outputs": [
    {
     "data": {
      "text/plain": [
       "<matplotlib.legend.Legend at 0x26e76e8c520>"
      ]
     },
     "execution_count": 19,
     "metadata": {},
     "output_type": "execute_result"
    }
   ],
   "source": [
    "%matplotlib qt\n",
    "plt.figure(figsize=(8,6))\n",
    "\n",
    "plt.subplot(211)\n",
    "for model_name in model_names[:2]:\n",
    "    plt.plot(points[model_name], corrs[model_name], label=model_name)\n",
    "\n",
    "plt.xlabel('Number of available data points')\n",
    "plt.title('Correlation ground truth vs prediction')\n",
    "plt.legend()\n",
    "\n",
    "plt.subplot(212)\n",
    "for model_name in model_names[:2]:\n",
    "    plt.plot(points[model_name], nmses[model_name], label=model_name)\n",
    "plt.xlabel('Number of available data points')\n",
    "plt.title('NMSE ground truth vs prediction')\n",
    "plt.tight_layout()\n",
    "plt.legend()"
   ]
  },
  {
   "cell_type": "markdown",
   "metadata": {},
   "source": [
    "## Save all figures"
   ]
  },
  {
   "cell_type": "code",
   "execution_count": null,
   "metadata": {},
   "outputs": [],
   "source": [
    "from matplotlib.backends.backend_pdf import PdfPages\n",
    "\n",
    "def multipage(filename, figs=None, dpi=300, png=False):\n",
    "    ''' Saves all open (or list of) figures to filename.pdf with dpi''' \n",
    "    pp = PdfPages(filename)\n",
    "    path = os.path.dirname(filename)\n",
    "    fn = os.path.basename(filename)[:-4]\n",
    "\n",
    "    if figs is None:\n",
    "        figs = [plt.figure(n) for n in plt.get_fignums()]\n",
    "    for i, fig in enumerate(figs):\n",
    "        print(f'saving fig {fig}\\n')\n",
    "        fig.savefig(pp, format='pdf', dpi=dpi)\n",
    "        if png:\n",
    "            fig.savefig(f'{path}\\\\{i}_{fn}.png', dpi=600)\n",
    "    pp.close()\n",
    "\n",
    "multipage(f'figures\\\\figs_5000_10samples\\\\figs_5000_10samples.pdf', png=True)"
   ]
  },
  {
   "cell_type": "markdown",
   "metadata": {},
   "source": [
    "## Speed test"
   ]
  },
  {
   "cell_type": "code",
   "execution_count": null,
   "metadata": {},
   "outputs": [],
   "source": [
    "import time\n",
    "\n",
    "def new_sim_params(sr=100, packages_per_second=20):\n",
    "    package_size = int( round( sr / packages_per_second  ) )\n",
    "    package_interval = package_size/sr\n",
    "\n",
    "    n_chan = len(sim_test.eeg_data.ch_names)\n",
    "    data_package = np.random.randn(n_chan, package_size)\n",
    "\n",
    "    sim_data_package = Simulation(fwd, info, settings=dict(duration_of_trial=0.01*package_size)).simulate(1)\n",
    "    print(f'performing predictions {packages_per_second} times per second')\n",
    "\n",
    "    return sim_data_package, package_interval\n",
    "\n",
    "packages_per_second = 50\n",
    "sim_data_package, package_interval = new_sim_params(packages_per_second=packages_per_second)\n",
    "\n",
    "while True:\n",
    "    start = time.time()\n",
    "    # stc = net_dense.predict(sim_data_package)\n",
    "    stc = models[0].predict(sim_data_package)\n",
    "\n",
    "    stop = time.time()\n",
    "    diff = stop-start\n",
    "    if stop-start > package_interval:\n",
    "        print(f\"took longer than expected: {diff} (instead of {package_interval})\")\n",
    "        print(f'decreasing package interval by one')\n",
    "        packages_per_second -= 1\n",
    "        sim_data_package, package_interval = new_sim_params(packages_per_second=packages_per_second)\n",
    "        print(f'packages_per_second={packages_per_second}\\n')\n",
    "        continue\n",
    "    time.sleep(package_interval-diff)\n",
    "\n"
   ]
  }
 ],
 "metadata": {
  "interpreter": {
   "hash": "8292a7c1b71beb25883e5d3de4479593a27229e31834907607dc8a0d6e7b1899"
  },
  "kernelspec": {
   "display_name": "Python 3.8.10 64-bit ('esienv': virtualenv)",
   "name": "python3"
  },
  "language_info": {
   "codemirror_mode": {
    "name": "ipython",
    "version": 3
   },
   "file_extension": ".py",
   "mimetype": "text/x-python",
   "name": "python",
   "nbconvert_exporter": "python",
   "pygments_lexer": "ipython3",
   "version": "3.8.10"
  },
  "orig_nbformat": 4
 },
 "nbformat": 4,
 "nbformat_minor": 2
}
