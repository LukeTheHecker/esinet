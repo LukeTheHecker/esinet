{
 "cells": [
  {
   "cell_type": "code",
   "execution_count": 1,
   "metadata": {},
   "outputs": [],
   "source": [
    "%matplotlib inline\n",
    "# %load_ext autoreload\n",
    "# %autoreload 2\n",
    "\n",
    "import sys; sys.path.insert(0, '../')\n",
    "import pickle as pkl\n",
    "import numpy as np\n",
    "import pandas as pd\n",
    "from copy import deepcopy\n",
    "import mne\n",
    "import seaborn as sns\n",
    "import matplotlib.pyplot as plt\n",
    "from esinet import util\n",
    "from esinet import Simulation\n",
    "from esinet import Net\n",
    "from esinet import forward\n",
    "\n",
    "plot_params = dict(surface='white', hemi='both', verbose=0)"
   ]
  },
  {
   "cell_type": "markdown",
   "metadata": {},
   "source": [
    "# Forward Model"
   ]
  },
  {
   "cell_type": "code",
   "execution_count": 2,
   "metadata": {},
   "outputs": [
    {
     "name": "stderr",
     "output_type": "stream",
     "text": [
      "[Parallel(n_jobs=16)]: Using backend LokyBackend with 16 concurrent workers.\n",
      "[Parallel(n_jobs=16)]: Done   5 out of  16 | elapsed:    0.9s remaining:    2.1s\n",
      "[Parallel(n_jobs=16)]: Done   9 out of  16 | elapsed:    0.9s remaining:    0.7s\n",
      "[Parallel(n_jobs=16)]: Done  13 out of  16 | elapsed:    0.9s remaining:    0.1s\n",
      "[Parallel(n_jobs=16)]: Done  16 out of  16 | elapsed:    1.0s finished\n",
      "[Parallel(n_jobs=16)]: Using backend LokyBackend with 16 concurrent workers.\n",
      "[Parallel(n_jobs=16)]: Done   5 out of  16 | elapsed:    0.0s remaining:    0.0s\n",
      "[Parallel(n_jobs=16)]: Done   9 out of  16 | elapsed:    0.0s remaining:    0.0s\n",
      "[Parallel(n_jobs=16)]: Done  13 out of  16 | elapsed:    0.0s remaining:    0.0s\n",
      "[Parallel(n_jobs=16)]: Done  16 out of  16 | elapsed:    0.0s finished\n",
      "[Parallel(n_jobs=16)]: Using backend LokyBackend with 16 concurrent workers.\n",
      "[Parallel(n_jobs=16)]: Done   5 out of  16 | elapsed:    0.0s remaining:    0.1s\n",
      "[Parallel(n_jobs=16)]: Done   9 out of  16 | elapsed:    0.0s remaining:    0.0s\n",
      "[Parallel(n_jobs=16)]: Done  13 out of  16 | elapsed:    0.0s remaining:    0.0s\n",
      "[Parallel(n_jobs=16)]: Done  16 out of  16 | elapsed:    0.0s finished\n",
      "[Parallel(n_jobs=16)]: Using backend LokyBackend with 16 concurrent workers.\n",
      "[Parallel(n_jobs=16)]: Done   5 out of  16 | elapsed:    0.0s remaining:    0.0s\n",
      "[Parallel(n_jobs=16)]: Done   9 out of  16 | elapsed:    0.0s remaining:    0.0s\n",
      "[Parallel(n_jobs=16)]: Done  13 out of  16 | elapsed:    0.0s remaining:    0.0s\n",
      "[Parallel(n_jobs=16)]: Done  16 out of  16 | elapsed:    0.0s finished\n",
      "[Parallel(n_jobs=16)]: Using backend LokyBackend with 16 concurrent workers.\n",
      "[Parallel(n_jobs=16)]: Done   5 out of  16 | elapsed:    0.0s remaining:    0.1s\n",
      "[Parallel(n_jobs=16)]: Done   9 out of  16 | elapsed:    0.0s remaining:    0.0s\n",
      "[Parallel(n_jobs=16)]: Done  13 out of  16 | elapsed:    0.0s remaining:    0.0s\n",
      "[Parallel(n_jobs=16)]: Done  16 out of  16 | elapsed:    0.0s finished\n",
      "[Parallel(n_jobs=16)]: Using backend LokyBackend with 16 concurrent workers.\n",
      "[Parallel(n_jobs=16)]: Done   5 out of  16 | elapsed:    0.0s remaining:    0.1s\n",
      "[Parallel(n_jobs=16)]: Done   9 out of  16 | elapsed:    0.0s remaining:    0.0s\n",
      "[Parallel(n_jobs=16)]: Done  13 out of  16 | elapsed:    0.0s remaining:    0.0s\n",
      "[Parallel(n_jobs=16)]: Done  16 out of  16 | elapsed:    0.0s finished\n"
     ]
    }
   ],
   "source": [
    "info = forward.get_info()\n",
    "info['sfreq'] = 100\n",
    "fwd = forward.create_forward_model(info=info)\n",
    "fwd_free = forward.create_forward_model(info=info, fixed_ori=False)"
   ]
  },
  {
   "cell_type": "markdown",
   "metadata": {},
   "source": [
    "# Load Models"
   ]
  },
  {
   "cell_type": "code",
   "execution_count": 4,
   "metadata": {},
   "outputs": [],
   "source": [
    "lstm_standard = util.load_net('models/LSTM Medium_1-1000points_standard-cosine-mse_0')\n",
    "# lstm_noise = util.load_net('models/LSTM Medium_1-1000points_noise-cosine-mse_0')\n",
    "# lstm_standard = util.load_net('models/LSTM Medium_1-1000points_standard-cosine-mse_single-dip_0')\n",
    "\n",
    "dense_standard = util.load_net('models/Dense Medium_1-1000points_standard-cosine-mse_0')\n",
    "# dense_noise = util.load_net('models/Dense Medium_1-1000points_noise-cosine-mse_0')\n",
    "\n",
    "convdip_standard = util.load_net('models/ConvDip Medium_1-1000points_standard-cosine-mse_0')\n",
    "# convdip_noise = util.load_net('models/ConvDip Medium_1-1000points_noise-cosine-mse_0')\n",
    "\n",
    "# models = [lstm_standard, lstm_noise, dense_standard, dense_noise, convdip_standard, convdip_noise]\n",
    "# model_names = ['LSTM Standard', 'LSTM Noise', 'Dense Standard', 'Dense Noise', 'ConvDip Standard', 'ConvDip Noise']\n",
    "models = [lstm_standard, dense_standard, convdip_standard]\n",
    "model_names = ['LSTM Standard', 'Dense Standard', 'ConvDip Standard']\n",
    "\n",
    "# models = [lstm_noise, dense_noise, convdip_noise]\n",
    "# model_names = ['LSTM Noise', 'Dense Noise', 'ConvDip Noise']\n"
   ]
  },
  {
   "cell_type": "markdown",
   "metadata": {},
   "source": [
    "# Test ability to process long sequences"
   ]
  },
  {
   "cell_type": "code",
   "execution_count": null,
   "metadata": {},
   "outputs": [],
   "source": [
    "%load_ext autoreload\n",
    "%autoreload 2\n",
    "\n",
    "settings_eval = dict(duration_of_trial=100, method='standard', number_of_sources=10)\n",
    "sim_test = Simulation(fwd, info, settings=settings_eval).simulate(2)\n",
    "idx = 0\n",
    "durs = [100, 50, 10, 1, 0.1, 0.02]\n",
    "# durs = [np.random.uniform(0.01, 100) for _ in range(5)]\n",
    "for net, name in zip(models, model_names):\n",
    "    for dur in durs:\n",
    "        sim_test.crop(tmax=dur)\n",
    "        prediction = net.predict(sim_test)\n",
    "        error = util.batch_nmse(sim_test.source_data[idx].data, prediction[idx].data)\n",
    "        r = util.batch_corr(sim_test.source_data[idx].data, prediction[idx].data)\n",
    "        title = f'{dur}: error: {error:.4}, r: {r:.2f}\\n'\n",
    "        print(f\"{name}:\")\n",
    "        print(title)\n"
   ]
  },
  {
   "cell_type": "markdown",
   "metadata": {},
   "source": [
    "# Plot single ground truth and predictions"
   ]
  },
  {
   "cell_type": "code",
   "execution_count": 50,
   "metadata": {},
   "outputs": [
    {
     "name": "stdout",
     "output_type": "stream",
     "text": [
      "The autoreload extension is already loaded. To reload it, use:\n",
      "  %reload_ext autoreload\n",
      "Simulating data based on sparse patches.\n"
     ]
    },
    {
     "name": "stderr",
     "output_type": "stream",
     "text": [
      "100%|██████████| 2/2 [00:00<00:00, 398.85it/s]\n",
      "100%|██████████| 2/2 [00:00<00:00, 2005.88it/s]\n"
     ]
    },
    {
     "name": "stdout",
     "output_type": "stream",
     "text": [
      "source data shape:  (1284, 1) (1284, 1)\n"
     ]
    },
    {
     "name": "stderr",
     "output_type": "stream",
     "text": [
      "100%|██████████| 2/2 [00:00<00:00, 987.94it/s]\n"
     ]
    },
    {
     "name": "stdout",
     "output_type": "stream",
     "text": [
      "interpolating for convdip...\n"
     ]
    },
    {
     "name": "stderr",
     "output_type": "stream",
     "text": [
      "2it [00:00, 403.28it/s]\n"
     ]
    },
    {
     "data": {
      "application/vnd.jupyter.widget-view+json": {
       "model_id": "20ae108c49954cde98d8390a396ff3e6",
       "version_major": 2,
       "version_minor": 0
      },
      "text/plain": [
       "  0%|          | 0/2 [00:00<?, ?it/s]"
      ]
     },
     "metadata": {},
     "output_type": "display_data"
    },
    {
     "name": "stderr",
     "output_type": "stream",
     "text": [
      "c:\\Users\\Lukas\\Documents\\projects\\esinet\\evaluate\\..\\esinet\\util\\util.py:388: RuntimeWarning: An average reference projection was already added. The data has been left untouched.\n",
      "  epochs.set_eeg_reference(projection=True, verbose=verbose)#.apply_baseline(baseline=baseline)\n",
      "c:\\Users\\Lukas\\Documents\\projects\\esinet\\evaluate\\..\\esinet\\util\\util.py:388: RuntimeWarning: An average reference projection was already added. The data has been left untouched.\n",
      "  epochs.set_eeg_reference(projection=True, verbose=verbose)#.apply_baseline(baseline=baseline)\n"
     ]
    },
    {
     "data": {
      "application/vnd.jupyter.widget-view+json": {
       "model_id": "102f0affa0664eb1b7f3fcfee7034ede",
       "version_major": 2,
       "version_minor": 0
      },
      "text/plain": [
       "  0%|          | 0/2 [00:00<?, ?it/s]"
      ]
     },
     "metadata": {},
     "output_type": "display_data"
    },
    {
     "name": "stderr",
     "output_type": "stream",
     "text": [
      "c:\\Users\\Lukas\\Documents\\projects\\esinet\\evaluate\\..\\esinet\\util\\util.py:388: RuntimeWarning: An average reference projection was already added. The data has been left untouched.\n",
      "  epochs.set_eeg_reference(projection=True, verbose=verbose)#.apply_baseline(baseline=baseline)\n",
      "c:\\Users\\Lukas\\Documents\\projects\\esinet\\evaluate\\..\\esinet\\util\\util.py:388: RuntimeWarning: An average reference projection was already added. The data has been left untouched.\n",
      "  epochs.set_eeg_reference(projection=True, verbose=verbose)#.apply_baseline(baseline=baseline)\n"
     ]
    },
    {
     "data": {
      "application/vnd.jupyter.widget-view+json": {
       "model_id": "a218b8ed8d174edc91be6469b64293d6",
       "version_major": 2,
       "version_minor": 0
      },
      "text/plain": [
       "  0%|          | 0/2 [00:00<?, ?it/s]"
      ]
     },
     "metadata": {},
     "output_type": "display_data"
    },
    {
     "name": "stdout",
     "output_type": "stream",
     "text": [
      "<RawArray | 61 x 401 (4.0 s), ~278 kB, data loaded> 4.0 info empirical\n",
      "lcmv didnt work, returning zeros\n"
     ]
    },
    {
     "name": "stderr",
     "output_type": "stream",
     "text": [
      "c:\\Users\\Lukas\\Documents\\projects\\esinet\\evaluate\\..\\esinet\\util\\util.py:388: RuntimeWarning: An average reference projection was already added. The data has been left untouched.\n",
      "  epochs.set_eeg_reference(projection=True, verbose=verbose)#.apply_baseline(baseline=baseline)\n",
      "c:\\Users\\Lukas\\Documents\\projects\\esinet\\evaluate\\..\\esinet\\util\\util.py:423: RuntimeWarning: Epochs are not baseline corrected, covariance matrix may be inaccurate\n",
      "  data_cov = mne.compute_covariance(epochs, tmin=0.0,\n",
      "c:\\Users\\Lukas\\Documents\\projects\\esinet\\evaluate\\..\\esinet\\util\\util.py:423: RuntimeWarning: Too few samples (required : 310 got : 1), covariance estimate may be unreliable\n",
      "  data_cov = mne.compute_covariance(epochs, tmin=0.0,\n",
      "C:\\Users\\Lukas\\Envs\\esienv\\lib\\site-packages\\mne\\fixes.py:550: UserWarning: Only one sample available. You may want to reshape your data array\n",
      "  warnings.warn(\"Only one sample available. \"\n"
     ]
    },
    {
     "ename": "IndexError",
     "evalue": "list index out of range",
     "output_type": "error",
     "traceback": [
      "\u001b[1;31m---------------------------------------------------------------------------\u001b[0m",
      "\u001b[1;31mValueError\u001b[0m                                Traceback (most recent call last)",
      "\u001b[1;32mc:\\Users\\Lukas\\Documents\\projects\\esinet\\evaluate\\..\\esinet\\util\\util.py\u001b[0m in \u001b[0;36mmne_inverse\u001b[1;34m(fwd, epochs, method, snr, baseline, rank, weight_norm, reduce_rank, inversion, pick_ori, reg, regularize, verbose)\u001b[0m\n\u001b[0;32m    419\u001b[0m         \u001b[1;32mtry\u001b[0m\u001b[1;33m:\u001b[0m\u001b[1;33m\u001b[0m\u001b[1;33m\u001b[0m\u001b[0m\n\u001b[1;32m--> 420\u001b[1;33m             data_cov = mne.compute_raw_covariance(raw, tmin=tmin, \n\u001b[0m\u001b[0;32m    421\u001b[0m                 tmax=None, rank=rank, method=estimator, verbose=verbose)\n",
      "\u001b[1;32m<decorator-gen-257>\u001b[0m in \u001b[0;36mcompute_raw_covariance\u001b[1;34m(raw, tmin, tmax, tstep, reject, flat, picks, method, method_params, cv, scalings, n_jobs, return_estimators, reject_by_annotation, rank, verbose)\u001b[0m\n",
      "\u001b[1;32m~\\Envs\\esienv\\lib\\site-packages\\mne\\cov.py\u001b[0m in \u001b[0;36mcompute_raw_covariance\u001b[1;34m(raw, tmin, tmax, tstep, reject, flat, picks, method, method_params, cv, scalings, n_jobs, return_estimators, reject_by_annotation, rank, verbose)\u001b[0m\n\u001b[0;32m    562\u001b[0m     \u001b[0mtstep_m1\u001b[0m \u001b[1;33m=\u001b[0m \u001b[0mtstep\u001b[0m \u001b[1;33m-\u001b[0m \u001b[0mdt\u001b[0m  \u001b[1;31m# inclusive!\u001b[0m\u001b[1;33m\u001b[0m\u001b[1;33m\u001b[0m\u001b[0m\n\u001b[1;32m--> 563\u001b[1;33m     \u001b[0mevents\u001b[0m \u001b[1;33m=\u001b[0m \u001b[0mmake_fixed_length_events\u001b[0m\u001b[1;33m(\u001b[0m\u001b[0mraw\u001b[0m\u001b[1;33m,\u001b[0m \u001b[1;36m1\u001b[0m\u001b[1;33m,\u001b[0m \u001b[0mtmin\u001b[0m\u001b[1;33m,\u001b[0m \u001b[0mtmax\u001b[0m\u001b[1;33m,\u001b[0m \u001b[0mtstep\u001b[0m\u001b[1;33m)\u001b[0m\u001b[1;33m\u001b[0m\u001b[1;33m\u001b[0m\u001b[0m\n\u001b[0m\u001b[0;32m    564\u001b[0m     \u001b[0mlogger\u001b[0m\u001b[1;33m.\u001b[0m\u001b[0minfo\u001b[0m\u001b[1;33m(\u001b[0m\u001b[1;34m'Using up to %s segment%s'\u001b[0m \u001b[1;33m%\u001b[0m \u001b[1;33m(\u001b[0m\u001b[0mlen\u001b[0m\u001b[1;33m(\u001b[0m\u001b[0mevents\u001b[0m\u001b[1;33m)\u001b[0m\u001b[1;33m,\u001b[0m \u001b[0m_pl\u001b[0m\u001b[1;33m(\u001b[0m\u001b[0mevents\u001b[0m\u001b[1;33m)\u001b[0m\u001b[1;33m)\u001b[0m\u001b[1;33m)\u001b[0m\u001b[1;33m\u001b[0m\u001b[1;33m\u001b[0m\u001b[0m\n",
      "\u001b[1;32m~\\Envs\\esienv\\lib\\site-packages\\mne\\event.py\u001b[0m in \u001b[0;36mmake_fixed_length_events\u001b[1;34m(raw, id, start, stop, duration, first_samp, overlap)\u001b[0m\n\u001b[0;32m    910\u001b[0m     \u001b[1;32mif\u001b[0m \u001b[0mn_events\u001b[0m \u001b[1;33m==\u001b[0m \u001b[1;36m0\u001b[0m\u001b[1;33m:\u001b[0m\u001b[1;33m\u001b[0m\u001b[1;33m\u001b[0m\u001b[0m\n\u001b[1;32m--> 911\u001b[1;33m         raise ValueError('No events produced, check the values of start, '\n\u001b[0m\u001b[0;32m    912\u001b[0m                          'stop, and duration')\n",
      "\u001b[1;31mValueError\u001b[0m: No events produced, check the values of start, stop, and duration",
      "\nDuring handling of the above exception, another exception occurred:\n",
      "\u001b[1;31mZeroDivisionError\u001b[0m                         Traceback (most recent call last)",
      "\u001b[1;32mc:\\Users\\Lukas\\Documents\\projects\\esinet\\evaluate\\..\\esinet\\util\\util.py\u001b[0m in \u001b[0;36mwrap_mne_inverse\u001b[1;34m(fwd, sim, method, snr, parallel, add_baseline, n_baseline, rank, reduce_rank, weight_norm, inversion, pick_ori, reg, regularize)\u001b[0m\n\u001b[0;32m    483\u001b[0m             \u001b[1;32mtry\u001b[0m\u001b[1;33m:\u001b[0m\u001b[1;33m\u001b[0m\u001b[1;33m\u001b[0m\u001b[0m\n\u001b[1;32m--> 484\u001b[1;33m                 stc = mne_inverse(fwd, eeg[i], method=method, snr=snr, \n\u001b[0m\u001b[0;32m    485\u001b[0m                     \u001b[0mbaseline\u001b[0m\u001b[1;33m=\u001b[0m\u001b[0mbaseline\u001b[0m\u001b[1;33m,\u001b[0m \u001b[0mrank\u001b[0m\u001b[1;33m=\u001b[0m\u001b[0mrank\u001b[0m\u001b[1;33m,\u001b[0m \u001b[0mweight_norm\u001b[0m\u001b[1;33m=\u001b[0m\u001b[0mweight_norm\u001b[0m\u001b[1;33m,\u001b[0m\u001b[1;33m\u001b[0m\u001b[1;33m\u001b[0m\u001b[0m\n",
      "\u001b[1;32mc:\\Users\\Lukas\\Documents\\projects\\esinet\\evaluate\\..\\esinet\\util\\util.py\u001b[0m in \u001b[0;36mmne_inverse\u001b[1;34m(fwd, epochs, method, snr, baseline, rank, weight_norm, reduce_rank, inversion, pick_ori, reg, regularize, verbose)\u001b[0m\n\u001b[0;32m    422\u001b[0m         \u001b[1;32mexcept\u001b[0m\u001b[1;33m:\u001b[0m\u001b[1;33m\u001b[0m\u001b[1;33m\u001b[0m\u001b[0m\n\u001b[1;32m--> 423\u001b[1;33m             data_cov = mne.compute_covariance(epochs, tmin=0.0, \n\u001b[0m\u001b[0;32m    424\u001b[0m                 tmax=None, rank=rank, method=estimator, verbose=verbose)\n",
      "\u001b[1;32m<decorator-gen-258>\u001b[0m in \u001b[0;36mcompute_covariance\u001b[1;34m(epochs, keep_sample_mean, tmin, tmax, projs, method, method_params, cv, scalings, n_jobs, return_estimators, on_mismatch, rank, verbose)\u001b[0m\n",
      "\u001b[1;32m~\\Envs\\esienv\\lib\\site-packages\\mne\\cov.py\u001b[0m in \u001b[0;36mcompute_covariance\u001b[1;34m(***failed resolving arguments***)\u001b[0m\n\u001b[0;32m    957\u001b[0m     \u001b[0mepochs\u001b[0m \u001b[1;33m=\u001b[0m \u001b[0mepochs\u001b[0m\u001b[1;33m.\u001b[0m\u001b[0mT\u001b[0m  \u001b[1;31m# sklearn | C-order\u001b[0m\u001b[1;33m\u001b[0m\u001b[1;33m\u001b[0m\u001b[0m\n\u001b[1;32m--> 958\u001b[1;33m     cov_data = _compute_covariance_auto(\n\u001b[0m\u001b[0;32m    959\u001b[0m         \u001b[0mepochs\u001b[0m\u001b[1;33m,\u001b[0m \u001b[0mmethod\u001b[0m\u001b[1;33m=\u001b[0m\u001b[0mmethod\u001b[0m\u001b[1;33m,\u001b[0m \u001b[0mmethod_params\u001b[0m\u001b[1;33m=\u001b[0m\u001b[0m_method_params\u001b[0m\u001b[1;33m,\u001b[0m \u001b[0minfo\u001b[0m\u001b[1;33m=\u001b[0m\u001b[0minfo\u001b[0m\u001b[1;33m,\u001b[0m\u001b[1;33m\u001b[0m\u001b[1;33m\u001b[0m\u001b[0m\n",
      "\u001b[1;32m~\\Envs\\esienv\\lib\\site-packages\\mne\\cov.py\u001b[0m in \u001b[0;36m_compute_covariance_auto\u001b[1;34m(data, method, info, method_params, cv, scalings, n_jobs, stop_early, picks_list, rank)\u001b[0m\n\u001b[0;32m   1161\u001b[0m             \u001b[1;31m# undo bias\u001b[0m\u001b[1;33m\u001b[0m\u001b[1;33m\u001b[0m\u001b[1;33m\u001b[0m\u001b[0m\n\u001b[1;32m-> 1162\u001b[1;33m             \u001b[0mcov\u001b[0m \u001b[1;33m*=\u001b[0m \u001b[0mdata\u001b[0m\u001b[1;33m.\u001b[0m\u001b[0mshape\u001b[0m\u001b[1;33m[\u001b[0m\u001b[1;36m0\u001b[0m\u001b[1;33m]\u001b[0m \u001b[1;33m/\u001b[0m \u001b[1;33m(\u001b[0m\u001b[0mdata\u001b[0m\u001b[1;33m.\u001b[0m\u001b[0mshape\u001b[0m\u001b[1;33m[\u001b[0m\u001b[1;36m0\u001b[0m\u001b[1;33m]\u001b[0m \u001b[1;33m-\u001b[0m \u001b[1;36m1\u001b[0m\u001b[1;33m)\u001b[0m\u001b[1;33m\u001b[0m\u001b[1;33m\u001b[0m\u001b[0m\n\u001b[0m\u001b[0;32m   1163\u001b[0m             \u001b[1;31m# undo scaling\u001b[0m\u001b[1;33m\u001b[0m\u001b[1;33m\u001b[0m\u001b[1;33m\u001b[0m\u001b[0m\n",
      "\u001b[1;31mZeroDivisionError\u001b[0m: division by zero",
      "\nDuring handling of the above exception, another exception occurred:\n",
      "\u001b[1;31mIndexError\u001b[0m                                Traceback (most recent call last)",
      "\u001b[1;32m~\\AppData\\Local\\Temp/ipykernel_15136/273950299.py\u001b[0m in \u001b[0;36m<module>\u001b[1;34m\u001b[0m\n\u001b[0;32m     33\u001b[0m \u001b[0mprediction_mne\u001b[0m\u001b[1;33m.\u001b[0m\u001b[0mdata\u001b[0m \u001b[1;33m=\u001b[0m \u001b[0mprediction_mne_data\u001b[0m \u001b[1;33m/\u001b[0m \u001b[0mnp\u001b[0m\u001b[1;33m.\u001b[0m\u001b[0mabs\u001b[0m\u001b[1;33m(\u001b[0m\u001b[0mnp\u001b[0m\u001b[1;33m.\u001b[0m\u001b[0mmax\u001b[0m\u001b[1;33m(\u001b[0m\u001b[0mprediction_mne_data\u001b[0m\u001b[1;33m)\u001b[0m\u001b[1;33m)\u001b[0m\u001b[1;33m\u001b[0m\u001b[1;33m\u001b[0m\u001b[0m\n\u001b[0;32m     34\u001b[0m \u001b[1;31m# Beamformer\u001b[0m\u001b[1;33m\u001b[0m\u001b[1;33m\u001b[0m\u001b[1;33m\u001b[0m\u001b[0m\n\u001b[1;32m---> 35\u001b[1;33m prediction_lcmv_data = util.wrap_mne_inverse(fwd, sim, method='lcmv', \n\u001b[0m\u001b[0;32m     36\u001b[0m     add_baseline=True, n_baseline=400, parallel=False)[idx].data.astype(np.float32)\n\u001b[0;32m     37\u001b[0m \u001b[0mprediction_lcmv\u001b[0m \u001b[1;33m=\u001b[0m \u001b[0mdeepcopy\u001b[0m\u001b[1;33m(\u001b[0m\u001b[0mpredictions\u001b[0m\u001b[1;33m[\u001b[0m\u001b[1;36m0\u001b[0m\u001b[1;33m]\u001b[0m\u001b[1;33m[\u001b[0m\u001b[1;36m0\u001b[0m\u001b[1;33m]\u001b[0m\u001b[1;33m)\u001b[0m\u001b[1;33m\u001b[0m\u001b[1;33m\u001b[0m\u001b[0m\n",
      "\u001b[1;32mc:\\Users\\Lukas\\Documents\\projects\\esinet\\evaluate\\..\\esinet\\util\\util.py\u001b[0m in \u001b[0;36mwrap_mne_inverse\u001b[1;34m(fwd, sim, method, snr, parallel, add_baseline, n_baseline, rank, reduce_rank, weight_norm, inversion, pick_ori, reg, regularize)\u001b[0m\n\u001b[0;32m    488\u001b[0m             \u001b[1;32mexcept\u001b[0m\u001b[1;33m:\u001b[0m\u001b[1;33m\u001b[0m\u001b[1;33m\u001b[0m\u001b[0m\n\u001b[0;32m    489\u001b[0m                 \u001b[0mprint\u001b[0m\u001b[1;33m(\u001b[0m\u001b[1;34mf'{method} didnt work, returning zeros'\u001b[0m\u001b[1;33m)\u001b[0m\u001b[1;33m\u001b[0m\u001b[1;33m\u001b[0m\u001b[0m\n\u001b[1;32m--> 490\u001b[1;33m                 \u001b[0mstc\u001b[0m \u001b[1;33m=\u001b[0m \u001b[0mdeepcopy\u001b[0m\u001b[1;33m(\u001b[0m\u001b[0mstcs\u001b[0m\u001b[1;33m[\u001b[0m\u001b[1;36m0\u001b[0m\u001b[1;33m]\u001b[0m\u001b[1;33m)\u001b[0m\u001b[1;33m\u001b[0m\u001b[1;33m\u001b[0m\u001b[0m\n\u001b[0m\u001b[0;32m    491\u001b[0m                 \u001b[0mstc\u001b[0m\u001b[1;33m.\u001b[0m\u001b[0mdata\u001b[0m \u001b[1;33m=\u001b[0m \u001b[0mnp\u001b[0m\u001b[1;33m.\u001b[0m\u001b[0mzeros\u001b[0m\u001b[1;33m(\u001b[0m\u001b[1;33m(\u001b[0m\u001b[0mstc\u001b[0m\u001b[1;33m.\u001b[0m\u001b[0mdata\u001b[0m\u001b[1;33m.\u001b[0m\u001b[0mshape\u001b[0m\u001b[1;33m[\u001b[0m\u001b[1;36m0\u001b[0m\u001b[1;33m]\u001b[0m\u001b[1;33m,\u001b[0m \u001b[0mlen\u001b[0m\u001b[1;33m(\u001b[0m\u001b[0meeg\u001b[0m\u001b[1;33m[\u001b[0m\u001b[0mi\u001b[0m\u001b[1;33m]\u001b[0m\u001b[1;33m.\u001b[0m\u001b[0mcrop\u001b[0m\u001b[1;33m(\u001b[0m\u001b[0mtmin\u001b[0m\u001b[1;33m=\u001b[0m\u001b[1;36m0.\u001b[0m\u001b[1;33m)\u001b[0m\u001b[1;33m.\u001b[0m\u001b[0mtimes\u001b[0m\u001b[1;33m)\u001b[0m\u001b[1;33m)\u001b[0m\u001b[1;33m)\u001b[0m\u001b[1;33m\u001b[0m\u001b[1;33m\u001b[0m\u001b[0m\n\u001b[0;32m    492\u001b[0m \u001b[1;33m\u001b[0m\u001b[0m\n",
      "\u001b[1;31mIndexError\u001b[0m: list index out of range"
     ]
    }
   ],
   "source": [
    "import seaborn as sns\n",
    "%matplotlib qt\n",
    "sns.reset_orig()\n",
    "\n",
    "%load_ext autoreload\n",
    "%autoreload 2\n",
    "model_names_tmp = deepcopy(model_names)\n",
    "plot_params = dict(surface='white', hemi='both', verbose=0, \n",
    "    clim=dict(kind='percent', pos_lims=[20, 30, 100]))\n",
    "\n",
    "settings_eval = dict(duration_of_trial=0.001, method='standard')\n",
    "# settings_eval = dict( method='standard')\n",
    "\n",
    "# Simulate new data\n",
    "sim = Simulation(fwd, info, settings=settings_eval).simulate(2)\n",
    "# snr = sim.simulation_info['target_snr'].values[0]\n",
    "snr = None\n",
    "# print(sim.simulation_info)\n",
    "idx = 0\n",
    "# Predict sources using the esinet models\n",
    "predictions = [model.predict(sim) for model in models]\n",
    "\n",
    "# Predict sources with classical methods\n",
    "# eLORETA\n",
    "prediction_elor_data = util.wrap_mne_inverse(fwd, sim, method='eLORETA', \n",
    "    add_baseline=True, n_baseline=400)[idx].data.astype(np.float32)\n",
    "prediction_elor = deepcopy(predictions[0][0])\n",
    "prediction_elor.data = prediction_elor_data / np.abs(np.max(prediction_elor_data))\n",
    "# MNE\n",
    "prediction_mne_data = util.wrap_mne_inverse(fwd, sim, method='MNE', \n",
    "    add_baseline=True, n_baseline=400)[idx].data.astype(np.float32)\n",
    "prediction_mne = deepcopy(predictions[0][0])\n",
    "prediction_mne.data = prediction_mne_data / np.abs(np.max(prediction_mne_data))\n",
    "# Beamformer\n",
    "prediction_lcmv_data = util.wrap_mne_inverse(fwd, sim, method='lcmv', \n",
    "    add_baseline=True, n_baseline=400, parallel=False)[idx].data.astype(np.float32)\n",
    "prediction_lcmv = deepcopy(predictions[0][0])\n",
    "prediction_lcmv.data = prediction_lcmv_data / np.max(np.abs(prediction_lcmv_data))\n",
    "\n",
    "# Get predictions and names in order\n",
    "predictions.append([prediction_elor])\n",
    "predictions.append([prediction_mne])\n",
    "predictions.append([prediction_lcmv])\n",
    "\n",
    "model_names_tmp.append('eLORETA')\n",
    "model_names_tmp.append('MNE')\n",
    "model_names_tmp.append('LCMV')\n",
    "\n",
    "# Plot True Source\n",
    "brain = sim.source_data[idx].plot(**plot_params)\n",
    "brain.add_text(0.1, 0.9, f'Ground Truth {sim.simulation_info.number_of_sources.values[0]} sources', 'title')\n",
    "# Plot True EEG\n",
    "evoked = sim.eeg_data[idx].average()\n",
    "# evoked.plot()\n",
    "evoked.plot_topomap(title='Ground Truth')\n",
    "# evoked = util.get_eeg_from_source(sim.source_data[idx], fwd, info, tmin=0.)\n",
    "# evoked.plot_topomap(title='Ground Truth Noiseless')\n",
    "\n",
    "model_selection = model_names_tmp#['LCMV',]\n",
    "# Plot predicted sources\n",
    "for model_name, prediction in zip(model_names_tmp, predictions):\n",
    "    \n",
    "    if not any([model_name.lower() in model_select.lower() for model_select in model_selection]):\n",
    "        continue\n",
    "    error = util.batch_nmse(sim.source_data[idx].data, prediction[idx].data)\n",
    "    r = util.batch_corr(sim.source_data[idx].data, prediction[idx].data)\n",
    "    \n",
    "    brain = prediction[idx].plot(**plot_params)\n",
    "\n",
    "    title = f'{model_name}, error: {error:.4}, r: {r}'\n",
    "    print(title)\n",
    "    brain.add_text(0.1, 0.9, title, 'title')\n",
    "    # Plot predicted EEG\n",
    "    # evoked_esi = util.get_eeg_from_source(prediction[idx], fwd, info, tmin=0.)\n",
    "    # evoked_esi.plot_topomap(title=model_name)\n"
   ]
  },
  {
   "cell_type": "markdown",
   "metadata": {},
   "source": [
    "## Create or Load Evaluation Set"
   ]
  },
  {
   "cell_type": "code",
   "execution_count": 7,
   "metadata": {},
   "outputs": [],
   "source": [
    "# n_samples = 1000\n",
    "# duration_of_trial = (0.01, 2)\n",
    "# method = 'standard'\n",
    "# settings = dict(duration_of_trial=duration_of_trial, method=method)\n",
    "# sim_test = Simulation(fwd, info, verbose=False, settings=settings).simulate(n_samples=n_samples)\n",
    "# if type(duration_of_trial) == tuple:\n",
    "#     sim_test.save(f'simulations\\\\sim_test_{n_samples}_{int(duration_of_trial[0]*100)}-{int(duration_of_trial[1]*100)}points_{method}.pkl')\n",
    "# else:\n",
    "#     sim_test.save(f'simulations\\\\sim_test_{n_samples}_{int(duration_of_trial*100)}points_{method}.pkl')\n",
    "\n",
    "# or Load\n",
    "with open(f'simulations\\\\sim_test_1000_1-200points_standard.pkl', 'rb') as f:\n",
    "    sim_test = pkl.load(f)"
   ]
  },
  {
   "cell_type": "code",
   "execution_count": 68,
   "metadata": {},
   "outputs": [
    {
     "name": "stdout",
     "output_type": "stream",
     "text": [
      "LSTM Standard 101947\n",
      "Dense Standard 101947\n",
      "ConvDip Standard 101947\n",
      "eLORETA 101947\n",
      "MNE 101947\n",
      "LCMV 101947\n"
     ]
    }
   ],
   "source": [
    "for i in range(len(predictions)):\n",
    "    predicted_sources = np.concatenate([src.data for src in predictions[i]], axis=1).T\n",
    "    print(model_names_tmp[i], len(predicted_sources))"
   ]
  },
  {
   "cell_type": "code",
   "execution_count": 67,
   "metadata": {},
   "outputs": [
    {
     "name": "stdout",
     "output_type": "stream",
     "text": [
      "The autoreload extension is already loaded. To reload it, use:\n",
      "  %reload_ext autoreload\n",
      "predict esinets...\n",
      "interpolating for convdip...\n"
     ]
    },
    {
     "name": "stderr",
     "output_type": "stream",
     "text": [
      "1000it [01:08, 14.54it/s]\n"
     ]
    },
    {
     "name": "stdout",
     "output_type": "stream",
     "text": [
      "predict elor\n"
     ]
    },
    {
     "data": {
      "application/vnd.jupyter.widget-view+json": {
       "model_id": "24bb88a37b404601bb0a7a123df9dab3",
       "version_major": 2,
       "version_minor": 0
      },
      "text/plain": [
       "  0%|          | 0/1000 [00:00<?, ?it/s]"
      ]
     },
     "metadata": {},
     "output_type": "display_data"
    },
    {
     "name": "stdout",
     "output_type": "stream",
     "text": [
      "predict MNE\n"
     ]
    },
    {
     "data": {
      "application/vnd.jupyter.widget-view+json": {
       "model_id": "5e36ea849eb74f3e9424a2ca5ecca094",
       "version_major": 2,
       "version_minor": 0
      },
      "text/plain": [
       "  0%|          | 0/1000 [00:00<?, ?it/s]"
      ]
     },
     "metadata": {},
     "output_type": "display_data"
    },
    {
     "name": "stdout",
     "output_type": "stream",
     "text": [
      "predict LCMV\n"
     ]
    },
    {
     "data": {
      "application/vnd.jupyter.widget-view+json": {
       "model_id": "b579e7f0f9224d66b7824074520b2f7d",
       "version_major": 2,
       "version_minor": 0
      },
      "text/plain": [
       "  0%|          | 0/1000 [00:00<?, ?it/s]"
      ]
     },
     "metadata": {},
     "output_type": "display_data"
    },
    {
     "name": "stderr",
     "output_type": "stream",
     "text": [
      "c:\\Users\\Lukas\\Documents\\projects\\esinet\\evaluate\\..\\esinet\\util\\util.py:388: RuntimeWarning: An average reference projection was already added. The data has been left untouched.\n",
      "  epochs.set_eeg_reference(projection=True, verbose=verbose)#.apply_baseline(baseline=baseline)\n",
      "c:\\Users\\Lukas\\Documents\\projects\\esinet\\evaluate\\..\\esinet\\util\\util.py:423: RuntimeWarning: Epochs are not baseline corrected, covariance matrix may be inaccurate\n",
      "  data_cov = mne.compute_covariance(epochs, tmin=0.0,\n",
      "c:\\Users\\Lukas\\Documents\\projects\\esinet\\evaluate\\..\\esinet\\util\\util.py:423: RuntimeWarning: Too few samples (required : 310 got : 14), covariance estimate may be unreliable\n",
      "  data_cov = mne.compute_covariance(epochs, tmin=0.0,\n",
      "c:\\Users\\Lukas\\Documents\\projects\\esinet\\evaluate\\..\\esinet\\util\\util.py:388: RuntimeWarning: An average reference projection was already added. The data has been left untouched.\n",
      "  epochs.set_eeg_reference(projection=True, verbose=verbose)#.apply_baseline(baseline=baseline)\n",
      "c:\\Users\\Lukas\\Documents\\projects\\esinet\\evaluate\\..\\esinet\\util\\util.py:420: RuntimeWarning: Too few samples (required : 310 got : 80), covariance estimate may be unreliable\n",
      "  data_cov = mne.compute_raw_covariance(raw, tmin=tmin,\n",
      "c:\\Users\\Lukas\\Documents\\projects\\esinet\\evaluate\\..\\esinet\\util\\util.py:388: RuntimeWarning: An average reference projection was already added. The data has been left untouched.\n",
      "  epochs.set_eeg_reference(projection=True, verbose=verbose)#.apply_baseline(baseline=baseline)\n",
      "c:\\Users\\Lukas\\Documents\\projects\\esinet\\evaluate\\..\\esinet\\util\\util.py:420: RuntimeWarning: Too few samples (required : 310 got : 60), covariance estimate may be unreliable\n",
      "  data_cov = mne.compute_raw_covariance(raw, tmin=tmin,\n",
      "c:\\Users\\Lukas\\Documents\\projects\\esinet\\evaluate\\..\\esinet\\util\\util.py:388: RuntimeWarning: An average reference projection was already added. The data has been left untouched.\n",
      "  epochs.set_eeg_reference(projection=True, verbose=verbose)#.apply_baseline(baseline=baseline)\n"
     ]
    },
    {
     "name": "stdout",
     "output_type": "stream",
     "text": [
      "<RawArray | 61 x 414 (4.1 s), ~287 kB, data loaded> 4.0 info empirical\n",
      "<RawArray | 61 x 494 (4.9 s), ~325 kB, data loaded> 4.0 info empirical\n",
      "<RawArray | 61 x 464 (4.6 s), ~311 kB, data loaded> 4.0 info empirical\n",
      "<RawArray | 61 x 531 (5.3 s), ~343 kB, data loaded> 4.0 info empirical\n"
     ]
    },
    {
     "name": "stderr",
     "output_type": "stream",
     "text": [
      "c:\\Users\\Lukas\\Documents\\projects\\esinet\\evaluate\\..\\esinet\\util\\util.py:420: RuntimeWarning: Too few samples (required : 310 got : 120), covariance estimate may be unreliable\n",
      "  data_cov = mne.compute_raw_covariance(raw, tmin=tmin,\n",
      "c:\\Users\\Lukas\\Documents\\projects\\esinet\\evaluate\\..\\esinet\\util\\util.py:388: RuntimeWarning: An average reference projection was already added. The data has been left untouched.\n",
      "  epochs.set_eeg_reference(projection=True, verbose=verbose)#.apply_baseline(baseline=baseline)\n",
      "c:\\Users\\Lukas\\Documents\\projects\\esinet\\evaluate\\..\\esinet\\util\\util.py:420: RuntimeWarning: Too few samples (required : 310 got : 100), covariance estimate may be unreliable\n",
      "  data_cov = mne.compute_raw_covariance(raw, tmin=tmin,\n",
      "c:\\Users\\Lukas\\Documents\\projects\\esinet\\evaluate\\..\\esinet\\util\\util.py:388: RuntimeWarning: An average reference projection was already added. The data has been left untouched.\n",
      "  epochs.set_eeg_reference(projection=True, verbose=verbose)#.apply_baseline(baseline=baseline)\n",
      "c:\\Users\\Lukas\\Documents\\projects\\esinet\\evaluate\\..\\esinet\\util\\util.py:420: RuntimeWarning: Too few samples (required : 310 got : 100), covariance estimate may be unreliable\n",
      "  data_cov = mne.compute_raw_covariance(raw, tmin=tmin,\n",
      "c:\\Users\\Lukas\\Documents\\projects\\esinet\\evaluate\\..\\esinet\\util\\util.py:388: RuntimeWarning: An average reference projection was already added. The data has been left untouched.\n",
      "  epochs.set_eeg_reference(projection=True, verbose=verbose)#.apply_baseline(baseline=baseline)\n",
      "c:\\Users\\Lukas\\Documents\\projects\\esinet\\evaluate\\..\\esinet\\util\\util.py:420: RuntimeWarning: Too few samples (required : 310 got : 80), covariance estimate may be unreliable\n",
      "  data_cov = mne.compute_raw_covariance(raw, tmin=tmin,\n"
     ]
    },
    {
     "name": "stdout",
     "output_type": "stream",
     "text": [
      "<RawArray | 61 x 519 (5.2 s), ~337 kB, data loaded> 4.0 info empirical\n",
      "<RawArray | 61 x 519 (5.2 s), ~337 kB, data loaded> 4.0 info empirical\n",
      "<RawArray | 61 x 482 (4.8 s), ~320 kB, data loaded> 4.0 info empirical\n",
      "<RawArray | 61 x 440 (4.4 s), ~299 kB, data loaded> 4.0 info empirical\n"
     ]
    },
    {
     "name": "stderr",
     "output_type": "stream",
     "text": [
      "c:\\Users\\Lukas\\Documents\\projects\\esinet\\evaluate\\..\\esinet\\util\\util.py:388: RuntimeWarning: An average reference projection was already added. The data has been left untouched.\n",
      "  epochs.set_eeg_reference(projection=True, verbose=verbose)#.apply_baseline(baseline=baseline)\n",
      "c:\\Users\\Lukas\\Documents\\projects\\esinet\\evaluate\\..\\esinet\\util\\util.py:420: RuntimeWarning: Too few samples (required : 310 got : 40), covariance estimate may be unreliable\n",
      "  data_cov = mne.compute_raw_covariance(raw, tmin=tmin,\n",
      "c:\\Users\\Lukas\\Documents\\projects\\esinet\\evaluate\\..\\esinet\\util\\util.py:388: RuntimeWarning: An average reference projection was already added. The data has been left untouched.\n",
      "  epochs.set_eeg_reference(projection=True, verbose=verbose)#.apply_baseline(baseline=baseline)\n",
      "c:\\Users\\Lukas\\Documents\\projects\\esinet\\evaluate\\..\\esinet\\util\\util.py:420: RuntimeWarning: Too few samples (required : 310 got : 160), covariance estimate may be unreliable\n",
      "  data_cov = mne.compute_raw_covariance(raw, tmin=tmin,\n",
      "c:\\Users\\Lukas\\Documents\\projects\\esinet\\evaluate\\..\\esinet\\util\\util.py:388: RuntimeWarning: An average reference projection was already added. The data has been left untouched.\n",
      "  epochs.set_eeg_reference(projection=True, verbose=verbose)#.apply_baseline(baseline=baseline)\n",
      "c:\\Users\\Lukas\\Documents\\projects\\esinet\\evaluate\\..\\esinet\\util\\util.py:420: RuntimeWarning: Too few samples (required : 310 got : 160), covariance estimate may be unreliable\n",
      "  data_cov = mne.compute_raw_covariance(raw, tmin=tmin,\n",
      "c:\\Users\\Lukas\\Documents\\projects\\esinet\\evaluate\\..\\esinet\\util\\util.py:388: RuntimeWarning: An average reference projection was already added. The data has been left untouched.\n",
      "  epochs.set_eeg_reference(projection=True, verbose=verbose)#.apply_baseline(baseline=baseline)\n",
      "c:\\Users\\Lukas\\Documents\\projects\\esinet\\evaluate\\..\\esinet\\util\\util.py:420: RuntimeWarning: Too few samples (required : 310 got : 180), covariance estimate may be unreliable\n",
      "  data_cov = mne.compute_raw_covariance(raw, tmin=tmin,\n",
      "c:\\Users\\Lukas\\Documents\\projects\\esinet\\evaluate\\..\\esinet\\util\\util.py:388: RuntimeWarning: An average reference projection was already added. The data has been left untouched.\n",
      "  epochs.set_eeg_reference(projection=True, verbose=verbose)#.apply_baseline(baseline=baseline)\n"
     ]
    },
    {
     "name": "stdout",
     "output_type": "stream",
     "text": [
      "<RawArray | 61 x 570 (5.7 s), ~361 kB, data loaded> 4.0 info empirical\n",
      "<RawArray | 61 x 566 (5.7 s), ~360 kB, data loaded> 4.0 info empirical\n",
      "<RawArray | 61 x 587 (5.9 s), ~370 kB, data loaded> 4.0 info empirical\n",
      "<RawArray | 61 x 428 (4.3 s), ~294 kB, data loaded> 4.0 info empirical\n"
     ]
    },
    {
     "name": "stderr",
     "output_type": "stream",
     "text": [
      "c:\\Users\\Lukas\\Documents\\projects\\esinet\\evaluate\\..\\esinet\\util\\util.py:420: RuntimeWarning: Too few samples (required : 310 got : 20), covariance estimate may be unreliable\n",
      "  data_cov = mne.compute_raw_covariance(raw, tmin=tmin,\n",
      "c:\\Users\\Lukas\\Documents\\projects\\esinet\\evaluate\\..\\esinet\\util\\util.py:388: RuntimeWarning: An average reference projection was already added. The data has been left untouched.\n",
      "  epochs.set_eeg_reference(projection=True, verbose=verbose)#.apply_baseline(baseline=baseline)\n",
      "c:\\Users\\Lukas\\Documents\\projects\\esinet\\evaluate\\..\\esinet\\util\\util.py:420: RuntimeWarning: Too few samples (required : 310 got : 180), covariance estimate may be unreliable\n",
      "  data_cov = mne.compute_raw_covariance(raw, tmin=tmin,\n",
      "c:\\Users\\Lukas\\Documents\\projects\\esinet\\evaluate\\..\\esinet\\util\\util.py:388: RuntimeWarning: An average reference projection was already added. The data has been left untouched.\n",
      "  epochs.set_eeg_reference(projection=True, verbose=verbose)#.apply_baseline(baseline=baseline)\n",
      "c:\\Users\\Lukas\\Documents\\projects\\esinet\\evaluate\\..\\esinet\\util\\util.py:420: RuntimeWarning: Too few samples (required : 310 got : 160), covariance estimate may be unreliable\n",
      "  data_cov = mne.compute_raw_covariance(raw, tmin=tmin,\n",
      "c:\\Users\\Lukas\\Documents\\projects\\esinet\\evaluate\\..\\esinet\\util\\util.py:388: RuntimeWarning: An average reference projection was already added. The data has been left untouched.\n",
      "  epochs.set_eeg_reference(projection=True, verbose=verbose)#.apply_baseline(baseline=baseline)\n",
      "c:\\Users\\Lukas\\Documents\\projects\\esinet\\evaluate\\..\\esinet\\util\\util.py:420: RuntimeWarning: Too few samples (required : 310 got : 160), covariance estimate may be unreliable\n",
      "  data_cov = mne.compute_raw_covariance(raw, tmin=tmin,\n",
      "c:\\Users\\Lukas\\Documents\\projects\\esinet\\evaluate\\..\\esinet\\util\\util.py:388: RuntimeWarning: An average reference projection was already added. The data has been left untouched.\n",
      "  epochs.set_eeg_reference(projection=True, verbose=verbose)#.apply_baseline(baseline=baseline)\n"
     ]
    },
    {
     "name": "stdout",
     "output_type": "stream",
     "text": [
      "<RawArray | 61 x 583 (5.8 s), ~368 kB, data loaded> 4.0 info empirical\n",
      "<RawArray | 61 x 570 (5.7 s), ~361 kB, data loaded> 4.0 info empirical\n",
      "<RawArray | 61 x 560 (5.6 s), ~357 kB, data loaded> 4.0 info empirical\n",
      "<RawArray | 61 x 421 (4.2 s), ~290 kB, data loaded> 4.0 info empirical\n"
     ]
    },
    {
     "name": "stderr",
     "output_type": "stream",
     "text": [
      "c:\\Users\\Lukas\\Documents\\projects\\esinet\\evaluate\\..\\esinet\\util\\util.py:420: RuntimeWarning: Too few samples (required : 310 got : 20), covariance estimate may be unreliable\n",
      "  data_cov = mne.compute_raw_covariance(raw, tmin=tmin,\n",
      "c:\\Users\\Lukas\\Documents\\projects\\esinet\\evaluate\\..\\esinet\\util\\util.py:388: RuntimeWarning: An average reference projection was already added. The data has been left untouched.\n",
      "  epochs.set_eeg_reference(projection=True, verbose=verbose)#.apply_baseline(baseline=baseline)\n",
      "c:\\Users\\Lukas\\Documents\\projects\\esinet\\evaluate\\..\\esinet\\util\\util.py:420: RuntimeWarning: Too few samples (required : 310 got : 40), covariance estimate may be unreliable\n",
      "  data_cov = mne.compute_raw_covariance(raw, tmin=tmin,\n",
      "c:\\Users\\Lukas\\Documents\\projects\\esinet\\evaluate\\..\\esinet\\util\\util.py:388: RuntimeWarning: An average reference projection was already added. The data has been left untouched.\n",
      "  epochs.set_eeg_reference(projection=True, verbose=verbose)#.apply_baseline(baseline=baseline)\n",
      "c:\\Users\\Lukas\\Documents\\projects\\esinet\\evaluate\\..\\esinet\\util\\util.py:420: RuntimeWarning: Too few samples (required : 310 got : 60), covariance estimate may be unreliable\n",
      "  data_cov = mne.compute_raw_covariance(raw, tmin=tmin,\n",
      "c:\\Users\\Lukas\\Documents\\projects\\esinet\\evaluate\\..\\esinet\\util\\util.py:388: RuntimeWarning: An average reference projection was already added. The data has been left untouched.\n",
      "  epochs.set_eeg_reference(projection=True, verbose=verbose)#.apply_baseline(baseline=baseline)\n",
      "c:\\Users\\Lukas\\Documents\\projects\\esinet\\evaluate\\..\\esinet\\util\\util.py:420: RuntimeWarning: Too few samples (required : 310 got : 60), covariance estimate may be unreliable\n",
      "  data_cov = mne.compute_raw_covariance(raw, tmin=tmin,\n",
      "c:\\Users\\Lukas\\Documents\\projects\\esinet\\evaluate\\..\\esinet\\util\\util.py:388: RuntimeWarning: An average reference projection was already added. The data has been left untouched.\n",
      "  epochs.set_eeg_reference(projection=True, verbose=verbose)#.apply_baseline(baseline=baseline)\n"
     ]
    },
    {
     "name": "stdout",
     "output_type": "stream",
     "text": [
      "<RawArray | 61 x 442 (4.4 s), ~300 kB, data loaded> 4.0 info empirical\n",
      "<RawArray | 61 x 479 (4.8 s), ~318 kB, data loaded> 4.0 info empirical\n",
      "<RawArray | 61 x 468 (4.7 s), ~313 kB, data loaded> 4.0 info empirical\n",
      "<RawArray | 61 x 549 (5.5 s), ~351 kB, data loaded> 4.0 info empirical\n"
     ]
    },
    {
     "name": "stderr",
     "output_type": "stream",
     "text": [
      "c:\\Users\\Lukas\\Documents\\projects\\esinet\\evaluate\\..\\esinet\\util\\util.py:420: RuntimeWarning: Too few samples (required : 310 got : 140), covariance estimate may be unreliable\n",
      "  data_cov = mne.compute_raw_covariance(raw, tmin=tmin,\n",
      "c:\\Users\\Lukas\\Documents\\projects\\esinet\\evaluate\\..\\esinet\\util\\util.py:388: RuntimeWarning: An average reference projection was already added. The data has been left untouched.\n",
      "  epochs.set_eeg_reference(projection=True, verbose=verbose)#.apply_baseline(baseline=baseline)\n",
      "c:\\Users\\Lukas\\Documents\\projects\\esinet\\evaluate\\..\\esinet\\util\\util.py:420: RuntimeWarning: Too few samples (required : 310 got : 60), covariance estimate may be unreliable\n",
      "  data_cov = mne.compute_raw_covariance(raw, tmin=tmin,\n",
      "c:\\Users\\Lukas\\Documents\\projects\\esinet\\evaluate\\..\\esinet\\util\\util.py:388: RuntimeWarning: An average reference projection was already added. The data has been left untouched.\n",
      "  epochs.set_eeg_reference(projection=True, verbose=verbose)#.apply_baseline(baseline=baseline)\n",
      "c:\\Users\\Lukas\\Documents\\projects\\esinet\\evaluate\\..\\esinet\\util\\util.py:420: RuntimeWarning: Too few samples (required : 310 got : 100), covariance estimate may be unreliable\n",
      "  data_cov = mne.compute_raw_covariance(raw, tmin=tmin,\n",
      "c:\\Users\\Lukas\\Documents\\projects\\esinet\\evaluate\\..\\esinet\\util\\util.py:388: RuntimeWarning: An average reference projection was already added. The data has been left untouched.\n",
      "  epochs.set_eeg_reference(projection=True, verbose=verbose)#.apply_baseline(baseline=baseline)\n",
      "c:\\Users\\Lukas\\Documents\\projects\\esinet\\evaluate\\..\\esinet\\util\\util.py:423: RuntimeWarning: Epochs are not baseline corrected, covariance matrix may be inaccurate\n",
      "  data_cov = mne.compute_covariance(epochs, tmin=0.0,\n",
      "c:\\Users\\Lukas\\Documents\\projects\\esinet\\evaluate\\..\\esinet\\util\\util.py:423: RuntimeWarning: Too few samples (required : 310 got : 11), covariance estimate may be unreliable\n",
      "  data_cov = mne.compute_covariance(epochs, tmin=0.0,\n"
     ]
    },
    {
     "name": "stdout",
     "output_type": "stream",
     "text": [
      "<RawArray | 61 x 474 (4.7 s), ~316 kB, data loaded> 4.0 info empirical\n",
      "<RawArray | 61 x 509 (5.1 s), ~332 kB, data loaded> 4.0 info empirical\n",
      "<RawArray | 61 x 411 (4.1 s), ~286 kB, data loaded> 4.0 info empirical\n",
      "<RawArray | 61 x 503 (5.0 s), ~330 kB, data loaded> 4.0 info empirical\n"
     ]
    },
    {
     "name": "stderr",
     "output_type": "stream",
     "text": [
      "c:\\Users\\Lukas\\Documents\\projects\\esinet\\evaluate\\..\\esinet\\util\\util.py:388: RuntimeWarning: An average reference projection was already added. The data has been left untouched.\n",
      "  epochs.set_eeg_reference(projection=True, verbose=verbose)#.apply_baseline(baseline=baseline)\n",
      "c:\\Users\\Lukas\\Documents\\projects\\esinet\\evaluate\\..\\esinet\\util\\util.py:420: RuntimeWarning: Too few samples (required : 310 got : 100), covariance estimate may be unreliable\n",
      "  data_cov = mne.compute_raw_covariance(raw, tmin=tmin,\n",
      "c:\\Users\\Lukas\\Documents\\projects\\esinet\\evaluate\\..\\esinet\\util\\util.py:388: RuntimeWarning: An average reference projection was already added. The data has been left untouched.\n",
      "  epochs.set_eeg_reference(projection=True, verbose=verbose)#.apply_baseline(baseline=baseline)\n",
      "c:\\Users\\Lukas\\Documents\\projects\\esinet\\evaluate\\..\\esinet\\util\\util.py:420: RuntimeWarning: Too few samples (required : 310 got : 40), covariance estimate may be unreliable\n",
      "  data_cov = mne.compute_raw_covariance(raw, tmin=tmin,\n",
      "c:\\Users\\Lukas\\Documents\\projects\\esinet\\evaluate\\..\\esinet\\util\\util.py:388: RuntimeWarning: An average reference projection was already added. The data has been left untouched.\n",
      "  epochs.set_eeg_reference(projection=True, verbose=verbose)#.apply_baseline(baseline=baseline)\n",
      "c:\\Users\\Lukas\\Documents\\projects\\esinet\\evaluate\\..\\esinet\\util\\util.py:420: RuntimeWarning: Too few samples (required : 310 got : 20), covariance estimate may be unreliable\n",
      "  data_cov = mne.compute_raw_covariance(raw, tmin=tmin,\n",
      "c:\\Users\\Lukas\\Documents\\projects\\esinet\\evaluate\\..\\esinet\\util\\util.py:388: RuntimeWarning: An average reference projection was already added. The data has been left untouched.\n",
      "  epochs.set_eeg_reference(projection=True, verbose=verbose)#.apply_baseline(baseline=baseline)\n",
      "c:\\Users\\Lukas\\Documents\\projects\\esinet\\evaluate\\..\\esinet\\util\\util.py:420: RuntimeWarning: Too few samples (required : 310 got : 100), covariance estimate may be unreliable\n",
      "  data_cov = mne.compute_raw_covariance(raw, tmin=tmin,\n"
     ]
    },
    {
     "name": "stdout",
     "output_type": "stream",
     "text": [
      "<RawArray | 61 x 443 (4.4 s), ~301 kB, data loaded> 4.0 info empirical\n",
      "<RawArray | 61 x 420 (4.2 s), ~290 kB, data loaded> 4.0 info empirical\n",
      "<RawArray | 61 x 509 (5.1 s), ~332 kB, data loaded> 4.0 info empirical\n",
      "<RawArray | 61 x 555 (5.5 s), ~354 kB, data loaded> 4.0 info empirical\n"
     ]
    },
    {
     "name": "stderr",
     "output_type": "stream",
     "text": [
      "c:\\Users\\Lukas\\Documents\\projects\\esinet\\evaluate\\..\\esinet\\util\\util.py:388: RuntimeWarning: An average reference projection was already added. The data has been left untouched.\n",
      "  epochs.set_eeg_reference(projection=True, verbose=verbose)#.apply_baseline(baseline=baseline)\n",
      "c:\\Users\\Lukas\\Documents\\projects\\esinet\\evaluate\\..\\esinet\\util\\util.py:420: RuntimeWarning: Too few samples (required : 310 got : 140), covariance estimate may be unreliable\n",
      "  data_cov = mne.compute_raw_covariance(raw, tmin=tmin,\n",
      "c:\\Users\\Lukas\\Documents\\projects\\esinet\\evaluate\\..\\esinet\\util\\util.py:388: RuntimeWarning: An average reference projection was already added. The data has been left untouched.\n",
      "  epochs.set_eeg_reference(projection=True, verbose=verbose)#.apply_baseline(baseline=baseline)\n",
      "c:\\Users\\Lukas\\Documents\\projects\\esinet\\evaluate\\..\\esinet\\util\\util.py:420: RuntimeWarning: Too few samples (required : 310 got : 20), covariance estimate may be unreliable\n",
      "  data_cov = mne.compute_raw_covariance(raw, tmin=tmin,\n",
      "c:\\Users\\Lukas\\Documents\\projects\\esinet\\evaluate\\..\\esinet\\util\\util.py:388: RuntimeWarning: An average reference projection was already added. The data has been left untouched.\n",
      "  epochs.set_eeg_reference(projection=True, verbose=verbose)#.apply_baseline(baseline=baseline)\n",
      "c:\\Users\\Lukas\\Documents\\projects\\esinet\\evaluate\\..\\esinet\\util\\util.py:420: RuntimeWarning: Too few samples (required : 310 got : 120), covariance estimate may be unreliable\n",
      "  data_cov = mne.compute_raw_covariance(raw, tmin=tmin,\n",
      "c:\\Users\\Lukas\\Documents\\projects\\esinet\\evaluate\\..\\esinet\\util\\util.py:388: RuntimeWarning: An average reference projection was already added. The data has been left untouched.\n",
      "  epochs.set_eeg_reference(projection=True, verbose=verbose)#.apply_baseline(baseline=baseline)\n",
      "c:\\Users\\Lukas\\Documents\\projects\\esinet\\evaluate\\..\\esinet\\util\\util.py:420: RuntimeWarning: Too few samples (required : 310 got : 160), covariance estimate may be unreliable\n",
      "  data_cov = mne.compute_raw_covariance(raw, tmin=tmin,\n"
     ]
    },
    {
     "name": "stdout",
     "output_type": "stream",
     "text": [
      "<RawArray | 61 x 423 (4.2 s), ~291 kB, data loaded> 4.0 info empirical\n",
      "<RawArray | 61 x 530 (5.3 s), ~342 kB, data loaded> 4.0 info empirical\n",
      "<RawArray | 61 x 573 (5.7 s), ~363 kB, data loaded> 4.0 info empirical\n",
      "<RawArray | 61 x 452 (4.5 s), ~305 kB, data loaded> 4.0 info empirical\n"
     ]
    },
    {
     "name": "stderr",
     "output_type": "stream",
     "text": [
      "c:\\Users\\Lukas\\Documents\\projects\\esinet\\evaluate\\..\\esinet\\util\\util.py:388: RuntimeWarning: An average reference projection was already added. The data has been left untouched.\n",
      "  epochs.set_eeg_reference(projection=True, verbose=verbose)#.apply_baseline(baseline=baseline)\n",
      "c:\\Users\\Lukas\\Documents\\projects\\esinet\\evaluate\\..\\esinet\\util\\util.py:420: RuntimeWarning: Too few samples (required : 310 got : 40), covariance estimate may be unreliable\n",
      "  data_cov = mne.compute_raw_covariance(raw, tmin=tmin,\n",
      "c:\\Users\\Lukas\\Documents\\projects\\esinet\\evaluate\\..\\esinet\\util\\util.py:388: RuntimeWarning: An average reference projection was already added. The data has been left untouched.\n",
      "  epochs.set_eeg_reference(projection=True, verbose=verbose)#.apply_baseline(baseline=baseline)\n",
      "c:\\Users\\Lukas\\Documents\\projects\\esinet\\evaluate\\..\\esinet\\util\\util.py:420: RuntimeWarning: Too few samples (required : 310 got : 20), covariance estimate may be unreliable\n",
      "  data_cov = mne.compute_raw_covariance(raw, tmin=tmin,\n",
      "c:\\Users\\Lukas\\Documents\\projects\\esinet\\evaluate\\..\\esinet\\util\\util.py:388: RuntimeWarning: An average reference projection was already added. The data has been left untouched.\n",
      "  epochs.set_eeg_reference(projection=True, verbose=verbose)#.apply_baseline(baseline=baseline)\n",
      "c:\\Users\\Lukas\\Documents\\projects\\esinet\\evaluate\\..\\esinet\\util\\util.py:420: RuntimeWarning: Too few samples (required : 310 got : 180), covariance estimate may be unreliable\n",
      "  data_cov = mne.compute_raw_covariance(raw, tmin=tmin,\n",
      "c:\\Users\\Lukas\\Documents\\projects\\esinet\\evaluate\\..\\esinet\\util\\util.py:388: RuntimeWarning: An average reference projection was already added. The data has been left untouched.\n",
      "  epochs.set_eeg_reference(projection=True, verbose=verbose)#.apply_baseline(baseline=baseline)\n",
      "c:\\Users\\Lukas\\Documents\\projects\\esinet\\evaluate\\..\\esinet\\util\\util.py:420: RuntimeWarning: Too few samples (required : 310 got : 180), covariance estimate may be unreliable\n",
      "  data_cov = mne.compute_raw_covariance(raw, tmin=tmin,\n",
      "c:\\Users\\Lukas\\Documents\\projects\\esinet\\evaluate\\..\\esinet\\util\\util.py:388: RuntimeWarning: An average reference projection was already added. The data has been left untouched.\n",
      "  epochs.set_eeg_reference(projection=True, verbose=verbose)#.apply_baseline(baseline=baseline)\n"
     ]
    },
    {
     "name": "stdout",
     "output_type": "stream",
     "text": [
      "<RawArray | 61 x 420 (4.2 s), ~290 kB, data loaded> 4.0 info empirical\n",
      "<RawArray | 61 x 581 (5.8 s), ~367 kB, data loaded> 4.0 info empirical\n",
      "<RawArray | 61 x 591 (5.9 s), ~371 kB, data loaded> 4.0 info empirical\n",
      "<RawArray | 61 x 514 (5.1 s), ~335 kB, data loaded> 4.0 info empirical\n"
     ]
    },
    {
     "name": "stderr",
     "output_type": "stream",
     "text": [
      "c:\\Users\\Lukas\\Documents\\projects\\esinet\\evaluate\\..\\esinet\\util\\util.py:420: RuntimeWarning: Too few samples (required : 310 got : 100), covariance estimate may be unreliable\n",
      "  data_cov = mne.compute_raw_covariance(raw, tmin=tmin,\n",
      "c:\\Users\\Lukas\\Documents\\projects\\esinet\\evaluate\\..\\esinet\\util\\util.py:388: RuntimeWarning: An average reference projection was already added. The data has been left untouched.\n",
      "  epochs.set_eeg_reference(projection=True, verbose=verbose)#.apply_baseline(baseline=baseline)\n",
      "c:\\Users\\Lukas\\Documents\\projects\\esinet\\evaluate\\..\\esinet\\util\\util.py:423: RuntimeWarning: Epochs are not baseline corrected, covariance matrix may be inaccurate\n",
      "  data_cov = mne.compute_covariance(epochs, tmin=0.0,\n",
      "c:\\Users\\Lukas\\Documents\\projects\\esinet\\evaluate\\..\\esinet\\util\\util.py:423: RuntimeWarning: Too few samples (required : 310 got : 7), covariance estimate may be unreliable\n",
      "  data_cov = mne.compute_covariance(epochs, tmin=0.0,\n",
      "c:\\Users\\Lukas\\Documents\\projects\\esinet\\evaluate\\..\\esinet\\util\\util.py:388: RuntimeWarning: An average reference projection was already added. The data has been left untouched.\n",
      "  epochs.set_eeg_reference(projection=True, verbose=verbose)#.apply_baseline(baseline=baseline)\n",
      "c:\\Users\\Lukas\\Documents\\projects\\esinet\\evaluate\\..\\esinet\\util\\util.py:420: RuntimeWarning: Too few samples (required : 310 got : 140), covariance estimate may be unreliable\n",
      "  data_cov = mne.compute_raw_covariance(raw, tmin=tmin,\n",
      "c:\\Users\\Lukas\\Documents\\projects\\esinet\\evaluate\\..\\esinet\\util\\util.py:388: RuntimeWarning: An average reference projection was already added. The data has been left untouched.\n",
      "  epochs.set_eeg_reference(projection=True, verbose=verbose)#.apply_baseline(baseline=baseline)\n",
      "c:\\Users\\Lukas\\Documents\\projects\\esinet\\evaluate\\..\\esinet\\util\\util.py:420: RuntimeWarning: Too few samples (required : 310 got : 120), covariance estimate may be unreliable\n",
      "  data_cov = mne.compute_raw_covariance(raw, tmin=tmin,\n",
      "c:\\Users\\Lukas\\Documents\\projects\\esinet\\evaluate\\..\\esinet\\util\\util.py:388: RuntimeWarning: An average reference projection was already added. The data has been left untouched.\n",
      "  epochs.set_eeg_reference(projection=True, verbose=verbose)#.apply_baseline(baseline=baseline)\n"
     ]
    },
    {
     "name": "stdout",
     "output_type": "stream",
     "text": [
      "<RawArray | 61 x 407 (4.1 s), ~284 kB, data loaded> 4.0 info empirical\n",
      "<RawArray | 61 x 554 (5.5 s), ~354 kB, data loaded> 4.0 info empirical\n",
      "<RawArray | 61 x 528 (5.3 s), ~341 kB, data loaded> 4.0 info empirical\n",
      "<RawArray | 61 x 410 (4.1 s), ~285 kB, data loaded> 4.0 info empirical\n"
     ]
    },
    {
     "name": "stderr",
     "output_type": "stream",
     "text": [
      "c:\\Users\\Lukas\\Documents\\projects\\esinet\\evaluate\\..\\esinet\\util\\util.py:423: RuntimeWarning: Epochs are not baseline corrected, covariance matrix may be inaccurate\n",
      "  data_cov = mne.compute_covariance(epochs, tmin=0.0,\n",
      "c:\\Users\\Lukas\\Documents\\projects\\esinet\\evaluate\\..\\esinet\\util\\util.py:423: RuntimeWarning: Too few samples (required : 310 got : 10), covariance estimate may be unreliable\n",
      "  data_cov = mne.compute_covariance(epochs, tmin=0.0,\n",
      "c:\\Users\\Lukas\\Documents\\projects\\esinet\\evaluate\\..\\esinet\\util\\util.py:388: RuntimeWarning: An average reference projection was already added. The data has been left untouched.\n",
      "  epochs.set_eeg_reference(projection=True, verbose=verbose)#.apply_baseline(baseline=baseline)\n",
      "c:\\Users\\Lukas\\Documents\\projects\\esinet\\evaluate\\..\\esinet\\util\\util.py:420: RuntimeWarning: Too few samples (required : 310 got : 120), covariance estimate may be unreliable\n",
      "  data_cov = mne.compute_raw_covariance(raw, tmin=tmin,\n",
      "c:\\Users\\Lukas\\Documents\\projects\\esinet\\evaluate\\..\\esinet\\util\\util.py:388: RuntimeWarning: An average reference projection was already added. The data has been left untouched.\n",
      "  epochs.set_eeg_reference(projection=True, verbose=verbose)#.apply_baseline(baseline=baseline)\n",
      "c:\\Users\\Lukas\\Documents\\projects\\esinet\\evaluate\\..\\esinet\\util\\util.py:420: RuntimeWarning: Too few samples (required : 310 got : 40), covariance estimate may be unreliable\n",
      "  data_cov = mne.compute_raw_covariance(raw, tmin=tmin,\n",
      "c:\\Users\\Lukas\\Documents\\projects\\esinet\\evaluate\\..\\esinet\\util\\util.py:388: RuntimeWarning: An average reference projection was already added. The data has been left untouched.\n",
      "  epochs.set_eeg_reference(projection=True, verbose=verbose)#.apply_baseline(baseline=baseline)\n",
      "c:\\Users\\Lukas\\Documents\\projects\\esinet\\evaluate\\..\\esinet\\util\\util.py:420: RuntimeWarning: Too few samples (required : 310 got : 180), covariance estimate may be unreliable\n",
      "  data_cov = mne.compute_raw_covariance(raw, tmin=tmin,\n"
     ]
    },
    {
     "name": "stdout",
     "output_type": "stream",
     "text": [
      "<RawArray | 61 x 523 (5.2 s), ~339 kB, data loaded> 4.0 info empirical\n",
      "<RawArray | 61 x 443 (4.4 s), ~301 kB, data loaded> 4.0 info empirical\n",
      "<RawArray | 61 x 581 (5.8 s), ~367 kB, data loaded> 4.0 info empirical\n",
      "<RawArray | 61 x 561 (5.6 s), ~357 kB, data loaded> 4.0 info empirical\n"
     ]
    },
    {
     "name": "stderr",
     "output_type": "stream",
     "text": [
      "c:\\Users\\Lukas\\Documents\\projects\\esinet\\evaluate\\..\\esinet\\util\\util.py:388: RuntimeWarning: An average reference projection was already added. The data has been left untouched.\n",
      "  epochs.set_eeg_reference(projection=True, verbose=verbose)#.apply_baseline(baseline=baseline)\n",
      "c:\\Users\\Lukas\\Documents\\projects\\esinet\\evaluate\\..\\esinet\\util\\util.py:420: RuntimeWarning: Too few samples (required : 310 got : 160), covariance estimate may be unreliable\n",
      "  data_cov = mne.compute_raw_covariance(raw, tmin=tmin,\n",
      "c:\\Users\\Lukas\\Documents\\projects\\esinet\\evaluate\\..\\esinet\\util\\util.py:388: RuntimeWarning: An average reference projection was already added. The data has been left untouched.\n",
      "  epochs.set_eeg_reference(projection=True, verbose=verbose)#.apply_baseline(baseline=baseline)\n",
      "c:\\Users\\Lukas\\Documents\\projects\\esinet\\evaluate\\..\\esinet\\util\\util.py:420: RuntimeWarning: Too few samples (required : 310 got : 180), covariance estimate may be unreliable\n",
      "  data_cov = mne.compute_raw_covariance(raw, tmin=tmin,\n",
      "c:\\Users\\Lukas\\Documents\\projects\\esinet\\evaluate\\..\\esinet\\util\\util.py:388: RuntimeWarning: An average reference projection was already added. The data has been left untouched.\n",
      "  epochs.set_eeg_reference(projection=True, verbose=verbose)#.apply_baseline(baseline=baseline)\n",
      "c:\\Users\\Lukas\\Documents\\projects\\esinet\\evaluate\\..\\esinet\\util\\util.py:420: RuntimeWarning: Too few samples (required : 310 got : 160), covariance estimate may be unreliable\n",
      "  data_cov = mne.compute_raw_covariance(raw, tmin=tmin,\n",
      "c:\\Users\\Lukas\\Documents\\projects\\esinet\\evaluate\\..\\esinet\\util\\util.py:388: RuntimeWarning: An average reference projection was already added. The data has been left untouched.\n",
      "  epochs.set_eeg_reference(projection=True, verbose=verbose)#.apply_baseline(baseline=baseline)\n",
      "c:\\Users\\Lukas\\Documents\\projects\\esinet\\evaluate\\..\\esinet\\util\\util.py:420: RuntimeWarning: Too few samples (required : 310 got : 160), covariance estimate may be unreliable\n",
      "  data_cov = mne.compute_raw_covariance(raw, tmin=tmin,\n",
      "c:\\Users\\Lukas\\Documents\\projects\\esinet\\evaluate\\..\\esinet\\util\\util.py:388: RuntimeWarning: An average reference projection was already added. The data has been left untouched.\n",
      "  epochs.set_eeg_reference(projection=True, verbose=verbose)#.apply_baseline(baseline=baseline)\n"
     ]
    },
    {
     "name": "stdout",
     "output_type": "stream",
     "text": [
      "<RawArray | 61 x 584 (5.8 s), ~368 kB, data loaded> 4.0 info empirical\n",
      "<RawArray | 61 x 574 (5.7 s), ~363 kB, data loaded> 4.0 info empirical\n",
      "<RawArray | 61 x 561 (5.6 s), ~357 kB, data loaded> 4.0 info empirical\n",
      "<RawArray | 61 x 478 (4.8 s), ~318 kB, data loaded> 4.0 info empirical\n"
     ]
    },
    {
     "name": "stderr",
     "output_type": "stream",
     "text": [
      "c:\\Users\\Lukas\\Documents\\projects\\esinet\\evaluate\\..\\esinet\\util\\util.py:420: RuntimeWarning: Too few samples (required : 310 got : 60), covariance estimate may be unreliable\n",
      "  data_cov = mne.compute_raw_covariance(raw, tmin=tmin,\n",
      "c:\\Users\\Lukas\\Documents\\projects\\esinet\\evaluate\\..\\esinet\\util\\util.py:388: RuntimeWarning: An average reference projection was already added. The data has been left untouched.\n",
      "  epochs.set_eeg_reference(projection=True, verbose=verbose)#.apply_baseline(baseline=baseline)\n",
      "c:\\Users\\Lukas\\Documents\\projects\\esinet\\evaluate\\..\\esinet\\util\\util.py:420: RuntimeWarning: Too few samples (required : 310 got : 100), covariance estimate may be unreliable\n",
      "  data_cov = mne.compute_raw_covariance(raw, tmin=tmin,\n",
      "c:\\Users\\Lukas\\Documents\\projects\\esinet\\evaluate\\..\\esinet\\util\\util.py:388: RuntimeWarning: An average reference projection was already added. The data has been left untouched.\n",
      "  epochs.set_eeg_reference(projection=True, verbose=verbose)#.apply_baseline(baseline=baseline)\n",
      "c:\\Users\\Lukas\\Documents\\projects\\esinet\\evaluate\\..\\esinet\\util\\util.py:420: RuntimeWarning: Too few samples (required : 310 got : 80), covariance estimate may be unreliable\n",
      "  data_cov = mne.compute_raw_covariance(raw, tmin=tmin,\n",
      "c:\\Users\\Lukas\\Documents\\projects\\esinet\\evaluate\\..\\esinet\\util\\util.py:388: RuntimeWarning: An average reference projection was already added. The data has been left untouched.\n",
      "  epochs.set_eeg_reference(projection=True, verbose=verbose)#.apply_baseline(baseline=baseline)\n",
      "c:\\Users\\Lukas\\Documents\\projects\\esinet\\evaluate\\..\\esinet\\util\\util.py:420: RuntimeWarning: Too few samples (required : 310 got : 20), covariance estimate may be unreliable\n",
      "  data_cov = mne.compute_raw_covariance(raw, tmin=tmin,\n",
      "c:\\Users\\Lukas\\Documents\\projects\\esinet\\evaluate\\..\\esinet\\util\\util.py:388: RuntimeWarning: An average reference projection was already added. The data has been left untouched.\n",
      "  epochs.set_eeg_reference(projection=True, verbose=verbose)#.apply_baseline(baseline=baseline)\n"
     ]
    },
    {
     "name": "stdout",
     "output_type": "stream",
     "text": [
      "<RawArray | 61 x 519 (5.2 s), ~337 kB, data loaded> 4.0 info empirical\n",
      "<RawArray | 61 x 489 (4.9 s), ~323 kB, data loaded> 4.0 info empirical\n",
      "<RawArray | 61 x 430 (4.3 s), ~295 kB, data loaded> 4.0 info empirical\n",
      "<RawArray | 61 x 448 (4.5 s), ~303 kB, data loaded> 4.0 info empirical\n"
     ]
    },
    {
     "name": "stderr",
     "output_type": "stream",
     "text": [
      "c:\\Users\\Lukas\\Documents\\projects\\esinet\\evaluate\\..\\esinet\\util\\util.py:420: RuntimeWarning: Too few samples (required : 310 got : 40), covariance estimate may be unreliable\n",
      "  data_cov = mne.compute_raw_covariance(raw, tmin=tmin,\n",
      "c:\\Users\\Lukas\\Documents\\projects\\esinet\\evaluate\\..\\esinet\\util\\util.py:388: RuntimeWarning: An average reference projection was already added. The data has been left untouched.\n",
      "  epochs.set_eeg_reference(projection=True, verbose=verbose)#.apply_baseline(baseline=baseline)\n",
      "c:\\Users\\Lukas\\Documents\\projects\\esinet\\evaluate\\..\\esinet\\util\\util.py:420: RuntimeWarning: Too few samples (required : 310 got : 120), covariance estimate may be unreliable\n",
      "  data_cov = mne.compute_raw_covariance(raw, tmin=tmin,\n",
      "c:\\Users\\Lukas\\Documents\\projects\\esinet\\evaluate\\..\\esinet\\util\\util.py:388: RuntimeWarning: An average reference projection was already added. The data has been left untouched.\n",
      "  epochs.set_eeg_reference(projection=True, verbose=verbose)#.apply_baseline(baseline=baseline)\n",
      "c:\\Users\\Lukas\\Documents\\projects\\esinet\\evaluate\\..\\esinet\\util\\util.py:420: RuntimeWarning: Too few samples (required : 310 got : 140), covariance estimate may be unreliable\n",
      "  data_cov = mne.compute_raw_covariance(raw, tmin=tmin,\n",
      "c:\\Users\\Lukas\\Documents\\projects\\esinet\\evaluate\\..\\esinet\\util\\util.py:388: RuntimeWarning: An average reference projection was already added. The data has been left untouched.\n",
      "  epochs.set_eeg_reference(projection=True, verbose=verbose)#.apply_baseline(baseline=baseline)\n",
      "c:\\Users\\Lukas\\Documents\\projects\\esinet\\evaluate\\..\\esinet\\util\\util.py:420: RuntimeWarning: Too few samples (required : 310 got : 140), covariance estimate may be unreliable\n",
      "  data_cov = mne.compute_raw_covariance(raw, tmin=tmin,\n",
      "c:\\Users\\Lukas\\Documents\\projects\\esinet\\evaluate\\..\\esinet\\util\\util.py:388: RuntimeWarning: An average reference projection was already added. The data has been left untouched.\n",
      "  epochs.set_eeg_reference(projection=True, verbose=verbose)#.apply_baseline(baseline=baseline)\n"
     ]
    },
    {
     "name": "stdout",
     "output_type": "stream",
     "text": [
      "<RawArray | 61 x 527 (5.3 s), ~341 kB, data loaded> 4.0 info empirical\n",
      "<RawArray | 61 x 555 (5.5 s), ~354 kB, data loaded> 4.0 info empirical\n",
      "<RawArray | 61 x 546 (5.5 s), ~350 kB, data loaded> 4.0 info empirical\n",
      "<RawArray | 61 x 476 (4.8 s), ~317 kB, data loaded> 4.0 info empirical\n"
     ]
    },
    {
     "name": "stderr",
     "output_type": "stream",
     "text": [
      "c:\\Users\\Lukas\\Documents\\projects\\esinet\\evaluate\\..\\esinet\\util\\util.py:420: RuntimeWarning: Too few samples (required : 310 got : 60), covariance estimate may be unreliable\n",
      "  data_cov = mne.compute_raw_covariance(raw, tmin=tmin,\n",
      "c:\\Users\\Lukas\\Documents\\projects\\esinet\\evaluate\\..\\esinet\\util\\util.py:388: RuntimeWarning: An average reference projection was already added. The data has been left untouched.\n",
      "  epochs.set_eeg_reference(projection=True, verbose=verbose)#.apply_baseline(baseline=baseline)\n",
      "c:\\Users\\Lukas\\Documents\\projects\\esinet\\evaluate\\..\\esinet\\util\\util.py:420: RuntimeWarning: Too few samples (required : 310 got : 100), covariance estimate may be unreliable\n",
      "  data_cov = mne.compute_raw_covariance(raw, tmin=tmin,\n",
      "c:\\Users\\Lukas\\Documents\\projects\\esinet\\evaluate\\..\\esinet\\util\\util.py:388: RuntimeWarning: An average reference projection was already added. The data has been left untouched.\n",
      "  epochs.set_eeg_reference(projection=True, verbose=verbose)#.apply_baseline(baseline=baseline)\n",
      "c:\\Users\\Lukas\\Documents\\projects\\esinet\\evaluate\\..\\esinet\\util\\util.py:420: RuntimeWarning: Too few samples (required : 310 got : 20), covariance estimate may be unreliable\n",
      "  data_cov = mne.compute_raw_covariance(raw, tmin=tmin,\n",
      "c:\\Users\\Lukas\\Documents\\projects\\esinet\\evaluate\\..\\esinet\\util\\util.py:388: RuntimeWarning: An average reference projection was already added. The data has been left untouched.\n",
      "  epochs.set_eeg_reference(projection=True, verbose=verbose)#.apply_baseline(baseline=baseline)\n",
      "c:\\Users\\Lukas\\Documents\\projects\\esinet\\evaluate\\..\\esinet\\util\\util.py:420: RuntimeWarning: Too few samples (required : 310 got : 20), covariance estimate may be unreliable\n",
      "  data_cov = mne.compute_raw_covariance(raw, tmin=tmin,\n",
      "c:\\Users\\Lukas\\Documents\\projects\\esinet\\evaluate\\..\\esinet\\util\\util.py:388: RuntimeWarning: An average reference projection was already added. The data has been left untouched.\n",
      "  epochs.set_eeg_reference(projection=True, verbose=verbose)#.apply_baseline(baseline=baseline)\n"
     ]
    },
    {
     "name": "stdout",
     "output_type": "stream",
     "text": [
      "<RawArray | 61 x 506 (5.0 s), ~331 kB, data loaded> 4.0 info empirical\n",
      "<RawArray | 61 x 430 (4.3 s), ~295 kB, data loaded> 4.0 info empirical\n",
      "<RawArray | 61 x 435 (4.3 s), ~297 kB, data loaded> 4.0 info empirical\n",
      "<RawArray | 61 x 504 (5.0 s), ~330 kB, data loaded> 4.0 info empirical\n"
     ]
    },
    {
     "name": "stderr",
     "output_type": "stream",
     "text": [
      "c:\\Users\\Lukas\\Documents\\projects\\esinet\\evaluate\\..\\esinet\\util\\util.py:420: RuntimeWarning: Too few samples (required : 310 got : 100), covariance estimate may be unreliable\n",
      "  data_cov = mne.compute_raw_covariance(raw, tmin=tmin,\n",
      "c:\\Users\\Lukas\\Documents\\projects\\esinet\\evaluate\\..\\esinet\\util\\util.py:388: RuntimeWarning: An average reference projection was already added. The data has been left untouched.\n",
      "  epochs.set_eeg_reference(projection=True, verbose=verbose)#.apply_baseline(baseline=baseline)\n",
      "c:\\Users\\Lukas\\Documents\\projects\\esinet\\evaluate\\..\\esinet\\util\\util.py:420: RuntimeWarning: Too few samples (required : 310 got : 120), covariance estimate may be unreliable\n",
      "  data_cov = mne.compute_raw_covariance(raw, tmin=tmin,\n",
      "c:\\Users\\Lukas\\Documents\\projects\\esinet\\evaluate\\..\\esinet\\util\\util.py:388: RuntimeWarning: An average reference projection was already added. The data has been left untouched.\n",
      "  epochs.set_eeg_reference(projection=True, verbose=verbose)#.apply_baseline(baseline=baseline)\n",
      "c:\\Users\\Lukas\\Documents\\projects\\esinet\\evaluate\\..\\esinet\\util\\util.py:420: RuntimeWarning: Too few samples (required : 310 got : 100), covariance estimate may be unreliable\n",
      "  data_cov = mne.compute_raw_covariance(raw, tmin=tmin,\n",
      "c:\\Users\\Lukas\\Documents\\projects\\esinet\\evaluate\\..\\esinet\\util\\util.py:388: RuntimeWarning: An average reference projection was already added. The data has been left untouched.\n",
      "  epochs.set_eeg_reference(projection=True, verbose=verbose)#.apply_baseline(baseline=baseline)\n",
      "c:\\Users\\Lukas\\Documents\\projects\\esinet\\evaluate\\..\\esinet\\util\\util.py:420: RuntimeWarning: Too few samples (required : 310 got : 160), covariance estimate may be unreliable\n",
      "  data_cov = mne.compute_raw_covariance(raw, tmin=tmin,\n"
     ]
    },
    {
     "name": "stdout",
     "output_type": "stream",
     "text": [
      "<RawArray | 61 x 528 (5.3 s), ~341 kB, data loaded> 4.0 info empirical\n",
      "<RawArray | 61 x 503 (5.0 s), ~330 kB, data loaded> 4.0 info empirical\n",
      "<RawArray | 61 x 573 (5.7 s), ~363 kB, data loaded> 4.0 info empirical\n",
      "<RawArray | 61 x 516 (5.2 s), ~336 kB, data loaded> 4.0 info empirical\n"
     ]
    },
    {
     "name": "stderr",
     "output_type": "stream",
     "text": [
      "c:\\Users\\Lukas\\Documents\\projects\\esinet\\evaluate\\..\\esinet\\util\\util.py:388: RuntimeWarning: An average reference projection was already added. The data has been left untouched.\n",
      "  epochs.set_eeg_reference(projection=True, verbose=verbose)#.apply_baseline(baseline=baseline)\n",
      "c:\\Users\\Lukas\\Documents\\projects\\esinet\\evaluate\\..\\esinet\\util\\util.py:420: RuntimeWarning: Too few samples (required : 310 got : 100), covariance estimate may be unreliable\n",
      "  data_cov = mne.compute_raw_covariance(raw, tmin=tmin,\n",
      "c:\\Users\\Lukas\\Documents\\projects\\esinet\\evaluate\\..\\esinet\\util\\util.py:388: RuntimeWarning: An average reference projection was already added. The data has been left untouched.\n",
      "  epochs.set_eeg_reference(projection=True, verbose=verbose)#.apply_baseline(baseline=baseline)\n",
      "c:\\Users\\Lukas\\Documents\\projects\\esinet\\evaluate\\..\\esinet\\util\\util.py:420: RuntimeWarning: Too few samples (required : 310 got : 180), covariance estimate may be unreliable\n",
      "  data_cov = mne.compute_raw_covariance(raw, tmin=tmin,\n",
      "c:\\Users\\Lukas\\Documents\\projects\\esinet\\evaluate\\..\\esinet\\util\\util.py:388: RuntimeWarning: An average reference projection was already added. The data has been left untouched.\n",
      "  epochs.set_eeg_reference(projection=True, verbose=verbose)#.apply_baseline(baseline=baseline)\n",
      "c:\\Users\\Lukas\\Documents\\projects\\esinet\\evaluate\\..\\esinet\\util\\util.py:420: RuntimeWarning: Too few samples (required : 310 got : 100), covariance estimate may be unreliable\n",
      "  data_cov = mne.compute_raw_covariance(raw, tmin=tmin,\n",
      "c:\\Users\\Lukas\\Documents\\projects\\esinet\\evaluate\\..\\esinet\\util\\util.py:388: RuntimeWarning: An average reference projection was already added. The data has been left untouched.\n",
      "  epochs.set_eeg_reference(projection=True, verbose=verbose)#.apply_baseline(baseline=baseline)\n",
      "c:\\Users\\Lukas\\Documents\\projects\\esinet\\evaluate\\..\\esinet\\util\\util.py:420: RuntimeWarning: Too few samples (required : 310 got : 80), covariance estimate may be unreliable\n",
      "  data_cov = mne.compute_raw_covariance(raw, tmin=tmin,\n"
     ]
    },
    {
     "name": "stdout",
     "output_type": "stream",
     "text": [
      "<RawArray | 61 x 591 (5.9 s), ~371 kB, data loaded> 4.0 info empirical\n",
      "<RawArray | 61 x 510 (5.1 s), ~333 kB, data loaded> 4.0 info empirical\n",
      "<RawArray | 61 x 486 (4.8 s), ~321 kB, data loaded> 4.0 info empirical\n",
      "<RawArray | 61 x 550 (5.5 s), ~352 kB, data loaded> 4.0 info empirical\n"
     ]
    },
    {
     "name": "stderr",
     "output_type": "stream",
     "text": [
      "c:\\Users\\Lukas\\Documents\\projects\\esinet\\evaluate\\..\\esinet\\util\\util.py:388: RuntimeWarning: An average reference projection was already added. The data has been left untouched.\n",
      "  epochs.set_eeg_reference(projection=True, verbose=verbose)#.apply_baseline(baseline=baseline)\n",
      "c:\\Users\\Lukas\\Documents\\projects\\esinet\\evaluate\\..\\esinet\\util\\util.py:420: RuntimeWarning: Too few samples (required : 310 got : 140), covariance estimate may be unreliable\n",
      "  data_cov = mne.compute_raw_covariance(raw, tmin=tmin,\n",
      "c:\\Users\\Lukas\\Documents\\projects\\esinet\\evaluate\\..\\esinet\\util\\util.py:388: RuntimeWarning: An average reference projection was already added. The data has been left untouched.\n",
      "  epochs.set_eeg_reference(projection=True, verbose=verbose)#.apply_baseline(baseline=baseline)\n",
      "c:\\Users\\Lukas\\Documents\\projects\\esinet\\evaluate\\..\\esinet\\util\\util.py:420: RuntimeWarning: Too few samples (required : 310 got : 180), covariance estimate may be unreliable\n",
      "  data_cov = mne.compute_raw_covariance(raw, tmin=tmin,\n",
      "c:\\Users\\Lukas\\Documents\\projects\\esinet\\evaluate\\..\\esinet\\util\\util.py:388: RuntimeWarning: An average reference projection was already added. The data has been left untouched.\n",
      "  epochs.set_eeg_reference(projection=True, verbose=verbose)#.apply_baseline(baseline=baseline)\n",
      "c:\\Users\\Lukas\\Documents\\projects\\esinet\\evaluate\\..\\esinet\\util\\util.py:420: RuntimeWarning: Too few samples (required : 310 got : 40), covariance estimate may be unreliable\n",
      "  data_cov = mne.compute_raw_covariance(raw, tmin=tmin,\n",
      "c:\\Users\\Lukas\\Documents\\projects\\esinet\\evaluate\\..\\esinet\\util\\util.py:388: RuntimeWarning: An average reference projection was already added. The data has been left untouched.\n",
      "  epochs.set_eeg_reference(projection=True, verbose=verbose)#.apply_baseline(baseline=baseline)\n",
      "c:\\Users\\Lukas\\Documents\\projects\\esinet\\evaluate\\..\\esinet\\util\\util.py:420: RuntimeWarning: Too few samples (required : 310 got : 60), covariance estimate may be unreliable\n",
      "  data_cov = mne.compute_raw_covariance(raw, tmin=tmin,\n"
     ]
    },
    {
     "name": "stdout",
     "output_type": "stream",
     "text": [
      "<RawArray | 61 x 597 (6.0 s), ~374 kB, data loaded> 4.0 info empirical\n",
      "<RawArray | 61 x 457 (4.6 s), ~308 kB, data loaded> 4.0 info empirical\n",
      "<RawArray | 61 x 462 (4.6 s), ~310 kB, data loaded> 4.0 info empirical\n",
      "<RawArray | 61 x 537 (5.4 s), ~346 kB, data loaded> 4.0 info empirical\n"
     ]
    },
    {
     "name": "stderr",
     "output_type": "stream",
     "text": [
      "c:\\Users\\Lukas\\Documents\\projects\\esinet\\evaluate\\..\\esinet\\util\\util.py:388: RuntimeWarning: An average reference projection was already added. The data has been left untouched.\n",
      "  epochs.set_eeg_reference(projection=True, verbose=verbose)#.apply_baseline(baseline=baseline)\n",
      "c:\\Users\\Lukas\\Documents\\projects\\esinet\\evaluate\\..\\esinet\\util\\util.py:420: RuntimeWarning: Too few samples (required : 310 got : 120), covariance estimate may be unreliable\n",
      "  data_cov = mne.compute_raw_covariance(raw, tmin=tmin,\n",
      "c:\\Users\\Lukas\\Documents\\projects\\esinet\\evaluate\\..\\esinet\\util\\util.py:388: RuntimeWarning: An average reference projection was already added. The data has been left untouched.\n",
      "  epochs.set_eeg_reference(projection=True, verbose=verbose)#.apply_baseline(baseline=baseline)\n",
      "c:\\Users\\Lukas\\Documents\\projects\\esinet\\evaluate\\..\\esinet\\util\\util.py:420: RuntimeWarning: Too few samples (required : 310 got : 100), covariance estimate may be unreliable\n",
      "  data_cov = mne.compute_raw_covariance(raw, tmin=tmin,\n",
      "c:\\Users\\Lukas\\Documents\\projects\\esinet\\evaluate\\..\\esinet\\util\\util.py:388: RuntimeWarning: An average reference projection was already added. The data has been left untouched.\n",
      "  epochs.set_eeg_reference(projection=True, verbose=verbose)#.apply_baseline(baseline=baseline)\n",
      "c:\\Users\\Lukas\\Documents\\projects\\esinet\\evaluate\\..\\esinet\\util\\util.py:420: RuntimeWarning: Too few samples (required : 310 got : 40), covariance estimate may be unreliable\n",
      "  data_cov = mne.compute_raw_covariance(raw, tmin=tmin,\n",
      "c:\\Users\\Lukas\\Documents\\projects\\esinet\\evaluate\\..\\esinet\\util\\util.py:388: RuntimeWarning: An average reference projection was already added. The data has been left untouched.\n",
      "  epochs.set_eeg_reference(projection=True, verbose=verbose)#.apply_baseline(baseline=baseline)\n",
      "c:\\Users\\Lukas\\Documents\\projects\\esinet\\evaluate\\..\\esinet\\util\\util.py:420: RuntimeWarning: Too few samples (required : 310 got : 40), covariance estimate may be unreliable\n",
      "  data_cov = mne.compute_raw_covariance(raw, tmin=tmin,\n",
      "c:\\Users\\Lukas\\Documents\\projects\\esinet\\evaluate\\..\\esinet\\util\\util.py:388: RuntimeWarning: An average reference projection was already added. The data has been left untouched.\n",
      "  epochs.set_eeg_reference(projection=True, verbose=verbose)#.apply_baseline(baseline=baseline)\n"
     ]
    },
    {
     "name": "stdout",
     "output_type": "stream",
     "text": [
      "<RawArray | 61 x 504 (5.0 s), ~330 kB, data loaded> 4.0 info empirical\n",
      "<RawArray | 61 x 459 (4.6 s), ~309 kB, data loaded> 4.0 info empirical\n",
      "<RawArray | 61 x 443 (4.4 s), ~301 kB, data loaded> 4.0 info empirical\n",
      "<RawArray | 61 x 541 (5.4 s), ~348 kB, data loaded> 4.0 info empirical\n"
     ]
    },
    {
     "name": "stderr",
     "output_type": "stream",
     "text": [
      "c:\\Users\\Lukas\\Documents\\projects\\esinet\\evaluate\\..\\esinet\\util\\util.py:420: RuntimeWarning: Too few samples (required : 310 got : 140), covariance estimate may be unreliable\n",
      "  data_cov = mne.compute_raw_covariance(raw, tmin=tmin,\n",
      "c:\\Users\\Lukas\\Documents\\projects\\esinet\\evaluate\\..\\esinet\\util\\util.py:388: RuntimeWarning: An average reference projection was already added. The data has been left untouched.\n",
      "  epochs.set_eeg_reference(projection=True, verbose=verbose)#.apply_baseline(baseline=baseline)\n",
      "c:\\Users\\Lukas\\Documents\\projects\\esinet\\evaluate\\..\\esinet\\util\\util.py:420: RuntimeWarning: Too few samples (required : 310 got : 40), covariance estimate may be unreliable\n",
      "  data_cov = mne.compute_raw_covariance(raw, tmin=tmin,\n",
      "c:\\Users\\Lukas\\Documents\\projects\\esinet\\evaluate\\..\\esinet\\util\\util.py:388: RuntimeWarning: An average reference projection was already added. The data has been left untouched.\n",
      "  epochs.set_eeg_reference(projection=True, verbose=verbose)#.apply_baseline(baseline=baseline)\n",
      "c:\\Users\\Lukas\\Documents\\projects\\esinet\\evaluate\\..\\esinet\\util\\util.py:420: RuntimeWarning: Too few samples (required : 310 got : 180), covariance estimate may be unreliable\n",
      "  data_cov = mne.compute_raw_covariance(raw, tmin=tmin,\n",
      "c:\\Users\\Lukas\\Documents\\projects\\esinet\\evaluate\\..\\esinet\\util\\util.py:388: RuntimeWarning: An average reference projection was already added. The data has been left untouched.\n",
      "  epochs.set_eeg_reference(projection=True, verbose=verbose)#.apply_baseline(baseline=baseline)\n",
      "c:\\Users\\Lukas\\Documents\\projects\\esinet\\evaluate\\..\\esinet\\util\\util.py:420: RuntimeWarning: Too few samples (required : 310 got : 100), covariance estimate may be unreliable\n",
      "  data_cov = mne.compute_raw_covariance(raw, tmin=tmin,\n",
      "c:\\Users\\Lukas\\Documents\\projects\\esinet\\evaluate\\..\\esinet\\util\\util.py:388: RuntimeWarning: An average reference projection was already added. The data has been left untouched.\n",
      "  epochs.set_eeg_reference(projection=True, verbose=verbose)#.apply_baseline(baseline=baseline)\n"
     ]
    },
    {
     "name": "stdout",
     "output_type": "stream",
     "text": [
      "<RawArray | 61 x 457 (4.6 s), ~308 kB, data loaded> 4.0 info empirical\n",
      "<RawArray | 61 x 598 (6.0 s), ~375 kB, data loaded> 4.0 info empirical\n",
      "<RawArray | 61 x 505 (5.0 s), ~330 kB, data loaded> 4.0 info empirical\n",
      "<RawArray | 61 x 595 (5.9 s), ~373 kB, data loaded> 4.0 info empirical\n"
     ]
    },
    {
     "name": "stderr",
     "output_type": "stream",
     "text": [
      "c:\\Users\\Lukas\\Documents\\projects\\esinet\\evaluate\\..\\esinet\\util\\util.py:420: RuntimeWarning: Too few samples (required : 310 got : 180), covariance estimate may be unreliable\n",
      "  data_cov = mne.compute_raw_covariance(raw, tmin=tmin,\n",
      "c:\\Users\\Lukas\\Documents\\projects\\esinet\\evaluate\\..\\esinet\\util\\util.py:388: RuntimeWarning: An average reference projection was already added. The data has been left untouched.\n",
      "  epochs.set_eeg_reference(projection=True, verbose=verbose)#.apply_baseline(baseline=baseline)\n",
      "c:\\Users\\Lukas\\Documents\\projects\\esinet\\evaluate\\..\\esinet\\util\\util.py:420: RuntimeWarning: Too few samples (required : 310 got : 180), covariance estimate may be unreliable\n",
      "  data_cov = mne.compute_raw_covariance(raw, tmin=tmin,\n",
      "c:\\Users\\Lukas\\Documents\\projects\\esinet\\evaluate\\..\\esinet\\util\\util.py:388: RuntimeWarning: An average reference projection was already added. The data has been left untouched.\n",
      "  epochs.set_eeg_reference(projection=True, verbose=verbose)#.apply_baseline(baseline=baseline)\n",
      "c:\\Users\\Lukas\\Documents\\projects\\esinet\\evaluate\\..\\esinet\\util\\util.py:423: RuntimeWarning: Epochs are not baseline corrected, covariance matrix may be inaccurate\n",
      "  data_cov = mne.compute_covariance(epochs, tmin=0.0,\n",
      "c:\\Users\\Lukas\\Documents\\projects\\esinet\\evaluate\\..\\esinet\\util\\util.py:423: RuntimeWarning: Too few samples (required : 310 got : 12), covariance estimate may be unreliable\n",
      "  data_cov = mne.compute_covariance(epochs, tmin=0.0,\n",
      "c:\\Users\\Lukas\\Documents\\projects\\esinet\\evaluate\\..\\esinet\\util\\util.py:388: RuntimeWarning: An average reference projection was already added. The data has been left untouched.\n",
      "  epochs.set_eeg_reference(projection=True, verbose=verbose)#.apply_baseline(baseline=baseline)\n",
      "c:\\Users\\Lukas\\Documents\\projects\\esinet\\evaluate\\..\\esinet\\util\\util.py:420: RuntimeWarning: Too few samples (required : 310 got : 140), covariance estimate may be unreliable\n",
      "  data_cov = mne.compute_raw_covariance(raw, tmin=tmin,\n",
      "c:\\Users\\Lukas\\Documents\\projects\\esinet\\evaluate\\..\\esinet\\util\\util.py:388: RuntimeWarning: An average reference projection was already added. The data has been left untouched.\n",
      "  epochs.set_eeg_reference(projection=True, verbose=verbose)#.apply_baseline(baseline=baseline)\n"
     ]
    },
    {
     "name": "stdout",
     "output_type": "stream",
     "text": [
      "<RawArray | 61 x 588 (5.9 s), ~370 kB, data loaded> 4.0 info empirical\n",
      "<RawArray | 61 x 412 (4.1 s), ~286 kB, data loaded> 4.0 info empirical\n",
      "<RawArray | 61 x 554 (5.5 s), ~354 kB, data loaded> 4.0 info empirical\n",
      "<RawArray | 61 x 488 (4.9 s), ~322 kB, data loaded> 4.0 info empirical\n"
     ]
    },
    {
     "name": "stderr",
     "output_type": "stream",
     "text": [
      "c:\\Users\\Lukas\\Documents\\projects\\esinet\\evaluate\\..\\esinet\\util\\util.py:420: RuntimeWarning: Too few samples (required : 310 got : 80), covariance estimate may be unreliable\n",
      "  data_cov = mne.compute_raw_covariance(raw, tmin=tmin,\n",
      "c:\\Users\\Lukas\\Documents\\projects\\esinet\\evaluate\\..\\esinet\\util\\util.py:388: RuntimeWarning: An average reference projection was already added. The data has been left untouched.\n",
      "  epochs.set_eeg_reference(projection=True, verbose=verbose)#.apply_baseline(baseline=baseline)\n",
      "c:\\Users\\Lukas\\Documents\\projects\\esinet\\evaluate\\..\\esinet\\util\\util.py:420: RuntimeWarning: Too few samples (required : 310 got : 100), covariance estimate may be unreliable\n",
      "  data_cov = mne.compute_raw_covariance(raw, tmin=tmin,\n",
      "c:\\Users\\Lukas\\Documents\\projects\\esinet\\evaluate\\..\\esinet\\util\\util.py:388: RuntimeWarning: An average reference projection was already added. The data has been left untouched.\n",
      "  epochs.set_eeg_reference(projection=True, verbose=verbose)#.apply_baseline(baseline=baseline)\n",
      "c:\\Users\\Lukas\\Documents\\projects\\esinet\\evaluate\\..\\esinet\\util\\util.py:420: RuntimeWarning: Too few samples (required : 310 got : 160), covariance estimate may be unreliable\n",
      "  data_cov = mne.compute_raw_covariance(raw, tmin=tmin,\n",
      "c:\\Users\\Lukas\\Documents\\projects\\esinet\\evaluate\\..\\esinet\\util\\util.py:388: RuntimeWarning: An average reference projection was already added. The data has been left untouched.\n",
      "  epochs.set_eeg_reference(projection=True, verbose=verbose)#.apply_baseline(baseline=baseline)\n",
      "c:\\Users\\Lukas\\Documents\\projects\\esinet\\evaluate\\..\\esinet\\util\\util.py:420: RuntimeWarning: Too few samples (required : 310 got : 120), covariance estimate may be unreliable\n",
      "  data_cov = mne.compute_raw_covariance(raw, tmin=tmin,\n",
      "c:\\Users\\Lukas\\Documents\\projects\\esinet\\evaluate\\..\\esinet\\util\\util.py:388: RuntimeWarning: An average reference projection was already added. The data has been left untouched.\n",
      "  epochs.set_eeg_reference(projection=True, verbose=verbose)#.apply_baseline(baseline=baseline)\n"
     ]
    },
    {
     "name": "stdout",
     "output_type": "stream",
     "text": [
      "<RawArray | 61 x 504 (5.0 s), ~330 kB, data loaded> 4.0 info empirical\n",
      "<RawArray | 61 x 561 (5.6 s), ~357 kB, data loaded> 4.0 info empirical\n",
      "<RawArray | 61 x 538 (5.4 s), ~346 kB, data loaded> 4.0 info empirical\n",
      "<RawArray | 61 x 552 (5.5 s), ~353 kB, data loaded> 4.0 info empirical\n"
     ]
    },
    {
     "name": "stderr",
     "output_type": "stream",
     "text": [
      "c:\\Users\\Lukas\\Documents\\projects\\esinet\\evaluate\\..\\esinet\\util\\util.py:420: RuntimeWarning: Too few samples (required : 310 got : 140), covariance estimate may be unreliable\n",
      "  data_cov = mne.compute_raw_covariance(raw, tmin=tmin,\n",
      "c:\\Users\\Lukas\\Documents\\projects\\esinet\\evaluate\\..\\esinet\\util\\util.py:388: RuntimeWarning: An average reference projection was already added. The data has been left untouched.\n",
      "  epochs.set_eeg_reference(projection=True, verbose=verbose)#.apply_baseline(baseline=baseline)\n",
      "c:\\Users\\Lukas\\Documents\\projects\\esinet\\evaluate\\..\\esinet\\util\\util.py:420: RuntimeWarning: Too few samples (required : 310 got : 140), covariance estimate may be unreliable\n",
      "  data_cov = mne.compute_raw_covariance(raw, tmin=tmin,\n",
      "c:\\Users\\Lukas\\Documents\\projects\\esinet\\evaluate\\..\\esinet\\util\\util.py:388: RuntimeWarning: An average reference projection was already added. The data has been left untouched.\n",
      "  epochs.set_eeg_reference(projection=True, verbose=verbose)#.apply_baseline(baseline=baseline)\n",
      "c:\\Users\\Lukas\\Documents\\projects\\esinet\\evaluate\\..\\esinet\\util\\util.py:420: RuntimeWarning: Too few samples (required : 310 got : 160), covariance estimate may be unreliable\n",
      "  data_cov = mne.compute_raw_covariance(raw, tmin=tmin,\n",
      "c:\\Users\\Lukas\\Documents\\projects\\esinet\\evaluate\\..\\esinet\\util\\util.py:388: RuntimeWarning: An average reference projection was already added. The data has been left untouched.\n",
      "  epochs.set_eeg_reference(projection=True, verbose=verbose)#.apply_baseline(baseline=baseline)\n",
      "c:\\Users\\Lukas\\Documents\\projects\\esinet\\evaluate\\..\\esinet\\util\\util.py:420: RuntimeWarning: Too few samples (required : 310 got : 140), covariance estimate may be unreliable\n",
      "  data_cov = mne.compute_raw_covariance(raw, tmin=tmin,\n",
      "c:\\Users\\Lukas\\Documents\\projects\\esinet\\evaluate\\..\\esinet\\util\\util.py:388: RuntimeWarning: An average reference projection was already added. The data has been left untouched.\n",
      "  epochs.set_eeg_reference(projection=True, verbose=verbose)#.apply_baseline(baseline=baseline)\n"
     ]
    },
    {
     "name": "stdout",
     "output_type": "stream",
     "text": [
      "<RawArray | 61 x 556 (5.5 s), ~355 kB, data loaded> 4.0 info empirical\n",
      "<RawArray | 61 x 564 (5.6 s), ~359 kB, data loaded> 4.0 info empirical\n",
      "<RawArray | 61 x 551 (5.5 s), ~352 kB, data loaded> 4.0 info empirical\n",
      "<RawArray | 61 x 485 (4.8 s), ~321 kB, data loaded> 4.0 info empirical\n"
     ]
    },
    {
     "name": "stderr",
     "output_type": "stream",
     "text": [
      "c:\\Users\\Lukas\\Documents\\projects\\esinet\\evaluate\\..\\esinet\\util\\util.py:420: RuntimeWarning: Too few samples (required : 310 got : 80), covariance estimate may be unreliable\n",
      "  data_cov = mne.compute_raw_covariance(raw, tmin=tmin,\n",
      "c:\\Users\\Lukas\\Documents\\projects\\esinet\\evaluate\\..\\esinet\\util\\util.py:388: RuntimeWarning: An average reference projection was already added. The data has been left untouched.\n",
      "  epochs.set_eeg_reference(projection=True, verbose=verbose)#.apply_baseline(baseline=baseline)\n",
      "c:\\Users\\Lukas\\Documents\\projects\\esinet\\evaluate\\..\\esinet\\util\\util.py:420: RuntimeWarning: Too few samples (required : 310 got : 20), covariance estimate may be unreliable\n",
      "  data_cov = mne.compute_raw_covariance(raw, tmin=tmin,\n",
      "c:\\Users\\Lukas\\Documents\\projects\\esinet\\evaluate\\..\\esinet\\util\\util.py:388: RuntimeWarning: An average reference projection was already added. The data has been left untouched.\n",
      "  epochs.set_eeg_reference(projection=True, verbose=verbose)#.apply_baseline(baseline=baseline)\n",
      "c:\\Users\\Lukas\\Documents\\projects\\esinet\\evaluate\\..\\esinet\\util\\util.py:420: RuntimeWarning: Too few samples (required : 310 got : 100), covariance estimate may be unreliable\n",
      "  data_cov = mne.compute_raw_covariance(raw, tmin=tmin,\n",
      "c:\\Users\\Lukas\\Documents\\projects\\esinet\\evaluate\\..\\esinet\\util\\util.py:388: RuntimeWarning: An average reference projection was already added. The data has been left untouched.\n",
      "  epochs.set_eeg_reference(projection=True, verbose=verbose)#.apply_baseline(baseline=baseline)\n",
      "c:\\Users\\Lukas\\Documents\\projects\\esinet\\evaluate\\..\\esinet\\util\\util.py:420: RuntimeWarning: Too few samples (required : 310 got : 60), covariance estimate may be unreliable\n",
      "  data_cov = mne.compute_raw_covariance(raw, tmin=tmin,\n",
      "c:\\Users\\Lukas\\Documents\\projects\\esinet\\evaluate\\..\\esinet\\util\\util.py:388: RuntimeWarning: An average reference projection was already added. The data has been left untouched.\n",
      "  epochs.set_eeg_reference(projection=True, verbose=verbose)#.apply_baseline(baseline=baseline)\n"
     ]
    },
    {
     "name": "stdout",
     "output_type": "stream",
     "text": [
      "<RawArray | 61 x 430 (4.3 s), ~295 kB, data loaded> 4.0 info empirical\n",
      "<RawArray | 61 x 519 (5.2 s), ~337 kB, data loaded> 4.0 info empirical\n",
      "<RawArray | 61 x 465 (4.6 s), ~311 kB, data loaded> 4.0 info empirical\n",
      "<RawArray | 61 x 461 (4.6 s), ~310 kB, data loaded> 4.0 info empirical\n"
     ]
    },
    {
     "name": "stderr",
     "output_type": "stream",
     "text": [
      "c:\\Users\\Lukas\\Documents\\projects\\esinet\\evaluate\\..\\esinet\\util\\util.py:420: RuntimeWarning: Too few samples (required : 310 got : 60), covariance estimate may be unreliable\n",
      "  data_cov = mne.compute_raw_covariance(raw, tmin=tmin,\n",
      "c:\\Users\\Lukas\\Documents\\projects\\esinet\\evaluate\\..\\esinet\\util\\util.py:388: RuntimeWarning: An average reference projection was already added. The data has been left untouched.\n",
      "  epochs.set_eeg_reference(projection=True, verbose=verbose)#.apply_baseline(baseline=baseline)\n",
      "c:\\Users\\Lukas\\Documents\\projects\\esinet\\evaluate\\..\\esinet\\util\\util.py:420: RuntimeWarning: Too few samples (required : 310 got : 140), covariance estimate may be unreliable\n",
      "  data_cov = mne.compute_raw_covariance(raw, tmin=tmin,\n",
      "c:\\Users\\Lukas\\Documents\\projects\\esinet\\evaluate\\..\\esinet\\util\\util.py:388: RuntimeWarning: An average reference projection was already added. The data has been left untouched.\n",
      "  epochs.set_eeg_reference(projection=True, verbose=verbose)#.apply_baseline(baseline=baseline)\n",
      "c:\\Users\\Lukas\\Documents\\projects\\esinet\\evaluate\\..\\esinet\\util\\util.py:420: RuntimeWarning: Too few samples (required : 310 got : 120), covariance estimate may be unreliable\n",
      "  data_cov = mne.compute_raw_covariance(raw, tmin=tmin,\n",
      "c:\\Users\\Lukas\\Documents\\projects\\esinet\\evaluate\\..\\esinet\\util\\util.py:388: RuntimeWarning: An average reference projection was already added. The data has been left untouched.\n",
      "  epochs.set_eeg_reference(projection=True, verbose=verbose)#.apply_baseline(baseline=baseline)\n",
      "c:\\Users\\Lukas\\Documents\\projects\\esinet\\evaluate\\..\\esinet\\util\\util.py:420: RuntimeWarning: Too few samples (required : 310 got : 80), covariance estimate may be unreliable\n",
      "  data_cov = mne.compute_raw_covariance(raw, tmin=tmin,\n",
      "c:\\Users\\Lukas\\Documents\\projects\\esinet\\evaluate\\..\\esinet\\util\\util.py:388: RuntimeWarning: An average reference projection was already added. The data has been left untouched.\n",
      "  epochs.set_eeg_reference(projection=True, verbose=verbose)#.apply_baseline(baseline=baseline)\n"
     ]
    },
    {
     "name": "stdout",
     "output_type": "stream",
     "text": [
      "<RawArray | 61 x 549 (5.5 s), ~351 kB, data loaded> 4.0 info empirical\n",
      "<RawArray | 61 x 528 (5.3 s), ~341 kB, data loaded> 4.0 info empirical\n",
      "<RawArray | 61 x 496 (5.0 s), ~326 kB, data loaded> 4.0 info empirical\n",
      "<RawArray | 61 x 557 (5.6 s), ~355 kB, data loaded> 4.0 info empirical\n"
     ]
    },
    {
     "name": "stderr",
     "output_type": "stream",
     "text": [
      "c:\\Users\\Lukas\\Documents\\projects\\esinet\\evaluate\\..\\esinet\\util\\util.py:420: RuntimeWarning: Too few samples (required : 310 got : 140), covariance estimate may be unreliable\n",
      "  data_cov = mne.compute_raw_covariance(raw, tmin=tmin,\n",
      "c:\\Users\\Lukas\\Documents\\projects\\esinet\\evaluate\\..\\esinet\\util\\util.py:388: RuntimeWarning: An average reference projection was already added. The data has been left untouched.\n",
      "  epochs.set_eeg_reference(projection=True, verbose=verbose)#.apply_baseline(baseline=baseline)\n",
      "c:\\Users\\Lukas\\Documents\\projects\\esinet\\evaluate\\..\\esinet\\util\\util.py:420: RuntimeWarning: Too few samples (required : 310 got : 100), covariance estimate may be unreliable\n",
      "  data_cov = mne.compute_raw_covariance(raw, tmin=tmin,\n",
      "c:\\Users\\Lukas\\Documents\\projects\\esinet\\evaluate\\..\\esinet\\util\\util.py:388: RuntimeWarning: An average reference projection was already added. The data has been left untouched.\n",
      "  epochs.set_eeg_reference(projection=True, verbose=verbose)#.apply_baseline(baseline=baseline)\n",
      "c:\\Users\\Lukas\\Documents\\projects\\esinet\\evaluate\\..\\esinet\\util\\util.py:423: RuntimeWarning: Epochs are not baseline corrected, covariance matrix may be inaccurate\n",
      "  data_cov = mne.compute_covariance(epochs, tmin=0.0,\n",
      "c:\\Users\\Lukas\\Documents\\projects\\esinet\\evaluate\\..\\esinet\\util\\util.py:423: RuntimeWarning: Too few samples (required : 310 got : 7), covariance estimate may be unreliable\n",
      "  data_cov = mne.compute_covariance(epochs, tmin=0.0,\n",
      "c:\\Users\\Lukas\\Documents\\projects\\esinet\\evaluate\\..\\esinet\\util\\util.py:388: RuntimeWarning: An average reference projection was already added. The data has been left untouched.\n",
      "  epochs.set_eeg_reference(projection=True, verbose=verbose)#.apply_baseline(baseline=baseline)\n",
      "c:\\Users\\Lukas\\Documents\\projects\\esinet\\evaluate\\..\\esinet\\util\\util.py:420: RuntimeWarning: Too few samples (required : 310 got : 80), covariance estimate may be unreliable\n",
      "  data_cov = mne.compute_raw_covariance(raw, tmin=tmin,\n",
      "c:\\Users\\Lukas\\Documents\\projects\\esinet\\evaluate\\..\\esinet\\util\\util.py:388: RuntimeWarning: An average reference projection was already added. The data has been left untouched.\n",
      "  epochs.set_eeg_reference(projection=True, verbose=verbose)#.apply_baseline(baseline=baseline)\n"
     ]
    },
    {
     "name": "stdout",
     "output_type": "stream",
     "text": [
      "<RawArray | 61 x 511 (5.1 s), ~333 kB, data loaded> 4.0 info empirical\n",
      "<RawArray | 61 x 407 (4.1 s), ~284 kB, data loaded> 4.0 info empirical\n",
      "<RawArray | 61 x 499 (5.0 s), ~328 kB, data loaded> 4.0 info empirical\n",
      "<RawArray | 61 x 491 (4.9 s), ~324 kB, data loaded> 4.0 info empirical\n"
     ]
    },
    {
     "name": "stderr",
     "output_type": "stream",
     "text": [
      "c:\\Users\\Lukas\\Documents\\projects\\esinet\\evaluate\\..\\esinet\\util\\util.py:420: RuntimeWarning: Too few samples (required : 310 got : 80), covariance estimate may be unreliable\n",
      "  data_cov = mne.compute_raw_covariance(raw, tmin=tmin,\n",
      "c:\\Users\\Lukas\\Documents\\projects\\esinet\\evaluate\\..\\esinet\\util\\util.py:388: RuntimeWarning: An average reference projection was already added. The data has been left untouched.\n",
      "  epochs.set_eeg_reference(projection=True, verbose=verbose)#.apply_baseline(baseline=baseline)\n",
      "c:\\Users\\Lukas\\Documents\\projects\\esinet\\evaluate\\..\\esinet\\util\\util.py:420: RuntimeWarning: Too few samples (required : 310 got : 80), covariance estimate may be unreliable\n",
      "  data_cov = mne.compute_raw_covariance(raw, tmin=tmin,\n",
      "c:\\Users\\Lukas\\Documents\\projects\\esinet\\evaluate\\..\\esinet\\util\\util.py:388: RuntimeWarning: An average reference projection was already added. The data has been left untouched.\n",
      "  epochs.set_eeg_reference(projection=True, verbose=verbose)#.apply_baseline(baseline=baseline)\n",
      "c:\\Users\\Lukas\\Documents\\projects\\esinet\\evaluate\\..\\esinet\\util\\util.py:420: RuntimeWarning: Too few samples (required : 310 got : 120), covariance estimate may be unreliable\n",
      "  data_cov = mne.compute_raw_covariance(raw, tmin=tmin,\n",
      "c:\\Users\\Lukas\\Documents\\projects\\esinet\\evaluate\\..\\esinet\\util\\util.py:388: RuntimeWarning: An average reference projection was already added. The data has been left untouched.\n",
      "  epochs.set_eeg_reference(projection=True, verbose=verbose)#.apply_baseline(baseline=baseline)\n",
      "c:\\Users\\Lukas\\Documents\\projects\\esinet\\evaluate\\..\\esinet\\util\\util.py:420: RuntimeWarning: Too few samples (required : 310 got : 60), covariance estimate may be unreliable\n",
      "  data_cov = mne.compute_raw_covariance(raw, tmin=tmin,\n",
      "c:\\Users\\Lukas\\Documents\\projects\\esinet\\evaluate\\..\\esinet\\util\\util.py:388: RuntimeWarning: An average reference projection was already added. The data has been left untouched.\n",
      "  epochs.set_eeg_reference(projection=True, verbose=verbose)#.apply_baseline(baseline=baseline)\n"
     ]
    },
    {
     "name": "stdout",
     "output_type": "stream",
     "text": [
      "<RawArray | 61 x 497 (5.0 s), ~327 kB, data loaded> 4.0 info empirical\n",
      "<RawArray | 61 x 537 (5.4 s), ~346 kB, data loaded> 4.0 info empirical\n",
      "<RawArray | 61 x 475 (4.7 s), ~316 kB, data loaded> 4.0 info empirical\n",
      "<RawArray | 61 x 545 (5.4 s), ~350 kB, data loaded> 4.0 info empirical\n"
     ]
    },
    {
     "name": "stderr",
     "output_type": "stream",
     "text": [
      "c:\\Users\\Lukas\\Documents\\projects\\esinet\\evaluate\\..\\esinet\\util\\util.py:420: RuntimeWarning: Too few samples (required : 310 got : 140), covariance estimate may be unreliable\n",
      "  data_cov = mne.compute_raw_covariance(raw, tmin=tmin,\n",
      "c:\\Users\\Lukas\\Documents\\projects\\esinet\\evaluate\\..\\esinet\\util\\util.py:388: RuntimeWarning: An average reference projection was already added. The data has been left untouched.\n",
      "  epochs.set_eeg_reference(projection=True, verbose=verbose)#.apply_baseline(baseline=baseline)\n",
      "c:\\Users\\Lukas\\Documents\\projects\\esinet\\evaluate\\..\\esinet\\util\\util.py:420: RuntimeWarning: Too few samples (required : 310 got : 20), covariance estimate may be unreliable\n",
      "  data_cov = mne.compute_raw_covariance(raw, tmin=tmin,\n",
      "c:\\Users\\Lukas\\Documents\\projects\\esinet\\evaluate\\..\\esinet\\util\\util.py:388: RuntimeWarning: An average reference projection was already added. The data has been left untouched.\n",
      "  epochs.set_eeg_reference(projection=True, verbose=verbose)#.apply_baseline(baseline=baseline)\n",
      "c:\\Users\\Lukas\\Documents\\projects\\esinet\\evaluate\\..\\esinet\\util\\util.py:420: RuntimeWarning: Too few samples (required : 310 got : 60), covariance estimate may be unreliable\n",
      "  data_cov = mne.compute_raw_covariance(raw, tmin=tmin,\n",
      "c:\\Users\\Lukas\\Documents\\projects\\esinet\\evaluate\\..\\esinet\\util\\util.py:388: RuntimeWarning: An average reference projection was already added. The data has been left untouched.\n",
      "  epochs.set_eeg_reference(projection=True, verbose=verbose)#.apply_baseline(baseline=baseline)\n"
     ]
    },
    {
     "name": "stdout",
     "output_type": "stream",
     "text": [
      "<RawArray | 61 x 433 (4.3 s), ~296 kB, data loaded> 4.0 info empirical\n",
      "<RawArray | 61 x 465 (4.6 s), ~311 kB, data loaded> 4.0 info empirical\n",
      "<RawArray | 61 x 462 (4.6 s), ~310 kB, data loaded> 4.0 info empirical\n",
      "<RawArray | 61 x 577 (5.8 s), ~365 kB, data loaded> 4.0 info empirical\n"
     ]
    },
    {
     "name": "stderr",
     "output_type": "stream",
     "text": [
      "c:\\Users\\Lukas\\Documents\\projects\\esinet\\evaluate\\..\\esinet\\util\\util.py:420: RuntimeWarning: Too few samples (required : 310 got : 60), covariance estimate may be unreliable\n",
      "  data_cov = mne.compute_raw_covariance(raw, tmin=tmin,\n",
      "c:\\Users\\Lukas\\Documents\\projects\\esinet\\evaluate\\..\\esinet\\util\\util.py:388: RuntimeWarning: An average reference projection was already added. The data has been left untouched.\n",
      "  epochs.set_eeg_reference(projection=True, verbose=verbose)#.apply_baseline(baseline=baseline)\n",
      "c:\\Users\\Lukas\\Documents\\projects\\esinet\\evaluate\\..\\esinet\\util\\util.py:420: RuntimeWarning: Too few samples (required : 310 got : 160), covariance estimate may be unreliable\n",
      "  data_cov = mne.compute_raw_covariance(raw, tmin=tmin,\n",
      "c:\\Users\\Lukas\\Documents\\projects\\esinet\\evaluate\\..\\esinet\\util\\util.py:388: RuntimeWarning: An average reference projection was already added. The data has been left untouched.\n",
      "  epochs.set_eeg_reference(projection=True, verbose=verbose)#.apply_baseline(baseline=baseline)\n",
      "c:\\Users\\Lukas\\Documents\\projects\\esinet\\evaluate\\..\\esinet\\util\\util.py:420: RuntimeWarning: Too few samples (required : 310 got : 100), covariance estimate may be unreliable\n",
      "  data_cov = mne.compute_raw_covariance(raw, tmin=tmin,\n",
      "c:\\Users\\Lukas\\Documents\\projects\\esinet\\evaluate\\..\\esinet\\util\\util.py:388: RuntimeWarning: An average reference projection was already added. The data has been left untouched.\n",
      "  epochs.set_eeg_reference(projection=True, verbose=verbose)#.apply_baseline(baseline=baseline)\n",
      "c:\\Users\\Lukas\\Documents\\projects\\esinet\\evaluate\\..\\esinet\\util\\util.py:420: RuntimeWarning: Too few samples (required : 310 got : 160), covariance estimate may be unreliable\n",
      "  data_cov = mne.compute_raw_covariance(raw, tmin=tmin,\n",
      "c:\\Users\\Lukas\\Documents\\projects\\esinet\\evaluate\\..\\esinet\\util\\util.py:388: RuntimeWarning: An average reference projection was already added. The data has been left untouched.\n",
      "  epochs.set_eeg_reference(projection=True, verbose=verbose)#.apply_baseline(baseline=baseline)\n"
     ]
    },
    {
     "name": "stdout",
     "output_type": "stream",
     "text": [
      "<RawArray | 61 x 515 (5.1 s), ~335 kB, data loaded> 4.0 info empirical\n",
      "<RawArray | 61 x 563 (5.6 s), ~358 kB, data loaded> 4.0 info empirical\n",
      "<RawArray | 61 x 442 (4.4 s), ~300 kB, data loaded> 4.0 info empirical\n",
      "<RawArray | 61 x 473 (4.7 s), ~315 kB, data loaded> 4.0 info empirical\n"
     ]
    },
    {
     "name": "stderr",
     "output_type": "stream",
     "text": [
      "c:\\Users\\Lukas\\Documents\\projects\\esinet\\evaluate\\..\\esinet\\util\\util.py:420: RuntimeWarning: Too few samples (required : 310 got : 40), covariance estimate may be unreliable\n",
      "  data_cov = mne.compute_raw_covariance(raw, tmin=tmin,\n",
      "c:\\Users\\Lukas\\Documents\\projects\\esinet\\evaluate\\..\\esinet\\util\\util.py:388: RuntimeWarning: An average reference projection was already added. The data has been left untouched.\n",
      "  epochs.set_eeg_reference(projection=True, verbose=verbose)#.apply_baseline(baseline=baseline)\n",
      "c:\\Users\\Lukas\\Documents\\projects\\esinet\\evaluate\\..\\esinet\\util\\util.py:420: RuntimeWarning: Too few samples (required : 310 got : 60), covariance estimate may be unreliable\n",
      "  data_cov = mne.compute_raw_covariance(raw, tmin=tmin,\n",
      "c:\\Users\\Lukas\\Documents\\projects\\esinet\\evaluate\\..\\esinet\\util\\util.py:388: RuntimeWarning: An average reference projection was already added. The data has been left untouched.\n",
      "  epochs.set_eeg_reference(projection=True, verbose=verbose)#.apply_baseline(baseline=baseline)\n",
      "c:\\Users\\Lukas\\Documents\\projects\\esinet\\evaluate\\..\\esinet\\util\\util.py:420: RuntimeWarning: Too few samples (required : 310 got : 80), covariance estimate may be unreliable\n",
      "  data_cov = mne.compute_raw_covariance(raw, tmin=tmin,\n",
      "c:\\Users\\Lukas\\Documents\\projects\\esinet\\evaluate\\..\\esinet\\util\\util.py:388: RuntimeWarning: An average reference projection was already added. The data has been left untouched.\n",
      "  epochs.set_eeg_reference(projection=True, verbose=verbose)#.apply_baseline(baseline=baseline)\n",
      "c:\\Users\\Lukas\\Documents\\projects\\esinet\\evaluate\\..\\esinet\\util\\util.py:420: RuntimeWarning: Too few samples (required : 310 got : 140), covariance estimate may be unreliable\n",
      "  data_cov = mne.compute_raw_covariance(raw, tmin=tmin,\n",
      "c:\\Users\\Lukas\\Documents\\projects\\esinet\\evaluate\\..\\esinet\\util\\util.py:388: RuntimeWarning: An average reference projection was already added. The data has been left untouched.\n",
      "  epochs.set_eeg_reference(projection=True, verbose=verbose)#.apply_baseline(baseline=baseline)\n"
     ]
    },
    {
     "name": "stdout",
     "output_type": "stream",
     "text": [
      "<RawArray | 61 x 483 (4.8 s), ~320 kB, data loaded> 4.0 info empirical\n",
      "<RawArray | 61 x 545 (5.4 s), ~350 kB, data loaded> 4.0 info empirical\n",
      "<RawArray | 61 x 460 (4.6 s), ~309 kB, data loaded> 4.0 info empirical\n",
      "<RawArray | 61 x 422 (4.2 s), ~291 kB, data loaded> 4.0 info empirical\n"
     ]
    },
    {
     "name": "stderr",
     "output_type": "stream",
     "text": [
      "c:\\Users\\Lukas\\Documents\\projects\\esinet\\evaluate\\..\\esinet\\util\\util.py:420: RuntimeWarning: Too few samples (required : 310 got : 60), covariance estimate may be unreliable\n",
      "  data_cov = mne.compute_raw_covariance(raw, tmin=tmin,\n",
      "c:\\Users\\Lukas\\Documents\\projects\\esinet\\evaluate\\..\\esinet\\util\\util.py:388: RuntimeWarning: An average reference projection was already added. The data has been left untouched.\n",
      "  epochs.set_eeg_reference(projection=True, verbose=verbose)#.apply_baseline(baseline=baseline)\n",
      "c:\\Users\\Lukas\\Documents\\projects\\esinet\\evaluate\\..\\esinet\\util\\util.py:420: RuntimeWarning: Too few samples (required : 310 got : 20), covariance estimate may be unreliable\n",
      "  data_cov = mne.compute_raw_covariance(raw, tmin=tmin,\n",
      "c:\\Users\\Lukas\\Documents\\projects\\esinet\\evaluate\\..\\esinet\\util\\util.py:388: RuntimeWarning: An average reference projection was already added. The data has been left untouched.\n",
      "  epochs.set_eeg_reference(projection=True, verbose=verbose)#.apply_baseline(baseline=baseline)\n",
      "c:\\Users\\Lukas\\Documents\\projects\\esinet\\evaluate\\..\\esinet\\util\\util.py:420: RuntimeWarning: Too few samples (required : 310 got : 80), covariance estimate may be unreliable\n",
      "  data_cov = mne.compute_raw_covariance(raw, tmin=tmin,\n",
      "c:\\Users\\Lukas\\Documents\\projects\\esinet\\evaluate\\..\\esinet\\util\\util.py:388: RuntimeWarning: An average reference projection was already added. The data has been left untouched.\n",
      "  epochs.set_eeg_reference(projection=True, verbose=verbose)#.apply_baseline(baseline=baseline)\n",
      "c:\\Users\\Lukas\\Documents\\projects\\esinet\\evaluate\\..\\esinet\\util\\util.py:420: RuntimeWarning: Too few samples (required : 310 got : 60), covariance estimate may be unreliable\n",
      "  data_cov = mne.compute_raw_covariance(raw, tmin=tmin,\n"
     ]
    },
    {
     "name": "stdout",
     "output_type": "stream",
     "text": [
      "<RawArray | 61 x 498 (5.0 s), ~327 kB, data loaded> 4.0 info empirical\n",
      "<RawArray | 61 x 477 (4.8 s), ~317 kB, data loaded> 4.0 info empirical\n",
      "<RawArray | 61 x 403 (4.0 s), ~282 kB, data loaded> 4.0 info empirical\n",
      "<RawArray | 61 x 441 (4.4 s), ~300 kB, data loaded> 4.0 info empirical\n"
     ]
    },
    {
     "name": "stderr",
     "output_type": "stream",
     "text": [
      "c:\\Users\\Lukas\\Documents\\projects\\esinet\\evaluate\\..\\esinet\\util\\util.py:388: RuntimeWarning: An average reference projection was already added. The data has been left untouched.\n",
      "  epochs.set_eeg_reference(projection=True, verbose=verbose)#.apply_baseline(baseline=baseline)\n",
      "c:\\Users\\Lukas\\Documents\\projects\\esinet\\evaluate\\..\\esinet\\util\\util.py:423: RuntimeWarning: Epochs are not baseline corrected, covariance matrix may be inaccurate\n",
      "  data_cov = mne.compute_covariance(epochs, tmin=0.0,\n",
      "c:\\Users\\Lukas\\Documents\\projects\\esinet\\evaluate\\..\\esinet\\util\\util.py:423: RuntimeWarning: Too few samples (required : 310 got : 3), covariance estimate may be unreliable\n",
      "  data_cov = mne.compute_covariance(epochs, tmin=0.0,\n",
      "c:\\Users\\Lukas\\Documents\\projects\\esinet\\evaluate\\..\\esinet\\util\\util.py:388: RuntimeWarning: An average reference projection was already added. The data has been left untouched.\n",
      "  epochs.set_eeg_reference(projection=True, verbose=verbose)#.apply_baseline(baseline=baseline)\n",
      "c:\\Users\\Lukas\\Documents\\projects\\esinet\\evaluate\\..\\esinet\\util\\util.py:420: RuntimeWarning: Too few samples (required : 310 got : 40), covariance estimate may be unreliable\n",
      "  data_cov = mne.compute_raw_covariance(raw, tmin=tmin,\n",
      "c:\\Users\\Lukas\\Documents\\projects\\esinet\\evaluate\\..\\esinet\\util\\util.py:388: RuntimeWarning: An average reference projection was already added. The data has been left untouched.\n",
      "  epochs.set_eeg_reference(projection=True, verbose=verbose)#.apply_baseline(baseline=baseline)\n",
      "c:\\Users\\Lukas\\Documents\\projects\\esinet\\evaluate\\..\\esinet\\util\\util.py:420: RuntimeWarning: Too few samples (required : 310 got : 80), covariance estimate may be unreliable\n",
      "  data_cov = mne.compute_raw_covariance(raw, tmin=tmin,\n",
      "c:\\Users\\Lukas\\Documents\\projects\\esinet\\evaluate\\..\\esinet\\util\\util.py:388: RuntimeWarning: An average reference projection was already added. The data has been left untouched.\n",
      "  epochs.set_eeg_reference(projection=True, verbose=verbose)#.apply_baseline(baseline=baseline)\n",
      "c:\\Users\\Lukas\\Documents\\projects\\esinet\\evaluate\\..\\esinet\\util\\util.py:420: RuntimeWarning: Too few samples (required : 310 got : 60), covariance estimate may be unreliable\n",
      "  data_cov = mne.compute_raw_covariance(raw, tmin=tmin,\n"
     ]
    },
    {
     "name": "stdout",
     "output_type": "stream",
     "text": [
      "<RawArray | 61 x 496 (5.0 s), ~326 kB, data loaded> 4.0 info empirical\n",
      "<RawArray | 61 x 470 (4.7 s), ~314 kB, data loaded> 4.0 info empirical\n",
      "<RawArray | 61 x 443 (4.4 s), ~301 kB, data loaded> 4.0 info empirical\n",
      "<RawArray | 61 x 499 (5.0 s), ~328 kB, data loaded> 4.0 info empirical\n"
     ]
    },
    {
     "name": "stderr",
     "output_type": "stream",
     "text": [
      "c:\\Users\\Lukas\\Documents\\projects\\esinet\\evaluate\\..\\esinet\\util\\util.py:388: RuntimeWarning: An average reference projection was already added. The data has been left untouched.\n",
      "  epochs.set_eeg_reference(projection=True, verbose=verbose)#.apply_baseline(baseline=baseline)\n",
      "c:\\Users\\Lukas\\Documents\\projects\\esinet\\evaluate\\..\\esinet\\util\\util.py:420: RuntimeWarning: Too few samples (required : 310 got : 40), covariance estimate may be unreliable\n",
      "  data_cov = mne.compute_raw_covariance(raw, tmin=tmin,\n",
      "c:\\Users\\Lukas\\Documents\\projects\\esinet\\evaluate\\..\\esinet\\util\\util.py:388: RuntimeWarning: An average reference projection was already added. The data has been left untouched.\n",
      "  epochs.set_eeg_reference(projection=True, verbose=verbose)#.apply_baseline(baseline=baseline)\n",
      "c:\\Users\\Lukas\\Documents\\projects\\esinet\\evaluate\\..\\esinet\\util\\util.py:420: RuntimeWarning: Too few samples (required : 310 got : 80), covariance estimate may be unreliable\n",
      "  data_cov = mne.compute_raw_covariance(raw, tmin=tmin,\n",
      "c:\\Users\\Lukas\\Documents\\projects\\esinet\\evaluate\\..\\esinet\\util\\util.py:388: RuntimeWarning: An average reference projection was already added. The data has been left untouched.\n",
      "  epochs.set_eeg_reference(projection=True, verbose=verbose)#.apply_baseline(baseline=baseline)\n",
      "c:\\Users\\Lukas\\Documents\\projects\\esinet\\evaluate\\..\\esinet\\util\\util.py:420: RuntimeWarning: Too few samples (required : 310 got : 40), covariance estimate may be unreliable\n",
      "  data_cov = mne.compute_raw_covariance(raw, tmin=tmin,\n",
      "c:\\Users\\Lukas\\Documents\\projects\\esinet\\evaluate\\..\\esinet\\util\\util.py:388: RuntimeWarning: An average reference projection was already added. The data has been left untouched.\n",
      "  epochs.set_eeg_reference(projection=True, verbose=verbose)#.apply_baseline(baseline=baseline)\n",
      "c:\\Users\\Lukas\\Documents\\projects\\esinet\\evaluate\\..\\esinet\\util\\util.py:423: RuntimeWarning: Epochs are not baseline corrected, covariance matrix may be inaccurate\n",
      "  data_cov = mne.compute_covariance(epochs, tmin=0.0,\n",
      "c:\\Users\\Lukas\\Documents\\projects\\esinet\\evaluate\\..\\esinet\\util\\util.py:423: RuntimeWarning: Too few samples (required : 310 got : 10), covariance estimate may be unreliable\n",
      "  data_cov = mne.compute_covariance(epochs, tmin=0.0,\n"
     ]
    },
    {
     "name": "stdout",
     "output_type": "stream",
     "text": [
      "<RawArray | 61 x 442 (4.4 s), ~300 kB, data loaded> 4.0 info empirical\n",
      "<RawArray | 61 x 410 (4.1 s), ~285 kB, data loaded> 4.0 info empirical\n",
      "<RawArray | 61 x 591 (5.9 s), ~371 kB, data loaded> 4.0 info empirical\n",
      "<RawArray | 61 x 496 (5.0 s), ~326 kB, data loaded> 4.0 info empirical\n"
     ]
    },
    {
     "name": "stderr",
     "output_type": "stream",
     "text": [
      "c:\\Users\\Lukas\\Documents\\projects\\esinet\\evaluate\\..\\esinet\\util\\util.py:388: RuntimeWarning: An average reference projection was already added. The data has been left untouched.\n",
      "  epochs.set_eeg_reference(projection=True, verbose=verbose)#.apply_baseline(baseline=baseline)\n",
      "c:\\Users\\Lukas\\Documents\\projects\\esinet\\evaluate\\..\\esinet\\util\\util.py:420: RuntimeWarning: Too few samples (required : 310 got : 180), covariance estimate may be unreliable\n",
      "  data_cov = mne.compute_raw_covariance(raw, tmin=tmin,\n",
      "c:\\Users\\Lukas\\Documents\\projects\\esinet\\evaluate\\..\\esinet\\util\\util.py:388: RuntimeWarning: An average reference projection was already added. The data has been left untouched.\n",
      "  epochs.set_eeg_reference(projection=True, verbose=verbose)#.apply_baseline(baseline=baseline)\n",
      "c:\\Users\\Lukas\\Documents\\projects\\esinet\\evaluate\\..\\esinet\\util\\util.py:420: RuntimeWarning: Too few samples (required : 310 got : 80), covariance estimate may be unreliable\n",
      "  data_cov = mne.compute_raw_covariance(raw, tmin=tmin,\n",
      "c:\\Users\\Lukas\\Documents\\projects\\esinet\\evaluate\\..\\esinet\\util\\util.py:388: RuntimeWarning: An average reference projection was already added. The data has been left untouched.\n",
      "  epochs.set_eeg_reference(projection=True, verbose=verbose)#.apply_baseline(baseline=baseline)\n",
      "c:\\Users\\Lukas\\Documents\\projects\\esinet\\evaluate\\..\\esinet\\util\\util.py:420: RuntimeWarning: Too few samples (required : 310 got : 160), covariance estimate may be unreliable\n",
      "  data_cov = mne.compute_raw_covariance(raw, tmin=tmin,\n",
      "c:\\Users\\Lukas\\Documents\\projects\\esinet\\evaluate\\..\\esinet\\util\\util.py:388: RuntimeWarning: An average reference projection was already added. The data has been left untouched.\n",
      "  epochs.set_eeg_reference(projection=True, verbose=verbose)#.apply_baseline(baseline=baseline)\n",
      "c:\\Users\\Lukas\\Documents\\projects\\esinet\\evaluate\\..\\esinet\\util\\util.py:420: RuntimeWarning: Too few samples (required : 310 got : 100), covariance estimate may be unreliable\n",
      "  data_cov = mne.compute_raw_covariance(raw, tmin=tmin,\n",
      "c:\\Users\\Lukas\\Documents\\projects\\esinet\\evaluate\\..\\esinet\\util\\util.py:388: RuntimeWarning: An average reference projection was already added. The data has been left untouched.\n",
      "  epochs.set_eeg_reference(projection=True, verbose=verbose)#.apply_baseline(baseline=baseline)\n"
     ]
    },
    {
     "name": "stdout",
     "output_type": "stream",
     "text": [
      "<RawArray | 61 x 579 (5.8 s), ~366 kB, data loaded> 4.0 info empirical\n",
      "<RawArray | 61 x 501 (5.0 s), ~329 kB, data loaded> 4.0 info empirical\n",
      "<RawArray | 61 x 492 (4.9 s), ~324 kB, data loaded> 4.0 info empirical\n",
      "<RawArray | 61 x 506 (5.0 s), ~331 kB, data loaded> 4.0 info empirical\n"
     ]
    },
    {
     "name": "stderr",
     "output_type": "stream",
     "text": [
      "c:\\Users\\Lukas\\Documents\\projects\\esinet\\evaluate\\..\\esinet\\util\\util.py:420: RuntimeWarning: Too few samples (required : 310 got : 80), covariance estimate may be unreliable\n",
      "  data_cov = mne.compute_raw_covariance(raw, tmin=tmin,\n",
      "c:\\Users\\Lukas\\Documents\\projects\\esinet\\evaluate\\..\\esinet\\util\\util.py:388: RuntimeWarning: An average reference projection was already added. The data has been left untouched.\n",
      "  epochs.set_eeg_reference(projection=True, verbose=verbose)#.apply_baseline(baseline=baseline)\n",
      "c:\\Users\\Lukas\\Documents\\projects\\esinet\\evaluate\\..\\esinet\\util\\util.py:420: RuntimeWarning: Too few samples (required : 310 got : 100), covariance estimate may be unreliable\n",
      "  data_cov = mne.compute_raw_covariance(raw, tmin=tmin,\n",
      "c:\\Users\\Lukas\\Documents\\projects\\esinet\\evaluate\\..\\esinet\\util\\util.py:388: RuntimeWarning: An average reference projection was already added. The data has been left untouched.\n",
      "  epochs.set_eeg_reference(projection=True, verbose=verbose)#.apply_baseline(baseline=baseline)\n",
      "c:\\Users\\Lukas\\Documents\\projects\\esinet\\evaluate\\..\\esinet\\util\\util.py:420: RuntimeWarning: Too few samples (required : 310 got : 60), covariance estimate may be unreliable\n",
      "  data_cov = mne.compute_raw_covariance(raw, tmin=tmin,\n",
      "c:\\Users\\Lukas\\Documents\\projects\\esinet\\evaluate\\..\\esinet\\util\\util.py:388: RuntimeWarning: An average reference projection was already added. The data has been left untouched.\n",
      "  epochs.set_eeg_reference(projection=True, verbose=verbose)#.apply_baseline(baseline=baseline)\n",
      "c:\\Users\\Lukas\\Documents\\projects\\esinet\\evaluate\\..\\esinet\\util\\util.py:420: RuntimeWarning: Too few samples (required : 310 got : 80), covariance estimate may be unreliable\n",
      "  data_cov = mne.compute_raw_covariance(raw, tmin=tmin,\n",
      "c:\\Users\\Lukas\\Documents\\projects\\esinet\\evaluate\\..\\esinet\\util\\util.py:388: RuntimeWarning: An average reference projection was already added. The data has been left untouched.\n",
      "  epochs.set_eeg_reference(projection=True, verbose=verbose)#.apply_baseline(baseline=baseline)\n"
     ]
    },
    {
     "name": "stdout",
     "output_type": "stream",
     "text": [
      "<RawArray | 61 x 477 (4.8 s), ~317 kB, data loaded> 4.0 info empirical\n",
      "<RawArray | 61 x 496 (5.0 s), ~326 kB, data loaded> 4.0 info empirical\n",
      "<RawArray | 61 x 443 (4.4 s), ~301 kB, data loaded> 4.0 info empirical\n",
      "<RawArray | 61 x 477 (4.8 s), ~317 kB, data loaded> 4.0 info empirical\n"
     ]
    },
    {
     "name": "stderr",
     "output_type": "stream",
     "text": [
      "c:\\Users\\Lukas\\Documents\\projects\\esinet\\evaluate\\..\\esinet\\util\\util.py:420: RuntimeWarning: Too few samples (required : 310 got : 40), covariance estimate may be unreliable\n",
      "  data_cov = mne.compute_raw_covariance(raw, tmin=tmin,\n",
      "c:\\Users\\Lukas\\Documents\\projects\\esinet\\evaluate\\..\\esinet\\util\\util.py:388: RuntimeWarning: An average reference projection was already added. The data has been left untouched.\n",
      "  epochs.set_eeg_reference(projection=True, verbose=verbose)#.apply_baseline(baseline=baseline)\n",
      "c:\\Users\\Lukas\\Documents\\projects\\esinet\\evaluate\\..\\esinet\\util\\util.py:420: RuntimeWarning: Too few samples (required : 310 got : 60), covariance estimate may be unreliable\n",
      "  data_cov = mne.compute_raw_covariance(raw, tmin=tmin,\n",
      "c:\\Users\\Lukas\\Documents\\projects\\esinet\\evaluate\\..\\esinet\\util\\util.py:388: RuntimeWarning: An average reference projection was already added. The data has been left untouched.\n",
      "  epochs.set_eeg_reference(projection=True, verbose=verbose)#.apply_baseline(baseline=baseline)\n",
      "c:\\Users\\Lukas\\Documents\\projects\\esinet\\evaluate\\..\\esinet\\util\\util.py:423: RuntimeWarning: Epochs are not baseline corrected, covariance matrix may be inaccurate\n",
      "  data_cov = mne.compute_covariance(epochs, tmin=0.0,\n",
      "c:\\Users\\Lukas\\Documents\\projects\\esinet\\evaluate\\..\\esinet\\util\\util.py:423: RuntimeWarning: Too few samples (required : 310 got : 5), covariance estimate may be unreliable\n",
      "  data_cov = mne.compute_covariance(epochs, tmin=0.0,\n",
      "c:\\Users\\Lukas\\Documents\\projects\\esinet\\evaluate\\..\\esinet\\util\\util.py:388: RuntimeWarning: An average reference projection was already added. The data has been left untouched.\n",
      "  epochs.set_eeg_reference(projection=True, verbose=verbose)#.apply_baseline(baseline=baseline)\n",
      "c:\\Users\\Lukas\\Documents\\projects\\esinet\\evaluate\\..\\esinet\\util\\util.py:420: RuntimeWarning: Too few samples (required : 310 got : 40), covariance estimate may be unreliable\n",
      "  data_cov = mne.compute_raw_covariance(raw, tmin=tmin,\n",
      "c:\\Users\\Lukas\\Documents\\projects\\esinet\\evaluate\\..\\esinet\\util\\util.py:388: RuntimeWarning: An average reference projection was already added. The data has been left untouched.\n",
      "  epochs.set_eeg_reference(projection=True, verbose=verbose)#.apply_baseline(baseline=baseline)\n"
     ]
    },
    {
     "name": "stdout",
     "output_type": "stream",
     "text": [
      "<RawArray | 61 x 405 (4.0 s), ~283 kB, data loaded> 4.0 info empirical\n",
      "<RawArray | 61 x 444 (4.4 s), ~301 kB, data loaded> 4.0 info empirical\n",
      "<RawArray | 61 x 419 (4.2 s), ~289 kB, data loaded> 4.0 info empirical\n",
      "<RawArray | 61 x 597 (6.0 s), ~374 kB, data loaded> 4.0 info empirical\n"
     ]
    },
    {
     "name": "stderr",
     "output_type": "stream",
     "text": [
      "c:\\Users\\Lukas\\Documents\\projects\\esinet\\evaluate\\..\\esinet\\util\\util.py:423: RuntimeWarning: Epochs are not baseline corrected, covariance matrix may be inaccurate\n",
      "  data_cov = mne.compute_covariance(epochs, tmin=0.0,\n",
      "c:\\Users\\Lukas\\Documents\\projects\\esinet\\evaluate\\..\\esinet\\util\\util.py:423: RuntimeWarning: Too few samples (required : 310 got : 19), covariance estimate may be unreliable\n",
      "  data_cov = mne.compute_covariance(epochs, tmin=0.0,\n",
      "c:\\Users\\Lukas\\Documents\\projects\\esinet\\evaluate\\..\\esinet\\util\\util.py:388: RuntimeWarning: An average reference projection was already added. The data has been left untouched.\n",
      "  epochs.set_eeg_reference(projection=True, verbose=verbose)#.apply_baseline(baseline=baseline)\n",
      "c:\\Users\\Lukas\\Documents\\projects\\esinet\\evaluate\\..\\esinet\\util\\util.py:420: RuntimeWarning: Too few samples (required : 310 got : 180), covariance estimate may be unreliable\n",
      "  data_cov = mne.compute_raw_covariance(raw, tmin=tmin,\n",
      "c:\\Users\\Lukas\\Documents\\projects\\esinet\\evaluate\\..\\esinet\\util\\util.py:388: RuntimeWarning: An average reference projection was already added. The data has been left untouched.\n",
      "  epochs.set_eeg_reference(projection=True, verbose=verbose)#.apply_baseline(baseline=baseline)\n",
      "c:\\Users\\Lukas\\Documents\\projects\\esinet\\evaluate\\..\\esinet\\util\\util.py:420: RuntimeWarning: Too few samples (required : 310 got : 60), covariance estimate may be unreliable\n",
      "  data_cov = mne.compute_raw_covariance(raw, tmin=tmin,\n",
      "c:\\Users\\Lukas\\Documents\\projects\\esinet\\evaluate\\..\\esinet\\util\\util.py:388: RuntimeWarning: An average reference projection was already added. The data has been left untouched.\n",
      "  epochs.set_eeg_reference(projection=True, verbose=verbose)#.apply_baseline(baseline=baseline)\n",
      "c:\\Users\\Lukas\\Documents\\projects\\esinet\\evaluate\\..\\esinet\\util\\util.py:420: RuntimeWarning: Too few samples (required : 310 got : 60), covariance estimate may be unreliable\n",
      "  data_cov = mne.compute_raw_covariance(raw, tmin=tmin,\n",
      "c:\\Users\\Lukas\\Documents\\projects\\esinet\\evaluate\\..\\esinet\\util\\util.py:388: RuntimeWarning: An average reference projection was already added. The data has been left untouched.\n",
      "  epochs.set_eeg_reference(projection=True, verbose=verbose)#.apply_baseline(baseline=baseline)\n"
     ]
    },
    {
     "name": "stdout",
     "output_type": "stream",
     "text": [
      "<RawArray | 61 x 460 (4.6 s), ~309 kB, data loaded> 4.0 info empirical\n",
      "<RawArray | 61 x 465 (4.6 s), ~311 kB, data loaded> 4.0 info empirical\n",
      "<RawArray | 61 x 543 (5.4 s), ~349 kB, data loaded> 4.0 info empirical\n",
      "<RawArray | 61 x 570 (5.7 s), ~361 kB, data loaded> 4.0 info empirical\n"
     ]
    },
    {
     "name": "stderr",
     "output_type": "stream",
     "text": [
      "c:\\Users\\Lukas\\Documents\\projects\\esinet\\evaluate\\..\\esinet\\util\\util.py:420: RuntimeWarning: Too few samples (required : 310 got : 140), covariance estimate may be unreliable\n",
      "  data_cov = mne.compute_raw_covariance(raw, tmin=tmin,\n",
      "c:\\Users\\Lukas\\Documents\\projects\\esinet\\evaluate\\..\\esinet\\util\\util.py:388: RuntimeWarning: An average reference projection was already added. The data has been left untouched.\n",
      "  epochs.set_eeg_reference(projection=True, verbose=verbose)#.apply_baseline(baseline=baseline)\n",
      "c:\\Users\\Lukas\\Documents\\projects\\esinet\\evaluate\\..\\esinet\\util\\util.py:420: RuntimeWarning: Too few samples (required : 310 got : 160), covariance estimate may be unreliable\n",
      "  data_cov = mne.compute_raw_covariance(raw, tmin=tmin,\n",
      "c:\\Users\\Lukas\\Documents\\projects\\esinet\\evaluate\\..\\esinet\\util\\util.py:388: RuntimeWarning: An average reference projection was already added. The data has been left untouched.\n",
      "  epochs.set_eeg_reference(projection=True, verbose=verbose)#.apply_baseline(baseline=baseline)\n",
      "c:\\Users\\Lukas\\Documents\\projects\\esinet\\evaluate\\..\\esinet\\util\\util.py:420: RuntimeWarning: Too few samples (required : 310 got : 180), covariance estimate may be unreliable\n",
      "  data_cov = mne.compute_raw_covariance(raw, tmin=tmin,\n",
      "c:\\Users\\Lukas\\Documents\\projects\\esinet\\evaluate\\..\\esinet\\util\\util.py:388: RuntimeWarning: An average reference projection was already added. The data has been left untouched.\n",
      "  epochs.set_eeg_reference(projection=True, verbose=verbose)#.apply_baseline(baseline=baseline)\n",
      "c:\\Users\\Lukas\\Documents\\projects\\esinet\\evaluate\\..\\esinet\\util\\util.py:423: RuntimeWarning: Epochs are not baseline corrected, covariance matrix may be inaccurate\n",
      "  data_cov = mne.compute_covariance(epochs, tmin=0.0,\n",
      "c:\\Users\\Lukas\\Documents\\projects\\esinet\\evaluate\\..\\esinet\\util\\util.py:423: RuntimeWarning: Too few samples (required : 310 got : 1), covariance estimate may be unreliable\n",
      "  data_cov = mne.compute_covariance(epochs, tmin=0.0,\n",
      "C:\\Users\\Lukas\\Envs\\esienv\\lib\\site-packages\\mne\\fixes.py:550: UserWarning: Only one sample available. You may want to reshape your data array\n",
      "  warnings.warn(\"Only one sample available. \"\n"
     ]
    },
    {
     "name": "stdout",
     "output_type": "stream",
     "text": [
      "<RawArray | 61 x 581 (5.8 s), ~367 kB, data loaded> 4.0 info empirical\n",
      "<RawArray | 61 x 401 (4.0 s), ~281 kB, data loaded> 4.0 info empirical\n",
      "lcmv didnt work, returning zeros\n",
      "<RawArray | 61 x 524 (5.2 s), ~340 kB, data loaded> 4.0 info empirical\n",
      "<RawArray | 61 x 518 (5.2 s), ~337 kB, data loaded> 4.0 info empirical\n",
      "<RawArray | 61 x 487 (4.9 s), ~322 kB, data loaded> 4.0 info empirical\n"
     ]
    },
    {
     "name": "stderr",
     "output_type": "stream",
     "text": [
      "c:\\Users\\Lukas\\Documents\\projects\\esinet\\evaluate\\..\\esinet\\util\\util.py:388: RuntimeWarning: An average reference projection was already added. The data has been left untouched.\n",
      "  epochs.set_eeg_reference(projection=True, verbose=verbose)#.apply_baseline(baseline=baseline)\n",
      "c:\\Users\\Lukas\\Documents\\projects\\esinet\\evaluate\\..\\esinet\\util\\util.py:420: RuntimeWarning: Too few samples (required : 310 got : 120), covariance estimate may be unreliable\n",
      "  data_cov = mne.compute_raw_covariance(raw, tmin=tmin,\n",
      "c:\\Users\\Lukas\\Documents\\projects\\esinet\\evaluate\\..\\esinet\\util\\util.py:388: RuntimeWarning: An average reference projection was already added. The data has been left untouched.\n",
      "  epochs.set_eeg_reference(projection=True, verbose=verbose)#.apply_baseline(baseline=baseline)\n",
      "c:\\Users\\Lukas\\Documents\\projects\\esinet\\evaluate\\..\\esinet\\util\\util.py:420: RuntimeWarning: Too few samples (required : 310 got : 100), covariance estimate may be unreliable\n",
      "  data_cov = mne.compute_raw_covariance(raw, tmin=tmin,\n",
      "c:\\Users\\Lukas\\Documents\\projects\\esinet\\evaluate\\..\\esinet\\util\\util.py:388: RuntimeWarning: An average reference projection was already added. The data has been left untouched.\n",
      "  epochs.set_eeg_reference(projection=True, verbose=verbose)#.apply_baseline(baseline=baseline)\n",
      "c:\\Users\\Lukas\\Documents\\projects\\esinet\\evaluate\\..\\esinet\\util\\util.py:420: RuntimeWarning: Too few samples (required : 310 got : 80), covariance estimate may be unreliable\n",
      "  data_cov = mne.compute_raw_covariance(raw, tmin=tmin,\n",
      "c:\\Users\\Lukas\\Documents\\projects\\esinet\\evaluate\\..\\esinet\\util\\util.py:388: RuntimeWarning: An average reference projection was already added. The data has been left untouched.\n",
      "  epochs.set_eeg_reference(projection=True, verbose=verbose)#.apply_baseline(baseline=baseline)\n",
      "c:\\Users\\Lukas\\Documents\\projects\\esinet\\evaluate\\..\\esinet\\util\\util.py:420: RuntimeWarning: Too few samples (required : 310 got : 140), covariance estimate may be unreliable\n",
      "  data_cov = mne.compute_raw_covariance(raw, tmin=tmin,\n",
      "c:\\Users\\Lukas\\Documents\\projects\\esinet\\evaluate\\..\\esinet\\util\\util.py:388: RuntimeWarning: An average reference projection was already added. The data has been left untouched.\n",
      "  epochs.set_eeg_reference(projection=True, verbose=verbose)#.apply_baseline(baseline=baseline)\n"
     ]
    },
    {
     "name": "stdout",
     "output_type": "stream",
     "text": [
      "<RawArray | 61 x 556 (5.5 s), ~355 kB, data loaded> 4.0 info empirical\n",
      "<RawArray | 61 x 461 (4.6 s), ~310 kB, data loaded> 4.0 info empirical\n",
      "<RawArray | 61 x 415 (4.1 s), ~288 kB, data loaded> 4.0 info empirical\n",
      "<RawArray | 61 x 477 (4.8 s), ~317 kB, data loaded> 4.0 info empirical\n"
     ]
    },
    {
     "name": "stderr",
     "output_type": "stream",
     "text": [
      "c:\\Users\\Lukas\\Documents\\projects\\esinet\\evaluate\\..\\esinet\\util\\util.py:420: RuntimeWarning: Too few samples (required : 310 got : 60), covariance estimate may be unreliable\n",
      "  data_cov = mne.compute_raw_covariance(raw, tmin=tmin,\n",
      "c:\\Users\\Lukas\\Documents\\projects\\esinet\\evaluate\\..\\esinet\\util\\util.py:388: RuntimeWarning: An average reference projection was already added. The data has been left untouched.\n",
      "  epochs.set_eeg_reference(projection=True, verbose=verbose)#.apply_baseline(baseline=baseline)\n",
      "c:\\Users\\Lukas\\Documents\\projects\\esinet\\evaluate\\..\\esinet\\util\\util.py:423: RuntimeWarning: Epochs are not baseline corrected, covariance matrix may be inaccurate\n",
      "  data_cov = mne.compute_covariance(epochs, tmin=0.0,\n",
      "c:\\Users\\Lukas\\Documents\\projects\\esinet\\evaluate\\..\\esinet\\util\\util.py:423: RuntimeWarning: Too few samples (required : 310 got : 15), covariance estimate may be unreliable\n",
      "  data_cov = mne.compute_covariance(epochs, tmin=0.0,\n",
      "c:\\Users\\Lukas\\Documents\\projects\\esinet\\evaluate\\..\\esinet\\util\\util.py:388: RuntimeWarning: An average reference projection was already added. The data has been left untouched.\n",
      "  epochs.set_eeg_reference(projection=True, verbose=verbose)#.apply_baseline(baseline=baseline)\n",
      "c:\\Users\\Lukas\\Documents\\projects\\esinet\\evaluate\\..\\esinet\\util\\util.py:420: RuntimeWarning: Too few samples (required : 310 got : 60), covariance estimate may be unreliable\n",
      "  data_cov = mne.compute_raw_covariance(raw, tmin=tmin,\n",
      "c:\\Users\\Lukas\\Documents\\projects\\esinet\\evaluate\\..\\esinet\\util\\util.py:388: RuntimeWarning: An average reference projection was already added. The data has been left untouched.\n",
      "  epochs.set_eeg_reference(projection=True, verbose=verbose)#.apply_baseline(baseline=baseline)\n",
      "c:\\Users\\Lukas\\Documents\\projects\\esinet\\evaluate\\..\\esinet\\util\\util.py:420: RuntimeWarning: Too few samples (required : 310 got : 180), covariance estimate may be unreliable\n",
      "  data_cov = mne.compute_raw_covariance(raw, tmin=tmin,\n",
      "c:\\Users\\Lukas\\Documents\\projects\\esinet\\evaluate\\..\\esinet\\util\\util.py:388: RuntimeWarning: An average reference projection was already added. The data has been left untouched.\n",
      "  epochs.set_eeg_reference(projection=True, verbose=verbose)#.apply_baseline(baseline=baseline)\n"
     ]
    },
    {
     "name": "stdout",
     "output_type": "stream",
     "text": [
      "<RawArray | 61 x 588 (5.9 s), ~370 kB, data loaded> 4.0 info empirical\n",
      "<RawArray | 61 x 572 (5.7 s), ~362 kB, data loaded> 4.0 info empirical\n",
      "<RawArray | 61 x 527 (5.3 s), ~341 kB, data loaded> 4.0 info empirical\n",
      "<RawArray | 61 x 425 (4.2 s), ~292 kB, data loaded> 4.0 info empirical\n"
     ]
    },
    {
     "name": "stderr",
     "output_type": "stream",
     "text": [
      "c:\\Users\\Lukas\\Documents\\projects\\esinet\\evaluate\\..\\esinet\\util\\util.py:420: RuntimeWarning: Too few samples (required : 310 got : 160), covariance estimate may be unreliable\n",
      "  data_cov = mne.compute_raw_covariance(raw, tmin=tmin,\n",
      "c:\\Users\\Lukas\\Documents\\projects\\esinet\\evaluate\\..\\esinet\\util\\util.py:388: RuntimeWarning: An average reference projection was already added. The data has been left untouched.\n",
      "  epochs.set_eeg_reference(projection=True, verbose=verbose)#.apply_baseline(baseline=baseline)\n",
      "c:\\Users\\Lukas\\Documents\\projects\\esinet\\evaluate\\..\\esinet\\util\\util.py:420: RuntimeWarning: Too few samples (required : 310 got : 120), covariance estimate may be unreliable\n",
      "  data_cov = mne.compute_raw_covariance(raw, tmin=tmin,\n",
      "c:\\Users\\Lukas\\Documents\\projects\\esinet\\evaluate\\..\\esinet\\util\\util.py:388: RuntimeWarning: An average reference projection was already added. The data has been left untouched.\n",
      "  epochs.set_eeg_reference(projection=True, verbose=verbose)#.apply_baseline(baseline=baseline)\n",
      "c:\\Users\\Lukas\\Documents\\projects\\esinet\\evaluate\\..\\esinet\\util\\util.py:420: RuntimeWarning: Too few samples (required : 310 got : 20), covariance estimate may be unreliable\n",
      "  data_cov = mne.compute_raw_covariance(raw, tmin=tmin,\n",
      "c:\\Users\\Lukas\\Documents\\projects\\esinet\\evaluate\\..\\esinet\\util\\util.py:388: RuntimeWarning: An average reference projection was already added. The data has been left untouched.\n",
      "  epochs.set_eeg_reference(projection=True, verbose=verbose)#.apply_baseline(baseline=baseline)\n",
      "c:\\Users\\Lukas\\Documents\\projects\\esinet\\evaluate\\..\\esinet\\util\\util.py:420: RuntimeWarning: Too few samples (required : 310 got : 140), covariance estimate may be unreliable\n",
      "  data_cov = mne.compute_raw_covariance(raw, tmin=tmin,\n",
      "c:\\Users\\Lukas\\Documents\\projects\\esinet\\evaluate\\..\\esinet\\util\\util.py:388: RuntimeWarning: An average reference projection was already added. The data has been left untouched.\n",
      "  epochs.set_eeg_reference(projection=True, verbose=verbose)#.apply_baseline(baseline=baseline)\n"
     ]
    },
    {
     "name": "stdout",
     "output_type": "stream",
     "text": [
      "<RawArray | 61 x 540 (5.4 s), ~347 kB, data loaded> 4.0 info empirical\n",
      "<RawArray | 61 x 595 (5.9 s), ~373 kB, data loaded> 4.0 info empirical\n",
      "<RawArray | 61 x 474 (4.7 s), ~316 kB, data loaded> 4.0 info empirical\n",
      "<RawArray | 61 x 532 (5.3 s), ~343 kB, data loaded> 4.0 info empirical\n"
     ]
    },
    {
     "name": "stderr",
     "output_type": "stream",
     "text": [
      "c:\\Users\\Lukas\\Documents\\projects\\esinet\\evaluate\\..\\esinet\\util\\util.py:420: RuntimeWarning: Too few samples (required : 310 got : 180), covariance estimate may be unreliable\n",
      "  data_cov = mne.compute_raw_covariance(raw, tmin=tmin,\n",
      "c:\\Users\\Lukas\\Documents\\projects\\esinet\\evaluate\\..\\esinet\\util\\util.py:388: RuntimeWarning: An average reference projection was already added. The data has been left untouched.\n",
      "  epochs.set_eeg_reference(projection=True, verbose=verbose)#.apply_baseline(baseline=baseline)\n",
      "c:\\Users\\Lukas\\Documents\\projects\\esinet\\evaluate\\..\\esinet\\util\\util.py:420: RuntimeWarning: Too few samples (required : 310 got : 60), covariance estimate may be unreliable\n",
      "  data_cov = mne.compute_raw_covariance(raw, tmin=tmin,\n",
      "c:\\Users\\Lukas\\Documents\\projects\\esinet\\evaluate\\..\\esinet\\util\\util.py:388: RuntimeWarning: An average reference projection was already added. The data has been left untouched.\n",
      "  epochs.set_eeg_reference(projection=True, verbose=verbose)#.apply_baseline(baseline=baseline)\n",
      "c:\\Users\\Lukas\\Documents\\projects\\esinet\\evaluate\\..\\esinet\\util\\util.py:420: RuntimeWarning: Too few samples (required : 310 got : 120), covariance estimate may be unreliable\n",
      "  data_cov = mne.compute_raw_covariance(raw, tmin=tmin,\n",
      "c:\\Users\\Lukas\\Documents\\projects\\esinet\\evaluate\\..\\esinet\\util\\util.py:388: RuntimeWarning: An average reference projection was already added. The data has been left untouched.\n",
      "  epochs.set_eeg_reference(projection=True, verbose=verbose)#.apply_baseline(baseline=baseline)\n",
      "c:\\Users\\Lukas\\Documents\\projects\\esinet\\evaluate\\..\\esinet\\util\\util.py:420: RuntimeWarning: Too few samples (required : 310 got : 60), covariance estimate may be unreliable\n",
      "  data_cov = mne.compute_raw_covariance(raw, tmin=tmin,\n"
     ]
    },
    {
     "name": "stdout",
     "output_type": "stream",
     "text": [
      "<RawArray | 61 x 461 (4.6 s), ~310 kB, data loaded> 4.0 info empirical\n",
      "<RawArray | 61 x 486 (4.8 s), ~321 kB, data loaded> 4.0 info empirical\n",
      "<RawArray | 61 x 541 (5.4 s), ~348 kB, data loaded> 4.0 info empirical\n",
      "<RawArray | 61 x 587 (5.9 s), ~370 kB, data loaded> 4.0 info empirical\n"
     ]
    },
    {
     "name": "stderr",
     "output_type": "stream",
     "text": [
      "c:\\Users\\Lukas\\Documents\\projects\\esinet\\evaluate\\..\\esinet\\util\\util.py:388: RuntimeWarning: An average reference projection was already added. The data has been left untouched.\n",
      "  epochs.set_eeg_reference(projection=True, verbose=verbose)#.apply_baseline(baseline=baseline)\n",
      "c:\\Users\\Lukas\\Documents\\projects\\esinet\\evaluate\\..\\esinet\\util\\util.py:420: RuntimeWarning: Too few samples (required : 310 got : 80), covariance estimate may be unreliable\n",
      "  data_cov = mne.compute_raw_covariance(raw, tmin=tmin,\n",
      "c:\\Users\\Lukas\\Documents\\projects\\esinet\\evaluate\\..\\esinet\\util\\util.py:388: RuntimeWarning: An average reference projection was already added. The data has been left untouched.\n",
      "  epochs.set_eeg_reference(projection=True, verbose=verbose)#.apply_baseline(baseline=baseline)\n",
      "c:\\Users\\Lukas\\Documents\\projects\\esinet\\evaluate\\..\\esinet\\util\\util.py:420: RuntimeWarning: Too few samples (required : 310 got : 140), covariance estimate may be unreliable\n",
      "  data_cov = mne.compute_raw_covariance(raw, tmin=tmin,\n",
      "c:\\Users\\Lukas\\Documents\\projects\\esinet\\evaluate\\..\\esinet\\util\\util.py:388: RuntimeWarning: An average reference projection was already added. The data has been left untouched.\n",
      "  epochs.set_eeg_reference(projection=True, verbose=verbose)#.apply_baseline(baseline=baseline)\n",
      "c:\\Users\\Lukas\\Documents\\projects\\esinet\\evaluate\\..\\esinet\\util\\util.py:420: RuntimeWarning: Too few samples (required : 310 got : 180), covariance estimate may be unreliable\n",
      "  data_cov = mne.compute_raw_covariance(raw, tmin=tmin,\n",
      "c:\\Users\\Lukas\\Documents\\projects\\esinet\\evaluate\\..\\esinet\\util\\util.py:388: RuntimeWarning: An average reference projection was already added. The data has been left untouched.\n",
      "  epochs.set_eeg_reference(projection=True, verbose=verbose)#.apply_baseline(baseline=baseline)\n",
      "c:\\Users\\Lukas\\Documents\\projects\\esinet\\evaluate\\..\\esinet\\util\\util.py:420: RuntimeWarning: Too few samples (required : 310 got : 180), covariance estimate may be unreliable\n",
      "  data_cov = mne.compute_raw_covariance(raw, tmin=tmin,\n"
     ]
    },
    {
     "name": "stdout",
     "output_type": "stream",
     "text": [
      "<RawArray | 61 x 581 (5.8 s), ~367 kB, data loaded> 4.0 info empirical\n",
      "<RawArray | 61 x 415 (4.1 s), ~288 kB, data loaded> 4.0 info empirical\n",
      "<RawArray | 61 x 473 (4.7 s), ~315 kB, data loaded> 4.0 info empirical\n",
      "<RawArray | 61 x 443 (4.4 s), ~301 kB, data loaded> 4.0 info empirical\n"
     ]
    },
    {
     "name": "stderr",
     "output_type": "stream",
     "text": [
      "c:\\Users\\Lukas\\Documents\\projects\\esinet\\evaluate\\..\\esinet\\util\\util.py:388: RuntimeWarning: An average reference projection was already added. The data has been left untouched.\n",
      "  epochs.set_eeg_reference(projection=True, verbose=verbose)#.apply_baseline(baseline=baseline)\n",
      "c:\\Users\\Lukas\\Documents\\projects\\esinet\\evaluate\\..\\esinet\\util\\util.py:423: RuntimeWarning: Epochs are not baseline corrected, covariance matrix may be inaccurate\n",
      "  data_cov = mne.compute_covariance(epochs, tmin=0.0,\n",
      "c:\\Users\\Lukas\\Documents\\projects\\esinet\\evaluate\\..\\esinet\\util\\util.py:423: RuntimeWarning: Too few samples (required : 310 got : 15), covariance estimate may be unreliable\n",
      "  data_cov = mne.compute_covariance(epochs, tmin=0.0,\n",
      "c:\\Users\\Lukas\\Documents\\projects\\esinet\\evaluate\\..\\esinet\\util\\util.py:388: RuntimeWarning: An average reference projection was already added. The data has been left untouched.\n",
      "  epochs.set_eeg_reference(projection=True, verbose=verbose)#.apply_baseline(baseline=baseline)\n",
      "c:\\Users\\Lukas\\Documents\\projects\\esinet\\evaluate\\..\\esinet\\util\\util.py:420: RuntimeWarning: Too few samples (required : 310 got : 60), covariance estimate may be unreliable\n",
      "  data_cov = mne.compute_raw_covariance(raw, tmin=tmin,\n",
      "c:\\Users\\Lukas\\Documents\\projects\\esinet\\evaluate\\..\\esinet\\util\\util.py:388: RuntimeWarning: An average reference projection was already added. The data has been left untouched.\n",
      "  epochs.set_eeg_reference(projection=True, verbose=verbose)#.apply_baseline(baseline=baseline)\n",
      "c:\\Users\\Lukas\\Documents\\projects\\esinet\\evaluate\\..\\esinet\\util\\util.py:420: RuntimeWarning: Too few samples (required : 310 got : 40), covariance estimate may be unreliable\n",
      "  data_cov = mne.compute_raw_covariance(raw, tmin=tmin,\n",
      "c:\\Users\\Lukas\\Documents\\projects\\esinet\\evaluate\\..\\esinet\\util\\util.py:388: RuntimeWarning: An average reference projection was already added. The data has been left untouched.\n",
      "  epochs.set_eeg_reference(projection=True, verbose=verbose)#.apply_baseline(baseline=baseline)\n",
      "c:\\Users\\Lukas\\Documents\\projects\\esinet\\evaluate\\..\\esinet\\util\\util.py:420: RuntimeWarning: Too few samples (required : 310 got : 120), covariance estimate may be unreliable\n",
      "  data_cov = mne.compute_raw_covariance(raw, tmin=tmin,\n"
     ]
    },
    {
     "name": "stdout",
     "output_type": "stream",
     "text": [
      "<RawArray | 61 x 538 (5.4 s), ~346 kB, data loaded> 4.0 info empirical\n",
      "<RawArray | 61 x 512 (5.1 s), ~334 kB, data loaded> 4.0 info empirical\n",
      "<RawArray | 61 x 511 (5.1 s), ~333 kB, data loaded> 4.0 info empirical\n",
      "<RawArray | 61 x 586 (5.8 s), ~369 kB, data loaded> 4.0 info empirical\n"
     ]
    },
    {
     "name": "stderr",
     "output_type": "stream",
     "text": [
      "c:\\Users\\Lukas\\Documents\\projects\\esinet\\evaluate\\..\\esinet\\util\\util.py:388: RuntimeWarning: An average reference projection was already added. The data has been left untouched.\n",
      "  epochs.set_eeg_reference(projection=True, verbose=verbose)#.apply_baseline(baseline=baseline)\n",
      "c:\\Users\\Lukas\\Documents\\projects\\esinet\\evaluate\\..\\esinet\\util\\util.py:420: RuntimeWarning: Too few samples (required : 310 got : 100), covariance estimate may be unreliable\n",
      "  data_cov = mne.compute_raw_covariance(raw, tmin=tmin,\n",
      "c:\\Users\\Lukas\\Documents\\projects\\esinet\\evaluate\\..\\esinet\\util\\util.py:388: RuntimeWarning: An average reference projection was already added. The data has been left untouched.\n",
      "  epochs.set_eeg_reference(projection=True, verbose=verbose)#.apply_baseline(baseline=baseline)\n",
      "c:\\Users\\Lukas\\Documents\\projects\\esinet\\evaluate\\..\\esinet\\util\\util.py:420: RuntimeWarning: Too few samples (required : 310 got : 100), covariance estimate may be unreliable\n",
      "  data_cov = mne.compute_raw_covariance(raw, tmin=tmin,\n",
      "c:\\Users\\Lukas\\Documents\\projects\\esinet\\evaluate\\..\\esinet\\util\\util.py:388: RuntimeWarning: An average reference projection was already added. The data has been left untouched.\n",
      "  epochs.set_eeg_reference(projection=True, verbose=verbose)#.apply_baseline(baseline=baseline)\n",
      "c:\\Users\\Lukas\\Documents\\projects\\esinet\\evaluate\\..\\esinet\\util\\util.py:420: RuntimeWarning: Too few samples (required : 310 got : 180), covariance estimate may be unreliable\n",
      "  data_cov = mne.compute_raw_covariance(raw, tmin=tmin,\n",
      "c:\\Users\\Lukas\\Documents\\projects\\esinet\\evaluate\\..\\esinet\\util\\util.py:388: RuntimeWarning: An average reference projection was already added. The data has been left untouched.\n",
      "  epochs.set_eeg_reference(projection=True, verbose=verbose)#.apply_baseline(baseline=baseline)\n",
      "c:\\Users\\Lukas\\Documents\\projects\\esinet\\evaluate\\..\\esinet\\util\\util.py:420: RuntimeWarning: Too few samples (required : 310 got : 60), covariance estimate may be unreliable\n",
      "  data_cov = mne.compute_raw_covariance(raw, tmin=tmin,\n"
     ]
    },
    {
     "name": "stdout",
     "output_type": "stream",
     "text": [
      "<RawArray | 61 x 479 (4.8 s), ~318 kB, data loaded> 4.0 info empirical\n",
      "<RawArray | 61 x 412 (4.1 s), ~286 kB, data loaded> 4.0 info empirical\n",
      "<RawArray | 61 x 576 (5.8 s), ~364 kB, data loaded> 4.0 info empirical\n",
      "<RawArray | 61 x 594 (5.9 s), ~373 kB, data loaded> 4.0 info empirical\n"
     ]
    },
    {
     "name": "stderr",
     "output_type": "stream",
     "text": [
      "c:\\Users\\Lukas\\Documents\\projects\\esinet\\evaluate\\..\\esinet\\util\\util.py:388: RuntimeWarning: An average reference projection was already added. The data has been left untouched.\n",
      "  epochs.set_eeg_reference(projection=True, verbose=verbose)#.apply_baseline(baseline=baseline)\n",
      "c:\\Users\\Lukas\\Documents\\projects\\esinet\\evaluate\\..\\esinet\\util\\util.py:423: RuntimeWarning: Epochs are not baseline corrected, covariance matrix may be inaccurate\n",
      "  data_cov = mne.compute_covariance(epochs, tmin=0.0,\n",
      "c:\\Users\\Lukas\\Documents\\projects\\esinet\\evaluate\\..\\esinet\\util\\util.py:423: RuntimeWarning: Too few samples (required : 310 got : 12), covariance estimate may be unreliable\n",
      "  data_cov = mne.compute_covariance(epochs, tmin=0.0,\n",
      "c:\\Users\\Lukas\\Documents\\projects\\esinet\\evaluate\\..\\esinet\\util\\util.py:388: RuntimeWarning: An average reference projection was already added. The data has been left untouched.\n",
      "  epochs.set_eeg_reference(projection=True, verbose=verbose)#.apply_baseline(baseline=baseline)\n",
      "c:\\Users\\Lukas\\Documents\\projects\\esinet\\evaluate\\..\\esinet\\util\\util.py:420: RuntimeWarning: Too few samples (required : 310 got : 160), covariance estimate may be unreliable\n",
      "  data_cov = mne.compute_raw_covariance(raw, tmin=tmin,\n",
      "c:\\Users\\Lukas\\Documents\\projects\\esinet\\evaluate\\..\\esinet\\util\\util.py:388: RuntimeWarning: An average reference projection was already added. The data has been left untouched.\n",
      "  epochs.set_eeg_reference(projection=True, verbose=verbose)#.apply_baseline(baseline=baseline)\n",
      "c:\\Users\\Lukas\\Documents\\projects\\esinet\\evaluate\\..\\esinet\\util\\util.py:420: RuntimeWarning: Too few samples (required : 310 got : 180), covariance estimate may be unreliable\n",
      "  data_cov = mne.compute_raw_covariance(raw, tmin=tmin,\n",
      "c:\\Users\\Lukas\\Documents\\projects\\esinet\\evaluate\\..\\esinet\\util\\util.py:388: RuntimeWarning: An average reference projection was already added. The data has been left untouched.\n",
      "  epochs.set_eeg_reference(projection=True, verbose=verbose)#.apply_baseline(baseline=baseline)\n",
      "c:\\Users\\Lukas\\Documents\\projects\\esinet\\evaluate\\..\\esinet\\util\\util.py:420: RuntimeWarning: Too few samples (required : 310 got : 180), covariance estimate may be unreliable\n",
      "  data_cov = mne.compute_raw_covariance(raw, tmin=tmin,\n",
      "c:\\Users\\Lukas\\Documents\\projects\\esinet\\evaluate\\..\\esinet\\util\\util.py:388: RuntimeWarning: An average reference projection was already added. The data has been left untouched.\n",
      "  epochs.set_eeg_reference(projection=True, verbose=verbose)#.apply_baseline(baseline=baseline)\n"
     ]
    },
    {
     "name": "stdout",
     "output_type": "stream",
     "text": [
      "<RawArray | 61 x 594 (5.9 s), ~373 kB, data loaded> 4.0 info empirical\n",
      "<RawArray | 61 x 576 (5.8 s), ~364 kB, data loaded> 4.0 info empirical\n",
      "<RawArray | 61 x 512 (5.1 s), ~334 kB, data loaded> 4.0 info empirical\n",
      "<RawArray | 61 x 599 (6.0 s), ~375 kB, data loaded> 4.0 info empirical\n"
     ]
    },
    {
     "name": "stderr",
     "output_type": "stream",
     "text": [
      "c:\\Users\\Lukas\\Documents\\projects\\esinet\\evaluate\\..\\esinet\\util\\util.py:420: RuntimeWarning: Too few samples (required : 310 got : 160), covariance estimate may be unreliable\n",
      "  data_cov = mne.compute_raw_covariance(raw, tmin=tmin,\n",
      "c:\\Users\\Lukas\\Documents\\projects\\esinet\\evaluate\\..\\esinet\\util\\util.py:388: RuntimeWarning: An average reference projection was already added. The data has been left untouched.\n",
      "  epochs.set_eeg_reference(projection=True, verbose=verbose)#.apply_baseline(baseline=baseline)\n",
      "c:\\Users\\Lukas\\Documents\\projects\\esinet\\evaluate\\..\\esinet\\util\\util.py:420: RuntimeWarning: Too few samples (required : 310 got : 100), covariance estimate may be unreliable\n",
      "  data_cov = mne.compute_raw_covariance(raw, tmin=tmin,\n",
      "c:\\Users\\Lukas\\Documents\\projects\\esinet\\evaluate\\..\\esinet\\util\\util.py:388: RuntimeWarning: An average reference projection was already added. The data has been left untouched.\n",
      "  epochs.set_eeg_reference(projection=True, verbose=verbose)#.apply_baseline(baseline=baseline)\n",
      "c:\\Users\\Lukas\\Documents\\projects\\esinet\\evaluate\\..\\esinet\\util\\util.py:420: RuntimeWarning: Too few samples (required : 310 got : 180), covariance estimate may be unreliable\n",
      "  data_cov = mne.compute_raw_covariance(raw, tmin=tmin,\n",
      "c:\\Users\\Lukas\\Documents\\projects\\esinet\\evaluate\\..\\esinet\\util\\util.py:388: RuntimeWarning: An average reference projection was already added. The data has been left untouched.\n",
      "  epochs.set_eeg_reference(projection=True, verbose=verbose)#.apply_baseline(baseline=baseline)\n",
      "c:\\Users\\Lukas\\Documents\\projects\\esinet\\evaluate\\..\\esinet\\util\\util.py:420: RuntimeWarning: Too few samples (required : 310 got : 60), covariance estimate may be unreliable\n",
      "  data_cov = mne.compute_raw_covariance(raw, tmin=tmin,\n"
     ]
    },
    {
     "name": "stdout",
     "output_type": "stream",
     "text": [
      "<RawArray | 61 x 476 (4.8 s), ~317 kB, data loaded> 4.0 info empirical\n",
      "<RawArray | 61 x 523 (5.2 s), ~339 kB, data loaded> 4.0 info empirical\n",
      "<RawArray | 61 x 518 (5.2 s), ~337 kB, data loaded> 4.0 info empirical\n",
      "<RawArray | 61 x 589 (5.9 s), ~371 kB, data loaded> 4.0 info empirical\n"
     ]
    },
    {
     "name": "stderr",
     "output_type": "stream",
     "text": [
      "c:\\Users\\Lukas\\Documents\\projects\\esinet\\evaluate\\..\\esinet\\util\\util.py:388: RuntimeWarning: An average reference projection was already added. The data has been left untouched.\n",
      "  epochs.set_eeg_reference(projection=True, verbose=verbose)#.apply_baseline(baseline=baseline)\n",
      "c:\\Users\\Lukas\\Documents\\projects\\esinet\\evaluate\\..\\esinet\\util\\util.py:420: RuntimeWarning: Too few samples (required : 310 got : 120), covariance estimate may be unreliable\n",
      "  data_cov = mne.compute_raw_covariance(raw, tmin=tmin,\n",
      "c:\\Users\\Lukas\\Documents\\projects\\esinet\\evaluate\\..\\esinet\\util\\util.py:388: RuntimeWarning: An average reference projection was already added. The data has been left untouched.\n",
      "  epochs.set_eeg_reference(projection=True, verbose=verbose)#.apply_baseline(baseline=baseline)\n",
      "c:\\Users\\Lukas\\Documents\\projects\\esinet\\evaluate\\..\\esinet\\util\\util.py:420: RuntimeWarning: Too few samples (required : 310 got : 100), covariance estimate may be unreliable\n",
      "  data_cov = mne.compute_raw_covariance(raw, tmin=tmin,\n",
      "c:\\Users\\Lukas\\Documents\\projects\\esinet\\evaluate\\..\\esinet\\util\\util.py:388: RuntimeWarning: An average reference projection was already added. The data has been left untouched.\n",
      "  epochs.set_eeg_reference(projection=True, verbose=verbose)#.apply_baseline(baseline=baseline)\n",
      "c:\\Users\\Lukas\\Documents\\projects\\esinet\\evaluate\\..\\esinet\\util\\util.py:420: RuntimeWarning: Too few samples (required : 310 got : 180), covariance estimate may be unreliable\n",
      "  data_cov = mne.compute_raw_covariance(raw, tmin=tmin,\n",
      "c:\\Users\\Lukas\\Documents\\projects\\esinet\\evaluate\\..\\esinet\\util\\util.py:388: RuntimeWarning: An average reference projection was already added. The data has been left untouched.\n",
      "  epochs.set_eeg_reference(projection=True, verbose=verbose)#.apply_baseline(baseline=baseline)\n",
      "c:\\Users\\Lukas\\Documents\\projects\\esinet\\evaluate\\..\\esinet\\util\\util.py:420: RuntimeWarning: Too few samples (required : 310 got : 100), covariance estimate may be unreliable\n",
      "  data_cov = mne.compute_raw_covariance(raw, tmin=tmin,\n"
     ]
    },
    {
     "name": "stdout",
     "output_type": "stream",
     "text": [
      "<RawArray | 61 x 510 (5.1 s), ~333 kB, data loaded> 4.0 info empirical\n",
      "<RawArray | 61 x 558 (5.6 s), ~356 kB, data loaded> 4.0 info empirical\n",
      "<RawArray | 61 x 463 (4.6 s), ~310 kB, data loaded> 4.0 info empirical\n",
      "<RawArray | 61 x 442 (4.4 s), ~300 kB, data loaded> 4.0 info empirical\n"
     ]
    },
    {
     "name": "stderr",
     "output_type": "stream",
     "text": [
      "c:\\Users\\Lukas\\Documents\\projects\\esinet\\evaluate\\..\\esinet\\util\\util.py:388: RuntimeWarning: An average reference projection was already added. The data has been left untouched.\n",
      "  epochs.set_eeg_reference(projection=True, verbose=verbose)#.apply_baseline(baseline=baseline)\n",
      "c:\\Users\\Lukas\\Documents\\projects\\esinet\\evaluate\\..\\esinet\\util\\util.py:420: RuntimeWarning: Too few samples (required : 310 got : 140), covariance estimate may be unreliable\n",
      "  data_cov = mne.compute_raw_covariance(raw, tmin=tmin,\n",
      "c:\\Users\\Lukas\\Documents\\projects\\esinet\\evaluate\\..\\esinet\\util\\util.py:388: RuntimeWarning: An average reference projection was already added. The data has been left untouched.\n",
      "  epochs.set_eeg_reference(projection=True, verbose=verbose)#.apply_baseline(baseline=baseline)\n",
      "c:\\Users\\Lukas\\Documents\\projects\\esinet\\evaluate\\..\\esinet\\util\\util.py:420: RuntimeWarning: Too few samples (required : 310 got : 60), covariance estimate may be unreliable\n",
      "  data_cov = mne.compute_raw_covariance(raw, tmin=tmin,\n",
      "c:\\Users\\Lukas\\Documents\\projects\\esinet\\evaluate\\..\\esinet\\util\\util.py:388: RuntimeWarning: An average reference projection was already added. The data has been left untouched.\n",
      "  epochs.set_eeg_reference(projection=True, verbose=verbose)#.apply_baseline(baseline=baseline)\n",
      "c:\\Users\\Lukas\\Documents\\projects\\esinet\\evaluate\\..\\esinet\\util\\util.py:420: RuntimeWarning: Too few samples (required : 310 got : 40), covariance estimate may be unreliable\n",
      "  data_cov = mne.compute_raw_covariance(raw, tmin=tmin,\n",
      "c:\\Users\\Lukas\\Documents\\projects\\esinet\\evaluate\\..\\esinet\\util\\util.py:388: RuntimeWarning: An average reference projection was already added. The data has been left untouched.\n",
      "  epochs.set_eeg_reference(projection=True, verbose=verbose)#.apply_baseline(baseline=baseline)\n",
      "c:\\Users\\Lukas\\Documents\\projects\\esinet\\evaluate\\..\\esinet\\util\\util.py:420: RuntimeWarning: Too few samples (required : 310 got : 140), covariance estimate may be unreliable\n",
      "  data_cov = mne.compute_raw_covariance(raw, tmin=tmin,\n"
     ]
    },
    {
     "name": "stdout",
     "output_type": "stream",
     "text": [
      "<RawArray | 61 x 553 (5.5 s), ~353 kB, data loaded> 4.0 info empirical\n",
      "<RawArray | 61 x 436 (4.3 s), ~298 kB, data loaded> 4.0 info empirical\n",
      "<RawArray | 61 x 574 (5.7 s), ~363 kB, data loaded> 4.0 info empirical\n",
      "<RawArray | 61 x 595 (5.9 s), ~373 kB, data loaded> 4.0 info empirical\n"
     ]
    },
    {
     "name": "stderr",
     "output_type": "stream",
     "text": [
      "c:\\Users\\Lukas\\Documents\\projects\\esinet\\evaluate\\..\\esinet\\util\\util.py:388: RuntimeWarning: An average reference projection was already added. The data has been left untouched.\n",
      "  epochs.set_eeg_reference(projection=True, verbose=verbose)#.apply_baseline(baseline=baseline)\n",
      "c:\\Users\\Lukas\\Documents\\projects\\esinet\\evaluate\\..\\esinet\\util\\util.py:420: RuntimeWarning: Too few samples (required : 310 got : 20), covariance estimate may be unreliable\n",
      "  data_cov = mne.compute_raw_covariance(raw, tmin=tmin,\n",
      "c:\\Users\\Lukas\\Documents\\projects\\esinet\\evaluate\\..\\esinet\\util\\util.py:388: RuntimeWarning: An average reference projection was already added. The data has been left untouched.\n",
      "  epochs.set_eeg_reference(projection=True, verbose=verbose)#.apply_baseline(baseline=baseline)\n",
      "c:\\Users\\Lukas\\Documents\\projects\\esinet\\evaluate\\..\\esinet\\util\\util.py:420: RuntimeWarning: Too few samples (required : 310 got : 160), covariance estimate may be unreliable\n",
      "  data_cov = mne.compute_raw_covariance(raw, tmin=tmin,\n",
      "c:\\Users\\Lukas\\Documents\\projects\\esinet\\evaluate\\..\\esinet\\util\\util.py:388: RuntimeWarning: An average reference projection was already added. The data has been left untouched.\n",
      "  epochs.set_eeg_reference(projection=True, verbose=verbose)#.apply_baseline(baseline=baseline)\n",
      "c:\\Users\\Lukas\\Documents\\projects\\esinet\\evaluate\\..\\esinet\\util\\util.py:420: RuntimeWarning: Too few samples (required : 310 got : 180), covariance estimate may be unreliable\n",
      "  data_cov = mne.compute_raw_covariance(raw, tmin=tmin,\n",
      "c:\\Users\\Lukas\\Documents\\projects\\esinet\\evaluate\\..\\esinet\\util\\util.py:388: RuntimeWarning: An average reference projection was already added. The data has been left untouched.\n",
      "  epochs.set_eeg_reference(projection=True, verbose=verbose)#.apply_baseline(baseline=baseline)\n",
      "c:\\Users\\Lukas\\Documents\\projects\\esinet\\evaluate\\..\\esinet\\util\\util.py:423: RuntimeWarning: Epochs are not baseline corrected, covariance matrix may be inaccurate\n",
      "  data_cov = mne.compute_covariance(epochs, tmin=0.0,\n",
      "c:\\Users\\Lukas\\Documents\\projects\\esinet\\evaluate\\..\\esinet\\util\\util.py:423: RuntimeWarning: Too few samples (required : 310 got : 10), covariance estimate may be unreliable\n",
      "  data_cov = mne.compute_covariance(epochs, tmin=0.0,\n"
     ]
    },
    {
     "name": "stdout",
     "output_type": "stream",
     "text": [
      "<RawArray | 61 x 410 (4.1 s), ~285 kB, data loaded> 4.0 info empirical\n",
      "<RawArray | 61 x 592 (5.9 s), ~372 kB, data loaded> 4.0 info empirical\n",
      "<RawArray | 61 x 542 (5.4 s), ~348 kB, data loaded> 4.0 info empirical\n",
      "<RawArray | 61 x 436 (4.3 s), ~298 kB, data loaded> 4.0 info empirical\n"
     ]
    },
    {
     "name": "stderr",
     "output_type": "stream",
     "text": [
      "c:\\Users\\Lukas\\Documents\\projects\\esinet\\evaluate\\..\\esinet\\util\\util.py:388: RuntimeWarning: An average reference projection was already added. The data has been left untouched.\n",
      "  epochs.set_eeg_reference(projection=True, verbose=verbose)#.apply_baseline(baseline=baseline)\n",
      "c:\\Users\\Lukas\\Documents\\projects\\esinet\\evaluate\\..\\esinet\\util\\util.py:420: RuntimeWarning: Too few samples (required : 310 got : 180), covariance estimate may be unreliable\n",
      "  data_cov = mne.compute_raw_covariance(raw, tmin=tmin,\n",
      "c:\\Users\\Lukas\\Documents\\projects\\esinet\\evaluate\\..\\esinet\\util\\util.py:388: RuntimeWarning: An average reference projection was already added. The data has been left untouched.\n",
      "  epochs.set_eeg_reference(projection=True, verbose=verbose)#.apply_baseline(baseline=baseline)\n",
      "c:\\Users\\Lukas\\Documents\\projects\\esinet\\evaluate\\..\\esinet\\util\\util.py:420: RuntimeWarning: Too few samples (required : 310 got : 140), covariance estimate may be unreliable\n",
      "  data_cov = mne.compute_raw_covariance(raw, tmin=tmin,\n",
      "c:\\Users\\Lukas\\Documents\\projects\\esinet\\evaluate\\..\\esinet\\util\\util.py:388: RuntimeWarning: An average reference projection was already added. The data has been left untouched.\n",
      "  epochs.set_eeg_reference(projection=True, verbose=verbose)#.apply_baseline(baseline=baseline)\n",
      "c:\\Users\\Lukas\\Documents\\projects\\esinet\\evaluate\\..\\esinet\\util\\util.py:420: RuntimeWarning: Too few samples (required : 310 got : 20), covariance estimate may be unreliable\n",
      "  data_cov = mne.compute_raw_covariance(raw, tmin=tmin,\n",
      "c:\\Users\\Lukas\\Documents\\projects\\esinet\\evaluate\\..\\esinet\\util\\util.py:388: RuntimeWarning: An average reference projection was already added. The data has been left untouched.\n",
      "  epochs.set_eeg_reference(projection=True, verbose=verbose)#.apply_baseline(baseline=baseline)\n",
      "c:\\Users\\Lukas\\Documents\\projects\\esinet\\evaluate\\..\\esinet\\util\\util.py:420: RuntimeWarning: Too few samples (required : 310 got : 140), covariance estimate may be unreliable\n",
      "  data_cov = mne.compute_raw_covariance(raw, tmin=tmin,\n",
      "c:\\Users\\Lukas\\Documents\\projects\\esinet\\evaluate\\..\\esinet\\util\\util.py:388: RuntimeWarning: An average reference projection was already added. The data has been left untouched.\n",
      "  epochs.set_eeg_reference(projection=True, verbose=verbose)#.apply_baseline(baseline=baseline)\n"
     ]
    },
    {
     "name": "stdout",
     "output_type": "stream",
     "text": [
      "<RawArray | 61 x 545 (5.4 s), ~350 kB, data loaded> 4.0 info empirical\n",
      "<RawArray | 61 x 431 (4.3 s), ~295 kB, data loaded> 4.0 info empirical\n",
      "<RawArray | 61 x 568 (5.7 s), ~360 kB, data loaded> 4.0 info empirical\n",
      "<RawArray | 61 x 508 (5.1 s), ~332 kB, data loaded> 4.0 info empirical\n"
     ]
    },
    {
     "name": "stderr",
     "output_type": "stream",
     "text": [
      "c:\\Users\\Lukas\\Documents\\projects\\esinet\\evaluate\\..\\esinet\\util\\util.py:420: RuntimeWarning: Too few samples (required : 310 got : 20), covariance estimate may be unreliable\n",
      "  data_cov = mne.compute_raw_covariance(raw, tmin=tmin,\n",
      "c:\\Users\\Lukas\\Documents\\projects\\esinet\\evaluate\\..\\esinet\\util\\util.py:388: RuntimeWarning: An average reference projection was already added. The data has been left untouched.\n",
      "  epochs.set_eeg_reference(projection=True, verbose=verbose)#.apply_baseline(baseline=baseline)\n",
      "c:\\Users\\Lukas\\Documents\\projects\\esinet\\evaluate\\..\\esinet\\util\\util.py:420: RuntimeWarning: Too few samples (required : 310 got : 160), covariance estimate may be unreliable\n",
      "  data_cov = mne.compute_raw_covariance(raw, tmin=tmin,\n",
      "c:\\Users\\Lukas\\Documents\\projects\\esinet\\evaluate\\..\\esinet\\util\\util.py:388: RuntimeWarning: An average reference projection was already added. The data has been left untouched.\n",
      "  epochs.set_eeg_reference(projection=True, verbose=verbose)#.apply_baseline(baseline=baseline)\n",
      "c:\\Users\\Lukas\\Documents\\projects\\esinet\\evaluate\\..\\esinet\\util\\util.py:420: RuntimeWarning: Too few samples (required : 310 got : 100), covariance estimate may be unreliable\n",
      "  data_cov = mne.compute_raw_covariance(raw, tmin=tmin,\n",
      "c:\\Users\\Lukas\\Documents\\projects\\esinet\\evaluate\\..\\esinet\\util\\util.py:388: RuntimeWarning: An average reference projection was already added. The data has been left untouched.\n",
      "  epochs.set_eeg_reference(projection=True, verbose=verbose)#.apply_baseline(baseline=baseline)\n",
      "c:\\Users\\Lukas\\Documents\\projects\\esinet\\evaluate\\..\\esinet\\util\\util.py:420: RuntimeWarning: Too few samples (required : 310 got : 100), covariance estimate may be unreliable\n",
      "  data_cov = mne.compute_raw_covariance(raw, tmin=tmin,\n",
      "c:\\Users\\Lukas\\Documents\\projects\\esinet\\evaluate\\..\\esinet\\util\\util.py:388: RuntimeWarning: An average reference projection was already added. The data has been left untouched.\n",
      "  epochs.set_eeg_reference(projection=True, verbose=verbose)#.apply_baseline(baseline=baseline)\n"
     ]
    },
    {
     "name": "stdout",
     "output_type": "stream",
     "text": [
      "<RawArray | 61 x 510 (5.1 s), ~333 kB, data loaded> 4.0 info empirical\n",
      "<RawArray | 61 x 599 (6.0 s), ~375 kB, data loaded> 4.0 info empirical\n",
      "<RawArray | 61 x 541 (5.4 s), ~348 kB, data loaded> 4.0 info empirical\n",
      "<RawArray | 61 x 579 (5.8 s), ~366 kB, data loaded> 4.0 info empirical\n"
     ]
    },
    {
     "name": "stderr",
     "output_type": "stream",
     "text": [
      "c:\\Users\\Lukas\\Documents\\projects\\esinet\\evaluate\\..\\esinet\\util\\util.py:420: RuntimeWarning: Too few samples (required : 310 got : 180), covariance estimate may be unreliable\n",
      "  data_cov = mne.compute_raw_covariance(raw, tmin=tmin,\n",
      "c:\\Users\\Lukas\\Documents\\projects\\esinet\\evaluate\\..\\esinet\\util\\util.py:388: RuntimeWarning: An average reference projection was already added. The data has been left untouched.\n",
      "  epochs.set_eeg_reference(projection=True, verbose=verbose)#.apply_baseline(baseline=baseline)\n",
      "c:\\Users\\Lukas\\Documents\\projects\\esinet\\evaluate\\..\\esinet\\util\\util.py:420: RuntimeWarning: Too few samples (required : 310 got : 140), covariance estimate may be unreliable\n",
      "  data_cov = mne.compute_raw_covariance(raw, tmin=tmin,\n",
      "c:\\Users\\Lukas\\Documents\\projects\\esinet\\evaluate\\..\\esinet\\util\\util.py:388: RuntimeWarning: An average reference projection was already added. The data has been left untouched.\n",
      "  epochs.set_eeg_reference(projection=True, verbose=verbose)#.apply_baseline(baseline=baseline)\n",
      "c:\\Users\\Lukas\\Documents\\projects\\esinet\\evaluate\\..\\esinet\\util\\util.py:420: RuntimeWarning: Too few samples (required : 310 got : 160), covariance estimate may be unreliable\n",
      "  data_cov = mne.compute_raw_covariance(raw, tmin=tmin,\n",
      "c:\\Users\\Lukas\\Documents\\projects\\esinet\\evaluate\\..\\esinet\\util\\util.py:388: RuntimeWarning: An average reference projection was already added. The data has been left untouched.\n",
      "  epochs.set_eeg_reference(projection=True, verbose=verbose)#.apply_baseline(baseline=baseline)\n",
      "c:\\Users\\Lukas\\Documents\\projects\\esinet\\evaluate\\..\\esinet\\util\\util.py:420: RuntimeWarning: Too few samples (required : 310 got : 160), covariance estimate may be unreliable\n",
      "  data_cov = mne.compute_raw_covariance(raw, tmin=tmin,\n",
      "c:\\Users\\Lukas\\Documents\\projects\\esinet\\evaluate\\..\\esinet\\util\\util.py:388: RuntimeWarning: An average reference projection was already added. The data has been left untouched.\n",
      "  epochs.set_eeg_reference(projection=True, verbose=verbose)#.apply_baseline(baseline=baseline)\n"
     ]
    },
    {
     "name": "stdout",
     "output_type": "stream",
     "text": [
      "<RawArray | 61 x 570 (5.7 s), ~361 kB, data loaded> 4.0 info empirical\n",
      "<RawArray | 61 x 486 (4.8 s), ~321 kB, data loaded> 4.0 info empirical\n",
      "<RawArray | 61 x 494 (4.9 s), ~325 kB, data loaded> 4.0 info empirical\n",
      "<RawArray | 61 x 506 (5.0 s), ~331 kB, data loaded> 4.0 info empirical\n"
     ]
    },
    {
     "name": "stderr",
     "output_type": "stream",
     "text": [
      "c:\\Users\\Lukas\\Documents\\projects\\esinet\\evaluate\\..\\esinet\\util\\util.py:420: RuntimeWarning: Too few samples (required : 310 got : 80), covariance estimate may be unreliable\n",
      "  data_cov = mne.compute_raw_covariance(raw, tmin=tmin,\n",
      "c:\\Users\\Lukas\\Documents\\projects\\esinet\\evaluate\\..\\esinet\\util\\util.py:388: RuntimeWarning: An average reference projection was already added. The data has been left untouched.\n",
      "  epochs.set_eeg_reference(projection=True, verbose=verbose)#.apply_baseline(baseline=baseline)\n",
      "c:\\Users\\Lukas\\Documents\\projects\\esinet\\evaluate\\..\\esinet\\util\\util.py:420: RuntimeWarning: Too few samples (required : 310 got : 80), covariance estimate may be unreliable\n",
      "  data_cov = mne.compute_raw_covariance(raw, tmin=tmin,\n",
      "c:\\Users\\Lukas\\Documents\\projects\\esinet\\evaluate\\..\\esinet\\util\\util.py:388: RuntimeWarning: An average reference projection was already added. The data has been left untouched.\n",
      "  epochs.set_eeg_reference(projection=True, verbose=verbose)#.apply_baseline(baseline=baseline)\n",
      "c:\\Users\\Lukas\\Documents\\projects\\esinet\\evaluate\\..\\esinet\\util\\util.py:420: RuntimeWarning: Too few samples (required : 310 got : 100), covariance estimate may be unreliable\n",
      "  data_cov = mne.compute_raw_covariance(raw, tmin=tmin,\n",
      "c:\\Users\\Lukas\\Documents\\projects\\esinet\\evaluate\\..\\esinet\\util\\util.py:388: RuntimeWarning: An average reference projection was already added. The data has been left untouched.\n",
      "  epochs.set_eeg_reference(projection=True, verbose=verbose)#.apply_baseline(baseline=baseline)\n",
      "c:\\Users\\Lukas\\Documents\\projects\\esinet\\evaluate\\..\\esinet\\util\\util.py:420: RuntimeWarning: Too few samples (required : 310 got : 100), covariance estimate may be unreliable\n",
      "  data_cov = mne.compute_raw_covariance(raw, tmin=tmin,\n",
      "c:\\Users\\Lukas\\Documents\\projects\\esinet\\evaluate\\..\\esinet\\util\\util.py:388: RuntimeWarning: An average reference projection was already added. The data has been left untouched.\n",
      "  epochs.set_eeg_reference(projection=True, verbose=verbose)#.apply_baseline(baseline=baseline)\n"
     ]
    },
    {
     "name": "stdout",
     "output_type": "stream",
     "text": [
      "<RawArray | 61 x 514 (5.1 s), ~335 kB, data loaded> 4.0 info empirical\n",
      "<RawArray | 61 x 514 (5.1 s), ~335 kB, data loaded> 4.0 info empirical\n",
      "<RawArray | 61 x 572 (5.7 s), ~362 kB, data loaded> 4.0 info empirical\n",
      "<RawArray | 61 x 546 (5.5 s), ~350 kB, data loaded> 4.0 info empirical\n"
     ]
    },
    {
     "name": "stderr",
     "output_type": "stream",
     "text": [
      "c:\\Users\\Lukas\\Documents\\projects\\esinet\\evaluate\\..\\esinet\\util\\util.py:420: RuntimeWarning: Too few samples (required : 310 got : 100), covariance estimate may be unreliable\n",
      "  data_cov = mne.compute_raw_covariance(raw, tmin=tmin,\n",
      "c:\\Users\\Lukas\\Documents\\projects\\esinet\\evaluate\\..\\esinet\\util\\util.py:388: RuntimeWarning: An average reference projection was already added. The data has been left untouched.\n",
      "  epochs.set_eeg_reference(projection=True, verbose=verbose)#.apply_baseline(baseline=baseline)\n",
      "c:\\Users\\Lukas\\Documents\\projects\\esinet\\evaluate\\..\\esinet\\util\\util.py:420: RuntimeWarning: Too few samples (required : 310 got : 160), covariance estimate may be unreliable\n",
      "  data_cov = mne.compute_raw_covariance(raw, tmin=tmin,\n",
      "c:\\Users\\Lukas\\Documents\\projects\\esinet\\evaluate\\..\\esinet\\util\\util.py:388: RuntimeWarning: An average reference projection was already added. The data has been left untouched.\n",
      "  epochs.set_eeg_reference(projection=True, verbose=verbose)#.apply_baseline(baseline=baseline)\n",
      "c:\\Users\\Lukas\\Documents\\projects\\esinet\\evaluate\\..\\esinet\\util\\util.py:420: RuntimeWarning: Too few samples (required : 310 got : 140), covariance estimate may be unreliable\n",
      "  data_cov = mne.compute_raw_covariance(raw, tmin=tmin,\n",
      "c:\\Users\\Lukas\\Documents\\projects\\esinet\\evaluate\\..\\esinet\\util\\util.py:388: RuntimeWarning: An average reference projection was already added. The data has been left untouched.\n",
      "  epochs.set_eeg_reference(projection=True, verbose=verbose)#.apply_baseline(baseline=baseline)\n",
      "c:\\Users\\Lukas\\Documents\\projects\\esinet\\evaluate\\..\\esinet\\util\\util.py:420: RuntimeWarning: Too few samples (required : 310 got : 160), covariance estimate may be unreliable\n",
      "  data_cov = mne.compute_raw_covariance(raw, tmin=tmin,\n",
      "c:\\Users\\Lukas\\Documents\\projects\\esinet\\evaluate\\..\\esinet\\util\\util.py:388: RuntimeWarning: An average reference projection was already added. The data has been left untouched.\n",
      "  epochs.set_eeg_reference(projection=True, verbose=verbose)#.apply_baseline(baseline=baseline)\n"
     ]
    },
    {
     "name": "stdout",
     "output_type": "stream",
     "text": [
      "<RawArray | 61 x 573 (5.7 s), ~363 kB, data loaded> 4.0 info empirical\n",
      "<RawArray | 61 x 438 (4.4 s), ~299 kB, data loaded> 4.0 info empirical\n",
      "<RawArray | 61 x 476 (4.8 s), ~317 kB, data loaded> 4.0 info empirical\n",
      "<RawArray | 61 x 522 (5.2 s), ~339 kB, data loaded> 4.0 info empirical\n"
     ]
    },
    {
     "name": "stderr",
     "output_type": "stream",
     "text": [
      "c:\\Users\\Lukas\\Documents\\projects\\esinet\\evaluate\\..\\esinet\\util\\util.py:420: RuntimeWarning: Too few samples (required : 310 got : 20), covariance estimate may be unreliable\n",
      "  data_cov = mne.compute_raw_covariance(raw, tmin=tmin,\n",
      "c:\\Users\\Lukas\\Documents\\projects\\esinet\\evaluate\\..\\esinet\\util\\util.py:388: RuntimeWarning: An average reference projection was already added. The data has been left untouched.\n",
      "  epochs.set_eeg_reference(projection=True, verbose=verbose)#.apply_baseline(baseline=baseline)\n",
      "c:\\Users\\Lukas\\Documents\\projects\\esinet\\evaluate\\..\\esinet\\util\\util.py:420: RuntimeWarning: Too few samples (required : 310 got : 60), covariance estimate may be unreliable\n",
      "  data_cov = mne.compute_raw_covariance(raw, tmin=tmin,\n",
      "c:\\Users\\Lukas\\Documents\\projects\\esinet\\evaluate\\..\\esinet\\util\\util.py:388: RuntimeWarning: An average reference projection was already added. The data has been left untouched.\n",
      "  epochs.set_eeg_reference(projection=True, verbose=verbose)#.apply_baseline(baseline=baseline)\n",
      "c:\\Users\\Lukas\\Documents\\projects\\esinet\\evaluate\\..\\esinet\\util\\util.py:420: RuntimeWarning: Too few samples (required : 310 got : 120), covariance estimate may be unreliable\n",
      "  data_cov = mne.compute_raw_covariance(raw, tmin=tmin,\n",
      "c:\\Users\\Lukas\\Documents\\projects\\esinet\\evaluate\\..\\esinet\\util\\util.py:388: RuntimeWarning: An average reference projection was already added. The data has been left untouched.\n",
      "  epochs.set_eeg_reference(projection=True, verbose=verbose)#.apply_baseline(baseline=baseline)\n",
      "c:\\Users\\Lukas\\Documents\\projects\\esinet\\evaluate\\..\\esinet\\util\\util.py:420: RuntimeWarning: Too few samples (required : 310 got : 160), covariance estimate may be unreliable\n",
      "  data_cov = mne.compute_raw_covariance(raw, tmin=tmin,\n"
     ]
    },
    {
     "name": "stdout",
     "output_type": "stream",
     "text": [
      "<RawArray | 61 x 573 (5.7 s), ~363 kB, data loaded> 4.0 info empirical\n",
      "<RawArray | 61 x 455 (4.5 s), ~307 kB, data loaded> 4.0 info empirical\n",
      "<RawArray | 61 x 472 (4.7 s), ~315 kB, data loaded> 4.0 info empirical\n",
      "<RawArray | 61 x 407 (4.1 s), ~284 kB, data loaded> 4.0 info empirical\n"
     ]
    },
    {
     "name": "stderr",
     "output_type": "stream",
     "text": [
      "c:\\Users\\Lukas\\Documents\\projects\\esinet\\evaluate\\..\\esinet\\util\\util.py:388: RuntimeWarning: An average reference projection was already added. The data has been left untouched.\n",
      "  epochs.set_eeg_reference(projection=True, verbose=verbose)#.apply_baseline(baseline=baseline)\n",
      "c:\\Users\\Lukas\\Documents\\projects\\esinet\\evaluate\\..\\esinet\\util\\util.py:420: RuntimeWarning: Too few samples (required : 310 got : 40), covariance estimate may be unreliable\n",
      "  data_cov = mne.compute_raw_covariance(raw, tmin=tmin,\n",
      "c:\\Users\\Lukas\\Documents\\projects\\esinet\\evaluate\\..\\esinet\\util\\util.py:388: RuntimeWarning: An average reference projection was already added. The data has been left untouched.\n",
      "  epochs.set_eeg_reference(projection=True, verbose=verbose)#.apply_baseline(baseline=baseline)\n",
      "c:\\Users\\Lukas\\Documents\\projects\\esinet\\evaluate\\..\\esinet\\util\\util.py:420: RuntimeWarning: Too few samples (required : 310 got : 60), covariance estimate may be unreliable\n",
      "  data_cov = mne.compute_raw_covariance(raw, tmin=tmin,\n",
      "c:\\Users\\Lukas\\Documents\\projects\\esinet\\evaluate\\..\\esinet\\util\\util.py:388: RuntimeWarning: An average reference projection was already added. The data has been left untouched.\n",
      "  epochs.set_eeg_reference(projection=True, verbose=verbose)#.apply_baseline(baseline=baseline)\n",
      "c:\\Users\\Lukas\\Documents\\projects\\esinet\\evaluate\\..\\esinet\\util\\util.py:423: RuntimeWarning: Epochs are not baseline corrected, covariance matrix may be inaccurate\n",
      "  data_cov = mne.compute_covariance(epochs, tmin=0.0,\n",
      "c:\\Users\\Lukas\\Documents\\projects\\esinet\\evaluate\\..\\esinet\\util\\util.py:423: RuntimeWarning: Too few samples (required : 310 got : 7), covariance estimate may be unreliable\n",
      "  data_cov = mne.compute_covariance(epochs, tmin=0.0,\n",
      "c:\\Users\\Lukas\\Documents\\projects\\esinet\\evaluate\\..\\esinet\\util\\util.py:388: RuntimeWarning: An average reference projection was already added. The data has been left untouched.\n",
      "  epochs.set_eeg_reference(projection=True, verbose=verbose)#.apply_baseline(baseline=baseline)\n",
      "c:\\Users\\Lukas\\Documents\\projects\\esinet\\evaluate\\..\\esinet\\util\\util.py:420: RuntimeWarning: Too few samples (required : 310 got : 40), covariance estimate may be unreliable\n",
      "  data_cov = mne.compute_raw_covariance(raw, tmin=tmin,\n",
      "c:\\Users\\Lukas\\Documents\\projects\\esinet\\evaluate\\..\\esinet\\util\\util.py:388: RuntimeWarning: An average reference projection was already added. The data has been left untouched.\n",
      "  epochs.set_eeg_reference(projection=True, verbose=verbose)#.apply_baseline(baseline=baseline)\n"
     ]
    },
    {
     "name": "stdout",
     "output_type": "stream",
     "text": [
      "<RawArray | 61 x 457 (4.6 s), ~308 kB, data loaded> 4.0 info empirical\n",
      "<RawArray | 61 x 539 (5.4 s), ~347 kB, data loaded> 4.0 info empirical\n",
      "<RawArray | 61 x 541 (5.4 s), ~348 kB, data loaded> 4.0 info empirical\n",
      "<RawArray | 61 x 477 (4.8 s), ~317 kB, data loaded> 4.0 info empirical\n"
     ]
    },
    {
     "name": "stderr",
     "output_type": "stream",
     "text": [
      "c:\\Users\\Lukas\\Documents\\projects\\esinet\\evaluate\\..\\esinet\\util\\util.py:420: RuntimeWarning: Too few samples (required : 310 got : 120), covariance estimate may be unreliable\n",
      "  data_cov = mne.compute_raw_covariance(raw, tmin=tmin,\n",
      "c:\\Users\\Lukas\\Documents\\projects\\esinet\\evaluate\\..\\esinet\\util\\util.py:388: RuntimeWarning: An average reference projection was already added. The data has been left untouched.\n",
      "  epochs.set_eeg_reference(projection=True, verbose=verbose)#.apply_baseline(baseline=baseline)\n",
      "c:\\Users\\Lukas\\Documents\\projects\\esinet\\evaluate\\..\\esinet\\util\\util.py:420: RuntimeWarning: Too few samples (required : 310 got : 140), covariance estimate may be unreliable\n",
      "  data_cov = mne.compute_raw_covariance(raw, tmin=tmin,\n",
      "c:\\Users\\Lukas\\Documents\\projects\\esinet\\evaluate\\..\\esinet\\util\\util.py:388: RuntimeWarning: An average reference projection was already added. The data has been left untouched.\n",
      "  epochs.set_eeg_reference(projection=True, verbose=verbose)#.apply_baseline(baseline=baseline)\n",
      "c:\\Users\\Lukas\\Documents\\projects\\esinet\\evaluate\\..\\esinet\\util\\util.py:420: RuntimeWarning: Too few samples (required : 310 got : 60), covariance estimate may be unreliable\n",
      "  data_cov = mne.compute_raw_covariance(raw, tmin=tmin,\n",
      "c:\\Users\\Lukas\\Documents\\projects\\esinet\\evaluate\\..\\esinet\\util\\util.py:388: RuntimeWarning: An average reference projection was already added. The data has been left untouched.\n",
      "  epochs.set_eeg_reference(projection=True, verbose=verbose)#.apply_baseline(baseline=baseline)\n",
      "c:\\Users\\Lukas\\Documents\\projects\\esinet\\evaluate\\..\\esinet\\util\\util.py:420: RuntimeWarning: Too few samples (required : 310 got : 80), covariance estimate may be unreliable\n",
      "  data_cov = mne.compute_raw_covariance(raw, tmin=tmin,\n",
      "c:\\Users\\Lukas\\Documents\\projects\\esinet\\evaluate\\..\\esinet\\util\\util.py:388: RuntimeWarning: An average reference projection was already added. The data has been left untouched.\n",
      "  epochs.set_eeg_reference(projection=True, verbose=verbose)#.apply_baseline(baseline=baseline)\n"
     ]
    },
    {
     "name": "stdout",
     "output_type": "stream",
     "text": [
      "<RawArray | 61 x 486 (4.8 s), ~321 kB, data loaded> 4.0 info empirical\n",
      "<RawArray | 61 x 402 (4.0 s), ~281 kB, data loaded> 4.0 info empirical\n",
      "<RawArray | 61 x 524 (5.2 s), ~340 kB, data loaded> 4.0 info empirical\n",
      "<RawArray | 61 x 429 (4.3 s), ~294 kB, data loaded> 4.0 info empirical\n"
     ]
    },
    {
     "name": "stderr",
     "output_type": "stream",
     "text": [
      "c:\\Users\\Lukas\\Documents\\projects\\esinet\\evaluate\\..\\esinet\\util\\util.py:423: RuntimeWarning: Epochs are not baseline corrected, covariance matrix may be inaccurate\n",
      "  data_cov = mne.compute_covariance(epochs, tmin=0.0,\n",
      "c:\\Users\\Lukas\\Documents\\projects\\esinet\\evaluate\\..\\esinet\\util\\util.py:423: RuntimeWarning: Too few samples (required : 310 got : 2), covariance estimate may be unreliable\n",
      "  data_cov = mne.compute_covariance(epochs, tmin=0.0,\n",
      "c:\\Users\\Lukas\\Documents\\projects\\esinet\\evaluate\\..\\esinet\\util\\util.py:388: RuntimeWarning: An average reference projection was already added. The data has been left untouched.\n",
      "  epochs.set_eeg_reference(projection=True, verbose=verbose)#.apply_baseline(baseline=baseline)\n",
      "c:\\Users\\Lukas\\Documents\\projects\\esinet\\evaluate\\..\\esinet\\util\\util.py:420: RuntimeWarning: Too few samples (required : 310 got : 120), covariance estimate may be unreliable\n",
      "  data_cov = mne.compute_raw_covariance(raw, tmin=tmin,\n",
      "c:\\Users\\Lukas\\Documents\\projects\\esinet\\evaluate\\..\\esinet\\util\\util.py:388: RuntimeWarning: An average reference projection was already added. The data has been left untouched.\n",
      "  epochs.set_eeg_reference(projection=True, verbose=verbose)#.apply_baseline(baseline=baseline)\n",
      "c:\\Users\\Lukas\\Documents\\projects\\esinet\\evaluate\\..\\esinet\\util\\util.py:420: RuntimeWarning: Too few samples (required : 310 got : 20), covariance estimate may be unreliable\n",
      "  data_cov = mne.compute_raw_covariance(raw, tmin=tmin,\n",
      "c:\\Users\\Lukas\\Documents\\projects\\esinet\\evaluate\\..\\esinet\\util\\util.py:388: RuntimeWarning: An average reference projection was already added. The data has been left untouched.\n",
      "  epochs.set_eeg_reference(projection=True, verbose=verbose)#.apply_baseline(baseline=baseline)\n",
      "c:\\Users\\Lukas\\Documents\\projects\\esinet\\evaluate\\..\\esinet\\util\\util.py:420: RuntimeWarning: Too few samples (required : 310 got : 20), covariance estimate may be unreliable\n",
      "  data_cov = mne.compute_raw_covariance(raw, tmin=tmin,\n",
      "c:\\Users\\Lukas\\Documents\\projects\\esinet\\evaluate\\..\\esinet\\util\\util.py:388: RuntimeWarning: An average reference projection was already added. The data has been left untouched.\n",
      "  epochs.set_eeg_reference(projection=True, verbose=verbose)#.apply_baseline(baseline=baseline)\n"
     ]
    },
    {
     "name": "stdout",
     "output_type": "stream",
     "text": [
      "<RawArray | 61 x 428 (4.3 s), ~294 kB, data loaded> 4.0 info empirical\n",
      "<RawArray | 61 x 521 (5.2 s), ~338 kB, data loaded> 4.0 info empirical\n",
      "<RawArray | 61 x 471 (4.7 s), ~314 kB, data loaded> 4.0 info empirical\n",
      "<RawArray | 61 x 451 (4.5 s), ~305 kB, data loaded> 4.0 info empirical\n"
     ]
    },
    {
     "name": "stderr",
     "output_type": "stream",
     "text": [
      "c:\\Users\\Lukas\\Documents\\projects\\esinet\\evaluate\\..\\esinet\\util\\util.py:420: RuntimeWarning: Too few samples (required : 310 got : 120), covariance estimate may be unreliable\n",
      "  data_cov = mne.compute_raw_covariance(raw, tmin=tmin,\n",
      "c:\\Users\\Lukas\\Documents\\projects\\esinet\\evaluate\\..\\esinet\\util\\util.py:388: RuntimeWarning: An average reference projection was already added. The data has been left untouched.\n",
      "  epochs.set_eeg_reference(projection=True, verbose=verbose)#.apply_baseline(baseline=baseline)\n",
      "c:\\Users\\Lukas\\Documents\\projects\\esinet\\evaluate\\..\\esinet\\util\\util.py:420: RuntimeWarning: Too few samples (required : 310 got : 60), covariance estimate may be unreliable\n",
      "  data_cov = mne.compute_raw_covariance(raw, tmin=tmin,\n",
      "c:\\Users\\Lukas\\Documents\\projects\\esinet\\evaluate\\..\\esinet\\util\\util.py:388: RuntimeWarning: An average reference projection was already added. The data has been left untouched.\n",
      "  epochs.set_eeg_reference(projection=True, verbose=verbose)#.apply_baseline(baseline=baseline)\n",
      "c:\\Users\\Lukas\\Documents\\projects\\esinet\\evaluate\\..\\esinet\\util\\util.py:420: RuntimeWarning: Too few samples (required : 310 got : 40), covariance estimate may be unreliable\n",
      "  data_cov = mne.compute_raw_covariance(raw, tmin=tmin,\n",
      "c:\\Users\\Lukas\\Documents\\projects\\esinet\\evaluate\\..\\esinet\\util\\util.py:388: RuntimeWarning: An average reference projection was already added. The data has been left untouched.\n",
      "  epochs.set_eeg_reference(projection=True, verbose=verbose)#.apply_baseline(baseline=baseline)\n",
      "c:\\Users\\Lukas\\Documents\\projects\\esinet\\evaluate\\..\\esinet\\util\\util.py:420: RuntimeWarning: Too few samples (required : 310 got : 140), covariance estimate may be unreliable\n",
      "  data_cov = mne.compute_raw_covariance(raw, tmin=tmin,\n",
      "c:\\Users\\Lukas\\Documents\\projects\\esinet\\evaluate\\..\\esinet\\util\\util.py:388: RuntimeWarning: An average reference projection was already added. The data has been left untouched.\n",
      "  epochs.set_eeg_reference(projection=True, verbose=verbose)#.apply_baseline(baseline=baseline)\n"
     ]
    },
    {
     "name": "stdout",
     "output_type": "stream",
     "text": [
      "<RawArray | 61 x 543 (5.4 s), ~349 kB, data loaded> 4.0 info empirical\n",
      "<RawArray | 61 x 555 (5.5 s), ~354 kB, data loaded> 4.0 info empirical\n",
      "<RawArray | 61 x 523 (5.2 s), ~339 kB, data loaded> 4.0 info empirical\n",
      "<RawArray | 61 x 440 (4.4 s), ~299 kB, data loaded> 4.0 info empirical\n"
     ]
    },
    {
     "name": "stderr",
     "output_type": "stream",
     "text": [
      "c:\\Users\\Lukas\\Documents\\projects\\esinet\\evaluate\\..\\esinet\\util\\util.py:420: RuntimeWarning: Too few samples (required : 310 got : 140), covariance estimate may be unreliable\n",
      "  data_cov = mne.compute_raw_covariance(raw, tmin=tmin,\n",
      "c:\\Users\\Lukas\\Documents\\projects\\esinet\\evaluate\\..\\esinet\\util\\util.py:388: RuntimeWarning: An average reference projection was already added. The data has been left untouched.\n",
      "  epochs.set_eeg_reference(projection=True, verbose=verbose)#.apply_baseline(baseline=baseline)\n",
      "c:\\Users\\Lukas\\Documents\\projects\\esinet\\evaluate\\..\\esinet\\util\\util.py:420: RuntimeWarning: Too few samples (required : 310 got : 120), covariance estimate may be unreliable\n",
      "  data_cov = mne.compute_raw_covariance(raw, tmin=tmin,\n",
      "c:\\Users\\Lukas\\Documents\\projects\\esinet\\evaluate\\..\\esinet\\util\\util.py:388: RuntimeWarning: An average reference projection was already added. The data has been left untouched.\n",
      "  epochs.set_eeg_reference(projection=True, verbose=verbose)#.apply_baseline(baseline=baseline)\n",
      "c:\\Users\\Lukas\\Documents\\projects\\esinet\\evaluate\\..\\esinet\\util\\util.py:420: RuntimeWarning: Too few samples (required : 310 got : 40), covariance estimate may be unreliable\n",
      "  data_cov = mne.compute_raw_covariance(raw, tmin=tmin,\n",
      "c:\\Users\\Lukas\\Documents\\projects\\esinet\\evaluate\\..\\esinet\\util\\util.py:388: RuntimeWarning: An average reference projection was already added. The data has been left untouched.\n",
      "  epochs.set_eeg_reference(projection=True, verbose=verbose)#.apply_baseline(baseline=baseline)\n",
      "c:\\Users\\Lukas\\Documents\\projects\\esinet\\evaluate\\..\\esinet\\util\\util.py:420: RuntimeWarning: Too few samples (required : 310 got : 80), covariance estimate may be unreliable\n",
      "  data_cov = mne.compute_raw_covariance(raw, tmin=tmin,\n",
      "c:\\Users\\Lukas\\Documents\\projects\\esinet\\evaluate\\..\\esinet\\util\\util.py:388: RuntimeWarning: An average reference projection was already added. The data has been left untouched.\n",
      "  epochs.set_eeg_reference(projection=True, verbose=verbose)#.apply_baseline(baseline=baseline)\n"
     ]
    },
    {
     "name": "stdout",
     "output_type": "stream",
     "text": [
      "<RawArray | 61 x 498 (5.0 s), ~327 kB, data loaded> 4.0 info empirical\n",
      "<RawArray | 61 x 545 (5.4 s), ~350 kB, data loaded> 4.0 info empirical\n",
      "<RawArray | 61 x 534 (5.3 s), ~344 kB, data loaded> 4.0 info empirical\n",
      "<RawArray | 61 x 441 (4.4 s), ~300 kB, data loaded> 4.0 info empirical\n"
     ]
    },
    {
     "name": "stderr",
     "output_type": "stream",
     "text": [
      "c:\\Users\\Lukas\\Documents\\projects\\esinet\\evaluate\\..\\esinet\\util\\util.py:420: RuntimeWarning: Too few samples (required : 310 got : 140), covariance estimate may be unreliable\n",
      "  data_cov = mne.compute_raw_covariance(raw, tmin=tmin,\n",
      "c:\\Users\\Lukas\\Documents\\projects\\esinet\\evaluate\\..\\esinet\\util\\util.py:388: RuntimeWarning: An average reference projection was already added. The data has been left untouched.\n",
      "  epochs.set_eeg_reference(projection=True, verbose=verbose)#.apply_baseline(baseline=baseline)\n",
      "c:\\Users\\Lukas\\Documents\\projects\\esinet\\evaluate\\..\\esinet\\util\\util.py:420: RuntimeWarning: Too few samples (required : 310 got : 120), covariance estimate may be unreliable\n",
      "  data_cov = mne.compute_raw_covariance(raw, tmin=tmin,\n",
      "c:\\Users\\Lukas\\Documents\\projects\\esinet\\evaluate\\..\\esinet\\util\\util.py:388: RuntimeWarning: An average reference projection was already added. The data has been left untouched.\n",
      "  epochs.set_eeg_reference(projection=True, verbose=verbose)#.apply_baseline(baseline=baseline)\n",
      "c:\\Users\\Lukas\\Documents\\projects\\esinet\\evaluate\\..\\esinet\\util\\util.py:420: RuntimeWarning: Too few samples (required : 310 got : 40), covariance estimate may be unreliable\n",
      "  data_cov = mne.compute_raw_covariance(raw, tmin=tmin,\n",
      "c:\\Users\\Lukas\\Documents\\projects\\esinet\\evaluate\\..\\esinet\\util\\util.py:388: RuntimeWarning: An average reference projection was already added. The data has been left untouched.\n",
      "  epochs.set_eeg_reference(projection=True, verbose=verbose)#.apply_baseline(baseline=baseline)\n",
      "c:\\Users\\Lukas\\Documents\\projects\\esinet\\evaluate\\..\\esinet\\util\\util.py:420: RuntimeWarning: Too few samples (required : 310 got : 60), covariance estimate may be unreliable\n",
      "  data_cov = mne.compute_raw_covariance(raw, tmin=tmin,\n"
     ]
    },
    {
     "name": "stdout",
     "output_type": "stream",
     "text": [
      "<RawArray | 61 x 476 (4.8 s), ~317 kB, data loaded> 4.0 info empirical\n",
      "<RawArray | 61 x 475 (4.7 s), ~316 kB, data loaded> 4.0 info empirical\n",
      "<RawArray | 61 x 532 (5.3 s), ~343 kB, data loaded> 4.0 info empirical\n",
      "<RawArray | 61 x 550 (5.5 s), ~352 kB, data loaded> 4.0 info empirical\n"
     ]
    },
    {
     "name": "stderr",
     "output_type": "stream",
     "text": [
      "c:\\Users\\Lukas\\Documents\\projects\\esinet\\evaluate\\..\\esinet\\util\\util.py:388: RuntimeWarning: An average reference projection was already added. The data has been left untouched.\n",
      "  epochs.set_eeg_reference(projection=True, verbose=verbose)#.apply_baseline(baseline=baseline)\n",
      "c:\\Users\\Lukas\\Documents\\projects\\esinet\\evaluate\\..\\esinet\\util\\util.py:420: RuntimeWarning: Too few samples (required : 310 got : 60), covariance estimate may be unreliable\n",
      "  data_cov = mne.compute_raw_covariance(raw, tmin=tmin,\n",
      "c:\\Users\\Lukas\\Documents\\projects\\esinet\\evaluate\\..\\esinet\\util\\util.py:388: RuntimeWarning: An average reference projection was already added. The data has been left untouched.\n",
      "  epochs.set_eeg_reference(projection=True, verbose=verbose)#.apply_baseline(baseline=baseline)\n",
      "c:\\Users\\Lukas\\Documents\\projects\\esinet\\evaluate\\..\\esinet\\util\\util.py:420: RuntimeWarning: Too few samples (required : 310 got : 120), covariance estimate may be unreliable\n",
      "  data_cov = mne.compute_raw_covariance(raw, tmin=tmin,\n",
      "c:\\Users\\Lukas\\Documents\\projects\\esinet\\evaluate\\..\\esinet\\util\\util.py:388: RuntimeWarning: An average reference projection was already added. The data has been left untouched.\n",
      "  epochs.set_eeg_reference(projection=True, verbose=verbose)#.apply_baseline(baseline=baseline)\n",
      "c:\\Users\\Lukas\\Documents\\projects\\esinet\\evaluate\\..\\esinet\\util\\util.py:420: RuntimeWarning: Too few samples (required : 310 got : 140), covariance estimate may be unreliable\n",
      "  data_cov = mne.compute_raw_covariance(raw, tmin=tmin,\n",
      "c:\\Users\\Lukas\\Documents\\projects\\esinet\\evaluate\\..\\esinet\\util\\util.py:388: RuntimeWarning: An average reference projection was already added. The data has been left untouched.\n",
      "  epochs.set_eeg_reference(projection=True, verbose=verbose)#.apply_baseline(baseline=baseline)\n",
      "c:\\Users\\Lukas\\Documents\\projects\\esinet\\evaluate\\..\\esinet\\util\\util.py:420: RuntimeWarning: Too few samples (required : 310 got : 20), covariance estimate may be unreliable\n",
      "  data_cov = mne.compute_raw_covariance(raw, tmin=tmin,\n"
     ]
    },
    {
     "name": "stdout",
     "output_type": "stream",
     "text": [
      "<RawArray | 61 x 429 (4.3 s), ~294 kB, data loaded> 4.0 info empirical\n",
      "<RawArray | 61 x 423 (4.2 s), ~291 kB, data loaded> 4.0 info empirical\n",
      "<RawArray | 61 x 472 (4.7 s), ~315 kB, data loaded> 4.0 info empirical\n",
      "<RawArray | 61 x 592 (5.9 s), ~372 kB, data loaded> 4.0 info empirical\n"
     ]
    },
    {
     "name": "stderr",
     "output_type": "stream",
     "text": [
      "c:\\Users\\Lukas\\Documents\\projects\\esinet\\evaluate\\..\\esinet\\util\\util.py:388: RuntimeWarning: An average reference projection was already added. The data has been left untouched.\n",
      "  epochs.set_eeg_reference(projection=True, verbose=verbose)#.apply_baseline(baseline=baseline)\n",
      "c:\\Users\\Lukas\\Documents\\projects\\esinet\\evaluate\\..\\esinet\\util\\util.py:420: RuntimeWarning: Too few samples (required : 310 got : 20), covariance estimate may be unreliable\n",
      "  data_cov = mne.compute_raw_covariance(raw, tmin=tmin,\n",
      "c:\\Users\\Lukas\\Documents\\projects\\esinet\\evaluate\\..\\esinet\\util\\util.py:388: RuntimeWarning: An average reference projection was already added. The data has been left untouched.\n",
      "  epochs.set_eeg_reference(projection=True, verbose=verbose)#.apply_baseline(baseline=baseline)\n",
      "c:\\Users\\Lukas\\Documents\\projects\\esinet\\evaluate\\..\\esinet\\util\\util.py:420: RuntimeWarning: Too few samples (required : 310 got : 60), covariance estimate may be unreliable\n",
      "  data_cov = mne.compute_raw_covariance(raw, tmin=tmin,\n",
      "c:\\Users\\Lukas\\Documents\\projects\\esinet\\evaluate\\..\\esinet\\util\\util.py:388: RuntimeWarning: An average reference projection was already added. The data has been left untouched.\n",
      "  epochs.set_eeg_reference(projection=True, verbose=verbose)#.apply_baseline(baseline=baseline)\n",
      "c:\\Users\\Lukas\\Documents\\projects\\esinet\\evaluate\\..\\esinet\\util\\util.py:420: RuntimeWarning: Too few samples (required : 310 got : 180), covariance estimate may be unreliable\n",
      "  data_cov = mne.compute_raw_covariance(raw, tmin=tmin,\n",
      "c:\\Users\\Lukas\\Documents\\projects\\esinet\\evaluate\\..\\esinet\\util\\util.py:388: RuntimeWarning: An average reference projection was already added. The data has been left untouched.\n",
      "  epochs.set_eeg_reference(projection=True, verbose=verbose)#.apply_baseline(baseline=baseline)\n",
      "c:\\Users\\Lukas\\Documents\\projects\\esinet\\evaluate\\..\\esinet\\util\\util.py:420: RuntimeWarning: Too few samples (required : 310 got : 20), covariance estimate may be unreliable\n",
      "  data_cov = mne.compute_raw_covariance(raw, tmin=tmin,\n"
     ]
    },
    {
     "name": "stdout",
     "output_type": "stream",
     "text": [
      "<RawArray | 61 x 434 (4.3 s), ~297 kB, data loaded> 4.0 info empirical\n",
      "<RawArray | 61 x 466 (4.7 s), ~312 kB, data loaded> 4.0 info empirical\n",
      "<RawArray | 61 x 589 (5.9 s), ~371 kB, data loaded> 4.0 info empirical\n",
      "<RawArray | 61 x 443 (4.4 s), ~301 kB, data loaded> 4.0 info empirical\n"
     ]
    },
    {
     "name": "stderr",
     "output_type": "stream",
     "text": [
      "c:\\Users\\Lukas\\Documents\\projects\\esinet\\evaluate\\..\\esinet\\util\\util.py:388: RuntimeWarning: An average reference projection was already added. The data has been left untouched.\n",
      "  epochs.set_eeg_reference(projection=True, verbose=verbose)#.apply_baseline(baseline=baseline)\n",
      "c:\\Users\\Lukas\\Documents\\projects\\esinet\\evaluate\\..\\esinet\\util\\util.py:420: RuntimeWarning: Too few samples (required : 310 got : 60), covariance estimate may be unreliable\n",
      "  data_cov = mne.compute_raw_covariance(raw, tmin=tmin,\n",
      "c:\\Users\\Lukas\\Documents\\projects\\esinet\\evaluate\\..\\esinet\\util\\util.py:388: RuntimeWarning: An average reference projection was already added. The data has been left untouched.\n",
      "  epochs.set_eeg_reference(projection=True, verbose=verbose)#.apply_baseline(baseline=baseline)\n",
      "c:\\Users\\Lukas\\Documents\\projects\\esinet\\evaluate\\..\\esinet\\util\\util.py:420: RuntimeWarning: Too few samples (required : 310 got : 180), covariance estimate may be unreliable\n",
      "  data_cov = mne.compute_raw_covariance(raw, tmin=tmin,\n",
      "c:\\Users\\Lukas\\Documents\\projects\\esinet\\evaluate\\..\\esinet\\util\\util.py:388: RuntimeWarning: An average reference projection was already added. The data has been left untouched.\n",
      "  epochs.set_eeg_reference(projection=True, verbose=verbose)#.apply_baseline(baseline=baseline)\n",
      "c:\\Users\\Lukas\\Documents\\projects\\esinet\\evaluate\\..\\esinet\\util\\util.py:420: RuntimeWarning: Too few samples (required : 310 got : 40), covariance estimate may be unreliable\n",
      "  data_cov = mne.compute_raw_covariance(raw, tmin=tmin,\n",
      "c:\\Users\\Lukas\\Documents\\projects\\esinet\\evaluate\\..\\esinet\\util\\util.py:388: RuntimeWarning: An average reference projection was already added. The data has been left untouched.\n",
      "  epochs.set_eeg_reference(projection=True, verbose=verbose)#.apply_baseline(baseline=baseline)\n",
      "c:\\Users\\Lukas\\Documents\\projects\\esinet\\evaluate\\..\\esinet\\util\\util.py:420: RuntimeWarning: Too few samples (required : 310 got : 180), covariance estimate may be unreliable\n",
      "  data_cov = mne.compute_raw_covariance(raw, tmin=tmin,\n"
     ]
    },
    {
     "name": "stdout",
     "output_type": "stream",
     "text": [
      "<RawArray | 61 x 593 (5.9 s), ~372 kB, data loaded> 4.0 info empirical\n",
      "<RawArray | 61 x 584 (5.8 s), ~368 kB, data loaded> 4.0 info empirical\n",
      "<RawArray | 61 x 416 (4.2 s), ~288 kB, data loaded> 4.0 info empirical\n",
      "<RawArray | 61 x 453 (4.5 s), ~306 kB, data loaded> 4.0 info empirical\n"
     ]
    },
    {
     "name": "stderr",
     "output_type": "stream",
     "text": [
      "c:\\Users\\Lukas\\Documents\\projects\\esinet\\evaluate\\..\\esinet\\util\\util.py:388: RuntimeWarning: An average reference projection was already added. The data has been left untouched.\n",
      "  epochs.set_eeg_reference(projection=True, verbose=verbose)#.apply_baseline(baseline=baseline)\n",
      "c:\\Users\\Lukas\\Documents\\projects\\esinet\\evaluate\\..\\esinet\\util\\util.py:420: RuntimeWarning: Too few samples (required : 310 got : 180), covariance estimate may be unreliable\n",
      "  data_cov = mne.compute_raw_covariance(raw, tmin=tmin,\n",
      "c:\\Users\\Lukas\\Documents\\projects\\esinet\\evaluate\\..\\esinet\\util\\util.py:388: RuntimeWarning: An average reference projection was already added. The data has been left untouched.\n",
      "  epochs.set_eeg_reference(projection=True, verbose=verbose)#.apply_baseline(baseline=baseline)\n",
      "c:\\Users\\Lukas\\Documents\\projects\\esinet\\evaluate\\..\\esinet\\util\\util.py:423: RuntimeWarning: Epochs are not baseline corrected, covariance matrix may be inaccurate\n",
      "  data_cov = mne.compute_covariance(epochs, tmin=0.0,\n",
      "c:\\Users\\Lukas\\Documents\\projects\\esinet\\evaluate\\..\\esinet\\util\\util.py:423: RuntimeWarning: Too few samples (required : 310 got : 16), covariance estimate may be unreliable\n",
      "  data_cov = mne.compute_covariance(epochs, tmin=0.0,\n",
      "c:\\Users\\Lukas\\Documents\\projects\\esinet\\evaluate\\..\\esinet\\util\\util.py:388: RuntimeWarning: An average reference projection was already added. The data has been left untouched.\n",
      "  epochs.set_eeg_reference(projection=True, verbose=verbose)#.apply_baseline(baseline=baseline)\n",
      "c:\\Users\\Lukas\\Documents\\projects\\esinet\\evaluate\\..\\esinet\\util\\util.py:420: RuntimeWarning: Too few samples (required : 310 got : 40), covariance estimate may be unreliable\n",
      "  data_cov = mne.compute_raw_covariance(raw, tmin=tmin,\n",
      "c:\\Users\\Lukas\\Documents\\projects\\esinet\\evaluate\\..\\esinet\\util\\util.py:388: RuntimeWarning: An average reference projection was already added. The data has been left untouched.\n",
      "  epochs.set_eeg_reference(projection=True, verbose=verbose)#.apply_baseline(baseline=baseline)\n",
      "c:\\Users\\Lukas\\Documents\\projects\\esinet\\evaluate\\..\\esinet\\util\\util.py:420: RuntimeWarning: Too few samples (required : 310 got : 40), covariance estimate may be unreliable\n",
      "  data_cov = mne.compute_raw_covariance(raw, tmin=tmin,\n",
      "c:\\Users\\Lukas\\Documents\\projects\\esinet\\evaluate\\..\\esinet\\util\\util.py:388: RuntimeWarning: An average reference projection was already added. The data has been left untouched.\n",
      "  epochs.set_eeg_reference(projection=True, verbose=verbose)#.apply_baseline(baseline=baseline)\n"
     ]
    },
    {
     "name": "stdout",
     "output_type": "stream",
     "text": [
      "<RawArray | 61 x 440 (4.4 s), ~299 kB, data loaded> 4.0 info empirical\n",
      "<RawArray | 61 x 501 (5.0 s), ~329 kB, data loaded> 4.0 info empirical\n",
      "<RawArray | 61 x 420 (4.2 s), ~290 kB, data loaded> 4.0 info empirical\n",
      "<RawArray | 61 x 434 (4.3 s), ~297 kB, data loaded> 4.0 info empirical\n"
     ]
    },
    {
     "name": "stderr",
     "output_type": "stream",
     "text": [
      "c:\\Users\\Lukas\\Documents\\projects\\esinet\\evaluate\\..\\esinet\\util\\util.py:420: RuntimeWarning: Too few samples (required : 310 got : 100), covariance estimate may be unreliable\n",
      "  data_cov = mne.compute_raw_covariance(raw, tmin=tmin,\n",
      "c:\\Users\\Lukas\\Documents\\projects\\esinet\\evaluate\\..\\esinet\\util\\util.py:388: RuntimeWarning: An average reference projection was already added. The data has been left untouched.\n",
      "  epochs.set_eeg_reference(projection=True, verbose=verbose)#.apply_baseline(baseline=baseline)\n",
      "c:\\Users\\Lukas\\Documents\\projects\\esinet\\evaluate\\..\\esinet\\util\\util.py:420: RuntimeWarning: Too few samples (required : 310 got : 20), covariance estimate may be unreliable\n",
      "  data_cov = mne.compute_raw_covariance(raw, tmin=tmin,\n",
      "c:\\Users\\Lukas\\Documents\\projects\\esinet\\evaluate\\..\\esinet\\util\\util.py:388: RuntimeWarning: An average reference projection was already added. The data has been left untouched.\n",
      "  epochs.set_eeg_reference(projection=True, verbose=verbose)#.apply_baseline(baseline=baseline)\n",
      "c:\\Users\\Lukas\\Documents\\projects\\esinet\\evaluate\\..\\esinet\\util\\util.py:420: RuntimeWarning: Too few samples (required : 310 got : 20), covariance estimate may be unreliable\n",
      "  data_cov = mne.compute_raw_covariance(raw, tmin=tmin,\n",
      "c:\\Users\\Lukas\\Documents\\projects\\esinet\\evaluate\\..\\esinet\\util\\util.py:388: RuntimeWarning: An average reference projection was already added. The data has been left untouched.\n",
      "  epochs.set_eeg_reference(projection=True, verbose=verbose)#.apply_baseline(baseline=baseline)\n",
      "c:\\Users\\Lukas\\Documents\\projects\\esinet\\evaluate\\..\\esinet\\util\\util.py:420: RuntimeWarning: Too few samples (required : 310 got : 100), covariance estimate may be unreliable\n",
      "  data_cov = mne.compute_raw_covariance(raw, tmin=tmin,\n"
     ]
    },
    {
     "name": "stdout",
     "output_type": "stream",
     "text": [
      "<RawArray | 61 x 512 (5.1 s), ~334 kB, data loaded> 4.0 info empirical\n",
      "<RawArray | 61 x 419 (4.2 s), ~289 kB, data loaded> 4.0 info empirical\n",
      "<RawArray | 61 x 596 (6.0 s), ~374 kB, data loaded> 4.0 info empirical\n",
      "<RawArray | 61 x 422 (4.2 s), ~291 kB, data loaded> 4.0 info empirical\n"
     ]
    },
    {
     "name": "stderr",
     "output_type": "stream",
     "text": [
      "c:\\Users\\Lukas\\Documents\\projects\\esinet\\evaluate\\..\\esinet\\util\\util.py:388: RuntimeWarning: An average reference projection was already added. The data has been left untouched.\n",
      "  epochs.set_eeg_reference(projection=True, verbose=verbose)#.apply_baseline(baseline=baseline)\n",
      "c:\\Users\\Lukas\\Documents\\projects\\esinet\\evaluate\\..\\esinet\\util\\util.py:423: RuntimeWarning: Epochs are not baseline corrected, covariance matrix may be inaccurate\n",
      "  data_cov = mne.compute_covariance(epochs, tmin=0.0,\n",
      "c:\\Users\\Lukas\\Documents\\projects\\esinet\\evaluate\\..\\esinet\\util\\util.py:423: RuntimeWarning: Too few samples (required : 310 got : 19), covariance estimate may be unreliable\n",
      "  data_cov = mne.compute_covariance(epochs, tmin=0.0,\n",
      "c:\\Users\\Lukas\\Documents\\projects\\esinet\\evaluate\\..\\esinet\\util\\util.py:388: RuntimeWarning: An average reference projection was already added. The data has been left untouched.\n",
      "  epochs.set_eeg_reference(projection=True, verbose=verbose)#.apply_baseline(baseline=baseline)\n",
      "c:\\Users\\Lukas\\Documents\\projects\\esinet\\evaluate\\..\\esinet\\util\\util.py:420: RuntimeWarning: Too few samples (required : 310 got : 180), covariance estimate may be unreliable\n",
      "  data_cov = mne.compute_raw_covariance(raw, tmin=tmin,\n",
      "c:\\Users\\Lukas\\Documents\\projects\\esinet\\evaluate\\..\\esinet\\util\\util.py:388: RuntimeWarning: An average reference projection was already added. The data has been left untouched.\n",
      "  epochs.set_eeg_reference(projection=True, verbose=verbose)#.apply_baseline(baseline=baseline)\n",
      "c:\\Users\\Lukas\\Documents\\projects\\esinet\\evaluate\\..\\esinet\\util\\util.py:420: RuntimeWarning: Too few samples (required : 310 got : 20), covariance estimate may be unreliable\n",
      "  data_cov = mne.compute_raw_covariance(raw, tmin=tmin,\n",
      "c:\\Users\\Lukas\\Documents\\projects\\esinet\\evaluate\\..\\esinet\\util\\util.py:388: RuntimeWarning: An average reference projection was already added. The data has been left untouched.\n",
      "  epochs.set_eeg_reference(projection=True, verbose=verbose)#.apply_baseline(baseline=baseline)\n",
      "c:\\Users\\Lukas\\Documents\\projects\\esinet\\evaluate\\..\\esinet\\util\\util.py:420: RuntimeWarning: Too few samples (required : 310 got : 100), covariance estimate may be unreliable\n",
      "  data_cov = mne.compute_raw_covariance(raw, tmin=tmin,\n",
      "c:\\Users\\Lukas\\Documents\\projects\\esinet\\evaluate\\..\\esinet\\util\\util.py:388: RuntimeWarning: An average reference projection was already added. The data has been left untouched.\n",
      "  epochs.set_eeg_reference(projection=True, verbose=verbose)#.apply_baseline(baseline=baseline)\n"
     ]
    },
    {
     "name": "stdout",
     "output_type": "stream",
     "text": [
      "<RawArray | 61 x 507 (5.1 s), ~331 kB, data loaded> 4.0 info empirical\n",
      "<RawArray | 61 x 423 (4.2 s), ~291 kB, data loaded> 4.0 info empirical\n",
      "<RawArray | 61 x 434 (4.3 s), ~297 kB, data loaded> 4.0 info empirical\n",
      "<RawArray | 61 x 551 (5.5 s), ~352 kB, data loaded> 4.0 info empirical\n"
     ]
    },
    {
     "name": "stderr",
     "output_type": "stream",
     "text": [
      "c:\\Users\\Lukas\\Documents\\projects\\esinet\\evaluate\\..\\esinet\\util\\util.py:420: RuntimeWarning: Too few samples (required : 310 got : 20), covariance estimate may be unreliable\n",
      "  data_cov = mne.compute_raw_covariance(raw, tmin=tmin,\n",
      "c:\\Users\\Lukas\\Documents\\projects\\esinet\\evaluate\\..\\esinet\\util\\util.py:388: RuntimeWarning: An average reference projection was already added. The data has been left untouched.\n",
      "  epochs.set_eeg_reference(projection=True, verbose=verbose)#.apply_baseline(baseline=baseline)\n",
      "c:\\Users\\Lukas\\Documents\\projects\\esinet\\evaluate\\..\\esinet\\util\\util.py:420: RuntimeWarning: Too few samples (required : 310 got : 20), covariance estimate may be unreliable\n",
      "  data_cov = mne.compute_raw_covariance(raw, tmin=tmin,\n",
      "c:\\Users\\Lukas\\Documents\\projects\\esinet\\evaluate\\..\\esinet\\util\\util.py:388: RuntimeWarning: An average reference projection was already added. The data has been left untouched.\n",
      "  epochs.set_eeg_reference(projection=True, verbose=verbose)#.apply_baseline(baseline=baseline)\n",
      "c:\\Users\\Lukas\\Documents\\projects\\esinet\\evaluate\\..\\esinet\\util\\util.py:420: RuntimeWarning: Too few samples (required : 310 got : 140), covariance estimate may be unreliable\n",
      "  data_cov = mne.compute_raw_covariance(raw, tmin=tmin,\n",
      "c:\\Users\\Lukas\\Documents\\projects\\esinet\\evaluate\\..\\esinet\\util\\util.py:388: RuntimeWarning: An average reference projection was already added. The data has been left untouched.\n",
      "  epochs.set_eeg_reference(projection=True, verbose=verbose)#.apply_baseline(baseline=baseline)\n",
      "c:\\Users\\Lukas\\Documents\\projects\\esinet\\evaluate\\..\\esinet\\util\\util.py:420: RuntimeWarning: Too few samples (required : 310 got : 20), covariance estimate may be unreliable\n",
      "  data_cov = mne.compute_raw_covariance(raw, tmin=tmin,\n"
     ]
    },
    {
     "name": "stdout",
     "output_type": "stream",
     "text": [
      "<RawArray | 61 x 420 (4.2 s), ~290 kB, data loaded> 4.0 info empirical\n",
      "<RawArray | 61 x 580 (5.8 s), ~366 kB, data loaded> 4.0 info empirical\n",
      "<RawArray | 61 x 560 (5.6 s), ~357 kB, data loaded> 4.0 info empirical\n",
      "<RawArray | 61 x 462 (4.6 s), ~310 kB, data loaded> 4.0 info empirical\n"
     ]
    },
    {
     "name": "stderr",
     "output_type": "stream",
     "text": [
      "c:\\Users\\Lukas\\Documents\\projects\\esinet\\evaluate\\..\\esinet\\util\\util.py:388: RuntimeWarning: An average reference projection was already added. The data has been left untouched.\n",
      "  epochs.set_eeg_reference(projection=True, verbose=verbose)#.apply_baseline(baseline=baseline)\n",
      "c:\\Users\\Lukas\\Documents\\projects\\esinet\\evaluate\\..\\esinet\\util\\util.py:420: RuntimeWarning: Too few samples (required : 310 got : 180), covariance estimate may be unreliable\n",
      "  data_cov = mne.compute_raw_covariance(raw, tmin=tmin,\n",
      "c:\\Users\\Lukas\\Documents\\projects\\esinet\\evaluate\\..\\esinet\\util\\util.py:388: RuntimeWarning: An average reference projection was already added. The data has been left untouched.\n",
      "  epochs.set_eeg_reference(projection=True, verbose=verbose)#.apply_baseline(baseline=baseline)\n",
      "c:\\Users\\Lukas\\Documents\\projects\\esinet\\evaluate\\..\\esinet\\util\\util.py:420: RuntimeWarning: Too few samples (required : 310 got : 160), covariance estimate may be unreliable\n",
      "  data_cov = mne.compute_raw_covariance(raw, tmin=tmin,\n",
      "c:\\Users\\Lukas\\Documents\\projects\\esinet\\evaluate\\..\\esinet\\util\\util.py:388: RuntimeWarning: An average reference projection was already added. The data has been left untouched.\n",
      "  epochs.set_eeg_reference(projection=True, verbose=verbose)#.apply_baseline(baseline=baseline)\n",
      "c:\\Users\\Lukas\\Documents\\projects\\esinet\\evaluate\\..\\esinet\\util\\util.py:420: RuntimeWarning: Too few samples (required : 310 got : 60), covariance estimate may be unreliable\n",
      "  data_cov = mne.compute_raw_covariance(raw, tmin=tmin,\n",
      "c:\\Users\\Lukas\\Documents\\projects\\esinet\\evaluate\\..\\esinet\\util\\util.py:388: RuntimeWarning: An average reference projection was already added. The data has been left untouched.\n",
      "  epochs.set_eeg_reference(projection=True, verbose=verbose)#.apply_baseline(baseline=baseline)\n",
      "c:\\Users\\Lukas\\Documents\\projects\\esinet\\evaluate\\..\\esinet\\util\\util.py:420: RuntimeWarning: Too few samples (required : 310 got : 100), covariance estimate may be unreliable\n",
      "  data_cov = mne.compute_raw_covariance(raw, tmin=tmin,\n",
      "c:\\Users\\Lukas\\Documents\\projects\\esinet\\evaluate\\..\\esinet\\util\\util.py:388: RuntimeWarning: An average reference projection was already added. The data has been left untouched.\n",
      "  epochs.set_eeg_reference(projection=True, verbose=verbose)#.apply_baseline(baseline=baseline)\n"
     ]
    },
    {
     "name": "stdout",
     "output_type": "stream",
     "text": [
      "<RawArray | 61 x 503 (5.0 s), ~330 kB, data loaded> 4.0 info empirical\n",
      "<RawArray | 61 x 409 (4.1 s), ~285 kB, data loaded> 4.0 info empirical\n",
      "<RawArray | 61 x 480 (4.8 s), ~319 kB, data loaded> 4.0 info empirical\n",
      "<RawArray | 61 x 488 (4.9 s), ~322 kB, data loaded> 4.0 info empirical\n"
     ]
    },
    {
     "name": "stderr",
     "output_type": "stream",
     "text": [
      "c:\\Users\\Lukas\\Documents\\projects\\esinet\\evaluate\\..\\esinet\\util\\util.py:423: RuntimeWarning: Epochs are not baseline corrected, covariance matrix may be inaccurate\n",
      "  data_cov = mne.compute_covariance(epochs, tmin=0.0,\n",
      "c:\\Users\\Lukas\\Documents\\projects\\esinet\\evaluate\\..\\esinet\\util\\util.py:423: RuntimeWarning: Too few samples (required : 310 got : 9), covariance estimate may be unreliable\n",
      "  data_cov = mne.compute_covariance(epochs, tmin=0.0,\n",
      "c:\\Users\\Lukas\\Documents\\projects\\esinet\\evaluate\\..\\esinet\\util\\util.py:388: RuntimeWarning: An average reference projection was already added. The data has been left untouched.\n",
      "  epochs.set_eeg_reference(projection=True, verbose=verbose)#.apply_baseline(baseline=baseline)\n",
      "c:\\Users\\Lukas\\Documents\\projects\\esinet\\evaluate\\..\\esinet\\util\\util.py:420: RuntimeWarning: Too few samples (required : 310 got : 80), covariance estimate may be unreliable\n",
      "  data_cov = mne.compute_raw_covariance(raw, tmin=tmin,\n",
      "c:\\Users\\Lukas\\Documents\\projects\\esinet\\evaluate\\..\\esinet\\util\\util.py:388: RuntimeWarning: An average reference projection was already added. The data has been left untouched.\n",
      "  epochs.set_eeg_reference(projection=True, verbose=verbose)#.apply_baseline(baseline=baseline)\n",
      "c:\\Users\\Lukas\\Documents\\projects\\esinet\\evaluate\\..\\esinet\\util\\util.py:420: RuntimeWarning: Too few samples (required : 310 got : 80), covariance estimate may be unreliable\n",
      "  data_cov = mne.compute_raw_covariance(raw, tmin=tmin,\n",
      "c:\\Users\\Lukas\\Documents\\projects\\esinet\\evaluate\\..\\esinet\\util\\util.py:388: RuntimeWarning: An average reference projection was already added. The data has been left untouched.\n",
      "  epochs.set_eeg_reference(projection=True, verbose=verbose)#.apply_baseline(baseline=baseline)\n",
      "c:\\Users\\Lukas\\Documents\\projects\\esinet\\evaluate\\..\\esinet\\util\\util.py:420: RuntimeWarning: Too few samples (required : 310 got : 80), covariance estimate may be unreliable\n",
      "  data_cov = mne.compute_raw_covariance(raw, tmin=tmin,\n",
      "c:\\Users\\Lukas\\Documents\\projects\\esinet\\evaluate\\..\\esinet\\util\\util.py:388: RuntimeWarning: An average reference projection was already added. The data has been left untouched.\n",
      "  epochs.set_eeg_reference(projection=True, verbose=verbose)#.apply_baseline(baseline=baseline)\n"
     ]
    },
    {
     "name": "stdout",
     "output_type": "stream",
     "text": [
      "<RawArray | 61 x 495 (4.9 s), ~326 kB, data loaded> 4.0 info empirical\n",
      "<RawArray | 61 x 553 (5.5 s), ~353 kB, data loaded> 4.0 info empirical\n",
      "<RawArray | 61 x 456 (4.5 s), ~307 kB, data loaded> 4.0 info empirical\n",
      "<RawArray | 61 x 546 (5.5 s), ~350 kB, data loaded> 4.0 info empirical\n"
     ]
    },
    {
     "name": "stderr",
     "output_type": "stream",
     "text": [
      "c:\\Users\\Lukas\\Documents\\projects\\esinet\\evaluate\\..\\esinet\\util\\util.py:420: RuntimeWarning: Too few samples (required : 310 got : 140), covariance estimate may be unreliable\n",
      "  data_cov = mne.compute_raw_covariance(raw, tmin=tmin,\n",
      "c:\\Users\\Lukas\\Documents\\projects\\esinet\\evaluate\\..\\esinet\\util\\util.py:388: RuntimeWarning: An average reference projection was already added. The data has been left untouched.\n",
      "  epochs.set_eeg_reference(projection=True, verbose=verbose)#.apply_baseline(baseline=baseline)\n",
      "c:\\Users\\Lukas\\Documents\\projects\\esinet\\evaluate\\..\\esinet\\util\\util.py:420: RuntimeWarning: Too few samples (required : 310 got : 40), covariance estimate may be unreliable\n",
      "  data_cov = mne.compute_raw_covariance(raw, tmin=tmin,\n",
      "c:\\Users\\Lukas\\Documents\\projects\\esinet\\evaluate\\..\\esinet\\util\\util.py:388: RuntimeWarning: An average reference projection was already added. The data has been left untouched.\n",
      "  epochs.set_eeg_reference(projection=True, verbose=verbose)#.apply_baseline(baseline=baseline)\n",
      "c:\\Users\\Lukas\\Documents\\projects\\esinet\\evaluate\\..\\esinet\\util\\util.py:420: RuntimeWarning: Too few samples (required : 310 got : 140), covariance estimate may be unreliable\n",
      "  data_cov = mne.compute_raw_covariance(raw, tmin=tmin,\n",
      "c:\\Users\\Lukas\\Documents\\projects\\esinet\\evaluate\\..\\esinet\\util\\util.py:388: RuntimeWarning: An average reference projection was already added. The data has been left untouched.\n",
      "  epochs.set_eeg_reference(projection=True, verbose=verbose)#.apply_baseline(baseline=baseline)\n",
      "c:\\Users\\Lukas\\Documents\\projects\\esinet\\evaluate\\..\\esinet\\util\\util.py:420: RuntimeWarning: Too few samples (required : 310 got : 140), covariance estimate may be unreliable\n",
      "  data_cov = mne.compute_raw_covariance(raw, tmin=tmin,\n",
      "c:\\Users\\Lukas\\Documents\\projects\\esinet\\evaluate\\..\\esinet\\util\\util.py:388: RuntimeWarning: An average reference projection was already added. The data has been left untouched.\n",
      "  epochs.set_eeg_reference(projection=True, verbose=verbose)#.apply_baseline(baseline=baseline)\n"
     ]
    },
    {
     "name": "stdout",
     "output_type": "stream",
     "text": [
      "<RawArray | 61 x 555 (5.5 s), ~354 kB, data loaded> 4.0 info empirical\n",
      "<RawArray | 61 x 405 (4.0 s), ~283 kB, data loaded> 4.0 info empirical\n",
      "<RawArray | 61 x 457 (4.6 s), ~308 kB, data loaded> 4.0 info empirical\n",
      "<RawArray | 61 x 492 (4.9 s), ~324 kB, data loaded> 4.0 info empirical\n"
     ]
    },
    {
     "name": "stderr",
     "output_type": "stream",
     "text": [
      "c:\\Users\\Lukas\\Documents\\projects\\esinet\\evaluate\\..\\esinet\\util\\util.py:423: RuntimeWarning: Epochs are not baseline corrected, covariance matrix may be inaccurate\n",
      "  data_cov = mne.compute_covariance(epochs, tmin=0.0,\n",
      "c:\\Users\\Lukas\\Documents\\projects\\esinet\\evaluate\\..\\esinet\\util\\util.py:423: RuntimeWarning: Too few samples (required : 310 got : 5), covariance estimate may be unreliable\n",
      "  data_cov = mne.compute_covariance(epochs, tmin=0.0,\n",
      "c:\\Users\\Lukas\\Documents\\projects\\esinet\\evaluate\\..\\esinet\\util\\util.py:388: RuntimeWarning: An average reference projection was already added. The data has been left untouched.\n",
      "  epochs.set_eeg_reference(projection=True, verbose=verbose)#.apply_baseline(baseline=baseline)\n",
      "c:\\Users\\Lukas\\Documents\\projects\\esinet\\evaluate\\..\\esinet\\util\\util.py:420: RuntimeWarning: Too few samples (required : 310 got : 40), covariance estimate may be unreliable\n",
      "  data_cov = mne.compute_raw_covariance(raw, tmin=tmin,\n",
      "c:\\Users\\Lukas\\Documents\\projects\\esinet\\evaluate\\..\\esinet\\util\\util.py:388: RuntimeWarning: An average reference projection was already added. The data has been left untouched.\n",
      "  epochs.set_eeg_reference(projection=True, verbose=verbose)#.apply_baseline(baseline=baseline)\n",
      "c:\\Users\\Lukas\\Documents\\projects\\esinet\\evaluate\\..\\esinet\\util\\util.py:420: RuntimeWarning: Too few samples (required : 310 got : 80), covariance estimate may be unreliable\n",
      "  data_cov = mne.compute_raw_covariance(raw, tmin=tmin,\n",
      "c:\\Users\\Lukas\\Documents\\projects\\esinet\\evaluate\\..\\esinet\\util\\util.py:388: RuntimeWarning: An average reference projection was already added. The data has been left untouched.\n",
      "  epochs.set_eeg_reference(projection=True, verbose=verbose)#.apply_baseline(baseline=baseline)\n",
      "c:\\Users\\Lukas\\Documents\\projects\\esinet\\evaluate\\..\\esinet\\util\\util.py:420: RuntimeWarning: Too few samples (required : 310 got : 20), covariance estimate may be unreliable\n",
      "  data_cov = mne.compute_raw_covariance(raw, tmin=tmin,\n"
     ]
    },
    {
     "name": "stdout",
     "output_type": "stream",
     "text": [
      "<RawArray | 61 x 422 (4.2 s), ~291 kB, data loaded> 4.0 info empirical\n",
      "<RawArray | 61 x 528 (5.3 s), ~341 kB, data loaded> 4.0 info empirical\n",
      "<RawArray | 61 x 450 (4.5 s), ~304 kB, data loaded> 4.0 info empirical\n",
      "<RawArray | 61 x 594 (5.9 s), ~373 kB, data loaded> 4.0 info empirical\n"
     ]
    },
    {
     "name": "stderr",
     "output_type": "stream",
     "text": [
      "c:\\Users\\Lukas\\Documents\\projects\\esinet\\evaluate\\..\\esinet\\util\\util.py:388: RuntimeWarning: An average reference projection was already added. The data has been left untouched.\n",
      "  epochs.set_eeg_reference(projection=True, verbose=verbose)#.apply_baseline(baseline=baseline)\n",
      "c:\\Users\\Lukas\\Documents\\projects\\esinet\\evaluate\\..\\esinet\\util\\util.py:420: RuntimeWarning: Too few samples (required : 310 got : 120), covariance estimate may be unreliable\n",
      "  data_cov = mne.compute_raw_covariance(raw, tmin=tmin,\n",
      "c:\\Users\\Lukas\\Documents\\projects\\esinet\\evaluate\\..\\esinet\\util\\util.py:388: RuntimeWarning: An average reference projection was already added. The data has been left untouched.\n",
      "  epochs.set_eeg_reference(projection=True, verbose=verbose)#.apply_baseline(baseline=baseline)\n",
      "c:\\Users\\Lukas\\Documents\\projects\\esinet\\evaluate\\..\\esinet\\util\\util.py:420: RuntimeWarning: Too few samples (required : 310 got : 40), covariance estimate may be unreliable\n",
      "  data_cov = mne.compute_raw_covariance(raw, tmin=tmin,\n",
      "c:\\Users\\Lukas\\Documents\\projects\\esinet\\evaluate\\..\\esinet\\util\\util.py:388: RuntimeWarning: An average reference projection was already added. The data has been left untouched.\n",
      "  epochs.set_eeg_reference(projection=True, verbose=verbose)#.apply_baseline(baseline=baseline)\n",
      "c:\\Users\\Lukas\\Documents\\projects\\esinet\\evaluate\\..\\esinet\\util\\util.py:420: RuntimeWarning: Too few samples (required : 310 got : 180), covariance estimate may be unreliable\n",
      "  data_cov = mne.compute_raw_covariance(raw, tmin=tmin,\n",
      "c:\\Users\\Lukas\\Documents\\projects\\esinet\\evaluate\\..\\esinet\\util\\util.py:388: RuntimeWarning: An average reference projection was already added. The data has been left untouched.\n",
      "  epochs.set_eeg_reference(projection=True, verbose=verbose)#.apply_baseline(baseline=baseline)\n",
      "c:\\Users\\Lukas\\Documents\\projects\\esinet\\evaluate\\..\\esinet\\util\\util.py:420: RuntimeWarning: Too few samples (required : 310 got : 180), covariance estimate may be unreliable\n",
      "  data_cov = mne.compute_raw_covariance(raw, tmin=tmin,\n",
      "c:\\Users\\Lukas\\Documents\\projects\\esinet\\evaluate\\..\\esinet\\util\\util.py:388: RuntimeWarning: An average reference projection was already added. The data has been left untouched.\n",
      "  epochs.set_eeg_reference(projection=True, verbose=verbose)#.apply_baseline(baseline=baseline)\n"
     ]
    },
    {
     "name": "stdout",
     "output_type": "stream",
     "text": [
      "<RawArray | 61 x 585 (5.8 s), ~369 kB, data loaded> 4.0 info empirical\n",
      "<RawArray | 61 x 492 (4.9 s), ~324 kB, data loaded> 4.0 info empirical\n",
      "<RawArray | 61 x 429 (4.3 s), ~294 kB, data loaded> 4.0 info empirical\n",
      "<RawArray | 61 x 550 (5.5 s), ~352 kB, data loaded> 4.0 info empirical\n"
     ]
    },
    {
     "name": "stderr",
     "output_type": "stream",
     "text": [
      "c:\\Users\\Lukas\\Documents\\projects\\esinet\\evaluate\\..\\esinet\\util\\util.py:420: RuntimeWarning: Too few samples (required : 310 got : 80), covariance estimate may be unreliable\n",
      "  data_cov = mne.compute_raw_covariance(raw, tmin=tmin,\n",
      "c:\\Users\\Lukas\\Documents\\projects\\esinet\\evaluate\\..\\esinet\\util\\util.py:388: RuntimeWarning: An average reference projection was already added. The data has been left untouched.\n",
      "  epochs.set_eeg_reference(projection=True, verbose=verbose)#.apply_baseline(baseline=baseline)\n",
      "c:\\Users\\Lukas\\Documents\\projects\\esinet\\evaluate\\..\\esinet\\util\\util.py:420: RuntimeWarning: Too few samples (required : 310 got : 20), covariance estimate may be unreliable\n",
      "  data_cov = mne.compute_raw_covariance(raw, tmin=tmin,\n",
      "c:\\Users\\Lukas\\Documents\\projects\\esinet\\evaluate\\..\\esinet\\util\\util.py:388: RuntimeWarning: An average reference projection was already added. The data has been left untouched.\n",
      "  epochs.set_eeg_reference(projection=True, verbose=verbose)#.apply_baseline(baseline=baseline)\n",
      "c:\\Users\\Lukas\\Documents\\projects\\esinet\\evaluate\\..\\esinet\\util\\util.py:420: RuntimeWarning: Too few samples (required : 310 got : 140), covariance estimate may be unreliable\n",
      "  data_cov = mne.compute_raw_covariance(raw, tmin=tmin,\n",
      "c:\\Users\\Lukas\\Documents\\projects\\esinet\\evaluate\\..\\esinet\\util\\util.py:388: RuntimeWarning: An average reference projection was already added. The data has been left untouched.\n",
      "  epochs.set_eeg_reference(projection=True, verbose=verbose)#.apply_baseline(baseline=baseline)\n",
      "c:\\Users\\Lukas\\Documents\\projects\\esinet\\evaluate\\..\\esinet\\util\\util.py:420: RuntimeWarning: Too few samples (required : 310 got : 180), covariance estimate may be unreliable\n",
      "  data_cov = mne.compute_raw_covariance(raw, tmin=tmin,\n",
      "c:\\Users\\Lukas\\Documents\\projects\\esinet\\evaluate\\..\\esinet\\util\\util.py:388: RuntimeWarning: An average reference projection was already added. The data has been left untouched.\n",
      "  epochs.set_eeg_reference(projection=True, verbose=verbose)#.apply_baseline(baseline=baseline)\n"
     ]
    },
    {
     "name": "stdout",
     "output_type": "stream",
     "text": [
      "<RawArray | 61 x 593 (5.9 s), ~372 kB, data loaded> 4.0 info empirical\n",
      "<RawArray | 61 x 532 (5.3 s), ~343 kB, data loaded> 4.0 info empirical\n",
      "<RawArray | 61 x 498 (5.0 s), ~327 kB, data loaded> 4.0 info empirical\n",
      "<RawArray | 61 x 494 (4.9 s), ~325 kB, data loaded> 4.0 info empirical\n"
     ]
    },
    {
     "name": "stderr",
     "output_type": "stream",
     "text": [
      "c:\\Users\\Lukas\\Documents\\projects\\esinet\\evaluate\\..\\esinet\\util\\util.py:420: RuntimeWarning: Too few samples (required : 310 got : 120), covariance estimate may be unreliable\n",
      "  data_cov = mne.compute_raw_covariance(raw, tmin=tmin,\n",
      "c:\\Users\\Lukas\\Documents\\projects\\esinet\\evaluate\\..\\esinet\\util\\util.py:388: RuntimeWarning: An average reference projection was already added. The data has been left untouched.\n",
      "  epochs.set_eeg_reference(projection=True, verbose=verbose)#.apply_baseline(baseline=baseline)\n",
      "c:\\Users\\Lukas\\Documents\\projects\\esinet\\evaluate\\..\\esinet\\util\\util.py:420: RuntimeWarning: Too few samples (required : 310 got : 80), covariance estimate may be unreliable\n",
      "  data_cov = mne.compute_raw_covariance(raw, tmin=tmin,\n",
      "c:\\Users\\Lukas\\Documents\\projects\\esinet\\evaluate\\..\\esinet\\util\\util.py:388: RuntimeWarning: An average reference projection was already added. The data has been left untouched.\n",
      "  epochs.set_eeg_reference(projection=True, verbose=verbose)#.apply_baseline(baseline=baseline)\n",
      "c:\\Users\\Lukas\\Documents\\projects\\esinet\\evaluate\\..\\esinet\\util\\util.py:420: RuntimeWarning: Too few samples (required : 310 got : 80), covariance estimate may be unreliable\n",
      "  data_cov = mne.compute_raw_covariance(raw, tmin=tmin,\n",
      "c:\\Users\\Lukas\\Documents\\projects\\esinet\\evaluate\\..\\esinet\\util\\util.py:388: RuntimeWarning: An average reference projection was already added. The data has been left untouched.\n",
      "  epochs.set_eeg_reference(projection=True, verbose=verbose)#.apply_baseline(baseline=baseline)\n",
      "c:\\Users\\Lukas\\Documents\\projects\\esinet\\evaluate\\..\\esinet\\util\\util.py:420: RuntimeWarning: Too few samples (required : 310 got : 60), covariance estimate may be unreliable\n",
      "  data_cov = mne.compute_raw_covariance(raw, tmin=tmin,\n",
      "c:\\Users\\Lukas\\Documents\\projects\\esinet\\evaluate\\..\\esinet\\util\\util.py:388: RuntimeWarning: An average reference projection was already added. The data has been left untouched.\n",
      "  epochs.set_eeg_reference(projection=True, verbose=verbose)#.apply_baseline(baseline=baseline)\n"
     ]
    },
    {
     "name": "stdout",
     "output_type": "stream",
     "text": [
      "<RawArray | 61 x 462 (4.6 s), ~310 kB, data loaded> 4.0 info empirical\n",
      "<RawArray | 61 x 442 (4.4 s), ~300 kB, data loaded> 4.0 info empirical\n",
      "<RawArray | 61 x 415 (4.1 s), ~288 kB, data loaded> 4.0 info empirical\n",
      "<RawArray | 61 x 501 (5.0 s), ~329 kB, data loaded> 4.0 info empirical\n"
     ]
    },
    {
     "name": "stderr",
     "output_type": "stream",
     "text": [
      "c:\\Users\\Lukas\\Documents\\projects\\esinet\\evaluate\\..\\esinet\\util\\util.py:420: RuntimeWarning: Too few samples (required : 310 got : 40), covariance estimate may be unreliable\n",
      "  data_cov = mne.compute_raw_covariance(raw, tmin=tmin,\n",
      "c:\\Users\\Lukas\\Documents\\projects\\esinet\\evaluate\\..\\esinet\\util\\util.py:388: RuntimeWarning: An average reference projection was already added. The data has been left untouched.\n",
      "  epochs.set_eeg_reference(projection=True, verbose=verbose)#.apply_baseline(baseline=baseline)\n",
      "c:\\Users\\Lukas\\Documents\\projects\\esinet\\evaluate\\..\\esinet\\util\\util.py:423: RuntimeWarning: Epochs are not baseline corrected, covariance matrix may be inaccurate\n",
      "  data_cov = mne.compute_covariance(epochs, tmin=0.0,\n",
      "c:\\Users\\Lukas\\Documents\\projects\\esinet\\evaluate\\..\\esinet\\util\\util.py:423: RuntimeWarning: Too few samples (required : 310 got : 15), covariance estimate may be unreliable\n",
      "  data_cov = mne.compute_covariance(epochs, tmin=0.0,\n",
      "c:\\Users\\Lukas\\Documents\\projects\\esinet\\evaluate\\..\\esinet\\util\\util.py:388: RuntimeWarning: An average reference projection was already added. The data has been left untouched.\n",
      "  epochs.set_eeg_reference(projection=True, verbose=verbose)#.apply_baseline(baseline=baseline)\n",
      "c:\\Users\\Lukas\\Documents\\projects\\esinet\\evaluate\\..\\esinet\\util\\util.py:420: RuntimeWarning: Too few samples (required : 310 got : 100), covariance estimate may be unreliable\n",
      "  data_cov = mne.compute_raw_covariance(raw, tmin=tmin,\n",
      "c:\\Users\\Lukas\\Documents\\projects\\esinet\\evaluate\\..\\esinet\\util\\util.py:388: RuntimeWarning: An average reference projection was already added. The data has been left untouched.\n",
      "  epochs.set_eeg_reference(projection=True, verbose=verbose)#.apply_baseline(baseline=baseline)\n",
      "c:\\Users\\Lukas\\Documents\\projects\\esinet\\evaluate\\..\\esinet\\util\\util.py:420: RuntimeWarning: Too few samples (required : 310 got : 80), covariance estimate may be unreliable\n",
      "  data_cov = mne.compute_raw_covariance(raw, tmin=tmin,\n",
      "c:\\Users\\Lukas\\Documents\\projects\\esinet\\evaluate\\..\\esinet\\util\\util.py:388: RuntimeWarning: An average reference projection was already added. The data has been left untouched.\n",
      "  epochs.set_eeg_reference(projection=True, verbose=verbose)#.apply_baseline(baseline=baseline)\n"
     ]
    },
    {
     "name": "stdout",
     "output_type": "stream",
     "text": [
      "<RawArray | 61 x 491 (4.9 s), ~324 kB, data loaded> 4.0 info empirical\n",
      "<RawArray | 61 x 409 (4.1 s), ~285 kB, data loaded> 4.0 info empirical\n",
      "<RawArray | 61 x 564 (5.6 s), ~359 kB, data loaded> 4.0 info empirical\n",
      "<RawArray | 61 x 491 (4.9 s), ~324 kB, data loaded> 4.0 info empirical\n"
     ]
    },
    {
     "name": "stderr",
     "output_type": "stream",
     "text": [
      "c:\\Users\\Lukas\\Documents\\projects\\esinet\\evaluate\\..\\esinet\\util\\util.py:423: RuntimeWarning: Epochs are not baseline corrected, covariance matrix may be inaccurate\n",
      "  data_cov = mne.compute_covariance(epochs, tmin=0.0,\n",
      "c:\\Users\\Lukas\\Documents\\projects\\esinet\\evaluate\\..\\esinet\\util\\util.py:423: RuntimeWarning: Too few samples (required : 310 got : 9), covariance estimate may be unreliable\n",
      "  data_cov = mne.compute_covariance(epochs, tmin=0.0,\n",
      "c:\\Users\\Lukas\\Documents\\projects\\esinet\\evaluate\\..\\esinet\\util\\util.py:388: RuntimeWarning: An average reference projection was already added. The data has been left untouched.\n",
      "  epochs.set_eeg_reference(projection=True, verbose=verbose)#.apply_baseline(baseline=baseline)\n",
      "c:\\Users\\Lukas\\Documents\\projects\\esinet\\evaluate\\..\\esinet\\util\\util.py:420: RuntimeWarning: Too few samples (required : 310 got : 160), covariance estimate may be unreliable\n",
      "  data_cov = mne.compute_raw_covariance(raw, tmin=tmin,\n",
      "c:\\Users\\Lukas\\Documents\\projects\\esinet\\evaluate\\..\\esinet\\util\\util.py:388: RuntimeWarning: An average reference projection was already added. The data has been left untouched.\n",
      "  epochs.set_eeg_reference(projection=True, verbose=verbose)#.apply_baseline(baseline=baseline)\n",
      "c:\\Users\\Lukas\\Documents\\projects\\esinet\\evaluate\\..\\esinet\\util\\util.py:420: RuntimeWarning: Too few samples (required : 310 got : 80), covariance estimate may be unreliable\n",
      "  data_cov = mne.compute_raw_covariance(raw, tmin=tmin,\n",
      "c:\\Users\\Lukas\\Documents\\projects\\esinet\\evaluate\\..\\esinet\\util\\util.py:388: RuntimeWarning: An average reference projection was already added. The data has been left untouched.\n",
      "  epochs.set_eeg_reference(projection=True, verbose=verbose)#.apply_baseline(baseline=baseline)\n",
      "c:\\Users\\Lukas\\Documents\\projects\\esinet\\evaluate\\..\\esinet\\util\\util.py:420: RuntimeWarning: Too few samples (required : 310 got : 120), covariance estimate may be unreliable\n",
      "  data_cov = mne.compute_raw_covariance(raw, tmin=tmin,\n",
      "c:\\Users\\Lukas\\Documents\\projects\\esinet\\evaluate\\..\\esinet\\util\\util.py:388: RuntimeWarning: An average reference projection was already added. The data has been left untouched.\n",
      "  epochs.set_eeg_reference(projection=True, verbose=verbose)#.apply_baseline(baseline=baseline)\n"
     ]
    },
    {
     "name": "stdout",
     "output_type": "stream",
     "text": [
      "<RawArray | 61 x 530 (5.3 s), ~342 kB, data loaded> 4.0 info empirical\n",
      "<RawArray | 61 x 451 (4.5 s), ~305 kB, data loaded> 4.0 info empirical\n",
      "<RawArray | 61 x 534 (5.3 s), ~344 kB, data loaded> 4.0 info empirical\n",
      "<RawArray | 61 x 581 (5.8 s), ~367 kB, data loaded> 4.0 info empirical\n"
     ]
    },
    {
     "name": "stderr",
     "output_type": "stream",
     "text": [
      "c:\\Users\\Lukas\\Documents\\projects\\esinet\\evaluate\\..\\esinet\\util\\util.py:420: RuntimeWarning: Too few samples (required : 310 got : 40), covariance estimate may be unreliable\n",
      "  data_cov = mne.compute_raw_covariance(raw, tmin=tmin,\n",
      "c:\\Users\\Lukas\\Documents\\projects\\esinet\\evaluate\\..\\esinet\\util\\util.py:388: RuntimeWarning: An average reference projection was already added. The data has been left untouched.\n",
      "  epochs.set_eeg_reference(projection=True, verbose=verbose)#.apply_baseline(baseline=baseline)\n",
      "c:\\Users\\Lukas\\Documents\\projects\\esinet\\evaluate\\..\\esinet\\util\\util.py:420: RuntimeWarning: Too few samples (required : 310 got : 120), covariance estimate may be unreliable\n",
      "  data_cov = mne.compute_raw_covariance(raw, tmin=tmin,\n",
      "c:\\Users\\Lukas\\Documents\\projects\\esinet\\evaluate\\..\\esinet\\util\\util.py:388: RuntimeWarning: An average reference projection was already added. The data has been left untouched.\n",
      "  epochs.set_eeg_reference(projection=True, verbose=verbose)#.apply_baseline(baseline=baseline)\n",
      "c:\\Users\\Lukas\\Documents\\projects\\esinet\\evaluate\\..\\esinet\\util\\util.py:420: RuntimeWarning: Too few samples (required : 310 got : 180), covariance estimate may be unreliable\n",
      "  data_cov = mne.compute_raw_covariance(raw, tmin=tmin,\n",
      "c:\\Users\\Lukas\\Documents\\projects\\esinet\\evaluate\\..\\esinet\\util\\util.py:388: RuntimeWarning: An average reference projection was already added. The data has been left untouched.\n",
      "  epochs.set_eeg_reference(projection=True, verbose=verbose)#.apply_baseline(baseline=baseline)\n",
      "c:\\Users\\Lukas\\Documents\\projects\\esinet\\evaluate\\..\\esinet\\util\\util.py:420: RuntimeWarning: Too few samples (required : 310 got : 40), covariance estimate may be unreliable\n",
      "  data_cov = mne.compute_raw_covariance(raw, tmin=tmin,\n",
      "c:\\Users\\Lukas\\Documents\\projects\\esinet\\evaluate\\..\\esinet\\util\\util.py:388: RuntimeWarning: An average reference projection was already added. The data has been left untouched.\n",
      "  epochs.set_eeg_reference(projection=True, verbose=verbose)#.apply_baseline(baseline=baseline)\n"
     ]
    },
    {
     "name": "stdout",
     "output_type": "stream",
     "text": [
      "<RawArray | 61 x 453 (4.5 s), ~306 kB, data loaded> 4.0 info empirical\n",
      "<RawArray | 61 x 583 (5.8 s), ~368 kB, data loaded> 4.0 info empirical\n",
      "<RawArray | 61 x 597 (6.0 s), ~374 kB, data loaded> 4.0 info empirical\n",
      "<RawArray | 61 x 445 (4.4 s), ~302 kB, data loaded> 4.0 info empirical\n"
     ]
    },
    {
     "name": "stderr",
     "output_type": "stream",
     "text": [
      "c:\\Users\\Lukas\\Documents\\projects\\esinet\\evaluate\\..\\esinet\\util\\util.py:420: RuntimeWarning: Too few samples (required : 310 got : 180), covariance estimate may be unreliable\n",
      "  data_cov = mne.compute_raw_covariance(raw, tmin=tmin,\n",
      "c:\\Users\\Lukas\\Documents\\projects\\esinet\\evaluate\\..\\esinet\\util\\util.py:388: RuntimeWarning: An average reference projection was already added. The data has been left untouched.\n",
      "  epochs.set_eeg_reference(projection=True, verbose=verbose)#.apply_baseline(baseline=baseline)\n",
      "c:\\Users\\Lukas\\Documents\\projects\\esinet\\evaluate\\..\\esinet\\util\\util.py:420: RuntimeWarning: Too few samples (required : 310 got : 180), covariance estimate may be unreliable\n",
      "  data_cov = mne.compute_raw_covariance(raw, tmin=tmin,\n",
      "c:\\Users\\Lukas\\Documents\\projects\\esinet\\evaluate\\..\\esinet\\util\\util.py:388: RuntimeWarning: An average reference projection was already added. The data has been left untouched.\n",
      "  epochs.set_eeg_reference(projection=True, verbose=verbose)#.apply_baseline(baseline=baseline)\n",
      "c:\\Users\\Lukas\\Documents\\projects\\esinet\\evaluate\\..\\esinet\\util\\util.py:420: RuntimeWarning: Too few samples (required : 310 got : 40), covariance estimate may be unreliable\n",
      "  data_cov = mne.compute_raw_covariance(raw, tmin=tmin,\n",
      "c:\\Users\\Lukas\\Documents\\projects\\esinet\\evaluate\\..\\esinet\\util\\util.py:388: RuntimeWarning: An average reference projection was already added. The data has been left untouched.\n",
      "  epochs.set_eeg_reference(projection=True, verbose=verbose)#.apply_baseline(baseline=baseline)\n",
      "c:\\Users\\Lukas\\Documents\\projects\\esinet\\evaluate\\..\\esinet\\util\\util.py:420: RuntimeWarning: Too few samples (required : 310 got : 20), covariance estimate may be unreliable\n",
      "  data_cov = mne.compute_raw_covariance(raw, tmin=tmin,\n",
      "c:\\Users\\Lukas\\Documents\\projects\\esinet\\evaluate\\..\\esinet\\util\\util.py:388: RuntimeWarning: An average reference projection was already added. The data has been left untouched.\n",
      "  epochs.set_eeg_reference(projection=True, verbose=verbose)#.apply_baseline(baseline=baseline)\n"
     ]
    },
    {
     "name": "stdout",
     "output_type": "stream",
     "text": [
      "<RawArray | 61 x 435 (4.3 s), ~297 kB, data loaded> 4.0 info empirical\n",
      "<RawArray | 61 x 566 (5.7 s), ~360 kB, data loaded> 4.0 info empirical\n",
      "<RawArray | 61 x 529 (5.3 s), ~342 kB, data loaded> 4.0 info empirical\n",
      "<RawArray | 61 x 529 (5.3 s), ~342 kB, data loaded> 4.0 info empirical\n"
     ]
    },
    {
     "name": "stderr",
     "output_type": "stream",
     "text": [
      "c:\\Users\\Lukas\\Documents\\projects\\esinet\\evaluate\\..\\esinet\\util\\util.py:420: RuntimeWarning: Too few samples (required : 310 got : 160), covariance estimate may be unreliable\n",
      "  data_cov = mne.compute_raw_covariance(raw, tmin=tmin,\n",
      "c:\\Users\\Lukas\\Documents\\projects\\esinet\\evaluate\\..\\esinet\\util\\util.py:388: RuntimeWarning: An average reference projection was already added. The data has been left untouched.\n",
      "  epochs.set_eeg_reference(projection=True, verbose=verbose)#.apply_baseline(baseline=baseline)\n",
      "c:\\Users\\Lukas\\Documents\\projects\\esinet\\evaluate\\..\\esinet\\util\\util.py:420: RuntimeWarning: Too few samples (required : 310 got : 120), covariance estimate may be unreliable\n",
      "  data_cov = mne.compute_raw_covariance(raw, tmin=tmin,\n",
      "c:\\Users\\Lukas\\Documents\\projects\\esinet\\evaluate\\..\\esinet\\util\\util.py:388: RuntimeWarning: An average reference projection was already added. The data has been left untouched.\n",
      "  epochs.set_eeg_reference(projection=True, verbose=verbose)#.apply_baseline(baseline=baseline)\n",
      "c:\\Users\\Lukas\\Documents\\projects\\esinet\\evaluate\\..\\esinet\\util\\util.py:420: RuntimeWarning: Too few samples (required : 310 got : 120), covariance estimate may be unreliable\n",
      "  data_cov = mne.compute_raw_covariance(raw, tmin=tmin,\n",
      "c:\\Users\\Lukas\\Documents\\projects\\esinet\\evaluate\\..\\esinet\\util\\util.py:388: RuntimeWarning: An average reference projection was already added. The data has been left untouched.\n",
      "  epochs.set_eeg_reference(projection=True, verbose=verbose)#.apply_baseline(baseline=baseline)\n",
      "c:\\Users\\Lukas\\Documents\\projects\\esinet\\evaluate\\..\\esinet\\util\\util.py:423: RuntimeWarning: Epochs are not baseline corrected, covariance matrix may be inaccurate\n",
      "  data_cov = mne.compute_covariance(epochs, tmin=0.0,\n",
      "c:\\Users\\Lukas\\Documents\\projects\\esinet\\evaluate\\..\\esinet\\util\\util.py:423: RuntimeWarning: Too few samples (required : 310 got : 12), covariance estimate may be unreliable\n",
      "  data_cov = mne.compute_covariance(epochs, tmin=0.0,\n"
     ]
    },
    {
     "name": "stdout",
     "output_type": "stream",
     "text": [
      "<RawArray | 61 x 412 (4.1 s), ~286 kB, data loaded> 4.0 info empirical\n",
      "<RawArray | 61 x 522 (5.2 s), ~339 kB, data loaded> 4.0 info empirical\n",
      "<RawArray | 61 x 477 (4.8 s), ~317 kB, data loaded> 4.0 info empirical\n",
      "<RawArray | 61 x 428 (4.3 s), ~294 kB, data loaded> 4.0 info empirical\n"
     ]
    },
    {
     "name": "stderr",
     "output_type": "stream",
     "text": [
      "c:\\Users\\Lukas\\Documents\\projects\\esinet\\evaluate\\..\\esinet\\util\\util.py:388: RuntimeWarning: An average reference projection was already added. The data has been left untouched.\n",
      "  epochs.set_eeg_reference(projection=True, verbose=verbose)#.apply_baseline(baseline=baseline)\n",
      "c:\\Users\\Lukas\\Documents\\projects\\esinet\\evaluate\\..\\esinet\\util\\util.py:420: RuntimeWarning: Too few samples (required : 310 got : 120), covariance estimate may be unreliable\n",
      "  data_cov = mne.compute_raw_covariance(raw, tmin=tmin,\n",
      "c:\\Users\\Lukas\\Documents\\projects\\esinet\\evaluate\\..\\esinet\\util\\util.py:388: RuntimeWarning: An average reference projection was already added. The data has been left untouched.\n",
      "  epochs.set_eeg_reference(projection=True, verbose=verbose)#.apply_baseline(baseline=baseline)\n",
      "c:\\Users\\Lukas\\Documents\\projects\\esinet\\evaluate\\..\\esinet\\util\\util.py:420: RuntimeWarning: Too few samples (required : 310 got : 60), covariance estimate may be unreliable\n",
      "  data_cov = mne.compute_raw_covariance(raw, tmin=tmin,\n",
      "c:\\Users\\Lukas\\Documents\\projects\\esinet\\evaluate\\..\\esinet\\util\\util.py:388: RuntimeWarning: An average reference projection was already added. The data has been left untouched.\n",
      "  epochs.set_eeg_reference(projection=True, verbose=verbose)#.apply_baseline(baseline=baseline)\n",
      "c:\\Users\\Lukas\\Documents\\projects\\esinet\\evaluate\\..\\esinet\\util\\util.py:420: RuntimeWarning: Too few samples (required : 310 got : 20), covariance estimate may be unreliable\n",
      "  data_cov = mne.compute_raw_covariance(raw, tmin=tmin,\n",
      "c:\\Users\\Lukas\\Documents\\projects\\esinet\\evaluate\\..\\esinet\\util\\util.py:388: RuntimeWarning: An average reference projection was already added. The data has been left untouched.\n",
      "  epochs.set_eeg_reference(projection=True, verbose=verbose)#.apply_baseline(baseline=baseline)\n",
      "c:\\Users\\Lukas\\Documents\\projects\\esinet\\evaluate\\..\\esinet\\util\\util.py:420: RuntimeWarning: Too few samples (required : 310 got : 180), covariance estimate may be unreliable\n",
      "  data_cov = mne.compute_raw_covariance(raw, tmin=tmin,\n",
      "c:\\Users\\Lukas\\Documents\\projects\\esinet\\evaluate\\..\\esinet\\util\\util.py:388: RuntimeWarning: An average reference projection was already added. The data has been left untouched.\n",
      "  epochs.set_eeg_reference(projection=True, verbose=verbose)#.apply_baseline(baseline=baseline)\n"
     ]
    },
    {
     "name": "stdout",
     "output_type": "stream",
     "text": [
      "<RawArray | 61 x 588 (5.9 s), ~370 kB, data loaded> 4.0 info empirical\n",
      "<RawArray | 61 x 434 (4.3 s), ~297 kB, data loaded> 4.0 info empirical\n",
      "<RawArray | 61 x 485 (4.8 s), ~321 kB, data loaded> 4.0 info empirical\n",
      "<RawArray | 61 x 412 (4.1 s), ~286 kB, data loaded> 4.0 info empirical\n"
     ]
    },
    {
     "name": "stderr",
     "output_type": "stream",
     "text": [
      "c:\\Users\\Lukas\\Documents\\projects\\esinet\\evaluate\\..\\esinet\\util\\util.py:420: RuntimeWarning: Too few samples (required : 310 got : 20), covariance estimate may be unreliable\n",
      "  data_cov = mne.compute_raw_covariance(raw, tmin=tmin,\n",
      "c:\\Users\\Lukas\\Documents\\projects\\esinet\\evaluate\\..\\esinet\\util\\util.py:388: RuntimeWarning: An average reference projection was already added. The data has been left untouched.\n",
      "  epochs.set_eeg_reference(projection=True, verbose=verbose)#.apply_baseline(baseline=baseline)\n",
      "c:\\Users\\Lukas\\Documents\\projects\\esinet\\evaluate\\..\\esinet\\util\\util.py:420: RuntimeWarning: Too few samples (required : 310 got : 80), covariance estimate may be unreliable\n",
      "  data_cov = mne.compute_raw_covariance(raw, tmin=tmin,\n",
      "c:\\Users\\Lukas\\Documents\\projects\\esinet\\evaluate\\..\\esinet\\util\\util.py:388: RuntimeWarning: An average reference projection was already added. The data has been left untouched.\n",
      "  epochs.set_eeg_reference(projection=True, verbose=verbose)#.apply_baseline(baseline=baseline)\n",
      "c:\\Users\\Lukas\\Documents\\projects\\esinet\\evaluate\\..\\esinet\\util\\util.py:423: RuntimeWarning: Epochs are not baseline corrected, covariance matrix may be inaccurate\n",
      "  data_cov = mne.compute_covariance(epochs, tmin=0.0,\n",
      "c:\\Users\\Lukas\\Documents\\projects\\esinet\\evaluate\\..\\esinet\\util\\util.py:423: RuntimeWarning: Too few samples (required : 310 got : 12), covariance estimate may be unreliable\n",
      "  data_cov = mne.compute_covariance(epochs, tmin=0.0,\n",
      "c:\\Users\\Lukas\\Documents\\projects\\esinet\\evaluate\\..\\esinet\\util\\util.py:388: RuntimeWarning: An average reference projection was already added. The data has been left untouched.\n",
      "  epochs.set_eeg_reference(projection=True, verbose=verbose)#.apply_baseline(baseline=baseline)\n",
      "c:\\Users\\Lukas\\Documents\\projects\\esinet\\evaluate\\..\\esinet\\util\\util.py:420: RuntimeWarning: Too few samples (required : 310 got : 120), covariance estimate may be unreliable\n",
      "  data_cov = mne.compute_raw_covariance(raw, tmin=tmin,\n",
      "c:\\Users\\Lukas\\Documents\\projects\\esinet\\evaluate\\..\\esinet\\util\\util.py:388: RuntimeWarning: An average reference projection was already added. The data has been left untouched.\n",
      "  epochs.set_eeg_reference(projection=True, verbose=verbose)#.apply_baseline(baseline=baseline)\n"
     ]
    },
    {
     "name": "stdout",
     "output_type": "stream",
     "text": [
      "<RawArray | 61 x 529 (5.3 s), ~342 kB, data loaded> 4.0 info empirical\n",
      "<RawArray | 61 x 491 (4.9 s), ~324 kB, data loaded> 4.0 info empirical\n",
      "<RawArray | 61 x 421 (4.2 s), ~290 kB, data loaded> 4.0 info empirical\n",
      "<RawArray | 61 x 457 (4.6 s), ~308 kB, data loaded> 4.0 info empirical\n"
     ]
    },
    {
     "name": "stderr",
     "output_type": "stream",
     "text": [
      "c:\\Users\\Lukas\\Documents\\projects\\esinet\\evaluate\\..\\esinet\\util\\util.py:420: RuntimeWarning: Too few samples (required : 310 got : 80), covariance estimate may be unreliable\n",
      "  data_cov = mne.compute_raw_covariance(raw, tmin=tmin,\n",
      "c:\\Users\\Lukas\\Documents\\projects\\esinet\\evaluate\\..\\esinet\\util\\util.py:388: RuntimeWarning: An average reference projection was already added. The data has been left untouched.\n",
      "  epochs.set_eeg_reference(projection=True, verbose=verbose)#.apply_baseline(baseline=baseline)\n",
      "c:\\Users\\Lukas\\Documents\\projects\\esinet\\evaluate\\..\\esinet\\util\\util.py:420: RuntimeWarning: Too few samples (required : 310 got : 20), covariance estimate may be unreliable\n",
      "  data_cov = mne.compute_raw_covariance(raw, tmin=tmin,\n",
      "c:\\Users\\Lukas\\Documents\\projects\\esinet\\evaluate\\..\\esinet\\util\\util.py:388: RuntimeWarning: An average reference projection was already added. The data has been left untouched.\n",
      "  epochs.set_eeg_reference(projection=True, verbose=verbose)#.apply_baseline(baseline=baseline)\n",
      "c:\\Users\\Lukas\\Documents\\projects\\esinet\\evaluate\\..\\esinet\\util\\util.py:420: RuntimeWarning: Too few samples (required : 310 got : 40), covariance estimate may be unreliable\n",
      "  data_cov = mne.compute_raw_covariance(raw, tmin=tmin,\n",
      "c:\\Users\\Lukas\\Documents\\projects\\esinet\\evaluate\\..\\esinet\\util\\util.py:388: RuntimeWarning: An average reference projection was already added. The data has been left untouched.\n",
      "  epochs.set_eeg_reference(projection=True, verbose=verbose)#.apply_baseline(baseline=baseline)\n",
      "c:\\Users\\Lukas\\Documents\\projects\\esinet\\evaluate\\..\\esinet\\util\\util.py:420: RuntimeWarning: Too few samples (required : 310 got : 100), covariance estimate may be unreliable\n",
      "  data_cov = mne.compute_raw_covariance(raw, tmin=tmin,\n"
     ]
    },
    {
     "name": "stdout",
     "output_type": "stream",
     "text": [
      "<RawArray | 61 x 510 (5.1 s), ~333 kB, data loaded> 4.0 info empirical\n",
      "<RawArray | 61 x 483 (4.8 s), ~320 kB, data loaded> 4.0 info empirical\n",
      "<RawArray | 61 x 520 (5.2 s), ~338 kB, data loaded> 4.0 info empirical\n",
      "<RawArray | 61 x 407 (4.1 s), ~284 kB, data loaded> 4.0 info empirical\n"
     ]
    },
    {
     "name": "stderr",
     "output_type": "stream",
     "text": [
      "c:\\Users\\Lukas\\Documents\\projects\\esinet\\evaluate\\..\\esinet\\util\\util.py:388: RuntimeWarning: An average reference projection was already added. The data has been left untouched.\n",
      "  epochs.set_eeg_reference(projection=True, verbose=verbose)#.apply_baseline(baseline=baseline)\n",
      "c:\\Users\\Lukas\\Documents\\projects\\esinet\\evaluate\\..\\esinet\\util\\util.py:420: RuntimeWarning: Too few samples (required : 310 got : 80), covariance estimate may be unreliable\n",
      "  data_cov = mne.compute_raw_covariance(raw, tmin=tmin,\n",
      "c:\\Users\\Lukas\\Documents\\projects\\esinet\\evaluate\\..\\esinet\\util\\util.py:388: RuntimeWarning: An average reference projection was already added. The data has been left untouched.\n",
      "  epochs.set_eeg_reference(projection=True, verbose=verbose)#.apply_baseline(baseline=baseline)\n",
      "c:\\Users\\Lukas\\Documents\\projects\\esinet\\evaluate\\..\\esinet\\util\\util.py:420: RuntimeWarning: Too few samples (required : 310 got : 120), covariance estimate may be unreliable\n",
      "  data_cov = mne.compute_raw_covariance(raw, tmin=tmin,\n",
      "c:\\Users\\Lukas\\Documents\\projects\\esinet\\evaluate\\..\\esinet\\util\\util.py:388: RuntimeWarning: An average reference projection was already added. The data has been left untouched.\n",
      "  epochs.set_eeg_reference(projection=True, verbose=verbose)#.apply_baseline(baseline=baseline)\n",
      "c:\\Users\\Lukas\\Documents\\projects\\esinet\\evaluate\\..\\esinet\\util\\util.py:423: RuntimeWarning: Epochs are not baseline corrected, covariance matrix may be inaccurate\n",
      "  data_cov = mne.compute_covariance(epochs, tmin=0.0,\n",
      "c:\\Users\\Lukas\\Documents\\projects\\esinet\\evaluate\\..\\esinet\\util\\util.py:423: RuntimeWarning: Too few samples (required : 310 got : 7), covariance estimate may be unreliable\n",
      "  data_cov = mne.compute_covariance(epochs, tmin=0.0,\n",
      "c:\\Users\\Lukas\\Documents\\projects\\esinet\\evaluate\\..\\esinet\\util\\util.py:388: RuntimeWarning: An average reference projection was already added. The data has been left untouched.\n",
      "  epochs.set_eeg_reference(projection=True, verbose=verbose)#.apply_baseline(baseline=baseline)\n",
      "c:\\Users\\Lukas\\Documents\\projects\\esinet\\evaluate\\..\\esinet\\util\\util.py:420: RuntimeWarning: Too few samples (required : 310 got : 40), covariance estimate may be unreliable\n",
      "  data_cov = mne.compute_raw_covariance(raw, tmin=tmin,\n"
     ]
    },
    {
     "name": "stdout",
     "output_type": "stream",
     "text": [
      "<RawArray | 61 x 453 (4.5 s), ~306 kB, data loaded> 4.0 info empirical\n",
      "<RawArray | 61 x 584 (5.8 s), ~368 kB, data loaded> 4.0 info empirical\n",
      "<RawArray | 61 x 443 (4.4 s), ~301 kB, data loaded> 4.0 info empirical\n",
      "<RawArray | 61 x 554 (5.5 s), ~354 kB, data loaded> 4.0 info empirical\n"
     ]
    },
    {
     "name": "stderr",
     "output_type": "stream",
     "text": [
      "c:\\Users\\Lukas\\Documents\\projects\\esinet\\evaluate\\..\\esinet\\util\\util.py:388: RuntimeWarning: An average reference projection was already added. The data has been left untouched.\n",
      "  epochs.set_eeg_reference(projection=True, verbose=verbose)#.apply_baseline(baseline=baseline)\n",
      "c:\\Users\\Lukas\\Documents\\projects\\esinet\\evaluate\\..\\esinet\\util\\util.py:420: RuntimeWarning: Too few samples (required : 310 got : 180), covariance estimate may be unreliable\n",
      "  data_cov = mne.compute_raw_covariance(raw, tmin=tmin,\n",
      "c:\\Users\\Lukas\\Documents\\projects\\esinet\\evaluate\\..\\esinet\\util\\util.py:388: RuntimeWarning: An average reference projection was already added. The data has been left untouched.\n",
      "  epochs.set_eeg_reference(projection=True, verbose=verbose)#.apply_baseline(baseline=baseline)\n",
      "c:\\Users\\Lukas\\Documents\\projects\\esinet\\evaluate\\..\\esinet\\util\\util.py:420: RuntimeWarning: Too few samples (required : 310 got : 40), covariance estimate may be unreliable\n",
      "  data_cov = mne.compute_raw_covariance(raw, tmin=tmin,\n",
      "c:\\Users\\Lukas\\Documents\\projects\\esinet\\evaluate\\..\\esinet\\util\\util.py:388: RuntimeWarning: An average reference projection was already added. The data has been left untouched.\n",
      "  epochs.set_eeg_reference(projection=True, verbose=verbose)#.apply_baseline(baseline=baseline)\n",
      "c:\\Users\\Lukas\\Documents\\projects\\esinet\\evaluate\\..\\esinet\\util\\util.py:420: RuntimeWarning: Too few samples (required : 310 got : 140), covariance estimate may be unreliable\n",
      "  data_cov = mne.compute_raw_covariance(raw, tmin=tmin,\n",
      "c:\\Users\\Lukas\\Documents\\projects\\esinet\\evaluate\\..\\esinet\\util\\util.py:388: RuntimeWarning: An average reference projection was already added. The data has been left untouched.\n",
      "  epochs.set_eeg_reference(projection=True, verbose=verbose)#.apply_baseline(baseline=baseline)\n",
      "c:\\Users\\Lukas\\Documents\\projects\\esinet\\evaluate\\..\\esinet\\util\\util.py:420: RuntimeWarning: Too few samples (required : 310 got : 80), covariance estimate may be unreliable\n",
      "  data_cov = mne.compute_raw_covariance(raw, tmin=tmin,\n"
     ]
    },
    {
     "name": "stdout",
     "output_type": "stream",
     "text": [
      "<RawArray | 61 x 484 (4.8 s), ~320 kB, data loaded> 4.0 info empirical\n",
      "<RawArray | 61 x 457 (4.6 s), ~308 kB, data loaded> 4.0 info empirical\n",
      "<RawArray | 61 x 593 (5.9 s), ~372 kB, data loaded> 4.0 info empirical\n",
      "<RawArray | 61 x 418 (4.2 s), ~289 kB, data loaded> 4.0 info empirical\n"
     ]
    },
    {
     "name": "stderr",
     "output_type": "stream",
     "text": [
      "c:\\Users\\Lukas\\Documents\\projects\\esinet\\evaluate\\..\\esinet\\util\\util.py:388: RuntimeWarning: An average reference projection was already added. The data has been left untouched.\n",
      "  epochs.set_eeg_reference(projection=True, verbose=verbose)#.apply_baseline(baseline=baseline)\n",
      "c:\\Users\\Lukas\\Documents\\projects\\esinet\\evaluate\\..\\esinet\\util\\util.py:420: RuntimeWarning: Too few samples (required : 310 got : 40), covariance estimate may be unreliable\n",
      "  data_cov = mne.compute_raw_covariance(raw, tmin=tmin,\n",
      "c:\\Users\\Lukas\\Documents\\projects\\esinet\\evaluate\\..\\esinet\\util\\util.py:388: RuntimeWarning: An average reference projection was already added. The data has been left untouched.\n",
      "  epochs.set_eeg_reference(projection=True, verbose=verbose)#.apply_baseline(baseline=baseline)\n",
      "c:\\Users\\Lukas\\Documents\\projects\\esinet\\evaluate\\..\\esinet\\util\\util.py:420: RuntimeWarning: Too few samples (required : 310 got : 180), covariance estimate may be unreliable\n",
      "  data_cov = mne.compute_raw_covariance(raw, tmin=tmin,\n",
      "c:\\Users\\Lukas\\Documents\\projects\\esinet\\evaluate\\..\\esinet\\util\\util.py:388: RuntimeWarning: An average reference projection was already added. The data has been left untouched.\n",
      "  epochs.set_eeg_reference(projection=True, verbose=verbose)#.apply_baseline(baseline=baseline)\n",
      "c:\\Users\\Lukas\\Documents\\projects\\esinet\\evaluate\\..\\esinet\\util\\util.py:423: RuntimeWarning: Epochs are not baseline corrected, covariance matrix may be inaccurate\n",
      "  data_cov = mne.compute_covariance(epochs, tmin=0.0,\n",
      "c:\\Users\\Lukas\\Documents\\projects\\esinet\\evaluate\\..\\esinet\\util\\util.py:423: RuntimeWarning: Too few samples (required : 310 got : 18), covariance estimate may be unreliable\n",
      "  data_cov = mne.compute_covariance(epochs, tmin=0.0,\n",
      "c:\\Users\\Lukas\\Documents\\projects\\esinet\\evaluate\\..\\esinet\\util\\util.py:388: RuntimeWarning: An average reference projection was already added. The data has been left untouched.\n",
      "  epochs.set_eeg_reference(projection=True, verbose=verbose)#.apply_baseline(baseline=baseline)\n",
      "c:\\Users\\Lukas\\Documents\\projects\\esinet\\evaluate\\..\\esinet\\util\\util.py:420: RuntimeWarning: Too few samples (required : 310 got : 20), covariance estimate may be unreliable\n",
      "  data_cov = mne.compute_raw_covariance(raw, tmin=tmin,\n"
     ]
    },
    {
     "name": "stdout",
     "output_type": "stream",
     "text": [
      "<RawArray | 61 x 433 (4.3 s), ~296 kB, data loaded> 4.0 info empirical\n",
      "<RawArray | 61 x 443 (4.4 s), ~301 kB, data loaded> 4.0 info empirical\n",
      "<RawArray | 61 x 439 (4.4 s), ~299 kB, data loaded> 4.0 info empirical\n",
      "<RawArray | 61 x 522 (5.2 s), ~339 kB, data loaded> 4.0 info empirical\n"
     ]
    },
    {
     "name": "stderr",
     "output_type": "stream",
     "text": [
      "c:\\Users\\Lukas\\Documents\\projects\\esinet\\evaluate\\..\\esinet\\util\\util.py:388: RuntimeWarning: An average reference projection was already added. The data has been left untouched.\n",
      "  epochs.set_eeg_reference(projection=True, verbose=verbose)#.apply_baseline(baseline=baseline)\n",
      "c:\\Users\\Lukas\\Documents\\projects\\esinet\\evaluate\\..\\esinet\\util\\util.py:420: RuntimeWarning: Too few samples (required : 310 got : 40), covariance estimate may be unreliable\n",
      "  data_cov = mne.compute_raw_covariance(raw, tmin=tmin,\n",
      "c:\\Users\\Lukas\\Documents\\projects\\esinet\\evaluate\\..\\esinet\\util\\util.py:388: RuntimeWarning: An average reference projection was already added. The data has been left untouched.\n",
      "  epochs.set_eeg_reference(projection=True, verbose=verbose)#.apply_baseline(baseline=baseline)\n",
      "c:\\Users\\Lukas\\Documents\\projects\\esinet\\evaluate\\..\\esinet\\util\\util.py:420: RuntimeWarning: Too few samples (required : 310 got : 20), covariance estimate may be unreliable\n",
      "  data_cov = mne.compute_raw_covariance(raw, tmin=tmin,\n",
      "c:\\Users\\Lukas\\Documents\\projects\\esinet\\evaluate\\..\\esinet\\util\\util.py:388: RuntimeWarning: An average reference projection was already added. The data has been left untouched.\n",
      "  epochs.set_eeg_reference(projection=True, verbose=verbose)#.apply_baseline(baseline=baseline)\n",
      "c:\\Users\\Lukas\\Documents\\projects\\esinet\\evaluate\\..\\esinet\\util\\util.py:420: RuntimeWarning: Too few samples (required : 310 got : 120), covariance estimate may be unreliable\n",
      "  data_cov = mne.compute_raw_covariance(raw, tmin=tmin,\n",
      "c:\\Users\\Lukas\\Documents\\projects\\esinet\\evaluate\\..\\esinet\\util\\util.py:388: RuntimeWarning: An average reference projection was already added. The data has been left untouched.\n",
      "  epochs.set_eeg_reference(projection=True, verbose=verbose)#.apply_baseline(baseline=baseline)\n",
      "c:\\Users\\Lukas\\Documents\\projects\\esinet\\evaluate\\..\\esinet\\util\\util.py:420: RuntimeWarning: Too few samples (required : 310 got : 140), covariance estimate may be unreliable\n",
      "  data_cov = mne.compute_raw_covariance(raw, tmin=tmin,\n",
      "c:\\Users\\Lukas\\Documents\\projects\\esinet\\evaluate\\..\\esinet\\util\\util.py:388: RuntimeWarning: An average reference projection was already added. The data has been left untouched.\n",
      "  epochs.set_eeg_reference(projection=True, verbose=verbose)#.apply_baseline(baseline=baseline)\n"
     ]
    },
    {
     "name": "stdout",
     "output_type": "stream",
     "text": [
      "<RawArray | 61 x 557 (5.6 s), ~355 kB, data loaded> 4.0 info empirical\n",
      "<RawArray | 61 x 559 (5.6 s), ~356 kB, data loaded> 4.0 info empirical\n",
      "<RawArray | 61 x 510 (5.1 s), ~333 kB, data loaded> 4.0 info empirical\n",
      "<RawArray | 61 x 534 (5.3 s), ~344 kB, data loaded> 4.0 info empirical\n"
     ]
    },
    {
     "name": "stderr",
     "output_type": "stream",
     "text": [
      "c:\\Users\\Lukas\\Documents\\projects\\esinet\\evaluate\\..\\esinet\\util\\util.py:420: RuntimeWarning: Too few samples (required : 310 got : 140), covariance estimate may be unreliable\n",
      "  data_cov = mne.compute_raw_covariance(raw, tmin=tmin,\n",
      "c:\\Users\\Lukas\\Documents\\projects\\esinet\\evaluate\\..\\esinet\\util\\util.py:388: RuntimeWarning: An average reference projection was already added. The data has been left untouched.\n",
      "  epochs.set_eeg_reference(projection=True, verbose=verbose)#.apply_baseline(baseline=baseline)\n",
      "c:\\Users\\Lukas\\Documents\\projects\\esinet\\evaluate\\..\\esinet\\util\\util.py:420: RuntimeWarning: Too few samples (required : 310 got : 100), covariance estimate may be unreliable\n",
      "  data_cov = mne.compute_raw_covariance(raw, tmin=tmin,\n",
      "c:\\Users\\Lukas\\Documents\\projects\\esinet\\evaluate\\..\\esinet\\util\\util.py:388: RuntimeWarning: An average reference projection was already added. The data has been left untouched.\n",
      "  epochs.set_eeg_reference(projection=True, verbose=verbose)#.apply_baseline(baseline=baseline)\n",
      "c:\\Users\\Lukas\\Documents\\projects\\esinet\\evaluate\\..\\esinet\\util\\util.py:420: RuntimeWarning: Too few samples (required : 310 got : 120), covariance estimate may be unreliable\n",
      "  data_cov = mne.compute_raw_covariance(raw, tmin=tmin,\n",
      "c:\\Users\\Lukas\\Documents\\projects\\esinet\\evaluate\\..\\esinet\\util\\util.py:388: RuntimeWarning: An average reference projection was already added. The data has been left untouched.\n",
      "  epochs.set_eeg_reference(projection=True, verbose=verbose)#.apply_baseline(baseline=baseline)\n",
      "c:\\Users\\Lukas\\Documents\\projects\\esinet\\evaluate\\..\\esinet\\util\\util.py:420: RuntimeWarning: Too few samples (required : 310 got : 120), covariance estimate may be unreliable\n",
      "  data_cov = mne.compute_raw_covariance(raw, tmin=tmin,\n",
      "c:\\Users\\Lukas\\Documents\\projects\\esinet\\evaluate\\..\\esinet\\util\\util.py:388: RuntimeWarning: An average reference projection was already added. The data has been left untouched.\n",
      "  epochs.set_eeg_reference(projection=True, verbose=verbose)#.apply_baseline(baseline=baseline)\n"
     ]
    },
    {
     "name": "stdout",
     "output_type": "stream",
     "text": [
      "<RawArray | 61 x 528 (5.3 s), ~341 kB, data loaded> 4.0 info empirical\n",
      "<RawArray | 61 x 489 (4.9 s), ~323 kB, data loaded> 4.0 info empirical\n",
      "<RawArray | 61 x 406 (4.0 s), ~283 kB, data loaded> 4.0 info empirical\n",
      "<RawArray | 61 x 449 (4.5 s), ~304 kB, data loaded> 4.0 info empirical\n"
     ]
    },
    {
     "name": "stderr",
     "output_type": "stream",
     "text": [
      "c:\\Users\\Lukas\\Documents\\projects\\esinet\\evaluate\\..\\esinet\\util\\util.py:420: RuntimeWarning: Too few samples (required : 310 got : 80), covariance estimate may be unreliable\n",
      "  data_cov = mne.compute_raw_covariance(raw, tmin=tmin,\n",
      "c:\\Users\\Lukas\\Documents\\projects\\esinet\\evaluate\\..\\esinet\\util\\util.py:388: RuntimeWarning: An average reference projection was already added. The data has been left untouched.\n",
      "  epochs.set_eeg_reference(projection=True, verbose=verbose)#.apply_baseline(baseline=baseline)\n",
      "c:\\Users\\Lukas\\Documents\\projects\\esinet\\evaluate\\..\\esinet\\util\\util.py:423: RuntimeWarning: Epochs are not baseline corrected, covariance matrix may be inaccurate\n",
      "  data_cov = mne.compute_covariance(epochs, tmin=0.0,\n",
      "c:\\Users\\Lukas\\Documents\\projects\\esinet\\evaluate\\..\\esinet\\util\\util.py:423: RuntimeWarning: Too few samples (required : 310 got : 6), covariance estimate may be unreliable\n",
      "  data_cov = mne.compute_covariance(epochs, tmin=0.0,\n",
      "c:\\Users\\Lukas\\Documents\\projects\\esinet\\evaluate\\..\\esinet\\util\\util.py:388: RuntimeWarning: An average reference projection was already added. The data has been left untouched.\n",
      "  epochs.set_eeg_reference(projection=True, verbose=verbose)#.apply_baseline(baseline=baseline)\n",
      "c:\\Users\\Lukas\\Documents\\projects\\esinet\\evaluate\\..\\esinet\\util\\util.py:420: RuntimeWarning: Too few samples (required : 310 got : 40), covariance estimate may be unreliable\n",
      "  data_cov = mne.compute_raw_covariance(raw, tmin=tmin,\n",
      "c:\\Users\\Lukas\\Documents\\projects\\esinet\\evaluate\\..\\esinet\\util\\util.py:388: RuntimeWarning: An average reference projection was already added. The data has been left untouched.\n",
      "  epochs.set_eeg_reference(projection=True, verbose=verbose)#.apply_baseline(baseline=baseline)\n",
      "c:\\Users\\Lukas\\Documents\\projects\\esinet\\evaluate\\..\\esinet\\util\\util.py:420: RuntimeWarning: Too few samples (required : 310 got : 180), covariance estimate may be unreliable\n",
      "  data_cov = mne.compute_raw_covariance(raw, tmin=tmin,\n",
      "c:\\Users\\Lukas\\Documents\\projects\\esinet\\evaluate\\..\\esinet\\util\\util.py:388: RuntimeWarning: An average reference projection was already added. The data has been left untouched.\n",
      "  epochs.set_eeg_reference(projection=True, verbose=verbose)#.apply_baseline(baseline=baseline)\n"
     ]
    },
    {
     "name": "stdout",
     "output_type": "stream",
     "text": [
      "<RawArray | 61 x 581 (5.8 s), ~367 kB, data loaded> 4.0 info empirical\n",
      "<RawArray | 61 x 436 (4.3 s), ~298 kB, data loaded> 4.0 info empirical\n",
      "<RawArray | 61 x 483 (4.8 s), ~320 kB, data loaded> 4.0 info empirical\n",
      "<RawArray | 61 x 522 (5.2 s), ~339 kB, data loaded> 4.0 info empirical\n"
     ]
    },
    {
     "name": "stderr",
     "output_type": "stream",
     "text": [
      "c:\\Users\\Lukas\\Documents\\projects\\esinet\\evaluate\\..\\esinet\\util\\util.py:420: RuntimeWarning: Too few samples (required : 310 got : 20), covariance estimate may be unreliable\n",
      "  data_cov = mne.compute_raw_covariance(raw, tmin=tmin,\n",
      "c:\\Users\\Lukas\\Documents\\projects\\esinet\\evaluate\\..\\esinet\\util\\util.py:388: RuntimeWarning: An average reference projection was already added. The data has been left untouched.\n",
      "  epochs.set_eeg_reference(projection=True, verbose=verbose)#.apply_baseline(baseline=baseline)\n",
      "c:\\Users\\Lukas\\Documents\\projects\\esinet\\evaluate\\..\\esinet\\util\\util.py:420: RuntimeWarning: Too few samples (required : 310 got : 80), covariance estimate may be unreliable\n",
      "  data_cov = mne.compute_raw_covariance(raw, tmin=tmin,\n",
      "c:\\Users\\Lukas\\Documents\\projects\\esinet\\evaluate\\..\\esinet\\util\\util.py:388: RuntimeWarning: An average reference projection was already added. The data has been left untouched.\n",
      "  epochs.set_eeg_reference(projection=True, verbose=verbose)#.apply_baseline(baseline=baseline)\n",
      "c:\\Users\\Lukas\\Documents\\projects\\esinet\\evaluate\\..\\esinet\\util\\util.py:420: RuntimeWarning: Too few samples (required : 310 got : 120), covariance estimate may be unreliable\n",
      "  data_cov = mne.compute_raw_covariance(raw, tmin=tmin,\n",
      "c:\\Users\\Lukas\\Documents\\projects\\esinet\\evaluate\\..\\esinet\\util\\util.py:388: RuntimeWarning: An average reference projection was already added. The data has been left untouched.\n",
      "  epochs.set_eeg_reference(projection=True, verbose=verbose)#.apply_baseline(baseline=baseline)\n",
      "c:\\Users\\Lukas\\Documents\\projects\\esinet\\evaluate\\..\\esinet\\util\\util.py:420: RuntimeWarning: Too few samples (required : 310 got : 60), covariance estimate may be unreliable\n",
      "  data_cov = mne.compute_raw_covariance(raw, tmin=tmin,\n",
      "c:\\Users\\Lukas\\Documents\\projects\\esinet\\evaluate\\..\\esinet\\util\\util.py:388: RuntimeWarning: An average reference projection was already added. The data has been left untouched.\n",
      "  epochs.set_eeg_reference(projection=True, verbose=verbose)#.apply_baseline(baseline=baseline)\n"
     ]
    },
    {
     "name": "stdout",
     "output_type": "stream",
     "text": [
      "<RawArray | 61 x 475 (4.7 s), ~316 kB, data loaded> 4.0 info empirical\n",
      "<RawArray | 61 x 544 (5.4 s), ~349 kB, data loaded> 4.0 info empirical\n",
      "<RawArray | 61 x 476 (4.8 s), ~317 kB, data loaded> 4.0 info empirical\n",
      "<RawArray | 61 x 573 (5.7 s), ~363 kB, data loaded> 4.0 info empirical\n"
     ]
    },
    {
     "name": "stderr",
     "output_type": "stream",
     "text": [
      "c:\\Users\\Lukas\\Documents\\projects\\esinet\\evaluate\\..\\esinet\\util\\util.py:420: RuntimeWarning: Too few samples (required : 310 got : 140), covariance estimate may be unreliable\n",
      "  data_cov = mne.compute_raw_covariance(raw, tmin=tmin,\n",
      "c:\\Users\\Lukas\\Documents\\projects\\esinet\\evaluate\\..\\esinet\\util\\util.py:388: RuntimeWarning: An average reference projection was already added. The data has been left untouched.\n",
      "  epochs.set_eeg_reference(projection=True, verbose=verbose)#.apply_baseline(baseline=baseline)\n",
      "c:\\Users\\Lukas\\Documents\\projects\\esinet\\evaluate\\..\\esinet\\util\\util.py:420: RuntimeWarning: Too few samples (required : 310 got : 60), covariance estimate may be unreliable\n",
      "  data_cov = mne.compute_raw_covariance(raw, tmin=tmin,\n",
      "c:\\Users\\Lukas\\Documents\\projects\\esinet\\evaluate\\..\\esinet\\util\\util.py:388: RuntimeWarning: An average reference projection was already added. The data has been left untouched.\n",
      "  epochs.set_eeg_reference(projection=True, verbose=verbose)#.apply_baseline(baseline=baseline)\n",
      "c:\\Users\\Lukas\\Documents\\projects\\esinet\\evaluate\\..\\esinet\\util\\util.py:420: RuntimeWarning: Too few samples (required : 310 got : 160), covariance estimate may be unreliable\n",
      "  data_cov = mne.compute_raw_covariance(raw, tmin=tmin,\n",
      "c:\\Users\\Lukas\\Documents\\projects\\esinet\\evaluate\\..\\esinet\\util\\util.py:388: RuntimeWarning: An average reference projection was already added. The data has been left untouched.\n",
      "  epochs.set_eeg_reference(projection=True, verbose=verbose)#.apply_baseline(baseline=baseline)\n",
      "c:\\Users\\Lukas\\Documents\\projects\\esinet\\evaluate\\..\\esinet\\util\\util.py:420: RuntimeWarning: Too few samples (required : 310 got : 140), covariance estimate may be unreliable\n",
      "  data_cov = mne.compute_raw_covariance(raw, tmin=tmin,\n",
      "c:\\Users\\Lukas\\Documents\\projects\\esinet\\evaluate\\..\\esinet\\util\\util.py:388: RuntimeWarning: An average reference projection was already added. The data has been left untouched.\n",
      "  epochs.set_eeg_reference(projection=True, verbose=verbose)#.apply_baseline(baseline=baseline)\n"
     ]
    },
    {
     "name": "stdout",
     "output_type": "stream",
     "text": [
      "<RawArray | 61 x 550 (5.5 s), ~352 kB, data loaded> 4.0 info empirical\n",
      "<RawArray | 61 x 454 (4.5 s), ~306 kB, data loaded> 4.0 info empirical\n",
      "<RawArray | 61 x 599 (6.0 s), ~375 kB, data loaded> 4.0 info empirical\n",
      "<RawArray | 61 x 538 (5.4 s), ~346 kB, data loaded> 4.0 info empirical\n"
     ]
    },
    {
     "name": "stderr",
     "output_type": "stream",
     "text": [
      "c:\\Users\\Lukas\\Documents\\projects\\esinet\\evaluate\\..\\esinet\\util\\util.py:420: RuntimeWarning: Too few samples (required : 310 got : 40), covariance estimate may be unreliable\n",
      "  data_cov = mne.compute_raw_covariance(raw, tmin=tmin,\n",
      "c:\\Users\\Lukas\\Documents\\projects\\esinet\\evaluate\\..\\esinet\\util\\util.py:388: RuntimeWarning: An average reference projection was already added. The data has been left untouched.\n",
      "  epochs.set_eeg_reference(projection=True, verbose=verbose)#.apply_baseline(baseline=baseline)\n",
      "c:\\Users\\Lukas\\Documents\\projects\\esinet\\evaluate\\..\\esinet\\util\\util.py:420: RuntimeWarning: Too few samples (required : 310 got : 180), covariance estimate may be unreliable\n",
      "  data_cov = mne.compute_raw_covariance(raw, tmin=tmin,\n",
      "c:\\Users\\Lukas\\Documents\\projects\\esinet\\evaluate\\..\\esinet\\util\\util.py:388: RuntimeWarning: An average reference projection was already added. The data has been left untouched.\n",
      "  epochs.set_eeg_reference(projection=True, verbose=verbose)#.apply_baseline(baseline=baseline)\n",
      "c:\\Users\\Lukas\\Documents\\projects\\esinet\\evaluate\\..\\esinet\\util\\util.py:420: RuntimeWarning: Too few samples (required : 310 got : 120), covariance estimate may be unreliable\n",
      "  data_cov = mne.compute_raw_covariance(raw, tmin=tmin,\n",
      "c:\\Users\\Lukas\\Documents\\projects\\esinet\\evaluate\\..\\esinet\\util\\util.py:388: RuntimeWarning: An average reference projection was already added. The data has been left untouched.\n",
      "  epochs.set_eeg_reference(projection=True, verbose=verbose)#.apply_baseline(baseline=baseline)\n",
      "c:\\Users\\Lukas\\Documents\\projects\\esinet\\evaluate\\..\\esinet\\util\\util.py:420: RuntimeWarning: Too few samples (required : 310 got : 160), covariance estimate may be unreliable\n",
      "  data_cov = mne.compute_raw_covariance(raw, tmin=tmin,\n",
      "c:\\Users\\Lukas\\Documents\\projects\\esinet\\evaluate\\..\\esinet\\util\\util.py:388: RuntimeWarning: An average reference projection was already added. The data has been left untouched.\n",
      "  epochs.set_eeg_reference(projection=True, verbose=verbose)#.apply_baseline(baseline=baseline)\n"
     ]
    },
    {
     "name": "stdout",
     "output_type": "stream",
     "text": [
      "<RawArray | 61 x 572 (5.7 s), ~362 kB, data loaded> 4.0 info empirical\n",
      "<RawArray | 61 x 545 (5.4 s), ~350 kB, data loaded> 4.0 info empirical\n",
      "<RawArray | 61 x 594 (5.9 s), ~373 kB, data loaded> 4.0 info empirical\n",
      "<RawArray | 61 x 462 (4.6 s), ~310 kB, data loaded> 4.0 info empirical\n"
     ]
    },
    {
     "name": "stderr",
     "output_type": "stream",
     "text": [
      "c:\\Users\\Lukas\\Documents\\projects\\esinet\\evaluate\\..\\esinet\\util\\util.py:420: RuntimeWarning: Too few samples (required : 310 got : 140), covariance estimate may be unreliable\n",
      "  data_cov = mne.compute_raw_covariance(raw, tmin=tmin,\n",
      "c:\\Users\\Lukas\\Documents\\projects\\esinet\\evaluate\\..\\esinet\\util\\util.py:388: RuntimeWarning: An average reference projection was already added. The data has been left untouched.\n",
      "  epochs.set_eeg_reference(projection=True, verbose=verbose)#.apply_baseline(baseline=baseline)\n",
      "c:\\Users\\Lukas\\Documents\\projects\\esinet\\evaluate\\..\\esinet\\util\\util.py:420: RuntimeWarning: Too few samples (required : 310 got : 180), covariance estimate may be unreliable\n",
      "  data_cov = mne.compute_raw_covariance(raw, tmin=tmin,\n",
      "c:\\Users\\Lukas\\Documents\\projects\\esinet\\evaluate\\..\\esinet\\util\\util.py:388: RuntimeWarning: An average reference projection was already added. The data has been left untouched.\n",
      "  epochs.set_eeg_reference(projection=True, verbose=verbose)#.apply_baseline(baseline=baseline)\n",
      "c:\\Users\\Lukas\\Documents\\projects\\esinet\\evaluate\\..\\esinet\\util\\util.py:420: RuntimeWarning: Too few samples (required : 310 got : 60), covariance estimate may be unreliable\n",
      "  data_cov = mne.compute_raw_covariance(raw, tmin=tmin,\n",
      "c:\\Users\\Lukas\\Documents\\projects\\esinet\\evaluate\\..\\esinet\\util\\util.py:388: RuntimeWarning: An average reference projection was already added. The data has been left untouched.\n",
      "  epochs.set_eeg_reference(projection=True, verbose=verbose)#.apply_baseline(baseline=baseline)\n",
      "c:\\Users\\Lukas\\Documents\\projects\\esinet\\evaluate\\..\\esinet\\util\\util.py:420: RuntimeWarning: Too few samples (required : 310 got : 100), covariance estimate may be unreliable\n",
      "  data_cov = mne.compute_raw_covariance(raw, tmin=tmin,\n",
      "c:\\Users\\Lukas\\Documents\\projects\\esinet\\evaluate\\..\\esinet\\util\\util.py:388: RuntimeWarning: An average reference projection was already added. The data has been left untouched.\n",
      "  epochs.set_eeg_reference(projection=True, verbose=verbose)#.apply_baseline(baseline=baseline)\n"
     ]
    },
    {
     "name": "stdout",
     "output_type": "stream",
     "text": [
      "<RawArray | 61 x 514 (5.1 s), ~335 kB, data loaded> 4.0 info empirical\n",
      "<RawArray | 61 x 560 (5.6 s), ~357 kB, data loaded> 4.0 info empirical\n",
      "<RawArray | 61 x 516 (5.2 s), ~336 kB, data loaded> 4.0 info empirical\n",
      "<RawArray | 61 x 599 (6.0 s), ~375 kB, data loaded> 4.0 info empirical\n"
     ]
    },
    {
     "name": "stderr",
     "output_type": "stream",
     "text": [
      "c:\\Users\\Lukas\\Documents\\projects\\esinet\\evaluate\\..\\esinet\\util\\util.py:420: RuntimeWarning: Too few samples (required : 310 got : 160), covariance estimate may be unreliable\n",
      "  data_cov = mne.compute_raw_covariance(raw, tmin=tmin,\n",
      "c:\\Users\\Lukas\\Documents\\projects\\esinet\\evaluate\\..\\esinet\\util\\util.py:388: RuntimeWarning: An average reference projection was already added. The data has been left untouched.\n",
      "  epochs.set_eeg_reference(projection=True, verbose=verbose)#.apply_baseline(baseline=baseline)\n",
      "c:\\Users\\Lukas\\Documents\\projects\\esinet\\evaluate\\..\\esinet\\util\\util.py:420: RuntimeWarning: Too few samples (required : 310 got : 100), covariance estimate may be unreliable\n",
      "  data_cov = mne.compute_raw_covariance(raw, tmin=tmin,\n",
      "c:\\Users\\Lukas\\Documents\\projects\\esinet\\evaluate\\..\\esinet\\util\\util.py:388: RuntimeWarning: An average reference projection was already added. The data has been left untouched.\n",
      "  epochs.set_eeg_reference(projection=True, verbose=verbose)#.apply_baseline(baseline=baseline)\n",
      "c:\\Users\\Lukas\\Documents\\projects\\esinet\\evaluate\\..\\esinet\\util\\util.py:420: RuntimeWarning: Too few samples (required : 310 got : 180), covariance estimate may be unreliable\n",
      "  data_cov = mne.compute_raw_covariance(raw, tmin=tmin,\n",
      "c:\\Users\\Lukas\\Documents\\projects\\esinet\\evaluate\\..\\esinet\\util\\util.py:388: RuntimeWarning: An average reference projection was already added. The data has been left untouched.\n",
      "  epochs.set_eeg_reference(projection=True, verbose=verbose)#.apply_baseline(baseline=baseline)\n",
      "c:\\Users\\Lukas\\Documents\\projects\\esinet\\evaluate\\..\\esinet\\util\\util.py:420: RuntimeWarning: Too few samples (required : 310 got : 100), covariance estimate may be unreliable\n",
      "  data_cov = mne.compute_raw_covariance(raw, tmin=tmin,\n"
     ]
    },
    {
     "name": "stdout",
     "output_type": "stream",
     "text": [
      "<RawArray | 61 x 507 (5.1 s), ~331 kB, data loaded> 4.0 info empirical\n",
      "<RawArray | 61 x 469 (4.7 s), ~313 kB, data loaded> 4.0 info empirical\n",
      "<RawArray | 61 x 417 (4.2 s), ~289 kB, data loaded> 4.0 info empirical\n",
      "<RawArray | 61 x 541 (5.4 s), ~348 kB, data loaded> 4.0 info empirical\n"
     ]
    },
    {
     "name": "stderr",
     "output_type": "stream",
     "text": [
      "c:\\Users\\Lukas\\Documents\\projects\\esinet\\evaluate\\..\\esinet\\util\\util.py:388: RuntimeWarning: An average reference projection was already added. The data has been left untouched.\n",
      "  epochs.set_eeg_reference(projection=True, verbose=verbose)#.apply_baseline(baseline=baseline)\n",
      "c:\\Users\\Lukas\\Documents\\projects\\esinet\\evaluate\\..\\esinet\\util\\util.py:420: RuntimeWarning: Too few samples (required : 310 got : 60), covariance estimate may be unreliable\n",
      "  data_cov = mne.compute_raw_covariance(raw, tmin=tmin,\n",
      "c:\\Users\\Lukas\\Documents\\projects\\esinet\\evaluate\\..\\esinet\\util\\util.py:388: RuntimeWarning: An average reference projection was already added. The data has been left untouched.\n",
      "  epochs.set_eeg_reference(projection=True, verbose=verbose)#.apply_baseline(baseline=baseline)\n",
      "c:\\Users\\Lukas\\Documents\\projects\\esinet\\evaluate\\..\\esinet\\util\\util.py:423: RuntimeWarning: Epochs are not baseline corrected, covariance matrix may be inaccurate\n",
      "  data_cov = mne.compute_covariance(epochs, tmin=0.0,\n",
      "c:\\Users\\Lukas\\Documents\\projects\\esinet\\evaluate\\..\\esinet\\util\\util.py:423: RuntimeWarning: Too few samples (required : 310 got : 17), covariance estimate may be unreliable\n",
      "  data_cov = mne.compute_covariance(epochs, tmin=0.0,\n",
      "c:\\Users\\Lukas\\Documents\\projects\\esinet\\evaluate\\..\\esinet\\util\\util.py:388: RuntimeWarning: An average reference projection was already added. The data has been left untouched.\n",
      "  epochs.set_eeg_reference(projection=True, verbose=verbose)#.apply_baseline(baseline=baseline)\n",
      "c:\\Users\\Lukas\\Documents\\projects\\esinet\\evaluate\\..\\esinet\\util\\util.py:420: RuntimeWarning: Too few samples (required : 310 got : 140), covariance estimate may be unreliable\n",
      "  data_cov = mne.compute_raw_covariance(raw, tmin=tmin,\n",
      "c:\\Users\\Lukas\\Documents\\projects\\esinet\\evaluate\\..\\esinet\\util\\util.py:388: RuntimeWarning: An average reference projection was already added. The data has been left untouched.\n",
      "  epochs.set_eeg_reference(projection=True, verbose=verbose)#.apply_baseline(baseline=baseline)\n",
      "c:\\Users\\Lukas\\Documents\\projects\\esinet\\evaluate\\..\\esinet\\util\\util.py:420: RuntimeWarning: Too few samples (required : 310 got : 140), covariance estimate may be unreliable\n",
      "  data_cov = mne.compute_raw_covariance(raw, tmin=tmin,\n"
     ]
    },
    {
     "name": "stdout",
     "output_type": "stream",
     "text": [
      "<RawArray | 61 x 546 (5.5 s), ~350 kB, data loaded> 4.0 info empirical\n",
      "<RawArray | 61 x 452 (4.5 s), ~305 kB, data loaded> 4.0 info empirical\n",
      "<RawArray | 61 x 421 (4.2 s), ~290 kB, data loaded> 4.0 info empirical\n",
      "<RawArray | 61 x 560 (5.6 s), ~357 kB, data loaded> 4.0 info empirical\n"
     ]
    },
    {
     "name": "stderr",
     "output_type": "stream",
     "text": [
      "c:\\Users\\Lukas\\Documents\\projects\\esinet\\evaluate\\..\\esinet\\util\\util.py:388: RuntimeWarning: An average reference projection was already added. The data has been left untouched.\n",
      "  epochs.set_eeg_reference(projection=True, verbose=verbose)#.apply_baseline(baseline=baseline)\n",
      "c:\\Users\\Lukas\\Documents\\projects\\esinet\\evaluate\\..\\esinet\\util\\util.py:420: RuntimeWarning: Too few samples (required : 310 got : 40), covariance estimate may be unreliable\n",
      "  data_cov = mne.compute_raw_covariance(raw, tmin=tmin,\n",
      "c:\\Users\\Lukas\\Documents\\projects\\esinet\\evaluate\\..\\esinet\\util\\util.py:388: RuntimeWarning: An average reference projection was already added. The data has been left untouched.\n",
      "  epochs.set_eeg_reference(projection=True, verbose=verbose)#.apply_baseline(baseline=baseline)\n",
      "c:\\Users\\Lukas\\Documents\\projects\\esinet\\evaluate\\..\\esinet\\util\\util.py:420: RuntimeWarning: Too few samples (required : 310 got : 20), covariance estimate may be unreliable\n",
      "  data_cov = mne.compute_raw_covariance(raw, tmin=tmin,\n",
      "c:\\Users\\Lukas\\Documents\\projects\\esinet\\evaluate\\..\\esinet\\util\\util.py:388: RuntimeWarning: An average reference projection was already added. The data has been left untouched.\n",
      "  epochs.set_eeg_reference(projection=True, verbose=verbose)#.apply_baseline(baseline=baseline)\n",
      "c:\\Users\\Lukas\\Documents\\projects\\esinet\\evaluate\\..\\esinet\\util\\util.py:420: RuntimeWarning: Too few samples (required : 310 got : 160), covariance estimate may be unreliable\n",
      "  data_cov = mne.compute_raw_covariance(raw, tmin=tmin,\n",
      "c:\\Users\\Lukas\\Documents\\projects\\esinet\\evaluate\\..\\esinet\\util\\util.py:388: RuntimeWarning: An average reference projection was already added. The data has been left untouched.\n",
      "  epochs.set_eeg_reference(projection=True, verbose=verbose)#.apply_baseline(baseline=baseline)\n",
      "c:\\Users\\Lukas\\Documents\\projects\\esinet\\evaluate\\..\\esinet\\util\\util.py:420: RuntimeWarning: Too few samples (required : 310 got : 140), covariance estimate may be unreliable\n",
      "  data_cov = mne.compute_raw_covariance(raw, tmin=tmin,\n",
      "c:\\Users\\Lukas\\Documents\\projects\\esinet\\evaluate\\..\\esinet\\util\\util.py:388: RuntimeWarning: An average reference projection was already added. The data has been left untouched.\n",
      "  epochs.set_eeg_reference(projection=True, verbose=verbose)#.apply_baseline(baseline=baseline)\n"
     ]
    },
    {
     "name": "stdout",
     "output_type": "stream",
     "text": [
      "<RawArray | 61 x 555 (5.5 s), ~354 kB, data loaded> 4.0 info empirical\n",
      "<RawArray | 61 x 588 (5.9 s), ~370 kB, data loaded> 4.0 info empirical\n",
      "<RawArray | 61 x 556 (5.5 s), ~355 kB, data loaded> 4.0 info empirical\n",
      "<RawArray | 61 x 488 (4.9 s), ~322 kB, data loaded> 4.0 info empirical\n"
     ]
    },
    {
     "name": "stderr",
     "output_type": "stream",
     "text": [
      "c:\\Users\\Lukas\\Documents\\projects\\esinet\\evaluate\\..\\esinet\\util\\util.py:420: RuntimeWarning: Too few samples (required : 310 got : 180), covariance estimate may be unreliable\n",
      "  data_cov = mne.compute_raw_covariance(raw, tmin=tmin,\n",
      "c:\\Users\\Lukas\\Documents\\projects\\esinet\\evaluate\\..\\esinet\\util\\util.py:388: RuntimeWarning: An average reference projection was already added. The data has been left untouched.\n",
      "  epochs.set_eeg_reference(projection=True, verbose=verbose)#.apply_baseline(baseline=baseline)\n",
      "c:\\Users\\Lukas\\Documents\\projects\\esinet\\evaluate\\..\\esinet\\util\\util.py:420: RuntimeWarning: Too few samples (required : 310 got : 140), covariance estimate may be unreliable\n",
      "  data_cov = mne.compute_raw_covariance(raw, tmin=tmin,\n",
      "c:\\Users\\Lukas\\Documents\\projects\\esinet\\evaluate\\..\\esinet\\util\\util.py:388: RuntimeWarning: An average reference projection was already added. The data has been left untouched.\n",
      "  epochs.set_eeg_reference(projection=True, verbose=verbose)#.apply_baseline(baseline=baseline)\n",
      "c:\\Users\\Lukas\\Documents\\projects\\esinet\\evaluate\\..\\esinet\\util\\util.py:420: RuntimeWarning: Too few samples (required : 310 got : 80), covariance estimate may be unreliable\n",
      "  data_cov = mne.compute_raw_covariance(raw, tmin=tmin,\n",
      "c:\\Users\\Lukas\\Documents\\projects\\esinet\\evaluate\\..\\esinet\\util\\util.py:388: RuntimeWarning: An average reference projection was already added. The data has been left untouched.\n",
      "  epochs.set_eeg_reference(projection=True, verbose=verbose)#.apply_baseline(baseline=baseline)\n",
      "c:\\Users\\Lukas\\Documents\\projects\\esinet\\evaluate\\..\\esinet\\util\\util.py:420: RuntimeWarning: Too few samples (required : 310 got : 100), covariance estimate may be unreliable\n",
      "  data_cov = mne.compute_raw_covariance(raw, tmin=tmin,\n"
     ]
    },
    {
     "name": "stdout",
     "output_type": "stream",
     "text": [
      "<RawArray | 61 x 515 (5.1 s), ~335 kB, data loaded> 4.0 info empirical\n",
      "<RawArray | 61 x 413 (4.1 s), ~287 kB, data loaded> 4.0 info empirical\n",
      "<RawArray | 61 x 472 (4.7 s), ~315 kB, data loaded> 4.0 info empirical\n",
      "<RawArray | 61 x 523 (5.2 s), ~339 kB, data loaded> 4.0 info empirical\n"
     ]
    },
    {
     "name": "stderr",
     "output_type": "stream",
     "text": [
      "c:\\Users\\Lukas\\Documents\\projects\\esinet\\evaluate\\..\\esinet\\util\\util.py:388: RuntimeWarning: An average reference projection was already added. The data has been left untouched.\n",
      "  epochs.set_eeg_reference(projection=True, verbose=verbose)#.apply_baseline(baseline=baseline)\n",
      "c:\\Users\\Lukas\\Documents\\projects\\esinet\\evaluate\\..\\esinet\\util\\util.py:423: RuntimeWarning: Epochs are not baseline corrected, covariance matrix may be inaccurate\n",
      "  data_cov = mne.compute_covariance(epochs, tmin=0.0,\n",
      "c:\\Users\\Lukas\\Documents\\projects\\esinet\\evaluate\\..\\esinet\\util\\util.py:423: RuntimeWarning: Too few samples (required : 310 got : 13), covariance estimate may be unreliable\n",
      "  data_cov = mne.compute_covariance(epochs, tmin=0.0,\n",
      "c:\\Users\\Lukas\\Documents\\projects\\esinet\\evaluate\\..\\esinet\\util\\util.py:388: RuntimeWarning: An average reference projection was already added. The data has been left untouched.\n",
      "  epochs.set_eeg_reference(projection=True, verbose=verbose)#.apply_baseline(baseline=baseline)\n",
      "c:\\Users\\Lukas\\Documents\\projects\\esinet\\evaluate\\..\\esinet\\util\\util.py:420: RuntimeWarning: Too few samples (required : 310 got : 60), covariance estimate may be unreliable\n",
      "  data_cov = mne.compute_raw_covariance(raw, tmin=tmin,\n",
      "c:\\Users\\Lukas\\Documents\\projects\\esinet\\evaluate\\..\\esinet\\util\\util.py:388: RuntimeWarning: An average reference projection was already added. The data has been left untouched.\n",
      "  epochs.set_eeg_reference(projection=True, verbose=verbose)#.apply_baseline(baseline=baseline)\n",
      "c:\\Users\\Lukas\\Documents\\projects\\esinet\\evaluate\\..\\esinet\\util\\util.py:420: RuntimeWarning: Too few samples (required : 310 got : 120), covariance estimate may be unreliable\n",
      "  data_cov = mne.compute_raw_covariance(raw, tmin=tmin,\n",
      "c:\\Users\\Lukas\\Documents\\projects\\esinet\\evaluate\\..\\esinet\\util\\util.py:388: RuntimeWarning: An average reference projection was already added. The data has been left untouched.\n",
      "  epochs.set_eeg_reference(projection=True, verbose=verbose)#.apply_baseline(baseline=baseline)\n"
     ]
    },
    {
     "name": "stdout",
     "output_type": "stream",
     "text": [
      "<RawArray | 61 x 537 (5.4 s), ~346 kB, data loaded> 4.0 info empirical\n",
      "<RawArray | 61 x 428 (4.3 s), ~294 kB, data loaded> 4.0 info empirical\n",
      "<RawArray | 61 x 496 (5.0 s), ~326 kB, data loaded> 4.0 info empirical\n",
      "<RawArray | 61 x 468 (4.7 s), ~313 kB, data loaded> 4.0 info empirical\n",
      "<RawArray | 61 x 516 (5.2 s), ~336 kB, data loaded> 4.0 info empirical\n"
     ]
    },
    {
     "name": "stderr",
     "output_type": "stream",
     "text": [
      "c:\\Users\\Lukas\\Documents\\projects\\esinet\\evaluate\\..\\esinet\\util\\util.py:420: RuntimeWarning: Too few samples (required : 310 got : 120), covariance estimate may be unreliable\n",
      "  data_cov = mne.compute_raw_covariance(raw, tmin=tmin,\n",
      "c:\\Users\\Lukas\\Documents\\projects\\esinet\\evaluate\\..\\esinet\\util\\util.py:388: RuntimeWarning: An average reference projection was already added. The data has been left untouched.\n",
      "  epochs.set_eeg_reference(projection=True, verbose=verbose)#.apply_baseline(baseline=baseline)\n",
      "c:\\Users\\Lukas\\Documents\\projects\\esinet\\evaluate\\..\\esinet\\util\\util.py:420: RuntimeWarning: Too few samples (required : 310 got : 20), covariance estimate may be unreliable\n",
      "  data_cov = mne.compute_raw_covariance(raw, tmin=tmin,\n",
      "c:\\Users\\Lukas\\Documents\\projects\\esinet\\evaluate\\..\\esinet\\util\\util.py:388: RuntimeWarning: An average reference projection was already added. The data has been left untouched.\n",
      "  epochs.set_eeg_reference(projection=True, verbose=verbose)#.apply_baseline(baseline=baseline)\n",
      "c:\\Users\\Lukas\\Documents\\projects\\esinet\\evaluate\\..\\esinet\\util\\util.py:420: RuntimeWarning: Too few samples (required : 310 got : 80), covariance estimate may be unreliable\n",
      "  data_cov = mne.compute_raw_covariance(raw, tmin=tmin,\n",
      "c:\\Users\\Lukas\\Documents\\projects\\esinet\\evaluate\\..\\esinet\\util\\util.py:388: RuntimeWarning: An average reference projection was already added. The data has been left untouched.\n",
      "  epochs.set_eeg_reference(projection=True, verbose=verbose)#.apply_baseline(baseline=baseline)\n",
      "c:\\Users\\Lukas\\Documents\\projects\\esinet\\evaluate\\..\\esinet\\util\\util.py:420: RuntimeWarning: Too few samples (required : 310 got : 60), covariance estimate may be unreliable\n",
      "  data_cov = mne.compute_raw_covariance(raw, tmin=tmin,\n",
      "c:\\Users\\Lukas\\Documents\\projects\\esinet\\evaluate\\..\\esinet\\util\\util.py:388: RuntimeWarning: An average reference projection was already added. The data has been left untouched.\n",
      "  epochs.set_eeg_reference(projection=True, verbose=verbose)#.apply_baseline(baseline=baseline)\n",
      "c:\\Users\\Lukas\\Documents\\projects\\esinet\\evaluate\\..\\esinet\\util\\util.py:420: RuntimeWarning: Too few samples (required : 310 got : 100), covariance estimate may be unreliable\n",
      "  data_cov = mne.compute_raw_covariance(raw, tmin=tmin,\n",
      "c:\\Users\\Lukas\\Documents\\projects\\esinet\\evaluate\\..\\esinet\\util\\util.py:388: RuntimeWarning: An average reference projection was already added. The data has been left untouched.\n",
      "  epochs.set_eeg_reference(projection=True, verbose=verbose)#.apply_baseline(baseline=baseline)\n",
      "c:\\Users\\Lukas\\Documents\\projects\\esinet\\evaluate\\..\\esinet\\util\\util.py:420: RuntimeWarning: Too few samples (required : 310 got : 60), covariance estimate may be unreliable\n",
      "  data_cov = mne.compute_raw_covariance(raw, tmin=tmin,\n",
      "c:\\Users\\Lukas\\Documents\\projects\\esinet\\evaluate\\..\\esinet\\util\\util.py:388: RuntimeWarning: An average reference projection was already added. The data has been left untouched.\n",
      "  epochs.set_eeg_reference(projection=True, verbose=verbose)#.apply_baseline(baseline=baseline)\n",
      "c:\\Users\\Lukas\\Documents\\projects\\esinet\\evaluate\\..\\esinet\\util\\util.py:420: RuntimeWarning: Too few samples (required : 310 got : 40), covariance estimate may be unreliable\n",
      "  data_cov = mne.compute_raw_covariance(raw, tmin=tmin,\n",
      "c:\\Users\\Lukas\\Documents\\projects\\esinet\\evaluate\\..\\esinet\\util\\util.py:388: RuntimeWarning: An average reference projection was already added. The data has been left untouched.\n",
      "  epochs.set_eeg_reference(projection=True, verbose=verbose)#.apply_baseline(baseline=baseline)\n",
      "c:\\Users\\Lukas\\Documents\\projects\\esinet\\evaluate\\..\\esinet\\util\\util.py:423: RuntimeWarning: Epochs are not baseline corrected, covariance matrix may be inaccurate\n",
      "  data_cov = mne.compute_covariance(epochs, tmin=0.0,\n",
      "c:\\Users\\Lukas\\Documents\\projects\\esinet\\evaluate\\..\\esinet\\util\\util.py:423: RuntimeWarning: Too few samples (required : 310 got : 4), covariance estimate may be unreliable\n",
      "  data_cov = mne.compute_covariance(epochs, tmin=0.0,\n"
     ]
    },
    {
     "name": "stdout",
     "output_type": "stream",
     "text": [
      "<RawArray | 61 x 477 (4.8 s), ~317 kB, data loaded> 4.0 info empirical\n",
      "<RawArray | 61 x 457 (4.6 s), ~308 kB, data loaded> 4.0 info empirical\n",
      "<RawArray | 61 x 404 (4.0 s), ~282 kB, data loaded> 4.0 info empirical\n",
      "<RawArray | 61 x 479 (4.8 s), ~318 kB, data loaded> 4.0 info empirical\n"
     ]
    },
    {
     "name": "stderr",
     "output_type": "stream",
     "text": [
      "c:\\Users\\Lukas\\Documents\\projects\\esinet\\evaluate\\..\\esinet\\util\\util.py:388: RuntimeWarning: An average reference projection was already added. The data has been left untouched.\n",
      "  epochs.set_eeg_reference(projection=True, verbose=verbose)#.apply_baseline(baseline=baseline)\n",
      "c:\\Users\\Lukas\\Documents\\projects\\esinet\\evaluate\\..\\esinet\\util\\util.py:420: RuntimeWarning: Too few samples (required : 310 got : 60), covariance estimate may be unreliable\n",
      "  data_cov = mne.compute_raw_covariance(raw, tmin=tmin,\n",
      "c:\\Users\\Lukas\\Documents\\projects\\esinet\\evaluate\\..\\esinet\\util\\util.py:388: RuntimeWarning: An average reference projection was already added. The data has been left untouched.\n",
      "  epochs.set_eeg_reference(projection=True, verbose=verbose)#.apply_baseline(baseline=baseline)\n",
      "c:\\Users\\Lukas\\Documents\\projects\\esinet\\evaluate\\..\\esinet\\util\\util.py:420: RuntimeWarning: Too few samples (required : 310 got : 140), covariance estimate may be unreliable\n",
      "  data_cov = mne.compute_raw_covariance(raw, tmin=tmin,\n",
      "c:\\Users\\Lukas\\Documents\\projects\\esinet\\evaluate\\..\\esinet\\util\\util.py:388: RuntimeWarning: An average reference projection was already added. The data has been left untouched.\n",
      "  epochs.set_eeg_reference(projection=True, verbose=verbose)#.apply_baseline(baseline=baseline)\n",
      "c:\\Users\\Lukas\\Documents\\projects\\esinet\\evaluate\\..\\esinet\\util\\util.py:420: RuntimeWarning: Too few samples (required : 310 got : 180), covariance estimate may be unreliable\n",
      "  data_cov = mne.compute_raw_covariance(raw, tmin=tmin,\n",
      "c:\\Users\\Lukas\\Documents\\projects\\esinet\\evaluate\\..\\esinet\\util\\util.py:388: RuntimeWarning: An average reference projection was already added. The data has been left untouched.\n",
      "  epochs.set_eeg_reference(projection=True, verbose=verbose)#.apply_baseline(baseline=baseline)\n",
      "c:\\Users\\Lukas\\Documents\\projects\\esinet\\evaluate\\..\\esinet\\util\\util.py:420: RuntimeWarning: Too few samples (required : 310 got : 140), covariance estimate may be unreliable\n",
      "  data_cov = mne.compute_raw_covariance(raw, tmin=tmin,\n",
      "c:\\Users\\Lukas\\Documents\\projects\\esinet\\evaluate\\..\\esinet\\util\\util.py:388: RuntimeWarning: An average reference projection was already added. The data has been left untouched.\n",
      "  epochs.set_eeg_reference(projection=True, verbose=verbose)#.apply_baseline(baseline=baseline)\n"
     ]
    },
    {
     "name": "stdout",
     "output_type": "stream",
     "text": [
      "<RawArray | 61 x 544 (5.4 s), ~349 kB, data loaded> 4.0 info empirical\n",
      "<RawArray | 61 x 583 (5.8 s), ~368 kB, data loaded> 4.0 info empirical\n",
      "<RawArray | 61 x 547 (5.5 s), ~350 kB, data loaded> 4.0 info empirical\n",
      "<RawArray | 61 x 445 (4.4 s), ~302 kB, data loaded> 4.0 info empirical\n"
     ]
    },
    {
     "name": "stderr",
     "output_type": "stream",
     "text": [
      "c:\\Users\\Lukas\\Documents\\projects\\esinet\\evaluate\\..\\esinet\\util\\util.py:420: RuntimeWarning: Too few samples (required : 310 got : 40), covariance estimate may be unreliable\n",
      "  data_cov = mne.compute_raw_covariance(raw, tmin=tmin,\n",
      "c:\\Users\\Lukas\\Documents\\projects\\esinet\\evaluate\\..\\esinet\\util\\util.py:388: RuntimeWarning: An average reference projection was already added. The data has been left untouched.\n",
      "  epochs.set_eeg_reference(projection=True, verbose=verbose)#.apply_baseline(baseline=baseline)\n",
      "c:\\Users\\Lukas\\Documents\\projects\\esinet\\evaluate\\..\\esinet\\util\\util.py:420: RuntimeWarning: Too few samples (required : 310 got : 180), covariance estimate may be unreliable\n",
      "  data_cov = mne.compute_raw_covariance(raw, tmin=tmin,\n",
      "c:\\Users\\Lukas\\Documents\\projects\\esinet\\evaluate\\..\\esinet\\util\\util.py:388: RuntimeWarning: An average reference projection was already added. The data has been left untouched.\n",
      "  epochs.set_eeg_reference(projection=True, verbose=verbose)#.apply_baseline(baseline=baseline)\n",
      "c:\\Users\\Lukas\\Documents\\projects\\esinet\\evaluate\\..\\esinet\\util\\util.py:420: RuntimeWarning: Too few samples (required : 310 got : 60), covariance estimate may be unreliable\n",
      "  data_cov = mne.compute_raw_covariance(raw, tmin=tmin,\n",
      "c:\\Users\\Lukas\\Documents\\projects\\esinet\\evaluate\\..\\esinet\\util\\util.py:388: RuntimeWarning: An average reference projection was already added. The data has been left untouched.\n",
      "  epochs.set_eeg_reference(projection=True, verbose=verbose)#.apply_baseline(baseline=baseline)\n",
      "c:\\Users\\Lukas\\Documents\\projects\\esinet\\evaluate\\..\\esinet\\util\\util.py:420: RuntimeWarning: Too few samples (required : 310 got : 80), covariance estimate may be unreliable\n",
      "  data_cov = mne.compute_raw_covariance(raw, tmin=tmin,\n",
      "c:\\Users\\Lukas\\Documents\\projects\\esinet\\evaluate\\..\\esinet\\util\\util.py:388: RuntimeWarning: An average reference projection was already added. The data has been left untouched.\n",
      "  epochs.set_eeg_reference(projection=True, verbose=verbose)#.apply_baseline(baseline=baseline)\n"
     ]
    },
    {
     "name": "stdout",
     "output_type": "stream",
     "text": [
      "<RawArray | 61 x 599 (6.0 s), ~375 kB, data loaded> 4.0 info empirical\n",
      "<RawArray | 61 x 479 (4.8 s), ~318 kB, data loaded> 4.0 info empirical\n",
      "<RawArray | 61 x 490 (4.9 s), ~323 kB, data loaded> 4.0 info empirical\n",
      "<RawArray | 61 x 435 (4.3 s), ~297 kB, data loaded> 4.0 info empirical\n"
     ]
    },
    {
     "name": "stderr",
     "output_type": "stream",
     "text": [
      "c:\\Users\\Lukas\\Documents\\projects\\esinet\\evaluate\\..\\esinet\\util\\util.py:420: RuntimeWarning: Too few samples (required : 310 got : 20), covariance estimate may be unreliable\n",
      "  data_cov = mne.compute_raw_covariance(raw, tmin=tmin,\n",
      "c:\\Users\\Lukas\\Documents\\projects\\esinet\\evaluate\\..\\esinet\\util\\util.py:388: RuntimeWarning: An average reference projection was already added. The data has been left untouched.\n",
      "  epochs.set_eeg_reference(projection=True, verbose=verbose)#.apply_baseline(baseline=baseline)\n",
      "c:\\Users\\Lukas\\Documents\\projects\\esinet\\evaluate\\..\\esinet\\util\\util.py:420: RuntimeWarning: Too few samples (required : 310 got : 40), covariance estimate may be unreliable\n",
      "  data_cov = mne.compute_raw_covariance(raw, tmin=tmin,\n",
      "c:\\Users\\Lukas\\Documents\\projects\\esinet\\evaluate\\..\\esinet\\util\\util.py:388: RuntimeWarning: An average reference projection was already added. The data has been left untouched.\n",
      "  epochs.set_eeg_reference(projection=True, verbose=verbose)#.apply_baseline(baseline=baseline)\n",
      "c:\\Users\\Lukas\\Documents\\projects\\esinet\\evaluate\\..\\esinet\\util\\util.py:420: RuntimeWarning: Too few samples (required : 310 got : 140), covariance estimate may be unreliable\n",
      "  data_cov = mne.compute_raw_covariance(raw, tmin=tmin,\n",
      "c:\\Users\\Lukas\\Documents\\projects\\esinet\\evaluate\\..\\esinet\\util\\util.py:388: RuntimeWarning: An average reference projection was already added. The data has been left untouched.\n",
      "  epochs.set_eeg_reference(projection=True, verbose=verbose)#.apply_baseline(baseline=baseline)\n",
      "c:\\Users\\Lukas\\Documents\\projects\\esinet\\evaluate\\..\\esinet\\util\\util.py:420: RuntimeWarning: Too few samples (required : 310 got : 100), covariance estimate may be unreliable\n",
      "  data_cov = mne.compute_raw_covariance(raw, tmin=tmin,\n",
      "c:\\Users\\Lukas\\Documents\\projects\\esinet\\evaluate\\..\\esinet\\util\\util.py:388: RuntimeWarning: An average reference projection was already added. The data has been left untouched.\n",
      "  epochs.set_eeg_reference(projection=True, verbose=verbose)#.apply_baseline(baseline=baseline)\n"
     ]
    },
    {
     "name": "stdout",
     "output_type": "stream",
     "text": [
      "<RawArray | 61 x 453 (4.5 s), ~306 kB, data loaded> 4.0 info empirical\n",
      "<RawArray | 61 x 545 (5.4 s), ~350 kB, data loaded> 4.0 info empirical\n",
      "<RawArray | 61 x 507 (5.1 s), ~331 kB, data loaded> 4.0 info empirical\n",
      "<RawArray | 61 x 503 (5.0 s), ~330 kB, data loaded> 4.0 info empirical\n"
     ]
    },
    {
     "name": "stderr",
     "output_type": "stream",
     "text": [
      "c:\\Users\\Lukas\\Documents\\projects\\esinet\\evaluate\\..\\esinet\\util\\util.py:420: RuntimeWarning: Too few samples (required : 310 got : 100), covariance estimate may be unreliable\n",
      "  data_cov = mne.compute_raw_covariance(raw, tmin=tmin,\n",
      "c:\\Users\\Lukas\\Documents\\projects\\esinet\\evaluate\\..\\esinet\\util\\util.py:388: RuntimeWarning: An average reference projection was already added. The data has been left untouched.\n",
      "  epochs.set_eeg_reference(projection=True, verbose=verbose)#.apply_baseline(baseline=baseline)\n",
      "c:\\Users\\Lukas\\Documents\\projects\\esinet\\evaluate\\..\\esinet\\util\\util.py:420: RuntimeWarning: Too few samples (required : 310 got : 100), covariance estimate may be unreliable\n",
      "  data_cov = mne.compute_raw_covariance(raw, tmin=tmin,\n",
      "c:\\Users\\Lukas\\Documents\\projects\\esinet\\evaluate\\..\\esinet\\util\\util.py:388: RuntimeWarning: An average reference projection was already added. The data has been left untouched.\n",
      "  epochs.set_eeg_reference(projection=True, verbose=verbose)#.apply_baseline(baseline=baseline)\n",
      "c:\\Users\\Lukas\\Documents\\projects\\esinet\\evaluate\\..\\esinet\\util\\util.py:420: RuntimeWarning: Too few samples (required : 310 got : 180), covariance estimate may be unreliable\n",
      "  data_cov = mne.compute_raw_covariance(raw, tmin=tmin,\n",
      "c:\\Users\\Lukas\\Documents\\projects\\esinet\\evaluate\\..\\esinet\\util\\util.py:388: RuntimeWarning: An average reference projection was already added. The data has been left untouched.\n",
      "  epochs.set_eeg_reference(projection=True, verbose=verbose)#.apply_baseline(baseline=baseline)\n",
      "c:\\Users\\Lukas\\Documents\\projects\\esinet\\evaluate\\..\\esinet\\util\\util.py:420: RuntimeWarning: Too few samples (required : 310 got : 100), covariance estimate may be unreliable\n",
      "  data_cov = mne.compute_raw_covariance(raw, tmin=tmin,\n",
      "c:\\Users\\Lukas\\Documents\\projects\\esinet\\evaluate\\..\\esinet\\util\\util.py:388: RuntimeWarning: An average reference projection was already added. The data has been left untouched.\n",
      "  epochs.set_eeg_reference(projection=True, verbose=verbose)#.apply_baseline(baseline=baseline)\n"
     ]
    },
    {
     "name": "stdout",
     "output_type": "stream",
     "text": [
      "<RawArray | 61 x 503 (5.0 s), ~330 kB, data loaded> 4.0 info empirical\n",
      "<RawArray | 61 x 587 (5.9 s), ~370 kB, data loaded> 4.0 info empirical\n",
      "<RawArray | 61 x 503 (5.0 s), ~330 kB, data loaded> 4.0 info empirical\n",
      "<RawArray | 61 x 523 (5.2 s), ~339 kB, data loaded> 4.0 info empirical\n"
     ]
    },
    {
     "name": "stderr",
     "output_type": "stream",
     "text": [
      "c:\\Users\\Lukas\\Documents\\projects\\esinet\\evaluate\\..\\esinet\\util\\util.py:420: RuntimeWarning: Too few samples (required : 310 got : 120), covariance estimate may be unreliable\n",
      "  data_cov = mne.compute_raw_covariance(raw, tmin=tmin,\n",
      "c:\\Users\\Lukas\\Documents\\projects\\esinet\\evaluate\\..\\esinet\\util\\util.py:388: RuntimeWarning: An average reference projection was already added. The data has been left untouched.\n",
      "  epochs.set_eeg_reference(projection=True, verbose=verbose)#.apply_baseline(baseline=baseline)\n",
      "c:\\Users\\Lukas\\Documents\\projects\\esinet\\evaluate\\..\\esinet\\util\\util.py:420: RuntimeWarning: Too few samples (required : 310 got : 20), covariance estimate may be unreliable\n",
      "  data_cov = mne.compute_raw_covariance(raw, tmin=tmin,\n",
      "c:\\Users\\Lukas\\Documents\\projects\\esinet\\evaluate\\..\\esinet\\util\\util.py:388: RuntimeWarning: An average reference projection was already added. The data has been left untouched.\n",
      "  epochs.set_eeg_reference(projection=True, verbose=verbose)#.apply_baseline(baseline=baseline)\n",
      "c:\\Users\\Lukas\\Documents\\projects\\esinet\\evaluate\\..\\esinet\\util\\util.py:420: RuntimeWarning: Too few samples (required : 310 got : 160), covariance estimate may be unreliable\n",
      "  data_cov = mne.compute_raw_covariance(raw, tmin=tmin,\n",
      "c:\\Users\\Lukas\\Documents\\projects\\esinet\\evaluate\\..\\esinet\\util\\util.py:388: RuntimeWarning: An average reference projection was already added. The data has been left untouched.\n",
      "  epochs.set_eeg_reference(projection=True, verbose=verbose)#.apply_baseline(baseline=baseline)\n",
      "c:\\Users\\Lukas\\Documents\\projects\\esinet\\evaluate\\..\\esinet\\util\\util.py:420: RuntimeWarning: Too few samples (required : 310 got : 180), covariance estimate may be unreliable\n",
      "  data_cov = mne.compute_raw_covariance(raw, tmin=tmin,\n",
      "c:\\Users\\Lukas\\Documents\\projects\\esinet\\evaluate\\..\\esinet\\util\\util.py:388: RuntimeWarning: An average reference projection was already added. The data has been left untouched.\n",
      "  epochs.set_eeg_reference(projection=True, verbose=verbose)#.apply_baseline(baseline=baseline)\n"
     ]
    },
    {
     "name": "stdout",
     "output_type": "stream",
     "text": [
      "<RawArray | 61 x 438 (4.4 s), ~299 kB, data loaded> 4.0 info empirical\n",
      "<RawArray | 61 x 565 (5.6 s), ~359 kB, data loaded> 4.0 info empirical\n",
      "<RawArray | 61 x 592 (5.9 s), ~372 kB, data loaded> 4.0 info empirical\n",
      "<RawArray | 61 x 564 (5.6 s), ~359 kB, data loaded> 4.0 info empirical\n"
     ]
    },
    {
     "name": "stderr",
     "output_type": "stream",
     "text": [
      "c:\\Users\\Lukas\\Documents\\projects\\esinet\\evaluate\\..\\esinet\\util\\util.py:420: RuntimeWarning: Too few samples (required : 310 got : 160), covariance estimate may be unreliable\n",
      "  data_cov = mne.compute_raw_covariance(raw, tmin=tmin,\n",
      "c:\\Users\\Lukas\\Documents\\projects\\esinet\\evaluate\\..\\esinet\\util\\util.py:388: RuntimeWarning: An average reference projection was already added. The data has been left untouched.\n",
      "  epochs.set_eeg_reference(projection=True, verbose=verbose)#.apply_baseline(baseline=baseline)\n",
      "c:\\Users\\Lukas\\Documents\\projects\\esinet\\evaluate\\..\\esinet\\util\\util.py:420: RuntimeWarning: Too few samples (required : 310 got : 160), covariance estimate may be unreliable\n",
      "  data_cov = mne.compute_raw_covariance(raw, tmin=tmin,\n",
      "c:\\Users\\Lukas\\Documents\\projects\\esinet\\evaluate\\..\\esinet\\util\\util.py:388: RuntimeWarning: An average reference projection was already added. The data has been left untouched.\n",
      "  epochs.set_eeg_reference(projection=True, verbose=verbose)#.apply_baseline(baseline=baseline)\n",
      "c:\\Users\\Lukas\\Documents\\projects\\esinet\\evaluate\\..\\esinet\\util\\util.py:420: RuntimeWarning: Too few samples (required : 310 got : 140), covariance estimate may be unreliable\n",
      "  data_cov = mne.compute_raw_covariance(raw, tmin=tmin,\n",
      "c:\\Users\\Lukas\\Documents\\projects\\esinet\\evaluate\\..\\esinet\\util\\util.py:388: RuntimeWarning: An average reference projection was already added. The data has been left untouched.\n",
      "  epochs.set_eeg_reference(projection=True, verbose=verbose)#.apply_baseline(baseline=baseline)\n",
      "c:\\Users\\Lukas\\Documents\\projects\\esinet\\evaluate\\..\\esinet\\util\\util.py:420: RuntimeWarning: Too few samples (required : 310 got : 40), covariance estimate may be unreliable\n",
      "  data_cov = mne.compute_raw_covariance(raw, tmin=tmin,\n",
      "c:\\Users\\Lukas\\Documents\\projects\\esinet\\evaluate\\..\\esinet\\util\\util.py:388: RuntimeWarning: An average reference projection was already added. The data has been left untouched.\n",
      "  epochs.set_eeg_reference(projection=True, verbose=verbose)#.apply_baseline(baseline=baseline)\n"
     ]
    },
    {
     "name": "stdout",
     "output_type": "stream",
     "text": [
      "<RawArray | 61 x 570 (5.7 s), ~361 kB, data loaded> 4.0 info empirical\n",
      "<RawArray | 61 x 550 (5.5 s), ~352 kB, data loaded> 4.0 info empirical\n",
      "<RawArray | 61 x 458 (4.6 s), ~308 kB, data loaded> 4.0 info empirical\n",
      "<RawArray | 61 x 521 (5.2 s), ~338 kB, data loaded> 4.0 info empirical\n"
     ]
    },
    {
     "name": "stderr",
     "output_type": "stream",
     "text": [
      "c:\\Users\\Lukas\\Documents\\projects\\esinet\\evaluate\\..\\esinet\\util\\util.py:420: RuntimeWarning: Too few samples (required : 310 got : 120), covariance estimate may be unreliable\n",
      "  data_cov = mne.compute_raw_covariance(raw, tmin=tmin,\n",
      "c:\\Users\\Lukas\\Documents\\projects\\esinet\\evaluate\\..\\esinet\\util\\util.py:388: RuntimeWarning: An average reference projection was already added. The data has been left untouched.\n",
      "  epochs.set_eeg_reference(projection=True, verbose=verbose)#.apply_baseline(baseline=baseline)\n",
      "c:\\Users\\Lukas\\Documents\\projects\\esinet\\evaluate\\..\\esinet\\util\\util.py:420: RuntimeWarning: Too few samples (required : 310 got : 80), covariance estimate may be unreliable\n",
      "  data_cov = mne.compute_raw_covariance(raw, tmin=tmin,\n",
      "c:\\Users\\Lukas\\Documents\\projects\\esinet\\evaluate\\..\\esinet\\util\\util.py:388: RuntimeWarning: An average reference projection was already added. The data has been left untouched.\n",
      "  epochs.set_eeg_reference(projection=True, verbose=verbose)#.apply_baseline(baseline=baseline)\n",
      "c:\\Users\\Lukas\\Documents\\projects\\esinet\\evaluate\\..\\esinet\\util\\util.py:420: RuntimeWarning: Too few samples (required : 310 got : 160), covariance estimate may be unreliable\n",
      "  data_cov = mne.compute_raw_covariance(raw, tmin=tmin,\n",
      "c:\\Users\\Lukas\\Documents\\projects\\esinet\\evaluate\\..\\esinet\\util\\util.py:388: RuntimeWarning: An average reference projection was already added. The data has been left untouched.\n",
      "  epochs.set_eeg_reference(projection=True, verbose=verbose)#.apply_baseline(baseline=baseline)\n",
      "c:\\Users\\Lukas\\Documents\\projects\\esinet\\evaluate\\..\\esinet\\util\\util.py:420: RuntimeWarning: Too few samples (required : 310 got : 120), covariance estimate may be unreliable\n",
      "  data_cov = mne.compute_raw_covariance(raw, tmin=tmin,\n",
      "c:\\Users\\Lukas\\Documents\\projects\\esinet\\evaluate\\..\\esinet\\util\\util.py:388: RuntimeWarning: An average reference projection was already added. The data has been left untouched.\n",
      "  epochs.set_eeg_reference(projection=True, verbose=verbose)#.apply_baseline(baseline=baseline)\n"
     ]
    },
    {
     "name": "stdout",
     "output_type": "stream",
     "text": [
      "<RawArray | 61 x 490 (4.9 s), ~323 kB, data loaded> 4.0 info empirical\n",
      "<RawArray | 61 x 562 (5.6 s), ~358 kB, data loaded> 4.0 info empirical\n",
      "<RawArray | 61 x 525 (5.2 s), ~340 kB, data loaded> 4.0 info empirical\n",
      "<RawArray | 61 x 594 (5.9 s), ~373 kB, data loaded> 4.0 info empirical\n"
     ]
    },
    {
     "name": "stderr",
     "output_type": "stream",
     "text": [
      "c:\\Users\\Lukas\\Documents\\projects\\esinet\\evaluate\\..\\esinet\\util\\util.py:420: RuntimeWarning: Too few samples (required : 310 got : 180), covariance estimate may be unreliable\n",
      "  data_cov = mne.compute_raw_covariance(raw, tmin=tmin,\n",
      "c:\\Users\\Lukas\\Documents\\projects\\esinet\\evaluate\\..\\esinet\\util\\util.py:388: RuntimeWarning: An average reference projection was already added. The data has been left untouched.\n",
      "  epochs.set_eeg_reference(projection=True, verbose=verbose)#.apply_baseline(baseline=baseline)\n",
      "c:\\Users\\Lukas\\Documents\\projects\\esinet\\evaluate\\..\\esinet\\util\\util.py:420: RuntimeWarning: Too few samples (required : 310 got : 180), covariance estimate may be unreliable\n",
      "  data_cov = mne.compute_raw_covariance(raw, tmin=tmin,\n",
      "c:\\Users\\Lukas\\Documents\\projects\\esinet\\evaluate\\..\\esinet\\util\\util.py:388: RuntimeWarning: An average reference projection was already added. The data has been left untouched.\n",
      "  epochs.set_eeg_reference(projection=True, verbose=verbose)#.apply_baseline(baseline=baseline)\n",
      "c:\\Users\\Lukas\\Documents\\projects\\esinet\\evaluate\\..\\esinet\\util\\util.py:420: RuntimeWarning: Too few samples (required : 310 got : 180), covariance estimate may be unreliable\n",
      "  data_cov = mne.compute_raw_covariance(raw, tmin=tmin,\n",
      "c:\\Users\\Lukas\\Documents\\projects\\esinet\\evaluate\\..\\esinet\\util\\util.py:388: RuntimeWarning: An average reference projection was already added. The data has been left untouched.\n",
      "  epochs.set_eeg_reference(projection=True, verbose=verbose)#.apply_baseline(baseline=baseline)\n"
     ]
    },
    {
     "name": "stdout",
     "output_type": "stream",
     "text": [
      "<RawArray | 61 x 587 (5.9 s), ~370 kB, data loaded> 4.0 info empirical\n",
      "<RawArray | 61 x 592 (5.9 s), ~372 kB, data loaded> 4.0 info empirical\n",
      "<RawArray | 61 x 429 (4.3 s), ~294 kB, data loaded> 4.0 info empirical\n",
      "<RawArray | 61 x 431 (4.3 s), ~295 kB, data loaded> 4.0 info empirical\n"
     ]
    },
    {
     "name": "stderr",
     "output_type": "stream",
     "text": [
      "c:\\Users\\Lukas\\Documents\\projects\\esinet\\evaluate\\..\\esinet\\util\\util.py:420: RuntimeWarning: Too few samples (required : 310 got : 20), covariance estimate may be unreliable\n",
      "  data_cov = mne.compute_raw_covariance(raw, tmin=tmin,\n",
      "c:\\Users\\Lukas\\Documents\\projects\\esinet\\evaluate\\..\\esinet\\util\\util.py:388: RuntimeWarning: An average reference projection was already added. The data has been left untouched.\n",
      "  epochs.set_eeg_reference(projection=True, verbose=verbose)#.apply_baseline(baseline=baseline)\n",
      "c:\\Users\\Lukas\\Documents\\projects\\esinet\\evaluate\\..\\esinet\\util\\util.py:420: RuntimeWarning: Too few samples (required : 310 got : 20), covariance estimate may be unreliable\n",
      "  data_cov = mne.compute_raw_covariance(raw, tmin=tmin,\n",
      "c:\\Users\\Lukas\\Documents\\projects\\esinet\\evaluate\\..\\esinet\\util\\util.py:388: RuntimeWarning: An average reference projection was already added. The data has been left untouched.\n",
      "  epochs.set_eeg_reference(projection=True, verbose=verbose)#.apply_baseline(baseline=baseline)\n",
      "c:\\Users\\Lukas\\Documents\\projects\\esinet\\evaluate\\..\\esinet\\util\\util.py:420: RuntimeWarning: Too few samples (required : 310 got : 80), covariance estimate may be unreliable\n",
      "  data_cov = mne.compute_raw_covariance(raw, tmin=tmin,\n",
      "c:\\Users\\Lukas\\Documents\\projects\\esinet\\evaluate\\..\\esinet\\util\\util.py:388: RuntimeWarning: An average reference projection was already added. The data has been left untouched.\n",
      "  epochs.set_eeg_reference(projection=True, verbose=verbose)#.apply_baseline(baseline=baseline)\n",
      "c:\\Users\\Lukas\\Documents\\projects\\esinet\\evaluate\\..\\esinet\\util\\util.py:420: RuntimeWarning: Too few samples (required : 310 got : 20), covariance estimate may be unreliable\n",
      "  data_cov = mne.compute_raw_covariance(raw, tmin=tmin,\n",
      "c:\\Users\\Lukas\\Documents\\projects\\esinet\\evaluate\\..\\esinet\\util\\util.py:388: RuntimeWarning: An average reference projection was already added. The data has been left untouched.\n",
      "  epochs.set_eeg_reference(projection=True, verbose=verbose)#.apply_baseline(baseline=baseline)\n"
     ]
    },
    {
     "name": "stdout",
     "output_type": "stream",
     "text": [
      "<RawArray | 61 x 491 (4.9 s), ~324 kB, data loaded> 4.0 info empirical\n",
      "<RawArray | 61 x 422 (4.2 s), ~291 kB, data loaded> 4.0 info empirical\n",
      "<RawArray | 61 x 501 (5.0 s), ~329 kB, data loaded> 4.0 info empirical\n",
      "<RawArray | 61 x 543 (5.4 s), ~349 kB, data loaded> 4.0 info empirical\n"
     ]
    },
    {
     "name": "stderr",
     "output_type": "stream",
     "text": [
      "c:\\Users\\Lukas\\Documents\\projects\\esinet\\evaluate\\..\\esinet\\util\\util.py:420: RuntimeWarning: Too few samples (required : 310 got : 100), covariance estimate may be unreliable\n",
      "  data_cov = mne.compute_raw_covariance(raw, tmin=tmin,\n",
      "c:\\Users\\Lukas\\Documents\\projects\\esinet\\evaluate\\..\\esinet\\util\\util.py:388: RuntimeWarning: An average reference projection was already added. The data has been left untouched.\n",
      "  epochs.set_eeg_reference(projection=True, verbose=verbose)#.apply_baseline(baseline=baseline)\n",
      "c:\\Users\\Lukas\\Documents\\projects\\esinet\\evaluate\\..\\esinet\\util\\util.py:420: RuntimeWarning: Too few samples (required : 310 got : 140), covariance estimate may be unreliable\n",
      "  data_cov = mne.compute_raw_covariance(raw, tmin=tmin,\n",
      "c:\\Users\\Lukas\\Documents\\projects\\esinet\\evaluate\\..\\esinet\\util\\util.py:388: RuntimeWarning: An average reference projection was already added. The data has been left untouched.\n",
      "  epochs.set_eeg_reference(projection=True, verbose=verbose)#.apply_baseline(baseline=baseline)\n",
      "c:\\Users\\Lukas\\Documents\\projects\\esinet\\evaluate\\..\\esinet\\util\\util.py:423: RuntimeWarning: Epochs are not baseline corrected, covariance matrix may be inaccurate\n",
      "  data_cov = mne.compute_covariance(epochs, tmin=0.0,\n",
      "c:\\Users\\Lukas\\Documents\\projects\\esinet\\evaluate\\..\\esinet\\util\\util.py:423: RuntimeWarning: Too few samples (required : 310 got : 12), covariance estimate may be unreliable\n",
      "  data_cov = mne.compute_covariance(epochs, tmin=0.0,\n",
      "c:\\Users\\Lukas\\Documents\\projects\\esinet\\evaluate\\..\\esinet\\util\\util.py:388: RuntimeWarning: An average reference projection was already added. The data has been left untouched.\n",
      "  epochs.set_eeg_reference(projection=True, verbose=verbose)#.apply_baseline(baseline=baseline)\n",
      "c:\\Users\\Lukas\\Documents\\projects\\esinet\\evaluate\\..\\esinet\\util\\util.py:420: RuntimeWarning: Too few samples (required : 310 got : 180), covariance estimate may be unreliable\n",
      "  data_cov = mne.compute_raw_covariance(raw, tmin=tmin,\n",
      "c:\\Users\\Lukas\\Documents\\projects\\esinet\\evaluate\\..\\esinet\\util\\util.py:388: RuntimeWarning: An average reference projection was already added. The data has been left untouched.\n",
      "  epochs.set_eeg_reference(projection=True, verbose=verbose)#.apply_baseline(baseline=baseline)\n"
     ]
    },
    {
     "name": "stdout",
     "output_type": "stream",
     "text": [
      "<RawArray | 61 x 412 (4.1 s), ~286 kB, data loaded> 4.0 info empirical\n",
      "<RawArray | 61 x 582 (5.8 s), ~367 kB, data loaded> 4.0 info empirical\n",
      "<RawArray | 61 x 493 (4.9 s), ~325 kB, data loaded> 4.0 info empirical\n",
      "<RawArray | 61 x 583 (5.8 s), ~368 kB, data loaded> 4.0 info empirical\n"
     ]
    },
    {
     "name": "stderr",
     "output_type": "stream",
     "text": [
      "c:\\Users\\Lukas\\Documents\\projects\\esinet\\evaluate\\..\\esinet\\util\\util.py:420: RuntimeWarning: Too few samples (required : 310 got : 80), covariance estimate may be unreliable\n",
      "  data_cov = mne.compute_raw_covariance(raw, tmin=tmin,\n",
      "c:\\Users\\Lukas\\Documents\\projects\\esinet\\evaluate\\..\\esinet\\util\\util.py:388: RuntimeWarning: An average reference projection was already added. The data has been left untouched.\n",
      "  epochs.set_eeg_reference(projection=True, verbose=verbose)#.apply_baseline(baseline=baseline)\n",
      "c:\\Users\\Lukas\\Documents\\projects\\esinet\\evaluate\\..\\esinet\\util\\util.py:420: RuntimeWarning: Too few samples (required : 310 got : 180), covariance estimate may be unreliable\n",
      "  data_cov = mne.compute_raw_covariance(raw, tmin=tmin,\n",
      "c:\\Users\\Lukas\\Documents\\projects\\esinet\\evaluate\\..\\esinet\\util\\util.py:388: RuntimeWarning: An average reference projection was already added. The data has been left untouched.\n",
      "  epochs.set_eeg_reference(projection=True, verbose=verbose)#.apply_baseline(baseline=baseline)\n",
      "c:\\Users\\Lukas\\Documents\\projects\\esinet\\evaluate\\..\\esinet\\util\\util.py:420: RuntimeWarning: Too few samples (required : 310 got : 20), covariance estimate may be unreliable\n",
      "  data_cov = mne.compute_raw_covariance(raw, tmin=tmin,\n",
      "c:\\Users\\Lukas\\Documents\\projects\\esinet\\evaluate\\..\\esinet\\util\\util.py:388: RuntimeWarning: An average reference projection was already added. The data has been left untouched.\n",
      "  epochs.set_eeg_reference(projection=True, verbose=verbose)#.apply_baseline(baseline=baseline)\n",
      "c:\\Users\\Lukas\\Documents\\projects\\esinet\\evaluate\\..\\esinet\\util\\util.py:420: RuntimeWarning: Too few samples (required : 310 got : 100), covariance estimate may be unreliable\n",
      "  data_cov = mne.compute_raw_covariance(raw, tmin=tmin,\n",
      "c:\\Users\\Lukas\\Documents\\projects\\esinet\\evaluate\\..\\esinet\\util\\util.py:388: RuntimeWarning: An average reference projection was already added. The data has been left untouched.\n",
      "  epochs.set_eeg_reference(projection=True, verbose=verbose)#.apply_baseline(baseline=baseline)\n"
     ]
    },
    {
     "name": "stdout",
     "output_type": "stream",
     "text": [
      "<RawArray | 61 x 425 (4.2 s), ~292 kB, data loaded> 4.0 info empirical\n",
      "<RawArray | 61 x 502 (5.0 s), ~329 kB, data loaded> 4.0 info empirical\n",
      "<RawArray | 61 x 478 (4.8 s), ~318 kB, data loaded> 4.0 info empirical\n",
      "<RawArray | 61 x 512 (5.1 s), ~334 kB, data loaded> 4.0 info empirical\n"
     ]
    },
    {
     "name": "stderr",
     "output_type": "stream",
     "text": [
      "c:\\Users\\Lukas\\Documents\\projects\\esinet\\evaluate\\..\\esinet\\util\\util.py:420: RuntimeWarning: Too few samples (required : 310 got : 60), covariance estimate may be unreliable\n",
      "  data_cov = mne.compute_raw_covariance(raw, tmin=tmin,\n",
      "c:\\Users\\Lukas\\Documents\\projects\\esinet\\evaluate\\..\\esinet\\util\\util.py:388: RuntimeWarning: An average reference projection was already added. The data has been left untouched.\n",
      "  epochs.set_eeg_reference(projection=True, verbose=verbose)#.apply_baseline(baseline=baseline)\n",
      "c:\\Users\\Lukas\\Documents\\projects\\esinet\\evaluate\\..\\esinet\\util\\util.py:420: RuntimeWarning: Too few samples (required : 310 got : 100), covariance estimate may be unreliable\n",
      "  data_cov = mne.compute_raw_covariance(raw, tmin=tmin,\n",
      "c:\\Users\\Lukas\\Documents\\projects\\esinet\\evaluate\\..\\esinet\\util\\util.py:388: RuntimeWarning: An average reference projection was already added. The data has been left untouched.\n",
      "  epochs.set_eeg_reference(projection=True, verbose=verbose)#.apply_baseline(baseline=baseline)\n",
      "c:\\Users\\Lukas\\Documents\\projects\\esinet\\evaluate\\..\\esinet\\util\\util.py:420: RuntimeWarning: Too few samples (required : 310 got : 120), covariance estimate may be unreliable\n",
      "  data_cov = mne.compute_raw_covariance(raw, tmin=tmin,\n",
      "c:\\Users\\Lukas\\Documents\\projects\\esinet\\evaluate\\..\\esinet\\util\\util.py:388: RuntimeWarning: An average reference projection was already added. The data has been left untouched.\n",
      "  epochs.set_eeg_reference(projection=True, verbose=verbose)#.apply_baseline(baseline=baseline)\n",
      "c:\\Users\\Lukas\\Documents\\projects\\esinet\\evaluate\\..\\esinet\\util\\util.py:420: RuntimeWarning: Too few samples (required : 310 got : 80), covariance estimate may be unreliable\n",
      "  data_cov = mne.compute_raw_covariance(raw, tmin=tmin,\n",
      "c:\\Users\\Lukas\\Documents\\projects\\esinet\\evaluate\\..\\esinet\\util\\util.py:388: RuntimeWarning: An average reference projection was already added. The data has been left untouched.\n",
      "  epochs.set_eeg_reference(projection=True, verbose=verbose)#.apply_baseline(baseline=baseline)\n"
     ]
    },
    {
     "name": "stdout",
     "output_type": "stream",
     "text": [
      "<RawArray | 61 x 522 (5.2 s), ~339 kB, data loaded> 4.0 info empirical\n",
      "<RawArray | 61 x 483 (4.8 s), ~320 kB, data loaded> 4.0 info empirical\n",
      "<RawArray | 61 x 576 (5.8 s), ~364 kB, data loaded> 4.0 info empirical\n",
      "<RawArray | 61 x 479 (4.8 s), ~318 kB, data loaded> 4.0 info empirical\n"
     ]
    },
    {
     "name": "stderr",
     "output_type": "stream",
     "text": [
      "c:\\Users\\Lukas\\Documents\\projects\\esinet\\evaluate\\..\\esinet\\util\\util.py:420: RuntimeWarning: Too few samples (required : 310 got : 160), covariance estimate may be unreliable\n",
      "  data_cov = mne.compute_raw_covariance(raw, tmin=tmin,\n",
      "c:\\Users\\Lukas\\Documents\\projects\\esinet\\evaluate\\..\\esinet\\util\\util.py:388: RuntimeWarning: An average reference projection was already added. The data has been left untouched.\n",
      "  epochs.set_eeg_reference(projection=True, verbose=verbose)#.apply_baseline(baseline=baseline)\n",
      "c:\\Users\\Lukas\\Documents\\projects\\esinet\\evaluate\\..\\esinet\\util\\util.py:420: RuntimeWarning: Too few samples (required : 310 got : 60), covariance estimate may be unreliable\n",
      "  data_cov = mne.compute_raw_covariance(raw, tmin=tmin,\n",
      "c:\\Users\\Lukas\\Documents\\projects\\esinet\\evaluate\\..\\esinet\\util\\util.py:388: RuntimeWarning: An average reference projection was already added. The data has been left untouched.\n",
      "  epochs.set_eeg_reference(projection=True, verbose=verbose)#.apply_baseline(baseline=baseline)\n",
      "c:\\Users\\Lukas\\Documents\\projects\\esinet\\evaluate\\..\\esinet\\util\\util.py:420: RuntimeWarning: Too few samples (required : 310 got : 20), covariance estimate may be unreliable\n",
      "  data_cov = mne.compute_raw_covariance(raw, tmin=tmin,\n",
      "c:\\Users\\Lukas\\Documents\\projects\\esinet\\evaluate\\..\\esinet\\util\\util.py:388: RuntimeWarning: An average reference projection was already added. The data has been left untouched.\n",
      "  epochs.set_eeg_reference(projection=True, verbose=verbose)#.apply_baseline(baseline=baseline)\n",
      "c:\\Users\\Lukas\\Documents\\projects\\esinet\\evaluate\\..\\esinet\\util\\util.py:420: RuntimeWarning: Too few samples (required : 310 got : 120), covariance estimate may be unreliable\n",
      "  data_cov = mne.compute_raw_covariance(raw, tmin=tmin,\n"
     ]
    },
    {
     "name": "stdout",
     "output_type": "stream",
     "text": [
      "<RawArray | 61 x 426 (4.2 s), ~293 kB, data loaded> 4.0 info empirical\n",
      "<RawArray | 61 x 534 (5.3 s), ~344 kB, data loaded> 4.0 info empirical\n",
      "<RawArray | 61 x 526 (5.2 s), ~340 kB, data loaded> 4.0 info empirical\n",
      "<RawArray | 61 x 474 (4.7 s), ~316 kB, data loaded> 4.0 info empirical\n"
     ]
    },
    {
     "name": "stderr",
     "output_type": "stream",
     "text": [
      "c:\\Users\\Lukas\\Documents\\projects\\esinet\\evaluate\\..\\esinet\\util\\util.py:388: RuntimeWarning: An average reference projection was already added. The data has been left untouched.\n",
      "  epochs.set_eeg_reference(projection=True, verbose=verbose)#.apply_baseline(baseline=baseline)\n",
      "c:\\Users\\Lukas\\Documents\\projects\\esinet\\evaluate\\..\\esinet\\util\\util.py:420: RuntimeWarning: Too few samples (required : 310 got : 120), covariance estimate may be unreliable\n",
      "  data_cov = mne.compute_raw_covariance(raw, tmin=tmin,\n",
      "c:\\Users\\Lukas\\Documents\\projects\\esinet\\evaluate\\..\\esinet\\util\\util.py:388: RuntimeWarning: An average reference projection was already added. The data has been left untouched.\n",
      "  epochs.set_eeg_reference(projection=True, verbose=verbose)#.apply_baseline(baseline=baseline)\n",
      "c:\\Users\\Lukas\\Documents\\projects\\esinet\\evaluate\\..\\esinet\\util\\util.py:420: RuntimeWarning: Too few samples (required : 310 got : 60), covariance estimate may be unreliable\n",
      "  data_cov = mne.compute_raw_covariance(raw, tmin=tmin,\n",
      "c:\\Users\\Lukas\\Documents\\projects\\esinet\\evaluate\\..\\esinet\\util\\util.py:388: RuntimeWarning: An average reference projection was already added. The data has been left untouched.\n",
      "  epochs.set_eeg_reference(projection=True, verbose=verbose)#.apply_baseline(baseline=baseline)\n",
      "c:\\Users\\Lukas\\Documents\\projects\\esinet\\evaluate\\..\\esinet\\util\\util.py:420: RuntimeWarning: Too few samples (required : 310 got : 120), covariance estimate may be unreliable\n",
      "  data_cov = mne.compute_raw_covariance(raw, tmin=tmin,\n",
      "c:\\Users\\Lukas\\Documents\\projects\\esinet\\evaluate\\..\\esinet\\util\\util.py:388: RuntimeWarning: An average reference projection was already added. The data has been left untouched.\n",
      "  epochs.set_eeg_reference(projection=True, verbose=verbose)#.apply_baseline(baseline=baseline)\n",
      "c:\\Users\\Lukas\\Documents\\projects\\esinet\\evaluate\\..\\esinet\\util\\util.py:420: RuntimeWarning: Too few samples (required : 310 got : 100), covariance estimate may be unreliable\n",
      "  data_cov = mne.compute_raw_covariance(raw, tmin=tmin,\n"
     ]
    },
    {
     "name": "stdout",
     "output_type": "stream",
     "text": [
      "<RawArray | 61 x 538 (5.4 s), ~346 kB, data loaded> 4.0 info empirical\n",
      "<RawArray | 61 x 501 (5.0 s), ~329 kB, data loaded> 4.0 info empirical\n",
      "<RawArray | 61 x 403 (4.0 s), ~282 kB, data loaded> 4.0 info empirical\n",
      "<RawArray | 61 x 413 (4.1 s), ~287 kB, data loaded> 4.0 info empirical\n"
     ]
    },
    {
     "name": "stderr",
     "output_type": "stream",
     "text": [
      "c:\\Users\\Lukas\\Documents\\projects\\esinet\\evaluate\\..\\esinet\\util\\util.py:388: RuntimeWarning: An average reference projection was already added. The data has been left untouched.\n",
      "  epochs.set_eeg_reference(projection=True, verbose=verbose)#.apply_baseline(baseline=baseline)\n",
      "c:\\Users\\Lukas\\Documents\\projects\\esinet\\evaluate\\..\\esinet\\util\\util.py:423: RuntimeWarning: Epochs are not baseline corrected, covariance matrix may be inaccurate\n",
      "  data_cov = mne.compute_covariance(epochs, tmin=0.0,\n",
      "c:\\Users\\Lukas\\Documents\\projects\\esinet\\evaluate\\..\\esinet\\util\\util.py:423: RuntimeWarning: Too few samples (required : 310 got : 3), covariance estimate may be unreliable\n",
      "  data_cov = mne.compute_covariance(epochs, tmin=0.0,\n",
      "c:\\Users\\Lukas\\Documents\\projects\\esinet\\evaluate\\..\\esinet\\util\\util.py:388: RuntimeWarning: An average reference projection was already added. The data has been left untouched.\n",
      "  epochs.set_eeg_reference(projection=True, verbose=verbose)#.apply_baseline(baseline=baseline)\n",
      "c:\\Users\\Lukas\\Documents\\projects\\esinet\\evaluate\\..\\esinet\\util\\util.py:423: RuntimeWarning: Epochs are not baseline corrected, covariance matrix may be inaccurate\n",
      "  data_cov = mne.compute_covariance(epochs, tmin=0.0,\n",
      "c:\\Users\\Lukas\\Documents\\projects\\esinet\\evaluate\\..\\esinet\\util\\util.py:423: RuntimeWarning: Too few samples (required : 310 got : 13), covariance estimate may be unreliable\n",
      "  data_cov = mne.compute_covariance(epochs, tmin=0.0,\n",
      "c:\\Users\\Lukas\\Documents\\projects\\esinet\\evaluate\\..\\esinet\\util\\util.py:388: RuntimeWarning: An average reference projection was already added. The data has been left untouched.\n",
      "  epochs.set_eeg_reference(projection=True, verbose=verbose)#.apply_baseline(baseline=baseline)\n",
      "c:\\Users\\Lukas\\Documents\\projects\\esinet\\evaluate\\..\\esinet\\util\\util.py:420: RuntimeWarning: Too few samples (required : 310 got : 120), covariance estimate may be unreliable\n",
      "  data_cov = mne.compute_raw_covariance(raw, tmin=tmin,\n",
      "c:\\Users\\Lukas\\Documents\\projects\\esinet\\evaluate\\..\\esinet\\util\\util.py:388: RuntimeWarning: An average reference projection was already added. The data has been left untouched.\n",
      "  epochs.set_eeg_reference(projection=True, verbose=verbose)#.apply_baseline(baseline=baseline)\n",
      "c:\\Users\\Lukas\\Documents\\projects\\esinet\\evaluate\\..\\esinet\\util\\util.py:420: RuntimeWarning: Too few samples (required : 310 got : 40), covariance estimate may be unreliable\n",
      "  data_cov = mne.compute_raw_covariance(raw, tmin=tmin,\n"
     ]
    },
    {
     "name": "stdout",
     "output_type": "stream",
     "text": [
      "<RawArray | 61 x 521 (5.2 s), ~338 kB, data loaded> 4.0 info empirical\n",
      "<RawArray | 61 x 453 (4.5 s), ~306 kB, data loaded> 4.0 info empirical\n",
      "<RawArray | 61 x 445 (4.4 s), ~302 kB, data loaded> 4.0 info empirical\n",
      "<RawArray | 61 x 537 (5.4 s), ~346 kB, data loaded> 4.0 info empirical\n"
     ]
    },
    {
     "name": "stderr",
     "output_type": "stream",
     "text": [
      "c:\\Users\\Lukas\\Documents\\projects\\esinet\\evaluate\\..\\esinet\\util\\util.py:388: RuntimeWarning: An average reference projection was already added. The data has been left untouched.\n",
      "  epochs.set_eeg_reference(projection=True, verbose=verbose)#.apply_baseline(baseline=baseline)\n",
      "c:\\Users\\Lukas\\Documents\\projects\\esinet\\evaluate\\..\\esinet\\util\\util.py:420: RuntimeWarning: Too few samples (required : 310 got : 40), covariance estimate may be unreliable\n",
      "  data_cov = mne.compute_raw_covariance(raw, tmin=tmin,\n",
      "c:\\Users\\Lukas\\Documents\\projects\\esinet\\evaluate\\..\\esinet\\util\\util.py:388: RuntimeWarning: An average reference projection was already added. The data has been left untouched.\n",
      "  epochs.set_eeg_reference(projection=True, verbose=verbose)#.apply_baseline(baseline=baseline)\n",
      "c:\\Users\\Lukas\\Documents\\projects\\esinet\\evaluate\\..\\esinet\\util\\util.py:420: RuntimeWarning: Too few samples (required : 310 got : 120), covariance estimate may be unreliable\n",
      "  data_cov = mne.compute_raw_covariance(raw, tmin=tmin,\n",
      "c:\\Users\\Lukas\\Documents\\projects\\esinet\\evaluate\\..\\esinet\\util\\util.py:388: RuntimeWarning: An average reference projection was already added. The data has been left untouched.\n",
      "  epochs.set_eeg_reference(projection=True, verbose=verbose)#.apply_baseline(baseline=baseline)\n",
      "c:\\Users\\Lukas\\Documents\\projects\\esinet\\evaluate\\..\\esinet\\util\\util.py:420: RuntimeWarning: Too few samples (required : 310 got : 180), covariance estimate may be unreliable\n",
      "  data_cov = mne.compute_raw_covariance(raw, tmin=tmin,\n",
      "c:\\Users\\Lukas\\Documents\\projects\\esinet\\evaluate\\..\\esinet\\util\\util.py:388: RuntimeWarning: An average reference projection was already added. The data has been left untouched.\n",
      "  epochs.set_eeg_reference(projection=True, verbose=verbose)#.apply_baseline(baseline=baseline)\n",
      "c:\\Users\\Lukas\\Documents\\projects\\esinet\\evaluate\\..\\esinet\\util\\util.py:420: RuntimeWarning: Too few samples (required : 310 got : 100), covariance estimate may be unreliable\n",
      "  data_cov = mne.compute_raw_covariance(raw, tmin=tmin,\n"
     ]
    },
    {
     "name": "stdout",
     "output_type": "stream",
     "text": [
      "<RawArray | 61 x 593 (5.9 s), ~372 kB, data loaded> 4.0 info empirical\n",
      "<RawArray | 61 x 503 (5.0 s), ~330 kB, data loaded> 4.0 info empirical\n",
      "<RawArray | 61 x 599 (6.0 s), ~375 kB, data loaded> 4.0 info empirical\n",
      "<RawArray | 61 x 578 (5.8 s), ~365 kB, data loaded> 4.0 info empirical\n"
     ]
    },
    {
     "name": "stderr",
     "output_type": "stream",
     "text": [
      "c:\\Users\\Lukas\\Documents\\projects\\esinet\\evaluate\\..\\esinet\\util\\util.py:388: RuntimeWarning: An average reference projection was already added. The data has been left untouched.\n",
      "  epochs.set_eeg_reference(projection=True, verbose=verbose)#.apply_baseline(baseline=baseline)\n",
      "c:\\Users\\Lukas\\Documents\\projects\\esinet\\evaluate\\..\\esinet\\util\\util.py:420: RuntimeWarning: Too few samples (required : 310 got : 180), covariance estimate may be unreliable\n",
      "  data_cov = mne.compute_raw_covariance(raw, tmin=tmin,\n",
      "c:\\Users\\Lukas\\Documents\\projects\\esinet\\evaluate\\..\\esinet\\util\\util.py:388: RuntimeWarning: An average reference projection was already added. The data has been left untouched.\n",
      "  epochs.set_eeg_reference(projection=True, verbose=verbose)#.apply_baseline(baseline=baseline)\n",
      "c:\\Users\\Lukas\\Documents\\projects\\esinet\\evaluate\\..\\esinet\\util\\util.py:420: RuntimeWarning: Too few samples (required : 310 got : 160), covariance estimate may be unreliable\n",
      "  data_cov = mne.compute_raw_covariance(raw, tmin=tmin,\n",
      "c:\\Users\\Lukas\\Documents\\projects\\esinet\\evaluate\\..\\esinet\\util\\util.py:388: RuntimeWarning: An average reference projection was already added. The data has been left untouched.\n",
      "  epochs.set_eeg_reference(projection=True, verbose=verbose)#.apply_baseline(baseline=baseline)\n",
      "c:\\Users\\Lukas\\Documents\\projects\\esinet\\evaluate\\..\\esinet\\util\\util.py:420: RuntimeWarning: Too few samples (required : 310 got : 140), covariance estimate may be unreliable\n",
      "  data_cov = mne.compute_raw_covariance(raw, tmin=tmin,\n",
      "c:\\Users\\Lukas\\Documents\\projects\\esinet\\evaluate\\..\\esinet\\util\\util.py:388: RuntimeWarning: An average reference projection was already added. The data has been left untouched.\n",
      "  epochs.set_eeg_reference(projection=True, verbose=verbose)#.apply_baseline(baseline=baseline)\n",
      "c:\\Users\\Lukas\\Documents\\projects\\esinet\\evaluate\\..\\esinet\\util\\util.py:423: RuntimeWarning: Epochs are not baseline corrected, covariance matrix may be inaccurate\n",
      "  data_cov = mne.compute_covariance(epochs, tmin=0.0,\n",
      "c:\\Users\\Lukas\\Documents\\projects\\esinet\\evaluate\\..\\esinet\\util\\util.py:423: RuntimeWarning: Too few samples (required : 310 got : 10), covariance estimate may be unreliable\n",
      "  data_cov = mne.compute_covariance(epochs, tmin=0.0,\n"
     ]
    },
    {
     "name": "stdout",
     "output_type": "stream",
     "text": [
      "<RawArray | 61 x 556 (5.5 s), ~355 kB, data loaded> 4.0 info empirical\n",
      "<RawArray | 61 x 410 (4.1 s), ~285 kB, data loaded> 4.0 info empirical\n",
      "<RawArray | 61 x 498 (5.0 s), ~327 kB, data loaded> 4.0 info empirical\n",
      "<RawArray | 61 x 424 (4.2 s), ~292 kB, data loaded> 4.0 info empirical\n"
     ]
    },
    {
     "name": "stderr",
     "output_type": "stream",
     "text": [
      "c:\\Users\\Lukas\\Documents\\projects\\esinet\\evaluate\\..\\esinet\\util\\util.py:388: RuntimeWarning: An average reference projection was already added. The data has been left untouched.\n",
      "  epochs.set_eeg_reference(projection=True, verbose=verbose)#.apply_baseline(baseline=baseline)\n",
      "c:\\Users\\Lukas\\Documents\\projects\\esinet\\evaluate\\..\\esinet\\util\\util.py:420: RuntimeWarning: Too few samples (required : 310 got : 80), covariance estimate may be unreliable\n",
      "  data_cov = mne.compute_raw_covariance(raw, tmin=tmin,\n",
      "c:\\Users\\Lukas\\Documents\\projects\\esinet\\evaluate\\..\\esinet\\util\\util.py:388: RuntimeWarning: An average reference projection was already added. The data has been left untouched.\n",
      "  epochs.set_eeg_reference(projection=True, verbose=verbose)#.apply_baseline(baseline=baseline)\n",
      "c:\\Users\\Lukas\\Documents\\projects\\esinet\\evaluate\\..\\esinet\\util\\util.py:420: RuntimeWarning: Too few samples (required : 310 got : 20), covariance estimate may be unreliable\n",
      "  data_cov = mne.compute_raw_covariance(raw, tmin=tmin,\n",
      "c:\\Users\\Lukas\\Documents\\projects\\esinet\\evaluate\\..\\esinet\\util\\util.py:388: RuntimeWarning: An average reference projection was already added. The data has been left untouched.\n",
      "  epochs.set_eeg_reference(projection=True, verbose=verbose)#.apply_baseline(baseline=baseline)\n",
      "c:\\Users\\Lukas\\Documents\\projects\\esinet\\evaluate\\..\\esinet\\util\\util.py:420: RuntimeWarning: Too few samples (required : 310 got : 40), covariance estimate may be unreliable\n",
      "  data_cov = mne.compute_raw_covariance(raw, tmin=tmin,\n",
      "c:\\Users\\Lukas\\Documents\\projects\\esinet\\evaluate\\..\\esinet\\util\\util.py:388: RuntimeWarning: An average reference projection was already added. The data has been left untouched.\n",
      "  epochs.set_eeg_reference(projection=True, verbose=verbose)#.apply_baseline(baseline=baseline)\n",
      "c:\\Users\\Lukas\\Documents\\projects\\esinet\\evaluate\\..\\esinet\\util\\util.py:420: RuntimeWarning: Too few samples (required : 310 got : 40), covariance estimate may be unreliable\n",
      "  data_cov = mne.compute_raw_covariance(raw, tmin=tmin,\n",
      "c:\\Users\\Lukas\\Documents\\projects\\esinet\\evaluate\\..\\esinet\\util\\util.py:388: RuntimeWarning: An average reference projection was already added. The data has been left untouched.\n",
      "  epochs.set_eeg_reference(projection=True, verbose=verbose)#.apply_baseline(baseline=baseline)\n"
     ]
    },
    {
     "name": "stdout",
     "output_type": "stream",
     "text": [
      "<RawArray | 61 x 450 (4.5 s), ~304 kB, data loaded> 4.0 info empirical\n",
      "<RawArray | 61 x 442 (4.4 s), ~300 kB, data loaded> 4.0 info empirical\n",
      "<RawArray | 61 x 425 (4.2 s), ~292 kB, data loaded> 4.0 info empirical\n",
      "<RawArray | 61 x 412 (4.1 s), ~286 kB, data loaded> 4.0 info empirical\n"
     ]
    },
    {
     "name": "stderr",
     "output_type": "stream",
     "text": [
      "c:\\Users\\Lukas\\Documents\\projects\\esinet\\evaluate\\..\\esinet\\util\\util.py:420: RuntimeWarning: Too few samples (required : 310 got : 20), covariance estimate may be unreliable\n",
      "  data_cov = mne.compute_raw_covariance(raw, tmin=tmin,\n",
      "c:\\Users\\Lukas\\Documents\\projects\\esinet\\evaluate\\..\\esinet\\util\\util.py:388: RuntimeWarning: An average reference projection was already added. The data has been left untouched.\n",
      "  epochs.set_eeg_reference(projection=True, verbose=verbose)#.apply_baseline(baseline=baseline)\n",
      "c:\\Users\\Lukas\\Documents\\projects\\esinet\\evaluate\\..\\esinet\\util\\util.py:423: RuntimeWarning: Epochs are not baseline corrected, covariance matrix may be inaccurate\n",
      "  data_cov = mne.compute_covariance(epochs, tmin=0.0,\n",
      "c:\\Users\\Lukas\\Documents\\projects\\esinet\\evaluate\\..\\esinet\\util\\util.py:423: RuntimeWarning: Too few samples (required : 310 got : 12), covariance estimate may be unreliable\n",
      "  data_cov = mne.compute_covariance(epochs, tmin=0.0,\n",
      "c:\\Users\\Lukas\\Documents\\projects\\esinet\\evaluate\\..\\esinet\\util\\util.py:388: RuntimeWarning: An average reference projection was already added. The data has been left untouched.\n",
      "  epochs.set_eeg_reference(projection=True, verbose=verbose)#.apply_baseline(baseline=baseline)\n",
      "c:\\Users\\Lukas\\Documents\\projects\\esinet\\evaluate\\..\\esinet\\util\\util.py:423: RuntimeWarning: Epochs are not baseline corrected, covariance matrix may be inaccurate\n",
      "  data_cov = mne.compute_covariance(epochs, tmin=0.0,\n",
      "c:\\Users\\Lukas\\Documents\\projects\\esinet\\evaluate\\..\\esinet\\util\\util.py:423: RuntimeWarning: Too few samples (required : 310 got : 15), covariance estimate may be unreliable\n",
      "  data_cov = mne.compute_covariance(epochs, tmin=0.0,\n",
      "c:\\Users\\Lukas\\Documents\\projects\\esinet\\evaluate\\..\\esinet\\util\\util.py:388: RuntimeWarning: An average reference projection was already added. The data has been left untouched.\n",
      "  epochs.set_eeg_reference(projection=True, verbose=verbose)#.apply_baseline(baseline=baseline)\n",
      "c:\\Users\\Lukas\\Documents\\projects\\esinet\\evaluate\\..\\esinet\\util\\util.py:423: RuntimeWarning: Epochs are not baseline corrected, covariance matrix may be inaccurate\n",
      "  data_cov = mne.compute_covariance(epochs, tmin=0.0,\n",
      "c:\\Users\\Lukas\\Documents\\projects\\esinet\\evaluate\\..\\esinet\\util\\util.py:423: RuntimeWarning: Too few samples (required : 310 got : 11), covariance estimate may be unreliable\n",
      "  data_cov = mne.compute_covariance(epochs, tmin=0.0,\n",
      "c:\\Users\\Lukas\\Documents\\projects\\esinet\\evaluate\\..\\esinet\\util\\util.py:388: RuntimeWarning: An average reference projection was already added. The data has been left untouched.\n",
      "  epochs.set_eeg_reference(projection=True, verbose=verbose)#.apply_baseline(baseline=baseline)\n"
     ]
    },
    {
     "name": "stdout",
     "output_type": "stream",
     "text": [
      "<RawArray | 61 x 415 (4.1 s), ~288 kB, data loaded> 4.0 info empirical\n",
      "<RawArray | 61 x 411 (4.1 s), ~286 kB, data loaded> 4.0 info empirical\n",
      "<RawArray | 61 x 403 (4.0 s), ~282 kB, data loaded> 4.0 info empirical\n",
      "<RawArray | 61 x 454 (4.5 s), ~306 kB, data loaded> 4.0 info empirical\n"
     ]
    },
    {
     "name": "stderr",
     "output_type": "stream",
     "text": [
      "c:\\Users\\Lukas\\Documents\\projects\\esinet\\evaluate\\..\\esinet\\util\\util.py:423: RuntimeWarning: Epochs are not baseline corrected, covariance matrix may be inaccurate\n",
      "  data_cov = mne.compute_covariance(epochs, tmin=0.0,\n",
      "c:\\Users\\Lukas\\Documents\\projects\\esinet\\evaluate\\..\\esinet\\util\\util.py:423: RuntimeWarning: Too few samples (required : 310 got : 3), covariance estimate may be unreliable\n",
      "  data_cov = mne.compute_covariance(epochs, tmin=0.0,\n",
      "c:\\Users\\Lukas\\Documents\\projects\\esinet\\evaluate\\..\\esinet\\util\\util.py:388: RuntimeWarning: An average reference projection was already added. The data has been left untouched.\n",
      "  epochs.set_eeg_reference(projection=True, verbose=verbose)#.apply_baseline(baseline=baseline)\n",
      "c:\\Users\\Lukas\\Documents\\projects\\esinet\\evaluate\\..\\esinet\\util\\util.py:420: RuntimeWarning: Too few samples (required : 310 got : 40), covariance estimate may be unreliable\n",
      "  data_cov = mne.compute_raw_covariance(raw, tmin=tmin,\n",
      "c:\\Users\\Lukas\\Documents\\projects\\esinet\\evaluate\\..\\esinet\\util\\util.py:388: RuntimeWarning: An average reference projection was already added. The data has been left untouched.\n",
      "  epochs.set_eeg_reference(projection=True, verbose=verbose)#.apply_baseline(baseline=baseline)\n",
      "c:\\Users\\Lukas\\Documents\\projects\\esinet\\evaluate\\..\\esinet\\util\\util.py:423: RuntimeWarning: Epochs are not baseline corrected, covariance matrix may be inaccurate\n",
      "  data_cov = mne.compute_covariance(epochs, tmin=0.0,\n",
      "c:\\Users\\Lukas\\Documents\\projects\\esinet\\evaluate\\..\\esinet\\util\\util.py:423: RuntimeWarning: Too few samples (required : 310 got : 5), covariance estimate may be unreliable\n",
      "  data_cov = mne.compute_covariance(epochs, tmin=0.0,\n",
      "c:\\Users\\Lukas\\Documents\\projects\\esinet\\evaluate\\..\\esinet\\util\\util.py:388: RuntimeWarning: An average reference projection was already added. The data has been left untouched.\n",
      "  epochs.set_eeg_reference(projection=True, verbose=verbose)#.apply_baseline(baseline=baseline)\n"
     ]
    },
    {
     "name": "stdout",
     "output_type": "stream",
     "text": [
      "<RawArray | 61 x 405 (4.0 s), ~283 kB, data loaded> 4.0 info empirical\n",
      "<RawArray | 61 x 592 (5.9 s), ~372 kB, data loaded> 4.0 info empirical\n",
      "<RawArray | 61 x 469 (4.7 s), ~313 kB, data loaded> 4.0 info empirical\n",
      "<RawArray | 61 x 526 (5.2 s), ~340 kB, data loaded> 4.0 info empirical\n"
     ]
    },
    {
     "name": "stderr",
     "output_type": "stream",
     "text": [
      "c:\\Users\\Lukas\\Documents\\projects\\esinet\\evaluate\\..\\esinet\\util\\util.py:420: RuntimeWarning: Too few samples (required : 310 got : 180), covariance estimate may be unreliable\n",
      "  data_cov = mne.compute_raw_covariance(raw, tmin=tmin,\n",
      "c:\\Users\\Lukas\\Documents\\projects\\esinet\\evaluate\\..\\esinet\\util\\util.py:388: RuntimeWarning: An average reference projection was already added. The data has been left untouched.\n",
      "  epochs.set_eeg_reference(projection=True, verbose=verbose)#.apply_baseline(baseline=baseline)\n",
      "c:\\Users\\Lukas\\Documents\\projects\\esinet\\evaluate\\..\\esinet\\util\\util.py:420: RuntimeWarning: Too few samples (required : 310 got : 60), covariance estimate may be unreliable\n",
      "  data_cov = mne.compute_raw_covariance(raw, tmin=tmin,\n",
      "c:\\Users\\Lukas\\Documents\\projects\\esinet\\evaluate\\..\\esinet\\util\\util.py:388: RuntimeWarning: An average reference projection was already added. The data has been left untouched.\n",
      "  epochs.set_eeg_reference(projection=True, verbose=verbose)#.apply_baseline(baseline=baseline)\n",
      "c:\\Users\\Lukas\\Documents\\projects\\esinet\\evaluate\\..\\esinet\\util\\util.py:420: RuntimeWarning: Too few samples (required : 310 got : 120), covariance estimate may be unreliable\n",
      "  data_cov = mne.compute_raw_covariance(raw, tmin=tmin,\n",
      "c:\\Users\\Lukas\\Documents\\projects\\esinet\\evaluate\\..\\esinet\\util\\util.py:388: RuntimeWarning: An average reference projection was already added. The data has been left untouched.\n",
      "  epochs.set_eeg_reference(projection=True, verbose=verbose)#.apply_baseline(baseline=baseline)\n",
      "c:\\Users\\Lukas\\Documents\\projects\\esinet\\evaluate\\..\\esinet\\util\\util.py:423: RuntimeWarning: Epochs are not baseline corrected, covariance matrix may be inaccurate\n",
      "  data_cov = mne.compute_covariance(epochs, tmin=0.0,\n",
      "c:\\Users\\Lukas\\Documents\\projects\\esinet\\evaluate\\..\\esinet\\util\\util.py:423: RuntimeWarning: Too few samples (required : 310 got : 5), covariance estimate may be unreliable\n",
      "  data_cov = mne.compute_covariance(epochs, tmin=0.0,\n"
     ]
    },
    {
     "name": "stdout",
     "output_type": "stream",
     "text": [
      "<RawArray | 61 x 405 (4.0 s), ~283 kB, data loaded> 4.0 info empirical\n",
      "<RawArray | 61 x 533 (5.3 s), ~344 kB, data loaded> 4.0 info empirical\n",
      "<RawArray | 61 x 426 (4.2 s), ~293 kB, data loaded> 4.0 info empirical\n",
      "<RawArray | 61 x 513 (5.1 s), ~334 kB, data loaded> 4.0 info empirical\n"
     ]
    },
    {
     "name": "stderr",
     "output_type": "stream",
     "text": [
      "c:\\Users\\Lukas\\Documents\\projects\\esinet\\evaluate\\..\\esinet\\util\\util.py:388: RuntimeWarning: An average reference projection was already added. The data has been left untouched.\n",
      "  epochs.set_eeg_reference(projection=True, verbose=verbose)#.apply_baseline(baseline=baseline)\n",
      "c:\\Users\\Lukas\\Documents\\projects\\esinet\\evaluate\\..\\esinet\\util\\util.py:420: RuntimeWarning: Too few samples (required : 310 got : 120), covariance estimate may be unreliable\n",
      "  data_cov = mne.compute_raw_covariance(raw, tmin=tmin,\n",
      "c:\\Users\\Lukas\\Documents\\projects\\esinet\\evaluate\\..\\esinet\\util\\util.py:388: RuntimeWarning: An average reference projection was already added. The data has been left untouched.\n",
      "  epochs.set_eeg_reference(projection=True, verbose=verbose)#.apply_baseline(baseline=baseline)\n",
      "c:\\Users\\Lukas\\Documents\\projects\\esinet\\evaluate\\..\\esinet\\util\\util.py:420: RuntimeWarning: Too few samples (required : 310 got : 20), covariance estimate may be unreliable\n",
      "  data_cov = mne.compute_raw_covariance(raw, tmin=tmin,\n",
      "c:\\Users\\Lukas\\Documents\\projects\\esinet\\evaluate\\..\\esinet\\util\\util.py:388: RuntimeWarning: An average reference projection was already added. The data has been left untouched.\n",
      "  epochs.set_eeg_reference(projection=True, verbose=verbose)#.apply_baseline(baseline=baseline)\n",
      "c:\\Users\\Lukas\\Documents\\projects\\esinet\\evaluate\\..\\esinet\\util\\util.py:420: RuntimeWarning: Too few samples (required : 310 got : 100), covariance estimate may be unreliable\n",
      "  data_cov = mne.compute_raw_covariance(raw, tmin=tmin,\n",
      "c:\\Users\\Lukas\\Documents\\projects\\esinet\\evaluate\\..\\esinet\\util\\util.py:388: RuntimeWarning: An average reference projection was already added. The data has been left untouched.\n",
      "  epochs.set_eeg_reference(projection=True, verbose=verbose)#.apply_baseline(baseline=baseline)\n",
      "c:\\Users\\Lukas\\Documents\\projects\\esinet\\evaluate\\..\\esinet\\util\\util.py:420: RuntimeWarning: Too few samples (required : 310 got : 40), covariance estimate may be unreliable\n",
      "  data_cov = mne.compute_raw_covariance(raw, tmin=tmin,\n",
      "c:\\Users\\Lukas\\Documents\\projects\\esinet\\evaluate\\..\\esinet\\util\\util.py:388: RuntimeWarning: An average reference projection was already added. The data has been left untouched.\n",
      "  epochs.set_eeg_reference(projection=True, verbose=verbose)#.apply_baseline(baseline=baseline)\n"
     ]
    },
    {
     "name": "stdout",
     "output_type": "stream",
     "text": [
      "<RawArray | 61 x 458 (4.6 s), ~308 kB, data loaded> 4.0 info empirical\n",
      "<RawArray | 61 x 421 (4.2 s), ~290 kB, data loaded> 4.0 info empirical\n",
      "<RawArray | 61 x 541 (5.4 s), ~348 kB, data loaded> 4.0 info empirical\n",
      "<RawArray | 61 x 519 (5.2 s), ~337 kB, data loaded> 4.0 info empirical\n"
     ]
    },
    {
     "name": "stderr",
     "output_type": "stream",
     "text": [
      "c:\\Users\\Lukas\\Documents\\projects\\esinet\\evaluate\\..\\esinet\\util\\util.py:420: RuntimeWarning: Too few samples (required : 310 got : 20), covariance estimate may be unreliable\n",
      "  data_cov = mne.compute_raw_covariance(raw, tmin=tmin,\n",
      "c:\\Users\\Lukas\\Documents\\projects\\esinet\\evaluate\\..\\esinet\\util\\util.py:388: RuntimeWarning: An average reference projection was already added. The data has been left untouched.\n",
      "  epochs.set_eeg_reference(projection=True, verbose=verbose)#.apply_baseline(baseline=baseline)\n",
      "c:\\Users\\Lukas\\Documents\\projects\\esinet\\evaluate\\..\\esinet\\util\\util.py:420: RuntimeWarning: Too few samples (required : 310 got : 140), covariance estimate may be unreliable\n",
      "  data_cov = mne.compute_raw_covariance(raw, tmin=tmin,\n",
      "c:\\Users\\Lukas\\Documents\\projects\\esinet\\evaluate\\..\\esinet\\util\\util.py:388: RuntimeWarning: An average reference projection was already added. The data has been left untouched.\n",
      "  epochs.set_eeg_reference(projection=True, verbose=verbose)#.apply_baseline(baseline=baseline)\n",
      "c:\\Users\\Lukas\\Documents\\projects\\esinet\\evaluate\\..\\esinet\\util\\util.py:420: RuntimeWarning: Too few samples (required : 310 got : 100), covariance estimate may be unreliable\n",
      "  data_cov = mne.compute_raw_covariance(raw, tmin=tmin,\n",
      "c:\\Users\\Lukas\\Documents\\projects\\esinet\\evaluate\\..\\esinet\\util\\util.py:388: RuntimeWarning: An average reference projection was already added. The data has been left untouched.\n",
      "  epochs.set_eeg_reference(projection=True, verbose=verbose)#.apply_baseline(baseline=baseline)\n",
      "c:\\Users\\Lukas\\Documents\\projects\\esinet\\evaluate\\..\\esinet\\util\\util.py:420: RuntimeWarning: Too few samples (required : 310 got : 40), covariance estimate may be unreliable\n",
      "  data_cov = mne.compute_raw_covariance(raw, tmin=tmin,\n",
      "c:\\Users\\Lukas\\Documents\\projects\\esinet\\evaluate\\..\\esinet\\util\\util.py:388: RuntimeWarning: An average reference projection was already added. The data has been left untouched.\n",
      "  epochs.set_eeg_reference(projection=True, verbose=verbose)#.apply_baseline(baseline=baseline)\n"
     ]
    },
    {
     "name": "stdout",
     "output_type": "stream",
     "text": [
      "<RawArray | 61 x 450 (4.5 s), ~304 kB, data loaded> 4.0 info empirical\n",
      "<RawArray | 61 x 528 (5.3 s), ~341 kB, data loaded> 4.0 info empirical\n",
      "<RawArray | 61 x 460 (4.6 s), ~309 kB, data loaded> 4.0 info empirical\n",
      "<RawArray | 61 x 404 (4.0 s), ~282 kB, data loaded> 4.0 info empirical\n"
     ]
    },
    {
     "name": "stderr",
     "output_type": "stream",
     "text": [
      "c:\\Users\\Lukas\\Documents\\projects\\esinet\\evaluate\\..\\esinet\\util\\util.py:420: RuntimeWarning: Too few samples (required : 310 got : 120), covariance estimate may be unreliable\n",
      "  data_cov = mne.compute_raw_covariance(raw, tmin=tmin,\n",
      "c:\\Users\\Lukas\\Documents\\projects\\esinet\\evaluate\\..\\esinet\\util\\util.py:388: RuntimeWarning: An average reference projection was already added. The data has been left untouched.\n",
      "  epochs.set_eeg_reference(projection=True, verbose=verbose)#.apply_baseline(baseline=baseline)\n",
      "c:\\Users\\Lukas\\Documents\\projects\\esinet\\evaluate\\..\\esinet\\util\\util.py:420: RuntimeWarning: Too few samples (required : 310 got : 60), covariance estimate may be unreliable\n",
      "  data_cov = mne.compute_raw_covariance(raw, tmin=tmin,\n",
      "c:\\Users\\Lukas\\Documents\\projects\\esinet\\evaluate\\..\\esinet\\util\\util.py:388: RuntimeWarning: An average reference projection was already added. The data has been left untouched.\n",
      "  epochs.set_eeg_reference(projection=True, verbose=verbose)#.apply_baseline(baseline=baseline)\n",
      "c:\\Users\\Lukas\\Documents\\projects\\esinet\\evaluate\\..\\esinet\\util\\util.py:423: RuntimeWarning: Epochs are not baseline corrected, covariance matrix may be inaccurate\n",
      "  data_cov = mne.compute_covariance(epochs, tmin=0.0,\n",
      "c:\\Users\\Lukas\\Documents\\projects\\esinet\\evaluate\\..\\esinet\\util\\util.py:423: RuntimeWarning: Too few samples (required : 310 got : 4), covariance estimate may be unreliable\n",
      "  data_cov = mne.compute_covariance(epochs, tmin=0.0,\n",
      "c:\\Users\\Lukas\\Documents\\projects\\esinet\\evaluate\\..\\esinet\\util\\util.py:388: RuntimeWarning: An average reference projection was already added. The data has been left untouched.\n",
      "  epochs.set_eeg_reference(projection=True, verbose=verbose)#.apply_baseline(baseline=baseline)\n",
      "c:\\Users\\Lukas\\Documents\\projects\\esinet\\evaluate\\..\\esinet\\util\\util.py:423: RuntimeWarning: Epochs are not baseline corrected, covariance matrix may be inaccurate\n",
      "  data_cov = mne.compute_covariance(epochs, tmin=0.0,\n",
      "c:\\Users\\Lukas\\Documents\\projects\\esinet\\evaluate\\..\\esinet\\util\\util.py:423: RuntimeWarning: Too few samples (required : 310 got : 10), covariance estimate may be unreliable\n",
      "  data_cov = mne.compute_covariance(epochs, tmin=0.0,\n"
     ]
    },
    {
     "name": "stdout",
     "output_type": "stream",
     "text": [
      "<RawArray | 61 x 410 (4.1 s), ~285 kB, data loaded> 4.0 info empirical\n",
      "<RawArray | 61 x 519 (5.2 s), ~337 kB, data loaded> 4.0 info empirical\n",
      "<RawArray | 61 x 434 (4.3 s), ~297 kB, data loaded> 4.0 info empirical\n",
      "<RawArray | 61 x 582 (5.8 s), ~367 kB, data loaded> 4.0 info empirical\n"
     ]
    },
    {
     "name": "stderr",
     "output_type": "stream",
     "text": [
      "c:\\Users\\Lukas\\Documents\\projects\\esinet\\evaluate\\..\\esinet\\util\\util.py:388: RuntimeWarning: An average reference projection was already added. The data has been left untouched.\n",
      "  epochs.set_eeg_reference(projection=True, verbose=verbose)#.apply_baseline(baseline=baseline)\n",
      "c:\\Users\\Lukas\\Documents\\projects\\esinet\\evaluate\\..\\esinet\\util\\util.py:420: RuntimeWarning: Too few samples (required : 310 got : 100), covariance estimate may be unreliable\n",
      "  data_cov = mne.compute_raw_covariance(raw, tmin=tmin,\n",
      "c:\\Users\\Lukas\\Documents\\projects\\esinet\\evaluate\\..\\esinet\\util\\util.py:388: RuntimeWarning: An average reference projection was already added. The data has been left untouched.\n",
      "  epochs.set_eeg_reference(projection=True, verbose=verbose)#.apply_baseline(baseline=baseline)\n",
      "c:\\Users\\Lukas\\Documents\\projects\\esinet\\evaluate\\..\\esinet\\util\\util.py:420: RuntimeWarning: Too few samples (required : 310 got : 20), covariance estimate may be unreliable\n",
      "  data_cov = mne.compute_raw_covariance(raw, tmin=tmin,\n",
      "c:\\Users\\Lukas\\Documents\\projects\\esinet\\evaluate\\..\\esinet\\util\\util.py:388: RuntimeWarning: An average reference projection was already added. The data has been left untouched.\n",
      "  epochs.set_eeg_reference(projection=True, verbose=verbose)#.apply_baseline(baseline=baseline)\n",
      "c:\\Users\\Lukas\\Documents\\projects\\esinet\\evaluate\\..\\esinet\\util\\util.py:420: RuntimeWarning: Too few samples (required : 310 got : 180), covariance estimate may be unreliable\n",
      "  data_cov = mne.compute_raw_covariance(raw, tmin=tmin,\n",
      "c:\\Users\\Lukas\\Documents\\projects\\esinet\\evaluate\\..\\esinet\\util\\util.py:388: RuntimeWarning: An average reference projection was already added. The data has been left untouched.\n",
      "  epochs.set_eeg_reference(projection=True, verbose=verbose)#.apply_baseline(baseline=baseline)\n",
      "c:\\Users\\Lukas\\Documents\\projects\\esinet\\evaluate\\..\\esinet\\util\\util.py:420: RuntimeWarning: Too few samples (required : 310 got : 160), covariance estimate may be unreliable\n",
      "  data_cov = mne.compute_raw_covariance(raw, tmin=tmin,\n",
      "c:\\Users\\Lukas\\Documents\\projects\\esinet\\evaluate\\..\\esinet\\util\\util.py:388: RuntimeWarning: An average reference projection was already added. The data has been left untouched.\n",
      "  epochs.set_eeg_reference(projection=True, verbose=verbose)#.apply_baseline(baseline=baseline)\n"
     ]
    },
    {
     "name": "stdout",
     "output_type": "stream",
     "text": [
      "<RawArray | 61 x 565 (5.6 s), ~359 kB, data loaded> 4.0 info empirical\n",
      "<RawArray | 61 x 568 (5.7 s), ~360 kB, data loaded> 4.0 info empirical\n",
      "<RawArray | 61 x 574 (5.7 s), ~363 kB, data loaded> 4.0 info empirical\n",
      "<RawArray | 61 x 507 (5.1 s), ~331 kB, data loaded> 4.0 info empirical\n"
     ]
    },
    {
     "name": "stderr",
     "output_type": "stream",
     "text": [
      "c:\\Users\\Lukas\\Documents\\projects\\esinet\\evaluate\\..\\esinet\\util\\util.py:420: RuntimeWarning: Too few samples (required : 310 got : 160), covariance estimate may be unreliable\n",
      "  data_cov = mne.compute_raw_covariance(raw, tmin=tmin,\n",
      "c:\\Users\\Lukas\\Documents\\projects\\esinet\\evaluate\\..\\esinet\\util\\util.py:388: RuntimeWarning: An average reference projection was already added. The data has been left untouched.\n",
      "  epochs.set_eeg_reference(projection=True, verbose=verbose)#.apply_baseline(baseline=baseline)\n",
      "c:\\Users\\Lukas\\Documents\\projects\\esinet\\evaluate\\..\\esinet\\util\\util.py:420: RuntimeWarning: Too few samples (required : 310 got : 160), covariance estimate may be unreliable\n",
      "  data_cov = mne.compute_raw_covariance(raw, tmin=tmin,\n",
      "c:\\Users\\Lukas\\Documents\\projects\\esinet\\evaluate\\..\\esinet\\util\\util.py:388: RuntimeWarning: An average reference projection was already added. The data has been left untouched.\n",
      "  epochs.set_eeg_reference(projection=True, verbose=verbose)#.apply_baseline(baseline=baseline)\n",
      "c:\\Users\\Lukas\\Documents\\projects\\esinet\\evaluate\\..\\esinet\\util\\util.py:420: RuntimeWarning: Too few samples (required : 310 got : 100), covariance estimate may be unreliable\n",
      "  data_cov = mne.compute_raw_covariance(raw, tmin=tmin,\n",
      "c:\\Users\\Lukas\\Documents\\projects\\esinet\\evaluate\\..\\esinet\\util\\util.py:388: RuntimeWarning: An average reference projection was already added. The data has been left untouched.\n",
      "  epochs.set_eeg_reference(projection=True, verbose=verbose)#.apply_baseline(baseline=baseline)\n",
      "c:\\Users\\Lukas\\Documents\\projects\\esinet\\evaluate\\..\\esinet\\util\\util.py:423: RuntimeWarning: Epochs are not baseline corrected, covariance matrix may be inaccurate\n",
      "  data_cov = mne.compute_covariance(epochs, tmin=0.0,\n",
      "c:\\Users\\Lukas\\Documents\\projects\\esinet\\evaluate\\..\\esinet\\util\\util.py:423: RuntimeWarning: Too few samples (required : 310 got : 5), covariance estimate may be unreliable\n",
      "  data_cov = mne.compute_covariance(epochs, tmin=0.0,\n",
      "c:\\Users\\Lukas\\Documents\\projects\\esinet\\evaluate\\..\\esinet\\util\\util.py:388: RuntimeWarning: An average reference projection was already added. The data has been left untouched.\n",
      "  epochs.set_eeg_reference(projection=True, verbose=verbose)#.apply_baseline(baseline=baseline)\n"
     ]
    },
    {
     "name": "stdout",
     "output_type": "stream",
     "text": [
      "<RawArray | 61 x 405 (4.0 s), ~283 kB, data loaded> 4.0 info empirical\n",
      "<RawArray | 61 x 553 (5.5 s), ~353 kB, data loaded> 4.0 info empirical\n",
      "<RawArray | 61 x 555 (5.5 s), ~354 kB, data loaded> 4.0 info empirical\n",
      "<RawArray | 61 x 452 (4.5 s), ~305 kB, data loaded> 4.0 info empirical\n"
     ]
    },
    {
     "name": "stderr",
     "output_type": "stream",
     "text": [
      "c:\\Users\\Lukas\\Documents\\projects\\esinet\\evaluate\\..\\esinet\\util\\util.py:420: RuntimeWarning: Too few samples (required : 310 got : 140), covariance estimate may be unreliable\n",
      "  data_cov = mne.compute_raw_covariance(raw, tmin=tmin,\n",
      "c:\\Users\\Lukas\\Documents\\projects\\esinet\\evaluate\\..\\esinet\\util\\util.py:388: RuntimeWarning: An average reference projection was already added. The data has been left untouched.\n",
      "  epochs.set_eeg_reference(projection=True, verbose=verbose)#.apply_baseline(baseline=baseline)\n",
      "c:\\Users\\Lukas\\Documents\\projects\\esinet\\evaluate\\..\\esinet\\util\\util.py:420: RuntimeWarning: Too few samples (required : 310 got : 140), covariance estimate may be unreliable\n",
      "  data_cov = mne.compute_raw_covariance(raw, tmin=tmin,\n",
      "c:\\Users\\Lukas\\Documents\\projects\\esinet\\evaluate\\..\\esinet\\util\\util.py:388: RuntimeWarning: An average reference projection was already added. The data has been left untouched.\n",
      "  epochs.set_eeg_reference(projection=True, verbose=verbose)#.apply_baseline(baseline=baseline)\n",
      "c:\\Users\\Lukas\\Documents\\projects\\esinet\\evaluate\\..\\esinet\\util\\util.py:420: RuntimeWarning: Too few samples (required : 310 got : 40), covariance estimate may be unreliable\n",
      "  data_cov = mne.compute_raw_covariance(raw, tmin=tmin,\n",
      "c:\\Users\\Lukas\\Documents\\projects\\esinet\\evaluate\\..\\esinet\\util\\util.py:388: RuntimeWarning: An average reference projection was already added. The data has been left untouched.\n",
      "  epochs.set_eeg_reference(projection=True, verbose=verbose)#.apply_baseline(baseline=baseline)\n",
      "c:\\Users\\Lukas\\Documents\\projects\\esinet\\evaluate\\..\\esinet\\util\\util.py:420: RuntimeWarning: Too few samples (required : 310 got : 120), covariance estimate may be unreliable\n",
      "  data_cov = mne.compute_raw_covariance(raw, tmin=tmin,\n",
      "c:\\Users\\Lukas\\Documents\\projects\\esinet\\evaluate\\..\\esinet\\util\\util.py:388: RuntimeWarning: An average reference projection was already added. The data has been left untouched.\n",
      "  epochs.set_eeg_reference(projection=True, verbose=verbose)#.apply_baseline(baseline=baseline)\n"
     ]
    },
    {
     "name": "stdout",
     "output_type": "stream",
     "text": [
      "<RawArray | 61 x 531 (5.3 s), ~343 kB, data loaded> 4.0 info empirical\n",
      "<RawArray | 61 x 499 (5.0 s), ~328 kB, data loaded> 4.0 info empirical\n",
      "<RawArray | 61 x 559 (5.6 s), ~356 kB, data loaded> 4.0 info empirical\n",
      "<RawArray | 61 x 533 (5.3 s), ~344 kB, data loaded> 4.0 info empirical\n"
     ]
    },
    {
     "name": "stderr",
     "output_type": "stream",
     "text": [
      "c:\\Users\\Lukas\\Documents\\projects\\esinet\\evaluate\\..\\esinet\\util\\util.py:420: RuntimeWarning: Too few samples (required : 310 got : 80), covariance estimate may be unreliable\n",
      "  data_cov = mne.compute_raw_covariance(raw, tmin=tmin,\n",
      "c:\\Users\\Lukas\\Documents\\projects\\esinet\\evaluate\\..\\esinet\\util\\util.py:388: RuntimeWarning: An average reference projection was already added. The data has been left untouched.\n",
      "  epochs.set_eeg_reference(projection=True, verbose=verbose)#.apply_baseline(baseline=baseline)\n",
      "c:\\Users\\Lukas\\Documents\\projects\\esinet\\evaluate\\..\\esinet\\util\\util.py:420: RuntimeWarning: Too few samples (required : 310 got : 140), covariance estimate may be unreliable\n",
      "  data_cov = mne.compute_raw_covariance(raw, tmin=tmin,\n",
      "c:\\Users\\Lukas\\Documents\\projects\\esinet\\evaluate\\..\\esinet\\util\\util.py:388: RuntimeWarning: An average reference projection was already added. The data has been left untouched.\n",
      "  epochs.set_eeg_reference(projection=True, verbose=verbose)#.apply_baseline(baseline=baseline)\n",
      "c:\\Users\\Lukas\\Documents\\projects\\esinet\\evaluate\\..\\esinet\\util\\util.py:420: RuntimeWarning: Too few samples (required : 310 got : 120), covariance estimate may be unreliable\n",
      "  data_cov = mne.compute_raw_covariance(raw, tmin=tmin,\n",
      "c:\\Users\\Lukas\\Documents\\projects\\esinet\\evaluate\\..\\esinet\\util\\util.py:388: RuntimeWarning: An average reference projection was already added. The data has been left untouched.\n",
      "  epochs.set_eeg_reference(projection=True, verbose=verbose)#.apply_baseline(baseline=baseline)\n",
      "c:\\Users\\Lukas\\Documents\\projects\\esinet\\evaluate\\..\\esinet\\util\\util.py:420: RuntimeWarning: Too few samples (required : 310 got : 140), covariance estimate may be unreliable\n",
      "  data_cov = mne.compute_raw_covariance(raw, tmin=tmin,\n",
      "c:\\Users\\Lukas\\Documents\\projects\\esinet\\evaluate\\..\\esinet\\util\\util.py:388: RuntimeWarning: An average reference projection was already added. The data has been left untouched.\n",
      "  epochs.set_eeg_reference(projection=True, verbose=verbose)#.apply_baseline(baseline=baseline)\n"
     ]
    },
    {
     "name": "stdout",
     "output_type": "stream",
     "text": [
      "<RawArray | 61 x 548 (5.5 s), ~351 kB, data loaded> 4.0 info empirical\n",
      "<RawArray | 61 x 538 (5.4 s), ~346 kB, data loaded> 4.0 info empirical\n",
      "<RawArray | 61 x 540 (5.4 s), ~347 kB, data loaded> 4.0 info empirical\n",
      "<RawArray | 61 x 485 (4.8 s), ~321 kB, data loaded> 4.0 info empirical\n"
     ]
    },
    {
     "name": "stderr",
     "output_type": "stream",
     "text": [
      "c:\\Users\\Lukas\\Documents\\projects\\esinet\\evaluate\\..\\esinet\\util\\util.py:420: RuntimeWarning: Too few samples (required : 310 got : 120), covariance estimate may be unreliable\n",
      "  data_cov = mne.compute_raw_covariance(raw, tmin=tmin,\n",
      "c:\\Users\\Lukas\\Documents\\projects\\esinet\\evaluate\\..\\esinet\\util\\util.py:388: RuntimeWarning: An average reference projection was already added. The data has been left untouched.\n",
      "  epochs.set_eeg_reference(projection=True, verbose=verbose)#.apply_baseline(baseline=baseline)\n",
      "c:\\Users\\Lukas\\Documents\\projects\\esinet\\evaluate\\..\\esinet\\util\\util.py:420: RuntimeWarning: Too few samples (required : 310 got : 140), covariance estimate may be unreliable\n",
      "  data_cov = mne.compute_raw_covariance(raw, tmin=tmin,\n",
      "c:\\Users\\Lukas\\Documents\\projects\\esinet\\evaluate\\..\\esinet\\util\\util.py:388: RuntimeWarning: An average reference projection was already added. The data has been left untouched.\n",
      "  epochs.set_eeg_reference(projection=True, verbose=verbose)#.apply_baseline(baseline=baseline)\n",
      "c:\\Users\\Lukas\\Documents\\projects\\esinet\\evaluate\\..\\esinet\\util\\util.py:420: RuntimeWarning: Too few samples (required : 310 got : 80), covariance estimate may be unreliable\n",
      "  data_cov = mne.compute_raw_covariance(raw, tmin=tmin,\n",
      "c:\\Users\\Lukas\\Documents\\projects\\esinet\\evaluate\\..\\esinet\\util\\util.py:388: RuntimeWarning: An average reference projection was already added. The data has been left untouched.\n",
      "  epochs.set_eeg_reference(projection=True, verbose=verbose)#.apply_baseline(baseline=baseline)\n",
      "c:\\Users\\Lukas\\Documents\\projects\\esinet\\evaluate\\..\\esinet\\util\\util.py:420: RuntimeWarning: Too few samples (required : 310 got : 180), covariance estimate may be unreliable\n",
      "  data_cov = mne.compute_raw_covariance(raw, tmin=tmin,\n",
      "c:\\Users\\Lukas\\Documents\\projects\\esinet\\evaluate\\..\\esinet\\util\\util.py:388: RuntimeWarning: An average reference projection was already added. The data has been left untouched.\n",
      "  epochs.set_eeg_reference(projection=True, verbose=verbose)#.apply_baseline(baseline=baseline)\n"
     ]
    },
    {
     "name": "stdout",
     "output_type": "stream",
     "text": [
      "<RawArray | 61 x 580 (5.8 s), ~366 kB, data loaded> 4.0 info empirical\n",
      "<RawArray | 61 x 547 (5.5 s), ~350 kB, data loaded> 4.0 info empirical\n",
      "<RawArray | 61 x 439 (4.4 s), ~299 kB, data loaded> 4.0 info empirical\n",
      "<RawArray | 61 x 537 (5.4 s), ~346 kB, data loaded> 4.0 info empirical\n"
     ]
    },
    {
     "name": "stderr",
     "output_type": "stream",
     "text": [
      "c:\\Users\\Lukas\\Documents\\projects\\esinet\\evaluate\\..\\esinet\\util\\util.py:420: RuntimeWarning: Too few samples (required : 310 got : 140), covariance estimate may be unreliable\n",
      "  data_cov = mne.compute_raw_covariance(raw, tmin=tmin,\n",
      "c:\\Users\\Lukas\\Documents\\projects\\esinet\\evaluate\\..\\esinet\\util\\util.py:388: RuntimeWarning: An average reference projection was already added. The data has been left untouched.\n",
      "  epochs.set_eeg_reference(projection=True, verbose=verbose)#.apply_baseline(baseline=baseline)\n",
      "c:\\Users\\Lukas\\Documents\\projects\\esinet\\evaluate\\..\\esinet\\util\\util.py:420: RuntimeWarning: Too few samples (required : 310 got : 20), covariance estimate may be unreliable\n",
      "  data_cov = mne.compute_raw_covariance(raw, tmin=tmin,\n",
      "c:\\Users\\Lukas\\Documents\\projects\\esinet\\evaluate\\..\\esinet\\util\\util.py:388: RuntimeWarning: An average reference projection was already added. The data has been left untouched.\n",
      "  epochs.set_eeg_reference(projection=True, verbose=verbose)#.apply_baseline(baseline=baseline)\n",
      "c:\\Users\\Lukas\\Documents\\projects\\esinet\\evaluate\\..\\esinet\\util\\util.py:420: RuntimeWarning: Too few samples (required : 310 got : 120), covariance estimate may be unreliable\n",
      "  data_cov = mne.compute_raw_covariance(raw, tmin=tmin,\n",
      "c:\\Users\\Lukas\\Documents\\projects\\esinet\\evaluate\\..\\esinet\\util\\util.py:388: RuntimeWarning: An average reference projection was already added. The data has been left untouched.\n",
      "  epochs.set_eeg_reference(projection=True, verbose=verbose)#.apply_baseline(baseline=baseline)\n",
      "c:\\Users\\Lukas\\Documents\\projects\\esinet\\evaluate\\..\\esinet\\util\\util.py:420: RuntimeWarning: Too few samples (required : 310 got : 60), covariance estimate may be unreliable\n",
      "  data_cov = mne.compute_raw_covariance(raw, tmin=tmin,\n"
     ]
    },
    {
     "name": "stdout",
     "output_type": "stream",
     "text": [
      "<RawArray | 61 x 463 (4.6 s), ~310 kB, data loaded> 4.0 info empirical\n",
      "<RawArray | 61 x 451 (4.5 s), ~305 kB, data loaded> 4.0 info empirical\n",
      "<RawArray | 61 x 494 (4.9 s), ~325 kB, data loaded> 4.0 info empirical\n",
      "<RawArray | 61 x 556 (5.5 s), ~355 kB, data loaded> 4.0 info empirical\n"
     ]
    },
    {
     "name": "stderr",
     "output_type": "stream",
     "text": [
      "c:\\Users\\Lukas\\Documents\\projects\\esinet\\evaluate\\..\\esinet\\util\\util.py:388: RuntimeWarning: An average reference projection was already added. The data has been left untouched.\n",
      "  epochs.set_eeg_reference(projection=True, verbose=verbose)#.apply_baseline(baseline=baseline)\n",
      "c:\\Users\\Lukas\\Documents\\projects\\esinet\\evaluate\\..\\esinet\\util\\util.py:420: RuntimeWarning: Too few samples (required : 310 got : 40), covariance estimate may be unreliable\n",
      "  data_cov = mne.compute_raw_covariance(raw, tmin=tmin,\n",
      "c:\\Users\\Lukas\\Documents\\projects\\esinet\\evaluate\\..\\esinet\\util\\util.py:388: RuntimeWarning: An average reference projection was already added. The data has been left untouched.\n",
      "  epochs.set_eeg_reference(projection=True, verbose=verbose)#.apply_baseline(baseline=baseline)\n",
      "c:\\Users\\Lukas\\Documents\\projects\\esinet\\evaluate\\..\\esinet\\util\\util.py:420: RuntimeWarning: Too few samples (required : 310 got : 80), covariance estimate may be unreliable\n",
      "  data_cov = mne.compute_raw_covariance(raw, tmin=tmin,\n",
      "c:\\Users\\Lukas\\Documents\\projects\\esinet\\evaluate\\..\\esinet\\util\\util.py:388: RuntimeWarning: An average reference projection was already added. The data has been left untouched.\n",
      "  epochs.set_eeg_reference(projection=True, verbose=verbose)#.apply_baseline(baseline=baseline)\n",
      "c:\\Users\\Lukas\\Documents\\projects\\esinet\\evaluate\\..\\esinet\\util\\util.py:420: RuntimeWarning: Too few samples (required : 310 got : 140), covariance estimate may be unreliable\n",
      "  data_cov = mne.compute_raw_covariance(raw, tmin=tmin,\n",
      "c:\\Users\\Lukas\\Documents\\projects\\esinet\\evaluate\\..\\esinet\\util\\util.py:388: RuntimeWarning: An average reference projection was already added. The data has been left untouched.\n",
      "  epochs.set_eeg_reference(projection=True, verbose=verbose)#.apply_baseline(baseline=baseline)\n"
     ]
    },
    {
     "name": "stdout",
     "output_type": "stream",
     "text": [
      "<RawArray | 61 x 573 (5.7 s), ~363 kB, data loaded> 4.0 info empirical\n",
      "<RawArray | 61 x 405 (4.0 s), ~283 kB, data loaded> 4.0 info empirical\n",
      "<RawArray | 61 x 594 (5.9 s), ~373 kB, data loaded> 4.0 info empirical\n",
      "<RawArray | 61 x 441 (4.4 s), ~300 kB, data loaded> 4.0 info empirical\n"
     ]
    },
    {
     "name": "stderr",
     "output_type": "stream",
     "text": [
      "c:\\Users\\Lukas\\Documents\\projects\\esinet\\evaluate\\..\\esinet\\util\\util.py:420: RuntimeWarning: Too few samples (required : 310 got : 160), covariance estimate may be unreliable\n",
      "  data_cov = mne.compute_raw_covariance(raw, tmin=tmin,\n",
      "c:\\Users\\Lukas\\Documents\\projects\\esinet\\evaluate\\..\\esinet\\util\\util.py:388: RuntimeWarning: An average reference projection was already added. The data has been left untouched.\n",
      "  epochs.set_eeg_reference(projection=True, verbose=verbose)#.apply_baseline(baseline=baseline)\n",
      "c:\\Users\\Lukas\\Documents\\projects\\esinet\\evaluate\\..\\esinet\\util\\util.py:423: RuntimeWarning: Epochs are not baseline corrected, covariance matrix may be inaccurate\n",
      "  data_cov = mne.compute_covariance(epochs, tmin=0.0,\n",
      "c:\\Users\\Lukas\\Documents\\projects\\esinet\\evaluate\\..\\esinet\\util\\util.py:423: RuntimeWarning: Too few samples (required : 310 got : 5), covariance estimate may be unreliable\n",
      "  data_cov = mne.compute_covariance(epochs, tmin=0.0,\n",
      "c:\\Users\\Lukas\\Documents\\projects\\esinet\\evaluate\\..\\esinet\\util\\util.py:388: RuntimeWarning: An average reference projection was already added. The data has been left untouched.\n",
      "  epochs.set_eeg_reference(projection=True, verbose=verbose)#.apply_baseline(baseline=baseline)\n",
      "c:\\Users\\Lukas\\Documents\\projects\\esinet\\evaluate\\..\\esinet\\util\\util.py:420: RuntimeWarning: Too few samples (required : 310 got : 180), covariance estimate may be unreliable\n",
      "  data_cov = mne.compute_raw_covariance(raw, tmin=tmin,\n",
      "c:\\Users\\Lukas\\Documents\\projects\\esinet\\evaluate\\..\\esinet\\util\\util.py:388: RuntimeWarning: An average reference projection was already added. The data has been left untouched.\n",
      "  epochs.set_eeg_reference(projection=True, verbose=verbose)#.apply_baseline(baseline=baseline)\n",
      "c:\\Users\\Lukas\\Documents\\projects\\esinet\\evaluate\\..\\esinet\\util\\util.py:420: RuntimeWarning: Too few samples (required : 310 got : 40), covariance estimate may be unreliable\n",
      "  data_cov = mne.compute_raw_covariance(raw, tmin=tmin,\n"
     ]
    },
    {
     "name": "stdout",
     "output_type": "stream",
     "text": [
      "<RawArray | 61 x 524 (5.2 s), ~340 kB, data loaded> 4.0 info empirical\n",
      "<RawArray | 61 x 434 (4.3 s), ~297 kB, data loaded> 4.0 info empirical\n",
      "<RawArray | 61 x 537 (5.4 s), ~346 kB, data loaded> 4.0 info empirical\n",
      "<RawArray | 61 x 581 (5.8 s), ~367 kB, data loaded> 4.0 info empirical\n"
     ]
    },
    {
     "name": "stderr",
     "output_type": "stream",
     "text": [
      "c:\\Users\\Lukas\\Documents\\projects\\esinet\\evaluate\\..\\esinet\\util\\util.py:388: RuntimeWarning: An average reference projection was already added. The data has been left untouched.\n",
      "  epochs.set_eeg_reference(projection=True, verbose=verbose)#.apply_baseline(baseline=baseline)\n",
      "c:\\Users\\Lukas\\Documents\\projects\\esinet\\evaluate\\..\\esinet\\util\\util.py:420: RuntimeWarning: Too few samples (required : 310 got : 120), covariance estimate may be unreliable\n",
      "  data_cov = mne.compute_raw_covariance(raw, tmin=tmin,\n",
      "c:\\Users\\Lukas\\Documents\\projects\\esinet\\evaluate\\..\\esinet\\util\\util.py:388: RuntimeWarning: An average reference projection was already added. The data has been left untouched.\n",
      "  epochs.set_eeg_reference(projection=True, verbose=verbose)#.apply_baseline(baseline=baseline)\n",
      "c:\\Users\\Lukas\\Documents\\projects\\esinet\\evaluate\\..\\esinet\\util\\util.py:420: RuntimeWarning: Too few samples (required : 310 got : 20), covariance estimate may be unreliable\n",
      "  data_cov = mne.compute_raw_covariance(raw, tmin=tmin,\n",
      "c:\\Users\\Lukas\\Documents\\projects\\esinet\\evaluate\\..\\esinet\\util\\util.py:388: RuntimeWarning: An average reference projection was already added. The data has been left untouched.\n",
      "  epochs.set_eeg_reference(projection=True, verbose=verbose)#.apply_baseline(baseline=baseline)\n",
      "c:\\Users\\Lukas\\Documents\\projects\\esinet\\evaluate\\..\\esinet\\util\\util.py:420: RuntimeWarning: Too few samples (required : 310 got : 120), covariance estimate may be unreliable\n",
      "  data_cov = mne.compute_raw_covariance(raw, tmin=tmin,\n",
      "c:\\Users\\Lukas\\Documents\\projects\\esinet\\evaluate\\..\\esinet\\util\\util.py:388: RuntimeWarning: An average reference projection was already added. The data has been left untouched.\n",
      "  epochs.set_eeg_reference(projection=True, verbose=verbose)#.apply_baseline(baseline=baseline)\n",
      "c:\\Users\\Lukas\\Documents\\projects\\esinet\\evaluate\\..\\esinet\\util\\util.py:420: RuntimeWarning: Too few samples (required : 310 got : 180), covariance estimate may be unreliable\n",
      "  data_cov = mne.compute_raw_covariance(raw, tmin=tmin,\n",
      "c:\\Users\\Lukas\\Documents\\projects\\esinet\\evaluate\\..\\esinet\\util\\util.py:388: RuntimeWarning: An average reference projection was already added. The data has been left untouched.\n",
      "  epochs.set_eeg_reference(projection=True, verbose=verbose)#.apply_baseline(baseline=baseline)\n"
     ]
    },
    {
     "name": "stdout",
     "output_type": "stream",
     "text": [
      "<RawArray | 61 x 546 (5.5 s), ~350 kB, data loaded> 4.0 info empirical\n",
      "<RawArray | 61 x 405 (4.0 s), ~283 kB, data loaded> 4.0 info empirical\n",
      "<RawArray | 61 x 438 (4.4 s), ~299 kB, data loaded> 4.0 info empirical\n",
      "<RawArray | 61 x 576 (5.8 s), ~364 kB, data loaded> 4.0 info empirical\n"
     ]
    },
    {
     "name": "stderr",
     "output_type": "stream",
     "text": [
      "c:\\Users\\Lukas\\Documents\\projects\\esinet\\evaluate\\..\\esinet\\util\\util.py:420: RuntimeWarning: Too few samples (required : 310 got : 140), covariance estimate may be unreliable\n",
      "  data_cov = mne.compute_raw_covariance(raw, tmin=tmin,\n",
      "c:\\Users\\Lukas\\Documents\\projects\\esinet\\evaluate\\..\\esinet\\util\\util.py:388: RuntimeWarning: An average reference projection was already added. The data has been left untouched.\n",
      "  epochs.set_eeg_reference(projection=True, verbose=verbose)#.apply_baseline(baseline=baseline)\n",
      "c:\\Users\\Lukas\\Documents\\projects\\esinet\\evaluate\\..\\esinet\\util\\util.py:423: RuntimeWarning: Epochs are not baseline corrected, covariance matrix may be inaccurate\n",
      "  data_cov = mne.compute_covariance(epochs, tmin=0.0,\n",
      "c:\\Users\\Lukas\\Documents\\projects\\esinet\\evaluate\\..\\esinet\\util\\util.py:423: RuntimeWarning: Too few samples (required : 310 got : 5), covariance estimate may be unreliable\n",
      "  data_cov = mne.compute_covariance(epochs, tmin=0.0,\n",
      "c:\\Users\\Lukas\\Documents\\projects\\esinet\\evaluate\\..\\esinet\\util\\util.py:388: RuntimeWarning: An average reference projection was already added. The data has been left untouched.\n",
      "  epochs.set_eeg_reference(projection=True, verbose=verbose)#.apply_baseline(baseline=baseline)\n",
      "c:\\Users\\Lukas\\Documents\\projects\\esinet\\evaluate\\..\\esinet\\util\\util.py:420: RuntimeWarning: Too few samples (required : 310 got : 20), covariance estimate may be unreliable\n",
      "  data_cov = mne.compute_raw_covariance(raw, tmin=tmin,\n",
      "c:\\Users\\Lukas\\Documents\\projects\\esinet\\evaluate\\..\\esinet\\util\\util.py:388: RuntimeWarning: An average reference projection was already added. The data has been left untouched.\n",
      "  epochs.set_eeg_reference(projection=True, verbose=verbose)#.apply_baseline(baseline=baseline)\n",
      "c:\\Users\\Lukas\\Documents\\projects\\esinet\\evaluate\\..\\esinet\\util\\util.py:420: RuntimeWarning: Too few samples (required : 310 got : 160), covariance estimate may be unreliable\n",
      "  data_cov = mne.compute_raw_covariance(raw, tmin=tmin,\n"
     ]
    },
    {
     "name": "stdout",
     "output_type": "stream",
     "text": [
      "<RawArray | 61 x 406 (4.0 s), ~283 kB, data loaded> 4.0 info empirical\n",
      "<RawArray | 61 x 565 (5.6 s), ~359 kB, data loaded> 4.0 info empirical\n",
      "<RawArray | 61 x 497 (5.0 s), ~327 kB, data loaded> 4.0 info empirical\n",
      "<RawArray | 61 x 439 (4.4 s), ~299 kB, data loaded> 4.0 info empirical\n"
     ]
    },
    {
     "name": "stderr",
     "output_type": "stream",
     "text": [
      "c:\\Users\\Lukas\\Documents\\projects\\esinet\\evaluate\\..\\esinet\\util\\util.py:388: RuntimeWarning: An average reference projection was already added. The data has been left untouched.\n",
      "  epochs.set_eeg_reference(projection=True, verbose=verbose)#.apply_baseline(baseline=baseline)\n",
      "c:\\Users\\Lukas\\Documents\\projects\\esinet\\evaluate\\..\\esinet\\util\\util.py:423: RuntimeWarning: Epochs are not baseline corrected, covariance matrix may be inaccurate\n",
      "  data_cov = mne.compute_covariance(epochs, tmin=0.0,\n",
      "c:\\Users\\Lukas\\Documents\\projects\\esinet\\evaluate\\..\\esinet\\util\\util.py:423: RuntimeWarning: Too few samples (required : 310 got : 6), covariance estimate may be unreliable\n",
      "  data_cov = mne.compute_covariance(epochs, tmin=0.0,\n",
      "c:\\Users\\Lukas\\Documents\\projects\\esinet\\evaluate\\..\\esinet\\util\\util.py:388: RuntimeWarning: An average reference projection was already added. The data has been left untouched.\n",
      "  epochs.set_eeg_reference(projection=True, verbose=verbose)#.apply_baseline(baseline=baseline)\n",
      "c:\\Users\\Lukas\\Documents\\projects\\esinet\\evaluate\\..\\esinet\\util\\util.py:420: RuntimeWarning: Too few samples (required : 310 got : 160), covariance estimate may be unreliable\n",
      "  data_cov = mne.compute_raw_covariance(raw, tmin=tmin,\n",
      "c:\\Users\\Lukas\\Documents\\projects\\esinet\\evaluate\\..\\esinet\\util\\util.py:388: RuntimeWarning: An average reference projection was already added. The data has been left untouched.\n",
      "  epochs.set_eeg_reference(projection=True, verbose=verbose)#.apply_baseline(baseline=baseline)\n",
      "c:\\Users\\Lukas\\Documents\\projects\\esinet\\evaluate\\..\\esinet\\util\\util.py:420: RuntimeWarning: Too few samples (required : 310 got : 80), covariance estimate may be unreliable\n",
      "  data_cov = mne.compute_raw_covariance(raw, tmin=tmin,\n",
      "c:\\Users\\Lukas\\Documents\\projects\\esinet\\evaluate\\..\\esinet\\util\\util.py:388: RuntimeWarning: An average reference projection was already added. The data has been left untouched.\n",
      "  epochs.set_eeg_reference(projection=True, verbose=verbose)#.apply_baseline(baseline=baseline)\n",
      "c:\\Users\\Lukas\\Documents\\projects\\esinet\\evaluate\\..\\esinet\\util\\util.py:420: RuntimeWarning: Too few samples (required : 310 got : 20), covariance estimate may be unreliable\n",
      "  data_cov = mne.compute_raw_covariance(raw, tmin=tmin,\n",
      "c:\\Users\\Lukas\\Documents\\projects\\esinet\\evaluate\\..\\esinet\\util\\util.py:388: RuntimeWarning: An average reference projection was already added. The data has been left untouched.\n",
      "  epochs.set_eeg_reference(projection=True, verbose=verbose)#.apply_baseline(baseline=baseline)\n"
     ]
    },
    {
     "name": "stdout",
     "output_type": "stream",
     "text": [
      "<RawArray | 61 x 594 (5.9 s), ~373 kB, data loaded> 4.0 info empirical\n",
      "<RawArray | 61 x 600 (6.0 s), ~376 kB, data loaded> 4.0 info empirical\n",
      "<RawArray | 61 x 520 (5.2 s), ~338 kB, data loaded> 4.0 info empirical\n",
      "<RawArray | 61 x 431 (4.3 s), ~295 kB, data loaded> 4.0 info empirical\n"
     ]
    },
    {
     "name": "stderr",
     "output_type": "stream",
     "text": [
      "c:\\Users\\Lukas\\Documents\\projects\\esinet\\evaluate\\..\\esinet\\util\\util.py:420: RuntimeWarning: Too few samples (required : 310 got : 180), covariance estimate may be unreliable\n",
      "  data_cov = mne.compute_raw_covariance(raw, tmin=tmin,\n",
      "c:\\Users\\Lukas\\Documents\\projects\\esinet\\evaluate\\..\\esinet\\util\\util.py:388: RuntimeWarning: An average reference projection was already added. The data has been left untouched.\n",
      "  epochs.set_eeg_reference(projection=True, verbose=verbose)#.apply_baseline(baseline=baseline)\n",
      "c:\\Users\\Lukas\\Documents\\projects\\esinet\\evaluate\\..\\esinet\\util\\util.py:420: RuntimeWarning: Too few samples (required : 310 got : 200), covariance estimate may be unreliable\n",
      "  data_cov = mne.compute_raw_covariance(raw, tmin=tmin,\n",
      "c:\\Users\\Lukas\\Documents\\projects\\esinet\\evaluate\\..\\esinet\\util\\util.py:388: RuntimeWarning: An average reference projection was already added. The data has been left untouched.\n",
      "  epochs.set_eeg_reference(projection=True, verbose=verbose)#.apply_baseline(baseline=baseline)\n",
      "c:\\Users\\Lukas\\Documents\\projects\\esinet\\evaluate\\..\\esinet\\util\\util.py:420: RuntimeWarning: Too few samples (required : 310 got : 120), covariance estimate may be unreliable\n",
      "  data_cov = mne.compute_raw_covariance(raw, tmin=tmin,\n",
      "c:\\Users\\Lukas\\Documents\\projects\\esinet\\evaluate\\..\\esinet\\util\\util.py:388: RuntimeWarning: An average reference projection was already added. The data has been left untouched.\n",
      "  epochs.set_eeg_reference(projection=True, verbose=verbose)#.apply_baseline(baseline=baseline)\n",
      "c:\\Users\\Lukas\\Documents\\projects\\esinet\\evaluate\\..\\esinet\\util\\util.py:420: RuntimeWarning: Too few samples (required : 310 got : 20), covariance estimate may be unreliable\n",
      "  data_cov = mne.compute_raw_covariance(raw, tmin=tmin,\n",
      "c:\\Users\\Lukas\\Documents\\projects\\esinet\\evaluate\\..\\esinet\\util\\util.py:388: RuntimeWarning: An average reference projection was already added. The data has been left untouched.\n",
      "  epochs.set_eeg_reference(projection=True, verbose=verbose)#.apply_baseline(baseline=baseline)\n"
     ]
    },
    {
     "name": "stdout",
     "output_type": "stream",
     "text": [
      "<RawArray | 61 x 403 (4.0 s), ~282 kB, data loaded> 4.0 info empirical\n",
      "<RawArray | 61 x 448 (4.5 s), ~303 kB, data loaded> 4.0 info empirical\n",
      "<RawArray | 61 x 477 (4.8 s), ~317 kB, data loaded> 4.0 info empirical\n",
      "<RawArray | 61 x 461 (4.6 s), ~310 kB, data loaded> 4.0 info empirical\n"
     ]
    },
    {
     "name": "stderr",
     "output_type": "stream",
     "text": [
      "c:\\Users\\Lukas\\Documents\\projects\\esinet\\evaluate\\..\\esinet\\util\\util.py:423: RuntimeWarning: Epochs are not baseline corrected, covariance matrix may be inaccurate\n",
      "  data_cov = mne.compute_covariance(epochs, tmin=0.0,\n",
      "c:\\Users\\Lukas\\Documents\\projects\\esinet\\evaluate\\..\\esinet\\util\\util.py:423: RuntimeWarning: Too few samples (required : 310 got : 3), covariance estimate may be unreliable\n",
      "  data_cov = mne.compute_covariance(epochs, tmin=0.0,\n",
      "c:\\Users\\Lukas\\Documents\\projects\\esinet\\evaluate\\..\\esinet\\util\\util.py:388: RuntimeWarning: An average reference projection was already added. The data has been left untouched.\n",
      "  epochs.set_eeg_reference(projection=True, verbose=verbose)#.apply_baseline(baseline=baseline)\n",
      "c:\\Users\\Lukas\\Documents\\projects\\esinet\\evaluate\\..\\esinet\\util\\util.py:420: RuntimeWarning: Too few samples (required : 310 got : 40), covariance estimate may be unreliable\n",
      "  data_cov = mne.compute_raw_covariance(raw, tmin=tmin,\n",
      "c:\\Users\\Lukas\\Documents\\projects\\esinet\\evaluate\\..\\esinet\\util\\util.py:388: RuntimeWarning: An average reference projection was already added. The data has been left untouched.\n",
      "  epochs.set_eeg_reference(projection=True, verbose=verbose)#.apply_baseline(baseline=baseline)\n",
      "c:\\Users\\Lukas\\Documents\\projects\\esinet\\evaluate\\..\\esinet\\util\\util.py:420: RuntimeWarning: Too few samples (required : 310 got : 60), covariance estimate may be unreliable\n",
      "  data_cov = mne.compute_raw_covariance(raw, tmin=tmin,\n",
      "c:\\Users\\Lukas\\Documents\\projects\\esinet\\evaluate\\..\\esinet\\util\\util.py:388: RuntimeWarning: An average reference projection was already added. The data has been left untouched.\n",
      "  epochs.set_eeg_reference(projection=True, verbose=verbose)#.apply_baseline(baseline=baseline)\n",
      "c:\\Users\\Lukas\\Documents\\projects\\esinet\\evaluate\\..\\esinet\\util\\util.py:420: RuntimeWarning: Too few samples (required : 310 got : 60), covariance estimate may be unreliable\n",
      "  data_cov = mne.compute_raw_covariance(raw, tmin=tmin,\n"
     ]
    },
    {
     "name": "stdout",
     "output_type": "stream",
     "text": [
      "<RawArray | 61 x 584 (5.8 s), ~368 kB, data loaded> 4.0 info empirical\n",
      "<RawArray | 61 x 491 (4.9 s), ~324 kB, data loaded> 4.0 info empirical\n",
      "<RawArray | 61 x 508 (5.1 s), ~332 kB, data loaded> 4.0 info empirical\n",
      "<RawArray | 61 x 423 (4.2 s), ~291 kB, data loaded> 4.0 info empirical\n"
     ]
    },
    {
     "name": "stderr",
     "output_type": "stream",
     "text": [
      "c:\\Users\\Lukas\\Documents\\projects\\esinet\\evaluate\\..\\esinet\\util\\util.py:388: RuntimeWarning: An average reference projection was already added. The data has been left untouched.\n",
      "  epochs.set_eeg_reference(projection=True, verbose=verbose)#.apply_baseline(baseline=baseline)\n",
      "c:\\Users\\Lukas\\Documents\\projects\\esinet\\evaluate\\..\\esinet\\util\\util.py:420: RuntimeWarning: Too few samples (required : 310 got : 180), covariance estimate may be unreliable\n",
      "  data_cov = mne.compute_raw_covariance(raw, tmin=tmin,\n",
      "c:\\Users\\Lukas\\Documents\\projects\\esinet\\evaluate\\..\\esinet\\util\\util.py:388: RuntimeWarning: An average reference projection was already added. The data has been left untouched.\n",
      "  epochs.set_eeg_reference(projection=True, verbose=verbose)#.apply_baseline(baseline=baseline)\n",
      "c:\\Users\\Lukas\\Documents\\projects\\esinet\\evaluate\\..\\esinet\\util\\util.py:420: RuntimeWarning: Too few samples (required : 310 got : 80), covariance estimate may be unreliable\n",
      "  data_cov = mne.compute_raw_covariance(raw, tmin=tmin,\n",
      "c:\\Users\\Lukas\\Documents\\projects\\esinet\\evaluate\\..\\esinet\\util\\util.py:388: RuntimeWarning: An average reference projection was already added. The data has been left untouched.\n",
      "  epochs.set_eeg_reference(projection=True, verbose=verbose)#.apply_baseline(baseline=baseline)\n",
      "c:\\Users\\Lukas\\Documents\\projects\\esinet\\evaluate\\..\\esinet\\util\\util.py:420: RuntimeWarning: Too few samples (required : 310 got : 100), covariance estimate may be unreliable\n",
      "  data_cov = mne.compute_raw_covariance(raw, tmin=tmin,\n",
      "c:\\Users\\Lukas\\Documents\\projects\\esinet\\evaluate\\..\\esinet\\util\\util.py:388: RuntimeWarning: An average reference projection was already added. The data has been left untouched.\n",
      "  epochs.set_eeg_reference(projection=True, verbose=verbose)#.apply_baseline(baseline=baseline)\n",
      "c:\\Users\\Lukas\\Documents\\projects\\esinet\\evaluate\\..\\esinet\\util\\util.py:420: RuntimeWarning: Too few samples (required : 310 got : 20), covariance estimate may be unreliable\n",
      "  data_cov = mne.compute_raw_covariance(raw, tmin=tmin,\n"
     ]
    },
    {
     "name": "stdout",
     "output_type": "stream",
     "text": [
      "<RawArray | 61 x 589 (5.9 s), ~371 kB, data loaded> 4.0 info empirical\n",
      "<RawArray | 61 x 472 (4.7 s), ~315 kB, data loaded> 4.0 info empirical\n",
      "<RawArray | 61 x 531 (5.3 s), ~343 kB, data loaded> 4.0 info empirical\n",
      "<RawArray | 61 x 442 (4.4 s), ~300 kB, data loaded> 4.0 info empirical\n"
     ]
    },
    {
     "name": "stderr",
     "output_type": "stream",
     "text": [
      "c:\\Users\\Lukas\\Documents\\projects\\esinet\\evaluate\\..\\esinet\\util\\util.py:388: RuntimeWarning: An average reference projection was already added. The data has been left untouched.\n",
      "  epochs.set_eeg_reference(projection=True, verbose=verbose)#.apply_baseline(baseline=baseline)\n",
      "c:\\Users\\Lukas\\Documents\\projects\\esinet\\evaluate\\..\\esinet\\util\\util.py:420: RuntimeWarning: Too few samples (required : 310 got : 180), covariance estimate may be unreliable\n",
      "  data_cov = mne.compute_raw_covariance(raw, tmin=tmin,\n",
      "c:\\Users\\Lukas\\Documents\\projects\\esinet\\evaluate\\..\\esinet\\util\\util.py:388: RuntimeWarning: An average reference projection was already added. The data has been left untouched.\n",
      "  epochs.set_eeg_reference(projection=True, verbose=verbose)#.apply_baseline(baseline=baseline)\n",
      "c:\\Users\\Lukas\\Documents\\projects\\esinet\\evaluate\\..\\esinet\\util\\util.py:420: RuntimeWarning: Too few samples (required : 310 got : 60), covariance estimate may be unreliable\n",
      "  data_cov = mne.compute_raw_covariance(raw, tmin=tmin,\n",
      "c:\\Users\\Lukas\\Documents\\projects\\esinet\\evaluate\\..\\esinet\\util\\util.py:388: RuntimeWarning: An average reference projection was already added. The data has been left untouched.\n",
      "  epochs.set_eeg_reference(projection=True, verbose=verbose)#.apply_baseline(baseline=baseline)\n",
      "c:\\Users\\Lukas\\Documents\\projects\\esinet\\evaluate\\..\\esinet\\util\\util.py:420: RuntimeWarning: Too few samples (required : 310 got : 120), covariance estimate may be unreliable\n",
      "  data_cov = mne.compute_raw_covariance(raw, tmin=tmin,\n",
      "c:\\Users\\Lukas\\Documents\\projects\\esinet\\evaluate\\..\\esinet\\util\\util.py:388: RuntimeWarning: An average reference projection was already added. The data has been left untouched.\n",
      "  epochs.set_eeg_reference(projection=True, verbose=verbose)#.apply_baseline(baseline=baseline)\n",
      "c:\\Users\\Lukas\\Documents\\projects\\esinet\\evaluate\\..\\esinet\\util\\util.py:420: RuntimeWarning: Too few samples (required : 310 got : 40), covariance estimate may be unreliable\n",
      "  data_cov = mne.compute_raw_covariance(raw, tmin=tmin,\n"
     ]
    },
    {
     "name": "stdout",
     "output_type": "stream",
     "text": [
      "<RawArray | 61 x 583 (5.8 s), ~368 kB, data loaded> 4.0 info empirical\n",
      "<RawArray | 61 x 524 (5.2 s), ~340 kB, data loaded> 4.0 info empirical\n",
      "<RawArray | 61 x 483 (4.8 s), ~320 kB, data loaded> 4.0 info empirical\n",
      "<RawArray | 61 x 509 (5.1 s), ~332 kB, data loaded> 4.0 info empirical\n"
     ]
    },
    {
     "name": "stderr",
     "output_type": "stream",
     "text": [
      "c:\\Users\\Lukas\\Documents\\projects\\esinet\\evaluate\\..\\esinet\\util\\util.py:388: RuntimeWarning: An average reference projection was already added. The data has been left untouched.\n",
      "  epochs.set_eeg_reference(projection=True, verbose=verbose)#.apply_baseline(baseline=baseline)\n",
      "c:\\Users\\Lukas\\Documents\\projects\\esinet\\evaluate\\..\\esinet\\util\\util.py:420: RuntimeWarning: Too few samples (required : 310 got : 180), covariance estimate may be unreliable\n",
      "  data_cov = mne.compute_raw_covariance(raw, tmin=tmin,\n",
      "c:\\Users\\Lukas\\Documents\\projects\\esinet\\evaluate\\..\\esinet\\util\\util.py:388: RuntimeWarning: An average reference projection was already added. The data has been left untouched.\n",
      "  epochs.set_eeg_reference(projection=True, verbose=verbose)#.apply_baseline(baseline=baseline)\n",
      "c:\\Users\\Lukas\\Documents\\projects\\esinet\\evaluate\\..\\esinet\\util\\util.py:420: RuntimeWarning: Too few samples (required : 310 got : 120), covariance estimate may be unreliable\n",
      "  data_cov = mne.compute_raw_covariance(raw, tmin=tmin,\n",
      "c:\\Users\\Lukas\\Documents\\projects\\esinet\\evaluate\\..\\esinet\\util\\util.py:388: RuntimeWarning: An average reference projection was already added. The data has been left untouched.\n",
      "  epochs.set_eeg_reference(projection=True, verbose=verbose)#.apply_baseline(baseline=baseline)\n",
      "c:\\Users\\Lukas\\Documents\\projects\\esinet\\evaluate\\..\\esinet\\util\\util.py:420: RuntimeWarning: Too few samples (required : 310 got : 80), covariance estimate may be unreliable\n",
      "  data_cov = mne.compute_raw_covariance(raw, tmin=tmin,\n",
      "c:\\Users\\Lukas\\Documents\\projects\\esinet\\evaluate\\..\\esinet\\util\\util.py:388: RuntimeWarning: An average reference projection was already added. The data has been left untouched.\n",
      "  epochs.set_eeg_reference(projection=True, verbose=verbose)#.apply_baseline(baseline=baseline)\n",
      "c:\\Users\\Lukas\\Documents\\projects\\esinet\\evaluate\\..\\esinet\\util\\util.py:420: RuntimeWarning: Too few samples (required : 310 got : 100), covariance estimate may be unreliable\n",
      "  data_cov = mne.compute_raw_covariance(raw, tmin=tmin,\n",
      "c:\\Users\\Lukas\\Documents\\projects\\esinet\\evaluate\\..\\esinet\\util\\util.py:388: RuntimeWarning: An average reference projection was already added. The data has been left untouched.\n",
      "  epochs.set_eeg_reference(projection=True, verbose=verbose)#.apply_baseline(baseline=baseline)\n"
     ]
    },
    {
     "name": "stdout",
     "output_type": "stream",
     "text": [
      "<RawArray | 61 x 487 (4.9 s), ~322 kB, data loaded> 4.0 info empirical\n",
      "<RawArray | 61 x 489 (4.9 s), ~323 kB, data loaded> 4.0 info empirical\n",
      "<RawArray | 61 x 508 (5.1 s), ~332 kB, data loaded> 4.0 info empirical\n",
      "<RawArray | 61 x 425 (4.2 s), ~292 kB, data loaded> 4.0 info empirical\n"
     ]
    },
    {
     "name": "stderr",
     "output_type": "stream",
     "text": [
      "c:\\Users\\Lukas\\Documents\\projects\\esinet\\evaluate\\..\\esinet\\util\\util.py:420: RuntimeWarning: Too few samples (required : 310 got : 80), covariance estimate may be unreliable\n",
      "  data_cov = mne.compute_raw_covariance(raw, tmin=tmin,\n",
      "c:\\Users\\Lukas\\Documents\\projects\\esinet\\evaluate\\..\\esinet\\util\\util.py:388: RuntimeWarning: An average reference projection was already added. The data has been left untouched.\n",
      "  epochs.set_eeg_reference(projection=True, verbose=verbose)#.apply_baseline(baseline=baseline)\n",
      "c:\\Users\\Lukas\\Documents\\projects\\esinet\\evaluate\\..\\esinet\\util\\util.py:420: RuntimeWarning: Too few samples (required : 310 got : 80), covariance estimate may be unreliable\n",
      "  data_cov = mne.compute_raw_covariance(raw, tmin=tmin,\n",
      "c:\\Users\\Lukas\\Documents\\projects\\esinet\\evaluate\\..\\esinet\\util\\util.py:388: RuntimeWarning: An average reference projection was already added. The data has been left untouched.\n",
      "  epochs.set_eeg_reference(projection=True, verbose=verbose)#.apply_baseline(baseline=baseline)\n",
      "c:\\Users\\Lukas\\Documents\\projects\\esinet\\evaluate\\..\\esinet\\util\\util.py:420: RuntimeWarning: Too few samples (required : 310 got : 100), covariance estimate may be unreliable\n",
      "  data_cov = mne.compute_raw_covariance(raw, tmin=tmin,\n",
      "c:\\Users\\Lukas\\Documents\\projects\\esinet\\evaluate\\..\\esinet\\util\\util.py:388: RuntimeWarning: An average reference projection was already added. The data has been left untouched.\n",
      "  epochs.set_eeg_reference(projection=True, verbose=verbose)#.apply_baseline(baseline=baseline)\n",
      "c:\\Users\\Lukas\\Documents\\projects\\esinet\\evaluate\\..\\esinet\\util\\util.py:420: RuntimeWarning: Too few samples (required : 310 got : 20), covariance estimate may be unreliable\n",
      "  data_cov = mne.compute_raw_covariance(raw, tmin=tmin,\n",
      "c:\\Users\\Lukas\\Documents\\projects\\esinet\\evaluate\\..\\esinet\\util\\util.py:388: RuntimeWarning: An average reference projection was already added. The data has been left untouched.\n",
      "  epochs.set_eeg_reference(projection=True, verbose=verbose)#.apply_baseline(baseline=baseline)\n"
     ]
    },
    {
     "name": "stdout",
     "output_type": "stream",
     "text": [
      "<RawArray | 61 x 534 (5.3 s), ~344 kB, data loaded> 4.0 info empirical\n",
      "<RawArray | 61 x 587 (5.9 s), ~370 kB, data loaded> 4.0 info empirical\n",
      "<RawArray | 61 x 506 (5.0 s), ~331 kB, data loaded> 4.0 info empirical\n",
      "<RawArray | 61 x 578 (5.8 s), ~365 kB, data loaded> 4.0 info empirical\n"
     ]
    },
    {
     "name": "stderr",
     "output_type": "stream",
     "text": [
      "c:\\Users\\Lukas\\Documents\\projects\\esinet\\evaluate\\..\\esinet\\util\\util.py:420: RuntimeWarning: Too few samples (required : 310 got : 120), covariance estimate may be unreliable\n",
      "  data_cov = mne.compute_raw_covariance(raw, tmin=tmin,\n",
      "c:\\Users\\Lukas\\Documents\\projects\\esinet\\evaluate\\..\\esinet\\util\\util.py:388: RuntimeWarning: An average reference projection was already added. The data has been left untouched.\n",
      "  epochs.set_eeg_reference(projection=True, verbose=verbose)#.apply_baseline(baseline=baseline)\n",
      "c:\\Users\\Lukas\\Documents\\projects\\esinet\\evaluate\\..\\esinet\\util\\util.py:420: RuntimeWarning: Too few samples (required : 310 got : 180), covariance estimate may be unreliable\n",
      "  data_cov = mne.compute_raw_covariance(raw, tmin=tmin,\n",
      "c:\\Users\\Lukas\\Documents\\projects\\esinet\\evaluate\\..\\esinet\\util\\util.py:388: RuntimeWarning: An average reference projection was already added. The data has been left untouched.\n",
      "  epochs.set_eeg_reference(projection=True, verbose=verbose)#.apply_baseline(baseline=baseline)\n",
      "c:\\Users\\Lukas\\Documents\\projects\\esinet\\evaluate\\..\\esinet\\util\\util.py:420: RuntimeWarning: Too few samples (required : 310 got : 100), covariance estimate may be unreliable\n",
      "  data_cov = mne.compute_raw_covariance(raw, tmin=tmin,\n",
      "c:\\Users\\Lukas\\Documents\\projects\\esinet\\evaluate\\..\\esinet\\util\\util.py:388: RuntimeWarning: An average reference projection was already added. The data has been left untouched.\n",
      "  epochs.set_eeg_reference(projection=True, verbose=verbose)#.apply_baseline(baseline=baseline)\n",
      "c:\\Users\\Lukas\\Documents\\projects\\esinet\\evaluate\\..\\esinet\\util\\util.py:420: RuntimeWarning: Too few samples (required : 310 got : 160), covariance estimate may be unreliable\n",
      "  data_cov = mne.compute_raw_covariance(raw, tmin=tmin,\n"
     ]
    },
    {
     "name": "stdout",
     "output_type": "stream",
     "text": [
      "<RawArray | 61 x 410 (4.1 s), ~285 kB, data loaded> 4.0 info empirical\n",
      "<RawArray | 61 x 489 (4.9 s), ~323 kB, data loaded> 4.0 info empirical\n",
      "<RawArray | 61 x 499 (5.0 s), ~328 kB, data loaded> 4.0 info empirical\n",
      "<RawArray | 61 x 589 (5.9 s), ~371 kB, data loaded> 4.0 info empirical\n"
     ]
    },
    {
     "name": "stderr",
     "output_type": "stream",
     "text": [
      "c:\\Users\\Lukas\\Documents\\projects\\esinet\\evaluate\\..\\esinet\\util\\util.py:388: RuntimeWarning: An average reference projection was already added. The data has been left untouched.\n",
      "  epochs.set_eeg_reference(projection=True, verbose=verbose)#.apply_baseline(baseline=baseline)\n",
      "c:\\Users\\Lukas\\Documents\\projects\\esinet\\evaluate\\..\\esinet\\util\\util.py:423: RuntimeWarning: Epochs are not baseline corrected, covariance matrix may be inaccurate\n",
      "  data_cov = mne.compute_covariance(epochs, tmin=0.0,\n",
      "c:\\Users\\Lukas\\Documents\\projects\\esinet\\evaluate\\..\\esinet\\util\\util.py:423: RuntimeWarning: Too few samples (required : 310 got : 10), covariance estimate may be unreliable\n",
      "  data_cov = mne.compute_covariance(epochs, tmin=0.0,\n",
      "c:\\Users\\Lukas\\Documents\\projects\\esinet\\evaluate\\..\\esinet\\util\\util.py:388: RuntimeWarning: An average reference projection was already added. The data has been left untouched.\n",
      "  epochs.set_eeg_reference(projection=True, verbose=verbose)#.apply_baseline(baseline=baseline)\n",
      "c:\\Users\\Lukas\\Documents\\projects\\esinet\\evaluate\\..\\esinet\\util\\util.py:420: RuntimeWarning: Too few samples (required : 310 got : 80), covariance estimate may be unreliable\n",
      "  data_cov = mne.compute_raw_covariance(raw, tmin=tmin,\n",
      "c:\\Users\\Lukas\\Documents\\projects\\esinet\\evaluate\\..\\esinet\\util\\util.py:388: RuntimeWarning: An average reference projection was already added. The data has been left untouched.\n",
      "  epochs.set_eeg_reference(projection=True, verbose=verbose)#.apply_baseline(baseline=baseline)\n",
      "c:\\Users\\Lukas\\Documents\\projects\\esinet\\evaluate\\..\\esinet\\util\\util.py:420: RuntimeWarning: Too few samples (required : 310 got : 80), covariance estimate may be unreliable\n",
      "  data_cov = mne.compute_raw_covariance(raw, tmin=tmin,\n",
      "c:\\Users\\Lukas\\Documents\\projects\\esinet\\evaluate\\..\\esinet\\util\\util.py:388: RuntimeWarning: An average reference projection was already added. The data has been left untouched.\n",
      "  epochs.set_eeg_reference(projection=True, verbose=verbose)#.apply_baseline(baseline=baseline)\n",
      "c:\\Users\\Lukas\\Documents\\projects\\esinet\\evaluate\\..\\esinet\\util\\util.py:420: RuntimeWarning: Too few samples (required : 310 got : 180), covariance estimate may be unreliable\n",
      "  data_cov = mne.compute_raw_covariance(raw, tmin=tmin,\n"
     ]
    },
    {
     "name": "stdout",
     "output_type": "stream",
     "text": [
      "<RawArray | 61 x 524 (5.2 s), ~340 kB, data loaded> 4.0 info empirical\n",
      "<RawArray | 61 x 441 (4.4 s), ~300 kB, data loaded> 4.0 info empirical\n",
      "<RawArray | 61 x 406 (4.0 s), ~283 kB, data loaded> 4.0 info empirical\n",
      "<RawArray | 61 x 586 (5.8 s), ~369 kB, data loaded> 4.0 info empirical\n"
     ]
    },
    {
     "name": "stderr",
     "output_type": "stream",
     "text": [
      "c:\\Users\\Lukas\\Documents\\projects\\esinet\\evaluate\\..\\esinet\\util\\util.py:388: RuntimeWarning: An average reference projection was already added. The data has been left untouched.\n",
      "  epochs.set_eeg_reference(projection=True, verbose=verbose)#.apply_baseline(baseline=baseline)\n",
      "c:\\Users\\Lukas\\Documents\\projects\\esinet\\evaluate\\..\\esinet\\util\\util.py:420: RuntimeWarning: Too few samples (required : 310 got : 120), covariance estimate may be unreliable\n",
      "  data_cov = mne.compute_raw_covariance(raw, tmin=tmin,\n",
      "c:\\Users\\Lukas\\Documents\\projects\\esinet\\evaluate\\..\\esinet\\util\\util.py:388: RuntimeWarning: An average reference projection was already added. The data has been left untouched.\n",
      "  epochs.set_eeg_reference(projection=True, verbose=verbose)#.apply_baseline(baseline=baseline)\n",
      "c:\\Users\\Lukas\\Documents\\projects\\esinet\\evaluate\\..\\esinet\\util\\util.py:420: RuntimeWarning: Too few samples (required : 310 got : 40), covariance estimate may be unreliable\n",
      "  data_cov = mne.compute_raw_covariance(raw, tmin=tmin,\n",
      "c:\\Users\\Lukas\\Documents\\projects\\esinet\\evaluate\\..\\esinet\\util\\util.py:388: RuntimeWarning: An average reference projection was already added. The data has been left untouched.\n",
      "  epochs.set_eeg_reference(projection=True, verbose=verbose)#.apply_baseline(baseline=baseline)\n",
      "c:\\Users\\Lukas\\Documents\\projects\\esinet\\evaluate\\..\\esinet\\util\\util.py:423: RuntimeWarning: Epochs are not baseline corrected, covariance matrix may be inaccurate\n",
      "  data_cov = mne.compute_covariance(epochs, tmin=0.0,\n",
      "c:\\Users\\Lukas\\Documents\\projects\\esinet\\evaluate\\..\\esinet\\util\\util.py:423: RuntimeWarning: Too few samples (required : 310 got : 6), covariance estimate may be unreliable\n",
      "  data_cov = mne.compute_covariance(epochs, tmin=0.0,\n",
      "c:\\Users\\Lukas\\Documents\\projects\\esinet\\evaluate\\..\\esinet\\util\\util.py:388: RuntimeWarning: An average reference projection was already added. The data has been left untouched.\n",
      "  epochs.set_eeg_reference(projection=True, verbose=verbose)#.apply_baseline(baseline=baseline)\n",
      "c:\\Users\\Lukas\\Documents\\projects\\esinet\\evaluate\\..\\esinet\\util\\util.py:420: RuntimeWarning: Too few samples (required : 310 got : 180), covariance estimate may be unreliable\n",
      "  data_cov = mne.compute_raw_covariance(raw, tmin=tmin,\n"
     ]
    },
    {
     "name": "stdout",
     "output_type": "stream",
     "text": [
      "<RawArray | 61 x 421 (4.2 s), ~290 kB, data loaded> 4.0 info empirical\n",
      "<RawArray | 61 x 417 (4.2 s), ~289 kB, data loaded> 4.0 info empirical\n",
      "<RawArray | 61 x 437 (4.4 s), ~298 kB, data loaded> 4.0 info empirical\n",
      "<RawArray | 61 x 498 (5.0 s), ~327 kB, data loaded> 4.0 info empirical\n"
     ]
    },
    {
     "name": "stderr",
     "output_type": "stream",
     "text": [
      "c:\\Users\\Lukas\\Documents\\projects\\esinet\\evaluate\\..\\esinet\\util\\util.py:388: RuntimeWarning: An average reference projection was already added. The data has been left untouched.\n",
      "  epochs.set_eeg_reference(projection=True, verbose=verbose)#.apply_baseline(baseline=baseline)\n",
      "c:\\Users\\Lukas\\Documents\\projects\\esinet\\evaluate\\..\\esinet\\util\\util.py:420: RuntimeWarning: Too few samples (required : 310 got : 20), covariance estimate may be unreliable\n",
      "  data_cov = mne.compute_raw_covariance(raw, tmin=tmin,\n",
      "c:\\Users\\Lukas\\Documents\\projects\\esinet\\evaluate\\..\\esinet\\util\\util.py:388: RuntimeWarning: An average reference projection was already added. The data has been left untouched.\n",
      "  epochs.set_eeg_reference(projection=True, verbose=verbose)#.apply_baseline(baseline=baseline)\n",
      "c:\\Users\\Lukas\\Documents\\projects\\esinet\\evaluate\\..\\esinet\\util\\util.py:423: RuntimeWarning: Epochs are not baseline corrected, covariance matrix may be inaccurate\n",
      "  data_cov = mne.compute_covariance(epochs, tmin=0.0,\n",
      "c:\\Users\\Lukas\\Documents\\projects\\esinet\\evaluate\\..\\esinet\\util\\util.py:423: RuntimeWarning: Too few samples (required : 310 got : 17), covariance estimate may be unreliable\n",
      "  data_cov = mne.compute_covariance(epochs, tmin=0.0,\n",
      "c:\\Users\\Lukas\\Documents\\projects\\esinet\\evaluate\\..\\esinet\\util\\util.py:388: RuntimeWarning: An average reference projection was already added. The data has been left untouched.\n",
      "  epochs.set_eeg_reference(projection=True, verbose=verbose)#.apply_baseline(baseline=baseline)\n",
      "c:\\Users\\Lukas\\Documents\\projects\\esinet\\evaluate\\..\\esinet\\util\\util.py:420: RuntimeWarning: Too few samples (required : 310 got : 20), covariance estimate may be unreliable\n",
      "  data_cov = mne.compute_raw_covariance(raw, tmin=tmin,\n",
      "c:\\Users\\Lukas\\Documents\\projects\\esinet\\evaluate\\..\\esinet\\util\\util.py:388: RuntimeWarning: An average reference projection was already added. The data has been left untouched.\n",
      "  epochs.set_eeg_reference(projection=True, verbose=verbose)#.apply_baseline(baseline=baseline)\n",
      "c:\\Users\\Lukas\\Documents\\projects\\esinet\\evaluate\\..\\esinet\\util\\util.py:420: RuntimeWarning: Too few samples (required : 310 got : 80), covariance estimate may be unreliable\n",
      "  data_cov = mne.compute_raw_covariance(raw, tmin=tmin,\n",
      "c:\\Users\\Lukas\\Documents\\projects\\esinet\\evaluate\\..\\esinet\\util\\util.py:388: RuntimeWarning: An average reference projection was already added. The data has been left untouched.\n",
      "  epochs.set_eeg_reference(projection=True, verbose=verbose)#.apply_baseline(baseline=baseline)\n"
     ]
    },
    {
     "name": "stdout",
     "output_type": "stream",
     "text": [
      "<RawArray | 61 x 511 (5.1 s), ~333 kB, data loaded> 4.0 info empirical\n",
      "<RawArray | 61 x 530 (5.3 s), ~342 kB, data loaded> 4.0 info empirical\n",
      "<RawArray | 61 x 452 (4.5 s), ~305 kB, data loaded> 4.0 info empirical\n",
      "<RawArray | 61 x 502 (5.0 s), ~329 kB, data loaded> 4.0 info empirical\n"
     ]
    },
    {
     "name": "stderr",
     "output_type": "stream",
     "text": [
      "c:\\Users\\Lukas\\Documents\\projects\\esinet\\evaluate\\..\\esinet\\util\\util.py:420: RuntimeWarning: Too few samples (required : 310 got : 100), covariance estimate may be unreliable\n",
      "  data_cov = mne.compute_raw_covariance(raw, tmin=tmin,\n",
      "c:\\Users\\Lukas\\Documents\\projects\\esinet\\evaluate\\..\\esinet\\util\\util.py:388: RuntimeWarning: An average reference projection was already added. The data has been left untouched.\n",
      "  epochs.set_eeg_reference(projection=True, verbose=verbose)#.apply_baseline(baseline=baseline)\n",
      "c:\\Users\\Lukas\\Documents\\projects\\esinet\\evaluate\\..\\esinet\\util\\util.py:420: RuntimeWarning: Too few samples (required : 310 got : 120), covariance estimate may be unreliable\n",
      "  data_cov = mne.compute_raw_covariance(raw, tmin=tmin,\n",
      "c:\\Users\\Lukas\\Documents\\projects\\esinet\\evaluate\\..\\esinet\\util\\util.py:388: RuntimeWarning: An average reference projection was already added. The data has been left untouched.\n",
      "  epochs.set_eeg_reference(projection=True, verbose=verbose)#.apply_baseline(baseline=baseline)\n",
      "c:\\Users\\Lukas\\Documents\\projects\\esinet\\evaluate\\..\\esinet\\util\\util.py:420: RuntimeWarning: Too few samples (required : 310 got : 40), covariance estimate may be unreliable\n",
      "  data_cov = mne.compute_raw_covariance(raw, tmin=tmin,\n",
      "c:\\Users\\Lukas\\Documents\\projects\\esinet\\evaluate\\..\\esinet\\util\\util.py:388: RuntimeWarning: An average reference projection was already added. The data has been left untouched.\n",
      "  epochs.set_eeg_reference(projection=True, verbose=verbose)#.apply_baseline(baseline=baseline)\n",
      "c:\\Users\\Lukas\\Documents\\projects\\esinet\\evaluate\\..\\esinet\\util\\util.py:420: RuntimeWarning: Too few samples (required : 310 got : 100), covariance estimate may be unreliable\n",
      "  data_cov = mne.compute_raw_covariance(raw, tmin=tmin,\n",
      "c:\\Users\\Lukas\\Documents\\projects\\esinet\\evaluate\\..\\esinet\\util\\util.py:388: RuntimeWarning: An average reference projection was already added. The data has been left untouched.\n",
      "  epochs.set_eeg_reference(projection=True, verbose=verbose)#.apply_baseline(baseline=baseline)\n"
     ]
    },
    {
     "name": "stdout",
     "output_type": "stream",
     "text": [
      "<RawArray | 61 x 483 (4.8 s), ~320 kB, data loaded> 4.0 info empirical\n",
      "<RawArray | 61 x 464 (4.6 s), ~311 kB, data loaded> 4.0 info empirical\n",
      "<RawArray | 61 x 529 (5.3 s), ~342 kB, data loaded> 4.0 info empirical\n",
      "<RawArray | 61 x 528 (5.3 s), ~341 kB, data loaded> 4.0 info empirical\n"
     ]
    },
    {
     "name": "stderr",
     "output_type": "stream",
     "text": [
      "c:\\Users\\Lukas\\Documents\\projects\\esinet\\evaluate\\..\\esinet\\util\\util.py:420: RuntimeWarning: Too few samples (required : 310 got : 80), covariance estimate may be unreliable\n",
      "  data_cov = mne.compute_raw_covariance(raw, tmin=tmin,\n",
      "c:\\Users\\Lukas\\Documents\\projects\\esinet\\evaluate\\..\\esinet\\util\\util.py:388: RuntimeWarning: An average reference projection was already added. The data has been left untouched.\n",
      "  epochs.set_eeg_reference(projection=True, verbose=verbose)#.apply_baseline(baseline=baseline)\n",
      "c:\\Users\\Lukas\\Documents\\projects\\esinet\\evaluate\\..\\esinet\\util\\util.py:420: RuntimeWarning: Too few samples (required : 310 got : 60), covariance estimate may be unreliable\n",
      "  data_cov = mne.compute_raw_covariance(raw, tmin=tmin,\n",
      "c:\\Users\\Lukas\\Documents\\projects\\esinet\\evaluate\\..\\esinet\\util\\util.py:388: RuntimeWarning: An average reference projection was already added. The data has been left untouched.\n",
      "  epochs.set_eeg_reference(projection=True, verbose=verbose)#.apply_baseline(baseline=baseline)\n",
      "c:\\Users\\Lukas\\Documents\\projects\\esinet\\evaluate\\..\\esinet\\util\\util.py:420: RuntimeWarning: Too few samples (required : 310 got : 120), covariance estimate may be unreliable\n",
      "  data_cov = mne.compute_raw_covariance(raw, tmin=tmin,\n",
      "c:\\Users\\Lukas\\Documents\\projects\\esinet\\evaluate\\..\\esinet\\util\\util.py:388: RuntimeWarning: An average reference projection was already added. The data has been left untouched.\n",
      "  epochs.set_eeg_reference(projection=True, verbose=verbose)#.apply_baseline(baseline=baseline)\n",
      "c:\\Users\\Lukas\\Documents\\projects\\esinet\\evaluate\\..\\esinet\\util\\util.py:420: RuntimeWarning: Too few samples (required : 310 got : 120), covariance estimate may be unreliable\n",
      "  data_cov = mne.compute_raw_covariance(raw, tmin=tmin,\n",
      "c:\\Users\\Lukas\\Documents\\projects\\esinet\\evaluate\\..\\esinet\\util\\util.py:388: RuntimeWarning: An average reference projection was already added. The data has been left untouched.\n",
      "  epochs.set_eeg_reference(projection=True, verbose=verbose)#.apply_baseline(baseline=baseline)\n"
     ]
    },
    {
     "name": "stdout",
     "output_type": "stream",
     "text": [
      "<RawArray | 61 x 437 (4.4 s), ~298 kB, data loaded> 4.0 info empirical\n",
      "<RawArray | 61 x 475 (4.7 s), ~316 kB, data loaded> 4.0 info empirical\n",
      "<RawArray | 61 x 599 (6.0 s), ~375 kB, data loaded> 4.0 info empirical\n",
      "<RawArray | 61 x 493 (4.9 s), ~325 kB, data loaded> 4.0 info empirical\n"
     ]
    },
    {
     "name": "stderr",
     "output_type": "stream",
     "text": [
      "c:\\Users\\Lukas\\Documents\\projects\\esinet\\evaluate\\..\\esinet\\util\\util.py:420: RuntimeWarning: Too few samples (required : 310 got : 20), covariance estimate may be unreliable\n",
      "  data_cov = mne.compute_raw_covariance(raw, tmin=tmin,\n",
      "c:\\Users\\Lukas\\Documents\\projects\\esinet\\evaluate\\..\\esinet\\util\\util.py:388: RuntimeWarning: An average reference projection was already added. The data has been left untouched.\n",
      "  epochs.set_eeg_reference(projection=True, verbose=verbose)#.apply_baseline(baseline=baseline)\n",
      "c:\\Users\\Lukas\\Documents\\projects\\esinet\\evaluate\\..\\esinet\\util\\util.py:420: RuntimeWarning: Too few samples (required : 310 got : 60), covariance estimate may be unreliable\n",
      "  data_cov = mne.compute_raw_covariance(raw, tmin=tmin,\n",
      "c:\\Users\\Lukas\\Documents\\projects\\esinet\\evaluate\\..\\esinet\\util\\util.py:388: RuntimeWarning: An average reference projection was already added. The data has been left untouched.\n",
      "  epochs.set_eeg_reference(projection=True, verbose=verbose)#.apply_baseline(baseline=baseline)\n",
      "c:\\Users\\Lukas\\Documents\\projects\\esinet\\evaluate\\..\\esinet\\util\\util.py:420: RuntimeWarning: Too few samples (required : 310 got : 180), covariance estimate may be unreliable\n",
      "  data_cov = mne.compute_raw_covariance(raw, tmin=tmin,\n",
      "c:\\Users\\Lukas\\Documents\\projects\\esinet\\evaluate\\..\\esinet\\util\\util.py:388: RuntimeWarning: An average reference projection was already added. The data has been left untouched.\n",
      "  epochs.set_eeg_reference(projection=True, verbose=verbose)#.apply_baseline(baseline=baseline)\n",
      "c:\\Users\\Lukas\\Documents\\projects\\esinet\\evaluate\\..\\esinet\\util\\util.py:420: RuntimeWarning: Too few samples (required : 310 got : 80), covariance estimate may be unreliable\n",
      "  data_cov = mne.compute_raw_covariance(raw, tmin=tmin,\n",
      "c:\\Users\\Lukas\\Documents\\projects\\esinet\\evaluate\\..\\esinet\\util\\util.py:388: RuntimeWarning: An average reference projection was already added. The data has been left untouched.\n",
      "  epochs.set_eeg_reference(projection=True, verbose=verbose)#.apply_baseline(baseline=baseline)\n"
     ]
    },
    {
     "name": "stdout",
     "output_type": "stream",
     "text": [
      "<RawArray | 61 x 582 (5.8 s), ~367 kB, data loaded> 4.0 info empirical\n",
      "<RawArray | 61 x 581 (5.8 s), ~367 kB, data loaded> 4.0 info empirical\n",
      "<RawArray | 61 x 535 (5.3 s), ~345 kB, data loaded> 4.0 info empirical\n",
      "<RawArray | 61 x 455 (4.5 s), ~307 kB, data loaded> 4.0 info empirical\n"
     ]
    },
    {
     "name": "stderr",
     "output_type": "stream",
     "text": [
      "c:\\Users\\Lukas\\Documents\\projects\\esinet\\evaluate\\..\\esinet\\util\\util.py:420: RuntimeWarning: Too few samples (required : 310 got : 180), covariance estimate may be unreliable\n",
      "  data_cov = mne.compute_raw_covariance(raw, tmin=tmin,\n",
      "c:\\Users\\Lukas\\Documents\\projects\\esinet\\evaluate\\..\\esinet\\util\\util.py:388: RuntimeWarning: An average reference projection was already added. The data has been left untouched.\n",
      "  epochs.set_eeg_reference(projection=True, verbose=verbose)#.apply_baseline(baseline=baseline)\n",
      "c:\\Users\\Lukas\\Documents\\projects\\esinet\\evaluate\\..\\esinet\\util\\util.py:420: RuntimeWarning: Too few samples (required : 310 got : 180), covariance estimate may be unreliable\n",
      "  data_cov = mne.compute_raw_covariance(raw, tmin=tmin,\n",
      "c:\\Users\\Lukas\\Documents\\projects\\esinet\\evaluate\\..\\esinet\\util\\util.py:388: RuntimeWarning: An average reference projection was already added. The data has been left untouched.\n",
      "  epochs.set_eeg_reference(projection=True, verbose=verbose)#.apply_baseline(baseline=baseline)\n",
      "c:\\Users\\Lukas\\Documents\\projects\\esinet\\evaluate\\..\\esinet\\util\\util.py:420: RuntimeWarning: Too few samples (required : 310 got : 120), covariance estimate may be unreliable\n",
      "  data_cov = mne.compute_raw_covariance(raw, tmin=tmin,\n",
      "c:\\Users\\Lukas\\Documents\\projects\\esinet\\evaluate\\..\\esinet\\util\\util.py:388: RuntimeWarning: An average reference projection was already added. The data has been left untouched.\n",
      "  epochs.set_eeg_reference(projection=True, verbose=verbose)#.apply_baseline(baseline=baseline)\n",
      "c:\\Users\\Lukas\\Documents\\projects\\esinet\\evaluate\\..\\esinet\\util\\util.py:420: RuntimeWarning: Too few samples (required : 310 got : 40), covariance estimate may be unreliable\n",
      "  data_cov = mne.compute_raw_covariance(raw, tmin=tmin,\n"
     ]
    },
    {
     "name": "stdout",
     "output_type": "stream",
     "text": [
      "<RawArray | 61 x 444 (4.4 s), ~301 kB, data loaded> 4.0 info empirical\n",
      "<RawArray | 61 x 546 (5.5 s), ~350 kB, data loaded> 4.0 info empirical\n",
      "<RawArray | 61 x 453 (4.5 s), ~306 kB, data loaded> 4.0 info empirical\n",
      "<RawArray | 61 x 480 (4.8 s), ~319 kB, data loaded> 4.0 info empirical\n",
      "<RawArray | 61 x 473 (4.7 s), ~315 kB, data loaded> 4.0 info empirical\n"
     ]
    },
    {
     "name": "stderr",
     "output_type": "stream",
     "text": [
      "c:\\Users\\Lukas\\Documents\\projects\\esinet\\evaluate\\..\\esinet\\util\\util.py:388: RuntimeWarning: An average reference projection was already added. The data has been left untouched.\n",
      "  epochs.set_eeg_reference(projection=True, verbose=verbose)#.apply_baseline(baseline=baseline)\n",
      "c:\\Users\\Lukas\\Documents\\projects\\esinet\\evaluate\\..\\esinet\\util\\util.py:420: RuntimeWarning: Too few samples (required : 310 got : 40), covariance estimate may be unreliable\n",
      "  data_cov = mne.compute_raw_covariance(raw, tmin=tmin,\n",
      "c:\\Users\\Lukas\\Documents\\projects\\esinet\\evaluate\\..\\esinet\\util\\util.py:388: RuntimeWarning: An average reference projection was already added. The data has been left untouched.\n",
      "  epochs.set_eeg_reference(projection=True, verbose=verbose)#.apply_baseline(baseline=baseline)\n",
      "c:\\Users\\Lukas\\Documents\\projects\\esinet\\evaluate\\..\\esinet\\util\\util.py:420: RuntimeWarning: Too few samples (required : 310 got : 140), covariance estimate may be unreliable\n",
      "  data_cov = mne.compute_raw_covariance(raw, tmin=tmin,\n",
      "c:\\Users\\Lukas\\Documents\\projects\\esinet\\evaluate\\..\\esinet\\util\\util.py:388: RuntimeWarning: An average reference projection was already added. The data has been left untouched.\n",
      "  epochs.set_eeg_reference(projection=True, verbose=verbose)#.apply_baseline(baseline=baseline)\n",
      "c:\\Users\\Lukas\\Documents\\projects\\esinet\\evaluate\\..\\esinet\\util\\util.py:420: RuntimeWarning: Too few samples (required : 310 got : 40), covariance estimate may be unreliable\n",
      "  data_cov = mne.compute_raw_covariance(raw, tmin=tmin,\n",
      "c:\\Users\\Lukas\\Documents\\projects\\esinet\\evaluate\\..\\esinet\\util\\util.py:388: RuntimeWarning: An average reference projection was already added. The data has been left untouched.\n",
      "  epochs.set_eeg_reference(projection=True, verbose=verbose)#.apply_baseline(baseline=baseline)\n",
      "c:\\Users\\Lukas\\Documents\\projects\\esinet\\evaluate\\..\\esinet\\util\\util.py:420: RuntimeWarning: Too few samples (required : 310 got : 80), covariance estimate may be unreliable\n",
      "  data_cov = mne.compute_raw_covariance(raw, tmin=tmin,\n",
      "c:\\Users\\Lukas\\Documents\\projects\\esinet\\evaluate\\..\\esinet\\util\\util.py:388: RuntimeWarning: An average reference projection was already added. The data has been left untouched.\n",
      "  epochs.set_eeg_reference(projection=True, verbose=verbose)#.apply_baseline(baseline=baseline)\n",
      "c:\\Users\\Lukas\\Documents\\projects\\esinet\\evaluate\\..\\esinet\\util\\util.py:420: RuntimeWarning: Too few samples (required : 310 got : 60), covariance estimate may be unreliable\n",
      "  data_cov = mne.compute_raw_covariance(raw, tmin=tmin,\n",
      "c:\\Users\\Lukas\\Documents\\projects\\esinet\\evaluate\\..\\esinet\\util\\util.py:388: RuntimeWarning: An average reference projection was already added. The data has been left untouched.\n",
      "  epochs.set_eeg_reference(projection=True, verbose=verbose)#.apply_baseline(baseline=baseline)\n",
      "c:\\Users\\Lukas\\Documents\\projects\\esinet\\evaluate\\..\\esinet\\util\\util.py:420: RuntimeWarning: Too few samples (required : 310 got : 40), covariance estimate may be unreliable\n",
      "  data_cov = mne.compute_raw_covariance(raw, tmin=tmin,\n",
      "c:\\Users\\Lukas\\Documents\\projects\\esinet\\evaluate\\..\\esinet\\util\\util.py:388: RuntimeWarning: An average reference projection was already added. The data has been left untouched.\n",
      "  epochs.set_eeg_reference(projection=True, verbose=verbose)#.apply_baseline(baseline=baseline)\n",
      "c:\\Users\\Lukas\\Documents\\projects\\esinet\\evaluate\\..\\esinet\\util\\util.py:420: RuntimeWarning: Too few samples (required : 310 got : 160), covariance estimate may be unreliable\n",
      "  data_cov = mne.compute_raw_covariance(raw, tmin=tmin,\n",
      "c:\\Users\\Lukas\\Documents\\projects\\esinet\\evaluate\\..\\esinet\\util\\util.py:388: RuntimeWarning: An average reference projection was already added. The data has been left untouched.\n",
      "  epochs.set_eeg_reference(projection=True, verbose=verbose)#.apply_baseline(baseline=baseline)\n",
      "c:\\Users\\Lukas\\Documents\\projects\\esinet\\evaluate\\..\\esinet\\util\\util.py:420: RuntimeWarning: Too few samples (required : 310 got : 160), covariance estimate may be unreliable\n",
      "  data_cov = mne.compute_raw_covariance(raw, tmin=tmin,\n",
      "c:\\Users\\Lukas\\Documents\\projects\\esinet\\evaluate\\..\\esinet\\util\\util.py:388: RuntimeWarning: An average reference projection was already added. The data has been left untouched.\n",
      "  epochs.set_eeg_reference(projection=True, verbose=verbose)#.apply_baseline(baseline=baseline)\n"
     ]
    },
    {
     "name": "stdout",
     "output_type": "stream",
     "text": [
      "<RawArray | 61 x 441 (4.4 s), ~300 kB, data loaded> 4.0 info empirical\n",
      "<RawArray | 61 x 569 (5.7 s), ~361 kB, data loaded> 4.0 info empirical\n",
      "<RawArray | 61 x 574 (5.7 s), ~363 kB, data loaded> 4.0 info empirical\n",
      "<RawArray | 61 x 592 (5.9 s), ~372 kB, data loaded> 4.0 info empirical\n"
     ]
    },
    {
     "name": "stderr",
     "output_type": "stream",
     "text": [
      "c:\\Users\\Lukas\\Documents\\projects\\esinet\\evaluate\\..\\esinet\\util\\util.py:420: RuntimeWarning: Too few samples (required : 310 got : 180), covariance estimate may be unreliable\n",
      "  data_cov = mne.compute_raw_covariance(raw, tmin=tmin,\n",
      "c:\\Users\\Lukas\\Documents\\projects\\esinet\\evaluate\\..\\esinet\\util\\util.py:388: RuntimeWarning: An average reference projection was already added. The data has been left untouched.\n",
      "  epochs.set_eeg_reference(projection=True, verbose=verbose)#.apply_baseline(baseline=baseline)\n",
      "c:\\Users\\Lukas\\Documents\\projects\\esinet\\evaluate\\..\\esinet\\util\\util.py:420: RuntimeWarning: Too few samples (required : 310 got : 120), covariance estimate may be unreliable\n",
      "  data_cov = mne.compute_raw_covariance(raw, tmin=tmin,\n",
      "c:\\Users\\Lukas\\Documents\\projects\\esinet\\evaluate\\..\\esinet\\util\\util.py:388: RuntimeWarning: An average reference projection was already added. The data has been left untouched.\n",
      "  epochs.set_eeg_reference(projection=True, verbose=verbose)#.apply_baseline(baseline=baseline)\n",
      "c:\\Users\\Lukas\\Documents\\projects\\esinet\\evaluate\\..\\esinet\\util\\util.py:420: RuntimeWarning: Too few samples (required : 310 got : 60), covariance estimate may be unreliable\n",
      "  data_cov = mne.compute_raw_covariance(raw, tmin=tmin,\n",
      "c:\\Users\\Lukas\\Documents\\projects\\esinet\\evaluate\\..\\esinet\\util\\util.py:388: RuntimeWarning: An average reference projection was already added. The data has been left untouched.\n",
      "  epochs.set_eeg_reference(projection=True, verbose=verbose)#.apply_baseline(baseline=baseline)\n",
      "c:\\Users\\Lukas\\Documents\\projects\\esinet\\evaluate\\..\\esinet\\util\\util.py:420: RuntimeWarning: Too few samples (required : 310 got : 80), covariance estimate may be unreliable\n",
      "  data_cov = mne.compute_raw_covariance(raw, tmin=tmin,\n",
      "c:\\Users\\Lukas\\Documents\\projects\\esinet\\evaluate\\..\\esinet\\util\\util.py:388: RuntimeWarning: An average reference projection was already added. The data has been left untouched.\n",
      "  epochs.set_eeg_reference(projection=True, verbose=verbose)#.apply_baseline(baseline=baseline)\n"
     ]
    },
    {
     "name": "stdout",
     "output_type": "stream",
     "text": [
      "<RawArray | 61 x 534 (5.3 s), ~344 kB, data loaded> 4.0 info empirical\n",
      "<RawArray | 61 x 467 (4.7 s), ~312 kB, data loaded> 4.0 info empirical\n",
      "<RawArray | 61 x 489 (4.9 s), ~323 kB, data loaded> 4.0 info empirical\n",
      "<RawArray | 61 x 552 (5.5 s), ~353 kB, data loaded> 4.0 info empirical\n"
     ]
    },
    {
     "name": "stderr",
     "output_type": "stream",
     "text": [
      "c:\\Users\\Lukas\\Documents\\projects\\esinet\\evaluate\\..\\esinet\\util\\util.py:420: RuntimeWarning: Too few samples (required : 310 got : 140), covariance estimate may be unreliable\n",
      "  data_cov = mne.compute_raw_covariance(raw, tmin=tmin,\n",
      "c:\\Users\\Lukas\\Documents\\projects\\esinet\\evaluate\\..\\esinet\\util\\util.py:388: RuntimeWarning: An average reference projection was already added. The data has been left untouched.\n",
      "  epochs.set_eeg_reference(projection=True, verbose=verbose)#.apply_baseline(baseline=baseline)\n",
      "c:\\Users\\Lukas\\Documents\\projects\\esinet\\evaluate\\..\\esinet\\util\\util.py:420: RuntimeWarning: Too few samples (required : 310 got : 40), covariance estimate may be unreliable\n",
      "  data_cov = mne.compute_raw_covariance(raw, tmin=tmin,\n",
      "c:\\Users\\Lukas\\Documents\\projects\\esinet\\evaluate\\..\\esinet\\util\\util.py:388: RuntimeWarning: An average reference projection was already added. The data has been left untouched.\n",
      "  epochs.set_eeg_reference(projection=True, verbose=verbose)#.apply_baseline(baseline=baseline)\n",
      "c:\\Users\\Lukas\\Documents\\projects\\esinet\\evaluate\\..\\esinet\\util\\util.py:420: RuntimeWarning: Too few samples (required : 310 got : 100), covariance estimate may be unreliable\n",
      "  data_cov = mne.compute_raw_covariance(raw, tmin=tmin,\n",
      "c:\\Users\\Lukas\\Documents\\projects\\esinet\\evaluate\\..\\esinet\\util\\util.py:388: RuntimeWarning: An average reference projection was already added. The data has been left untouched.\n",
      "  epochs.set_eeg_reference(projection=True, verbose=verbose)#.apply_baseline(baseline=baseline)\n",
      "c:\\Users\\Lukas\\Documents\\projects\\esinet\\evaluate\\..\\esinet\\util\\util.py:420: RuntimeWarning: Too few samples (required : 310 got : 100), covariance estimate may be unreliable\n",
      "  data_cov = mne.compute_raw_covariance(raw, tmin=tmin,\n",
      "c:\\Users\\Lukas\\Documents\\projects\\esinet\\evaluate\\..\\esinet\\util\\util.py:388: RuntimeWarning: An average reference projection was already added. The data has been left untouched.\n",
      "  epochs.set_eeg_reference(projection=True, verbose=verbose)#.apply_baseline(baseline=baseline)\n"
     ]
    },
    {
     "name": "stdout",
     "output_type": "stream",
     "text": [
      "<RawArray | 61 x 446 (4.5 s), ~302 kB, data loaded> 4.0 info empirical\n",
      "<RawArray | 61 x 509 (5.1 s), ~332 kB, data loaded> 4.0 info empirical\n",
      "<RawArray | 61 x 515 (5.1 s), ~335 kB, data loaded> 4.0 info empirical\n",
      "<RawArray | 61 x 553 (5.5 s), ~353 kB, data loaded> 4.0 info empirical\n"
     ]
    },
    {
     "name": "stderr",
     "output_type": "stream",
     "text": [
      "c:\\Users\\Lukas\\Documents\\projects\\esinet\\evaluate\\..\\esinet\\util\\util.py:420: RuntimeWarning: Too few samples (required : 310 got : 140), covariance estimate may be unreliable\n",
      "  data_cov = mne.compute_raw_covariance(raw, tmin=tmin,\n",
      "c:\\Users\\Lukas\\Documents\\projects\\esinet\\evaluate\\..\\esinet\\util\\util.py:388: RuntimeWarning: An average reference projection was already added. The data has been left untouched.\n",
      "  epochs.set_eeg_reference(projection=True, verbose=verbose)#.apply_baseline(baseline=baseline)\n",
      "c:\\Users\\Lukas\\Documents\\projects\\esinet\\evaluate\\..\\esinet\\util\\util.py:420: RuntimeWarning: Too few samples (required : 310 got : 180), covariance estimate may be unreliable\n",
      "  data_cov = mne.compute_raw_covariance(raw, tmin=tmin,\n",
      "c:\\Users\\Lukas\\Documents\\projects\\esinet\\evaluate\\..\\esinet\\util\\util.py:388: RuntimeWarning: An average reference projection was already added. The data has been left untouched.\n",
      "  epochs.set_eeg_reference(projection=True, verbose=verbose)#.apply_baseline(baseline=baseline)\n",
      "c:\\Users\\Lukas\\Documents\\projects\\esinet\\evaluate\\..\\esinet\\util\\util.py:420: RuntimeWarning: Too few samples (required : 310 got : 60), covariance estimate may be unreliable\n",
      "  data_cov = mne.compute_raw_covariance(raw, tmin=tmin,\n",
      "c:\\Users\\Lukas\\Documents\\projects\\esinet\\evaluate\\..\\esinet\\util\\util.py:388: RuntimeWarning: An average reference projection was already added. The data has been left untouched.\n",
      "  epochs.set_eeg_reference(projection=True, verbose=verbose)#.apply_baseline(baseline=baseline)\n",
      "c:\\Users\\Lukas\\Documents\\projects\\esinet\\evaluate\\..\\esinet\\util\\util.py:420: RuntimeWarning: Too few samples (required : 310 got : 80), covariance estimate may be unreliable\n",
      "  data_cov = mne.compute_raw_covariance(raw, tmin=tmin,\n",
      "c:\\Users\\Lukas\\Documents\\projects\\esinet\\evaluate\\..\\esinet\\util\\util.py:388: RuntimeWarning: An average reference projection was already added. The data has been left untouched.\n",
      "  epochs.set_eeg_reference(projection=True, verbose=verbose)#.apply_baseline(baseline=baseline)\n"
     ]
    },
    {
     "name": "stdout",
     "output_type": "stream",
     "text": [
      "<RawArray | 61 x 582 (5.8 s), ~367 kB, data loaded> 4.0 info empirical\n",
      "<RawArray | 61 x 463 (4.6 s), ~310 kB, data loaded> 4.0 info empirical\n",
      "<RawArray | 61 x 480 (4.8 s), ~319 kB, data loaded> 4.0 info empirical\n",
      "<RawArray | 61 x 525 (5.2 s), ~340 kB, data loaded> 4.0 info empirical\n"
     ]
    },
    {
     "name": "stderr",
     "output_type": "stream",
     "text": [
      "c:\\Users\\Lukas\\Documents\\projects\\esinet\\evaluate\\..\\esinet\\util\\util.py:420: RuntimeWarning: Too few samples (required : 310 got : 120), covariance estimate may be unreliable\n",
      "  data_cov = mne.compute_raw_covariance(raw, tmin=tmin,\n",
      "c:\\Users\\Lukas\\Documents\\projects\\esinet\\evaluate\\..\\esinet\\util\\util.py:388: RuntimeWarning: An average reference projection was already added. The data has been left untouched.\n",
      "  epochs.set_eeg_reference(projection=True, verbose=verbose)#.apply_baseline(baseline=baseline)\n",
      "c:\\Users\\Lukas\\Documents\\projects\\esinet\\evaluate\\..\\esinet\\util\\util.py:423: RuntimeWarning: Epochs are not baseline corrected, covariance matrix may be inaccurate\n",
      "  data_cov = mne.compute_covariance(epochs, tmin=0.0,\n",
      "c:\\Users\\Lukas\\Documents\\projects\\esinet\\evaluate\\..\\esinet\\util\\util.py:423: RuntimeWarning: Too few samples (required : 310 got : 1), covariance estimate may be unreliable\n",
      "  data_cov = mne.compute_covariance(epochs, tmin=0.0,\n",
      "C:\\Users\\Lukas\\Envs\\esienv\\lib\\site-packages\\mne\\fixes.py:550: UserWarning: Only one sample available. You may want to reshape your data array\n",
      "  warnings.warn(\"Only one sample available. \"\n",
      "c:\\Users\\Lukas\\Documents\\projects\\esinet\\evaluate\\..\\esinet\\util\\util.py:388: RuntimeWarning: An average reference projection was already added. The data has been left untouched.\n",
      "  epochs.set_eeg_reference(projection=True, verbose=verbose)#.apply_baseline(baseline=baseline)\n",
      "c:\\Users\\Lukas\\Documents\\projects\\esinet\\evaluate\\..\\esinet\\util\\util.py:420: RuntimeWarning: Too few samples (required : 310 got : 100), covariance estimate may be unreliable\n",
      "  data_cov = mne.compute_raw_covariance(raw, tmin=tmin,\n",
      "c:\\Users\\Lukas\\Documents\\projects\\esinet\\evaluate\\..\\esinet\\util\\util.py:388: RuntimeWarning: An average reference projection was already added. The data has been left untouched.\n",
      "  epochs.set_eeg_reference(projection=True, verbose=verbose)#.apply_baseline(baseline=baseline)\n",
      "c:\\Users\\Lukas\\Documents\\projects\\esinet\\evaluate\\..\\esinet\\util\\util.py:420: RuntimeWarning: Too few samples (required : 310 got : 20), covariance estimate may be unreliable\n",
      "  data_cov = mne.compute_raw_covariance(raw, tmin=tmin,\n",
      "c:\\Users\\Lukas\\Documents\\projects\\esinet\\evaluate\\..\\esinet\\util\\util.py:388: RuntimeWarning: An average reference projection was already added. The data has been left untouched.\n",
      "  epochs.set_eeg_reference(projection=True, verbose=verbose)#.apply_baseline(baseline=baseline)\n"
     ]
    },
    {
     "name": "stdout",
     "output_type": "stream",
     "text": [
      "<RawArray | 61 x 401 (4.0 s), ~281 kB, data loaded> 4.0 info empirical\n",
      "lcmv didnt work, returning zeros\n",
      "<RawArray | 61 x 511 (5.1 s), ~333 kB, data loaded> 4.0 info empirical\n",
      "<RawArray | 61 x 431 (4.3 s), ~295 kB, data loaded> 4.0 info empirical\n",
      "<RawArray | 61 x 554 (5.5 s), ~354 kB, data loaded> 4.0 info empirical\n",
      "<RawArray | 61 x 417 (4.2 s), ~289 kB, data loaded> 4.0 info empirical\n"
     ]
    },
    {
     "name": "stderr",
     "output_type": "stream",
     "text": [
      "c:\\Users\\Lukas\\Documents\\projects\\esinet\\evaluate\\..\\esinet\\util\\util.py:420: RuntimeWarning: Too few samples (required : 310 got : 140), covariance estimate may be unreliable\n",
      "  data_cov = mne.compute_raw_covariance(raw, tmin=tmin,\n",
      "c:\\Users\\Lukas\\Documents\\projects\\esinet\\evaluate\\..\\esinet\\util\\util.py:388: RuntimeWarning: An average reference projection was already added. The data has been left untouched.\n",
      "  epochs.set_eeg_reference(projection=True, verbose=verbose)#.apply_baseline(baseline=baseline)\n",
      "c:\\Users\\Lukas\\Documents\\projects\\esinet\\evaluate\\..\\esinet\\util\\util.py:423: RuntimeWarning: Epochs are not baseline corrected, covariance matrix may be inaccurate\n",
      "  data_cov = mne.compute_covariance(epochs, tmin=0.0,\n",
      "c:\\Users\\Lukas\\Documents\\projects\\esinet\\evaluate\\..\\esinet\\util\\util.py:423: RuntimeWarning: Too few samples (required : 310 got : 17), covariance estimate may be unreliable\n",
      "  data_cov = mne.compute_covariance(epochs, tmin=0.0,\n",
      "c:\\Users\\Lukas\\Documents\\projects\\esinet\\evaluate\\..\\esinet\\util\\util.py:388: RuntimeWarning: An average reference projection was already added. The data has been left untouched.\n",
      "  epochs.set_eeg_reference(projection=True, verbose=verbose)#.apply_baseline(baseline=baseline)\n",
      "c:\\Users\\Lukas\\Documents\\projects\\esinet\\evaluate\\..\\esinet\\util\\util.py:420: RuntimeWarning: Too few samples (required : 310 got : 140), covariance estimate may be unreliable\n",
      "  data_cov = mne.compute_raw_covariance(raw, tmin=tmin,\n",
      "c:\\Users\\Lukas\\Documents\\projects\\esinet\\evaluate\\..\\esinet\\util\\util.py:388: RuntimeWarning: An average reference projection was already added. The data has been left untouched.\n",
      "  epochs.set_eeg_reference(projection=True, verbose=verbose)#.apply_baseline(baseline=baseline)\n",
      "c:\\Users\\Lukas\\Documents\\projects\\esinet\\evaluate\\..\\esinet\\util\\util.py:420: RuntimeWarning: Too few samples (required : 310 got : 180), covariance estimate may be unreliable\n",
      "  data_cov = mne.compute_raw_covariance(raw, tmin=tmin,\n",
      "c:\\Users\\Lukas\\Documents\\projects\\esinet\\evaluate\\..\\esinet\\util\\util.py:388: RuntimeWarning: An average reference projection was already added. The data has been left untouched.\n",
      "  epochs.set_eeg_reference(projection=True, verbose=verbose)#.apply_baseline(baseline=baseline)\n"
     ]
    },
    {
     "name": "stdout",
     "output_type": "stream",
     "text": [
      "<RawArray | 61 x 558 (5.6 s), ~356 kB, data loaded> 4.0 info empirical\n",
      "<RawArray | 61 x 590 (5.9 s), ~371 kB, data loaded> 4.0 info empirical\n",
      "<RawArray | 61 x 513 (5.1 s), ~334 kB, data loaded> 4.0 info empirical\n",
      "<RawArray | 61 x 500 (5.0 s), ~328 kB, data loaded> 4.0 info empirical\n"
     ]
    },
    {
     "name": "stderr",
     "output_type": "stream",
     "text": [
      "c:\\Users\\Lukas\\Documents\\projects\\esinet\\evaluate\\..\\esinet\\util\\util.py:420: RuntimeWarning: Too few samples (required : 310 got : 100), covariance estimate may be unreliable\n",
      "  data_cov = mne.compute_raw_covariance(raw, tmin=tmin,\n",
      "c:\\Users\\Lukas\\Documents\\projects\\esinet\\evaluate\\..\\esinet\\util\\util.py:388: RuntimeWarning: An average reference projection was already added. The data has been left untouched.\n",
      "  epochs.set_eeg_reference(projection=True, verbose=verbose)#.apply_baseline(baseline=baseline)\n",
      "c:\\Users\\Lukas\\Documents\\projects\\esinet\\evaluate\\..\\esinet\\util\\util.py:420: RuntimeWarning: Too few samples (required : 310 got : 100), covariance estimate may be unreliable\n",
      "  data_cov = mne.compute_raw_covariance(raw, tmin=tmin,\n",
      "c:\\Users\\Lukas\\Documents\\projects\\esinet\\evaluate\\..\\esinet\\util\\util.py:388: RuntimeWarning: An average reference projection was already added. The data has been left untouched.\n",
      "  epochs.set_eeg_reference(projection=True, verbose=verbose)#.apply_baseline(baseline=baseline)\n",
      "c:\\Users\\Lukas\\Documents\\projects\\esinet\\evaluate\\..\\esinet\\util\\util.py:420: RuntimeWarning: Too few samples (required : 310 got : 60), covariance estimate may be unreliable\n",
      "  data_cov = mne.compute_raw_covariance(raw, tmin=tmin,\n",
      "c:\\Users\\Lukas\\Documents\\projects\\esinet\\evaluate\\..\\esinet\\util\\util.py:388: RuntimeWarning: An average reference projection was already added. The data has been left untouched.\n",
      "  epochs.set_eeg_reference(projection=True, verbose=verbose)#.apply_baseline(baseline=baseline)\n",
      "c:\\Users\\Lukas\\Documents\\projects\\esinet\\evaluate\\..\\esinet\\util\\util.py:420: RuntimeWarning: Too few samples (required : 310 got : 120), covariance estimate may be unreliable\n",
      "  data_cov = mne.compute_raw_covariance(raw, tmin=tmin,\n",
      "c:\\Users\\Lukas\\Documents\\projects\\esinet\\evaluate\\..\\esinet\\util\\util.py:388: RuntimeWarning: An average reference projection was already added. The data has been left untouched.\n",
      "  epochs.set_eeg_reference(projection=True, verbose=verbose)#.apply_baseline(baseline=baseline)\n"
     ]
    },
    {
     "name": "stdout",
     "output_type": "stream",
     "text": [
      "<RawArray | 61 x 473 (4.7 s), ~315 kB, data loaded> 4.0 info empirical\n",
      "<RawArray | 61 x 530 (5.3 s), ~342 kB, data loaded> 4.0 info empirical\n",
      "<RawArray | 61 x 572 (5.7 s), ~362 kB, data loaded> 4.0 info empirical\n",
      "<RawArray | 61 x 594 (5.9 s), ~373 kB, data loaded> 4.0 info empirical\n"
     ]
    },
    {
     "name": "stderr",
     "output_type": "stream",
     "text": [
      "c:\\Users\\Lukas\\Documents\\projects\\esinet\\evaluate\\..\\esinet\\util\\util.py:420: RuntimeWarning: Too few samples (required : 310 got : 160), covariance estimate may be unreliable\n",
      "  data_cov = mne.compute_raw_covariance(raw, tmin=tmin,\n",
      "c:\\Users\\Lukas\\Documents\\projects\\esinet\\evaluate\\..\\esinet\\util\\util.py:388: RuntimeWarning: An average reference projection was already added. The data has been left untouched.\n",
      "  epochs.set_eeg_reference(projection=True, verbose=verbose)#.apply_baseline(baseline=baseline)\n",
      "c:\\Users\\Lukas\\Documents\\projects\\esinet\\evaluate\\..\\esinet\\util\\util.py:420: RuntimeWarning: Too few samples (required : 310 got : 180), covariance estimate may be unreliable\n",
      "  data_cov = mne.compute_raw_covariance(raw, tmin=tmin,\n",
      "c:\\Users\\Lukas\\Documents\\projects\\esinet\\evaluate\\..\\esinet\\util\\util.py:388: RuntimeWarning: An average reference projection was already added. The data has been left untouched.\n",
      "  epochs.set_eeg_reference(projection=True, verbose=verbose)#.apply_baseline(baseline=baseline)\n",
      "c:\\Users\\Lukas\\Documents\\projects\\esinet\\evaluate\\..\\esinet\\util\\util.py:420: RuntimeWarning: Too few samples (required : 310 got : 100), covariance estimate may be unreliable\n",
      "  data_cov = mne.compute_raw_covariance(raw, tmin=tmin,\n",
      "c:\\Users\\Lukas\\Documents\\projects\\esinet\\evaluate\\..\\esinet\\util\\util.py:388: RuntimeWarning: An average reference projection was already added. The data has been left untouched.\n",
      "  epochs.set_eeg_reference(projection=True, verbose=verbose)#.apply_baseline(baseline=baseline)\n",
      "c:\\Users\\Lukas\\Documents\\projects\\esinet\\evaluate\\..\\esinet\\util\\util.py:420: RuntimeWarning: Too few samples (required : 310 got : 100), covariance estimate may be unreliable\n",
      "  data_cov = mne.compute_raw_covariance(raw, tmin=tmin,\n",
      "c:\\Users\\Lukas\\Documents\\projects\\esinet\\evaluate\\..\\esinet\\util\\util.py:388: RuntimeWarning: An average reference projection was already added. The data has been left untouched.\n",
      "  epochs.set_eeg_reference(projection=True, verbose=verbose)#.apply_baseline(baseline=baseline)\n"
     ]
    },
    {
     "name": "stdout",
     "output_type": "stream",
     "text": [
      "<RawArray | 61 x 500 (5.0 s), ~328 kB, data loaded> 4.0 info empirical\n",
      "<RawArray | 61 x 500 (5.0 s), ~328 kB, data loaded> 4.0 info empirical\n",
      "<RawArray | 61 x 409 (4.1 s), ~285 kB, data loaded> 4.0 info empirical\n",
      "<RawArray | 61 x 505 (5.0 s), ~330 kB, data loaded> 4.0 info empirical\n"
     ]
    },
    {
     "name": "stderr",
     "output_type": "stream",
     "text": [
      "c:\\Users\\Lukas\\Documents\\projects\\esinet\\evaluate\\..\\esinet\\util\\util.py:423: RuntimeWarning: Epochs are not baseline corrected, covariance matrix may be inaccurate\n",
      "  data_cov = mne.compute_covariance(epochs, tmin=0.0,\n",
      "c:\\Users\\Lukas\\Documents\\projects\\esinet\\evaluate\\..\\esinet\\util\\util.py:423: RuntimeWarning: Too few samples (required : 310 got : 9), covariance estimate may be unreliable\n",
      "  data_cov = mne.compute_covariance(epochs, tmin=0.0,\n",
      "c:\\Users\\Lukas\\Documents\\projects\\esinet\\evaluate\\..\\esinet\\util\\util.py:388: RuntimeWarning: An average reference projection was already added. The data has been left untouched.\n",
      "  epochs.set_eeg_reference(projection=True, verbose=verbose)#.apply_baseline(baseline=baseline)\n",
      "c:\\Users\\Lukas\\Documents\\projects\\esinet\\evaluate\\..\\esinet\\util\\util.py:420: RuntimeWarning: Too few samples (required : 310 got : 100), covariance estimate may be unreliable\n",
      "  data_cov = mne.compute_raw_covariance(raw, tmin=tmin,\n",
      "c:\\Users\\Lukas\\Documents\\projects\\esinet\\evaluate\\..\\esinet\\util\\util.py:388: RuntimeWarning: An average reference projection was already added. The data has been left untouched.\n",
      "  epochs.set_eeg_reference(projection=True, verbose=verbose)#.apply_baseline(baseline=baseline)\n",
      "c:\\Users\\Lukas\\Documents\\projects\\esinet\\evaluate\\..\\esinet\\util\\util.py:420: RuntimeWarning: Too few samples (required : 310 got : 80), covariance estimate may be unreliable\n",
      "  data_cov = mne.compute_raw_covariance(raw, tmin=tmin,\n",
      "c:\\Users\\Lukas\\Documents\\projects\\esinet\\evaluate\\..\\esinet\\util\\util.py:388: RuntimeWarning: An average reference projection was already added. The data has been left untouched.\n",
      "  epochs.set_eeg_reference(projection=True, verbose=verbose)#.apply_baseline(baseline=baseline)\n",
      "c:\\Users\\Lukas\\Documents\\projects\\esinet\\evaluate\\..\\esinet\\util\\util.py:420: RuntimeWarning: Too few samples (required : 310 got : 180), covariance estimate may be unreliable\n",
      "  data_cov = mne.compute_raw_covariance(raw, tmin=tmin,\n",
      "c:\\Users\\Lukas\\Documents\\projects\\esinet\\evaluate\\..\\esinet\\util\\util.py:388: RuntimeWarning: An average reference projection was already added. The data has been left untouched.\n",
      "  epochs.set_eeg_reference(projection=True, verbose=verbose)#.apply_baseline(baseline=baseline)\n"
     ]
    },
    {
     "name": "stdout",
     "output_type": "stream",
     "text": [
      "<RawArray | 61 x 483 (4.8 s), ~320 kB, data loaded> 4.0 info empirical\n",
      "<RawArray | 61 x 582 (5.8 s), ~367 kB, data loaded> 4.0 info empirical\n",
      "<RawArray | 61 x 499 (5.0 s), ~328 kB, data loaded> 4.0 info empirical\n",
      "<RawArray | 61 x 531 (5.3 s), ~343 kB, data loaded> 4.0 info empirical\n"
     ]
    },
    {
     "name": "stderr",
     "output_type": "stream",
     "text": [
      "c:\\Users\\Lukas\\Documents\\projects\\esinet\\evaluate\\..\\esinet\\util\\util.py:420: RuntimeWarning: Too few samples (required : 310 got : 80), covariance estimate may be unreliable\n",
      "  data_cov = mne.compute_raw_covariance(raw, tmin=tmin,\n",
      "c:\\Users\\Lukas\\Documents\\projects\\esinet\\evaluate\\..\\esinet\\util\\util.py:388: RuntimeWarning: An average reference projection was already added. The data has been left untouched.\n",
      "  epochs.set_eeg_reference(projection=True, verbose=verbose)#.apply_baseline(baseline=baseline)\n",
      "c:\\Users\\Lukas\\Documents\\projects\\esinet\\evaluate\\..\\esinet\\util\\util.py:420: RuntimeWarning: Too few samples (required : 310 got : 120), covariance estimate may be unreliable\n",
      "  data_cov = mne.compute_raw_covariance(raw, tmin=tmin,\n",
      "c:\\Users\\Lukas\\Documents\\projects\\esinet\\evaluate\\..\\esinet\\util\\util.py:388: RuntimeWarning: An average reference projection was already added. The data has been left untouched.\n",
      "  epochs.set_eeg_reference(projection=True, verbose=verbose)#.apply_baseline(baseline=baseline)\n",
      "c:\\Users\\Lukas\\Documents\\projects\\esinet\\evaluate\\..\\esinet\\util\\util.py:420: RuntimeWarning: Too few samples (required : 310 got : 80), covariance estimate may be unreliable\n",
      "  data_cov = mne.compute_raw_covariance(raw, tmin=tmin,\n",
      "c:\\Users\\Lukas\\Documents\\projects\\esinet\\evaluate\\..\\esinet\\util\\util.py:388: RuntimeWarning: An average reference projection was already added. The data has been left untouched.\n",
      "  epochs.set_eeg_reference(projection=True, verbose=verbose)#.apply_baseline(baseline=baseline)\n",
      "c:\\Users\\Lukas\\Documents\\projects\\esinet\\evaluate\\..\\esinet\\util\\util.py:420: RuntimeWarning: Too few samples (required : 310 got : 120), covariance estimate may be unreliable\n",
      "  data_cov = mne.compute_raw_covariance(raw, tmin=tmin,\n"
     ]
    },
    {
     "name": "stdout",
     "output_type": "stream",
     "text": [
      "<RawArray | 61 x 481 (4.8 s), ~319 kB, data loaded> 4.0 info empirical\n",
      "<RawArray | 61 x 527 (5.3 s), ~341 kB, data loaded> 4.0 info empirical\n",
      "<RawArray | 61 x 576 (5.8 s), ~364 kB, data loaded> 4.0 info empirical\n",
      "<RawArray | 61 x 467 (4.7 s), ~312 kB, data loaded> 4.0 info empirical\n"
     ]
    },
    {
     "name": "stderr",
     "output_type": "stream",
     "text": [
      "c:\\Users\\Lukas\\Documents\\projects\\esinet\\evaluate\\..\\esinet\\util\\util.py:388: RuntimeWarning: An average reference projection was already added. The data has been left untouched.\n",
      "  epochs.set_eeg_reference(projection=True, verbose=verbose)#.apply_baseline(baseline=baseline)\n",
      "c:\\Users\\Lukas\\Documents\\projects\\esinet\\evaluate\\..\\esinet\\util\\util.py:420: RuntimeWarning: Too few samples (required : 310 got : 160), covariance estimate may be unreliable\n",
      "  data_cov = mne.compute_raw_covariance(raw, tmin=tmin,\n",
      "c:\\Users\\Lukas\\Documents\\projects\\esinet\\evaluate\\..\\esinet\\util\\util.py:388: RuntimeWarning: An average reference projection was already added. The data has been left untouched.\n",
      "  epochs.set_eeg_reference(projection=True, verbose=verbose)#.apply_baseline(baseline=baseline)\n",
      "c:\\Users\\Lukas\\Documents\\projects\\esinet\\evaluate\\..\\esinet\\util\\util.py:420: RuntimeWarning: Too few samples (required : 310 got : 60), covariance estimate may be unreliable\n",
      "  data_cov = mne.compute_raw_covariance(raw, tmin=tmin,\n",
      "c:\\Users\\Lukas\\Documents\\projects\\esinet\\evaluate\\..\\esinet\\util\\util.py:388: RuntimeWarning: An average reference projection was already added. The data has been left untouched.\n",
      "  epochs.set_eeg_reference(projection=True, verbose=verbose)#.apply_baseline(baseline=baseline)\n",
      "c:\\Users\\Lukas\\Documents\\projects\\esinet\\evaluate\\..\\esinet\\util\\util.py:420: RuntimeWarning: Too few samples (required : 310 got : 100), covariance estimate may be unreliable\n",
      "  data_cov = mne.compute_raw_covariance(raw, tmin=tmin,\n",
      "c:\\Users\\Lukas\\Documents\\projects\\esinet\\evaluate\\..\\esinet\\util\\util.py:388: RuntimeWarning: An average reference projection was already added. The data has been left untouched.\n",
      "  epochs.set_eeg_reference(projection=True, verbose=verbose)#.apply_baseline(baseline=baseline)\n",
      "c:\\Users\\Lukas\\Documents\\projects\\esinet\\evaluate\\..\\esinet\\util\\util.py:420: RuntimeWarning: Too few samples (required : 310 got : 20), covariance estimate may be unreliable\n",
      "  data_cov = mne.compute_raw_covariance(raw, tmin=tmin,\n",
      "c:\\Users\\Lukas\\Documents\\projects\\esinet\\evaluate\\..\\esinet\\util\\util.py:388: RuntimeWarning: An average reference projection was already added. The data has been left untouched.\n",
      "  epochs.set_eeg_reference(projection=True, verbose=verbose)#.apply_baseline(baseline=baseline)\n"
     ]
    },
    {
     "name": "stdout",
     "output_type": "stream",
     "text": [
      "<RawArray | 61 x 502 (5.0 s), ~329 kB, data loaded> 4.0 info empirical\n",
      "<RawArray | 61 x 436 (4.3 s), ~298 kB, data loaded> 4.0 info empirical\n",
      "<RawArray | 61 x 532 (5.3 s), ~343 kB, data loaded> 4.0 info empirical\n",
      "<RawArray | 61 x 456 (4.5 s), ~307 kB, data loaded> 4.0 info empirical\n"
     ]
    },
    {
     "name": "stderr",
     "output_type": "stream",
     "text": [
      "c:\\Users\\Lukas\\Documents\\projects\\esinet\\evaluate\\..\\esinet\\util\\util.py:420: RuntimeWarning: Too few samples (required : 310 got : 120), covariance estimate may be unreliable\n",
      "  data_cov = mne.compute_raw_covariance(raw, tmin=tmin,\n",
      "c:\\Users\\Lukas\\Documents\\projects\\esinet\\evaluate\\..\\esinet\\util\\util.py:388: RuntimeWarning: An average reference projection was already added. The data has been left untouched.\n",
      "  epochs.set_eeg_reference(projection=True, verbose=verbose)#.apply_baseline(baseline=baseline)\n",
      "c:\\Users\\Lukas\\Documents\\projects\\esinet\\evaluate\\..\\esinet\\util\\util.py:420: RuntimeWarning: Too few samples (required : 310 got : 40), covariance estimate may be unreliable\n",
      "  data_cov = mne.compute_raw_covariance(raw, tmin=tmin,\n",
      "c:\\Users\\Lukas\\Documents\\projects\\esinet\\evaluate\\..\\esinet\\util\\util.py:388: RuntimeWarning: An average reference projection was already added. The data has been left untouched.\n",
      "  epochs.set_eeg_reference(projection=True, verbose=verbose)#.apply_baseline(baseline=baseline)\n",
      "c:\\Users\\Lukas\\Documents\\projects\\esinet\\evaluate\\..\\esinet\\util\\util.py:420: RuntimeWarning: Too few samples (required : 310 got : 180), covariance estimate may be unreliable\n",
      "  data_cov = mne.compute_raw_covariance(raw, tmin=tmin,\n",
      "c:\\Users\\Lukas\\Documents\\projects\\esinet\\evaluate\\..\\esinet\\util\\util.py:388: RuntimeWarning: An average reference projection was already added. The data has been left untouched.\n",
      "  epochs.set_eeg_reference(projection=True, verbose=verbose)#.apply_baseline(baseline=baseline)\n",
      "c:\\Users\\Lukas\\Documents\\projects\\esinet\\evaluate\\..\\esinet\\util\\util.py:423: RuntimeWarning: Epochs are not baseline corrected, covariance matrix may be inaccurate\n",
      "  data_cov = mne.compute_covariance(epochs, tmin=0.0,\n",
      "c:\\Users\\Lukas\\Documents\\projects\\esinet\\evaluate\\..\\esinet\\util\\util.py:423: RuntimeWarning: Too few samples (required : 310 got : 12), covariance estimate may be unreliable\n",
      "  data_cov = mne.compute_covariance(epochs, tmin=0.0,\n",
      "c:\\Users\\Lukas\\Documents\\projects\\esinet\\evaluate\\..\\esinet\\util\\util.py:388: RuntimeWarning: An average reference projection was already added. The data has been left untouched.\n",
      "  epochs.set_eeg_reference(projection=True, verbose=verbose)#.apply_baseline(baseline=baseline)\n"
     ]
    },
    {
     "name": "stdout",
     "output_type": "stream",
     "text": [
      "<RawArray | 61 x 597 (6.0 s), ~374 kB, data loaded> 4.0 info empirical\n",
      "<RawArray | 61 x 412 (4.1 s), ~286 kB, data loaded> 4.0 info empirical\n",
      "<RawArray | 61 x 421 (4.2 s), ~290 kB, data loaded> 4.0 info empirical\n",
      "<RawArray | 61 x 524 (5.2 s), ~340 kB, data loaded> 4.0 info empirical\n"
     ]
    },
    {
     "name": "stderr",
     "output_type": "stream",
     "text": [
      "c:\\Users\\Lukas\\Documents\\projects\\esinet\\evaluate\\..\\esinet\\util\\util.py:420: RuntimeWarning: Too few samples (required : 310 got : 20), covariance estimate may be unreliable\n",
      "  data_cov = mne.compute_raw_covariance(raw, tmin=tmin,\n",
      "c:\\Users\\Lukas\\Documents\\projects\\esinet\\evaluate\\..\\esinet\\util\\util.py:388: RuntimeWarning: An average reference projection was already added. The data has been left untouched.\n",
      "  epochs.set_eeg_reference(projection=True, verbose=verbose)#.apply_baseline(baseline=baseline)\n",
      "c:\\Users\\Lukas\\Documents\\projects\\esinet\\evaluate\\..\\esinet\\util\\util.py:420: RuntimeWarning: Too few samples (required : 310 got : 120), covariance estimate may be unreliable\n",
      "  data_cov = mne.compute_raw_covariance(raw, tmin=tmin,\n",
      "c:\\Users\\Lukas\\Documents\\projects\\esinet\\evaluate\\..\\esinet\\util\\util.py:388: RuntimeWarning: An average reference projection was already added. The data has been left untouched.\n",
      "  epochs.set_eeg_reference(projection=True, verbose=verbose)#.apply_baseline(baseline=baseline)\n",
      "c:\\Users\\Lukas\\Documents\\projects\\esinet\\evaluate\\..\\esinet\\util\\util.py:420: RuntimeWarning: Too few samples (required : 310 got : 120), covariance estimate may be unreliable\n",
      "  data_cov = mne.compute_raw_covariance(raw, tmin=tmin,\n",
      "c:\\Users\\Lukas\\Documents\\projects\\esinet\\evaluate\\..\\esinet\\util\\util.py:388: RuntimeWarning: An average reference projection was already added. The data has been left untouched.\n",
      "  epochs.set_eeg_reference(projection=True, verbose=verbose)#.apply_baseline(baseline=baseline)\n",
      "c:\\Users\\Lukas\\Documents\\projects\\esinet\\evaluate\\..\\esinet\\util\\util.py:420: RuntimeWarning: Too few samples (required : 310 got : 120), covariance estimate may be unreliable\n",
      "  data_cov = mne.compute_raw_covariance(raw, tmin=tmin,\n",
      "c:\\Users\\Lukas\\Documents\\projects\\esinet\\evaluate\\..\\esinet\\util\\util.py:388: RuntimeWarning: An average reference projection was already added. The data has been left untouched.\n",
      "  epochs.set_eeg_reference(projection=True, verbose=verbose)#.apply_baseline(baseline=baseline)\n"
     ]
    },
    {
     "name": "stdout",
     "output_type": "stream",
     "text": [
      "<RawArray | 61 x 529 (5.3 s), ~342 kB, data loaded> 4.0 info empirical\n",
      "<RawArray | 61 x 521 (5.2 s), ~338 kB, data loaded> 4.0 info empirical\n",
      "<RawArray | 61 x 426 (4.2 s), ~293 kB, data loaded> 4.0 info empirical\n",
      "<RawArray | 61 x 523 (5.2 s), ~339 kB, data loaded> 4.0 info empirical\n"
     ]
    },
    {
     "name": "stderr",
     "output_type": "stream",
     "text": [
      "c:\\Users\\Lukas\\Documents\\projects\\esinet\\evaluate\\..\\esinet\\util\\util.py:420: RuntimeWarning: Too few samples (required : 310 got : 20), covariance estimate may be unreliable\n",
      "  data_cov = mne.compute_raw_covariance(raw, tmin=tmin,\n",
      "c:\\Users\\Lukas\\Documents\\projects\\esinet\\evaluate\\..\\esinet\\util\\util.py:388: RuntimeWarning: An average reference projection was already added. The data has been left untouched.\n",
      "  epochs.set_eeg_reference(projection=True, verbose=verbose)#.apply_baseline(baseline=baseline)\n",
      "c:\\Users\\Lukas\\Documents\\projects\\esinet\\evaluate\\..\\esinet\\util\\util.py:420: RuntimeWarning: Too few samples (required : 310 got : 120), covariance estimate may be unreliable\n",
      "  data_cov = mne.compute_raw_covariance(raw, tmin=tmin,\n",
      "c:\\Users\\Lukas\\Documents\\projects\\esinet\\evaluate\\..\\esinet\\util\\util.py:388: RuntimeWarning: An average reference projection was already added. The data has been left untouched.\n",
      "  epochs.set_eeg_reference(projection=True, verbose=verbose)#.apply_baseline(baseline=baseline)\n",
      "c:\\Users\\Lukas\\Documents\\projects\\esinet\\evaluate\\..\\esinet\\util\\util.py:420: RuntimeWarning: Too few samples (required : 310 got : 140), covariance estimate may be unreliable\n",
      "  data_cov = mne.compute_raw_covariance(raw, tmin=tmin,\n",
      "c:\\Users\\Lukas\\Documents\\projects\\esinet\\evaluate\\..\\esinet\\util\\util.py:388: RuntimeWarning: An average reference projection was already added. The data has been left untouched.\n",
      "  epochs.set_eeg_reference(projection=True, verbose=verbose)#.apply_baseline(baseline=baseline)\n",
      "c:\\Users\\Lukas\\Documents\\projects\\esinet\\evaluate\\..\\esinet\\util\\util.py:420: RuntimeWarning: Too few samples (required : 310 got : 60), covariance estimate may be unreliable\n",
      "  data_cov = mne.compute_raw_covariance(raw, tmin=tmin,\n"
     ]
    },
    {
     "name": "stdout",
     "output_type": "stream",
     "text": [
      "<RawArray | 61 x 559 (5.6 s), ~356 kB, data loaded> 4.0 info empirical\n",
      "<RawArray | 61 x 461 (4.6 s), ~310 kB, data loaded> 4.0 info empirical\n",
      "<RawArray | 61 x 512 (5.1 s), ~334 kB, data loaded> 4.0 info empirical\n",
      "<RawArray | 61 x 495 (4.9 s), ~326 kB, data loaded> 4.0 info empirical\n"
     ]
    },
    {
     "name": "stderr",
     "output_type": "stream",
     "text": [
      "c:\\Users\\Lukas\\Documents\\projects\\esinet\\evaluate\\..\\esinet\\util\\util.py:388: RuntimeWarning: An average reference projection was already added. The data has been left untouched.\n",
      "  epochs.set_eeg_reference(projection=True, verbose=verbose)#.apply_baseline(baseline=baseline)\n",
      "c:\\Users\\Lukas\\Documents\\projects\\esinet\\evaluate\\..\\esinet\\util\\util.py:420: RuntimeWarning: Too few samples (required : 310 got : 100), covariance estimate may be unreliable\n",
      "  data_cov = mne.compute_raw_covariance(raw, tmin=tmin,\n",
      "c:\\Users\\Lukas\\Documents\\projects\\esinet\\evaluate\\..\\esinet\\util\\util.py:388: RuntimeWarning: An average reference projection was already added. The data has been left untouched.\n",
      "  epochs.set_eeg_reference(projection=True, verbose=verbose)#.apply_baseline(baseline=baseline)\n",
      "c:\\Users\\Lukas\\Documents\\projects\\esinet\\evaluate\\..\\esinet\\util\\util.py:420: RuntimeWarning: Too few samples (required : 310 got : 80), covariance estimate may be unreliable\n",
      "  data_cov = mne.compute_raw_covariance(raw, tmin=tmin,\n",
      "c:\\Users\\Lukas\\Documents\\projects\\esinet\\evaluate\\..\\esinet\\util\\util.py:388: RuntimeWarning: An average reference projection was already added. The data has been left untouched.\n",
      "  epochs.set_eeg_reference(projection=True, verbose=verbose)#.apply_baseline(baseline=baseline)\n",
      "c:\\Users\\Lukas\\Documents\\projects\\esinet\\evaluate\\..\\esinet\\util\\util.py:420: RuntimeWarning: Too few samples (required : 310 got : 80), covariance estimate may be unreliable\n",
      "  data_cov = mne.compute_raw_covariance(raw, tmin=tmin,\n",
      "c:\\Users\\Lukas\\Documents\\projects\\esinet\\evaluate\\..\\esinet\\util\\util.py:388: RuntimeWarning: An average reference projection was already added. The data has been left untouched.\n",
      "  epochs.set_eeg_reference(projection=True, verbose=verbose)#.apply_baseline(baseline=baseline)\n"
     ]
    },
    {
     "name": "stdout",
     "output_type": "stream",
     "text": [
      "<RawArray | 61 x 484 (4.8 s), ~320 kB, data loaded> 4.0 info empirical\n",
      "<RawArray | 61 x 509 (5.1 s), ~332 kB, data loaded> 4.0 info empirical\n",
      "<RawArray | 61 x 560 (5.6 s), ~357 kB, data loaded> 4.0 info empirical\n",
      "<RawArray | 61 x 409 (4.1 s), ~285 kB, data loaded> 4.0 info empirical\n"
     ]
    },
    {
     "name": "stderr",
     "output_type": "stream",
     "text": [
      "c:\\Users\\Lukas\\Documents\\projects\\esinet\\evaluate\\..\\esinet\\util\\util.py:420: RuntimeWarning: Too few samples (required : 310 got : 100), covariance estimate may be unreliable\n",
      "  data_cov = mne.compute_raw_covariance(raw, tmin=tmin,\n",
      "c:\\Users\\Lukas\\Documents\\projects\\esinet\\evaluate\\..\\esinet\\util\\util.py:388: RuntimeWarning: An average reference projection was already added. The data has been left untouched.\n",
      "  epochs.set_eeg_reference(projection=True, verbose=verbose)#.apply_baseline(baseline=baseline)\n",
      "c:\\Users\\Lukas\\Documents\\projects\\esinet\\evaluate\\..\\esinet\\util\\util.py:420: RuntimeWarning: Too few samples (required : 310 got : 160), covariance estimate may be unreliable\n",
      "  data_cov = mne.compute_raw_covariance(raw, tmin=tmin,\n",
      "c:\\Users\\Lukas\\Documents\\projects\\esinet\\evaluate\\..\\esinet\\util\\util.py:388: RuntimeWarning: An average reference projection was already added. The data has been left untouched.\n",
      "  epochs.set_eeg_reference(projection=True, verbose=verbose)#.apply_baseline(baseline=baseline)\n",
      "c:\\Users\\Lukas\\Documents\\projects\\esinet\\evaluate\\..\\esinet\\util\\util.py:423: RuntimeWarning: Epochs are not baseline corrected, covariance matrix may be inaccurate\n",
      "  data_cov = mne.compute_covariance(epochs, tmin=0.0,\n",
      "c:\\Users\\Lukas\\Documents\\projects\\esinet\\evaluate\\..\\esinet\\util\\util.py:423: RuntimeWarning: Too few samples (required : 310 got : 9), covariance estimate may be unreliable\n",
      "  data_cov = mne.compute_covariance(epochs, tmin=0.0,\n",
      "c:\\Users\\Lukas\\Documents\\projects\\esinet\\evaluate\\..\\esinet\\util\\util.py:388: RuntimeWarning: An average reference projection was already added. The data has been left untouched.\n",
      "  epochs.set_eeg_reference(projection=True, verbose=verbose)#.apply_baseline(baseline=baseline)\n",
      "c:\\Users\\Lukas\\Documents\\projects\\esinet\\evaluate\\..\\esinet\\util\\util.py:420: RuntimeWarning: Too few samples (required : 310 got : 20), covariance estimate may be unreliable\n",
      "  data_cov = mne.compute_raw_covariance(raw, tmin=tmin,\n"
     ]
    },
    {
     "name": "stdout",
     "output_type": "stream",
     "text": [
      "<RawArray | 61 x 422 (4.2 s), ~291 kB, data loaded> 4.0 info empirical\n",
      "<RawArray | 61 x 591 (5.9 s), ~371 kB, data loaded> 4.0 info empirical\n",
      "<RawArray | 61 x 440 (4.4 s), ~299 kB, data loaded> 4.0 info empirical\n",
      "<RawArray | 61 x 455 (4.5 s), ~307 kB, data loaded> 4.0 info empirical\n"
     ]
    },
    {
     "name": "stderr",
     "output_type": "stream",
     "text": [
      "c:\\Users\\Lukas\\Documents\\projects\\esinet\\evaluate\\..\\esinet\\util\\util.py:388: RuntimeWarning: An average reference projection was already added. The data has been left untouched.\n",
      "  epochs.set_eeg_reference(projection=True, verbose=verbose)#.apply_baseline(baseline=baseline)\n",
      "c:\\Users\\Lukas\\Documents\\projects\\esinet\\evaluate\\..\\esinet\\util\\util.py:420: RuntimeWarning: Too few samples (required : 310 got : 180), covariance estimate may be unreliable\n",
      "  data_cov = mne.compute_raw_covariance(raw, tmin=tmin,\n",
      "c:\\Users\\Lukas\\Documents\\projects\\esinet\\evaluate\\..\\esinet\\util\\util.py:388: RuntimeWarning: An average reference projection was already added. The data has been left untouched.\n",
      "  epochs.set_eeg_reference(projection=True, verbose=verbose)#.apply_baseline(baseline=baseline)\n",
      "c:\\Users\\Lukas\\Documents\\projects\\esinet\\evaluate\\..\\esinet\\util\\util.py:420: RuntimeWarning: Too few samples (required : 310 got : 40), covariance estimate may be unreliable\n",
      "  data_cov = mne.compute_raw_covariance(raw, tmin=tmin,\n",
      "c:\\Users\\Lukas\\Documents\\projects\\esinet\\evaluate\\..\\esinet\\util\\util.py:388: RuntimeWarning: An average reference projection was already added. The data has been left untouched.\n",
      "  epochs.set_eeg_reference(projection=True, verbose=verbose)#.apply_baseline(baseline=baseline)\n",
      "c:\\Users\\Lukas\\Documents\\projects\\esinet\\evaluate\\..\\esinet\\util\\util.py:420: RuntimeWarning: Too few samples (required : 310 got : 40), covariance estimate may be unreliable\n",
      "  data_cov = mne.compute_raw_covariance(raw, tmin=tmin,\n",
      "c:\\Users\\Lukas\\Documents\\projects\\esinet\\evaluate\\..\\esinet\\util\\util.py:388: RuntimeWarning: An average reference projection was already added. The data has been left untouched.\n",
      "  epochs.set_eeg_reference(projection=True, verbose=verbose)#.apply_baseline(baseline=baseline)\n",
      "c:\\Users\\Lukas\\Documents\\projects\\esinet\\evaluate\\..\\esinet\\util\\util.py:420: RuntimeWarning: Too few samples (required : 310 got : 20), covariance estimate may be unreliable\n",
      "  data_cov = mne.compute_raw_covariance(raw, tmin=tmin,\n"
     ]
    },
    {
     "name": "stdout",
     "output_type": "stream",
     "text": [
      "<RawArray | 61 x 435 (4.3 s), ~297 kB, data loaded> 4.0 info empirical\n",
      "<RawArray | 61 x 587 (5.9 s), ~370 kB, data loaded> 4.0 info empirical\n",
      "<RawArray | 61 x 409 (4.1 s), ~285 kB, data loaded> 4.0 info empirical\n",
      "<RawArray | 61 x 521 (5.2 s), ~338 kB, data loaded> 4.0 info empirical\n"
     ]
    },
    {
     "name": "stderr",
     "output_type": "stream",
     "text": [
      "c:\\Users\\Lukas\\Documents\\projects\\esinet\\evaluate\\..\\esinet\\util\\util.py:388: RuntimeWarning: An average reference projection was already added. The data has been left untouched.\n",
      "  epochs.set_eeg_reference(projection=True, verbose=verbose)#.apply_baseline(baseline=baseline)\n",
      "c:\\Users\\Lukas\\Documents\\projects\\esinet\\evaluate\\..\\esinet\\util\\util.py:420: RuntimeWarning: Too few samples (required : 310 got : 180), covariance estimate may be unreliable\n",
      "  data_cov = mne.compute_raw_covariance(raw, tmin=tmin,\n",
      "c:\\Users\\Lukas\\Documents\\projects\\esinet\\evaluate\\..\\esinet\\util\\util.py:388: RuntimeWarning: An average reference projection was already added. The data has been left untouched.\n",
      "  epochs.set_eeg_reference(projection=True, verbose=verbose)#.apply_baseline(baseline=baseline)\n",
      "c:\\Users\\Lukas\\Documents\\projects\\esinet\\evaluate\\..\\esinet\\util\\util.py:423: RuntimeWarning: Epochs are not baseline corrected, covariance matrix may be inaccurate\n",
      "  data_cov = mne.compute_covariance(epochs, tmin=0.0,\n",
      "c:\\Users\\Lukas\\Documents\\projects\\esinet\\evaluate\\..\\esinet\\util\\util.py:423: RuntimeWarning: Too few samples (required : 310 got : 9), covariance estimate may be unreliable\n",
      "  data_cov = mne.compute_covariance(epochs, tmin=0.0,\n",
      "c:\\Users\\Lukas\\Documents\\projects\\esinet\\evaluate\\..\\esinet\\util\\util.py:388: RuntimeWarning: An average reference projection was already added. The data has been left untouched.\n",
      "  epochs.set_eeg_reference(projection=True, verbose=verbose)#.apply_baseline(baseline=baseline)\n",
      "c:\\Users\\Lukas\\Documents\\projects\\esinet\\evaluate\\..\\esinet\\util\\util.py:420: RuntimeWarning: Too few samples (required : 310 got : 120), covariance estimate may be unreliable\n",
      "  data_cov = mne.compute_raw_covariance(raw, tmin=tmin,\n",
      "c:\\Users\\Lukas\\Documents\\projects\\esinet\\evaluate\\..\\esinet\\util\\util.py:388: RuntimeWarning: An average reference projection was already added. The data has been left untouched.\n",
      "  epochs.set_eeg_reference(projection=True, verbose=verbose)#.apply_baseline(baseline=baseline)\n",
      "c:\\Users\\Lukas\\Documents\\projects\\esinet\\evaluate\\..\\esinet\\util\\util.py:420: RuntimeWarning: Too few samples (required : 310 got : 40), covariance estimate may be unreliable\n",
      "  data_cov = mne.compute_raw_covariance(raw, tmin=tmin,\n"
     ]
    },
    {
     "name": "stdout",
     "output_type": "stream",
     "text": [
      "<RawArray | 61 x 442 (4.4 s), ~300 kB, data loaded> 4.0 info empirical\n",
      "<RawArray | 61 x 508 (5.1 s), ~332 kB, data loaded> 4.0 info empirical\n",
      "<RawArray | 61 x 500 (5.0 s), ~328 kB, data loaded> 4.0 info empirical\n",
      "<RawArray | 61 x 416 (4.2 s), ~288 kB, data loaded> 4.0 info empirical\n"
     ]
    },
    {
     "name": "stderr",
     "output_type": "stream",
     "text": [
      "c:\\Users\\Lukas\\Documents\\projects\\esinet\\evaluate\\..\\esinet\\util\\util.py:388: RuntimeWarning: An average reference projection was already added. The data has been left untouched.\n",
      "  epochs.set_eeg_reference(projection=True, verbose=verbose)#.apply_baseline(baseline=baseline)\n",
      "c:\\Users\\Lukas\\Documents\\projects\\esinet\\evaluate\\..\\esinet\\util\\util.py:420: RuntimeWarning: Too few samples (required : 310 got : 100), covariance estimate may be unreliable\n",
      "  data_cov = mne.compute_raw_covariance(raw, tmin=tmin,\n",
      "c:\\Users\\Lukas\\Documents\\projects\\esinet\\evaluate\\..\\esinet\\util\\util.py:388: RuntimeWarning: An average reference projection was already added. The data has been left untouched.\n",
      "  epochs.set_eeg_reference(projection=True, verbose=verbose)#.apply_baseline(baseline=baseline)\n",
      "c:\\Users\\Lukas\\Documents\\projects\\esinet\\evaluate\\..\\esinet\\util\\util.py:420: RuntimeWarning: Too few samples (required : 310 got : 100), covariance estimate may be unreliable\n",
      "  data_cov = mne.compute_raw_covariance(raw, tmin=tmin,\n",
      "c:\\Users\\Lukas\\Documents\\projects\\esinet\\evaluate\\..\\esinet\\util\\util.py:388: RuntimeWarning: An average reference projection was already added. The data has been left untouched.\n",
      "  epochs.set_eeg_reference(projection=True, verbose=verbose)#.apply_baseline(baseline=baseline)\n",
      "c:\\Users\\Lukas\\Documents\\projects\\esinet\\evaluate\\..\\esinet\\util\\util.py:423: RuntimeWarning: Epochs are not baseline corrected, covariance matrix may be inaccurate\n",
      "  data_cov = mne.compute_covariance(epochs, tmin=0.0,\n",
      "c:\\Users\\Lukas\\Documents\\projects\\esinet\\evaluate\\..\\esinet\\util\\util.py:423: RuntimeWarning: Too few samples (required : 310 got : 16), covariance estimate may be unreliable\n",
      "  data_cov = mne.compute_covariance(epochs, tmin=0.0,\n",
      "c:\\Users\\Lukas\\Documents\\projects\\esinet\\evaluate\\..\\esinet\\util\\util.py:388: RuntimeWarning: An average reference projection was already added. The data has been left untouched.\n",
      "  epochs.set_eeg_reference(projection=True, verbose=verbose)#.apply_baseline(baseline=baseline)\n",
      "c:\\Users\\Lukas\\Documents\\projects\\esinet\\evaluate\\..\\esinet\\util\\util.py:420: RuntimeWarning: Too few samples (required : 310 got : 80), covariance estimate may be unreliable\n",
      "  data_cov = mne.compute_raw_covariance(raw, tmin=tmin,\n"
     ]
    },
    {
     "name": "stdout",
     "output_type": "stream",
     "text": [
      "<RawArray | 61 x 491 (4.9 s), ~324 kB, data loaded> 4.0 info empirical\n",
      "<RawArray | 61 x 412 (4.1 s), ~286 kB, data loaded> 4.0 info empirical\n",
      "<RawArray | 61 x 461 (4.6 s), ~310 kB, data loaded> 4.0 info empirical\n",
      "<RawArray | 61 x 556 (5.5 s), ~355 kB, data loaded> 4.0 info empirical\n"
     ]
    },
    {
     "name": "stderr",
     "output_type": "stream",
     "text": [
      "c:\\Users\\Lukas\\Documents\\projects\\esinet\\evaluate\\..\\esinet\\util\\util.py:388: RuntimeWarning: An average reference projection was already added. The data has been left untouched.\n",
      "  epochs.set_eeg_reference(projection=True, verbose=verbose)#.apply_baseline(baseline=baseline)\n",
      "c:\\Users\\Lukas\\Documents\\projects\\esinet\\evaluate\\..\\esinet\\util\\util.py:423: RuntimeWarning: Epochs are not baseline corrected, covariance matrix may be inaccurate\n",
      "  data_cov = mne.compute_covariance(epochs, tmin=0.0,\n",
      "c:\\Users\\Lukas\\Documents\\projects\\esinet\\evaluate\\..\\esinet\\util\\util.py:423: RuntimeWarning: Too few samples (required : 310 got : 12), covariance estimate may be unreliable\n",
      "  data_cov = mne.compute_covariance(epochs, tmin=0.0,\n",
      "c:\\Users\\Lukas\\Documents\\projects\\esinet\\evaluate\\..\\esinet\\util\\util.py:388: RuntimeWarning: An average reference projection was already added. The data has been left untouched.\n",
      "  epochs.set_eeg_reference(projection=True, verbose=verbose)#.apply_baseline(baseline=baseline)\n",
      "c:\\Users\\Lukas\\Documents\\projects\\esinet\\evaluate\\..\\esinet\\util\\util.py:420: RuntimeWarning: Too few samples (required : 310 got : 60), covariance estimate may be unreliable\n",
      "  data_cov = mne.compute_raw_covariance(raw, tmin=tmin,\n",
      "c:\\Users\\Lukas\\Documents\\projects\\esinet\\evaluate\\..\\esinet\\util\\util.py:388: RuntimeWarning: An average reference projection was already added. The data has been left untouched.\n",
      "  epochs.set_eeg_reference(projection=True, verbose=verbose)#.apply_baseline(baseline=baseline)\n",
      "c:\\Users\\Lukas\\Documents\\projects\\esinet\\evaluate\\..\\esinet\\util\\util.py:420: RuntimeWarning: Too few samples (required : 310 got : 140), covariance estimate may be unreliable\n",
      "  data_cov = mne.compute_raw_covariance(raw, tmin=tmin,\n",
      "c:\\Users\\Lukas\\Documents\\projects\\esinet\\evaluate\\..\\esinet\\util\\util.py:388: RuntimeWarning: An average reference projection was already added. The data has been left untouched.\n",
      "  epochs.set_eeg_reference(projection=True, verbose=verbose)#.apply_baseline(baseline=baseline)\n",
      "c:\\Users\\Lukas\\Documents\\projects\\esinet\\evaluate\\..\\esinet\\util\\util.py:423: RuntimeWarning: Epochs are not baseline corrected, covariance matrix may be inaccurate\n",
      "  data_cov = mne.compute_covariance(epochs, tmin=0.0,\n",
      "c:\\Users\\Lukas\\Documents\\projects\\esinet\\evaluate\\..\\esinet\\util\\util.py:423: RuntimeWarning: Too few samples (required : 310 got : 15), covariance estimate may be unreliable\n",
      "  data_cov = mne.compute_covariance(epochs, tmin=0.0,\n"
     ]
    },
    {
     "name": "stdout",
     "output_type": "stream",
     "text": [
      "<RawArray | 61 x 415 (4.1 s), ~288 kB, data loaded> 4.0 info empirical\n",
      "<RawArray | 61 x 475 (4.7 s), ~316 kB, data loaded> 4.0 info empirical\n",
      "<RawArray | 61 x 578 (5.8 s), ~365 kB, data loaded> 4.0 info empirical\n",
      "<RawArray | 61 x 469 (4.7 s), ~313 kB, data loaded> 4.0 info empirical\n"
     ]
    },
    {
     "name": "stderr",
     "output_type": "stream",
     "text": [
      "c:\\Users\\Lukas\\Documents\\projects\\esinet\\evaluate\\..\\esinet\\util\\util.py:388: RuntimeWarning: An average reference projection was already added. The data has been left untouched.\n",
      "  epochs.set_eeg_reference(projection=True, verbose=verbose)#.apply_baseline(baseline=baseline)\n",
      "c:\\Users\\Lukas\\Documents\\projects\\esinet\\evaluate\\..\\esinet\\util\\util.py:420: RuntimeWarning: Too few samples (required : 310 got : 60), covariance estimate may be unreliable\n",
      "  data_cov = mne.compute_raw_covariance(raw, tmin=tmin,\n",
      "c:\\Users\\Lukas\\Documents\\projects\\esinet\\evaluate\\..\\esinet\\util\\util.py:388: RuntimeWarning: An average reference projection was already added. The data has been left untouched.\n",
      "  epochs.set_eeg_reference(projection=True, verbose=verbose)#.apply_baseline(baseline=baseline)\n",
      "c:\\Users\\Lukas\\Documents\\projects\\esinet\\evaluate\\..\\esinet\\util\\util.py:420: RuntimeWarning: Too few samples (required : 310 got : 160), covariance estimate may be unreliable\n",
      "  data_cov = mne.compute_raw_covariance(raw, tmin=tmin,\n",
      "c:\\Users\\Lukas\\Documents\\projects\\esinet\\evaluate\\..\\esinet\\util\\util.py:388: RuntimeWarning: An average reference projection was already added. The data has been left untouched.\n",
      "  epochs.set_eeg_reference(projection=True, verbose=verbose)#.apply_baseline(baseline=baseline)\n",
      "c:\\Users\\Lukas\\Documents\\projects\\esinet\\evaluate\\..\\esinet\\util\\util.py:420: RuntimeWarning: Too few samples (required : 310 got : 60), covariance estimate may be unreliable\n",
      "  data_cov = mne.compute_raw_covariance(raw, tmin=tmin,\n",
      "c:\\Users\\Lukas\\Documents\\projects\\esinet\\evaluate\\..\\esinet\\util\\util.py:388: RuntimeWarning: An average reference projection was already added. The data has been left untouched.\n",
      "  epochs.set_eeg_reference(projection=True, verbose=verbose)#.apply_baseline(baseline=baseline)\n",
      "c:\\Users\\Lukas\\Documents\\projects\\esinet\\evaluate\\..\\esinet\\util\\util.py:420: RuntimeWarning: Too few samples (required : 310 got : 140), covariance estimate may be unreliable\n",
      "  data_cov = mne.compute_raw_covariance(raw, tmin=tmin,\n",
      "c:\\Users\\Lukas\\Documents\\projects\\esinet\\evaluate\\..\\esinet\\util\\util.py:388: RuntimeWarning: An average reference projection was already added. The data has been left untouched.\n",
      "  epochs.set_eeg_reference(projection=True, verbose=verbose)#.apply_baseline(baseline=baseline)\n"
     ]
    },
    {
     "name": "stdout",
     "output_type": "stream",
     "text": [
      "<RawArray | 61 x 553 (5.5 s), ~353 kB, data loaded> 4.0 info empirical\n",
      "<RawArray | 61 x 411 (4.1 s), ~286 kB, data loaded> 4.0 info empirical\n",
      "<RawArray | 61 x 547 (5.5 s), ~350 kB, data loaded> 4.0 info empirical\n",
      "<RawArray | 61 x 557 (5.6 s), ~355 kB, data loaded> 4.0 info empirical\n"
     ]
    },
    {
     "name": "stderr",
     "output_type": "stream",
     "text": [
      "c:\\Users\\Lukas\\Documents\\projects\\esinet\\evaluate\\..\\esinet\\util\\util.py:423: RuntimeWarning: Epochs are not baseline corrected, covariance matrix may be inaccurate\n",
      "  data_cov = mne.compute_covariance(epochs, tmin=0.0,\n",
      "c:\\Users\\Lukas\\Documents\\projects\\esinet\\evaluate\\..\\esinet\\util\\util.py:423: RuntimeWarning: Too few samples (required : 310 got : 11), covariance estimate may be unreliable\n",
      "  data_cov = mne.compute_covariance(epochs, tmin=0.0,\n",
      "c:\\Users\\Lukas\\Documents\\projects\\esinet\\evaluate\\..\\esinet\\util\\util.py:388: RuntimeWarning: An average reference projection was already added. The data has been left untouched.\n",
      "  epochs.set_eeg_reference(projection=True, verbose=verbose)#.apply_baseline(baseline=baseline)\n",
      "c:\\Users\\Lukas\\Documents\\projects\\esinet\\evaluate\\..\\esinet\\util\\util.py:420: RuntimeWarning: Too few samples (required : 310 got : 140), covariance estimate may be unreliable\n",
      "  data_cov = mne.compute_raw_covariance(raw, tmin=tmin,\n",
      "c:\\Users\\Lukas\\Documents\\projects\\esinet\\evaluate\\..\\esinet\\util\\util.py:388: RuntimeWarning: An average reference projection was already added. The data has been left untouched.\n",
      "  epochs.set_eeg_reference(projection=True, verbose=verbose)#.apply_baseline(baseline=baseline)\n",
      "c:\\Users\\Lukas\\Documents\\projects\\esinet\\evaluate\\..\\esinet\\util\\util.py:420: RuntimeWarning: Too few samples (required : 310 got : 140), covariance estimate may be unreliable\n",
      "  data_cov = mne.compute_raw_covariance(raw, tmin=tmin,\n",
      "c:\\Users\\Lukas\\Documents\\projects\\esinet\\evaluate\\..\\esinet\\util\\util.py:388: RuntimeWarning: An average reference projection was already added. The data has been left untouched.\n",
      "  epochs.set_eeg_reference(projection=True, verbose=verbose)#.apply_baseline(baseline=baseline)\n",
      "c:\\Users\\Lukas\\Documents\\projects\\esinet\\evaluate\\..\\esinet\\util\\util.py:420: RuntimeWarning: Too few samples (required : 310 got : 120), covariance estimate may be unreliable\n",
      "  data_cov = mne.compute_raw_covariance(raw, tmin=tmin,\n",
      "c:\\Users\\Lukas\\Documents\\projects\\esinet\\evaluate\\..\\esinet\\util\\util.py:388: RuntimeWarning: An average reference projection was already added. The data has been left untouched.\n",
      "  epochs.set_eeg_reference(projection=True, verbose=verbose)#.apply_baseline(baseline=baseline)\n"
     ]
    },
    {
     "name": "stdout",
     "output_type": "stream",
     "text": [
      "<RawArray | 61 x 521 (5.2 s), ~338 kB, data loaded> 4.0 info empirical\n",
      "<RawArray | 61 x 500 (5.0 s), ~328 kB, data loaded> 4.0 info empirical\n",
      "<RawArray | 61 x 538 (5.4 s), ~346 kB, data loaded> 4.0 info empirical\n",
      "<RawArray | 61 x 485 (4.8 s), ~321 kB, data loaded> 4.0 info empirical\n"
     ]
    },
    {
     "name": "stderr",
     "output_type": "stream",
     "text": [
      "c:\\Users\\Lukas\\Documents\\projects\\esinet\\evaluate\\..\\esinet\\util\\util.py:420: RuntimeWarning: Too few samples (required : 310 got : 100), covariance estimate may be unreliable\n",
      "  data_cov = mne.compute_raw_covariance(raw, tmin=tmin,\n",
      "c:\\Users\\Lukas\\Documents\\projects\\esinet\\evaluate\\..\\esinet\\util\\util.py:388: RuntimeWarning: An average reference projection was already added. The data has been left untouched.\n",
      "  epochs.set_eeg_reference(projection=True, verbose=verbose)#.apply_baseline(baseline=baseline)\n",
      "c:\\Users\\Lukas\\Documents\\projects\\esinet\\evaluate\\..\\esinet\\util\\util.py:420: RuntimeWarning: Too few samples (required : 310 got : 120), covariance estimate may be unreliable\n",
      "  data_cov = mne.compute_raw_covariance(raw, tmin=tmin,\n",
      "c:\\Users\\Lukas\\Documents\\projects\\esinet\\evaluate\\..\\esinet\\util\\util.py:388: RuntimeWarning: An average reference projection was already added. The data has been left untouched.\n",
      "  epochs.set_eeg_reference(projection=True, verbose=verbose)#.apply_baseline(baseline=baseline)\n",
      "c:\\Users\\Lukas\\Documents\\projects\\esinet\\evaluate\\..\\esinet\\util\\util.py:420: RuntimeWarning: Too few samples (required : 310 got : 80), covariance estimate may be unreliable\n",
      "  data_cov = mne.compute_raw_covariance(raw, tmin=tmin,\n",
      "c:\\Users\\Lukas\\Documents\\projects\\esinet\\evaluate\\..\\esinet\\util\\util.py:388: RuntimeWarning: An average reference projection was already added. The data has been left untouched.\n",
      "  epochs.set_eeg_reference(projection=True, verbose=verbose)#.apply_baseline(baseline=baseline)\n",
      "c:\\Users\\Lukas\\Documents\\projects\\esinet\\evaluate\\..\\esinet\\util\\util.py:420: RuntimeWarning: Too few samples (required : 310 got : 100), covariance estimate may be unreliable\n",
      "  data_cov = mne.compute_raw_covariance(raw, tmin=tmin,\n",
      "c:\\Users\\Lukas\\Documents\\projects\\esinet\\evaluate\\..\\esinet\\util\\util.py:388: RuntimeWarning: An average reference projection was already added. The data has been left untouched.\n",
      "  epochs.set_eeg_reference(projection=True, verbose=verbose)#.apply_baseline(baseline=baseline)\n"
     ]
    },
    {
     "name": "stdout",
     "output_type": "stream",
     "text": [
      "<RawArray | 61 x 518 (5.2 s), ~337 kB, data loaded> 4.0 info empirical\n",
      "<RawArray | 61 x 464 (4.6 s), ~311 kB, data loaded> 4.0 info empirical\n",
      "<RawArray | 61 x 533 (5.3 s), ~344 kB, data loaded> 4.0 info empirical\n",
      "<RawArray | 61 x 459 (4.6 s), ~309 kB, data loaded> 4.0 info empirical\n"
     ]
    },
    {
     "name": "stderr",
     "output_type": "stream",
     "text": [
      "c:\\Users\\Lukas\\Documents\\projects\\esinet\\evaluate\\..\\esinet\\util\\util.py:420: RuntimeWarning: Too few samples (required : 310 got : 60), covariance estimate may be unreliable\n",
      "  data_cov = mne.compute_raw_covariance(raw, tmin=tmin,\n",
      "c:\\Users\\Lukas\\Documents\\projects\\esinet\\evaluate\\..\\esinet\\util\\util.py:388: RuntimeWarning: An average reference projection was already added. The data has been left untouched.\n",
      "  epochs.set_eeg_reference(projection=True, verbose=verbose)#.apply_baseline(baseline=baseline)\n",
      "c:\\Users\\Lukas\\Documents\\projects\\esinet\\evaluate\\..\\esinet\\util\\util.py:420: RuntimeWarning: Too few samples (required : 310 got : 120), covariance estimate may be unreliable\n",
      "  data_cov = mne.compute_raw_covariance(raw, tmin=tmin,\n",
      "c:\\Users\\Lukas\\Documents\\projects\\esinet\\evaluate\\..\\esinet\\util\\util.py:388: RuntimeWarning: An average reference projection was already added. The data has been left untouched.\n",
      "  epochs.set_eeg_reference(projection=True, verbose=verbose)#.apply_baseline(baseline=baseline)\n",
      "c:\\Users\\Lukas\\Documents\\projects\\esinet\\evaluate\\..\\esinet\\util\\util.py:420: RuntimeWarning: Too few samples (required : 310 got : 40), covariance estimate may be unreliable\n",
      "  data_cov = mne.compute_raw_covariance(raw, tmin=tmin,\n",
      "c:\\Users\\Lukas\\Documents\\projects\\esinet\\evaluate\\..\\esinet\\util\\util.py:388: RuntimeWarning: An average reference projection was already added. The data has been left untouched.\n",
      "  epochs.set_eeg_reference(projection=True, verbose=verbose)#.apply_baseline(baseline=baseline)\n",
      "c:\\Users\\Lukas\\Documents\\projects\\esinet\\evaluate\\..\\esinet\\util\\util.py:420: RuntimeWarning: Too few samples (required : 310 got : 180), covariance estimate may be unreliable\n",
      "  data_cov = mne.compute_raw_covariance(raw, tmin=tmin,\n"
     ]
    },
    {
     "name": "stdout",
     "output_type": "stream",
     "text": [
      "<RawArray | 61 x 583 (5.8 s), ~368 kB, data loaded> 4.0 info empirical\n",
      "<RawArray | 61 x 501 (5.0 s), ~329 kB, data loaded> 4.0 info empirical\n",
      "<RawArray | 61 x 535 (5.3 s), ~345 kB, data loaded> 4.0 info empirical\n",
      "<RawArray | 61 x 538 (5.4 s), ~346 kB, data loaded> 4.0 info empirical\n"
     ]
    },
    {
     "name": "stderr",
     "output_type": "stream",
     "text": [
      "c:\\Users\\Lukas\\Documents\\projects\\esinet\\evaluate\\..\\esinet\\util\\util.py:388: RuntimeWarning: An average reference projection was already added. The data has been left untouched.\n",
      "  epochs.set_eeg_reference(projection=True, verbose=verbose)#.apply_baseline(baseline=baseline)\n",
      "c:\\Users\\Lukas\\Documents\\projects\\esinet\\evaluate\\..\\esinet\\util\\util.py:420: RuntimeWarning: Too few samples (required : 310 got : 100), covariance estimate may be unreliable\n",
      "  data_cov = mne.compute_raw_covariance(raw, tmin=tmin,\n",
      "c:\\Users\\Lukas\\Documents\\projects\\esinet\\evaluate\\..\\esinet\\util\\util.py:388: RuntimeWarning: An average reference projection was already added. The data has been left untouched.\n",
      "  epochs.set_eeg_reference(projection=True, verbose=verbose)#.apply_baseline(baseline=baseline)\n",
      "c:\\Users\\Lukas\\Documents\\projects\\esinet\\evaluate\\..\\esinet\\util\\util.py:420: RuntimeWarning: Too few samples (required : 310 got : 120), covariance estimate may be unreliable\n",
      "  data_cov = mne.compute_raw_covariance(raw, tmin=tmin,\n",
      "c:\\Users\\Lukas\\Documents\\projects\\esinet\\evaluate\\..\\esinet\\util\\util.py:388: RuntimeWarning: An average reference projection was already added. The data has been left untouched.\n",
      "  epochs.set_eeg_reference(projection=True, verbose=verbose)#.apply_baseline(baseline=baseline)\n",
      "c:\\Users\\Lukas\\Documents\\projects\\esinet\\evaluate\\..\\esinet\\util\\util.py:420: RuntimeWarning: Too few samples (required : 310 got : 120), covariance estimate may be unreliable\n",
      "  data_cov = mne.compute_raw_covariance(raw, tmin=tmin,\n",
      "c:\\Users\\Lukas\\Documents\\projects\\esinet\\evaluate\\..\\esinet\\util\\util.py:388: RuntimeWarning: An average reference projection was already added. The data has been left untouched.\n",
      "  epochs.set_eeg_reference(projection=True, verbose=verbose)#.apply_baseline(baseline=baseline)\n",
      "c:\\Users\\Lukas\\Documents\\projects\\esinet\\evaluate\\..\\esinet\\util\\util.py:420: RuntimeWarning: Too few samples (required : 310 got : 20), covariance estimate may be unreliable\n",
      "  data_cov = mne.compute_raw_covariance(raw, tmin=tmin,\n",
      "c:\\Users\\Lukas\\Documents\\projects\\esinet\\evaluate\\..\\esinet\\util\\util.py:388: RuntimeWarning: An average reference projection was already added. The data has been left untouched.\n",
      "  epochs.set_eeg_reference(projection=True, verbose=verbose)#.apply_baseline(baseline=baseline)\n"
     ]
    },
    {
     "name": "stdout",
     "output_type": "stream",
     "text": [
      "<RawArray | 61 x 435 (4.3 s), ~297 kB, data loaded> 4.0 info empirical\n",
      "<RawArray | 61 x 576 (5.8 s), ~364 kB, data loaded> 4.0 info empirical\n",
      "<RawArray | 61 x 544 (5.4 s), ~349 kB, data loaded> 4.0 info empirical\n",
      "<RawArray | 61 x 567 (5.7 s), ~360 kB, data loaded> 4.0 info empirical\n"
     ]
    },
    {
     "name": "stderr",
     "output_type": "stream",
     "text": [
      "c:\\Users\\Lukas\\Documents\\projects\\esinet\\evaluate\\..\\esinet\\util\\util.py:420: RuntimeWarning: Too few samples (required : 310 got : 160), covariance estimate may be unreliable\n",
      "  data_cov = mne.compute_raw_covariance(raw, tmin=tmin,\n",
      "c:\\Users\\Lukas\\Documents\\projects\\esinet\\evaluate\\..\\esinet\\util\\util.py:388: RuntimeWarning: An average reference projection was already added. The data has been left untouched.\n",
      "  epochs.set_eeg_reference(projection=True, verbose=verbose)#.apply_baseline(baseline=baseline)\n",
      "c:\\Users\\Lukas\\Documents\\projects\\esinet\\evaluate\\..\\esinet\\util\\util.py:420: RuntimeWarning: Too few samples (required : 310 got : 140), covariance estimate may be unreliable\n",
      "  data_cov = mne.compute_raw_covariance(raw, tmin=tmin,\n",
      "c:\\Users\\Lukas\\Documents\\projects\\esinet\\evaluate\\..\\esinet\\util\\util.py:388: RuntimeWarning: An average reference projection was already added. The data has been left untouched.\n",
      "  epochs.set_eeg_reference(projection=True, verbose=verbose)#.apply_baseline(baseline=baseline)\n",
      "c:\\Users\\Lukas\\Documents\\projects\\esinet\\evaluate\\..\\esinet\\util\\util.py:420: RuntimeWarning: Too few samples (required : 310 got : 160), covariance estimate may be unreliable\n",
      "  data_cov = mne.compute_raw_covariance(raw, tmin=tmin,\n",
      "c:\\Users\\Lukas\\Documents\\projects\\esinet\\evaluate\\..\\esinet\\util\\util.py:388: RuntimeWarning: An average reference projection was already added. The data has been left untouched.\n",
      "  epochs.set_eeg_reference(projection=True, verbose=verbose)#.apply_baseline(baseline=baseline)\n",
      "c:\\Users\\Lukas\\Documents\\projects\\esinet\\evaluate\\..\\esinet\\util\\util.py:420: RuntimeWarning: Too few samples (required : 310 got : 140), covariance estimate may be unreliable\n",
      "  data_cov = mne.compute_raw_covariance(raw, tmin=tmin,\n",
      "c:\\Users\\Lukas\\Documents\\projects\\esinet\\evaluate\\..\\esinet\\util\\util.py:388: RuntimeWarning: An average reference projection was already added. The data has been left untouched.\n",
      "  epochs.set_eeg_reference(projection=True, verbose=verbose)#.apply_baseline(baseline=baseline)\n"
     ]
    },
    {
     "name": "stdout",
     "output_type": "stream",
     "text": [
      "<RawArray | 61 x 551 (5.5 s), ~352 kB, data loaded> 4.0 info empirical\n",
      "<RawArray | 61 x 501 (5.0 s), ~329 kB, data loaded> 4.0 info empirical\n",
      "<RawArray | 61 x 513 (5.1 s), ~334 kB, data loaded> 4.0 info empirical\n",
      "<RawArray | 61 x 427 (4.3 s), ~293 kB, data loaded> 4.0 info empirical\n"
     ]
    },
    {
     "name": "stderr",
     "output_type": "stream",
     "text": [
      "c:\\Users\\Lukas\\Documents\\projects\\esinet\\evaluate\\..\\esinet\\util\\util.py:420: RuntimeWarning: Too few samples (required : 310 got : 100), covariance estimate may be unreliable\n",
      "  data_cov = mne.compute_raw_covariance(raw, tmin=tmin,\n",
      "c:\\Users\\Lukas\\Documents\\projects\\esinet\\evaluate\\..\\esinet\\util\\util.py:388: RuntimeWarning: An average reference projection was already added. The data has been left untouched.\n",
      "  epochs.set_eeg_reference(projection=True, verbose=verbose)#.apply_baseline(baseline=baseline)\n",
      "c:\\Users\\Lukas\\Documents\\projects\\esinet\\evaluate\\..\\esinet\\util\\util.py:420: RuntimeWarning: Too few samples (required : 310 got : 100), covariance estimate may be unreliable\n",
      "  data_cov = mne.compute_raw_covariance(raw, tmin=tmin,\n",
      "c:\\Users\\Lukas\\Documents\\projects\\esinet\\evaluate\\..\\esinet\\util\\util.py:388: RuntimeWarning: An average reference projection was already added. The data has been left untouched.\n",
      "  epochs.set_eeg_reference(projection=True, verbose=verbose)#.apply_baseline(baseline=baseline)\n",
      "c:\\Users\\Lukas\\Documents\\projects\\esinet\\evaluate\\..\\esinet\\util\\util.py:420: RuntimeWarning: Too few samples (required : 310 got : 20), covariance estimate may be unreliable\n",
      "  data_cov = mne.compute_raw_covariance(raw, tmin=tmin,\n",
      "c:\\Users\\Lukas\\Documents\\projects\\esinet\\evaluate\\..\\esinet\\util\\util.py:388: RuntimeWarning: An average reference projection was already added. The data has been left untouched.\n",
      "  epochs.set_eeg_reference(projection=True, verbose=verbose)#.apply_baseline(baseline=baseline)\n",
      "c:\\Users\\Lukas\\Documents\\projects\\esinet\\evaluate\\..\\esinet\\util\\util.py:420: RuntimeWarning: Too few samples (required : 310 got : 180), covariance estimate may be unreliable\n",
      "  data_cov = mne.compute_raw_covariance(raw, tmin=tmin,\n",
      "c:\\Users\\Lukas\\Documents\\projects\\esinet\\evaluate\\..\\esinet\\util\\util.py:388: RuntimeWarning: An average reference projection was already added. The data has been left untouched.\n",
      "  epochs.set_eeg_reference(projection=True, verbose=verbose)#.apply_baseline(baseline=baseline)\n"
     ]
    },
    {
     "name": "stdout",
     "output_type": "stream",
     "text": [
      "<RawArray | 61 x 585 (5.8 s), ~369 kB, data loaded> 4.0 info empirical\n",
      "<RawArray | 61 x 403 (4.0 s), ~282 kB, data loaded> 4.0 info empirical\n",
      "<RawArray | 61 x 410 (4.1 s), ~285 kB, data loaded> 4.0 info empirical\n",
      "<RawArray | 61 x 596 (6.0 s), ~374 kB, data loaded> 4.0 info empirical\n"
     ]
    },
    {
     "name": "stderr",
     "output_type": "stream",
     "text": [
      "c:\\Users\\Lukas\\Documents\\projects\\esinet\\evaluate\\..\\esinet\\util\\util.py:423: RuntimeWarning: Epochs are not baseline corrected, covariance matrix may be inaccurate\n",
      "  data_cov = mne.compute_covariance(epochs, tmin=0.0,\n",
      "c:\\Users\\Lukas\\Documents\\projects\\esinet\\evaluate\\..\\esinet\\util\\util.py:423: RuntimeWarning: Too few samples (required : 310 got : 3), covariance estimate may be unreliable\n",
      "  data_cov = mne.compute_covariance(epochs, tmin=0.0,\n",
      "c:\\Users\\Lukas\\Documents\\projects\\esinet\\evaluate\\..\\esinet\\util\\util.py:388: RuntimeWarning: An average reference projection was already added. The data has been left untouched.\n",
      "  epochs.set_eeg_reference(projection=True, verbose=verbose)#.apply_baseline(baseline=baseline)\n",
      "c:\\Users\\Lukas\\Documents\\projects\\esinet\\evaluate\\..\\esinet\\util\\util.py:423: RuntimeWarning: Epochs are not baseline corrected, covariance matrix may be inaccurate\n",
      "  data_cov = mne.compute_covariance(epochs, tmin=0.0,\n",
      "c:\\Users\\Lukas\\Documents\\projects\\esinet\\evaluate\\..\\esinet\\util\\util.py:423: RuntimeWarning: Too few samples (required : 310 got : 10), covariance estimate may be unreliable\n",
      "  data_cov = mne.compute_covariance(epochs, tmin=0.0,\n",
      "c:\\Users\\Lukas\\Documents\\projects\\esinet\\evaluate\\..\\esinet\\util\\util.py:388: RuntimeWarning: An average reference projection was already added. The data has been left untouched.\n",
      "  epochs.set_eeg_reference(projection=True, verbose=verbose)#.apply_baseline(baseline=baseline)\n",
      "c:\\Users\\Lukas\\Documents\\projects\\esinet\\evaluate\\..\\esinet\\util\\util.py:420: RuntimeWarning: Too few samples (required : 310 got : 180), covariance estimate may be unreliable\n",
      "  data_cov = mne.compute_raw_covariance(raw, tmin=tmin,\n",
      "c:\\Users\\Lukas\\Documents\\projects\\esinet\\evaluate\\..\\esinet\\util\\util.py:388: RuntimeWarning: An average reference projection was already added. The data has been left untouched.\n",
      "  epochs.set_eeg_reference(projection=True, verbose=verbose)#.apply_baseline(baseline=baseline)\n",
      "c:\\Users\\Lukas\\Documents\\projects\\esinet\\evaluate\\..\\esinet\\util\\util.py:420: RuntimeWarning: Too few samples (required : 310 got : 80), covariance estimate may be unreliable\n",
      "  data_cov = mne.compute_raw_covariance(raw, tmin=tmin,\n",
      "c:\\Users\\Lukas\\Documents\\projects\\esinet\\evaluate\\..\\esinet\\util\\util.py:388: RuntimeWarning: An average reference projection was already added. The data has been left untouched.\n",
      "  epochs.set_eeg_reference(projection=True, verbose=verbose)#.apply_baseline(baseline=baseline)\n"
     ]
    },
    {
     "name": "stdout",
     "output_type": "stream",
     "text": [
      "<RawArray | 61 x 481 (4.8 s), ~319 kB, data loaded> 4.0 info empirical\n",
      "<RawArray | 61 x 512 (5.1 s), ~334 kB, data loaded> 4.0 info empirical\n",
      "<RawArray | 61 x 407 (4.1 s), ~284 kB, data loaded> 4.0 info empirical\n",
      "<RawArray | 61 x 404 (4.0 s), ~282 kB, data loaded> 4.0 info empirical\n"
     ]
    },
    {
     "name": "stderr",
     "output_type": "stream",
     "text": [
      "c:\\Users\\Lukas\\Documents\\projects\\esinet\\evaluate\\..\\esinet\\util\\util.py:420: RuntimeWarning: Too few samples (required : 310 got : 100), covariance estimate may be unreliable\n",
      "  data_cov = mne.compute_raw_covariance(raw, tmin=tmin,\n",
      "c:\\Users\\Lukas\\Documents\\projects\\esinet\\evaluate\\..\\esinet\\util\\util.py:388: RuntimeWarning: An average reference projection was already added. The data has been left untouched.\n",
      "  epochs.set_eeg_reference(projection=True, verbose=verbose)#.apply_baseline(baseline=baseline)\n",
      "c:\\Users\\Lukas\\Documents\\projects\\esinet\\evaluate\\..\\esinet\\util\\util.py:423: RuntimeWarning: Epochs are not baseline corrected, covariance matrix may be inaccurate\n",
      "  data_cov = mne.compute_covariance(epochs, tmin=0.0,\n",
      "c:\\Users\\Lukas\\Documents\\projects\\esinet\\evaluate\\..\\esinet\\util\\util.py:423: RuntimeWarning: Too few samples (required : 310 got : 7), covariance estimate may be unreliable\n",
      "  data_cov = mne.compute_covariance(epochs, tmin=0.0,\n",
      "c:\\Users\\Lukas\\Documents\\projects\\esinet\\evaluate\\..\\esinet\\util\\util.py:388: RuntimeWarning: An average reference projection was already added. The data has been left untouched.\n",
      "  epochs.set_eeg_reference(projection=True, verbose=verbose)#.apply_baseline(baseline=baseline)\n",
      "c:\\Users\\Lukas\\Documents\\projects\\esinet\\evaluate\\..\\esinet\\util\\util.py:423: RuntimeWarning: Epochs are not baseline corrected, covariance matrix may be inaccurate\n",
      "  data_cov = mne.compute_covariance(epochs, tmin=0.0,\n",
      "c:\\Users\\Lukas\\Documents\\projects\\esinet\\evaluate\\..\\esinet\\util\\util.py:423: RuntimeWarning: Too few samples (required : 310 got : 4), covariance estimate may be unreliable\n",
      "  data_cov = mne.compute_covariance(epochs, tmin=0.0,\n",
      "c:\\Users\\Lukas\\Documents\\projects\\esinet\\evaluate\\..\\esinet\\util\\util.py:388: RuntimeWarning: An average reference projection was already added. The data has been left untouched.\n",
      "  epochs.set_eeg_reference(projection=True, verbose=verbose)#.apply_baseline(baseline=baseline)\n",
      "c:\\Users\\Lukas\\Documents\\projects\\esinet\\evaluate\\..\\esinet\\util\\util.py:420: RuntimeWarning: Too few samples (required : 310 got : 80), covariance estimate may be unreliable\n",
      "  data_cov = mne.compute_raw_covariance(raw, tmin=tmin,\n",
      "c:\\Users\\Lukas\\Documents\\projects\\esinet\\evaluate\\..\\esinet\\util\\util.py:388: RuntimeWarning: An average reference projection was already added. The data has been left untouched.\n",
      "  epochs.set_eeg_reference(projection=True, verbose=verbose)#.apply_baseline(baseline=baseline)\n"
     ]
    },
    {
     "name": "stdout",
     "output_type": "stream",
     "text": [
      "<RawArray | 61 x 496 (5.0 s), ~326 kB, data loaded> 4.0 info empirical\n",
      "<RawArray | 61 x 483 (4.8 s), ~320 kB, data loaded> 4.0 info empirical\n",
      "<RawArray | 61 x 440 (4.4 s), ~299 kB, data loaded> 4.0 info empirical\n",
      "<RawArray | 61 x 538 (5.4 s), ~346 kB, data loaded> 4.0 info empirical\n"
     ]
    },
    {
     "name": "stderr",
     "output_type": "stream",
     "text": [
      "c:\\Users\\Lukas\\Documents\\projects\\esinet\\evaluate\\..\\esinet\\util\\util.py:420: RuntimeWarning: Too few samples (required : 310 got : 80), covariance estimate may be unreliable\n",
      "  data_cov = mne.compute_raw_covariance(raw, tmin=tmin,\n",
      "c:\\Users\\Lukas\\Documents\\projects\\esinet\\evaluate\\..\\esinet\\util\\util.py:388: RuntimeWarning: An average reference projection was already added. The data has been left untouched.\n",
      "  epochs.set_eeg_reference(projection=True, verbose=verbose)#.apply_baseline(baseline=baseline)\n",
      "c:\\Users\\Lukas\\Documents\\projects\\esinet\\evaluate\\..\\esinet\\util\\util.py:420: RuntimeWarning: Too few samples (required : 310 got : 40), covariance estimate may be unreliable\n",
      "  data_cov = mne.compute_raw_covariance(raw, tmin=tmin,\n",
      "c:\\Users\\Lukas\\Documents\\projects\\esinet\\evaluate\\..\\esinet\\util\\util.py:388: RuntimeWarning: An average reference projection was already added. The data has been left untouched.\n",
      "  epochs.set_eeg_reference(projection=True, verbose=verbose)#.apply_baseline(baseline=baseline)\n",
      "c:\\Users\\Lukas\\Documents\\projects\\esinet\\evaluate\\..\\esinet\\util\\util.py:420: RuntimeWarning: Too few samples (required : 310 got : 120), covariance estimate may be unreliable\n",
      "  data_cov = mne.compute_raw_covariance(raw, tmin=tmin,\n",
      "c:\\Users\\Lukas\\Documents\\projects\\esinet\\evaluate\\..\\esinet\\util\\util.py:388: RuntimeWarning: An average reference projection was already added. The data has been left untouched.\n",
      "  epochs.set_eeg_reference(projection=True, verbose=verbose)#.apply_baseline(baseline=baseline)\n",
      "c:\\Users\\Lukas\\Documents\\projects\\esinet\\evaluate\\..\\esinet\\util\\util.py:420: RuntimeWarning: Too few samples (required : 310 got : 140), covariance estimate may be unreliable\n",
      "  data_cov = mne.compute_raw_covariance(raw, tmin=tmin,\n",
      "c:\\Users\\Lukas\\Documents\\projects\\esinet\\evaluate\\..\\esinet\\util\\util.py:388: RuntimeWarning: An average reference projection was already added. The data has been left untouched.\n",
      "  epochs.set_eeg_reference(projection=True, verbose=verbose)#.apply_baseline(baseline=baseline)\n"
     ]
    },
    {
     "name": "stdout",
     "output_type": "stream",
     "text": [
      "<RawArray | 61 x 545 (5.4 s), ~350 kB, data loaded> 4.0 info empirical\n",
      "<RawArray | 61 x 567 (5.7 s), ~360 kB, data loaded> 4.0 info empirical\n",
      "<RawArray | 61 x 435 (4.3 s), ~297 kB, data loaded> 4.0 info empirical\n",
      "<RawArray | 61 x 538 (5.4 s), ~346 kB, data loaded> 4.0 info empirical\n"
     ]
    },
    {
     "name": "stderr",
     "output_type": "stream",
     "text": [
      "c:\\Users\\Lukas\\Documents\\projects\\esinet\\evaluate\\..\\esinet\\util\\util.py:420: RuntimeWarning: Too few samples (required : 310 got : 160), covariance estimate may be unreliable\n",
      "  data_cov = mne.compute_raw_covariance(raw, tmin=tmin,\n",
      "c:\\Users\\Lukas\\Documents\\projects\\esinet\\evaluate\\..\\esinet\\util\\util.py:388: RuntimeWarning: An average reference projection was already added. The data has been left untouched.\n",
      "  epochs.set_eeg_reference(projection=True, verbose=verbose)#.apply_baseline(baseline=baseline)\n",
      "c:\\Users\\Lukas\\Documents\\projects\\esinet\\evaluate\\..\\esinet\\util\\util.py:420: RuntimeWarning: Too few samples (required : 310 got : 20), covariance estimate may be unreliable\n",
      "  data_cov = mne.compute_raw_covariance(raw, tmin=tmin,\n",
      "c:\\Users\\Lukas\\Documents\\projects\\esinet\\evaluate\\..\\esinet\\util\\util.py:388: RuntimeWarning: An average reference projection was already added. The data has been left untouched.\n",
      "  epochs.set_eeg_reference(projection=True, verbose=verbose)#.apply_baseline(baseline=baseline)\n",
      "c:\\Users\\Lukas\\Documents\\projects\\esinet\\evaluate\\..\\esinet\\util\\util.py:420: RuntimeWarning: Too few samples (required : 310 got : 120), covariance estimate may be unreliable\n",
      "  data_cov = mne.compute_raw_covariance(raw, tmin=tmin,\n",
      "c:\\Users\\Lukas\\Documents\\projects\\esinet\\evaluate\\..\\esinet\\util\\util.py:388: RuntimeWarning: An average reference projection was already added. The data has been left untouched.\n",
      "  epochs.set_eeg_reference(projection=True, verbose=verbose)#.apply_baseline(baseline=baseline)\n",
      "c:\\Users\\Lukas\\Documents\\projects\\esinet\\evaluate\\..\\esinet\\util\\util.py:420: RuntimeWarning: Too few samples (required : 310 got : 100), covariance estimate may be unreliable\n",
      "  data_cov = mne.compute_raw_covariance(raw, tmin=tmin,\n",
      "c:\\Users\\Lukas\\Documents\\projects\\esinet\\evaluate\\..\\esinet\\util\\util.py:388: RuntimeWarning: An average reference projection was already added. The data has been left untouched.\n",
      "  epochs.set_eeg_reference(projection=True, verbose=verbose)#.apply_baseline(baseline=baseline)\n"
     ]
    },
    {
     "name": "stdout",
     "output_type": "stream",
     "text": [
      "<RawArray | 61 x 518 (5.2 s), ~337 kB, data loaded> 4.0 info empirical\n",
      "<RawArray | 61 x 442 (4.4 s), ~300 kB, data loaded> 4.0 info empirical\n",
      "<RawArray | 61 x 405 (4.0 s), ~283 kB, data loaded> 4.0 info empirical\n",
      "<RawArray | 61 x 401 (4.0 s), ~281 kB, data loaded> 4.0 info empirical\n",
      "lcmv didnt work, returning zeros\n",
      "<RawArray | 61 x 513 (5.1 s), ~334 kB, data loaded> 4.0 info empirical\n"
     ]
    },
    {
     "name": "stderr",
     "output_type": "stream",
     "text": [
      "c:\\Users\\Lukas\\Documents\\projects\\esinet\\evaluate\\..\\esinet\\util\\util.py:420: RuntimeWarning: Too few samples (required : 310 got : 40), covariance estimate may be unreliable\n",
      "  data_cov = mne.compute_raw_covariance(raw, tmin=tmin,\n",
      "c:\\Users\\Lukas\\Documents\\projects\\esinet\\evaluate\\..\\esinet\\util\\util.py:388: RuntimeWarning: An average reference projection was already added. The data has been left untouched.\n",
      "  epochs.set_eeg_reference(projection=True, verbose=verbose)#.apply_baseline(baseline=baseline)\n",
      "c:\\Users\\Lukas\\Documents\\projects\\esinet\\evaluate\\..\\esinet\\util\\util.py:423: RuntimeWarning: Epochs are not baseline corrected, covariance matrix may be inaccurate\n",
      "  data_cov = mne.compute_covariance(epochs, tmin=0.0,\n",
      "c:\\Users\\Lukas\\Documents\\projects\\esinet\\evaluate\\..\\esinet\\util\\util.py:423: RuntimeWarning: Too few samples (required : 310 got : 5), covariance estimate may be unreliable\n",
      "  data_cov = mne.compute_covariance(epochs, tmin=0.0,\n",
      "c:\\Users\\Lukas\\Documents\\projects\\esinet\\evaluate\\..\\esinet\\util\\util.py:388: RuntimeWarning: An average reference projection was already added. The data has been left untouched.\n",
      "  epochs.set_eeg_reference(projection=True, verbose=verbose)#.apply_baseline(baseline=baseline)\n",
      "c:\\Users\\Lukas\\Documents\\projects\\esinet\\evaluate\\..\\esinet\\util\\util.py:423: RuntimeWarning: Epochs are not baseline corrected, covariance matrix may be inaccurate\n",
      "  data_cov = mne.compute_covariance(epochs, tmin=0.0,\n",
      "c:\\Users\\Lukas\\Documents\\projects\\esinet\\evaluate\\..\\esinet\\util\\util.py:423: RuntimeWarning: Too few samples (required : 310 got : 1), covariance estimate may be unreliable\n",
      "  data_cov = mne.compute_covariance(epochs, tmin=0.0,\n",
      "C:\\Users\\Lukas\\Envs\\esienv\\lib\\site-packages\\mne\\fixes.py:550: UserWarning: Only one sample available. You may want to reshape your data array\n",
      "  warnings.warn(\"Only one sample available. \"\n",
      "c:\\Users\\Lukas\\Documents\\projects\\esinet\\evaluate\\..\\esinet\\util\\util.py:388: RuntimeWarning: An average reference projection was already added. The data has been left untouched.\n",
      "  epochs.set_eeg_reference(projection=True, verbose=verbose)#.apply_baseline(baseline=baseline)\n",
      "c:\\Users\\Lukas\\Documents\\projects\\esinet\\evaluate\\..\\esinet\\util\\util.py:420: RuntimeWarning: Too few samples (required : 310 got : 100), covariance estimate may be unreliable\n",
      "  data_cov = mne.compute_raw_covariance(raw, tmin=tmin,\n",
      "c:\\Users\\Lukas\\Documents\\projects\\esinet\\evaluate\\..\\esinet\\util\\util.py:388: RuntimeWarning: An average reference projection was already added. The data has been left untouched.\n",
      "  epochs.set_eeg_reference(projection=True, verbose=verbose)#.apply_baseline(baseline=baseline)\n",
      "c:\\Users\\Lukas\\Documents\\projects\\esinet\\evaluate\\..\\esinet\\util\\util.py:423: RuntimeWarning: Epochs are not baseline corrected, covariance matrix may be inaccurate\n",
      "  data_cov = mne.compute_covariance(epochs, tmin=0.0,\n",
      "c:\\Users\\Lukas\\Documents\\projects\\esinet\\evaluate\\..\\esinet\\util\\util.py:423: RuntimeWarning: Too few samples (required : 310 got : 4), covariance estimate may be unreliable\n",
      "  data_cov = mne.compute_covariance(epochs, tmin=0.0,\n"
     ]
    },
    {
     "name": "stdout",
     "output_type": "stream",
     "text": [
      "<RawArray | 61 x 404 (4.0 s), ~282 kB, data loaded> 4.0 info empirical\n",
      "<RawArray | 61 x 410 (4.1 s), ~285 kB, data loaded> 4.0 info empirical\n",
      "<RawArray | 61 x 470 (4.7 s), ~314 kB, data loaded> 4.0 info empirical\n",
      "<RawArray | 61 x 436 (4.3 s), ~298 kB, data loaded> 4.0 info empirical\n"
     ]
    },
    {
     "name": "stderr",
     "output_type": "stream",
     "text": [
      "c:\\Users\\Lukas\\Documents\\projects\\esinet\\evaluate\\..\\esinet\\util\\util.py:388: RuntimeWarning: An average reference projection was already added. The data has been left untouched.\n",
      "  epochs.set_eeg_reference(projection=True, verbose=verbose)#.apply_baseline(baseline=baseline)\n",
      "c:\\Users\\Lukas\\Documents\\projects\\esinet\\evaluate\\..\\esinet\\util\\util.py:423: RuntimeWarning: Epochs are not baseline corrected, covariance matrix may be inaccurate\n",
      "  data_cov = mne.compute_covariance(epochs, tmin=0.0,\n",
      "c:\\Users\\Lukas\\Documents\\projects\\esinet\\evaluate\\..\\esinet\\util\\util.py:423: RuntimeWarning: Too few samples (required : 310 got : 10), covariance estimate may be unreliable\n",
      "  data_cov = mne.compute_covariance(epochs, tmin=0.0,\n",
      "c:\\Users\\Lukas\\Documents\\projects\\esinet\\evaluate\\..\\esinet\\util\\util.py:388: RuntimeWarning: An average reference projection was already added. The data has been left untouched.\n",
      "  epochs.set_eeg_reference(projection=True, verbose=verbose)#.apply_baseline(baseline=baseline)\n",
      "c:\\Users\\Lukas\\Documents\\projects\\esinet\\evaluate\\..\\esinet\\util\\util.py:420: RuntimeWarning: Too few samples (required : 310 got : 60), covariance estimate may be unreliable\n",
      "  data_cov = mne.compute_raw_covariance(raw, tmin=tmin,\n",
      "c:\\Users\\Lukas\\Documents\\projects\\esinet\\evaluate\\..\\esinet\\util\\util.py:388: RuntimeWarning: An average reference projection was already added. The data has been left untouched.\n",
      "  epochs.set_eeg_reference(projection=True, verbose=verbose)#.apply_baseline(baseline=baseline)\n",
      "c:\\Users\\Lukas\\Documents\\projects\\esinet\\evaluate\\..\\esinet\\util\\util.py:420: RuntimeWarning: Too few samples (required : 310 got : 20), covariance estimate may be unreliable\n",
      "  data_cov = mne.compute_raw_covariance(raw, tmin=tmin,\n",
      "c:\\Users\\Lukas\\Documents\\projects\\esinet\\evaluate\\..\\esinet\\util\\util.py:388: RuntimeWarning: An average reference projection was already added. The data has been left untouched.\n",
      "  epochs.set_eeg_reference(projection=True, verbose=verbose)#.apply_baseline(baseline=baseline)\n",
      "c:\\Users\\Lukas\\Documents\\projects\\esinet\\evaluate\\..\\esinet\\util\\util.py:420: RuntimeWarning: Too few samples (required : 310 got : 20), covariance estimate may be unreliable\n",
      "  data_cov = mne.compute_raw_covariance(raw, tmin=tmin,\n",
      "c:\\Users\\Lukas\\Documents\\projects\\esinet\\evaluate\\..\\esinet\\util\\util.py:388: RuntimeWarning: An average reference projection was already added. The data has been left untouched.\n",
      "  epochs.set_eeg_reference(projection=True, verbose=verbose)#.apply_baseline(baseline=baseline)\n"
     ]
    },
    {
     "name": "stdout",
     "output_type": "stream",
     "text": [
      "<RawArray | 61 x 428 (4.3 s), ~294 kB, data loaded> 4.0 info empirical\n",
      "<RawArray | 61 x 522 (5.2 s), ~339 kB, data loaded> 4.0 info empirical\n",
      "<RawArray | 61 x 511 (5.1 s), ~333 kB, data loaded> 4.0 info empirical\n",
      "<RawArray | 61 x 496 (5.0 s), ~326 kB, data loaded> 4.0 info empirical\n"
     ]
    },
    {
     "name": "stderr",
     "output_type": "stream",
     "text": [
      "c:\\Users\\Lukas\\Documents\\projects\\esinet\\evaluate\\..\\esinet\\util\\util.py:420: RuntimeWarning: Too few samples (required : 310 got : 120), covariance estimate may be unreliable\n",
      "  data_cov = mne.compute_raw_covariance(raw, tmin=tmin,\n",
      "c:\\Users\\Lukas\\Documents\\projects\\esinet\\evaluate\\..\\esinet\\util\\util.py:388: RuntimeWarning: An average reference projection was already added. The data has been left untouched.\n",
      "  epochs.set_eeg_reference(projection=True, verbose=verbose)#.apply_baseline(baseline=baseline)\n",
      "c:\\Users\\Lukas\\Documents\\projects\\esinet\\evaluate\\..\\esinet\\util\\util.py:420: RuntimeWarning: Too few samples (required : 310 got : 100), covariance estimate may be unreliable\n",
      "  data_cov = mne.compute_raw_covariance(raw, tmin=tmin,\n",
      "c:\\Users\\Lukas\\Documents\\projects\\esinet\\evaluate\\..\\esinet\\util\\util.py:388: RuntimeWarning: An average reference projection was already added. The data has been left untouched.\n",
      "  epochs.set_eeg_reference(projection=True, verbose=verbose)#.apply_baseline(baseline=baseline)\n",
      "c:\\Users\\Lukas\\Documents\\projects\\esinet\\evaluate\\..\\esinet\\util\\util.py:420: RuntimeWarning: Too few samples (required : 310 got : 80), covariance estimate may be unreliable\n",
      "  data_cov = mne.compute_raw_covariance(raw, tmin=tmin,\n",
      "c:\\Users\\Lukas\\Documents\\projects\\esinet\\evaluate\\..\\esinet\\util\\util.py:388: RuntimeWarning: An average reference projection was already added. The data has been left untouched.\n",
      "  epochs.set_eeg_reference(projection=True, verbose=verbose)#.apply_baseline(baseline=baseline)\n",
      "c:\\Users\\Lukas\\Documents\\projects\\esinet\\evaluate\\..\\esinet\\util\\util.py:420: RuntimeWarning: Too few samples (required : 310 got : 100), covariance estimate may be unreliable\n",
      "  data_cov = mne.compute_raw_covariance(raw, tmin=tmin,\n",
      "c:\\Users\\Lukas\\Documents\\projects\\esinet\\evaluate\\..\\esinet\\util\\util.py:388: RuntimeWarning: An average reference projection was already added. The data has been left untouched.\n",
      "  epochs.set_eeg_reference(projection=True, verbose=verbose)#.apply_baseline(baseline=baseline)\n"
     ]
    },
    {
     "name": "stdout",
     "output_type": "stream",
     "text": [
      "<RawArray | 61 x 504 (5.0 s), ~330 kB, data loaded> 4.0 info empirical\n",
      "<RawArray | 61 x 508 (5.1 s), ~332 kB, data loaded> 4.0 info empirical\n",
      "<RawArray | 61 x 580 (5.8 s), ~366 kB, data loaded> 4.0 info empirical\n",
      "<RawArray | 61 x 559 (5.6 s), ~356 kB, data loaded> 4.0 info empirical\n"
     ]
    },
    {
     "name": "stderr",
     "output_type": "stream",
     "text": [
      "c:\\Users\\Lukas\\Documents\\projects\\esinet\\evaluate\\..\\esinet\\util\\util.py:420: RuntimeWarning: Too few samples (required : 310 got : 100), covariance estimate may be unreliable\n",
      "  data_cov = mne.compute_raw_covariance(raw, tmin=tmin,\n",
      "c:\\Users\\Lukas\\Documents\\projects\\esinet\\evaluate\\..\\esinet\\util\\util.py:388: RuntimeWarning: An average reference projection was already added. The data has been left untouched.\n",
      "  epochs.set_eeg_reference(projection=True, verbose=verbose)#.apply_baseline(baseline=baseline)\n",
      "c:\\Users\\Lukas\\Documents\\projects\\esinet\\evaluate\\..\\esinet\\util\\util.py:420: RuntimeWarning: Too few samples (required : 310 got : 180), covariance estimate may be unreliable\n",
      "  data_cov = mne.compute_raw_covariance(raw, tmin=tmin,\n",
      "c:\\Users\\Lukas\\Documents\\projects\\esinet\\evaluate\\..\\esinet\\util\\util.py:388: RuntimeWarning: An average reference projection was already added. The data has been left untouched.\n",
      "  epochs.set_eeg_reference(projection=True, verbose=verbose)#.apply_baseline(baseline=baseline)\n",
      "c:\\Users\\Lukas\\Documents\\projects\\esinet\\evaluate\\..\\esinet\\util\\util.py:420: RuntimeWarning: Too few samples (required : 310 got : 140), covariance estimate may be unreliable\n",
      "  data_cov = mne.compute_raw_covariance(raw, tmin=tmin,\n",
      "c:\\Users\\Lukas\\Documents\\projects\\esinet\\evaluate\\..\\esinet\\util\\util.py:388: RuntimeWarning: An average reference projection was already added. The data has been left untouched.\n",
      "  epochs.set_eeg_reference(projection=True, verbose=verbose)#.apply_baseline(baseline=baseline)\n"
     ]
    },
    {
     "name": "stdout",
     "output_type": "stream",
     "text": [
      "<RawArray | 61 x 584 (5.8 s), ~368 kB, data loaded> 4.0 info empirical\n",
      "<RawArray | 61 x 579 (5.8 s), ~366 kB, data loaded> 4.0 info empirical\n",
      "<RawArray | 61 x 576 (5.8 s), ~364 kB, data loaded> 4.0 info empirical\n",
      "<RawArray | 61 x 532 (5.3 s), ~343 kB, data loaded> 4.0 info empirical\n"
     ]
    },
    {
     "name": "stderr",
     "output_type": "stream",
     "text": [
      "c:\\Users\\Lukas\\Documents\\projects\\esinet\\evaluate\\..\\esinet\\util\\util.py:420: RuntimeWarning: Too few samples (required : 310 got : 180), covariance estimate may be unreliable\n",
      "  data_cov = mne.compute_raw_covariance(raw, tmin=tmin,\n",
      "c:\\Users\\Lukas\\Documents\\projects\\esinet\\evaluate\\..\\esinet\\util\\util.py:388: RuntimeWarning: An average reference projection was already added. The data has been left untouched.\n",
      "  epochs.set_eeg_reference(projection=True, verbose=verbose)#.apply_baseline(baseline=baseline)\n",
      "c:\\Users\\Lukas\\Documents\\projects\\esinet\\evaluate\\..\\esinet\\util\\util.py:420: RuntimeWarning: Too few samples (required : 310 got : 160), covariance estimate may be unreliable\n",
      "  data_cov = mne.compute_raw_covariance(raw, tmin=tmin,\n",
      "c:\\Users\\Lukas\\Documents\\projects\\esinet\\evaluate\\..\\esinet\\util\\util.py:388: RuntimeWarning: An average reference projection was already added. The data has been left untouched.\n",
      "  epochs.set_eeg_reference(projection=True, verbose=verbose)#.apply_baseline(baseline=baseline)\n",
      "c:\\Users\\Lukas\\Documents\\projects\\esinet\\evaluate\\..\\esinet\\util\\util.py:420: RuntimeWarning: Too few samples (required : 310 got : 160), covariance estimate may be unreliable\n",
      "  data_cov = mne.compute_raw_covariance(raw, tmin=tmin,\n",
      "c:\\Users\\Lukas\\Documents\\projects\\esinet\\evaluate\\..\\esinet\\util\\util.py:388: RuntimeWarning: An average reference projection was already added. The data has been left untouched.\n",
      "  epochs.set_eeg_reference(projection=True, verbose=verbose)#.apply_baseline(baseline=baseline)\n",
      "c:\\Users\\Lukas\\Documents\\projects\\esinet\\evaluate\\..\\esinet\\util\\util.py:420: RuntimeWarning: Too few samples (required : 310 got : 120), covariance estimate may be unreliable\n",
      "  data_cov = mne.compute_raw_covariance(raw, tmin=tmin,\n"
     ]
    },
    {
     "name": "stdout",
     "output_type": "stream",
     "text": [
      "<RawArray | 61 x 421 (4.2 s), ~290 kB, data loaded> 4.0 info empirical\n",
      "<RawArray | 61 x 508 (5.1 s), ~332 kB, data loaded> 4.0 info empirical\n",
      "<RawArray | 61 x 515 (5.1 s), ~335 kB, data loaded> 4.0 info empirical\n",
      "<RawArray | 61 x 571 (5.7 s), ~362 kB, data loaded> 4.0 info empirical\n"
     ]
    },
    {
     "name": "stderr",
     "output_type": "stream",
     "text": [
      "c:\\Users\\Lukas\\Documents\\projects\\esinet\\evaluate\\..\\esinet\\util\\util.py:388: RuntimeWarning: An average reference projection was already added. The data has been left untouched.\n",
      "  epochs.set_eeg_reference(projection=True, verbose=verbose)#.apply_baseline(baseline=baseline)\n",
      "c:\\Users\\Lukas\\Documents\\projects\\esinet\\evaluate\\..\\esinet\\util\\util.py:420: RuntimeWarning: Too few samples (required : 310 got : 20), covariance estimate may be unreliable\n",
      "  data_cov = mne.compute_raw_covariance(raw, tmin=tmin,\n",
      "c:\\Users\\Lukas\\Documents\\projects\\esinet\\evaluate\\..\\esinet\\util\\util.py:388: RuntimeWarning: An average reference projection was already added. The data has been left untouched.\n",
      "  epochs.set_eeg_reference(projection=True, verbose=verbose)#.apply_baseline(baseline=baseline)\n",
      "c:\\Users\\Lukas\\Documents\\projects\\esinet\\evaluate\\..\\esinet\\util\\util.py:420: RuntimeWarning: Too few samples (required : 310 got : 100), covariance estimate may be unreliable\n",
      "  data_cov = mne.compute_raw_covariance(raw, tmin=tmin,\n",
      "c:\\Users\\Lukas\\Documents\\projects\\esinet\\evaluate\\..\\esinet\\util\\util.py:388: RuntimeWarning: An average reference projection was already added. The data has been left untouched.\n",
      "  epochs.set_eeg_reference(projection=True, verbose=verbose)#.apply_baseline(baseline=baseline)\n",
      "c:\\Users\\Lukas\\Documents\\projects\\esinet\\evaluate\\..\\esinet\\util\\util.py:420: RuntimeWarning: Too few samples (required : 310 got : 100), covariance estimate may be unreliable\n",
      "  data_cov = mne.compute_raw_covariance(raw, tmin=tmin,\n",
      "c:\\Users\\Lukas\\Documents\\projects\\esinet\\evaluate\\..\\esinet\\util\\util.py:388: RuntimeWarning: An average reference projection was already added. The data has been left untouched.\n",
      "  epochs.set_eeg_reference(projection=True, verbose=verbose)#.apply_baseline(baseline=baseline)\n",
      "c:\\Users\\Lukas\\Documents\\projects\\esinet\\evaluate\\..\\esinet\\util\\util.py:420: RuntimeWarning: Too few samples (required : 310 got : 160), covariance estimate may be unreliable\n",
      "  data_cov = mne.compute_raw_covariance(raw, tmin=tmin,\n",
      "c:\\Users\\Lukas\\Documents\\projects\\esinet\\evaluate\\..\\esinet\\util\\util.py:388: RuntimeWarning: An average reference projection was already added. The data has been left untouched.\n",
      "  epochs.set_eeg_reference(projection=True, verbose=verbose)#.apply_baseline(baseline=baseline)\n"
     ]
    },
    {
     "name": "stdout",
     "output_type": "stream",
     "text": [
      "<RawArray | 61 x 408 (4.1 s), ~284 kB, data loaded> 4.0 info empirical\n",
      "<RawArray | 61 x 482 (4.8 s), ~320 kB, data loaded> 4.0 info empirical\n",
      "<RawArray | 61 x 541 (5.4 s), ~348 kB, data loaded> 4.0 info empirical\n",
      "<RawArray | 61 x 544 (5.4 s), ~349 kB, data loaded> 4.0 info empirical\n"
     ]
    },
    {
     "name": "stderr",
     "output_type": "stream",
     "text": [
      "c:\\Users\\Lukas\\Documents\\projects\\esinet\\evaluate\\..\\esinet\\util\\util.py:423: RuntimeWarning: Epochs are not baseline corrected, covariance matrix may be inaccurate\n",
      "  data_cov = mne.compute_covariance(epochs, tmin=0.0,\n",
      "c:\\Users\\Lukas\\Documents\\projects\\esinet\\evaluate\\..\\esinet\\util\\util.py:423: RuntimeWarning: Too few samples (required : 310 got : 8), covariance estimate may be unreliable\n",
      "  data_cov = mne.compute_covariance(epochs, tmin=0.0,\n",
      "c:\\Users\\Lukas\\Documents\\projects\\esinet\\evaluate\\..\\esinet\\util\\util.py:388: RuntimeWarning: An average reference projection was already added. The data has been left untouched.\n",
      "  epochs.set_eeg_reference(projection=True, verbose=verbose)#.apply_baseline(baseline=baseline)\n",
      "c:\\Users\\Lukas\\Documents\\projects\\esinet\\evaluate\\..\\esinet\\util\\util.py:420: RuntimeWarning: Too few samples (required : 310 got : 80), covariance estimate may be unreliable\n",
      "  data_cov = mne.compute_raw_covariance(raw, tmin=tmin,\n",
      "c:\\Users\\Lukas\\Documents\\projects\\esinet\\evaluate\\..\\esinet\\util\\util.py:388: RuntimeWarning: An average reference projection was already added. The data has been left untouched.\n",
      "  epochs.set_eeg_reference(projection=True, verbose=verbose)#.apply_baseline(baseline=baseline)\n",
      "c:\\Users\\Lukas\\Documents\\projects\\esinet\\evaluate\\..\\esinet\\util\\util.py:420: RuntimeWarning: Too few samples (required : 310 got : 140), covariance estimate may be unreliable\n",
      "  data_cov = mne.compute_raw_covariance(raw, tmin=tmin,\n",
      "c:\\Users\\Lukas\\Documents\\projects\\esinet\\evaluate\\..\\esinet\\util\\util.py:388: RuntimeWarning: An average reference projection was already added. The data has been left untouched.\n",
      "  epochs.set_eeg_reference(projection=True, verbose=verbose)#.apply_baseline(baseline=baseline)\n",
      "c:\\Users\\Lukas\\Documents\\projects\\esinet\\evaluate\\..\\esinet\\util\\util.py:420: RuntimeWarning: Too few samples (required : 310 got : 140), covariance estimate may be unreliable\n",
      "  data_cov = mne.compute_raw_covariance(raw, tmin=tmin,\n",
      "c:\\Users\\Lukas\\Documents\\projects\\esinet\\evaluate\\..\\esinet\\util\\util.py:388: RuntimeWarning: An average reference projection was already added. The data has been left untouched.\n",
      "  epochs.set_eeg_reference(projection=True, verbose=verbose)#.apply_baseline(baseline=baseline)\n"
     ]
    },
    {
     "name": "stdout",
     "output_type": "stream",
     "text": [
      "<RawArray | 61 x 434 (4.3 s), ~297 kB, data loaded> 4.0 info empirical\n",
      "<RawArray | 61 x 527 (5.3 s), ~341 kB, data loaded> 4.0 info empirical\n",
      "<RawArray | 61 x 531 (5.3 s), ~343 kB, data loaded> 4.0 info empirical\n",
      "<RawArray | 61 x 580 (5.8 s), ~366 kB, data loaded> 4.0 info empirical\n"
     ]
    },
    {
     "name": "stderr",
     "output_type": "stream",
     "text": [
      "c:\\Users\\Lukas\\Documents\\projects\\esinet\\evaluate\\..\\esinet\\util\\util.py:420: RuntimeWarning: Too few samples (required : 310 got : 20), covariance estimate may be unreliable\n",
      "  data_cov = mne.compute_raw_covariance(raw, tmin=tmin,\n",
      "c:\\Users\\Lukas\\Documents\\projects\\esinet\\evaluate\\..\\esinet\\util\\util.py:388: RuntimeWarning: An average reference projection was already added. The data has been left untouched.\n",
      "  epochs.set_eeg_reference(projection=True, verbose=verbose)#.apply_baseline(baseline=baseline)\n",
      "c:\\Users\\Lukas\\Documents\\projects\\esinet\\evaluate\\..\\esinet\\util\\util.py:420: RuntimeWarning: Too few samples (required : 310 got : 120), covariance estimate may be unreliable\n",
      "  data_cov = mne.compute_raw_covariance(raw, tmin=tmin,\n",
      "c:\\Users\\Lukas\\Documents\\projects\\esinet\\evaluate\\..\\esinet\\util\\util.py:388: RuntimeWarning: An average reference projection was already added. The data has been left untouched.\n",
      "  epochs.set_eeg_reference(projection=True, verbose=verbose)#.apply_baseline(baseline=baseline)\n",
      "c:\\Users\\Lukas\\Documents\\projects\\esinet\\evaluate\\..\\esinet\\util\\util.py:420: RuntimeWarning: Too few samples (required : 310 got : 120), covariance estimate may be unreliable\n",
      "  data_cov = mne.compute_raw_covariance(raw, tmin=tmin,\n",
      "c:\\Users\\Lukas\\Documents\\projects\\esinet\\evaluate\\..\\esinet\\util\\util.py:388: RuntimeWarning: An average reference projection was already added. The data has been left untouched.\n",
      "  epochs.set_eeg_reference(projection=True, verbose=verbose)#.apply_baseline(baseline=baseline)\n",
      "c:\\Users\\Lukas\\Documents\\projects\\esinet\\evaluate\\..\\esinet\\util\\util.py:420: RuntimeWarning: Too few samples (required : 310 got : 180), covariance estimate may be unreliable\n",
      "  data_cov = mne.compute_raw_covariance(raw, tmin=tmin,\n",
      "c:\\Users\\Lukas\\Documents\\projects\\esinet\\evaluate\\..\\esinet\\util\\util.py:388: RuntimeWarning: An average reference projection was already added. The data has been left untouched.\n",
      "  epochs.set_eeg_reference(projection=True, verbose=verbose)#.apply_baseline(baseline=baseline)\n"
     ]
    },
    {
     "name": "stdout",
     "output_type": "stream",
     "text": [
      "<RawArray | 61 x 594 (5.9 s), ~373 kB, data loaded> 4.0 info empirical\n",
      "<RawArray | 61 x 579 (5.8 s), ~366 kB, data loaded> 4.0 info empirical\n",
      "<RawArray | 61 x 590 (5.9 s), ~371 kB, data loaded> 4.0 info empirical\n",
      "<RawArray | 61 x 522 (5.2 s), ~339 kB, data loaded> 4.0 info empirical\n"
     ]
    },
    {
     "name": "stderr",
     "output_type": "stream",
     "text": [
      "c:\\Users\\Lukas\\Documents\\projects\\esinet\\evaluate\\..\\esinet\\util\\util.py:420: RuntimeWarning: Too few samples (required : 310 got : 180), covariance estimate may be unreliable\n",
      "  data_cov = mne.compute_raw_covariance(raw, tmin=tmin,\n",
      "c:\\Users\\Lukas\\Documents\\projects\\esinet\\evaluate\\..\\esinet\\util\\util.py:388: RuntimeWarning: An average reference projection was already added. The data has been left untouched.\n",
      "  epochs.set_eeg_reference(projection=True, verbose=verbose)#.apply_baseline(baseline=baseline)\n",
      "c:\\Users\\Lukas\\Documents\\projects\\esinet\\evaluate\\..\\esinet\\util\\util.py:420: RuntimeWarning: Too few samples (required : 310 got : 160), covariance estimate may be unreliable\n",
      "  data_cov = mne.compute_raw_covariance(raw, tmin=tmin,\n",
      "c:\\Users\\Lukas\\Documents\\projects\\esinet\\evaluate\\..\\esinet\\util\\util.py:388: RuntimeWarning: An average reference projection was already added. The data has been left untouched.\n",
      "  epochs.set_eeg_reference(projection=True, verbose=verbose)#.apply_baseline(baseline=baseline)\n",
      "c:\\Users\\Lukas\\Documents\\projects\\esinet\\evaluate\\..\\esinet\\util\\util.py:420: RuntimeWarning: Too few samples (required : 310 got : 180), covariance estimate may be unreliable\n",
      "  data_cov = mne.compute_raw_covariance(raw, tmin=tmin,\n",
      "c:\\Users\\Lukas\\Documents\\projects\\esinet\\evaluate\\..\\esinet\\util\\util.py:388: RuntimeWarning: An average reference projection was already added. The data has been left untouched.\n",
      "  epochs.set_eeg_reference(projection=True, verbose=verbose)#.apply_baseline(baseline=baseline)\n",
      "c:\\Users\\Lukas\\Documents\\projects\\esinet\\evaluate\\..\\esinet\\util\\util.py:420: RuntimeWarning: Too few samples (required : 310 got : 120), covariance estimate may be unreliable\n",
      "  data_cov = mne.compute_raw_covariance(raw, tmin=tmin,\n",
      "c:\\Users\\Lukas\\Documents\\projects\\esinet\\evaluate\\..\\esinet\\util\\util.py:388: RuntimeWarning: An average reference projection was already added. The data has been left untouched.\n",
      "  epochs.set_eeg_reference(projection=True, verbose=verbose)#.apply_baseline(baseline=baseline)\n",
      "c:\\Users\\Lukas\\Documents\\projects\\esinet\\evaluate\\..\\esinet\\util\\util.py:420: RuntimeWarning: Too few samples (required : 310 got : 80), covariance estimate may be unreliable\n",
      "  data_cov = mne.compute_raw_covariance(raw, tmin=tmin,\n",
      "c:\\Users\\Lukas\\Documents\\projects\\esinet\\evaluate\\..\\esinet\\util\\util.py:388: RuntimeWarning: An average reference projection was already added. The data has been left untouched.\n",
      "  epochs.set_eeg_reference(projection=True, verbose=verbose)#.apply_baseline(baseline=baseline)\n",
      "c:\\Users\\Lukas\\Documents\\projects\\esinet\\evaluate\\..\\esinet\\util\\util.py:420: RuntimeWarning: Too few samples (required : 310 got : 20), covariance estimate may be unreliable\n",
      "  data_cov = mne.compute_raw_covariance(raw, tmin=tmin,\n",
      "c:\\Users\\Lukas\\Documents\\projects\\esinet\\evaluate\\..\\esinet\\util\\util.py:388: RuntimeWarning: An average reference projection was already added. The data has been left untouched.\n",
      "  epochs.set_eeg_reference(projection=True, verbose=verbose)#.apply_baseline(baseline=baseline)\n",
      "c:\\Users\\Lukas\\Documents\\projects\\esinet\\evaluate\\..\\esinet\\util\\util.py:420: RuntimeWarning: Too few samples (required : 310 got : 20), covariance estimate may be unreliable\n",
      "  data_cov = mne.compute_raw_covariance(raw, tmin=tmin,\n",
      "c:\\Users\\Lukas\\Documents\\projects\\esinet\\evaluate\\..\\esinet\\util\\util.py:388: RuntimeWarning: An average reference projection was already added. The data has been left untouched.\n",
      "  epochs.set_eeg_reference(projection=True, verbose=verbose)#.apply_baseline(baseline=baseline)\n",
      "c:\\Users\\Lukas\\Documents\\projects\\esinet\\evaluate\\..\\esinet\\util\\util.py:420: RuntimeWarning: Too few samples (required : 310 got : 80), covariance estimate may be unreliable\n",
      "  data_cov = mne.compute_raw_covariance(raw, tmin=tmin,\n",
      "c:\\Users\\Lukas\\Documents\\projects\\esinet\\evaluate\\..\\esinet\\util\\util.py:388: RuntimeWarning: An average reference projection was already added. The data has been left untouched.\n",
      "  epochs.set_eeg_reference(projection=True, verbose=verbose)#.apply_baseline(baseline=baseline)\n"
     ]
    },
    {
     "name": "stdout",
     "output_type": "stream",
     "text": [
      "<RawArray | 61 x 499 (5.0 s), ~328 kB, data loaded> 4.0 info empirical\n",
      "<RawArray | 61 x 431 (4.3 s), ~295 kB, data loaded> 4.0 info empirical\n",
      "<RawArray | 61 x 437 (4.4 s), ~298 kB, data loaded> 4.0 info empirical\n",
      "<RawArray | 61 x 487 (4.9 s), ~322 kB, data loaded> 4.0 info empirical\n",
      "<RawArray | 61 x 599 (6.0 s), ~375 kB, data loaded> 4.0 info empirical\n",
      "<RawArray | 61 x 565 (5.6 s), ~359 kB, data loaded> 4.0 info empirical\n",
      "<RawArray | 61 x 477 (4.8 s), ~317 kB, data loaded> 4.0 info empirical\n",
      "<RawArray | 61 x 484 (4.8 s), ~320 kB, data loaded> 4.0 info empirical\n"
     ]
    },
    {
     "name": "stderr",
     "output_type": "stream",
     "text": [
      "c:\\Users\\Lukas\\Documents\\projects\\esinet\\evaluate\\..\\esinet\\util\\util.py:420: RuntimeWarning: Too few samples (required : 310 got : 180), covariance estimate may be unreliable\n",
      "  data_cov = mne.compute_raw_covariance(raw, tmin=tmin,\n",
      "c:\\Users\\Lukas\\Documents\\projects\\esinet\\evaluate\\..\\esinet\\util\\util.py:388: RuntimeWarning: An average reference projection was already added. The data has been left untouched.\n",
      "  epochs.set_eeg_reference(projection=True, verbose=verbose)#.apply_baseline(baseline=baseline)\n",
      "c:\\Users\\Lukas\\Documents\\projects\\esinet\\evaluate\\..\\esinet\\util\\util.py:420: RuntimeWarning: Too few samples (required : 310 got : 160), covariance estimate may be unreliable\n",
      "  data_cov = mne.compute_raw_covariance(raw, tmin=tmin,\n",
      "c:\\Users\\Lukas\\Documents\\projects\\esinet\\evaluate\\..\\esinet\\util\\util.py:388: RuntimeWarning: An average reference projection was already added. The data has been left untouched.\n",
      "  epochs.set_eeg_reference(projection=True, verbose=verbose)#.apply_baseline(baseline=baseline)\n",
      "c:\\Users\\Lukas\\Documents\\projects\\esinet\\evaluate\\..\\esinet\\util\\util.py:420: RuntimeWarning: Too few samples (required : 310 got : 60), covariance estimate may be unreliable\n",
      "  data_cov = mne.compute_raw_covariance(raw, tmin=tmin,\n",
      "c:\\Users\\Lukas\\Documents\\projects\\esinet\\evaluate\\..\\esinet\\util\\util.py:388: RuntimeWarning: An average reference projection was already added. The data has been left untouched.\n",
      "  epochs.set_eeg_reference(projection=True, verbose=verbose)#.apply_baseline(baseline=baseline)\n",
      "c:\\Users\\Lukas\\Documents\\projects\\esinet\\evaluate\\..\\esinet\\util\\util.py:420: RuntimeWarning: Too few samples (required : 310 got : 80), covariance estimate may be unreliable\n",
      "  data_cov = mne.compute_raw_covariance(raw, tmin=tmin,\n",
      "c:\\Users\\Lukas\\Documents\\projects\\esinet\\evaluate\\..\\esinet\\util\\util.py:388: RuntimeWarning: An average reference projection was already added. The data has been left untouched.\n",
      "  epochs.set_eeg_reference(projection=True, verbose=verbose)#.apply_baseline(baseline=baseline)\n"
     ]
    },
    {
     "name": "stdout",
     "output_type": "stream",
     "text": [
      "<RawArray | 61 x 525 (5.2 s), ~340 kB, data loaded> 4.0 info empirical\n",
      "<RawArray | 61 x 424 (4.2 s), ~292 kB, data loaded> 4.0 info empirical\n",
      "<RawArray | 61 x 517 (5.2 s), ~336 kB, data loaded> 4.0 info empirical\n",
      "<RawArray | 61 x 538 (5.4 s), ~346 kB, data loaded> 4.0 info empirical\n",
      "<RawArray | 61 x 493 (4.9 s), ~325 kB, data loaded> 4.0 info empirical\n"
     ]
    },
    {
     "name": "stderr",
     "output_type": "stream",
     "text": [
      "c:\\Users\\Lukas\\Documents\\projects\\esinet\\evaluate\\..\\esinet\\util\\util.py:420: RuntimeWarning: Too few samples (required : 310 got : 120), covariance estimate may be unreliable\n",
      "  data_cov = mne.compute_raw_covariance(raw, tmin=tmin,\n",
      "c:\\Users\\Lukas\\Documents\\projects\\esinet\\evaluate\\..\\esinet\\util\\util.py:388: RuntimeWarning: An average reference projection was already added. The data has been left untouched.\n",
      "  epochs.set_eeg_reference(projection=True, verbose=verbose)#.apply_baseline(baseline=baseline)\n",
      "c:\\Users\\Lukas\\Documents\\projects\\esinet\\evaluate\\..\\esinet\\util\\util.py:420: RuntimeWarning: Too few samples (required : 310 got : 20), covariance estimate may be unreliable\n",
      "  data_cov = mne.compute_raw_covariance(raw, tmin=tmin,\n",
      "c:\\Users\\Lukas\\Documents\\projects\\esinet\\evaluate\\..\\esinet\\util\\util.py:388: RuntimeWarning: An average reference projection was already added. The data has been left untouched.\n",
      "  epochs.set_eeg_reference(projection=True, verbose=verbose)#.apply_baseline(baseline=baseline)\n",
      "c:\\Users\\Lukas\\Documents\\projects\\esinet\\evaluate\\..\\esinet\\util\\util.py:420: RuntimeWarning: Too few samples (required : 310 got : 100), covariance estimate may be unreliable\n",
      "  data_cov = mne.compute_raw_covariance(raw, tmin=tmin,\n",
      "c:\\Users\\Lukas\\Documents\\projects\\esinet\\evaluate\\..\\esinet\\util\\util.py:388: RuntimeWarning: An average reference projection was already added. The data has been left untouched.\n",
      "  epochs.set_eeg_reference(projection=True, verbose=verbose)#.apply_baseline(baseline=baseline)\n",
      "c:\\Users\\Lukas\\Documents\\projects\\esinet\\evaluate\\..\\esinet\\util\\util.py:420: RuntimeWarning: Too few samples (required : 310 got : 120), covariance estimate may be unreliable\n",
      "  data_cov = mne.compute_raw_covariance(raw, tmin=tmin,\n",
      "c:\\Users\\Lukas\\Documents\\projects\\esinet\\evaluate\\..\\esinet\\util\\util.py:388: RuntimeWarning: An average reference projection was already added. The data has been left untouched.\n",
      "  epochs.set_eeg_reference(projection=True, verbose=verbose)#.apply_baseline(baseline=baseline)\n",
      "c:\\Users\\Lukas\\Documents\\projects\\esinet\\evaluate\\..\\esinet\\util\\util.py:420: RuntimeWarning: Too few samples (required : 310 got : 80), covariance estimate may be unreliable\n",
      "  data_cov = mne.compute_raw_covariance(raw, tmin=tmin,\n",
      "c:\\Users\\Lukas\\Documents\\projects\\esinet\\evaluate\\..\\esinet\\util\\util.py:388: RuntimeWarning: An average reference projection was already added. The data has been left untouched.\n",
      "  epochs.set_eeg_reference(projection=True, verbose=verbose)#.apply_baseline(baseline=baseline)\n",
      "c:\\Users\\Lukas\\Documents\\projects\\esinet\\evaluate\\..\\esinet\\util\\util.py:420: RuntimeWarning: Too few samples (required : 310 got : 160), covariance estimate may be unreliable\n",
      "  data_cov = mne.compute_raw_covariance(raw, tmin=tmin,\n",
      "c:\\Users\\Lukas\\Documents\\projects\\esinet\\evaluate\\..\\esinet\\util\\util.py:388: RuntimeWarning: An average reference projection was already added. The data has been left untouched.\n",
      "  epochs.set_eeg_reference(projection=True, verbose=verbose)#.apply_baseline(baseline=baseline)\n",
      "c:\\Users\\Lukas\\Documents\\projects\\esinet\\evaluate\\..\\esinet\\util\\util.py:420: RuntimeWarning: Too few samples (required : 310 got : 80), covariance estimate may be unreliable\n",
      "  data_cov = mne.compute_raw_covariance(raw, tmin=tmin,\n",
      "c:\\Users\\Lukas\\Documents\\projects\\esinet\\evaluate\\..\\esinet\\util\\util.py:388: RuntimeWarning: An average reference projection was already added. The data has been left untouched.\n",
      "  epochs.set_eeg_reference(projection=True, verbose=verbose)#.apply_baseline(baseline=baseline)\n",
      "c:\\Users\\Lukas\\Documents\\projects\\esinet\\evaluate\\..\\esinet\\util\\util.py:420: RuntimeWarning: Too few samples (required : 310 got : 140), covariance estimate may be unreliable\n",
      "  data_cov = mne.compute_raw_covariance(raw, tmin=tmin,\n",
      "c:\\Users\\Lukas\\Documents\\projects\\esinet\\evaluate\\..\\esinet\\util\\util.py:388: RuntimeWarning: An average reference projection was already added. The data has been left untouched.\n",
      "  epochs.set_eeg_reference(projection=True, verbose=verbose)#.apply_baseline(baseline=baseline)\n"
     ]
    },
    {
     "name": "stdout",
     "output_type": "stream",
     "text": [
      "<RawArray | 61 x 560 (5.6 s), ~357 kB, data loaded> 4.0 info empirical\n",
      "<RawArray | 61 x 481 (4.8 s), ~319 kB, data loaded> 4.0 info empirical\n",
      "<RawArray | 61 x 543 (5.4 s), ~349 kB, data loaded> 4.0 info empirical\n",
      "<RawArray | 61 x 557 (5.6 s), ~355 kB, data loaded> 4.0 info empirical\n"
     ]
    },
    {
     "name": "stderr",
     "output_type": "stream",
     "text": [
      "c:\\Users\\Lukas\\Documents\\projects\\esinet\\evaluate\\..\\esinet\\util\\util.py:420: RuntimeWarning: Too few samples (required : 310 got : 140), covariance estimate may be unreliable\n",
      "  data_cov = mne.compute_raw_covariance(raw, tmin=tmin,\n",
      "c:\\Users\\Lukas\\Documents\\projects\\esinet\\evaluate\\..\\esinet\\util\\util.py:388: RuntimeWarning: An average reference projection was already added. The data has been left untouched.\n",
      "  epochs.set_eeg_reference(projection=True, verbose=verbose)#.apply_baseline(baseline=baseline)\n",
      "c:\\Users\\Lukas\\Documents\\projects\\esinet\\evaluate\\..\\esinet\\util\\util.py:420: RuntimeWarning: Too few samples (required : 310 got : 140), covariance estimate may be unreliable\n",
      "  data_cov = mne.compute_raw_covariance(raw, tmin=tmin,\n",
      "c:\\Users\\Lukas\\Documents\\projects\\esinet\\evaluate\\..\\esinet\\util\\util.py:388: RuntimeWarning: An average reference projection was already added. The data has been left untouched.\n",
      "  epochs.set_eeg_reference(projection=True, verbose=verbose)#.apply_baseline(baseline=baseline)\n",
      "c:\\Users\\Lukas\\Documents\\projects\\esinet\\evaluate\\..\\esinet\\util\\util.py:420: RuntimeWarning: Too few samples (required : 310 got : 80), covariance estimate may be unreliable\n",
      "  data_cov = mne.compute_raw_covariance(raw, tmin=tmin,\n",
      "c:\\Users\\Lukas\\Documents\\projects\\esinet\\evaluate\\..\\esinet\\util\\util.py:388: RuntimeWarning: An average reference projection was already added. The data has been left untouched.\n",
      "  epochs.set_eeg_reference(projection=True, verbose=verbose)#.apply_baseline(baseline=baseline)\n",
      "c:\\Users\\Lukas\\Documents\\projects\\esinet\\evaluate\\..\\esinet\\util\\util.py:420: RuntimeWarning: Too few samples (required : 310 got : 60), covariance estimate may be unreliable\n",
      "  data_cov = mne.compute_raw_covariance(raw, tmin=tmin,\n"
     ]
    },
    {
     "name": "stdout",
     "output_type": "stream",
     "text": [
      "<RawArray | 61 x 546 (5.5 s), ~350 kB, data loaded> 4.0 info empirical\n",
      "<RawArray | 61 x 495 (4.9 s), ~326 kB, data loaded> 4.0 info empirical\n",
      "<RawArray | 61 x 479 (4.8 s), ~318 kB, data loaded> 4.0 info empirical\n",
      "<RawArray | 61 x 561 (5.6 s), ~357 kB, data loaded> 4.0 info empirical\n"
     ]
    },
    {
     "name": "stderr",
     "output_type": "stream",
     "text": [
      "c:\\Users\\Lukas\\Documents\\projects\\esinet\\evaluate\\..\\esinet\\util\\util.py:388: RuntimeWarning: An average reference projection was already added. The data has been left untouched.\n",
      "  epochs.set_eeg_reference(projection=True, verbose=verbose)#.apply_baseline(baseline=baseline)\n",
      "c:\\Users\\Lukas\\Documents\\projects\\esinet\\evaluate\\..\\esinet\\util\\util.py:420: RuntimeWarning: Too few samples (required : 310 got : 160), covariance estimate may be unreliable\n",
      "  data_cov = mne.compute_raw_covariance(raw, tmin=tmin,\n",
      "c:\\Users\\Lukas\\Documents\\projects\\esinet\\evaluate\\..\\esinet\\util\\util.py:388: RuntimeWarning: An average reference projection was already added. The data has been left untouched.\n",
      "  epochs.set_eeg_reference(projection=True, verbose=verbose)#.apply_baseline(baseline=baseline)\n",
      "c:\\Users\\Lukas\\Documents\\projects\\esinet\\evaluate\\..\\esinet\\util\\util.py:420: RuntimeWarning: Too few samples (required : 310 got : 100), covariance estimate may be unreliable\n",
      "  data_cov = mne.compute_raw_covariance(raw, tmin=tmin,\n",
      "c:\\Users\\Lukas\\Documents\\projects\\esinet\\evaluate\\..\\esinet\\util\\util.py:388: RuntimeWarning: An average reference projection was already added. The data has been left untouched.\n",
      "  epochs.set_eeg_reference(projection=True, verbose=verbose)#.apply_baseline(baseline=baseline)\n",
      "c:\\Users\\Lukas\\Documents\\projects\\esinet\\evaluate\\..\\esinet\\util\\util.py:420: RuntimeWarning: Too few samples (required : 310 got : 140), covariance estimate may be unreliable\n",
      "  data_cov = mne.compute_raw_covariance(raw, tmin=tmin,\n",
      "c:\\Users\\Lukas\\Documents\\projects\\esinet\\evaluate\\..\\esinet\\util\\util.py:388: RuntimeWarning: An average reference projection was already added. The data has been left untouched.\n",
      "  epochs.set_eeg_reference(projection=True, verbose=verbose)#.apply_baseline(baseline=baseline)\n",
      "c:\\Users\\Lukas\\Documents\\projects\\esinet\\evaluate\\..\\esinet\\util\\util.py:420: RuntimeWarning: Too few samples (required : 310 got : 60), covariance estimate may be unreliable\n",
      "  data_cov = mne.compute_raw_covariance(raw, tmin=tmin,\n"
     ]
    },
    {
     "name": "stdout",
     "output_type": "stream",
     "text": [
      "<RawArray | 61 x 502 (5.0 s), ~329 kB, data loaded> 4.0 info empirical\n",
      "<RawArray | 61 x 540 (5.4 s), ~347 kB, data loaded> 4.0 info empirical\n",
      "<RawArray | 61 x 468 (4.7 s), ~313 kB, data loaded> 4.0 info empirical\n",
      "<RawArray | 61 x 411 (4.1 s), ~286 kB, data loaded> 4.0 info empirical\n"
     ]
    },
    {
     "name": "stderr",
     "output_type": "stream",
     "text": [
      "c:\\Users\\Lukas\\Documents\\projects\\esinet\\evaluate\\..\\esinet\\util\\util.py:388: RuntimeWarning: An average reference projection was already added. The data has been left untouched.\n",
      "  epochs.set_eeg_reference(projection=True, verbose=verbose)#.apply_baseline(baseline=baseline)\n",
      "c:\\Users\\Lukas\\Documents\\projects\\esinet\\evaluate\\..\\esinet\\util\\util.py:423: RuntimeWarning: Epochs are not baseline corrected, covariance matrix may be inaccurate\n",
      "  data_cov = mne.compute_covariance(epochs, tmin=0.0,\n",
      "c:\\Users\\Lukas\\Documents\\projects\\esinet\\evaluate\\..\\esinet\\util\\util.py:423: RuntimeWarning: Too few samples (required : 310 got : 11), covariance estimate may be unreliable\n",
      "  data_cov = mne.compute_covariance(epochs, tmin=0.0,\n",
      "c:\\Users\\Lukas\\Documents\\projects\\esinet\\evaluate\\..\\esinet\\util\\util.py:388: RuntimeWarning: An average reference projection was already added. The data has been left untouched.\n",
      "  epochs.set_eeg_reference(projection=True, verbose=verbose)#.apply_baseline(baseline=baseline)\n",
      "c:\\Users\\Lukas\\Documents\\projects\\esinet\\evaluate\\..\\esinet\\util\\util.py:420: RuntimeWarning: Too few samples (required : 310 got : 100), covariance estimate may be unreliable\n",
      "  data_cov = mne.compute_raw_covariance(raw, tmin=tmin,\n",
      "c:\\Users\\Lukas\\Documents\\projects\\esinet\\evaluate\\..\\esinet\\util\\util.py:388: RuntimeWarning: An average reference projection was already added. The data has been left untouched.\n",
      "  epochs.set_eeg_reference(projection=True, verbose=verbose)#.apply_baseline(baseline=baseline)\n",
      "c:\\Users\\Lukas\\Documents\\projects\\esinet\\evaluate\\..\\esinet\\util\\util.py:420: RuntimeWarning: Too few samples (required : 310 got : 120), covariance estimate may be unreliable\n",
      "  data_cov = mne.compute_raw_covariance(raw, tmin=tmin,\n",
      "c:\\Users\\Lukas\\Documents\\projects\\esinet\\evaluate\\..\\esinet\\util\\util.py:388: RuntimeWarning: An average reference projection was already added. The data has been left untouched.\n",
      "  epochs.set_eeg_reference(projection=True, verbose=verbose)#.apply_baseline(baseline=baseline)\n",
      "c:\\Users\\Lukas\\Documents\\projects\\esinet\\evaluate\\..\\esinet\\util\\util.py:420: RuntimeWarning: Too few samples (required : 310 got : 180), covariance estimate may be unreliable\n",
      "  data_cov = mne.compute_raw_covariance(raw, tmin=tmin,\n",
      "c:\\Users\\Lukas\\Documents\\projects\\esinet\\evaluate\\..\\esinet\\util\\util.py:388: RuntimeWarning: An average reference projection was already added. The data has been left untouched.\n",
      "  epochs.set_eeg_reference(projection=True, verbose=verbose)#.apply_baseline(baseline=baseline)\n"
     ]
    },
    {
     "name": "stdout",
     "output_type": "stream",
     "text": [
      "<RawArray | 61 x 502 (5.0 s), ~329 kB, data loaded> 4.0 info empirical\n",
      "<RawArray | 61 x 529 (5.3 s), ~342 kB, data loaded> 4.0 info empirical\n",
      "<RawArray | 61 x 582 (5.8 s), ~367 kB, data loaded> 4.0 info empirical\n",
      "<RawArray | 61 x 416 (4.2 s), ~288 kB, data loaded> 4.0 info empirical\n"
     ]
    },
    {
     "name": "stderr",
     "output_type": "stream",
     "text": [
      "c:\\Users\\Lukas\\Documents\\projects\\esinet\\evaluate\\..\\esinet\\util\\util.py:423: RuntimeWarning: Epochs are not baseline corrected, covariance matrix may be inaccurate\n",
      "  data_cov = mne.compute_covariance(epochs, tmin=0.0,\n",
      "c:\\Users\\Lukas\\Documents\\projects\\esinet\\evaluate\\..\\esinet\\util\\util.py:423: RuntimeWarning: Too few samples (required : 310 got : 16), covariance estimate may be unreliable\n",
      "  data_cov = mne.compute_covariance(epochs, tmin=0.0,\n",
      "c:\\Users\\Lukas\\Documents\\projects\\esinet\\evaluate\\..\\esinet\\util\\util.py:388: RuntimeWarning: An average reference projection was already added. The data has been left untouched.\n",
      "  epochs.set_eeg_reference(projection=True, verbose=verbose)#.apply_baseline(baseline=baseline)\n",
      "c:\\Users\\Lukas\\Documents\\projects\\esinet\\evaluate\\..\\esinet\\util\\util.py:420: RuntimeWarning: Too few samples (required : 310 got : 80), covariance estimate may be unreliable\n",
      "  data_cov = mne.compute_raw_covariance(raw, tmin=tmin,\n",
      "c:\\Users\\Lukas\\Documents\\projects\\esinet\\evaluate\\..\\esinet\\util\\util.py:388: RuntimeWarning: An average reference projection was already added. The data has been left untouched.\n",
      "  epochs.set_eeg_reference(projection=True, verbose=verbose)#.apply_baseline(baseline=baseline)\n",
      "c:\\Users\\Lukas\\Documents\\projects\\esinet\\evaluate\\..\\esinet\\util\\util.py:420: RuntimeWarning: Too few samples (required : 310 got : 80), covariance estimate may be unreliable\n",
      "  data_cov = mne.compute_raw_covariance(raw, tmin=tmin,\n",
      "c:\\Users\\Lukas\\Documents\\projects\\esinet\\evaluate\\..\\esinet\\util\\util.py:388: RuntimeWarning: An average reference projection was already added. The data has been left untouched.\n",
      "  epochs.set_eeg_reference(projection=True, verbose=verbose)#.apply_baseline(baseline=baseline)\n",
      "c:\\Users\\Lukas\\Documents\\projects\\esinet\\evaluate\\..\\esinet\\util\\util.py:420: RuntimeWarning: Too few samples (required : 310 got : 100), covariance estimate may be unreliable\n",
      "  data_cov = mne.compute_raw_covariance(raw, tmin=tmin,\n",
      "c:\\Users\\Lukas\\Documents\\projects\\esinet\\evaluate\\..\\esinet\\util\\util.py:388: RuntimeWarning: An average reference projection was already added. The data has been left untouched.\n",
      "  epochs.set_eeg_reference(projection=True, verbose=verbose)#.apply_baseline(baseline=baseline)\n"
     ]
    },
    {
     "name": "stdout",
     "output_type": "stream",
     "text": [
      "<RawArray | 61 x 483 (4.8 s), ~320 kB, data loaded> 4.0 info empirical\n",
      "<RawArray | 61 x 493 (4.9 s), ~325 kB, data loaded> 4.0 info empirical\n",
      "<RawArray | 61 x 502 (5.0 s), ~329 kB, data loaded> 4.0 info empirical\n",
      "<RawArray | 61 x 556 (5.5 s), ~355 kB, data loaded> 4.0 info empirical\n"
     ]
    },
    {
     "name": "stderr",
     "output_type": "stream",
     "text": [
      "c:\\Users\\Lukas\\Documents\\projects\\esinet\\evaluate\\..\\esinet\\util\\util.py:420: RuntimeWarning: Too few samples (required : 310 got : 140), covariance estimate may be unreliable\n",
      "  data_cov = mne.compute_raw_covariance(raw, tmin=tmin,\n",
      "c:\\Users\\Lukas\\Documents\\projects\\esinet\\evaluate\\..\\esinet\\util\\util.py:388: RuntimeWarning: An average reference projection was already added. The data has been left untouched.\n",
      "  epochs.set_eeg_reference(projection=True, verbose=verbose)#.apply_baseline(baseline=baseline)\n",
      "c:\\Users\\Lukas\\Documents\\projects\\esinet\\evaluate\\..\\esinet\\util\\util.py:420: RuntimeWarning: Too few samples (required : 310 got : 20), covariance estimate may be unreliable\n",
      "  data_cov = mne.compute_raw_covariance(raw, tmin=tmin,\n",
      "c:\\Users\\Lukas\\Documents\\projects\\esinet\\evaluate\\..\\esinet\\util\\util.py:388: RuntimeWarning: An average reference projection was already added. The data has been left untouched.\n",
      "  epochs.set_eeg_reference(projection=True, verbose=verbose)#.apply_baseline(baseline=baseline)\n",
      "c:\\Users\\Lukas\\Documents\\projects\\esinet\\evaluate\\..\\esinet\\util\\util.py:420: RuntimeWarning: Too few samples (required : 310 got : 100), covariance estimate may be unreliable\n",
      "  data_cov = mne.compute_raw_covariance(raw, tmin=tmin,\n",
      "c:\\Users\\Lukas\\Documents\\projects\\esinet\\evaluate\\..\\esinet\\util\\util.py:388: RuntimeWarning: An average reference projection was already added. The data has been left untouched.\n",
      "  epochs.set_eeg_reference(projection=True, verbose=verbose)#.apply_baseline(baseline=baseline)\n",
      "c:\\Users\\Lukas\\Documents\\projects\\esinet\\evaluate\\..\\esinet\\util\\util.py:420: RuntimeWarning: Too few samples (required : 310 got : 20), covariance estimate may be unreliable\n",
      "  data_cov = mne.compute_raw_covariance(raw, tmin=tmin,\n",
      "c:\\Users\\Lukas\\Documents\\projects\\esinet\\evaluate\\..\\esinet\\util\\util.py:388: RuntimeWarning: An average reference projection was already added. The data has been left untouched.\n",
      "  epochs.set_eeg_reference(projection=True, verbose=verbose)#.apply_baseline(baseline=baseline)\n"
     ]
    },
    {
     "name": "stdout",
     "output_type": "stream",
     "text": [
      "<RawArray | 61 x 422 (4.2 s), ~291 kB, data loaded> 4.0 info empirical\n",
      "<RawArray | 61 x 503 (5.0 s), ~330 kB, data loaded> 4.0 info empirical\n",
      "<RawArray | 61 x 426 (4.2 s), ~293 kB, data loaded> 4.0 info empirical\n",
      "<RawArray | 61 x 490 (4.9 s), ~323 kB, data loaded> 4.0 info empirical\n"
     ]
    },
    {
     "name": "stderr",
     "output_type": "stream",
     "text": [
      "c:\\Users\\Lukas\\Documents\\projects\\esinet\\evaluate\\..\\esinet\\util\\util.py:420: RuntimeWarning: Too few samples (required : 310 got : 80), covariance estimate may be unreliable\n",
      "  data_cov = mne.compute_raw_covariance(raw, tmin=tmin,\n",
      "c:\\Users\\Lukas\\Documents\\projects\\esinet\\evaluate\\..\\esinet\\util\\util.py:388: RuntimeWarning: An average reference projection was already added. The data has been left untouched.\n",
      "  epochs.set_eeg_reference(projection=True, verbose=verbose)#.apply_baseline(baseline=baseline)\n",
      "c:\\Users\\Lukas\\Documents\\projects\\esinet\\evaluate\\..\\esinet\\util\\util.py:420: RuntimeWarning: Too few samples (required : 310 got : 120), covariance estimate may be unreliable\n",
      "  data_cov = mne.compute_raw_covariance(raw, tmin=tmin,\n",
      "c:\\Users\\Lukas\\Documents\\projects\\esinet\\evaluate\\..\\esinet\\util\\util.py:388: RuntimeWarning: An average reference projection was already added. The data has been left untouched.\n",
      "  epochs.set_eeg_reference(projection=True, verbose=verbose)#.apply_baseline(baseline=baseline)\n",
      "c:\\Users\\Lukas\\Documents\\projects\\esinet\\evaluate\\..\\esinet\\util\\util.py:420: RuntimeWarning: Too few samples (required : 310 got : 60), covariance estimate may be unreliable\n",
      "  data_cov = mne.compute_raw_covariance(raw, tmin=tmin,\n",
      "c:\\Users\\Lukas\\Documents\\projects\\esinet\\evaluate\\..\\esinet\\util\\util.py:388: RuntimeWarning: An average reference projection was already added. The data has been left untouched.\n",
      "  epochs.set_eeg_reference(projection=True, verbose=verbose)#.apply_baseline(baseline=baseline)\n",
      "c:\\Users\\Lukas\\Documents\\projects\\esinet\\evaluate\\..\\esinet\\util\\util.py:420: RuntimeWarning: Too few samples (required : 310 got : 60), covariance estimate may be unreliable\n",
      "  data_cov = mne.compute_raw_covariance(raw, tmin=tmin,\n",
      "c:\\Users\\Lukas\\Documents\\projects\\esinet\\evaluate\\..\\esinet\\util\\util.py:388: RuntimeWarning: An average reference projection was already added. The data has been left untouched.\n",
      "  epochs.set_eeg_reference(projection=True, verbose=verbose)#.apply_baseline(baseline=baseline)\n"
     ]
    },
    {
     "name": "stdout",
     "output_type": "stream",
     "text": [
      "<RawArray | 61 x 533 (5.3 s), ~344 kB, data loaded> 4.0 info empirical\n",
      "<RawArray | 61 x 462 (4.6 s), ~310 kB, data loaded> 4.0 info empirical\n",
      "<RawArray | 61 x 460 (4.6 s), ~309 kB, data loaded> 4.0 info empirical\n",
      "<RawArray | 61 x 432 (4.3 s), ~296 kB, data loaded> 4.0 info empirical\n"
     ]
    },
    {
     "name": "stderr",
     "output_type": "stream",
     "text": [
      "c:\\Users\\Lukas\\Documents\\projects\\esinet\\evaluate\\..\\esinet\\util\\util.py:420: RuntimeWarning: Too few samples (required : 310 got : 20), covariance estimate may be unreliable\n",
      "  data_cov = mne.compute_raw_covariance(raw, tmin=tmin,\n",
      "c:\\Users\\Lukas\\Documents\\projects\\esinet\\evaluate\\..\\esinet\\util\\util.py:388: RuntimeWarning: An average reference projection was already added. The data has been left untouched.\n",
      "  epochs.set_eeg_reference(projection=True, verbose=verbose)#.apply_baseline(baseline=baseline)\n",
      "c:\\Users\\Lukas\\Documents\\projects\\esinet\\evaluate\\..\\esinet\\util\\util.py:423: RuntimeWarning: Epochs are not baseline corrected, covariance matrix may be inaccurate\n",
      "  data_cov = mne.compute_covariance(epochs, tmin=0.0,\n",
      "c:\\Users\\Lukas\\Documents\\projects\\esinet\\evaluate\\..\\esinet\\util\\util.py:423: RuntimeWarning: Too few samples (required : 310 got : 19), covariance estimate may be unreliable\n",
      "  data_cov = mne.compute_covariance(epochs, tmin=0.0,\n",
      "c:\\Users\\Lukas\\Documents\\projects\\esinet\\evaluate\\..\\esinet\\util\\util.py:388: RuntimeWarning: An average reference projection was already added. The data has been left untouched.\n",
      "  epochs.set_eeg_reference(projection=True, verbose=verbose)#.apply_baseline(baseline=baseline)\n",
      "c:\\Users\\Lukas\\Documents\\projects\\esinet\\evaluate\\..\\esinet\\util\\util.py:420: RuntimeWarning: Too few samples (required : 310 got : 140), covariance estimate may be unreliable\n",
      "  data_cov = mne.compute_raw_covariance(raw, tmin=tmin,\n",
      "c:\\Users\\Lukas\\Documents\\projects\\esinet\\evaluate\\..\\esinet\\util\\util.py:388: RuntimeWarning: An average reference projection was already added. The data has been left untouched.\n",
      "  epochs.set_eeg_reference(projection=True, verbose=verbose)#.apply_baseline(baseline=baseline)\n",
      "c:\\Users\\Lukas\\Documents\\projects\\esinet\\evaluate\\..\\esinet\\util\\util.py:420: RuntimeWarning: Too few samples (required : 310 got : 40), covariance estimate may be unreliable\n",
      "  data_cov = mne.compute_raw_covariance(raw, tmin=tmin,\n",
      "c:\\Users\\Lukas\\Documents\\projects\\esinet\\evaluate\\..\\esinet\\util\\util.py:388: RuntimeWarning: An average reference projection was already added. The data has been left untouched.\n",
      "  epochs.set_eeg_reference(projection=True, verbose=verbose)#.apply_baseline(baseline=baseline)\n"
     ]
    },
    {
     "name": "stdout",
     "output_type": "stream",
     "text": [
      "<RawArray | 61 x 419 (4.2 s), ~289 kB, data loaded> 4.0 info empirical\n",
      "<RawArray | 61 x 545 (5.4 s), ~350 kB, data loaded> 4.0 info empirical\n",
      "<RawArray | 61 x 446 (4.5 s), ~302 kB, data loaded> 4.0 info empirical\n",
      "<RawArray | 61 x 582 (5.8 s), ~367 kB, data loaded> 4.0 info empirical\n"
     ]
    },
    {
     "name": "stderr",
     "output_type": "stream",
     "text": [
      "c:\\Users\\Lukas\\Documents\\projects\\esinet\\evaluate\\..\\esinet\\util\\util.py:420: RuntimeWarning: Too few samples (required : 310 got : 180), covariance estimate may be unreliable\n",
      "  data_cov = mne.compute_raw_covariance(raw, tmin=tmin,\n",
      "c:\\Users\\Lukas\\Documents\\projects\\esinet\\evaluate\\..\\esinet\\util\\util.py:388: RuntimeWarning: An average reference projection was already added. The data has been left untouched.\n",
      "  epochs.set_eeg_reference(projection=True, verbose=verbose)#.apply_baseline(baseline=baseline)\n",
      "c:\\Users\\Lukas\\Documents\\projects\\esinet\\evaluate\\..\\esinet\\util\\util.py:420: RuntimeWarning: Too few samples (required : 310 got : 120), covariance estimate may be unreliable\n",
      "  data_cov = mne.compute_raw_covariance(raw, tmin=tmin,\n",
      "c:\\Users\\Lukas\\Documents\\projects\\esinet\\evaluate\\..\\esinet\\util\\util.py:388: RuntimeWarning: An average reference projection was already added. The data has been left untouched.\n",
      "  epochs.set_eeg_reference(projection=True, verbose=verbose)#.apply_baseline(baseline=baseline)\n",
      "c:\\Users\\Lukas\\Documents\\projects\\esinet\\evaluate\\..\\esinet\\util\\util.py:420: RuntimeWarning: Too few samples (required : 310 got : 20), covariance estimate may be unreliable\n",
      "  data_cov = mne.compute_raw_covariance(raw, tmin=tmin,\n",
      "c:\\Users\\Lukas\\Documents\\projects\\esinet\\evaluate\\..\\esinet\\util\\util.py:388: RuntimeWarning: An average reference projection was already added. The data has been left untouched.\n",
      "  epochs.set_eeg_reference(projection=True, verbose=verbose)#.apply_baseline(baseline=baseline)\n",
      "c:\\Users\\Lukas\\Documents\\projects\\esinet\\evaluate\\..\\esinet\\util\\util.py:420: RuntimeWarning: Too few samples (required : 310 got : 80), covariance estimate may be unreliable\n",
      "  data_cov = mne.compute_raw_covariance(raw, tmin=tmin,\n",
      "c:\\Users\\Lukas\\Documents\\projects\\esinet\\evaluate\\..\\esinet\\util\\util.py:388: RuntimeWarning: An average reference projection was already added. The data has been left untouched.\n",
      "  epochs.set_eeg_reference(projection=True, verbose=verbose)#.apply_baseline(baseline=baseline)\n"
     ]
    },
    {
     "name": "stdout",
     "output_type": "stream",
     "text": [
      "<RawArray | 61 x 535 (5.3 s), ~345 kB, data loaded> 4.0 info empirical\n",
      "<RawArray | 61 x 432 (4.3 s), ~296 kB, data loaded> 4.0 info empirical\n",
      "<RawArray | 61 x 497 (5.0 s), ~327 kB, data loaded> 4.0 info empirical\n",
      "<RawArray | 61 x 479 (4.8 s), ~318 kB, data loaded> 4.0 info empirical\n"
     ]
    },
    {
     "name": "stderr",
     "output_type": "stream",
     "text": [
      "c:\\Users\\Lukas\\Documents\\projects\\esinet\\evaluate\\..\\esinet\\util\\util.py:420: RuntimeWarning: Too few samples (required : 310 got : 60), covariance estimate may be unreliable\n",
      "  data_cov = mne.compute_raw_covariance(raw, tmin=tmin,\n",
      "c:\\Users\\Lukas\\Documents\\projects\\esinet\\evaluate\\..\\esinet\\util\\util.py:388: RuntimeWarning: An average reference projection was already added. The data has been left untouched.\n",
      "  epochs.set_eeg_reference(projection=True, verbose=verbose)#.apply_baseline(baseline=baseline)\n",
      "c:\\Users\\Lukas\\Documents\\projects\\esinet\\evaluate\\..\\esinet\\util\\util.py:420: RuntimeWarning: Too few samples (required : 310 got : 60), covariance estimate may be unreliable\n",
      "  data_cov = mne.compute_raw_covariance(raw, tmin=tmin,\n",
      "c:\\Users\\Lukas\\Documents\\projects\\esinet\\evaluate\\..\\esinet\\util\\util.py:388: RuntimeWarning: An average reference projection was already added. The data has been left untouched.\n",
      "  epochs.set_eeg_reference(projection=True, verbose=verbose)#.apply_baseline(baseline=baseline)\n",
      "c:\\Users\\Lukas\\Documents\\projects\\esinet\\evaluate\\..\\esinet\\util\\util.py:420: RuntimeWarning: Too few samples (required : 310 got : 40), covariance estimate may be unreliable\n",
      "  data_cov = mne.compute_raw_covariance(raw, tmin=tmin,\n",
      "c:\\Users\\Lukas\\Documents\\projects\\esinet\\evaluate\\..\\esinet\\util\\util.py:388: RuntimeWarning: An average reference projection was already added. The data has been left untouched.\n",
      "  epochs.set_eeg_reference(projection=True, verbose=verbose)#.apply_baseline(baseline=baseline)\n",
      "c:\\Users\\Lukas\\Documents\\projects\\esinet\\evaluate\\..\\esinet\\util\\util.py:420: RuntimeWarning: Too few samples (required : 310 got : 140), covariance estimate may be unreliable\n",
      "  data_cov = mne.compute_raw_covariance(raw, tmin=tmin,\n"
     ]
    },
    {
     "name": "stdout",
     "output_type": "stream",
     "text": [
      "<RawArray | 61 x 476 (4.8 s), ~317 kB, data loaded> 4.0 info empirical\n",
      "<RawArray | 61 x 440 (4.4 s), ~299 kB, data loaded> 4.0 info empirical\n",
      "<RawArray | 61 x 559 (5.6 s), ~356 kB, data loaded> 4.0 info empirical\n",
      "<RawArray | 61 x 414 (4.1 s), ~287 kB, data loaded> 4.0 info empirical\n"
     ]
    },
    {
     "name": "stderr",
     "output_type": "stream",
     "text": [
      "c:\\Users\\Lukas\\Documents\\projects\\esinet\\evaluate\\..\\esinet\\util\\util.py:388: RuntimeWarning: An average reference projection was already added. The data has been left untouched.\n",
      "  epochs.set_eeg_reference(projection=True, verbose=verbose)#.apply_baseline(baseline=baseline)\n",
      "c:\\Users\\Lukas\\Documents\\projects\\esinet\\evaluate\\..\\esinet\\util\\util.py:423: RuntimeWarning: Epochs are not baseline corrected, covariance matrix may be inaccurate\n",
      "  data_cov = mne.compute_covariance(epochs, tmin=0.0,\n",
      "c:\\Users\\Lukas\\Documents\\projects\\esinet\\evaluate\\..\\esinet\\util\\util.py:423: RuntimeWarning: Too few samples (required : 310 got : 14), covariance estimate may be unreliable\n",
      "  data_cov = mne.compute_covariance(epochs, tmin=0.0,\n",
      "c:\\Users\\Lukas\\Documents\\projects\\esinet\\evaluate\\..\\esinet\\util\\util.py:388: RuntimeWarning: An average reference projection was already added. The data has been left untouched.\n",
      "  epochs.set_eeg_reference(projection=True, verbose=verbose)#.apply_baseline(baseline=baseline)\n",
      "c:\\Users\\Lukas\\Documents\\projects\\esinet\\evaluate\\..\\esinet\\util\\util.py:423: RuntimeWarning: Epochs are not baseline corrected, covariance matrix may be inaccurate\n",
      "  data_cov = mne.compute_covariance(epochs, tmin=0.0,\n",
      "c:\\Users\\Lukas\\Documents\\projects\\esinet\\evaluate\\..\\esinet\\util\\util.py:423: RuntimeWarning: Too few samples (required : 310 got : 12), covariance estimate may be unreliable\n",
      "  data_cov = mne.compute_covariance(epochs, tmin=0.0,\n",
      "c:\\Users\\Lukas\\Documents\\projects\\esinet\\evaluate\\..\\esinet\\util\\util.py:388: RuntimeWarning: An average reference projection was already added. The data has been left untouched.\n",
      "  epochs.set_eeg_reference(projection=True, verbose=verbose)#.apply_baseline(baseline=baseline)\n",
      "c:\\Users\\Lukas\\Documents\\projects\\esinet\\evaluate\\..\\esinet\\util\\util.py:420: RuntimeWarning: Too few samples (required : 310 got : 120), covariance estimate may be unreliable\n",
      "  data_cov = mne.compute_raw_covariance(raw, tmin=tmin,\n",
      "c:\\Users\\Lukas\\Documents\\projects\\esinet\\evaluate\\..\\esinet\\util\\util.py:388: RuntimeWarning: An average reference projection was already added. The data has been left untouched.\n",
      "  epochs.set_eeg_reference(projection=True, verbose=verbose)#.apply_baseline(baseline=baseline)\n",
      "c:\\Users\\Lukas\\Documents\\projects\\esinet\\evaluate\\..\\esinet\\util\\util.py:420: RuntimeWarning: Too few samples (required : 310 got : 20), covariance estimate may be unreliable\n",
      "  data_cov = mne.compute_raw_covariance(raw, tmin=tmin,\n"
     ]
    },
    {
     "name": "stdout",
     "output_type": "stream",
     "text": [
      "<RawArray | 61 x 412 (4.1 s), ~286 kB, data loaded> 4.0 info empirical\n",
      "<RawArray | 61 x 531 (5.3 s), ~343 kB, data loaded> 4.0 info empirical\n",
      "<RawArray | 61 x 427 (4.3 s), ~293 kB, data loaded> 4.0 info empirical\n",
      "<RawArray | 61 x 472 (4.7 s), ~315 kB, data loaded> 4.0 info empirical\n"
     ]
    },
    {
     "name": "stderr",
     "output_type": "stream",
     "text": [
      "c:\\Users\\Lukas\\Documents\\projects\\esinet\\evaluate\\..\\esinet\\util\\util.py:388: RuntimeWarning: An average reference projection was already added. The data has been left untouched.\n",
      "  epochs.set_eeg_reference(projection=True, verbose=verbose)#.apply_baseline(baseline=baseline)\n",
      "c:\\Users\\Lukas\\Documents\\projects\\esinet\\evaluate\\..\\esinet\\util\\util.py:420: RuntimeWarning: Too few samples (required : 310 got : 60), covariance estimate may be unreliable\n",
      "  data_cov = mne.compute_raw_covariance(raw, tmin=tmin,\n",
      "c:\\Users\\Lukas\\Documents\\projects\\esinet\\evaluate\\..\\esinet\\util\\util.py:388: RuntimeWarning: An average reference projection was already added. The data has been left untouched.\n",
      "  epochs.set_eeg_reference(projection=True, verbose=verbose)#.apply_baseline(baseline=baseline)\n",
      "c:\\Users\\Lukas\\Documents\\projects\\esinet\\evaluate\\..\\esinet\\util\\util.py:420: RuntimeWarning: Too few samples (required : 310 got : 140), covariance estimate may be unreliable\n",
      "  data_cov = mne.compute_raw_covariance(raw, tmin=tmin,\n",
      "c:\\Users\\Lukas\\Documents\\projects\\esinet\\evaluate\\..\\esinet\\util\\util.py:388: RuntimeWarning: An average reference projection was already added. The data has been left untouched.\n",
      "  epochs.set_eeg_reference(projection=True, verbose=verbose)#.apply_baseline(baseline=baseline)\n",
      "c:\\Users\\Lukas\\Documents\\projects\\esinet\\evaluate\\..\\esinet\\util\\util.py:420: RuntimeWarning: Too few samples (required : 310 got : 140), covariance estimate may be unreliable\n",
      "  data_cov = mne.compute_raw_covariance(raw, tmin=tmin,\n",
      "c:\\Users\\Lukas\\Documents\\projects\\esinet\\evaluate\\..\\esinet\\util\\util.py:388: RuntimeWarning: An average reference projection was already added. The data has been left untouched.\n",
      "  epochs.set_eeg_reference(projection=True, verbose=verbose)#.apply_baseline(baseline=baseline)\n"
     ]
    },
    {
     "name": "stdout",
     "output_type": "stream",
     "text": [
      "<RawArray | 61 x 540 (5.4 s), ~347 kB, data loaded> 4.0 info empirical\n",
      "<RawArray | 61 x 545 (5.4 s), ~350 kB, data loaded> 4.0 info empirical\n",
      "<RawArray | 61 x 445 (4.4 s), ~302 kB, data loaded> 4.0 info empirical\n",
      "<RawArray | 61 x 576 (5.8 s), ~364 kB, data loaded> 4.0 info empirical\n"
     ]
    },
    {
     "name": "stderr",
     "output_type": "stream",
     "text": [
      "c:\\Users\\Lukas\\Documents\\projects\\esinet\\evaluate\\..\\esinet\\util\\util.py:420: RuntimeWarning: Too few samples (required : 310 got : 40), covariance estimate may be unreliable\n",
      "  data_cov = mne.compute_raw_covariance(raw, tmin=tmin,\n",
      "c:\\Users\\Lukas\\Documents\\projects\\esinet\\evaluate\\..\\esinet\\util\\util.py:388: RuntimeWarning: An average reference projection was already added. The data has been left untouched.\n",
      "  epochs.set_eeg_reference(projection=True, verbose=verbose)#.apply_baseline(baseline=baseline)\n",
      "c:\\Users\\Lukas\\Documents\\projects\\esinet\\evaluate\\..\\esinet\\util\\util.py:420: RuntimeWarning: Too few samples (required : 310 got : 160), covariance estimate may be unreliable\n",
      "  data_cov = mne.compute_raw_covariance(raw, tmin=tmin,\n",
      "c:\\Users\\Lukas\\Documents\\projects\\esinet\\evaluate\\..\\esinet\\util\\util.py:388: RuntimeWarning: An average reference projection was already added. The data has been left untouched.\n",
      "  epochs.set_eeg_reference(projection=True, verbose=verbose)#.apply_baseline(baseline=baseline)\n",
      "c:\\Users\\Lukas\\Documents\\projects\\esinet\\evaluate\\..\\esinet\\util\\util.py:423: RuntimeWarning: Epochs are not baseline corrected, covariance matrix may be inaccurate\n",
      "  data_cov = mne.compute_covariance(epochs, tmin=0.0,\n",
      "c:\\Users\\Lukas\\Documents\\projects\\esinet\\evaluate\\..\\esinet\\util\\util.py:423: RuntimeWarning: Too few samples (required : 310 got : 2), covariance estimate may be unreliable\n",
      "  data_cov = mne.compute_covariance(epochs, tmin=0.0,\n",
      "c:\\Users\\Lukas\\Documents\\projects\\esinet\\evaluate\\..\\esinet\\util\\util.py:388: RuntimeWarning: An average reference projection was already added. The data has been left untouched.\n",
      "  epochs.set_eeg_reference(projection=True, verbose=verbose)#.apply_baseline(baseline=baseline)\n",
      "c:\\Users\\Lukas\\Documents\\projects\\esinet\\evaluate\\..\\esinet\\util\\util.py:420: RuntimeWarning: Too few samples (required : 310 got : 180), covariance estimate may be unreliable\n",
      "  data_cov = mne.compute_raw_covariance(raw, tmin=tmin,\n",
      "c:\\Users\\Lukas\\Documents\\projects\\esinet\\evaluate\\..\\esinet\\util\\util.py:388: RuntimeWarning: An average reference projection was already added. The data has been left untouched.\n",
      "  epochs.set_eeg_reference(projection=True, verbose=verbose)#.apply_baseline(baseline=baseline)\n"
     ]
    },
    {
     "name": "stdout",
     "output_type": "stream",
     "text": [
      "<RawArray | 61 x 402 (4.0 s), ~281 kB, data loaded> 4.0 info empirical\n",
      "<RawArray | 61 x 581 (5.8 s), ~367 kB, data loaded> 4.0 info empirical\n",
      "<RawArray | 61 x 413 (4.1 s), ~287 kB, data loaded> 4.0 info empirical\n",
      "<RawArray | 61 x 583 (5.8 s), ~368 kB, data loaded> 4.0 info empirical\n"
     ]
    },
    {
     "name": "stderr",
     "output_type": "stream",
     "text": [
      "c:\\Users\\Lukas\\Documents\\projects\\esinet\\evaluate\\..\\esinet\\util\\util.py:423: RuntimeWarning: Epochs are not baseline corrected, covariance matrix may be inaccurate\n",
      "  data_cov = mne.compute_covariance(epochs, tmin=0.0,\n",
      "c:\\Users\\Lukas\\Documents\\projects\\esinet\\evaluate\\..\\esinet\\util\\util.py:423: RuntimeWarning: Too few samples (required : 310 got : 13), covariance estimate may be unreliable\n",
      "  data_cov = mne.compute_covariance(epochs, tmin=0.0,\n",
      "c:\\Users\\Lukas\\Documents\\projects\\esinet\\evaluate\\..\\esinet\\util\\util.py:388: RuntimeWarning: An average reference projection was already added. The data has been left untouched.\n",
      "  epochs.set_eeg_reference(projection=True, verbose=verbose)#.apply_baseline(baseline=baseline)\n",
      "c:\\Users\\Lukas\\Documents\\projects\\esinet\\evaluate\\..\\esinet\\util\\util.py:420: RuntimeWarning: Too few samples (required : 310 got : 180), covariance estimate may be unreliable\n",
      "  data_cov = mne.compute_raw_covariance(raw, tmin=tmin,\n",
      "c:\\Users\\Lukas\\Documents\\projects\\esinet\\evaluate\\..\\esinet\\util\\util.py:388: RuntimeWarning: An average reference projection was already added. The data has been left untouched.\n",
      "  epochs.set_eeg_reference(projection=True, verbose=verbose)#.apply_baseline(baseline=baseline)\n",
      "c:\\Users\\Lukas\\Documents\\projects\\esinet\\evaluate\\..\\esinet\\util\\util.py:420: RuntimeWarning: Too few samples (required : 310 got : 80), covariance estimate may be unreliable\n",
      "  data_cov = mne.compute_raw_covariance(raw, tmin=tmin,\n",
      "c:\\Users\\Lukas\\Documents\\projects\\esinet\\evaluate\\..\\esinet\\util\\util.py:388: RuntimeWarning: An average reference projection was already added. The data has been left untouched.\n",
      "  epochs.set_eeg_reference(projection=True, verbose=verbose)#.apply_baseline(baseline=baseline)\n",
      "c:\\Users\\Lukas\\Documents\\projects\\esinet\\evaluate\\..\\esinet\\util\\util.py:420: RuntimeWarning: Too few samples (required : 310 got : 180), covariance estimate may be unreliable\n",
      "  data_cov = mne.compute_raw_covariance(raw, tmin=tmin,\n"
     ]
    },
    {
     "name": "stdout",
     "output_type": "stream",
     "text": [
      "<RawArray | 61 x 484 (4.8 s), ~320 kB, data loaded> 4.0 info empirical\n",
      "<RawArray | 61 x 583 (5.8 s), ~368 kB, data loaded> 4.0 info empirical\n",
      "<RawArray | 61 x 426 (4.2 s), ~293 kB, data loaded> 4.0 info empirical\n",
      "<RawArray | 61 x 517 (5.2 s), ~336 kB, data loaded> 4.0 info empirical\n"
     ]
    },
    {
     "name": "stderr",
     "output_type": "stream",
     "text": [
      "c:\\Users\\Lukas\\Documents\\projects\\esinet\\evaluate\\..\\esinet\\util\\util.py:388: RuntimeWarning: An average reference projection was already added. The data has been left untouched.\n",
      "  epochs.set_eeg_reference(projection=True, verbose=verbose)#.apply_baseline(baseline=baseline)\n",
      "c:\\Users\\Lukas\\Documents\\projects\\esinet\\evaluate\\..\\esinet\\util\\util.py:420: RuntimeWarning: Too few samples (required : 310 got : 20), covariance estimate may be unreliable\n",
      "  data_cov = mne.compute_raw_covariance(raw, tmin=tmin,\n",
      "c:\\Users\\Lukas\\Documents\\projects\\esinet\\evaluate\\..\\esinet\\util\\util.py:388: RuntimeWarning: An average reference projection was already added. The data has been left untouched.\n",
      "  epochs.set_eeg_reference(projection=True, verbose=verbose)#.apply_baseline(baseline=baseline)\n",
      "c:\\Users\\Lukas\\Documents\\projects\\esinet\\evaluate\\..\\esinet\\util\\util.py:420: RuntimeWarning: Too few samples (required : 310 got : 100), covariance estimate may be unreliable\n",
      "  data_cov = mne.compute_raw_covariance(raw, tmin=tmin,\n",
      "c:\\Users\\Lukas\\Documents\\projects\\esinet\\evaluate\\..\\esinet\\util\\util.py:388: RuntimeWarning: An average reference projection was already added. The data has been left untouched.\n",
      "  epochs.set_eeg_reference(projection=True, verbose=verbose)#.apply_baseline(baseline=baseline)\n",
      "c:\\Users\\Lukas\\Documents\\projects\\esinet\\evaluate\\..\\esinet\\util\\util.py:420: RuntimeWarning: Too few samples (required : 310 got : 20), covariance estimate may be unreliable\n",
      "  data_cov = mne.compute_raw_covariance(raw, tmin=tmin,\n",
      "c:\\Users\\Lukas\\Documents\\projects\\esinet\\evaluate\\..\\esinet\\util\\util.py:388: RuntimeWarning: An average reference projection was already added. The data has been left untouched.\n",
      "  epochs.set_eeg_reference(projection=True, verbose=verbose)#.apply_baseline(baseline=baseline)\n",
      "c:\\Users\\Lukas\\Documents\\projects\\esinet\\evaluate\\..\\esinet\\util\\util.py:420: RuntimeWarning: Too few samples (required : 310 got : 40), covariance estimate may be unreliable\n",
      "  data_cov = mne.compute_raw_covariance(raw, tmin=tmin,\n",
      "c:\\Users\\Lukas\\Documents\\projects\\esinet\\evaluate\\..\\esinet\\util\\util.py:388: RuntimeWarning: An average reference projection was already added. The data has been left untouched.\n",
      "  epochs.set_eeg_reference(projection=True, verbose=verbose)#.apply_baseline(baseline=baseline)\n"
     ]
    },
    {
     "name": "stdout",
     "output_type": "stream",
     "text": [
      "<RawArray | 61 x 420 (4.2 s), ~290 kB, data loaded> 4.0 info empirical\n",
      "<RawArray | 61 x 450 (4.5 s), ~304 kB, data loaded> 4.0 info empirical\n",
      "<RawArray | 61 x 461 (4.6 s), ~310 kB, data loaded> 4.0 info empirical\n",
      "<RawArray | 61 x 505 (5.0 s), ~330 kB, data loaded> 4.0 info empirical\n"
     ]
    },
    {
     "name": "stderr",
     "output_type": "stream",
     "text": [
      "c:\\Users\\Lukas\\Documents\\projects\\esinet\\evaluate\\..\\esinet\\util\\util.py:420: RuntimeWarning: Too few samples (required : 310 got : 60), covariance estimate may be unreliable\n",
      "  data_cov = mne.compute_raw_covariance(raw, tmin=tmin,\n",
      "c:\\Users\\Lukas\\Documents\\projects\\esinet\\evaluate\\..\\esinet\\util\\util.py:388: RuntimeWarning: An average reference projection was already added. The data has been left untouched.\n",
      "  epochs.set_eeg_reference(projection=True, verbose=verbose)#.apply_baseline(baseline=baseline)\n",
      "c:\\Users\\Lukas\\Documents\\projects\\esinet\\evaluate\\..\\esinet\\util\\util.py:420: RuntimeWarning: Too few samples (required : 310 got : 100), covariance estimate may be unreliable\n",
      "  data_cov = mne.compute_raw_covariance(raw, tmin=tmin,\n",
      "c:\\Users\\Lukas\\Documents\\projects\\esinet\\evaluate\\..\\esinet\\util\\util.py:388: RuntimeWarning: An average reference projection was already added. The data has been left untouched.\n",
      "  epochs.set_eeg_reference(projection=True, verbose=verbose)#.apply_baseline(baseline=baseline)\n",
      "c:\\Users\\Lukas\\Documents\\projects\\esinet\\evaluate\\..\\esinet\\util\\util.py:420: RuntimeWarning: Too few samples (required : 310 got : 120), covariance estimate may be unreliable\n",
      "  data_cov = mne.compute_raw_covariance(raw, tmin=tmin,\n",
      "c:\\Users\\Lukas\\Documents\\projects\\esinet\\evaluate\\..\\esinet\\util\\util.py:388: RuntimeWarning: An average reference projection was already added. The data has been left untouched.\n",
      "  epochs.set_eeg_reference(projection=True, verbose=verbose)#.apply_baseline(baseline=baseline)\n",
      "c:\\Users\\Lukas\\Documents\\projects\\esinet\\evaluate\\..\\esinet\\util\\util.py:423: RuntimeWarning: Epochs are not baseline corrected, covariance matrix may be inaccurate\n",
      "  data_cov = mne.compute_covariance(epochs, tmin=0.0,\n",
      "c:\\Users\\Lukas\\Documents\\projects\\esinet\\evaluate\\..\\esinet\\util\\util.py:423: RuntimeWarning: Too few samples (required : 310 got : 5), covariance estimate may be unreliable\n",
      "  data_cov = mne.compute_covariance(epochs, tmin=0.0,\n"
     ]
    },
    {
     "name": "stdout",
     "output_type": "stream",
     "text": [
      "<RawArray | 61 x 529 (5.3 s), ~342 kB, data loaded> 4.0 info empirical\n",
      "<RawArray | 61 x 405 (4.0 s), ~283 kB, data loaded> 4.0 info empirical\n",
      "<RawArray | 61 x 482 (4.8 s), ~320 kB, data loaded> 4.0 info empirical\n",
      "<RawArray | 61 x 508 (5.1 s), ~332 kB, data loaded> 4.0 info empirical\n"
     ]
    },
    {
     "name": "stderr",
     "output_type": "stream",
     "text": [
      "c:\\Users\\Lukas\\Documents\\projects\\esinet\\evaluate\\..\\esinet\\util\\util.py:388: RuntimeWarning: An average reference projection was already added. The data has been left untouched.\n",
      "  epochs.set_eeg_reference(projection=True, verbose=verbose)#.apply_baseline(baseline=baseline)\n",
      "c:\\Users\\Lukas\\Documents\\projects\\esinet\\evaluate\\..\\esinet\\util\\util.py:420: RuntimeWarning: Too few samples (required : 310 got : 80), covariance estimate may be unreliable\n",
      "  data_cov = mne.compute_raw_covariance(raw, tmin=tmin,\n",
      "c:\\Users\\Lukas\\Documents\\projects\\esinet\\evaluate\\..\\esinet\\util\\util.py:388: RuntimeWarning: An average reference projection was already added. The data has been left untouched.\n",
      "  epochs.set_eeg_reference(projection=True, verbose=verbose)#.apply_baseline(baseline=baseline)\n",
      "c:\\Users\\Lukas\\Documents\\projects\\esinet\\evaluate\\..\\esinet\\util\\util.py:420: RuntimeWarning: Too few samples (required : 310 got : 100), covariance estimate may be unreliable\n",
      "  data_cov = mne.compute_raw_covariance(raw, tmin=tmin,\n",
      "c:\\Users\\Lukas\\Documents\\projects\\esinet\\evaluate\\..\\esinet\\util\\util.py:388: RuntimeWarning: An average reference projection was already added. The data has been left untouched.\n",
      "  epochs.set_eeg_reference(projection=True, verbose=verbose)#.apply_baseline(baseline=baseline)\n",
      "c:\\Users\\Lukas\\Documents\\projects\\esinet\\evaluate\\..\\esinet\\util\\util.py:420: RuntimeWarning: Too few samples (required : 310 got : 120), covariance estimate may be unreliable\n",
      "  data_cov = mne.compute_raw_covariance(raw, tmin=tmin,\n",
      "c:\\Users\\Lukas\\Documents\\projects\\esinet\\evaluate\\..\\esinet\\util\\util.py:388: RuntimeWarning: An average reference projection was already added. The data has been left untouched.\n",
      "  epochs.set_eeg_reference(projection=True, verbose=verbose)#.apply_baseline(baseline=baseline)\n",
      "c:\\Users\\Lukas\\Documents\\projects\\esinet\\evaluate\\..\\esinet\\util\\util.py:420: RuntimeWarning: Too few samples (required : 310 got : 140), covariance estimate may be unreliable\n",
      "  data_cov = mne.compute_raw_covariance(raw, tmin=tmin,\n"
     ]
    },
    {
     "name": "stdout",
     "output_type": "stream",
     "text": [
      "<RawArray | 61 x 524 (5.2 s), ~340 kB, data loaded> 4.0 info empirical\n",
      "<RawArray | 61 x 550 (5.5 s), ~352 kB, data loaded> 4.0 info empirical\n",
      "<RawArray | 61 x 554 (5.5 s), ~354 kB, data loaded> 4.0 info empirical\n",
      "<RawArray | 61 x 456 (4.5 s), ~307 kB, data loaded> 4.0 info empirical\n"
     ]
    },
    {
     "name": "stderr",
     "output_type": "stream",
     "text": [
      "c:\\Users\\Lukas\\Documents\\projects\\esinet\\evaluate\\..\\esinet\\util\\util.py:388: RuntimeWarning: An average reference projection was already added. The data has been left untouched.\n",
      "  epochs.set_eeg_reference(projection=True, verbose=verbose)#.apply_baseline(baseline=baseline)\n",
      "c:\\Users\\Lukas\\Documents\\projects\\esinet\\evaluate\\..\\esinet\\util\\util.py:420: RuntimeWarning: Too few samples (required : 310 got : 140), covariance estimate may be unreliable\n",
      "  data_cov = mne.compute_raw_covariance(raw, tmin=tmin,\n",
      "c:\\Users\\Lukas\\Documents\\projects\\esinet\\evaluate\\..\\esinet\\util\\util.py:388: RuntimeWarning: An average reference projection was already added. The data has been left untouched.\n",
      "  epochs.set_eeg_reference(projection=True, verbose=verbose)#.apply_baseline(baseline=baseline)\n",
      "c:\\Users\\Lukas\\Documents\\projects\\esinet\\evaluate\\..\\esinet\\util\\util.py:420: RuntimeWarning: Too few samples (required : 310 got : 40), covariance estimate may be unreliable\n",
      "  data_cov = mne.compute_raw_covariance(raw, tmin=tmin,\n",
      "c:\\Users\\Lukas\\Documents\\projects\\esinet\\evaluate\\..\\esinet\\util\\util.py:388: RuntimeWarning: An average reference projection was already added. The data has been left untouched.\n",
      "  epochs.set_eeg_reference(projection=True, verbose=verbose)#.apply_baseline(baseline=baseline)\n",
      "c:\\Users\\Lukas\\Documents\\projects\\esinet\\evaluate\\..\\esinet\\util\\util.py:423: RuntimeWarning: Epochs are not baseline corrected, covariance matrix may be inaccurate\n",
      "  data_cov = mne.compute_covariance(epochs, tmin=0.0,\n",
      "c:\\Users\\Lukas\\Documents\\projects\\esinet\\evaluate\\..\\esinet\\util\\util.py:423: RuntimeWarning: Too few samples (required : 310 got : 8), covariance estimate may be unreliable\n",
      "  data_cov = mne.compute_covariance(epochs, tmin=0.0,\n"
     ]
    },
    {
     "name": "stdout",
     "output_type": "stream",
     "text": [
      "<RawArray | 61 x 408 (4.1 s), ~284 kB, data loaded> 4.0 info empirical\n",
      "<RawArray | 61 x 533 (5.3 s), ~344 kB, data loaded> 4.0 info empirical\n",
      "<RawArray | 61 x 512 (5.1 s), ~334 kB, data loaded> 4.0 info empirical\n",
      "<RawArray | 61 x 447 (4.5 s), ~303 kB, data loaded> 4.0 info empirical\n"
     ]
    },
    {
     "name": "stderr",
     "output_type": "stream",
     "text": [
      "c:\\Users\\Lukas\\Documents\\projects\\esinet\\evaluate\\..\\esinet\\util\\util.py:388: RuntimeWarning: An average reference projection was already added. The data has been left untouched.\n",
      "  epochs.set_eeg_reference(projection=True, verbose=verbose)#.apply_baseline(baseline=baseline)\n",
      "c:\\Users\\Lukas\\Documents\\projects\\esinet\\evaluate\\..\\esinet\\util\\util.py:420: RuntimeWarning: Too few samples (required : 310 got : 120), covariance estimate may be unreliable\n",
      "  data_cov = mne.compute_raw_covariance(raw, tmin=tmin,\n",
      "c:\\Users\\Lukas\\Documents\\projects\\esinet\\evaluate\\..\\esinet\\util\\util.py:388: RuntimeWarning: An average reference projection was already added. The data has been left untouched.\n",
      "  epochs.set_eeg_reference(projection=True, verbose=verbose)#.apply_baseline(baseline=baseline)\n",
      "c:\\Users\\Lukas\\Documents\\projects\\esinet\\evaluate\\..\\esinet\\util\\util.py:420: RuntimeWarning: Too few samples (required : 310 got : 100), covariance estimate may be unreliable\n",
      "  data_cov = mne.compute_raw_covariance(raw, tmin=tmin,\n",
      "c:\\Users\\Lukas\\Documents\\projects\\esinet\\evaluate\\..\\esinet\\util\\util.py:388: RuntimeWarning: An average reference projection was already added. The data has been left untouched.\n",
      "  epochs.set_eeg_reference(projection=True, verbose=verbose)#.apply_baseline(baseline=baseline)\n",
      "c:\\Users\\Lukas\\Documents\\projects\\esinet\\evaluate\\..\\esinet\\util\\util.py:420: RuntimeWarning: Too few samples (required : 310 got : 40), covariance estimate may be unreliable\n",
      "  data_cov = mne.compute_raw_covariance(raw, tmin=tmin,\n",
      "c:\\Users\\Lukas\\Documents\\projects\\esinet\\evaluate\\..\\esinet\\util\\util.py:388: RuntimeWarning: An average reference projection was already added. The data has been left untouched.\n",
      "  epochs.set_eeg_reference(projection=True, verbose=verbose)#.apply_baseline(baseline=baseline)\n",
      "c:\\Users\\Lukas\\Documents\\projects\\esinet\\evaluate\\..\\esinet\\util\\util.py:420: RuntimeWarning: Too few samples (required : 310 got : 140), covariance estimate may be unreliable\n",
      "  data_cov = mne.compute_raw_covariance(raw, tmin=tmin,\n",
      "c:\\Users\\Lukas\\Documents\\projects\\esinet\\evaluate\\..\\esinet\\util\\util.py:388: RuntimeWarning: An average reference projection was already added. The data has been left untouched.\n",
      "  epochs.set_eeg_reference(projection=True, verbose=verbose)#.apply_baseline(baseline=baseline)\n"
     ]
    },
    {
     "name": "stdout",
     "output_type": "stream",
     "text": [
      "<RawArray | 61 x 559 (5.6 s), ~356 kB, data loaded> 4.0 info empirical\n",
      "<RawArray | 61 x 444 (4.4 s), ~301 kB, data loaded> 4.0 info empirical\n",
      "<RawArray | 61 x 498 (5.0 s), ~327 kB, data loaded> 4.0 info empirical\n",
      "<RawArray | 61 x 527 (5.3 s), ~341 kB, data loaded> 4.0 info empirical\n"
     ]
    },
    {
     "name": "stderr",
     "output_type": "stream",
     "text": [
      "c:\\Users\\Lukas\\Documents\\projects\\esinet\\evaluate\\..\\esinet\\util\\util.py:420: RuntimeWarning: Too few samples (required : 310 got : 40), covariance estimate may be unreliable\n",
      "  data_cov = mne.compute_raw_covariance(raw, tmin=tmin,\n",
      "c:\\Users\\Lukas\\Documents\\projects\\esinet\\evaluate\\..\\esinet\\util\\util.py:388: RuntimeWarning: An average reference projection was already added. The data has been left untouched.\n",
      "  epochs.set_eeg_reference(projection=True, verbose=verbose)#.apply_baseline(baseline=baseline)\n",
      "c:\\Users\\Lukas\\Documents\\projects\\esinet\\evaluate\\..\\esinet\\util\\util.py:420: RuntimeWarning: Too few samples (required : 310 got : 80), covariance estimate may be unreliable\n",
      "  data_cov = mne.compute_raw_covariance(raw, tmin=tmin,\n",
      "c:\\Users\\Lukas\\Documents\\projects\\esinet\\evaluate\\..\\esinet\\util\\util.py:388: RuntimeWarning: An average reference projection was already added. The data has been left untouched.\n",
      "  epochs.set_eeg_reference(projection=True, verbose=verbose)#.apply_baseline(baseline=baseline)\n",
      "c:\\Users\\Lukas\\Documents\\projects\\esinet\\evaluate\\..\\esinet\\util\\util.py:420: RuntimeWarning: Too few samples (required : 310 got : 120), covariance estimate may be unreliable\n",
      "  data_cov = mne.compute_raw_covariance(raw, tmin=tmin,\n",
      "c:\\Users\\Lukas\\Documents\\projects\\esinet\\evaluate\\..\\esinet\\util\\util.py:388: RuntimeWarning: An average reference projection was already added. The data has been left untouched.\n",
      "  epochs.set_eeg_reference(projection=True, verbose=verbose)#.apply_baseline(baseline=baseline)\n",
      "c:\\Users\\Lukas\\Documents\\projects\\esinet\\evaluate\\..\\esinet\\util\\util.py:420: RuntimeWarning: Too few samples (required : 310 got : 140), covariance estimate may be unreliable\n",
      "  data_cov = mne.compute_raw_covariance(raw, tmin=tmin,\n",
      "c:\\Users\\Lukas\\Documents\\projects\\esinet\\evaluate\\..\\esinet\\util\\util.py:388: RuntimeWarning: An average reference projection was already added. The data has been left untouched.\n",
      "  epochs.set_eeg_reference(projection=True, verbose=verbose)#.apply_baseline(baseline=baseline)\n"
     ]
    },
    {
     "name": "stdout",
     "output_type": "stream",
     "text": [
      "<RawArray | 61 x 543 (5.4 s), ~349 kB, data loaded> 4.0 info empirical\n",
      "<RawArray | 61 x 402 (4.0 s), ~281 kB, data loaded> 4.0 info empirical\n",
      "<RawArray | 61 x 569 (5.7 s), ~361 kB, data loaded> 4.0 info empirical\n",
      "<RawArray | 61 x 490 (4.9 s), ~323 kB, data loaded> 4.0 info empirical\n"
     ]
    },
    {
     "name": "stderr",
     "output_type": "stream",
     "text": [
      "c:\\Users\\Lukas\\Documents\\projects\\esinet\\evaluate\\..\\esinet\\util\\util.py:423: RuntimeWarning: Epochs are not baseline corrected, covariance matrix may be inaccurate\n",
      "  data_cov = mne.compute_covariance(epochs, tmin=0.0,\n",
      "c:\\Users\\Lukas\\Documents\\projects\\esinet\\evaluate\\..\\esinet\\util\\util.py:423: RuntimeWarning: Too few samples (required : 310 got : 2), covariance estimate may be unreliable\n",
      "  data_cov = mne.compute_covariance(epochs, tmin=0.0,\n",
      "c:\\Users\\Lukas\\Documents\\projects\\esinet\\evaluate\\..\\esinet\\util\\util.py:388: RuntimeWarning: An average reference projection was already added. The data has been left untouched.\n",
      "  epochs.set_eeg_reference(projection=True, verbose=verbose)#.apply_baseline(baseline=baseline)\n",
      "c:\\Users\\Lukas\\Documents\\projects\\esinet\\evaluate\\..\\esinet\\util\\util.py:420: RuntimeWarning: Too few samples (required : 310 got : 160), covariance estimate may be unreliable\n",
      "  data_cov = mne.compute_raw_covariance(raw, tmin=tmin,\n",
      "c:\\Users\\Lukas\\Documents\\projects\\esinet\\evaluate\\..\\esinet\\util\\util.py:388: RuntimeWarning: An average reference projection was already added. The data has been left untouched.\n",
      "  epochs.set_eeg_reference(projection=True, verbose=verbose)#.apply_baseline(baseline=baseline)\n",
      "c:\\Users\\Lukas\\Documents\\projects\\esinet\\evaluate\\..\\esinet\\util\\util.py:420: RuntimeWarning: Too few samples (required : 310 got : 80), covariance estimate may be unreliable\n",
      "  data_cov = mne.compute_raw_covariance(raw, tmin=tmin,\n",
      "c:\\Users\\Lukas\\Documents\\projects\\esinet\\evaluate\\..\\esinet\\util\\util.py:388: RuntimeWarning: An average reference projection was already added. The data has been left untouched.\n",
      "  epochs.set_eeg_reference(projection=True, verbose=verbose)#.apply_baseline(baseline=baseline)\n",
      "c:\\Users\\Lukas\\Documents\\projects\\esinet\\evaluate\\..\\esinet\\util\\util.py:420: RuntimeWarning: Too few samples (required : 310 got : 20), covariance estimate may be unreliable\n",
      "  data_cov = mne.compute_raw_covariance(raw, tmin=tmin,\n",
      "c:\\Users\\Lukas\\Documents\\projects\\esinet\\evaluate\\..\\esinet\\util\\util.py:388: RuntimeWarning: An average reference projection was already added. The data has been left untouched.\n",
      "  epochs.set_eeg_reference(projection=True, verbose=verbose)#.apply_baseline(baseline=baseline)\n"
     ]
    },
    {
     "name": "stdout",
     "output_type": "stream",
     "text": [
      "<RawArray | 61 x 438 (4.4 s), ~299 kB, data loaded> 4.0 info empirical\n",
      "<RawArray | 61 x 482 (4.8 s), ~320 kB, data loaded> 4.0 info empirical\n",
      "<RawArray | 61 x 516 (5.2 s), ~336 kB, data loaded> 4.0 info empirical\n",
      "<RawArray | 61 x 566 (5.7 s), ~360 kB, data loaded> 4.0 info empirical\n"
     ]
    },
    {
     "name": "stderr",
     "output_type": "stream",
     "text": [
      "c:\\Users\\Lukas\\Documents\\projects\\esinet\\evaluate\\..\\esinet\\util\\util.py:420: RuntimeWarning: Too few samples (required : 310 got : 80), covariance estimate may be unreliable\n",
      "  data_cov = mne.compute_raw_covariance(raw, tmin=tmin,\n",
      "c:\\Users\\Lukas\\Documents\\projects\\esinet\\evaluate\\..\\esinet\\util\\util.py:388: RuntimeWarning: An average reference projection was already added. The data has been left untouched.\n",
      "  epochs.set_eeg_reference(projection=True, verbose=verbose)#.apply_baseline(baseline=baseline)\n",
      "c:\\Users\\Lukas\\Documents\\projects\\esinet\\evaluate\\..\\esinet\\util\\util.py:420: RuntimeWarning: Too few samples (required : 310 got : 100), covariance estimate may be unreliable\n",
      "  data_cov = mne.compute_raw_covariance(raw, tmin=tmin,\n",
      "c:\\Users\\Lukas\\Documents\\projects\\esinet\\evaluate\\..\\esinet\\util\\util.py:388: RuntimeWarning: An average reference projection was already added. The data has been left untouched.\n",
      "  epochs.set_eeg_reference(projection=True, verbose=verbose)#.apply_baseline(baseline=baseline)\n",
      "c:\\Users\\Lukas\\Documents\\projects\\esinet\\evaluate\\..\\esinet\\util\\util.py:420: RuntimeWarning: Too few samples (required : 310 got : 160), covariance estimate may be unreliable\n",
      "  data_cov = mne.compute_raw_covariance(raw, tmin=tmin,\n",
      "c:\\Users\\Lukas\\Documents\\projects\\esinet\\evaluate\\..\\esinet\\util\\util.py:388: RuntimeWarning: An average reference projection was already added. The data has been left untouched.\n",
      "  epochs.set_eeg_reference(projection=True, verbose=verbose)#.apply_baseline(baseline=baseline)\n",
      "c:\\Users\\Lukas\\Documents\\projects\\esinet\\evaluate\\..\\esinet\\util\\util.py:420: RuntimeWarning: Too few samples (required : 310 got : 40), covariance estimate may be unreliable\n",
      "  data_cov = mne.compute_raw_covariance(raw, tmin=tmin,\n",
      "c:\\Users\\Lukas\\Documents\\projects\\esinet\\evaluate\\..\\esinet\\util\\util.py:388: RuntimeWarning: An average reference projection was already added. The data has been left untouched.\n",
      "  epochs.set_eeg_reference(projection=True, verbose=verbose)#.apply_baseline(baseline=baseline)\n"
     ]
    },
    {
     "name": "stdout",
     "output_type": "stream",
     "text": [
      "<RawArray | 61 x 450 (4.5 s), ~304 kB, data loaded> 4.0 info empirical\n",
      "<RawArray | 61 x 498 (5.0 s), ~327 kB, data loaded> 4.0 info empirical\n",
      "<RawArray | 61 x 524 (5.2 s), ~340 kB, data loaded> 4.0 info empirical\n",
      "<RawArray | 61 x 454 (4.5 s), ~306 kB, data loaded> 4.0 info empirical\n"
     ]
    },
    {
     "name": "stderr",
     "output_type": "stream",
     "text": [
      "c:\\Users\\Lukas\\Documents\\projects\\esinet\\evaluate\\..\\esinet\\util\\util.py:420: RuntimeWarning: Too few samples (required : 310 got : 80), covariance estimate may be unreliable\n",
      "  data_cov = mne.compute_raw_covariance(raw, tmin=tmin,\n",
      "c:\\Users\\Lukas\\Documents\\projects\\esinet\\evaluate\\..\\esinet\\util\\util.py:388: RuntimeWarning: An average reference projection was already added. The data has been left untouched.\n",
      "  epochs.set_eeg_reference(projection=True, verbose=verbose)#.apply_baseline(baseline=baseline)\n",
      "c:\\Users\\Lukas\\Documents\\projects\\esinet\\evaluate\\..\\esinet\\util\\util.py:420: RuntimeWarning: Too few samples (required : 310 got : 120), covariance estimate may be unreliable\n",
      "  data_cov = mne.compute_raw_covariance(raw, tmin=tmin,\n",
      "c:\\Users\\Lukas\\Documents\\projects\\esinet\\evaluate\\..\\esinet\\util\\util.py:388: RuntimeWarning: An average reference projection was already added. The data has been left untouched.\n",
      "  epochs.set_eeg_reference(projection=True, verbose=verbose)#.apply_baseline(baseline=baseline)\n",
      "c:\\Users\\Lukas\\Documents\\projects\\esinet\\evaluate\\..\\esinet\\util\\util.py:420: RuntimeWarning: Too few samples (required : 310 got : 40), covariance estimate may be unreliable\n",
      "  data_cov = mne.compute_raw_covariance(raw, tmin=tmin,\n",
      "c:\\Users\\Lukas\\Documents\\projects\\esinet\\evaluate\\..\\esinet\\util\\util.py:388: RuntimeWarning: An average reference projection was already added. The data has been left untouched.\n",
      "  epochs.set_eeg_reference(projection=True, verbose=verbose)#.apply_baseline(baseline=baseline)\n",
      "c:\\Users\\Lukas\\Documents\\projects\\esinet\\evaluate\\..\\esinet\\util\\util.py:420: RuntimeWarning: Too few samples (required : 310 got : 40), covariance estimate may be unreliable\n",
      "  data_cov = mne.compute_raw_covariance(raw, tmin=tmin,\n"
     ]
    },
    {
     "name": "stdout",
     "output_type": "stream",
     "text": [
      "<RawArray | 61 x 458 (4.6 s), ~308 kB, data loaded> 4.0 info empirical\n",
      "<RawArray | 61 x 433 (4.3 s), ~296 kB, data loaded> 4.0 info empirical\n",
      "<RawArray | 61 x 590 (5.9 s), ~371 kB, data loaded> 4.0 info empirical\n",
      "<RawArray | 61 x 581 (5.8 s), ~367 kB, data loaded> 4.0 info empirical\n"
     ]
    },
    {
     "name": "stderr",
     "output_type": "stream",
     "text": [
      "c:\\Users\\Lukas\\Documents\\projects\\esinet\\evaluate\\..\\esinet\\util\\util.py:388: RuntimeWarning: An average reference projection was already added. The data has been left untouched.\n",
      "  epochs.set_eeg_reference(projection=True, verbose=verbose)#.apply_baseline(baseline=baseline)\n",
      "c:\\Users\\Lukas\\Documents\\projects\\esinet\\evaluate\\..\\esinet\\util\\util.py:420: RuntimeWarning: Too few samples (required : 310 got : 20), covariance estimate may be unreliable\n",
      "  data_cov = mne.compute_raw_covariance(raw, tmin=tmin,\n",
      "c:\\Users\\Lukas\\Documents\\projects\\esinet\\evaluate\\..\\esinet\\util\\util.py:388: RuntimeWarning: An average reference projection was already added. The data has been left untouched.\n",
      "  epochs.set_eeg_reference(projection=True, verbose=verbose)#.apply_baseline(baseline=baseline)\n",
      "c:\\Users\\Lukas\\Documents\\projects\\esinet\\evaluate\\..\\esinet\\util\\util.py:420: RuntimeWarning: Too few samples (required : 310 got : 180), covariance estimate may be unreliable\n",
      "  data_cov = mne.compute_raw_covariance(raw, tmin=tmin,\n",
      "c:\\Users\\Lukas\\Documents\\projects\\esinet\\evaluate\\..\\esinet\\util\\util.py:388: RuntimeWarning: An average reference projection was already added. The data has been left untouched.\n",
      "  epochs.set_eeg_reference(projection=True, verbose=verbose)#.apply_baseline(baseline=baseline)\n",
      "c:\\Users\\Lukas\\Documents\\projects\\esinet\\evaluate\\..\\esinet\\util\\util.py:420: RuntimeWarning: Too few samples (required : 310 got : 180), covariance estimate may be unreliable\n",
      "  data_cov = mne.compute_raw_covariance(raw, tmin=tmin,\n",
      "c:\\Users\\Lukas\\Documents\\projects\\esinet\\evaluate\\..\\esinet\\util\\util.py:388: RuntimeWarning: An average reference projection was already added. The data has been left untouched.\n",
      "  epochs.set_eeg_reference(projection=True, verbose=verbose)#.apply_baseline(baseline=baseline)\n",
      "c:\\Users\\Lukas\\Documents\\projects\\esinet\\evaluate\\..\\esinet\\util\\util.py:420: RuntimeWarning: Too few samples (required : 310 got : 100), covariance estimate may be unreliable\n",
      "  data_cov = mne.compute_raw_covariance(raw, tmin=tmin,\n"
     ]
    },
    {
     "name": "stdout",
     "output_type": "stream",
     "text": [
      "<RawArray | 61 x 516 (5.2 s), ~336 kB, data loaded> 4.0 info empirical\n",
      "<RawArray | 61 x 572 (5.7 s), ~362 kB, data loaded> 4.0 info empirical\n",
      "<RawArray | 61 x 419 (4.2 s), ~289 kB, data loaded> 4.0 info empirical\n",
      "<RawArray | 61 x 589 (5.9 s), ~371 kB, data loaded> 4.0 info empirical\n"
     ]
    },
    {
     "name": "stderr",
     "output_type": "stream",
     "text": [
      "c:\\Users\\Lukas\\Documents\\projects\\esinet\\evaluate\\..\\esinet\\util\\util.py:388: RuntimeWarning: An average reference projection was already added. The data has been left untouched.\n",
      "  epochs.set_eeg_reference(projection=True, verbose=verbose)#.apply_baseline(baseline=baseline)\n",
      "c:\\Users\\Lukas\\Documents\\projects\\esinet\\evaluate\\..\\esinet\\util\\util.py:420: RuntimeWarning: Too few samples (required : 310 got : 160), covariance estimate may be unreliable\n",
      "  data_cov = mne.compute_raw_covariance(raw, tmin=tmin,\n",
      "c:\\Users\\Lukas\\Documents\\projects\\esinet\\evaluate\\..\\esinet\\util\\util.py:388: RuntimeWarning: An average reference projection was already added. The data has been left untouched.\n",
      "  epochs.set_eeg_reference(projection=True, verbose=verbose)#.apply_baseline(baseline=baseline)\n",
      "c:\\Users\\Lukas\\Documents\\projects\\esinet\\evaluate\\..\\esinet\\util\\util.py:423: RuntimeWarning: Epochs are not baseline corrected, covariance matrix may be inaccurate\n",
      "  data_cov = mne.compute_covariance(epochs, tmin=0.0,\n",
      "c:\\Users\\Lukas\\Documents\\projects\\esinet\\evaluate\\..\\esinet\\util\\util.py:423: RuntimeWarning: Too few samples (required : 310 got : 19), covariance estimate may be unreliable\n",
      "  data_cov = mne.compute_covariance(epochs, tmin=0.0,\n",
      "c:\\Users\\Lukas\\Documents\\projects\\esinet\\evaluate\\..\\esinet\\util\\util.py:388: RuntimeWarning: An average reference projection was already added. The data has been left untouched.\n",
      "  epochs.set_eeg_reference(projection=True, verbose=verbose)#.apply_baseline(baseline=baseline)\n",
      "c:\\Users\\Lukas\\Documents\\projects\\esinet\\evaluate\\..\\esinet\\util\\util.py:420: RuntimeWarning: Too few samples (required : 310 got : 180), covariance estimate may be unreliable\n",
      "  data_cov = mne.compute_raw_covariance(raw, tmin=tmin,\n",
      "c:\\Users\\Lukas\\Documents\\projects\\esinet\\evaluate\\..\\esinet\\util\\util.py:388: RuntimeWarning: An average reference projection was already added. The data has been left untouched.\n",
      "  epochs.set_eeg_reference(projection=True, verbose=verbose)#.apply_baseline(baseline=baseline)\n",
      "c:\\Users\\Lukas\\Documents\\projects\\esinet\\evaluate\\..\\esinet\\util\\util.py:420: RuntimeWarning: Too few samples (required : 310 got : 140), covariance estimate may be unreliable\n",
      "  data_cov = mne.compute_raw_covariance(raw, tmin=tmin,\n"
     ]
    },
    {
     "name": "stdout",
     "output_type": "stream",
     "text": [
      "<RawArray | 61 x 546 (5.5 s), ~350 kB, data loaded> 4.0 info empirical\n",
      "<RawArray | 61 x 522 (5.2 s), ~339 kB, data loaded> 4.0 info empirical\n",
      "<RawArray | 61 x 584 (5.8 s), ~368 kB, data loaded> 4.0 info empirical\n",
      "<RawArray | 61 x 416 (4.2 s), ~288 kB, data loaded> 4.0 info empirical\n"
     ]
    },
    {
     "name": "stderr",
     "output_type": "stream",
     "text": [
      "c:\\Users\\Lukas\\Documents\\projects\\esinet\\evaluate\\..\\esinet\\util\\util.py:388: RuntimeWarning: An average reference projection was already added. The data has been left untouched.\n",
      "  epochs.set_eeg_reference(projection=True, verbose=verbose)#.apply_baseline(baseline=baseline)\n",
      "c:\\Users\\Lukas\\Documents\\projects\\esinet\\evaluate\\..\\esinet\\util\\util.py:420: RuntimeWarning: Too few samples (required : 310 got : 120), covariance estimate may be unreliable\n",
      "  data_cov = mne.compute_raw_covariance(raw, tmin=tmin,\n",
      "c:\\Users\\Lukas\\Documents\\projects\\esinet\\evaluate\\..\\esinet\\util\\util.py:388: RuntimeWarning: An average reference projection was already added. The data has been left untouched.\n",
      "  epochs.set_eeg_reference(projection=True, verbose=verbose)#.apply_baseline(baseline=baseline)\n",
      "c:\\Users\\Lukas\\Documents\\projects\\esinet\\evaluate\\..\\esinet\\util\\util.py:420: RuntimeWarning: Too few samples (required : 310 got : 180), covariance estimate may be unreliable\n",
      "  data_cov = mne.compute_raw_covariance(raw, tmin=tmin,\n",
      "c:\\Users\\Lukas\\Documents\\projects\\esinet\\evaluate\\..\\esinet\\util\\util.py:388: RuntimeWarning: An average reference projection was already added. The data has been left untouched.\n",
      "  epochs.set_eeg_reference(projection=True, verbose=verbose)#.apply_baseline(baseline=baseline)\n",
      "c:\\Users\\Lukas\\Documents\\projects\\esinet\\evaluate\\..\\esinet\\util\\util.py:423: RuntimeWarning: Epochs are not baseline corrected, covariance matrix may be inaccurate\n",
      "  data_cov = mne.compute_covariance(epochs, tmin=0.0,\n",
      "c:\\Users\\Lukas\\Documents\\projects\\esinet\\evaluate\\..\\esinet\\util\\util.py:423: RuntimeWarning: Too few samples (required : 310 got : 16), covariance estimate may be unreliable\n",
      "  data_cov = mne.compute_covariance(epochs, tmin=0.0,\n",
      "c:\\Users\\Lukas\\Documents\\projects\\esinet\\evaluate\\..\\esinet\\util\\util.py:388: RuntimeWarning: An average reference projection was already added. The data has been left untouched.\n",
      "  epochs.set_eeg_reference(projection=True, verbose=verbose)#.apply_baseline(baseline=baseline)\n"
     ]
    },
    {
     "name": "stdout",
     "output_type": "stream",
     "text": [
      "<RawArray | 61 x 486 (4.8 s), ~321 kB, data loaded> 4.0 info empirical\n",
      "<RawArray | 61 x 548 (5.5 s), ~351 kB, data loaded> 4.0 info empirical\n",
      "<RawArray | 61 x 504 (5.0 s), ~330 kB, data loaded> 4.0 info empirical\n",
      "<RawArray | 61 x 598 (6.0 s), ~375 kB, data loaded> 4.0 info empirical\n"
     ]
    },
    {
     "name": "stderr",
     "output_type": "stream",
     "text": [
      "c:\\Users\\Lukas\\Documents\\projects\\esinet\\evaluate\\..\\esinet\\util\\util.py:420: RuntimeWarning: Too few samples (required : 310 got : 80), covariance estimate may be unreliable\n",
      "  data_cov = mne.compute_raw_covariance(raw, tmin=tmin,\n",
      "c:\\Users\\Lukas\\Documents\\projects\\esinet\\evaluate\\..\\esinet\\util\\util.py:388: RuntimeWarning: An average reference projection was already added. The data has been left untouched.\n",
      "  epochs.set_eeg_reference(projection=True, verbose=verbose)#.apply_baseline(baseline=baseline)\n",
      "c:\\Users\\Lukas\\Documents\\projects\\esinet\\evaluate\\..\\esinet\\util\\util.py:420: RuntimeWarning: Too few samples (required : 310 got : 140), covariance estimate may be unreliable\n",
      "  data_cov = mne.compute_raw_covariance(raw, tmin=tmin,\n",
      "c:\\Users\\Lukas\\Documents\\projects\\esinet\\evaluate\\..\\esinet\\util\\util.py:388: RuntimeWarning: An average reference projection was already added. The data has been left untouched.\n",
      "  epochs.set_eeg_reference(projection=True, verbose=verbose)#.apply_baseline(baseline=baseline)\n",
      "c:\\Users\\Lukas\\Documents\\projects\\esinet\\evaluate\\..\\esinet\\util\\util.py:420: RuntimeWarning: Too few samples (required : 310 got : 100), covariance estimate may be unreliable\n",
      "  data_cov = mne.compute_raw_covariance(raw, tmin=tmin,\n",
      "c:\\Users\\Lukas\\Documents\\projects\\esinet\\evaluate\\..\\esinet\\util\\util.py:388: RuntimeWarning: An average reference projection was already added. The data has been left untouched.\n",
      "  epochs.set_eeg_reference(projection=True, verbose=verbose)#.apply_baseline(baseline=baseline)\n",
      "c:\\Users\\Lukas\\Documents\\projects\\esinet\\evaluate\\..\\esinet\\util\\util.py:420: RuntimeWarning: Too few samples (required : 310 got : 180), covariance estimate may be unreliable\n",
      "  data_cov = mne.compute_raw_covariance(raw, tmin=tmin,\n",
      "c:\\Users\\Lukas\\Documents\\projects\\esinet\\evaluate\\..\\esinet\\util\\util.py:388: RuntimeWarning: An average reference projection was already added. The data has been left untouched.\n",
      "  epochs.set_eeg_reference(projection=True, verbose=verbose)#.apply_baseline(baseline=baseline)\n"
     ]
    },
    {
     "name": "stdout",
     "output_type": "stream",
     "text": [
      "<RawArray | 61 x 411 (4.1 s), ~286 kB, data loaded> 4.0 info empirical\n",
      "<RawArray | 61 x 477 (4.8 s), ~317 kB, data loaded> 4.0 info empirical\n",
      "<RawArray | 61 x 543 (5.4 s), ~349 kB, data loaded> 4.0 info empirical\n",
      "<RawArray | 61 x 509 (5.1 s), ~332 kB, data loaded> 4.0 info empirical\n"
     ]
    },
    {
     "name": "stderr",
     "output_type": "stream",
     "text": [
      "c:\\Users\\Lukas\\Documents\\projects\\esinet\\evaluate\\..\\esinet\\util\\util.py:423: RuntimeWarning: Epochs are not baseline corrected, covariance matrix may be inaccurate\n",
      "  data_cov = mne.compute_covariance(epochs, tmin=0.0,\n",
      "c:\\Users\\Lukas\\Documents\\projects\\esinet\\evaluate\\..\\esinet\\util\\util.py:423: RuntimeWarning: Too few samples (required : 310 got : 11), covariance estimate may be unreliable\n",
      "  data_cov = mne.compute_covariance(epochs, tmin=0.0,\n",
      "c:\\Users\\Lukas\\Documents\\projects\\esinet\\evaluate\\..\\esinet\\util\\util.py:388: RuntimeWarning: An average reference projection was already added. The data has been left untouched.\n",
      "  epochs.set_eeg_reference(projection=True, verbose=verbose)#.apply_baseline(baseline=baseline)\n",
      "c:\\Users\\Lukas\\Documents\\projects\\esinet\\evaluate\\..\\esinet\\util\\util.py:420: RuntimeWarning: Too few samples (required : 310 got : 60), covariance estimate may be unreliable\n",
      "  data_cov = mne.compute_raw_covariance(raw, tmin=tmin,\n",
      "c:\\Users\\Lukas\\Documents\\projects\\esinet\\evaluate\\..\\esinet\\util\\util.py:388: RuntimeWarning: An average reference projection was already added. The data has been left untouched.\n",
      "  epochs.set_eeg_reference(projection=True, verbose=verbose)#.apply_baseline(baseline=baseline)\n",
      "c:\\Users\\Lukas\\Documents\\projects\\esinet\\evaluate\\..\\esinet\\util\\util.py:420: RuntimeWarning: Too few samples (required : 310 got : 140), covariance estimate may be unreliable\n",
      "  data_cov = mne.compute_raw_covariance(raw, tmin=tmin,\n",
      "c:\\Users\\Lukas\\Documents\\projects\\esinet\\evaluate\\..\\esinet\\util\\util.py:388: RuntimeWarning: An average reference projection was already added. The data has been left untouched.\n",
      "  epochs.set_eeg_reference(projection=True, verbose=verbose)#.apply_baseline(baseline=baseline)\n",
      "c:\\Users\\Lukas\\Documents\\projects\\esinet\\evaluate\\..\\esinet\\util\\util.py:420: RuntimeWarning: Too few samples (required : 310 got : 100), covariance estimate may be unreliable\n",
      "  data_cov = mne.compute_raw_covariance(raw, tmin=tmin,\n",
      "c:\\Users\\Lukas\\Documents\\projects\\esinet\\evaluate\\..\\esinet\\util\\util.py:388: RuntimeWarning: An average reference projection was already added. The data has been left untouched.\n",
      "  epochs.set_eeg_reference(projection=True, verbose=verbose)#.apply_baseline(baseline=baseline)\n"
     ]
    },
    {
     "name": "stdout",
     "output_type": "stream",
     "text": [
      "<RawArray | 61 x 561 (5.6 s), ~357 kB, data loaded> 4.0 info empirical\n",
      "<RawArray | 61 x 523 (5.2 s), ~339 kB, data loaded> 4.0 info empirical\n",
      "<RawArray | 61 x 549 (5.5 s), ~351 kB, data loaded> 4.0 info empirical\n",
      "<RawArray | 61 x 498 (5.0 s), ~327 kB, data loaded> 4.0 info empirical\n"
     ]
    },
    {
     "name": "stderr",
     "output_type": "stream",
     "text": [
      "c:\\Users\\Lukas\\Documents\\projects\\esinet\\evaluate\\..\\esinet\\util\\util.py:420: RuntimeWarning: Too few samples (required : 310 got : 160), covariance estimate may be unreliable\n",
      "  data_cov = mne.compute_raw_covariance(raw, tmin=tmin,\n",
      "c:\\Users\\Lukas\\Documents\\projects\\esinet\\evaluate\\..\\esinet\\util\\util.py:388: RuntimeWarning: An average reference projection was already added. The data has been left untouched.\n",
      "  epochs.set_eeg_reference(projection=True, verbose=verbose)#.apply_baseline(baseline=baseline)\n",
      "c:\\Users\\Lukas\\Documents\\projects\\esinet\\evaluate\\..\\esinet\\util\\util.py:420: RuntimeWarning: Too few samples (required : 310 got : 120), covariance estimate may be unreliable\n",
      "  data_cov = mne.compute_raw_covariance(raw, tmin=tmin,\n",
      "c:\\Users\\Lukas\\Documents\\projects\\esinet\\evaluate\\..\\esinet\\util\\util.py:388: RuntimeWarning: An average reference projection was already added. The data has been left untouched.\n",
      "  epochs.set_eeg_reference(projection=True, verbose=verbose)#.apply_baseline(baseline=baseline)\n",
      "c:\\Users\\Lukas\\Documents\\projects\\esinet\\evaluate\\..\\esinet\\util\\util.py:420: RuntimeWarning: Too few samples (required : 310 got : 140), covariance estimate may be unreliable\n",
      "  data_cov = mne.compute_raw_covariance(raw, tmin=tmin,\n",
      "c:\\Users\\Lukas\\Documents\\projects\\esinet\\evaluate\\..\\esinet\\util\\util.py:388: RuntimeWarning: An average reference projection was already added. The data has been left untouched.\n",
      "  epochs.set_eeg_reference(projection=True, verbose=verbose)#.apply_baseline(baseline=baseline)\n",
      "c:\\Users\\Lukas\\Documents\\projects\\esinet\\evaluate\\..\\esinet\\util\\util.py:420: RuntimeWarning: Too few samples (required : 310 got : 80), covariance estimate may be unreliable\n",
      "  data_cov = mne.compute_raw_covariance(raw, tmin=tmin,\n",
      "c:\\Users\\Lukas\\Documents\\projects\\esinet\\evaluate\\..\\esinet\\util\\util.py:388: RuntimeWarning: An average reference projection was already added. The data has been left untouched.\n",
      "  epochs.set_eeg_reference(projection=True, verbose=verbose)#.apply_baseline(baseline=baseline)\n"
     ]
    },
    {
     "name": "stdout",
     "output_type": "stream",
     "text": [
      "<RawArray | 61 x 547 (5.5 s), ~350 kB, data loaded> 4.0 info empirical\n",
      "<RawArray | 61 x 504 (5.0 s), ~330 kB, data loaded> 4.0 info empirical\n",
      "<RawArray | 61 x 586 (5.8 s), ~369 kB, data loaded> 4.0 info empirical\n",
      "<RawArray | 61 x 457 (4.6 s), ~308 kB, data loaded> 4.0 info empirical\n"
     ]
    },
    {
     "name": "stderr",
     "output_type": "stream",
     "text": [
      "c:\\Users\\Lukas\\Documents\\projects\\esinet\\evaluate\\..\\esinet\\util\\util.py:420: RuntimeWarning: Too few samples (required : 310 got : 140), covariance estimate may be unreliable\n",
      "  data_cov = mne.compute_raw_covariance(raw, tmin=tmin,\n",
      "c:\\Users\\Lukas\\Documents\\projects\\esinet\\evaluate\\..\\esinet\\util\\util.py:388: RuntimeWarning: An average reference projection was already added. The data has been left untouched.\n",
      "  epochs.set_eeg_reference(projection=True, verbose=verbose)#.apply_baseline(baseline=baseline)\n",
      "c:\\Users\\Lukas\\Documents\\projects\\esinet\\evaluate\\..\\esinet\\util\\util.py:420: RuntimeWarning: Too few samples (required : 310 got : 100), covariance estimate may be unreliable\n",
      "  data_cov = mne.compute_raw_covariance(raw, tmin=tmin,\n",
      "c:\\Users\\Lukas\\Documents\\projects\\esinet\\evaluate\\..\\esinet\\util\\util.py:388: RuntimeWarning: An average reference projection was already added. The data has been left untouched.\n",
      "  epochs.set_eeg_reference(projection=True, verbose=verbose)#.apply_baseline(baseline=baseline)\n",
      "c:\\Users\\Lukas\\Documents\\projects\\esinet\\evaluate\\..\\esinet\\util\\util.py:420: RuntimeWarning: Too few samples (required : 310 got : 180), covariance estimate may be unreliable\n",
      "  data_cov = mne.compute_raw_covariance(raw, tmin=tmin,\n",
      "c:\\Users\\Lukas\\Documents\\projects\\esinet\\evaluate\\..\\esinet\\util\\util.py:388: RuntimeWarning: An average reference projection was already added. The data has been left untouched.\n",
      "  epochs.set_eeg_reference(projection=True, verbose=verbose)#.apply_baseline(baseline=baseline)\n",
      "c:\\Users\\Lukas\\Documents\\projects\\esinet\\evaluate\\..\\esinet\\util\\util.py:420: RuntimeWarning: Too few samples (required : 310 got : 40), covariance estimate may be unreliable\n",
      "  data_cov = mne.compute_raw_covariance(raw, tmin=tmin,\n",
      "c:\\Users\\Lukas\\Documents\\projects\\esinet\\evaluate\\..\\esinet\\util\\util.py:388: RuntimeWarning: An average reference projection was already added. The data has been left untouched.\n",
      "  epochs.set_eeg_reference(projection=True, verbose=verbose)#.apply_baseline(baseline=baseline)\n"
     ]
    },
    {
     "name": "stdout",
     "output_type": "stream",
     "text": [
      "<RawArray | 61 x 537 (5.4 s), ~346 kB, data loaded> 4.0 info empirical\n",
      "<RawArray | 61 x 566 (5.7 s), ~360 kB, data loaded> 4.0 info empirical\n",
      "<RawArray | 61 x 512 (5.1 s), ~334 kB, data loaded> 4.0 info empirical\n",
      "<RawArray | 61 x 402 (4.0 s), ~281 kB, data loaded> 4.0 info empirical\n"
     ]
    },
    {
     "name": "stderr",
     "output_type": "stream",
     "text": [
      "c:\\Users\\Lukas\\Documents\\projects\\esinet\\evaluate\\..\\esinet\\util\\util.py:420: RuntimeWarning: Too few samples (required : 310 got : 120), covariance estimate may be unreliable\n",
      "  data_cov = mne.compute_raw_covariance(raw, tmin=tmin,\n",
      "c:\\Users\\Lukas\\Documents\\projects\\esinet\\evaluate\\..\\esinet\\util\\util.py:388: RuntimeWarning: An average reference projection was already added. The data has been left untouched.\n",
      "  epochs.set_eeg_reference(projection=True, verbose=verbose)#.apply_baseline(baseline=baseline)\n",
      "c:\\Users\\Lukas\\Documents\\projects\\esinet\\evaluate\\..\\esinet\\util\\util.py:420: RuntimeWarning: Too few samples (required : 310 got : 160), covariance estimate may be unreliable\n",
      "  data_cov = mne.compute_raw_covariance(raw, tmin=tmin,\n",
      "c:\\Users\\Lukas\\Documents\\projects\\esinet\\evaluate\\..\\esinet\\util\\util.py:388: RuntimeWarning: An average reference projection was already added. The data has been left untouched.\n",
      "  epochs.set_eeg_reference(projection=True, verbose=verbose)#.apply_baseline(baseline=baseline)\n",
      "c:\\Users\\Lukas\\Documents\\projects\\esinet\\evaluate\\..\\esinet\\util\\util.py:420: RuntimeWarning: Too few samples (required : 310 got : 100), covariance estimate may be unreliable\n",
      "  data_cov = mne.compute_raw_covariance(raw, tmin=tmin,\n",
      "c:\\Users\\Lukas\\Documents\\projects\\esinet\\evaluate\\..\\esinet\\util\\util.py:388: RuntimeWarning: An average reference projection was already added. The data has been left untouched.\n",
      "  epochs.set_eeg_reference(projection=True, verbose=verbose)#.apply_baseline(baseline=baseline)\n",
      "c:\\Users\\Lukas\\Documents\\projects\\esinet\\evaluate\\..\\esinet\\util\\util.py:423: RuntimeWarning: Epochs are not baseline corrected, covariance matrix may be inaccurate\n",
      "  data_cov = mne.compute_covariance(epochs, tmin=0.0,\n",
      "c:\\Users\\Lukas\\Documents\\projects\\esinet\\evaluate\\..\\esinet\\util\\util.py:423: RuntimeWarning: Too few samples (required : 310 got : 2), covariance estimate may be unreliable\n",
      "  data_cov = mne.compute_covariance(epochs, tmin=0.0,\n"
     ]
    },
    {
     "name": "stdout",
     "output_type": "stream",
     "text": [
      "<RawArray | 61 x 539 (5.4 s), ~347 kB, data loaded> 4.0 info empirical\n",
      "<RawArray | 61 x 552 (5.5 s), ~353 kB, data loaded> 4.0 info empirical\n",
      "<RawArray | 61 x 590 (5.9 s), ~371 kB, data loaded> 4.0 info empirical\n",
      "<RawArray | 61 x 437 (4.4 s), ~298 kB, data loaded> 4.0 info empirical\n"
     ]
    },
    {
     "name": "stderr",
     "output_type": "stream",
     "text": [
      "c:\\Users\\Lukas\\Documents\\projects\\esinet\\evaluate\\..\\esinet\\util\\util.py:388: RuntimeWarning: An average reference projection was already added. The data has been left untouched.\n",
      "  epochs.set_eeg_reference(projection=True, verbose=verbose)#.apply_baseline(baseline=baseline)\n",
      "c:\\Users\\Lukas\\Documents\\projects\\esinet\\evaluate\\..\\esinet\\util\\util.py:420: RuntimeWarning: Too few samples (required : 310 got : 120), covariance estimate may be unreliable\n",
      "  data_cov = mne.compute_raw_covariance(raw, tmin=tmin,\n",
      "c:\\Users\\Lukas\\Documents\\projects\\esinet\\evaluate\\..\\esinet\\util\\util.py:388: RuntimeWarning: An average reference projection was already added. The data has been left untouched.\n",
      "  epochs.set_eeg_reference(projection=True, verbose=verbose)#.apply_baseline(baseline=baseline)\n",
      "c:\\Users\\Lukas\\Documents\\projects\\esinet\\evaluate\\..\\esinet\\util\\util.py:420: RuntimeWarning: Too few samples (required : 310 got : 140), covariance estimate may be unreliable\n",
      "  data_cov = mne.compute_raw_covariance(raw, tmin=tmin,\n",
      "c:\\Users\\Lukas\\Documents\\projects\\esinet\\evaluate\\..\\esinet\\util\\util.py:388: RuntimeWarning: An average reference projection was already added. The data has been left untouched.\n",
      "  epochs.set_eeg_reference(projection=True, verbose=verbose)#.apply_baseline(baseline=baseline)\n",
      "c:\\Users\\Lukas\\Documents\\projects\\esinet\\evaluate\\..\\esinet\\util\\util.py:420: RuntimeWarning: Too few samples (required : 310 got : 180), covariance estimate may be unreliable\n",
      "  data_cov = mne.compute_raw_covariance(raw, tmin=tmin,\n",
      "c:\\Users\\Lukas\\Documents\\projects\\esinet\\evaluate\\..\\esinet\\util\\util.py:388: RuntimeWarning: An average reference projection was already added. The data has been left untouched.\n",
      "  epochs.set_eeg_reference(projection=True, verbose=verbose)#.apply_baseline(baseline=baseline)\n",
      "c:\\Users\\Lukas\\Documents\\projects\\esinet\\evaluate\\..\\esinet\\util\\util.py:420: RuntimeWarning: Too few samples (required : 310 got : 20), covariance estimate may be unreliable\n",
      "  data_cov = mne.compute_raw_covariance(raw, tmin=tmin,\n",
      "c:\\Users\\Lukas\\Documents\\projects\\esinet\\evaluate\\..\\esinet\\util\\util.py:388: RuntimeWarning: An average reference projection was already added. The data has been left untouched.\n",
      "  epochs.set_eeg_reference(projection=True, verbose=verbose)#.apply_baseline(baseline=baseline)\n"
     ]
    },
    {
     "name": "stdout",
     "output_type": "stream",
     "text": [
      "<RawArray | 61 x 429 (4.3 s), ~294 kB, data loaded> 4.0 info empirical\n",
      "<RawArray | 61 x 450 (4.5 s), ~304 kB, data loaded> 4.0 info empirical\n",
      "<RawArray | 61 x 492 (4.9 s), ~324 kB, data loaded> 4.0 info empirical\n",
      "<RawArray | 61 x 462 (4.6 s), ~310 kB, data loaded> 4.0 info empirical\n"
     ]
    },
    {
     "name": "stderr",
     "output_type": "stream",
     "text": [
      "c:\\Users\\Lukas\\Documents\\projects\\esinet\\evaluate\\..\\esinet\\util\\util.py:420: RuntimeWarning: Too few samples (required : 310 got : 20), covariance estimate may be unreliable\n",
      "  data_cov = mne.compute_raw_covariance(raw, tmin=tmin,\n",
      "c:\\Users\\Lukas\\Documents\\projects\\esinet\\evaluate\\..\\esinet\\util\\util.py:388: RuntimeWarning: An average reference projection was already added. The data has been left untouched.\n",
      "  epochs.set_eeg_reference(projection=True, verbose=verbose)#.apply_baseline(baseline=baseline)\n",
      "c:\\Users\\Lukas\\Documents\\projects\\esinet\\evaluate\\..\\esinet\\util\\util.py:420: RuntimeWarning: Too few samples (required : 310 got : 40), covariance estimate may be unreliable\n",
      "  data_cov = mne.compute_raw_covariance(raw, tmin=tmin,\n",
      "c:\\Users\\Lukas\\Documents\\projects\\esinet\\evaluate\\..\\esinet\\util\\util.py:388: RuntimeWarning: An average reference projection was already added. The data has been left untouched.\n",
      "  epochs.set_eeg_reference(projection=True, verbose=verbose)#.apply_baseline(baseline=baseline)\n",
      "c:\\Users\\Lukas\\Documents\\projects\\esinet\\evaluate\\..\\esinet\\util\\util.py:420: RuntimeWarning: Too few samples (required : 310 got : 80), covariance estimate may be unreliable\n",
      "  data_cov = mne.compute_raw_covariance(raw, tmin=tmin,\n",
      "c:\\Users\\Lukas\\Documents\\projects\\esinet\\evaluate\\..\\esinet\\util\\util.py:388: RuntimeWarning: An average reference projection was already added. The data has been left untouched.\n",
      "  epochs.set_eeg_reference(projection=True, verbose=verbose)#.apply_baseline(baseline=baseline)\n",
      "c:\\Users\\Lukas\\Documents\\projects\\esinet\\evaluate\\..\\esinet\\util\\util.py:420: RuntimeWarning: Too few samples (required : 310 got : 60), covariance estimate may be unreliable\n",
      "  data_cov = mne.compute_raw_covariance(raw, tmin=tmin,\n"
     ]
    },
    {
     "name": "stdout",
     "output_type": "stream",
     "text": [
      "<RawArray | 61 x 575 (5.7 s), ~364 kB, data loaded> 4.0 info empirical\n",
      "<RawArray | 61 x 473 (4.7 s), ~315 kB, data loaded> 4.0 info empirical\n",
      "<RawArray | 61 x 478 (4.8 s), ~318 kB, data loaded> 4.0 info empirical\n",
      "<RawArray | 61 x 447 (4.5 s), ~303 kB, data loaded> 4.0 info empirical\n"
     ]
    },
    {
     "name": "stderr",
     "output_type": "stream",
     "text": [
      "c:\\Users\\Lukas\\Documents\\projects\\esinet\\evaluate\\..\\esinet\\util\\util.py:388: RuntimeWarning: An average reference projection was already added. The data has been left untouched.\n",
      "  epochs.set_eeg_reference(projection=True, verbose=verbose)#.apply_baseline(baseline=baseline)\n",
      "c:\\Users\\Lukas\\Documents\\projects\\esinet\\evaluate\\..\\esinet\\util\\util.py:420: RuntimeWarning: Too few samples (required : 310 got : 160), covariance estimate may be unreliable\n",
      "  data_cov = mne.compute_raw_covariance(raw, tmin=tmin,\n",
      "c:\\Users\\Lukas\\Documents\\projects\\esinet\\evaluate\\..\\esinet\\util\\util.py:388: RuntimeWarning: An average reference projection was already added. The data has been left untouched.\n",
      "  epochs.set_eeg_reference(projection=True, verbose=verbose)#.apply_baseline(baseline=baseline)\n",
      "c:\\Users\\Lukas\\Documents\\projects\\esinet\\evaluate\\..\\esinet\\util\\util.py:420: RuntimeWarning: Too few samples (required : 310 got : 60), covariance estimate may be unreliable\n",
      "  data_cov = mne.compute_raw_covariance(raw, tmin=tmin,\n",
      "c:\\Users\\Lukas\\Documents\\projects\\esinet\\evaluate\\..\\esinet\\util\\util.py:388: RuntimeWarning: An average reference projection was already added. The data has been left untouched.\n",
      "  epochs.set_eeg_reference(projection=True, verbose=verbose)#.apply_baseline(baseline=baseline)\n",
      "c:\\Users\\Lukas\\Documents\\projects\\esinet\\evaluate\\..\\esinet\\util\\util.py:420: RuntimeWarning: Too few samples (required : 310 got : 60), covariance estimate may be unreliable\n",
      "  data_cov = mne.compute_raw_covariance(raw, tmin=tmin,\n",
      "c:\\Users\\Lukas\\Documents\\projects\\esinet\\evaluate\\..\\esinet\\util\\util.py:388: RuntimeWarning: An average reference projection was already added. The data has been left untouched.\n",
      "  epochs.set_eeg_reference(projection=True, verbose=verbose)#.apply_baseline(baseline=baseline)\n",
      "c:\\Users\\Lukas\\Documents\\projects\\esinet\\evaluate\\..\\esinet\\util\\util.py:420: RuntimeWarning: Too few samples (required : 310 got : 40), covariance estimate may be unreliable\n",
      "  data_cov = mne.compute_raw_covariance(raw, tmin=tmin,\n",
      "c:\\Users\\Lukas\\Documents\\projects\\esinet\\evaluate\\..\\esinet\\util\\util.py:388: RuntimeWarning: An average reference projection was already added. The data has been left untouched.\n",
      "  epochs.set_eeg_reference(projection=True, verbose=verbose)#.apply_baseline(baseline=baseline)\n"
     ]
    },
    {
     "name": "stdout",
     "output_type": "stream",
     "text": [
      "<RawArray | 61 x 525 (5.2 s), ~340 kB, data loaded> 4.0 info empirical\n",
      "<RawArray | 61 x 583 (5.8 s), ~368 kB, data loaded> 4.0 info empirical\n",
      "<RawArray | 61 x 535 (5.3 s), ~345 kB, data loaded> 4.0 info empirical\n",
      "<RawArray | 61 x 476 (4.8 s), ~317 kB, data loaded> 4.0 info empirical\n"
     ]
    },
    {
     "name": "stderr",
     "output_type": "stream",
     "text": [
      "c:\\Users\\Lukas\\Documents\\projects\\esinet\\evaluate\\..\\esinet\\util\\util.py:420: RuntimeWarning: Too few samples (required : 310 got : 120), covariance estimate may be unreliable\n",
      "  data_cov = mne.compute_raw_covariance(raw, tmin=tmin,\n",
      "c:\\Users\\Lukas\\Documents\\projects\\esinet\\evaluate\\..\\esinet\\util\\util.py:388: RuntimeWarning: An average reference projection was already added. The data has been left untouched.\n",
      "  epochs.set_eeg_reference(projection=True, verbose=verbose)#.apply_baseline(baseline=baseline)\n",
      "c:\\Users\\Lukas\\Documents\\projects\\esinet\\evaluate\\..\\esinet\\util\\util.py:420: RuntimeWarning: Too few samples (required : 310 got : 180), covariance estimate may be unreliable\n",
      "  data_cov = mne.compute_raw_covariance(raw, tmin=tmin,\n",
      "c:\\Users\\Lukas\\Documents\\projects\\esinet\\evaluate\\..\\esinet\\util\\util.py:388: RuntimeWarning: An average reference projection was already added. The data has been left untouched.\n",
      "  epochs.set_eeg_reference(projection=True, verbose=verbose)#.apply_baseline(baseline=baseline)\n",
      "c:\\Users\\Lukas\\Documents\\projects\\esinet\\evaluate\\..\\esinet\\util\\util.py:420: RuntimeWarning: Too few samples (required : 310 got : 120), covariance estimate may be unreliable\n",
      "  data_cov = mne.compute_raw_covariance(raw, tmin=tmin,\n",
      "c:\\Users\\Lukas\\Documents\\projects\\esinet\\evaluate\\..\\esinet\\util\\util.py:388: RuntimeWarning: An average reference projection was already added. The data has been left untouched.\n",
      "  epochs.set_eeg_reference(projection=True, verbose=verbose)#.apply_baseline(baseline=baseline)\n",
      "c:\\Users\\Lukas\\Documents\\projects\\esinet\\evaluate\\..\\esinet\\util\\util.py:420: RuntimeWarning: Too few samples (required : 310 got : 60), covariance estimate may be unreliable\n",
      "  data_cov = mne.compute_raw_covariance(raw, tmin=tmin,\n",
      "c:\\Users\\Lukas\\Documents\\projects\\esinet\\evaluate\\..\\esinet\\util\\util.py:388: RuntimeWarning: An average reference projection was already added. The data has been left untouched.\n",
      "  epochs.set_eeg_reference(projection=True, verbose=verbose)#.apply_baseline(baseline=baseline)\n"
     ]
    },
    {
     "name": "stdout",
     "output_type": "stream",
     "text": [
      "<RawArray | 61 x 499 (5.0 s), ~328 kB, data loaded> 4.0 info empirical\n",
      "<RawArray | 61 x 577 (5.8 s), ~365 kB, data loaded> 4.0 info empirical\n",
      "<RawArray | 61 x 561 (5.6 s), ~357 kB, data loaded> 4.0 info empirical\n",
      "<RawArray | 61 x 510 (5.1 s), ~333 kB, data loaded> 4.0 info empirical\n"
     ]
    },
    {
     "name": "stderr",
     "output_type": "stream",
     "text": [
      "c:\\Users\\Lukas\\Documents\\projects\\esinet\\evaluate\\..\\esinet\\util\\util.py:420: RuntimeWarning: Too few samples (required : 310 got : 80), covariance estimate may be unreliable\n",
      "  data_cov = mne.compute_raw_covariance(raw, tmin=tmin,\n",
      "c:\\Users\\Lukas\\Documents\\projects\\esinet\\evaluate\\..\\esinet\\util\\util.py:388: RuntimeWarning: An average reference projection was already added. The data has been left untouched.\n",
      "  epochs.set_eeg_reference(projection=True, verbose=verbose)#.apply_baseline(baseline=baseline)\n",
      "c:\\Users\\Lukas\\Documents\\projects\\esinet\\evaluate\\..\\esinet\\util\\util.py:420: RuntimeWarning: Too few samples (required : 310 got : 160), covariance estimate may be unreliable\n",
      "  data_cov = mne.compute_raw_covariance(raw, tmin=tmin,\n",
      "c:\\Users\\Lukas\\Documents\\projects\\esinet\\evaluate\\..\\esinet\\util\\util.py:388: RuntimeWarning: An average reference projection was already added. The data has been left untouched.\n",
      "  epochs.set_eeg_reference(projection=True, verbose=verbose)#.apply_baseline(baseline=baseline)\n",
      "c:\\Users\\Lukas\\Documents\\projects\\esinet\\evaluate\\..\\esinet\\util\\util.py:420: RuntimeWarning: Too few samples (required : 310 got : 160), covariance estimate may be unreliable\n",
      "  data_cov = mne.compute_raw_covariance(raw, tmin=tmin,\n",
      "c:\\Users\\Lukas\\Documents\\projects\\esinet\\evaluate\\..\\esinet\\util\\util.py:388: RuntimeWarning: An average reference projection was already added. The data has been left untouched.\n",
      "  epochs.set_eeg_reference(projection=True, verbose=verbose)#.apply_baseline(baseline=baseline)\n",
      "c:\\Users\\Lukas\\Documents\\projects\\esinet\\evaluate\\..\\esinet\\util\\util.py:420: RuntimeWarning: Too few samples (required : 310 got : 100), covariance estimate may be unreliable\n",
      "  data_cov = mne.compute_raw_covariance(raw, tmin=tmin,\n",
      "c:\\Users\\Lukas\\Documents\\projects\\esinet\\evaluate\\..\\esinet\\util\\util.py:388: RuntimeWarning: An average reference projection was already added. The data has been left untouched.\n",
      "  epochs.set_eeg_reference(projection=True, verbose=verbose)#.apply_baseline(baseline=baseline)\n"
     ]
    },
    {
     "name": "stdout",
     "output_type": "stream",
     "text": [
      "<RawArray | 61 x 435 (4.3 s), ~297 kB, data loaded> 4.0 info empirical\n",
      "<RawArray | 61 x 443 (4.4 s), ~301 kB, data loaded> 4.0 info empirical\n",
      "<RawArray | 61 x 575 (5.7 s), ~364 kB, data loaded> 4.0 info empirical\n",
      "<RawArray | 61 x 599 (6.0 s), ~375 kB, data loaded> 4.0 info empirical\n"
     ]
    },
    {
     "name": "stderr",
     "output_type": "stream",
     "text": [
      "c:\\Users\\Lukas\\Documents\\projects\\esinet\\evaluate\\..\\esinet\\util\\util.py:420: RuntimeWarning: Too few samples (required : 310 got : 20), covariance estimate may be unreliable\n",
      "  data_cov = mne.compute_raw_covariance(raw, tmin=tmin,\n",
      "c:\\Users\\Lukas\\Documents\\projects\\esinet\\evaluate\\..\\esinet\\util\\util.py:388: RuntimeWarning: An average reference projection was already added. The data has been left untouched.\n",
      "  epochs.set_eeg_reference(projection=True, verbose=verbose)#.apply_baseline(baseline=baseline)\n",
      "c:\\Users\\Lukas\\Documents\\projects\\esinet\\evaluate\\..\\esinet\\util\\util.py:420: RuntimeWarning: Too few samples (required : 310 got : 40), covariance estimate may be unreliable\n",
      "  data_cov = mne.compute_raw_covariance(raw, tmin=tmin,\n",
      "c:\\Users\\Lukas\\Documents\\projects\\esinet\\evaluate\\..\\esinet\\util\\util.py:388: RuntimeWarning: An average reference projection was already added. The data has been left untouched.\n",
      "  epochs.set_eeg_reference(projection=True, verbose=verbose)#.apply_baseline(baseline=baseline)\n",
      "c:\\Users\\Lukas\\Documents\\projects\\esinet\\evaluate\\..\\esinet\\util\\util.py:420: RuntimeWarning: Too few samples (required : 310 got : 160), covariance estimate may be unreliable\n",
      "  data_cov = mne.compute_raw_covariance(raw, tmin=tmin,\n",
      "c:\\Users\\Lukas\\Documents\\projects\\esinet\\evaluate\\..\\esinet\\util\\util.py:388: RuntimeWarning: An average reference projection was already added. The data has been left untouched.\n",
      "  epochs.set_eeg_reference(projection=True, verbose=verbose)#.apply_baseline(baseline=baseline)\n",
      "c:\\Users\\Lukas\\Documents\\projects\\esinet\\evaluate\\..\\esinet\\util\\util.py:420: RuntimeWarning: Too few samples (required : 310 got : 180), covariance estimate may be unreliable\n",
      "  data_cov = mne.compute_raw_covariance(raw, tmin=tmin,\n",
      "c:\\Users\\Lukas\\Documents\\projects\\esinet\\evaluate\\..\\esinet\\util\\util.py:388: RuntimeWarning: An average reference projection was already added. The data has been left untouched.\n",
      "  epochs.set_eeg_reference(projection=True, verbose=verbose)#.apply_baseline(baseline=baseline)\n"
     ]
    },
    {
     "name": "stdout",
     "output_type": "stream",
     "text": [
      "<RawArray | 61 x 585 (5.8 s), ~369 kB, data loaded> 4.0 info empirical\n",
      "<RawArray | 61 x 598 (6.0 s), ~375 kB, data loaded> 4.0 info empirical\n",
      "<RawArray | 61 x 478 (4.8 s), ~318 kB, data loaded> 4.0 info empirical\n",
      "<RawArray | 61 x 519 (5.2 s), ~337 kB, data loaded> 4.0 info empirical\n"
     ]
    },
    {
     "name": "stderr",
     "output_type": "stream",
     "text": [
      "c:\\Users\\Lukas\\Documents\\projects\\esinet\\evaluate\\..\\esinet\\util\\util.py:420: RuntimeWarning: Too few samples (required : 310 got : 180), covariance estimate may be unreliable\n",
      "  data_cov = mne.compute_raw_covariance(raw, tmin=tmin,\n",
      "c:\\Users\\Lukas\\Documents\\projects\\esinet\\evaluate\\..\\esinet\\util\\util.py:388: RuntimeWarning: An average reference projection was already added. The data has been left untouched.\n",
      "  epochs.set_eeg_reference(projection=True, verbose=verbose)#.apply_baseline(baseline=baseline)\n",
      "c:\\Users\\Lukas\\Documents\\projects\\esinet\\evaluate\\..\\esinet\\util\\util.py:420: RuntimeWarning: Too few samples (required : 310 got : 180), covariance estimate may be unreliable\n",
      "  data_cov = mne.compute_raw_covariance(raw, tmin=tmin,\n",
      "c:\\Users\\Lukas\\Documents\\projects\\esinet\\evaluate\\..\\esinet\\util\\util.py:388: RuntimeWarning: An average reference projection was already added. The data has been left untouched.\n",
      "  epochs.set_eeg_reference(projection=True, verbose=verbose)#.apply_baseline(baseline=baseline)\n",
      "c:\\Users\\Lukas\\Documents\\projects\\esinet\\evaluate\\..\\esinet\\util\\util.py:420: RuntimeWarning: Too few samples (required : 310 got : 60), covariance estimate may be unreliable\n",
      "  data_cov = mne.compute_raw_covariance(raw, tmin=tmin,\n",
      "c:\\Users\\Lukas\\Documents\\projects\\esinet\\evaluate\\..\\esinet\\util\\util.py:388: RuntimeWarning: An average reference projection was already added. The data has been left untouched.\n",
      "  epochs.set_eeg_reference(projection=True, verbose=verbose)#.apply_baseline(baseline=baseline)\n",
      "c:\\Users\\Lukas\\Documents\\projects\\esinet\\evaluate\\..\\esinet\\util\\util.py:420: RuntimeWarning: Too few samples (required : 310 got : 100), covariance estimate may be unreliable\n",
      "  data_cov = mne.compute_raw_covariance(raw, tmin=tmin,\n",
      "c:\\Users\\Lukas\\Documents\\projects\\esinet\\evaluate\\..\\esinet\\util\\util.py:388: RuntimeWarning: An average reference projection was already added. The data has been left untouched.\n",
      "  epochs.set_eeg_reference(projection=True, verbose=verbose)#.apply_baseline(baseline=baseline)\n"
     ]
    },
    {
     "name": "stdout",
     "output_type": "stream",
     "text": [
      "<RawArray | 61 x 577 (5.8 s), ~365 kB, data loaded> 4.0 info empirical\n",
      "<RawArray | 61 x 564 (5.6 s), ~359 kB, data loaded> 4.0 info empirical\n",
      "<RawArray | 61 x 494 (4.9 s), ~325 kB, data loaded> 4.0 info empirical\n",
      "<RawArray | 61 x 456 (4.5 s), ~307 kB, data loaded> 4.0 info empirical\n"
     ]
    },
    {
     "name": "stderr",
     "output_type": "stream",
     "text": [
      "c:\\Users\\Lukas\\Documents\\projects\\esinet\\evaluate\\..\\esinet\\util\\util.py:420: RuntimeWarning: Too few samples (required : 310 got : 160), covariance estimate may be unreliable\n",
      "  data_cov = mne.compute_raw_covariance(raw, tmin=tmin,\n",
      "c:\\Users\\Lukas\\Documents\\projects\\esinet\\evaluate\\..\\esinet\\util\\util.py:388: RuntimeWarning: An average reference projection was already added. The data has been left untouched.\n",
      "  epochs.set_eeg_reference(projection=True, verbose=verbose)#.apply_baseline(baseline=baseline)\n",
      "c:\\Users\\Lukas\\Documents\\projects\\esinet\\evaluate\\..\\esinet\\util\\util.py:420: RuntimeWarning: Too few samples (required : 310 got : 160), covariance estimate may be unreliable\n",
      "  data_cov = mne.compute_raw_covariance(raw, tmin=tmin,\n",
      "c:\\Users\\Lukas\\Documents\\projects\\esinet\\evaluate\\..\\esinet\\util\\util.py:388: RuntimeWarning: An average reference projection was already added. The data has been left untouched.\n",
      "  epochs.set_eeg_reference(projection=True, verbose=verbose)#.apply_baseline(baseline=baseline)\n",
      "c:\\Users\\Lukas\\Documents\\projects\\esinet\\evaluate\\..\\esinet\\util\\util.py:420: RuntimeWarning: Too few samples (required : 310 got : 80), covariance estimate may be unreliable\n",
      "  data_cov = mne.compute_raw_covariance(raw, tmin=tmin,\n",
      "c:\\Users\\Lukas\\Documents\\projects\\esinet\\evaluate\\..\\esinet\\util\\util.py:388: RuntimeWarning: An average reference projection was already added. The data has been left untouched.\n",
      "  epochs.set_eeg_reference(projection=True, verbose=verbose)#.apply_baseline(baseline=baseline)\n",
      "c:\\Users\\Lukas\\Documents\\projects\\esinet\\evaluate\\..\\esinet\\util\\util.py:420: RuntimeWarning: Too few samples (required : 310 got : 40), covariance estimate may be unreliable\n",
      "  data_cov = mne.compute_raw_covariance(raw, tmin=tmin,\n",
      "c:\\Users\\Lukas\\Documents\\projects\\esinet\\evaluate\\..\\esinet\\util\\util.py:388: RuntimeWarning: An average reference projection was already added. The data has been left untouched.\n",
      "  epochs.set_eeg_reference(projection=True, verbose=verbose)#.apply_baseline(baseline=baseline)\n"
     ]
    },
    {
     "name": "stdout",
     "output_type": "stream",
     "text": [
      "<RawArray | 61 x 429 (4.3 s), ~294 kB, data loaded> 4.0 info empirical\n",
      "<RawArray | 61 x 475 (4.7 s), ~316 kB, data loaded> 4.0 info empirical\n",
      "<RawArray | 61 x 417 (4.2 s), ~289 kB, data loaded> 4.0 info empirical\n",
      "<RawArray | 61 x 486 (4.8 s), ~321 kB, data loaded> 4.0 info empirical\n"
     ]
    },
    {
     "name": "stderr",
     "output_type": "stream",
     "text": [
      "c:\\Users\\Lukas\\Documents\\projects\\esinet\\evaluate\\..\\esinet\\util\\util.py:420: RuntimeWarning: Too few samples (required : 310 got : 20), covariance estimate may be unreliable\n",
      "  data_cov = mne.compute_raw_covariance(raw, tmin=tmin,\n",
      "c:\\Users\\Lukas\\Documents\\projects\\esinet\\evaluate\\..\\esinet\\util\\util.py:388: RuntimeWarning: An average reference projection was already added. The data has been left untouched.\n",
      "  epochs.set_eeg_reference(projection=True, verbose=verbose)#.apply_baseline(baseline=baseline)\n",
      "c:\\Users\\Lukas\\Documents\\projects\\esinet\\evaluate\\..\\esinet\\util\\util.py:420: RuntimeWarning: Too few samples (required : 310 got : 60), covariance estimate may be unreliable\n",
      "  data_cov = mne.compute_raw_covariance(raw, tmin=tmin,\n",
      "c:\\Users\\Lukas\\Documents\\projects\\esinet\\evaluate\\..\\esinet\\util\\util.py:388: RuntimeWarning: An average reference projection was already added. The data has been left untouched.\n",
      "  epochs.set_eeg_reference(projection=True, verbose=verbose)#.apply_baseline(baseline=baseline)\n",
      "c:\\Users\\Lukas\\Documents\\projects\\esinet\\evaluate\\..\\esinet\\util\\util.py:423: RuntimeWarning: Epochs are not baseline corrected, covariance matrix may be inaccurate\n",
      "  data_cov = mne.compute_covariance(epochs, tmin=0.0,\n",
      "c:\\Users\\Lukas\\Documents\\projects\\esinet\\evaluate\\..\\esinet\\util\\util.py:423: RuntimeWarning: Too few samples (required : 310 got : 17), covariance estimate may be unreliable\n",
      "  data_cov = mne.compute_covariance(epochs, tmin=0.0,\n",
      "c:\\Users\\Lukas\\Documents\\projects\\esinet\\evaluate\\..\\esinet\\util\\util.py:388: RuntimeWarning: An average reference projection was already added. The data has been left untouched.\n",
      "  epochs.set_eeg_reference(projection=True, verbose=verbose)#.apply_baseline(baseline=baseline)\n",
      "c:\\Users\\Lukas\\Documents\\projects\\esinet\\evaluate\\..\\esinet\\util\\util.py:420: RuntimeWarning: Too few samples (required : 310 got : 80), covariance estimate may be unreliable\n",
      "  data_cov = mne.compute_raw_covariance(raw, tmin=tmin,\n",
      "c:\\Users\\Lukas\\Documents\\projects\\esinet\\evaluate\\..\\esinet\\util\\util.py:388: RuntimeWarning: An average reference projection was already added. The data has been left untouched.\n",
      "  epochs.set_eeg_reference(projection=True, verbose=verbose)#.apply_baseline(baseline=baseline)\n"
     ]
    },
    {
     "name": "stdout",
     "output_type": "stream",
     "text": [
      "<RawArray | 61 x 509 (5.1 s), ~332 kB, data loaded> 4.0 info empirical\n",
      "<RawArray | 61 x 542 (5.4 s), ~348 kB, data loaded> 4.0 info empirical\n",
      "<RawArray | 61 x 553 (5.5 s), ~353 kB, data loaded> 4.0 info empirical\n",
      "<RawArray | 61 x 563 (5.6 s), ~358 kB, data loaded> 4.0 info empirical\n"
     ]
    },
    {
     "name": "stderr",
     "output_type": "stream",
     "text": [
      "c:\\Users\\Lukas\\Documents\\projects\\esinet\\evaluate\\..\\esinet\\util\\util.py:420: RuntimeWarning: Too few samples (required : 310 got : 100), covariance estimate may be unreliable\n",
      "  data_cov = mne.compute_raw_covariance(raw, tmin=tmin,\n",
      "c:\\Users\\Lukas\\Documents\\projects\\esinet\\evaluate\\..\\esinet\\util\\util.py:388: RuntimeWarning: An average reference projection was already added. The data has been left untouched.\n",
      "  epochs.set_eeg_reference(projection=True, verbose=verbose)#.apply_baseline(baseline=baseline)\n",
      "c:\\Users\\Lukas\\Documents\\projects\\esinet\\evaluate\\..\\esinet\\util\\util.py:420: RuntimeWarning: Too few samples (required : 310 got : 140), covariance estimate may be unreliable\n",
      "  data_cov = mne.compute_raw_covariance(raw, tmin=tmin,\n",
      "c:\\Users\\Lukas\\Documents\\projects\\esinet\\evaluate\\..\\esinet\\util\\util.py:388: RuntimeWarning: An average reference projection was already added. The data has been left untouched.\n",
      "  epochs.set_eeg_reference(projection=True, verbose=verbose)#.apply_baseline(baseline=baseline)\n",
      "c:\\Users\\Lukas\\Documents\\projects\\esinet\\evaluate\\..\\esinet\\util\\util.py:420: RuntimeWarning: Too few samples (required : 310 got : 140), covariance estimate may be unreliable\n",
      "  data_cov = mne.compute_raw_covariance(raw, tmin=tmin,\n",
      "c:\\Users\\Lukas\\Documents\\projects\\esinet\\evaluate\\..\\esinet\\util\\util.py:388: RuntimeWarning: An average reference projection was already added. The data has been left untouched.\n",
      "  epochs.set_eeg_reference(projection=True, verbose=verbose)#.apply_baseline(baseline=baseline)\n",
      "c:\\Users\\Lukas\\Documents\\projects\\esinet\\evaluate\\..\\esinet\\util\\util.py:420: RuntimeWarning: Too few samples (required : 310 got : 160), covariance estimate may be unreliable\n",
      "  data_cov = mne.compute_raw_covariance(raw, tmin=tmin,\n",
      "c:\\Users\\Lukas\\Documents\\projects\\esinet\\evaluate\\..\\esinet\\util\\util.py:388: RuntimeWarning: An average reference projection was already added. The data has been left untouched.\n",
      "  epochs.set_eeg_reference(projection=True, verbose=verbose)#.apply_baseline(baseline=baseline)\n"
     ]
    },
    {
     "name": "stdout",
     "output_type": "stream",
     "text": [
      "<RawArray | 61 x 589 (5.9 s), ~371 kB, data loaded> 4.0 info empirical\n",
      "<RawArray | 61 x 419 (4.2 s), ~289 kB, data loaded> 4.0 info empirical\n",
      "<RawArray | 61 x 593 (5.9 s), ~372 kB, data loaded> 4.0 info empirical\n",
      "<RawArray | 61 x 505 (5.0 s), ~330 kB, data loaded> 4.0 info empirical\n"
     ]
    },
    {
     "name": "stderr",
     "output_type": "stream",
     "text": [
      "c:\\Users\\Lukas\\Documents\\projects\\esinet\\evaluate\\..\\esinet\\util\\util.py:420: RuntimeWarning: Too few samples (required : 310 got : 180), covariance estimate may be unreliable\n",
      "  data_cov = mne.compute_raw_covariance(raw, tmin=tmin,\n",
      "c:\\Users\\Lukas\\Documents\\projects\\esinet\\evaluate\\..\\esinet\\util\\util.py:388: RuntimeWarning: An average reference projection was already added. The data has been left untouched.\n",
      "  epochs.set_eeg_reference(projection=True, verbose=verbose)#.apply_baseline(baseline=baseline)\n",
      "c:\\Users\\Lukas\\Documents\\projects\\esinet\\evaluate\\..\\esinet\\util\\util.py:423: RuntimeWarning: Epochs are not baseline corrected, covariance matrix may be inaccurate\n",
      "  data_cov = mne.compute_covariance(epochs, tmin=0.0,\n",
      "c:\\Users\\Lukas\\Documents\\projects\\esinet\\evaluate\\..\\esinet\\util\\util.py:423: RuntimeWarning: Too few samples (required : 310 got : 19), covariance estimate may be unreliable\n",
      "  data_cov = mne.compute_covariance(epochs, tmin=0.0,\n",
      "c:\\Users\\Lukas\\Documents\\projects\\esinet\\evaluate\\..\\esinet\\util\\util.py:388: RuntimeWarning: An average reference projection was already added. The data has been left untouched.\n",
      "  epochs.set_eeg_reference(projection=True, verbose=verbose)#.apply_baseline(baseline=baseline)\n",
      "c:\\Users\\Lukas\\Documents\\projects\\esinet\\evaluate\\..\\esinet\\util\\util.py:420: RuntimeWarning: Too few samples (required : 310 got : 180), covariance estimate may be unreliable\n",
      "  data_cov = mne.compute_raw_covariance(raw, tmin=tmin,\n",
      "c:\\Users\\Lukas\\Documents\\projects\\esinet\\evaluate\\..\\esinet\\util\\util.py:388: RuntimeWarning: An average reference projection was already added. The data has been left untouched.\n",
      "  epochs.set_eeg_reference(projection=True, verbose=verbose)#.apply_baseline(baseline=baseline)\n",
      "c:\\Users\\Lukas\\Documents\\projects\\esinet\\evaluate\\..\\esinet\\util\\util.py:420: RuntimeWarning: Too few samples (required : 310 got : 100), covariance estimate may be unreliable\n",
      "  data_cov = mne.compute_raw_covariance(raw, tmin=tmin,\n"
     ]
    },
    {
     "name": "stdout",
     "output_type": "stream",
     "text": [
      "<RawArray | 61 x 508 (5.1 s), ~332 kB, data loaded> 4.0 info empirical\n",
      "<RawArray | 61 x 510 (5.1 s), ~333 kB, data loaded> 4.0 info empirical\n",
      "<RawArray | 61 x 499 (5.0 s), ~328 kB, data loaded> 4.0 info empirical\n",
      "<RawArray | 61 x 424 (4.2 s), ~292 kB, data loaded> 4.0 info empirical\n"
     ]
    },
    {
     "name": "stderr",
     "output_type": "stream",
     "text": [
      "c:\\Users\\Lukas\\Documents\\projects\\esinet\\evaluate\\..\\esinet\\util\\util.py:388: RuntimeWarning: An average reference projection was already added. The data has been left untouched.\n",
      "  epochs.set_eeg_reference(projection=True, verbose=verbose)#.apply_baseline(baseline=baseline)\n",
      "c:\\Users\\Lukas\\Documents\\projects\\esinet\\evaluate\\..\\esinet\\util\\util.py:420: RuntimeWarning: Too few samples (required : 310 got : 100), covariance estimate may be unreliable\n",
      "  data_cov = mne.compute_raw_covariance(raw, tmin=tmin,\n",
      "c:\\Users\\Lukas\\Documents\\projects\\esinet\\evaluate\\..\\esinet\\util\\util.py:388: RuntimeWarning: An average reference projection was already added. The data has been left untouched.\n",
      "  epochs.set_eeg_reference(projection=True, verbose=verbose)#.apply_baseline(baseline=baseline)\n",
      "c:\\Users\\Lukas\\Documents\\projects\\esinet\\evaluate\\..\\esinet\\util\\util.py:420: RuntimeWarning: Too few samples (required : 310 got : 100), covariance estimate may be unreliable\n",
      "  data_cov = mne.compute_raw_covariance(raw, tmin=tmin,\n",
      "c:\\Users\\Lukas\\Documents\\projects\\esinet\\evaluate\\..\\esinet\\util\\util.py:388: RuntimeWarning: An average reference projection was already added. The data has been left untouched.\n",
      "  epochs.set_eeg_reference(projection=True, verbose=verbose)#.apply_baseline(baseline=baseline)\n",
      "c:\\Users\\Lukas\\Documents\\projects\\esinet\\evaluate\\..\\esinet\\util\\util.py:420: RuntimeWarning: Too few samples (required : 310 got : 80), covariance estimate may be unreliable\n",
      "  data_cov = mne.compute_raw_covariance(raw, tmin=tmin,\n",
      "c:\\Users\\Lukas\\Documents\\projects\\esinet\\evaluate\\..\\esinet\\util\\util.py:388: RuntimeWarning: An average reference projection was already added. The data has been left untouched.\n",
      "  epochs.set_eeg_reference(projection=True, verbose=verbose)#.apply_baseline(baseline=baseline)\n",
      "c:\\Users\\Lukas\\Documents\\projects\\esinet\\evaluate\\..\\esinet\\util\\util.py:420: RuntimeWarning: Too few samples (required : 310 got : 20), covariance estimate may be unreliable\n",
      "  data_cov = mne.compute_raw_covariance(raw, tmin=tmin,\n",
      "c:\\Users\\Lukas\\Documents\\projects\\esinet\\evaluate\\..\\esinet\\util\\util.py:388: RuntimeWarning: An average reference projection was already added. The data has been left untouched.\n",
      "  epochs.set_eeg_reference(projection=True, verbose=verbose)#.apply_baseline(baseline=baseline)\n"
     ]
    },
    {
     "name": "stdout",
     "output_type": "stream",
     "text": [
      "<RawArray | 61 x 497 (5.0 s), ~327 kB, data loaded> 4.0 info empirical\n",
      "<RawArray | 61 x 430 (4.3 s), ~295 kB, data loaded> 4.0 info empirical\n",
      "<RawArray | 61 x 562 (5.6 s), ~358 kB, data loaded> 4.0 info empirical\n",
      "<RawArray | 61 x 532 (5.3 s), ~343 kB, data loaded> 4.0 info empirical\n"
     ]
    },
    {
     "name": "stderr",
     "output_type": "stream",
     "text": [
      "c:\\Users\\Lukas\\Documents\\projects\\esinet\\evaluate\\..\\esinet\\util\\util.py:420: RuntimeWarning: Too few samples (required : 310 got : 80), covariance estimate may be unreliable\n",
      "  data_cov = mne.compute_raw_covariance(raw, tmin=tmin,\n",
      "c:\\Users\\Lukas\\Documents\\projects\\esinet\\evaluate\\..\\esinet\\util\\util.py:388: RuntimeWarning: An average reference projection was already added. The data has been left untouched.\n",
      "  epochs.set_eeg_reference(projection=True, verbose=verbose)#.apply_baseline(baseline=baseline)\n",
      "c:\\Users\\Lukas\\Documents\\projects\\esinet\\evaluate\\..\\esinet\\util\\util.py:420: RuntimeWarning: Too few samples (required : 310 got : 20), covariance estimate may be unreliable\n",
      "  data_cov = mne.compute_raw_covariance(raw, tmin=tmin,\n",
      "c:\\Users\\Lukas\\Documents\\projects\\esinet\\evaluate\\..\\esinet\\util\\util.py:388: RuntimeWarning: An average reference projection was already added. The data has been left untouched.\n",
      "  epochs.set_eeg_reference(projection=True, verbose=verbose)#.apply_baseline(baseline=baseline)\n",
      "c:\\Users\\Lukas\\Documents\\projects\\esinet\\evaluate\\..\\esinet\\util\\util.py:420: RuntimeWarning: Too few samples (required : 310 got : 160), covariance estimate may be unreliable\n",
      "  data_cov = mne.compute_raw_covariance(raw, tmin=tmin,\n",
      "c:\\Users\\Lukas\\Documents\\projects\\esinet\\evaluate\\..\\esinet\\util\\util.py:388: RuntimeWarning: An average reference projection was already added. The data has been left untouched.\n",
      "  epochs.set_eeg_reference(projection=True, verbose=verbose)#.apply_baseline(baseline=baseline)\n",
      "c:\\Users\\Lukas\\Documents\\projects\\esinet\\evaluate\\..\\esinet\\util\\util.py:420: RuntimeWarning: Too few samples (required : 310 got : 120), covariance estimate may be unreliable\n",
      "  data_cov = mne.compute_raw_covariance(raw, tmin=tmin,\n"
     ]
    },
    {
     "name": "stdout",
     "output_type": "stream",
     "text": [
      "<RawArray | 61 x 575 (5.7 s), ~364 kB, data loaded> 4.0 info empirical\n",
      "<RawArray | 61 x 464 (4.6 s), ~311 kB, data loaded> 4.0 info empirical\n",
      "<RawArray | 61 x 599 (6.0 s), ~375 kB, data loaded> 4.0 info empirical\n",
      "<RawArray | 61 x 563 (5.6 s), ~358 kB, data loaded> 4.0 info empirical\n"
     ]
    },
    {
     "name": "stderr",
     "output_type": "stream",
     "text": [
      "c:\\Users\\Lukas\\Documents\\projects\\esinet\\evaluate\\..\\esinet\\util\\util.py:388: RuntimeWarning: An average reference projection was already added. The data has been left untouched.\n",
      "  epochs.set_eeg_reference(projection=True, verbose=verbose)#.apply_baseline(baseline=baseline)\n",
      "c:\\Users\\Lukas\\Documents\\projects\\esinet\\evaluate\\..\\esinet\\util\\util.py:420: RuntimeWarning: Too few samples (required : 310 got : 160), covariance estimate may be unreliable\n",
      "  data_cov = mne.compute_raw_covariance(raw, tmin=tmin,\n",
      "c:\\Users\\Lukas\\Documents\\projects\\esinet\\evaluate\\..\\esinet\\util\\util.py:388: RuntimeWarning: An average reference projection was already added. The data has been left untouched.\n",
      "  epochs.set_eeg_reference(projection=True, verbose=verbose)#.apply_baseline(baseline=baseline)\n",
      "c:\\Users\\Lukas\\Documents\\projects\\esinet\\evaluate\\..\\esinet\\util\\util.py:420: RuntimeWarning: Too few samples (required : 310 got : 60), covariance estimate may be unreliable\n",
      "  data_cov = mne.compute_raw_covariance(raw, tmin=tmin,\n",
      "c:\\Users\\Lukas\\Documents\\projects\\esinet\\evaluate\\..\\esinet\\util\\util.py:388: RuntimeWarning: An average reference projection was already added. The data has been left untouched.\n",
      "  epochs.set_eeg_reference(projection=True, verbose=verbose)#.apply_baseline(baseline=baseline)\n",
      "c:\\Users\\Lukas\\Documents\\projects\\esinet\\evaluate\\..\\esinet\\util\\util.py:420: RuntimeWarning: Too few samples (required : 310 got : 180), covariance estimate may be unreliable\n",
      "  data_cov = mne.compute_raw_covariance(raw, tmin=tmin,\n",
      "c:\\Users\\Lukas\\Documents\\projects\\esinet\\evaluate\\..\\esinet\\util\\util.py:388: RuntimeWarning: An average reference projection was already added. The data has been left untouched.\n",
      "  epochs.set_eeg_reference(projection=True, verbose=verbose)#.apply_baseline(baseline=baseline)\n",
      "c:\\Users\\Lukas\\Documents\\projects\\esinet\\evaluate\\..\\esinet\\util\\util.py:420: RuntimeWarning: Too few samples (required : 310 got : 160), covariance estimate may be unreliable\n",
      "  data_cov = mne.compute_raw_covariance(raw, tmin=tmin,\n"
     ]
    },
    {
     "name": "stdout",
     "output_type": "stream",
     "text": [
      "<RawArray | 61 x 555 (5.5 s), ~354 kB, data loaded> 4.0 info empirical\n",
      "<RawArray | 61 x 418 (4.2 s), ~289 kB, data loaded> 4.0 info empirical\n",
      "<RawArray | 61 x 502 (5.0 s), ~329 kB, data loaded> 4.0 info empirical\n",
      "<RawArray | 61 x 403 (4.0 s), ~282 kB, data loaded> 4.0 info empirical\n"
     ]
    },
    {
     "name": "stderr",
     "output_type": "stream",
     "text": [
      "c:\\Users\\Lukas\\Documents\\projects\\esinet\\evaluate\\..\\esinet\\util\\util.py:388: RuntimeWarning: An average reference projection was already added. The data has been left untouched.\n",
      "  epochs.set_eeg_reference(projection=True, verbose=verbose)#.apply_baseline(baseline=baseline)\n",
      "c:\\Users\\Lukas\\Documents\\projects\\esinet\\evaluate\\..\\esinet\\util\\util.py:420: RuntimeWarning: Too few samples (required : 310 got : 140), covariance estimate may be unreliable\n",
      "  data_cov = mne.compute_raw_covariance(raw, tmin=tmin,\n",
      "c:\\Users\\Lukas\\Documents\\projects\\esinet\\evaluate\\..\\esinet\\util\\util.py:388: RuntimeWarning: An average reference projection was already added. The data has been left untouched.\n",
      "  epochs.set_eeg_reference(projection=True, verbose=verbose)#.apply_baseline(baseline=baseline)\n",
      "c:\\Users\\Lukas\\Documents\\projects\\esinet\\evaluate\\..\\esinet\\util\\util.py:423: RuntimeWarning: Epochs are not baseline corrected, covariance matrix may be inaccurate\n",
      "  data_cov = mne.compute_covariance(epochs, tmin=0.0,\n",
      "c:\\Users\\Lukas\\Documents\\projects\\esinet\\evaluate\\..\\esinet\\util\\util.py:423: RuntimeWarning: Too few samples (required : 310 got : 18), covariance estimate may be unreliable\n",
      "  data_cov = mne.compute_covariance(epochs, tmin=0.0,\n",
      "c:\\Users\\Lukas\\Documents\\projects\\esinet\\evaluate\\..\\esinet\\util\\util.py:388: RuntimeWarning: An average reference projection was already added. The data has been left untouched.\n",
      "  epochs.set_eeg_reference(projection=True, verbose=verbose)#.apply_baseline(baseline=baseline)\n",
      "c:\\Users\\Lukas\\Documents\\projects\\esinet\\evaluate\\..\\esinet\\util\\util.py:420: RuntimeWarning: Too few samples (required : 310 got : 100), covariance estimate may be unreliable\n",
      "  data_cov = mne.compute_raw_covariance(raw, tmin=tmin,\n",
      "c:\\Users\\Lukas\\Documents\\projects\\esinet\\evaluate\\..\\esinet\\util\\util.py:388: RuntimeWarning: An average reference projection was already added. The data has been left untouched.\n",
      "  epochs.set_eeg_reference(projection=True, verbose=verbose)#.apply_baseline(baseline=baseline)\n",
      "c:\\Users\\Lukas\\Documents\\projects\\esinet\\evaluate\\..\\esinet\\util\\util.py:423: RuntimeWarning: Epochs are not baseline corrected, covariance matrix may be inaccurate\n",
      "  data_cov = mne.compute_covariance(epochs, tmin=0.0,\n",
      "c:\\Users\\Lukas\\Documents\\projects\\esinet\\evaluate\\..\\esinet\\util\\util.py:423: RuntimeWarning: Too few samples (required : 310 got : 3), covariance estimate may be unreliable\n",
      "  data_cov = mne.compute_covariance(epochs, tmin=0.0,\n"
     ]
    },
    {
     "name": "stdout",
     "output_type": "stream",
     "text": [
      "<RawArray | 61 x 592 (5.9 s), ~372 kB, data loaded> 4.0 info empirical\n",
      "<RawArray | 61 x 518 (5.2 s), ~337 kB, data loaded> 4.0 info empirical\n",
      "<RawArray | 61 x 426 (4.2 s), ~293 kB, data loaded> 4.0 info empirical\n",
      "<RawArray | 61 x 485 (4.8 s), ~321 kB, data loaded> 4.0 info empirical\n"
     ]
    },
    {
     "name": "stderr",
     "output_type": "stream",
     "text": [
      "c:\\Users\\Lukas\\Documents\\projects\\esinet\\evaluate\\..\\esinet\\util\\util.py:388: RuntimeWarning: An average reference projection was already added. The data has been left untouched.\n",
      "  epochs.set_eeg_reference(projection=True, verbose=verbose)#.apply_baseline(baseline=baseline)\n",
      "c:\\Users\\Lukas\\Documents\\projects\\esinet\\evaluate\\..\\esinet\\util\\util.py:420: RuntimeWarning: Too few samples (required : 310 got : 180), covariance estimate may be unreliable\n",
      "  data_cov = mne.compute_raw_covariance(raw, tmin=tmin,\n",
      "c:\\Users\\Lukas\\Documents\\projects\\esinet\\evaluate\\..\\esinet\\util\\util.py:388: RuntimeWarning: An average reference projection was already added. The data has been left untouched.\n",
      "  epochs.set_eeg_reference(projection=True, verbose=verbose)#.apply_baseline(baseline=baseline)\n",
      "c:\\Users\\Lukas\\Documents\\projects\\esinet\\evaluate\\..\\esinet\\util\\util.py:420: RuntimeWarning: Too few samples (required : 310 got : 100), covariance estimate may be unreliable\n",
      "  data_cov = mne.compute_raw_covariance(raw, tmin=tmin,\n",
      "c:\\Users\\Lukas\\Documents\\projects\\esinet\\evaluate\\..\\esinet\\util\\util.py:388: RuntimeWarning: An average reference projection was already added. The data has been left untouched.\n",
      "  epochs.set_eeg_reference(projection=True, verbose=verbose)#.apply_baseline(baseline=baseline)\n",
      "c:\\Users\\Lukas\\Documents\\projects\\esinet\\evaluate\\..\\esinet\\util\\util.py:420: RuntimeWarning: Too few samples (required : 310 got : 20), covariance estimate may be unreliable\n",
      "  data_cov = mne.compute_raw_covariance(raw, tmin=tmin,\n",
      "c:\\Users\\Lukas\\Documents\\projects\\esinet\\evaluate\\..\\esinet\\util\\util.py:388: RuntimeWarning: An average reference projection was already added. The data has been left untouched.\n",
      "  epochs.set_eeg_reference(projection=True, verbose=verbose)#.apply_baseline(baseline=baseline)\n",
      "c:\\Users\\Lukas\\Documents\\projects\\esinet\\evaluate\\..\\esinet\\util\\util.py:420: RuntimeWarning: Too few samples (required : 310 got : 80), covariance estimate may be unreliable\n",
      "  data_cov = mne.compute_raw_covariance(raw, tmin=tmin,\n",
      "c:\\Users\\Lukas\\Documents\\projects\\esinet\\evaluate\\..\\esinet\\util\\util.py:388: RuntimeWarning: An average reference projection was already added. The data has been left untouched.\n",
      "  epochs.set_eeg_reference(projection=True, verbose=verbose)#.apply_baseline(baseline=baseline)\n"
     ]
    },
    {
     "name": "stdout",
     "output_type": "stream",
     "text": [
      "<RawArray | 61 x 548 (5.5 s), ~351 kB, data loaded> 4.0 info empirical\n",
      "<RawArray | 61 x 471 (4.7 s), ~314 kB, data loaded> 4.0 info empirical\n",
      "<RawArray | 61 x 581 (5.8 s), ~367 kB, data loaded> 4.0 info empirical\n",
      "<RawArray | 61 x 542 (5.4 s), ~348 kB, data loaded> 4.0 info empirical\n"
     ]
    },
    {
     "name": "stderr",
     "output_type": "stream",
     "text": [
      "c:\\Users\\Lukas\\Documents\\projects\\esinet\\evaluate\\..\\esinet\\util\\util.py:420: RuntimeWarning: Too few samples (required : 310 got : 140), covariance estimate may be unreliable\n",
      "  data_cov = mne.compute_raw_covariance(raw, tmin=tmin,\n",
      "c:\\Users\\Lukas\\Documents\\projects\\esinet\\evaluate\\..\\esinet\\util\\util.py:388: RuntimeWarning: An average reference projection was already added. The data has been left untouched.\n",
      "  epochs.set_eeg_reference(projection=True, verbose=verbose)#.apply_baseline(baseline=baseline)\n",
      "c:\\Users\\Lukas\\Documents\\projects\\esinet\\evaluate\\..\\esinet\\util\\util.py:420: RuntimeWarning: Too few samples (required : 310 got : 60), covariance estimate may be unreliable\n",
      "  data_cov = mne.compute_raw_covariance(raw, tmin=tmin,\n",
      "c:\\Users\\Lukas\\Documents\\projects\\esinet\\evaluate\\..\\esinet\\util\\util.py:388: RuntimeWarning: An average reference projection was already added. The data has been left untouched.\n",
      "  epochs.set_eeg_reference(projection=True, verbose=verbose)#.apply_baseline(baseline=baseline)\n",
      "c:\\Users\\Lukas\\Documents\\projects\\esinet\\evaluate\\..\\esinet\\util\\util.py:420: RuntimeWarning: Too few samples (required : 310 got : 180), covariance estimate may be unreliable\n",
      "  data_cov = mne.compute_raw_covariance(raw, tmin=tmin,\n",
      "c:\\Users\\Lukas\\Documents\\projects\\esinet\\evaluate\\..\\esinet\\util\\util.py:388: RuntimeWarning: An average reference projection was already added. The data has been left untouched.\n",
      "  epochs.set_eeg_reference(projection=True, verbose=verbose)#.apply_baseline(baseline=baseline)\n",
      "c:\\Users\\Lukas\\Documents\\projects\\esinet\\evaluate\\..\\esinet\\util\\util.py:420: RuntimeWarning: Too few samples (required : 310 got : 140), covariance estimate may be unreliable\n",
      "  data_cov = mne.compute_raw_covariance(raw, tmin=tmin,\n",
      "c:\\Users\\Lukas\\Documents\\projects\\esinet\\evaluate\\..\\esinet\\util\\util.py:388: RuntimeWarning: An average reference projection was already added. The data has been left untouched.\n",
      "  epochs.set_eeg_reference(projection=True, verbose=verbose)#.apply_baseline(baseline=baseline)\n"
     ]
    },
    {
     "name": "stdout",
     "output_type": "stream",
     "text": [
      "<RawArray | 61 x 457 (4.6 s), ~308 kB, data loaded> 4.0 info empirical\n",
      "<RawArray | 61 x 569 (5.7 s), ~361 kB, data loaded> 4.0 info empirical\n",
      "<RawArray | 61 x 507 (5.1 s), ~331 kB, data loaded> 4.0 info empirical\n",
      "<RawArray | 61 x 451 (4.5 s), ~305 kB, data loaded> 4.0 info empirical\n"
     ]
    },
    {
     "name": "stderr",
     "output_type": "stream",
     "text": [
      "c:\\Users\\Lukas\\Documents\\projects\\esinet\\evaluate\\..\\esinet\\util\\util.py:420: RuntimeWarning: Too few samples (required : 310 got : 40), covariance estimate may be unreliable\n",
      "  data_cov = mne.compute_raw_covariance(raw, tmin=tmin,\n",
      "c:\\Users\\Lukas\\Documents\\projects\\esinet\\evaluate\\..\\esinet\\util\\util.py:388: RuntimeWarning: An average reference projection was already added. The data has been left untouched.\n",
      "  epochs.set_eeg_reference(projection=True, verbose=verbose)#.apply_baseline(baseline=baseline)\n",
      "c:\\Users\\Lukas\\Documents\\projects\\esinet\\evaluate\\..\\esinet\\util\\util.py:420: RuntimeWarning: Too few samples (required : 310 got : 160), covariance estimate may be unreliable\n",
      "  data_cov = mne.compute_raw_covariance(raw, tmin=tmin,\n",
      "c:\\Users\\Lukas\\Documents\\projects\\esinet\\evaluate\\..\\esinet\\util\\util.py:388: RuntimeWarning: An average reference projection was already added. The data has been left untouched.\n",
      "  epochs.set_eeg_reference(projection=True, verbose=verbose)#.apply_baseline(baseline=baseline)\n",
      "c:\\Users\\Lukas\\Documents\\projects\\esinet\\evaluate\\..\\esinet\\util\\util.py:420: RuntimeWarning: Too few samples (required : 310 got : 100), covariance estimate may be unreliable\n",
      "  data_cov = mne.compute_raw_covariance(raw, tmin=tmin,\n",
      "c:\\Users\\Lukas\\Documents\\projects\\esinet\\evaluate\\..\\esinet\\util\\util.py:388: RuntimeWarning: An average reference projection was already added. The data has been left untouched.\n",
      "  epochs.set_eeg_reference(projection=True, verbose=verbose)#.apply_baseline(baseline=baseline)\n",
      "c:\\Users\\Lukas\\Documents\\projects\\esinet\\evaluate\\..\\esinet\\util\\util.py:420: RuntimeWarning: Too few samples (required : 310 got : 40), covariance estimate may be unreliable\n",
      "  data_cov = mne.compute_raw_covariance(raw, tmin=tmin,\n",
      "c:\\Users\\Lukas\\Documents\\projects\\esinet\\evaluate\\..\\esinet\\util\\util.py:388: RuntimeWarning: An average reference projection was already added. The data has been left untouched.\n",
      "  epochs.set_eeg_reference(projection=True, verbose=verbose)#.apply_baseline(baseline=baseline)\n"
     ]
    },
    {
     "name": "stdout",
     "output_type": "stream",
     "text": [
      "<RawArray | 61 x 556 (5.5 s), ~355 kB, data loaded> 4.0 info empirical\n",
      "<RawArray | 61 x 414 (4.1 s), ~287 kB, data loaded> 4.0 info empirical\n",
      "<RawArray | 61 x 459 (4.6 s), ~309 kB, data loaded> 4.0 info empirical\n",
      "<RawArray | 61 x 511 (5.1 s), ~333 kB, data loaded> 4.0 info empirical\n"
     ]
    },
    {
     "name": "stderr",
     "output_type": "stream",
     "text": [
      "c:\\Users\\Lukas\\Documents\\projects\\esinet\\evaluate\\..\\esinet\\util\\util.py:420: RuntimeWarning: Too few samples (required : 310 got : 140), covariance estimate may be unreliable\n",
      "  data_cov = mne.compute_raw_covariance(raw, tmin=tmin,\n",
      "c:\\Users\\Lukas\\Documents\\projects\\esinet\\evaluate\\..\\esinet\\util\\util.py:388: RuntimeWarning: An average reference projection was already added. The data has been left untouched.\n",
      "  epochs.set_eeg_reference(projection=True, verbose=verbose)#.apply_baseline(baseline=baseline)\n",
      "c:\\Users\\Lukas\\Documents\\projects\\esinet\\evaluate\\..\\esinet\\util\\util.py:423: RuntimeWarning: Epochs are not baseline corrected, covariance matrix may be inaccurate\n",
      "  data_cov = mne.compute_covariance(epochs, tmin=0.0,\n",
      "c:\\Users\\Lukas\\Documents\\projects\\esinet\\evaluate\\..\\esinet\\util\\util.py:423: RuntimeWarning: Too few samples (required : 310 got : 14), covariance estimate may be unreliable\n",
      "  data_cov = mne.compute_covariance(epochs, tmin=0.0,\n",
      "c:\\Users\\Lukas\\Documents\\projects\\esinet\\evaluate\\..\\esinet\\util\\util.py:388: RuntimeWarning: An average reference projection was already added. The data has been left untouched.\n",
      "  epochs.set_eeg_reference(projection=True, verbose=verbose)#.apply_baseline(baseline=baseline)\n",
      "c:\\Users\\Lukas\\Documents\\projects\\esinet\\evaluate\\..\\esinet\\util\\util.py:420: RuntimeWarning: Too few samples (required : 310 got : 40), covariance estimate may be unreliable\n",
      "  data_cov = mne.compute_raw_covariance(raw, tmin=tmin,\n",
      "c:\\Users\\Lukas\\Documents\\projects\\esinet\\evaluate\\..\\esinet\\util\\util.py:388: RuntimeWarning: An average reference projection was already added. The data has been left untouched.\n",
      "  epochs.set_eeg_reference(projection=True, verbose=verbose)#.apply_baseline(baseline=baseline)\n",
      "c:\\Users\\Lukas\\Documents\\projects\\esinet\\evaluate\\..\\esinet\\util\\util.py:420: RuntimeWarning: Too few samples (required : 310 got : 100), covariance estimate may be unreliable\n",
      "  data_cov = mne.compute_raw_covariance(raw, tmin=tmin,\n",
      "c:\\Users\\Lukas\\Documents\\projects\\esinet\\evaluate\\..\\esinet\\util\\util.py:388: RuntimeWarning: An average reference projection was already added. The data has been left untouched.\n",
      "  epochs.set_eeg_reference(projection=True, verbose=verbose)#.apply_baseline(baseline=baseline)\n"
     ]
    },
    {
     "name": "stdout",
     "output_type": "stream",
     "text": [
      "<RawArray | 61 x 526 (5.2 s), ~340 kB, data loaded> 4.0 info empirical\n",
      "<RawArray | 61 x 507 (5.1 s), ~331 kB, data loaded> 4.0 info empirical\n",
      "<RawArray | 61 x 595 (5.9 s), ~373 kB, data loaded> 4.0 info empirical\n",
      "<RawArray | 61 x 517 (5.2 s), ~336 kB, data loaded> 4.0 info empirical\n"
     ]
    },
    {
     "name": "stderr",
     "output_type": "stream",
     "text": [
      "c:\\Users\\Lukas\\Documents\\projects\\esinet\\evaluate\\..\\esinet\\util\\util.py:420: RuntimeWarning: Too few samples (required : 310 got : 120), covariance estimate may be unreliable\n",
      "  data_cov = mne.compute_raw_covariance(raw, tmin=tmin,\n",
      "c:\\Users\\Lukas\\Documents\\projects\\esinet\\evaluate\\..\\esinet\\util\\util.py:388: RuntimeWarning: An average reference projection was already added. The data has been left untouched.\n",
      "  epochs.set_eeg_reference(projection=True, verbose=verbose)#.apply_baseline(baseline=baseline)\n",
      "c:\\Users\\Lukas\\Documents\\projects\\esinet\\evaluate\\..\\esinet\\util\\util.py:420: RuntimeWarning: Too few samples (required : 310 got : 100), covariance estimate may be unreliable\n",
      "  data_cov = mne.compute_raw_covariance(raw, tmin=tmin,\n",
      "c:\\Users\\Lukas\\Documents\\projects\\esinet\\evaluate\\..\\esinet\\util\\util.py:388: RuntimeWarning: An average reference projection was already added. The data has been left untouched.\n",
      "  epochs.set_eeg_reference(projection=True, verbose=verbose)#.apply_baseline(baseline=baseline)\n",
      "c:\\Users\\Lukas\\Documents\\projects\\esinet\\evaluate\\..\\esinet\\util\\util.py:420: RuntimeWarning: Too few samples (required : 310 got : 180), covariance estimate may be unreliable\n",
      "  data_cov = mne.compute_raw_covariance(raw, tmin=tmin,\n",
      "c:\\Users\\Lukas\\Documents\\projects\\esinet\\evaluate\\..\\esinet\\util\\util.py:388: RuntimeWarning: An average reference projection was already added. The data has been left untouched.\n",
      "  epochs.set_eeg_reference(projection=True, verbose=verbose)#.apply_baseline(baseline=baseline)\n",
      "c:\\Users\\Lukas\\Documents\\projects\\esinet\\evaluate\\..\\esinet\\util\\util.py:420: RuntimeWarning: Too few samples (required : 310 got : 100), covariance estimate may be unreliable\n",
      "  data_cov = mne.compute_raw_covariance(raw, tmin=tmin,\n",
      "c:\\Users\\Lukas\\Documents\\projects\\esinet\\evaluate\\..\\esinet\\util\\util.py:388: RuntimeWarning: An average reference projection was already added. The data has been left untouched.\n",
      "  epochs.set_eeg_reference(projection=True, verbose=verbose)#.apply_baseline(baseline=baseline)\n"
     ]
    },
    {
     "name": "stdout",
     "output_type": "stream",
     "text": [
      "<RawArray | 61 x 532 (5.3 s), ~343 kB, data loaded> 4.0 info empirical\n",
      "<RawArray | 61 x 403 (4.0 s), ~282 kB, data loaded> 4.0 info empirical\n",
      "<RawArray | 61 x 560 (5.6 s), ~357 kB, data loaded> 4.0 info empirical\n",
      "<RawArray | 61 x 452 (4.5 s), ~305 kB, data loaded> 4.0 info empirical\n"
     ]
    },
    {
     "name": "stderr",
     "output_type": "stream",
     "text": [
      "c:\\Users\\Lukas\\Documents\\projects\\esinet\\evaluate\\..\\esinet\\util\\util.py:420: RuntimeWarning: Too few samples (required : 310 got : 120), covariance estimate may be unreliable\n",
      "  data_cov = mne.compute_raw_covariance(raw, tmin=tmin,\n",
      "c:\\Users\\Lukas\\Documents\\projects\\esinet\\evaluate\\..\\esinet\\util\\util.py:388: RuntimeWarning: An average reference projection was already added. The data has been left untouched.\n",
      "  epochs.set_eeg_reference(projection=True, verbose=verbose)#.apply_baseline(baseline=baseline)\n",
      "c:\\Users\\Lukas\\Documents\\projects\\esinet\\evaluate\\..\\esinet\\util\\util.py:423: RuntimeWarning: Epochs are not baseline corrected, covariance matrix may be inaccurate\n",
      "  data_cov = mne.compute_covariance(epochs, tmin=0.0,\n",
      "c:\\Users\\Lukas\\Documents\\projects\\esinet\\evaluate\\..\\esinet\\util\\util.py:423: RuntimeWarning: Too few samples (required : 310 got : 3), covariance estimate may be unreliable\n",
      "  data_cov = mne.compute_covariance(epochs, tmin=0.0,\n",
      "c:\\Users\\Lukas\\Documents\\projects\\esinet\\evaluate\\..\\esinet\\util\\util.py:388: RuntimeWarning: An average reference projection was already added. The data has been left untouched.\n",
      "  epochs.set_eeg_reference(projection=True, verbose=verbose)#.apply_baseline(baseline=baseline)\n",
      "c:\\Users\\Lukas\\Documents\\projects\\esinet\\evaluate\\..\\esinet\\util\\util.py:420: RuntimeWarning: Too few samples (required : 310 got : 160), covariance estimate may be unreliable\n",
      "  data_cov = mne.compute_raw_covariance(raw, tmin=tmin,\n",
      "c:\\Users\\Lukas\\Documents\\projects\\esinet\\evaluate\\..\\esinet\\util\\util.py:388: RuntimeWarning: An average reference projection was already added. The data has been left untouched.\n",
      "  epochs.set_eeg_reference(projection=True, verbose=verbose)#.apply_baseline(baseline=baseline)\n",
      "c:\\Users\\Lukas\\Documents\\projects\\esinet\\evaluate\\..\\esinet\\util\\util.py:420: RuntimeWarning: Too few samples (required : 310 got : 40), covariance estimate may be unreliable\n",
      "  data_cov = mne.compute_raw_covariance(raw, tmin=tmin,\n",
      "c:\\Users\\Lukas\\Documents\\projects\\esinet\\evaluate\\..\\esinet\\util\\util.py:388: RuntimeWarning: An average reference projection was already added. The data has been left untouched.\n",
      "  epochs.set_eeg_reference(projection=True, verbose=verbose)#.apply_baseline(baseline=baseline)\n"
     ]
    },
    {
     "name": "stdout",
     "output_type": "stream",
     "text": [
      "<RawArray | 61 x 481 (4.8 s), ~319 kB, data loaded> 4.0 info empirical\n",
      "<RawArray | 61 x 539 (5.4 s), ~347 kB, data loaded> 4.0 info empirical\n",
      "<RawArray | 61 x 485 (4.8 s), ~321 kB, data loaded> 4.0 info empirical\n",
      "<RawArray | 61 x 538 (5.4 s), ~346 kB, data loaded> 4.0 info empirical\n"
     ]
    },
    {
     "name": "stderr",
     "output_type": "stream",
     "text": [
      "c:\\Users\\Lukas\\Documents\\projects\\esinet\\evaluate\\..\\esinet\\util\\util.py:420: RuntimeWarning: Too few samples (required : 310 got : 80), covariance estimate may be unreliable\n",
      "  data_cov = mne.compute_raw_covariance(raw, tmin=tmin,\n",
      "c:\\Users\\Lukas\\Documents\\projects\\esinet\\evaluate\\..\\esinet\\util\\util.py:388: RuntimeWarning: An average reference projection was already added. The data has been left untouched.\n",
      "  epochs.set_eeg_reference(projection=True, verbose=verbose)#.apply_baseline(baseline=baseline)\n",
      "c:\\Users\\Lukas\\Documents\\projects\\esinet\\evaluate\\..\\esinet\\util\\util.py:420: RuntimeWarning: Too few samples (required : 310 got : 120), covariance estimate may be unreliable\n",
      "  data_cov = mne.compute_raw_covariance(raw, tmin=tmin,\n",
      "c:\\Users\\Lukas\\Documents\\projects\\esinet\\evaluate\\..\\esinet\\util\\util.py:388: RuntimeWarning: An average reference projection was already added. The data has been left untouched.\n",
      "  epochs.set_eeg_reference(projection=True, verbose=verbose)#.apply_baseline(baseline=baseline)\n",
      "c:\\Users\\Lukas\\Documents\\projects\\esinet\\evaluate\\..\\esinet\\util\\util.py:420: RuntimeWarning: Too few samples (required : 310 got : 80), covariance estimate may be unreliable\n",
      "  data_cov = mne.compute_raw_covariance(raw, tmin=tmin,\n",
      "c:\\Users\\Lukas\\Documents\\projects\\esinet\\evaluate\\..\\esinet\\util\\util.py:388: RuntimeWarning: An average reference projection was already added. The data has been left untouched.\n",
      "  epochs.set_eeg_reference(projection=True, verbose=verbose)#.apply_baseline(baseline=baseline)\n",
      "c:\\Users\\Lukas\\Documents\\projects\\esinet\\evaluate\\..\\esinet\\util\\util.py:420: RuntimeWarning: Too few samples (required : 310 got : 120), covariance estimate may be unreliable\n",
      "  data_cov = mne.compute_raw_covariance(raw, tmin=tmin,\n",
      "c:\\Users\\Lukas\\Documents\\projects\\esinet\\evaluate\\..\\esinet\\util\\util.py:388: RuntimeWarning: An average reference projection was already added. The data has been left untouched.\n",
      "  epochs.set_eeg_reference(projection=True, verbose=verbose)#.apply_baseline(baseline=baseline)\n"
     ]
    },
    {
     "name": "stdout",
     "output_type": "stream",
     "text": [
      "<RawArray | 61 x 478 (4.8 s), ~318 kB, data loaded> 4.0 info empirical\n",
      "<RawArray | 61 x 539 (5.4 s), ~347 kB, data loaded> 4.0 info empirical\n",
      "<RawArray | 61 x 475 (4.7 s), ~316 kB, data loaded> 4.0 info empirical\n",
      "<RawArray | 61 x 589 (5.9 s), ~371 kB, data loaded> 4.0 info empirical\n"
     ]
    },
    {
     "name": "stderr",
     "output_type": "stream",
     "text": [
      "c:\\Users\\Lukas\\Documents\\projects\\esinet\\evaluate\\..\\esinet\\util\\util.py:420: RuntimeWarning: Too few samples (required : 310 got : 60), covariance estimate may be unreliable\n",
      "  data_cov = mne.compute_raw_covariance(raw, tmin=tmin,\n",
      "c:\\Users\\Lukas\\Documents\\projects\\esinet\\evaluate\\..\\esinet\\util\\util.py:388: RuntimeWarning: An average reference projection was already added. The data has been left untouched.\n",
      "  epochs.set_eeg_reference(projection=True, verbose=verbose)#.apply_baseline(baseline=baseline)\n",
      "c:\\Users\\Lukas\\Documents\\projects\\esinet\\evaluate\\..\\esinet\\util\\util.py:420: RuntimeWarning: Too few samples (required : 310 got : 120), covariance estimate may be unreliable\n",
      "  data_cov = mne.compute_raw_covariance(raw, tmin=tmin,\n",
      "c:\\Users\\Lukas\\Documents\\projects\\esinet\\evaluate\\..\\esinet\\util\\util.py:388: RuntimeWarning: An average reference projection was already added. The data has been left untouched.\n",
      "  epochs.set_eeg_reference(projection=True, verbose=verbose)#.apply_baseline(baseline=baseline)\n",
      "c:\\Users\\Lukas\\Documents\\projects\\esinet\\evaluate\\..\\esinet\\util\\util.py:420: RuntimeWarning: Too few samples (required : 310 got : 60), covariance estimate may be unreliable\n",
      "  data_cov = mne.compute_raw_covariance(raw, tmin=tmin,\n",
      "c:\\Users\\Lukas\\Documents\\projects\\esinet\\evaluate\\..\\esinet\\util\\util.py:388: RuntimeWarning: An average reference projection was already added. The data has been left untouched.\n",
      "  epochs.set_eeg_reference(projection=True, verbose=verbose)#.apply_baseline(baseline=baseline)\n",
      "c:\\Users\\Lukas\\Documents\\projects\\esinet\\evaluate\\..\\esinet\\util\\util.py:420: RuntimeWarning: Too few samples (required : 310 got : 180), covariance estimate may be unreliable\n",
      "  data_cov = mne.compute_raw_covariance(raw, tmin=tmin,\n",
      "c:\\Users\\Lukas\\Documents\\projects\\esinet\\evaluate\\..\\esinet\\util\\util.py:388: RuntimeWarning: An average reference projection was already added. The data has been left untouched.\n",
      "  epochs.set_eeg_reference(projection=True, verbose=verbose)#.apply_baseline(baseline=baseline)\n"
     ]
    },
    {
     "name": "stdout",
     "output_type": "stream",
     "text": [
      "<RawArray | 61 x 470 (4.7 s), ~314 kB, data loaded> 4.0 info empirical\n",
      "<RawArray | 61 x 553 (5.5 s), ~353 kB, data loaded> 4.0 info empirical\n",
      "<RawArray | 61 x 540 (5.4 s), ~347 kB, data loaded> 4.0 info empirical\n",
      "<RawArray | 61 x 485 (4.8 s), ~321 kB, data loaded> 4.0 info empirical\n"
     ]
    },
    {
     "name": "stderr",
     "output_type": "stream",
     "text": [
      "c:\\Users\\Lukas\\Documents\\projects\\esinet\\evaluate\\..\\esinet\\util\\util.py:420: RuntimeWarning: Too few samples (required : 310 got : 60), covariance estimate may be unreliable\n",
      "  data_cov = mne.compute_raw_covariance(raw, tmin=tmin,\n",
      "c:\\Users\\Lukas\\Documents\\projects\\esinet\\evaluate\\..\\esinet\\util\\util.py:388: RuntimeWarning: An average reference projection was already added. The data has been left untouched.\n",
      "  epochs.set_eeg_reference(projection=True, verbose=verbose)#.apply_baseline(baseline=baseline)\n",
      "c:\\Users\\Lukas\\Documents\\projects\\esinet\\evaluate\\..\\esinet\\util\\util.py:420: RuntimeWarning: Too few samples (required : 310 got : 140), covariance estimate may be unreliable\n",
      "  data_cov = mne.compute_raw_covariance(raw, tmin=tmin,\n",
      "c:\\Users\\Lukas\\Documents\\projects\\esinet\\evaluate\\..\\esinet\\util\\util.py:388: RuntimeWarning: An average reference projection was already added. The data has been left untouched.\n",
      "  epochs.set_eeg_reference(projection=True, verbose=verbose)#.apply_baseline(baseline=baseline)\n",
      "c:\\Users\\Lukas\\Documents\\projects\\esinet\\evaluate\\..\\esinet\\util\\util.py:420: RuntimeWarning: Too few samples (required : 310 got : 140), covariance estimate may be unreliable\n",
      "  data_cov = mne.compute_raw_covariance(raw, tmin=tmin,\n",
      "c:\\Users\\Lukas\\Documents\\projects\\esinet\\evaluate\\..\\esinet\\util\\util.py:388: RuntimeWarning: An average reference projection was already added. The data has been left untouched.\n",
      "  epochs.set_eeg_reference(projection=True, verbose=verbose)#.apply_baseline(baseline=baseline)\n",
      "c:\\Users\\Lukas\\Documents\\projects\\esinet\\evaluate\\..\\esinet\\util\\util.py:420: RuntimeWarning: Too few samples (required : 310 got : 80), covariance estimate may be unreliable\n",
      "  data_cov = mne.compute_raw_covariance(raw, tmin=tmin,\n",
      "c:\\Users\\Lukas\\Documents\\projects\\esinet\\evaluate\\..\\esinet\\util\\util.py:388: RuntimeWarning: An average reference projection was already added. The data has been left untouched.\n",
      "  epochs.set_eeg_reference(projection=True, verbose=verbose)#.apply_baseline(baseline=baseline)\n"
     ]
    },
    {
     "name": "stdout",
     "output_type": "stream",
     "text": [
      "<RawArray | 61 x 474 (4.7 s), ~316 kB, data loaded> 4.0 info empirical\n",
      "<RawArray | 61 x 461 (4.6 s), ~310 kB, data loaded> 4.0 info empirical\n",
      "<RawArray | 61 x 498 (5.0 s), ~327 kB, data loaded> 4.0 info empirical\n",
      "<RawArray | 61 x 541 (5.4 s), ~348 kB, data loaded> 4.0 info empirical\n"
     ]
    },
    {
     "name": "stderr",
     "output_type": "stream",
     "text": [
      "c:\\Users\\Lukas\\Documents\\projects\\esinet\\evaluate\\..\\esinet\\util\\util.py:420: RuntimeWarning: Too few samples (required : 310 got : 60), covariance estimate may be unreliable\n",
      "  data_cov = mne.compute_raw_covariance(raw, tmin=tmin,\n",
      "c:\\Users\\Lukas\\Documents\\projects\\esinet\\evaluate\\..\\esinet\\util\\util.py:388: RuntimeWarning: An average reference projection was already added. The data has been left untouched.\n",
      "  epochs.set_eeg_reference(projection=True, verbose=verbose)#.apply_baseline(baseline=baseline)\n",
      "c:\\Users\\Lukas\\Documents\\projects\\esinet\\evaluate\\..\\esinet\\util\\util.py:420: RuntimeWarning: Too few samples (required : 310 got : 60), covariance estimate may be unreliable\n",
      "  data_cov = mne.compute_raw_covariance(raw, tmin=tmin,\n",
      "c:\\Users\\Lukas\\Documents\\projects\\esinet\\evaluate\\..\\esinet\\util\\util.py:388: RuntimeWarning: An average reference projection was already added. The data has been left untouched.\n",
      "  epochs.set_eeg_reference(projection=True, verbose=verbose)#.apply_baseline(baseline=baseline)\n",
      "c:\\Users\\Lukas\\Documents\\projects\\esinet\\evaluate\\..\\esinet\\util\\util.py:420: RuntimeWarning: Too few samples (required : 310 got : 80), covariance estimate may be unreliable\n",
      "  data_cov = mne.compute_raw_covariance(raw, tmin=tmin,\n",
      "c:\\Users\\Lukas\\Documents\\projects\\esinet\\evaluate\\..\\esinet\\util\\util.py:388: RuntimeWarning: An average reference projection was already added. The data has been left untouched.\n",
      "  epochs.set_eeg_reference(projection=True, verbose=verbose)#.apply_baseline(baseline=baseline)\n",
      "c:\\Users\\Lukas\\Documents\\projects\\esinet\\evaluate\\..\\esinet\\util\\util.py:420: RuntimeWarning: Too few samples (required : 310 got : 140), covariance estimate may be unreliable\n",
      "  data_cov = mne.compute_raw_covariance(raw, tmin=tmin,\n"
     ]
    },
    {
     "name": "stdout",
     "output_type": "stream",
     "text": [
      "<RawArray | 61 x 569 (5.7 s), ~361 kB, data loaded> 4.0 info empirical\n",
      "<RawArray | 61 x 488 (4.9 s), ~322 kB, data loaded> 4.0 info empirical\n",
      "<RawArray | 61 x 502 (5.0 s), ~329 kB, data loaded> 4.0 info empirical\n",
      "<RawArray | 61 x 454 (4.5 s), ~306 kB, data loaded> 4.0 info empirical\n"
     ]
    },
    {
     "name": "stderr",
     "output_type": "stream",
     "text": [
      "c:\\Users\\Lukas\\Documents\\projects\\esinet\\evaluate\\..\\esinet\\util\\util.py:388: RuntimeWarning: An average reference projection was already added. The data has been left untouched.\n",
      "  epochs.set_eeg_reference(projection=True, verbose=verbose)#.apply_baseline(baseline=baseline)\n",
      "c:\\Users\\Lukas\\Documents\\projects\\esinet\\evaluate\\..\\esinet\\util\\util.py:420: RuntimeWarning: Too few samples (required : 310 got : 160), covariance estimate may be unreliable\n",
      "  data_cov = mne.compute_raw_covariance(raw, tmin=tmin,\n",
      "c:\\Users\\Lukas\\Documents\\projects\\esinet\\evaluate\\..\\esinet\\util\\util.py:388: RuntimeWarning: An average reference projection was already added. The data has been left untouched.\n",
      "  epochs.set_eeg_reference(projection=True, verbose=verbose)#.apply_baseline(baseline=baseline)\n",
      "c:\\Users\\Lukas\\Documents\\projects\\esinet\\evaluate\\..\\esinet\\util\\util.py:420: RuntimeWarning: Too few samples (required : 310 got : 80), covariance estimate may be unreliable\n",
      "  data_cov = mne.compute_raw_covariance(raw, tmin=tmin,\n",
      "c:\\Users\\Lukas\\Documents\\projects\\esinet\\evaluate\\..\\esinet\\util\\util.py:388: RuntimeWarning: An average reference projection was already added. The data has been left untouched.\n",
      "  epochs.set_eeg_reference(projection=True, verbose=verbose)#.apply_baseline(baseline=baseline)\n",
      "c:\\Users\\Lukas\\Documents\\projects\\esinet\\evaluate\\..\\esinet\\util\\util.py:420: RuntimeWarning: Too few samples (required : 310 got : 100), covariance estimate may be unreliable\n",
      "  data_cov = mne.compute_raw_covariance(raw, tmin=tmin,\n",
      "c:\\Users\\Lukas\\Documents\\projects\\esinet\\evaluate\\..\\esinet\\util\\util.py:388: RuntimeWarning: An average reference projection was already added. The data has been left untouched.\n",
      "  epochs.set_eeg_reference(projection=True, verbose=verbose)#.apply_baseline(baseline=baseline)\n",
      "c:\\Users\\Lukas\\Documents\\projects\\esinet\\evaluate\\..\\esinet\\util\\util.py:420: RuntimeWarning: Too few samples (required : 310 got : 40), covariance estimate may be unreliable\n",
      "  data_cov = mne.compute_raw_covariance(raw, tmin=tmin,\n",
      "c:\\Users\\Lukas\\Documents\\projects\\esinet\\evaluate\\..\\esinet\\util\\util.py:388: RuntimeWarning: An average reference projection was already added. The data has been left untouched.\n",
      "  epochs.set_eeg_reference(projection=True, verbose=verbose)#.apply_baseline(baseline=baseline)\n"
     ]
    },
    {
     "name": "stdout",
     "output_type": "stream",
     "text": [
      "<RawArray | 61 x 594 (5.9 s), ~373 kB, data loaded> 4.0 info empirical\n",
      "<RawArray | 61 x 407 (4.1 s), ~284 kB, data loaded> 4.0 info empirical\n",
      "<RawArray | 61 x 504 (5.0 s), ~330 kB, data loaded> 4.0 info empirical\n",
      "<RawArray | 61 x 591 (5.9 s), ~371 kB, data loaded> 4.0 info empirical\n"
     ]
    },
    {
     "name": "stderr",
     "output_type": "stream",
     "text": [
      "c:\\Users\\Lukas\\Documents\\projects\\esinet\\evaluate\\..\\esinet\\util\\util.py:420: RuntimeWarning: Too few samples (required : 310 got : 180), covariance estimate may be unreliable\n",
      "  data_cov = mne.compute_raw_covariance(raw, tmin=tmin,\n",
      "c:\\Users\\Lukas\\Documents\\projects\\esinet\\evaluate\\..\\esinet\\util\\util.py:388: RuntimeWarning: An average reference projection was already added. The data has been left untouched.\n",
      "  epochs.set_eeg_reference(projection=True, verbose=verbose)#.apply_baseline(baseline=baseline)\n",
      "c:\\Users\\Lukas\\Documents\\projects\\esinet\\evaluate\\..\\esinet\\util\\util.py:423: RuntimeWarning: Epochs are not baseline corrected, covariance matrix may be inaccurate\n",
      "  data_cov = mne.compute_covariance(epochs, tmin=0.0,\n",
      "c:\\Users\\Lukas\\Documents\\projects\\esinet\\evaluate\\..\\esinet\\util\\util.py:423: RuntimeWarning: Too few samples (required : 310 got : 7), covariance estimate may be unreliable\n",
      "  data_cov = mne.compute_covariance(epochs, tmin=0.0,\n",
      "c:\\Users\\Lukas\\Documents\\projects\\esinet\\evaluate\\..\\esinet\\util\\util.py:388: RuntimeWarning: An average reference projection was already added. The data has been left untouched.\n",
      "  epochs.set_eeg_reference(projection=True, verbose=verbose)#.apply_baseline(baseline=baseline)\n",
      "c:\\Users\\Lukas\\Documents\\projects\\esinet\\evaluate\\..\\esinet\\util\\util.py:420: RuntimeWarning: Too few samples (required : 310 got : 100), covariance estimate may be unreliable\n",
      "  data_cov = mne.compute_raw_covariance(raw, tmin=tmin,\n",
      "c:\\Users\\Lukas\\Documents\\projects\\esinet\\evaluate\\..\\esinet\\util\\util.py:388: RuntimeWarning: An average reference projection was already added. The data has been left untouched.\n",
      "  epochs.set_eeg_reference(projection=True, verbose=verbose)#.apply_baseline(baseline=baseline)\n",
      "c:\\Users\\Lukas\\Documents\\projects\\esinet\\evaluate\\..\\esinet\\util\\util.py:420: RuntimeWarning: Too few samples (required : 310 got : 180), covariance estimate may be unreliable\n",
      "  data_cov = mne.compute_raw_covariance(raw, tmin=tmin,\n",
      "c:\\Users\\Lukas\\Documents\\projects\\esinet\\evaluate\\..\\esinet\\util\\util.py:388: RuntimeWarning: An average reference projection was already added. The data has been left untouched.\n",
      "  epochs.set_eeg_reference(projection=True, verbose=verbose)#.apply_baseline(baseline=baseline)\n"
     ]
    },
    {
     "name": "stdout",
     "output_type": "stream",
     "text": [
      "<RawArray | 61 x 423 (4.2 s), ~291 kB, data loaded> 4.0 info empirical\n",
      "<RawArray | 61 x 440 (4.4 s), ~299 kB, data loaded> 4.0 info empirical\n"
     ]
    },
    {
     "name": "stderr",
     "output_type": "stream",
     "text": [
      "c:\\Users\\Lukas\\Documents\\projects\\esinet\\evaluate\\..\\esinet\\util\\util.py:420: RuntimeWarning: Too few samples (required : 310 got : 20), covariance estimate may be unreliable\n",
      "  data_cov = mne.compute_raw_covariance(raw, tmin=tmin,\n",
      "c:\\Users\\Lukas\\Documents\\projects\\esinet\\evaluate\\..\\esinet\\util\\util.py:388: RuntimeWarning: An average reference projection was already added. The data has been left untouched.\n",
      "  epochs.set_eeg_reference(projection=True, verbose=verbose)#.apply_baseline(baseline=baseline)\n",
      "c:\\Users\\Lukas\\Documents\\projects\\esinet\\evaluate\\..\\esinet\\util\\util.py:420: RuntimeWarning: Too few samples (required : 310 got : 40), covariance estimate may be unreliable\n",
      "  data_cov = mne.compute_raw_covariance(raw, tmin=tmin,\n"
     ]
    },
    {
     "data": {
      "application/vnd.jupyter.widget-view+json": {
       "model_id": "5e918bd6e6f845fe86bd726b7ed280ca",
       "version_major": 2,
       "version_minor": 0
      },
      "text/plain": [
       "0it [00:00, ?it/s]"
      ]
     },
     "metadata": {},
     "output_type": "display_data"
    },
    {
     "name": "stdout",
     "output_type": "stream",
     "text": [
      "\n",
      " LSTM Standard :\n",
      "\n",
      "mle calculation....\n"
     ]
    },
    {
     "data": {
      "application/vnd.jupyter.widget-view+json": {
       "model_id": "8e4bd9011bee4cddbafe5eb023ef9a3b",
       "version_major": 2,
       "version_minor": 0
      },
      "text/plain": [
       "0it [00:00, ?it/s]"
      ]
     },
     "metadata": {},
     "output_type": "display_data"
    },
    {
     "name": "stdout",
     "output_type": "stream",
     "text": [
      "101947 101947 101947\n",
      "auc calculation....\n"
     ]
    },
    {
     "data": {
      "application/vnd.jupyter.widget-view+json": {
       "model_id": "cc046c03761f4479a5ca64ba85793258",
       "version_major": 2,
       "version_minor": 0
      },
      "text/plain": [
       "0it [00:00, ?it/s]"
      ]
     },
     "metadata": {},
     "output_type": "display_data"
    },
    {
     "name": "stdout",
     "output_type": "stream",
     "text": [
      "nmse calculation....\n"
     ]
    },
    {
     "data": {
      "application/vnd.jupyter.widget-view+json": {
       "model_id": "ba72d9513ee34ee68851bc0f27b6e801",
       "version_major": 2,
       "version_minor": 0
      },
      "text/plain": [
       "0it [00:00, ?it/s]"
      ]
     },
     "metadata": {},
     "output_type": "display_data"
    },
    {
     "name": "stdout",
     "output_type": "stream",
     "text": [
      "mse calculation....\n"
     ]
    },
    {
     "data": {
      "application/vnd.jupyter.widget-view+json": {
       "model_id": "b4c5cf1d7dc646099dafadda80683eeb",
       "version_major": 2,
       "version_minor": 0
      },
      "text/plain": [
       "0it [00:00, ?it/s]"
      ]
     },
     "metadata": {},
     "output_type": "display_data"
    },
    {
     "name": "stdout",
     "output_type": "stream",
     "text": [
      "\n",
      " Dense Standard :\n",
      "\n",
      "mle calculation....\n"
     ]
    },
    {
     "data": {
      "application/vnd.jupyter.widget-view+json": {
       "model_id": "de2ba45a2cb54e67919274268b151623",
       "version_major": 2,
       "version_minor": 0
      },
      "text/plain": [
       "0it [00:00, ?it/s]"
      ]
     },
     "metadata": {},
     "output_type": "display_data"
    },
    {
     "name": "stdout",
     "output_type": "stream",
     "text": [
      "101947 101947 101947\n",
      "auc calculation....\n"
     ]
    },
    {
     "data": {
      "application/vnd.jupyter.widget-view+json": {
       "model_id": "ab2bd52ae6ee487a8b8ff8b5954e88af",
       "version_major": 2,
       "version_minor": 0
      },
      "text/plain": [
       "0it [00:00, ?it/s]"
      ]
     },
     "metadata": {},
     "output_type": "display_data"
    },
    {
     "name": "stdout",
     "output_type": "stream",
     "text": [
      "nmse calculation....\n"
     ]
    },
    {
     "data": {
      "application/vnd.jupyter.widget-view+json": {
       "model_id": "6c8fba9954f648b8a5f9c34e9430ed33",
       "version_major": 2,
       "version_minor": 0
      },
      "text/plain": [
       "0it [00:00, ?it/s]"
      ]
     },
     "metadata": {},
     "output_type": "display_data"
    },
    {
     "name": "stdout",
     "output_type": "stream",
     "text": [
      "mse calculation....\n"
     ]
    },
    {
     "data": {
      "application/vnd.jupyter.widget-view+json": {
       "model_id": "7f06174760964b1fa640791b884bb3fd",
       "version_major": 2,
       "version_minor": 0
      },
      "text/plain": [
       "0it [00:00, ?it/s]"
      ]
     },
     "metadata": {},
     "output_type": "display_data"
    },
    {
     "name": "stdout",
     "output_type": "stream",
     "text": [
      "\n",
      " ConvDip Standard :\n",
      "\n",
      "mle calculation....\n"
     ]
    },
    {
     "data": {
      "application/vnd.jupyter.widget-view+json": {
       "model_id": "26e31de818f24361967553c9ade263e1",
       "version_major": 2,
       "version_minor": 0
      },
      "text/plain": [
       "0it [00:00, ?it/s]"
      ]
     },
     "metadata": {},
     "output_type": "display_data"
    },
    {
     "name": "stdout",
     "output_type": "stream",
     "text": [
      "101947 101947 101947\n",
      "auc calculation....\n"
     ]
    },
    {
     "data": {
      "application/vnd.jupyter.widget-view+json": {
       "model_id": "ebce55090e02412ca2b80b29e8e244be",
       "version_major": 2,
       "version_minor": 0
      },
      "text/plain": [
       "0it [00:00, ?it/s]"
      ]
     },
     "metadata": {},
     "output_type": "display_data"
    },
    {
     "name": "stdout",
     "output_type": "stream",
     "text": [
      "nmse calculation....\n"
     ]
    },
    {
     "data": {
      "application/vnd.jupyter.widget-view+json": {
       "model_id": "836a11d7d8794aab88a037473b2abb77",
       "version_major": 2,
       "version_minor": 0
      },
      "text/plain": [
       "0it [00:00, ?it/s]"
      ]
     },
     "metadata": {},
     "output_type": "display_data"
    },
    {
     "name": "stdout",
     "output_type": "stream",
     "text": [
      "mse calculation....\n"
     ]
    },
    {
     "data": {
      "application/vnd.jupyter.widget-view+json": {
       "model_id": "e03225cb9b6247a396e3bafaa6a34049",
       "version_major": 2,
       "version_minor": 0
      },
      "text/plain": [
       "0it [00:00, ?it/s]"
      ]
     },
     "metadata": {},
     "output_type": "display_data"
    },
    {
     "name": "stdout",
     "output_type": "stream",
     "text": [
      "\n",
      " eLORETA :\n",
      "\n",
      "mle calculation....\n"
     ]
    },
    {
     "data": {
      "application/vnd.jupyter.widget-view+json": {
       "model_id": "b9a307f7890b4c1d8b62fb5fc804af9d",
       "version_major": 2,
       "version_minor": 0
      },
      "text/plain": [
       "0it [00:00, ?it/s]"
      ]
     },
     "metadata": {},
     "output_type": "display_data"
    },
    {
     "name": "stdout",
     "output_type": "stream",
     "text": [
      "101947 101947 101947\n",
      "auc calculation....\n"
     ]
    },
    {
     "data": {
      "application/vnd.jupyter.widget-view+json": {
       "model_id": "c3a1eb64ea974536af4b9870c2a0763e",
       "version_major": 2,
       "version_minor": 0
      },
      "text/plain": [
       "0it [00:00, ?it/s]"
      ]
     },
     "metadata": {},
     "output_type": "display_data"
    },
    {
     "name": "stdout",
     "output_type": "stream",
     "text": [
      "nmse calculation....\n"
     ]
    },
    {
     "data": {
      "application/vnd.jupyter.widget-view+json": {
       "model_id": "68a10ea85402463ab75500c1d9820cb0",
       "version_major": 2,
       "version_minor": 0
      },
      "text/plain": [
       "0it [00:00, ?it/s]"
      ]
     },
     "metadata": {},
     "output_type": "display_data"
    },
    {
     "name": "stdout",
     "output_type": "stream",
     "text": [
      "mse calculation....\n"
     ]
    },
    {
     "data": {
      "application/vnd.jupyter.widget-view+json": {
       "model_id": "d56992c98b7b4456bfaa0e02c6a42b03",
       "version_major": 2,
       "version_minor": 0
      },
      "text/plain": [
       "0it [00:00, ?it/s]"
      ]
     },
     "metadata": {},
     "output_type": "display_data"
    },
    {
     "name": "stdout",
     "output_type": "stream",
     "text": [
      "\n",
      " MNE :\n",
      "\n",
      "mle calculation....\n"
     ]
    },
    {
     "data": {
      "application/vnd.jupyter.widget-view+json": {
       "model_id": "9b52b0c9503240d5a3e5fdf5a1f76f41",
       "version_major": 2,
       "version_minor": 0
      },
      "text/plain": [
       "0it [00:00, ?it/s]"
      ]
     },
     "metadata": {},
     "output_type": "display_data"
    },
    {
     "name": "stdout",
     "output_type": "stream",
     "text": [
      "101947 101947 101947\n",
      "auc calculation....\n"
     ]
    },
    {
     "data": {
      "application/vnd.jupyter.widget-view+json": {
       "model_id": "1a5e03fd05d841fd898637b92c89db25",
       "version_major": 2,
       "version_minor": 0
      },
      "text/plain": [
       "0it [00:00, ?it/s]"
      ]
     },
     "metadata": {},
     "output_type": "display_data"
    },
    {
     "name": "stdout",
     "output_type": "stream",
     "text": [
      "nmse calculation....\n"
     ]
    },
    {
     "data": {
      "application/vnd.jupyter.widget-view+json": {
       "model_id": "425182a735544c198495158c83a4da19",
       "version_major": 2,
       "version_minor": 0
      },
      "text/plain": [
       "0it [00:00, ?it/s]"
      ]
     },
     "metadata": {},
     "output_type": "display_data"
    },
    {
     "name": "stdout",
     "output_type": "stream",
     "text": [
      "mse calculation....\n"
     ]
    },
    {
     "data": {
      "application/vnd.jupyter.widget-view+json": {
       "model_id": "b5942b3c658a476ca397d0b8149ae071",
       "version_major": 2,
       "version_minor": 0
      },
      "text/plain": [
       "0it [00:00, ?it/s]"
      ]
     },
     "metadata": {},
     "output_type": "display_data"
    },
    {
     "name": "stdout",
     "output_type": "stream",
     "text": [
      "\n",
      " LCMV :\n",
      "\n",
      "mle calculation....\n"
     ]
    },
    {
     "data": {
      "application/vnd.jupyter.widget-view+json": {
       "model_id": "39d7b3df31f7484dbb38650fdd5cc98f",
       "version_major": 2,
       "version_minor": 0
      },
      "text/plain": [
       "0it [00:00, ?it/s]"
      ]
     },
     "metadata": {},
     "output_type": "display_data"
    },
    {
     "name": "stdout",
     "output_type": "stream",
     "text": [
      "101947 101947 101947\n",
      "auc calculation....\n"
     ]
    },
    {
     "data": {
      "application/vnd.jupyter.widget-view+json": {
       "model_id": "37ff21dc9c304bfc9cda99ecf292bd24",
       "version_major": 2,
       "version_minor": 0
      },
      "text/plain": [
       "0it [00:00, ?it/s]"
      ]
     },
     "metadata": {},
     "output_type": "display_data"
    },
    {
     "name": "stdout",
     "output_type": "stream",
     "text": [
      "nmse calculation....\n"
     ]
    },
    {
     "data": {
      "application/vnd.jupyter.widget-view+json": {
       "model_id": "34e00bb7f56f485eaeebcd4aaea73feb",
       "version_major": 2,
       "version_minor": 0
      },
      "text/plain": [
       "0it [00:00, ?it/s]"
      ]
     },
     "metadata": {},
     "output_type": "display_data"
    },
    {
     "name": "stderr",
     "output_type": "stream",
     "text": [
      "c:\\Users\\Lukas\\Documents\\projects\\esinet\\evaluate\\..\\esinet\\evaluate\\evaluate.py:234: RuntimeWarning: invalid value encountered in true_divide\n",
      "  y_est_normed = y_est / np.max(np.abs(y_est))\n"
     ]
    },
    {
     "name": "stdout",
     "output_type": "stream",
     "text": [
      "mse calculation....\n"
     ]
    },
    {
     "data": {
      "application/vnd.jupyter.widget-view+json": {
       "model_id": "ce08ce4b5e274bca96a1182de4b579fa",
       "version_major": 2,
       "version_minor": 0
      },
      "text/plain": [
       "0it [00:00, ?it/s]"
      ]
     },
     "metadata": {},
     "output_type": "display_data"
    },
    {
     "name": "stderr",
     "output_type": "stream",
     "text": [
      "C:\\Users\\Lukas\\AppData\\Local\\Temp/ipykernel_15136/2414610761.py:59: RuntimeWarning: Mean of empty slice\n",
      "  aucs_combined = [np.nanmean([auc[0], auc[1]]) for auc in np.array(aucs_combined)]\n"
     ]
    }
   ],
   "source": [
    "%load_ext autoreload\n",
    "%autoreload 2\n",
    "\n",
    "from esinet.evaluate import eval_mean_localization_error, eval_nmse, eval_auc, eval_mse\n",
    "from esinet.util import wrap_mne_inverse\n",
    "from scipy.spatial.distance import cdist\n",
    "from tqdm.notebook import tqdm\n",
    "from joblib import Parallel, delayed\n",
    "\n",
    "model_names_tmp = deepcopy(model_names)\n",
    "# Predict\n",
    "print('predict esinets...')\n",
    "predictions = [model.predict(sim_test) for model in models]\n",
    "\n",
    "print('predict elor')\n",
    "pred_elor = wrap_mne_inverse(fwd, sim_test, method='eLORETA', add_baseline=True, \n",
    "    n_baseline=400)\n",
    "model_names_tmp.append('eLORETA')\n",
    "predictions.append(pred_elor)\n",
    "\n",
    "print('predict MNE')\n",
    "pred_mne = wrap_mne_inverse(fwd, sim_test, method='MNE', add_baseline=True, \n",
    "    n_baseline=400)\n",
    "model_names_tmp.append('MNE')\n",
    "predictions.append(pred_mne)\n",
    "\n",
    "print('predict LCMV')\n",
    "pred_lcmv = wrap_mne_inverse(fwd, sim_test, method='lcmv', \n",
    "    parallel=False, add_baseline=True, n_baseline=400)\n",
    "model_names_tmp.append('LCMV')\n",
    "predictions.append(pred_lcmv)\n",
    "\n",
    "pos = util.unpack_fwd(fwd)[2]\n",
    "argsorted_distance_matrix = np.argsort(cdist(pos, pos), axis=-1)\n",
    "\n",
    "metrics = dict()\n",
    "true_sources = np.concatenate([src.data for src in sim_test.source_data], axis=1).T\n",
    "\n",
    "for prediction, model_name in tqdm(zip(predictions, model_names_tmp)):\n",
    "    print('\\n', model_name, ':\\n')\n",
    "     \n",
    "    predicted_sources = np.concatenate([src.data for src in prediction], axis=1).T\n",
    "\n",
    "    print('mle calculation....')\n",
    "    mean_localization_errors = [eval_mean_localization_error(true_source, predicted_source, pos, argsorted_distance_matrix=argsorted_distance_matrix) for true_source, predicted_source in tqdm(zip(true_sources, predicted_sources))]\n",
    "    print(len(mean_localization_errors), len(true_sources), len(predicted_sources))\n",
    "    print('auc calculation....')\n",
    "    # aucs_combined = [eval_auc(true_source, predicted_source, pos, epsilon=0.25, n_redraw=5) for true_source, predicted_source in tqdm(zip(true_sources, predicted_sources))]\n",
    "    aucs_combined = Parallel(n_jobs=-1, backend='loky') \\\n",
    "        (delayed(eval_auc)(true_source, predicted_source, pos, epsilon=0.25, n_redraw=5)\n",
    "        for true_source, predicted_source in tqdm(zip(true_sources, predicted_sources)))\n",
    "    print('nmse calculation....')\n",
    "    nmses = [eval_nmse(true_source, predicted_source) for true_source, predicted_source in tqdm(zip(true_sources, predicted_sources))]\n",
    "    print('mse calculation....')\n",
    "    mses = [eval_mse(true_source, predicted_source) for true_source, predicted_source in tqdm(zip(true_sources, predicted_sources))]\n",
    "\n",
    "    aucs_far = [auc[1] for auc in np.array(aucs_combined)]\n",
    "    aucs_close = [auc[0] for auc in np.array(aucs_combined)]\n",
    "    aucs_combined = [np.nanmean([auc[0], auc[1]]) for auc in np.array(aucs_combined)]\n",
    "\n",
    "    metric = pd.DataFrame(dict(\n",
    "        mean_localization_errors=mean_localization_errors,\n",
    "        aucs_combined=aucs_combined,\n",
    "        aucs_far=aucs_far,\n",
    "        aucs_close=aucs_close,\n",
    "        nmses=nmses,\n",
    "        mses=mses\n",
    "        )\n",
    "    )\n",
    "    metric.name = model_name\n",
    "    metrics[model_name] = metric\n",
    "    \n",
    "\n",
    "with open(f'results\\\\metrics_{len(true_sources)}_1-200points_standard.pkl', 'wb') as f:\n",
    "    pkl.dump([metrics, sim_test.simulation_info], f)"
   ]
  },
  {
   "cell_type": "markdown",
   "metadata": {},
   "source": [
    "## Load Metrics"
   ]
  },
  {
   "cell_type": "code",
   "execution_count": 23,
   "metadata": {},
   "outputs": [],
   "source": [
    "with open(f'results\\\\metrics_101947_1-200points_standard.pkl', 'rb') as f:\n",
    "    [metrics, simulation_info] = pkl.load(f)"
   ]
  },
  {
   "cell_type": "markdown",
   "metadata": {},
   "source": [
    "## Prepare Metrics"
   ]
  },
  {
   "cell_type": "code",
   "execution_count": 69,
   "metadata": {},
   "outputs": [
    {
     "name": "stderr",
     "output_type": "stream",
     "text": [
      "C:\\Users\\Lukas\\Envs\\esienv\\lib\\site-packages\\pandas\\core\\apply.py:821: RuntimeWarning: Mean of empty slice\n",
      "  results[i] = self.f(v)\n"
     ]
    },
    {
     "data": {
      "text/html": [
       "<div>\n",
       "<style scoped>\n",
       "    .dataframe tbody tr th:only-of-type {\n",
       "        vertical-align: middle;\n",
       "    }\n",
       "\n",
       "    .dataframe tbody tr th {\n",
       "        vertical-align: top;\n",
       "    }\n",
       "\n",
       "    .dataframe thead th {\n",
       "        text-align: right;\n",
       "    }\n",
       "</style>\n",
       "<table border=\"1\" class=\"dataframe\">\n",
       "  <thead>\n",
       "    <tr style=\"text-align: right;\">\n",
       "      <th></th>\n",
       "      <th>mean_localization_errors</th>\n",
       "      <th>aucs_combined</th>\n",
       "      <th>aucs_far</th>\n",
       "      <th>aucs_close</th>\n",
       "      <th>nmses</th>\n",
       "      <th>mses</th>\n",
       "      <th>method</th>\n",
       "      <th>sample_id</th>\n",
       "    </tr>\n",
       "  </thead>\n",
       "  <tbody>\n",
       "    <tr>\n",
       "      <th>0</th>\n",
       "      <td>21.010115</td>\n",
       "      <td>0.883243</td>\n",
       "      <td>0.956457</td>\n",
       "      <td>0.810029</td>\n",
       "      <td>0.012489</td>\n",
       "      <td>4.512624e-19</td>\n",
       "      <td>LSTM Standard</td>\n",
       "      <td>0</td>\n",
       "    </tr>\n",
       "    <tr>\n",
       "      <th>1</th>\n",
       "      <td>15.011839</td>\n",
       "      <td>0.820602</td>\n",
       "      <td>0.869909</td>\n",
       "      <td>0.771296</td>\n",
       "      <td>0.009758</td>\n",
       "      <td>1.345510e-19</td>\n",
       "      <td>LSTM Standard</td>\n",
       "      <td>1</td>\n",
       "    </tr>\n",
       "    <tr>\n",
       "      <th>2</th>\n",
       "      <td>19.759601</td>\n",
       "      <td>0.838299</td>\n",
       "      <td>0.928994</td>\n",
       "      <td>0.747603</td>\n",
       "      <td>0.014272</td>\n",
       "      <td>2.550176e-19</td>\n",
       "      <td>LSTM Standard</td>\n",
       "      <td>2</td>\n",
       "    </tr>\n",
       "    <tr>\n",
       "      <th>3</th>\n",
       "      <td>20.100908</td>\n",
       "      <td>0.835228</td>\n",
       "      <td>0.911818</td>\n",
       "      <td>0.758637</td>\n",
       "      <td>0.013628</td>\n",
       "      <td>9.997605e-20</td>\n",
       "      <td>LSTM Standard</td>\n",
       "      <td>3</td>\n",
       "    </tr>\n",
       "    <tr>\n",
       "      <th>4</th>\n",
       "      <td>18.578363</td>\n",
       "      <td>0.822563</td>\n",
       "      <td>0.881950</td>\n",
       "      <td>0.763175</td>\n",
       "      <td>0.010532</td>\n",
       "      <td>2.300922e-19</td>\n",
       "      <td>LSTM Standard</td>\n",
       "      <td>4</td>\n",
       "    </tr>\n",
       "  </tbody>\n",
       "</table>\n",
       "</div>"
      ],
      "text/plain": [
       "   mean_localization_errors  aucs_combined  aucs_far  aucs_close     nmses  \\\n",
       "0                 21.010115       0.883243  0.956457    0.810029  0.012489   \n",
       "1                 15.011839       0.820602  0.869909    0.771296  0.009758   \n",
       "2                 19.759601       0.838299  0.928994    0.747603  0.014272   \n",
       "3                 20.100908       0.835228  0.911818    0.758637  0.013628   \n",
       "4                 18.578363       0.822563  0.881950    0.763175  0.010532   \n",
       "\n",
       "           mses         method  sample_id  \n",
       "0  4.512624e-19  LSTM Standard          0  \n",
       "1  1.345510e-19  LSTM Standard          1  \n",
       "2  2.550176e-19  LSTM Standard          2  \n",
       "3  9.997605e-20  LSTM Standard          3  \n",
       "4  2.300922e-19  LSTM Standard          4  "
      ]
     },
     "execution_count": 69,
     "metadata": {},
     "output_type": "execute_result"
    }
   ],
   "source": [
    "durs_in_samples = [round(dur*100) for dur in sim_test.simulation_info.duration_of_trials.values]\n",
    "\n",
    "idx = 0\n",
    "indices = []\n",
    "for dur in durs_in_samples:\n",
    "    idc = [idx, dur+idx]\n",
    "    indices.append(idc)\n",
    "    idx += dur\n",
    "metrics_short = dict()\n",
    "\n",
    "\n",
    "for method in metrics.keys():\n",
    "    metrics_short[method] = pd.DataFrame(columns=metrics[method].columns)\n",
    "    for id, idc in enumerate(indices):\n",
    "        sample_summary = metrics[method].iloc[idc[0]:idc[1]].apply(np.nanmean, axis=0)\n",
    "        sample_summary.sample_id = id\n",
    "        metrics_short[method] = metrics_short[method].append(sample_summary, ignore_index=True)\n",
    "    metrics_short[method].method = method\n",
    "    # metrics_short[method].iloc[:, 0:6].values = np.real(metrics_short[method].iloc[:, 0:6])\n",
    "\n",
    "dfs = [df[1] for df in list(metrics_short.items())]\n",
    "\n",
    "for i, (key, df) in enumerate(metrics_short.items()):\n",
    "    dfs[i]['method'] = [key]*df.shape[0]\n",
    "    dfs[i]['sample_id'] = np.arange(df.shape[0])\n",
    "df_aio = pd.concat(dfs)\n",
    "df_aio.head()"
   ]
  },
  {
   "cell_type": "markdown",
   "metadata": {},
   "source": [
    "# Plot Evaluation Metrics"
   ]
  },
  {
   "cell_type": "markdown",
   "metadata": {},
   "source": [
    "## Boxplot Overview "
   ]
  },
  {
   "cell_type": "code",
   "execution_count": 70,
   "metadata": {},
   "outputs": [
    {
     "name": "stderr",
     "output_type": "stream",
     "text": [
      "WARNING:matplotlib.font_manager:findfont: Font family ['helvetica'] not found. Falling back to DejaVu Sans.\n",
      "WARNING:matplotlib.font_manager:findfont: Font family ['helvetica'] not found. Falling back to DejaVu Sans.\n"
     ]
    }
   ],
   "source": [
    "import seaborn as sns; sns.set(style='whitegrid', font_scale=1.2, font='helvetica')\n",
    "%matplotlib qt\n",
    "\n",
    "cols = df_aio.iloc[:, 0:6].columns\n",
    "for y in cols:\n",
    "    plt.figure(figsize=(11, 7))\n",
    "    sns.boxplot(data=df_aio, x='method', y=y)\n",
    "    plt.title(y.replace('_', ' ').title())\n",
    "        "
   ]
  },
  {
   "cell_type": "markdown",
   "metadata": {},
   "source": [
    "## Quadratic Scatter"
   ]
  },
  {
   "cell_type": "code",
   "execution_count": 71,
   "metadata": {},
   "outputs": [],
   "source": [
    "import seaborn as sns; sns.set(style='whitegrid', font_scale=1.2, font='helvetica')\n",
    "%matplotlib qt\n",
    "methods_of_interest = ['LSTM Standard', 'Dense Standard']\n",
    "# df_select = df_aio[df_aio['method'].str.contains('|'.join(methods_of_interest))]\n",
    "\n",
    "cols = df_aio.iloc[:, 0:6].columns\n",
    "for method_name in cols:\n",
    "\n",
    "    vals_A = df_aio[df_aio['method'].str.contains(methods_of_interest[0])][method_name].values\n",
    "    vals_B = df_aio[df_aio['method'].str.contains(methods_of_interest[1])][method_name].values\n",
    "    d = {methods_of_interest[0]: vals_A, methods_of_interest[1]: vals_B,} \n",
    "    df_tmp = pd.DataFrame(d)\n",
    "    plt.figure(figsize=(10, 10))\n",
    "    ax = sns.scatterplot(data=df_tmp, x=methods_of_interest[0], y=methods_of_interest[1])\n",
    "\n",
    "\n",
    "    xlim, ylim = (plt.xlim(), plt.ylim())\n",
    "    plt.plot(xlim, ylim, '--k')\n",
    "    xlim = (xlim[0]*0.95, xlim[1]*1.05)\n",
    "    ylim = (ylim[0]*0.95, ylim[1]*1.05)\n",
    "    plt.ylim(ylim)\n",
    "    plt.xlim(xlim)\n",
    "    \n",
    "    # Title\n",
    "    prop_higher = np.sum(vals_B > vals_A) / len(vals_A)\n",
    "    cohens_d = (np.nanmean(vals_A) - np.nanmean(vals_B)) / np.mean([np.nanstd(vals_A), np.nanstd(vals_B)])\n",
    "    median_diff = np.abs(np.nanmedian(vals_A-vals_B))\n",
    "    method_name_title = method_name.replace('_', ' ').title()\n",
    "    title = f'{method_name_title} ({methods_of_interest[1]} higher in {100*prop_higher:.1f} %)\\nmedian_difference: {median_diff}\\ncohens d: {abs(cohens_d):.2f}'\n",
    "    plt.title(title)\n",
    "\n",
    "    plt.gca().set_aspect('equal', adjustable='box')\n",
    "    del d, df_tmp"
   ]
  },
  {
   "cell_type": "markdown",
   "metadata": {},
   "source": [
    "## Dependence on anything"
   ]
  },
  {
   "cell_type": "code",
   "execution_count": 74,
   "metadata": {},
   "outputs": [],
   "source": [
    "import pandas as pd\n",
    "%matplotlib qt\n",
    "sns.set(font_scale=1.2, font='helvetica')\n",
    "# pd.DataFrame( metrics , index=model_names)\n",
    "target_column = 'duration_of_trials'\n",
    "binning = True\n",
    "n_bins = 20\n",
    "\n",
    "\n",
    "df = sim_test.simulation_info\n",
    "if binning:\n",
    "    minimum = np.min([np.min(arr) for arr in df[target_column].values])\n",
    "    maximum = np.max([np.max(arr) for arr in df[target_column].values])\n",
    "    \n",
    "    bins = np.linspace(minimum, maximum*1.01, num=n_bins)\n",
    "    bin_labels = [str(round(bins[i], 1)) + ' - ' + str(round(bins[i+1], 1)) for i in range(len(bins)-1)]\n",
    "    new_target_column = 'bins ' + target_column\n",
    "    df[new_target_column] = np.digitize(df[target_column].values, bins=bins)\n",
    "    target_column = new_target_column\n",
    "    \n",
    "else:\n",
    "    bins = list(set(df[target_column].values))\n",
    "    bins[-1] *= 1.01\n",
    "    bin_labels = [str(bins[i]) for i in range(len(bins))]\n",
    "\n",
    "\n",
    "for i, model_name in enumerate(list(set(df_aio.method.values))):\n",
    "    cols = df_aio[df_aio.method==model_name].iloc[:, 0:6].columns\n",
    "    values = df_aio[df_aio.method==model_name].iloc[:, 0:6].values\n",
    "\n",
    "    for metric_name, metric in zip(cols, values.T):\n",
    "        col_name = model_name.replace(' ', '_') + '_' + metric_name.replace(' ', '_')\n",
    "        df[col_name] = metric\n",
    "\n",
    "dep_var_regex = target_column\n",
    "dep_var_label = target_column.replace('_', ' ').title()\n",
    "metric_names_nice = [col.replace('_', ' ').title() for col in df_aio.iloc[:, :6].columns]\n",
    "for metric_name, metric_name_nice in zip(df_aio.iloc[:, :6].columns,  metric_names_nice):\n",
    "    df_temp = pd.concat((df.filter(regex=dep_var_regex), df.filter(regex=metric_name)), axis=1).melt(dep_var_regex, var_name='cols', value_name='vals')\n",
    "    g = sns.catplot(x=dep_var_regex, y='vals', hue='cols', capsize=.2, kind='point', data=df_temp)\n",
    "    g.set(xticklabels=bin_labels, ylabel=metric_name_nice, xlabel=dep_var_label)\n",
    "    g._legend.remove()\n",
    "    plt.legend(bbox_to_anchor=(1.05, 1), loc=2, borderaxespad=0.)\n",
    "    plt.tight_layout()"
   ]
  },
  {
   "cell_type": "markdown",
   "metadata": {},
   "source": [
    "## Dependence on Duration"
   ]
  },
  {
   "cell_type": "code",
   "execution_count": null,
   "metadata": {},
   "outputs": [],
   "source": []
  },
  {
   "cell_type": "markdown",
   "metadata": {},
   "source": [
    "## Save all figures"
   ]
  },
  {
   "cell_type": "code",
   "execution_count": null,
   "metadata": {},
   "outputs": [],
   "source": [
    "from matplotlib.backends.backend_pdf import PdfPages\n",
    "\n",
    "def multipage(filename, figs=None, dpi=300, png=False):\n",
    "    ''' Saves all open (or list of) figures to filename.pdf with dpi''' \n",
    "    pp = PdfPages(filename)\n",
    "    path = os.path.dirname(filename)\n",
    "    fn = os.path.basename(filename)[:-4]\n",
    "\n",
    "    if figs is None:\n",
    "        figs = [plt.figure(n) for n in plt.get_fignums()]\n",
    "    for i, fig in enumerate(figs):\n",
    "        print(f'saving fig {fig}\\n')\n",
    "        fig.savefig(pp, format='pdf', dpi=dpi)\n",
    "        if png:\n",
    "            fig.savefig(f'{path}\\\\{i}_{fn}.png', dpi=600)\n",
    "    pp.close()\n",
    "\n",
    "multipage(f'figures\\\\figs_5000_10samples\\\\figs_5000_10samples.pdf', png=True)"
   ]
  },
  {
   "cell_type": "markdown",
   "metadata": {},
   "source": [
    "## Speed test"
   ]
  },
  {
   "cell_type": "code",
   "execution_count": null,
   "metadata": {},
   "outputs": [],
   "source": [
    "import time\n",
    "\n",
    "def new_sim_params(sr=100, packages_per_second=20):\n",
    "    package_size = int( round( sr / packages_per_second  ) )\n",
    "    package_interval = package_size/sr\n",
    "\n",
    "    n_chan = len(sim_test.eeg_data.ch_names)\n",
    "    data_package = np.random.randn(n_chan, package_size)\n",
    "\n",
    "    sim_data_package = Simulation(fwd, info, settings=dict(duration_of_trial=0.01*package_size)).simulate(1)\n",
    "    print(f'performing predictions {packages_per_second} times per second')\n",
    "\n",
    "    return sim_data_package, package_interval\n",
    "\n",
    "packages_per_second = 50\n",
    "sim_data_package, package_interval = new_sim_params(packages_per_second=packages_per_second)\n",
    "\n",
    "while True:\n",
    "    start = time.time()\n",
    "    # stc = net_dense.predict(sim_data_package)\n",
    "    stc = models[0].predict(sim_data_package)\n",
    "\n",
    "    stop = time.time()\n",
    "    diff = stop-start\n",
    "    if stop-start > package_interval:\n",
    "        print(f\"took longer than expected: {diff} (instead of {package_interval})\")\n",
    "        print(f'decreasing package interval by one')\n",
    "        packages_per_second -= 1\n",
    "        sim_data_package, package_interval = new_sim_params(packages_per_second=packages_per_second)\n",
    "        print(f'packages_per_second={packages_per_second}\\n')\n",
    "        continue\n",
    "    time.sleep(package_interval-diff)\n",
    "\n"
   ]
  }
 ],
 "metadata": {
  "interpreter": {
   "hash": "8292a7c1b71beb25883e5d3de4479593a27229e31834907607dc8a0d6e7b1899"
  },
  "kernelspec": {
   "display_name": "Python 3.8.10 64-bit ('esienv': virtualenv)",
   "name": "python3"
  },
  "language_info": {
   "codemirror_mode": {
    "name": "ipython",
    "version": 3
   },
   "file_extension": ".py",
   "mimetype": "text/x-python",
   "name": "python",
   "nbconvert_exporter": "python",
   "pygments_lexer": "ipython3",
   "version": "3.8.10"
  },
  "orig_nbformat": 4
 },
 "nbformat": 4,
 "nbformat_minor": 2
}
