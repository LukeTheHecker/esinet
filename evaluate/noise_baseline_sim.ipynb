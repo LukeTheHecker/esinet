{
 "cells": [
  {
   "cell_type": "code",
   "execution_count": 1,
   "metadata": {},
   "outputs": [],
   "source": [
    "%load_ext autoreload\n",
    "%autoreload 2\n",
    "\n",
    "import sys; sys.path.insert(0, '../')\n",
    "from copy import deepcopy\n",
    "import pickle as pkl\n",
    "import numpy as np\n",
    "import matplotlib.pyplot as plt\n",
    "import mne\n",
    "from esinet.util import wrap_mne_inverse\n",
    "from esinet import forward\n",
    "from esinet.simulation import Simulation\n",
    "from esinet.util import unpack_fwd\n",
    "from esinet import util\n",
    "\n"
   ]
  },
  {
   "cell_type": "markdown",
   "metadata": {},
   "source": [
    "# Forward Model"
   ]
  },
  {
   "cell_type": "code",
   "execution_count": 2,
   "metadata": {},
   "outputs": [
    {
     "name": "stderr",
     "output_type": "stream",
     "text": [
      "[Parallel(n_jobs=8)]: Using backend LokyBackend with 8 concurrent workers.\n",
      "[Parallel(n_jobs=8)]: Done   3 out of   8 | elapsed:    1.4s remaining:    2.4s\n",
      "[Parallel(n_jobs=8)]: Done   5 out of   8 | elapsed:    1.4s remaining:    0.8s\n",
      "[Parallel(n_jobs=8)]: Done   8 out of   8 | elapsed:    1.5s finished\n",
      "[Parallel(n_jobs=8)]: Using backend LokyBackend with 8 concurrent workers.\n",
      "[Parallel(n_jobs=8)]: Done   3 out of   8 | elapsed:    0.0s remaining:    0.1s\n",
      "[Parallel(n_jobs=8)]: Done   5 out of   8 | elapsed:    0.0s remaining:    0.0s\n",
      "[Parallel(n_jobs=8)]: Done   8 out of   8 | elapsed:    0.0s finished\n",
      "[Parallel(n_jobs=8)]: Using backend LokyBackend with 8 concurrent workers.\n",
      "[Parallel(n_jobs=8)]: Done   3 out of   8 | elapsed:    0.0s remaining:    0.1s\n",
      "[Parallel(n_jobs=8)]: Done   5 out of   8 | elapsed:    0.0s remaining:    0.0s\n",
      "[Parallel(n_jobs=8)]: Done   8 out of   8 | elapsed:    0.1s finished\n",
      "[Parallel(n_jobs=8)]: Using backend LokyBackend with 8 concurrent workers.\n",
      "[Parallel(n_jobs=8)]: Done   3 out of   8 | elapsed:    0.0s remaining:    0.1s\n",
      "[Parallel(n_jobs=8)]: Done   5 out of   8 | elapsed:    0.0s remaining:    0.0s\n",
      "[Parallel(n_jobs=8)]: Done   8 out of   8 | elapsed:    0.0s finished\n",
      "[Parallel(n_jobs=8)]: Using backend LokyBackend with 8 concurrent workers.\n",
      "[Parallel(n_jobs=8)]: Done   3 out of   8 | elapsed:    0.0s remaining:    0.1s\n",
      "[Parallel(n_jobs=8)]: Done   5 out of   8 | elapsed:    0.0s remaining:    0.0s\n",
      "[Parallel(n_jobs=8)]: Done   8 out of   8 | elapsed:    0.0s finished\n",
      "[Parallel(n_jobs=8)]: Using backend LokyBackend with 8 concurrent workers.\n",
      "[Parallel(n_jobs=8)]: Done   3 out of   8 | elapsed:    0.0s remaining:    0.1s\n",
      "[Parallel(n_jobs=8)]: Done   5 out of   8 | elapsed:    0.0s remaining:    0.0s\n",
      "[Parallel(n_jobs=8)]: Done   8 out of   8 | elapsed:    0.1s finished\n"
     ]
    }
   ],
   "source": [
    "info = forward.get_info()\n",
    "info['sfreq'] = 100\n",
    "fwd_normal = forward.create_forward_model(info=info)\n",
    "fwd_free = forward.create_forward_model(info=info, fixed_ori=False)"
   ]
  },
  {
   "cell_type": "code",
   "execution_count": 25,
   "metadata": {},
   "outputs": [
    {
     "name": "stdout",
     "output_type": "stream",
     "text": [
      "Simulating data based on sparse patches.\n"
     ]
    },
    {
     "name": "stderr",
     "output_type": "stream",
     "text": [
      "100%|██████████| 3/3 [00:00<00:00, 200.12it/s]\n",
      "100%|██████████| 3/3 [00:00<00:00, 2994.51it/s]"
     ]
    },
    {
     "name": "stdout",
     "output_type": "stream",
     "text": [
      "source data shape:  (1284, 100) (1284, 100)\n"
     ]
    },
    {
     "name": "stderr",
     "output_type": "stream",
     "text": [
      "\n",
      "100%|██████████| 3/3 [00:00<00:00, 108.40it/s]\n"
     ]
    }
   ],
   "source": [
    "settings = None # dict(duration_of_trial=5, number_of_sources=1, target_snr=10, extents=1)\n",
    "sim_test = Simulation(fwd_normal, info, settings=settings).simulate(3)"
   ]
  },
  {
   "cell_type": "code",
   "execution_count": 26,
   "metadata": {},
   "outputs": [
    {
     "data": {
      "application/vnd.jupyter.widget-view+json": {
       "model_id": "626541b6b8d94e52951f6b71f853467f",
       "version_major": 2,
       "version_minor": 0
      },
      "text/plain": [
       "  0%|          | 0/3 [00:00<?, ?it/s]"
      ]
     },
     "metadata": {},
     "output_type": "display_data"
    },
    {
     "name": "stderr",
     "output_type": "stream",
     "text": [
      "c:\\Users\\lukas\\Dokumente\\projects\\esinet\\evaluate\\..\\esinet\\util\\util.py:388: RuntimeWarning: An average reference projection was already added. The data has been left untouched.\n",
      "  epochs.set_eeg_reference(projection=True, verbose=verbose)#.apply_baseline(baseline=baseline)\n",
      "c:\\Users\\lukas\\Dokumente\\projects\\esinet\\evaluate\\..\\esinet\\util\\util.py:418: RuntimeWarning: Too few samples (required : 310 got : 100), covariance estimate may be unreliable\n",
      "  data_cov = mne.compute_raw_covariance(raw, tmin=tmin,\n",
      "c:\\Users\\lukas\\Dokumente\\projects\\esinet\\evaluate\\..\\esinet\\util\\util.py:388: RuntimeWarning: An average reference projection was already added. The data has been left untouched.\n",
      "  epochs.set_eeg_reference(projection=True, verbose=verbose)#.apply_baseline(baseline=baseline)\n",
      "c:\\Users\\lukas\\Dokumente\\projects\\esinet\\evaluate\\..\\esinet\\util\\util.py:418: RuntimeWarning: Too few samples (required : 310 got : 100), covariance estimate may be unreliable\n",
      "  data_cov = mne.compute_raw_covariance(raw, tmin=tmin,\n",
      "c:\\Users\\lukas\\Dokumente\\projects\\esinet\\evaluate\\..\\esinet\\util\\util.py:388: RuntimeWarning: An average reference projection was already added. The data has been left untouched.\n",
      "  epochs.set_eeg_reference(projection=True, verbose=verbose)#.apply_baseline(baseline=baseline)\n",
      "c:\\Users\\lukas\\Dokumente\\projects\\esinet\\evaluate\\..\\esinet\\util\\util.py:418: RuntimeWarning: Too few samples (required : 310 got : 100), covariance estimate may be unreliable\n",
      "  data_cov = mne.compute_raw_covariance(raw, tmin=tmin,\n"
     ]
    }
   ],
   "source": [
    "method = 'lcmv'\n",
    "n_baseline = 400\n",
    "add_baseline = True\n",
    "\n",
    "# pred = wrap_mne_inverse(fwd_free, sim_test, method=method, \n",
    "#         parallel=False, add_baseline=add_baseline, n_baseline=n_baseline,\n",
    "#         weight_norm=None, reduce_rank=False, inversion='matrix',\n",
    "#         rank='info', pick_ori=None, reg=0.05, regularize=False)\n",
    "\n",
    "pred = wrap_mne_inverse(fwd_normal, sim_test, method=method, \n",
    "        parallel=False, add_baseline=add_baseline, n_baseline=n_baseline,\n",
    "        weight_norm=None, reduce_rank=False, inversion='matrix',\n",
    "        rank='info', pick_ori=None, reg=0.05, regularize=False)"
   ]
  },
  {
   "cell_type": "code",
   "execution_count": 27,
   "metadata": {},
   "outputs": [
    {
     "name": "stdout",
     "output_type": "stream",
     "text": [
      "(1284, 100) -5.1249837498430294e-09 6.64124432316766e-09\n"
     ]
    },
    {
     "data": {
      "image/png": "[encoded data removed]",
      "text/plain": [
       "<MNEFigure size 750x295 with 5 Axes>"
      ]
     },
     "execution_count": 27,
     "metadata": {},
     "output_type": "execute_result"
    }
   ],
   "source": [
    "%matplotlib qt\n",
    "from esinet import util\n",
    "idx = 0\n",
    "plot_params = dict(surface='white', hemi='both', verbose=0, backend='pyvista')\n",
    "brain = sim_test.source_data[idx].mean().plot(**plot_params)\n",
    "title = f'{sim_test.simulation_info.number_of_sources.values[idx]} sources'\n",
    "brain.add_text(0.1, 0.9, title, 'title')\n",
    "evoked_esi = util.get_eeg_from_source(sim_test.source_data[idx].mean().data, fwd_normal, info, tmin=0.)\n",
    "evoked_esi.plot_topomap(title='True')\n",
    "\n",
    "if len(pred[idx].data.shape) == 3:\n",
    "    data = pred[idx].data\n",
    "    pred[idx] = deepcopy(sim_test.source_data[idx])\n",
    "    pred[idx].data = data.mean(axis=1)\n",
    "print(pred[idx].data.shape, pred[idx].data.min(), pred[idx].data.max())\n",
    "pred[idx] = pred[idx].mean()\n",
    "pred[idx].data = np.real(pred[idx].data)\n",
    "\n",
    "error = np.real(util.batch_nmse(sim_test.source_data[idx].mean().data, pred[idx].data))\n",
    "r = np.real(util.batch_corr(sim_test.source_data[idx].mean().data, pred[idx].data))\n",
    "\n",
    "\n",
    "brain = pred[idx].plot(**plot_params)\n",
    "title = f'{method}, error: {error:.4}, r: {r}'\n",
    "brain.add_text(0.1, 0.9, title, 'title')\n",
    "evoked_esi = util.get_eeg_from_source(pred[idx].data, fwd_normal, info, tmin=0.)\n",
    "evoked_esi.plot_topomap(title=method)\n",
    "\n",
    "\n"
   ]
  },
  {
   "cell_type": "markdown",
   "metadata": {},
   "source": [
    "# Hyperparameter Optimization"
   ]
  },
  {
   "cell_type": "code",
   "execution_count": 138,
   "metadata": {},
   "outputs": [
    {
     "data": {
      "application/vnd.jupyter.widget-view+json": {
       "model_id": "40364718737b484498c30d0acf7418e6",
       "version_major": 2,
       "version_minor": 0
      },
      "text/plain": [
       "  0%|          | 0/3 [00:00<?, ?it/s]"
      ]
     },
     "metadata": {},
     "output_type": "display_data"
    },
    {
     "name": "stderr",
     "output_type": "stream",
     "text": [
      "c:\\Users\\lukas\\Dokumente\\projects\\esinet\\evaluate\\..\\esinet\\util\\util.py:388: RuntimeWarning: An average reference projection was already added. The data has been left untouched.\n",
      "  epochs.set_eeg_reference(projection=True, verbose=verbose)#.apply_baseline(baseline=baseline)\n"
     ]
    },
    {
     "name": "stdout",
     "output_type": "stream",
     "text": [
      "failed:  reduce_rank cannot be used with inversion=\"single\"; consider using inversion=\"matrix\" if you have a rank-deficient forward model (i.e., from a sphere model with MEG channels), otherwise consider using reduce_rank=False\n"
     ]
    },
    {
     "data": {
      "application/vnd.jupyter.widget-view+json": {
       "model_id": "04e2a696ee0a40758e86e756692d871a",
       "version_major": 2,
       "version_minor": 0
      },
      "text/plain": [
       "  0%|          | 0/3 [00:00<?, ?it/s]"
      ]
     },
     "metadata": {},
     "output_type": "display_data"
    },
    {
     "name": "stderr",
     "output_type": "stream",
     "text": [
      "c:\\Users\\lukas\\Dokumente\\projects\\esinet\\evaluate\\..\\esinet\\util\\util.py:388: RuntimeWarning: An average reference projection was already added. The data has been left untouched.\n",
      "  epochs.set_eeg_reference(projection=True, verbose=verbose)#.apply_baseline(baseline=baseline)\n"
     ]
    },
    {
     "name": "stdout",
     "output_type": "stream",
     "text": [
      "failed:  reduce_rank cannot be used with inversion=\"single\"; consider using inversion=\"matrix\" if you have a rank-deficient forward model (i.e., from a sphere model with MEG channels), otherwise consider using reduce_rank=False\n"
     ]
    },
    {
     "data": {
      "application/vnd.jupyter.widget-view+json": {
       "model_id": "5100899b239a48a7a7a9ea2766a67967",
       "version_major": 2,
       "version_minor": 0
      },
      "text/plain": [
       "  0%|          | 0/3 [00:00<?, ?it/s]"
      ]
     },
     "metadata": {},
     "output_type": "display_data"
    },
    {
     "name": "stderr",
     "output_type": "stream",
     "text": [
      "c:\\Users\\lukas\\Dokumente\\projects\\esinet\\evaluate\\..\\esinet\\util\\util.py:388: RuntimeWarning: An average reference projection was already added. The data has been left untouched.\n",
      "  epochs.set_eeg_reference(projection=True, verbose=verbose)#.apply_baseline(baseline=baseline)\n"
     ]
    },
    {
     "name": "stdout",
     "output_type": "stream",
     "text": [
      "failed:  reduce_rank cannot be used with inversion=\"single\"; consider using inversion=\"matrix\" if you have a rank-deficient forward model (i.e., from a sphere model with MEG channels), otherwise consider using reduce_rank=False\n"
     ]
    },
    {
     "data": {
      "application/vnd.jupyter.widget-view+json": {
       "model_id": "cbb50cdc20b54daeaf2997aac6d2f3a3",
       "version_major": 2,
       "version_minor": 0
      },
      "text/plain": [
       "  0%|          | 0/3 [00:00<?, ?it/s]"
      ]
     },
     "metadata": {},
     "output_type": "display_data"
    },
    {
     "name": "stderr",
     "output_type": "stream",
     "text": [
      "c:\\Users\\lukas\\Dokumente\\projects\\esinet\\evaluate\\..\\esinet\\util\\util.py:388: RuntimeWarning: An average reference projection was already added. The data has been left untouched.\n",
      "  epochs.set_eeg_reference(projection=True, verbose=verbose)#.apply_baseline(baseline=baseline)\n"
     ]
    },
    {
     "name": "stdout",
     "output_type": "stream",
     "text": [
      "failed:  reduce_rank cannot be used with inversion=\"single\"; consider using inversion=\"matrix\" if you have a rank-deficient forward model (i.e., from a sphere model with MEG channels), otherwise consider using reduce_rank=False\n"
     ]
    },
    {
     "data": {
      "application/vnd.jupyter.widget-view+json": {
       "model_id": "001c3029d55448999a7f496d83f5852d",
       "version_major": 2,
       "version_minor": 0
      },
      "text/plain": [
       "  0%|          | 0/3 [00:00<?, ?it/s]"
      ]
     },
     "metadata": {},
     "output_type": "display_data"
    },
    {
     "name": "stderr",
     "output_type": "stream",
     "text": [
      "c:\\Users\\lukas\\Dokumente\\projects\\esinet\\evaluate\\..\\esinet\\util\\util.py:388: RuntimeWarning: An average reference projection was already added. The data has been left untouched.\n",
      "  epochs.set_eeg_reference(projection=True, verbose=verbose)#.apply_baseline(baseline=baseline)\n"
     ]
    },
    {
     "name": "stdout",
     "output_type": "stream",
     "text": [
      "failed:  reduce_rank cannot be used with inversion=\"single\"; consider using inversion=\"matrix\" if you have a rank-deficient forward model (i.e., from a sphere model with MEG channels), otherwise consider using reduce_rank=False\n"
     ]
    },
    {
     "data": {
      "application/vnd.jupyter.widget-view+json": {
       "model_id": "6d204a4d53f84f6da9b8deddf528b916",
       "version_major": 2,
       "version_minor": 0
      },
      "text/plain": [
       "  0%|          | 0/3 [00:00<?, ?it/s]"
      ]
     },
     "metadata": {},
     "output_type": "display_data"
    },
    {
     "name": "stderr",
     "output_type": "stream",
     "text": [
      "c:\\Users\\lukas\\Dokumente\\projects\\esinet\\evaluate\\..\\esinet\\util\\util.py:388: RuntimeWarning: An average reference projection was already added. The data has been left untouched.\n",
      "  epochs.set_eeg_reference(projection=True, verbose=verbose)#.apply_baseline(baseline=baseline)\n"
     ]
    },
    {
     "name": "stdout",
     "output_type": "stream",
     "text": [
      "failed:  reduce_rank cannot be used with inversion=\"single\"; consider using inversion=\"matrix\" if you have a rank-deficient forward model (i.e., from a sphere model with MEG channels), otherwise consider using reduce_rank=False\n"
     ]
    },
    {
     "data": {
      "application/vnd.jupyter.widget-view+json": {
       "model_id": "2c629124809349d4900fff15220c8425",
       "version_major": 2,
       "version_minor": 0
      },
      "text/plain": [
       "  0%|          | 0/3 [00:00<?, ?it/s]"
      ]
     },
     "metadata": {},
     "output_type": "display_data"
    },
    {
     "name": "stderr",
     "output_type": "stream",
     "text": [
      "c:\\Users\\lukas\\Dokumente\\projects\\esinet\\evaluate\\..\\esinet\\util\\util.py:388: RuntimeWarning: An average reference projection was already added. The data has been left untouched.\n",
      "  epochs.set_eeg_reference(projection=True, verbose=verbose)#.apply_baseline(baseline=baseline)\n"
     ]
    },
    {
     "name": "stdout",
     "output_type": "stream",
     "text": [
      "failed:  reduce_rank cannot be used with inversion=\"single\"; consider using inversion=\"matrix\" if you have a rank-deficient forward model (i.e., from a sphere model with MEG channels), otherwise consider using reduce_rank=False\n"
     ]
    },
    {
     "data": {
      "application/vnd.jupyter.widget-view+json": {
       "model_id": "2c30eb60ea2945a8a32e11ba38e39041",
       "version_major": 2,
       "version_minor": 0
      },
      "text/plain": [
       "  0%|          | 0/3 [00:00<?, ?it/s]"
      ]
     },
     "metadata": {},
     "output_type": "display_data"
    },
    {
     "name": "stderr",
     "output_type": "stream",
     "text": [
      "c:\\Users\\lukas\\Dokumente\\projects\\esinet\\evaluate\\..\\esinet\\util\\util.py:388: RuntimeWarning: An average reference projection was already added. The data has been left untouched.\n",
      "  epochs.set_eeg_reference(projection=True, verbose=verbose)#.apply_baseline(baseline=baseline)\n"
     ]
    },
    {
     "name": "stdout",
     "output_type": "stream",
     "text": [
      "failed:  reduce_rank cannot be used with inversion=\"single\"; consider using inversion=\"matrix\" if you have a rank-deficient forward model (i.e., from a sphere model with MEG channels), otherwise consider using reduce_rank=False\n"
     ]
    },
    {
     "data": {
      "application/vnd.jupyter.widget-view+json": {
       "model_id": "fd6253c7e0c84afab4d90d1f18ed74a5",
       "version_major": 2,
       "version_minor": 0
      },
      "text/plain": [
       "  0%|          | 0/3 [00:00<?, ?it/s]"
      ]
     },
     "metadata": {},
     "output_type": "display_data"
    },
    {
     "name": "stderr",
     "output_type": "stream",
     "text": [
      "c:\\Users\\lukas\\Dokumente\\projects\\esinet\\evaluate\\..\\esinet\\util\\util.py:388: RuntimeWarning: An average reference projection was already added. The data has been left untouched.\n",
      "  epochs.set_eeg_reference(projection=True, verbose=verbose)#.apply_baseline(baseline=baseline)\n"
     ]
    },
    {
     "name": "stdout",
     "output_type": "stream",
     "text": [
      "failed:  reduce_rank cannot be used with inversion=\"single\"; consider using inversion=\"matrix\" if you have a rank-deficient forward model (i.e., from a sphere model with MEG channels), otherwise consider using reduce_rank=False\n"
     ]
    },
    {
     "data": {
      "application/vnd.jupyter.widget-view+json": {
       "model_id": "fe84618e27a142be92213b5d5f796ec8",
       "version_major": 2,
       "version_minor": 0
      },
      "text/plain": [
       "  0%|          | 0/3 [00:00<?, ?it/s]"
      ]
     },
     "metadata": {},
     "output_type": "display_data"
    },
    {
     "name": "stderr",
     "output_type": "stream",
     "text": [
      "c:\\Users\\lukas\\Dokumente\\projects\\esinet\\evaluate\\..\\esinet\\util\\util.py:388: RuntimeWarning: An average reference projection was already added. The data has been left untouched.\n",
      "  epochs.set_eeg_reference(projection=True, verbose=verbose)#.apply_baseline(baseline=baseline)\n"
     ]
    },
    {
     "name": "stdout",
     "output_type": "stream",
     "text": [
      "failed:  reduce_rank cannot be used with inversion=\"single\"; consider using inversion=\"matrix\" if you have a rank-deficient forward model (i.e., from a sphere model with MEG channels), otherwise consider using reduce_rank=False\n"
     ]
    },
    {
     "data": {
      "application/vnd.jupyter.widget-view+json": {
       "model_id": "5b1f1eb9c28846f2a9b02141d82c16ba",
       "version_major": 2,
       "version_minor": 0
      },
      "text/plain": [
       "  0%|          | 0/3 [00:00<?, ?it/s]"
      ]
     },
     "metadata": {},
     "output_type": "display_data"
    },
    {
     "name": "stderr",
     "output_type": "stream",
     "text": [
      "c:\\Users\\lukas\\Dokumente\\projects\\esinet\\evaluate\\..\\esinet\\util\\util.py:388: RuntimeWarning: An average reference projection was already added. The data has been left untouched.\n",
      "  epochs.set_eeg_reference(projection=True, verbose=verbose)#.apply_baseline(baseline=baseline)\n"
     ]
    },
    {
     "name": "stdout",
     "output_type": "stream",
     "text": [
      "failed:  reduce_rank cannot be used with inversion=\"single\"; consider using inversion=\"matrix\" if you have a rank-deficient forward model (i.e., from a sphere model with MEG channels), otherwise consider using reduce_rank=False\n"
     ]
    },
    {
     "data": {
      "application/vnd.jupyter.widget-view+json": {
       "model_id": "6f228c88580948c8b9bbcb5ed82c1336",
       "version_major": 2,
       "version_minor": 0
      },
      "text/plain": [
       "  0%|          | 0/3 [00:00<?, ?it/s]"
      ]
     },
     "metadata": {},
     "output_type": "display_data"
    },
    {
     "name": "stderr",
     "output_type": "stream",
     "text": [
      "c:\\Users\\lukas\\Dokumente\\projects\\esinet\\evaluate\\..\\esinet\\util\\util.py:388: RuntimeWarning: An average reference projection was already added. The data has been left untouched.\n",
      "  epochs.set_eeg_reference(projection=True, verbose=verbose)#.apply_baseline(baseline=baseline)\n"
     ]
    },
    {
     "name": "stdout",
     "output_type": "stream",
     "text": [
      "failed:  reduce_rank cannot be used with inversion=\"single\"; consider using inversion=\"matrix\" if you have a rank-deficient forward model (i.e., from a sphere model with MEG channels), otherwise consider using reduce_rank=False\n"
     ]
    },
    {
     "data": {
      "application/vnd.jupyter.widget-view+json": {
       "model_id": "4e2f99fa40bb41c5ac314dce4015cd40",
       "version_major": 2,
       "version_minor": 0
      },
      "text/plain": [
       "  0%|          | 0/3 [00:00<?, ?it/s]"
      ]
     },
     "metadata": {},
     "output_type": "display_data"
    }
   ],
   "source": [
    "weight_norms = ['nai', 'unit-noise-gain', 'unit-noise-gain-invariante', ]\n",
    "reduce_ranks = [True, False]\n",
    "inversions = ['single', 'matrix']\n",
    "ranks = [None, 'full']\n",
    "pick_oris = [None, 'normal', 'max-power', ]\n",
    "regs = [0.001, 0.01, 0.05, 0.1]\n",
    "regularizes = [True, False]\n",
    "fwds = [fwd_free, fwd_normal]\n",
    "fwds_names = ['fwd_free', 'fwd_normal']\n",
    "method = 'lcmv'\n",
    "n_baseline = 400\n",
    "add_baseline = True\n",
    "idx=0\n",
    "results=[]\n",
    "for weight_norm in weight_norms:\n",
    "    for reduce_rank in reduce_ranks:\n",
    "        for inversion in inversions:\n",
    "            for rank in ranks:\n",
    "                for pick_ori in pick_oris:\n",
    "                    for reg in regs:\n",
    "                        for regularize in regularizes:\n",
    "                            for fwd, name in zip(fwds, fwds_names):\n",
    "                                try:\n",
    "                                    pred = wrap_mne_inverse(fwd, sim_test, method=method, \n",
    "                                        parallel=False, add_baseline=add_baseline, n_baseline=n_baseline,\n",
    "                                        weight_norm=weight_norm, reduce_rank=reduce_rank, inversion=inversion,\n",
    "                                        rank=rank, pick_ori=pick_ori,\n",
    "                                        reg=reg, regularize=regularize)\n",
    "                                    error = util.batch_nmse(sim_test.source_data[idx].data, pred[idx].data)\n",
    "                                    r = util.batch_corr(sim_test.source_data[idx].data, pred[idx].data)\n",
    "                                    result = dict(\n",
    "                                            weight_norm=weight_norm,\n",
    "                                            reduce_rank=reduce_rank,\n",
    "                                            inversion=inversion,\n",
    "                                            rank=rank,\n",
    "                                            pick_ori=pick_ori,\n",
    "                                            reg=reg,\n",
    "                                            regularize=regularize,\n",
    "                                            corr=r,\n",
    "                                            nmse=error\n",
    "                                        )\n",
    "                                    results.append(result)\n",
    "                                    print('\\n', result, '\\n')\n",
    "\n",
    "                                except Exception as e:\n",
    "                                    print(\"failed: \", e)\n",
    "                                    continue\n",
    "                            \n"
   ]
  },
  {
   "cell_type": "markdown",
   "metadata": {},
   "source": [
    "Optimal settings:\n",
    "\n",
    "weight_norm\treduce_rank\tinversion\trank\tpick_ori\treg\tregularize\tcorr\tnmse  \n",
    "44\tnai\tTrue\tmatrix\tfull\tmax-power\t0.050\tFalse\t0.182270+0.000000j\t0.131376+0.000000j  \n",
    "160\tunit-noise-gain\tTrue\tmatrix\tfull\tmax-power\t0.001\tFalse\t0.148375+0.000000j\t0.142099+0.000000j  \n",
    "42\tnai\tTrue\tmatrix\tfull\tmax-power\t0.010\tFalse\t0.130662+0.000000j\t0.132040+0.000000j  \n",
    "60\tnai\tFalse\tsingle\tNone\tNone\t0.100\tTrue\t0.086283+0.000000j\t0.074528+0.000000j  \n",
    "98\tnai\tFalse\tmatrix\tNone\tNone\t0.100\tTrue\t0.085704+0.000000j\t0.075305+0.000000j  "
   ]
  },
  {
   "cell_type": "code",
   "execution_count": 22,
   "metadata": {},
   "outputs": [
    {
     "data": {
      "text/html": [
       "<div>\n",
       "<style scoped>\n",
       "    .dataframe tbody tr th:only-of-type {\n",
       "        vertical-align: middle;\n",
       "    }\n",
       "\n",
       "    .dataframe tbody tr th {\n",
       "        vertical-align: top;\n",
       "    }\n",
       "\n",
       "    .dataframe thead th {\n",
       "        text-align: right;\n",
       "    }\n",
       "</style>\n",
       "<table border=\"1\" class=\"dataframe\">\n",
       "  <thead>\n",
       "    <tr style=\"text-align: right;\">\n",
       "      <th></th>\n",
       "      <th>weight_norm</th>\n",
       "      <th>reduce_rank</th>\n",
       "      <th>inversion</th>\n",
       "      <th>rank</th>\n",
       "      <th>pick_ori</th>\n",
       "      <th>reg</th>\n",
       "      <th>regularize</th>\n",
       "      <th>corr</th>\n",
       "      <th>nmse</th>\n",
       "    </tr>\n",
       "  </thead>\n",
       "  <tbody>\n",
       "    <tr>\n",
       "      <th>115</th>\n",
       "      <td>nai</td>\n",
       "      <td>False</td>\n",
       "      <td>matrix</td>\n",
       "      <td>full</td>\n",
       "      <td>None</td>\n",
       "      <td>0.050</td>\n",
       "      <td>False</td>\n",
       "      <td>0.003351+0.000000j</td>\n",
       "      <td>0.018711+0.000000j</td>\n",
       "    </tr>\n",
       "    <tr>\n",
       "      <th>231</th>\n",
       "      <td>unit-noise-gain</td>\n",
       "      <td>False</td>\n",
       "      <td>matrix</td>\n",
       "      <td>full</td>\n",
       "      <td>None</td>\n",
       "      <td>0.001</td>\n",
       "      <td>False</td>\n",
       "      <td>0.004165+0.000000j</td>\n",
       "      <td>0.018793+0.000000j</td>\n",
       "    </tr>\n",
       "    <tr>\n",
       "      <th>234</th>\n",
       "      <td>unit-noise-gain</td>\n",
       "      <td>False</td>\n",
       "      <td>matrix</td>\n",
       "      <td>full</td>\n",
       "      <td>None</td>\n",
       "      <td>0.010</td>\n",
       "      <td>False</td>\n",
       "      <td>0.004892+0.000000j</td>\n",
       "      <td>0.018796+0.000000j</td>\n",
       "    </tr>\n",
       "    <tr>\n",
       "      <th>111</th>\n",
       "      <td>nai</td>\n",
       "      <td>False</td>\n",
       "      <td>matrix</td>\n",
       "      <td>full</td>\n",
       "      <td>None</td>\n",
       "      <td>0.001</td>\n",
       "      <td>False</td>\n",
       "      <td>0.012028+0.000000j</td>\n",
       "      <td>0.020422+0.000000j</td>\n",
       "    </tr>\n",
       "    <tr>\n",
       "      <th>72</th>\n",
       "      <td>nai</td>\n",
       "      <td>False</td>\n",
       "      <td>single</td>\n",
       "      <td>full</td>\n",
       "      <td>None</td>\n",
       "      <td>0.001</td>\n",
       "      <td>False</td>\n",
       "      <td>0.013305+0.000000j</td>\n",
       "      <td>0.020678+0.000000j</td>\n",
       "    </tr>\n",
       "  </tbody>\n",
       "</table>\n",
       "</div>"
      ],
      "text/plain": [
       "         weight_norm  reduce_rank inversion  rank pick_ori    reg  regularize  \\\n",
       "115              nai        False    matrix  full     None  0.050       False   \n",
       "231  unit-noise-gain        False    matrix  full     None  0.001       False   \n",
       "234  unit-noise-gain        False    matrix  full     None  0.010       False   \n",
       "111              nai        False    matrix  full     None  0.001       False   \n",
       "72               nai        False    single  full     None  0.001       False   \n",
       "\n",
       "                   corr                nmse  \n",
       "115  0.003351+0.000000j  0.018711+0.000000j  \n",
       "231  0.004165+0.000000j  0.018793+0.000000j  \n",
       "234  0.004892+0.000000j  0.018796+0.000000j  \n",
       "111  0.012028+0.000000j  0.020422+0.000000j  \n",
       "72   0.013305+0.000000j  0.020678+0.000000j  "
      ]
     },
     "execution_count": 22,
     "metadata": {},
     "output_type": "execute_result"
    }
   ],
   "source": [
    "import pandas as pd\n",
    "df = pd.DataFrame(results)\n",
    "\n",
    "# df.sort_values('corr', ascending=False).head(5)\n",
    "df.sort_values('nmse', ascending=True).head(5)"
   ]
  }
 ],
 "metadata": {
  "interpreter": {
   "hash": "8292a7c1b71beb25883e5d3de4479593a27229e31834907607dc8a0d6e7b1899"
  },
  "kernelspec": {
   "display_name": "Python 3.8.10 64-bit ('esienv': virtualenv)",
   "name": "python3"
  },
  "language_info": {
   "codemirror_mode": {
    "name": "ipython",
    "version": 3
   },
   "file_extension": ".py",
   "mimetype": "text/x-python",
   "name": "python",
   "nbconvert_exporter": "python",
   "pygments_lexer": "ipython3",
   "version": "3.8.10"
  },
  "orig_nbformat": 4
 },
 "nbformat": 4,
 "nbformat_minor": 2
}
