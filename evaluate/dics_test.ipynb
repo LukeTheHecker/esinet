{
 "cells": [
  {
   "cell_type": "code",
   "execution_count": 1,
   "metadata": {},
   "outputs": [],
   "source": [
    "%matplotlib inline\n",
    "# %load_ext autoreload\n",
    "# %autoreload 2\n",
    "\n",
    "import sys; sys.path.insert(0, r'C:\\Users\\lukas\\Dokumente\\projects\\esinet')\n",
    "import pickle as pkl\n",
    "import numpy as np\n",
    "from copy import deepcopy\n",
    "import mne\n",
    "import seaborn as sns\n",
    "import matplotlib.pyplot as plt\n",
    "from esinet import util\n",
    "from esinet import Simulation\n",
    "from esinet import Net\n",
    "from esinet.forward import create_forward_model, get_info\n",
    "\n",
    "plot_params = dict(surface='white', hemi='both', verbose=0)"
   ]
  },
  {
   "cell_type": "code",
   "execution_count": 2,
   "metadata": {},
   "outputs": [
    {
     "name": "stderr",
     "output_type": "stream",
     "text": [
      "[Parallel(n_jobs=8)]: Using backend LokyBackend with 8 concurrent workers.\n",
      "[Parallel(n_jobs=8)]: Done   3 out of   8 | elapsed:    1.5s remaining:    2.5s\n",
      "[Parallel(n_jobs=8)]: Done   5 out of   8 | elapsed:    1.5s remaining:    0.9s\n",
      "[Parallel(n_jobs=8)]: Done   8 out of   8 | elapsed:    1.6s finished\n",
      "[Parallel(n_jobs=8)]: Using backend LokyBackend with 8 concurrent workers.\n",
      "[Parallel(n_jobs=8)]: Done   3 out of   8 | elapsed:    0.0s remaining:    0.1s\n",
      "[Parallel(n_jobs=8)]: Done   5 out of   8 | elapsed:    0.1s remaining:    0.0s\n",
      "[Parallel(n_jobs=8)]: Done   8 out of   8 | elapsed:    0.1s finished\n",
      "[Parallel(n_jobs=8)]: Using backend LokyBackend with 8 concurrent workers.\n",
      "[Parallel(n_jobs=8)]: Done   3 out of   8 | elapsed:    0.1s remaining:    0.2s\n",
      "[Parallel(n_jobs=8)]: Done   5 out of   8 | elapsed:    0.1s remaining:    0.0s\n",
      "[Parallel(n_jobs=8)]: Done   8 out of   8 | elapsed:    0.1s finished\n"
     ]
    }
   ],
   "source": [
    "info = get_info()\n",
    "info['sfreq'] = 100\n",
    "fwd = create_forward_model(info=info)"
   ]
  },
  {
   "cell_type": "code",
   "execution_count": 28,
   "metadata": {},
   "outputs": [
    {
     "name": "stdout",
     "output_type": "stream",
     "text": [
      "Simulate Source\n"
     ]
    },
    {
     "data": {
      "application/vnd.jupyter.widget-view+json": {
       "model_id": "2fd2c69e425c46e5bce1abbea24d0294",
       "version_major": 2,
       "version_minor": 0
      },
      "text/plain": [
       "  0%|          | 0/1 [00:00<?, ?it/s]"
      ]
     },
     "metadata": {},
     "output_type": "display_data"
    },
    {
     "name": "stdout",
     "output_type": "stream",
     "text": [
      "Converting Source Data to mne.SourceEstimate object\n"
     ]
    },
    {
     "data": {
      "application/vnd.jupyter.widget-view+json": {
       "model_id": "c69f442686ed413ba2c63b0ec584f42a",
       "version_major": 2,
       "version_minor": 0
      },
      "text/plain": [
       "  0%|          | 0/1 [00:00<?, ?it/s]"
      ]
     },
     "metadata": {},
     "output_type": "display_data"
    },
    {
     "name": "stdout",
     "output_type": "stream",
     "text": [
      "\n",
      "Project sources to EEG...\n",
      "\n",
      "Create EEG trials with noise...\n"
     ]
    },
    {
     "data": {
      "application/vnd.jupyter.widget-view+json": {
       "model_id": "de9457698acf4532b4031796a14cb9b4",
       "version_major": 2,
       "version_minor": 0
      },
      "text/plain": [
       "  0%|          | 0/1 [00:00<?, ?it/s]"
      ]
     },
     "metadata": {},
     "output_type": "display_data"
    },
    {
     "name": "stdout",
     "output_type": "stream",
     "text": [
      "\n",
      "Convert EEG matrices to a single instance of mne.Epochs...\n"
     ]
    }
   ],
   "source": [
    "n_samples = 1\n",
    "duration_of_trial = 1.0\n",
    "settings = dict(duration_of_trial=duration_of_trial, target_snr=999999, number_of_sources=1, extents=35)\n",
    "sim_lstm = Simulation(fwd, info, verbose=True, settings=settings).simulate(n_samples=n_samples)"
   ]
  },
  {
   "cell_type": "code",
   "execution_count": 31,
   "metadata": {},
   "outputs": [
    {
     "name": "stdout",
     "output_type": "stream",
     "text": [
      "Setting up band-pass filter from 0.1 - 45 Hz\n",
      "\n",
      "IIR filter parameters\n",
      "---------------------\n",
      "Butterworth bandpass zero-phase (two-pass forward and reverse) non-causal filter:\n",
      "- Filter order 16 (effective, after forward-backward)\n",
      "- Cutoffs at 0.10, 45.00 Hz: -6.02, -6.02 dB\n",
      "\n",
      "Applying baseline correction (mode: mean)\n",
      "Creating RawArray with float64 data, n_channels=61, n_times=100\n",
      "    Range : 0 ... 99 =      0.000 ...     0.990 secs\n",
      "Ready.\n"
     ]
    },
    {
     "name": "stderr",
     "output_type": "stream",
     "text": [
      "C:\\Users\\lukas\\AppData\\Local\\Temp/ipykernel_11764/1591048887.py:2: RuntimeWarning: An average reference projection was already added. The data has been left untouched.\n",
      "  epochs.filter(0.1, 45, method='iir').apply_baseline(baseline=(None, None)).set_eeg_reference('average', projection=True)\n"
     ]
    },
    {
     "data": {
      "text/plain": [
       "<mne.viz._brain._brain.Brain at 0x17b2436f610>"
      ]
     },
     "execution_count": 31,
     "metadata": {},
     "output_type": "execute_result"
    }
   ],
   "source": [
    "epochs = sim_lstm.eeg_data\n",
    "epochs.filter(0.1, 45, method='iir').apply_baseline(baseline=(None, None)).set_eeg_reference('average', projection=True)\n",
    "raw = mne.io.RawArray(np.squeeze(epochs.get_data()), epochs.info)\n",
    "true_source = sim_lstm.source_data[0]\n",
    "true_source.data /= np.max(true_source.data)\n",
    "true_source.plot(**plot_params)"
   ]
  },
  {
   "cell_type": "code",
   "execution_count": 32,
   "metadata": {},
   "outputs": [
    {
     "name": "stderr",
     "output_type": "stream",
     "text": [
      "C:\\Users\\lukas\\AppData\\Local\\Temp/ipykernel_11764/1361747469.py:6: RuntimeWarning: Too few samples (required : 310 got : 100), covariance estimate may be unreliable\n",
      "  data_covariance = mne.compute_raw_covariance(raw, verbose=0)\n",
      "100%|██████████| CSD epoch blocks : 1/1 [00:00<00:00,   29.42it/s]\n"
     ]
    },
    {
     "data": {
      "text/plain": [
       "<mne.viz._brain._brain.Brain at 0x17b2436f9a0>"
      ]
     },
     "execution_count": 32,
     "metadata": {},
     "output_type": "execute_result"
    },
    {
     "name": "stdout",
     "output_type": "stream",
     "text": [
      "Using control points [0.00252016 0.00566715 0.03792423]\n",
      "Using control points [0.02785156 0.04184901 0.88249387]\n",
      "Using control points [0.02785156 0.04184901 0.88249387]\n"
     ]
    }
   ],
   "source": [
    "freq_band_name = 'beta'\n",
    "freq_band = [13, 30]\n",
    "freqs = np.logspace(freq_band[0], freq_band[1], num=10)\n",
    "n_cycles = 2\n",
    "\n",
    "data_covariance = mne.compute_raw_covariance(raw, verbose=0)\n",
    "csd = mne.time_frequency.csd_morlet(epochs, freqs, n_cycles=n_cycles, verbose=0).mean()\n",
    "\n",
    "filters = mne.beamformer.make_dics(epochs.info, fwd, csd, reduce_rank=True, real_filter=True, pick_ori='max-power', verbose=0)\n",
    "\n",
    "\n",
    "stc, _ = mne.beamformer.apply_dics_csd(csd, filters, verbose=0)\n",
    "\n",
    "stc.data /= np.max(stc.data)\n",
    "stc.plot(**plot_params)"
   ]
  },
  {
   "cell_type": "code",
   "execution_count": 39,
   "metadata": {},
   "outputs": [
    {
     "name": "stderr",
     "output_type": "stream",
     "text": [
      "C:\\Users\\lukas\\AppData\\Local\\Temp/ipykernel_11764/4143045682.py:1: RuntimeWarning: Too few samples (required : 310 got : 100), covariance estimate may be unreliable\n",
      "  noise_cov = mne.compute_raw_covariance(raw, verbose=0)\n"
     ]
    },
    {
     "ename": "ValueError",
     "evalue": "cannot reshape array of size 3852 into shape (1284,3,3)",
     "output_type": "error",
     "traceback": [
      "\u001b[1;31m---------------------------------------------------------------------------\u001b[0m",
      "\u001b[1;31mValueError\u001b[0m                                Traceback (most recent call last)",
      "\u001b[1;32m~\\AppData\\Local\\Temp/ipykernel_11764/4143045682.py\u001b[0m in \u001b[0;36m<module>\u001b[1;34m\u001b[0m\n\u001b[0;32m      2\u001b[0m \u001b[0minverse_operator\u001b[0m \u001b[1;33m=\u001b[0m \u001b[0mmne\u001b[0m\u001b[1;33m.\u001b[0m\u001b[0mminimum_norm\u001b[0m\u001b[1;33m.\u001b[0m\u001b[0mmake_inverse_operator\u001b[0m\u001b[1;33m(\u001b[0m\u001b[0mepochs\u001b[0m\u001b[1;33m.\u001b[0m\u001b[0minfo\u001b[0m\u001b[1;33m,\u001b[0m \u001b[0mfwd\u001b[0m\u001b[1;33m,\u001b[0m \u001b[0mnoise_cov\u001b[0m\u001b[1;33m,\u001b[0m \u001b[0mfixed\u001b[0m\u001b[1;33m=\u001b[0m\u001b[1;32mTrue\u001b[0m\u001b[1;33m,\u001b[0m \u001b[0mdepth\u001b[0m\u001b[1;33m=\u001b[0m\u001b[1;32mNone\u001b[0m\u001b[1;33m,\u001b[0m \u001b[0mverbose\u001b[0m\u001b[1;33m=\u001b[0m\u001b[1;36m0\u001b[0m\u001b[1;33m)\u001b[0m\u001b[1;33m\u001b[0m\u001b[1;33m\u001b[0m\u001b[0m\n\u001b[0;32m      3\u001b[0m \u001b[1;31m# stc = mne.minimum_norm.compute_source_psd(raw, inverse_operator, lambda2=1/9, method='eLORETA', tmin=None, tmax=None, fmin=freq_band[0], fmax=freq_band[1])\u001b[0m\u001b[1;33m\u001b[0m\u001b[1;33m\u001b[0m\u001b[1;33m\u001b[0m\u001b[0m\n\u001b[1;32m----> 4\u001b[1;33m \u001b[0mstc\u001b[0m \u001b[1;33m=\u001b[0m \u001b[0mmne\u001b[0m\u001b[1;33m.\u001b[0m\u001b[0mminimum_norm\u001b[0m\u001b[1;33m.\u001b[0m\u001b[0msource_band_induced_power\u001b[0m\u001b[1;33m(\u001b[0m\u001b[0mepochs\u001b[0m\u001b[1;33m,\u001b[0m \u001b[0minverse_operator\u001b[0m\u001b[1;33m,\u001b[0m \u001b[0mdict\u001b[0m\u001b[1;33m(\u001b[0m\u001b[0mbeta\u001b[0m\u001b[1;33m=\u001b[0m\u001b[0mfreq_band\u001b[0m\u001b[1;33m)\u001b[0m\u001b[1;33m,\u001b[0m \u001b[0mlambda2\u001b[0m\u001b[1;33m=\u001b[0m\u001b[1;36m1\u001b[0m\u001b[1;33m/\u001b[0m\u001b[1;36m9\u001b[0m\u001b[1;33m,\u001b[0m \u001b[0mmethod\u001b[0m\u001b[1;33m=\u001b[0m\u001b[1;34m'eLORETA'\u001b[0m\u001b[1;33m,\u001b[0m \u001b[0mverbose\u001b[0m\u001b[1;33m=\u001b[0m\u001b[1;36m0\u001b[0m\u001b[1;33m)\u001b[0m\u001b[1;33m\u001b[0m\u001b[1;33m\u001b[0m\u001b[0m\n\u001b[0m\u001b[0;32m      5\u001b[0m \u001b[1;33m\u001b[0m\u001b[0m\n\u001b[0;32m      6\u001b[0m \u001b[0mstc\u001b[0m\u001b[1;33m.\u001b[0m\u001b[0mdata\u001b[0m \u001b[1;33m/=\u001b[0m \u001b[0mnp\u001b[0m\u001b[1;33m.\u001b[0m\u001b[0mabs\u001b[0m\u001b[1;33m(\u001b[0m\u001b[0mstc\u001b[0m\u001b[1;33m.\u001b[0m\u001b[0mdata\u001b[0m\u001b[1;33m)\u001b[0m\u001b[1;33m.\u001b[0m\u001b[0mmax\u001b[0m\u001b[1;33m(\u001b[0m\u001b[1;33m)\u001b[0m\u001b[1;33m\u001b[0m\u001b[1;33m\u001b[0m\u001b[0m\n",
      "\u001b[1;32m<decorator-gen-361>\u001b[0m in \u001b[0;36msource_band_induced_power\u001b[1;34m(epochs, inverse_operator, bands, label, lambda2, method, nave, n_cycles, df, use_fft, decim, baseline, baseline_mode, pca, n_jobs, prepared, method_params, use_cps, verbose)\u001b[0m\n",
      "\u001b[1;32m~\\virtualenvs\\esienv\\lib\\site-packages\\mne\\minimum_norm\\time_frequency.py\u001b[0m in \u001b[0;36msource_band_induced_power\u001b[1;34m(epochs, inverse_operator, bands, label, lambda2, method, nave, n_cycles, df, use_fft, decim, baseline, baseline_mode, pca, n_jobs, prepared, method_params, use_cps, verbose)\u001b[0m\n\u001b[0;32m    141\u001b[0m                             for _, band in bands.items()])\n\u001b[0;32m    142\u001b[0m \u001b[1;33m\u001b[0m\u001b[0m\n\u001b[1;32m--> 143\u001b[1;33m     powers, _, vertno = _source_induced_power(\n\u001b[0m\u001b[0;32m    144\u001b[0m         \u001b[0mepochs\u001b[0m\u001b[1;33m,\u001b[0m \u001b[0minverse_operator\u001b[0m\u001b[1;33m,\u001b[0m \u001b[0mfreqs\u001b[0m\u001b[1;33m,\u001b[0m \u001b[0mlabel\u001b[0m\u001b[1;33m=\u001b[0m\u001b[0mlabel\u001b[0m\u001b[1;33m,\u001b[0m \u001b[0mlambda2\u001b[0m\u001b[1;33m=\u001b[0m\u001b[0mlambda2\u001b[0m\u001b[1;33m,\u001b[0m\u001b[1;33m\u001b[0m\u001b[1;33m\u001b[0m\u001b[0m\n\u001b[0;32m    145\u001b[0m         \u001b[0mmethod\u001b[0m\u001b[1;33m=\u001b[0m\u001b[0mmethod\u001b[0m\u001b[1;33m,\u001b[0m \u001b[0mnave\u001b[0m\u001b[1;33m=\u001b[0m\u001b[0mnave\u001b[0m\u001b[1;33m,\u001b[0m \u001b[0mn_cycles\u001b[0m\u001b[1;33m=\u001b[0m\u001b[0mn_cycles\u001b[0m\u001b[1;33m,\u001b[0m \u001b[0mdecim\u001b[0m\u001b[1;33m=\u001b[0m\u001b[0mdecim\u001b[0m\u001b[1;33m,\u001b[0m\u001b[1;33m\u001b[0m\u001b[1;33m\u001b[0m\u001b[0m\n",
      "\u001b[1;32m<decorator-gen-363>\u001b[0m in \u001b[0;36m_source_induced_power\u001b[1;34m(epochs, inverse_operator, freqs, label, lambda2, method, nave, n_cycles, decim, use_fft, pca, pick_ori, n_jobs, with_plv, zero_mean, prepared, method_params, use_cps, verbose)\u001b[0m\n",
      "\u001b[1;32m~\\virtualenvs\\esienv\\lib\\site-packages\\mne\\minimum_norm\\time_frequency.py\u001b[0m in \u001b[0;36m_source_induced_power\u001b[1;34m(epochs, inverse_operator, freqs, label, lambda2, method, nave, n_cycles, decim, use_fft, pca, pick_ori, n_jobs, with_plv, zero_mean, prepared, method_params, use_cps, verbose)\u001b[0m\n\u001b[0;32m    271\u001b[0m     \u001b[1;34m\"\"\"Aux function for source induced power.\"\"\"\u001b[0m\u001b[1;33m\u001b[0m\u001b[1;33m\u001b[0m\u001b[0m\n\u001b[0;32m    272\u001b[0m     \u001b[0mepochs_data\u001b[0m \u001b[1;33m=\u001b[0m \u001b[0mepochs\u001b[0m\u001b[1;33m.\u001b[0m\u001b[0mget_data\u001b[0m\u001b[1;33m(\u001b[0m\u001b[1;33m)\u001b[0m\u001b[1;33m\u001b[0m\u001b[1;33m\u001b[0m\u001b[0m\n\u001b[1;32m--> 273\u001b[1;33m     K, sel, Vh, vertno, is_free_ori, noise_norm = _prepare_source_params(\n\u001b[0m\u001b[0;32m    274\u001b[0m         \u001b[0minst\u001b[0m\u001b[1;33m=\u001b[0m\u001b[0mepochs\u001b[0m\u001b[1;33m,\u001b[0m \u001b[0minverse_operator\u001b[0m\u001b[1;33m=\u001b[0m\u001b[0minverse_operator\u001b[0m\u001b[1;33m,\u001b[0m \u001b[0mlabel\u001b[0m\u001b[1;33m=\u001b[0m\u001b[0mlabel\u001b[0m\u001b[1;33m,\u001b[0m\u001b[1;33m\u001b[0m\u001b[1;33m\u001b[0m\u001b[0m\n\u001b[0;32m    275\u001b[0m         \u001b[0mlambda2\u001b[0m\u001b[1;33m=\u001b[0m\u001b[0mlambda2\u001b[0m\u001b[1;33m,\u001b[0m \u001b[0mmethod\u001b[0m\u001b[1;33m=\u001b[0m\u001b[0mmethod\u001b[0m\u001b[1;33m,\u001b[0m \u001b[0mnave\u001b[0m\u001b[1;33m=\u001b[0m\u001b[0mnave\u001b[0m\u001b[1;33m,\u001b[0m \u001b[0mpca\u001b[0m\u001b[1;33m=\u001b[0m\u001b[0mpca\u001b[0m\u001b[1;33m,\u001b[0m \u001b[0mpick_ori\u001b[0m\u001b[1;33m=\u001b[0m\u001b[0mpick_ori\u001b[0m\u001b[1;33m,\u001b[0m\u001b[1;33m\u001b[0m\u001b[1;33m\u001b[0m\u001b[0m\n",
      "\u001b[1;32m~\\virtualenvs\\esienv\\lib\\site-packages\\mne\\minimum_norm\\time_frequency.py\u001b[0m in \u001b[0;36m_prepare_source_params\u001b[1;34m(inst, inverse_operator, label, lambda2, method, nave, decim, pca, pick_ori, prepared, method_params, use_cps, verbose)\u001b[0m\n\u001b[0;32m     45\u001b[0m     \u001b[1;31m#   eigenleads\u001b[0m\u001b[1;33m\u001b[0m\u001b[1;33m\u001b[0m\u001b[1;33m\u001b[0m\u001b[0m\n\u001b[0;32m     46\u001b[0m     \u001b[1;31m#\u001b[0m\u001b[1;33m\u001b[0m\u001b[1;33m\u001b[0m\u001b[1;33m\u001b[0m\u001b[0m\n\u001b[1;32m---> 47\u001b[1;33m     K, noise_norm, vertno, _ = _assemble_kernel(\n\u001b[0m\u001b[0;32m     48\u001b[0m         inv, label, method, pick_ori, use_cps=use_cps)\n\u001b[0;32m     49\u001b[0m \u001b[1;33m\u001b[0m\u001b[0m\n",
      "\u001b[1;32m<decorator-gen-354>\u001b[0m in \u001b[0;36m_assemble_kernel\u001b[1;34m(inv, label, method, pick_ori, use_cps, verbose)\u001b[0m\n",
      "\u001b[1;32m~\\virtualenvs\\esienv\\lib\\site-packages\\mne\\minimum_norm\\inverse.py\u001b[0m in \u001b[0;36m_assemble_kernel\u001b[1;34m(inv, label, method, pick_ori, use_cps, verbose)\u001b[0m\n\u001b[0;32m    720\u001b[0m     \u001b[1;31m# vector or normal, might need to rotate\u001b[0m\u001b[1;33m\u001b[0m\u001b[1;33m\u001b[0m\u001b[1;33m\u001b[0m\u001b[0m\n\u001b[0;32m    721\u001b[0m     \u001b[1;32mif\u001b[0m \u001b[0mpick_ori\u001b[0m \u001b[1;33m==\u001b[0m \u001b[1;34m'normal'\u001b[0m \u001b[1;32mand\u001b[0m \u001b[0mall\u001b[0m\u001b[1;33m(\u001b[0m\u001b[0ms\u001b[0m\u001b[1;33m[\u001b[0m\u001b[1;34m'type'\u001b[0m\u001b[1;33m]\u001b[0m \u001b[1;33m==\u001b[0m \u001b[1;34m'surf'\u001b[0m \u001b[1;32mfor\u001b[0m \u001b[0ms\u001b[0m \u001b[1;32min\u001b[0m \u001b[0msrc\u001b[0m\u001b[1;33m)\u001b[0m \u001b[1;32mand\u001b[0m\u001b[0;31m \u001b[0m\u001b[0;31m\\\u001b[0m\u001b[1;33m\u001b[0m\u001b[1;33m\u001b[0m\u001b[0m\n\u001b[1;32m--> 722\u001b[1;33m             np.allclose(inv['source_nn'].reshape(inv['nsource'], 3, 3),\n\u001b[0m\u001b[0;32m    723\u001b[0m                         np.eye(3), atol=1e-6):\n\u001b[0;32m    724\u001b[0m         \u001b[0moffset\u001b[0m \u001b[1;33m=\u001b[0m \u001b[1;36m0\u001b[0m\u001b[1;33m\u001b[0m\u001b[1;33m\u001b[0m\u001b[0m\n",
      "\u001b[1;31mValueError\u001b[0m: cannot reshape array of size 3852 into shape (1284,3,3)"
     ]
    }
   ],
   "source": [
    "noise_cov = mne.compute_raw_covariance(raw, verbose=0)\n",
    "inverse_operator = mne.minimum_norm.make_inverse_operator(epochs.info, fwd, noise_cov, fixed=True, depth=None, verbose=0)\n",
    "# stc = mne.minimum_norm.compute_source_psd(raw, inverse_operator, lambda2=1/9, method='eLORETA', tmin=None, tmax=None, fmin=freq_band[0], fmax=freq_band[1])\n",
    "stc = mne.minimum_norm.source_band_induced_power(epochs, inverse_operator, dict(beta=freq_band), lambda2=1/9, method='eLORETA', verbose=0)\n",
    "\n",
    "stc.data /= np.abs(stc.data).max()\n",
    "stc.plot(**plot_params)"
   ]
  },
  {
   "cell_type": "code",
   "execution_count": 41,
   "metadata": {},
   "outputs": [
    {
     "data": {
      "text/plain": [
       "3.0"
      ]
     },
     "execution_count": 41,
     "metadata": {},
     "output_type": "execute_result"
    }
   ],
   "source": [
    "3852/1284"
   ]
  },
  {
   "cell_type": "code",
   "execution_count": null,
   "metadata": {},
   "outputs": [],
   "source": []
  }
 ],
 "metadata": {
  "interpreter": {
   "hash": "8292a7c1b71beb25883e5d3de4479593a27229e31834907607dc8a0d6e7b1899"
  },
  "kernelspec": {
   "display_name": "Python 3.8.10 64-bit ('esienv': virtualenv)",
   "language": "python",
   "name": "python3"
  },
  "language_info": {
   "codemirror_mode": {
    "name": "ipython",
    "version": 3
   },
   "file_extension": ".py",
   "mimetype": "text/x-python",
   "name": "python",
   "nbconvert_exporter": "python",
   "pygments_lexer": "ipython3",
   "version": "3.8.10"
  },
  "orig_nbformat": 4
 },
 "nbformat": 4,
 "nbformat_minor": 2
}
