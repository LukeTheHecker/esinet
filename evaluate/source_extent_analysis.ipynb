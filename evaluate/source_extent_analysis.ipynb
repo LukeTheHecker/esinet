{
 "cells": [
  {
   "cell_type": "markdown",
   "metadata": {},
   "source": [
    "# Source Extent Analysis\n",
    "\n",
    "Determining the number and size of sources in the Simulations has a great impact on source anaylsis success. Here I will present a data-driven approach using the Brainnetome functional Atlas.\n",
    "\n",
    "Paper:          https://academic.oup.com/cercor/article/26/8/3508/2429104#86181040  \n",
    "Website:        http://atlas.brainnetome.org/  \n",
    "Atlas Download: https://pan.cstcloud.cn/s/H9wCmuJSFI  \n",
    "README:         https://pan.cstcloud.cn/web/share.html?hash=0NrZTk3XSDY"
   ]
  },
  {
   "cell_type": "code",
   "execution_count": 3,
   "metadata": {},
   "outputs": [
    {
     "data": {
      "text/plain": [
       "<nilearn.plotting.displays.OrthoSlicer at 0x2506aeac460>"
      ]
     },
     "execution_count": 3,
     "metadata": {},
     "output_type": "execute_result"
    },
    {
     "data": {
      "image/png": "[encoded data removed]",
      "text/plain": [
       "<Figure size 475.2x187.2 with 4 Axes>"
      ]
     },
     "metadata": {},
     "output_type": "display_data"
    }
   ],
   "source": [
    "import nilearn as ni\n",
    "import numpy as np\n",
    "nii_fname = r'C:\\Users\\lukas\\Dokumente\\projects\\esinet\\evaluate\\BNA_MPM_thr25_1.25mm.nii.gz'\n",
    "img = ni.image.load_img(nii_fname)\n",
    "ni.plotting.plot_img(nii_fname, cmap='nipy_spectral')"
   ]
  },
  {
   "cell_type": "code",
   "execution_count": 43,
   "metadata": {},
   "outputs": [
    {
     "name": "stdout",
     "output_type": "stream",
     "text": [
      "Min: 9.391759334281012 mm\n",
      "mmean: 17.871231623255873 mm\n",
      "Max: 24.84886539508293 mm\n",
      "\n",
      "The extent could be sampled from a gaussian distribution with mean of 17.2 and standard deviation of 3.2\n"
     ]
    }
   ],
   "source": [
    "data = img.get_fdata()\n",
    "region_ids = list(set(data.flatten().astype(int)))\n",
    "voxel_size = 1.25  # mm\n",
    "vol_per_region = np.array([np.where(data==reg_id)[0].size*voxel_size for reg_id in region_ids])\n",
    "diam_per_region = np.power((6*vol_per_region) / np.pi, 1/3)\n",
    "\n",
    "print(f'Min: {np.min(diam_per_region)} mm\\nmmean: {np.mean(diam_per_region)} mm\\nMax: {np.max(diam_per_region[1:])} mm\\n')\n",
    "m, sd = [np.mean(diam_per_region[1:]), np.std(diam_per_region[1:])]\n",
    "print(f'The extent could be sampled from a gaussian distribution with mean of {m:.1f} and standard deviation of {sd:.1f}')\n"
   ]
  },
  {
   "cell_type": "code",
   "execution_count": 44,
   "metadata": {},
   "outputs": [
    {
     "data": {
      "text/plain": [
       "16.929633034720574"
      ]
     },
     "execution_count": 44,
     "metadata": {},
     "output_type": "execute_result"
    }
   ],
   "source": [
    "fun = lambda: ((np.random.randn(1) / sd) + m)[0]\n",
    "# del sd, m\n",
    "fun()"
   ]
  },
  {
   "cell_type": "code",
   "execution_count": 40,
   "metadata": {},
   "outputs": [
    {
     "data": {
      "text/plain": [
       "0.31123463454961464"
      ]
     },
     "execution_count": 40,
     "metadata": {},
     "output_type": "execute_result"
    }
   ],
   "source": [
    "((np.random.randn(10000000) / sd) + m).std()"
   ]
  },
  {
   "cell_type": "code",
   "execution_count": 50,
   "metadata": {},
   "outputs": [
    {
     "data": {
      "text/plain": [
       "True"
      ]
     },
     "execution_count": 50,
     "metadata": {},
     "output_type": "execute_result"
    }
   ],
   "source": [
    "callable(fun)"
   ]
  },
  {
   "cell_type": "code",
   "execution_count": null,
   "metadata": {},
   "outputs": [],
   "source": []
  }
 ],
 "metadata": {
  "interpreter": {
   "hash": "8292a7c1b71beb25883e5d3de4479593a27229e31834907607dc8a0d6e7b1899"
  },
  "kernelspec": {
   "display_name": "Python 3.8.10 64-bit ('esienv': virtualenv)",
   "language": "python",
   "name": "python3"
  },
  "language_info": {
   "codemirror_mode": {
    "name": "ipython",
    "version": 3
   },
   "file_extension": ".py",
   "mimetype": "text/x-python",
   "name": "python",
   "nbconvert_exporter": "python",
   "pygments_lexer": "ipython3",
   "version": "3.8.10"
  },
  "orig_nbformat": 4
 },
 "nbformat": 4,
 "nbformat_minor": 2
}
