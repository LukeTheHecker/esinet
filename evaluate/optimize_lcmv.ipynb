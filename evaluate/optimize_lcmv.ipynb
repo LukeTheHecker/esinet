{
 "cells": [
  {
   "cell_type": "code",
   "execution_count": 1,
   "metadata": {},
   "outputs": [],
   "source": [
    "%matplotlib inline\n",
    "# %load_ext autoreload\n",
    "# %autoreload 2\n",
    "\n",
    "import sys; sys.path.insert(0, r'C:\\Users\\Lukas\\Documents\\projects\\esinet')\n",
    "import pickle as pkl\n",
    "import numpy as np\n",
    "from copy import deepcopy\n",
    "import mne\n",
    "import seaborn as sns\n",
    "import matplotlib.pyplot as plt\n",
    "from esinet import util\n",
    "from esinet import Simulation\n",
    "from esinet import Net\n",
    "from esinet import forward\n",
    "\n",
    "plot_params = dict(surface='white', hemi='both', verbose=0)"
   ]
  },
  {
   "cell_type": "code",
   "execution_count": 2,
   "metadata": {},
   "outputs": [
    {
     "name": "stderr",
     "output_type": "stream",
     "text": [
      "[Parallel(n_jobs=4)]: Using backend LokyBackend with 4 concurrent workers.\n",
      "[Parallel(n_jobs=4)]: Done   2 out of   4 | elapsed:    1.1s remaining:    1.1s\n",
      "[Parallel(n_jobs=4)]: Done   4 out of   4 | elapsed:    1.1s remaining:    0.0s\n",
      "[Parallel(n_jobs=4)]: Done   4 out of   4 | elapsed:    1.1s finished\n",
      "[Parallel(n_jobs=4)]: Using backend LokyBackend with 4 concurrent workers.\n",
      "[Parallel(n_jobs=4)]: Done   2 out of   4 | elapsed:    0.1s remaining:    0.1s\n",
      "[Parallel(n_jobs=4)]: Done   4 out of   4 | elapsed:    0.1s remaining:    0.0s\n",
      "[Parallel(n_jobs=4)]: Done   4 out of   4 | elapsed:    0.1s finished\n",
      "[Parallel(n_jobs=4)]: Using backend LokyBackend with 4 concurrent workers.\n",
      "[Parallel(n_jobs=4)]: Done   2 out of   4 | elapsed:    0.2s remaining:    0.2s\n",
      "[Parallel(n_jobs=4)]: Done   4 out of   4 | elapsed:    0.2s remaining:    0.0s\n",
      "[Parallel(n_jobs=4)]: Done   4 out of   4 | elapsed:    0.2s finished\n",
      "[Parallel(n_jobs=4)]: Using backend LokyBackend with 4 concurrent workers.\n",
      "[Parallel(n_jobs=4)]: Done   2 out of   4 | elapsed:    0.1s remaining:    0.1s\n",
      "[Parallel(n_jobs=4)]: Done   4 out of   4 | elapsed:    0.1s remaining:    0.0s\n",
      "[Parallel(n_jobs=4)]: Done   4 out of   4 | elapsed:    0.1s finished\n",
      "[Parallel(n_jobs=4)]: Using backend LokyBackend with 4 concurrent workers.\n",
      "[Parallel(n_jobs=4)]: Done   2 out of   4 | elapsed:    0.1s remaining:    0.1s\n",
      "[Parallel(n_jobs=4)]: Done   4 out of   4 | elapsed:    0.1s remaining:    0.0s\n",
      "[Parallel(n_jobs=4)]: Done   4 out of   4 | elapsed:    0.1s finished\n",
      "[Parallel(n_jobs=4)]: Using backend LokyBackend with 4 concurrent workers.\n",
      "[Parallel(n_jobs=4)]: Done   2 out of   4 | elapsed:    0.2s remaining:    0.2s\n",
      "[Parallel(n_jobs=4)]: Done   4 out of   4 | elapsed:    0.3s remaining:    0.0s\n",
      "[Parallel(n_jobs=4)]: Done   4 out of   4 | elapsed:    0.3s finished\n"
     ]
    }
   ],
   "source": [
    "info = forward.get_info()\n",
    "info['sfreq'] = 100\n",
    "fwd = forward.create_forward_model(info=info, fixed_ori=True)\n",
    "fwd_free = forward.create_forward_model(info=info, fixed_ori=False)"
   ]
  },
  {
   "cell_type": "code",
   "execution_count": 52,
   "metadata": {},
   "outputs": [
    {
     "name": "stdout",
     "output_type": "stream",
     "text": [
      "Simulate Source\n"
     ]
    },
    {
     "data": {
      "application/vnd.jupyter.widget-view+json": {
       "model_id": "24f15419c79c4e6b8dcaa377ae445836",
       "version_major": 2,
       "version_minor": 0
      },
      "text/plain": [
       "  0%|          | 0/1 [00:00<?, ?it/s]"
      ]
     },
     "metadata": {},
     "output_type": "display_data"
    },
    {
     "name": "stdout",
     "output_type": "stream",
     "text": [
      "Converting Source Data to mne.SourceEstimate object\n"
     ]
    },
    {
     "data": {
      "application/vnd.jupyter.widget-view+json": {
       "model_id": "20ba4c9af8284672a6923f5e649a086e",
       "version_major": 2,
       "version_minor": 0
      },
      "text/plain": [
       "  0%|          | 0/1 [00:00<?, ?it/s]"
      ]
     },
     "metadata": {},
     "output_type": "display_data"
    },
    {
     "name": "stdout",
     "output_type": "stream",
     "text": [
      "\n",
      "Project sources to EEG...\n",
      "\n",
      "Create EEG trials with noise...\n"
     ]
    },
    {
     "data": {
      "application/vnd.jupyter.widget-view+json": {
       "model_id": "6a5834a50e6d42129aa0feaee62439ad",
       "version_major": 2,
       "version_minor": 0
      },
      "text/plain": [
       "  0%|          | 0/1 [00:00<?, ?it/s]"
      ]
     },
     "metadata": {},
     "output_type": "display_data"
    },
    {
     "name": "stdout",
     "output_type": "stream",
     "text": [
      "\n",
      "Convert EEG matrices to a single instance of mne.Epochs...\n"
     ]
    },
    {
     "data": {
      "text/plain": [
       "<mne.viz._brain._brain.Brain at 0x252071f21f0>"
      ]
     },
     "execution_count": 52,
     "metadata": {},
     "output_type": "execute_result"
    }
   ],
   "source": [
    "n_samples = 1\n",
    "duration_of_trial = 100\n",
    "settings = dict(duration_of_trial=duration_of_trial, method='standard', number_of_sources=10)\n",
    "\n",
    "sim_lstm = Simulation(fwd, info, verbose=True, settings=settings).simulate(n_samples=n_samples)\n",
    "sim_lstm.source_data[0].plot(**plot_params)"
   ]
  },
  {
   "cell_type": "code",
   "execution_count": 56,
   "metadata": {},
   "outputs": [
    {
     "name": "stdout",
     "output_type": "stream",
     "text": [
      "Applying baseline correction (mode: mean)\n"
     ]
    },
    {
     "name": "stderr",
     "output_type": "stream",
     "text": [
      "C:\\Users\\Lukas\\AppData\\Local\\Temp/ipykernel_12180/2685781762.py:3: RuntimeWarning: An average reference projection was already added. The data has been left untouched.\n",
      "  epochs = sim_lstm.eeg_data.set_eeg_reference('average', projection=True)\n"
     ]
    }
   ],
   "source": [
    "import pandas as pd\n",
    "\n",
    "epochs = sim_lstm.eeg_data.set_eeg_reference('average', projection=True)\n",
    "epochs.apply_baseline(baseline=(None, None))\n",
    "evoked = epochs.average()\n",
    "noise_cov = mne.make_ad_hoc_cov(evoked.info, std=dict(eeg=1), verbose=verbose)\n",
    "data_cov = mne.compute_covariance(epochs, method='empirical', verbose=verbose)\n",
    "verbose=0\n",
    "df = pd.DataFrame()\n",
    "pick_oris = [None, 'max-power']\n",
    "regs = [0.05]\n",
    "reduce_ranks = [True, False]\n",
    "weight_norms = [None, 'unit-noise-gain']\n",
    "noise_covs = [None]\n",
    "list_of_dicts = []\n",
    "fwds = [fwd, fwd_free]\n",
    "fwds_description = [\"fixed\", \"free\"]\n",
    "for reg in regs:\n",
    "    for pick_ori in pick_oris:\n",
    "        for reduce_rank in reduce_ranks:\n",
    "            for weight_norm in weight_norms:\n",
    "                for noise_cov in noise_covs:\n",
    "                    for i, forward in enumerate(fwds):\n",
    "                        try:\n",
    "\n",
    "                            lcmv_filter = mne.beamformer.make_lcmv(evoked.info, forward, data_cov, \n",
    "                                reg=reg, noise_cov=None, verbose=verbose, pick_ori=pick_ori,\n",
    "                                weight_norm=weight_norm,\n",
    "                                reduce_rank=reduce_rank)\n",
    "                            \n",
    "                            stc = mne.beamformer.apply_lcmv(evoked, lcmv_filter, verbose=verbose)\n",
    "                            predicted_sources = stc.data\n",
    "                            true_sources = sim_lstm.source_data[0].data\n",
    "                            corr_score = util.batch_corr(true_sources, predicted_sources)\n",
    "                            nmse_score = util.batch_nmse(true_sources, predicted_sources)\n",
    "\n",
    "\n",
    "                            d = dict(noise_cov=noise_cov is not None, reg=reg, pick_ori=pick_ori, reduce_rank=reduce_rank, weight_norm=weight_norm, orientation=fwds_description[i], corr_score=corr_score, nmse_score=nmse_score)\n",
    "                            list_of_dicts.append(d)\n",
    "                        except:\n",
    "                            continue\n",
    "                \n",
    "                \n",
    "                "
   ]
  },
  {
   "cell_type": "code",
   "execution_count": 57,
   "metadata": {},
   "outputs": [
    {
     "data": {
      "text/html": [
       "<div>\n",
       "<style scoped>\n",
       "    .dataframe tbody tr th:only-of-type {\n",
       "        vertical-align: middle;\n",
       "    }\n",
       "\n",
       "    .dataframe tbody tr th {\n",
       "        vertical-align: top;\n",
       "    }\n",
       "\n",
       "    .dataframe thead th {\n",
       "        text-align: right;\n",
       "    }\n",
       "</style>\n",
       "<table border=\"1\" class=\"dataframe\">\n",
       "  <thead>\n",
       "    <tr style=\"text-align: right;\">\n",
       "      <th></th>\n",
       "      <th>noise_cov</th>\n",
       "      <th>reg</th>\n",
       "      <th>pick_ori</th>\n",
       "      <th>reduce_rank</th>\n",
       "      <th>weight_norm</th>\n",
       "      <th>corr_score</th>\n",
       "      <th>nmse_score</th>\n",
       "      <th>orientation</th>\n",
       "    </tr>\n",
       "  </thead>\n",
       "  <tbody>\n",
       "    <tr>\n",
       "      <th>0</th>\n",
       "      <td>False</td>\n",
       "      <td>0.05</td>\n",
       "      <td>max-power</td>\n",
       "      <td>False</td>\n",
       "      <td>unit-noise-gain</td>\n",
       "      <td>0.109458</td>\n",
       "      <td>0.133570</td>\n",
       "      <td>free</td>\n",
       "    </tr>\n",
       "    <tr>\n",
       "      <th>0</th>\n",
       "      <td>False</td>\n",
       "      <td>0.05</td>\n",
       "      <td>max-power</td>\n",
       "      <td>False</td>\n",
       "      <td>None</td>\n",
       "      <td>0.103348</td>\n",
       "      <td>0.077934</td>\n",
       "      <td>free</td>\n",
       "    </tr>\n",
       "    <tr>\n",
       "      <th>0</th>\n",
       "      <td>False</td>\n",
       "      <td>0.05</td>\n",
       "      <td>None</td>\n",
       "      <td>False</td>\n",
       "      <td>None</td>\n",
       "      <td>0.061236</td>\n",
       "      <td>0.062414</td>\n",
       "      <td>fixed</td>\n",
       "    </tr>\n",
       "    <tr>\n",
       "      <th>0</th>\n",
       "      <td>False</td>\n",
       "      <td>0.05</td>\n",
       "      <td>None</td>\n",
       "      <td>False</td>\n",
       "      <td>unit-noise-gain</td>\n",
       "      <td>0.053059</td>\n",
       "      <td>0.121548</td>\n",
       "      <td>fixed</td>\n",
       "    </tr>\n",
       "    <tr>\n",
       "      <th>0</th>\n",
       "      <td>False</td>\n",
       "      <td>0.05</td>\n",
       "      <td>None</td>\n",
       "      <td>True</td>\n",
       "      <td>unit-noise-gain</td>\n",
       "      <td>0.001233</td>\n",
       "      <td>0.201990</td>\n",
       "      <td>free</td>\n",
       "    </tr>\n",
       "    <tr>\n",
       "      <th>0</th>\n",
       "      <td>False</td>\n",
       "      <td>0.05</td>\n",
       "      <td>None</td>\n",
       "      <td>True</td>\n",
       "      <td>None</td>\n",
       "      <td>-0.001536</td>\n",
       "      <td>0.154476</td>\n",
       "      <td>free</td>\n",
       "    </tr>\n",
       "    <tr>\n",
       "      <th>0</th>\n",
       "      <td>False</td>\n",
       "      <td>0.05</td>\n",
       "      <td>None</td>\n",
       "      <td>False</td>\n",
       "      <td>None</td>\n",
       "      <td>-0.002485</td>\n",
       "      <td>0.116067</td>\n",
       "      <td>free</td>\n",
       "    </tr>\n",
       "    <tr>\n",
       "      <th>0</th>\n",
       "      <td>False</td>\n",
       "      <td>0.05</td>\n",
       "      <td>None</td>\n",
       "      <td>False</td>\n",
       "      <td>unit-noise-gain</td>\n",
       "      <td>-0.003558</td>\n",
       "      <td>0.212525</td>\n",
       "      <td>free</td>\n",
       "    </tr>\n",
       "    <tr>\n",
       "      <th>0</th>\n",
       "      <td>False</td>\n",
       "      <td>0.05</td>\n",
       "      <td>max-power</td>\n",
       "      <td>True</td>\n",
       "      <td>None</td>\n",
       "      <td>-0.044561</td>\n",
       "      <td>0.117731</td>\n",
       "      <td>free</td>\n",
       "    </tr>\n",
       "    <tr>\n",
       "      <th>0</th>\n",
       "      <td>False</td>\n",
       "      <td>0.05</td>\n",
       "      <td>max-power</td>\n",
       "      <td>True</td>\n",
       "      <td>unit-noise-gain</td>\n",
       "      <td>-0.058160</td>\n",
       "      <td>0.156934</td>\n",
       "      <td>free</td>\n",
       "    </tr>\n",
       "  </tbody>\n",
       "</table>\n",
       "</div>"
      ],
      "text/plain": [
       "   noise_cov   reg   pick_ori  reduce_rank      weight_norm  corr_score  \\\n",
       "0      False  0.05  max-power        False  unit-noise-gain    0.109458   \n",
       "0      False  0.05  max-power        False             None    0.103348   \n",
       "0      False  0.05       None        False             None    0.061236   \n",
       "0      False  0.05       None        False  unit-noise-gain    0.053059   \n",
       "0      False  0.05       None         True  unit-noise-gain    0.001233   \n",
       "0      False  0.05       None         True             None   -0.001536   \n",
       "0      False  0.05       None        False             None   -0.002485   \n",
       "0      False  0.05       None        False  unit-noise-gain   -0.003558   \n",
       "0      False  0.05  max-power         True             None   -0.044561   \n",
       "0      False  0.05  max-power         True  unit-noise-gain   -0.058160   \n",
       "\n",
       "   nmse_score orientation  \n",
       "0    0.133570        free  \n",
       "0    0.077934        free  \n",
       "0    0.062414       fixed  \n",
       "0    0.121548       fixed  \n",
       "0    0.201990        free  \n",
       "0    0.154476        free  \n",
       "0    0.116067        free  \n",
       "0    0.212525        free  \n",
       "0    0.117731        free  \n",
       "0    0.156934        free  "
      ]
     },
     "execution_count": 57,
     "metadata": {},
     "output_type": "execute_result"
    }
   ],
   "source": [
    "df = pd.DataFrame([list_of_dicts[0]])\n",
    "\n",
    "for d in list_of_dicts[1:]:\n",
    "    df = df.append(pd.DataFrame([d]))\n",
    "\n",
    "df.sort_values('corr_score', ascending=False)\n",
    "# data_frames = [pd.DataFrame.from_dict(d.items()).T for d in list_of_dicts]\n",
    "# pd.concat(data_frames, axis=0)"
   ]
  },
  {
   "cell_type": "code",
   "execution_count": 40,
   "metadata": {},
   "outputs": [
    {
     "name": "stdout",
     "output_type": "stream",
     "text": [
      "Applying baseline correction (mode: mean)\n"
     ]
    },
    {
     "name": "stderr",
     "output_type": "stream",
     "text": [
      "C:\\Users\\Lukas\\AppData\\Local\\Temp/ipykernel_12180/3200938942.py:1: RuntimeWarning: An average reference projection was already added. The data has been left untouched.\n",
      "  epochs = sim_lstm.eeg_data.set_eeg_reference('average', projection=True)\n"
     ]
    },
    {
     "data": {
      "text/plain": [
       "<mne.viz._brain._brain.Brain at 0x25223fee550>"
      ]
     },
     "execution_count": 40,
     "metadata": {},
     "output_type": "execute_result"
    },
    {
     "name": "stderr",
     "output_type": "stream",
     "text": [
      "WARNING:root:Encountered issue in callback (most recent call last):\n",
      "  File \"C:\\Users\\Lukas\\Envs\\esienv\\lib\\site-packages\\mne\\viz\\_brain\\_brain.py\", line 1348, in _on_button_release\n",
      "    self.picked_renderer = self.plotter.iren.FindPokedRenderer(x, y)\n",
      "AttributeError: 'RenderWindowInteractor' object has no attribute 'FindPokedRenderer'\n"
     ]
    },
    {
     "name": "stdout",
     "output_type": "stream",
     "text": [
      "Using control points [0.00012708 0.00014079 0.00018594]\n"
     ]
    },
    {
     "name": "stderr",
     "output_type": "stream",
     "text": [
      "WARNING:root:Encountered issue in callback (most recent call last):\n",
      "  File \"C:\\Users\\Lukas\\Envs\\esienv\\lib\\site-packages\\mne\\viz\\_brain\\_brain.py\", line 1348, in _on_button_release\n",
      "    self.picked_renderer = self.plotter.iren.FindPokedRenderer(x, y)\n",
      "AttributeError: 'RenderWindowInteractor' object has no attribute 'FindPokedRenderer'\n"
     ]
    },
    {
     "name": "stdout",
     "output_type": "stream",
     "text": [
      "Using control points [0.00119012 0.00137611 0.00179529]\n",
      "Using control points [0.0022437  0.00300996 0.00457056]\n"
     ]
    },
    {
     "name": "stderr",
     "output_type": "stream",
     "text": [
      "WARNING:root:Encountered issue in callback (most recent call last):\n",
      "  File \"C:\\Users\\Lukas\\Envs\\esienv\\lib\\site-packages\\mne\\viz\\_brain\\_brain.py\", line 1348, in _on_button_release\n",
      "    self.picked_renderer = self.plotter.iren.FindPokedRenderer(x, y)\n",
      "AttributeError: 'RenderWindowInteractor' object has no attribute 'FindPokedRenderer'\n"
     ]
    },
    {
     "name": "stdout",
     "output_type": "stream",
     "text": [
      "Using control points [0.00012984 0.00014924 0.00025057]\n",
      "Using control points [0.0022437  0.00300996 0.00457056]\n"
     ]
    }
   ],
   "source": [
    "epochs = sim_lstm.eeg_data.set_eeg_reference('average', projection=True)\n",
    "epochs.apply_baseline(baseline=(None, None))\n",
    "evoked = epochs.average()\n",
    "verbose=0\n",
    "\n",
    "# noise_cov = mne.compute_covariance(epochs, method='empirical', verbose=verbose)\n",
    "noise_cov = mne.make_ad_hoc_cov(evoked.info, std=dict(eeg=1), verbose=verbose)\n",
    "\n",
    "data_cov = mne.compute_covariance(epochs, method='empirical', verbose=verbose)\n",
    "\n",
    "lcmv_filter = mne.beamformer.make_lcmv(evoked.info, fwd_free, data_cov, reg=0.01, noise_cov=None, verbose=verbose, pick_ori='max-power',\n",
    "                         weight_norm=None,\n",
    "                         reduce_rank=False)\n",
    "stc = mne.beamformer.apply_lcmv(evoked, lcmv_filter, verbose=verbose)\n",
    "stc.plot(**plot_params)"
   ]
  },
  {
   "cell_type": "code",
   "execution_count": null,
   "metadata": {},
   "outputs": [],
   "source": []
  }
 ],
 "metadata": {
  "interpreter": {
   "hash": "fbb001003ceff4ec0bc12bddb6bde082b9f9e9bd295b9232bbf70f72f8799a35"
  },
  "kernelspec": {
   "display_name": "Python 3.8.10 64-bit ('esienv': virtualenv)",
   "language": "python",
   "name": "python3"
  },
  "language_info": {
   "codemirror_mode": {
    "name": "ipython",
    "version": 3
   },
   "file_extension": ".py",
   "mimetype": "text/x-python",
   "name": "python",
   "nbconvert_exporter": "python",
   "pygments_lexer": "ipython3",
   "version": "3.8.10"
  },
  "orig_nbformat": 4
 },
 "nbformat": 4,
 "nbformat_minor": 2
}
