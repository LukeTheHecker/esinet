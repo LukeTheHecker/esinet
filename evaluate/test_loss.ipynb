{
 "cells": [
  {
   "cell_type": "code",
   "execution_count": 24,
   "metadata": {},
   "outputs": [
    {
     "name": "stdout",
     "output_type": "stream",
     "text": [
      "The autoreload extension is already loaded. To reload it, use:\n",
      "  %reload_ext autoreload\n"
     ]
    }
   ],
   "source": [
    "%matplotlib inline\n",
    "%load_ext autoreload\n",
    "%autoreload 2\n",
    "\n",
    "import sys; sys.path.insert(0, '../')\n",
    "import pickle as pkl\n",
    "import numpy as np\n",
    "import pandas as pd\n",
    "from copy import deepcopy\n",
    "import mne\n",
    "import seaborn as sns\n",
    "import tensorflow as tf\n",
    "import matplotlib.pyplot as plt\n",
    "from esinet import util\n",
    "from esinet import Simulation\n",
    "from esinet import Net\n",
    "from esinet import forward\n",
    "from esinet import losses\n",
    "plot_params = dict(surface='white', hemi='both', verbose=0, clim=dict(kind='percent', pos_lims=(0,0,99)))"
   ]
  },
  {
   "cell_type": "markdown",
   "metadata": {},
   "source": [
    "# Forward Model"
   ]
  },
  {
   "cell_type": "code",
   "execution_count": 4,
   "metadata": {},
   "outputs": [
    {
     "name": "stderr",
     "output_type": "stream",
     "text": [
      "[Parallel(n_jobs=4)]: Using backend LokyBackend with 4 concurrent workers.\n",
      "[Parallel(n_jobs=4)]: Done   2 out of   4 | elapsed:    1.1s remaining:    1.1s\n",
      "[Parallel(n_jobs=4)]: Done   4 out of   4 | elapsed:    1.2s remaining:    0.0s\n",
      "[Parallel(n_jobs=4)]: Done   4 out of   4 | elapsed:    1.2s finished\n",
      "[Parallel(n_jobs=4)]: Using backend LokyBackend with 4 concurrent workers.\n",
      "[Parallel(n_jobs=4)]: Done   2 out of   4 | elapsed:    0.1s remaining:    0.1s\n",
      "[Parallel(n_jobs=4)]: Done   4 out of   4 | elapsed:    0.1s remaining:    0.0s\n",
      "[Parallel(n_jobs=4)]: Done   4 out of   4 | elapsed:    0.1s finished\n",
      "[Parallel(n_jobs=4)]: Using backend LokyBackend with 4 concurrent workers.\n",
      "[Parallel(n_jobs=4)]: Done   2 out of   4 | elapsed:    0.3s remaining:    0.3s\n",
      "[Parallel(n_jobs=4)]: Done   4 out of   4 | elapsed:    0.4s remaining:    0.0s\n",
      "[Parallel(n_jobs=4)]: Done   4 out of   4 | elapsed:    0.4s finished\n",
      "[Parallel(n_jobs=4)]: Using backend LokyBackend with 4 concurrent workers.\n",
      "[Parallel(n_jobs=4)]: Done   2 out of   4 | elapsed:    0.2s remaining:    0.2s\n",
      "[Parallel(n_jobs=4)]: Done   4 out of   4 | elapsed:    0.2s remaining:    0.0s\n",
      "[Parallel(n_jobs=4)]: Done   4 out of   4 | elapsed:    0.2s finished\n",
      "[Parallel(n_jobs=4)]: Using backend LokyBackend with 4 concurrent workers.\n",
      "[Parallel(n_jobs=4)]: Done   2 out of   4 | elapsed:    0.2s remaining:    0.2s\n",
      "[Parallel(n_jobs=4)]: Done   4 out of   4 | elapsed:    0.3s remaining:    0.0s\n",
      "[Parallel(n_jobs=4)]: Done   4 out of   4 | elapsed:    0.3s finished\n",
      "[Parallel(n_jobs=4)]: Using backend LokyBackend with 4 concurrent workers.\n",
      "[Parallel(n_jobs=4)]: Done   2 out of   4 | elapsed:    0.2s remaining:    0.2s\n",
      "[Parallel(n_jobs=4)]: Done   4 out of   4 | elapsed:    0.2s remaining:    0.0s\n",
      "[Parallel(n_jobs=4)]: Done   4 out of   4 | elapsed:    0.2s finished\n"
     ]
    }
   ],
   "source": [
    "info = forward.get_info()\n",
    "info['sfreq'] = 100\n",
    "fwd = forward.create_forward_model(info=info)\n",
    "pos = util.unpack_fwd(fwd)[2]"
   ]
  },
  {
   "cell_type": "markdown",
   "metadata": {},
   "source": [
    "# Sim"
   ]
  },
  {
   "cell_type": "code",
   "execution_count": 74,
   "metadata": {},
   "outputs": [
    {
     "name": "stdout",
     "output_type": "stream",
     "text": [
      "Simulating data based on sparse patches.\n"
     ]
    },
    {
     "name": "stderr",
     "output_type": "stream",
     "text": [
      "100%|██████████| 1000/1000 [00:14<00:00, 66.97it/s]\n",
      "100%|██████████| 1000/1000 [00:00<00:00, 1476.69it/s]\n"
     ]
    },
    {
     "name": "stdout",
     "output_type": "stream",
     "text": [
      "source data shape:  (1284, 200) (1284, 200)\n"
     ]
    },
    {
     "name": "stderr",
     "output_type": "stream",
     "text": [
      "100%|██████████| 1000/1000 [00:25<00:00, 39.75it/s]\n",
      "C:\\Users\\Lukas\\AppData\\Local\\Temp/ipykernel_10140/1553800484.py:7: RuntimeWarning: All data were zero\n",
      "  sim.source_data[0].plot(**plot_params)\n"
     ]
    },
    {
     "data": {
      "text/plain": [
       "<mne.viz._brain._brain.Brain at 0x1d3d2fef7f0>"
      ]
     },
     "execution_count": 74,
     "metadata": {},
     "output_type": "execute_result"
    }
   ],
   "source": [
    "# settings = dict(method='standard', extents=(1,5), duration_of_trial=(0.01, 2))\n",
    "settings = dict(method='standard', extents=(1,5), duration_of_trial=2, number_of_sources=(1,5))\n",
    "\n",
    "# settings = dict(method='standard', extents=30, duration_of_trial=0.5, number_of_sources=1)\n",
    "\n",
    "sim = Simulation(fwd, info, settings=settings, verbose=0).simulate(n_samples=1000)\n",
    "sim.source_data[0].plot(**plot_params)"
   ]
  },
  {
   "cell_type": "markdown",
   "metadata": {},
   "source": [
    "# Net"
   ]
  },
  {
   "cell_type": "code",
   "execution_count": 76,
   "metadata": {},
   "outputs": [
    {
     "name": "stdout",
     "output_type": "stream",
     "text": [
      "preprocess data\n",
      "Model: \"LSTM-model\"\n",
      "_________________________________________________________________\n",
      "Layer (type)                 Output Shape              Param #   \n",
      "=================================================================\n",
      "RNN_0 (Bidirectional)        (None, None, 150)         82200     \n",
      "_________________________________________________________________\n",
      "Dropout_0 (Dropout)          (None, None, 150)         0         \n",
      "_________________________________________________________________\n",
      "RNN_1 (Bidirectional)        (None, None, 150)         135600    \n",
      "_________________________________________________________________\n",
      "Dropout_1 (Dropout)          (None, None, 150)         0         \n",
      "_________________________________________________________________\n",
      "FC_Out (TimeDistributed)     (None, None, 1284)        193884    \n",
      "=================================================================\n",
      "Total params: 411,684\n",
      "Trainable params: 411,684\n",
      "Non-trainable params: 0\n",
      "_________________________________________________________________\n",
      "fit model\n",
      "start generator\n",
      "Epoch 1/5\n",
      "118/118 [==============================] - 1128s 9s/step - loss: 41.1674 - mean_squared_error: 0.0144\n",
      "Epoch 2/5\n",
      "118/118 [==============================] - 1122s 10s/step - loss: 39.2207 - mean_squared_error: 0.0632 - val_loss: 39.2452 - val_mean_squared_error: 0.1023\n",
      "Epoch 3/5\n",
      "118/118 [==============================] - 1130s 10s/step - loss: 38.1713 - mean_squared_error: 0.1432\n",
      "Epoch 4/5\n",
      "118/118 [==============================] - 1170s 10s/step - loss: 37.5108 - mean_squared_error: 0.3345 - val_loss: 37.8093 - val_mean_squared_error: 0.6212\n",
      "Epoch 5/5\n",
      "118/118 [==============================] - 1187s 10s/step - loss: 36.7531 - mean_squared_error: 0.7231\n",
      "preprocess data\n",
      "Model: \"LSTM-model\"\n",
      "_________________________________________________________________\n",
      "Layer (type)                 Output Shape              Param #   \n",
      "=================================================================\n",
      "RNN_0 (Bidirectional)        (None, None, 150)         82200     \n",
      "_________________________________________________________________\n",
      "Dropout_0 (Dropout)          (None, None, 150)         0         \n",
      "_________________________________________________________________\n",
      "RNN_1 (Bidirectional)        (None, None, 150)         135600    \n",
      "_________________________________________________________________\n",
      "Dropout_1 (Dropout)          (None, None, 150)         0         \n",
      "_________________________________________________________________\n",
      "FC_Out (TimeDistributed)     (None, None, 1284)        193884    \n",
      "=================================================================\n",
      "Total params: 411,684\n",
      "Trainable params: 411,684\n",
      "Non-trainable params: 0\n",
      "_________________________________________________________________\n",
      "fit model\n",
      "start generator\n",
      "Epoch 1/5\n",
      "118/118 [==============================] - 14s 67ms/step - loss: -0.0331 - mean_squared_error: 0.0342 0s - loss: -0.0321 - mean_squared_error:\n",
      "Epoch 2/5\n",
      "118/118 [==============================] - 11s 80ms/step - loss: -0.0753 - mean_squared_error: 0.0140 - val_loss: -0.0802 - val_mean_squared_error: 0.0098\n",
      "Epoch 3/5\n",
      "118/118 [==============================] - 7s 57ms/step - loss: -0.0959 - mean_squared_error: 0.0115\n",
      "Epoch 4/5\n",
      "118/118 [==============================] - 7s 58ms/step - loss: -0.1075 - mean_squared_error: 0.0115 - val_loss: -0.0967 - val_mean_squared_error: 0.0100\n",
      "Epoch 5/5\n",
      "118/118 [==============================] - 7s 57ms/step - loss: -0.1153 - mean_squared_error: 0.0110\n"
     ]
    }
   ],
   "source": [
    "epochs = 5#50\n",
    "patience = 2\n",
    "dropout = 0.2\n",
    "batch_size = 8\n",
    "validation_split = 0.05\n",
    "validation_freq = 2 \n",
    "optimizer = tf.keras.optimizers.Adam() \n",
    "device = None #'/GPU:0'\n",
    "\n",
    "# def loss(y_true, y_pred):\n",
    "#     return losses.weighted_hausdorff_distance(tf.convert_to_tensor(pos, dtype=tf.float32))(y_true, y_pred) + tf.keras.losses.CosineSimilarity()(y_true, y_pred)*1e10\n",
    "loss = losses.weighted_hausdorff_distance(tf.convert_to_tensor(pos, dtype=tf.float32))\n",
    "# loss = \"mean_squared_error\"\n",
    "train_params_hd = dict(epochs=epochs, patience=patience, loss=loss, \n",
    "    optimizer=optimizer, return_history=True, \n",
    "    metrics=['mean_squared_error',], batch_size=batch_size,\n",
    "    validation_freq=validation_freq, validation_split=validation_split,\n",
    "    device=device)\n",
    "\n",
    "lstm_hd = Net(fwd, n_dense_layers=0, n_lstm_layers=2).fit(sim ,**train_params_hd)\n",
    "\n",
    "loss = tf.keras.losses.CosineSimilarity()\n",
    "train_params_cos = dict(epochs=epochs, patience=patience, loss=loss, \n",
    "    optimizer=optimizer, return_history=True, \n",
    "    metrics=['mean_squared_error',], batch_size=batch_size,\n",
    "    validation_freq=validation_freq, validation_split=validation_split,\n",
    "    device=device)\n",
    "lstm_cos = Net(fwd, n_dense_layers=0, n_lstm_layers=2).fit(sim ,**train_params_cos)\n"
   ]
  },
  {
   "cell_type": "code",
   "execution_count": 78,
   "metadata": {},
   "outputs": [
    {
     "name": "stdout",
     "output_type": "stream",
     "text": [
      "Simulating data based on sparse patches.\n"
     ]
    },
    {
     "name": "stderr",
     "output_type": "stream",
     "text": [
      "100%|██████████| 2/2 [00:00<00:00, 97.26it/s]\n",
      "100%|██████████| 2/2 [00:00<00:00, 2005.88it/s]\n"
     ]
    },
    {
     "name": "stdout",
     "output_type": "stream",
     "text": [
      "source data shape:  (1284, 100) (1284, 100)\n"
     ]
    },
    {
     "name": "stderr",
     "output_type": "stream",
     "text": [
      "100%|██████████| 2/2 [00:00<00:00, 95.49it/s]\n",
      "C:\\Users\\Lukas\\AppData\\Local\\Temp/ipykernel_10140/1428647321.py:7: RuntimeWarning: All data were zero\n",
      "  sim_test.source_data[idx].plot(**plot_params)\n"
     ]
    },
    {
     "data": {
      "text/plain": [
       "<mne.viz._brain._brain.Brain at 0x1d3e07df910>"
      ]
     },
     "execution_count": 78,
     "metadata": {},
     "output_type": "execute_result"
    },
    {
     "name": "stdout",
     "output_type": "stream",
     "text": [
      "Using control points [0.0000000e+00 0.0000000e+00 4.0221358e-09]\n"
     ]
    },
    {
     "name": "stderr",
     "output_type": "stream",
     "text": [
      "WARNING:root:Encountered issue in callback (most recent call last):\n",
      "  File \"C:\\Users\\Lukas\\Envs\\esienv\\lib\\site-packages\\mne\\viz\\_brain\\_brain.py\", line 1348, in _on_button_release\n",
      "    self.picked_renderer = self.plotter.iren.FindPokedRenderer(x, y)\n",
      "AttributeError: 'RenderWindowInteractor' object has no attribute 'FindPokedRenderer'\n"
     ]
    },
    {
     "name": "stdout",
     "output_type": "stream",
     "text": [
      "Using control points [4.28318609e-10 4.36292896e-10 4.68094776e-10]\n",
      "Using control points [4.52221038e-11 5.54708983e-11 1.19742113e-10]\n"
     ]
    },
    {
     "name": "stderr",
     "output_type": "stream",
     "text": [
      "WARNING:root:Encountered issue in callback (most recent call last):\n",
      "  File \"C:\\Users\\Lukas\\Envs\\esienv\\lib\\site-packages\\mne\\viz\\_brain\\_brain.py\", line 1348, in _on_button_release\n",
      "    self.picked_renderer = self.plotter.iren.FindPokedRenderer(x, y)\n",
      "AttributeError: 'RenderWindowInteractor' object has no attribute 'FindPokedRenderer'\n"
     ]
    },
    {
     "name": "stdout",
     "output_type": "stream",
     "text": [
      "Using control points [6.91513249e-10 6.98489720e-10 7.52959446e-10]\n",
      "Using control points [0.00000000e+00 0.00000000e+00 6.26657353e-09]\n"
     ]
    }
   ],
   "source": [
    "settings = dict(method='standard', extents=(1,5), duration_of_trial=1)\n",
    "# settings = dict(method='standard', extents=30, duration_of_trial=(0.01, 2), number_of_sources=1)\n",
    "\n",
    "sim_test = Simulation(fwd, info, settings=settings, verbose=0).simulate(n_samples=2)\n",
    "idx = 0\n",
    "\n",
    "sim_test.source_data[idx].plot(**plot_params)\n",
    "\n",
    "prediction = lstm_hd[0].predict(sim_test)\n",
    "prediction[idx].plot(**plot_params)\n",
    "\n",
    "prediction = lstm_cos[0].predict(sim_test)\n",
    "prediction[idx].plot(**plot_params)"
   ]
  },
  {
   "cell_type": "code",
   "execution_count": null,
   "metadata": {},
   "outputs": [],
   "source": []
  }
 ],
 "metadata": {
  "interpreter": {
   "hash": "fbb001003ceff4ec0bc12bddb6bde082b9f9e9bd295b9232bbf70f72f8799a35"
  },
  "kernelspec": {
   "display_name": "Python 3.8.10 ('esienv')",
   "language": "python",
   "name": "python3"
  },
  "language_info": {
   "codemirror_mode": {
    "name": "ipython",
    "version": 3
   },
   "file_extension": ".py",
   "mimetype": "text/x-python",
   "name": "python",
   "nbconvert_exporter": "python",
   "pygments_lexer": "ipython3",
   "version": "3.8.10"
  },
  "orig_nbformat": 4
 },
 "nbformat": 4,
 "nbformat_minor": 2
}
