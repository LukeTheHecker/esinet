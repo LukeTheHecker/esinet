{
 "metadata": {
  "language_info": {
   "codemirror_mode": {
    "name": "ipython",
    "version": 3
   },
   "file_extension": ".py",
   "mimetype": "text/x-python",
   "name": "python",
   "nbconvert_exporter": "python",
   "pygments_lexer": "ipython3",
   "version": "3.8.3-final"
  },
  "orig_nbformat": 2,
  "kernelspec": {
   "name": "tf_gpu2",
   "display_name": "tf_gpu2",
   "language": "python"
  }
 },
 "nbformat": 4,
 "nbformat_minor": 2,
 "cells": [
  {
   "cell_type": "code",
   "execution_count": null,
   "metadata": {},
   "outputs": [],
   "source": [
    "import numpy as np\n",
    "import matplotlib.pyplot as plt\n",
    "from mayavi import mlab\n",
    "import mne\n",
    "from colorednoise import powerlaw_psd_gaussian as pink\n",
    "from scipy.stats import pearsonr\n",
    "import sys\n",
    "sys.path.insert(1, '../')\n",
    "\n",
    "from ESINet.forward import create_forward_model\n",
    "from ESINet.simulations import run_simulations, create_eeg\n",
    "from ESINet.util import *\n",
    "from ESINet.ann import *\n",
    "from ESINet.viz import splot\n",
    "\n",
    "\n",
    "pth_fwd = 'forward_models/ico3/'"
   ]
  },
  {
   "cell_type": "code",
   "execution_count": null,
   "metadata": {},
   "outputs": [],
   "source": [
    "create_forward_model(pth_fwd, sampling='ico3')"
   ]
  },
  {
   "cell_type": "code",
   "execution_count": null,
   "metadata": {},
   "outputs": [],
   "source": [
    "leadfield = load_leadfield(pth_fwd)\n",
    "n_elec, n_dipoles = leadfield.shape\n",
    "\n",
    "# Source Parameters\n",
    "np.random.seed(seed=None)\n",
    "beta = 1.5\n",
    "n_source_clusters = 2\n",
    "n_timepoints = 1000\n",
    "sfreq = 1000  # Hz\n",
    "time_step = 1/sfreq\n",
    "trial_duration = 1  # second\n",
    "\n",
    "# Spatial dimension (dipole selection)\n",
    "seeds = np.random.choice(np.arange(n_dipoles), size=n_source_clusters)\n",
    "# seeds = [10, 1000]\n",
    "\n",
    "# Temporal dimension\n",
    "correlatedness = 0.5\n",
    "source_time_course = np.zeros((n_source_clusters, n_timepoints))\n",
    "source_time_course[0] = pink(beta, n_timepoints)\n",
    "source_time_course[1] = pink(beta, n_timepoints)\n",
    "source_time_course[1] = source_time_course[1]*correlatedness*source_time_course[0] * 1/correlatedness\n",
    "\n",
    "\n",
    "source = np.zeros((n_dipoles, n_timepoints))\n",
    "EEG = np.zeros((n_elec, n_timepoints))\n"
   ]
  },
  {
   "cell_type": "code",
   "execution_count": null,
   "metadata": {},
   "outputs": [],
   "source": [
    "r = pearsonr(source_time_course[0], source_time_course[1])[0]\n",
    "title = f'r={r:.2f}'\n",
    "plt.figure(1)\n",
    "[plt.plot(stc, label=i) for i, stc in enumerate(source_time_course)]\n",
    "plt.title(title)\n",
    "plt.legend()"
   ]
  },
  {
   "cell_type": "code",
   "execution_count": null,
   "metadata": {},
   "outputs": [],
   "source": [
    "stc"
   ]
  },
  {
   "cell_type": "code",
   "execution_count": null,
   "metadata": {},
   "outputs": [],
   "source": [
    "%matplotlib qt\n",
    "for seed in seeds:\n",
    "    source[seed, :] = 1\n",
    "splot(source, pth_fwd, figure=mlab.figure(''))\n"
   ]
  },
  {
   "source": [
    "## Autoregressive Model\n",
    "https://www.frontiersin.org/articles/10.3389/fnhum.2014.00448/full#h3\n",
    "\n",
    "https://en.wikipedia.org/wiki/Autoregressive_model\n"
   ],
   "cell_type": "markdown",
   "metadata": {}
  },
  {
   "cell_type": "code",
   "execution_count": null,
   "metadata": {},
   "outputs": [],
   "source": [
    "from random import uniform\n",
    "def autoregressive_model(size=100, order=1, coeff_range=(0, 1)):\n",
    "    \n",
    "    c = np.random.randn(1)\n",
    "    coefficients = [uniform(*coeff_range) for _ in range(order)]\n",
    "    print(f'Coefficients: {coefficients}')\n",
    "    time_series = np.zeros((size))\n",
    "    time_series[0] = c\n",
    "    for t in range(1, size):\n",
    "        noise = np.random.randn(1)*1\n",
    "        ar_term = np.sum([coefficients[i]*time_series[t-i] for i in range(1, order)])\n",
    "        time_series[t] = c + noise + ar_term\n",
    "        \n",
    "    return time_series\n",
    "signal = autoregressive_model(order=2, coeff_range=(0.9, 1))\n",
    "plt.figure(2)\n",
    "plt.plot(signal)"
   ]
  },
  {
   "cell_type": "code",
   "execution_count": null,
   "metadata": {},
   "outputs": [],
   "source": [
    "from numpy.random import uniform\n",
    "\n",
    "def self_similarity_function(n_timeseries, param):\n",
    "    if isinstance(param, (tuple, list)):\n",
    "        out = np.identity(n_timeseries) * uniform(*param, size=n_timeseries)\n",
    "    else:\n",
    "        out = np.identity(n_timeseries) * param\n",
    "    return out\n",
    "def autoregressive_model_mv(size=(3, 100), order=1, coeff_range=(0.2, 1), \n",
    "    p_connected=.25, self_similarity_parameter=0., redo_crit=200):\n",
    "    ''' Generate Time series that are stochastically correlated using a \n",
    "    multi-variate autoregressive model (MAR).\n",
    "\n",
    "    Paramters:\n",
    "    ----------\n",
    "    size : tuple/list, channels x time points, determines the final dimension \n",
    "        of the signal\n",
    "    order : int > 0, order of the autoregressive model\n",
    "    coeff_range : tuple/list, the range that the coefficients of the MAR can take.\n",
    "    p_connected : float, between 0 and 1 that determines the likelihood that two \n",
    "        signals covary at all.\n",
    "    self_similarity_parameter : float, between 0 and 1 indicating the average \n",
    "        autocorrelation of each signal. Use 0.5 for more 1/f - like signals. \n",
    "        If two floats are given then a random number is drawn in the given range \n",
    "        of floats.\n",
    "    redo_crit : int/float, if the max(abs()) of the resulting signal is higher \n",
    "        than redo_crit the function is called again. This prevents exploding \n",
    "        signals.\n",
    "    Return:\n",
    "    -------\n",
    "    time_series : numpy.ndarray, The resulting MAR time series\n",
    "    coefficients : list, the coefficient matrices for the MAR\n",
    "\n",
    "    '''\n",
    "\n",
    "    n_timeseries, n_timepoints = size\n",
    "    c = np.random.randn(1)\n",
    "    \n",
    "\n",
    "    # Create coefficients\n",
    "    coefficients = [list() for _ in range(order)]\n",
    "    for i in range(order):\n",
    "        coefficients[i] = np.array([uniform(*coeff_range)\n",
    "            if np.random.rand()<p_connected else 0\n",
    "            for _ in range(n_timeseries**2)] ).reshape(n_timeseries,n_timeseries) + self_similarity_function(n_timeseries, self_similarity_parameter)\n",
    "        # coefficients = [np.array([uniform(*coeff_range) for _ in range(n_timeseries**2)]).reshape(n_timeseries,n_timeseries) for _ in range(1, order+1)]\n",
    "\n",
    "\n",
    "    # print(f'Coefficients: {coefficients[0]}')\n",
    "    # print(f'len(coefficients) = {len(coefficients)}')\n",
    "\n",
    "    time_series = np.zeros((size))\n",
    "    for t in range( n_timepoints):\n",
    "        noise = np.random.randn(n_timeseries)\n",
    "        ar_term = np.zeros((1, n_timeseries))\n",
    "        for k in range(1, order):\n",
    "            ar_term += np.matmul(coefficients[k], time_series[:, t-k])\n",
    "            \n",
    "        time_series[:, t] = ar_term + noise\n",
    "    while np.max(np.abs(time_series)) > redo_crit:\n",
    "        print(f'redoing')\n",
    "        time_series, coefficients = autoregressive_model_mv(size=size, order=order, \n",
    "            coeff_range=coeff_range, p_connected=p_connected, \n",
    "            self_similarity_parameter=self_similarity_parameter, \n",
    "            redo_crit=redo_crit)\n",
    "    return time_series, coefficients\n",
    "\n",
    "coeff_range = (-.05, .05) \n",
    "order = 2\n",
    "p_connected = 0.25\n",
    "self_similarity_parameter = (0.25, 0.75)\n",
    "signal, coefficients = autoregressive_model_mv(size=(5, 100), order=order, coeff_range=coeff_range, \n",
    "    p_connected=p_connected, self_similarity_parameter=self_similarity_parameter)\n",
    "%matplotlib qt\n",
    "plt.close()\n",
    "plt.figure(2)\n",
    "\n",
    "plt.subplot(311)\n",
    "plt.imshow(signal)\n",
    "plt.subplot(312)\n",
    "[plt.plot(signal[i, :], label=i) for i in range(signal.shape[0])]\n",
    "plt.legend()\n",
    "plt.subplot(313)\n",
    "plt.imshow(np.mean(coefficients, axis=0), cmap='bwr')\n",
    "plt.clim(coeff_range)\n",
    "plt.colorbar()\n",
    "plt.tight_layout()"
   ]
  },
  {
   "cell_type": "code",
   "execution_count": null,
   "metadata": {},
   "outputs": [],
   "source": [
    "import time\n",
    "start = time.time()\n",
    "signal, coefficients = autoregressive_model_mv(size=(10, 100), order=order, coeff_range=coeff_range, p_connected=p_connected)\n",
    "end = time.time()\n",
    "print(f'{end-start}')\n"
   ]
  },
  {
   "cell_type": "code",
   "execution_count": null,
   "metadata": {},
   "outputs": [],
   "source": [
    "self_similarity_function(3, (0.5, 0.75))"
   ]
  },
  {
   "cell_type": "code",
   "execution_count": null,
   "metadata": {},
   "outputs": [],
   "source": []
  }
 ]
}