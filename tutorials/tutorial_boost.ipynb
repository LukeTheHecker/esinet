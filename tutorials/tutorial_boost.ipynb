{
 "cells": [
  {
   "cell_type": "markdown",
   "source": [
    "# Tutorial: Boosting"
   ],
   "metadata": {}
  },
  {
   "cell_type": "code",
   "execution_count": 1,
   "source": [
    "%matplotlib inline\r\n",
    "%load_ext autoreload\r\n",
    "%autoreload 2\r\n",
    "\r\n",
    "import mne\r\n",
    "import numpy as np\r\n",
    "import sys; sys.path.insert(0, '../')\r\n",
    "from esinet import util\r\n",
    "from esinet.simulation import Simulation\r\n",
    "import os\r\n",
    "\r\n",
    "plot_params = dict(surface='white', hemi='both', verbose=0)"
   ],
   "outputs": [],
   "metadata": {}
  },
  {
   "cell_type": "markdown",
   "source": [
    "## Load the data\r\n",
    "Just as in the [mne-python tutorial](https://mne.tools/stable/auto_tutorials/inverse/30_mne_dspm_loreta.html) we have to load some sample data first"
   ],
   "metadata": {}
  },
  {
   "cell_type": "code",
   "execution_count": 2,
   "source": [
    "data_path = mne.datasets.sample.data_path()\r\n",
    "raw_fname = os.path.join(data_path, 'MEG', 'sample',\r\n",
    "                    'sample_audvis_filt-0-40_raw.fif')\r\n",
    "\r\n",
    "raw = mne.io.read_raw_fif(raw_fname, verbose=0)  # already has an average reference\r\n",
    "events = mne.find_events(raw, stim_channel='STI 014', verbose=0)\r\n",
    "\r\n",
    "event_id = dict(aud_l=1)  # event trigger and conditions\r\n",
    "tmin = -0.2  # start of each epoch (200ms before the trigger)\r\n",
    "tmax = 0.5  # end of each epoch (500ms after the trigger)\r\n",
    "raw.info['bads'] = ['MEG 2443', 'EEG 053']\r\n",
    "baseline = (None, 0)  # means from the first instant to t = 0\r\n",
    "reject = dict(mag=4e-12, eog=150e-6)\r\n",
    "\r\n",
    "epochs = mne.Epochs(raw, events, event_id, tmin, tmax, proj=True,\r\n",
    "                    picks=('mag', 'eog'), baseline=baseline, reject=reject,\r\n",
    "                    verbose=0)\r\n",
    "\r\n",
    "fname_fwd = data_path + '/MEG/sample/sample_audvis-meg-oct-6-fwd.fif'\r\n",
    "fwd = mne.read_forward_solution(fname_fwd, verbose=0)"
   ],
   "outputs": [],
   "metadata": {}
  },
  {
   "cell_type": "markdown",
   "source": [
    "## Simulate Data\r\n",
    "Artificial neural networks need training data to learn how to predict brain-electric activity (sources) given the M/EEG data. \r\n",
    "\r\n",
    "First, we calculate the signal to noise ratio (SNR) of our EEG data so we can adjust our simulations to it. "
   ],
   "metadata": {}
  },
  {
   "cell_type": "code",
   "execution_count": 3,
   "source": [
    "target_snr = util.calc_snr_range(epochs, baseline_span=(-0.2, 0.0), data_span=(0.05, 0.2))\r\n",
    "print(f'The target SNR ranges from {target_snr[0]:.2f} to {target_snr[1]:.2f}')\r\n",
    "\r\n",
    "settings = dict(duration_of_trial=0, target_snr=target_snr, n_sources=(1, 10), extents=(2, 40), beta=1)\r\n",
    "n_samples = 20000\r\n",
    "simulation = Simulation(fwd, epochs.info, settings=settings, verbose=False)\r\n",
    "simulation.simulate(n_samples=n_samples)\r\n"
   ],
   "outputs": [
    {
     "output_type": "stream",
     "name": "stdout",
     "text": [
      "Removing projector <Projection | Average EEG reference, active : True, n_channels : 60>\n",
      "The target SNR ranges from 0.88 to 14.34\n"
     ]
    },
    {
     "output_type": "display_data",
     "data": {
      "text/plain": [
       "  0%|          | 0/20000 [00:00<?, ?it/s]"
      ],
      "application/vnd.jupyter.widget-view+json": {
       "version_major": 2,
       "version_minor": 0,
       "model_id": "bb66d1b146134185a4c3a4b81365b92f"
      }
     },
     "metadata": {}
    },
    {
     "output_type": "stream",
     "name": "stdout",
     "text": [
      "\n",
      "Create EEG trials with noise...\n"
     ]
    },
    {
     "output_type": "display_data",
     "data": {
      "text/plain": [
       "  0%|          | 0/20000 [00:00<?, ?it/s]"
      ],
      "application/vnd.jupyter.widget-view+json": {
       "version_major": 2,
       "version_minor": 0,
       "model_id": "e354994a1d3a4498bfcba7cc0b51c83f"
      }
     },
     "metadata": {}
    },
    {
     "output_type": "stream",
     "name": "stdout",
     "text": [
      "\n",
      "Convert EEG matrices to a single instance of mne.Epochs...\n"
     ]
    },
    {
     "output_type": "stream",
     "name": "stderr",
     "text": [
      "c:\\Users\\lukas\\Dokumente\\projects\\esinet\\tutorials\\..\\esinet\\util\\util.py:99: RuntimeWarning: An average reference projection was already added. The data has been left untouched.\n",
      "  epochs.set_eeg_reference('average', projection=True, verbose=0)\n"
     ]
    },
    {
     "output_type": "execute_result",
     "data": {
      "text/plain": [
       "<esinet.simulation.simulation.Simulation at 0x28d02528520>"
      ]
     },
     "metadata": {},
     "execution_count": 3
    }
   ],
   "metadata": {}
  },
  {
   "cell_type": "markdown",
   "source": [
    "# Boosting Model"
   ],
   "metadata": {}
  },
  {
   "cell_type": "code",
   "execution_count": 4,
   "source": [
    "from esinet.net import BoostNet\r\n",
    "\r\n",
    "net = BoostNet(fwd, n_nets=5)\r\n",
    "net.fit(simulation, epochs=50)"
   ],
   "outputs": [
    {
     "output_type": "stream",
     "name": "stderr",
     "text": [
      "C:\\Users\\lukas\\virtualenvs\\esienv\\lib\\site-packages\\scipy\\optimize\\_minimize.py:783: RuntimeWarning: Method 'bounded' does not support relative tolerance in x; defaulting to absolute tolerance.\n",
      "  warn(\"Method 'bounded' does not support relative tolerance in x; \"\n"
     ]
    },
    {
     "output_type": "stream",
     "name": "stdout",
     "text": [
      "new sample weights: mean=0.18856159752267931 +- 0.2604525533690105\n",
      "new sample weights: mean=0.19322846154838685 +- 0.21400063909633293\n",
      "new sample weights: mean=0.1859415150721003 +- 0.2254713599817257\n",
      "new sample weights: mean=0.19056191336855563 +- 0.21633941054151423\n",
      "new sample weights: mean=0.18986052297832418 +- 0.22646247487365942\n"
     ]
    },
    {
     "output_type": "execute_result",
     "data": {
      "text/plain": [
       "<esinet.net.net.BoostNet at 0x28d0252ce50>"
      ]
     },
     "metadata": {},
     "execution_count": 4
    }
   ],
   "metadata": {}
  },
  {
   "cell_type": "markdown",
   "source": [
    "## Evaluate the Boosting Model\r\n",
    "First, we simulate fresh data:"
   ],
   "metadata": {}
  },
  {
   "cell_type": "code",
   "execution_count": 5,
   "source": [
    "n_samples = 200\r\n",
    "simulation_test = Simulation(fwd, epochs.info, settings=settings, verbose=False)\r\n",
    "simulation_test.simulate(n_samples=n_samples)"
   ],
   "outputs": [
    {
     "output_type": "display_data",
     "data": {
      "text/plain": [
       "  0%|          | 0/200 [00:00<?, ?it/s]"
      ],
      "application/vnd.jupyter.widget-view+json": {
       "version_major": 2,
       "version_minor": 0,
       "model_id": "4177a10715674cc1a28d30cf9d612912"
      }
     },
     "metadata": {}
    },
    {
     "output_type": "stream",
     "name": "stdout",
     "text": [
      "\n",
      "Create EEG trials with noise...\n"
     ]
    },
    {
     "output_type": "display_data",
     "data": {
      "text/plain": [
       "  0%|          | 0/200 [00:00<?, ?it/s]"
      ],
      "application/vnd.jupyter.widget-view+json": {
       "version_major": 2,
       "version_minor": 0,
       "model_id": "c65c66ba490d46c2a19102887cf0c273"
      }
     },
     "metadata": {}
    },
    {
     "output_type": "stream",
     "name": "stdout",
     "text": [
      "\n",
      "Convert EEG matrices to a single instance of mne.Epochs...\n"
     ]
    },
    {
     "output_type": "stream",
     "name": "stderr",
     "text": [
      "c:\\Users\\lukas\\Dokumente\\projects\\esinet\\tutorials\\..\\esinet\\util\\util.py:99: RuntimeWarning: An average reference projection was already added. The data has been left untouched.\n",
      "  epochs.set_eeg_reference('average', projection=True, verbose=0)\n"
     ]
    },
    {
     "output_type": "execute_result",
     "data": {
      "text/plain": [
       "<esinet.simulation.simulation.Simulation at 0x28d28cafcd0>"
      ]
     },
     "metadata": {},
     "execution_count": 5
    }
   ],
   "metadata": {}
  },
  {
   "cell_type": "markdown",
   "source": [
    "### Then we evaluate the Boosting Model and its sub-nets visually"
   ],
   "metadata": {}
  },
  {
   "cell_type": "code",
   "execution_count": 6,
   "source": [
    "labels = ['Boosting Model']\r\n",
    "mse = [net.evaluate_mse(simulation_test)]\r\n",
    "for i, subnet in enumerate(net.nets):\r\n",
    "    mse.append(subnet.evaluate_mse(simulation_test))\r\n",
    "    labels.append('subnet ' + str(i+1))\r\n",
    "\r\n",
    "import seaborn as sns\r\n",
    "import matplotlib.pyplot as plt\r\n",
    "%matplotlib qt\r\n",
    "sns.boxplot(data=mse)\r\n",
    "\r\n",
    "z = simulation_test.source_data.plot(**plot_params)\r\n",
    "a = net.predict(simulation_test).plot(**plot_params)\r\n",
    "b = net.nets[0].predict(simulation_test).plot(**plot_params)\r\n",
    "c = net.nets[-1].predict(simulation_test).plot(**plot_params)\r\n",
    "\r\n",
    "[print(np.mean(m)) for m in mse]\r\n"
   ],
   "outputs": [
    {
     "output_type": "stream",
     "name": "stderr",
     "text": [
      "C:\\Users\\lukas\\virtualenvs\\esienv\\lib\\site-packages\\scipy\\optimize\\_minimize.py:783: RuntimeWarning: Method 'bounded' does not support relative tolerance in x; defaulting to absolute tolerance.\n",
      "  warn(\"Method 'bounded' does not support relative tolerance in x; \"\n"
     ]
    }
   ],
   "metadata": {}
  },
  {
   "cell_type": "code",
   "execution_count": null,
   "source": [],
   "outputs": [],
   "metadata": {}
  }
 ],
 "metadata": {
  "orig_nbformat": 4,
  "language_info": {
   "name": "python",
   "version": "3.8.10",
   "mimetype": "text/x-python",
   "codemirror_mode": {
    "name": "ipython",
    "version": 3
   },
   "pygments_lexer": "ipython3",
   "nbconvert_exporter": "python",
   "file_extension": ".py"
  },
  "kernelspec": {
   "name": "python3",
   "display_name": "Python 3.8.10 64-bit ('esienv': virtualenvwrapper)"
  },
  "interpreter": {
   "hash": "8292a7c1b71beb25883e5d3de4479593a27229e31834907607dc8a0d6e7b1899"
  }
 },
 "nbformat": 4,
 "nbformat_minor": 2
}