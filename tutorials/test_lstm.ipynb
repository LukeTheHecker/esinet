{
 "cells": [
  {
   "cell_type": "code",
   "execution_count": null,
   "source": [
    "import numpy as np\r\n",
    "import matplotlib.pyplot as plt\r\n",
    "import tensorflow as tf\r\n",
    "from tensorflow.keras import backend as K\r\n",
    "from tensorflow.keras.layers import (Dense, TimeDistributed, LSTM, InputLayer, \r\n",
    "    Flatten, GRU, Bidirectional, Activation, Reshape, concatenate)\r\n",
    "from tensorflow import keras\r\n"
   ],
   "outputs": [],
   "metadata": {}
  },
  {
   "cell_type": "code",
   "execution_count": 27,
   "source": [
    "# surrogate data\r\n",
    "n_channels = 32\r\n",
    "n_timepoints = 3\r\n",
    "n_samples = 100\r\n",
    "n_dipoles = 1234\r\n",
    "\r\n",
    "X = np.random.randn(n_samples, n_timepoints, n_channels)\r\n",
    "y = x = np.random.randn(n_samples, n_timepoints, n_dipoles)"
   ],
   "outputs": [],
   "metadata": {}
  },
  {
   "cell_type": "code",
   "execution_count": 29,
   "source": [
    "model_s.predict(X).shape"
   ],
   "outputs": [
    {
     "output_type": "execute_result",
     "data": {
      "text/plain": [
       "(100, 3, 1234)"
      ]
     },
     "metadata": {},
     "execution_count": 29
    }
   ],
   "metadata": {}
  },
  {
   "cell_type": "code",
   "execution_count": 28,
   "source": [
    "# NEW MODEL\r\n",
    "n_dense_units = 100\r\n",
    "n_lstm_units = 25\r\n",
    "activation_function = 'relu'\r\n",
    "dropout = 0.2\r\n",
    "\r\n",
    "inputs = keras.Input(shape=(n_timepoints, n_channels), name='Input')\r\n",
    "fc1 = TimeDistributed(Dense(n_dense_units), name='FC1')(inputs)\r\n",
    "fc2 = TimeDistributed(Dense(n_dense_units), name='FC2')(fc1)\r\n",
    "\r\n",
    "flat = Flatten()(fc2)\r\n",
    "\r\n",
    "last_fc = Dense(int(n_dipoles*n_timepoints), name='FC_Out')(flat)\r\n",
    "out = Reshape((n_timepoints, n_dipoles))(last_fc)\r\n",
    "model_s = keras.Model(inputs=inputs, outputs=out)\r\n",
    "\r\n",
    "model_s.summary()\r\n",
    "\r\n",
    "# # SINGLE TIME FRAME PATH\r\n",
    "# fc1 = TimeDistributed(Dense(n_dense_units), name='FC1')(inputs)\r\n",
    "# fc2 = TimeDistributed(Dense(n_dipoles), name='FC2')(fc1)\r\n",
    "\r\n",
    "# model_s = keras.Model(inputs=inputs, outputs=fc2, name='single_time_ frame_model')\r\n",
    "# # model_s.summary()\r\n",
    "\r\n",
    "# # # MULTI TIME FRAME PATH\r\n",
    "# lstm1 = Bidirectional(LSTM(n_lstm_units, return_sequences=True, \r\n",
    "#     input_shape=(None, n_dense_units), dropout=dropout, \r\n",
    "#     activation=activation_function), name='LSTM1')(fc1)\r\n",
    "\r\n",
    "# concat = concatenate([lstm1, fc2], name='Concat')\r\n",
    "\r\n",
    "# lstm2 = Bidirectional(LSTM(n_lstm_units, return_sequences=True, \r\n",
    "#     input_shape=(None, n_dense_units), dropout=dropout, \r\n",
    "#     activation=activation_function), name='LSTM2')(concat)\r\n",
    "\r\n",
    "# output = TimeDistributed(Dense(n_dipoles), name='FC_Out')(lstm2)\r\n",
    "# model_m = keras.Model(inputs=inputs, outputs=output, name='multi_time_frame_model')\r\n",
    "\r\n",
    "# model_m.summary()\r\n",
    "# model_m.compile(loss='mse')\r\n",
    "# model_m.fit(X, y)\r\n",
    "\r\n",
    "# assert model_m.predict(X).shape == y.shape, 'shape mismatch'"
   ],
   "outputs": [
    {
     "output_type": "stream",
     "name": "stdout",
     "text": [
      "Model: \"model_5\"\n",
      "_________________________________________________________________\n",
      "Layer (type)                 Output Shape              Param #   \n",
      "=================================================================\n",
      "Input (InputLayer)           [(None, 3, 32)]           0         \n",
      "_________________________________________________________________\n",
      "FC1 (TimeDistributed)        (None, 3, 100)            3300      \n",
      "_________________________________________________________________\n",
      "FC2 (TimeDistributed)        (None, 3, 100)            10100     \n",
      "_________________________________________________________________\n",
      "flatten_7 (Flatten)          (None, 300)               0         \n",
      "_________________________________________________________________\n",
      "FC_Out (Dense)               (None, 3702)              1114302   \n",
      "_________________________________________________________________\n",
      "reshape_5 (Reshape)          (None, 3, 1234)           0         \n",
      "=================================================================\n",
      "Total params: 1,127,702\n",
      "Trainable params: 1,127,702\n",
      "Non-trainable params: 0\n",
      "_________________________________________________________________\n"
     ]
    }
   ],
   "metadata": {}
  },
  {
   "cell_type": "code",
   "execution_count": null,
   "source": [
    "model_m.predict(np.random.randn(1, 11, 32))."
   ],
   "outputs": [],
   "metadata": {}
  },
  {
   "cell_type": "code",
   "execution_count": null,
   "source": [
    "# OLD MODEL\r\n",
    "model = tf.keras.Sequential()\r\n",
    "tf.keras.backend.set_image_data_format('channels_last')\r\n",
    "input_shape = (None, n_channels)\r\n",
    "model.add(InputLayer(input_shape=input_shape))\r\n",
    "\r\n",
    "# LSTM layers\r\n",
    "for _ in range(1):\r\n",
    "    model.add(Bidirectional(LSTM(20, \r\n",
    "        return_sequences=True, input_shape=input_shape, \r\n",
    "        dropout=0.2, activation='relu')))\r\n",
    "\r\n",
    "# Hidden Dense layer(s):\r\n",
    "for _ in range(1):\r\n",
    "    model.add(Dense(100, \r\n",
    "        activation='relu'))\r\n",
    "\r\n",
    "# Final For-each layer:\r\n",
    "model.add(TimeDistributed(\r\n",
    "    Dense(n_dipoles, activation='linear'))\r\n",
    ")\r\n",
    "\r\n",
    "model.build(input_shape=input_shape)\r\n",
    "\r\n",
    "assert model.predict(X).shape == y.shape, 'shape mismatch'"
   ],
   "outputs": [],
   "metadata": {}
  },
  {
   "cell_type": "code",
   "execution_count": null,
   "source": [],
   "outputs": [],
   "metadata": {}
  },
  {
   "cell_type": "code",
   "execution_count": null,
   "source": [],
   "outputs": [],
   "metadata": {}
  }
 ],
 "metadata": {
  "orig_nbformat": 4,
  "language_info": {
   "name": "python",
   "version": "3.8.10",
   "mimetype": "text/x-python",
   "codemirror_mode": {
    "name": "ipython",
    "version": 3
   },
   "pygments_lexer": "ipython3",
   "nbconvert_exporter": "python",
   "file_extension": ".py"
  },
  "kernelspec": {
   "name": "python3",
   "display_name": "Python 3.8.10 64-bit ('esienv': virtualenv)"
  },
  "interpreter": {
   "hash": "8292a7c1b71beb25883e5d3de4479593a27229e31834907607dc8a0d6e7b1899"
  }
 },
 "nbformat": 4,
 "nbformat_minor": 2
}