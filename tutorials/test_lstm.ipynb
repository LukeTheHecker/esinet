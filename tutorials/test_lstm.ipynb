{
 "cells": [
  {
   "cell_type": "code",
   "execution_count": 1,
   "source": [
    "import numpy as np\r\n",
    "import matplotlib.pyplot as plt\r\n",
    "import tensorflow as tf\r\n",
    "from tensorflow.keras import backend as K\r\n",
    "from tensorflow.keras.layers import (Dense, TimeDistributed, LSTM, InputLayer, \r\n",
    "    Flatten, GRU, Bidirectional, Activation, Reshape, concatenate)\r\n",
    "from tensorflow import keras\r\n"
   ],
   "outputs": [],
   "metadata": {}
  },
  {
   "cell_type": "code",
   "execution_count": 2,
   "source": [
    "# surrogate data\r\n",
    "n_channels = 32\r\n",
    "n_timepoints = 40\r\n",
    "n_samples = 100\r\n",
    "n_dipoles = 1234\r\n",
    "\r\n",
    "X = np.random.randn(n_samples, n_timepoints, n_channels)\r\n",
    "y = x = np.random.randn(n_samples, n_timepoints, n_dipoles)"
   ],
   "outputs": [],
   "metadata": {}
  },
  {
   "cell_type": "code",
   "execution_count": 24,
   "source": [
    "# NEW MODEL\r\n",
    "n_dense_units = 100\r\n",
    "n_lstm_units = 25\r\n",
    "activation_function = 'relu'\r\n",
    "dropout = 0.2\r\n",
    "\r\n",
    "inputs = keras.Input(shape=(None, n_channels), name='Input')\r\n",
    "# SINGLE TIME FRAME PATH\r\n",
    "fc1 = TimeDistributed(Dense(n_dense_units), name='FC1')(inputs)\r\n",
    "fc2 = TimeDistributed(Dense(n_dipoles), name='FC2')(fc1)\r\n",
    "\r\n",
    "model_s = keras.Model(inputs=inputs, outputs=fc2, name='single_time_ frame_model')\r\n",
    "# model_s.summary()\r\n",
    "\r\n",
    "# # MULTI TIME FRAME PATH\r\n",
    "lstm1 = Bidirectional(LSTM(n_lstm_units, return_sequences=True, \r\n",
    "    input_shape=(None, n_dense_units), dropout=dropout, \r\n",
    "    activation=activation_function), name='LSTM1')(fc1)\r\n",
    "\r\n",
    "concat = concatenate([lstm1, fc2], name='Concat')\r\n",
    "\r\n",
    "lstm2 = Bidirectional(LSTM(n_lstm_units, return_sequences=True, \r\n",
    "    input_shape=(None, n_dense_units), dropout=dropout, \r\n",
    "    activation=activation_function), name='LSTM2')(concat)\r\n",
    "\r\n",
    "output = TimeDistributed(Dense(n_dipoles), name='FC_Out')(lstm2)\r\n",
    "model_m = keras.Model(inputs=inputs, outputs=output, name='multi_time_frame_model')\r\n",
    "\r\n",
    "model_m.summary()\r\n",
    "model_m.compile(loss='mse')\r\n",
    "model_m.fit(X, y)\r\n",
    "\r\n",
    "assert model_m.predict(X).shape == y.shape, 'shape mismatch'"
   ],
   "outputs": [
    {
     "output_type": "stream",
     "name": "stdout",
     "text": [
      "Model: \"multi_time_frame_model\"\n",
      "__________________________________________________________________________________________________\n",
      "Layer (type)                    Output Shape         Param #     Connected to                     \n",
      "==================================================================================================\n",
      "Input (InputLayer)              [(None, None, 32)]   0                                            \n",
      "__________________________________________________________________________________________________\n",
      "FC1 (TimeDistributed)           (None, None, 100)    3300        Input[0][0]                      \n",
      "__________________________________________________________________________________________________\n",
      "LSTM1 (Bidirectional)           (None, None, 50)     25200       FC1[0][0]                        \n",
      "__________________________________________________________________________________________________\n",
      "FC2 (TimeDistributed)           (None, None, 1234)   124634      FC1[0][0]                        \n",
      "__________________________________________________________________________________________________\n",
      "Concat (Concatenate)            (None, None, 1284)   0           LSTM1[0][0]                      \n",
      "                                                                 FC2[0][0]                        \n",
      "__________________________________________________________________________________________________\n",
      "LSTM2 (Bidirectional)           (None, None, 50)     262000      Concat[0][0]                     \n",
      "__________________________________________________________________________________________________\n",
      "FC_Out (TimeDistributed)        (None, None, 1234)   62934       LSTM2[0][0]                      \n",
      "==================================================================================================\n",
      "Total params: 478,068\n",
      "Trainable params: 478,068\n",
      "Non-trainable params: 0\n",
      "__________________________________________________________________________________________________\n",
      "4/4 [==============================] - 4s 83ms/step - loss: 1.0011\n"
     ]
    }
   ],
   "metadata": {}
  },
  {
   "cell_type": "code",
   "execution_count": 26,
   "source": [
    "model_m.predict(np.random.randn(1, 11, 32))."
   ],
   "outputs": [
    {
     "output_type": "execute_result",
     "data": {
      "text/plain": [
       "(1, 11, 1234)"
      ]
     },
     "metadata": {},
     "execution_count": 26
    }
   ],
   "metadata": {}
  },
  {
   "cell_type": "code",
   "execution_count": null,
   "source": [
    "# OLD MODEL\r\n",
    "model = tf.keras.Sequential()\r\n",
    "tf.keras.backend.set_image_data_format('channels_last')\r\n",
    "input_shape = (None, n_channels)\r\n",
    "model.add(InputLayer(input_shape=input_shape))\r\n",
    "\r\n",
    "# LSTM layers\r\n",
    "for _ in range(1):\r\n",
    "    model.add(Bidirectional(LSTM(20, \r\n",
    "        return_sequences=True, input_shape=input_shape, \r\n",
    "        dropout=0.2, activation='relu')))\r\n",
    "\r\n",
    "# Hidden Dense layer(s):\r\n",
    "for _ in range(1):\r\n",
    "    model.add(Dense(100, \r\n",
    "        activation='relu'))\r\n",
    "\r\n",
    "# Final For-each layer:\r\n",
    "model.add(TimeDistributed(\r\n",
    "    Dense(n_dipoles, activation='linear'))\r\n",
    ")\r\n",
    "\r\n",
    "model.build(input_shape=input_shape)\r\n",
    "\r\n",
    "assert model.predict(X).shape == y.shape, 'shape mismatch'"
   ],
   "outputs": [],
   "metadata": {}
  },
  {
   "cell_type": "code",
   "execution_count": 15,
   "source": [],
   "outputs": [],
   "metadata": {}
  },
  {
   "cell_type": "code",
   "execution_count": null,
   "source": [],
   "outputs": [],
   "metadata": {}
  }
 ],
 "metadata": {
  "orig_nbformat": 4,
  "language_info": {
   "name": "python",
   "version": "3.8.10",
   "mimetype": "text/x-python",
   "codemirror_mode": {
    "name": "ipython",
    "version": 3
   },
   "pygments_lexer": "ipython3",
   "nbconvert_exporter": "python",
   "file_extension": ".py"
  },
  "kernelspec": {
   "name": "python3",
   "display_name": "Python 3.8.10 64-bit ('esienv': virtualenv)"
  },
  "interpreter": {
   "hash": "8292a7c1b71beb25883e5d3de4479593a27229e31834907607dc8a0d6e7b1899"
  }
 },
 "nbformat": 4,
 "nbformat_minor": 2
}