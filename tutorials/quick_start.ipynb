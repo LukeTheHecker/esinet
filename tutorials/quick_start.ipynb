{
 "cells": [
  {
   "cell_type": "markdown",
   "metadata": {},
   "source": [
    "# Quick Start\n",
    "This the quick-start tutorial as shown in the README.md"
   ]
  },
  {
   "cell_type": "code",
   "execution_count": null,
   "metadata": {},
   "outputs": [],
   "source": [
    "import sys; sys.path.insert(0, '../')\n",
    "from esinet import Simulation, Net\n",
    "from esinet.forward import create_forward_model, get_info\n",
    "\n",
    "# Create generic Forward Model\n",
    "info = get_info()\n",
    "fwd = create_forward_model(info=info, sampling='ico2')\n",
    "\n",
    "# Simulate M/EEG data\n",
    "settings = dict(duration_of_trial=0.1)\n",
    "sim = Simulation(fwd, info, settings=settings)\n",
    "sim.simulate(n_samples=200)\n",
    "\n",
    "# Train neural network (LSTM) on the simulated data\n",
    "net = Net(fwd)\n",
    "net.fit(sim)\n",
    "\n",
    "# Plot\n",
    "stc = net.predict(sim)[0]\n",
    "sim.source_data[0].plot()\n",
    "stc.plot()"
   ]
  },
  {
   "cell_type": "code",
   "execution_count": null,
   "metadata": {},
   "outputs": [],
   "source": []
  }
 ],
 "metadata": {
  "interpreter": {
   "hash": "8292a7c1b71beb25883e5d3de4479593a27229e31834907607dc8a0d6e7b1899"
  },
  "kernelspec": {
   "display_name": "Python 3.8.10 ('esienv')",
   "language": "python",
   "name": "python3"
  },
  "language_info": {
   "codemirror_mode": {
    "name": "ipython",
    "version": 3
   },
   "file_extension": ".py",
   "mimetype": "text/x-python",
   "name": "python",
   "nbconvert_exporter": "python",
   "pygments_lexer": "ipython3",
   "version": "3.8.10"
  },
  "orig_nbformat": 4
 },
 "nbformat": 4,
 "nbformat_minor": 2
}
