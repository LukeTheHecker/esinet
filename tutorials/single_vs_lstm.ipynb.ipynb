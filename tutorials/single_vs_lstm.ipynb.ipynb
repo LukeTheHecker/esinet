{
 "cells": [
  {
   "cell_type": "markdown",
   "source": [
    "# Tutorial 4: The temporal model\r\n",
    "In tutorials 1-3 we have used simple fully-connected neural networks to predict sources from single time instances of EEG data. To harness the full information within the EEG, however, we can also incorporate multiple time instances at once. \r\n",
    "\r\n",
    "For time-series data we can use recurrent neural networks (RNNs). A prominent RNN is the long-short-term memory (LSTM) network, which makes use of temporal information in a quite useful manner."
   ],
   "metadata": {}
  },
  {
   "cell_type": "code",
   "execution_count": null,
   "source": [
    "%matplotlib inline\r\n",
    "%load_ext autoreload\r\n",
    "%autoreload 2\r\n",
    "\r\n",
    "import mne\r\n",
    "import numpy as np\r\n",
    "from copy import deepcopy\r\n",
    "import matplotlib.pyplot as plt\r\n",
    "import sys; sys.path.insert(0, '../')\r\n",
    "from esinet import util\r\n",
    "from esinet import Simulation\r\n",
    "from esinet import Net\r\n",
    "from esinet.forward import create_forward_model, get_info\r\n",
    "plot_params = dict(surface='white', hemi='both', verbose=0)\r\n"
   ],
   "outputs": [],
   "metadata": {}
  },
  {
   "cell_type": "markdown",
   "source": [
    "## Forward model\r\n",
    "To get started we just create some generic forward model using the esinet.forward module."
   ],
   "metadata": {}
  },
  {
   "cell_type": "code",
   "execution_count": null,
   "source": [
    "info = get_info()\r\n",
    "info['sfreq'] = 100\r\n",
    "fwd = create_forward_model(info=info)"
   ],
   "outputs": [],
   "metadata": {}
  },
  {
   "cell_type": "markdown",
   "source": [
    "## Simulation\r\n",
    "Next, we simulate our training data. In order to invoke the LSTM architecture we need to simulate data that have a temporal dimension. This is controlled via the *duration_of_trial* setting as shown below. We set the duration to 0.2 seconds, which together with our sampling rate of 100 Hz yields 20 time points:\r\n",
    "```\r\n",
    "100 Hz * 0.2 s = 20\r\n",
    "```\r\n",
    "\r\n",
    "Note, that for publication-ready inverse solutions you should increase the number of training samples to 100,000."
   ],
   "metadata": {}
  },
  {
   "cell_type": "code",
   "execution_count": null,
   "source": [
    "n_samples = 10000\r\n",
    "settings = dict(duration_of_trial=0.2, target_snr=(0.5, 10))\r\n",
    "\r\n",
    "sim_lstm = Simulation(fwd, info, verbose=True, settings=settings).simulate(n_samples=n_samples)\r\n",
    "sim_dense = util.convert_simulation_temporal_to_single(sim_lstm)\r\n",
    "\r\n",
    "sim_lstm_test = Simulation(fwd, info, verbose=True, settings=settings).simulate(n_samples=2000)\r\n",
    "sim_dense_test = util.convert_simulation_temporal_to_single(sim_lstm_test)"
   ],
   "outputs": [],
   "metadata": {}
  },
  {
   "cell_type": "markdown",
   "source": [
    "## Build & train LSTM network\r\n",
    "The neural network class *Net()* is intelligent and recognizes the temporal structure in the simulations.\r\n",
    "It will automatically build the LSTM network architecture without further specification."
   ],
   "metadata": {}
  },
  {
   "cell_type": "code",
   "execution_count": 8,
   "source": [
    "train_params = dict(epochs=200, patience=20, tensorboard=True, dropout=0, loss='mse', optimizer='adam')\r\n",
    "model_params = dict(n_lstm_layers=1, n_lstm_units=100, activation_function='relu')\r\n",
    "# Train \r\n",
    "net_dense = Net(fwd, **model_params)\r\n",
    "net_dense.fit(sim_dense, **train_params)\r\n",
    "\r\n",
    "# Train LSTM for single time points\r\n",
    "# net_lstm = Net(fwd, **model_params)\r\n",
    "# net_lstm.fit(sim_lstm, **train_params)"
   ],
   "outputs": [
    {
     "output_type": "stream",
     "name": "stdout",
     "text": [
      "Model: \"sequential_1\"\n",
      "_________________________________________________________________\n",
      "Layer (type)                 Output Shape              Param #   \n",
      "=================================================================\n",
      "dense_4 (Dense)              (None, 100)               6200      \n",
      "_________________________________________________________________\n",
      "dense_5 (Dense)              (None, 1284)              129684    \n",
      "=================================================================\n",
      "Total params: 135,884\n",
      "Trainable params: 135,884\n",
      "Non-trainable params: 0\n",
      "_________________________________________________________________\n",
      "[<function weighted_huber_loss.<locals>.loss at 0x000002C0CC5A2700>]\n",
      "Epoch 1/200\n",
      "1407/1407 [==============================] - 6s 4ms/step - loss: 0.0559 - val_loss: 0.0555\n",
      "Epoch 2/200\n",
      "1407/1407 [==============================] - 5s 4ms/step - loss: 0.0515 - val_loss: 0.0494\n",
      "Epoch 3/200\n",
      "1407/1407 [==============================] - 5s 4ms/step - loss: 0.0432 - val_loss: 0.0411\n",
      "Epoch 4/200\n",
      "1407/1407 [==============================] - 5s 4ms/step - loss: 0.0373 - val_loss: 0.0364\n",
      "Epoch 5/200\n",
      "1407/1407 [==============================] - 5s 4ms/step - loss: 0.0351 - val_loss: 0.0353\n",
      "Epoch 6/200\n",
      "1407/1407 [==============================] - 5s 4ms/step - loss: 0.0348 - val_loss: 0.0358\n",
      "Epoch 7/200\n",
      "1407/1407 [==============================] - 5s 4ms/step - loss: 0.0348 - val_loss: 0.0354\n",
      "Epoch 8/200\n",
      "1407/1407 [==============================] - 5s 4ms/step - loss: 0.0347 - val_loss: 0.0346\n",
      "Epoch 9/200\n",
      "1407/1407 [==============================] - 5s 4ms/step - loss: 0.0343 - val_loss: 0.0348\n",
      "Epoch 10/200\n",
      "1407/1407 [==============================] - 5s 4ms/step - loss: 0.0343 - val_loss: 0.0349\n",
      "Epoch 11/200\n",
      "1407/1407 [==============================] - 5s 4ms/step - loss: 0.0343 - val_loss: 0.0350\n",
      "Epoch 12/200\n",
      "1407/1407 [==============================] - 5s 4ms/step - loss: 0.0339 - val_loss: 0.0343\n",
      "Epoch 13/200\n",
      "1407/1407 [==============================] - 5s 4ms/step - loss: 0.0337 - val_loss: 0.0343\n",
      "Epoch 14/200\n",
      "1407/1407 [==============================] - 5s 4ms/step - loss: 0.0337 - val_loss: 0.0342\n",
      "Epoch 15/200\n",
      "1407/1407 [==============================] - 5s 3ms/step - loss: 0.0336 - val_loss: 0.0339\n",
      "Epoch 16/200\n",
      "1407/1407 [==============================] - 5s 3ms/step - loss: 0.0336 - val_loss: 0.0344\n",
      "Epoch 17/200\n",
      "1407/1407 [==============================] - 5s 3ms/step - loss: 0.0334 - val_loss: 0.0344\n",
      "Epoch 18/200\n",
      "1407/1407 [==============================] - 5s 4ms/step - loss: 0.0333 - val_loss: 0.0343\n",
      "Epoch 19/200\n",
      "1407/1407 [==============================] - 6s 4ms/step - loss: 0.0330 - val_loss: 0.0336\n",
      "Epoch 20/200\n",
      "1407/1407 [==============================] - 5s 3ms/step - loss: 0.0328 - val_loss: 0.0337\n",
      "Epoch 21/200\n",
      "1407/1407 [==============================] - 5s 3ms/step - loss: 0.0327 - val_loss: 0.0333\n",
      "Epoch 22/200\n",
      "1407/1407 [==============================] - 4s 3ms/step - loss: 0.0327 - val_loss: 0.0335\n",
      "Epoch 23/200\n",
      "1407/1407 [==============================] - 5s 3ms/step - loss: 0.0328 - val_loss: 0.0332\n",
      "Epoch 24/200\n",
      "1407/1407 [==============================] - 4s 3ms/step - loss: 0.0329 - val_loss: 0.0339\n",
      "Epoch 25/200\n",
      "1407/1407 [==============================] - 5s 3ms/step - loss: 0.0329 - val_loss: 0.0338\n",
      "Epoch 26/200\n",
      "1407/1407 [==============================] - 5s 4ms/step - loss: 0.0329 - val_loss: 0.0344\n",
      "Epoch 27/200\n",
      "1407/1407 [==============================] - 5s 4ms/step - loss: 0.0330 - val_loss: 0.0339\n",
      "Epoch 28/200\n",
      "1407/1407 [==============================] - 5s 3ms/step - loss: 0.0330 - val_loss: 0.0339\n",
      "Epoch 29/200\n",
      "1407/1407 [==============================] - 5s 3ms/step - loss: 0.0330 - val_loss: 0.0340\n",
      "Epoch 30/200\n",
      "1407/1407 [==============================] - 5s 4ms/step - loss: 0.0330 - val_loss: 0.0336\n",
      "Epoch 31/200\n",
      "1407/1407 [==============================] - 5s 4ms/step - loss: 0.0329 - val_loss: 0.0338\n",
      "Epoch 32/200\n",
      "1407/1407 [==============================] - 5s 4ms/step - loss: 0.0328 - val_loss: 0.0347\n",
      "Epoch 33/200\n",
      "1407/1407 [==============================] - 5s 4ms/step - loss: 0.0327 - val_loss: 0.0335\n",
      "Epoch 34/200\n",
      "1407/1407 [==============================] - 5s 4ms/step - loss: 0.0327 - val_loss: 0.0334\n",
      "Epoch 35/200\n",
      "1407/1407 [==============================] - 5s 3ms/step - loss: 0.0327 - val_loss: 0.0333\n",
      "Epoch 36/200\n",
      "1407/1407 [==============================] - 5s 3ms/step - loss: 0.0328 - val_loss: 0.0337\n",
      "Epoch 37/200\n",
      "1407/1407 [==============================] - 5s 3ms/step - loss: 0.0327 - val_loss: 0.0338\n",
      "Epoch 38/200\n",
      "1407/1407 [==============================] - 5s 3ms/step - loss: 0.0326 - val_loss: 0.0345\n",
      "Epoch 39/200\n",
      "1407/1407 [==============================] - 5s 3ms/step - loss: 0.0326 - val_loss: 0.0327\n",
      "Epoch 40/200\n",
      "1407/1407 [==============================] - 5s 3ms/step - loss: 0.0327 - val_loss: 0.0332\n",
      "Epoch 41/200\n",
      "1407/1407 [==============================] - 5s 3ms/step - loss: 0.0326 - val_loss: 0.0342\n",
      "Epoch 42/200\n",
      "1407/1407 [==============================] - 5s 3ms/step - loss: 0.0327 - val_loss: 0.0337\n",
      "Epoch 43/200\n",
      "1407/1407 [==============================] - 5s 4ms/step - loss: 0.0327 - val_loss: 0.0332\n",
      "Epoch 44/200\n",
      "1407/1407 [==============================] - 5s 4ms/step - loss: 0.0327 - val_loss: 0.0338\n",
      "Epoch 45/200\n",
      "1407/1407 [==============================] - 6s 4ms/step - loss: 0.0326 - val_loss: 0.0336\n",
      "Epoch 46/200\n",
      "1407/1407 [==============================] - 5s 3ms/step - loss: 0.0326 - val_loss: 0.0330\n",
      "Epoch 47/200\n",
      "1407/1407 [==============================] - 5s 3ms/step - loss: 0.0325 - val_loss: 0.0343\n",
      "Epoch 48/200\n",
      "1407/1407 [==============================] - 5s 4ms/step - loss: 0.0325 - val_loss: 0.0334\n",
      "Epoch 49/200\n",
      "1407/1407 [==============================] - 5s 4ms/step - loss: 0.0323 - val_loss: 0.0329\n",
      "Epoch 50/200\n",
      "1407/1407 [==============================] - 5s 3ms/step - loss: 0.0321 - val_loss: 0.0334\n",
      "Epoch 51/200\n",
      "1407/1407 [==============================] - 5s 3ms/step - loss: 0.0321 - val_loss: 0.0335\n",
      "Epoch 52/200\n",
      "1407/1407 [==============================] - 5s 4ms/step - loss: 0.0321 - val_loss: 0.0326\n",
      "Epoch 53/200\n",
      "1407/1407 [==============================] - 5s 4ms/step - loss: 0.0321 - val_loss: 0.0337\n",
      "Epoch 54/200\n",
      "1407/1407 [==============================] - 5s 3ms/step - loss: 0.0321 - val_loss: 0.0329\n",
      "Epoch 55/200\n",
      "1407/1407 [==============================] - 5s 3ms/step - loss: 0.0322 - val_loss: 0.0330\n",
      "Epoch 56/200\n",
      "1407/1407 [==============================] - 5s 4ms/step - loss: 0.0322 - val_loss: 0.0330\n",
      "Epoch 57/200\n",
      "1407/1407 [==============================] - 5s 4ms/step - loss: 0.0322 - val_loss: 0.0333\n",
      "Epoch 58/200\n",
      "1407/1407 [==============================] - 5s 4ms/step - loss: 0.0322 - val_loss: 0.0332\n",
      "Epoch 59/200\n",
      "1407/1407 [==============================] - 5s 4ms/step - loss: 0.0322 - val_loss: 0.0330\n",
      "Epoch 60/200\n",
      "1407/1407 [==============================] - 5s 3ms/step - loss: 0.0323 - val_loss: 0.0321\n",
      "Epoch 61/200\n",
      "1407/1407 [==============================] - 5s 3ms/step - loss: 0.0323 - val_loss: 0.0333\n",
      "Epoch 62/200\n",
      "1407/1407 [==============================] - 5s 3ms/step - loss: 0.0322 - val_loss: 0.0333\n",
      "Epoch 63/200\n",
      "1407/1407 [==============================] - 5s 4ms/step - loss: 0.0324 - val_loss: 0.0333\n",
      "Epoch 64/200\n",
      "1407/1407 [==============================] - 5s 4ms/step - loss: 0.0323 - val_loss: 0.0329\n",
      "Epoch 65/200\n",
      "1407/1407 [==============================] - 5s 3ms/step - loss: 0.0323 - val_loss: 0.0332\n",
      "Epoch 66/200\n",
      "1407/1407 [==============================] - 5s 3ms/step - loss: 0.0323 - val_loss: 0.0336\n",
      "Epoch 67/200\n",
      "1407/1407 [==============================] - 5s 3ms/step - loss: 0.0324 - val_loss: 0.0336\n",
      "Epoch 68/200\n",
      "1407/1407 [==============================] - 5s 4ms/step - loss: 0.0324 - val_loss: 0.0335\n",
      "Epoch 69/200\n",
      "1407/1407 [==============================] - 5s 4ms/step - loss: 0.0324 - val_loss: 0.0335\n",
      "Epoch 70/200\n",
      "1407/1407 [==============================] - 6s 4ms/step - loss: 0.0324 - val_loss: 0.0329\n",
      "Epoch 71/200\n",
      "1407/1407 [==============================] - 5s 4ms/step - loss: 0.0324 - val_loss: 0.0331\n",
      "Epoch 72/200\n",
      "1407/1407 [==============================] - 5s 4ms/step - loss: 0.0323 - val_loss: 0.0338\n",
      "Epoch 73/200\n",
      "1407/1407 [==============================] - 5s 3ms/step - loss: 0.0324 - val_loss: 0.0338\n",
      "Epoch 74/200\n",
      "1407/1407 [==============================] - 5s 3ms/step - loss: 0.0324 - val_loss: 0.0339\n",
      "Epoch 75/200\n",
      "1407/1407 [==============================] - 5s 3ms/step - loss: 0.0325 - val_loss: 0.0329\n",
      "Epoch 76/200\n",
      "1407/1407 [==============================] - 5s 3ms/step - loss: 0.0324 - val_loss: 0.0327\n",
      "Epoch 77/200\n",
      "1407/1407 [==============================] - 5s 3ms/step - loss: 0.0324 - val_loss: 0.0336\n",
      "Epoch 78/200\n",
      "1407/1407 [==============================] - 5s 3ms/step - loss: 0.0324 - val_loss: 0.0339\n",
      "Epoch 79/200\n",
      "1407/1407 [==============================] - 5s 3ms/step - loss: 0.0325 - val_loss: 0.0335\n",
      "Epoch 80/200\n",
      "1407/1407 [==============================] - 5s 3ms/step - loss: 0.0325 - val_loss: 0.0342\n",
      "Restoring model weights from the end of the best epoch.\n",
      "Epoch 00080: early stopping\n"
     ]
    },
    {
     "output_type": "execute_result",
     "data": {
      "text/plain": [
       "<esinet.net.Net at 0x2c071512460>"
      ]
     },
     "metadata": {},
     "execution_count": 8
    }
   ],
   "metadata": {}
  },
  {
   "cell_type": "code",
   "execution_count": 12,
   "source": [
    "from esinet.losses import weighted_mse_loss\r\n",
    "import tensorflow as tf\r\n",
    "\r\n",
    "ground_truths = np.stack([s.data for s in sim_eval.source_data], axis=0)\r\n",
    "\r\n",
    "p_lstm=net_lstm.predict(sim_eval)\r\n",
    "predictions_lstm = np.stack([s.data for s in p_lstm], axis=0)\r\n",
    "\r\n",
    "p_dense=net_dense.predict(sim_eval)\r\n",
    "predictions_dense = np.stack([s.data for s in p_dense], axis=0)\r\n",
    "\r\n",
    "\r\n",
    "predictions_lstm = np.swapaxes(predictions_lstm, 1,2)\r\n",
    "predictions_lstm = predictions_lstm.reshape(2000, 1284)\r\n",
    "\r\n",
    "predictions_dense = np.swapaxes(predictions_dense, 1,2)\r\n",
    "predictions_dense = predictions_dense.reshape(2000, 1284)\r\n",
    "\r\n",
    "ground_truths = np.swapaxes(ground_truths, 1,2)\r\n",
    "ground_truths = ground_truths.reshape(2000, 1284)\r\n",
    "\r\n",
    "predictions_lstm = tf.cast(predictions_lstm, dtype=tf.float32)\r\n",
    "predictions_dense = tf.cast(predictions_dense, dtype=tf.float32)\r\n",
    "\r\n",
    "ground_truths = tf.cast(ground_truths, dtype=tf.float32)\r\n",
    "\r\n",
    "fun = weighted_mse_loss(weight=1.0, scale=False)\r\n",
    "print('LSTM: ', fun(ground_truths, predictions_lstm).numpy())\r\n",
    "print('Dense: ', fun(ground_truths, predictions_dense).numpy())"
   ],
   "outputs": [
    {
     "output_type": "stream",
     "name": "stdout",
     "text": [
      "LSTM:  5.159307e-19\n",
      "Dense:  4.963919e-19\n"
     ]
    }
   ],
   "metadata": {}
  },
  {
   "cell_type": "code",
   "execution_count": 15,
   "source": [
    "from tensorflow.keras import backend as K\r\n",
    "print(K.mean(K.square(ground_truths-predictions_lstm)))\r\n",
    "print(K.mean(K.square(ground_truths-predictions_dense)))"
   ],
   "outputs": [
    {
     "output_type": "stream",
     "name": "stdout",
     "text": [
      "tf.Tensor(5.159307e-19, shape=(), dtype=float32)\n",
      "tf.Tensor(4.963919e-19, shape=(), dtype=float32)\n"
     ]
    }
   ],
   "metadata": {}
  },
  {
   "cell_type": "markdown",
   "source": [
    "# Numeric Evaluation"
   ],
   "metadata": {}
  },
  {
   "cell_type": "code",
   "execution_count": 55,
   "source": [
    "settings_eval = dict(duration_of_trial=0.2, target_snr=(0.5, 10))\r\n",
    "n_samples = 100\r\n",
    "sim_eval = Simulation(fwd, info, verbose=True, settings=settings_eval).simulate(n_samples=n_samples)\r\n",
    "sim_eval_dense = deepcopy(sim_eval).to_nontemporal()\r\n",
    "# Evaluate the new simulations\r\n",
    "mse_dense = net_dense.evaluate_nmse(sim_eval_dense)\r\n",
    "mse_lstm = net_lstm.evaluate_nmse(sim_eval)\r\n",
    "\r\n",
    "print(np.median(mse_lstm), np.median(mse_dense))"
   ],
   "outputs": [
    {
     "output_type": "stream",
     "name": "stdout",
     "text": [
      "Simulate Source\n"
     ]
    },
    {
     "output_type": "display_data",
     "data": {
      "application/vnd.jupyter.widget-view+json": {
       "version_major": 2,
       "version_minor": 0,
       "model_id": "ef718abe425e4d06b963567228a3fb15"
      },
      "text/plain": [
       "  0%|          | 0/100 [00:00<?, ?it/s]"
      ]
     },
     "metadata": {}
    },
    {
     "output_type": "stream",
     "name": "stdout",
     "text": [
      "Converting Source Data to mne.SourceEstimate object\n"
     ]
    },
    {
     "output_type": "display_data",
     "data": {
      "application/vnd.jupyter.widget-view+json": {
       "version_major": 2,
       "version_minor": 0,
       "model_id": "3b180011b2f449a1a9c19351124e8fbe"
      },
      "text/plain": [
       "  0%|          | 0/100 [00:00<?, ?it/s]"
      ]
     },
     "metadata": {}
    },
    {
     "output_type": "stream",
     "name": "stdout",
     "text": [
      "\n",
      "Project sources to EEG...\n",
      "\n",
      "Create EEG trials with noise...\n"
     ]
    },
    {
     "output_type": "display_data",
     "data": {
      "application/vnd.jupyter.widget-view+json": {
       "version_major": 2,
       "version_minor": 0,
       "model_id": "773849edf660481d90082bb733554953"
      },
      "text/plain": [
       "  0%|          | 0/100 [00:00<?, ?it/s]"
      ]
     },
     "metadata": {}
    },
    {
     "output_type": "stream",
     "name": "stdout",
     "text": [
      "\n",
      "Convert EEG matrices to a single instance of mne.Epochs...\n",
      "(1, 2000)\n",
      "(100, 20)\n",
      "0.019384857206812513 0.02826184160447744\n"
     ]
    }
   ],
   "metadata": {}
  },
  {
   "cell_type": "code",
   "execution_count": 82,
   "source": [
    "# settings_eval = dict(duration_of_trial=0.2, target_snr=(0.5, 10))\r\n",
    "# n_samples = 1000\r\n",
    "# sim_eval = Simulation(fwd, info, verbose=True, settings=settings_eval).simulate(n_samples=n_samples)\r\n",
    "# sim_eval_dense = deepcopy(sim_eval).to_nontemporal()\r\n",
    "# # Evaluate the new simulations\r\n",
    "# mse_dense = net_dense.evaluate_nmse(sim_eval_dense)\r\n",
    "# mse_lstm = net_lstm.evaluate_nmse(sim_eval)\r\n",
    "# perc_median_diff = 100*(1-(np.median(mse_lstm) / np.median(mse_dense)))\r\n",
    "# # Plot\r\n",
    "# %matplotlib qt\r\n",
    "# diff = mse_dense.flatten() - mse_lstm.flatten()\r\n",
    "# relative_better_predictions = np.sum(diff>0)/ len(diff)\r\n",
    "# title = f'{relative_better_predictions*100:.1f} % of samples were better with lstm. \\n ({perc_median_diff:.1f}% better)'\r\n",
    "# decim = 1\r\n",
    "import seaborn as sns; sns.set(style='whitegrid')\r\n",
    "fig, ax = plt.subplots(1,1, figsize=(10,10))\r\n",
    "ax.scatter(mse_dense[::decim], mse_lstm[::decim], s=0.5)\r\n",
    "ax.set_xlim([-np.percentile(mse_dense, 5), np.percentile(mse_dense, 99)])\r\n",
    "ax.set_ylim([-np.percentile(mse_dense, 5), np.percentile(mse_dense, 99)])\r\n",
    "ax.plot([0, 1], [0, 1], linewidth=2, color='black')\r\n",
    "ax.set_xlabel('Dense Errors')\r\n",
    "ax.set_ylabel('LSTM Errors')\r\n",
    "# ax.axis('equal')\r\n",
    "ax.set_title(title)\r\n",
    "plt.savefig(r'C:\\Users\\lukas\\Desktop\\lstm.png', dpi=600)"
   ],
   "outputs": [],
   "metadata": {}
  },
  {
   "cell_type": "markdown",
   "source": [
    "# Visual Evaluation\r\n",
    "We can now evaluate the performance of our LSTM network using a newly simulated, thus unseen simulated sample."
   ],
   "metadata": {}
  },
  {
   "cell_type": "code",
   "execution_count": 6,
   "source": [
    "%matplotlib qt\r\n",
    "settings_eval = dict(duration_of_trial=0.2, target_snr=(0.5, 10))\r\n",
    "\r\n",
    "# Simulate new data\r\n",
    "sim_test = Simulation(fwd, info, settings=settings_eval).simulate(1)\r\n",
    "idx = 0\r\n",
    "# Predict sources\r\n",
    "prediction_dense = net_dense.predict(sim_test)\r\n",
    "prediction_lstm = net_lstm.predict(sim_test)\r\n",
    "\r\n",
    "\r\n",
    "# Plot True Source\r\n",
    "brain = sim_test.source_data[idx].plot(**plot_params)\r\n",
    "brain.add_text(0.1, 0.9, 'Ground Truth', 'title')\r\n",
    "\r\n",
    "# Plot True EEG\r\n",
    "evoked = sim_test.eeg_data[idx].average()\r\n",
    "evoked.plot()\r\n",
    "evoked.plot_topomap(title='Ground Truth')\r\n",
    "evoked = util.get_eeg_from_source(sim_test.source_data[idx], fwd, info, tmin=0.)\r\n",
    "evoked.plot_topomap(title='Ground Truth Noiseless')\r\n",
    "\r\n",
    "\r\n",
    "# Plot predicted source Dense\r\n",
    "brain = prediction_dense.plot(**plot_params)\r\n",
    "brain.add_text(0.1, 0.9, 'Dense', 'title')\r\n",
    "# Plot predicted EEG\r\n",
    "evoked_esi = util.get_eeg_from_source(prediction_dense, fwd, info, tmin=0.)\r\n",
    "evoked_esi.plot()\r\n",
    "evoked_esi.plot_topomap(title='Dense')\r\n",
    "\r\n",
    "# Plot predicted source LSTM\r\n",
    "brain = prediction_lstm.plot(**plot_params)\r\n",
    "brain.add_text(0.1, 0.9, 'LSTM', 'title')\r\n",
    "# Plot predicted EEG\r\n",
    "evoked_esi = util.get_eeg_from_source(prediction_lstm, fwd, info, tmin=0.)\r\n",
    "evoked_esi.plot()\r\n",
    "evoked_esi.plot_topomap(title='LSTM')\r\n",
    "\r\n",
    "error_dense = ((prediction_dense.data - sim_test.source_data[idx].data)**2).flatten()\r\n",
    "error_lstm = ((prediction_lstm.data - sim_test.source_data[idx].data)**2).flatten()\r\n",
    "\r\n",
    "diff = error_dense - error_lstm\r\n",
    "relative_better_predictions = np.sum(diff>0)/ len(diff)\r\n",
    "title = f'{relative_better_predictions*100:.1f} % of samples were better with lstm'\r\n",
    "print(title)\r\n"
   ],
   "outputs": [
    {
     "output_type": "display_data",
     "data": {
      "application/vnd.jupyter.widget-view+json": {
       "version_major": 2,
       "version_minor": 0,
       "model_id": "8484735b144a4e2480cb7c30beee90b8"
      },
      "text/plain": [
       "  0%|          | 0/1 [00:00<?, ?it/s]"
      ]
     },
     "metadata": {}
    },
    {
     "output_type": "display_data",
     "data": {
      "application/vnd.jupyter.widget-view+json": {
       "version_major": 2,
       "version_minor": 0,
       "model_id": "9ad2525997294e15ada07c7fd9a6c1c9"
      },
      "text/plain": [
       "  0%|          | 0/1 [00:00<?, ?it/s]"
      ]
     },
     "metadata": {}
    },
    {
     "output_type": "display_data",
     "data": {
      "application/vnd.jupyter.widget-view+json": {
       "version_major": 2,
       "version_minor": 0,
       "model_id": "c1e74203274e43b9a83e4eac10b65d79"
      },
      "text/plain": [
       "  0%|          | 0/1 [00:00<?, ?it/s]"
      ]
     },
     "metadata": {}
    },
    {
     "output_type": "stream",
     "name": "stdout",
     "text": [
      "56.5 % of samples were better with lstm\n"
     ]
    },
    {
     "output_type": "stream",
     "name": "stderr",
     "text": [
      "WARNING:root:Encountered issue in callback (most recent call last):\n",
      "  File \"C:\\Users\\lukas\\virtualenvs\\esienv\\lib\\site-packages\\mne\\viz\\_brain\\_brain.py\", line 1348, in _on_button_release\n",
      "    self.picked_renderer = self.plotter.iren.FindPokedRenderer(x, y)\n",
      "AttributeError: 'RenderWindowInteractor' object has no attribute 'FindPokedRenderer'\n",
      "WARNING:root:Encountered issue in callback (most recent call last):\n",
      "  File \"C:\\Users\\lukas\\virtualenvs\\esienv\\lib\\site-packages\\mne\\viz\\_brain\\_brain.py\", line 1348, in _on_button_release\n",
      "    self.picked_renderer = self.plotter.iren.FindPokedRenderer(x, y)\n",
      "AttributeError: 'RenderWindowInteractor' object has no attribute 'FindPokedRenderer'\n"
     ]
    },
    {
     "output_type": "stream",
     "name": "stdout",
     "text": [
      "Using control points [1.19318743e-09 1.67361899e-09 3.05720313e-09]\n"
     ]
    },
    {
     "output_type": "stream",
     "name": "stderr",
     "text": [
      "WARNING:root:Encountered issue in callback (most recent call last):\n",
      "  File \"C:\\Users\\lukas\\virtualenvs\\esienv\\lib\\site-packages\\mne\\viz\\_brain\\_brain.py\", line 1348, in _on_button_release\n",
      "    self.picked_renderer = self.plotter.iren.FindPokedRenderer(x, y)\n",
      "AttributeError: 'RenderWindowInteractor' object has no attribute 'FindPokedRenderer'\n"
     ]
    },
    {
     "output_type": "stream",
     "name": "stdout",
     "text": [
      "Using control points [1.16309050e-09 2.13878146e-09 4.25039559e-09]\n"
     ]
    },
    {
     "output_type": "stream",
     "name": "stderr",
     "text": [
      "WARNING:root:Encountered issue in callback (most recent call last):\n",
      "  File \"C:\\Users\\lukas\\virtualenvs\\esienv\\lib\\site-packages\\mne\\viz\\_brain\\_brain.py\", line 1348, in _on_button_release\n",
      "    self.picked_renderer = self.plotter.iren.FindPokedRenderer(x, y)\n",
      "AttributeError: 'RenderWindowInteractor' object has no attribute 'FindPokedRenderer'\n"
     ]
    },
    {
     "output_type": "stream",
     "name": "stdout",
     "text": [
      "Using control points [3.31846915e-09 4.01882137e-09 5.65349509e-09]\n"
     ]
    },
    {
     "output_type": "stream",
     "name": "stderr",
     "text": [
      "WARNING:root:Encountered issue in callback (most recent call last):\n",
      "  File \"C:\\Users\\lukas\\virtualenvs\\esienv\\lib\\site-packages\\mne\\viz\\_brain\\_brain.py\", line 1348, in _on_button_release\n",
      "    self.picked_renderer = self.plotter.iren.FindPokedRenderer(x, y)\n",
      "AttributeError: 'RenderWindowInteractor' object has no attribute 'FindPokedRenderer'\n",
      "WARNING:root:Encountered issue in callback (most recent call last):\n",
      "  File \"C:\\Users\\lukas\\virtualenvs\\esienv\\lib\\site-packages\\mne\\viz\\_brain\\_brain.py\", line 1348, in _on_button_release\n",
      "    self.picked_renderer = self.plotter.iren.FindPokedRenderer(x, y)\n",
      "AttributeError: 'RenderWindowInteractor' object has no attribute 'FindPokedRenderer'\n"
     ]
    },
    {
     "output_type": "stream",
     "name": "stdout",
     "text": [
      "Using control points [1.16309050e-09 2.13878146e-09 4.25039559e-09]\n"
     ]
    },
    {
     "output_type": "stream",
     "name": "stderr",
     "text": [
      "WARNING:root:Encountered issue in callback (most recent call last):\n",
      "  File \"C:\\Users\\lukas\\virtualenvs\\esienv\\lib\\site-packages\\mne\\viz\\_brain\\_brain.py\", line 1348, in _on_button_release\n",
      "    self.picked_renderer = self.plotter.iren.FindPokedRenderer(x, y)\n",
      "AttributeError: 'RenderWindowInteractor' object has no attribute 'FindPokedRenderer'\n"
     ]
    },
    {
     "output_type": "stream",
     "name": "stdout",
     "text": [
      "Using control points [3.31846915e-09 4.01882137e-09 5.65349509e-09]\n"
     ]
    },
    {
     "output_type": "stream",
     "name": "stderr",
     "text": [
      "WARNING:root:Encountered issue in callback (most recent call last):\n",
      "  File \"C:\\Users\\lukas\\virtualenvs\\esienv\\lib\\site-packages\\mne\\viz\\_brain\\_brain.py\", line 1348, in _on_button_release\n",
      "    self.picked_renderer = self.plotter.iren.FindPokedRenderer(x, y)\n",
      "AttributeError: 'RenderWindowInteractor' object has no attribute 'FindPokedRenderer'\n"
     ]
    },
    {
     "output_type": "stream",
     "name": "stdout",
     "text": [
      "Using control points [4.09237262e-10 7.75631868e-10 4.63485824e-09]\n"
     ]
    },
    {
     "output_type": "stream",
     "name": "stderr",
     "text": [
      "WARNING:root:Encountered issue in callback (most recent call last):\n",
      "  File \"C:\\Users\\lukas\\virtualenvs\\esienv\\lib\\site-packages\\mne\\viz\\_brain\\_brain.py\", line 1348, in _on_button_release\n",
      "    self.picked_renderer = self.plotter.iren.FindPokedRenderer(x, y)\n",
      "AttributeError: 'RenderWindowInteractor' object has no attribute 'FindPokedRenderer'\n"
     ]
    },
    {
     "output_type": "stream",
     "name": "stdout",
     "text": [
      "Using control points [6.72407097e-10 7.65050635e-10 1.26336163e-09]\n"
     ]
    },
    {
     "output_type": "stream",
     "name": "stderr",
     "text": [
      "WARNING:root:Encountered issue in callback (most recent call last):\n",
      "  File \"C:\\Users\\lukas\\virtualenvs\\esienv\\lib\\site-packages\\mne\\viz\\_brain\\_brain.py\", line 1348, in _on_button_release\n",
      "    self.picked_renderer = self.plotter.iren.FindPokedRenderer(x, y)\n",
      "AttributeError: 'RenderWindowInteractor' object has no attribute 'FindPokedRenderer'\n",
      "WARNING:root:Encountered issue in callback (most recent call last):\n",
      "  File \"C:\\Users\\lukas\\virtualenvs\\esienv\\lib\\site-packages\\mne\\viz\\_brain\\_brain.py\", line 1348, in _on_button_release\n",
      "    self.picked_renderer = self.plotter.iren.FindPokedRenderer(x, y)\n",
      "AttributeError: 'RenderWindowInteractor' object has no attribute 'FindPokedRenderer'\n"
     ]
    },
    {
     "output_type": "stream",
     "name": "stdout",
     "text": [
      "Using control points [2.91266412e-10 4.04218161e-10 7.58409964e-10]\n"
     ]
    },
    {
     "output_type": "stream",
     "name": "stderr",
     "text": [
      "WARNING:root:Encountered issue in callback (most recent call last):\n",
      "  File \"C:\\Users\\lukas\\virtualenvs\\esienv\\lib\\site-packages\\mne\\viz\\_brain\\_brain.py\", line 1348, in _on_button_release\n",
      "    self.picked_renderer = self.plotter.iren.FindPokedRenderer(x, y)\n",
      "AttributeError: 'RenderWindowInteractor' object has no attribute 'FindPokedRenderer'\n"
     ]
    },
    {
     "output_type": "stream",
     "name": "stdout",
     "text": [
      "Using control points [6.72407097e-10 7.65050635e-10 1.26336163e-09]\n"
     ]
    },
    {
     "output_type": "stream",
     "name": "stderr",
     "text": [
      "WARNING:root:Encountered issue in callback (most recent call last):\n",
      "  File \"C:\\Users\\lukas\\virtualenvs\\esienv\\lib\\site-packages\\mne\\viz\\_brain\\_brain.py\", line 1348, in _on_button_release\n",
      "    self.picked_renderer = self.plotter.iren.FindPokedRenderer(x, y)\n",
      "AttributeError: 'RenderWindowInteractor' object has no attribute 'FindPokedRenderer'\n"
     ]
    },
    {
     "output_type": "stream",
     "name": "stdout",
     "text": [
      "Using control points [4.09237262e-10 7.75631868e-10 4.63485824e-09]\n",
      "Using control points [2.91266412e-10 4.04218161e-10 7.58409964e-10]\n"
     ]
    },
    {
     "output_type": "stream",
     "name": "stderr",
     "text": [
      "WARNING:root:Encountered issue in callback (most recent call last):\n",
      "  File \"C:\\Users\\lukas\\virtualenvs\\esienv\\lib\\site-packages\\mne\\viz\\_brain\\_brain.py\", line 1348, in _on_button_release\n",
      "    self.picked_renderer = self.plotter.iren.FindPokedRenderer(x, y)\n",
      "AttributeError: 'RenderWindowInteractor' object has no attribute 'FindPokedRenderer'\n"
     ]
    },
    {
     "output_type": "stream",
     "name": "stdout",
     "text": [
      "Using control points [9.04268205e-10 1.15940588e-09 1.90292830e-09]\n",
      "Using control points [1.97750172e-09 2.25603606e-09 4.72387520e-09]\n"
     ]
    },
    {
     "output_type": "stream",
     "name": "stderr",
     "text": [
      "WARNING:root:Encountered issue in callback (most recent call last):\n",
      "  File \"C:\\Users\\lukas\\virtualenvs\\esienv\\lib\\site-packages\\mne\\viz\\_brain\\_brain.py\", line 1348, in _on_button_release\n",
      "    self.picked_renderer = self.plotter.iren.FindPokedRenderer(x, y)\n",
      "AttributeError: 'RenderWindowInteractor' object has no attribute 'FindPokedRenderer'\n"
     ]
    },
    {
     "output_type": "stream",
     "name": "stdout",
     "text": [
      "Using control points [8.97302466e-10 1.47243492e-09 3.41262587e-09]\n"
     ]
    },
    {
     "output_type": "stream",
     "name": "stderr",
     "text": [
      "WARNING:root:Encountered issue in callback (most recent call last):\n",
      "  File \"C:\\Users\\lukas\\virtualenvs\\esienv\\lib\\site-packages\\mne\\viz\\_brain\\_brain.py\", line 1348, in _on_button_release\n",
      "    self.picked_renderer = self.plotter.iren.FindPokedRenderer(x, y)\n",
      "AttributeError: 'RenderWindowInteractor' object has no attribute 'FindPokedRenderer'\n",
      "WARNING:root:Encountered issue in callback (most recent call last):\n",
      "  File \"C:\\Users\\lukas\\virtualenvs\\esienv\\lib\\site-packages\\mne\\viz\\_brain\\_brain.py\", line 1348, in _on_button_release\n",
      "    self.picked_renderer = self.plotter.iren.FindPokedRenderer(x, y)\n",
      "AttributeError: 'RenderWindowInteractor' object has no attribute 'FindPokedRenderer'\n"
     ]
    },
    {
     "output_type": "stream",
     "name": "stdout",
     "text": [
      "Using control points [1.97750172e-09 2.25603606e-09 4.72387520e-09]\n",
      "Reading labels from parcellation...\n",
      "   read 181 labels from C:\\Users\\lukas\\mne_data\\MNE-sample-data\\subjects\\fsaverage\\label\\lh.HCPMMP1.annot\n",
      "Reading labels from parcellation...\n",
      "   read 181 labels from C:\\Users\\lukas\\mne_data\\MNE-sample-data\\subjects\\fsaverage\\label\\rh.HCPMMP1.annot\n",
      "Reading labels from parcellation...\n",
      "   read 9 labels from C:\\Users\\lukas\\mne_data\\MNE-sample-data\\subjects\\fsaverage\\label\\lh.oasis.chubs.annot\n",
      "Reading labels from parcellation...\n",
      "   read 9 labels from C:\\Users\\lukas\\mne_data\\MNE-sample-data\\subjects\\fsaverage\\label\\rh.oasis.chubs.annot\n",
      "Reading labels from parcellation...\n",
      "   read 9 labels from C:\\Users\\lukas\\mne_data\\MNE-sample-data\\subjects\\fsaverage\\label\\lh.oasis.chubs.annot\n",
      "Reading labels from parcellation...\n",
      "   read 9 labels from C:\\Users\\lukas\\mne_data\\MNE-sample-data\\subjects\\fsaverage\\label\\rh.oasis.chubs.annot\n",
      "Reading labels from parcellation...\n",
      "   read 82 labels from C:\\Users\\lukas\\mne_data\\MNE-sample-data\\subjects\\fsaverage\\label\\lh.PALS_B12_Brodmann.annot\n",
      "Reading labels from parcellation...\n",
      "   read 46 labels from C:\\Users\\lukas\\mne_data\\MNE-sample-data\\subjects\\fsaverage\\label\\rh.PALS_B12_Brodmann.annot\n",
      "Using control points [1.97750172e-09 2.25603606e-09 4.72387520e-09]\n",
      "Using control points [1.97750172e-09 2.25603606e-09 4.72387520e-09]\n",
      "Using control points [1.97750172e-09 2.25603606e-09 4.72387520e-09]\n"
     ]
    },
    {
     "output_type": "stream",
     "name": "stderr",
     "text": [
      "WARNING:root:Encountered issue in callback (most recent call last):\n",
      "  File \"C:\\Users\\lukas\\virtualenvs\\esienv\\lib\\site-packages\\mne\\viz\\_brain\\_brain.py\", line 1348, in _on_button_release\n",
      "    self.picked_renderer = self.plotter.iren.FindPokedRenderer(x, y)\n",
      "AttributeError: 'RenderWindowInteractor' object has no attribute 'FindPokedRenderer'\n"
     ]
    }
   ],
   "metadata": {}
  },
  {
   "cell_type": "code",
   "execution_count": null,
   "source": [
    "prediction_dense.data /= np.max(np.abs(prediction_dense.data), axis=0)\r\n",
    "prediction_lstm.data /= np.max(np.abs(prediction_lstm.data), axis=0)\r\n",
    "\r\n",
    "error_dense = ((prediction_dense.data - sim_test.source_data[idx].data)**2).flatten()\r\n",
    "error_lstm = ((prediction_lstm.data - sim_test.source_data[idx].data)**2).flatten()\r\n",
    "\r\n",
    "diff = error_dense - error_lstm\r\n",
    "relative_better_predictions = np.sum(diff>0)/ len(diff)\r\n",
    "title = f'{relative_better_predictions*100:.1f} % of samples were better with lstm'\r\n",
    "print(title)"
   ],
   "outputs": [],
   "metadata": {}
  },
  {
   "cell_type": "code",
   "execution_count": null,
   "source": [
    "x = np.array(\r\n",
    "    [[1,2,3],\r\n",
    "    [4,5,6]]\r\n",
    ")\r\n",
    "print(x)\r\n",
    "\r\n",
    "print(x.T[::-1].T)"
   ],
   "outputs": [],
   "metadata": {}
  },
  {
   "cell_type": "code",
   "execution_count": null,
   "source": [
    "np.max(np.abs(sigs), axis=1)"
   ],
   "outputs": [],
   "metadata": {}
  },
  {
   "cell_type": "code",
   "execution_count": null,
   "source": [
    "sigs = np.random.randn(10, 20)\r\n",
    "sigs /= np.max(np.abs(sigs), axis=0)\r\n",
    "plt.figure()\r\n",
    "[plt.plot(sig) for sig in sigs.T]"
   ],
   "outputs": [],
   "metadata": {}
  },
  {
   "cell_type": "code",
   "execution_count": null,
   "source": [],
   "outputs": [],
   "metadata": {}
  }
 ],
 "metadata": {
  "orig_nbformat": 4,
  "language_info": {
   "name": "python",
   "version": "3.8.10",
   "mimetype": "text/x-python",
   "codemirror_mode": {
    "name": "ipython",
    "version": 3
   },
   "pygments_lexer": "ipython3",
   "nbconvert_exporter": "python",
   "file_extension": ".py"
  },
  "kernelspec": {
   "name": "python3",
   "display_name": "Python 3.8.10 64-bit ('esienv': virtualenv)"
  },
  "interpreter": {
   "hash": "8292a7c1b71beb25883e5d3de4479593a27229e31834907607dc8a0d6e7b1899"
  }
 },
 "nbformat": 4,
 "nbformat_minor": 2
}