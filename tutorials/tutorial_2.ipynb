{
 "cells": [
  {
   "cell_type": "markdown",
   "source": [
    "# Tutorial 2: Intermediate level\r\n",
    "Using esinet to predict single time-frame sources of a sample ERP data set. \r\n",
    "\r\n",
    "This tutorial is based on an [mne-python tutorial](https://mne.tools/stable/auto_tutorials/inverse/30_mne_dspm_loreta.html)"
   ],
   "metadata": {}
  },
  {
   "cell_type": "code",
   "execution_count": 1,
   "source": [
    "%matplotlib inline\r\n",
    "%load_ext autoreload\r\n",
    "%autoreload 2\r\n",
    "\r\n",
    "import mne\r\n",
    "import numpy as np\r\n",
    "from copy import deepcopy\r\n",
    "import matplotlib.pyplot as plt\r\n",
    "import sys; sys.path.insert(0, '../')\r\n",
    "from esinet import util\r\n",
    "from esinet import Simulation\r\n",
    "from esinet import Net\r\n",
    "import os\r\n",
    "\r\n",
    "subjects_dir = mne.datasets.sample.data_path() + '\\\\subjects'\r\n",
    "plot_params = dict(surface='white', hemi='both', verbose=0, subjects_dir=subjects_dir)\r\n",
    "mne.set_config('SUBJECTS_DIR', subjects_dir)"
   ],
   "outputs": [],
   "metadata": {}
  },
  {
   "cell_type": "markdown",
   "source": [
    "# Load the data\r\n",
    "Just as in the [mne-python tutorial](https://mne.tools/stable/auto_tutorials/inverse/30_mne_dspm_loreta.html) we have to load some sample data first"
   ],
   "metadata": {}
  },
  {
   "cell_type": "code",
   "execution_count": 2,
   "source": [
    "data_path = mne.datasets.sample.data_path()\r\n",
    "raw_fname = os.path.join(data_path, 'MEG', 'sample',  \r\n",
    "                    'sample_audvis_filt-0-40_raw.fif')\r\n",
    "\r\n",
    "raw = mne.io.read_raw_fif(raw_fname, verbose=0)  # already has an average reference\r\n",
    "events = mne.find_events(raw, stim_channel='STI 014', verbose=0)\r\n",
    "\r\n",
    "event_id = dict(aud_l=1)  # event trigger and conditions\r\n",
    "tmin = -0.2  # start of each epoch (200ms before the trigger)\r\n",
    "tmax = 0.5  # end of each epoch (500ms after the trigger)\r\n",
    "# raw.info['bads'] = ['MEG 2443', 'EEG 053']  # no bad channels with EEG\r\n",
    "baseline = (None, 0)  # means from the first instant to t = 0\r\n",
    "reject = dict(grad=4000e-13, eog=150e-6)  # , mag=4e-12\r\n",
    "\r\n",
    "epochs = mne.Epochs(raw, events, event_id, tmin, tmax, proj=True,\r\n",
    "                    picks=('grad', 'eog'), baseline=baseline, reject=reject,  # grad instead of meg\r\n",
    "                    verbose=0)\r\n",
    "\r\n",
    "fname_fwd = data_path + '/MEG/sample/sample_audvis-meg-oct-6-fwd.fif' \r\n",
    "fwd = mne.read_forward_solution(fname_fwd, verbose=0)\r\n",
    "\r\n",
    "\r\n",
    "epochs_stripped = epochs.copy().load_data().pick_types(meg=True) # instead of meg=True\r\n",
    "fwd = fwd.pick_channels(epochs_stripped.ch_names)\r\n",
    "fwd = mne.convert_forward_solution(fwd, surf_ori=True, force_fixed=True,\r\n",
    "                                                    use_cps=True, verbose=0)"
   ],
   "outputs": [],
   "metadata": {}
  },
  {
   "cell_type": "markdown",
   "source": [
    "## Visualize the sample data"
   ],
   "metadata": {}
  },
  {
   "cell_type": "code",
   "execution_count": null,
   "source": [
    "epochs.average().plot(verbose=0)\r\n",
    "epochs"
   ],
   "outputs": [],
   "metadata": {}
  },
  {
   "cell_type": "markdown",
   "source": [
    "# Simulate Data\r\n",
    "Artificial neural networks need training data to learn how to predict brain-electric activity (sources) given the M/EEG data. \r\n",
    "\r\n",
    "First, we calculate the signal to noise ratio (SNR) of our EEG data so we can adjust our simulations to it. "
   ],
   "metadata": {}
  },
  {
   "cell_type": "code",
   "execution_count": null,
   "source": [
    "target_snr = util.calc_snr_range(epochs, baseline_span=(-0.2, 0.0), data_span=(0.05, 0.2))\r\n",
    "print(f'The target SNR ranges from {target_snr[0]:.2f} to {target_snr[1]:.2f}')"
   ],
   "outputs": [],
   "metadata": {}
  },
  {
   "cell_type": "markdown",
   "source": [
    "Next, we can perform the simulations with the packages default settings. Change n_samples to a smaller integer in case this cell runs for too long. Note, that for publication-ready inverse solutions you should increase the number of training samples to 100,000."
   ],
   "metadata": {}
  },
  {
   "cell_type": "code",
   "execution_count": null,
   "source": [
    "settings = dict(duration_of_trial=0.2, target_snr=target_snr[1])\r\n",
    "n_samples = 10000\r\n",
    "simulation = Simulation(fwd, epochs.info, settings=settings, verbose=True)\r\n",
    "simulation.simulate(n_samples=n_samples)"
   ],
   "outputs": [],
   "metadata": {}
  },
  {
   "cell_type": "markdown",
   "source": [
    "## Visualize the simulated data\r\n",
    "Let's visualize the simulated data and see if it looks alright. You can change the idx to another integer to visualize a different sample"
   ],
   "metadata": {}
  },
  {
   "cell_type": "code",
   "execution_count": null,
   "source": [
    "%matplotlib qt\r\n",
    "idx = 0\r\n",
    "\r\n",
    "simulation.eeg_data[idx].average().plot_topomap([0.])\r\n",
    "simulation.source_data.plot(**plot_params, initial_time=simulation.source_data.times[idx], time_viewer=False)"
   ],
   "outputs": [],
   "metadata": {}
  },
  {
   "cell_type": "markdown",
   "source": [
    "# Train the Neural Network\r\n",
    "The Net class contains our neural network.\r\n",
    "\r\n",
    "Using the simulations created above, we can train the neural network. This may take several minutes if you are using a CPU and less than a minute if you're using a GPU."
   ],
   "metadata": {}
  },
  {
   "cell_type": "code",
   "execution_count": null,
   "source": [
    "net = Net(fwd, verbose=1)  # Initialize the neural network object\r\n",
    "net.fit(simulation)  # Train the net using our simulated eeg and source data."
   ],
   "outputs": [],
   "metadata": {}
  },
  {
   "cell_type": "markdown",
   "source": [
    "# Evaluate the ANN\r\n",
    "The evaluation is a two-step procedure. \r\n",
    "1. Simulate some test data which the neural network has not seen yet. Unlike \r\n",
    "   the training data, this simulated data will also have a temporal dimension, \r\n",
    "   as indicated by the \"duration_of_trial\" parameter.\r\n",
    "\r\n",
    "2. Perform predicions on this data and visually examine the results."
   ],
   "metadata": {}
  },
  {
   "cell_type": "code",
   "execution_count": null,
   "source": [
    "settings = dict(duration_of_trial=1, target_snr=target_snr[1], number_of_sources=(1, 10), extents=(2, 40),)\r\n",
    "n_samples = 10\r\n",
    "simulation_test = Simulation(fwd, epochs.info, settings=settings, verbose=True)\r\n",
    "simulation_test.simulate(n_samples=n_samples)\r\n",
    "\r\n",
    "\r\n",
    "# Predict source from EEG\r\n",
    "source_hat = net.predict(simulation_test)"
   ],
   "outputs": [],
   "metadata": {}
  },
  {
   "cell_type": "markdown",
   "source": [
    "Visualize a sample"
   ],
   "metadata": {}
  },
  {
   "cell_type": "code",
   "execution_count": null,
   "source": [
    "%matplotlib qt\r\n",
    "\r\n",
    "# Ground Truth\r\n",
    "idx = 1\r\n",
    "source = simulation_test.source_data[idx]\r\n",
    "# Plot simulated Source\r\n",
    "a = source.plot(**plot_params)\r\n",
    "a.add_text(0.1, 0.9, 'Gound Truth', 'title',\r\n",
    "               font_size=14)\r\n",
    "# Plot simulated EEG\r\n",
    "evoked = simulation_test.eeg_data[idx].average()\r\n",
    "evoked.plot()\r\n",
    "evoked.plot_topomap([0.0, 0.2, 0.4, 0.6])\r\n",
    "\r\n",
    "# Plot esinet prediction\r\n",
    "b = source_hat[idx].plot(**plot_params)\r\n",
    "b.add_text(0.1, 0.9, 'Prediction', 'title',\r\n",
    "               font_size=14)\r\n",
    "\r\n",
    "# Plot predicted EEG\r\n",
    "evoked_hat = util.get_eeg_from_source(source_hat[idx], fwd, epochs_stripped.info, tmin=-0.2)\r\n",
    "evoked_hat.plot()\r\n",
    "evoked_hat.plot_topomap([0.0, 0.2, 0.4, 0.6])"
   ],
   "outputs": [],
   "metadata": {}
  },
  {
   "cell_type": "markdown",
   "source": [
    "# Estimate sources from real data\r\n",
    "Using ANN"
   ],
   "metadata": {}
  },
  {
   "cell_type": "code",
   "execution_count": null,
   "source": [
    "# gfp_esi = np.std(evoked_esi.pick('mag').data, axis=0)\r\n",
    "# gfp_tru = np.std(epochs.pick(['mag']).average().data, axis=0)\r\n",
    "# plt.figure()\r\n",
    "# plt.subplot(211)\r\n",
    "# plt.plot(gfp_esi, label='esi')\r\n",
    "# plt.title('Esi')\r\n",
    "# plt.subplot(212)\r\n",
    "# plt.plot(gfp_tru, label='tru')\r\n",
    "# plt.title('True')\r\n",
    "\r\n",
    "\r\n",
    "gfp_esi = np.std(evoked_esi.pick('grad').data, axis=0)\r\n",
    "gfp_tru = np.std(epochs.pick(['grad']).average().data, axis=0)\r\n",
    "plt.figure()\r\n",
    "plt.subplot(211)\r\n",
    "plt.plot(gfp_esi, label='esi')\r\n",
    "plt.title('Esi')\r\n",
    "plt.subplot(212)\r\n",
    "plt.plot(gfp_tru, label='tru')\r\n",
    "plt.title('True')"
   ],
   "outputs": [],
   "metadata": {}
  },
  {
   "cell_type": "code",
   "execution_count": null,
   "source": [
    "stc = net.predict(epochs.average())"
   ],
   "outputs": [],
   "metadata": {}
  },
  {
   "cell_type": "code",
   "execution_count": null,
   "source": [
    "# Predict Source\r\n",
    "stc = net.predict(epochs.average())\r\n",
    "# Plot Predicted Source\r\n",
    "brain = stc.plot(**plot_params)\r\n",
    "brain.add_text(0.1, 0.9, 'esinet on Auditory Data', 'title',\r\n",
    "               font_size=14)\r\n",
    "# Plot true EEG\r\n",
    "epochs.load_data()\r\n",
    "\r\n",
    "epochs.pick_types(meg=True).average().plot()\r\n",
    "epochs.pick_types(meg=True).average().plot_topomap(title='True')\r\n",
    "\r\n",
    "# Plot predicted EEG\r\n",
    "evoked_esi = util.get_eeg_from_source(stc, fwd, epochs.pick_types(meg=True).info, tmin=0.)\r\n",
    "evoked_esi.plot()\r\n",
    "evoked_esi.plot_topomap(title='esinet')\r\n"
   ],
   "outputs": [],
   "metadata": {}
  },
  {
   "cell_type": "markdown",
   "source": [
    "...using eLORETA"
   ],
   "metadata": {}
  },
  {
   "cell_type": "code",
   "execution_count": null,
   "source": [
    "method = \"eLORETA\"\r\n",
    "snr = 3.\r\n",
    "lambda2 = 1. / snr ** 2\r\n",
    "noise_cov = mne.compute_covariance(\r\n",
    "    epochs, tmax=0., method=['shrunk', 'empirical'], rank=None, verbose=False)\r\n",
    "\r\n",
    "inverse_operator = mne.minimum_norm.make_inverse_operator(\r\n",
    "    evoked.info, fwd, noise_cov, loose='auto', depth=None, fixed=True, \r\n",
    "    verbose=False)\r\n",
    "    \r\n",
    "stc_elor, residual = mne.minimum_norm.apply_inverse(epochs.average(), inverse_operator, lambda2,\r\n",
    "                              method=method, return_residual=True, verbose=False)\r\n",
    "brain = np.abs(stc_elor).plot(**plot_params)\r\n",
    "brain.add_text(0.1, 0.9, 'eLORETA on auditory data', 'title',\r\n",
    "               font_size=14)\r\n",
    "# Plot predicted EEG\r\n",
    "epochs.load_data()\r\n",
    "evoked_elor = util.get_eeg_from_source(stc_elor, fwd, epochs.pick_types(meg=True).info, tmin=0.)\r\n",
    "evoked_elor.plot()\r\n",
    "evoked_elor.plot_topomap(title='eLORETA')\r\n"
   ],
   "outputs": [],
   "metadata": {}
  },
  {
   "cell_type": "code",
   "execution_count": null,
   "source": [],
   "outputs": [],
   "metadata": {}
  }
 ],
 "metadata": {
  "orig_nbformat": 4,
  "language_info": {
   "name": "python",
   "version": "3.8.10",
   "mimetype": "text/x-python",
   "codemirror_mode": {
    "name": "ipython",
    "version": 3
   },
   "pygments_lexer": "ipython3",
   "nbconvert_exporter": "python",
   "file_extension": ".py"
  },
  "kernelspec": {
   "name": "python3",
   "display_name": "Python 3.8.10 64-bit ('esienv': virtualenv)"
  },
  "interpreter": {
   "hash": "8292a7c1b71beb25883e5d3de4479593a27229e31834907607dc8a0d6e7b1899"
  }
 },
 "nbformat": 4,
 "nbformat_minor": 2
}