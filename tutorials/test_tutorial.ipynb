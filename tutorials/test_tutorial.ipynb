{
 "metadata": {
  "language_info": {
   "codemirror_mode": {
    "name": "ipython",
    "version": 3
   },
   "file_extension": ".py",
   "mimetype": "text/x-python",
   "name": "python",
   "nbconvert_exporter": "python",
   "pygments_lexer": "ipython3",
   "version": "3.8.3"
  },
  "orig_nbformat": 2,
  "kernelspec": {
   "name": "python3",
   "display_name": "Python 3.8.3 64-bit ('esidev': conda)"
  },
  "interpreter": {
   "hash": "fd8f57747fa1ec5c69912589b6a0ece76e03150db5c8777db62b138d9f0380fd"
  }
 },
 "nbformat": 4,
 "nbformat_minor": 2,
 "cells": [
  {
   "cell_type": "code",
   "execution_count": null,
   "metadata": {},
   "outputs": [],
   "source": [
    "import numpy as np\n",
    "import matplotlib.pyplot as plt\n",
    "import sys\n",
    "sys.path.insert(1, '../')\n",
    "from ESINet.forward import create_forward_model\n",
    "from ESINet.simulations import run_simulations, create_eeg\n",
    "from ESINet.util import *\n",
    "from ESINet.ann import *\n",
    "from ESINet.viz import parula\n",
    "\n",
    "pth_fwd = 'forward_models/ico3/'"
   ]
  },
  {
   "cell_type": "code",
   "execution_count": null,
   "metadata": {},
   "outputs": [],
   "source": [
    "create_forward_model(pth_fwd, sampling='ico3')"
   ]
  },
  {
   "source": [
    "## Simulate some source activity and EEG data"
   ],
   "cell_type": "markdown",
   "metadata": {}
  },
  {
   "cell_type": "code",
   "execution_count": null,
   "metadata": {},
   "outputs": [],
   "source": [
    "settings = dict(n_simulations=10000,\n",
    "                n_sources=(1, 5),   # Specify the range of number of present sources \n",
    "                extents=(1, 4),     # Specify the range of size of the sources (in neighborhood orders)\n",
    "                amplitudes=(1, 100), # Specify the range of amplitudes (in nAm)\n",
    "                shape='both',       # Shape can be 'flat', 'gaussian' or 'both'\n",
    "                durOfTrial=0)       # ESINet works with single-instance data, i.e duration of the trial segments must be 0 here\n",
    "\n",
    "# Calculate random brain activity base on settings:\n",
    "sources_sim = run_simulations(pth_fwd, **settings)\n",
    "# Calculate the corresponding EEG signals using the forward model and some noise\n",
    "eeg_sim = create_eeg(sources_sim, pth_fwd, snr=2, n_trials=20)"
   ]
  },
  {
   "source": [
    "## Plot a simulated sample and the corresponding EEG"
   ],
   "cell_type": "markdown",
   "metadata": {}
  },
  {
   "cell_type": "code",
   "execution_count": null,
   "metadata": {},
   "outputs": [],
   "source": [
    "%matplotlib qt\n",
    "from ESINet.viz import parula\n",
    "sample = np.random.choice(np.arange(1000))\n",
    "title = f'Simulation {sample}'\n",
    "# Topographic plot\n",
    "eeg_sim[sample].average().plot_topomap(0.5, cmap=parula)\n",
    "# Source plot\n",
    "sources_sim.plot(hemi='both', initial_time=sample/100, surface='white', colormap=parula, title=title, time_viewer=False, backend='pyvista')"
   ]
  },
  {
   "source": [
    "## Load and train ConvDip with simulated data"
   ],
   "cell_type": "markdown",
   "metadata": {}
  },
  {
   "cell_type": "code",
   "execution_count": null,
   "metadata": {},
   "outputs": [],
   "source": [
    "# Find out input and output dimensions based on the shape of the leadfield \n",
    "input_dim, output_dim = load_leadfield(pth_fwd).shape\n",
    "# Initialize the artificial neural network model.\n",
    "model = get_model(input_dim, output_dim, n_layers=1, n_neurons=128)\n",
    "# Train the model\n",
    "model, history = train_model(model, sources_sim, eeg_sim, delta=1, )"
   ]
  },
  {
   "source": [
    "## Evaluate ConvDip\n",
    "Let's evaluate our model!"
   ],
   "cell_type": "markdown",
   "metadata": {}
  },
  {
   "cell_type": "code",
   "execution_count": null,
   "metadata": {},
   "outputs": [],
   "source": [
    "# Load some files from the forward model\n",
    "leadfield = load_leadfield(pth_fwd)\n",
    "info = load_info(pth_fwd)"
   ]
  },
  {
   "cell_type": "code",
   "execution_count": null,
   "metadata": {},
   "outputs": [],
   "source": [
    "import time\n",
    "%matplotlib qt\n",
    "\n",
    "# Simulate a brand new sample:\n",
    "sources_eval = run_simulations(pth_fwd, **settings)\n",
    "eeg_eval = create_eeg(sources_eval, pth_fwd)\n",
    "\n",
    "# Calculate the ERP (average across trials):\n",
    "eeg_sample = np.squeeze( eeg_eval )\n",
    "\n",
    "# Predict\n",
    "start = time.time()\n",
    "source_predicted = predict(model, eeg_sample, pth_fwd)\n",
    "end = time.time()\n",
    "\n",
    "# Visualize ground truth...\n",
    "title = f'Ground Truth'\n",
    "xx = sources_eval.plot(hemi='both', initial_time=0.5, surface='white', colormap=parula, title=title, time_viewer=False, backend='pyvista')\n",
    "\n",
    "# ... and prediction\n",
    "title = f'ConvDip Prediction'\n",
    "yy = source_predicted.plot(hemi='both', initial_time=0.5, surface='white', colormap=parula, title=title, time_viewer=False, backend='pyvista')\n",
    "\n",
    "# ... and the 'True' EEG topography\n",
    "title = f'Simulated EEG'\n",
    "eeg_eval[0].average().plot_topomap([0], title=title, cmap=parula)\n",
    "\n",
    "print(f'\\nInverse solution and pre- & postprocessing were calculated within {(end-start)*1000:.1f} ms')"
   ]
  },
  {
   "cell_type": "code",
   "execution_count": null,
   "metadata": {},
   "outputs": [],
   "source": []
  }
 ]
}