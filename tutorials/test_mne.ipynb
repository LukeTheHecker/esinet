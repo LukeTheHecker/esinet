{
 "metadata": {
  "language_info": {
   "codemirror_mode": {
    "name": "ipython",
    "version": 3
   },
   "file_extension": ".py",
   "mimetype": "text/x-python",
   "name": "python",
   "nbconvert_exporter": "python",
   "pygments_lexer": "ipython3",
   "version": "3.8.3"
  },
  "orig_nbformat": 4,
  "kernelspec": {
   "name": "python3",
   "display_name": "Python 3.8.3 64-bit ('esidev': conda)"
  },
  "interpreter": {
   "hash": "fd8f57747fa1ec5c69912589b6a0ece76e03150db5c8777db62b138d9f0380fd"
  }
 },
 "nbformat": 4,
 "nbformat_minor": 2,
 "cells": [
  {
   "cell_type": "code",
   "execution_count": null,
   "metadata": {},
   "outputs": [],
   "source": [
    "import mne\n",
    "import numpy as np\n",
    "import sys; sys.path.insert(0, '../')\n",
    "from ESINet import util\n",
    "from ESINet import simulations\n",
    "from ESINet import ann\n",
    "import os\n"
   ]
  },
  {
   "source": [
    "## Load some sample data"
   ],
   "cell_type": "markdown",
   "metadata": {}
  },
  {
   "cell_type": "code",
   "execution_count": null,
   "metadata": {},
   "outputs": [],
   "source": [
    "# pth_fwd = r'C:\\Users\\Lukas\\Documents\\projects\\ESINet\\tutorials\\forward_models\\ico3\\fsaverage-fwd.fif'\n",
    "# fwd = mne.read_forward_solution(pth_fwd, verbose=0)\n",
    "\n",
    "data_path = mne.datasets.brainstorm.bst_auditory.data_path()\n",
    "subject = 'bst_auditory'\n",
    "raw_fname1 = os.path.join(data_path, 'MEG', subject, 'S01_AEF_20131218_01.ds')\n",
    "raw = mne.io.read_raw_ctf(raw_fname1, preload=True, verbose=0)\n",
    "\n",
    "fwd_fname = os.path.join(data_path, 'MEG', 'bst_auditory',\n",
    "                        'bst_auditory-meg-oct-6-fwd.fif')\n",
    "fwd = mne.read_forward_solution(fwd_fname, verbose=0)\n",
    "\n"
   ]
  },
  {
   "source": [
    "## Simulate sources and corresponding EEG"
   ],
   "cell_type": "markdown",
   "metadata": {}
  },
  {
   "cell_type": "code",
   "execution_count": null,
   "metadata": {},
   "outputs": [],
   "source": [
    "%matplotlib qt\n",
    "raw.plot()\n",
    "print()"
   ]
  },
  {
   "source": [
    "## Plot Head model"
   ],
   "cell_type": "markdown",
   "metadata": {}
  },
  {
   "cell_type": "code",
   "execution_count": null,
   "metadata": {},
   "outputs": [],
   "source": [
    "subject = 'fsaverage'\n",
    "src = r\"C:\\Users\\Lukas\\mne_data\\MNE-fsaverage-data\\fsaverage\\bem\\fsaverage-ico-5-src.fif\"\n",
    "mne.viz.plot_alignment(\n",
    "    raw.info, src=src, show_axes=True, mri_fiducials=True, dig='fiducials', trans='fsaverage', surfaces=['white', 'head'])#, subject='fsaverage')"
   ]
  },
  {
   "source": [
    "## Simulate"
   ],
   "cell_type": "markdown",
   "metadata": {}
  },
  {
   "cell_type": "code",
   "execution_count": null,
   "metadata": {},
   "outputs": [],
   "source": [
    "from copy import deepcopy\n",
    "\n",
    "raw_stripped = deepcopy(raw)\n",
    "raw_stripped.pick_channels(fwd.ch_names, ordered=True)\n",
    "\n",
    "source_simulations = simulations.run_simulations(fwd, n_simulations=100000, regionGrowing=False, durOfTrial=0, extents=(2, 40))\n",
    "# source_simulations.data[np.isnan(source_simulations.data)] = 0\n",
    "eeg_simulations = simulations.create_eeg(source_simulations, fwd, raw_stripped.info)"
   ]
  },
  {
   "source": [
    "## Create and train neural network model \n",
    "...using tensorflow.keras"
   ],
   "cell_type": "markdown",
   "metadata": {}
  },
  {
   "cell_type": "code",
   "execution_count": null,
   "metadata": {},
   "outputs": [],
   "source": [
    "# Find out input and output dimensions based on the shape of the leadfield \n",
    "input_dim, output_dim = util.unpack_fwd(fwd)[1].shape\n",
    "# Initialize the artificial neural network model.\n",
    "model = ann.get_model(input_dim, output_dim, n_layers=1, n_neurons=64)\n",
    "# Train the model\n",
    "model, history = ann.train_model(model, source_simulations, eeg_simulations, delta=0.25, )"
   ]
  },
  {
   "cell_type": "code",
   "execution_count": null,
   "metadata": {},
   "outputs": [],
   "source": [
    "source_simulations.plot(time_viewer=True, hemi='both', surface='white')\n",
    "# source_simulations.times"
   ]
  },
  {
   "source": [
    "## Predict"
   ],
   "cell_type": "markdown",
   "metadata": {}
  },
  {
   "cell_type": "code",
   "execution_count": null,
   "metadata": {},
   "outputs": [],
   "source": [
    "idx = 0\n",
    "stc = ann.predict(model, eeg_simulations[idx], fwd)\n",
    "a = stc.plot(surface='white', hemi='both', time_viewer=True)\n",
    "b = source_simulations.plot(surface='white', hemi='both', time_viewer=True, initial_time=source_simulations.times[idx])\n",
    "mne.viz.plot_topomap(eeg_simulations[idx].get_data()[0, :, 0], raw_stripped.info, )"
   ]
  },
  {
   "cell_type": "code",
   "execution_count": null,
   "metadata": {},
   "outputs": [],
   "source": [
    "mne.viz.plot_topomap(eeg_simulations[idx].get_data()[0, :, 0], raw_stripped.info, )"
   ]
  },
  {
   "cell_type": "code",
   "execution_count": null,
   "metadata": {},
   "outputs": [],
   "source": [
    "eeg_simulations[idx].get_data().shape"
   ]
  },
  {
   "cell_type": "code",
   "execution_count": null,
   "metadata": {},
   "outputs": [],
   "source": [
    "1+1"
   ]
  },
  {
   "cell_type": "code",
   "execution_count": null,
   "metadata": {},
   "outputs": [],
   "source": []
  }
 ]
}