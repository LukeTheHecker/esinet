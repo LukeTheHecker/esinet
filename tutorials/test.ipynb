{
 "cells": [
  {
   "cell_type": "code",
   "execution_count": 38,
   "source": [
    "import os.path as op\r\n",
    "\r\n",
    "import numpy as np\r\n",
    "import matplotlib.pyplot as plt\r\n",
    "\r\n",
    "import mne\r\n",
    "from mne.datasets import sample\r\n",
    "from mne.minimum_norm import make_inverse_operator, apply_inverse"
   ],
   "outputs": [],
   "metadata": {}
  },
  {
   "cell_type": "code",
   "execution_count": 39,
   "source": [
    "data_path = sample.data_path()\r\n",
    "raw_fname = op.join(data_path, 'MEG', 'sample',\r\n",
    "                    'sample_audvis_filt-0-40_raw.fif')\r\n",
    "\r\n",
    "raw = mne.io.read_raw_fif(raw_fname)  # already has an average reference\r\n",
    "events = mne.find_events(raw, stim_channel='STI 014')\r\n",
    "\r\n",
    "event_id = dict(aud_l=1)  # event trigger and conditions\r\n",
    "tmin = -0.2  # start of each epoch (200ms before the trigger)\r\n",
    "tmax = 0.5  # end of each epoch (500ms after the trigger)\r\n",
    "raw.info['bads'] = ['MEG 2443', 'EEG 053']\r\n",
    "baseline = (None, 0)  # means from the first instant to t = 0\r\n",
    "reject = dict(grad=4000e-13, mag=4e-12, eog=150e-6)\r\n",
    "\r\n",
    "epochs = mne.Epochs(raw, events, event_id, tmin, tmax, proj=True,\r\n",
    "                    picks=('meg', 'eog'), baseline=baseline, reject=reject)"
   ],
   "outputs": [
    {
     "output_type": "stream",
     "name": "stdout",
     "text": [
      "Opening raw data file C:\\Users\\lukas\\mne_data\\MNE-sample-data\\MEG\\sample\\sample_audvis_filt-0-40_raw.fif...\n",
      "    Read a total of 4 projection items:\n",
      "        PCA-v1 (1 x 102)  idle\n",
      "        PCA-v2 (1 x 102)  idle\n",
      "        PCA-v3 (1 x 102)  idle\n",
      "        Average EEG reference (1 x 60)  idle\n",
      "    Range : 6450 ... 48149 =     42.956 ...   320.665 secs\n",
      "Ready.\n",
      "319 events found\n",
      "Event IDs: [ 1  2  3  4  5 32]\n",
      "Not setting metadata\n",
      "Not setting metadata\n",
      "72 matching events found\n",
      "Setting baseline interval to [-0.19979521315838786, 0.0] sec\n",
      "Applying baseline correction (mode: mean)\n",
      "Created an SSP operator (subspace dimension = 3)\n",
      "4 projection items activated\n"
     ]
    }
   ],
   "metadata": {}
  },
  {
   "cell_type": "code",
   "execution_count": 40,
   "source": [
    "noise_cov = mne.compute_covariance(\r\n",
    "    epochs, tmax=0., method=['shrunk', 'empirical'], rank=None, verbose=True)\r\n",
    "\r\n",
    "evoked = epochs.average().pick('meg')"
   ],
   "outputs": [
    {
     "output_type": "stream",
     "name": "stdout",
     "text": [
      "Loading data for 72 events and 106 original time points ...\n",
      "    Rejecting  epoch based on EOG : ['EOG 061']\n",
      "    Rejecting  epoch based on EOG : ['EOG 061']\n",
      "    Rejecting  epoch based on EOG : ['EOG 061']\n",
      "    Rejecting  epoch based on EOG : ['EOG 061']\n",
      "    Rejecting  epoch based on EOG : ['EOG 061']\n",
      "    Rejecting  epoch based on MAG : ['MEG 1711']\n",
      "    Rejecting  epoch based on EOG : ['EOG 061']\n",
      "    Rejecting  epoch based on EOG : ['EOG 061']\n",
      "    Rejecting  epoch based on EOG : ['EOG 061']\n",
      "    Rejecting  epoch based on EOG : ['EOG 061']\n",
      "    Rejecting  epoch based on EOG : ['EOG 061']\n",
      "    Rejecting  epoch based on EOG : ['EOG 061']\n",
      "    Rejecting  epoch based on EOG : ['EOG 061']\n",
      "    Rejecting  epoch based on EOG : ['EOG 061']\n",
      "    Rejecting  epoch based on EOG : ['EOG 061']\n",
      "    Rejecting  epoch based on EOG : ['EOG 061']\n",
      "    Rejecting  epoch based on EOG : ['EOG 061']\n",
      "17 bad epochs dropped\n",
      "Computing rank from data with rank=None\n",
      "    Using tolerance 2.8e-09 (2.2e-16 eps * 305 dim * 4.2e+04  max singular value)\n",
      "    Estimated rank (mag + grad): 302\n",
      "    MEG: rank 302 computed from 305 data channels with 3 projectors\n",
      "    Created an SSP operator (subspace dimension = 3)\n",
      "    Setting small MEG eigenvalues to zero (without PCA)\n",
      "Reducing data rank from 305 -> 302\n",
      "Estimating covariance using SHRUNK\n",
      "Done.\n",
      "Estimating covariance using EMPIRICAL\n",
      "Done.\n",
      "Using cross-validation to select the best estimator.\n",
      "Number of samples used : 1705\n",
      "log-likelihood on unseen data (descending order):\n",
      "   shrunk: -1466.508\n",
      "   empirical: -1574.608\n",
      "selecting best estimator: shrunk\n",
      "[done]\n",
      "Removing projector <Projection | Average EEG reference, active : True, n_channels : 60>\n"
     ]
    }
   ],
   "metadata": {}
  },
  {
   "cell_type": "code",
   "execution_count": 41,
   "source": [
    "fname_fwd = data_path + '/MEG/sample/sample_audvis-meg-oct-6-fwd.fif'\r\n",
    "fwd = mne.read_forward_solution(fname_fwd)"
   ],
   "outputs": [
    {
     "output_type": "stream",
     "name": "stdout",
     "text": [
      "Reading forward solution from C:\\Users\\lukas\\mne_data\\MNE-sample-data/MEG/sample/sample_audvis-meg-oct-6-fwd.fif...\n",
      "    Reading a source space...\n",
      "    Computing patch statistics...\n",
      "    Patch information added...\n",
      "    Distance information added...\n",
      "    [done]\n",
      "    Reading a source space...\n",
      "    Computing patch statistics...\n",
      "    Patch information added...\n",
      "    Distance information added...\n",
      "    [done]\n",
      "    2 source spaces read\n",
      "    Desired named matrix (kind = 3523) not available\n",
      "    Read MEG forward solution (7498 sources, 306 channels, free orientations)\n",
      "    Source spaces transformed to the forward solution coordinate frame\n"
     ]
    }
   ],
   "metadata": {}
  },
  {
   "cell_type": "code",
   "execution_count": 42,
   "source": [
    "inverse_operator = make_inverse_operator(\r\n",
    "    evoked.info, fwd, noise_cov, loose=0.2, depth=0.8)"
   ],
   "outputs": [
    {
     "output_type": "stream",
     "name": "stdout",
     "text": [
      "Converting forward solution to surface orientation\n",
      "    Average patch normals will be employed in the rotation to the local surface coordinates....\n",
      "    Converting to surface-based source orientations...\n",
      "    [done]\n",
      "info[\"bads\"] and noise_cov[\"bads\"] do not match, excluding bad channels from both\n",
      "Computing inverse operator with 305 channels.\n",
      "    305 out of 306 channels remain after picking\n",
      "Selected 305 channels\n",
      "Creating the depth weighting matrix...\n",
      "    203 planar channels\n",
      "    limit = 7265/7498 = 10.037795\n",
      "    scale = 2.52065e-08 exp = 0.8\n",
      "Applying loose dipole orientations to surface source spaces: 0.2\n",
      "Whitening the forward solution.\n",
      "    Created an SSP operator (subspace dimension = 3)\n",
      "Computing rank from covariance with rank=None\n",
      "    Using tolerance 2.9e-13 (2.2e-16 eps * 305 dim * 4.2  max singular value)\n",
      "    Estimated rank (mag + grad): 302\n",
      "    MEG: rank 302 computed from 305 data channels with 3 projectors\n",
      "    Setting small MEG eigenvalues to zero (without PCA)\n",
      "Creating the source covariance matrix\n",
      "Adjusting source covariance matrix.\n",
      "Computing SVD of whitened and weighted lead field matrix.\n",
      "    largest singular value = 4.69511\n",
      "    scaling factor to adjust the trace = 8.81035e+18 (nchan = 305 nzero = 3)\n"
     ]
    }
   ],
   "metadata": {}
  },
  {
   "cell_type": "code",
   "execution_count": 43,
   "source": [
    "method = \"dSPM\"\r\n",
    "snr = 3.\r\n",
    "lambda2 = 1. / snr ** 2\r\n",
    "stc, residual = apply_inverse(evoked, inverse_operator, lambda2,\r\n",
    "                              method=method, pick_ori=None,\r\n",
    "                              return_residual=True, verbose=True)"
   ],
   "outputs": [
    {
     "output_type": "stream",
     "name": "stdout",
     "text": [
      "Preparing the inverse operator for use...\n",
      "    Scaled noise and source covariance from nave = 1 to nave = 55\n",
      "    Created the regularized inverter\n",
      "    Created an SSP operator (subspace dimension = 3)\n",
      "    Created the whitener using a noise covariance matrix with rank 302 (3 small eigenvalues omitted)\n",
      "    Computing noise-normalization factors (dSPM)...\n",
      "[done]\n",
      "Applying inverse operator to \"aud_l\"...\n",
      "    Picked 305 channels from the data\n",
      "    Computing inverse...\n",
      "    Eigenleads need to be weighted ...\n",
      "    Computing residual...\n",
      "    Explained  66.0% variance\n",
      "    Combining the current components...\n",
      "    dSPM...\n",
      "[done]\n"
     ]
    }
   ],
   "metadata": {}
  },
  {
   "cell_type": "code",
   "execution_count": 47,
   "source": [
    "vertno_max, time_max = stc.get_peak(hemi='rh')\r\n",
    "\r\n",
    "subjects_dir = data_path + '/subjects'\r\n",
    "surfer_kwargs = dict(\r\n",
    "    hemi='rh', subjects_dir=subjects_dir,\r\n",
    "    clim=dict(kind='value', lims=[8, 12, 15]), views='lateral',\r\n",
    "    initial_time=time_max, time_unit='s', size=(800, 800), smoothing_steps=10)\r\n",
    "brain = stc.plot(**surfer_kwargs)\r\n",
    "# brain.add_foci(vertno_max, coords_as_verts=True, hemi='rh', color='blue',\r\n",
    "#                scale_factor=0.6, alpha=0.5)\r\n",
    "# brain.add_text(0.1, 0.9, 'dSPM (plus location of maximal activation)', 'title',\r\n",
    "#                font_size=14)\r\n"
   ],
   "outputs": [],
   "metadata": {}
  },
  {
   "cell_type": "code",
   "execution_count": 46,
   "source": [
    "plot_params = dict(surface='white', hemi='both', verbose=0)\r\n",
    "stc.plot(**plot_params)"
   ],
   "outputs": [
    {
     "output_type": "execute_result",
     "data": {
      "text/plain": [
       "<mne.viz._brain._brain.Brain at 0x21de75c1b80>"
      ]
     },
     "metadata": {},
     "execution_count": 46
    },
    {
     "output_type": "stream",
     "name": "stderr",
     "text": [
      "WARNING:root:Encountered issue in callback (most recent call last):\n",
      "  File \"C:\\Users\\lukas\\virtualenvs\\esienv\\lib\\site-packages\\mne\\viz\\_brain\\_brain.py\", line 1348, in _on_button_release\n",
      "    self.picked_renderer = self.plotter.iren.FindPokedRenderer(x, y)\n",
      "AttributeError: 'RenderWindowInteractor' object has no attribute 'FindPokedRenderer'\n"
     ]
    },
    {
     "output_type": "stream",
     "name": "stdout",
     "text": [
      "Using control points [1.65142147 1.80143692 3.0826438 ]\n"
     ]
    },
    {
     "output_type": "stream",
     "name": "stderr",
     "text": [
      "WARNING:root:Encountered issue in callback (most recent call last):\n",
      "  File \"C:\\Users\\lukas\\virtualenvs\\esienv\\lib\\site-packages\\mne\\viz\\_brain\\_brain.py\", line 1348, in _on_button_release\n",
      "    self.picked_renderer = self.plotter.iren.FindPokedRenderer(x, y)\n",
      "AttributeError: 'RenderWindowInteractor' object has no attribute 'FindPokedRenderer'\n"
     ]
    }
   ],
   "metadata": {}
  },
  {
   "cell_type": "code",
   "execution_count": null,
   "source": [],
   "outputs": [],
   "metadata": {}
  }
 ],
 "metadata": {
  "orig_nbformat": 4,
  "language_info": {
   "name": "python",
   "version": "3.8.10",
   "mimetype": "text/x-python",
   "codemirror_mode": {
    "name": "ipython",
    "version": 3
   },
   "pygments_lexer": "ipython3",
   "nbconvert_exporter": "python",
   "file_extension": ".py"
  },
  "kernelspec": {
   "name": "python3",
   "display_name": "Python 3.8.10 64-bit ('esienv': virtualenvwrapper)"
  },
  "interpreter": {
   "hash": "8292a7c1b71beb25883e5d3de4479593a27229e31834907607dc8a0d6e7b1899"
  }
 },
 "nbformat": 4,
 "nbformat_minor": 2
}