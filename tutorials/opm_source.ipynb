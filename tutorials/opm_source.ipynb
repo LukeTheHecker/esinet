{
  "cells": [
    {
      "cell_type": "markdown",
      "metadata": {},
      "source": [
        "Note: This code was copied from [mne.tools](https://mne.tools) and extended to include source analysis using an LSTM network.\n",
        "\n",
        "# Optically pumped magnetometer (OPM) data\n",
        "\n",
        "In this dataset, electrical median nerve stimulation was delivered to the\n",
        "left wrist of the subject. Somatosensory evoked fields were measured using\n",
        "nine QuSpin SERF OPMs placed over the right-hand side somatomotor area. Here\n",
        "we demonstrate how to localize these custom OPM data in MNE.\n"
      ]
    },
    {
      "cell_type": "code",
      "execution_count": null,
      "metadata": {
        "collapsed": false
      },
      "outputs": [],
      "source": [
        "import os.path as op\n",
        "\n",
        "import numpy as np\n",
        "import mne\n",
        "# !pip install esinet\n",
        "%matplotlib inline\n",
        "\n",
        "data_path = mne.datasets.opm.data_path()\n",
        "subject = 'OPM_sample'\n",
        "subjects_dir = op.join(data_path, 'subjects')\n",
        "raw_fname = op.join(data_path, 'MEG', 'OPM', 'OPM_SEF_raw.fif')\n",
        "bem_fname = op.join(subjects_dir, subject, 'bem',\n",
        "                    subject + '-5120-5120-5120-bem-sol.fif')\n",
        "fwd_fname = op.join(data_path, 'MEG', 'OPM', 'OPM_sample-fwd.fif')\n",
        "coil_def_fname = op.join(data_path, 'MEG', 'OPM', 'coil_def.dat')"
      ]
    },
    {
      "cell_type": "markdown",
      "metadata": {},
      "source": [
        "## Prepare data for localization\n",
        "First we filter and epoch the data:\n",
        "\n"
      ]
    },
    {
      "cell_type": "code",
      "execution_count": null,
      "metadata": {
        "collapsed": false
      },
      "outputs": [],
      "source": [
        "raw = mne.io.read_raw_fif(raw_fname, preload=True)\n",
        "raw.filter(None, 90, h_trans_bandwidth=10.)\n",
        "raw.notch_filter(50., notch_widths=1)\n",
        "\n",
        "\n",
        "# Set epoch rejection threshold a bit larger than for SQUIDs\n",
        "reject = dict(mag=2e-10)\n",
        "tmin, tmax = -0.5, 1\n",
        "\n",
        "# Find median nerve stimulator trigger\n",
        "event_id = dict(Median=257)\n",
        "events = mne.find_events(raw, stim_channel='STI101', mask=257, mask_type='and')\n",
        "picks = mne.pick_types(raw.info, meg=True, eeg=False)\n",
        "# We use verbose='error' to suppress warning about decimation causing aliasing,\n",
        "# ideally we would low-pass and then decimate instead\n",
        "epochs = mne.Epochs(raw, events, event_id, tmin, tmax, verbose='error',\n",
        "                    reject=reject, picks=picks, proj=False, decim=10,\n",
        "                    preload=True)\n",
        "evoked = epochs.average()\n",
        "evoked.plot()\n",
        "cov = mne.compute_covariance(epochs, tmax=0.)\n",
        "# del epochs, raw"
      ]
    },
    {
      "cell_type": "markdown",
      "metadata": {},
      "source": [
        "Examine our coordinate alignment for source localization and compute a\n",
        "forward operator:\n",
        "\n",
        "<div class=\"alert alert-info\"><h4>Note</h4><p>The Head<->MRI transform is an identity matrix, as the\n",
        "          co-registration method used equates the two coordinate\n",
        "          systems. This mis-defines the head coordinate system\n",
        "          (which should be based on the LPA, Nasion, and RPA)\n",
        "          but should be fine for these analyses.</p></div>\n",
        "\n"
      ]
    },
    {
      "cell_type": "code",
      "execution_count": null,
      "metadata": {
        "collapsed": false
      },
      "outputs": [],
      "source": [
        "bem = mne.read_bem_solution(bem_fname)\n",
        "trans = mne.transforms.Transform('head', 'mri')  # identity transformation\n",
        "\n",
        "src = mne.setup_source_space(subject, spacing='ico3', surface='white',\n",
        "                                        subjects_dir=subjects_dir, add_dist=False,\n",
        "                                        n_jobs=-1, verbose=0)\n",
        "# To compute the forward solution, we must\n",
        "# provide our temporary/custom coil definitions, which can be done as::\n",
        "#\n",
        "with mne.use_coil_def(coil_def_fname):\n",
        "    fwd = mne.make_forward_solution(\n",
        "        raw.info, trans, src, bem, eeg=False, mindist=5.0,\n",
        "        n_jobs=1, verbose=True)\n",
        "\n",
        "# fwd = mne.read_forward_solution(fwd_fname)\n",
        "# use fixed orientation here just to save memory later\n",
        "mne.convert_forward_solution(fwd, force_fixed=True, copy=False)\n",
        "\n",
        "with mne.use_coil_def(coil_def_fname):\n",
        "    fig = mne.viz.plot_alignment(evoked.info, trans=trans, subject=subject,\n",
        "                                 subjects_dir=subjects_dir,\n",
        "                                 surfaces=('head', 'pial'), bem=bem)\n",
        "\n",
        "mne.viz.set_3d_view(figure=fig, azimuth=45, elevation=60, distance=0.4,\n",
        "                    focalpoint=(0.02, 0, 0.04))"
      ]
    },
    {
      "cell_type": "markdown",
      "metadata": {},
      "source": [
        "## Perform dipole fitting\n",
        "\n"
      ]
    },
    {
      "cell_type": "code",
      "execution_count": null,
      "metadata": {
        "collapsed": false
      },
      "outputs": [],
      "source": [
        "# Fit dipoles on a subset of time points\n",
        "with mne.use_coil_def(coil_def_fname):\n",
        "    dip_opm, _ = mne.fit_dipole(evoked.copy().crop(0.040, 0.080),\n",
        "                                cov, bem, trans, verbose=True)\n",
        "idx = np.argmax(dip_opm.gof)\n",
        "print('Best dipole at t=%0.1f ms with %0.1f%% GOF'\n",
        "      % (1000 * dip_opm.times[idx], dip_opm.gof[idx]))\n",
        "\n",
        "# Plot N20m dipole as an example\n",
        "dip_opm.plot_locations(trans, subject, subjects_dir,\n",
        "                       mode='orthoview', idx=idx)"
      ]
    },
    {
      "cell_type": "markdown",
      "metadata": {},
      "source": [
        "## Perform minimum-norm localization\n",
        "Due to the small number of sensors, there will be some leakage of activity\n",
        "to areas with low/no sensitivity. Constraining the source space to\n",
        "areas we are sensitive to might be a good idea.\n",
        "\n"
      ]
    },
    {
      "cell_type": "code",
      "execution_count": null,
      "metadata": {
        "collapsed": false
      },
      "outputs": [],
      "source": [
        "inverse_operator = mne.minimum_norm.make_inverse_operator(\n",
        "    evoked.info, fwd, cov, loose=0., depth=None)\n",
        "\n",
        "method = \"MNE\"\n",
        "snr = 3.\n",
        "lambda2 = 1. / snr ** 2\n",
        "initial_time = evoked.times[np.argmax(evoked._data.std(axis=0))]\n",
        "stc = mne.minimum_norm.apply_inverse(\n",
        "    evoked, inverse_operator, lambda2, method=method,\n",
        "    pick_ori=None, verbose=True)\n",
        "\n",
        "# Plot source estimate at time of best dipole fit\n",
        "brain = stc.plot(hemi='rh', views='lat', subjects_dir=subjects_dir,\n",
        "                 initial_time=initial_time,\n",
        "                 clim=dict(kind='percent', lims=[99, 99.9, 99.99]),\n",
        "                 size=(400, 300), background='w')"
      ]
    },
    {
      "cell_type": "markdown",
      "metadata": {},
      "source": [
        "---\n",
        "# Use ANNs"
      ]
    },
    {
      "cell_type": "markdown",
      "metadata": {},
      "source": [
        "## Simulate and train\n",
        "\n",
        "Increase the number of simulations and epochs for better results!"
      ]
    },
    {
      "cell_type": "code",
      "execution_count": null,
      "metadata": {},
      "outputs": [],
      "source": [
        "import sys; sys.path.insert(0, '../')\n",
        "from esinet.simulation import Simulation\n",
        "from esinet.net import Net\n",
        "\n",
        "mne.set_config('SUBJECTS_DIR', subjects_dir)\n",
        "model_type = 'LSTM'  # can be 'FC' or 'ConvDip', too\n",
        "\n",
        "sim = Simulation(fwd, epochs.info).simulate(1000)  # simulate some source & EEG data data\n",
        "net = Net(fwd, model_type=model_type)  # create neural nework object\n",
        "net.fit(sim, epochs=10)  # train the neural network with only few epochs"
      ]
    },
    {
      "cell_type": "markdown",
      "metadata": {},
      "source": [
        "## Predict and Visualize"
      ]
    },
    {
      "cell_type": "code",
      "execution_count": null,
      "metadata": {},
      "outputs": [],
      "source": [
        "stc_lstm = net.predict(evoked)[0]\n",
        "\n",
        "# Plot source estimate at time of best dipole fit\n",
        "brain = stc_lstm.plot(hemi='rh', views='lat', subjects_dir=subjects_dir,\n",
        "                 initial_time=0,\n",
        "                 clim=dict(kind='percent', lims=[99, 99.9, 99.99]),\n",
        "                 size=(400, 300), background='w')"
      ]
    },
    {
      "cell_type": "code",
      "execution_count": null,
      "metadata": {},
      "outputs": [],
      "source": [
        "import sys; sys.path.insert(0, '../')\n",
        "import mne\n",
        "\n",
        "from esinet import Simulation, Net\n",
        "from esinet.forward import create_forward_model, get_info\n",
        "\n",
        "# Create Forward Model\n",
        "info = get_info()\n",
        "fwd = create_forward_model(info=info, sampling='ico2')\n",
        "\n",
        "# Simulate M/EEG data\n",
        "settings = dict(duration_of_trial=0.1)\n",
        "sim = Simulation(fwd, info, settings=settings)\n",
        "sim.simulate(n_samples=200)\n",
        "\n",
        "# Train neural network (LSTM) on the simulated data\n",
        "net = Net(fwd)\n",
        "net.fit(sim)\n",
        "\n",
        "stc = net.predict(sim)[0]\n",
        "sim.source_data[0].plot()\n",
        "stc.plot()\n"
      ]
    },
    {
      "cell_type": "code",
      "execution_count": null,
      "metadata": {},
      "outputs": [],
      "source": []
    }
  ],
  "metadata": {
    "kernelspec": {
      "display_name": "Python 3",
      "language": "python",
      "name": "python3"
    },
    "language_info": {
      "codemirror_mode": {
        "name": "ipython",
        "version": 3
      },
      "file_extension": ".py",
      "mimetype": "text/x-python",
      "name": "python",
      "nbconvert_exporter": "python",
      "pygments_lexer": "ipython3",
      "version": "3.8.10"
    }
  },
  "nbformat": 4,
  "nbformat_minor": 0
}
