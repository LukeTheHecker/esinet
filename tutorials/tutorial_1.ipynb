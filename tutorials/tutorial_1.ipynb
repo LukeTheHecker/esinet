{
 "cells": [
  {
   "cell_type": "markdown",
   "metadata": {},
   "source": [
    "# Tutorial 1: Beginner level\n",
    "This tutorial presents the fastest way to calculate inverse solutions using esinet. Please make sure to also visit Tutorial 2, as it clarifies many of the processes running in the dark and fosters understanding of the parameters."
   ]
  },
  {
   "cell_type": "code",
   "execution_count": null,
   "metadata": {},
   "outputs": [],
   "source": [
    "%matplotlib inline\n",
    "%load_ext autoreload\n",
    "%autoreload 2\n",
    "\n",
    "import mne\n",
    "import numpy as np\n",
    "from copy import deepcopy\n",
    "import sys; sys.path.insert(0, '../')\n",
    "from esinet import util\n",
    "from esinet.simulation import Simulation\n",
    "from esinet.net import Net\n",
    "import os\n",
    "\n",
    "plot_params = dict(surface='white', hemi='both', verbose=0)"
   ]
  },
  {
   "cell_type": "markdown",
   "metadata": {},
   "source": [
    "## Load the data\n",
    "Just as in the [mne-python tutorial](https://mne.tools/stable/auto_tutorials/inverse/30_mne_dspm_loreta.html) we have to load some sample data first"
   ]
  },
  {
   "cell_type": "code",
   "execution_count": null,
   "metadata": {},
   "outputs": [],
   "source": [
    "data_path = mne.datasets.sample.data_path()\n",
    "raw_fname = os.path.join(data_path, 'MEG', 'sample',\n",
    "                    'sample_audvis_filt-0-40_raw.fif')\n",
    "\n",
    "raw = mne.io.read_raw_fif(raw_fname, verbose=0)  # already has an average reference\n",
    "events = mne.find_events(raw, stim_channel='STI 014', verbose=0)\n",
    "\n",
    "event_id = dict(aud_l=1)  # event trigger and conditions\n",
    "tmin = -0.2  # start of each epoch (200ms before the trigger)\n",
    "tmax = 0.5  # end of each epoch (500ms after the trigger)\n",
    "raw.info['bads'] = ['MEG 2443', 'EEG 053']\n",
    "baseline = (None, 0)  # means from the first instant to t = 0\n",
    "reject = dict(grad=4000e-13, mag=4e-12, eog=150e-6)\n",
    "\n",
    "epochs = mne.Epochs(raw, events, event_id, tmin, tmax, proj=True,\n",
    "                    picks=('meg', 'eog'), baseline=baseline, reject=reject,\n",
    "                    verbose=0)\n",
    "\n",
    "fname_fwd = data_path + '/MEG/sample/sample_audvis-meg-oct-6-fwd.fif'\n",
    "fwd = mne.read_forward_solution(fname_fwd, verbose=0)\n",
    "\n",
    "\n",
    "epochs_stripped = epochs.copy().load_data().pick_types(meg=True)\n",
    "fwd = fwd.pick_channels(epochs_stripped.ch_names)\n",
    "fwd = mne.convert_forward_solution(fwd, surf_ori=True, force_fixed=True,\n",
    "                                                    use_cps=True, verbose=0)"
   ]
  },
  {
   "cell_type": "markdown",
   "metadata": {},
   "source": [
    "## Visualize the sample data"
   ]
  },
  {
   "cell_type": "code",
   "execution_count": null,
   "metadata": {},
   "outputs": [],
   "source": [
    "epochs.average().plot(verbose=0)"
   ]
  },
  {
   "cell_type": "markdown",
   "metadata": {},
   "source": [
    "# Calculate the sources\n",
    "You can use the simple wrapper function \"calculate_source\" to quickly perform \n",
    "all steps in one go!"
   ]
  },
  {
   "cell_type": "code",
   "execution_count": null,
   "metadata": {},
   "outputs": [],
   "source": [
    "from esinet.util import calculate_source\n",
    "source_estimate = calculate_source(epochs.average(), fwd, batch_size=8, n_samples=int(1e3))"
   ]
  },
  {
   "cell_type": "markdown",
   "metadata": {},
   "source": [
    "# Plot the result"
   ]
  },
  {
   "cell_type": "code",
   "execution_count": null,
   "metadata": {},
   "outputs": [],
   "source": [
    "source_estimate[0].plot(**plot_params)"
   ]
  },
  {
   "cell_type": "code",
   "execution_count": null,
   "metadata": {},
   "outputs": [],
   "source": []
  }
 ],
 "metadata": {
  "interpreter": {
   "hash": "8292a7c1b71beb25883e5d3de4479593a27229e31834907607dc8a0d6e7b1899"
  },
  "kernelspec": {
   "display_name": "Python 3.8.10 64-bit ('esienv': virtualenv)",
   "name": "python3"
  },
  "language_info": {
   "codemirror_mode": {
    "name": "ipython",
    "version": 3
   },
   "file_extension": ".py",
   "mimetype": "text/x-python",
   "name": "python",
   "nbconvert_exporter": "python",
   "pygments_lexer": "ipython3",
   "version": "3.8.10"
  },
  "orig_nbformat": 4
 },
 "nbformat": 4,
 "nbformat_minor": 2
}
