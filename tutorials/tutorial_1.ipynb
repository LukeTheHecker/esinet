{
 "cells": [
  {
   "cell_type": "markdown",
   "source": [
    "# Tutorial 1: Beginner level\r\n",
    "This tutorial presents the fastest way to calculate inverse solutions using esinet. Please make sure to also visit Tutorial 2, as it clarifies many of the processes running in the dark and fosters understanding of the parameters."
   ],
   "metadata": {}
  },
  {
   "cell_type": "code",
   "execution_count": null,
   "source": [
    "%matplotlib inline\r\n",
    "%load_ext autoreload\r\n",
    "%autoreload 2\r\n",
    "\r\n",
    "import mne\r\n",
    "import numpy as np\r\n",
    "from copy import deepcopy\r\n",
    "import sys; sys.path.insert(0, '../')\r\n",
    "from esinet import util\r\n",
    "from esinet.simulation import Simulation\r\n",
    "from esinet.net import Net\r\n",
    "import os\r\n",
    "\r\n",
    "plot_params = dict(surface='white', hemi='both', verbose=0)"
   ],
   "outputs": [],
   "metadata": {}
  },
  {
   "cell_type": "markdown",
   "source": [
    "## Load the data\r\n",
    "Just as in the [mne-python tutorial](https://mne.tools/stable/auto_tutorials/inverse/30_mne_dspm_loreta.html) we have to load some sample data first"
   ],
   "metadata": {}
  },
  {
   "cell_type": "code",
   "execution_count": null,
   "source": [
    "data_path = mne.datasets.sample.data_path()\r\n",
    "raw_fname = os.path.join(data_path, 'MEG', 'sample',\r\n",
    "                    'sample_audvis_filt-0-40_raw.fif')\r\n",
    "\r\n",
    "raw = mne.io.read_raw_fif(raw_fname, verbose=0)  # already has an average reference\r\n",
    "events = mne.find_events(raw, stim_channel='STI 014', verbose=0)\r\n",
    "\r\n",
    "event_id = dict(aud_l=1)  # event trigger and conditions\r\n",
    "tmin = -0.2  # start of each epoch (200ms before the trigger)\r\n",
    "tmax = 0.5  # end of each epoch (500ms after the trigger)\r\n",
    "raw.info['bads'] = ['MEG 2443', 'EEG 053']\r\n",
    "baseline = (None, 0)  # means from the first instant to t = 0\r\n",
    "reject = dict(grad=4000e-13, mag=4e-12, eog=150e-6)\r\n",
    "\r\n",
    "epochs = mne.Epochs(raw, events, event_id, tmin, tmax, proj=True,\r\n",
    "                    picks=('meg', 'eog'), baseline=baseline, reject=reject,\r\n",
    "                    verbose=0)\r\n",
    "\r\n",
    "fname_fwd = data_path + '/MEG/sample/sample_audvis-meg-oct-6-fwd.fif'\r\n",
    "fwd = mne.read_forward_solution(fname_fwd, verbose=0)\r\n",
    "\r\n",
    "\r\n",
    "epochs_stripped = epochs.copy().load_data().pick_types(meg=True)\r\n",
    "fwd = fwd.pick_channels(epochs_stripped.ch_names)\r\n",
    "fwd = mne.convert_forward_solution(fwd, surf_ori=True, force_fixed=True,\r\n",
    "                                                    use_cps=True, verbose=0)"
   ],
   "outputs": [],
   "metadata": {}
  },
  {
   "cell_type": "markdown",
   "source": [
    "## Visualize the sample data"
   ],
   "metadata": {}
  },
  {
   "cell_type": "code",
   "execution_count": null,
   "source": [
    "epochs.average().plot(verbose=0)"
   ],
   "outputs": [],
   "metadata": {}
  },
  {
   "cell_type": "markdown",
   "source": [
    "# Calculate the sources\r\n",
    "You can use the simple wrapper function \"calculate_source\" to quickly perform \r\n",
    "all steps in one go!"
   ],
   "metadata": {}
  },
  {
   "cell_type": "code",
   "execution_count": null,
   "source": [
    "from esinet.util import calculate_source\r\n",
    "source_estimate = calculate_source(epochs.average(), fwd)"
   ],
   "outputs": [],
   "metadata": {}
  },
  {
   "cell_type": "markdown",
   "source": [
    "# Plot the result"
   ],
   "metadata": {}
  },
  {
   "cell_type": "code",
   "execution_count": null,
   "source": [
    "source_estimate.plot(**plot_params)"
   ],
   "outputs": [],
   "metadata": {}
  }
 ],
 "metadata": {
  "orig_nbformat": 4,
  "language_info": {
   "name": "python",
   "version": "3.8.10",
   "mimetype": "text/x-python",
   "codemirror_mode": {
    "name": "ipython",
    "version": 3
   },
   "pygments_lexer": "ipython3",
   "nbconvert_exporter": "python",
   "file_extension": ".py"
  },
  "kernelspec": {
   "name": "python3",
   "display_name": "Python 3.8.10 64-bit ('esienv': virtualenv)"
  },
  "interpreter": {
   "hash": "8292a7c1b71beb25883e5d3de4479593a27229e31834907607dc8a0d6e7b1899"
  }
 },
 "nbformat": 4,
 "nbformat_minor": 2
}