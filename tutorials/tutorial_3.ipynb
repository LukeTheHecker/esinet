{
 "cells": [
  {
   "cell_type": "markdown",
   "source": [
    "# Tutorial 3: How simulations define your predictions\r\n",
    "The inverse problem has no unique solution as it is ill-posed. In order to solve it we need to constraint the space of possible solutions. While inverse solutions like minimum-norm estimates have an explicit constraint of minimum-energy, the constraints with esinet are implicit and mostly shaped by the simulations.\r\n",
    "\r\n",
    "This tutorial aims the relation between simulation parameters and predictions."
   ],
   "metadata": {}
  },
  {
   "cell_type": "code",
   "execution_count": null,
   "source": [
    "%matplotlib inline\r\n",
    "%load_ext autoreload\r\n",
    "%autoreload 2\r\n",
    "\r\n",
    "# import mne\r\n",
    "# import numpy as np\r\n",
    "# from copy import deepcopy\r\n",
    "# import matplotlib.pyplot as plt\r\n",
    "import sys; sys.path.insert(0, '../')\r\n",
    "from esinet import util\r\n",
    "from esinet import Simulation\r\n",
    "from esinet import Net\r\n",
    "from esinet.forward import create_forward_model, get_info\r\n",
    "plot_params = dict(surface='white', hemi='both', verbose=0)\r\n"
   ],
   "outputs": [],
   "metadata": {}
  },
  {
   "cell_type": "markdown",
   "source": [
    "## Create Forward model\r\n",
    "First we create a template forward model which comes with the esinet package"
   ],
   "metadata": {}
  },
  {
   "cell_type": "code",
   "execution_count": null,
   "source": [
    "info = get_info()\r\n",
    "info['sfreq'] = 100\r\n",
    "fwd = create_forward_model(info=info)"
   ],
   "outputs": [],
   "metadata": {}
  },
  {
   "cell_type": "markdown",
   "source": [
    "## Simulate\r\n",
    "Next, we simulate two types of data: \r\n",
    "1. Data containing small sources with 15-25 mm in diameter.\r\n",
    "2. Data containing large sources with 35-45 mm in diameter.\r\n",
    "\r\n",
    "Note, that for publication-ready inverse solutions you should increase the number of training samples to 100,000."
   ],
   "metadata": {}
  },
  {
   "cell_type": "code",
   "execution_count": null,
   "source": [
    "n_samples = 10000\r\n",
    "settings_small = dict(number_of_sources=(1, 10), extents=(15, 25))\r\n",
    "settings_large = dict(number_of_sources=(1, 10), extents=(35, 45))\r\n",
    "\r\n",
    "sim_small = Simulation(fwd, info, settings=settings_small).simulate(n_samples=n_samples)\r\n",
    "sim_large = Simulation(fwd, info, settings=settings_large).simulate(n_samples=n_samples)\r\n"
   ],
   "outputs": [],
   "metadata": {}
  },
  {
   "cell_type": "markdown",
   "source": [
    "## Lets visualize the two types of simulations\r\n",
    "The two brain plots should now look quite different, as one contains large and extended sources while the other contains tiny point-like sources."
   ],
   "metadata": {}
  },
  {
   "cell_type": "code",
   "execution_count": null,
   "source": [
    "brain = sim_small.source_data.plot(**plot_params)\r\n",
    "brain.add_text(0.1, 0.9, 'Small sources', 'title',\r\n",
    "               font_size=14)\r\n",
    "\r\n",
    "brain = sim_large.source_data.plot(**plot_params)\r\n",
    "brain.add_text(0.1, 0.9, 'Large sources', 'title',\r\n",
    "               font_size=14)"
   ],
   "outputs": [],
   "metadata": {}
  },
  {
   "cell_type": "markdown",
   "source": [
    "## Train individual neural networks"
   ],
   "metadata": {}
  },
  {
   "cell_type": "code",
   "execution_count": null,
   "source": [
    "net_small = Net(fwd, verbose=True).fit(sim_small)\r\n",
    "net_large = Net(fwd, verbose=True).fit(sim_large)"
   ],
   "outputs": [],
   "metadata": {}
  },
  {
   "cell_type": "markdown",
   "source": [
    "Now we have simulated two different types of source & eeg data and build two neural networks that each was trained on one of these simulations. Lets see how they perform within their own simulation type."
   ],
   "metadata": {}
  },
  {
   "cell_type": "code",
   "execution_count": null,
   "source": [
    "# Simulate some new, unseen test data    \r\n",
    "n_test_samples = 1\r\n",
    "sim_test_small = Simulation(fwd, info, settings=settings_small).simulate(n_samples=n_test_samples)\r\n",
    "sim_test_large = Simulation(fwd, info, settings=settings_large).simulate(n_samples=n_test_samples)\r\n",
    "\r\n",
    "\r\n",
    "brain = sim_test_small.source_data.plot(**plot_params)\r\n",
    "brain.add_text(0.1, 0.9, 'Ground Truth of small data', 'title',\r\n",
    "               font_size=14)\r\n",
    "\r\n",
    "\r\n",
    "brain = net_small.predict(sim_test_small).plot(**plot_params)\r\n",
    "brain.add_text(0.1, 0.9, 'Small-Net on small data', 'title',\r\n",
    "               font_size=14)\r\n",
    "\r\n",
    "\r\n",
    "\r\n",
    "brain = sim_test_large.source_data.plot(**plot_params)\r\n",
    "brain.add_text(0.1, 0.9, 'Ground Truth of large data', 'title',\r\n",
    "               font_size=14)\r\n",
    "\r\n",
    "\r\n",
    "brain = net_large.predict(sim_test_large).plot(**plot_params)\r\n",
    "brain.add_text(0.1, 0.9, 'Large-Net on large data', 'title',\r\n",
    "               font_size=14)"
   ],
   "outputs": [],
   "metadata": {}
  },
  {
   "cell_type": "markdown",
   "source": [
    "Now we will use the large-net to predict the small simulation and vice versa."
   ],
   "metadata": {}
  },
  {
   "cell_type": "code",
   "execution_count": null,
   "source": [
    "brain = sim_test_small.source_data.plot(**plot_params)\r\n",
    "brain.add_text(0.1, 0.9, 'Ground Truth of small data', 'title',\r\n",
    "               font_size=14)\r\n",
    "\r\n",
    "\r\n",
    "brain = net_large.predict(sim_test_small).plot(**plot_params)\r\n",
    "brain.add_text(0.1, 0.9, 'Large-Net on small data', 'title',\r\n",
    "               font_size=14)\r\n",
    "\r\n",
    "\r\n",
    "\r\n",
    "brain = sim_test_large.source_data.plot(**plot_params)\r\n",
    "brain.add_text(0.1, 0.9, 'Ground Truth of large data', 'title',\r\n",
    "               font_size=14)\r\n",
    "\r\n",
    "\r\n",
    "brain = net_small.predict(sim_test_large).plot(**plot_params)\r\n",
    "brain.add_text(0.1, 0.9, 'Small-Net on large data', 'title',\r\n",
    "               font_size=14)"
   ],
   "outputs": [],
   "metadata": {}
  },
  {
   "cell_type": "markdown",
   "source": [
    "We now find that the Net which was trained on large simulations always tends to find large sources - even when confronted with data in which small sources were active. \r\n",
    "\r\n",
    "Conversely, the Net which was trained on simulations that contain small sources finds sparse sources when confronted with data containing large-source activity.\r\n",
    "\r\n",
    "This demonstrates that our simulation settings function like priors. Further, it emphasizes the importance to state your priors and to motivate your choice.\r\n",
    "\r\n",
    "In many cases we can't make a choice and we want to make as few assumptions into our models as possible. In this case we propose that you use large ranges in your settings to maximize the diversity of your training data.\r\n",
    "\r\n",
    "A sample of a diverse setting is given in the next cell:"
   ],
   "metadata": {}
  },
  {
   "cell_type": "code",
   "execution_count": null,
   "source": [
    "settings = {\r\n",
    "    'number_of_sources': (1, 20),  # The range of simultaneously active sources.\r\n",
    "    'extents': (1, 50),  # The range of source diameters in mm \r\n",
    "    'amplitudes': (1, 100),  # Defines the range of amplitudes (in arbitrary units)\r\n",
    "    'shapes': 'both',  # Simulate both gaussian-shaped and flat sources\r\n",
    "    'beta': (0, 3),  # Defines the distribution of the noise in terms of 1/f**beta\r\n",
    "}"
   ],
   "outputs": [],
   "metadata": {}
  }
 ],
 "metadata": {
  "orig_nbformat": 4,
  "language_info": {
   "name": "python",
   "version": "3.8.10",
   "mimetype": "text/x-python",
   "codemirror_mode": {
    "name": "ipython",
    "version": 3
   },
   "pygments_lexer": "ipython3",
   "nbconvert_exporter": "python",
   "file_extension": ".py"
  },
  "kernelspec": {
   "name": "python3",
   "display_name": "Python 3.8.10 64-bit ('esienv': virtualenv)"
  },
  "interpreter": {
   "hash": "8292a7c1b71beb25883e5d3de4479593a27229e31834907607dc8a0d6e7b1899"
  }
 },
 "nbformat": 4,
 "nbformat_minor": 2
}