{
 "cells": [
  {
   "cell_type": "code",
   "execution_count": 1,
   "source": [
    "%matplotlib inline\r\n",
    "%load_ext autoreload\r\n",
    "%autoreload 2\r\n",
    "\r\n",
    "import mne\r\n",
    "import numpy as np\r\n",
    "from copy import deepcopy\r\n",
    "import matplotlib.pyplot as plt\r\n",
    "import sys; sys.path.insert(0, '../')\r\n",
    "from esinet import util\r\n",
    "from esinet import Simulation\r\n",
    "from esinet import Net\r\n",
    "from esinet.forward import create_forward_model, get_info\r\n",
    "plot_params = dict(surface='white', hemi='both', verbose=0)\r\n"
   ],
   "outputs": [],
   "metadata": {}
  },
  {
   "cell_type": "markdown",
   "source": [
    "Get Forward model"
   ],
   "metadata": {}
  },
  {
   "cell_type": "code",
   "execution_count": 2,
   "source": [
    "info = get_info()\r\n",
    "info['sfreq'] = 100\r\n",
    "fwd = create_forward_model(info=info)"
   ],
   "outputs": [
    {
     "output_type": "stream",
     "name": "stderr",
     "text": [
      "[Parallel(n_jobs=8)]: Using backend LokyBackend with 8 concurrent workers.\n",
      "[Parallel(n_jobs=8)]: Done   3 out of   8 | elapsed:    1.2s remaining:    2.1s\n",
      "[Parallel(n_jobs=8)]: Done   5 out of   8 | elapsed:    1.2s remaining:    0.7s\n",
      "[Parallel(n_jobs=8)]: Done   8 out of   8 | elapsed:    1.3s finished\n",
      "[Parallel(n_jobs=8)]: Using backend LokyBackend with 8 concurrent workers.\n",
      "[Parallel(n_jobs=8)]: Done   3 out of   8 | elapsed:    0.0s remaining:    0.1s\n",
      "[Parallel(n_jobs=8)]: Done   5 out of   8 | elapsed:    0.0s remaining:    0.0s\n",
      "[Parallel(n_jobs=8)]: Done   8 out of   8 | elapsed:    0.1s finished\n",
      "[Parallel(n_jobs=8)]: Using backend LokyBackend with 8 concurrent workers.\n",
      "[Parallel(n_jobs=8)]: Done   3 out of   8 | elapsed:    0.0s remaining:    0.1s\n",
      "[Parallel(n_jobs=8)]: Done   5 out of   8 | elapsed:    0.1s remaining:    0.0s\n",
      "[Parallel(n_jobs=8)]: Done   8 out of   8 | elapsed:    0.1s finished\n"
     ]
    }
   ],
   "metadata": {}
  },
  {
   "cell_type": "code",
   "execution_count": 3,
   "source": [
    "n_samples = 10000\r\n",
    "settings = dict(n_sources=(1, 10), extents=(15, 25), duration_of_trial=0.1)\r\n",
    "sim = Simulation(fwd, info, settings=settings).simulate(n_samples=n_samples)\r\n"
   ],
   "outputs": [
    {
     "output_type": "display_data",
     "data": {
      "text/plain": [
       "  0%|          | 0/10000 [00:00<?, ?it/s]"
      ],
      "application/vnd.jupyter.widget-view+json": {
       "version_major": 2,
       "version_minor": 0,
       "model_id": "9693855fff5748858ed753dd897abd3e"
      }
     },
     "metadata": {}
    },
    {
     "output_type": "display_data",
     "data": {
      "text/plain": [
       "  0%|          | 0/10000 [00:00<?, ?it/s]"
      ],
      "application/vnd.jupyter.widget-view+json": {
       "version_major": 2,
       "version_minor": 0,
       "model_id": "cec5db9209c94f63a99e90a90eb37abf"
      }
     },
     "metadata": {}
    },
    {
     "output_type": "display_data",
     "data": {
      "text/plain": [
       "  0%|          | 0/10000 [00:00<?, ?it/s]"
      ],
      "application/vnd.jupyter.widget-view+json": {
       "version_major": 2,
       "version_minor": 0,
       "model_id": "0d03d2d0abda4c618c0cce2202dab0f2"
      }
     },
     "metadata": {}
    }
   ],
   "metadata": {}
  },
  {
   "cell_type": "code",
   "execution_count": 6,
   "source": [
    "net = Net(fwd, verbose=1).fit(sim)"
   ],
   "outputs": [
    {
     "output_type": "stream",
     "name": "stdout",
     "text": [
      "(10, 61) 1284\n",
      "Model: \"net_2\"\n",
      "_________________________________________________________________\n",
      "Layer (type)                 Output Shape              Param #   \n",
      "=================================================================\n",
      "lstm (LSTM)                  (None, 10, 500)           1124000   \n",
      "_________________________________________________________________\n",
      "flatten (Flatten)            (None, 5000)              0         \n",
      "_________________________________________________________________\n",
      "dense (Dense)                (None, 12840)             64212840  \n",
      "_________________________________________________________________\n",
      "reshape (Reshape)            (None, 10, 1284)          0         \n",
      "=================================================================\n",
      "Total params: 65,336,840\n",
      "Trainable params: 65,336,840\n",
      "Non-trainable params: 0\n",
      "_________________________________________________________________\n",
      "(10000, 10, 61) (10000, 10, 1284)\n",
      "Epoch 1/100\n",
      "71/71 [==============================] - 37s 505ms/step - loss: 0.0602 - mean_squared_error: 1.0033 - val_loss: 0.0599 - val_mean_squared_error: 1.0016\n",
      "Epoch 2/100\n",
      "71/71 [==============================] - 34s 474ms/step - loss: 0.0599 - mean_squared_error: 1.0005 - val_loss: 0.0598 - val_mean_squared_error: 1.0001\n",
      "Epoch 3/100\n",
      "15/71 [=====>........................] - ETA: 26s - loss: 0.0599 - mean_squared_error: 0.9994"
     ]
    }
   ],
   "metadata": {}
  },
  {
   "cell_type": "markdown",
   "source": [
    "### Evaluate"
   ],
   "metadata": {}
  },
  {
   "cell_type": "code",
   "execution_count": null,
   "source": [
    "sim_test = Simulation(fwd, info, settings=settings).simulate(1)\r\n",
    "idx = 0\r\n",
    "prediction = net.predict(sim_test)\r\n",
    "sim_test.source_data[0].plot(**plot_params)\r\n",
    "prediction.plot(**plot_params)\r\n",
    "\r\n",
    "\r\n"
   ],
   "outputs": [],
   "metadata": {}
  },
  {
   "cell_type": "code",
   "execution_count": null,
   "source": [
    "tf.keras.backend.set_image_data_format('channels_last')\r\n",
    "lstm = layers.LSTM(5, return_sequences=True, input_shape=(n_timepoints, n_channels))\r\n",
    "out = \r\n",
    "lstm(x).shape"
   ],
   "outputs": [],
   "metadata": {}
  },
  {
   "cell_type": "code",
   "execution_count": null,
   "source": [
    "import tensorflow as tf\r\n",
    "from tensorflow.keras import layers\r\n",
    "x = sim.eeg_data.get_data()\r\n",
    "y = np.stack([source.data for source in sim.source_data], axis=0)\r\n",
    "x = np.swapaxes(x,1,2)\r\n",
    "y = np.swapaxes(y,1,2)\r\n",
    "\r\n",
    "print(x.shape, y.shape)\r\n",
    "n_samples, n_timepoints, n_channels = x.shape\r\n",
    "n_dipoles = y.shape[2]\r\n",
    "n_units = 5\r\n",
    "input_shape = (n_timepoints, n_channels)\r\n",
    "print(input_shape)\r\n",
    "\r\n",
    "model = tf.keras.models.Sequential()\r\n",
    "model.add(layers.InputLayer(input_shape=input_shape))\r\n",
    "model.add(layers.LSTM(n_units, return_sequences=True, input_shape=(n_timepoints, n_channels)))\r\n",
    "model.add(layers.Flatten())\r\n",
    "model.add(layers.Dense(int(n_timepoints*n_dipoles), activation='relu'))\r\n",
    "model.add(layers.Reshape((n_timepoints, n_dipoles)))\r\n",
    "\r\n",
    "model.build(input_shape=input_shape)\r\n",
    "model.compile('adam', loss='mean_squared_error')\r\n",
    "model.fit(x,y, batch_size=64)\r\n",
    "model.summary()\r\n"
   ],
   "outputs": [],
   "metadata": {}
  },
  {
   "cell_type": "code",
   "execution_count": null,
   "source": [
    "# Test if old net still works\r\n",
    "settings_old = dict(n_sources=(1, 10), extents=(15, 25))\r\n",
    "sim_old = Simulation(fwd, info, settings=settings_old).simulate(n_samples=5000)\r\n",
    "net = Net(fwd).fit(sim_old)\r\n",
    "net.predict(sim_old).plot(**plot_params)\r\n",
    "sim_old.source_data.plot(**plot_params)\r\n"
   ],
   "outputs": [],
   "metadata": {}
  },
  {
   "cell_type": "code",
   "execution_count": null,
   "source": [],
   "outputs": [],
   "metadata": {}
  }
 ],
 "metadata": {
  "orig_nbformat": 4,
  "language_info": {
   "name": "python",
   "version": "3.8.10",
   "mimetype": "text/x-python",
   "codemirror_mode": {
    "name": "ipython",
    "version": 3
   },
   "pygments_lexer": "ipython3",
   "nbconvert_exporter": "python",
   "file_extension": ".py"
  },
  "kernelspec": {
   "name": "python3",
   "display_name": "Python 3.8.10 64-bit ('esienv': virtualenv)"
  },
  "interpreter": {
   "hash": "8292a7c1b71beb25883e5d3de4479593a27229e31834907607dc8a0d6e7b1899"
  }
 },
 "nbformat": 4,
 "nbformat_minor": 2
}