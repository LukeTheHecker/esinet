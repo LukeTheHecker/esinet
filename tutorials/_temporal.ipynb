{
 "cells": [
  {
   "cell_type": "code",
   "execution_count": 1,
   "source": [
    "%matplotlib inline\r\n",
    "%load_ext autoreload\r\n",
    "%autoreload 2\r\n",
    "\r\n",
    "import mne\r\n",
    "import numpy as np\r\n",
    "from copy import deepcopy\r\n",
    "import matplotlib.pyplot as plt\r\n",
    "import sys; sys.path.insert(0, '../')\r\n",
    "from esinet import util\r\n",
    "from esinet import Simulation\r\n",
    "from esinet import Net\r\n",
    "from esinet.forward import create_forward_model, get_info\r\n",
    "plot_params = dict(surface='white', hemi='both', verbose=0)\r\n"
   ],
   "outputs": [],
   "metadata": {}
  },
  {
   "cell_type": "markdown",
   "source": [
    "Get Forward model"
   ],
   "metadata": {}
  },
  {
   "cell_type": "code",
   "execution_count": 2,
   "source": [
    "info = get_info()\r\n",
    "info['sfreq'] = 100\r\n",
    "fwd = create_forward_model(info=info)"
   ],
   "outputs": [
    {
     "output_type": "stream",
     "name": "stderr",
     "text": [
      "[Parallel(n_jobs=8)]: Using backend LokyBackend with 8 concurrent workers.\n",
      "[Parallel(n_jobs=8)]: Done   3 out of   8 | elapsed:    1.2s remaining:    2.1s\n",
      "[Parallel(n_jobs=8)]: Done   5 out of   8 | elapsed:    1.2s remaining:    0.7s\n",
      "[Parallel(n_jobs=8)]: Done   8 out of   8 | elapsed:    1.3s finished\n",
      "[Parallel(n_jobs=8)]: Using backend LokyBackend with 8 concurrent workers.\n",
      "[Parallel(n_jobs=8)]: Done   3 out of   8 | elapsed:    0.0s remaining:    0.1s\n",
      "[Parallel(n_jobs=8)]: Done   5 out of   8 | elapsed:    0.0s remaining:    0.0s\n",
      "[Parallel(n_jobs=8)]: Done   8 out of   8 | elapsed:    0.1s finished\n",
      "[Parallel(n_jobs=8)]: Using backend LokyBackend with 8 concurrent workers.\n",
      "[Parallel(n_jobs=8)]: Done   3 out of   8 | elapsed:    0.0s remaining:    0.1s\n",
      "[Parallel(n_jobs=8)]: Done   5 out of   8 | elapsed:    0.1s remaining:    0.0s\n",
      "[Parallel(n_jobs=8)]: Done   8 out of   8 | elapsed:    0.1s finished\n"
     ]
    }
   ],
   "metadata": {}
  },
  {
   "cell_type": "code",
   "execution_count": 39,
   "source": [
    "n_samples = 10000\r\n",
    "settings = dict(n_sources=(1, 10), extents=(15, 25), duration_of_trial=0.1)\r\n",
    "sim = Simulation(fwd, info, settings=settings).simulate(n_samples=n_samples)\r\n"
   ],
   "outputs": [
    {
     "output_type": "display_data",
     "data": {
      "text/plain": [
       "  0%|          | 0/10000 [00:00<?, ?it/s]"
      ],
      "application/vnd.jupyter.widget-view+json": {
       "version_major": 2,
       "version_minor": 0,
       "model_id": "7ce97f7617384ff68e0847f89ef17d56"
      }
     },
     "metadata": {}
    },
    {
     "output_type": "display_data",
     "data": {
      "text/plain": [
       "  0%|          | 0/10000 [00:00<?, ?it/s]"
      ],
      "application/vnd.jupyter.widget-view+json": {
       "version_major": 2,
       "version_minor": 0,
       "model_id": "40af39ababfe462ea99ef46ea8d80370"
      }
     },
     "metadata": {}
    },
    {
     "output_type": "display_data",
     "data": {
      "text/plain": [
       "  0%|          | 0/10000 [00:00<?, ?it/s]"
      ],
      "application/vnd.jupyter.widget-view+json": {
       "version_major": 2,
       "version_minor": 0,
       "model_id": "97083a820f054eb5a431d648ed029a97"
      }
     },
     "metadata": {}
    }
   ],
   "metadata": {}
  },
  {
   "cell_type": "code",
   "execution_count": 53,
   "source": [
    "net = Net(fwd, verbose=1).fit(sim)"
   ],
   "outputs": [
    {
     "output_type": "stream",
     "name": "stdout",
     "text": [
      "(10, 61) 1284\n",
      "Model: \"net_11\"\n",
      "_________________________________________________________________\n",
      "Layer (type)                 Output Shape              Param #   \n",
      "=================================================================\n",
      "lstm_9 (LSTM)                (None, 10, 100)           64800     \n",
      "_________________________________________________________________\n",
      "flatten_9 (Flatten)          (None, 1000)              0         \n",
      "_________________________________________________________________\n",
      "dense_9 (Dense)              (None, 12840)             12852840  \n",
      "_________________________________________________________________\n",
      "reshape_9 (Reshape)          (None, 10, 1284)          0         \n",
      "_________________________________________________________________\n",
      "activation_2 (Activation)    (None, 10, 1284)          0         \n",
      "=================================================================\n",
      "Total params: 12,917,640\n",
      "Trainable params: 12,917,640\n",
      "Non-trainable params: 0\n",
      "_________________________________________________________________\n",
      "(10000, 10, 61) (10000, 10, 1284) 1.0 -1.0\n",
      "Epoch 1/100\n"
     ]
    }
   ],
   "metadata": {}
  },
  {
   "cell_type": "markdown",
   "source": [
    "### Evaluate"
   ],
   "metadata": {}
  },
  {
   "cell_type": "code",
   "execution_count": 52,
   "source": [
    "sim_test = Simulation(fwd, info, settings=settings).simulate(1)\r\n",
    "idx = 0\r\n",
    "prediction = net.predict(sim_test)\r\n",
    "np.abs(sim_test.source_data[0]).plot(**plot_params)\r\n",
    "np.abs(prediction).plot(**plot_params)\r\n",
    "\r\n",
    "\r\n"
   ],
   "outputs": [
    {
     "output_type": "display_data",
     "data": {
      "text/plain": [
       "  0%|          | 0/1 [00:00<?, ?it/s]"
      ],
      "application/vnd.jupyter.widget-view+json": {
       "version_major": 2,
       "version_minor": 0,
       "model_id": "d60702632f3d49aebdbaa2c15512695a"
      }
     },
     "metadata": {}
    },
    {
     "output_type": "display_data",
     "data": {
      "text/plain": [
       "  0%|          | 0/1 [00:00<?, ?it/s]"
      ],
      "application/vnd.jupyter.widget-view+json": {
       "version_major": 2,
       "version_minor": 0,
       "model_id": "ee3d7a94808049d2a93ce1dd9f47435d"
      }
     },
     "metadata": {}
    },
    {
     "output_type": "display_data",
     "data": {
      "text/plain": [
       "  0%|          | 0/1 [00:00<?, ?it/s]"
      ],
      "application/vnd.jupyter.widget-view+json": {
       "version_major": 2,
       "version_minor": 0,
       "model_id": "9f9f687e43ef4c47b429cbfaa1d51a58"
      }
     },
     "metadata": {}
    },
    {
     "output_type": "stream",
     "name": "stdout",
     "text": [
      "predicting temporal in 1 go\n",
      "(1, 1284, 10)\n",
      "predicted_sources min: -0.01997554861009121,predicted_sources max: 0.027034465223550797\n",
      "rescaled: predicted_sources min: -0.01997554861009121,predicted_sources max: 0.027034465223550797\n"
     ]
    },
    {
     "output_type": "execute_result",
     "data": {
      "text/plain": [
       "<mne.viz._brain._brain.Brain at 0x211c3f45a30>"
      ]
     },
     "metadata": {},
     "execution_count": 52
    },
    {
     "output_type": "stream",
     "name": "stderr",
     "text": [
      "WARNING:root:Encountered issue in callback (most recent call last):\n",
      "  File \"C:\\Users\\lukas\\virtualenvs\\esienv\\lib\\site-packages\\mne\\viz\\_brain\\_brain.py\", line 1348, in _on_button_release\n",
      "    self.picked_renderer = self.plotter.iren.FindPokedRenderer(x, y)\n",
      "AttributeError: 'RenderWindowInteractor' object has no attribute 'FindPokedRenderer'\n"
     ]
    },
    {
     "output_type": "stream",
     "name": "stdout",
     "text": [
      "Using control points [3.87739974e-13 2.85192243e-12 6.38301783e-10]\n"
     ]
    },
    {
     "output_type": "stream",
     "name": "stderr",
     "text": [
      "WARNING:root:Encountered issue in callback (most recent call last):\n",
      "  File \"C:\\Users\\lukas\\virtualenvs\\esienv\\lib\\site-packages\\mne\\viz\\_brain\\_brain.py\", line 1348, in _on_button_release\n",
      "    self.picked_renderer = self.plotter.iren.FindPokedRenderer(x, y)\n",
      "AttributeError: 'RenderWindowInteractor' object has no attribute 'FindPokedRenderer'\n"
     ]
    },
    {
     "output_type": "stream",
     "name": "stdout",
     "text": [
      "Using control points [0.00033802 0.00038473 0.00061672]\n"
     ]
    },
    {
     "output_type": "stream",
     "name": "stderr",
     "text": [
      "WARNING:root:Encountered issue in callback (most recent call last):\n",
      "  File \"C:\\Users\\lukas\\virtualenvs\\esienv\\lib\\site-packages\\mne\\viz\\_brain\\_brain.py\", line 1348, in _on_button_release\n",
      "    self.picked_renderer = self.plotter.iren.FindPokedRenderer(x, y)\n",
      "AttributeError: 'RenderWindowInteractor' object has no attribute 'FindPokedRenderer'\n",
      "WARNING:root:Encountered issue in callback (most recent call last):\n",
      "  File \"C:\\Users\\lukas\\virtualenvs\\esienv\\lib\\site-packages\\mne\\viz\\_brain\\_brain.py\", line 1348, in _on_button_release\n",
      "    self.picked_renderer = self.plotter.iren.FindPokedRenderer(x, y)\n",
      "AttributeError: 'RenderWindowInteractor' object has no attribute 'FindPokedRenderer'\n"
     ]
    },
    {
     "output_type": "stream",
     "name": "stdout",
     "text": [
      "Using control points [0.00046249 0.00049206 0.00089423]\n"
     ]
    }
   ],
   "metadata": {}
  },
  {
   "cell_type": "code",
   "execution_count": null,
   "source": [
    "tf.keras.backend.set_image_data_format('channels_last')\r\n",
    "lstm = layers.LSTM(5, return_sequences=True, input_shape=(n_timepoints, n_channels))\r\n",
    "out = \r\n",
    "lstm(x).shape"
   ],
   "outputs": [],
   "metadata": {}
  },
  {
   "cell_type": "code",
   "execution_count": null,
   "source": [
    "import tensorflow as tf\r\n",
    "from tensorflow.keras import layers\r\n",
    "x = sim.eeg_data.get_data()\r\n",
    "y = np.stack([source.data for source in sim.source_data], axis=0)\r\n",
    "x = np.swapaxes(x,1,2)\r\n",
    "y = np.swapaxes(y,1,2)\r\n",
    "\r\n",
    "print(x.shape, y.shape)\r\n",
    "n_samples, n_timepoints, n_channels = x.shape\r\n",
    "n_dipoles = y.shape[2]\r\n",
    "n_units = 5\r\n",
    "input_shape = (n_timepoints, n_channels)\r\n",
    "print(input_shape)\r\n",
    "\r\n",
    "model = tf.keras.models.Sequential()\r\n",
    "model.add(layers.InputLayer(input_shape=input_shape))\r\n",
    "model.add(layers.LSTM(n_units, return_sequences=True, input_shape=(n_timepoints, n_channels)))\r\n",
    "model.add(layers.Flatten())\r\n",
    "model.add(layers.Dense(int(n_timepoints*n_dipoles), activation='relu'))\r\n",
    "model.add(layers.Reshape((n_timepoints, n_dipoles)))\r\n",
    "\r\n",
    "model.build(input_shape=input_shape)\r\n",
    "model.compile('adam', loss='mean_squared_error')\r\n",
    "model.fit(x,y, batch_size=64)\r\n",
    "model.summary()\r\n"
   ],
   "outputs": [],
   "metadata": {}
  },
  {
   "cell_type": "code",
   "execution_count": null,
   "source": [
    "# Test if old net still works\r\n",
    "settings_old = dict(n_sources=(1, 10), extents=(15, 25))\r\n",
    "sim_old = Simulation(fwd, info, settings=settings_old).simulate(n_samples=5000)\r\n",
    "net = Net(fwd).fit(sim_old)\r\n",
    "net.predict(sim_old).plot(**plot_params)\r\n",
    "sim_old.source_data.plot(**plot_params)\r\n"
   ],
   "outputs": [],
   "metadata": {}
  },
  {
   "cell_type": "code",
   "execution_count": null,
   "source": [],
   "outputs": [],
   "metadata": {}
  }
 ],
 "metadata": {
  "orig_nbformat": 4,
  "language_info": {
   "name": "python",
   "version": "3.8.10",
   "mimetype": "text/x-python",
   "codemirror_mode": {
    "name": "ipython",
    "version": 3
   },
   "pygments_lexer": "ipython3",
   "nbconvert_exporter": "python",
   "file_extension": ".py"
  },
  "kernelspec": {
   "name": "python3",
   "display_name": "Python 3.8.10 64-bit ('esienv': virtualenv)"
  },
  "interpreter": {
   "hash": "8292a7c1b71beb25883e5d3de4479593a27229e31834907607dc8a0d6e7b1899"
  }
 },
 "nbformat": 4,
 "nbformat_minor": 2
}